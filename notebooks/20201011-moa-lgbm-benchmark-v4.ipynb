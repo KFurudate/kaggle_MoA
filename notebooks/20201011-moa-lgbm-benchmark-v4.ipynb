{
 "cells": [
  {
   "cell_type": "markdown",
   "metadata": {
    "papermill": {
     "duration": 0.01733,
     "end_time": "2020-10-12T13:11:12.211782",
     "exception": false,
     "start_time": "2020-10-12T13:11:12.194452",
     "status": "completed"
    },
    "tags": []
   },
   "source": [
    "Thanks for:\n",
    "* https://www.kaggle.com/sishihara/moa-lgbm-benchmark#Preprocessing\n",
    "\n",
    "* https://www.kaggle.com/ttahara/osic-baseline-lgbm-with-custom-metric\n",
    "\n",
    "* https://zenn.dev/fkubota/articles/2b8d46b11c178ac2fa2d\n",
    "\n"
   ]
  },
  {
   "cell_type": "code",
   "execution_count": 1,
   "metadata": {
    "execution": {
     "iopub.execute_input": "2020-10-12T13:11:12.248735Z",
     "iopub.status.busy": "2020-10-12T13:11:12.248009Z",
     "iopub.status.idle": "2020-10-12T13:11:12.251122Z",
     "shell.execute_reply": "2020-10-12T13:11:12.250520Z"
    },
    "papermill": {
     "duration": 0.023369,
     "end_time": "2020-10-12T13:11:12.251246",
     "exception": false,
     "start_time": "2020-10-12T13:11:12.227877",
     "status": "completed"
    },
    "tags": []
   },
   "outputs": [],
   "source": [
    "# Version = \"v1\" # starter model\n",
    "# Version = \"v2\" # Compare treat Vs. ctrl and minor modifications, StratifiedKFold\n",
    "# Version = \"v3\" # Add debug mode and minor modifications\n",
    "Version = \"v4\" # Clipping a control with an outlier"
   ]
  },
  {
   "cell_type": "code",
   "execution_count": 2,
   "metadata": {
    "execution": {
     "iopub.execute_input": "2020-10-12T13:11:12.287571Z",
     "iopub.status.busy": "2020-10-12T13:11:12.286982Z",
     "iopub.status.idle": "2020-10-12T13:11:12.289989Z",
     "shell.execute_reply": "2020-10-12T13:11:12.289509Z"
    },
    "papermill": {
     "duration": 0.022935,
     "end_time": "2020-10-12T13:11:12.290097",
     "exception": false,
     "start_time": "2020-10-12T13:11:12.267162",
     "status": "completed"
    },
    "tags": []
   },
   "outputs": [],
   "source": [
    "DEBUG = True"
   ]
  },
  {
   "cell_type": "markdown",
   "metadata": {
    "papermill": {
     "duration": 0.015468,
     "end_time": "2020-10-12T13:11:12.321305",
     "exception": false,
     "start_time": "2020-10-12T13:11:12.305837",
     "status": "completed"
    },
    "tags": []
   },
   "source": [
    "# Library"
   ]
  },
  {
   "cell_type": "code",
   "execution_count": 3,
   "metadata": {
    "_cell_guid": "b1076dfc-b9ad-4769-8c92-a6c4dae69d19",
    "_uuid": "8f2839f25d086af736a60e9eeb907d3b93b6e0e5",
    "execution": {
     "iopub.execute_input": "2020-10-12T13:11:12.361176Z",
     "iopub.status.busy": "2020-10-12T13:11:12.360450Z",
     "iopub.status.idle": "2020-10-12T13:11:14.172167Z",
     "shell.execute_reply": "2020-10-12T13:11:14.171235Z"
    },
    "papermill": {
     "duration": 1.833798,
     "end_time": "2020-10-12T13:11:14.172377",
     "exception": false,
     "start_time": "2020-10-12T13:11:12.338579",
     "status": "completed"
    },
    "tags": []
   },
   "outputs": [],
   "source": [
    "import lightgbm as lgb\n",
    "from logging import getLogger, INFO, StreamHandler, FileHandler, Formatter\n",
    "\n",
    "import numpy as np\n",
    "import pandas as pd\n",
    "import matplotlib.pyplot as plt\n",
    "import seaborn as sns\n",
    "\n",
    "import os\n",
    "import random\n",
    "\n",
    "from sklearn import preprocessing\n",
    "from sklearn.metrics import log_loss\n",
    "from sklearn.model_selection import StratifiedKFold\n",
    "\n",
    "from tqdm.notebook import tqdm\n",
    "import torch\n",
    "\n",
    "import warnings\n",
    "warnings.filterwarnings(\"ignore\")"
   ]
  },
  {
   "cell_type": "markdown",
   "metadata": {
    "papermill": {
     "duration": 0.023165,
     "end_time": "2020-10-12T13:11:14.218920",
     "exception": false,
     "start_time": "2020-10-12T13:11:14.195755",
     "status": "completed"
    },
    "tags": []
   },
   "source": [
    "# Utils"
   ]
  },
  {
   "cell_type": "code",
   "execution_count": 4,
   "metadata": {
    "execution": {
     "iopub.execute_input": "2020-10-12T13:11:14.355894Z",
     "iopub.status.busy": "2020-10-12T13:11:14.355110Z",
     "iopub.status.idle": "2020-10-12T13:11:14.359770Z",
     "shell.execute_reply": "2020-10-12T13:11:14.359040Z"
    },
    "papermill": {
     "duration": 0.11782,
     "end_time": "2020-10-12T13:11:14.359902",
     "exception": false,
     "start_time": "2020-10-12T13:11:14.242082",
     "status": "completed"
    },
    "tags": []
   },
   "outputs": [],
   "source": [
    "def get_logger(filename='log'):\n",
    "    logger = getLogger(__name__)\n",
    "    logger.setLevel(INFO)\n",
    "    handler1 = StreamHandler()\n",
    "    handler1.setFormatter(Formatter(\"%(message)s\"))\n",
    "    handler2 = FileHandler(filename=f\"{filename}.{Version}.log\")\n",
    "    handler2.setFormatter(Formatter(\"%(message)s\"))\n",
    "    logger.addHandler(handler1)\n",
    "    logger.addHandler(handler2)\n",
    "    return logger\n",
    "\n",
    "logger = get_logger()\n",
    "\n",
    "\n",
    "def seed_everything(seed=777):\n",
    "    random.seed(seed)\n",
    "    os.environ['PYTHONHASHSEED'] = str(seed)\n",
    "    np.random.seed(seed)\n",
    "    torch.manual_seed(seed)\n",
    "    torch.cuda.manual_seed(seed)\n",
    "    torch.backends.cudnn.deterministic = True"
   ]
  },
  {
   "cell_type": "markdown",
   "metadata": {
    "papermill": {
     "duration": 0.015463,
     "end_time": "2020-10-12T13:11:14.391378",
     "exception": false,
     "start_time": "2020-10-12T13:11:14.375915",
     "status": "completed"
    },
    "tags": []
   },
   "source": [
    "# Config"
   ]
  },
  {
   "cell_type": "code",
   "execution_count": 5,
   "metadata": {
    "execution": {
     "iopub.execute_input": "2020-10-12T13:11:14.430403Z",
     "iopub.status.busy": "2020-10-12T13:11:14.429676Z",
     "iopub.status.idle": "2020-10-12T13:11:14.435690Z",
     "shell.execute_reply": "2020-10-12T13:11:14.435036Z"
    },
    "papermill": {
     "duration": 0.028637,
     "end_time": "2020-10-12T13:11:14.435806",
     "exception": false,
     "start_time": "2020-10-12T13:11:14.407169",
     "status": "completed"
    },
    "tags": []
   },
   "outputs": [],
   "source": [
    "if DEBUG:\n",
    "    N_FOLD = 2\n",
    "    Num_boost_round=1000\n",
    "    Early_stopping_rounds=10\n",
    "    Learning_rate = 0.03\n",
    "else:\n",
    "    N_FOLD = 5\n",
    "    Num_boost_round=10000\n",
    "    Early_stopping_rounds=20\n",
    "    Learning_rate = 0.01\n",
    "\n",
    "SEED = 42\n",
    "seed_everything(seed=SEED)"
   ]
  },
  {
   "cell_type": "markdown",
   "metadata": {
    "papermill": {
     "duration": 0.015577,
     "end_time": "2020-10-12T13:11:14.467489",
     "exception": false,
     "start_time": "2020-10-12T13:11:14.451912",
     "status": "completed"
    },
    "tags": []
   },
   "source": [
    "# Data Loading"
   ]
  },
  {
   "cell_type": "code",
   "execution_count": 6,
   "metadata": {
    "_cell_guid": "79c7e3d0-c299-4dcb-8224-4455121ee9b0",
    "_uuid": "d629ff2d2480ee46fbb7e2d37f6b5fab8052498a",
    "execution": {
     "iopub.execute_input": "2020-10-12T13:11:14.508731Z",
     "iopub.status.busy": "2020-10-12T13:11:14.507862Z",
     "iopub.status.idle": "2020-10-12T13:11:19.477036Z",
     "shell.execute_reply": "2020-10-12T13:11:19.476423Z"
    },
    "papermill": {
     "duration": 4.993719,
     "end_time": "2020-10-12T13:11:19.477158",
     "exception": false,
     "start_time": "2020-10-12T13:11:14.483439",
     "status": "completed"
    },
    "tags": []
   },
   "outputs": [],
   "source": [
    "train = pd.read_csv(\"../input/lish-moa/train_features.csv\")\n",
    "test = pd.read_csv(\"../input/lish-moa/test_features.csv\")\n",
    "train_targets_scored = pd.read_csv(\"../input/lish-moa/train_targets_scored.csv\")\n",
    "train_targets_nonscored = pd.read_csv(\"../input/lish-moa/train_targets_nonscored.csv\")\n",
    "sub = pd.read_csv(\"../input/lish-moa/sample_submission.csv\")"
   ]
  },
  {
   "cell_type": "code",
   "execution_count": 7,
   "metadata": {
    "execution": {
     "iopub.execute_input": "2020-10-12T13:11:19.517427Z",
     "iopub.status.busy": "2020-10-12T13:11:19.516803Z",
     "iopub.status.idle": "2020-10-12T13:11:19.519945Z",
     "shell.execute_reply": "2020-10-12T13:11:19.519335Z"
    },
    "papermill": {
     "duration": 0.026651,
     "end_time": "2020-10-12T13:11:19.520053",
     "exception": false,
     "start_time": "2020-10-12T13:11:19.493402",
     "status": "completed"
    },
    "tags": []
   },
   "outputs": [],
   "source": [
    "def label_encoding(train: pd.DataFrame, test: pd.DataFrame, encode_cols):\n",
    "    n_train = len(train)\n",
    "    train = pd.concat([train, test], sort=False).reset_index(drop=True)\n",
    "    for f in encode_cols:\n",
    "        try:\n",
    "            lbl = preprocessing.LabelEncoder()\n",
    "            train[f] = lbl.fit_transform(list(train[f].values))\n",
    "        except:\n",
    "            print(f)\n",
    "    test = train[n_train:].reset_index(drop=True)\n",
    "    train = train[:n_train]\n",
    "    return train, test"
   ]
  },
  {
   "cell_type": "markdown",
   "metadata": {
    "papermill": {
     "duration": 0.015852,
     "end_time": "2020-10-12T13:11:19.552074",
     "exception": false,
     "start_time": "2020-10-12T13:11:19.536222",
     "status": "completed"
    },
    "tags": []
   },
   "source": [
    "# Training Utils"
   ]
  },
  {
   "cell_type": "code",
   "execution_count": 8,
   "metadata": {
    "execution": {
     "iopub.execute_input": "2020-10-12T13:11:19.599503Z",
     "iopub.status.busy": "2020-10-12T13:11:19.598566Z",
     "iopub.status.idle": "2020-10-12T13:11:19.601762Z",
     "shell.execute_reply": "2020-10-12T13:11:19.601149Z"
    },
    "papermill": {
     "duration": 0.033685,
     "end_time": "2020-10-12T13:11:19.601873",
     "exception": false,
     "start_time": "2020-10-12T13:11:19.568188",
     "status": "completed"
    },
    "tags": []
   },
   "outputs": [],
   "source": [
    "#===========================================================\n",
    "# model\n",
    "#===========================================================\n",
    "def run_lgbm(target_col: str, ctr):\n",
    "    \n",
    "    target = train_targets_scored[target_col]\n",
    "    trt = train[target==1].copy().reset_index(drop=True)\n",
    "    trt[\"target\"] = 1\n",
    "    \n",
    "    X_train = pd.concat([trt, ctr], axis=0).reset_index(drop=True)\n",
    "    y_train = X_train[\"target\"]\n",
    "    \n",
    "    X_train = X_train.drop([\"sig_id\", \"target\", \"cp_type\"], axis=1)\n",
    "    X_test = test.drop([\"sig_id\", \"cp_type\"], axis=1)\n",
    "    \n",
    "    y_preds = []\n",
    "    models = []\n",
    "    oof_train = np.zeros((len(X_train),))\n",
    "    score = 0\n",
    "    \n",
    "    logger.info(f'len(trt) : {len(trt)}')\n",
    "    \n",
    "    for fold_, (train_index, valid_index) in enumerate(cv.split(X_train, y_train)):\n",
    "        logger.info(f'len(train_index) : {len(train_index)}')\n",
    "        logger.info(f'len(valid_index) : {len(valid_index)}')\n",
    "        \n",
    "        X_tr = X_train.loc[train_index, :]\n",
    "        X_val = X_train.loc[valid_index, :]\n",
    "        y_tr = y_train[train_index]\n",
    "        y_val = y_train[valid_index]\n",
    "\n",
    "        lgb_train = lgb.Dataset(X_tr,\n",
    "                                y_tr,\n",
    "                                categorical_feature=categorical_cols)\n",
    "\n",
    "        lgb_eval = lgb.Dataset(X_val,\n",
    "                               y_val,\n",
    "                               reference=lgb_train,\n",
    "                               categorical_feature=categorical_cols)\n",
    "        \n",
    "        logger.info(f\"================================= {fold_+1}fold lightgbm =================================\")\n",
    "\n",
    "        model = lgb.train(params,\n",
    "                          lgb_train,\n",
    "                          valid_sets=[lgb_train, lgb_eval],\n",
    "                          verbose_eval=20,\n",
    "                          num_boost_round=Num_boost_round,\n",
    "                          early_stopping_rounds=Early_stopping_rounds)\n",
    "        \n",
    "        oof_train[valid_index] = model.predict(X_val, num_iteration=model.best_iteration)\n",
    "\n",
    "\n",
    "        y_pred = model.predict(X_test, num_iteration=model.best_iteration)\n",
    "\n",
    "        y_preds.append(y_pred)\n",
    "        models.append(model)\n",
    "    \n",
    "    score = log_loss(y_train, oof_train)\n",
    "    \n",
    "    logger.info(f\"{target_col} logloss: {score}\")\n",
    "    logger.info(f\"=========================================================================================\")\n",
    "\n",
    "    return sum(y_preds) / len(y_preds), score, models, "
   ]
  },
  {
   "cell_type": "code",
   "execution_count": 9,
   "metadata": {
    "execution": {
     "iopub.execute_input": "2020-10-12T13:11:19.642705Z",
     "iopub.status.busy": "2020-10-12T13:11:19.642009Z",
     "iopub.status.idle": "2020-10-12T13:11:19.645121Z",
     "shell.execute_reply": "2020-10-12T13:11:19.644481Z"
    },
    "papermill": {
     "duration": 0.026637,
     "end_time": "2020-10-12T13:11:19.645235",
     "exception": false,
     "start_time": "2020-10-12T13:11:19.618598",
     "status": "completed"
    },
    "tags": []
   },
   "outputs": [],
   "source": [
    "def show_feature_importance(feature_importance_df):\n",
    "    cols = (feature_importance_df[[\"Feature\", \"importance\"]]\n",
    "            .groupby(\"Feature\")\n",
    "            .mean()\n",
    "            .sort_values(by=\"importance\", ascending=False)[:100].index)\n",
    "    best_features = feature_importance_df.loc[feature_importance_df.Feature.isin(cols)]\n",
    "\n",
    "    plt.figure(figsize=(8, 30))\n",
    "    sns.barplot(x=\"importance\", \n",
    "                y=\"Feature\", \n",
    "                data=best_features.sort_values(by=\"importance\", ascending=False))\n",
    "    plt.title('Features importance (averaged)')\n",
    "    plt.tight_layout()\n",
    "    plt.savefig(f\"./feature_importance_{Version}.png\")\n",
    "    plt.show()"
   ]
  },
  {
   "cell_type": "markdown",
   "metadata": {
    "papermill": {
     "duration": 0.0172,
     "end_time": "2020-10-12T13:11:19.679076",
     "exception": false,
     "start_time": "2020-10-12T13:11:19.661876",
     "status": "completed"
    },
    "tags": []
   },
   "source": [
    "# Preprocessing\n",
    "\n",
    "We have to convert some categorical features into numbers in train and test. We can identify categorical features by `pd.DataFrame.select_dtypes`."
   ]
  },
  {
   "cell_type": "code",
   "execution_count": 10,
   "metadata": {
    "execution": {
     "iopub.execute_input": "2020-10-12T13:11:19.728538Z",
     "iopub.status.busy": "2020-10-12T13:11:19.727963Z",
     "iopub.status.idle": "2020-10-12T13:11:19.758760Z",
     "shell.execute_reply": "2020-10-12T13:11:19.758227Z"
    },
    "papermill": {
     "duration": 0.056738,
     "end_time": "2020-10-12T13:11:19.758867",
     "exception": false,
     "start_time": "2020-10-12T13:11:19.702129",
     "status": "completed"
    },
    "tags": []
   },
   "outputs": [
    {
     "data": {
      "text/html": [
       "<div>\n",
       "<style scoped>\n",
       "    .dataframe tbody tr th:only-of-type {\n",
       "        vertical-align: middle;\n",
       "    }\n",
       "\n",
       "    .dataframe tbody tr th {\n",
       "        vertical-align: top;\n",
       "    }\n",
       "\n",
       "    .dataframe thead th {\n",
       "        text-align: right;\n",
       "    }\n",
       "</style>\n",
       "<table border=\"1\" class=\"dataframe\">\n",
       "  <thead>\n",
       "    <tr style=\"text-align: right;\">\n",
       "      <th></th>\n",
       "      <th>sig_id</th>\n",
       "      <th>cp_type</th>\n",
       "      <th>cp_time</th>\n",
       "      <th>cp_dose</th>\n",
       "      <th>g-0</th>\n",
       "      <th>g-1</th>\n",
       "      <th>g-2</th>\n",
       "      <th>g-3</th>\n",
       "      <th>g-4</th>\n",
       "      <th>g-5</th>\n",
       "      <th>...</th>\n",
       "      <th>c-90</th>\n",
       "      <th>c-91</th>\n",
       "      <th>c-92</th>\n",
       "      <th>c-93</th>\n",
       "      <th>c-94</th>\n",
       "      <th>c-95</th>\n",
       "      <th>c-96</th>\n",
       "      <th>c-97</th>\n",
       "      <th>c-98</th>\n",
       "      <th>c-99</th>\n",
       "    </tr>\n",
       "  </thead>\n",
       "  <tbody>\n",
       "    <tr>\n",
       "      <th>0</th>\n",
       "      <td>id_000644bb2</td>\n",
       "      <td>trt_cp</td>\n",
       "      <td>24</td>\n",
       "      <td>D1</td>\n",
       "      <td>1.0620</td>\n",
       "      <td>0.5577</td>\n",
       "      <td>-0.2479</td>\n",
       "      <td>-0.6208</td>\n",
       "      <td>-0.1944</td>\n",
       "      <td>-1.0120</td>\n",
       "      <td>...</td>\n",
       "      <td>0.2862</td>\n",
       "      <td>0.2584</td>\n",
       "      <td>0.8076</td>\n",
       "      <td>0.5523</td>\n",
       "      <td>-0.1912</td>\n",
       "      <td>0.6584</td>\n",
       "      <td>-0.3981</td>\n",
       "      <td>0.2139</td>\n",
       "      <td>0.3801</td>\n",
       "      <td>0.4176</td>\n",
       "    </tr>\n",
       "    <tr>\n",
       "      <th>1</th>\n",
       "      <td>id_000779bfc</td>\n",
       "      <td>trt_cp</td>\n",
       "      <td>72</td>\n",
       "      <td>D1</td>\n",
       "      <td>0.0743</td>\n",
       "      <td>0.4087</td>\n",
       "      <td>0.2991</td>\n",
       "      <td>0.0604</td>\n",
       "      <td>1.0190</td>\n",
       "      <td>0.5207</td>\n",
       "      <td>...</td>\n",
       "      <td>-0.4265</td>\n",
       "      <td>0.7543</td>\n",
       "      <td>0.4708</td>\n",
       "      <td>0.0230</td>\n",
       "      <td>0.2957</td>\n",
       "      <td>0.4899</td>\n",
       "      <td>0.1522</td>\n",
       "      <td>0.1241</td>\n",
       "      <td>0.6077</td>\n",
       "      <td>0.7371</td>\n",
       "    </tr>\n",
       "    <tr>\n",
       "      <th>2</th>\n",
       "      <td>id_000a6266a</td>\n",
       "      <td>trt_cp</td>\n",
       "      <td>48</td>\n",
       "      <td>D1</td>\n",
       "      <td>0.6280</td>\n",
       "      <td>0.5817</td>\n",
       "      <td>1.5540</td>\n",
       "      <td>-0.0764</td>\n",
       "      <td>-0.0323</td>\n",
       "      <td>1.2390</td>\n",
       "      <td>...</td>\n",
       "      <td>-0.7250</td>\n",
       "      <td>-0.6297</td>\n",
       "      <td>0.6103</td>\n",
       "      <td>0.0223</td>\n",
       "      <td>-1.3240</td>\n",
       "      <td>-0.3174</td>\n",
       "      <td>-0.6417</td>\n",
       "      <td>-0.2187</td>\n",
       "      <td>-1.4080</td>\n",
       "      <td>0.6931</td>\n",
       "    </tr>\n",
       "    <tr>\n",
       "      <th>3</th>\n",
       "      <td>id_0015fd391</td>\n",
       "      <td>trt_cp</td>\n",
       "      <td>48</td>\n",
       "      <td>D1</td>\n",
       "      <td>-0.5138</td>\n",
       "      <td>-0.2491</td>\n",
       "      <td>-0.2656</td>\n",
       "      <td>0.5288</td>\n",
       "      <td>4.0620</td>\n",
       "      <td>-0.8095</td>\n",
       "      <td>...</td>\n",
       "      <td>-2.0990</td>\n",
       "      <td>-0.6441</td>\n",
       "      <td>-5.6300</td>\n",
       "      <td>-1.3780</td>\n",
       "      <td>-0.8632</td>\n",
       "      <td>-1.2880</td>\n",
       "      <td>-1.6210</td>\n",
       "      <td>-0.8784</td>\n",
       "      <td>-0.3876</td>\n",
       "      <td>-0.8154</td>\n",
       "    </tr>\n",
       "    <tr>\n",
       "      <th>4</th>\n",
       "      <td>id_001626bd3</td>\n",
       "      <td>trt_cp</td>\n",
       "      <td>72</td>\n",
       "      <td>D2</td>\n",
       "      <td>-0.3254</td>\n",
       "      <td>-0.4009</td>\n",
       "      <td>0.9700</td>\n",
       "      <td>0.6919</td>\n",
       "      <td>1.4180</td>\n",
       "      <td>-0.8244</td>\n",
       "      <td>...</td>\n",
       "      <td>0.0042</td>\n",
       "      <td>0.0048</td>\n",
       "      <td>0.6670</td>\n",
       "      <td>1.0690</td>\n",
       "      <td>0.5523</td>\n",
       "      <td>-0.3031</td>\n",
       "      <td>0.1094</td>\n",
       "      <td>0.2885</td>\n",
       "      <td>-0.3786</td>\n",
       "      <td>0.7125</td>\n",
       "    </tr>\n",
       "  </tbody>\n",
       "</table>\n",
       "<p>5 rows × 876 columns</p>\n",
       "</div>"
      ],
      "text/plain": [
       "         sig_id cp_type  cp_time cp_dose     g-0     g-1     g-2     g-3  \\\n",
       "0  id_000644bb2  trt_cp       24      D1  1.0620  0.5577 -0.2479 -0.6208   \n",
       "1  id_000779bfc  trt_cp       72      D1  0.0743  0.4087  0.2991  0.0604   \n",
       "2  id_000a6266a  trt_cp       48      D1  0.6280  0.5817  1.5540 -0.0764   \n",
       "3  id_0015fd391  trt_cp       48      D1 -0.5138 -0.2491 -0.2656  0.5288   \n",
       "4  id_001626bd3  trt_cp       72      D2 -0.3254 -0.4009  0.9700  0.6919   \n",
       "\n",
       "      g-4     g-5  ...    c-90    c-91    c-92    c-93    c-94    c-95  \\\n",
       "0 -0.1944 -1.0120  ...  0.2862  0.2584  0.8076  0.5523 -0.1912  0.6584   \n",
       "1  1.0190  0.5207  ... -0.4265  0.7543  0.4708  0.0230  0.2957  0.4899   \n",
       "2 -0.0323  1.2390  ... -0.7250 -0.6297  0.6103  0.0223 -1.3240 -0.3174   \n",
       "3  4.0620 -0.8095  ... -2.0990 -0.6441 -5.6300 -1.3780 -0.8632 -1.2880   \n",
       "4  1.4180 -0.8244  ...  0.0042  0.0048  0.6670  1.0690  0.5523 -0.3031   \n",
       "\n",
       "     c-96    c-97    c-98    c-99  \n",
       "0 -0.3981  0.2139  0.3801  0.4176  \n",
       "1  0.1522  0.1241  0.6077  0.7371  \n",
       "2 -0.6417 -0.2187 -1.4080  0.6931  \n",
       "3 -1.6210 -0.8784 -0.3876 -0.8154  \n",
       "4  0.1094  0.2885 -0.3786  0.7125  \n",
       "\n",
       "[5 rows x 876 columns]"
      ]
     },
     "execution_count": 10,
     "metadata": {},
     "output_type": "execute_result"
    }
   ],
   "source": [
    "train.head()"
   ]
  },
  {
   "cell_type": "code",
   "execution_count": 11,
   "metadata": {
    "execution": {
     "iopub.execute_input": "2020-10-12T13:11:19.805575Z",
     "iopub.status.busy": "2020-10-12T13:11:19.804878Z",
     "iopub.status.idle": "2020-10-12T13:11:19.808821Z",
     "shell.execute_reply": "2020-10-12T13:11:19.808334Z"
    },
    "papermill": {
     "duration": 0.032826,
     "end_time": "2020-10-12T13:11:19.808938",
     "exception": false,
     "start_time": "2020-10-12T13:11:19.776112",
     "status": "completed"
    },
    "tags": []
   },
   "outputs": [
    {
     "data": {
      "text/plain": [
       "Index(['sig_id', 'cp_type', 'cp_dose'], dtype='object')"
      ]
     },
     "execution_count": 11,
     "metadata": {},
     "output_type": "execute_result"
    }
   ],
   "source": [
    "train.select_dtypes(include=['object']).columns"
   ]
  },
  {
   "cell_type": "code",
   "execution_count": 12,
   "metadata": {
    "execution": {
     "iopub.execute_input": "2020-10-12T13:11:19.852082Z",
     "iopub.status.busy": "2020-10-12T13:11:19.849283Z",
     "iopub.status.idle": "2020-10-12T13:11:20.100346Z",
     "shell.execute_reply": "2020-10-12T13:11:20.099815Z"
    },
    "papermill": {
     "duration": 0.274027,
     "end_time": "2020-10-12T13:11:20.100470",
     "exception": false,
     "start_time": "2020-10-12T13:11:19.826443",
     "status": "completed"
    },
    "tags": []
   },
   "outputs": [],
   "source": [
    "train, test = label_encoding(train, test, ['cp_type', 'cp_dose'])"
   ]
  },
  {
   "cell_type": "code",
   "execution_count": 13,
   "metadata": {
    "execution": {
     "iopub.execute_input": "2020-10-12T13:11:20.159859Z",
     "iopub.status.busy": "2020-10-12T13:11:20.148484Z",
     "iopub.status.idle": "2020-10-12T13:11:20.164232Z",
     "shell.execute_reply": "2020-10-12T13:11:20.163748Z"
    },
    "papermill": {
     "duration": 0.046063,
     "end_time": "2020-10-12T13:11:20.164345",
     "exception": false,
     "start_time": "2020-10-12T13:11:20.118282",
     "status": "completed"
    },
    "tags": []
   },
   "outputs": [
    {
     "data": {
      "text/html": [
       "<div>\n",
       "<style scoped>\n",
       "    .dataframe tbody tr th:only-of-type {\n",
       "        vertical-align: middle;\n",
       "    }\n",
       "\n",
       "    .dataframe tbody tr th {\n",
       "        vertical-align: top;\n",
       "    }\n",
       "\n",
       "    .dataframe thead th {\n",
       "        text-align: right;\n",
       "    }\n",
       "</style>\n",
       "<table border=\"1\" class=\"dataframe\">\n",
       "  <thead>\n",
       "    <tr style=\"text-align: right;\">\n",
       "      <th></th>\n",
       "      <th>sig_id</th>\n",
       "      <th>cp_type</th>\n",
       "      <th>cp_time</th>\n",
       "      <th>cp_dose</th>\n",
       "      <th>g-0</th>\n",
       "      <th>g-1</th>\n",
       "      <th>g-2</th>\n",
       "      <th>g-3</th>\n",
       "      <th>g-4</th>\n",
       "      <th>g-5</th>\n",
       "      <th>...</th>\n",
       "      <th>c-90</th>\n",
       "      <th>c-91</th>\n",
       "      <th>c-92</th>\n",
       "      <th>c-93</th>\n",
       "      <th>c-94</th>\n",
       "      <th>c-95</th>\n",
       "      <th>c-96</th>\n",
       "      <th>c-97</th>\n",
       "      <th>c-98</th>\n",
       "      <th>c-99</th>\n",
       "    </tr>\n",
       "  </thead>\n",
       "  <tbody>\n",
       "    <tr>\n",
       "      <th>0</th>\n",
       "      <td>id_000644bb2</td>\n",
       "      <td>1</td>\n",
       "      <td>24</td>\n",
       "      <td>0</td>\n",
       "      <td>1.0620</td>\n",
       "      <td>0.5577</td>\n",
       "      <td>-0.2479</td>\n",
       "      <td>-0.6208</td>\n",
       "      <td>-0.1944</td>\n",
       "      <td>-1.0120</td>\n",
       "      <td>...</td>\n",
       "      <td>0.2862</td>\n",
       "      <td>0.2584</td>\n",
       "      <td>0.8076</td>\n",
       "      <td>0.5523</td>\n",
       "      <td>-0.1912</td>\n",
       "      <td>0.6584</td>\n",
       "      <td>-0.3981</td>\n",
       "      <td>0.2139</td>\n",
       "      <td>0.3801</td>\n",
       "      <td>0.4176</td>\n",
       "    </tr>\n",
       "    <tr>\n",
       "      <th>1</th>\n",
       "      <td>id_000779bfc</td>\n",
       "      <td>1</td>\n",
       "      <td>72</td>\n",
       "      <td>0</td>\n",
       "      <td>0.0743</td>\n",
       "      <td>0.4087</td>\n",
       "      <td>0.2991</td>\n",
       "      <td>0.0604</td>\n",
       "      <td>1.0190</td>\n",
       "      <td>0.5207</td>\n",
       "      <td>...</td>\n",
       "      <td>-0.4265</td>\n",
       "      <td>0.7543</td>\n",
       "      <td>0.4708</td>\n",
       "      <td>0.0230</td>\n",
       "      <td>0.2957</td>\n",
       "      <td>0.4899</td>\n",
       "      <td>0.1522</td>\n",
       "      <td>0.1241</td>\n",
       "      <td>0.6077</td>\n",
       "      <td>0.7371</td>\n",
       "    </tr>\n",
       "    <tr>\n",
       "      <th>2</th>\n",
       "      <td>id_000a6266a</td>\n",
       "      <td>1</td>\n",
       "      <td>48</td>\n",
       "      <td>0</td>\n",
       "      <td>0.6280</td>\n",
       "      <td>0.5817</td>\n",
       "      <td>1.5540</td>\n",
       "      <td>-0.0764</td>\n",
       "      <td>-0.0323</td>\n",
       "      <td>1.2390</td>\n",
       "      <td>...</td>\n",
       "      <td>-0.7250</td>\n",
       "      <td>-0.6297</td>\n",
       "      <td>0.6103</td>\n",
       "      <td>0.0223</td>\n",
       "      <td>-1.3240</td>\n",
       "      <td>-0.3174</td>\n",
       "      <td>-0.6417</td>\n",
       "      <td>-0.2187</td>\n",
       "      <td>-1.4080</td>\n",
       "      <td>0.6931</td>\n",
       "    </tr>\n",
       "    <tr>\n",
       "      <th>3</th>\n",
       "      <td>id_0015fd391</td>\n",
       "      <td>1</td>\n",
       "      <td>48</td>\n",
       "      <td>0</td>\n",
       "      <td>-0.5138</td>\n",
       "      <td>-0.2491</td>\n",
       "      <td>-0.2656</td>\n",
       "      <td>0.5288</td>\n",
       "      <td>4.0620</td>\n",
       "      <td>-0.8095</td>\n",
       "      <td>...</td>\n",
       "      <td>-2.0990</td>\n",
       "      <td>-0.6441</td>\n",
       "      <td>-5.6300</td>\n",
       "      <td>-1.3780</td>\n",
       "      <td>-0.8632</td>\n",
       "      <td>-1.2880</td>\n",
       "      <td>-1.6210</td>\n",
       "      <td>-0.8784</td>\n",
       "      <td>-0.3876</td>\n",
       "      <td>-0.8154</td>\n",
       "    </tr>\n",
       "    <tr>\n",
       "      <th>4</th>\n",
       "      <td>id_001626bd3</td>\n",
       "      <td>1</td>\n",
       "      <td>72</td>\n",
       "      <td>1</td>\n",
       "      <td>-0.3254</td>\n",
       "      <td>-0.4009</td>\n",
       "      <td>0.9700</td>\n",
       "      <td>0.6919</td>\n",
       "      <td>1.4180</td>\n",
       "      <td>-0.8244</td>\n",
       "      <td>...</td>\n",
       "      <td>0.0042</td>\n",
       "      <td>0.0048</td>\n",
       "      <td>0.6670</td>\n",
       "      <td>1.0690</td>\n",
       "      <td>0.5523</td>\n",
       "      <td>-0.3031</td>\n",
       "      <td>0.1094</td>\n",
       "      <td>0.2885</td>\n",
       "      <td>-0.3786</td>\n",
       "      <td>0.7125</td>\n",
       "    </tr>\n",
       "  </tbody>\n",
       "</table>\n",
       "<p>5 rows × 876 columns</p>\n",
       "</div>"
      ],
      "text/plain": [
       "         sig_id  cp_type  cp_time  cp_dose     g-0     g-1     g-2     g-3  \\\n",
       "0  id_000644bb2        1       24        0  1.0620  0.5577 -0.2479 -0.6208   \n",
       "1  id_000779bfc        1       72        0  0.0743  0.4087  0.2991  0.0604   \n",
       "2  id_000a6266a        1       48        0  0.6280  0.5817  1.5540 -0.0764   \n",
       "3  id_0015fd391        1       48        0 -0.5138 -0.2491 -0.2656  0.5288   \n",
       "4  id_001626bd3        1       72        1 -0.3254 -0.4009  0.9700  0.6919   \n",
       "\n",
       "      g-4     g-5  ...    c-90    c-91    c-92    c-93    c-94    c-95  \\\n",
       "0 -0.1944 -1.0120  ...  0.2862  0.2584  0.8076  0.5523 -0.1912  0.6584   \n",
       "1  1.0190  0.5207  ... -0.4265  0.7543  0.4708  0.0230  0.2957  0.4899   \n",
       "2 -0.0323  1.2390  ... -0.7250 -0.6297  0.6103  0.0223 -1.3240 -0.3174   \n",
       "3  4.0620 -0.8095  ... -2.0990 -0.6441 -5.6300 -1.3780 -0.8632 -1.2880   \n",
       "4  1.4180 -0.8244  ...  0.0042  0.0048  0.6670  1.0690  0.5523 -0.3031   \n",
       "\n",
       "     c-96    c-97    c-98    c-99  \n",
       "0 -0.3981  0.2139  0.3801  0.4176  \n",
       "1  0.1522  0.1241  0.6077  0.7371  \n",
       "2 -0.6417 -0.2187 -1.4080  0.6931  \n",
       "3 -1.6210 -0.8784 -0.3876 -0.8154  \n",
       "4  0.1094  0.2885 -0.3786  0.7125  \n",
       "\n",
       "[5 rows x 876 columns]"
      ]
     },
     "execution_count": 13,
     "metadata": {},
     "output_type": "execute_result"
    }
   ],
   "source": [
    "train.head()"
   ]
  },
  {
   "cell_type": "code",
   "execution_count": 14,
   "metadata": {
    "execution": {
     "iopub.execute_input": "2020-10-12T13:11:20.206857Z",
     "iopub.status.busy": "2020-10-12T13:11:20.205991Z",
     "iopub.status.idle": "2020-10-12T13:11:20.266947Z",
     "shell.execute_reply": "2020-10-12T13:11:20.267394Z"
    },
    "papermill": {
     "duration": 0.084478,
     "end_time": "2020-10-12T13:11:20.267543",
     "exception": false,
     "start_time": "2020-10-12T13:11:20.183065",
     "status": "completed"
    },
    "tags": []
   },
   "outputs": [
    {
     "data": {
      "text/html": [
       "<div>\n",
       "<style scoped>\n",
       "    .dataframe tbody tr th:only-of-type {\n",
       "        vertical-align: middle;\n",
       "    }\n",
       "\n",
       "    .dataframe tbody tr th {\n",
       "        vertical-align: top;\n",
       "    }\n",
       "\n",
       "    .dataframe thead th {\n",
       "        text-align: right;\n",
       "    }\n",
       "</style>\n",
       "<table border=\"1\" class=\"dataframe\">\n",
       "  <thead>\n",
       "    <tr style=\"text-align: right;\">\n",
       "      <th></th>\n",
       "      <th>sig_id</th>\n",
       "      <th>cp_type</th>\n",
       "      <th>cp_time</th>\n",
       "      <th>cp_dose</th>\n",
       "      <th>g-0</th>\n",
       "      <th>g-1</th>\n",
       "      <th>g-2</th>\n",
       "      <th>g-3</th>\n",
       "      <th>g-4</th>\n",
       "      <th>g-5</th>\n",
       "      <th>...</th>\n",
       "      <th>c-90</th>\n",
       "      <th>c-91</th>\n",
       "      <th>c-92</th>\n",
       "      <th>c-93</th>\n",
       "      <th>c-94</th>\n",
       "      <th>c-95</th>\n",
       "      <th>c-96</th>\n",
       "      <th>c-97</th>\n",
       "      <th>c-98</th>\n",
       "      <th>c-99</th>\n",
       "    </tr>\n",
       "  </thead>\n",
       "  <tbody>\n",
       "    <tr>\n",
       "      <th>25</th>\n",
       "      <td>id_0054388ec</td>\n",
       "      <td>0</td>\n",
       "      <td>48</td>\n",
       "      <td>0</td>\n",
       "      <td>-0.6696</td>\n",
       "      <td>-0.2718</td>\n",
       "      <td>-1.2230</td>\n",
       "      <td>-0.6226</td>\n",
       "      <td>-0.7220</td>\n",
       "      <td>0.1588</td>\n",
       "      <td>...</td>\n",
       "      <td>0.6171</td>\n",
       "      <td>0.6405</td>\n",
       "      <td>0.5429</td>\n",
       "      <td>0.3562</td>\n",
       "      <td>1.3290</td>\n",
       "      <td>0.5573</td>\n",
       "      <td>0.8837</td>\n",
       "      <td>0.5534</td>\n",
       "      <td>0.8976</td>\n",
       "      <td>1.0050</td>\n",
       "    </tr>\n",
       "    <tr>\n",
       "      <th>38</th>\n",
       "      <td>id_0079af0fb</td>\n",
       "      <td>0</td>\n",
       "      <td>24</td>\n",
       "      <td>0</td>\n",
       "      <td>-0.1636</td>\n",
       "      <td>-1.8230</td>\n",
       "      <td>-0.5211</td>\n",
       "      <td>0.3054</td>\n",
       "      <td>-1.1280</td>\n",
       "      <td>0.6041</td>\n",
       "      <td>...</td>\n",
       "      <td>-0.3880</td>\n",
       "      <td>-0.6828</td>\n",
       "      <td>-0.6594</td>\n",
       "      <td>-0.2043</td>\n",
       "      <td>0.3571</td>\n",
       "      <td>-0.1319</td>\n",
       "      <td>0.2187</td>\n",
       "      <td>0.0737</td>\n",
       "      <td>0.6498</td>\n",
       "      <td>-1.4820</td>\n",
       "    </tr>\n",
       "    <tr>\n",
       "      <th>40</th>\n",
       "      <td>id_007bfbb91</td>\n",
       "      <td>0</td>\n",
       "      <td>24</td>\n",
       "      <td>1</td>\n",
       "      <td>-1.3200</td>\n",
       "      <td>-1.7340</td>\n",
       "      <td>-0.0741</td>\n",
       "      <td>1.5440</td>\n",
       "      <td>-1.8290</td>\n",
       "      <td>-0.0951</td>\n",
       "      <td>...</td>\n",
       "      <td>0.7412</td>\n",
       "      <td>1.0340</td>\n",
       "      <td>0.7393</td>\n",
       "      <td>1.1020</td>\n",
       "      <td>0.3786</td>\n",
       "      <td>0.2636</td>\n",
       "      <td>-0.5751</td>\n",
       "      <td>0.3362</td>\n",
       "      <td>0.8543</td>\n",
       "      <td>0.9180</td>\n",
       "    </tr>\n",
       "    <tr>\n",
       "      <th>47</th>\n",
       "      <td>id_008a986b7</td>\n",
       "      <td>0</td>\n",
       "      <td>48</td>\n",
       "      <td>1</td>\n",
       "      <td>0.4860</td>\n",
       "      <td>0.1430</td>\n",
       "      <td>0.5281</td>\n",
       "      <td>-0.0022</td>\n",
       "      <td>-0.2334</td>\n",
       "      <td>-0.6607</td>\n",
       "      <td>...</td>\n",
       "      <td>-0.3085</td>\n",
       "      <td>-0.1866</td>\n",
       "      <td>0.7629</td>\n",
       "      <td>0.3288</td>\n",
       "      <td>-0.9915</td>\n",
       "      <td>-0.3694</td>\n",
       "      <td>-0.4979</td>\n",
       "      <td>0.5281</td>\n",
       "      <td>-0.9245</td>\n",
       "      <td>-0.9367</td>\n",
       "    </tr>\n",
       "    <tr>\n",
       "      <th>63</th>\n",
       "      <td>id_009d8340f</td>\n",
       "      <td>0</td>\n",
       "      <td>24</td>\n",
       "      <td>1</td>\n",
       "      <td>0.4471</td>\n",
       "      <td>-0.0839</td>\n",
       "      <td>-0.3864</td>\n",
       "      <td>0.3196</td>\n",
       "      <td>0.2584</td>\n",
       "      <td>-0.3156</td>\n",
       "      <td>...</td>\n",
       "      <td>0.4795</td>\n",
       "      <td>0.3939</td>\n",
       "      <td>0.7665</td>\n",
       "      <td>0.7932</td>\n",
       "      <td>-0.6804</td>\n",
       "      <td>-0.0435</td>\n",
       "      <td>0.0949</td>\n",
       "      <td>0.2000</td>\n",
       "      <td>-0.4326</td>\n",
       "      <td>0.9364</td>\n",
       "    </tr>\n",
       "    <tr>\n",
       "      <th>...</th>\n",
       "      <td>...</td>\n",
       "      <td>...</td>\n",
       "      <td>...</td>\n",
       "      <td>...</td>\n",
       "      <td>...</td>\n",
       "      <td>...</td>\n",
       "      <td>...</td>\n",
       "      <td>...</td>\n",
       "      <td>...</td>\n",
       "      <td>...</td>\n",
       "      <td>...</td>\n",
       "      <td>...</td>\n",
       "      <td>...</td>\n",
       "      <td>...</td>\n",
       "      <td>...</td>\n",
       "      <td>...</td>\n",
       "      <td>...</td>\n",
       "      <td>...</td>\n",
       "      <td>...</td>\n",
       "      <td>...</td>\n",
       "      <td>...</td>\n",
       "    </tr>\n",
       "    <tr>\n",
       "      <th>23729</th>\n",
       "      <td>id_ff1f9e5fc</td>\n",
       "      <td>0</td>\n",
       "      <td>24</td>\n",
       "      <td>0</td>\n",
       "      <td>0.0465</td>\n",
       "      <td>0.6430</td>\n",
       "      <td>-0.2453</td>\n",
       "      <td>0.3521</td>\n",
       "      <td>0.6195</td>\n",
       "      <td>-0.6659</td>\n",
       "      <td>...</td>\n",
       "      <td>0.6085</td>\n",
       "      <td>0.1621</td>\n",
       "      <td>-0.2065</td>\n",
       "      <td>0.8314</td>\n",
       "      <td>-0.1891</td>\n",
       "      <td>-0.0074</td>\n",
       "      <td>0.2131</td>\n",
       "      <td>-0.1419</td>\n",
       "      <td>-0.2422</td>\n",
       "      <td>0.0457</td>\n",
       "    </tr>\n",
       "    <tr>\n",
       "      <th>23747</th>\n",
       "      <td>id_ff469c482</td>\n",
       "      <td>0</td>\n",
       "      <td>72</td>\n",
       "      <td>0</td>\n",
       "      <td>-0.6204</td>\n",
       "      <td>-1.3800</td>\n",
       "      <td>-1.1880</td>\n",
       "      <td>-0.6573</td>\n",
       "      <td>-0.8408</td>\n",
       "      <td>-0.2447</td>\n",
       "      <td>...</td>\n",
       "      <td>0.8209</td>\n",
       "      <td>0.7366</td>\n",
       "      <td>0.5468</td>\n",
       "      <td>1.1450</td>\n",
       "      <td>0.5254</td>\n",
       "      <td>0.6224</td>\n",
       "      <td>-0.9630</td>\n",
       "      <td>0.8872</td>\n",
       "      <td>-0.0742</td>\n",
       "      <td>-0.6777</td>\n",
       "    </tr>\n",
       "    <tr>\n",
       "      <th>23768</th>\n",
       "      <td>id_ff89331ca</td>\n",
       "      <td>0</td>\n",
       "      <td>72</td>\n",
       "      <td>1</td>\n",
       "      <td>-0.1051</td>\n",
       "      <td>0.4335</td>\n",
       "      <td>0.3648</td>\n",
       "      <td>-0.0525</td>\n",
       "      <td>-0.3632</td>\n",
       "      <td>-0.3228</td>\n",
       "      <td>...</td>\n",
       "      <td>-0.1219</td>\n",
       "      <td>0.4885</td>\n",
       "      <td>0.4963</td>\n",
       "      <td>0.9434</td>\n",
       "      <td>-0.4779</td>\n",
       "      <td>0.6951</td>\n",
       "      <td>0.9517</td>\n",
       "      <td>-0.8110</td>\n",
       "      <td>-0.1748</td>\n",
       "      <td>-0.3626</td>\n",
       "    </tr>\n",
       "    <tr>\n",
       "      <th>23793</th>\n",
       "      <td>id_ffd26f361</td>\n",
       "      <td>0</td>\n",
       "      <td>48</td>\n",
       "      <td>1</td>\n",
       "      <td>0.6008</td>\n",
       "      <td>0.2781</td>\n",
       "      <td>-0.3319</td>\n",
       "      <td>-0.8782</td>\n",
       "      <td>0.9281</td>\n",
       "      <td>0.7535</td>\n",
       "      <td>...</td>\n",
       "      <td>1.2470</td>\n",
       "      <td>0.9569</td>\n",
       "      <td>-0.2065</td>\n",
       "      <td>-0.4918</td>\n",
       "      <td>0.7863</td>\n",
       "      <td>0.0504</td>\n",
       "      <td>0.8813</td>\n",
       "      <td>0.7757</td>\n",
       "      <td>-0.5272</td>\n",
       "      <td>0.7082</td>\n",
       "    </tr>\n",
       "    <tr>\n",
       "      <th>23811</th>\n",
       "      <td>id_fffc1c3f4</td>\n",
       "      <td>0</td>\n",
       "      <td>48</td>\n",
       "      <td>1</td>\n",
       "      <td>0.3942</td>\n",
       "      <td>0.3756</td>\n",
       "      <td>0.3109</td>\n",
       "      <td>-0.7389</td>\n",
       "      <td>0.5505</td>\n",
       "      <td>-0.0159</td>\n",
       "      <td>...</td>\n",
       "      <td>0.5409</td>\n",
       "      <td>0.3755</td>\n",
       "      <td>0.7343</td>\n",
       "      <td>0.2807</td>\n",
       "      <td>0.4116</td>\n",
       "      <td>0.6422</td>\n",
       "      <td>0.2256</td>\n",
       "      <td>0.7592</td>\n",
       "      <td>0.6656</td>\n",
       "      <td>0.3808</td>\n",
       "    </tr>\n",
       "  </tbody>\n",
       "</table>\n",
       "<p>1866 rows × 876 columns</p>\n",
       "</div>"
      ],
      "text/plain": [
       "             sig_id  cp_type  cp_time  cp_dose     g-0     g-1     g-2  \\\n",
       "25     id_0054388ec        0       48        0 -0.6696 -0.2718 -1.2230   \n",
       "38     id_0079af0fb        0       24        0 -0.1636 -1.8230 -0.5211   \n",
       "40     id_007bfbb91        0       24        1 -1.3200 -1.7340 -0.0741   \n",
       "47     id_008a986b7        0       48        1  0.4860  0.1430  0.5281   \n",
       "63     id_009d8340f        0       24        1  0.4471 -0.0839 -0.3864   \n",
       "...             ...      ...      ...      ...     ...     ...     ...   \n",
       "23729  id_ff1f9e5fc        0       24        0  0.0465  0.6430 -0.2453   \n",
       "23747  id_ff469c482        0       72        0 -0.6204 -1.3800 -1.1880   \n",
       "23768  id_ff89331ca        0       72        1 -0.1051  0.4335  0.3648   \n",
       "23793  id_ffd26f361        0       48        1  0.6008  0.2781 -0.3319   \n",
       "23811  id_fffc1c3f4        0       48        1  0.3942  0.3756  0.3109   \n",
       "\n",
       "          g-3     g-4     g-5  ...    c-90    c-91    c-92    c-93    c-94  \\\n",
       "25    -0.6226 -0.7220  0.1588  ...  0.6171  0.6405  0.5429  0.3562  1.3290   \n",
       "38     0.3054 -1.1280  0.6041  ... -0.3880 -0.6828 -0.6594 -0.2043  0.3571   \n",
       "40     1.5440 -1.8290 -0.0951  ...  0.7412  1.0340  0.7393  1.1020  0.3786   \n",
       "47    -0.0022 -0.2334 -0.6607  ... -0.3085 -0.1866  0.7629  0.3288 -0.9915   \n",
       "63     0.3196  0.2584 -0.3156  ...  0.4795  0.3939  0.7665  0.7932 -0.6804   \n",
       "...       ...     ...     ...  ...     ...     ...     ...     ...     ...   \n",
       "23729  0.3521  0.6195 -0.6659  ...  0.6085  0.1621 -0.2065  0.8314 -0.1891   \n",
       "23747 -0.6573 -0.8408 -0.2447  ...  0.8209  0.7366  0.5468  1.1450  0.5254   \n",
       "23768 -0.0525 -0.3632 -0.3228  ... -0.1219  0.4885  0.4963  0.9434 -0.4779   \n",
       "23793 -0.8782  0.9281  0.7535  ...  1.2470  0.9569 -0.2065 -0.4918  0.7863   \n",
       "23811 -0.7389  0.5505 -0.0159  ...  0.5409  0.3755  0.7343  0.2807  0.4116   \n",
       "\n",
       "         c-95    c-96    c-97    c-98    c-99  \n",
       "25     0.5573  0.8837  0.5534  0.8976  1.0050  \n",
       "38    -0.1319  0.2187  0.0737  0.6498 -1.4820  \n",
       "40     0.2636 -0.5751  0.3362  0.8543  0.9180  \n",
       "47    -0.3694 -0.4979  0.5281 -0.9245 -0.9367  \n",
       "63    -0.0435  0.0949  0.2000 -0.4326  0.9364  \n",
       "...       ...     ...     ...     ...     ...  \n",
       "23729 -0.0074  0.2131 -0.1419 -0.2422  0.0457  \n",
       "23747  0.6224 -0.9630  0.8872 -0.0742 -0.6777  \n",
       "23768  0.6951  0.9517 -0.8110 -0.1748 -0.3626  \n",
       "23793  0.0504  0.8813  0.7757 -0.5272  0.7082  \n",
       "23811  0.6422  0.2256  0.7592  0.6656  0.3808  \n",
       "\n",
       "[1866 rows x 876 columns]"
      ]
     },
     "execution_count": 14,
     "metadata": {},
     "output_type": "execute_result"
    }
   ],
   "source": [
    "# Select control data\n",
    "ctl = train[(train.cp_type==0)]\n",
    "ctl"
   ]
  },
  {
   "cell_type": "code",
   "execution_count": 15,
   "metadata": {
    "execution": {
     "iopub.execute_input": "2020-10-12T13:11:20.353259Z",
     "iopub.status.busy": "2020-10-12T13:11:20.337940Z",
     "iopub.status.idle": "2020-10-12T13:11:26.384968Z",
     "shell.execute_reply": "2020-10-12T13:11:26.385559Z"
    },
    "papermill": {
     "duration": 6.098164,
     "end_time": "2020-10-12T13:11:26.385736",
     "exception": false,
     "start_time": "2020-10-12T13:11:20.287572",
     "status": "completed"
    },
    "tags": []
   },
   "outputs": [
    {
     "name": "stdout",
     "output_type": "stream",
     "text": [
      "343\n",
      "305\n",
      "301\n",
      "305\n",
      "307\n",
      "305\n"
     ]
    },
    {
     "data": {
      "text/html": [
       "<div>\n",
       "<style scoped>\n",
       "    .dataframe tbody tr th:only-of-type {\n",
       "        vertical-align: middle;\n",
       "    }\n",
       "\n",
       "    .dataframe tbody tr th {\n",
       "        vertical-align: top;\n",
       "    }\n",
       "\n",
       "    .dataframe thead th {\n",
       "        text-align: right;\n",
       "    }\n",
       "</style>\n",
       "<table border=\"1\" class=\"dataframe\">\n",
       "  <thead>\n",
       "    <tr style=\"text-align: right;\">\n",
       "      <th></th>\n",
       "      <th>sig_id</th>\n",
       "      <th>cp_type</th>\n",
       "      <th>cp_time</th>\n",
       "      <th>cp_dose</th>\n",
       "      <th>g-0</th>\n",
       "      <th>g-1</th>\n",
       "      <th>g-2</th>\n",
       "      <th>g-3</th>\n",
       "      <th>g-4</th>\n",
       "      <th>g-5</th>\n",
       "      <th>...</th>\n",
       "      <th>c-90</th>\n",
       "      <th>c-91</th>\n",
       "      <th>c-92</th>\n",
       "      <th>c-93</th>\n",
       "      <th>c-94</th>\n",
       "      <th>c-95</th>\n",
       "      <th>c-96</th>\n",
       "      <th>c-97</th>\n",
       "      <th>c-98</th>\n",
       "      <th>c-99</th>\n",
       "    </tr>\n",
       "  </thead>\n",
       "  <tbody>\n",
       "    <tr>\n",
       "      <th>0</th>\n",
       "      <td>id_0054388ec</td>\n",
       "      <td>0</td>\n",
       "      <td>48</td>\n",
       "      <td>0</td>\n",
       "      <td>-0.6270</td>\n",
       "      <td>-0.27180</td>\n",
       "      <td>-0.58865</td>\n",
       "      <td>-0.45390</td>\n",
       "      <td>-0.72200</td>\n",
       "      <td>0.15880</td>\n",
       "      <td>...</td>\n",
       "      <td>0.6171</td>\n",
       "      <td>0.6405</td>\n",
       "      <td>0.5429</td>\n",
       "      <td>0.3562</td>\n",
       "      <td>0.93025</td>\n",
       "      <td>0.55730</td>\n",
       "      <td>0.74050</td>\n",
       "      <td>0.55340</td>\n",
       "      <td>0.81245</td>\n",
       "      <td>0.8726</td>\n",
       "    </tr>\n",
       "    <tr>\n",
       "      <th>1</th>\n",
       "      <td>id_01b05de6c</td>\n",
       "      <td>0</td>\n",
       "      <td>48</td>\n",
       "      <td>0</td>\n",
       "      <td>-0.3176</td>\n",
       "      <td>0.10895</td>\n",
       "      <td>-0.37730</td>\n",
       "      <td>0.39935</td>\n",
       "      <td>-0.48770</td>\n",
       "      <td>0.34130</td>\n",
       "      <td>...</td>\n",
       "      <td>0.2189</td>\n",
       "      <td>-0.1276</td>\n",
       "      <td>0.6085</td>\n",
       "      <td>0.3389</td>\n",
       "      <td>0.74370</td>\n",
       "      <td>0.75145</td>\n",
       "      <td>0.24060</td>\n",
       "      <td>0.50570</td>\n",
       "      <td>0.80170</td>\n",
       "      <td>0.8726</td>\n",
       "    </tr>\n",
       "    <tr>\n",
       "      <th>2</th>\n",
       "      <td>id_020ba48d9</td>\n",
       "      <td>0</td>\n",
       "      <td>48</td>\n",
       "      <td>0</td>\n",
       "      <td>0.3816</td>\n",
       "      <td>-0.33390</td>\n",
       "      <td>0.48285</td>\n",
       "      <td>-0.41920</td>\n",
       "      <td>0.37315</td>\n",
       "      <td>-0.28450</td>\n",
       "      <td>...</td>\n",
       "      <td>-0.1108</td>\n",
       "      <td>-0.1276</td>\n",
       "      <td>-0.1729</td>\n",
       "      <td>0.0557</td>\n",
       "      <td>0.07095</td>\n",
       "      <td>-0.07055</td>\n",
       "      <td>-0.23255</td>\n",
       "      <td>-0.12535</td>\n",
       "      <td>0.36020</td>\n",
       "      <td>0.0694</td>\n",
       "    </tr>\n",
       "    <tr>\n",
       "      <th>3</th>\n",
       "      <td>id_02c93b4a5</td>\n",
       "      <td>0</td>\n",
       "      <td>48</td>\n",
       "      <td>0</td>\n",
       "      <td>-0.0884</td>\n",
       "      <td>-0.92410</td>\n",
       "      <td>0.48285</td>\n",
       "      <td>0.39935</td>\n",
       "      <td>-0.16830</td>\n",
       "      <td>0.72705</td>\n",
       "      <td>...</td>\n",
       "      <td>-0.1108</td>\n",
       "      <td>0.4766</td>\n",
       "      <td>0.6085</td>\n",
       "      <td>0.4613</td>\n",
       "      <td>0.89570</td>\n",
       "      <td>0.75145</td>\n",
       "      <td>0.74050</td>\n",
       "      <td>0.72090</td>\n",
       "      <td>0.65420</td>\n",
       "      <td>0.0694</td>\n",
       "    </tr>\n",
       "    <tr>\n",
       "      <th>4</th>\n",
       "      <td>id_03bc6d412</td>\n",
       "      <td>0</td>\n",
       "      <td>48</td>\n",
       "      <td>0</td>\n",
       "      <td>0.3816</td>\n",
       "      <td>0.09310</td>\n",
       "      <td>-0.09580</td>\n",
       "      <td>-0.43370</td>\n",
       "      <td>0.37315</td>\n",
       "      <td>-0.28450</td>\n",
       "      <td>...</td>\n",
       "      <td>-0.1108</td>\n",
       "      <td>-0.1276</td>\n",
       "      <td>-0.1729</td>\n",
       "      <td>0.0349</td>\n",
       "      <td>0.12700</td>\n",
       "      <td>0.35110</td>\n",
       "      <td>0.12330</td>\n",
       "      <td>-0.12535</td>\n",
       "      <td>0.17670</td>\n",
       "      <td>0.1153</td>\n",
       "    </tr>\n",
       "    <tr>\n",
       "      <th>...</th>\n",
       "      <td>...</td>\n",
       "      <td>...</td>\n",
       "      <td>...</td>\n",
       "      <td>...</td>\n",
       "      <td>...</td>\n",
       "      <td>...</td>\n",
       "      <td>...</td>\n",
       "      <td>...</td>\n",
       "      <td>...</td>\n",
       "      <td>...</td>\n",
       "      <td>...</td>\n",
       "      <td>...</td>\n",
       "      <td>...</td>\n",
       "      <td>...</td>\n",
       "      <td>...</td>\n",
       "      <td>...</td>\n",
       "      <td>...</td>\n",
       "      <td>...</td>\n",
       "      <td>...</td>\n",
       "      <td>...</td>\n",
       "      <td>...</td>\n",
       "    </tr>\n",
       "    <tr>\n",
       "      <th>1861</th>\n",
       "      <td>id_fbb620181</td>\n",
       "      <td>0</td>\n",
       "      <td>72</td>\n",
       "      <td>1</td>\n",
       "      <td>-0.3490</td>\n",
       "      <td>0.66460</td>\n",
       "      <td>-0.99870</td>\n",
       "      <td>-0.37690</td>\n",
       "      <td>0.75160</td>\n",
       "      <td>-0.85350</td>\n",
       "      <td>...</td>\n",
       "      <td>-0.4281</td>\n",
       "      <td>-0.3502</td>\n",
       "      <td>-0.4369</td>\n",
       "      <td>-0.0243</td>\n",
       "      <td>-0.33600</td>\n",
       "      <td>0.49600</td>\n",
       "      <td>-0.35950</td>\n",
       "      <td>-0.33270</td>\n",
       "      <td>-0.09990</td>\n",
       "      <td>-0.1274</td>\n",
       "    </tr>\n",
       "    <tr>\n",
       "      <th>1862</th>\n",
       "      <td>id_fbba92030</td>\n",
       "      <td>0</td>\n",
       "      <td>72</td>\n",
       "      <td>1</td>\n",
       "      <td>-0.4403</td>\n",
       "      <td>0.66460</td>\n",
       "      <td>0.26810</td>\n",
       "      <td>0.54390</td>\n",
       "      <td>-0.45970</td>\n",
       "      <td>-0.84690</td>\n",
       "      <td>...</td>\n",
       "      <td>0.4625</td>\n",
       "      <td>0.4804</td>\n",
       "      <td>0.4609</td>\n",
       "      <td>0.6027</td>\n",
       "      <td>0.51180</td>\n",
       "      <td>0.49600</td>\n",
       "      <td>0.55890</td>\n",
       "      <td>-0.03440</td>\n",
       "      <td>-0.01860</td>\n",
       "      <td>0.5173</td>\n",
       "    </tr>\n",
       "    <tr>\n",
       "      <th>1863</th>\n",
       "      <td>id_fbc0849ad</td>\n",
       "      <td>0</td>\n",
       "      <td>72</td>\n",
       "      <td>1</td>\n",
       "      <td>-0.2948</td>\n",
       "      <td>0.21960</td>\n",
       "      <td>-0.32520</td>\n",
       "      <td>-0.20840</td>\n",
       "      <td>-0.45970</td>\n",
       "      <td>0.30020</td>\n",
       "      <td>...</td>\n",
       "      <td>0.4625</td>\n",
       "      <td>0.4804</td>\n",
       "      <td>0.4609</td>\n",
       "      <td>0.4560</td>\n",
       "      <td>-0.33600</td>\n",
       "      <td>-0.30710</td>\n",
       "      <td>0.55890</td>\n",
       "      <td>0.51620</td>\n",
       "      <td>0.59960</td>\n",
       "      <td>0.4504</td>\n",
       "    </tr>\n",
       "    <tr>\n",
       "      <th>1864</th>\n",
       "      <td>id_fd93fa37d</td>\n",
       "      <td>0</td>\n",
       "      <td>72</td>\n",
       "      <td>1</td>\n",
       "      <td>-0.2984</td>\n",
       "      <td>-0.47880</td>\n",
       "      <td>-0.99870</td>\n",
       "      <td>-0.37690</td>\n",
       "      <td>0.75160</td>\n",
       "      <td>0.30020</td>\n",
       "      <td>...</td>\n",
       "      <td>0.0308</td>\n",
       "      <td>-0.3502</td>\n",
       "      <td>-0.4369</td>\n",
       "      <td>-0.2440</td>\n",
       "      <td>-0.33600</td>\n",
       "      <td>0.41030</td>\n",
       "      <td>0.44620</td>\n",
       "      <td>-0.33270</td>\n",
       "      <td>-0.09990</td>\n",
       "      <td>0.1925</td>\n",
       "    </tr>\n",
       "    <tr>\n",
       "      <th>1865</th>\n",
       "      <td>id_ff89331ca</td>\n",
       "      <td>0</td>\n",
       "      <td>72</td>\n",
       "      <td>1</td>\n",
       "      <td>-0.1051</td>\n",
       "      <td>0.43350</td>\n",
       "      <td>0.26810</td>\n",
       "      <td>-0.05250</td>\n",
       "      <td>-0.36320</td>\n",
       "      <td>-0.32280</td>\n",
       "      <td>...</td>\n",
       "      <td>-0.1219</td>\n",
       "      <td>0.4804</td>\n",
       "      <td>0.4609</td>\n",
       "      <td>0.6027</td>\n",
       "      <td>-0.33600</td>\n",
       "      <td>0.49600</td>\n",
       "      <td>0.55890</td>\n",
       "      <td>-0.33270</td>\n",
       "      <td>-0.09990</td>\n",
       "      <td>-0.2274</td>\n",
       "    </tr>\n",
       "  </tbody>\n",
       "</table>\n",
       "<p>1866 rows × 876 columns</p>\n",
       "</div>"
      ],
      "text/plain": [
       "            sig_id cp_type cp_time cp_dose     g-0      g-1      g-2      g-3  \\\n",
       "0     id_0054388ec       0      48       0 -0.6270 -0.27180 -0.58865 -0.45390   \n",
       "1     id_01b05de6c       0      48       0 -0.3176  0.10895 -0.37730  0.39935   \n",
       "2     id_020ba48d9       0      48       0  0.3816 -0.33390  0.48285 -0.41920   \n",
       "3     id_02c93b4a5       0      48       0 -0.0884 -0.92410  0.48285  0.39935   \n",
       "4     id_03bc6d412       0      48       0  0.3816  0.09310 -0.09580 -0.43370   \n",
       "...            ...     ...     ...     ...     ...      ...      ...      ...   \n",
       "1861  id_fbb620181       0      72       1 -0.3490  0.66460 -0.99870 -0.37690   \n",
       "1862  id_fbba92030       0      72       1 -0.4403  0.66460  0.26810  0.54390   \n",
       "1863  id_fbc0849ad       0      72       1 -0.2948  0.21960 -0.32520 -0.20840   \n",
       "1864  id_fd93fa37d       0      72       1 -0.2984 -0.47880 -0.99870 -0.37690   \n",
       "1865  id_ff89331ca       0      72       1 -0.1051  0.43350  0.26810 -0.05250   \n",
       "\n",
       "          g-4      g-5  ...    c-90    c-91    c-92    c-93     c-94     c-95  \\\n",
       "0    -0.72200  0.15880  ...  0.6171  0.6405  0.5429  0.3562  0.93025  0.55730   \n",
       "1    -0.48770  0.34130  ...  0.2189 -0.1276  0.6085  0.3389  0.74370  0.75145   \n",
       "2     0.37315 -0.28450  ... -0.1108 -0.1276 -0.1729  0.0557  0.07095 -0.07055   \n",
       "3    -0.16830  0.72705  ... -0.1108  0.4766  0.6085  0.4613  0.89570  0.75145   \n",
       "4     0.37315 -0.28450  ... -0.1108 -0.1276 -0.1729  0.0349  0.12700  0.35110   \n",
       "...       ...      ...  ...     ...     ...     ...     ...      ...      ...   \n",
       "1861  0.75160 -0.85350  ... -0.4281 -0.3502 -0.4369 -0.0243 -0.33600  0.49600   \n",
       "1862 -0.45970 -0.84690  ...  0.4625  0.4804  0.4609  0.6027  0.51180  0.49600   \n",
       "1863 -0.45970  0.30020  ...  0.4625  0.4804  0.4609  0.4560 -0.33600 -0.30710   \n",
       "1864  0.75160  0.30020  ...  0.0308 -0.3502 -0.4369 -0.2440 -0.33600  0.41030   \n",
       "1865 -0.36320 -0.32280  ... -0.1219  0.4804  0.4609  0.6027 -0.33600  0.49600   \n",
       "\n",
       "         c-96     c-97     c-98    c-99  \n",
       "0     0.74050  0.55340  0.81245  0.8726  \n",
       "1     0.24060  0.50570  0.80170  0.8726  \n",
       "2    -0.23255 -0.12535  0.36020  0.0694  \n",
       "3     0.74050  0.72090  0.65420  0.0694  \n",
       "4     0.12330 -0.12535  0.17670  0.1153  \n",
       "...       ...      ...      ...     ...  \n",
       "1861 -0.35950 -0.33270 -0.09990 -0.1274  \n",
       "1862  0.55890 -0.03440 -0.01860  0.5173  \n",
       "1863  0.55890  0.51620  0.59960  0.4504  \n",
       "1864  0.44620 -0.33270 -0.09990  0.1925  \n",
       "1865  0.55890 -0.33270 -0.09990 -0.2274  \n",
       "\n",
       "[1866 rows x 876 columns]"
      ]
     },
     "execution_count": 15,
     "metadata": {},
     "output_type": "execute_result"
    }
   ],
   "source": [
    "# clipping\n",
    "\n",
    "def outlaier_clip(df):\n",
    "    df = df.copy()\n",
    "    clipping = df.columns[4:]\n",
    "    for col in clipping:\n",
    "        upper, lower = np.percentile(df[col], [25, 75])\n",
    "        df[col] = np.clip(df[col], upper, lower)\n",
    "    \n",
    "    return df\n",
    "\n",
    "ctl_df = pd.DataFrame(columns=train.columns)\n",
    "for i in ctl.cp_time.unique():\n",
    "    for j in ctl.cp_dose.unique():\n",
    "        print(len(ctl[(ctl.cp_time==i) & (ctl.cp_dose==j)]))\n",
    "        tmp_ctl = ctl[(ctl.cp_time==i) & (ctl.cp_dose==j)]\n",
    "        tmp_ctl = outlaier_clip(tmp_ctl)\n",
    "        ctl_df = pd.concat([ctl_df, tmp_ctl],axis=0).reset_index(drop=True)\n",
    "ctl_df"
   ]
  },
  {
   "cell_type": "code",
   "execution_count": 16,
   "metadata": {
    "execution": {
     "iopub.execute_input": "2020-10-12T13:11:26.435977Z",
     "iopub.status.busy": "2020-10-12T13:11:26.434928Z",
     "iopub.status.idle": "2020-10-12T13:11:26.437981Z",
     "shell.execute_reply": "2020-10-12T13:11:26.437354Z"
    },
    "papermill": {
     "duration": 0.030335,
     "end_time": "2020-10-12T13:11:26.438096",
     "exception": false,
     "start_time": "2020-10-12T13:11:26.407761",
     "status": "completed"
    },
    "tags": []
   },
   "outputs": [],
   "source": [
    "ctl_df[\"target\"] = 0"
   ]
  },
  {
   "cell_type": "code",
   "execution_count": 17,
   "metadata": {
    "execution": {
     "iopub.execute_input": "2020-10-12T13:11:26.496131Z",
     "iopub.status.busy": "2020-10-12T13:11:26.495143Z",
     "iopub.status.idle": "2020-10-12T13:11:26.499478Z",
     "shell.execute_reply": "2020-10-12T13:11:26.498914Z"
    },
    "papermill": {
     "duration": 0.039711,
     "end_time": "2020-10-12T13:11:26.499588",
     "exception": false,
     "start_time": "2020-10-12T13:11:26.459877",
     "status": "completed"
    },
    "tags": []
   },
   "outputs": [
    {
     "data": {
      "text/plain": [
       "sig_id      object\n",
       "cp_type      int64\n",
       "cp_time      int64\n",
       "cp_dose      int64\n",
       "g-0        float64\n",
       "            ...   \n",
       "c-96       float64\n",
       "c-97       float64\n",
       "c-98       float64\n",
       "c-99       float64\n",
       "target       int64\n",
       "Length: 877, dtype: object"
      ]
     },
     "execution_count": 17,
     "metadata": {},
     "output_type": "execute_result"
    }
   ],
   "source": [
    "ctl_df.cp_type = ctl_df.cp_type.astype('int64')\n",
    "ctl_df.cp_time = ctl_df.cp_time.astype('int64')\n",
    "ctl_df.cp_dose = ctl_df.cp_dose.astype('int64')\n",
    "ctl_df.dtypes"
   ]
  },
  {
   "cell_type": "markdown",
   "metadata": {
    "papermill": {
     "duration": 0.021811,
     "end_time": "2020-10-12T13:11:26.543871",
     "exception": false,
     "start_time": "2020-10-12T13:11:26.522060",
     "status": "completed"
    },
    "tags": []
   },
   "source": [
    "# Modeling"
   ]
  },
  {
   "cell_type": "code",
   "execution_count": 18,
   "metadata": {
    "execution": {
     "iopub.execute_input": "2020-10-12T13:11:26.595212Z",
     "iopub.status.busy": "2020-10-12T13:11:26.594522Z",
     "iopub.status.idle": "2020-10-12T13:11:26.596937Z",
     "shell.execute_reply": "2020-10-12T13:11:26.597354Z"
    },
    "papermill": {
     "duration": 0.031343,
     "end_time": "2020-10-12T13:11:26.597499",
     "exception": false,
     "start_time": "2020-10-12T13:11:26.566156",
     "status": "completed"
    },
    "tags": []
   },
   "outputs": [],
   "source": [
    "cv = StratifiedKFold(n_splits=N_FOLD, shuffle=True, random_state=SEED)\n",
    "\n",
    "params = {\n",
    "    'num_leaves': 24,\n",
    "    'max_depth': 5,\n",
    "    'objective': 'binary',\n",
    "    'learning_rate': Learning_rate\n",
    "}\n",
    "\n",
    "categorical_cols = ['cp_time', 'cp_dose']\n",
    "feature_importance_df = pd.DataFrame()\n",
    "models = []\n",
    "scores = []"
   ]
  },
  {
   "cell_type": "code",
   "execution_count": 19,
   "metadata": {
    "execution": {
     "iopub.execute_input": "2020-10-12T13:11:26.650021Z",
     "iopub.status.busy": "2020-10-12T13:11:26.649353Z",
     "iopub.status.idle": "2020-10-12T13:34:12.068360Z",
     "shell.execute_reply": "2020-10-12T13:34:12.066624Z"
    },
    "papermill": {
     "duration": 1365.448781,
     "end_time": "2020-10-12T13:34:12.068542",
     "exception": false,
     "start_time": "2020-10-12T13:11:26.619761",
     "status": "completed"
    },
    "tags": []
   },
   "outputs": [
    {
     "data": {
      "application/vnd.jupyter.widget-view+json": {
       "model_id": "95a6ad6a68df454680eaa96f479270ed",
       "version_major": 2,
       "version_minor": 0
      },
      "text/plain": [
       "HBox(children=(FloatProgress(value=0.0, max=206.0), HTML(value='')))"
      ]
     },
     "metadata": {},
     "output_type": "display_data"
    },
    {
     "name": "stderr",
     "output_type": "stream",
     "text": [
      "len(trt) : 17\n",
      "len(train_index) : 941\n",
      "len(valid_index) : 942\n",
      "================================= 1fold lightgbm =================================\n"
     ]
    },
    {
     "name": "stdout",
     "output_type": "stream",
     "text": [
      "Training until validation scores don't improve for 10 rounds\n",
      "[20]\ttraining's binary_logloss: 0.0127329\tvalid_1's binary_logloss: 0.025536\n",
      "[40]\ttraining's binary_logloss: 0.00647319\tvalid_1's binary_logloss: 0.0197212\n",
      "[60]\ttraining's binary_logloss: 0.00351071\tvalid_1's binary_logloss: 0.017282\n",
      "[80]\ttraining's binary_logloss: 0.00194887\tvalid_1's binary_logloss: 0.0161099\n",
      "[100]\ttraining's binary_logloss: 0.00110228\tvalid_1's binary_logloss: 0.0155468\n",
      "[120]\ttraining's binary_logloss: 0.000630162\tvalid_1's binary_logloss: 0.0152941\n",
      "[140]\ttraining's binary_logloss: 0.000362912\tvalid_1's binary_logloss: 0.0150606\n"
     ]
    },
    {
     "name": "stderr",
     "output_type": "stream",
     "text": [
      "len(train_index) : 942\n",
      "len(valid_index) : 941\n",
      "================================= 2fold lightgbm =================================\n"
     ]
    },
    {
     "name": "stdout",
     "output_type": "stream",
     "text": [
      "Early stopping, best iteration is:\n",
      "[139]\ttraining's binary_logloss: 0.000373289\tvalid_1's binary_logloss: 0.0149756\n",
      "Training until validation scores don't improve for 10 rounds\n",
      "[20]\ttraining's binary_logloss: 0.0141527\tvalid_1's binary_logloss: 0.0320084\n",
      "[40]\ttraining's binary_logloss: 0.00714112\tvalid_1's binary_logloss: 0.027153\n",
      "[60]\ttraining's binary_logloss: 0.00381644\tvalid_1's binary_logloss: 0.0242997\n",
      "[80]\ttraining's binary_logloss: 0.00209915\tvalid_1's binary_logloss: 0.023018\n",
      "[100]\ttraining's binary_logloss: 0.00117389\tvalid_1's binary_logloss: 0.0221573\n",
      "[120]\ttraining's binary_logloss: 0.00066198\tvalid_1's binary_logloss: 0.0216313\n",
      "[140]\ttraining's binary_logloss: 0.000375256\tvalid_1's binary_logloss: 0.0211131\n"
     ]
    },
    {
     "name": "stderr",
     "output_type": "stream",
     "text": [
      "5-alpha_reductase_inhibitor logloss: 0.017965523638020304\n",
      "=========================================================================================\n",
      "len(trt) : 18\n",
      "len(train_index) : 942\n",
      "len(valid_index) : 942\n",
      "================================= 1fold lightgbm =================================\n"
     ]
    },
    {
     "name": "stdout",
     "output_type": "stream",
     "text": [
      "Early stopping, best iteration is:\n",
      "[139]\ttraining's binary_logloss: 0.000386069\tvalid_1's binary_logloss: 0.0209586\n",
      "Training until validation scores don't improve for 10 rounds\n",
      "[20]\ttraining's binary_logloss: 0.0144702\tvalid_1's binary_logloss: 0.0359091\n",
      "[40]\ttraining's binary_logloss: 0.00744248\tvalid_1's binary_logloss: 0.0308459\n",
      "[60]\ttraining's binary_logloss: 0.00407033\tvalid_1's binary_logloss: 0.0276842\n",
      "[80]\ttraining's binary_logloss: 0.00226445\tvalid_1's binary_logloss: 0.0255835\n"
     ]
    },
    {
     "name": "stderr",
     "output_type": "stream",
     "text": [
      "len(train_index) : 942\n",
      "len(valid_index) : 942\n",
      "================================= 2fold lightgbm =================================\n"
     ]
    },
    {
     "name": "stdout",
     "output_type": "stream",
     "text": [
      "[100]\ttraining's binary_logloss: 0.00128141\tvalid_1's binary_logloss: 0.0250362\n",
      "Early stopping, best iteration is:\n",
      "[91]\ttraining's binary_logloss: 0.0016543\tvalid_1's binary_logloss: 0.024943\n",
      "Training until validation scores don't improve for 10 rounds\n",
      "[20]\ttraining's binary_logloss: 0.0144488\tvalid_1's binary_logloss: 0.0305704\n",
      "[40]\ttraining's binary_logloss: 0.00732943\tvalid_1's binary_logloss: 0.0249553\n",
      "[60]\ttraining's binary_logloss: 0.00399579\tvalid_1's binary_logloss: 0.0227724\n",
      "[80]\ttraining's binary_logloss: 0.00223559\tvalid_1's binary_logloss: 0.0216605\n",
      "[100]\ttraining's binary_logloss: 0.00126429\tvalid_1's binary_logloss: 0.0210081\n",
      "[120]\ttraining's binary_logloss: 0.000719766\tvalid_1's binary_logloss: 0.0204033\n"
     ]
    },
    {
     "name": "stderr",
     "output_type": "stream",
     "text": [
      "11-beta-hsd1_inhibitor logloss: 0.022579089166345476\n",
      "=========================================================================================\n",
      "len(trt) : 24\n",
      "len(train_index) : 945\n",
      "len(valid_index) : 945\n",
      "================================= 1fold lightgbm =================================\n"
     ]
    },
    {
     "name": "stdout",
     "output_type": "stream",
     "text": [
      "Early stopping, best iteration is:\n",
      "[127]\ttraining's binary_logloss: 0.000591163\tvalid_1's binary_logloss: 0.0202152\n",
      "Training until validation scores don't improve for 10 rounds\n",
      "[20]\ttraining's binary_logloss: 0.0211763\tvalid_1's binary_logloss: 0.0546339\n",
      "[40]\ttraining's binary_logloss: 0.0109268\tvalid_1's binary_logloss: 0.0533097\n",
      "[60]\ttraining's binary_logloss: 0.00601952\tvalid_1's binary_logloss: 0.0532787\n"
     ]
    },
    {
     "name": "stderr",
     "output_type": "stream",
     "text": [
      "len(train_index) : 945\n",
      "len(valid_index) : 945\n",
      "================================= 2fold lightgbm =================================\n"
     ]
    },
    {
     "name": "stdout",
     "output_type": "stream",
     "text": [
      "Early stopping, best iteration is:\n",
      "[58]\ttraining's binary_logloss: 0.0063757\tvalid_1's binary_logloss: 0.0531008\n",
      "Training until validation scores don't improve for 10 rounds\n",
      "[20]\ttraining's binary_logloss: 0.0222807\tvalid_1's binary_logloss: 0.0557061\n",
      "[40]\ttraining's binary_logloss: 0.011566\tvalid_1's binary_logloss: 0.0533692\n"
     ]
    },
    {
     "name": "stderr",
     "output_type": "stream",
     "text": [
      "acat_inhibitor logloss: 0.05321603432977849\n",
      "=========================================================================================\n",
      "len(trt) : 190\n",
      "len(train_index) : 1028\n",
      "len(valid_index) : 1028\n",
      "================================= 1fold lightgbm =================================\n"
     ]
    },
    {
     "name": "stdout",
     "output_type": "stream",
     "text": [
      "Early stopping, best iteration is:\n",
      "[39]\ttraining's binary_logloss: 0.0119181\tvalid_1's binary_logloss: 0.0533312\n",
      "Training until validation scores don't improve for 10 rounds\n",
      "[20]\ttraining's binary_logloss: 0.123859\tvalid_1's binary_logloss: 0.168877\n",
      "[40]\ttraining's binary_logloss: 0.066071\tvalid_1's binary_logloss: 0.118823\n",
      "[60]\ttraining's binary_logloss: 0.0368776\tvalid_1's binary_logloss: 0.0917994\n",
      "[80]\ttraining's binary_logloss: 0.0210901\tvalid_1's binary_logloss: 0.0756761\n",
      "[100]\ttraining's binary_logloss: 0.01216\tvalid_1's binary_logloss: 0.0654887\n",
      "[120]\ttraining's binary_logloss: 0.00707572\tvalid_1's binary_logloss: 0.0592863\n",
      "[140]\ttraining's binary_logloss: 0.00411063\tvalid_1's binary_logloss: 0.0555437\n",
      "[160]\ttraining's binary_logloss: 0.00240068\tvalid_1's binary_logloss: 0.0535113\n",
      "[180]\ttraining's binary_logloss: 0.00139635\tvalid_1's binary_logloss: 0.0524091\n",
      "[200]\ttraining's binary_logloss: 0.000813508\tvalid_1's binary_logloss: 0.051711\n",
      "[220]\ttraining's binary_logloss: 0.000477365\tvalid_1's binary_logloss: 0.0511238\n"
     ]
    },
    {
     "name": "stderr",
     "output_type": "stream",
     "text": [
      "len(train_index) : 1028\n",
      "len(valid_index) : 1028\n",
      "================================= 2fold lightgbm =================================\n"
     ]
    },
    {
     "name": "stdout",
     "output_type": "stream",
     "text": [
      "Early stopping, best iteration is:\n",
      "[228]\ttraining's binary_logloss: 0.000385236\tvalid_1's binary_logloss: 0.0507857\n",
      "Training until validation scores don't improve for 10 rounds\n",
      "[20]\ttraining's binary_logloss: 0.128611\tvalid_1's binary_logloss: 0.172601\n",
      "[40]\ttraining's binary_logloss: 0.0698443\tvalid_1's binary_logloss: 0.120124\n",
      "[60]\ttraining's binary_logloss: 0.0397973\tvalid_1's binary_logloss: 0.08856\n",
      "[80]\ttraining's binary_logloss: 0.0228668\tvalid_1's binary_logloss: 0.0709532\n",
      "[100]\ttraining's binary_logloss: 0.0133716\tvalid_1's binary_logloss: 0.0590616\n",
      "[120]\ttraining's binary_logloss: 0.00798487\tvalid_1's binary_logloss: 0.0517763\n",
      "[140]\ttraining's binary_logloss: 0.0047811\tvalid_1's binary_logloss: 0.0475949\n",
      "[160]\ttraining's binary_logloss: 0.00287582\tvalid_1's binary_logloss: 0.0445002\n",
      "[180]\ttraining's binary_logloss: 0.00172506\tvalid_1's binary_logloss: 0.0422459\n",
      "[200]\ttraining's binary_logloss: 0.00104003\tvalid_1's binary_logloss: 0.041683\n",
      "[220]\ttraining's binary_logloss: 0.000625777\tvalid_1's binary_logloss: 0.0406279\n",
      "[240]\ttraining's binary_logloss: 0.000378813\tvalid_1's binary_logloss: 0.0405196\n"
     ]
    },
    {
     "name": "stderr",
     "output_type": "stream",
     "text": [
      "acetylcholine_receptor_agonist logloss: 0.04555857439191136\n",
      "=========================================================================================\n",
      "len(trt) : 301\n",
      "len(train_index) : 1083\n",
      "len(valid_index) : 1084\n",
      "================================= 1fold lightgbm =================================\n"
     ]
    },
    {
     "name": "stdout",
     "output_type": "stream",
     "text": [
      "Early stopping, best iteration is:\n",
      "[244]\ttraining's binary_logloss: 0.000342174\tvalid_1's binary_logloss: 0.0403314\n",
      "Training until validation scores don't improve for 10 rounds\n",
      "[20]\ttraining's binary_logloss: 0.166131\tvalid_1's binary_logloss: 0.192204\n",
      "[40]\ttraining's binary_logloss: 0.0863078\tvalid_1's binary_logloss: 0.118652\n",
      "[60]\ttraining's binary_logloss: 0.0473545\tvalid_1's binary_logloss: 0.0809207\n",
      "[80]\ttraining's binary_logloss: 0.0267418\tvalid_1's binary_logloss: 0.0605825\n",
      "[100]\ttraining's binary_logloss: 0.0151673\tvalid_1's binary_logloss: 0.0465512\n",
      "[120]\ttraining's binary_logloss: 0.00868004\tvalid_1's binary_logloss: 0.0372986\n",
      "[140]\ttraining's binary_logloss: 0.0049555\tvalid_1's binary_logloss: 0.031381\n",
      "[160]\ttraining's binary_logloss: 0.00284456\tvalid_1's binary_logloss: 0.0281965\n",
      "[180]\ttraining's binary_logloss: 0.00163745\tvalid_1's binary_logloss: 0.0258739\n",
      "[200]\ttraining's binary_logloss: 0.000942277\tvalid_1's binary_logloss: 0.0240433\n",
      "[220]\ttraining's binary_logloss: 0.000544179\tvalid_1's binary_logloss: 0.0231654\n",
      "[240]\ttraining's binary_logloss: 0.000313409\tvalid_1's binary_logloss: 0.0222409\n",
      "[260]\ttraining's binary_logloss: 0.000180642\tvalid_1's binary_logloss: 0.0214768\n"
     ]
    },
    {
     "name": "stderr",
     "output_type": "stream",
     "text": [
      "len(train_index) : 1084\n",
      "len(valid_index) : 1083\n",
      "================================= 2fold lightgbm =================================\n"
     ]
    },
    {
     "name": "stdout",
     "output_type": "stream",
     "text": [
      "[280]\ttraining's binary_logloss: 0.000104194\tvalid_1's binary_logloss: 0.0210725\n",
      "Early stopping, best iteration is:\n",
      "[273]\ttraining's binary_logloss: 0.000126203\tvalid_1's binary_logloss: 0.021044\n",
      "Training until validation scores don't improve for 10 rounds\n",
      "[20]\ttraining's binary_logloss: 0.173886\tvalid_1's binary_logloss: 0.192117\n",
      "[40]\ttraining's binary_logloss: 0.0931803\tvalid_1's binary_logloss: 0.116653\n",
      "[60]\ttraining's binary_logloss: 0.0518236\tvalid_1's binary_logloss: 0.0761474\n",
      "[80]\ttraining's binary_logloss: 0.0297439\tvalid_1's binary_logloss: 0.0534037\n",
      "[100]\ttraining's binary_logloss: 0.0172707\tvalid_1's binary_logloss: 0.0394504\n",
      "[120]\ttraining's binary_logloss: 0.0100474\tvalid_1's binary_logloss: 0.0304119\n",
      "[140]\ttraining's binary_logloss: 0.00592181\tvalid_1's binary_logloss: 0.0245902\n",
      "[160]\ttraining's binary_logloss: 0.00347976\tvalid_1's binary_logloss: 0.0203508\n",
      "[180]\ttraining's binary_logloss: 0.00206105\tvalid_1's binary_logloss: 0.0173508\n",
      "[200]\ttraining's binary_logloss: 0.00122016\tvalid_1's binary_logloss: 0.0155038\n",
      "[220]\ttraining's binary_logloss: 0.000722093\tvalid_1's binary_logloss: 0.0135001\n",
      "[240]\ttraining's binary_logloss: 0.000426258\tvalid_1's binary_logloss: 0.012252\n",
      "[260]\ttraining's binary_logloss: 0.000252926\tvalid_1's binary_logloss: 0.011329\n",
      "[280]\ttraining's binary_logloss: 0.000149646\tvalid_1's binary_logloss: 0.00998227\n",
      "[300]\ttraining's binary_logloss: 8.83141e-05\tvalid_1's binary_logloss: 0.00914683\n",
      "[320]\ttraining's binary_logloss: 5.22057e-05\tvalid_1's binary_logloss: 0.0083768\n",
      "[340]\ttraining's binary_logloss: 3.11603e-05\tvalid_1's binary_logloss: 0.00781244\n",
      "[360]\ttraining's binary_logloss: 1.87223e-05\tvalid_1's binary_logloss: 0.00702174\n",
      "[380]\ttraining's binary_logloss: 1.14365e-05\tvalid_1's binary_logloss: 0.00640194\n",
      "[400]\ttraining's binary_logloss: 7.36094e-06\tvalid_1's binary_logloss: 0.00610627\n",
      "[420]\ttraining's binary_logloss: 5.27965e-06\tvalid_1's binary_logloss: 0.00587953\n",
      "[440]\ttraining's binary_logloss: 4.24471e-06\tvalid_1's binary_logloss: 0.00565749\n",
      "Early stopping, best iteration is:\n",
      "[443]\ttraining's binary_logloss: 4.12702e-06\tvalid_1's binary_logloss: 0.00558993\n"
     ]
    },
    {
     "name": "stderr",
     "output_type": "stream",
     "text": [
      "acetylcholine_receptor_antagonist logloss: 0.013320547545008624\n",
      "=========================================================================================\n",
      "len(trt) : 73\n",
      "len(train_index) : 969\n",
      "len(valid_index) : 970\n",
      "================================= 1fold lightgbm =================================\n"
     ]
    },
    {
     "name": "stdout",
     "output_type": "stream",
     "text": [
      "Training until validation scores don't improve for 10 rounds\n",
      "[20]\ttraining's binary_logloss: 0.054136\tvalid_1's binary_logloss: 0.0853856\n",
      "[40]\ttraining's binary_logloss: 0.0290439\tvalid_1's binary_logloss: 0.065619\n",
      "[60]\ttraining's binary_logloss: 0.0165487\tvalid_1's binary_logloss: 0.0554527\n",
      "[80]\ttraining's binary_logloss: 0.00950461\tvalid_1's binary_logloss: 0.0481939\n",
      "[100]\ttraining's binary_logloss: 0.00556389\tvalid_1's binary_logloss: 0.0444394\n",
      "[120]\ttraining's binary_logloss: 0.00326151\tvalid_1's binary_logloss: 0.0418918\n",
      "[140]\ttraining's binary_logloss: 0.00192241\tvalid_1's binary_logloss: 0.0394947\n",
      "[160]\ttraining's binary_logloss: 0.00113617\tvalid_1's binary_logloss: 0.0378868\n",
      "[180]\ttraining's binary_logloss: 0.000674079\tvalid_1's binary_logloss: 0.0367231\n"
     ]
    },
    {
     "name": "stderr",
     "output_type": "stream",
     "text": [
      "len(train_index) : 970\n",
      "len(valid_index) : 969\n",
      "================================= 2fold lightgbm =================================\n"
     ]
    },
    {
     "name": "stdout",
     "output_type": "stream",
     "text": [
      "Early stopping, best iteration is:\n",
      "[180]\ttraining's binary_logloss: 0.000674079\tvalid_1's binary_logloss: 0.0367231\n",
      "Training until validation scores don't improve for 10 rounds\n",
      "[20]\ttraining's binary_logloss: 0.0547408\tvalid_1's binary_logloss: 0.0830404\n",
      "[40]\ttraining's binary_logloss: 0.0286672\tvalid_1's binary_logloss: 0.0631002\n",
      "[60]\ttraining's binary_logloss: 0.0161388\tvalid_1's binary_logloss: 0.0525335\n",
      "[80]\ttraining's binary_logloss: 0.00926942\tvalid_1's binary_logloss: 0.0468025\n",
      "[100]\ttraining's binary_logloss: 0.00539443\tvalid_1's binary_logloss: 0.0441505\n",
      "[120]\ttraining's binary_logloss: 0.00312724\tvalid_1's binary_logloss: 0.0424987\n",
      "[140]\ttraining's binary_logloss: 0.00181557\tvalid_1's binary_logloss: 0.0417214\n",
      "[160]\ttraining's binary_logloss: 0.00107417\tvalid_1's binary_logloss: 0.0412975\n"
     ]
    },
    {
     "name": "stderr",
     "output_type": "stream",
     "text": [
      "acetylcholinesterase_inhibitor logloss: 0.03893476703889938\n",
      "=========================================================================================\n",
      "len(trt) : 54\n",
      "len(train_index) : 960\n",
      "len(valid_index) : 960\n",
      "================================= 1fold lightgbm =================================\n"
     ]
    },
    {
     "name": "stdout",
     "output_type": "stream",
     "text": [
      "[180]\ttraining's binary_logloss: 0.000633243\tvalid_1's binary_logloss: 0.0413863\n",
      "Early stopping, best iteration is:\n",
      "[170]\ttraining's binary_logloss: 0.000822528\tvalid_1's binary_logloss: 0.0411487\n",
      "Training until validation scores don't improve for 10 rounds\n",
      "[20]\ttraining's binary_logloss: 0.0455753\tvalid_1's binary_logloss: 0.0874941\n",
      "[40]\ttraining's binary_logloss: 0.0247538\tvalid_1's binary_logloss: 0.0727627\n",
      "[60]\ttraining's binary_logloss: 0.0140257\tvalid_1's binary_logloss: 0.0635953\n",
      "[80]\ttraining's binary_logloss: 0.00815848\tvalid_1's binary_logloss: 0.0593259\n",
      "[100]\ttraining's binary_logloss: 0.00482378\tvalid_1's binary_logloss: 0.0578011\n"
     ]
    },
    {
     "name": "stderr",
     "output_type": "stream",
     "text": [
      "len(train_index) : 960\n",
      "len(valid_index) : 960\n",
      "================================= 2fold lightgbm =================================\n"
     ]
    },
    {
     "name": "stdout",
     "output_type": "stream",
     "text": [
      "Early stopping, best iteration is:\n",
      "[100]\ttraining's binary_logloss: 0.00482378\tvalid_1's binary_logloss: 0.0578011\n",
      "Training until validation scores don't improve for 10 rounds\n",
      "[20]\ttraining's binary_logloss: 0.0443016\tvalid_1's binary_logloss: 0.0884592\n",
      "[40]\ttraining's binary_logloss: 0.0236046\tvalid_1's binary_logloss: 0.0771937\n",
      "[60]\ttraining's binary_logloss: 0.0133025\tvalid_1's binary_logloss: 0.0727525\n",
      "[80]\ttraining's binary_logloss: 0.00769572\tvalid_1's binary_logloss: 0.071617\n",
      "Early stopping, best iteration is:\n",
      "[76]\ttraining's binary_logloss: 0.00858094\tvalid_1's binary_logloss: 0.0714028\n"
     ]
    },
    {
     "name": "stderr",
     "output_type": "stream",
     "text": [
      "adenosine_receptor_agonist logloss: 0.06460195302283062\n",
      "=========================================================================================\n",
      "len(trt) : 96\n",
      "len(train_index) : 981\n",
      "len(valid_index) : 981\n",
      "================================= 1fold lightgbm =================================\n"
     ]
    },
    {
     "name": "stdout",
     "output_type": "stream",
     "text": [
      "Training until validation scores don't improve for 10 rounds\n",
      "[20]\ttraining's binary_logloss: 0.0705055\tvalid_1's binary_logloss: 0.109868\n",
      "[40]\ttraining's binary_logloss: 0.0373635\tvalid_1's binary_logloss: 0.0833104\n",
      "[60]\ttraining's binary_logloss: 0.0206737\tvalid_1's binary_logloss: 0.0676168\n",
      "[80]\ttraining's binary_logloss: 0.0116703\tvalid_1's binary_logloss: 0.0588186\n",
      "[100]\ttraining's binary_logloss: 0.00665819\tvalid_1's binary_logloss: 0.0551136\n",
      "[120]\ttraining's binary_logloss: 0.00384035\tvalid_1's binary_logloss: 0.0526733\n",
      "[140]\ttraining's binary_logloss: 0.00222356\tvalid_1's binary_logloss: 0.0521873\n",
      "Early stopping, best iteration is:\n",
      "[138]\ttraining's binary_logloss: 0.00235106\tvalid_1's binary_logloss: 0.0520836\n"
     ]
    },
    {
     "name": "stderr",
     "output_type": "stream",
     "text": [
      "len(train_index) : 981\n",
      "len(valid_index) : 981\n",
      "================================= 2fold lightgbm =================================\n"
     ]
    },
    {
     "name": "stdout",
     "output_type": "stream",
     "text": [
      "Training until validation scores don't improve for 10 rounds\n",
      "[20]\ttraining's binary_logloss: 0.0712437\tvalid_1's binary_logloss: 0.100442\n",
      "[40]\ttraining's binary_logloss: 0.0372706\tvalid_1's binary_logloss: 0.0764655\n",
      "[60]\ttraining's binary_logloss: 0.0206443\tvalid_1's binary_logloss: 0.0643568\n",
      "[80]\ttraining's binary_logloss: 0.0116034\tvalid_1's binary_logloss: 0.0575696\n",
      "[100]\ttraining's binary_logloss: 0.00662995\tvalid_1's binary_logloss: 0.0536643\n",
      "[120]\ttraining's binary_logloss: 0.00379911\tvalid_1's binary_logloss: 0.0521018\n"
     ]
    },
    {
     "name": "stderr",
     "output_type": "stream",
     "text": [
      "adenosine_receptor_antagonist logloss: 0.05192013455014018\n",
      "=========================================================================================\n",
      "len(trt) : 12\n",
      "len(train_index) : 939\n",
      "len(valid_index) : 939\n",
      "================================= 1fold lightgbm =================================\n"
     ]
    },
    {
     "name": "stdout",
     "output_type": "stream",
     "text": [
      "Early stopping, best iteration is:\n",
      "[123]\ttraining's binary_logloss: 0.00349594\tvalid_1's binary_logloss: 0.0517567\n",
      "Training until validation scores don't improve for 10 rounds\n",
      "[20]\ttraining's binary_logloss: 0.00984315\tvalid_1's binary_logloss: 0.0225381\n",
      "[40]\ttraining's binary_logloss: 0.00496294\tvalid_1's binary_logloss: 0.0213716\n"
     ]
    },
    {
     "name": "stderr",
     "output_type": "stream",
     "text": [
      "len(train_index) : 939\n",
      "len(valid_index) : 939\n",
      "================================= 2fold lightgbm =================================\n"
     ]
    },
    {
     "name": "stdout",
     "output_type": "stream",
     "text": [
      "Early stopping, best iteration is:\n",
      "[45]\ttraining's binary_logloss: 0.00424585\tvalid_1's binary_logloss: 0.0211762\n",
      "Training until validation scores don't improve for 10 rounds\n",
      "[20]\ttraining's binary_logloss: 0.00936195\tvalid_1's binary_logloss: 0.0263607\n",
      "[40]\ttraining's binary_logloss: 0.00469422\tvalid_1's binary_logloss: 0.0241234\n",
      "[60]\ttraining's binary_logloss: 0.00251679\tvalid_1's binary_logloss: 0.0227756\n"
     ]
    },
    {
     "name": "stderr",
     "output_type": "stream",
     "text": [
      "adenylyl_cyclase_activator logloss: 0.021725674482650836\n",
      "=========================================================================================\n",
      "len(trt) : 270\n",
      "len(train_index) : 1068\n",
      "len(valid_index) : 1068\n",
      "================================= 1fold lightgbm =================================\n"
     ]
    },
    {
     "name": "stdout",
     "output_type": "stream",
     "text": [
      "[80]\ttraining's binary_logloss: 0.00138238\tvalid_1's binary_logloss: 0.022586\n",
      "Early stopping, best iteration is:\n",
      "[71]\ttraining's binary_logloss: 0.00180706\tvalid_1's binary_logloss: 0.0222752\n",
      "Training until validation scores don't improve for 10 rounds\n",
      "[20]\ttraining's binary_logloss: 0.157685\tvalid_1's binary_logloss: 0.178344\n",
      "[40]\ttraining's binary_logloss: 0.0835906\tvalid_1's binary_logloss: 0.110484\n",
      "[60]\ttraining's binary_logloss: 0.0469944\tvalid_1's binary_logloss: 0.0757872\n",
      "[80]\ttraining's binary_logloss: 0.0267418\tvalid_1's binary_logloss: 0.0553364\n",
      "[100]\ttraining's binary_logloss: 0.0154201\tvalid_1's binary_logloss: 0.0429203\n",
      "[120]\ttraining's binary_logloss: 0.00892666\tvalid_1's binary_logloss: 0.035306\n",
      "[140]\ttraining's binary_logloss: 0.00518506\tvalid_1's binary_logloss: 0.0312843\n",
      "[160]\ttraining's binary_logloss: 0.00303276\tvalid_1's binary_logloss: 0.029484\n",
      "[180]\ttraining's binary_logloss: 0.00177033\tvalid_1's binary_logloss: 0.0281699\n",
      "[200]\ttraining's binary_logloss: 0.0010399\tvalid_1's binary_logloss: 0.0272411\n",
      "[220]\ttraining's binary_logloss: 0.000604729\tvalid_1's binary_logloss: 0.0268247\n",
      "[240]\ttraining's binary_logloss: 0.000350693\tvalid_1's binary_logloss: 0.0265302\n",
      "[260]\ttraining's binary_logloss: 0.000204433\tvalid_1's binary_logloss: 0.0259964\n",
      "[280]\ttraining's binary_logloss: 0.000119105\tvalid_1's binary_logloss: 0.0252261\n",
      "[300]\ttraining's binary_logloss: 6.9866e-05\tvalid_1's binary_logloss: 0.0244978\n"
     ]
    },
    {
     "name": "stderr",
     "output_type": "stream",
     "text": [
      "len(train_index) : 1068\n",
      "len(valid_index) : 1068\n",
      "================================= 2fold lightgbm =================================\n"
     ]
    },
    {
     "name": "stdout",
     "output_type": "stream",
     "text": [
      "[320]\ttraining's binary_logloss: 4.09792e-05\tvalid_1's binary_logloss: 0.0243026\n",
      "Early stopping, best iteration is:\n",
      "[313]\ttraining's binary_logloss: 4.93142e-05\tvalid_1's binary_logloss: 0.0242056\n",
      "Training until validation scores don't improve for 10 rounds\n",
      "[20]\ttraining's binary_logloss: 0.157855\tvalid_1's binary_logloss: 0.203751\n",
      "[40]\ttraining's binary_logloss: 0.0844769\tvalid_1's binary_logloss: 0.142617\n",
      "[60]\ttraining's binary_logloss: 0.0477612\tvalid_1's binary_logloss: 0.107108\n",
      "[80]\ttraining's binary_logloss: 0.0273274\tvalid_1's binary_logloss: 0.0829229\n",
      "[100]\ttraining's binary_logloss: 0.0157746\tvalid_1's binary_logloss: 0.0677665\n",
      "[120]\ttraining's binary_logloss: 0.00914797\tvalid_1's binary_logloss: 0.0563113\n",
      "[140]\ttraining's binary_logloss: 0.00532152\tvalid_1's binary_logloss: 0.0496775\n",
      "[160]\ttraining's binary_logloss: 0.00311418\tvalid_1's binary_logloss: 0.0456269\n",
      "[180]\ttraining's binary_logloss: 0.00181843\tvalid_1's binary_logloss: 0.0427365\n",
      "[200]\ttraining's binary_logloss: 0.00105088\tvalid_1's binary_logloss: 0.0400838\n",
      "[220]\ttraining's binary_logloss: 0.000609755\tvalid_1's binary_logloss: 0.0378018\n",
      "[240]\ttraining's binary_logloss: 0.000353625\tvalid_1's binary_logloss: 0.0345078\n",
      "[260]\ttraining's binary_logloss: 0.000204733\tvalid_1's binary_logloss: 0.0327733\n",
      "[280]\ttraining's binary_logloss: 0.000118823\tvalid_1's binary_logloss: 0.0308916\n",
      "[300]\ttraining's binary_logloss: 6.89462e-05\tvalid_1's binary_logloss: 0.0298333\n",
      "[320]\ttraining's binary_logloss: 4.01851e-05\tvalid_1's binary_logloss: 0.0287059\n",
      "Early stopping, best iteration is:\n",
      "[317]\ttraining's binary_logloss: 4.3575e-05\tvalid_1's binary_logloss: 0.0284213\n"
     ]
    },
    {
     "name": "stderr",
     "output_type": "stream",
     "text": [
      "adrenergic_receptor_agonist logloss: 0.026313460187128566\n",
      "=========================================================================================\n",
      "len(trt) : 360\n",
      "len(train_index) : 1113\n",
      "len(valid_index) : 1113\n",
      "================================= 1fold lightgbm =================================\n"
     ]
    },
    {
     "name": "stdout",
     "output_type": "stream",
     "text": [
      "Training until validation scores don't improve for 10 rounds\n",
      "[20]\ttraining's binary_logloss: 0.192173\tvalid_1's binary_logloss: 0.233039\n",
      "[40]\ttraining's binary_logloss: 0.103488\tvalid_1's binary_logloss: 0.157055\n",
      "[60]\ttraining's binary_logloss: 0.0580985\tvalid_1's binary_logloss: 0.113962\n",
      "[80]\ttraining's binary_logloss: 0.0332504\tvalid_1's binary_logloss: 0.0894135\n",
      "[100]\ttraining's binary_logloss: 0.0193242\tvalid_1's binary_logloss: 0.0750076\n",
      "[120]\ttraining's binary_logloss: 0.0112937\tvalid_1's binary_logloss: 0.0660459\n",
      "[140]\ttraining's binary_logloss: 0.00661748\tvalid_1's binary_logloss: 0.0586746\n",
      "[160]\ttraining's binary_logloss: 0.00389621\tvalid_1's binary_logloss: 0.0546744\n",
      "[180]\ttraining's binary_logloss: 0.00229717\tvalid_1's binary_logloss: 0.0519811\n",
      "[200]\ttraining's binary_logloss: 0.00135709\tvalid_1's binary_logloss: 0.0498208\n",
      "[220]\ttraining's binary_logloss: 0.000802945\tvalid_1's binary_logloss: 0.0481426\n",
      "[240]\ttraining's binary_logloss: 0.000473406\tvalid_1's binary_logloss: 0.0469335\n",
      "[260]\ttraining's binary_logloss: 0.000281807\tvalid_1's binary_logloss: 0.0459329\n",
      "[280]\ttraining's binary_logloss: 0.000167131\tvalid_1's binary_logloss: 0.0451697\n",
      "Early stopping, best iteration is:\n",
      "[279]\ttraining's binary_logloss: 0.000171568\tvalid_1's binary_logloss: 0.0451079\n"
     ]
    },
    {
     "name": "stderr",
     "output_type": "stream",
     "text": [
      "len(train_index) : 1113\n",
      "len(valid_index) : 1113\n",
      "================================= 2fold lightgbm =================================\n"
     ]
    },
    {
     "name": "stdout",
     "output_type": "stream",
     "text": [
      "Training until validation scores don't improve for 10 rounds\n",
      "[20]\ttraining's binary_logloss: 0.192042\tvalid_1's binary_logloss: 0.215633\n",
      "[40]\ttraining's binary_logloss: 0.103065\tvalid_1's binary_logloss: 0.13243\n",
      "[60]\ttraining's binary_logloss: 0.0582934\tvalid_1's binary_logloss: 0.0888831\n",
      "[80]\ttraining's binary_logloss: 0.0336789\tvalid_1's binary_logloss: 0.063418\n",
      "[100]\ttraining's binary_logloss: 0.0196775\tvalid_1's binary_logloss: 0.0478619\n",
      "[120]\ttraining's binary_logloss: 0.0115872\tvalid_1's binary_logloss: 0.0377049\n",
      "[140]\ttraining's binary_logloss: 0.00689425\tvalid_1's binary_logloss: 0.0312006\n",
      "[160]\ttraining's binary_logloss: 0.0040699\tvalid_1's binary_logloss: 0.0270739\n",
      "[180]\ttraining's binary_logloss: 0.00241269\tvalid_1's binary_logloss: 0.0238735\n",
      "[200]\ttraining's binary_logloss: 0.00143479\tvalid_1's binary_logloss: 0.0219066\n",
      "[220]\ttraining's binary_logloss: 0.000855153\tvalid_1's binary_logloss: 0.0206071\n",
      "[240]\ttraining's binary_logloss: 0.000510166\tvalid_1's binary_logloss: 0.0200303\n",
      "[260]\ttraining's binary_logloss: 0.000304858\tvalid_1's binary_logloss: 0.0194565\n",
      "[280]\ttraining's binary_logloss: 0.000181319\tvalid_1's binary_logloss: 0.0192821\n",
      "Early stopping, best iteration is:\n",
      "[274]\ttraining's binary_logloss: 0.000211947\tvalid_1's binary_logloss: 0.0191771\n"
     ]
    },
    {
     "name": "stderr",
     "output_type": "stream",
     "text": [
      "adrenergic_receptor_antagonist logloss: 0.032142502967458145\n",
      "=========================================================================================\n",
      "len(trt) : 66\n",
      "len(train_index) : 966\n",
      "len(valid_index) : 966\n",
      "================================= 1fold lightgbm =================================\n"
     ]
    },
    {
     "name": "stdout",
     "output_type": "stream",
     "text": [
      "Training until validation scores don't improve for 10 rounds\n",
      "[20]\ttraining's binary_logloss: 0.0459456\tvalid_1's binary_logloss: 0.0762237\n",
      "[40]\ttraining's binary_logloss: 0.0233333\tvalid_1's binary_logloss: 0.0589156\n",
      "[60]\ttraining's binary_logloss: 0.0125941\tvalid_1's binary_logloss: 0.0512809\n",
      "[80]\ttraining's binary_logloss: 0.00697142\tvalid_1's binary_logloss: 0.0474426\n",
      "[100]\ttraining's binary_logloss: 0.00390796\tvalid_1's binary_logloss: 0.0459281\n",
      "[120]\ttraining's binary_logloss: 0.00220483\tvalid_1's binary_logloss: 0.0443967\n",
      "[140]\ttraining's binary_logloss: 0.00125008\tvalid_1's binary_logloss: 0.0432687\n"
     ]
    },
    {
     "name": "stderr",
     "output_type": "stream",
     "text": [
      "len(train_index) : 966\n",
      "len(valid_index) : 966\n",
      "================================= 2fold lightgbm =================================\n"
     ]
    },
    {
     "name": "stdout",
     "output_type": "stream",
     "text": [
      "[160]\ttraining's binary_logloss: 0.000709847\tvalid_1's binary_logloss: 0.0431389\n",
      "Early stopping, best iteration is:\n",
      "[150]\ttraining's binary_logloss: 0.000944087\tvalid_1's binary_logloss: 0.0427572\n",
      "Training until validation scores don't improve for 10 rounds\n",
      "[20]\ttraining's binary_logloss: 0.0462226\tvalid_1's binary_logloss: 0.0666056\n",
      "[40]\ttraining's binary_logloss: 0.0236837\tvalid_1's binary_logloss: 0.0509792\n",
      "[60]\ttraining's binary_logloss: 0.0129332\tvalid_1's binary_logloss: 0.0433942\n",
      "[80]\ttraining's binary_logloss: 0.00719971\tvalid_1's binary_logloss: 0.041194\n",
      "[100]\ttraining's binary_logloss: 0.00403777\tvalid_1's binary_logloss: 0.0399693\n"
     ]
    },
    {
     "name": "stderr",
     "output_type": "stream",
     "text": [
      "akt_inhibitor logloss: 0.041120070235164265\n",
      "=========================================================================================\n",
      "len(trt) : 7\n",
      "len(train_index) : 936\n",
      "len(valid_index) : 937\n",
      "================================= 1fold lightgbm =================================\n"
     ]
    },
    {
     "name": "stdout",
     "output_type": "stream",
     "text": [
      "[120]\ttraining's binary_logloss: 0.00227157\tvalid_1's binary_logloss: 0.0397976\n",
      "Early stopping, best iteration is:\n",
      "[113]\ttraining's binary_logloss: 0.00277432\tvalid_1's binary_logloss: 0.0394829\n",
      "Training until validation scores don't improve for 10 rounds\n",
      "[20]\ttraining's binary_logloss: 0.00548479\tvalid_1's binary_logloss: 0.0146449\n",
      "[40]\ttraining's binary_logloss: 0.00271639\tvalid_1's binary_logloss: 0.0116485\n",
      "[60]\ttraining's binary_logloss: 0.00146308\tvalid_1's binary_logloss: 0.0104354\n"
     ]
    },
    {
     "name": "stderr",
     "output_type": "stream",
     "text": [
      "len(train_index) : 937\n",
      "len(valid_index) : 936\n",
      "================================= 2fold lightgbm =================================\n"
     ]
    },
    {
     "name": "stdout",
     "output_type": "stream",
     "text": [
      "Early stopping, best iteration is:\n",
      "[66]\ttraining's binary_logloss: 0.00122708\tvalid_1's binary_logloss: 0.00984137\n",
      "Training until validation scores don't improve for 10 rounds\n",
      "[20]\ttraining's binary_logloss: 0.00678818\tvalid_1's binary_logloss: 0.00792488\n",
      "[40]\ttraining's binary_logloss: 0.00339036\tvalid_1's binary_logloss: 0.0055578\n",
      "[60]\ttraining's binary_logloss: 0.00181546\tvalid_1's binary_logloss: 0.00437431\n",
      "[80]\ttraining's binary_logloss: 0.000998562\tvalid_1's binary_logloss: 0.00351688\n",
      "[100]\ttraining's binary_logloss: 0.000555736\tvalid_1's binary_logloss: 0.00315927\n",
      "[120]\ttraining's binary_logloss: 0.000310998\tvalid_1's binary_logloss: 0.00292643\n"
     ]
    },
    {
     "name": "stderr",
     "output_type": "stream",
     "text": [
      "aldehyde_dehydrogenase_inhibitor logloss: 0.006285582737304305\n",
      "=========================================================================================\n",
      "len(trt) : 42\n",
      "len(train_index) : 954\n",
      "len(valid_index) : 954\n",
      "================================= 1fold lightgbm =================================\n"
     ]
    },
    {
     "name": "stdout",
     "output_type": "stream",
     "text": [
      "Early stopping, best iteration is:\n",
      "[124]\ttraining's binary_logloss: 0.000277176\tvalid_1's binary_logloss: 0.002726\n",
      "Training until validation scores don't improve for 10 rounds\n",
      "[20]\ttraining's binary_logloss: 0.0332121\tvalid_1's binary_logloss: 0.0676824\n",
      "[40]\ttraining's binary_logloss: 0.0168766\tvalid_1's binary_logloss: 0.057248\n",
      "[60]\ttraining's binary_logloss: 0.00900892\tvalid_1's binary_logloss: 0.0538783\n",
      "[80]\ttraining's binary_logloss: 0.00498735\tvalid_1's binary_logloss: 0.0521699\n",
      "[100]\ttraining's binary_logloss: 0.00283238\tvalid_1's binary_logloss: 0.0500691\n",
      "[120]\ttraining's binary_logloss: 0.00162304\tvalid_1's binary_logloss: 0.0493969\n",
      "Early stopping, best iteration is:\n",
      "[118]\ttraining's binary_logloss: 0.00171844\tvalid_1's binary_logloss: 0.0491931\n"
     ]
    },
    {
     "name": "stderr",
     "output_type": "stream",
     "text": [
      "len(train_index) : 954\n",
      "len(valid_index) : 954\n",
      "================================= 2fold lightgbm =================================\n"
     ]
    },
    {
     "name": "stdout",
     "output_type": "stream",
     "text": [
      "Training until validation scores don't improve for 10 rounds\n",
      "[20]\ttraining's binary_logloss: 0.0339964\tvalid_1's binary_logloss: 0.053354\n",
      "[40]\ttraining's binary_logloss: 0.0176115\tvalid_1's binary_logloss: 0.0415344\n",
      "[60]\ttraining's binary_logloss: 0.00976398\tvalid_1's binary_logloss: 0.0361343\n",
      "[80]\ttraining's binary_logloss: 0.00554306\tvalid_1's binary_logloss: 0.0333428\n",
      "[100]\ttraining's binary_logloss: 0.00318137\tvalid_1's binary_logloss: 0.0312479\n",
      "[120]\ttraining's binary_logloss: 0.00183621\tvalid_1's binary_logloss: 0.0305459\n"
     ]
    },
    {
     "name": "stderr",
     "output_type": "stream",
     "text": [
      "alk_inhibitor logloss: 0.03974128128591717\n",
      "=========================================================================================\n",
      "len(trt) : 12\n",
      "len(train_index) : 939\n",
      "len(valid_index) : 939\n",
      "================================= 1fold lightgbm =================================\n"
     ]
    },
    {
     "name": "stdout",
     "output_type": "stream",
     "text": [
      "Early stopping, best iteration is:\n",
      "[124]\ttraining's binary_logloss: 0.00164971\tvalid_1's binary_logloss: 0.0302895\n",
      "Training until validation scores don't improve for 10 rounds\n",
      "[20]\ttraining's binary_logloss: 0.0105065\tvalid_1's binary_logloss: 0.0309607\n",
      "[40]\ttraining's binary_logloss: 0.00539883\tvalid_1's binary_logloss: 0.0305431\n"
     ]
    },
    {
     "name": "stderr",
     "output_type": "stream",
     "text": [
      "len(train_index) : 939\n",
      "len(valid_index) : 939\n",
      "================================= 2fold lightgbm =================================\n"
     ]
    },
    {
     "name": "stdout",
     "output_type": "stream",
     "text": [
      "[60]\ttraining's binary_logloss: 0.00297224\tvalid_1's binary_logloss: 0.0310496\n",
      "Early stopping, best iteration is:\n",
      "[52]\ttraining's binary_logloss: 0.00376399\tvalid_1's binary_logloss: 0.0303114\n",
      "Training until validation scores don't improve for 10 rounds\n",
      "[20]\ttraining's binary_logloss: 0.0103165\tvalid_1's binary_logloss: 0.0336086\n"
     ]
    },
    {
     "name": "stderr",
     "output_type": "stream",
     "text": [
      "ampk_activator logloss: 0.03170110185349635\n",
      "=========================================================================================\n"
     ]
    },
    {
     "name": "stdout",
     "output_type": "stream",
     "text": [
      "[40]\ttraining's binary_logloss: 0.00545266\tvalid_1's binary_logloss: 0.0331848\n",
      "Early stopping, best iteration is:\n",
      "[36]\ttraining's binary_logloss: 0.00613635\tvalid_1's binary_logloss: 0.0330908\n"
     ]
    },
    {
     "name": "stderr",
     "output_type": "stream",
     "text": [
      "len(trt) : 12\n",
      "len(train_index) : 939\n",
      "len(valid_index) : 939\n",
      "================================= 1fold lightgbm =================================\n"
     ]
    },
    {
     "name": "stdout",
     "output_type": "stream",
     "text": [
      "Training until validation scores don't improve for 10 rounds\n",
      "[20]\ttraining's binary_logloss: 0.0105433\tvalid_1's binary_logloss: 0.0313766\n"
     ]
    },
    {
     "name": "stderr",
     "output_type": "stream",
     "text": [
      "len(train_index) : 939\n",
      "len(valid_index) : 939\n",
      "================================= 2fold lightgbm =================================\n"
     ]
    },
    {
     "name": "stdout",
     "output_type": "stream",
     "text": [
      "[40]\ttraining's binary_logloss: 0.00553895\tvalid_1's binary_logloss: 0.031347\n",
      "Early stopping, best iteration is:\n",
      "[30]\ttraining's binary_logloss: 0.00754643\tvalid_1's binary_logloss: 0.0310261\n",
      "Training until validation scores don't improve for 10 rounds\n",
      "[20]\ttraining's binary_logloss: 0.010113\tvalid_1's binary_logloss: 0.0257558\n"
     ]
    },
    {
     "name": "stderr",
     "output_type": "stream",
     "text": [
      "analgesic logloss: 0.027970890849867976\n",
      "=========================================================================================\n",
      "len(trt) : 48\n",
      "len(train_index) : 957\n",
      "len(valid_index) : 957\n",
      "================================= 1fold lightgbm =================================\n"
     ]
    },
    {
     "name": "stdout",
     "output_type": "stream",
     "text": [
      "[40]\ttraining's binary_logloss: 0.00521256\tvalid_1's binary_logloss: 0.0251646\n",
      "Early stopping, best iteration is:\n",
      "[31]\ttraining's binary_logloss: 0.0069482\tvalid_1's binary_logloss: 0.0249157\n",
      "Training until validation scores don't improve for 10 rounds\n",
      "[20]\ttraining's binary_logloss: 0.040561\tvalid_1's binary_logloss: 0.0661962\n",
      "[40]\ttraining's binary_logloss: 0.0209611\tvalid_1's binary_logloss: 0.0531118\n",
      "[60]\ttraining's binary_logloss: 0.0115635\tvalid_1's binary_logloss: 0.0452473\n",
      "[80]\ttraining's binary_logloss: 0.00660013\tvalid_1's binary_logloss: 0.0412454\n",
      "[100]\ttraining's binary_logloss: 0.00380312\tvalid_1's binary_logloss: 0.0403599\n"
     ]
    },
    {
     "name": "stderr",
     "output_type": "stream",
     "text": [
      "len(train_index) : 957\n",
      "len(valid_index) : 957\n",
      "================================= 2fold lightgbm =================================\n"
     ]
    },
    {
     "name": "stdout",
     "output_type": "stream",
     "text": [
      "Early stopping, best iteration is:\n",
      "[103]\ttraining's binary_logloss: 0.003509\tvalid_1's binary_logloss: 0.0397907\n",
      "Training until validation scores don't improve for 10 rounds\n",
      "[20]\ttraining's binary_logloss: 0.0411462\tvalid_1's binary_logloss: 0.0723335\n",
      "[40]\ttraining's binary_logloss: 0.0215899\tvalid_1's binary_logloss: 0.060717\n",
      "[60]\ttraining's binary_logloss: 0.0121405\tvalid_1's binary_logloss: 0.0549323\n",
      "[80]\ttraining's binary_logloss: 0.00697684\tvalid_1's binary_logloss: 0.052408\n",
      "Early stopping, best iteration is:\n",
      "[77]\ttraining's binary_logloss: 0.00757121\tvalid_1's binary_logloss: 0.0522555\n"
     ]
    },
    {
     "name": "stderr",
     "output_type": "stream",
     "text": [
      "androgen_receptor_agonist logloss: 0.04602312019037998\n",
      "=========================================================================================\n",
      "len(trt) : 89\n",
      "len(train_index) : 977\n",
      "len(valid_index) : 978\n",
      "================================= 1fold lightgbm =================================\n"
     ]
    },
    {
     "name": "stdout",
     "output_type": "stream",
     "text": [
      "Training until validation scores don't improve for 10 rounds\n",
      "[20]\ttraining's binary_logloss: 0.0648704\tvalid_1's binary_logloss: 0.0994889\n",
      "[40]\ttraining's binary_logloss: 0.0341039\tvalid_1's binary_logloss: 0.0753394\n",
      "[60]\ttraining's binary_logloss: 0.0191396\tvalid_1's binary_logloss: 0.0636323\n",
      "[80]\ttraining's binary_logloss: 0.0108218\tvalid_1's binary_logloss: 0.0577233\n",
      "[100]\ttraining's binary_logloss: 0.00621073\tvalid_1's binary_logloss: 0.0543607\n",
      "[120]\ttraining's binary_logloss: 0.00359893\tvalid_1's binary_logloss: 0.0525772\n"
     ]
    },
    {
     "name": "stderr",
     "output_type": "stream",
     "text": [
      "len(train_index) : 978\n",
      "len(valid_index) : 977\n",
      "================================= 2fold lightgbm =================================\n"
     ]
    },
    {
     "name": "stdout",
     "output_type": "stream",
     "text": [
      "Early stopping, best iteration is:\n",
      "[129]\ttraining's binary_logloss: 0.00281682\tvalid_1's binary_logloss: 0.0521788\n",
      "Training until validation scores don't improve for 10 rounds\n",
      "[20]\ttraining's binary_logloss: 0.0669001\tvalid_1's binary_logloss: 0.0970193\n",
      "[40]\ttraining's binary_logloss: 0.0354949\tvalid_1's binary_logloss: 0.0764148\n",
      "[60]\ttraining's binary_logloss: 0.0196836\tvalid_1's binary_logloss: 0.0648965\n",
      "[80]\ttraining's binary_logloss: 0.011122\tvalid_1's binary_logloss: 0.0568247\n",
      "[100]\ttraining's binary_logloss: 0.00637969\tvalid_1's binary_logloss: 0.0520693\n",
      "[120]\ttraining's binary_logloss: 0.00367915\tvalid_1's binary_logloss: 0.0496236\n",
      "[140]\ttraining's binary_logloss: 0.00213093\tvalid_1's binary_logloss: 0.0480296\n",
      "[160]\ttraining's binary_logloss: 0.00123622\tvalid_1's binary_logloss: 0.0473563\n",
      "Early stopping, best iteration is:\n",
      "[156]\ttraining's binary_logloss: 0.00137733\tvalid_1's binary_logloss: 0.0472996\n"
     ]
    },
    {
     "name": "stderr",
     "output_type": "stream",
     "text": [
      "androgen_receptor_antagonist logloss: 0.04974045058961784\n",
      "=========================================================================================\n",
      "len(trt) : 80\n",
      "len(train_index) : 973\n",
      "len(valid_index) : 973\n",
      "================================= 1fold lightgbm =================================\n"
     ]
    },
    {
     "name": "stdout",
     "output_type": "stream",
     "text": [
      "Training until validation scores don't improve for 10 rounds\n",
      "[20]\ttraining's binary_logloss: 0.0598936\tvalid_1's binary_logloss: 0.0980184\n",
      "[40]\ttraining's binary_logloss: 0.0310757\tvalid_1's binary_logloss: 0.0725618\n",
      "[60]\ttraining's binary_logloss: 0.0171404\tvalid_1's binary_logloss: 0.0598877\n",
      "[80]\ttraining's binary_logloss: 0.00958658\tvalid_1's binary_logloss: 0.0521147\n",
      "[100]\ttraining's binary_logloss: 0.00542321\tvalid_1's binary_logloss: 0.0468326\n",
      "[120]\ttraining's binary_logloss: 0.00307619\tvalid_1's binary_logloss: 0.0437126\n",
      "[140]\ttraining's binary_logloss: 0.00176436\tvalid_1's binary_logloss: 0.0411766\n",
      "[160]\ttraining's binary_logloss: 0.00101527\tvalid_1's binary_logloss: 0.0395643\n"
     ]
    },
    {
     "name": "stderr",
     "output_type": "stream",
     "text": [
      "len(train_index) : 973\n",
      "len(valid_index) : 973\n",
      "================================= 2fold lightgbm =================================\n"
     ]
    },
    {
     "name": "stdout",
     "output_type": "stream",
     "text": [
      "Early stopping, best iteration is:\n",
      "[161]\ttraining's binary_logloss: 0.000987013\tvalid_1's binary_logloss: 0.0393716\n",
      "Training until validation scores don't improve for 10 rounds\n",
      "[20]\ttraining's binary_logloss: 0.0583555\tvalid_1's binary_logloss: 0.0920588\n",
      "[40]\ttraining's binary_logloss: 0.0303879\tvalid_1's binary_logloss: 0.0688413\n",
      "[60]\ttraining's binary_logloss: 0.0166808\tvalid_1's binary_logloss: 0.0593648\n",
      "[80]\ttraining's binary_logloss: 0.00941068\tvalid_1's binary_logloss: 0.0547274\n",
      "[100]\ttraining's binary_logloss: 0.00534396\tvalid_1's binary_logloss: 0.0519885\n",
      "[120]\ttraining's binary_logloss: 0.00307372\tvalid_1's binary_logloss: 0.0493187\n",
      "[140]\ttraining's binary_logloss: 0.00176734\tvalid_1's binary_logloss: 0.0477758\n",
      "[160]\ttraining's binary_logloss: 0.00100834\tvalid_1's binary_logloss: 0.047345\n",
      "Early stopping, best iteration is:\n",
      "[156]\ttraining's binary_logloss: 0.00112954\tvalid_1's binary_logloss: 0.0472594\n"
     ]
    },
    {
     "name": "stderr",
     "output_type": "stream",
     "text": [
      "anesthetic_-_local logloss: 0.043315528953261705\n",
      "=========================================================================================\n",
      "len(trt) : 36\n",
      "len(train_index) : 951\n",
      "len(valid_index) : 951\n",
      "================================= 1fold lightgbm =================================\n"
     ]
    },
    {
     "name": "stdout",
     "output_type": "stream",
     "text": [
      "Training until validation scores don't improve for 10 rounds\n",
      "[20]\ttraining's binary_logloss: 0.0308509\tvalid_1's binary_logloss: 0.0682937\n",
      "[40]\ttraining's binary_logloss: 0.0162684\tvalid_1's binary_logloss: 0.0595056\n",
      "[60]\ttraining's binary_logloss: 0.00911493\tvalid_1's binary_logloss: 0.0571684\n"
     ]
    },
    {
     "name": "stderr",
     "output_type": "stream",
     "text": [
      "len(train_index) : 951\n",
      "len(valid_index) : 951\n",
      "================================= 2fold lightgbm =================================\n"
     ]
    },
    {
     "name": "stdout",
     "output_type": "stream",
     "text": [
      "Early stopping, best iteration is:\n",
      "[67]\ttraining's binary_logloss: 0.00750592\tvalid_1's binary_logloss: 0.056736\n",
      "Training until validation scores don't improve for 10 rounds\n",
      "[20]\ttraining's binary_logloss: 0.0312206\tvalid_1's binary_logloss: 0.0629504\n",
      "[40]\ttraining's binary_logloss: 0.016477\tvalid_1's binary_logloss: 0.0554642\n",
      "[60]\ttraining's binary_logloss: 0.00932918\tvalid_1's binary_logloss: 0.0518098\n"
     ]
    },
    {
     "name": "stderr",
     "output_type": "stream",
     "text": [
      "angiogenesis_inhibitor logloss: 0.054041170886842085\n",
      "=========================================================================================\n"
     ]
    },
    {
     "name": "stdout",
     "output_type": "stream",
     "text": [
      "[80]\ttraining's binary_logloss: 0.00535211\tvalid_1's binary_logloss: 0.0520329\n",
      "Early stopping, best iteration is:\n",
      "[75]\ttraining's binary_logloss: 0.00616076\tvalid_1's binary_logloss: 0.0513464\n"
     ]
    },
    {
     "name": "stderr",
     "output_type": "stream",
     "text": [
      "len(trt) : 37\n",
      "len(train_index) : 951\n",
      "len(valid_index) : 952\n",
      "================================= 1fold lightgbm =================================\n"
     ]
    },
    {
     "name": "stdout",
     "output_type": "stream",
     "text": [
      "Training until validation scores don't improve for 10 rounds\n",
      "[20]\ttraining's binary_logloss: 0.0308246\tvalid_1's binary_logloss: 0.054547\n",
      "[40]\ttraining's binary_logloss: 0.0164863\tvalid_1's binary_logloss: 0.0449158\n",
      "[60]\ttraining's binary_logloss: 0.00918738\tvalid_1's binary_logloss: 0.0402251\n",
      "[80]\ttraining's binary_logloss: 0.00518738\tvalid_1's binary_logloss: 0.0378769\n"
     ]
    },
    {
     "name": "stderr",
     "output_type": "stream",
     "text": [
      "len(train_index) : 952\n",
      "len(valid_index) : 951\n",
      "================================= 2fold lightgbm =================================\n"
     ]
    },
    {
     "name": "stdout",
     "output_type": "stream",
     "text": [
      "Early stopping, best iteration is:\n",
      "[85]\ttraining's binary_logloss: 0.00450982\tvalid_1's binary_logloss: 0.0376579\n",
      "Training until validation scores don't improve for 10 rounds\n",
      "[20]\ttraining's binary_logloss: 0.0315393\tvalid_1's binary_logloss: 0.0545554\n",
      "[40]\ttraining's binary_logloss: 0.0163291\tvalid_1's binary_logloss: 0.046516\n",
      "[60]\ttraining's binary_logloss: 0.00890651\tvalid_1's binary_logloss: 0.0417671\n",
      "[80]\ttraining's binary_logloss: 0.0049967\tvalid_1's binary_logloss: 0.0397565\n",
      "[100]\ttraining's binary_logloss: 0.00284575\tvalid_1's binary_logloss: 0.0394102\n"
     ]
    },
    {
     "name": "stderr",
     "output_type": "stream",
     "text": [
      "angiotensin_receptor_antagonist logloss: 0.03839783794696592\n",
      "=========================================================================================\n",
      "len(trt) : 73\n",
      "len(train_index) : 969\n",
      "len(valid_index) : 970\n",
      "================================= 1fold lightgbm =================================\n"
     ]
    },
    {
     "name": "stdout",
     "output_type": "stream",
     "text": [
      "Early stopping, best iteration is:\n",
      "[104]\ttraining's binary_logloss: 0.00254749\tvalid_1's binary_logloss: 0.0391386\n",
      "Training until validation scores don't improve for 10 rounds\n",
      "[20]\ttraining's binary_logloss: 0.0541393\tvalid_1's binary_logloss: 0.0777918\n",
      "[40]\ttraining's binary_logloss: 0.0285748\tvalid_1's binary_logloss: 0.060581\n",
      "[60]\ttraining's binary_logloss: 0.0158868\tvalid_1's binary_logloss: 0.0529492\n",
      "[80]\ttraining's binary_logloss: 0.00903584\tvalid_1's binary_logloss: 0.0488212\n",
      "[100]\ttraining's binary_logloss: 0.00524818\tvalid_1's binary_logloss: 0.0461311\n",
      "[120]\ttraining's binary_logloss: 0.0030849\tvalid_1's binary_logloss: 0.0447339\n"
     ]
    },
    {
     "name": "stderr",
     "output_type": "stream",
     "text": [
      "len(train_index) : 970\n",
      "len(valid_index) : 969\n",
      "================================= 2fold lightgbm =================================\n"
     ]
    },
    {
     "name": "stdout",
     "output_type": "stream",
     "text": [
      "[140]\ttraining's binary_logloss: 0.00180539\tvalid_1's binary_logloss: 0.0438359\n",
      "Early stopping, best iteration is:\n",
      "[134]\ttraining's binary_logloss: 0.00212653\tvalid_1's binary_logloss: 0.0435864\n",
      "Training until validation scores don't improve for 10 rounds\n",
      "[20]\ttraining's binary_logloss: 0.0550846\tvalid_1's binary_logloss: 0.08401\n",
      "[40]\ttraining's binary_logloss: 0.0285455\tvalid_1's binary_logloss: 0.0671004\n",
      "[60]\ttraining's binary_logloss: 0.01566\tvalid_1's binary_logloss: 0.0581013\n",
      "[80]\ttraining's binary_logloss: 0.00878691\tvalid_1's binary_logloss: 0.0518499\n",
      "[100]\ttraining's binary_logloss: 0.00503544\tvalid_1's binary_logloss: 0.0491316\n"
     ]
    },
    {
     "name": "stderr",
     "output_type": "stream",
     "text": [
      "anti-inflammatory logloss: 0.045998839878187994\n",
      "=========================================================================================\n",
      "len(trt) : 6\n",
      "len(train_index) : 936\n",
      "len(valid_index) : 936\n",
      "================================= 1fold lightgbm =================================\n"
     ]
    },
    {
     "name": "stdout",
     "output_type": "stream",
     "text": [
      "Early stopping, best iteration is:\n",
      "[109]\ttraining's binary_logloss: 0.00393082\tvalid_1's binary_logloss: 0.0484138\n",
      "Training until validation scores don't improve for 10 rounds\n",
      "[20]\ttraining's binary_logloss: 0.00524028\tvalid_1's binary_logloss: 0.0182809\n"
     ]
    },
    {
     "name": "stderr",
     "output_type": "stream",
     "text": [
      "len(train_index) : 936\n",
      "len(valid_index) : 936\n",
      "================================= 2fold lightgbm =================================\n"
     ]
    },
    {
     "name": "stdout",
     "output_type": "stream",
     "text": [
      "Early stopping, best iteration is:\n",
      "[28]\ttraining's binary_logloss: 0.00389283\tvalid_1's binary_logloss: 0.0177961\n",
      "Training until validation scores don't improve for 10 rounds\n",
      "[20]\ttraining's binary_logloss: 0.00513231\tvalid_1's binary_logloss: 0.0147804\n",
      "[40]\ttraining's binary_logloss: 0.00255369\tvalid_1's binary_logloss: 0.0136558\n"
     ]
    },
    {
     "name": "stderr",
     "output_type": "stream",
     "text": [
      "antiarrhythmic logloss: 0.015662493784286118\n",
      "=========================================================================================\n",
      "len(trt) : 43\n",
      "len(train_index) : 954\n",
      "len(valid_index) : 955\n"
     ]
    },
    {
     "name": "stdout",
     "output_type": "stream",
     "text": [
      "[60]\ttraining's binary_logloss: 0.00136959\tvalid_1's binary_logloss: 0.0136196\n",
      "Early stopping, best iteration is:\n",
      "[54]\ttraining's binary_logloss: 0.00164309\tvalid_1's binary_logloss: 0.0135289\n"
     ]
    },
    {
     "name": "stderr",
     "output_type": "stream",
     "text": [
      "================================= 1fold lightgbm =================================\n"
     ]
    },
    {
     "name": "stdout",
     "output_type": "stream",
     "text": [
      "Training until validation scores don't improve for 10 rounds\n",
      "[20]\ttraining's binary_logloss: 0.0361401\tvalid_1's binary_logloss: 0.072129\n",
      "[40]\ttraining's binary_logloss: 0.0192832\tvalid_1's binary_logloss: 0.0610486\n",
      "[60]\ttraining's binary_logloss: 0.0109607\tvalid_1's binary_logloss: 0.0563983\n",
      "[80]\ttraining's binary_logloss: 0.00635785\tvalid_1's binary_logloss: 0.0540152\n",
      "[100]\ttraining's binary_logloss: 0.00372543\tvalid_1's binary_logloss: 0.0533079\n"
     ]
    },
    {
     "name": "stderr",
     "output_type": "stream",
     "text": [
      "len(train_index) : 955\n",
      "len(valid_index) : 954\n",
      "================================= 2fold lightgbm =================================\n"
     ]
    },
    {
     "name": "stdout",
     "output_type": "stream",
     "text": [
      "Early stopping, best iteration is:\n",
      "[103]\ttraining's binary_logloss: 0.00344412\tvalid_1's binary_logloss: 0.0531131\n",
      "Training until validation scores don't improve for 10 rounds\n",
      "[20]\ttraining's binary_logloss: 0.0389445\tvalid_1's binary_logloss: 0.0723685\n",
      "[40]\ttraining's binary_logloss: 0.0205055\tvalid_1's binary_logloss: 0.0628628\n",
      "[60]\ttraining's binary_logloss: 0.0114864\tvalid_1's binary_logloss: 0.0587901\n",
      "[80]\ttraining's binary_logloss: 0.00660041\tvalid_1's binary_logloss: 0.0568569\n"
     ]
    },
    {
     "name": "stderr",
     "output_type": "stream",
     "text": [
      "antibiotic logloss: 0.05486713597641626\n",
      "=========================================================================================\n",
      "len(trt) : 12\n",
      "len(train_index) : 939\n",
      "len(valid_index) : 939\n",
      "================================= 1fold lightgbm =================================\n"
     ]
    },
    {
     "name": "stdout",
     "output_type": "stream",
     "text": [
      "Early stopping, best iteration is:\n",
      "[87]\ttraining's binary_logloss: 0.0054312\tvalid_1's binary_logloss: 0.056623\n",
      "Training until validation scores don't improve for 10 rounds\n",
      "[20]\ttraining's binary_logloss: 0.00928087\tvalid_1's binary_logloss: 0.0291942\n"
     ]
    },
    {
     "name": "stderr",
     "output_type": "stream",
     "text": [
      "len(train_index) : 939\n",
      "len(valid_index) : 939\n",
      "================================= 2fold lightgbm =================================\n"
     ]
    },
    {
     "name": "stdout",
     "output_type": "stream",
     "text": [
      "[40]\ttraining's binary_logloss: 0.00470854\tvalid_1's binary_logloss: 0.0282839\n",
      "Early stopping, best iteration is:\n",
      "[36]\ttraining's binary_logloss: 0.00535665\tvalid_1's binary_logloss: 0.0281152\n",
      "Training until validation scores don't improve for 10 rounds\n",
      "[20]\ttraining's binary_logloss: 0.00940356\tvalid_1's binary_logloss: 0.025114\n",
      "[40]\ttraining's binary_logloss: 0.00480279\tvalid_1's binary_logloss: 0.0230952\n",
      "[60]\ttraining's binary_logloss: 0.00259971\tvalid_1's binary_logloss: 0.0224417\n"
     ]
    },
    {
     "name": "stderr",
     "output_type": "stream",
     "text": [
      "anticonvulsant logloss: 0.025260268720646514\n",
      "=========================================================================================\n",
      "len(trt) : 13\n",
      "len(train_index) : 939\n",
      "len(valid_index) : 940\n",
      "================================= 1fold lightgbm =================================\n"
     ]
    },
    {
     "name": "stdout",
     "output_type": "stream",
     "text": [
      "Early stopping, best iteration is:\n",
      "[66]\ttraining's binary_logloss: 0.00217336\tvalid_1's binary_logloss: 0.0224054\n",
      "Training until validation scores don't improve for 10 rounds\n",
      "[20]\ttraining's binary_logloss: 0.00959892\tvalid_1's binary_logloss: 0.0242057\n",
      "[40]\ttraining's binary_logloss: 0.00493811\tvalid_1's binary_logloss: 0.0221013\n",
      "[60]\ttraining's binary_logloss: 0.00270381\tvalid_1's binary_logloss: 0.0217706\n"
     ]
    },
    {
     "name": "stderr",
     "output_type": "stream",
     "text": [
      "len(train_index) : 940\n",
      "len(valid_index) : 939\n",
      "================================= 2fold lightgbm =================================\n"
     ]
    },
    {
     "name": "stdout",
     "output_type": "stream",
     "text": [
      "Early stopping, best iteration is:\n",
      "[62]\ttraining's binary_logloss: 0.00254875\tvalid_1's binary_logloss: 0.0216117\n",
      "Training until validation scores don't improve for 10 rounds\n",
      "[20]\ttraining's binary_logloss: 0.0110002\tvalid_1's binary_logloss: 0.0217205\n",
      "[40]\ttraining's binary_logloss: 0.0056064\tvalid_1's binary_logloss: 0.0187581\n",
      "[60]\ttraining's binary_logloss: 0.00305095\tvalid_1's binary_logloss: 0.0180719\n"
     ]
    },
    {
     "name": "stderr",
     "output_type": "stream",
     "text": [
      "antifungal logloss: 0.019621697154691073\n",
      "=========================================================================================\n",
      "len(trt) : 12\n",
      "len(train_index) : 939\n",
      "len(valid_index) : 939\n",
      "================================= 1fold lightgbm =================================\n"
     ]
    },
    {
     "name": "stdout",
     "output_type": "stream",
     "text": [
      "Early stopping, best iteration is:\n",
      "[69]\ttraining's binary_logloss: 0.00234311\tvalid_1's binary_logloss: 0.0176295\n",
      "Training until validation scores don't improve for 10 rounds\n",
      "[20]\ttraining's binary_logloss: 0.0103512\tvalid_1's binary_logloss: 0.0340258\n"
     ]
    },
    {
     "name": "stderr",
     "output_type": "stream",
     "text": [
      "len(train_index) : 939\n",
      "len(valid_index) : 939\n",
      "================================= 2fold lightgbm =================================\n"
     ]
    },
    {
     "name": "stdout",
     "output_type": "stream",
     "text": [
      "Early stopping, best iteration is:\n",
      "[29]\ttraining's binary_logloss: 0.00755562\tvalid_1's binary_logloss: 0.0334053\n",
      "Training until validation scores don't improve for 10 rounds\n"
     ]
    },
    {
     "name": "stderr",
     "output_type": "stream",
     "text": [
      "antihistamine logloss: 0.03520398038346468\n",
      "=========================================================================================\n",
      "len(trt) : 18\n",
      "len(train_index) : 942\n",
      "len(valid_index) : 942\n",
      "================================= 1fold lightgbm =================================\n"
     ]
    },
    {
     "name": "stdout",
     "output_type": "stream",
     "text": [
      "Early stopping, best iteration is:\n",
      "[4]\ttraining's binary_logloss: 0.0225116\tvalid_1's binary_logloss: 0.0370027\n",
      "Training until validation scores don't improve for 10 rounds\n",
      "[20]\ttraining's binary_logloss: 0.0156785\tvalid_1's binary_logloss: 0.0384983\n",
      "[40]\ttraining's binary_logloss: 0.00820528\tvalid_1's binary_logloss: 0.035188\n",
      "[60]\ttraining's binary_logloss: 0.00453716\tvalid_1's binary_logloss: 0.0343062\n"
     ]
    },
    {
     "name": "stderr",
     "output_type": "stream",
     "text": [
      "len(train_index) : 942\n",
      "len(valid_index) : 942\n"
     ]
    },
    {
     "name": "stdout",
     "output_type": "stream",
     "text": [
      "Early stopping, best iteration is:\n",
      "[58]\ttraining's binary_logloss: 0.00481966\tvalid_1's binary_logloss: 0.0342294\n"
     ]
    },
    {
     "name": "stderr",
     "output_type": "stream",
     "text": [
      "================================= 2fold lightgbm =================================\n"
     ]
    },
    {
     "name": "stdout",
     "output_type": "stream",
     "text": [
      "Training until validation scores don't improve for 10 rounds\n",
      "[20]\ttraining's binary_logloss: 0.0152895\tvalid_1's binary_logloss: 0.0359168\n",
      "[40]\ttraining's binary_logloss: 0.00797455\tvalid_1's binary_logloss: 0.0329248\n",
      "[60]\ttraining's binary_logloss: 0.00436908\tvalid_1's binary_logloss: 0.0314512\n"
     ]
    },
    {
     "name": "stderr",
     "output_type": "stream",
     "text": [
      "antimalarial logloss: 0.03256726410922148\n",
      "=========================================================================================\n"
     ]
    },
    {
     "name": "stdout",
     "output_type": "stream",
     "text": [
      "[80]\ttraining's binary_logloss: 0.0024623\tvalid_1's binary_logloss: 0.0315137\n",
      "Early stopping, best iteration is:\n",
      "[72]\ttraining's binary_logloss: 0.00309002\tvalid_1's binary_logloss: 0.0309052\n"
     ]
    },
    {
     "name": "stderr",
     "output_type": "stream",
     "text": [
      "len(trt) : 73\n",
      "len(train_index) : 969\n",
      "len(valid_index) : 970\n",
      "================================= 1fold lightgbm =================================\n"
     ]
    },
    {
     "name": "stdout",
     "output_type": "stream",
     "text": [
      "Training until validation scores don't improve for 10 rounds\n",
      "[20]\ttraining's binary_logloss: 0.0543548\tvalid_1's binary_logloss: 0.0844137\n",
      "[40]\ttraining's binary_logloss: 0.0282969\tvalid_1's binary_logloss: 0.0654189\n",
      "[60]\ttraining's binary_logloss: 0.0156539\tvalid_1's binary_logloss: 0.0578417\n",
      "[80]\ttraining's binary_logloss: 0.00893404\tvalid_1's binary_logloss: 0.0539521\n",
      "[100]\ttraining's binary_logloss: 0.00515749\tvalid_1's binary_logloss: 0.0524645\n"
     ]
    },
    {
     "name": "stderr",
     "output_type": "stream",
     "text": [
      "len(train_index) : 970\n",
      "len(valid_index) : 969\n",
      "================================= 2fold lightgbm =================================\n"
     ]
    },
    {
     "name": "stdout",
     "output_type": "stream",
     "text": [
      "Early stopping, best iteration is:\n",
      "[100]\ttraining's binary_logloss: 0.00515749\tvalid_1's binary_logloss: 0.0524645\n",
      "Training until validation scores don't improve for 10 rounds\n",
      "[20]\ttraining's binary_logloss: 0.0562473\tvalid_1's binary_logloss: 0.0815709\n",
      "[40]\ttraining's binary_logloss: 0.0292773\tvalid_1's binary_logloss: 0.0645201\n",
      "[60]\ttraining's binary_logloss: 0.0160943\tvalid_1's binary_logloss: 0.0551578\n",
      "[80]\ttraining's binary_logloss: 0.00907016\tvalid_1's binary_logloss: 0.0482354\n",
      "[100]\ttraining's binary_logloss: 0.00518554\tvalid_1's binary_logloss: 0.0438353\n",
      "[120]\ttraining's binary_logloss: 0.00298743\tvalid_1's binary_logloss: 0.0418105\n",
      "[140]\ttraining's binary_logloss: 0.00172859\tvalid_1's binary_logloss: 0.0403704\n",
      "[160]\ttraining's binary_logloss: 0.00099958\tvalid_1's binary_logloss: 0.0389163\n",
      "[180]\ttraining's binary_logloss: 0.000582335\tvalid_1's binary_logloss: 0.0380256\n",
      "[200]\ttraining's binary_logloss: 0.000341108\tvalid_1's binary_logloss: 0.0373818\n",
      "[220]\ttraining's binary_logloss: 0.000199875\tvalid_1's binary_logloss: 0.036775\n",
      "[240]\ttraining's binary_logloss: 0.000117159\tvalid_1's binary_logloss: 0.0363101\n"
     ]
    },
    {
     "name": "stderr",
     "output_type": "stream",
     "text": [
      "antioxidant logloss: 0.044391470833437974\n",
      "=========================================================================================\n",
      "len(trt) : 36\n",
      "len(train_index) : 951\n",
      "len(valid_index) : 951\n",
      "================================= 1fold lightgbm =================================\n"
     ]
    },
    {
     "name": "stdout",
     "output_type": "stream",
     "text": [
      "Early stopping, best iteration is:\n",
      "[240]\ttraining's binary_logloss: 0.000117159\tvalid_1's binary_logloss: 0.0363101\n",
      "Training until validation scores don't improve for 10 rounds\n",
      "[20]\ttraining's binary_logloss: 0.0299056\tvalid_1's binary_logloss: 0.0656429\n",
      "[40]\ttraining's binary_logloss: 0.0156411\tvalid_1's binary_logloss: 0.0578088\n",
      "[60]\ttraining's binary_logloss: 0.00871684\tvalid_1's binary_logloss: 0.0539536\n",
      "[80]\ttraining's binary_logloss: 0.00489879\tvalid_1's binary_logloss: 0.0525096\n"
     ]
    },
    {
     "name": "stderr",
     "output_type": "stream",
     "text": [
      "len(train_index) : 951\n",
      "len(valid_index) : 951\n",
      "================================= 2fold lightgbm =================================\n"
     ]
    },
    {
     "name": "stdout",
     "output_type": "stream",
     "text": [
      "[100]\ttraining's binary_logloss: 0.00280779\tvalid_1's binary_logloss: 0.0525797\n",
      "Early stopping, best iteration is:\n",
      "[91]\ttraining's binary_logloss: 0.00360568\tvalid_1's binary_logloss: 0.0522054\n",
      "Training until validation scores don't improve for 10 rounds\n",
      "[20]\ttraining's binary_logloss: 0.0312376\tvalid_1's binary_logloss: 0.0612122\n",
      "[40]\ttraining's binary_logloss: 0.0163311\tvalid_1's binary_logloss: 0.0543865\n",
      "[60]\ttraining's binary_logloss: 0.00910984\tvalid_1's binary_logloss: 0.05227\n"
     ]
    },
    {
     "name": "stderr",
     "output_type": "stream",
     "text": [
      "antiprotozoal logloss: 0.05199236700362859\n",
      "=========================================================================================\n",
      "len(trt) : 23\n",
      "len(train_index) : 944\n",
      "len(valid_index) : 945\n",
      "================================= 1fold lightgbm =================================\n"
     ]
    },
    {
     "name": "stdout",
     "output_type": "stream",
     "text": [
      "Early stopping, best iteration is:\n",
      "[65]\ttraining's binary_logloss: 0.00791885\tvalid_1's binary_logloss: 0.0517793\n",
      "Training until validation scores don't improve for 10 rounds\n",
      "[20]\ttraining's binary_logloss: 0.0184507\tvalid_1's binary_logloss: 0.0509401\n",
      "[40]\ttraining's binary_logloss: 0.00948551\tvalid_1's binary_logloss: 0.0455119\n"
     ]
    },
    {
     "name": "stderr",
     "output_type": "stream",
     "text": [
      "len(train_index) : 945\n",
      "len(valid_index) : 944\n",
      "================================= 2fold lightgbm =================================\n"
     ]
    },
    {
     "name": "stdout",
     "output_type": "stream",
     "text": [
      "[60]\ttraining's binary_logloss: 0.00520124\tvalid_1's binary_logloss: 0.0447898\n",
      "Early stopping, best iteration is:\n",
      "[50]\ttraining's binary_logloss: 0.00700079\tvalid_1's binary_logloss: 0.0442907\n",
      "Training until validation scores don't improve for 10 rounds\n",
      "[20]\ttraining's binary_logloss: 0.0198894\tvalid_1's binary_logloss: 0.0444499\n",
      "[40]\ttraining's binary_logloss: 0.0103454\tvalid_1's binary_logloss: 0.0390096\n",
      "[60]\ttraining's binary_logloss: 0.00571733\tvalid_1's binary_logloss: 0.0371719\n",
      "[80]\ttraining's binary_logloss: 0.00325105\tvalid_1's binary_logloss: 0.0367038\n",
      "Early stopping, best iteration is:\n",
      "[74]\ttraining's binary_logloss: 0.00384826\tvalid_1's binary_logloss: 0.0365304\n"
     ]
    },
    {
     "name": "stderr",
     "output_type": "stream",
     "text": [
      "antiviral logloss: 0.04041262190597891\n",
      "=========================================================================================\n",
      "len(trt) : 49\n",
      "len(train_index) : 957\n",
      "len(valid_index) : 958\n",
      "================================= 1fold lightgbm =================================\n"
     ]
    },
    {
     "name": "stdout",
     "output_type": "stream",
     "text": [
      "Training until validation scores don't improve for 10 rounds\n",
      "[20]\ttraining's binary_logloss: 0.0401979\tvalid_1's binary_logloss: 0.0741608\n",
      "[40]\ttraining's binary_logloss: 0.0215147\tvalid_1's binary_logloss: 0.0629523\n",
      "[60]\ttraining's binary_logloss: 0.0122498\tvalid_1's binary_logloss: 0.0571702\n",
      "[80]\ttraining's binary_logloss: 0.00716952\tvalid_1's binary_logloss: 0.053527\n",
      "[100]\ttraining's binary_logloss: 0.00422228\tvalid_1's binary_logloss: 0.0506033\n",
      "[120]\ttraining's binary_logloss: 0.00249967\tvalid_1's binary_logloss: 0.0488855\n",
      "[140]\ttraining's binary_logloss: 0.00149533\tvalid_1's binary_logloss: 0.0479911\n",
      "Early stopping, best iteration is:\n",
      "[139]\ttraining's binary_logloss: 0.00153293\tvalid_1's binary_logloss: 0.0477836\n"
     ]
    },
    {
     "name": "stderr",
     "output_type": "stream",
     "text": [
      "len(train_index) : 958\n",
      "len(valid_index) : 957\n",
      "================================= 2fold lightgbm =================================\n"
     ]
    },
    {
     "name": "stdout",
     "output_type": "stream",
     "text": [
      "Training until validation scores don't improve for 10 rounds\n",
      "[20]\ttraining's binary_logloss: 0.0428232\tvalid_1's binary_logloss: 0.0727743\n",
      "[40]\ttraining's binary_logloss: 0.0226514\tvalid_1's binary_logloss: 0.0607615\n",
      "[60]\ttraining's binary_logloss: 0.0127257\tvalid_1's binary_logloss: 0.0552882\n",
      "[80]\ttraining's binary_logloss: 0.00739549\tvalid_1's binary_logloss: 0.0529663\n",
      "[100]\ttraining's binary_logloss: 0.00431405\tvalid_1's binary_logloss: 0.0522113\n"
     ]
    },
    {
     "name": "stderr",
     "output_type": "stream",
     "text": [
      "apoptosis_stimulant logloss: 0.04984903995143181\n",
      "=========================================================================================\n",
      "len(trt) : 47\n",
      "len(train_index) : 956\n",
      "len(valid_index) : 957\n"
     ]
    },
    {
     "name": "stdout",
     "output_type": "stream",
     "text": [
      "[120]\ttraining's binary_logloss: 0.0025348\tvalid_1's binary_logloss: 0.0525577\n",
      "Early stopping, best iteration is:\n",
      "[112]\ttraining's binary_logloss: 0.00314419\tvalid_1's binary_logloss: 0.0519166\n"
     ]
    },
    {
     "name": "stderr",
     "output_type": "stream",
     "text": [
      "================================= 1fold lightgbm =================================\n"
     ]
    },
    {
     "name": "stdout",
     "output_type": "stream",
     "text": [
      "Training until validation scores don't improve for 10 rounds\n",
      "[20]\ttraining's binary_logloss: 0.038142\tvalid_1's binary_logloss: 0.0816634\n",
      "[40]\ttraining's binary_logloss: 0.0203421\tvalid_1's binary_logloss: 0.0722164\n",
      "[60]\ttraining's binary_logloss: 0.011483\tvalid_1's binary_logloss: 0.0685946\n",
      "[80]\ttraining's binary_logloss: 0.00657502\tvalid_1's binary_logloss: 0.0675974\n",
      "[100]\ttraining's binary_logloss: 0.00382215\tvalid_1's binary_logloss: 0.0672747\n",
      "Early stopping, best iteration is:\n",
      "[95]\ttraining's binary_logloss: 0.00436558\tvalid_1's binary_logloss: 0.067128\n"
     ]
    },
    {
     "name": "stderr",
     "output_type": "stream",
     "text": [
      "len(train_index) : 957\n",
      "len(valid_index) : 956\n",
      "================================= 2fold lightgbm =================================\n"
     ]
    },
    {
     "name": "stdout",
     "output_type": "stream",
     "text": [
      "Training until validation scores don't improve for 10 rounds\n",
      "[20]\ttraining's binary_logloss: 0.041432\tvalid_1's binary_logloss: 0.0760785\n",
      "[40]\ttraining's binary_logloss: 0.0219845\tvalid_1's binary_logloss: 0.0680505\n",
      "[60]\ttraining's binary_logloss: 0.0124406\tvalid_1's binary_logloss: 0.0621725\n",
      "[80]\ttraining's binary_logloss: 0.00724723\tvalid_1's binary_logloss: 0.0594811\n"
     ]
    },
    {
     "name": "stderr",
     "output_type": "stream",
     "text": [
      "aromatase_inhibitor logloss: 0.06316806138815169\n",
      "=========================================================================================\n",
      "len(trt) : 6\n",
      "len(train_index) : 936\n",
      "len(valid_index) : 936\n",
      "================================= 1fold lightgbm =================================\n"
     ]
    },
    {
     "name": "stdout",
     "output_type": "stream",
     "text": [
      "Early stopping, best iteration is:\n",
      "[82]\ttraining's binary_logloss: 0.00687612\tvalid_1's binary_logloss: 0.059204\n",
      "Training until validation scores don't improve for 10 rounds\n",
      "[20]\ttraining's binary_logloss: 0.00526345\tvalid_1's binary_logloss: 0.0171666\n",
      "[40]\ttraining's binary_logloss: 0.00260704\tvalid_1's binary_logloss: 0.0161684\n"
     ]
    },
    {
     "name": "stderr",
     "output_type": "stream",
     "text": [
      "len(train_index) : 936\n",
      "len(valid_index) : 936\n",
      "================================= 2fold lightgbm =================================\n"
     ]
    },
    {
     "name": "stdout",
     "output_type": "stream",
     "text": [
      "Early stopping, best iteration is:\n",
      "[49]\ttraining's binary_logloss: 0.00195929\tvalid_1's binary_logloss: 0.0158272\n",
      "Training until validation scores don't improve for 10 rounds\n",
      "[20]\ttraining's binary_logloss: 0.00526446\tvalid_1's binary_logloss: 0.0111173\n",
      "[40]\ttraining's binary_logloss: 0.00259588\tvalid_1's binary_logloss: 0.00998542\n",
      "[60]\ttraining's binary_logloss: 0.00139262\tvalid_1's binary_logloss: 0.00957862\n"
     ]
    },
    {
     "name": "stderr",
     "output_type": "stream",
     "text": [
      "atm_kinase_inhibitor logloss: 0.012640928329724216\n",
      "=========================================================================================\n",
      "len(trt) : 1\n",
      "len(train_index) : 933\n",
      "len(valid_index) : 934\n",
      "================================= 1fold lightgbm =================================\n"
     ]
    },
    {
     "name": "stdout",
     "output_type": "stream",
     "text": [
      "Early stopping, best iteration is:\n",
      "[62]\ttraining's binary_logloss: 0.00131059\tvalid_1's binary_logloss: 0.00945469\n"
     ]
    },
    {
     "name": "stderr",
     "output_type": "stream",
     "text": [
      "len(train_index) : 934\n",
      "len(valid_index) : 933\n",
      "================================= 2fold lightgbm =================================\n"
     ]
    },
    {
     "name": "stdout",
     "output_type": "stream",
     "text": [
      "Training until validation scores don't improve for 10 rounds\n",
      "Early stopping, best iteration is:\n",
      "[1]\ttraining's binary_logloss: 0\tvalid_1's binary_logloss: 0.0369794\n",
      "Training until validation scores don't improve for 10 rounds\n",
      "[20]\ttraining's binary_logloss: 0.00191255\tvalid_1's binary_logloss: 0.000892083\n",
      "[40]\ttraining's binary_logloss: 0.000955369\tvalid_1's binary_logloss: 0.000527003\n",
      "[60]\ttraining's binary_logloss: 0.000515709\tvalid_1's binary_logloss: 0.000305375\n",
      "[80]\ttraining's binary_logloss: 0.0002865\tvalid_1's binary_logloss: 0.000175506\n",
      "[100]\ttraining's binary_logloss: 0.000161075\tvalid_1's binary_logloss: 0.000101028\n",
      "[120]\ttraining's binary_logloss: 9.12448e-05\tvalid_1's binary_logloss: 5.836e-05\n",
      "[140]\ttraining's binary_logloss: 5.23703e-05\tvalid_1's binary_logloss: 3.38573e-05\n",
      "[160]\ttraining's binary_logloss: 3.01146e-05\tvalid_1's binary_logloss: 1.96566e-05\n",
      "[180]\ttraining's binary_logloss: 1.73384e-05\tvalid_1's binary_logloss: 1.14574e-05\n",
      "[200]\ttraining's binary_logloss: 9.98965e-06\tvalid_1's binary_logloss: 6.66859e-06\n",
      "[220]\ttraining's binary_logloss: 5.7584e-06\tvalid_1's binary_logloss: 3.8753e-06\n",
      "[240]\ttraining's binary_logloss: 3.3209e-06\tvalid_1's binary_logloss: 2.24921e-06\n",
      "[260]\ttraining's binary_logloss: 2.13859e-06\tvalid_1's binary_logloss: 1.46868e-06\n",
      "Early stopping, best iteration is:\n",
      "[256]\ttraining's binary_logloss: 2.13859e-06\tvalid_1's binary_logloss: 1.46868e-06\n"
     ]
    },
    {
     "name": "stderr",
     "output_type": "stream",
     "text": [
      "atp-sensitive_potassium_channel_antagonist logloss: 0.018500346369821605\n",
      "=========================================================================================\n",
      "len(trt) : 12\n",
      "len(train_index) : 939\n",
      "len(valid_index) : 939\n",
      "================================= 1fold lightgbm =================================\n"
     ]
    },
    {
     "name": "stdout",
     "output_type": "stream",
     "text": [
      "Training until validation scores don't improve for 10 rounds\n",
      "[20]\ttraining's binary_logloss: 0.00976621\tvalid_1's binary_logloss: 0.0131263\n",
      "[40]\ttraining's binary_logloss: 0.00483904\tvalid_1's binary_logloss: 0.00789341\n",
      "[60]\ttraining's binary_logloss: 0.00257945\tvalid_1's binary_logloss: 0.00504635\n",
      "[80]\ttraining's binary_logloss: 0.00141471\tvalid_1's binary_logloss: 0.00348253\n",
      "[100]\ttraining's binary_logloss: 0.00078172\tvalid_1's binary_logloss: 0.00240094\n",
      "[120]\ttraining's binary_logloss: 0.000434364\tvalid_1's binary_logloss: 0.00161536\n",
      "[140]\ttraining's binary_logloss: 0.00024232\tvalid_1's binary_logloss: 0.00121889\n",
      "[160]\ttraining's binary_logloss: 0.000135713\tvalid_1's binary_logloss: 0.000818426\n",
      "[180]\ttraining's binary_logloss: 7.60533e-05\tvalid_1's binary_logloss: 0.000574127\n",
      "[200]\ttraining's binary_logloss: 4.35707e-05\tvalid_1's binary_logloss: 0.000403653\n",
      "[220]\ttraining's binary_logloss: 2.51452e-05\tvalid_1's binary_logloss: 0.000260569\n",
      "[240]\ttraining's binary_logloss: 1.45265e-05\tvalid_1's binary_logloss: 0.000176113\n",
      "[260]\ttraining's binary_logloss: 8.40592e-06\tvalid_1's binary_logloss: 0.000120108\n",
      "[280]\ttraining's binary_logloss: 4.87771e-06\tvalid_1's binary_logloss: 7.46758e-05\n"
     ]
    },
    {
     "name": "stderr",
     "output_type": "stream",
     "text": [
      "len(train_index) : 939\n",
      "len(valid_index) : 939\n",
      "================================= 2fold lightgbm =================================\n"
     ]
    },
    {
     "name": "stdout",
     "output_type": "stream",
     "text": [
      "[300]\ttraining's binary_logloss: 2.83461e-06\tvalid_1's binary_logloss: 5.26518e-05\n",
      "[320]\ttraining's binary_logloss: 2.10665e-06\tvalid_1's binary_logloss: 4.21653e-05\n",
      "Early stopping, best iteration is:\n",
      "[312]\ttraining's binary_logloss: 2.10665e-06\tvalid_1's binary_logloss: 4.21653e-05\n",
      "Training until validation scores don't improve for 10 rounds\n",
      "[20]\ttraining's binary_logloss: 0.00980598\tvalid_1's binary_logloss: 0.0131402\n",
      "[40]\ttraining's binary_logloss: 0.00486142\tvalid_1's binary_logloss: 0.00844212\n",
      "[60]\ttraining's binary_logloss: 0.00258893\tvalid_1's binary_logloss: 0.00564564\n",
      "[80]\ttraining's binary_logloss: 0.00141616\tvalid_1's binary_logloss: 0.00380667\n",
      "[100]\ttraining's binary_logloss: 0.000783211\tvalid_1's binary_logloss: 0.00277551\n",
      "[120]\ttraining's binary_logloss: 0.000436387\tvalid_1's binary_logloss: 0.00192968\n",
      "[140]\ttraining's binary_logloss: 0.000243498\tvalid_1's binary_logloss: 0.00136109\n",
      "[160]\ttraining's binary_logloss: 0.000136288\tvalid_1's binary_logloss: 0.0010026\n",
      "[180]\ttraining's binary_logloss: 7.62282e-05\tvalid_1's binary_logloss: 0.000756771\n",
      "[200]\ttraining's binary_logloss: 4.3846e-05\tvalid_1's binary_logloss: 0.000523087\n",
      "[220]\ttraining's binary_logloss: 2.52831e-05\tvalid_1's binary_logloss: 0.000362543\n",
      "[240]\ttraining's binary_logloss: 1.45903e-05\tvalid_1's binary_logloss: 0.000264955\n",
      "[260]\ttraining's binary_logloss: 8.43985e-06\tvalid_1's binary_logloss: 0.000180881\n",
      "[280]\ttraining's binary_logloss: 4.89231e-06\tvalid_1's binary_logloss: 0.000126172\n"
     ]
    },
    {
     "name": "stderr",
     "output_type": "stream",
     "text": [
      "atp_synthase_inhibitor logloss: 5.59906131203129e-05\n",
      "=========================================================================================\n"
     ]
    },
    {
     "name": "stdout",
     "output_type": "stream",
     "text": [
      "[300]\ttraining's binary_logloss: 2.84053e-06\tvalid_1's binary_logloss: 8.28056e-05\n",
      "[320]\ttraining's binary_logloss: 2.10998e-06\tvalid_1's binary_logloss: 6.98159e-05\n",
      "Early stopping, best iteration is:\n",
      "[312]\ttraining's binary_logloss: 2.10998e-06\tvalid_1's binary_logloss: 6.98159e-05\n"
     ]
    },
    {
     "name": "stderr",
     "output_type": "stream",
     "text": [
      "len(trt) : 97\n",
      "len(train_index) : 981\n",
      "len(valid_index) : 982\n",
      "================================= 1fold lightgbm =================================\n"
     ]
    },
    {
     "name": "stdout",
     "output_type": "stream",
     "text": [
      "Training until validation scores don't improve for 10 rounds\n",
      "[20]\ttraining's binary_logloss: 0.0682012\tvalid_1's binary_logloss: 0.100258\n",
      "[40]\ttraining's binary_logloss: 0.0354468\tvalid_1's binary_logloss: 0.0723657\n",
      "[60]\ttraining's binary_logloss: 0.0195663\tvalid_1's binary_logloss: 0.0572674\n",
      "[80]\ttraining's binary_logloss: 0.0110058\tvalid_1's binary_logloss: 0.0485547\n",
      "[100]\ttraining's binary_logloss: 0.00628834\tvalid_1's binary_logloss: 0.0454283\n",
      "[120]\ttraining's binary_logloss: 0.00360135\tvalid_1's binary_logloss: 0.0432603\n",
      "[140]\ttraining's binary_logloss: 0.00207564\tvalid_1's binary_logloss: 0.041922\n",
      "[160]\ttraining's binary_logloss: 0.00120432\tvalid_1's binary_logloss: 0.0415243\n",
      "[180]\ttraining's binary_logloss: 0.000688584\tvalid_1's binary_logloss: 0.0396712\n",
      "[200]\ttraining's binary_logloss: 0.000392849\tvalid_1's binary_logloss: 0.0378682\n",
      "[220]\ttraining's binary_logloss: 0.000223936\tvalid_1's binary_logloss: 0.0371284\n",
      "[240]\ttraining's binary_logloss: 0.000127702\tvalid_1's binary_logloss: 0.0365043\n",
      "[260]\ttraining's binary_logloss: 7.27615e-05\tvalid_1's binary_logloss: 0.0360039\n",
      "Early stopping, best iteration is:\n",
      "[258]\ttraining's binary_logloss: 7.70973e-05\tvalid_1's binary_logloss: 0.0359498\n"
     ]
    },
    {
     "name": "stderr",
     "output_type": "stream",
     "text": [
      "len(train_index) : 982\n",
      "len(valid_index) : 981\n",
      "================================= 2fold lightgbm =================================\n"
     ]
    },
    {
     "name": "stdout",
     "output_type": "stream",
     "text": [
      "Training until validation scores don't improve for 10 rounds\n",
      "[20]\ttraining's binary_logloss: 0.0697024\tvalid_1's binary_logloss: 0.0976014\n",
      "[40]\ttraining's binary_logloss: 0.0366232\tvalid_1's binary_logloss: 0.0729905\n",
      "[60]\ttraining's binary_logloss: 0.0202935\tvalid_1's binary_logloss: 0.0600666\n",
      "[80]\ttraining's binary_logloss: 0.0114096\tvalid_1's binary_logloss: 0.052024\n",
      "[100]\ttraining's binary_logloss: 0.0064655\tvalid_1's binary_logloss: 0.0467788\n",
      "[120]\ttraining's binary_logloss: 0.00369151\tvalid_1's binary_logloss: 0.0439048\n",
      "[140]\ttraining's binary_logloss: 0.00211214\tvalid_1's binary_logloss: 0.0415999\n",
      "[160]\ttraining's binary_logloss: 0.00121384\tvalid_1's binary_logloss: 0.0393811\n"
     ]
    },
    {
     "name": "stderr",
     "output_type": "stream",
     "text": [
      "atpase_inhibitor logloss: 0.037527040796813904\n",
      "=========================================================================================\n",
      "len(trt) : 19\n",
      "len(train_index) : 942\n",
      "len(valid_index) : 943\n",
      "================================= 1fold lightgbm =================================\n"
     ]
    },
    {
     "name": "stdout",
     "output_type": "stream",
     "text": [
      "Early stopping, best iteration is:\n",
      "[165]\ttraining's binary_logloss: 0.00105737\tvalid_1's binary_logloss: 0.0391058\n",
      "Training until validation scores don't improve for 10 rounds\n",
      "[20]\ttraining's binary_logloss: 0.0134821\tvalid_1's binary_logloss: 0.023146\n",
      "[40]\ttraining's binary_logloss: 0.00686008\tvalid_1's binary_logloss: 0.0170808\n",
      "[60]\ttraining's binary_logloss: 0.00372516\tvalid_1's binary_logloss: 0.013892\n",
      "[80]\ttraining's binary_logloss: 0.00207655\tvalid_1's binary_logloss: 0.0122497\n",
      "[100]\ttraining's binary_logloss: 0.00116612\tvalid_1's binary_logloss: 0.0111072\n",
      "[120]\ttraining's binary_logloss: 0.000657814\tvalid_1's binary_logloss: 0.0103599\n",
      "[140]\ttraining's binary_logloss: 0.000371727\tvalid_1's binary_logloss: 0.0099964\n",
      "Early stopping, best iteration is:\n",
      "[136]\ttraining's binary_logloss: 0.000416931\tvalid_1's binary_logloss: 0.00982596\n"
     ]
    },
    {
     "name": "stderr",
     "output_type": "stream",
     "text": [
      "len(train_index) : 943\n",
      "len(valid_index) : 942\n",
      "================================= 2fold lightgbm =================================\n"
     ]
    },
    {
     "name": "stdout",
     "output_type": "stream",
     "text": [
      "Training until validation scores don't improve for 10 rounds\n",
      "[20]\ttraining's binary_logloss: 0.0146042\tvalid_1's binary_logloss: 0.0289699\n",
      "[40]\ttraining's binary_logloss: 0.00734561\tvalid_1's binary_logloss: 0.0238215\n",
      "[60]\ttraining's binary_logloss: 0.00393295\tvalid_1's binary_logloss: 0.0219191\n",
      "[80]\ttraining's binary_logloss: 0.00215562\tvalid_1's binary_logloss: 0.0204373\n",
      "[100]\ttraining's binary_logloss: 0.00119498\tvalid_1's binary_logloss: 0.0199925\n"
     ]
    },
    {
     "name": "stderr",
     "output_type": "stream",
     "text": [
      "atr_kinase_inhibitor logloss: 0.014748744818831913\n",
      "=========================================================================================\n",
      "len(trt) : 96\n",
      "len(train_index) : 981\n",
      "len(valid_index) : 981\n"
     ]
    },
    {
     "name": "stdout",
     "output_type": "stream",
     "text": [
      "[120]\ttraining's binary_logloss: 0.000666459\tvalid_1's binary_logloss: 0.0199513\n",
      "Early stopping, best iteration is:\n",
      "[114]\ttraining's binary_logloss: 0.000793662\tvalid_1's binary_logloss: 0.0196768\n"
     ]
    },
    {
     "name": "stderr",
     "output_type": "stream",
     "text": [
      "================================= 1fold lightgbm =================================\n"
     ]
    },
    {
     "name": "stdout",
     "output_type": "stream",
     "text": [
      "Training until validation scores don't improve for 10 rounds\n",
      "[20]\ttraining's binary_logloss: 0.0641975\tvalid_1's binary_logloss: 0.0831591\n",
      "[40]\ttraining's binary_logloss: 0.0326883\tvalid_1's binary_logloss: 0.0577277\n",
      "[60]\ttraining's binary_logloss: 0.0176251\tvalid_1's binary_logloss: 0.0473331\n",
      "[80]\ttraining's binary_logloss: 0.00963009\tvalid_1's binary_logloss: 0.0394495\n",
      "[100]\ttraining's binary_logloss: 0.00529949\tvalid_1's binary_logloss: 0.0331558\n",
      "[120]\ttraining's binary_logloss: 0.00294038\tvalid_1's binary_logloss: 0.0296663\n",
      "[140]\ttraining's binary_logloss: 0.00163665\tvalid_1's binary_logloss: 0.0275189\n",
      "[160]\ttraining's binary_logloss: 0.00091325\tvalid_1's binary_logloss: 0.0257334\n",
      "[180]\ttraining's binary_logloss: 0.000510513\tvalid_1's binary_logloss: 0.0247494\n",
      "[200]\ttraining's binary_logloss: 0.00028704\tvalid_1's binary_logloss: 0.0240911\n"
     ]
    },
    {
     "name": "stderr",
     "output_type": "stream",
     "text": [
      "len(train_index) : 981\n",
      "len(valid_index) : 981\n",
      "================================= 2fold lightgbm =================================\n"
     ]
    },
    {
     "name": "stdout",
     "output_type": "stream",
     "text": [
      "Early stopping, best iteration is:\n",
      "[208]\ttraining's binary_logloss: 0.000228259\tvalid_1's binary_logloss: 0.0236233\n",
      "Training until validation scores don't improve for 10 rounds\n",
      "[20]\ttraining's binary_logloss: 0.0643912\tvalid_1's binary_logloss: 0.0775115\n",
      "[40]\ttraining's binary_logloss: 0.0330702\tvalid_1's binary_logloss: 0.0504092\n",
      "[60]\ttraining's binary_logloss: 0.0180623\tvalid_1's binary_logloss: 0.0371919\n",
      "[80]\ttraining's binary_logloss: 0.0100977\tvalid_1's binary_logloss: 0.0306091\n",
      "[100]\ttraining's binary_logloss: 0.00565963\tvalid_1's binary_logloss: 0.0274655\n",
      "[120]\ttraining's binary_logloss: 0.0032108\tvalid_1's binary_logloss: 0.0257811\n",
      "[140]\ttraining's binary_logloss: 0.00182297\tvalid_1's binary_logloss: 0.0252675\n"
     ]
    },
    {
     "name": "stderr",
     "output_type": "stream",
     "text": [
      "aurora_kinase_inhibitor logloss: 0.024445392642251436\n",
      "=========================================================================================\n",
      "len(trt) : 6\n",
      "len(train_index) : 936\n",
      "len(valid_index) : 936\n",
      "================================= 1fold lightgbm =================================\n"
     ]
    },
    {
     "name": "stdout",
     "output_type": "stream",
     "text": [
      "Early stopping, best iteration is:\n",
      "[140]\ttraining's binary_logloss: 0.00182297\tvalid_1's binary_logloss: 0.0252675\n",
      "Training until validation scores don't improve for 10 rounds\n",
      "[20]\ttraining's binary_logloss: 0.0050412\tvalid_1's binary_logloss: 0.0174707\n",
      "[40]\ttraining's binary_logloss: 0.00252264\tvalid_1's binary_logloss: 0.0166144\n"
     ]
    },
    {
     "name": "stderr",
     "output_type": "stream",
     "text": [
      "len(train_index) : 936\n",
      "len(valid_index) : 936\n",
      "================================= 2fold lightgbm =================================\n"
     ]
    },
    {
     "name": "stdout",
     "output_type": "stream",
     "text": [
      "Early stopping, best iteration is:\n",
      "[42]\ttraining's binary_logloss: 0.00236572\tvalid_1's binary_logloss: 0.0165046\n",
      "Training until validation scores don't improve for 10 rounds\n",
      "[20]\ttraining's binary_logloss: 0.0051477\tvalid_1's binary_logloss: 0.0182758\n"
     ]
    },
    {
     "name": "stderr",
     "output_type": "stream",
     "text": [
      "autotaxin_inhibitor logloss: 0.017257008596966418\n",
      "=========================================================================================\n",
      "len(trt) : 60\n",
      "len(train_index) : 963\n",
      "len(valid_index) : 963\n",
      "================================= 1fold lightgbm =================================\n"
     ]
    },
    {
     "name": "stdout",
     "output_type": "stream",
     "text": [
      "[40]\ttraining's binary_logloss: 0.00255362\tvalid_1's binary_logloss: 0.018243\n",
      "Early stopping, best iteration is:\n",
      "[33]\ttraining's binary_logloss: 0.00321796\tvalid_1's binary_logloss: 0.0180094\n",
      "Training until validation scores don't improve for 10 rounds\n",
      "[20]\ttraining's binary_logloss: 0.04851\tvalid_1's binary_logloss: 0.095933\n",
      "[40]\ttraining's binary_logloss: 0.0254451\tvalid_1's binary_logloss: 0.0809205\n",
      "[60]\ttraining's binary_logloss: 0.0141665\tvalid_1's binary_logloss: 0.0733085\n",
      "[80]\ttraining's binary_logloss: 0.00800793\tvalid_1's binary_logloss: 0.068326\n",
      "[100]\ttraining's binary_logloss: 0.00460969\tvalid_1's binary_logloss: 0.066547\n"
     ]
    },
    {
     "name": "stderr",
     "output_type": "stream",
     "text": [
      "len(train_index) : 963\n",
      "len(valid_index) : 963\n",
      "================================= 2fold lightgbm =================================\n"
     ]
    },
    {
     "name": "stdout",
     "output_type": "stream",
     "text": [
      "[120]\ttraining's binary_logloss: 0.00268015\tvalid_1's binary_logloss: 0.0666119\n",
      "Early stopping, best iteration is:\n",
      "[114]\ttraining's binary_logloss: 0.00315056\tvalid_1's binary_logloss: 0.0661921\n",
      "Training until validation scores don't improve for 10 rounds\n",
      "[20]\ttraining's binary_logloss: 0.0459033\tvalid_1's binary_logloss: 0.0927829\n",
      "[40]\ttraining's binary_logloss: 0.0240948\tvalid_1's binary_logloss: 0.0831852\n",
      "[60]\ttraining's binary_logloss: 0.0133165\tvalid_1's binary_logloss: 0.0804379\n",
      "[80]\ttraining's binary_logloss: 0.00757153\tvalid_1's binary_logloss: 0.0778776\n",
      "[100]\ttraining's binary_logloss: 0.00435375\tvalid_1's binary_logloss: 0.077271\n",
      "Early stopping, best iteration is:\n",
      "[98]\ttraining's binary_logloss: 0.00459651\tvalid_1's binary_logloss: 0.0772387\n"
     ]
    },
    {
     "name": "stderr",
     "output_type": "stream",
     "text": [
      "bacterial_30s_ribosomal_subunit_inhibitor logloss: 0.0717153840680506\n",
      "=========================================================================================\n",
      "len(trt) : 80\n",
      "len(train_index) : 973\n",
      "len(valid_index) : 973\n",
      "================================= 1fold lightgbm =================================\n"
     ]
    },
    {
     "name": "stdout",
     "output_type": "stream",
     "text": [
      "Training until validation scores don't improve for 10 rounds\n",
      "[20]\ttraining's binary_logloss: 0.0575311\tvalid_1's binary_logloss: 0.102645\n",
      "[40]\ttraining's binary_logloss: 0.0298025\tvalid_1's binary_logloss: 0.0849331\n",
      "[60]\ttraining's binary_logloss: 0.0164622\tvalid_1's binary_logloss: 0.075818\n",
      "[80]\ttraining's binary_logloss: 0.00928855\tvalid_1's binary_logloss: 0.0711261\n",
      "[100]\ttraining's binary_logloss: 0.00530811\tvalid_1's binary_logloss: 0.0693061\n"
     ]
    },
    {
     "name": "stderr",
     "output_type": "stream",
     "text": [
      "len(train_index) : 973\n",
      "len(valid_index) : 973\n",
      "================================= 2fold lightgbm =================================\n"
     ]
    },
    {
     "name": "stdout",
     "output_type": "stream",
     "text": [
      "Early stopping, best iteration is:\n",
      "[108]\ttraining's binary_logloss: 0.00424476\tvalid_1's binary_logloss: 0.0688126\n",
      "Training until validation scores don't improve for 10 rounds\n",
      "[20]\ttraining's binary_logloss: 0.0619344\tvalid_1's binary_logloss: 0.0877039\n",
      "[40]\ttraining's binary_logloss: 0.0332143\tvalid_1's binary_logloss: 0.0685013\n",
      "[60]\ttraining's binary_logloss: 0.0187019\tvalid_1's binary_logloss: 0.0590213\n",
      "[80]\ttraining's binary_logloss: 0.0108437\tvalid_1's binary_logloss: 0.0532662\n",
      "[100]\ttraining's binary_logloss: 0.00633777\tvalid_1's binary_logloss: 0.0511453\n",
      "[120]\ttraining's binary_logloss: 0.00372832\tvalid_1's binary_logloss: 0.0489823\n",
      "[140]\ttraining's binary_logloss: 0.00219546\tvalid_1's binary_logloss: 0.0474104\n",
      "[160]\ttraining's binary_logloss: 0.00128708\tvalid_1's binary_logloss: 0.0469084\n",
      "Early stopping, best iteration is:\n",
      "[156]\ttraining's binary_logloss: 0.00143462\tvalid_1's binary_logloss: 0.0464828\n"
     ]
    },
    {
     "name": "stderr",
     "output_type": "stream",
     "text": [
      "bacterial_50s_ribosomal_subunit_inhibitor logloss: 0.057647702994231866\n",
      "=========================================================================================\n",
      "len(trt) : 36\n",
      "len(train_index) : 951\n",
      "len(valid_index) : 951\n",
      "================================= 1fold lightgbm =================================\n"
     ]
    },
    {
     "name": "stdout",
     "output_type": "stream",
     "text": [
      "Training until validation scores don't improve for 10 rounds\n",
      "[20]\ttraining's binary_logloss: 0.029576\tvalid_1's binary_logloss: 0.0531881\n",
      "[40]\ttraining's binary_logloss: 0.0150649\tvalid_1's binary_logloss: 0.0413491\n",
      "[60]\ttraining's binary_logloss: 0.00825431\tvalid_1's binary_logloss: 0.0354473\n",
      "[80]\ttraining's binary_logloss: 0.00465866\tvalid_1's binary_logloss: 0.0330341\n",
      "[100]\ttraining's binary_logloss: 0.0026625\tvalid_1's binary_logloss: 0.032151\n",
      "Early stopping, best iteration is:\n",
      "[94]\ttraining's binary_logloss: 0.00314933\tvalid_1's binary_logloss: 0.0321083\n"
     ]
    },
    {
     "name": "stderr",
     "output_type": "stream",
     "text": [
      "len(train_index) : 951\n",
      "len(valid_index) : 951\n",
      "================================= 2fold lightgbm =================================\n"
     ]
    },
    {
     "name": "stdout",
     "output_type": "stream",
     "text": [
      "Training until validation scores don't improve for 10 rounds\n",
      "[20]\ttraining's binary_logloss: 0.0286734\tvalid_1's binary_logloss: 0.0546125\n",
      "[40]\ttraining's binary_logloss: 0.014777\tvalid_1's binary_logloss: 0.0466561\n",
      "[60]\ttraining's binary_logloss: 0.00810909\tvalid_1's binary_logloss: 0.0446392\n"
     ]
    },
    {
     "name": "stderr",
     "output_type": "stream",
     "text": [
      "bacterial_antifolate logloss: 0.03807292801851837\n",
      "=========================================================================================\n",
      "len(trt) : 192\n",
      "len(train_index) : 1029\n",
      "len(valid_index) : 1029\n",
      "================================= 1fold lightgbm =================================\n"
     ]
    },
    {
     "name": "stdout",
     "output_type": "stream",
     "text": [
      "Early stopping, best iteration is:\n",
      "[68]\ttraining's binary_logloss: 0.00642265\tvalid_1's binary_logloss: 0.0440376\n",
      "Training until validation scores don't improve for 10 rounds\n",
      "[20]\ttraining's binary_logloss: 0.12087\tvalid_1's binary_logloss: 0.155853\n",
      "[40]\ttraining's binary_logloss: 0.0646795\tvalid_1's binary_logloss: 0.112338\n",
      "[60]\ttraining's binary_logloss: 0.03568\tvalid_1's binary_logloss: 0.0885281\n",
      "[80]\ttraining's binary_logloss: 0.0201621\tvalid_1's binary_logloss: 0.0762644\n",
      "[100]\ttraining's binary_logloss: 0.0114604\tvalid_1's binary_logloss: 0.0697027\n",
      "[120]\ttraining's binary_logloss: 0.00657232\tvalid_1's binary_logloss: 0.0653754\n",
      "[140]\ttraining's binary_logloss: 0.00376533\tvalid_1's binary_logloss: 0.0625955\n",
      "[160]\ttraining's binary_logloss: 0.0021715\tvalid_1's binary_logloss: 0.0620794\n"
     ]
    },
    {
     "name": "stderr",
     "output_type": "stream",
     "text": [
      "len(train_index) : 1029\n",
      "len(valid_index) : 1029\n",
      "================================= 2fold lightgbm =================================\n"
     ]
    },
    {
     "name": "stdout",
     "output_type": "stream",
     "text": [
      "Early stopping, best iteration is:\n",
      "[163]\ttraining's binary_logloss: 0.00199872\tvalid_1's binary_logloss: 0.061802\n",
      "Training until validation scores don't improve for 10 rounds\n",
      "[20]\ttraining's binary_logloss: 0.123621\tvalid_1's binary_logloss: 0.155738\n",
      "[40]\ttraining's binary_logloss: 0.0659171\tvalid_1's binary_logloss: 0.105859\n",
      "[60]\ttraining's binary_logloss: 0.0369094\tvalid_1's binary_logloss: 0.078685\n",
      "[80]\ttraining's binary_logloss: 0.0210396\tvalid_1's binary_logloss: 0.0609999\n",
      "[100]\ttraining's binary_logloss: 0.0122302\tvalid_1's binary_logloss: 0.0507231\n",
      "[120]\ttraining's binary_logloss: 0.00710105\tvalid_1's binary_logloss: 0.0447473\n",
      "[140]\ttraining's binary_logloss: 0.00413341\tvalid_1's binary_logloss: 0.0410029\n",
      "[160]\ttraining's binary_logloss: 0.00239479\tvalid_1's binary_logloss: 0.0375907\n",
      "[180]\ttraining's binary_logloss: 0.00139507\tvalid_1's binary_logloss: 0.0358174\n",
      "[200]\ttraining's binary_logloss: 0.000812896\tvalid_1's binary_logloss: 0.0337656\n",
      "[220]\ttraining's binary_logloss: 0.000474054\tvalid_1's binary_logloss: 0.032866\n",
      "[240]\ttraining's binary_logloss: 0.000276512\tvalid_1's binary_logloss: 0.0315105\n",
      "[260]\ttraining's binary_logloss: 0.000159944\tvalid_1's binary_logloss: 0.030947\n",
      "[280]\ttraining's binary_logloss: 9.19546e-05\tvalid_1's binary_logloss: 0.0303177\n"
     ]
    },
    {
     "name": "stderr",
     "output_type": "stream",
     "text": [
      "bacterial_cell_wall_synthesis_inhibitor logloss: 0.04600778231544378\n",
      "=========================================================================================\n",
      "len(trt) : 89\n",
      "len(train_index) : 977\n",
      "len(valid_index) : 978\n",
      "================================= 1fold lightgbm =================================\n"
     ]
    },
    {
     "name": "stdout",
     "output_type": "stream",
     "text": [
      "Early stopping, best iteration is:\n",
      "[282]\ttraining's binary_logloss: 8.70412e-05\tvalid_1's binary_logloss: 0.0302136\n",
      "Training until validation scores don't improve for 10 rounds\n",
      "[20]\ttraining's binary_logloss: 0.067482\tvalid_1's binary_logloss: 0.107122\n",
      "[40]\ttraining's binary_logloss: 0.0358187\tvalid_1's binary_logloss: 0.0824867\n",
      "[60]\ttraining's binary_logloss: 0.0199507\tvalid_1's binary_logloss: 0.0660924\n",
      "[80]\ttraining's binary_logloss: 0.0113802\tvalid_1's binary_logloss: 0.0584897\n",
      "[100]\ttraining's binary_logloss: 0.00655837\tvalid_1's binary_logloss: 0.052668\n",
      "[120]\ttraining's binary_logloss: 0.00382139\tvalid_1's binary_logloss: 0.0490315\n",
      "[140]\ttraining's binary_logloss: 0.00223401\tvalid_1's binary_logloss: 0.0461901\n",
      "[160]\ttraining's binary_logloss: 0.00131149\tvalid_1's binary_logloss: 0.0439792\n",
      "[180]\ttraining's binary_logloss: 0.000770875\tvalid_1's binary_logloss: 0.0427175\n"
     ]
    },
    {
     "name": "stderr",
     "output_type": "stream",
     "text": [
      "len(train_index) : 978\n",
      "len(valid_index) : 977\n",
      "================================= 2fold lightgbm =================================\n"
     ]
    },
    {
     "name": "stdout",
     "output_type": "stream",
     "text": [
      "[200]\ttraining's binary_logloss: 0.000452498\tvalid_1's binary_logloss: 0.041542\n",
      "Early stopping, best iteration is:\n",
      "[190]\ttraining's binary_logloss: 0.000589674\tvalid_1's binary_logloss: 0.0414035\n",
      "Training until validation scores don't improve for 10 rounds\n",
      "[20]\ttraining's binary_logloss: 0.0649636\tvalid_1's binary_logloss: 0.102381\n",
      "[40]\ttraining's binary_logloss: 0.0338256\tvalid_1's binary_logloss: 0.0810013\n",
      "[60]\ttraining's binary_logloss: 0.0186336\tvalid_1's binary_logloss: 0.0672643\n",
      "[80]\ttraining's binary_logloss: 0.0105299\tvalid_1's binary_logloss: 0.0598897\n",
      "[100]\ttraining's binary_logloss: 0.00601459\tvalid_1's binary_logloss: 0.0560088\n",
      "[120]\ttraining's binary_logloss: 0.0034583\tvalid_1's binary_logloss: 0.0538553\n",
      "[140]\ttraining's binary_logloss: 0.00199924\tvalid_1's binary_logloss: 0.0524386\n",
      "[160]\ttraining's binary_logloss: 0.00115665\tvalid_1's binary_logloss: 0.0514132\n"
     ]
    },
    {
     "name": "stderr",
     "output_type": "stream",
     "text": [
      "bacterial_dna_gyrase_inhibitor logloss: 0.04640581355091809\n",
      "=========================================================================================\n",
      "len(trt) : 115\n",
      "len(train_index) : 990\n",
      "len(valid_index) : 991\n",
      "================================= 1fold lightgbm =================================\n"
     ]
    },
    {
     "name": "stdout",
     "output_type": "stream",
     "text": [
      "Early stopping, best iteration is:\n",
      "[160]\ttraining's binary_logloss: 0.00115665\tvalid_1's binary_logloss: 0.0514132\n",
      "Training until validation scores don't improve for 10 rounds\n",
      "[20]\ttraining's binary_logloss: 0.082688\tvalid_1's binary_logloss: 0.109228\n",
      "[40]\ttraining's binary_logloss: 0.0436528\tvalid_1's binary_logloss: 0.0764644\n",
      "[60]\ttraining's binary_logloss: 0.0243978\tvalid_1's binary_logloss: 0.0596472\n",
      "[80]\ttraining's binary_logloss: 0.0140015\tvalid_1's binary_logloss: 0.0489572\n",
      "[100]\ttraining's binary_logloss: 0.00813395\tvalid_1's binary_logloss: 0.0421127\n",
      "[120]\ttraining's binary_logloss: 0.00475471\tvalid_1's binary_logloss: 0.0380851\n",
      "[140]\ttraining's binary_logloss: 0.00280349\tvalid_1's binary_logloss: 0.0356538\n",
      "[160]\ttraining's binary_logloss: 0.00165327\tvalid_1's binary_logloss: 0.0337854\n",
      "[180]\ttraining's binary_logloss: 0.000977779\tvalid_1's binary_logloss: 0.0328795\n",
      "[200]\ttraining's binary_logloss: 0.000578226\tvalid_1's binary_logloss: 0.0325699\n",
      "Early stopping, best iteration is:\n",
      "[199]\ttraining's binary_logloss: 0.000593476\tvalid_1's binary_logloss: 0.0324548\n"
     ]
    },
    {
     "name": "stderr",
     "output_type": "stream",
     "text": [
      "len(train_index) : 991\n",
      "len(valid_index) : 990\n",
      "================================= 2fold lightgbm =================================\n"
     ]
    },
    {
     "name": "stdout",
     "output_type": "stream",
     "text": [
      "Training until validation scores don't improve for 10 rounds\n",
      "[20]\ttraining's binary_logloss: 0.0817072\tvalid_1's binary_logloss: 0.117376\n",
      "[40]\ttraining's binary_logloss: 0.0430662\tvalid_1's binary_logloss: 0.0910877\n",
      "[60]\ttraining's binary_logloss: 0.0238098\tvalid_1's binary_logloss: 0.0763589\n",
      "[80]\ttraining's binary_logloss: 0.0134924\tvalid_1's binary_logloss: 0.0681076\n",
      "[100]\ttraining's binary_logloss: 0.00772711\tvalid_1's binary_logloss: 0.0641156\n",
      "[120]\ttraining's binary_logloss: 0.00446393\tvalid_1's binary_logloss: 0.0623781\n",
      "[140]\ttraining's binary_logloss: 0.0025933\tvalid_1's binary_logloss: 0.0616724\n",
      "Early stopping, best iteration is:\n",
      "[137]\ttraining's binary_logloss: 0.002809\tvalid_1's binary_logloss: 0.0615006\n"
     ]
    },
    {
     "name": "stderr",
     "output_type": "stream",
     "text": [
      "bacterial_dna_inhibitor logloss: 0.04697034137884405\n",
      "=========================================================================================\n",
      "len(trt) : 7\n",
      "len(train_index) : 936\n",
      "len(valid_index) : 937\n",
      "================================= 1fold lightgbm =================================\n"
     ]
    },
    {
     "name": "stdout",
     "output_type": "stream",
     "text": [
      "Training until validation scores don't improve for 10 rounds\n",
      "[20]\ttraining's binary_logloss: 0.00546997\tvalid_1's binary_logloss: 0.0178631\n",
      "[40]\ttraining's binary_logloss: 0.00272031\tvalid_1's binary_logloss: 0.0156999\n",
      "[60]\ttraining's binary_logloss: 0.00146855\tvalid_1's binary_logloss: 0.014691\n",
      "[80]\ttraining's binary_logloss: 0.000812824\tvalid_1's binary_logloss: 0.0137821\n"
     ]
    },
    {
     "name": "stderr",
     "output_type": "stream",
     "text": [
      "len(train_index) : 937\n",
      "len(valid_index) : 936\n"
     ]
    },
    {
     "name": "stdout",
     "output_type": "stream",
     "text": [
      "[100]\ttraining's binary_logloss: 0.000455158\tvalid_1's binary_logloss: 0.013461\n",
      "Early stopping, best iteration is:\n",
      "[97]\ttraining's binary_logloss: 0.000496531\tvalid_1's binary_logloss: 0.0133502\n"
     ]
    },
    {
     "name": "stderr",
     "output_type": "stream",
     "text": [
      "================================= 2fold lightgbm =================================\n"
     ]
    },
    {
     "name": "stdout",
     "output_type": "stream",
     "text": [
      "Training until validation scores don't improve for 10 rounds\n",
      "[20]\ttraining's binary_logloss: 0.00697938\tvalid_1's binary_logloss: 0.0106262\n",
      "[40]\ttraining's binary_logloss: 0.00344282\tvalid_1's binary_logloss: 0.0083873\n",
      "[60]\ttraining's binary_logloss: 0.00184298\tvalid_1's binary_logloss: 0.00720798\n",
      "[80]\ttraining's binary_logloss: 0.00101222\tvalid_1's binary_logloss: 0.00639632\n"
     ]
    },
    {
     "name": "stderr",
     "output_type": "stream",
     "text": [
      "bacterial_membrane_integrity_inhibitor logloss: 0.009645571061102448\n",
      "=========================================================================================\n",
      "len(trt) : 31\n",
      "len(train_index) : 948\n",
      "len(valid_index) : 949\n",
      "================================= 1fold lightgbm =================================\n"
     ]
    },
    {
     "name": "stdout",
     "output_type": "stream",
     "text": [
      "[100]\ttraining's binary_logloss: 0.00056236\tvalid_1's binary_logloss: 0.00615757\n",
      "Early stopping, best iteration is:\n",
      "[92]\ttraining's binary_logloss: 0.000712082\tvalid_1's binary_logloss: 0.00593701\n",
      "Training until validation scores don't improve for 10 rounds\n",
      "[20]\ttraining's binary_logloss: 0.0240213\tvalid_1's binary_logloss: 0.046374\n",
      "[40]\ttraining's binary_logloss: 0.0125908\tvalid_1's binary_logloss: 0.0382283\n",
      "[60]\ttraining's binary_logloss: 0.00696444\tvalid_1's binary_logloss: 0.0341303\n",
      "[80]\ttraining's binary_logloss: 0.00395727\tvalid_1's binary_logloss: 0.0320486\n",
      "[100]\ttraining's binary_logloss: 0.00226722\tvalid_1's binary_logloss: 0.0312894\n"
     ]
    },
    {
     "name": "stderr",
     "output_type": "stream",
     "text": [
      "len(train_index) : 949\n",
      "len(valid_index) : 948\n",
      "================================= 2fold lightgbm =================================\n"
     ]
    },
    {
     "name": "stdout",
     "output_type": "stream",
     "text": [
      "[120]\ttraining's binary_logloss: 0.00130869\tvalid_1's binary_logloss: 0.0312182\n",
      "Early stopping, best iteration is:\n",
      "[113]\ttraining's binary_logloss: 0.00158569\tvalid_1's binary_logloss: 0.0310368\n",
      "Training until validation scores don't improve for 10 rounds\n",
      "[20]\ttraining's binary_logloss: 0.0252861\tvalid_1's binary_logloss: 0.0414219\n",
      "[40]\ttraining's binary_logloss: 0.0130472\tvalid_1's binary_logloss: 0.0360225\n",
      "[60]\ttraining's binary_logloss: 0.00716797\tvalid_1's binary_logloss: 0.032763\n",
      "[80]\ttraining's binary_logloss: 0.00403806\tvalid_1's binary_logloss: 0.0318354\n"
     ]
    },
    {
     "name": "stderr",
     "output_type": "stream",
     "text": [
      "bcl_inhibitor logloss: 0.03142518353345435\n",
      "=========================================================================================\n",
      "len(trt) : 38\n",
      "len(train_index) : 952\n",
      "len(valid_index) : 952\n",
      "================================= 1fold lightgbm =================================\n"
     ]
    },
    {
     "name": "stdout",
     "output_type": "stream",
     "text": [
      "Early stopping, best iteration is:\n",
      "[86]\ttraining's binary_logloss: 0.00340346\tvalid_1's binary_logloss: 0.0318139\n",
      "Training until validation scores don't improve for 10 rounds\n",
      "[20]\ttraining's binary_logloss: 0.0303799\tvalid_1's binary_logloss: 0.0567976\n",
      "[40]\ttraining's binary_logloss: 0.0158843\tvalid_1's binary_logloss: 0.0452066\n",
      "[60]\ttraining's binary_logloss: 0.00880707\tvalid_1's binary_logloss: 0.0384801\n",
      "[80]\ttraining's binary_logloss: 0.00499467\tvalid_1's binary_logloss: 0.0346149\n",
      "[100]\ttraining's binary_logloss: 0.00283759\tvalid_1's binary_logloss: 0.0327702\n",
      "[120]\ttraining's binary_logloss: 0.00161735\tvalid_1's binary_logloss: 0.0321156\n",
      "[140]\ttraining's binary_logloss: 0.000928421\tvalid_1's binary_logloss: 0.0315383\n"
     ]
    },
    {
     "name": "stderr",
     "output_type": "stream",
     "text": [
      "len(train_index) : 952\n",
      "len(valid_index) : 952\n",
      "================================= 2fold lightgbm =================================\n"
     ]
    },
    {
     "name": "stdout",
     "output_type": "stream",
     "text": [
      "Early stopping, best iteration is:\n",
      "[145]\ttraining's binary_logloss: 0.000808535\tvalid_1's binary_logloss: 0.0313617\n",
      "Training until validation scores don't improve for 10 rounds\n",
      "[20]\ttraining's binary_logloss: 0.0307974\tvalid_1's binary_logloss: 0.0518437\n",
      "[40]\ttraining's binary_logloss: 0.0159456\tvalid_1's binary_logloss: 0.0381152\n",
      "[60]\ttraining's binary_logloss: 0.00866639\tvalid_1's binary_logloss: 0.0303522\n",
      "[80]\ttraining's binary_logloss: 0.00483743\tvalid_1's binary_logloss: 0.0262704\n",
      "[100]\ttraining's binary_logloss: 0.00274479\tvalid_1's binary_logloss: 0.0230778\n",
      "[120]\ttraining's binary_logloss: 0.00157123\tvalid_1's binary_logloss: 0.0210434\n",
      "[140]\ttraining's binary_logloss: 0.000898812\tvalid_1's binary_logloss: 0.0203829\n",
      "[160]\ttraining's binary_logloss: 0.000516132\tvalid_1's binary_logloss: 0.0198371\n",
      "[180]\ttraining's binary_logloss: 0.000297558\tvalid_1's binary_logloss: 0.0194834\n"
     ]
    },
    {
     "name": "stderr",
     "output_type": "stream",
     "text": [
      "bcr-abl_inhibitor logloss: 0.025335095149433336\n",
      "=========================================================================================\n",
      "len(trt) : 67\n",
      "len(train_index) : 966\n",
      "len(valid_index) : 967\n",
      "================================= 1fold lightgbm =================================\n"
     ]
    },
    {
     "name": "stdout",
     "output_type": "stream",
     "text": [
      "Early stopping, best iteration is:\n",
      "[179]\ttraining's binary_logloss: 0.000306076\tvalid_1's binary_logloss: 0.0193085\n",
      "Training until validation scores don't improve for 10 rounds\n",
      "[20]\ttraining's binary_logloss: 0.0491363\tvalid_1's binary_logloss: 0.0916238\n",
      "[40]\ttraining's binary_logloss: 0.0257689\tvalid_1's binary_logloss: 0.0789677\n",
      "[60]\ttraining's binary_logloss: 0.0141951\tvalid_1's binary_logloss: 0.0742558\n",
      "[80]\ttraining's binary_logloss: 0.00806192\tvalid_1's binary_logloss: 0.0710166\n",
      "[100]\ttraining's binary_logloss: 0.00465274\tvalid_1's binary_logloss: 0.069724\n",
      "[120]\ttraining's binary_logloss: 0.00270245\tvalid_1's binary_logloss: 0.0677126\n",
      "[140]\ttraining's binary_logloss: 0.00156963\tvalid_1's binary_logloss: 0.0667201\n",
      "[160]\ttraining's binary_logloss: 0.000915437\tvalid_1's binary_logloss: 0.0651751\n",
      "[180]\ttraining's binary_logloss: 0.000535633\tvalid_1's binary_logloss: 0.0643341\n"
     ]
    },
    {
     "name": "stderr",
     "output_type": "stream",
     "text": [
      "len(train_index) : 967\n",
      "len(valid_index) : 966\n",
      "================================= 2fold lightgbm =================================\n"
     ]
    },
    {
     "name": "stdout",
     "output_type": "stream",
     "text": [
      "Early stopping, best iteration is:\n",
      "[186]\ttraining's binary_logloss: 0.000456868\tvalid_1's binary_logloss: 0.0637578\n",
      "Training until validation scores don't improve for 10 rounds\n",
      "[20]\ttraining's binary_logloss: 0.0495544\tvalid_1's binary_logloss: 0.088516\n",
      "[40]\ttraining's binary_logloss: 0.0261504\tvalid_1's binary_logloss: 0.0748063\n",
      "[60]\ttraining's binary_logloss: 0.014463\tvalid_1's binary_logloss: 0.0673957\n",
      "[80]\ttraining's binary_logloss: 0.0081678\tvalid_1's binary_logloss: 0.0638559\n",
      "[100]\ttraining's binary_logloss: 0.00466383\tvalid_1's binary_logloss: 0.063786\n",
      "Early stopping, best iteration is:\n",
      "[96]\ttraining's binary_logloss: 0.0052133\tvalid_1's binary_logloss: 0.0634253\n"
     ]
    },
    {
     "name": "stderr",
     "output_type": "stream",
     "text": [
      "benzodiazepine_receptor_agonist logloss: 0.06359167110160001\n",
      "=========================================================================================\n",
      "len(trt) : 24\n",
      "len(train_index) : 945\n",
      "len(valid_index) : 945\n",
      "================================= 1fold lightgbm =================================\n"
     ]
    },
    {
     "name": "stdout",
     "output_type": "stream",
     "text": [
      "Training until validation scores don't improve for 10 rounds\n",
      "[20]\ttraining's binary_logloss: 0.0209832\tvalid_1's binary_logloss: 0.05022\n",
      "[40]\ttraining's binary_logloss: 0.0108577\tvalid_1's binary_logloss: 0.0492191\n",
      "Early stopping, best iteration is:\n",
      "[37]\ttraining's binary_logloss: 0.0118937\tvalid_1's binary_logloss: 0.0488988\n"
     ]
    },
    {
     "name": "stderr",
     "output_type": "stream",
     "text": [
      "len(train_index) : 945\n",
      "len(valid_index) : 945\n",
      "================================= 2fold lightgbm =================================\n"
     ]
    },
    {
     "name": "stdout",
     "output_type": "stream",
     "text": [
      "Training until validation scores don't improve for 10 rounds\n",
      "[20]\ttraining's binary_logloss: 0.0203676\tvalid_1's binary_logloss: 0.0474321\n",
      "[40]\ttraining's binary_logloss: 0.0106169\tvalid_1's binary_logloss: 0.0419713\n",
      "[60]\ttraining's binary_logloss: 0.00592905\tvalid_1's binary_logloss: 0.040398\n"
     ]
    },
    {
     "name": "stderr",
     "output_type": "stream",
     "text": [
      "beta_amyloid_inhibitor logloss: 0.04455594891090521\n",
      "=========================================================================================\n",
      "len(trt) : 68\n",
      "len(train_index) : 967\n",
      "len(valid_index) : 967\n",
      "================================= 1fold lightgbm =================================\n"
     ]
    },
    {
     "name": "stdout",
     "output_type": "stream",
     "text": [
      "Early stopping, best iteration is:\n",
      "[58]\ttraining's binary_logloss: 0.00628761\tvalid_1's binary_logloss: 0.0402131\n",
      "Training until validation scores don't improve for 10 rounds\n",
      "[20]\ttraining's binary_logloss: 0.0492257\tvalid_1's binary_logloss: 0.0660544\n",
      "[40]\ttraining's binary_logloss: 0.0254528\tvalid_1's binary_logloss: 0.0462566\n",
      "[60]\ttraining's binary_logloss: 0.0139489\tvalid_1's binary_logloss: 0.0366109\n",
      "[80]\ttraining's binary_logloss: 0.00776057\tvalid_1's binary_logloss: 0.0313071\n",
      "[100]\ttraining's binary_logloss: 0.00438918\tvalid_1's binary_logloss: 0.0279716\n",
      "[120]\ttraining's binary_logloss: 0.00250009\tvalid_1's binary_logloss: 0.0261596\n",
      "[140]\ttraining's binary_logloss: 0.0014321\tvalid_1's binary_logloss: 0.0250813\n",
      "[160]\ttraining's binary_logloss: 0.000819381\tvalid_1's binary_logloss: 0.0241921\n",
      "[180]\ttraining's binary_logloss: 0.000469303\tvalid_1's binary_logloss: 0.022816\n"
     ]
    },
    {
     "name": "stderr",
     "output_type": "stream",
     "text": [
      "len(train_index) : 967\n",
      "len(valid_index) : 967\n",
      "================================= 2fold lightgbm =================================\n"
     ]
    },
    {
     "name": "stdout",
     "output_type": "stream",
     "text": [
      "Early stopping, best iteration is:\n",
      "[185]\ttraining's binary_logloss: 0.000408414\tvalid_1's binary_logloss: 0.0227053\n",
      "Training until validation scores don't improve for 10 rounds\n",
      "[20]\ttraining's binary_logloss: 0.0489023\tvalid_1's binary_logloss: 0.0793497\n",
      "[40]\ttraining's binary_logloss: 0.0252668\tvalid_1's binary_logloss: 0.0620805\n",
      "[60]\ttraining's binary_logloss: 0.0137924\tvalid_1's binary_logloss: 0.0540051\n",
      "[80]\ttraining's binary_logloss: 0.00770831\tvalid_1's binary_logloss: 0.050048\n",
      "[100]\ttraining's binary_logloss: 0.0043655\tvalid_1's binary_logloss: 0.0476413\n"
     ]
    },
    {
     "name": "stderr",
     "output_type": "stream",
     "text": [
      "bromodomain_inhibitor logloss: 0.03489426640320057\n",
      "=========================================================================================\n",
      "len(trt) : 29\n",
      "len(train_index) : 947\n",
      "len(valid_index) : 948\n",
      "================================= 1fold lightgbm =================================\n"
     ]
    },
    {
     "name": "stdout",
     "output_type": "stream",
     "text": [
      "[120]\ttraining's binary_logloss: 0.00249098\tvalid_1's binary_logloss: 0.047505\n",
      "Early stopping, best iteration is:\n",
      "[110]\ttraining's binary_logloss: 0.00329784\tvalid_1's binary_logloss: 0.0470832\n",
      "Training until validation scores don't improve for 10 rounds\n",
      "[20]\ttraining's binary_logloss: 0.0232008\tvalid_1's binary_logloss: 0.0566169\n",
      "[40]\ttraining's binary_logloss: 0.0121012\tvalid_1's binary_logloss: 0.0534212\n"
     ]
    },
    {
     "name": "stderr",
     "output_type": "stream",
     "text": [
      "len(train_index) : 948\n",
      "len(valid_index) : 947\n",
      "================================= 2fold lightgbm =================================\n"
     ]
    },
    {
     "name": "stdout",
     "output_type": "stream",
     "text": [
      "[60]\ttraining's binary_logloss: 0.00673247\tvalid_1's binary_logloss: 0.0525879\n",
      "Early stopping, best iteration is:\n",
      "[54]\ttraining's binary_logloss: 0.00799679\tvalid_1's binary_logloss: 0.0525717\n",
      "Training until validation scores don't improve for 10 rounds\n",
      "[20]\ttraining's binary_logloss: 0.0263448\tvalid_1's binary_logloss: 0.0446376\n",
      "[40]\ttraining's binary_logloss: 0.0136273\tvalid_1's binary_logloss: 0.0385201\n",
      "[60]\ttraining's binary_logloss: 0.00753598\tvalid_1's binary_logloss: 0.0365567\n"
     ]
    },
    {
     "name": "stderr",
     "output_type": "stream",
     "text": [
      "btk_inhibitor logloss: 0.04439278259423937\n",
      "=========================================================================================\n",
      "len(trt) : 6\n",
      "len(train_index) : 936\n",
      "len(valid_index) : 936\n",
      "================================= 1fold lightgbm =================================\n"
     ]
    },
    {
     "name": "stdout",
     "output_type": "stream",
     "text": [
      "Early stopping, best iteration is:\n",
      "[69]\ttraining's binary_logloss: 0.00581798\tvalid_1's binary_logloss: 0.0362053\n",
      "Training until validation scores don't improve for 10 rounds\n"
     ]
    },
    {
     "name": "stderr",
     "output_type": "stream",
     "text": [
      "len(train_index) : 936\n",
      "len(valid_index) : 936\n",
      "================================= 2fold lightgbm =================================\n"
     ]
    },
    {
     "name": "stdout",
     "output_type": "stream",
     "text": [
      "[20]\ttraining's binary_logloss: 0.00507782\tvalid_1's binary_logloss: 0.0205101\n",
      "Early stopping, best iteration is:\n",
      "[16]\ttraining's binary_logloss: 0.00598522\tvalid_1's binary_logloss: 0.0203889\n",
      "Training until validation scores don't improve for 10 rounds\n",
      "[20]\ttraining's binary_logloss: 0.00494238\tvalid_1's binary_logloss: 0.0177779\n"
     ]
    },
    {
     "name": "stderr",
     "output_type": "stream",
     "text": [
      "calcineurin_inhibitor logloss: 0.01898884830158562\n",
      "=========================================================================================\n",
      "len(trt) : 281\n",
      "len(train_index) : 1073\n",
      "len(valid_index) : 1074\n",
      "================================= 1fold lightgbm =================================\n"
     ]
    },
    {
     "name": "stdout",
     "output_type": "stream",
     "text": [
      "Early stopping, best iteration is:\n",
      "[23]\ttraining's binary_logloss: 0.00441546\tvalid_1's binary_logloss: 0.0175888\n",
      "Training until validation scores don't improve for 10 rounds\n",
      "[20]\ttraining's binary_logloss: 0.163071\tvalid_1's binary_logloss: 0.200854\n",
      "[40]\ttraining's binary_logloss: 0.087052\tvalid_1's binary_logloss: 0.133901\n",
      "[60]\ttraining's binary_logloss: 0.0485677\tvalid_1's binary_logloss: 0.0997429\n",
      "[80]\ttraining's binary_logloss: 0.0280673\tvalid_1's binary_logloss: 0.080592\n",
      "[100]\ttraining's binary_logloss: 0.0163035\tvalid_1's binary_logloss: 0.0684453\n",
      "[120]\ttraining's binary_logloss: 0.00954758\tvalid_1's binary_logloss: 0.0597402\n",
      "[140]\ttraining's binary_logloss: 0.00561317\tvalid_1's binary_logloss: 0.0548324\n",
      "[160]\ttraining's binary_logloss: 0.00330981\tvalid_1's binary_logloss: 0.0520364\n",
      "[180]\ttraining's binary_logloss: 0.00195094\tvalid_1's binary_logloss: 0.0504881\n"
     ]
    },
    {
     "name": "stderr",
     "output_type": "stream",
     "text": [
      "len(train_index) : 1074\n",
      "len(valid_index) : 1073\n",
      "================================= 2fold lightgbm =================================\n"
     ]
    },
    {
     "name": "stdout",
     "output_type": "stream",
     "text": [
      "[200]\ttraining's binary_logloss: 0.0011528\tvalid_1's binary_logloss: 0.0496344\n",
      "Early stopping, best iteration is:\n",
      "[192]\ttraining's binary_logloss: 0.00142403\tvalid_1's binary_logloss: 0.0494644\n",
      "Training until validation scores don't improve for 10 rounds\n",
      "[20]\ttraining's binary_logloss: 0.163958\tvalid_1's binary_logloss: 0.198485\n",
      "[40]\ttraining's binary_logloss: 0.0873115\tvalid_1's binary_logloss: 0.129837\n",
      "[60]\ttraining's binary_logloss: 0.0492514\tvalid_1's binary_logloss: 0.094609\n",
      "[80]\ttraining's binary_logloss: 0.0282978\tvalid_1's binary_logloss: 0.0736862\n",
      "[100]\ttraining's binary_logloss: 0.0164425\tvalid_1's binary_logloss: 0.0620123\n",
      "[120]\ttraining's binary_logloss: 0.00966704\tvalid_1's binary_logloss: 0.0546458\n",
      "[140]\ttraining's binary_logloss: 0.00567877\tvalid_1's binary_logloss: 0.0502922\n",
      "[160]\ttraining's binary_logloss: 0.00335653\tvalid_1's binary_logloss: 0.0479005\n",
      "[180]\ttraining's binary_logloss: 0.00198869\tvalid_1's binary_logloss: 0.0458416\n"
     ]
    },
    {
     "name": "stderr",
     "output_type": "stream",
     "text": [
      "calcium_channel_blocker logloss: 0.04737184823487405\n",
      "=========================================================================================\n",
      "len(trt) : 42\n",
      "len(train_index) : 954\n",
      "len(valid_index) : 954\n",
      "================================= 1fold lightgbm =================================\n"
     ]
    },
    {
     "name": "stdout",
     "output_type": "stream",
     "text": [
      "[200]\ttraining's binary_logloss: 0.00118039\tvalid_1's binary_logloss: 0.0454519\n",
      "Early stopping, best iteration is:\n",
      "[191]\ttraining's binary_logloss: 0.00149231\tvalid_1's binary_logloss: 0.0452773\n",
      "Training until validation scores don't improve for 10 rounds\n",
      "[20]\ttraining's binary_logloss: 0.0345789\tvalid_1's binary_logloss: 0.0646952\n",
      "[40]\ttraining's binary_logloss: 0.0180291\tvalid_1's binary_logloss: 0.0538714\n",
      "[60]\ttraining's binary_logloss: 0.00988591\tvalid_1's binary_logloss: 0.04761\n",
      "[80]\ttraining's binary_logloss: 0.00556893\tvalid_1's binary_logloss: 0.0448573\n"
     ]
    },
    {
     "name": "stderr",
     "output_type": "stream",
     "text": [
      "len(train_index) : 954\n",
      "len(valid_index) : 954\n",
      "================================= 2fold lightgbm =================================\n"
     ]
    },
    {
     "name": "stdout",
     "output_type": "stream",
     "text": [
      "Early stopping, best iteration is:\n",
      "[87]\ttraining's binary_logloss: 0.00457424\tvalid_1's binary_logloss: 0.0441745\n",
      "Training until validation scores don't improve for 10 rounds\n",
      "[20]\ttraining's binary_logloss: 0.0337675\tvalid_1's binary_logloss: 0.0645065\n",
      "[40]\ttraining's binary_logloss: 0.0176358\tvalid_1's binary_logloss: 0.0529256\n",
      "[60]\ttraining's binary_logloss: 0.00968009\tvalid_1's binary_logloss: 0.0469391\n",
      "[80]\ttraining's binary_logloss: 0.00550748\tvalid_1's binary_logloss: 0.0435854\n",
      "[100]\ttraining's binary_logloss: 0.00317417\tvalid_1's binary_logloss: 0.0420404\n",
      "[120]\ttraining's binary_logloss: 0.00183723\tvalid_1's binary_logloss: 0.0405518\n",
      "[140]\ttraining's binary_logloss: 0.00106865\tvalid_1's binary_logloss: 0.0396396\n",
      "[160]\ttraining's binary_logloss: 0.000623857\tvalid_1's binary_logloss: 0.0392214\n",
      "Early stopping, best iteration is:\n",
      "[155]\ttraining's binary_logloss: 0.000713942\tvalid_1's binary_logloss: 0.0390154\n"
     ]
    },
    {
     "name": "stderr",
     "output_type": "stream",
     "text": [
      "cannabinoid_receptor_agonist logloss: 0.04159493468583247\n",
      "=========================================================================================\n",
      "len(trt) : 55\n",
      "len(train_index) : 960\n",
      "len(valid_index) : 961\n",
      "================================= 1fold lightgbm =================================\n"
     ]
    },
    {
     "name": "stdout",
     "output_type": "stream",
     "text": [
      "Training until validation scores don't improve for 10 rounds\n",
      "[20]\ttraining's binary_logloss: 0.0434139\tvalid_1's binary_logloss: 0.0906205\n",
      "[40]\ttraining's binary_logloss: 0.0224526\tvalid_1's binary_logloss: 0.0812088\n",
      "[60]\ttraining's binary_logloss: 0.0124405\tvalid_1's binary_logloss: 0.0783825\n",
      "[80]\ttraining's binary_logloss: 0.00708385\tvalid_1's binary_logloss: 0.0769486\n"
     ]
    },
    {
     "name": "stderr",
     "output_type": "stream",
     "text": [
      "len(train_index) : 961\n",
      "len(valid_index) : 960\n",
      "================================= 2fold lightgbm =================================\n"
     ]
    },
    {
     "name": "stdout",
     "output_type": "stream",
     "text": [
      "Early stopping, best iteration is:\n",
      "[85]\ttraining's binary_logloss: 0.00616756\tvalid_1's binary_logloss: 0.0768327\n",
      "Training until validation scores don't improve for 10 rounds\n",
      "[20]\ttraining's binary_logloss: 0.0484126\tvalid_1's binary_logloss: 0.0791397\n",
      "[40]\ttraining's binary_logloss: 0.0262931\tvalid_1's binary_logloss: 0.0627125\n",
      "[60]\ttraining's binary_logloss: 0.0146702\tvalid_1's binary_logloss: 0.0551116\n",
      "[80]\ttraining's binary_logloss: 0.00843569\tvalid_1's binary_logloss: 0.0509634\n",
      "[100]\ttraining's binary_logloss: 0.00490685\tvalid_1's binary_logloss: 0.0478329\n",
      "[120]\ttraining's binary_logloss: 0.0028728\tvalid_1's binary_logloss: 0.0466069\n"
     ]
    },
    {
     "name": "stderr",
     "output_type": "stream",
     "text": [
      "cannabinoid_receptor_antagonist logloss: 0.06136654748381051\n",
      "=========================================================================================\n",
      "len(trt) : 36\n",
      "len(train_index) : 951\n",
      "len(valid_index) : 951\n",
      "================================= 1fold lightgbm =================================\n"
     ]
    },
    {
     "name": "stdout",
     "output_type": "stream",
     "text": [
      "[140]\ttraining's binary_logloss: 0.00169395\tvalid_1's binary_logloss: 0.0462213\n",
      "Early stopping, best iteration is:\n",
      "[132]\ttraining's binary_logloss: 0.00209717\tvalid_1's binary_logloss: 0.0458842\n",
      "Training until validation scores don't improve for 10 rounds\n",
      "[20]\ttraining's binary_logloss: 0.0313853\tvalid_1's binary_logloss: 0.0623799\n",
      "[40]\ttraining's binary_logloss: 0.0167229\tvalid_1's binary_logloss: 0.0560138\n",
      "[60]\ttraining's binary_logloss: 0.00927802\tvalid_1's binary_logloss: 0.0516506\n",
      "[80]\ttraining's binary_logloss: 0.00527006\tvalid_1's binary_logloss: 0.0511041\n",
      "Early stopping, best iteration is:\n",
      "[77]\ttraining's binary_logloss: 0.00571298\tvalid_1's binary_logloss: 0.0509518\n"
     ]
    },
    {
     "name": "stderr",
     "output_type": "stream",
     "text": [
      "len(train_index) : 951\n",
      "len(valid_index) : 951\n",
      "================================= 2fold lightgbm =================================\n"
     ]
    },
    {
     "name": "stdout",
     "output_type": "stream",
     "text": [
      "Training until validation scores don't improve for 10 rounds\n",
      "[20]\ttraining's binary_logloss: 0.0295767\tvalid_1's binary_logloss: 0.0656889\n",
      "[40]\ttraining's binary_logloss: 0.0156229\tvalid_1's binary_logloss: 0.0583678\n",
      "[60]\ttraining's binary_logloss: 0.00873382\tvalid_1's binary_logloss: 0.0558291\n"
     ]
    },
    {
     "name": "stderr",
     "output_type": "stream",
     "text": [
      "carbonic_anhydrase_inhibitor logloss: 0.05304724248864193\n",
      "=========================================================================================\n",
      "len(trt) : 36\n",
      "len(train_index) : 951\n",
      "len(valid_index) : 951\n",
      "================================= 1fold lightgbm =================================\n"
     ]
    },
    {
     "name": "stdout",
     "output_type": "stream",
     "text": [
      "Early stopping, best iteration is:\n",
      "[68]\ttraining's binary_logloss: 0.00691512\tvalid_1's binary_logloss: 0.0551426\n",
      "Training until validation scores don't improve for 10 rounds\n",
      "[20]\ttraining's binary_logloss: 0.0305244\tvalid_1's binary_logloss: 0.0645201\n",
      "[40]\ttraining's binary_logloss: 0.016006\tvalid_1's binary_logloss: 0.0582509\n",
      "[60]\ttraining's binary_logloss: 0.0087774\tvalid_1's binary_logloss: 0.0556633\n"
     ]
    },
    {
     "name": "stderr",
     "output_type": "stream",
     "text": [
      "len(train_index) : 951\n",
      "len(valid_index) : 951\n",
      "================================= 2fold lightgbm =================================\n"
     ]
    },
    {
     "name": "stdout",
     "output_type": "stream",
     "text": [
      "Early stopping, best iteration is:\n",
      "[64]\ttraining's binary_logloss: 0.00779779\tvalid_1's binary_logloss: 0.0555276\n",
      "Training until validation scores don't improve for 10 rounds\n",
      "[20]\ttraining's binary_logloss: 0.0314951\tvalid_1's binary_logloss: 0.0605159\n",
      "[40]\ttraining's binary_logloss: 0.0164153\tvalid_1's binary_logloss: 0.0519236\n"
     ]
    },
    {
     "name": "stderr",
     "output_type": "stream",
     "text": [
      "casein_kinase_inhibitor logloss: 0.05228906886898693\n",
      "=========================================================================================\n",
      "len(trt) : 18\n",
      "len(train_index) : 942\n",
      "len(valid_index) : 942\n",
      "================================= 1fold lightgbm =================================\n"
     ]
    },
    {
     "name": "stdout",
     "output_type": "stream",
     "text": [
      "Early stopping, best iteration is:\n",
      "[49]\ttraining's binary_logloss: 0.0125864\tvalid_1's binary_logloss: 0.0490505\n",
      "Training until validation scores don't improve for 10 rounds\n",
      "[20]\ttraining's binary_logloss: 0.0150015\tvalid_1's binary_logloss: 0.0398618\n",
      "[40]\ttraining's binary_logloss: 0.00772825\tvalid_1's binary_logloss: 0.0379514\n"
     ]
    },
    {
     "name": "stderr",
     "output_type": "stream",
     "text": [
      "len(train_index) : 942\n",
      "len(valid_index) : 942\n",
      "================================= 2fold lightgbm =================================\n"
     ]
    },
    {
     "name": "stdout",
     "output_type": "stream",
     "text": [
      "Early stopping, best iteration is:\n",
      "[42]\ttraining's binary_logloss: 0.0072873\tvalid_1's binary_logloss: 0.0378882\n",
      "Training until validation scores don't improve for 10 rounds\n",
      "[20]\ttraining's binary_logloss: 0.0139498\tvalid_1's binary_logloss: 0.0492487\n",
      "[40]\ttraining's binary_logloss: 0.00709916\tvalid_1's binary_logloss: 0.0479446\n"
     ]
    },
    {
     "name": "stderr",
     "output_type": "stream",
     "text": [
      "caspase_activator logloss: 0.042881202102945104\n",
      "=========================================================================================\n",
      "len(trt) : 12\n",
      "len(train_index) : 939\n",
      "len(valid_index) : 939\n",
      "================================= 1fold lightgbm =================================\n"
     ]
    },
    {
     "name": "stdout",
     "output_type": "stream",
     "text": [
      "Early stopping, best iteration is:\n",
      "[42]\ttraining's binary_logloss: 0.00665685\tvalid_1's binary_logloss: 0.0478742\n",
      "Training until validation scores don't improve for 10 rounds\n",
      "[20]\ttraining's binary_logloss: 0.00996423\tvalid_1's binary_logloss: 0.0344122\n"
     ]
    },
    {
     "name": "stderr",
     "output_type": "stream",
     "text": [
      "len(train_index) : 939\n",
      "len(valid_index) : 939\n",
      "================================= 2fold lightgbm =================================\n"
     ]
    },
    {
     "name": "stdout",
     "output_type": "stream",
     "text": [
      "[40]\ttraining's binary_logloss: 0.00514799\tvalid_1's binary_logloss: 0.0342853\n",
      "Early stopping, best iteration is:\n",
      "[34]\ttraining's binary_logloss: 0.00624767\tvalid_1's binary_logloss: 0.033772\n",
      "Training until validation scores don't improve for 10 rounds\n",
      "[20]\ttraining's binary_logloss: 0.010712\tvalid_1's binary_logloss: 0.0267423\n"
     ]
    },
    {
     "name": "stderr",
     "output_type": "stream",
     "text": [
      "catechol_o_methyltransferase_inhibitor logloss: 0.029734275355816117\n",
      "=========================================================================================\n",
      "len(trt) : 102\n",
      "len(train_index) : 984\n",
      "len(valid_index) : 984\n",
      "================================= 1fold lightgbm =================================\n"
     ]
    },
    {
     "name": "stdout",
     "output_type": "stream",
     "text": [
      "Early stopping, best iteration is:\n",
      "[28]\ttraining's binary_logloss: 0.00812467\tvalid_1's binary_logloss: 0.0256965\n",
      "Training until validation scores don't improve for 10 rounds\n",
      "[20]\ttraining's binary_logloss: 0.0767823\tvalid_1's binary_logloss: 0.113184\n",
      "[40]\ttraining's binary_logloss: 0.040814\tvalid_1's binary_logloss: 0.0861984\n",
      "[60]\ttraining's binary_logloss: 0.0229506\tvalid_1's binary_logloss: 0.0721216\n",
      "[80]\ttraining's binary_logloss: 0.0132254\tvalid_1's binary_logloss: 0.0635461\n",
      "[100]\ttraining's binary_logloss: 0.0077066\tvalid_1's binary_logloss: 0.0596046\n",
      "[120]\ttraining's binary_logloss: 0.00449876\tvalid_1's binary_logloss: 0.0564264\n",
      "[140]\ttraining's binary_logloss: 0.0026568\tvalid_1's binary_logloss: 0.0550095\n",
      "[160]\ttraining's binary_logloss: 0.00156846\tvalid_1's binary_logloss: 0.0529075\n",
      "[180]\ttraining's binary_logloss: 0.000930342\tvalid_1's binary_logloss: 0.052827\n",
      "[200]\ttraining's binary_logloss: 0.000552464\tvalid_1's binary_logloss: 0.0514121\n"
     ]
    },
    {
     "name": "stderr",
     "output_type": "stream",
     "text": [
      "len(train_index) : 984\n",
      "len(valid_index) : 984\n",
      "================================= 2fold lightgbm =================================\n"
     ]
    },
    {
     "name": "stdout",
     "output_type": "stream",
     "text": [
      "Early stopping, best iteration is:\n",
      "[206]\ttraining's binary_logloss: 0.000471891\tvalid_1's binary_logloss: 0.0508425\n",
      "Training until validation scores don't improve for 10 rounds\n",
      "[20]\ttraining's binary_logloss: 0.0751595\tvalid_1's binary_logloss: 0.124423\n",
      "[40]\ttraining's binary_logloss: 0.0394438\tvalid_1's binary_logloss: 0.0985483\n",
      "[60]\ttraining's binary_logloss: 0.022007\tvalid_1's binary_logloss: 0.0856911\n",
      "[80]\ttraining's binary_logloss: 0.012565\tvalid_1's binary_logloss: 0.0787689\n",
      "[100]\ttraining's binary_logloss: 0.00727677\tvalid_1's binary_logloss: 0.0757211\n",
      "[120]\ttraining's binary_logloss: 0.00423848\tvalid_1's binary_logloss: 0.0742685\n",
      "[140]\ttraining's binary_logloss: 0.00247792\tvalid_1's binary_logloss: 0.0736436\n"
     ]
    },
    {
     "name": "stderr",
     "output_type": "stream",
     "text": [
      "cc_chemokine_receptor_antagonist logloss: 0.062018371617571455\n",
      "=========================================================================================\n",
      "len(trt) : 18\n",
      "len(train_index) : 942\n",
      "len(valid_index) : 942\n",
      "================================= 1fold lightgbm =================================\n"
     ]
    },
    {
     "name": "stdout",
     "output_type": "stream",
     "text": [
      "Early stopping, best iteration is:\n",
      "[143]\ttraining's binary_logloss: 0.00228566\tvalid_1's binary_logloss: 0.0731942\n",
      "Training until validation scores don't improve for 10 rounds\n",
      "[20]\ttraining's binary_logloss: 0.0150079\tvalid_1's binary_logloss: 0.0402655\n"
     ]
    },
    {
     "name": "stderr",
     "output_type": "stream",
     "text": [
      "len(train_index) : 942\n",
      "len(valid_index) : 942\n",
      "================================= 2fold lightgbm =================================\n"
     ]
    },
    {
     "name": "stdout",
     "output_type": "stream",
     "text": [
      "Early stopping, best iteration is:\n",
      "[26]\ttraining's binary_logloss: 0.0120887\tvalid_1's binary_logloss: 0.0388793\n",
      "Training until validation scores don't improve for 10 rounds\n",
      "[20]\ttraining's binary_logloss: 0.01495\tvalid_1's binary_logloss: 0.0300976\n",
      "[40]\ttraining's binary_logloss: 0.00761887\tvalid_1's binary_logloss: 0.0253777\n"
     ]
    },
    {
     "name": "stderr",
     "output_type": "stream",
     "text": [
      "cck_receptor_antagonist logloss: 0.03181699076936121\n",
      "=========================================================================================\n"
     ]
    },
    {
     "name": "stdout",
     "output_type": "stream",
     "text": [
      "[60]\ttraining's binary_logloss: 0.00404892\tvalid_1's binary_logloss: 0.0250316\n",
      "Early stopping, best iteration is:\n",
      "[53]\ttraining's binary_logloss: 0.00501893\tvalid_1's binary_logloss: 0.0247547\n"
     ]
    },
    {
     "name": "stderr",
     "output_type": "stream",
     "text": [
      "len(trt) : 340\n",
      "len(train_index) : 1103\n",
      "len(valid_index) : 1103\n",
      "================================= 1fold lightgbm =================================\n"
     ]
    },
    {
     "name": "stdout",
     "output_type": "stream",
     "text": [
      "Training until validation scores don't improve for 10 rounds\n",
      "[20]\ttraining's binary_logloss: 0.175662\tvalid_1's binary_logloss: 0.190975\n",
      "[40]\ttraining's binary_logloss: 0.0909586\tvalid_1's binary_logloss: 0.111879\n",
      "[60]\ttraining's binary_logloss: 0.0493163\tvalid_1's binary_logloss: 0.0727002\n",
      "[80]\ttraining's binary_logloss: 0.0274198\tvalid_1's binary_logloss: 0.052276\n",
      "[100]\ttraining's binary_logloss: 0.0154016\tvalid_1's binary_logloss: 0.041697\n",
      "[120]\ttraining's binary_logloss: 0.00871043\tvalid_1's binary_logloss: 0.0355061\n",
      "[140]\ttraining's binary_logloss: 0.00493896\tvalid_1's binary_logloss: 0.0329924\n",
      "[160]\ttraining's binary_logloss: 0.00280726\tvalid_1's binary_logloss: 0.03193\n"
     ]
    },
    {
     "name": "stderr",
     "output_type": "stream",
     "text": [
      "len(train_index) : 1103\n",
      "len(valid_index) : 1103\n",
      "================================= 2fold lightgbm =================================\n"
     ]
    },
    {
     "name": "stdout",
     "output_type": "stream",
     "text": [
      "Early stopping, best iteration is:\n",
      "[169]\ttraining's binary_logloss: 0.00217798\tvalid_1's binary_logloss: 0.0316317\n",
      "Training until validation scores don't improve for 10 rounds\n",
      "[20]\ttraining's binary_logloss: 0.178632\tvalid_1's binary_logloss: 0.186649\n",
      "[40]\ttraining's binary_logloss: 0.0936655\tvalid_1's binary_logloss: 0.105202\n",
      "[60]\ttraining's binary_logloss: 0.051415\tvalid_1's binary_logloss: 0.0651651\n",
      "[80]\ttraining's binary_logloss: 0.0287425\tvalid_1's binary_logloss: 0.0432257\n",
      "[100]\ttraining's binary_logloss: 0.0160022\tvalid_1's binary_logloss: 0.0300111\n",
      "[120]\ttraining's binary_logloss: 0.00890946\tvalid_1's binary_logloss: 0.0223045\n",
      "[140]\ttraining's binary_logloss: 0.00496434\tvalid_1's binary_logloss: 0.0184366\n",
      "[160]\ttraining's binary_logloss: 0.00277086\tvalid_1's binary_logloss: 0.0163232\n",
      "[180]\ttraining's binary_logloss: 0.00155581\tvalid_1's binary_logloss: 0.0154229\n",
      "[200]\ttraining's binary_logloss: 0.000875668\tvalid_1's binary_logloss: 0.0151362\n"
     ]
    },
    {
     "name": "stderr",
     "output_type": "stream",
     "text": [
      "cdk_inhibitor logloss: 0.023349585755797687\n",
      "=========================================================================================\n",
      "len(trt) : 54\n",
      "len(train_index) : 960\n",
      "len(valid_index) : 960\n",
      "================================= 1fold lightgbm =================================\n"
     ]
    },
    {
     "name": "stdout",
     "output_type": "stream",
     "text": [
      "Early stopping, best iteration is:\n",
      "[205]\ttraining's binary_logloss: 0.000760983\tvalid_1's binary_logloss: 0.0150675\n",
      "Training until validation scores don't improve for 10 rounds\n",
      "[20]\ttraining's binary_logloss: 0.0464952\tvalid_1's binary_logloss: 0.087511\n",
      "[40]\ttraining's binary_logloss: 0.0247536\tvalid_1's binary_logloss: 0.0791389\n",
      "[60]\ttraining's binary_logloss: 0.0140608\tvalid_1's binary_logloss: 0.0756961\n",
      "[80]\ttraining's binary_logloss: 0.00826009\tvalid_1's binary_logloss: 0.0746692\n"
     ]
    },
    {
     "name": "stderr",
     "output_type": "stream",
     "text": [
      "len(train_index) : 960\n",
      "len(valid_index) : 960\n",
      "================================= 2fold lightgbm =================================\n"
     ]
    },
    {
     "name": "stdout",
     "output_type": "stream",
     "text": [
      "Early stopping, best iteration is:\n",
      "[84]\ttraining's binary_logloss: 0.00745371\tvalid_1's binary_logloss: 0.0743837\n",
      "Training until validation scores don't improve for 10 rounds\n",
      "[20]\ttraining's binary_logloss: 0.0469999\tvalid_1's binary_logloss: 0.0855629\n",
      "[40]\ttraining's binary_logloss: 0.0253714\tvalid_1's binary_logloss: 0.075639\n",
      "[60]\ttraining's binary_logloss: 0.0143805\tvalid_1's binary_logloss: 0.0698111\n"
     ]
    },
    {
     "name": "stderr",
     "output_type": "stream",
     "text": [
      "chelating_agent logloss: 0.07131833779821999\n",
      "=========================================================================================\n"
     ]
    },
    {
     "name": "stdout",
     "output_type": "stream",
     "text": [
      "[80]\ttraining's binary_logloss: 0.00824726\tvalid_1's binary_logloss: 0.0691534\n",
      "Early stopping, best iteration is:\n",
      "[74]\ttraining's binary_logloss: 0.0097108\tvalid_1's binary_logloss: 0.068253\n"
     ]
    },
    {
     "name": "stderr",
     "output_type": "stream",
     "text": [
      "len(trt) : 24\n",
      "len(train_index) : 945\n",
      "len(valid_index) : 945\n",
      "================================= 1fold lightgbm =================================\n"
     ]
    },
    {
     "name": "stdout",
     "output_type": "stream",
     "text": [
      "Training until validation scores don't improve for 10 rounds\n",
      "[20]\ttraining's binary_logloss: 0.0170703\tvalid_1's binary_logloss: 0.0262304\n",
      "[40]\ttraining's binary_logloss: 0.00855796\tvalid_1's binary_logloss: 0.0181072\n",
      "[60]\ttraining's binary_logloss: 0.00456184\tvalid_1's binary_logloss: 0.01423\n",
      "[80]\ttraining's binary_logloss: 0.00248669\tvalid_1's binary_logloss: 0.0119389\n",
      "[100]\ttraining's binary_logloss: 0.00136941\tvalid_1's binary_logloss: 0.0108688\n",
      "[120]\ttraining's binary_logloss: 0.00075818\tvalid_1's binary_logloss: 0.0102665\n",
      "[140]\ttraining's binary_logloss: 0.000420917\tvalid_1's binary_logloss: 0.00990963\n"
     ]
    },
    {
     "name": "stderr",
     "output_type": "stream",
     "text": [
      "len(train_index) : 945\n",
      "len(valid_index) : 945\n"
     ]
    },
    {
     "name": "stdout",
     "output_type": "stream",
     "text": [
      "[160]\ttraining's binary_logloss: 0.00023418\tvalid_1's binary_logloss: 0.0098013\n",
      "Early stopping, best iteration is:\n",
      "[155]\ttraining's binary_logloss: 0.000271154\tvalid_1's binary_logloss: 0.00963156\n"
     ]
    },
    {
     "name": "stderr",
     "output_type": "stream",
     "text": [
      "================================= 2fold lightgbm =================================\n"
     ]
    },
    {
     "name": "stdout",
     "output_type": "stream",
     "text": [
      "Training until validation scores don't improve for 10 rounds\n",
      "[20]\ttraining's binary_logloss: 0.0171117\tvalid_1's binary_logloss: 0.0265625\n",
      "[40]\ttraining's binary_logloss: 0.00859502\tvalid_1's binary_logloss: 0.0199356\n",
      "[60]\ttraining's binary_logloss: 0.00459501\tvalid_1's binary_logloss: 0.0163968\n",
      "[80]\ttraining's binary_logloss: 0.00251005\tvalid_1's binary_logloss: 0.0141901\n",
      "[100]\ttraining's binary_logloss: 0.00138455\tvalid_1's binary_logloss: 0.0128209\n",
      "[120]\ttraining's binary_logloss: 0.000767496\tvalid_1's binary_logloss: 0.0117509\n",
      "[140]\ttraining's binary_logloss: 0.000426567\tvalid_1's binary_logloss: 0.0111273\n"
     ]
    },
    {
     "name": "stderr",
     "output_type": "stream",
     "text": [
      "chk_inhibitor logloss: 0.010288954474439494\n",
      "=========================================================================================\n",
      "len(trt) : 42\n",
      "len(train_index) : 954\n",
      "len(valid_index) : 954\n",
      "================================= 1fold lightgbm =================================\n"
     ]
    },
    {
     "name": "stdout",
     "output_type": "stream",
     "text": [
      "Early stopping, best iteration is:\n",
      "[148]\ttraining's binary_logloss: 0.000337503\tvalid_1's binary_logloss: 0.0109464\n",
      "Training until validation scores don't improve for 10 rounds\n",
      "[20]\ttraining's binary_logloss: 0.0367752\tvalid_1's binary_logloss: 0.0717603\n",
      "[40]\ttraining's binary_logloss: 0.0200426\tvalid_1's binary_logloss: 0.0629387\n",
      "[60]\ttraining's binary_logloss: 0.0112047\tvalid_1's binary_logloss: 0.0601249\n"
     ]
    },
    {
     "name": "stderr",
     "output_type": "stream",
     "text": [
      "len(train_index) : 954\n",
      "len(valid_index) : 954\n",
      "================================= 2fold lightgbm =================================\n"
     ]
    },
    {
     "name": "stdout",
     "output_type": "stream",
     "text": [
      "Early stopping, best iteration is:\n",
      "[62]\ttraining's binary_logloss: 0.0106097\tvalid_1's binary_logloss: 0.0598766\n",
      "Training until validation scores don't improve for 10 rounds\n",
      "[20]\ttraining's binary_logloss: 0.0358179\tvalid_1's binary_logloss: 0.0808845\n",
      "[40]\ttraining's binary_logloss: 0.0190413\tvalid_1's binary_logloss: 0.0753449\n",
      "[60]\ttraining's binary_logloss: 0.0108082\tvalid_1's binary_logloss: 0.0741159\n"
     ]
    },
    {
     "name": "stderr",
     "output_type": "stream",
     "text": [
      "chloride_channel_blocker logloss: 0.06691971251436193\n",
      "=========================================================================================\n",
      "len(trt) : 48\n",
      "len(train_index) : 957\n",
      "len(valid_index) : 957\n",
      "================================= 1fold lightgbm =================================\n"
     ]
    },
    {
     "name": "stdout",
     "output_type": "stream",
     "text": [
      "Early stopping, best iteration is:\n",
      "[68]\ttraining's binary_logloss: 0.00863872\tvalid_1's binary_logloss: 0.0739628\n",
      "Training until validation scores don't improve for 10 rounds\n",
      "[20]\ttraining's binary_logloss: 0.0410364\tvalid_1's binary_logloss: 0.082288\n",
      "[40]\ttraining's binary_logloss: 0.0219076\tvalid_1's binary_logloss: 0.0744012\n",
      "[60]\ttraining's binary_logloss: 0.0122788\tvalid_1's binary_logloss: 0.0688332\n",
      "[80]\ttraining's binary_logloss: 0.00706219\tvalid_1's binary_logloss: 0.0670172\n"
     ]
    },
    {
     "name": "stderr",
     "output_type": "stream",
     "text": [
      "len(train_index) : 957\n",
      "len(valid_index) : 957\n",
      "================================= 2fold lightgbm =================================\n"
     ]
    },
    {
     "name": "stdout",
     "output_type": "stream",
     "text": [
      "Early stopping, best iteration is:\n",
      "[84]\ttraining's binary_logloss: 0.00631752\tvalid_1's binary_logloss: 0.0666455\n",
      "Training until validation scores don't improve for 10 rounds\n",
      "[20]\ttraining's binary_logloss: 0.0414219\tvalid_1's binary_logloss: 0.0759202\n",
      "[40]\ttraining's binary_logloss: 0.0214958\tvalid_1's binary_logloss: 0.0653935\n",
      "[60]\ttraining's binary_logloss: 0.0120077\tvalid_1's binary_logloss: 0.0620347\n",
      "[80]\ttraining's binary_logloss: 0.00691279\tvalid_1's binary_logloss: 0.0616283\n"
     ]
    },
    {
     "name": "stderr",
     "output_type": "stream",
     "text": [
      "cholesterol_inhibitor logloss: 0.06387093725137968\n",
      "=========================================================================================\n",
      "len(trt) : 54\n",
      "len(train_index) : 960\n",
      "len(valid_index) : 960\n",
      "================================= 1fold lightgbm =================================\n"
     ]
    },
    {
     "name": "stdout",
     "output_type": "stream",
     "text": [
      "Early stopping, best iteration is:\n",
      "[83]\ttraining's binary_logloss: 0.0063705\tvalid_1's binary_logloss: 0.0610963\n",
      "Training until validation scores don't improve for 10 rounds\n",
      "[20]\ttraining's binary_logloss: 0.0487166\tvalid_1's binary_logloss: 0.0920595\n",
      "[40]\ttraining's binary_logloss: 0.0263097\tvalid_1's binary_logloss: 0.0839637\n",
      "[60]\ttraining's binary_logloss: 0.0151252\tvalid_1's binary_logloss: 0.0799898\n",
      "[80]\ttraining's binary_logloss: 0.00877106\tvalid_1's binary_logloss: 0.0792184\n"
     ]
    },
    {
     "name": "stderr",
     "output_type": "stream",
     "text": [
      "len(train_index) : 960\n",
      "len(valid_index) : 960\n",
      "================================= 2fold lightgbm =================================\n"
     ]
    },
    {
     "name": "stdout",
     "output_type": "stream",
     "text": [
      "Early stopping, best iteration is:\n",
      "[84]\ttraining's binary_logloss: 0.0078951\tvalid_1's binary_logloss: 0.078517\n",
      "Training until validation scores don't improve for 10 rounds\n",
      "[20]\ttraining's binary_logloss: 0.0475035\tvalid_1's binary_logloss: 0.0831925\n",
      "[40]\ttraining's binary_logloss: 0.0253448\tvalid_1's binary_logloss: 0.0717749\n",
      "[60]\ttraining's binary_logloss: 0.0144081\tvalid_1's binary_logloss: 0.0681846\n",
      "[80]\ttraining's binary_logloss: 0.00833548\tvalid_1's binary_logloss: 0.0669702\n"
     ]
    },
    {
     "name": "stderr",
     "output_type": "stream",
     "text": [
      "cholinergic_receptor_antagonist logloss: 0.0726276068740714\n",
      "=========================================================================================\n",
      "len(trt) : 6\n",
      "len(train_index) : 936\n",
      "len(valid_index) : 936\n",
      "================================= 1fold lightgbm =================================\n"
     ]
    },
    {
     "name": "stdout",
     "output_type": "stream",
     "text": [
      "Early stopping, best iteration is:\n",
      "[81]\ttraining's binary_logloss: 0.00811901\tvalid_1's binary_logloss: 0.0667382\n",
      "Training until validation scores don't improve for 10 rounds\n",
      "[20]\ttraining's binary_logloss: 0.00512469\tvalid_1's binary_logloss: 0.0174685\n",
      "[40]\ttraining's binary_logloss: 0.00254553\tvalid_1's binary_logloss: 0.017065\n",
      "Early stopping, best iteration is:\n",
      "[41]\ttraining's binary_logloss: 0.0024641\tvalid_1's binary_logloss: 0.0170461\n"
     ]
    },
    {
     "name": "stderr",
     "output_type": "stream",
     "text": [
      "len(train_index) : 936\n",
      "len(valid_index) : 936\n",
      "================================= 2fold lightgbm =================================\n"
     ]
    },
    {
     "name": "stdout",
     "output_type": "stream",
     "text": [
      "Training until validation scores don't improve for 10 rounds\n",
      "[20]\ttraining's binary_logloss: 0.00516215\tvalid_1's binary_logloss: 0.0151091\n",
      "[40]\ttraining's binary_logloss: 0.00256477\tvalid_1's binary_logloss: 0.0138377\n",
      "Early stopping, best iteration is:\n",
      "[39]\ttraining's binary_logloss: 0.00264933\tvalid_1's binary_logloss: 0.0137815\n"
     ]
    },
    {
     "name": "stderr",
     "output_type": "stream",
     "text": [
      "coagulation_factor_inhibitor logloss: 0.015413769332824543\n",
      "=========================================================================================\n",
      "len(trt) : 36\n",
      "len(train_index) : 951\n",
      "len(valid_index) : 951\n",
      "================================= 1fold lightgbm =================================\n"
     ]
    },
    {
     "name": "stdout",
     "output_type": "stream",
     "text": [
      "Training until validation scores don't improve for 10 rounds\n",
      "[20]\ttraining's binary_logloss: 0.0256368\tvalid_1's binary_logloss: 0.0517248\n",
      "[40]\ttraining's binary_logloss: 0.0133135\tvalid_1's binary_logloss: 0.0445714\n",
      "[60]\ttraining's binary_logloss: 0.00732727\tvalid_1's binary_logloss: 0.0406137\n",
      "[80]\ttraining's binary_logloss: 0.00413632\tvalid_1's binary_logloss: 0.0388406\n"
     ]
    },
    {
     "name": "stderr",
     "output_type": "stream",
     "text": [
      "len(train_index) : 951\n",
      "len(valid_index) : 951\n",
      "================================= 2fold lightgbm =================================\n"
     ]
    },
    {
     "name": "stdout",
     "output_type": "stream",
     "text": [
      "Early stopping, best iteration is:\n",
      "[89]\ttraining's binary_logloss: 0.00321131\tvalid_1's binary_logloss: 0.0383624\n",
      "Training until validation scores don't improve for 10 rounds\n",
      "[20]\ttraining's binary_logloss: 0.0279503\tvalid_1's binary_logloss: 0.0375297\n",
      "[40]\ttraining's binary_logloss: 0.0145627\tvalid_1's binary_logloss: 0.0261626\n",
      "[60]\ttraining's binary_logloss: 0.00804581\tvalid_1's binary_logloss: 0.0202431\n",
      "[80]\ttraining's binary_logloss: 0.00452713\tvalid_1's binary_logloss: 0.0168587\n",
      "[100]\ttraining's binary_logloss: 0.00255335\tvalid_1's binary_logloss: 0.0154904\n"
     ]
    },
    {
     "name": "stderr",
     "output_type": "stream",
     "text": [
      "corticosteroid_agonist logloss: 0.026772674627758643\n",
      "=========================================================================================\n",
      "len(trt) : 435\n",
      "len(train_index) : 1150\n",
      "len(valid_index) : 1151\n",
      "================================= 1fold lightgbm =================================\n"
     ]
    },
    {
     "name": "stdout",
     "output_type": "stream",
     "text": [
      "Early stopping, best iteration is:\n",
      "[103]\ttraining's binary_logloss: 0.00234589\tvalid_1's binary_logloss: 0.015183\n",
      "Training until validation scores don't improve for 10 rounds\n",
      "[20]\ttraining's binary_logloss: 0.21917\tvalid_1's binary_logloss: 0.238024\n",
      "[40]\ttraining's binary_logloss: 0.119456\tvalid_1's binary_logloss: 0.146034\n",
      "[60]\ttraining's binary_logloss: 0.0685106\tvalid_1's binary_logloss: 0.0981128\n",
      "[80]\ttraining's binary_logloss: 0.0402921\tvalid_1's binary_logloss: 0.071113\n",
      "[100]\ttraining's binary_logloss: 0.023812\tvalid_1's binary_logloss: 0.0538294\n",
      "[120]\ttraining's binary_logloss: 0.0142224\tvalid_1's binary_logloss: 0.0436092\n",
      "[140]\ttraining's binary_logloss: 0.00850917\tvalid_1's binary_logloss: 0.0367668\n",
      "[160]\ttraining's binary_logloss: 0.00511028\tvalid_1's binary_logloss: 0.0327634\n",
      "[180]\ttraining's binary_logloss: 0.00307042\tvalid_1's binary_logloss: 0.0297732\n",
      "[200]\ttraining's binary_logloss: 0.00184763\tvalid_1's binary_logloss: 0.0278776\n",
      "[220]\ttraining's binary_logloss: 0.00111103\tvalid_1's binary_logloss: 0.0260347\n",
      "[240]\ttraining's binary_logloss: 0.000664341\tvalid_1's binary_logloss: 0.0247022\n",
      "[260]\ttraining's binary_logloss: 0.000401082\tvalid_1's binary_logloss: 0.0241636\n",
      "[280]\ttraining's binary_logloss: 0.000242673\tvalid_1's binary_logloss: 0.0232793\n",
      "[300]\ttraining's binary_logloss: 0.000146323\tvalid_1's binary_logloss: 0.0225025\n",
      "[320]\ttraining's binary_logloss: 8.92249e-05\tvalid_1's binary_logloss: 0.0222395\n",
      "[340]\ttraining's binary_logloss: 5.40034e-05\tvalid_1's binary_logloss: 0.0212816\n",
      "[360]\ttraining's binary_logloss: 3.26539e-05\tvalid_1's binary_logloss: 0.020939\n",
      "[380]\ttraining's binary_logloss: 1.98262e-05\tvalid_1's binary_logloss: 0.0201072\n",
      "[400]\ttraining's binary_logloss: 1.22516e-05\tvalid_1's binary_logloss: 0.0199617\n",
      "Early stopping, best iteration is:\n",
      "[397]\ttraining's binary_logloss: 1.3122e-05\tvalid_1's binary_logloss: 0.0198001\n"
     ]
    },
    {
     "name": "stderr",
     "output_type": "stream",
     "text": [
      "len(train_index) : 1151\n",
      "len(valid_index) : 1150\n",
      "================================= 2fold lightgbm =================================\n"
     ]
    },
    {
     "name": "stdout",
     "output_type": "stream",
     "text": [
      "Training until validation scores don't improve for 10 rounds\n",
      "[20]\ttraining's binary_logloss: 0.219022\tvalid_1's binary_logloss: 0.24911\n",
      "[40]\ttraining's binary_logloss: 0.118927\tvalid_1's binary_logloss: 0.159988\n",
      "[60]\ttraining's binary_logloss: 0.066547\tvalid_1's binary_logloss: 0.111655\n",
      "[80]\ttraining's binary_logloss: 0.0383722\tvalid_1's binary_logloss: 0.0836671\n",
      "[100]\ttraining's binary_logloss: 0.022375\tvalid_1's binary_logloss: 0.0661294\n",
      "[120]\ttraining's binary_logloss: 0.0131879\tvalid_1's binary_logloss: 0.0544328\n",
      "[140]\ttraining's binary_logloss: 0.00777435\tvalid_1's binary_logloss: 0.0470573\n",
      "[160]\ttraining's binary_logloss: 0.00458776\tvalid_1's binary_logloss: 0.0416529\n",
      "[180]\ttraining's binary_logloss: 0.00272018\tvalid_1's binary_logloss: 0.037851\n",
      "[200]\ttraining's binary_logloss: 0.0016203\tvalid_1's binary_logloss: 0.0352106\n",
      "[220]\ttraining's binary_logloss: 0.000966897\tvalid_1's binary_logloss: 0.0331519\n",
      "[240]\ttraining's binary_logloss: 0.000577194\tvalid_1's binary_logloss: 0.0307511\n",
      "[260]\ttraining's binary_logloss: 0.000343344\tvalid_1's binary_logloss: 0.0288985\n",
      "[280]\ttraining's binary_logloss: 0.000205092\tvalid_1's binary_logloss: 0.0270448\n",
      "[300]\ttraining's binary_logloss: 0.000122829\tvalid_1's binary_logloss: 0.0258599\n",
      "[320]\ttraining's binary_logloss: 7.35607e-05\tvalid_1's binary_logloss: 0.024854\n",
      "[340]\ttraining's binary_logloss: 4.40439e-05\tvalid_1's binary_logloss: 0.0233758\n",
      "[360]\ttraining's binary_logloss: 2.64858e-05\tvalid_1's binary_logloss: 0.0216194\n",
      "[380]\ttraining's binary_logloss: 1.59707e-05\tvalid_1's binary_logloss: 0.0201938\n",
      "[400]\ttraining's binary_logloss: 9.98225e-06\tvalid_1's binary_logloss: 0.0188061\n",
      "[420]\ttraining's binary_logloss: 6.69683e-06\tvalid_1's binary_logloss: 0.0182468\n"
     ]
    },
    {
     "name": "stderr",
     "output_type": "stream",
     "text": [
      "cyclooxygenase_inhibitor logloss: 0.018880397061716164\n",
      "=========================================================================================\n"
     ]
    },
    {
     "name": "stdout",
     "output_type": "stream",
     "text": [
      "[440]\ttraining's binary_logloss: 5.03354e-06\tvalid_1's binary_logloss: 0.0180648\n",
      "Early stopping, best iteration is:\n",
      "[432]\ttraining's binary_logloss: 5.54604e-06\tvalid_1's binary_logloss: 0.0179598\n"
     ]
    },
    {
     "name": "stderr",
     "output_type": "stream",
     "text": [
      "len(trt) : 104\n",
      "len(train_index) : 985\n",
      "len(valid_index) : 985\n",
      "================================= 1fold lightgbm =================================\n"
     ]
    },
    {
     "name": "stdout",
     "output_type": "stream",
     "text": [
      "Training until validation scores don't improve for 10 rounds\n",
      "[20]\ttraining's binary_logloss: 0.076587\tvalid_1's binary_logloss: 0.113561\n",
      "[40]\ttraining's binary_logloss: 0.0405772\tvalid_1's binary_logloss: 0.0789628\n",
      "[60]\ttraining's binary_logloss: 0.0228961\tvalid_1's binary_logloss: 0.0599686\n",
      "[80]\ttraining's binary_logloss: 0.013135\tvalid_1's binary_logloss: 0.0482731\n",
      "[100]\ttraining's binary_logloss: 0.00761521\tvalid_1's binary_logloss: 0.0421267\n",
      "[120]\ttraining's binary_logloss: 0.00445702\tvalid_1's binary_logloss: 0.0374825\n",
      "[140]\ttraining's binary_logloss: 0.00261268\tvalid_1's binary_logloss: 0.0337745\n",
      "[160]\ttraining's binary_logloss: 0.0015387\tvalid_1's binary_logloss: 0.0314937\n",
      "[180]\ttraining's binary_logloss: 0.000907308\tvalid_1's binary_logloss: 0.0295698\n",
      "[200]\ttraining's binary_logloss: 0.000534461\tvalid_1's binary_logloss: 0.0281385\n",
      "[220]\ttraining's binary_logloss: 0.000314628\tvalid_1's binary_logloss: 0.0273577\n",
      "[240]\ttraining's binary_logloss: 0.000186089\tvalid_1's binary_logloss: 0.0268512\n",
      "[260]\ttraining's binary_logloss: 0.000109771\tvalid_1's binary_logloss: 0.0262537\n",
      "[280]\ttraining's binary_logloss: 6.51735e-05\tvalid_1's binary_logloss: 0.0252874\n",
      "[300]\ttraining's binary_logloss: 3.88605e-05\tvalid_1's binary_logloss: 0.0242311\n",
      "[320]\ttraining's binary_logloss: 2.35904e-05\tvalid_1's binary_logloss: 0.023072\n",
      "[340]\ttraining's binary_logloss: 1.46032e-05\tvalid_1's binary_logloss: 0.0217873\n",
      "[360]\ttraining's binary_logloss: 9.27128e-06\tvalid_1's binary_logloss: 0.020621\n",
      "[380]\ttraining's binary_logloss: 6.16795e-06\tvalid_1's binary_logloss: 0.0197831\n",
      "Early stopping, best iteration is:\n",
      "[375]\ttraining's binary_logloss: 6.80042e-06\tvalid_1's binary_logloss: 0.0197663\n"
     ]
    },
    {
     "name": "stderr",
     "output_type": "stream",
     "text": [
      "len(train_index) : 985\n",
      "len(valid_index) : 985\n",
      "================================= 2fold lightgbm =================================\n"
     ]
    },
    {
     "name": "stdout",
     "output_type": "stream",
     "text": [
      "Training until validation scores don't improve for 10 rounds\n",
      "[20]\ttraining's binary_logloss: 0.0749956\tvalid_1's binary_logloss: 0.109615\n",
      "[40]\ttraining's binary_logloss: 0.0392029\tvalid_1's binary_logloss: 0.0836791\n",
      "[60]\ttraining's binary_logloss: 0.0216784\tvalid_1's binary_logloss: 0.0711229\n",
      "[80]\ttraining's binary_logloss: 0.0122897\tvalid_1's binary_logloss: 0.0633694\n",
      "[100]\ttraining's binary_logloss: 0.00703655\tvalid_1's binary_logloss: 0.0575675\n",
      "[120]\ttraining's binary_logloss: 0.00406966\tvalid_1's binary_logloss: 0.0546831\n",
      "[140]\ttraining's binary_logloss: 0.00234731\tvalid_1's binary_logloss: 0.0529886\n",
      "[160]\ttraining's binary_logloss: 0.001359\tvalid_1's binary_logloss: 0.051399\n",
      "[180]\ttraining's binary_logloss: 0.000789378\tvalid_1's binary_logloss: 0.0508704\n",
      "[200]\ttraining's binary_logloss: 0.000459742\tvalid_1's binary_logloss: 0.0498342\n"
     ]
    },
    {
     "name": "stderr",
     "output_type": "stream",
     "text": [
      "cytochrome_p450_inhibitor logloss: 0.03476855288616651\n",
      "=========================================================================================\n",
      "len(trt) : 36\n",
      "len(train_index) : 951\n",
      "len(valid_index) : 951\n",
      "================================= 1fold lightgbm =================================\n"
     ]
    },
    {
     "name": "stdout",
     "output_type": "stream",
     "text": [
      "Early stopping, best iteration is:\n",
      "[206]\ttraining's binary_logloss: 0.00039051\tvalid_1's binary_logloss: 0.0497709\n",
      "Training until validation scores don't improve for 10 rounds\n",
      "[20]\ttraining's binary_logloss: 0.028201\tvalid_1's binary_logloss: 0.0508552\n",
      "[40]\ttraining's binary_logloss: 0.0148105\tvalid_1's binary_logloss: 0.0407449\n",
      "[60]\ttraining's binary_logloss: 0.00800414\tvalid_1's binary_logloss: 0.0349399\n",
      "[80]\ttraining's binary_logloss: 0.00445184\tvalid_1's binary_logloss: 0.0314934\n",
      "[100]\ttraining's binary_logloss: 0.00251575\tvalid_1's binary_logloss: 0.0295831\n",
      "[120]\ttraining's binary_logloss: 0.00143305\tvalid_1's binary_logloss: 0.0284874\n"
     ]
    },
    {
     "name": "stderr",
     "output_type": "stream",
     "text": [
      "len(train_index) : 951\n",
      "len(valid_index) : 951\n"
     ]
    },
    {
     "name": "stdout",
     "output_type": "stream",
     "text": [
      "[140]\ttraining's binary_logloss: 0.000822091\tvalid_1's binary_logloss: 0.0279448\n",
      "Early stopping, best iteration is:\n",
      "[134]\ttraining's binary_logloss: 0.000969881\tvalid_1's binary_logloss: 0.0277438\n"
     ]
    },
    {
     "name": "stderr",
     "output_type": "stream",
     "text": [
      "================================= 2fold lightgbm =================================\n"
     ]
    },
    {
     "name": "stdout",
     "output_type": "stream",
     "text": [
      "Training until validation scores don't improve for 10 rounds\n",
      "[20]\ttraining's binary_logloss: 0.0297374\tvalid_1's binary_logloss: 0.0461182\n",
      "[40]\ttraining's binary_logloss: 0.0155525\tvalid_1's binary_logloss: 0.0358811\n",
      "[60]\ttraining's binary_logloss: 0.00852412\tvalid_1's binary_logloss: 0.030369\n",
      "[80]\ttraining's binary_logloss: 0.00480514\tvalid_1's binary_logloss: 0.0277748\n",
      "[100]\ttraining's binary_logloss: 0.00275458\tvalid_1's binary_logloss: 0.026891\n"
     ]
    },
    {
     "name": "stderr",
     "output_type": "stream",
     "text": [
      "dihydrofolate_reductase_inhibitor logloss: 0.027289894349837147\n",
      "=========================================================================================\n",
      "len(trt) : 25\n",
      "len(train_index) : 945\n",
      "len(valid_index) : 946\n",
      "================================= 1fold lightgbm =================================\n"
     ]
    },
    {
     "name": "stdout",
     "output_type": "stream",
     "text": [
      "Early stopping, best iteration is:\n",
      "[103]\ttraining's binary_logloss: 0.00253595\tvalid_1's binary_logloss: 0.026836\n",
      "Training until validation scores don't improve for 10 rounds\n",
      "[20]\ttraining's binary_logloss: 0.0207854\tvalid_1's binary_logloss: 0.0395871\n",
      "[40]\ttraining's binary_logloss: 0.0107084\tvalid_1's binary_logloss: 0.0325925\n",
      "[60]\ttraining's binary_logloss: 0.00579525\tvalid_1's binary_logloss: 0.0306714\n",
      "[80]\ttraining's binary_logloss: 0.00324423\tvalid_1's binary_logloss: 0.0274131\n",
      "[100]\ttraining's binary_logloss: 0.00184517\tvalid_1's binary_logloss: 0.0258468\n",
      "[120]\ttraining's binary_logloss: 0.00105764\tvalid_1's binary_logloss: 0.0247634\n",
      "Early stopping, best iteration is:\n",
      "[118]\ttraining's binary_logloss: 0.001118\tvalid_1's binary_logloss: 0.0246443\n"
     ]
    },
    {
     "name": "stderr",
     "output_type": "stream",
     "text": [
      "len(train_index) : 946\n",
      "len(valid_index) : 945\n",
      "================================= 2fold lightgbm =================================\n"
     ]
    },
    {
     "name": "stdout",
     "output_type": "stream",
     "text": [
      "Training until validation scores don't improve for 10 rounds\n",
      "[20]\ttraining's binary_logloss: 0.0222711\tvalid_1's binary_logloss: 0.0495783\n",
      "[40]\ttraining's binary_logloss: 0.0115641\tvalid_1's binary_logloss: 0.0449665\n",
      "[60]\ttraining's binary_logloss: 0.006351\tvalid_1's binary_logloss: 0.0432741\n"
     ]
    },
    {
     "name": "stderr",
     "output_type": "stream",
     "text": [
      "dipeptidyl_peptidase_inhibitor logloss: 0.03395426594781146\n",
      "=========================================================================================\n",
      "len(trt) : 6\n",
      "len(train_index) : 936\n",
      "len(valid_index) : 936\n",
      "================================= 1fold lightgbm =================================\n"
     ]
    },
    {
     "name": "stdout",
     "output_type": "stream",
     "text": [
      "Early stopping, best iteration is:\n",
      "[60]\ttraining's binary_logloss: 0.006351\tvalid_1's binary_logloss: 0.0432741\n",
      "Training until validation scores don't improve for 10 rounds\n",
      "[20]\ttraining's binary_logloss: 0.00503425\tvalid_1's binary_logloss: 0.0129103\n",
      "[40]\ttraining's binary_logloss: 0.00252268\tvalid_1's binary_logloss: 0.0118061\n",
      "[60]\ttraining's binary_logloss: 0.00135837\tvalid_1's binary_logloss: 0.0111307\n"
     ]
    },
    {
     "name": "stderr",
     "output_type": "stream",
     "text": [
      "len(train_index) : 936\n",
      "len(valid_index) : 936\n",
      "================================= 2fold lightgbm =================================\n"
     ]
    },
    {
     "name": "stdout",
     "output_type": "stream",
     "text": [
      "[80]\ttraining's binary_logloss: 0.000748328\tvalid_1's binary_logloss: 0.0109018\n",
      "Early stopping, best iteration is:\n",
      "[70]\ttraining's binary_logloss: 0.00100496\tvalid_1's binary_logloss: 0.0107523\n",
      "Training until validation scores don't improve for 10 rounds\n",
      "[20]\ttraining's binary_logloss: 0.00524184\tvalid_1's binary_logloss: 0.0133043\n",
      "[40]\ttraining's binary_logloss: 0.00259164\tvalid_1's binary_logloss: 0.0128038\n",
      "Early stopping, best iteration is:\n",
      "[40]\ttraining's binary_logloss: 0.00259164\tvalid_1's binary_logloss: 0.0128038\n"
     ]
    },
    {
     "name": "stderr",
     "output_type": "stream",
     "text": [
      "diuretic logloss: 0.0117780423080985\n",
      "=========================================================================================\n",
      "len(trt) : 48\n",
      "len(train_index) : 957\n",
      "len(valid_index) : 957\n",
      "================================= 1fold lightgbm =================================\n"
     ]
    },
    {
     "name": "stdout",
     "output_type": "stream",
     "text": [
      "Training until validation scores don't improve for 10 rounds\n",
      "[20]\ttraining's binary_logloss: 0.0399034\tvalid_1's binary_logloss: 0.0796907\n",
      "[40]\ttraining's binary_logloss: 0.021072\tvalid_1's binary_logloss: 0.0697756\n",
      "[60]\ttraining's binary_logloss: 0.0119533\tvalid_1's binary_logloss: 0.0660547\n",
      "[80]\ttraining's binary_logloss: 0.00689201\tvalid_1's binary_logloss: 0.0645143\n",
      "[100]\ttraining's binary_logloss: 0.00403386\tvalid_1's binary_logloss: 0.0640285\n"
     ]
    },
    {
     "name": "stderr",
     "output_type": "stream",
     "text": [
      "len(train_index) : 957\n",
      "len(valid_index) : 957\n",
      "================================= 2fold lightgbm =================================\n"
     ]
    },
    {
     "name": "stdout",
     "output_type": "stream",
     "text": [
      "Early stopping, best iteration is:\n",
      "[103]\ttraining's binary_logloss: 0.00371429\tvalid_1's binary_logloss: 0.0637679\n",
      "Training until validation scores don't improve for 10 rounds\n",
      "[20]\ttraining's binary_logloss: 0.0408316\tvalid_1's binary_logloss: 0.0828234\n",
      "[40]\ttraining's binary_logloss: 0.0216151\tvalid_1's binary_logloss: 0.0752601\n",
      "[60]\ttraining's binary_logloss: 0.0122412\tvalid_1's binary_logloss: 0.0711057\n"
     ]
    },
    {
     "name": "stderr",
     "output_type": "stream",
     "text": [
      "dna_alkylating_agent logloss: 0.06709168240731171\n",
      "=========================================================================================\n",
      "len(trt) : 402\n",
      "len(train_index) : 1134\n",
      "len(valid_index) : 1134\n",
      "================================= 1fold lightgbm =================================\n"
     ]
    },
    {
     "name": "stdout",
     "output_type": "stream",
     "text": [
      "[80]\ttraining's binary_logloss: 0.00705502\tvalid_1's binary_logloss: 0.0708823\n",
      "Early stopping, best iteration is:\n",
      "[72]\ttraining's binary_logloss: 0.00878508\tvalid_1's binary_logloss: 0.0704155\n",
      "Training until validation scores don't improve for 10 rounds\n",
      "[20]\ttraining's binary_logloss: 0.20356\tvalid_1's binary_logloss: 0.228935\n",
      "[40]\ttraining's binary_logloss: 0.10804\tvalid_1's binary_logloss: 0.135225\n",
      "[60]\ttraining's binary_logloss: 0.0599364\tvalid_1's binary_logloss: 0.0858425\n",
      "[80]\ttraining's binary_logloss: 0.0341028\tvalid_1's binary_logloss: 0.0585039\n",
      "[100]\ttraining's binary_logloss: 0.0196101\tvalid_1's binary_logloss: 0.0416928\n",
      "[120]\ttraining's binary_logloss: 0.01135\tvalid_1's binary_logloss: 0.0309059\n",
      "[140]\ttraining's binary_logloss: 0.00660496\tvalid_1's binary_logloss: 0.0249237\n",
      "[160]\ttraining's binary_logloss: 0.0038494\tvalid_1's binary_logloss: 0.0210097\n",
      "[180]\ttraining's binary_logloss: 0.00225171\tvalid_1's binary_logloss: 0.0185574\n",
      "[200]\ttraining's binary_logloss: 0.00131738\tvalid_1's binary_logloss: 0.0164946\n",
      "[220]\ttraining's binary_logloss: 0.000769903\tvalid_1's binary_logloss: 0.0149851\n",
      "[240]\ttraining's binary_logloss: 0.000450415\tvalid_1's binary_logloss: 0.013949\n",
      "[260]\ttraining's binary_logloss: 0.0002637\tvalid_1's binary_logloss: 0.0124129\n",
      "[280]\ttraining's binary_logloss: 0.000154747\tvalid_1's binary_logloss: 0.0117237\n",
      "[300]\ttraining's binary_logloss: 9.07454e-05\tvalid_1's binary_logloss: 0.0108442\n",
      "[320]\ttraining's binary_logloss: 5.30562e-05\tvalid_1's binary_logloss: 0.0100849\n"
     ]
    },
    {
     "name": "stderr",
     "output_type": "stream",
     "text": [
      "len(train_index) : 1134\n",
      "len(valid_index) : 1134\n",
      "================================= 2fold lightgbm =================================\n"
     ]
    },
    {
     "name": "stdout",
     "output_type": "stream",
     "text": [
      "[340]\ttraining's binary_logloss: 3.1205e-05\tvalid_1's binary_logloss: 0.00981325\n",
      "Early stopping, best iteration is:\n",
      "[330]\ttraining's binary_logloss: 4.06606e-05\tvalid_1's binary_logloss: 0.00967608\n",
      "Training until validation scores don't improve for 10 rounds\n",
      "[20]\ttraining's binary_logloss: 0.199775\tvalid_1's binary_logloss: 0.221582\n",
      "[40]\ttraining's binary_logloss: 0.104676\tvalid_1's binary_logloss: 0.130489\n",
      "[60]\ttraining's binary_logloss: 0.057337\tvalid_1's binary_logloss: 0.0832305\n",
      "[80]\ttraining's binary_logloss: 0.032163\tvalid_1's binary_logloss: 0.0568039\n",
      "[100]\ttraining's binary_logloss: 0.0183348\tvalid_1's binary_logloss: 0.0414472\n",
      "[120]\ttraining's binary_logloss: 0.0105342\tvalid_1's binary_logloss: 0.0320349\n",
      "[140]\ttraining's binary_logloss: 0.00609638\tvalid_1's binary_logloss: 0.0258539\n",
      "[160]\ttraining's binary_logloss: 0.00352973\tvalid_1's binary_logloss: 0.0221707\n",
      "[180]\ttraining's binary_logloss: 0.00203923\tvalid_1's binary_logloss: 0.0198244\n",
      "[200]\ttraining's binary_logloss: 0.00118536\tvalid_1's binary_logloss: 0.0181813\n",
      "[220]\ttraining's binary_logloss: 0.000688334\tvalid_1's binary_logloss: 0.0168699\n",
      "[240]\ttraining's binary_logloss: 0.000400297\tvalid_1's binary_logloss: 0.0162337\n"
     ]
    },
    {
     "name": "stderr",
     "output_type": "stream",
     "text": [
      "dna_inhibitor logloss: 0.012832515237051043\n",
      "=========================================================================================\n",
      "len(trt) : 121\n",
      "len(train_index) : 993\n",
      "len(valid_index) : 994\n",
      "================================= 1fold lightgbm =================================\n"
     ]
    },
    {
     "name": "stdout",
     "output_type": "stream",
     "text": [
      "[260]\ttraining's binary_logloss: 0.000232491\tvalid_1's binary_logloss: 0.0161968\n",
      "Early stopping, best iteration is:\n",
      "[251]\ttraining's binary_logloss: 0.000296692\tvalid_1's binary_logloss: 0.015989\n",
      "Training until validation scores don't improve for 10 rounds\n",
      "[20]\ttraining's binary_logloss: 0.0858368\tvalid_1's binary_logloss: 0.130211\n",
      "[40]\ttraining's binary_logloss: 0.0451558\tvalid_1's binary_logloss: 0.0982338\n",
      "[60]\ttraining's binary_logloss: 0.0247487\tvalid_1's binary_logloss: 0.0804614\n",
      "[80]\ttraining's binary_logloss: 0.0138813\tvalid_1's binary_logloss: 0.0708734\n",
      "[100]\ttraining's binary_logloss: 0.00788952\tvalid_1's binary_logloss: 0.0659313\n",
      "[120]\ttraining's binary_logloss: 0.00456226\tvalid_1's binary_logloss: 0.0626264\n",
      "[140]\ttraining's binary_logloss: 0.00266329\tvalid_1's binary_logloss: 0.0602081\n",
      "[160]\ttraining's binary_logloss: 0.00156562\tvalid_1's binary_logloss: 0.0585246\n",
      "[180]\ttraining's binary_logloss: 0.000922575\tvalid_1's binary_logloss: 0.0573783\n"
     ]
    },
    {
     "name": "stderr",
     "output_type": "stream",
     "text": [
      "len(train_index) : 994\n",
      "len(valid_index) : 993\n",
      "================================= 2fold lightgbm =================================\n"
     ]
    },
    {
     "name": "stdout",
     "output_type": "stream",
     "text": [
      "Early stopping, best iteration is:\n",
      "[187]\ttraining's binary_logloss: 0.000770282\tvalid_1's binary_logloss: 0.0568766\n",
      "Training until validation scores don't improve for 10 rounds\n",
      "[20]\ttraining's binary_logloss: 0.0857925\tvalid_1's binary_logloss: 0.122414\n",
      "[40]\ttraining's binary_logloss: 0.0441905\tvalid_1's binary_logloss: 0.0877157\n",
      "[60]\ttraining's binary_logloss: 0.0242756\tvalid_1's binary_logloss: 0.0699631\n",
      "[80]\ttraining's binary_logloss: 0.0136618\tvalid_1's binary_logloss: 0.0602859\n",
      "[100]\ttraining's binary_logloss: 0.00784416\tvalid_1's binary_logloss: 0.0539435\n",
      "[120]\ttraining's binary_logloss: 0.00450314\tvalid_1's binary_logloss: 0.0503855\n",
      "[140]\ttraining's binary_logloss: 0.00261571\tvalid_1's binary_logloss: 0.0479462\n",
      "[160]\ttraining's binary_logloss: 0.00151673\tvalid_1's binary_logloss: 0.046773\n",
      "[180]\ttraining's binary_logloss: 0.000879592\tvalid_1's binary_logloss: 0.0458834\n",
      "Early stopping, best iteration is:\n",
      "[175]\ttraining's binary_logloss: 0.00100766\tvalid_1's binary_logloss: 0.0456692\n"
     ]
    },
    {
     "name": "stderr",
     "output_type": "stream",
     "text": [
      "dopamine_receptor_agonist logloss: 0.051275746150800626\n",
      "=========================================================================================\n",
      "len(trt) : 424\n",
      "len(train_index) : 1145\n",
      "len(valid_index) : 1145\n",
      "================================= 1fold lightgbm =================================\n"
     ]
    },
    {
     "name": "stdout",
     "output_type": "stream",
     "text": [
      "Training until validation scores don't improve for 10 rounds\n",
      "[20]\ttraining's binary_logloss: 0.210642\tvalid_1's binary_logloss: 0.231779\n",
      "[40]\ttraining's binary_logloss: 0.113162\tvalid_1's binary_logloss: 0.142699\n",
      "[60]\ttraining's binary_logloss: 0.0633284\tvalid_1's binary_logloss: 0.0950225\n",
      "[80]\ttraining's binary_logloss: 0.0362754\tvalid_1's binary_logloss: 0.0681783\n",
      "[100]\ttraining's binary_logloss: 0.0208731\tvalid_1's binary_logloss: 0.0522125\n",
      "[120]\ttraining's binary_logloss: 0.0121865\tvalid_1's binary_logloss: 0.0416604\n",
      "[140]\ttraining's binary_logloss: 0.00712997\tvalid_1's binary_logloss: 0.0348547\n",
      "[160]\ttraining's binary_logloss: 0.00419518\tvalid_1's binary_logloss: 0.0306116\n",
      "[180]\ttraining's binary_logloss: 0.00247305\tvalid_1's binary_logloss: 0.027974\n",
      "[200]\ttraining's binary_logloss: 0.00145937\tvalid_1's binary_logloss: 0.0260072\n",
      "[220]\ttraining's binary_logloss: 0.000860971\tvalid_1's binary_logloss: 0.0251386\n",
      "[240]\ttraining's binary_logloss: 0.000510521\tvalid_1's binary_logloss: 0.0238835\n"
     ]
    },
    {
     "name": "stderr",
     "output_type": "stream",
     "text": [
      "len(train_index) : 1145\n",
      "len(valid_index) : 1145\n",
      "================================= 2fold lightgbm =================================\n"
     ]
    },
    {
     "name": "stdout",
     "output_type": "stream",
     "text": [
      "[260]\ttraining's binary_logloss: 0.000301641\tvalid_1's binary_logloss: 0.0235859\n",
      "Early stopping, best iteration is:\n",
      "[253]\ttraining's binary_logloss: 0.000362766\tvalid_1's binary_logloss: 0.0233296\n",
      "Training until validation scores don't improve for 10 rounds\n",
      "[20]\ttraining's binary_logloss: 0.210119\tvalid_1's binary_logloss: 0.246925\n",
      "[40]\ttraining's binary_logloss: 0.112569\tvalid_1's binary_logloss: 0.160943\n",
      "[60]\ttraining's binary_logloss: 0.0628041\tvalid_1's binary_logloss: 0.108951\n",
      "[80]\ttraining's binary_logloss: 0.0358614\tvalid_1's binary_logloss: 0.079233\n",
      "[100]\ttraining's binary_logloss: 0.0207129\tvalid_1's binary_logloss: 0.0622933\n",
      "[120]\ttraining's binary_logloss: 0.0120426\tvalid_1's binary_logloss: 0.0518641\n",
      "[140]\ttraining's binary_logloss: 0.00708111\tvalid_1's binary_logloss: 0.0459277\n",
      "[160]\ttraining's binary_logloss: 0.00416251\tvalid_1's binary_logloss: 0.0423569\n",
      "[180]\ttraining's binary_logloss: 0.00245773\tvalid_1's binary_logloss: 0.0408845\n"
     ]
    },
    {
     "name": "stderr",
     "output_type": "stream",
     "text": [
      "dopamine_receptor_antagonist logloss: 0.031928317915241665\n",
      "=========================================================================================\n",
      "len(trt) : 336\n",
      "len(train_index) : 1101\n",
      "len(valid_index) : 1101\n",
      "================================= 1fold lightgbm =================================\n"
     ]
    },
    {
     "name": "stdout",
     "output_type": "stream",
     "text": [
      "[200]\ttraining's binary_logloss: 0.00145616\tvalid_1's binary_logloss: 0.0407988\n",
      "Early stopping, best iteration is:\n",
      "[191]\ttraining's binary_logloss: 0.00184158\tvalid_1's binary_logloss: 0.040527\n",
      "Training until validation scores don't improve for 10 rounds\n",
      "[20]\ttraining's binary_logloss: 0.177317\tvalid_1's binary_logloss: 0.197561\n",
      "[40]\ttraining's binary_logloss: 0.0927551\tvalid_1's binary_logloss: 0.117934\n",
      "[60]\ttraining's binary_logloss: 0.0506853\tvalid_1's binary_logloss: 0.0758494\n",
      "[80]\ttraining's binary_logloss: 0.0284526\tvalid_1's binary_logloss: 0.0530578\n",
      "[100]\ttraining's binary_logloss: 0.0161086\tvalid_1's binary_logloss: 0.0403196\n",
      "[120]\ttraining's binary_logloss: 0.00920289\tvalid_1's binary_logloss: 0.0326523\n",
      "[140]\ttraining's binary_logloss: 0.00524229\tvalid_1's binary_logloss: 0.0281923\n",
      "[160]\ttraining's binary_logloss: 0.00299038\tvalid_1's binary_logloss: 0.0258384\n",
      "[180]\ttraining's binary_logloss: 0.00170502\tvalid_1's binary_logloss: 0.0240196\n",
      "[200]\ttraining's binary_logloss: 0.000973115\tvalid_1's binary_logloss: 0.022363\n",
      "[220]\ttraining's binary_logloss: 0.000554284\tvalid_1's binary_logloss: 0.0207539\n",
      "[240]\ttraining's binary_logloss: 0.000315746\tvalid_1's binary_logloss: 0.0195204\n",
      "[260]\ttraining's binary_logloss: 0.000180855\tvalid_1's binary_logloss: 0.0188544\n",
      "[280]\ttraining's binary_logloss: 0.000103003\tvalid_1's binary_logloss: 0.0185179\n",
      "[300]\ttraining's binary_logloss: 5.85772e-05\tvalid_1's binary_logloss: 0.0182444\n",
      "[320]\ttraining's binary_logloss: 3.3769e-05\tvalid_1's binary_logloss: 0.0180025\n",
      "[340]\ttraining's binary_logloss: 1.9661e-05\tvalid_1's binary_logloss: 0.0178969\n",
      "Early stopping, best iteration is:\n",
      "[334]\ttraining's binary_logloss: 2.30821e-05\tvalid_1's binary_logloss: 0.0177706\n"
     ]
    },
    {
     "name": "stderr",
     "output_type": "stream",
     "text": [
      "len(train_index) : 1101\n",
      "len(valid_index) : 1101\n",
      "================================= 2fold lightgbm =================================\n"
     ]
    },
    {
     "name": "stdout",
     "output_type": "stream",
     "text": [
      "Training until validation scores don't improve for 10 rounds\n",
      "[20]\ttraining's binary_logloss: 0.174041\tvalid_1's binary_logloss: 0.183097\n",
      "[40]\ttraining's binary_logloss: 0.0902517\tvalid_1's binary_logloss: 0.102274\n",
      "[60]\ttraining's binary_logloss: 0.0491439\tvalid_1's binary_logloss: 0.0621606\n",
      "[80]\ttraining's binary_logloss: 0.0273498\tvalid_1's binary_logloss: 0.0399305\n",
      "[100]\ttraining's binary_logloss: 0.0153726\tvalid_1's binary_logloss: 0.0274106\n",
      "[120]\ttraining's binary_logloss: 0.0087065\tvalid_1's binary_logloss: 0.0200017\n",
      "[140]\ttraining's binary_logloss: 0.0049476\tvalid_1's binary_logloss: 0.0156535\n",
      "[160]\ttraining's binary_logloss: 0.00281721\tvalid_1's binary_logloss: 0.0129032\n",
      "[180]\ttraining's binary_logloss: 0.00160783\tvalid_1's binary_logloss: 0.0113287\n",
      "[200]\ttraining's binary_logloss: 0.000912739\tvalid_1's binary_logloss: 0.00995349\n",
      "[220]\ttraining's binary_logloss: 0.000516887\tvalid_1's binary_logloss: 0.00893768\n",
      "[240]\ttraining's binary_logloss: 0.000293973\tvalid_1's binary_logloss: 0.0081256\n",
      "[260]\ttraining's binary_logloss: 0.000167605\tvalid_1's binary_logloss: 0.00774496\n",
      "[280]\ttraining's binary_logloss: 9.53457e-05\tvalid_1's binary_logloss: 0.00724646\n",
      "[300]\ttraining's binary_logloss: 5.43283e-05\tvalid_1's binary_logloss: 0.00705694\n",
      "[320]\ttraining's binary_logloss: 3.13373e-05\tvalid_1's binary_logloss: 0.00686245\n",
      "[340]\ttraining's binary_logloss: 1.82107e-05\tvalid_1's binary_logloss: 0.00634154\n",
      "[360]\ttraining's binary_logloss: 1.08051e-05\tvalid_1's binary_logloss: 0.0060271\n",
      "[380]\ttraining's binary_logloss: 6.56279e-06\tvalid_1's binary_logloss: 0.00584644\n"
     ]
    },
    {
     "name": "stderr",
     "output_type": "stream",
     "text": [
      "egfr_inhibitor logloss: 0.01173633407600482\n",
      "=========================================================================================\n",
      "len(trt) : 6\n",
      "len(train_index) : 936\n",
      "len(valid_index) : 936\n",
      "================================= 1fold lightgbm =================================\n"
     ]
    },
    {
     "name": "stdout",
     "output_type": "stream",
     "text": [
      "Early stopping, best iteration is:\n",
      "[388]\ttraining's binary_logloss: 5.52722e-06\tvalid_1's binary_logloss: 0.00570209\n",
      "Training until validation scores don't improve for 10 rounds\n",
      "[20]\ttraining's binary_logloss: 0.00507411\tvalid_1's binary_logloss: 0.0127178\n"
     ]
    },
    {
     "name": "stderr",
     "output_type": "stream",
     "text": [
      "len(train_index) : 936\n",
      "len(valid_index) : 936\n",
      "================================= 2fold lightgbm =================================\n"
     ]
    },
    {
     "name": "stdout",
     "output_type": "stream",
     "text": [
      "Early stopping, best iteration is:\n",
      "[26]\ttraining's binary_logloss: 0.00405507\tvalid_1's binary_logloss: 0.0123209\n",
      "Training until validation scores don't improve for 10 rounds\n",
      "[20]\ttraining's binary_logloss: 0.00509038\tvalid_1's binary_logloss: 0.0173718\n"
     ]
    },
    {
     "name": "stderr",
     "output_type": "stream",
     "text": [
      "elastase_inhibitor logloss: 0.014493600185473254\n",
      "=========================================================================================\n"
     ]
    },
    {
     "name": "stdout",
     "output_type": "stream",
     "text": [
      "[40]\ttraining's binary_logloss: 0.00253979\tvalid_1's binary_logloss: 0.0167956\n",
      "Early stopping, best iteration is:\n",
      "[35]\ttraining's binary_logloss: 0.00298774\tvalid_1's binary_logloss: 0.0166663\n"
     ]
    },
    {
     "name": "stderr",
     "output_type": "stream",
     "text": [
      "len(trt) : 1\n",
      "len(train_index) : 933\n",
      "len(valid_index) : 934\n",
      "================================= 1fold lightgbm =================================\n",
      "len(train_index) : 934\n",
      "len(valid_index) : 933\n",
      "================================= 2fold lightgbm =================================\n"
     ]
    },
    {
     "name": "stdout",
     "output_type": "stream",
     "text": [
      "Training until validation scores don't improve for 10 rounds\n",
      "Early stopping, best iteration is:\n",
      "[1]\ttraining's binary_logloss: 0\tvalid_1's binary_logloss: 0.0369794\n",
      "Training until validation scores don't improve for 10 rounds\n",
      "[20]\ttraining's binary_logloss: 0.00190691\tvalid_1's binary_logloss: 0.000888791\n",
      "[40]\ttraining's binary_logloss: 0.00094756\tvalid_1's binary_logloss: 0.000519305\n",
      "[60]\ttraining's binary_logloss: 0.000511123\tvalid_1's binary_logloss: 0.000299117\n",
      "[80]\ttraining's binary_logloss: 0.000283783\tvalid_1's binary_logloss: 0.000172782\n",
      "[100]\ttraining's binary_logloss: 0.000159422\tvalid_1's binary_logloss: 9.92289e-05\n",
      "[120]\ttraining's binary_logloss: 8.99746e-05\tvalid_1's binary_logloss: 5.68505e-05\n",
      "[140]\ttraining's binary_logloss: 5.16752e-05\tvalid_1's binary_logloss: 3.31698e-05\n",
      "[160]\ttraining's binary_logloss: 2.97376e-05\tvalid_1's binary_logloss: 1.92913e-05\n",
      "[180]\ttraining's binary_logloss: 1.71336e-05\tvalid_1's binary_logloss: 1.12617e-05\n",
      "[200]\ttraining's binary_logloss: 9.88075e-06\tvalid_1's binary_logloss: 6.56541e-06\n",
      "[220]\ttraining's binary_logloss: 5.70152e-06\tvalid_1's binary_logloss: 3.83872e-06\n",
      "[240]\ttraining's binary_logloss: 3.29128e-06\tvalid_1's binary_logloss: 2.23525e-06\n"
     ]
    },
    {
     "name": "stderr",
     "output_type": "stream",
     "text": [
      "erbb2_inhibitor logloss: 0.018500337072593125\n",
      "=========================================================================================\n",
      "len(trt) : 158\n"
     ]
    },
    {
     "name": "stdout",
     "output_type": "stream",
     "text": [
      "[260]\ttraining's binary_logloss: 2.12121e-06\tvalid_1's binary_logloss: 1.45008e-06\n",
      "Early stopping, best iteration is:\n",
      "[256]\ttraining's binary_logloss: 2.12121e-06\tvalid_1's binary_logloss: 1.45008e-06\n"
     ]
    },
    {
     "name": "stderr",
     "output_type": "stream",
     "text": [
      "len(train_index) : 1012\n",
      "len(valid_index) : 1012\n",
      "================================= 1fold lightgbm =================================\n"
     ]
    },
    {
     "name": "stdout",
     "output_type": "stream",
     "text": [
      "Training until validation scores don't improve for 10 rounds\n",
      "[20]\ttraining's binary_logloss: 0.108972\tvalid_1's binary_logloss: 0.139846\n",
      "[40]\ttraining's binary_logloss: 0.0573307\tvalid_1's binary_logloss: 0.0922872\n",
      "[60]\ttraining's binary_logloss: 0.0317193\tvalid_1's binary_logloss: 0.0677059\n",
      "[80]\ttraining's binary_logloss: 0.0180858\tvalid_1's binary_logloss: 0.05392\n",
      "[100]\ttraining's binary_logloss: 0.01048\tvalid_1's binary_logloss: 0.0464542\n",
      "[120]\ttraining's binary_logloss: 0.00611408\tvalid_1's binary_logloss: 0.0408871\n",
      "[140]\ttraining's binary_logloss: 0.00355327\tvalid_1's binary_logloss: 0.0364761\n",
      "[160]\ttraining's binary_logloss: 0.00206067\tvalid_1's binary_logloss: 0.0339837\n",
      "[180]\ttraining's binary_logloss: 0.00120414\tvalid_1's binary_logloss: 0.0327193\n",
      "[200]\ttraining's binary_logloss: 0.000704023\tvalid_1's binary_logloss: 0.0315718\n",
      "[220]\ttraining's binary_logloss: 0.00041066\tvalid_1's binary_logloss: 0.030816\n",
      "Early stopping, best iteration is:\n",
      "[219]\ttraining's binary_logloss: 0.000422133\tvalid_1's binary_logloss: 0.03077\n"
     ]
    },
    {
     "name": "stderr",
     "output_type": "stream",
     "text": [
      "len(train_index) : 1012\n",
      "len(valid_index) : 1012\n",
      "================================= 2fold lightgbm =================================\n"
     ]
    },
    {
     "name": "stdout",
     "output_type": "stream",
     "text": [
      "Training until validation scores don't improve for 10 rounds\n",
      "[20]\ttraining's binary_logloss: 0.108805\tvalid_1's binary_logloss: 0.15085\n",
      "[40]\ttraining's binary_logloss: 0.0580399\tvalid_1's binary_logloss: 0.113515\n",
      "[60]\ttraining's binary_logloss: 0.0317579\tvalid_1's binary_logloss: 0.0877257\n",
      "[80]\ttraining's binary_logloss: 0.0178371\tvalid_1's binary_logloss: 0.0729395\n",
      "[100]\ttraining's binary_logloss: 0.010112\tvalid_1's binary_logloss: 0.0649537\n",
      "[120]\ttraining's binary_logloss: 0.00577074\tvalid_1's binary_logloss: 0.0592984\n",
      "[140]\ttraining's binary_logloss: 0.00329896\tvalid_1's binary_logloss: 0.0562265\n",
      "[160]\ttraining's binary_logloss: 0.00190089\tvalid_1's binary_logloss: 0.0534723\n",
      "[180]\ttraining's binary_logloss: 0.00109413\tvalid_1's binary_logloss: 0.0516461\n",
      "[200]\ttraining's binary_logloss: 0.000633454\tvalid_1's binary_logloss: 0.0504445\n"
     ]
    },
    {
     "name": "stderr",
     "output_type": "stream",
     "text": [
      "estrogen_receptor_agonist logloss: 0.04034790162230329\n",
      "=========================================================================================\n",
      "len(trt) : 48\n",
      "len(train_index) : 957\n",
      "len(valid_index) : 957\n",
      "================================= 1fold lightgbm =================================\n"
     ]
    },
    {
     "name": "stdout",
     "output_type": "stream",
     "text": [
      "Early stopping, best iteration is:\n",
      "[208]\ttraining's binary_logloss: 0.000509324\tvalid_1's binary_logloss: 0.0499258\n",
      "Training until validation scores don't improve for 10 rounds\n",
      "[20]\ttraining's binary_logloss: 0.0401677\tvalid_1's binary_logloss: 0.0703871\n",
      "[40]\ttraining's binary_logloss: 0.0212954\tvalid_1's binary_logloss: 0.0594084\n",
      "[60]\ttraining's binary_logloss: 0.0119931\tvalid_1's binary_logloss: 0.0541788\n",
      "[80]\ttraining's binary_logloss: 0.00692759\tvalid_1's binary_logloss: 0.0524204\n"
     ]
    },
    {
     "name": "stderr",
     "output_type": "stream",
     "text": [
      "len(train_index) : 957\n",
      "len(valid_index) : 957\n",
      "================================= 2fold lightgbm =================================\n"
     ]
    },
    {
     "name": "stdout",
     "output_type": "stream",
     "text": [
      "Early stopping, best iteration is:\n",
      "[79]\ttraining's binary_logloss: 0.00710114\tvalid_1's binary_logloss: 0.0522492\n",
      "Training until validation scores don't improve for 10 rounds\n",
      "[20]\ttraining's binary_logloss: 0.0381398\tvalid_1's binary_logloss: 0.0698971\n",
      "[40]\ttraining's binary_logloss: 0.0197423\tvalid_1's binary_logloss: 0.062548\n",
      "[60]\ttraining's binary_logloss: 0.0109239\tvalid_1's binary_logloss: 0.0576469\n",
      "[80]\ttraining's binary_logloss: 0.00622361\tvalid_1's binary_logloss: 0.0555947\n"
     ]
    },
    {
     "name": "stderr",
     "output_type": "stream",
     "text": [
      "estrogen_receptor_antagonist logloss: 0.05354675869785943\n",
      "=========================================================================================\n",
      "len(trt) : 36\n",
      "len(train_index) : 951\n",
      "len(valid_index) : 951\n",
      "================================= 1fold lightgbm =================================\n"
     ]
    },
    {
     "name": "stdout",
     "output_type": "stream",
     "text": [
      "Early stopping, best iteration is:\n",
      "[88]\ttraining's binary_logloss: 0.00498354\tvalid_1's binary_logloss: 0.0548443\n",
      "Training until validation scores don't improve for 10 rounds\n",
      "[20]\ttraining's binary_logloss: 0.0297653\tvalid_1's binary_logloss: 0.0699774\n",
      "[40]\ttraining's binary_logloss: 0.0155631\tvalid_1's binary_logloss: 0.064215\n",
      "[60]\ttraining's binary_logloss: 0.00868373\tvalid_1's binary_logloss: 0.0625269\n"
     ]
    },
    {
     "name": "stderr",
     "output_type": "stream",
     "text": [
      "len(train_index) : 951\n",
      "len(valid_index) : 951\n",
      "================================= 2fold lightgbm =================================\n"
     ]
    },
    {
     "name": "stdout",
     "output_type": "stream",
     "text": [
      "Early stopping, best iteration is:\n",
      "[65]\ttraining's binary_logloss: 0.0075242\tvalid_1's binary_logloss: 0.0623591\n",
      "Training until validation scores don't improve for 10 rounds\n",
      "[20]\ttraining's binary_logloss: 0.0322927\tvalid_1's binary_logloss: 0.0673944\n",
      "[40]\ttraining's binary_logloss: 0.0173298\tvalid_1's binary_logloss: 0.061173\n",
      "[60]\ttraining's binary_logloss: 0.00974092\tvalid_1's binary_logloss: 0.0592833\n"
     ]
    },
    {
     "name": "stderr",
     "output_type": "stream",
     "text": [
      "faah_inhibitor logloss: 0.06055184874427831\n",
      "=========================================================================================\n",
      "len(trt) : 18\n",
      "len(train_index) : 942\n",
      "len(valid_index) : 942\n",
      "================================= 1fold lightgbm =================================\n"
     ]
    },
    {
     "name": "stdout",
     "output_type": "stream",
     "text": [
      "Early stopping, best iteration is:\n",
      "[67]\ttraining's binary_logloss: 0.00799244\tvalid_1's binary_logloss: 0.0587446\n",
      "Training until validation scores don't improve for 10 rounds\n",
      "[20]\ttraining's binary_logloss: 0.0133247\tvalid_1's binary_logloss: 0.0248698\n",
      "[40]\ttraining's binary_logloss: 0.00673471\tvalid_1's binary_logloss: 0.0196242\n",
      "[60]\ttraining's binary_logloss: 0.00362481\tvalid_1's binary_logloss: 0.016583\n",
      "[80]\ttraining's binary_logloss: 0.00199751\tvalid_1's binary_logloss: 0.0144741\n",
      "[100]\ttraining's binary_logloss: 0.00111467\tvalid_1's binary_logloss: 0.0134591\n",
      "[120]\ttraining's binary_logloss: 0.000626424\tvalid_1's binary_logloss: 0.0127745\n",
      "[140]\ttraining's binary_logloss: 0.000353776\tvalid_1's binary_logloss: 0.0125474\n"
     ]
    },
    {
     "name": "stderr",
     "output_type": "stream",
     "text": [
      "len(train_index) : 942\n",
      "len(valid_index) : 942\n",
      "================================= 2fold lightgbm =================================\n"
     ]
    },
    {
     "name": "stdout",
     "output_type": "stream",
     "text": [
      "[160]\ttraining's binary_logloss: 0.000200493\tvalid_1's binary_logloss: 0.0123145\n",
      "Early stopping, best iteration is:\n",
      "[150]\ttraining's binary_logloss: 0.000266209\tvalid_1's binary_logloss: 0.0122419\n",
      "Training until validation scores don't improve for 10 rounds\n",
      "[20]\ttraining's binary_logloss: 0.0133014\tvalid_1's binary_logloss: 0.0264607\n",
      "[40]\ttraining's binary_logloss: 0.00670414\tvalid_1's binary_logloss: 0.0218537\n",
      "[60]\ttraining's binary_logloss: 0.00360104\tvalid_1's binary_logloss: 0.0194534\n",
      "[80]\ttraining's binary_logloss: 0.00198119\tvalid_1's binary_logloss: 0.0188753\n",
      "Early stopping, best iteration is:\n",
      "[78]\ttraining's binary_logloss: 0.00210149\tvalid_1's binary_logloss: 0.0188663\n"
     ]
    },
    {
     "name": "stderr",
     "output_type": "stream",
     "text": [
      "farnesyltransferase_inhibitor logloss: 0.015554111183106031\n",
      "=========================================================================================\n",
      "len(trt) : 25\n",
      "len(train_index) : 945\n",
      "len(valid_index) : 946\n",
      "================================= 1fold lightgbm =================================\n"
     ]
    },
    {
     "name": "stdout",
     "output_type": "stream",
     "text": [
      "Training until validation scores don't improve for 10 rounds\n",
      "[20]\ttraining's binary_logloss: 0.0208949\tvalid_1's binary_logloss: 0.0490563\n",
      "[40]\ttraining's binary_logloss: 0.0109765\tvalid_1's binary_logloss: 0.0429467\n"
     ]
    },
    {
     "name": "stderr",
     "output_type": "stream",
     "text": [
      "len(train_index) : 946\n",
      "len(valid_index) : 945\n",
      "================================= 2fold lightgbm =================================\n"
     ]
    },
    {
     "name": "stdout",
     "output_type": "stream",
     "text": [
      "[60]\ttraining's binary_logloss: 0.00604916\tvalid_1's binary_logloss: 0.0412391\n",
      "Early stopping, best iteration is:\n",
      "[54]\ttraining's binary_logloss: 0.00721965\tvalid_1's binary_logloss: 0.0411613\n",
      "Training until validation scores don't improve for 10 rounds\n",
      "[20]\ttraining's binary_logloss: 0.0213753\tvalid_1's binary_logloss: 0.0544845\n",
      "[40]\ttraining's binary_logloss: 0.0110577\tvalid_1's binary_logloss: 0.0520736\n",
      "[60]\ttraining's binary_logloss: 0.00610399\tvalid_1's binary_logloss: 0.0512467\n"
     ]
    },
    {
     "name": "stderr",
     "output_type": "stream",
     "text": [
      "fatty_acid_receptor_agonist logloss: 0.04600446033047004\n",
      "=========================================================================================\n",
      "len(trt) : 50\n",
      "len(train_index) : 958\n",
      "len(valid_index) : 958\n",
      "================================= 1fold lightgbm =================================\n"
     ]
    },
    {
     "name": "stdout",
     "output_type": "stream",
     "text": [
      "Early stopping, best iteration is:\n",
      "[67]\ttraining's binary_logloss: 0.00498567\tvalid_1's binary_logloss: 0.0508527\n",
      "Training until validation scores don't improve for 10 rounds\n",
      "[20]\ttraining's binary_logloss: 0.0364677\tvalid_1's binary_logloss: 0.0421707\n",
      "[40]\ttraining's binary_logloss: 0.0186727\tvalid_1's binary_logloss: 0.0273004\n",
      "[60]\ttraining's binary_logloss: 0.0101262\tvalid_1's binary_logloss: 0.0206646\n",
      "[80]\ttraining's binary_logloss: 0.00564865\tvalid_1's binary_logloss: 0.017582\n",
      "[100]\ttraining's binary_logloss: 0.00318215\tvalid_1's binary_logloss: 0.0163512\n"
     ]
    },
    {
     "name": "stderr",
     "output_type": "stream",
     "text": [
      "len(train_index) : 958\n",
      "len(valid_index) : 958\n",
      "================================= 2fold lightgbm =================================\n"
     ]
    },
    {
     "name": "stdout",
     "output_type": "stream",
     "text": [
      "[120]\ttraining's binary_logloss: 0.00180191\tvalid_1's binary_logloss: 0.0163422\n",
      "Early stopping, best iteration is:\n",
      "[111]\ttraining's binary_logloss: 0.00232798\tvalid_1's binary_logloss: 0.0161643\n",
      "Training until validation scores don't improve for 10 rounds\n",
      "[20]\ttraining's binary_logloss: 0.0366741\tvalid_1's binary_logloss: 0.0499908\n",
      "[40]\ttraining's binary_logloss: 0.0188632\tvalid_1's binary_logloss: 0.0352\n",
      "[60]\ttraining's binary_logloss: 0.0101019\tvalid_1's binary_logloss: 0.0278001\n",
      "[80]\ttraining's binary_logloss: 0.00548119\tvalid_1's binary_logloss: 0.024697\n",
      "[100]\ttraining's binary_logloss: 0.00302801\tvalid_1's binary_logloss: 0.0228394\n",
      "[120]\ttraining's binary_logloss: 0.00168825\tvalid_1's binary_logloss: 0.0222992\n",
      "Early stopping, best iteration is:\n",
      "[119]\ttraining's binary_logloss: 0.00173827\tvalid_1's binary_logloss: 0.0222938\n"
     ]
    },
    {
     "name": "stderr",
     "output_type": "stream",
     "text": [
      "fgfr_inhibitor logloss: 0.019229052406976904\n",
      "=========================================================================================\n",
      "len(trt) : 279\n",
      "len(train_index) : 1072\n",
      "len(valid_index) : 1073\n",
      "================================= 1fold lightgbm =================================\n"
     ]
    },
    {
     "name": "stdout",
     "output_type": "stream",
     "text": [
      "Training until validation scores don't improve for 10 rounds\n",
      "[20]\ttraining's binary_logloss: 0.155096\tvalid_1's binary_logloss: 0.167228\n",
      "[40]\ttraining's binary_logloss: 0.0807764\tvalid_1's binary_logloss: 0.0982945\n",
      "[60]\ttraining's binary_logloss: 0.044357\tvalid_1's binary_logloss: 0.0650234\n",
      "[80]\ttraining's binary_logloss: 0.0249334\tvalid_1's binary_logloss: 0.0476942\n",
      "[100]\ttraining's binary_logloss: 0.0141903\tvalid_1's binary_logloss: 0.0379298\n",
      "[120]\ttraining's binary_logloss: 0.00814272\tvalid_1's binary_logloss: 0.0327515\n",
      "[140]\ttraining's binary_logloss: 0.00470094\tvalid_1's binary_logloss: 0.0300161\n",
      "[160]\ttraining's binary_logloss: 0.00272052\tvalid_1's binary_logloss: 0.0285233\n",
      "[180]\ttraining's binary_logloss: 0.00157441\tvalid_1's binary_logloss: 0.0282331\n"
     ]
    },
    {
     "name": "stderr",
     "output_type": "stream",
     "text": [
      "len(train_index) : 1073\n",
      "len(valid_index) : 1072\n",
      "================================= 2fold lightgbm =================================\n"
     ]
    },
    {
     "name": "stdout",
     "output_type": "stream",
     "text": [
      "Early stopping, best iteration is:\n",
      "[189]\ttraining's binary_logloss: 0.00122679\tvalid_1's binary_logloss: 0.0280926\n",
      "Training until validation scores don't improve for 10 rounds\n",
      "[20]\ttraining's binary_logloss: 0.154826\tvalid_1's binary_logloss: 0.166454\n",
      "[40]\ttraining's binary_logloss: 0.0805879\tvalid_1's binary_logloss: 0.0980077\n",
      "[60]\ttraining's binary_logloss: 0.0442108\tvalid_1's binary_logloss: 0.065627\n",
      "[80]\ttraining's binary_logloss: 0.0247836\tvalid_1's binary_logloss: 0.0494254\n",
      "[100]\ttraining's binary_logloss: 0.0140548\tvalid_1's binary_logloss: 0.040758\n",
      "[120]\ttraining's binary_logloss: 0.0080011\tvalid_1's binary_logloss: 0.0375205\n",
      "[140]\ttraining's binary_logloss: 0.00457558\tvalid_1's binary_logloss: 0.0366377\n"
     ]
    },
    {
     "name": "stderr",
     "output_type": "stream",
     "text": [
      "flt3_inhibitor logloss: 0.032329304714561344\n",
      "=========================================================================================\n",
      "len(trt) : 18\n",
      "len(train_index) : 942\n",
      "len(valid_index) : 942\n",
      "================================= 1fold lightgbm =================================\n"
     ]
    },
    {
     "name": "stdout",
     "output_type": "stream",
     "text": [
      "Early stopping, best iteration is:\n",
      "[143]\ttraining's binary_logloss: 0.00421204\tvalid_1's binary_logloss: 0.03657\n",
      "Training until validation scores don't improve for 10 rounds\n",
      "[20]\ttraining's binary_logloss: 0.0136085\tvalid_1's binary_logloss: 0.022401\n",
      "[40]\ttraining's binary_logloss: 0.00697558\tvalid_1's binary_logloss: 0.0157879\n",
      "[60]\ttraining's binary_logloss: 0.00380611\tvalid_1's binary_logloss: 0.0120249\n",
      "[80]\ttraining's binary_logloss: 0.00210813\tvalid_1's binary_logloss: 0.0101881\n",
      "[100]\ttraining's binary_logloss: 0.00118859\tvalid_1's binary_logloss: 0.00919116\n",
      "[120]\ttraining's binary_logloss: 0.000667896\tvalid_1's binary_logloss: 0.00896996\n",
      "Early stopping, best iteration is:\n",
      "[115]\ttraining's binary_logloss: 0.000772472\tvalid_1's binary_logloss: 0.00888075\n"
     ]
    },
    {
     "name": "stderr",
     "output_type": "stream",
     "text": [
      "len(train_index) : 942\n",
      "len(valid_index) : 942\n",
      "================================= 2fold lightgbm =================================\n"
     ]
    },
    {
     "name": "stdout",
     "output_type": "stream",
     "text": [
      "Training until validation scores don't improve for 10 rounds\n",
      "[20]\ttraining's binary_logloss: 0.0133201\tvalid_1's binary_logloss: 0.0238412\n",
      "[40]\ttraining's binary_logloss: 0.0067107\tvalid_1's binary_logloss: 0.0185762\n",
      "[60]\ttraining's binary_logloss: 0.00360218\tvalid_1's binary_logloss: 0.016138\n",
      "[80]\ttraining's binary_logloss: 0.00198108\tvalid_1's binary_logloss: 0.0149724\n",
      "[100]\ttraining's binary_logloss: 0.00110185\tvalid_1's binary_logloss: 0.0145787\n",
      "[120]\ttraining's binary_logloss: 0.000616426\tvalid_1's binary_logloss: 0.0141206\n",
      "[140]\ttraining's binary_logloss: 0.000346371\tvalid_1's binary_logloss: 0.0137407\n",
      "Early stopping, best iteration is:\n",
      "[137]\ttraining's binary_logloss: 0.000377526\tvalid_1's binary_logloss: 0.0136268\n"
     ]
    },
    {
     "name": "stderr",
     "output_type": "stream",
     "text": [
      "focal_adhesion_kinase_inhibitor logloss: 0.011253766819459582\n",
      "=========================================================================================\n",
      "len(trt) : 18\n",
      "len(train_index) : 942\n",
      "len(valid_index) : 942\n",
      "================================= 1fold lightgbm =================================\n"
     ]
    },
    {
     "name": "stdout",
     "output_type": "stream",
     "text": [
      "Training until validation scores don't improve for 10 rounds\n",
      "[20]\ttraining's binary_logloss: 0.0150689\tvalid_1's binary_logloss: 0.041975\n",
      "[40]\ttraining's binary_logloss: 0.00798529\tvalid_1's binary_logloss: 0.0404639\n",
      "[60]\ttraining's binary_logloss: 0.00439179\tvalid_1's binary_logloss: 0.0392196\n",
      "[80]\ttraining's binary_logloss: 0.00247304\tvalid_1's binary_logloss: 0.038723\n",
      "Early stopping, best iteration is:\n",
      "[77]\ttraining's binary_logloss: 0.00269991\tvalid_1's binary_logloss: 0.0386697\n"
     ]
    },
    {
     "name": "stderr",
     "output_type": "stream",
     "text": [
      "len(train_index) : 942\n",
      "len(valid_index) : 942\n",
      "================================= 2fold lightgbm =================================\n"
     ]
    },
    {
     "name": "stdout",
     "output_type": "stream",
     "text": [
      "Training until validation scores don't improve for 10 rounds\n",
      "[20]\ttraining's binary_logloss: 0.0147653\tvalid_1's binary_logloss: 0.0388298\n",
      "[40]\ttraining's binary_logloss: 0.00775691\tvalid_1's binary_logloss: 0.0364085\n",
      "[60]\ttraining's binary_logloss: 0.00429576\tvalid_1's binary_logloss: 0.0346918\n"
     ]
    },
    {
     "name": "stderr",
     "output_type": "stream",
     "text": [
      "free_radical_scavenger logloss: 0.03666687524213398\n",
      "=========================================================================================\n",
      "len(trt) : 23\n",
      "len(train_index) : 944\n",
      "len(valid_index) : 945\n",
      "================================= 1fold lightgbm =================================\n"
     ]
    },
    {
     "name": "stdout",
     "output_type": "stream",
     "text": [
      "Early stopping, best iteration is:\n",
      "[61]\ttraining's binary_logloss: 0.00417162\tvalid_1's binary_logloss: 0.034664\n",
      "Training until validation scores don't improve for 10 rounds\n",
      "[20]\ttraining's binary_logloss: 0.0182848\tvalid_1's binary_logloss: 0.0453119\n",
      "[40]\ttraining's binary_logloss: 0.00949056\tvalid_1's binary_logloss: 0.0382092\n",
      "[60]\ttraining's binary_logloss: 0.00519439\tvalid_1's binary_logloss: 0.0335772\n",
      "[80]\ttraining's binary_logloss: 0.00291163\tvalid_1's binary_logloss: 0.0314604\n",
      "[100]\ttraining's binary_logloss: 0.00165454\tvalid_1's binary_logloss: 0.0301642\n"
     ]
    },
    {
     "name": "stderr",
     "output_type": "stream",
     "text": [
      "len(train_index) : 945\n",
      "len(valid_index) : 944\n",
      "================================= 2fold lightgbm =================================\n"
     ]
    },
    {
     "name": "stdout",
     "output_type": "stream",
     "text": [
      "Early stopping, best iteration is:\n",
      "[103]\ttraining's binary_logloss: 0.00152168\tvalid_1's binary_logloss: 0.0300342\n",
      "Training until validation scores don't improve for 10 rounds\n",
      "[20]\ttraining's binary_logloss: 0.0198786\tvalid_1's binary_logloss: 0.0452407\n",
      "[40]\ttraining's binary_logloss: 0.0102937\tvalid_1's binary_logloss: 0.0378393\n",
      "[60]\ttraining's binary_logloss: 0.00564438\tvalid_1's binary_logloss: 0.0340204\n",
      "[80]\ttraining's binary_logloss: 0.00318143\tvalid_1's binary_logloss: 0.0318088\n",
      "[100]\ttraining's binary_logloss: 0.00181932\tvalid_1's binary_logloss: 0.0308249\n",
      "[120]\ttraining's binary_logloss: 0.0010454\tvalid_1's binary_logloss: 0.0306345\n",
      "Early stopping, best iteration is:\n",
      "[119]\ttraining's binary_logloss: 0.00107413\tvalid_1's binary_logloss: 0.0305771\n"
     ]
    },
    {
     "name": "stderr",
     "output_type": "stream",
     "text": [
      "fungal_squalene_epoxidase_inhibitor logloss: 0.030305527580126265\n",
      "=========================================================================================\n",
      "len(trt) : 106\n",
      "len(train_index) : 986\n",
      "len(valid_index) : 986\n",
      "================================= 1fold lightgbm =================================\n"
     ]
    },
    {
     "name": "stdout",
     "output_type": "stream",
     "text": [
      "Training until validation scores don't improve for 10 rounds\n",
      "[20]\ttraining's binary_logloss: 0.0767365\tvalid_1's binary_logloss: 0.108956\n",
      "[40]\ttraining's binary_logloss: 0.040759\tvalid_1's binary_logloss: 0.076845\n",
      "[60]\ttraining's binary_logloss: 0.0227736\tvalid_1's binary_logloss: 0.0591\n",
      "[80]\ttraining's binary_logloss: 0.0130014\tvalid_1's binary_logloss: 0.0474376\n",
      "[100]\ttraining's binary_logloss: 0.00754397\tvalid_1's binary_logloss: 0.0399116\n",
      "[120]\ttraining's binary_logloss: 0.00439597\tvalid_1's binary_logloss: 0.0353535\n",
      "[140]\ttraining's binary_logloss: 0.00257951\tvalid_1's binary_logloss: 0.0317521\n",
      "[160]\ttraining's binary_logloss: 0.0015157\tvalid_1's binary_logloss: 0.0289278\n",
      "[180]\ttraining's binary_logloss: 0.000891514\tvalid_1's binary_logloss: 0.0272692\n",
      "[200]\ttraining's binary_logloss: 0.000523252\tvalid_1's binary_logloss: 0.0256323\n",
      "[220]\ttraining's binary_logloss: 0.00030804\tvalid_1's binary_logloss: 0.0244606\n",
      "[240]\ttraining's binary_logloss: 0.00018175\tvalid_1's binary_logloss: 0.0232835\n",
      "[260]\ttraining's binary_logloss: 0.000107104\tvalid_1's binary_logloss: 0.0225699\n",
      "[280]\ttraining's binary_logloss: 6.32968e-05\tvalid_1's binary_logloss: 0.0216907\n"
     ]
    },
    {
     "name": "stderr",
     "output_type": "stream",
     "text": [
      "len(train_index) : 986\n",
      "len(valid_index) : 986\n",
      "================================= 2fold lightgbm =================================\n"
     ]
    },
    {
     "name": "stdout",
     "output_type": "stream",
     "text": [
      "Early stopping, best iteration is:\n",
      "[281]\ttraining's binary_logloss: 6.16515e-05\tvalid_1's binary_logloss: 0.0215732\n",
      "Training until validation scores don't improve for 10 rounds\n",
      "[20]\ttraining's binary_logloss: 0.0754708\tvalid_1's binary_logloss: 0.111843\n",
      "[40]\ttraining's binary_logloss: 0.0392148\tvalid_1's binary_logloss: 0.0846463\n",
      "[60]\ttraining's binary_logloss: 0.0215918\tvalid_1's binary_logloss: 0.0713008\n",
      "[80]\ttraining's binary_logloss: 0.0121829\tvalid_1's binary_logloss: 0.061122\n",
      "[100]\ttraining's binary_logloss: 0.00693217\tvalid_1's binary_logloss: 0.0548514\n",
      "[120]\ttraining's binary_logloss: 0.00397774\tvalid_1's binary_logloss: 0.0516389\n",
      "[140]\ttraining's binary_logloss: 0.00229787\tvalid_1's binary_logloss: 0.0483206\n",
      "[160]\ttraining's binary_logloss: 0.00132775\tvalid_1's binary_logloss: 0.0468191\n",
      "[180]\ttraining's binary_logloss: 0.000769467\tvalid_1's binary_logloss: 0.0458158\n",
      "[200]\ttraining's binary_logloss: 0.000448386\tvalid_1's binary_logloss: 0.0455125\n"
     ]
    },
    {
     "name": "stderr",
     "output_type": "stream",
     "text": [
      "gaba_receptor_agonist logloss: 0.03329582617598534\n",
      "=========================================================================================\n",
      "len(trt) : 165\n",
      "len(train_index) : 1015\n",
      "len(valid_index) : 1016\n",
      "================================= 1fold lightgbm =================================\n"
     ]
    },
    {
     "name": "stdout",
     "output_type": "stream",
     "text": [
      "Early stopping, best iteration is:\n",
      "[208]\ttraining's binary_logloss: 0.00036155\tvalid_1's binary_logloss: 0.0450185\n",
      "Training until validation scores don't improve for 10 rounds\n",
      "[20]\ttraining's binary_logloss: 0.107011\tvalid_1's binary_logloss: 0.136289\n",
      "[40]\ttraining's binary_logloss: 0.0556057\tvalid_1's binary_logloss: 0.0866828\n",
      "[60]\ttraining's binary_logloss: 0.0306498\tvalid_1's binary_logloss: 0.0608694\n",
      "[80]\ttraining's binary_logloss: 0.0175063\tvalid_1's binary_logloss: 0.046113\n",
      "[100]\ttraining's binary_logloss: 0.0100325\tvalid_1's binary_logloss: 0.0374206\n",
      "[120]\ttraining's binary_logloss: 0.00577454\tvalid_1's binary_logloss: 0.0318132\n",
      "[140]\ttraining's binary_logloss: 0.00332887\tvalid_1's binary_logloss: 0.0281068\n",
      "[160]\ttraining's binary_logloss: 0.00191925\tvalid_1's binary_logloss: 0.0255955\n",
      "[180]\ttraining's binary_logloss: 0.00110172\tvalid_1's binary_logloss: 0.0227035\n",
      "[200]\ttraining's binary_logloss: 0.000631944\tvalid_1's binary_logloss: 0.0197102\n",
      "[220]\ttraining's binary_logloss: 0.000364345\tvalid_1's binary_logloss: 0.0177761\n",
      "[240]\ttraining's binary_logloss: 0.000209635\tvalid_1's binary_logloss: 0.0157155\n",
      "[260]\ttraining's binary_logloss: 0.000120605\tvalid_1's binary_logloss: 0.0140321\n",
      "[280]\ttraining's binary_logloss: 6.97153e-05\tvalid_1's binary_logloss: 0.0128484\n",
      "[300]\ttraining's binary_logloss: 4.04768e-05\tvalid_1's binary_logloss: 0.0114097\n",
      "[320]\ttraining's binary_logloss: 2.39153e-05\tvalid_1's binary_logloss: 0.0107267\n",
      "[340]\ttraining's binary_logloss: 1.4394e-05\tvalid_1's binary_logloss: 0.00987946\n",
      "[360]\ttraining's binary_logloss: 8.88993e-06\tvalid_1's binary_logloss: 0.00889643\n",
      "[380]\ttraining's binary_logloss: 5.84007e-06\tvalid_1's binary_logloss: 0.00842342\n",
      "[400]\ttraining's binary_logloss: 4.24812e-06\tvalid_1's binary_logloss: 0.00844079\n",
      "Early stopping, best iteration is:\n",
      "[394]\ttraining's binary_logloss: 4.59067e-06\tvalid_1's binary_logloss: 0.00827061\n"
     ]
    },
    {
     "name": "stderr",
     "output_type": "stream",
     "text": [
      "len(train_index) : 1016\n",
      "len(valid_index) : 1015\n",
      "================================= 2fold lightgbm =================================\n"
     ]
    },
    {
     "name": "stdout",
     "output_type": "stream",
     "text": [
      "Training until validation scores don't improve for 10 rounds\n",
      "[20]\ttraining's binary_logloss: 0.11153\tvalid_1's binary_logloss: 0.158381\n",
      "[40]\ttraining's binary_logloss: 0.0590757\tvalid_1's binary_logloss: 0.113423\n",
      "[60]\ttraining's binary_logloss: 0.0323131\tvalid_1's binary_logloss: 0.084951\n",
      "[80]\ttraining's binary_logloss: 0.0181732\tvalid_1's binary_logloss: 0.0684409\n",
      "[100]\ttraining's binary_logloss: 0.0103807\tvalid_1's binary_logloss: 0.0588988\n",
      "[120]\ttraining's binary_logloss: 0.00595815\tvalid_1's binary_logloss: 0.0527461\n",
      "[140]\ttraining's binary_logloss: 0.00342368\tvalid_1's binary_logloss: 0.0489346\n",
      "[160]\ttraining's binary_logloss: 0.00196592\tvalid_1's binary_logloss: 0.0471711\n",
      "[180]\ttraining's binary_logloss: 0.00113591\tvalid_1's binary_logloss: 0.0457245\n",
      "[200]\ttraining's binary_logloss: 0.000657971\tvalid_1's binary_logloss: 0.0446744\n",
      "[220]\ttraining's binary_logloss: 0.000378459\tvalid_1's binary_logloss: 0.0434198\n",
      "[240]\ttraining's binary_logloss: 0.000219318\tvalid_1's binary_logloss: 0.0430294\n",
      "[260]\ttraining's binary_logloss: 0.000127512\tvalid_1's binary_logloss: 0.0424987\n"
     ]
    },
    {
     "name": "stderr",
     "output_type": "stream",
     "text": [
      "gaba_receptor_antagonist logloss: 0.02519316067558491\n",
      "=========================================================================================\n",
      "len(trt) : 56\n",
      "len(train_index) : 961\n",
      "len(valid_index) : 961\n",
      "================================= 1fold lightgbm =================================\n"
     ]
    },
    {
     "name": "stdout",
     "output_type": "stream",
     "text": [
      "Early stopping, best iteration is:\n",
      "[268]\ttraining's binary_logloss: 0.000102461\tvalid_1's binary_logloss: 0.0421324\n",
      "Training until validation scores don't improve for 10 rounds\n",
      "[20]\ttraining's binary_logloss: 0.0417714\tvalid_1's binary_logloss: 0.0588822\n",
      "[40]\ttraining's binary_logloss: 0.0213218\tvalid_1's binary_logloss: 0.0435599\n",
      "[60]\ttraining's binary_logloss: 0.0115982\tvalid_1's binary_logloss: 0.0370784\n",
      "[80]\ttraining's binary_logloss: 0.00652292\tvalid_1's binary_logloss: 0.0338369\n",
      "[100]\ttraining's binary_logloss: 0.00371418\tvalid_1's binary_logloss: 0.0329976\n"
     ]
    },
    {
     "name": "stderr",
     "output_type": "stream",
     "text": [
      "len(train_index) : 961\n",
      "len(valid_index) : 961\n",
      "================================= 2fold lightgbm =================================\n"
     ]
    },
    {
     "name": "stdout",
     "output_type": "stream",
     "text": [
      "[120]\ttraining's binary_logloss: 0.00211449\tvalid_1's binary_logloss: 0.0326495\n",
      "Early stopping, best iteration is:\n",
      "[111]\ttraining's binary_logloss: 0.00272226\tvalid_1's binary_logloss: 0.0326428\n",
      "Training until validation scores don't improve for 10 rounds\n",
      "[20]\ttraining's binary_logloss: 0.0413887\tvalid_1's binary_logloss: 0.0555264\n",
      "[40]\ttraining's binary_logloss: 0.0219189\tvalid_1's binary_logloss: 0.041277\n",
      "[60]\ttraining's binary_logloss: 0.0120346\tvalid_1's binary_logloss: 0.0335011\n",
      "[80]\ttraining's binary_logloss: 0.00675397\tvalid_1's binary_logloss: 0.0295134\n",
      "[100]\ttraining's binary_logloss: 0.0038333\tvalid_1's binary_logloss: 0.027765\n",
      "[120]\ttraining's binary_logloss: 0.00218878\tvalid_1's binary_logloss: 0.0273981\n",
      "Early stopping, best iteration is:\n",
      "[119]\ttraining's binary_logloss: 0.00224915\tvalid_1's binary_logloss: 0.0273584\n"
     ]
    },
    {
     "name": "stderr",
     "output_type": "stream",
     "text": [
      "gamma_secretase_inhibitor logloss: 0.030000635228362174\n",
      "=========================================================================================\n",
      "len(trt) : 266\n",
      "len(train_index) : 1066\n",
      "len(valid_index) : 1066\n",
      "================================= 1fold lightgbm =================================\n"
     ]
    },
    {
     "name": "stdout",
     "output_type": "stream",
     "text": [
      "Training until validation scores don't improve for 10 rounds\n",
      "[20]\ttraining's binary_logloss: 0.147701\tvalid_1's binary_logloss: 0.154377\n",
      "[40]\ttraining's binary_logloss: 0.0767701\tvalid_1's binary_logloss: 0.0882802\n",
      "[60]\ttraining's binary_logloss: 0.0417589\tvalid_1's binary_logloss: 0.0554134\n",
      "[80]\ttraining's binary_logloss: 0.023304\tvalid_1's binary_logloss: 0.0385835\n",
      "[100]\ttraining's binary_logloss: 0.0130587\tvalid_1's binary_logloss: 0.029748\n",
      "[120]\ttraining's binary_logloss: 0.00738661\tvalid_1's binary_logloss: 0.0255381\n",
      "[140]\ttraining's binary_logloss: 0.00419986\tvalid_1's binary_logloss: 0.0238478\n"
     ]
    },
    {
     "name": "stderr",
     "output_type": "stream",
     "text": [
      "len(train_index) : 1066\n",
      "len(valid_index) : 1066\n",
      "================================= 2fold lightgbm =================================\n"
     ]
    },
    {
     "name": "stdout",
     "output_type": "stream",
     "text": [
      "[160]\ttraining's binary_logloss: 0.00239478\tvalid_1's binary_logloss: 0.0237659\n",
      "Early stopping, best iteration is:\n",
      "[151]\ttraining's binary_logloss: 0.00308841\tvalid_1's binary_logloss: 0.0236022\n",
      "Training until validation scores don't improve for 10 rounds\n",
      "[20]\ttraining's binary_logloss: 0.145543\tvalid_1's binary_logloss: 0.158184\n",
      "[40]\ttraining's binary_logloss: 0.0743556\tvalid_1's binary_logloss: 0.0929757\n",
      "[60]\ttraining's binary_logloss: 0.0399987\tvalid_1's binary_logloss: 0.0631743\n",
      "[80]\ttraining's binary_logloss: 0.0219714\tvalid_1's binary_logloss: 0.0486138\n",
      "[100]\ttraining's binary_logloss: 0.0121848\tvalid_1's binary_logloss: 0.0413375\n",
      "[120]\ttraining's binary_logloss: 0.00680632\tvalid_1's binary_logloss: 0.0379477\n",
      "[140]\ttraining's binary_logloss: 0.0038212\tvalid_1's binary_logloss: 0.0369703\n"
     ]
    },
    {
     "name": "stderr",
     "output_type": "stream",
     "text": [
      "glucocorticoid_receptor_agonist logloss: 0.03012026729422227\n",
      "=========================================================================================\n",
      "len(trt) : 13\n",
      "len(train_index) : 939\n",
      "len(valid_index) : 940\n",
      "================================= 1fold lightgbm =================================\n"
     ]
    },
    {
     "name": "stdout",
     "output_type": "stream",
     "text": [
      "Early stopping, best iteration is:\n",
      "[147]\ttraining's binary_logloss: 0.00312403\tvalid_1's binary_logloss: 0.0366383\n",
      "Training until validation scores don't improve for 10 rounds\n",
      "[20]\ttraining's binary_logloss: 0.00977022\tvalid_1's binary_logloss: 0.0378079\n",
      "[40]\ttraining's binary_logloss: 0.00499232\tvalid_1's binary_logloss: 0.0361608\n"
     ]
    },
    {
     "name": "stderr",
     "output_type": "stream",
     "text": [
      "len(train_index) : 940\n",
      "len(valid_index) : 939\n",
      "================================= 2fold lightgbm =================================\n"
     ]
    },
    {
     "name": "stdout",
     "output_type": "stream",
     "text": [
      "Early stopping, best iteration is:\n",
      "[43]\ttraining's binary_logloss: 0.00454991\tvalid_1's binary_logloss: 0.0358014\n",
      "Training until validation scores don't improve for 10 rounds\n",
      "[20]\ttraining's binary_logloss: 0.0123755\tvalid_1's binary_logloss: 0.0273461\n",
      "[40]\ttraining's binary_logloss: 0.00618331\tvalid_1's binary_logloss: 0.0241107\n",
      "[60]\ttraining's binary_logloss: 0.00329945\tvalid_1's binary_logloss: 0.0236577\n"
     ]
    },
    {
     "name": "stderr",
     "output_type": "stream",
     "text": [
      "glutamate_inhibitor logloss: 0.02972231788184503\n",
      "=========================================================================================\n",
      "len(trt) : 74\n",
      "len(train_index) : 970\n",
      "len(valid_index) : 970\n",
      "================================= 1fold lightgbm =================================\n"
     ]
    },
    {
     "name": "stdout",
     "output_type": "stream",
     "text": [
      "Early stopping, best iteration is:\n",
      "[67]\ttraining's binary_logloss: 0.00267419\tvalid_1's binary_logloss: 0.0236368\n",
      "Training until validation scores don't improve for 10 rounds\n",
      "[20]\ttraining's binary_logloss: 0.0550589\tvalid_1's binary_logloss: 0.0841685\n",
      "[40]\ttraining's binary_logloss: 0.0287094\tvalid_1's binary_logloss: 0.0628255\n",
      "[60]\ttraining's binary_logloss: 0.0158108\tvalid_1's binary_logloss: 0.0519343\n",
      "[80]\ttraining's binary_logloss: 0.00892295\tvalid_1's binary_logloss: 0.0458568\n",
      "[100]\ttraining's binary_logloss: 0.00513946\tvalid_1's binary_logloss: 0.0430121\n",
      "[120]\ttraining's binary_logloss: 0.00296415\tvalid_1's binary_logloss: 0.041024\n"
     ]
    },
    {
     "name": "stderr",
     "output_type": "stream",
     "text": [
      "len(train_index) : 970\n",
      "len(valid_index) : 970\n",
      "================================= 2fold lightgbm =================================\n"
     ]
    },
    {
     "name": "stdout",
     "output_type": "stream",
     "text": [
      "Early stopping, best iteration is:\n",
      "[125]\ttraining's binary_logloss: 0.00258995\tvalid_1's binary_logloss: 0.0407911\n",
      "Training until validation scores don't improve for 10 rounds\n",
      "[20]\ttraining's binary_logloss: 0.0567374\tvalid_1's binary_logloss: 0.0931885\n",
      "[40]\ttraining's binary_logloss: 0.0304124\tvalid_1's binary_logloss: 0.0722013\n",
      "[60]\ttraining's binary_logloss: 0.0169383\tvalid_1's binary_logloss: 0.0601871\n",
      "[80]\ttraining's binary_logloss: 0.009598\tvalid_1's binary_logloss: 0.0531758\n",
      "[100]\ttraining's binary_logloss: 0.00552338\tvalid_1's binary_logloss: 0.0495175\n"
     ]
    },
    {
     "name": "stderr",
     "output_type": "stream",
     "text": [
      "glutamate_receptor_agonist logloss: 0.04437303020000329\n",
      "=========================================================================================\n",
      "len(trt) : 367\n",
      "len(train_index) : 1116\n",
      "len(valid_index) : 1117\n",
      "================================= 1fold lightgbm =================================\n"
     ]
    },
    {
     "name": "stdout",
     "output_type": "stream",
     "text": [
      "[120]\ttraining's binary_logloss: 0.00318207\tvalid_1's binary_logloss: 0.0482205\n",
      "Early stopping, best iteration is:\n",
      "[110]\ttraining's binary_logloss: 0.00419965\tvalid_1's binary_logloss: 0.0479549\n",
      "Training until validation scores don't improve for 10 rounds\n",
      "[20]\ttraining's binary_logloss: 0.192801\tvalid_1's binary_logloss: 0.219992\n",
      "[40]\ttraining's binary_logloss: 0.102735\tvalid_1's binary_logloss: 0.13769\n",
      "[60]\ttraining's binary_logloss: 0.0576166\tvalid_1's binary_logloss: 0.0943624\n",
      "[80]\ttraining's binary_logloss: 0.0328218\tvalid_1's binary_logloss: 0.0672168\n",
      "[100]\ttraining's binary_logloss: 0.0190074\tvalid_1's binary_logloss: 0.0506212\n",
      "[120]\ttraining's binary_logloss: 0.0110572\tvalid_1's binary_logloss: 0.0400446\n",
      "[140]\ttraining's binary_logloss: 0.00646937\tvalid_1's binary_logloss: 0.0338353\n",
      "[160]\ttraining's binary_logloss: 0.00380854\tvalid_1's binary_logloss: 0.0293152\n",
      "[180]\ttraining's binary_logloss: 0.00225126\tvalid_1's binary_logloss: 0.0265545\n",
      "[200]\ttraining's binary_logloss: 0.00132723\tvalid_1's binary_logloss: 0.0250838\n",
      "[220]\ttraining's binary_logloss: 0.000787732\tvalid_1's binary_logloss: 0.0231517\n",
      "[240]\ttraining's binary_logloss: 0.000467883\tvalid_1's binary_logloss: 0.0220927\n",
      "[260]\ttraining's binary_logloss: 0.000277681\tvalid_1's binary_logloss: 0.0208654\n",
      "[280]\ttraining's binary_logloss: 0.000165392\tvalid_1's binary_logloss: 0.02005\n",
      "[300]\ttraining's binary_logloss: 9.78939e-05\tvalid_1's binary_logloss: 0.01877\n",
      "[320]\ttraining's binary_logloss: 5.78055e-05\tvalid_1's binary_logloss: 0.0174453\n"
     ]
    },
    {
     "name": "stderr",
     "output_type": "stream",
     "text": [
      "len(train_index) : 1117\n",
      "len(valid_index) : 1116\n",
      "================================= 2fold lightgbm =================================\n"
     ]
    },
    {
     "name": "stdout",
     "output_type": "stream",
     "text": [
      "Early stopping, best iteration is:\n",
      "[324]\ttraining's binary_logloss: 5.2106e-05\tvalid_1's binary_logloss: 0.0170289\n",
      "Training until validation scores don't improve for 10 rounds\n",
      "[20]\ttraining's binary_logloss: 0.193784\tvalid_1's binary_logloss: 0.213424\n",
      "[40]\ttraining's binary_logloss: 0.103581\tvalid_1's binary_logloss: 0.131547\n",
      "[60]\ttraining's binary_logloss: 0.0587639\tvalid_1's binary_logloss: 0.0890074\n",
      "[80]\ttraining's binary_logloss: 0.0340185\tvalid_1's binary_logloss: 0.0628328\n",
      "[100]\ttraining's binary_logloss: 0.0198431\tvalid_1's binary_logloss: 0.046408\n",
      "[120]\ttraining's binary_logloss: 0.0116701\tvalid_1's binary_logloss: 0.0368846\n",
      "[140]\ttraining's binary_logloss: 0.00690261\tvalid_1's binary_logloss: 0.0304222\n",
      "[160]\ttraining's binary_logloss: 0.00412767\tvalid_1's binary_logloss: 0.0264502\n",
      "[180]\ttraining's binary_logloss: 0.00246387\tvalid_1's binary_logloss: 0.0227106\n",
      "[200]\ttraining's binary_logloss: 0.00147344\tvalid_1's binary_logloss: 0.0198873\n",
      "[220]\ttraining's binary_logloss: 0.000886129\tvalid_1's binary_logloss: 0.0177266\n",
      "[240]\ttraining's binary_logloss: 0.000530271\tvalid_1's binary_logloss: 0.0159908\n",
      "[260]\ttraining's binary_logloss: 0.000318613\tvalid_1's binary_logloss: 0.014833\n",
      "[280]\ttraining's binary_logloss: 0.000192124\tvalid_1's binary_logloss: 0.0141484\n",
      "[300]\ttraining's binary_logloss: 0.00011573\tvalid_1's binary_logloss: 0.0130481\n",
      "[320]\ttraining's binary_logloss: 6.95222e-05\tvalid_1's binary_logloss: 0.0123943\n",
      "[340]\ttraining's binary_logloss: 4.18969e-05\tvalid_1's binary_logloss: 0.0119026\n",
      "[360]\ttraining's binary_logloss: 2.52526e-05\tvalid_1's binary_logloss: 0.0115489\n",
      "[380]\ttraining's binary_logloss: 1.54481e-05\tvalid_1's binary_logloss: 0.0108854\n"
     ]
    },
    {
     "name": "stderr",
     "output_type": "stream",
     "text": [
      "glutamate_receptor_antagonist logloss: 0.013917116553866933\n",
      "=========================================================================================\n",
      "len(trt) : 18\n",
      "len(train_index) : 942\n",
      "len(valid_index) : 942\n"
     ]
    },
    {
     "name": "stdout",
     "output_type": "stream",
     "text": [
      "Early stopping, best iteration is:\n",
      "[384]\ttraining's binary_logloss: 1.39874e-05\tvalid_1's binary_logloss: 0.0108026\n"
     ]
    },
    {
     "name": "stderr",
     "output_type": "stream",
     "text": [
      "================================= 1fold lightgbm =================================\n"
     ]
    },
    {
     "name": "stdout",
     "output_type": "stream",
     "text": [
      "Training until validation scores don't improve for 10 rounds\n",
      "[20]\ttraining's binary_logloss: 0.0160696\tvalid_1's binary_logloss: 0.0424783\n",
      "[40]\ttraining's binary_logloss: 0.00830721\tvalid_1's binary_logloss: 0.0411386\n"
     ]
    },
    {
     "name": "stderr",
     "output_type": "stream",
     "text": [
      "len(train_index) : 942\n",
      "len(valid_index) : 942\n",
      "================================= 2fold lightgbm =================================\n"
     ]
    },
    {
     "name": "stdout",
     "output_type": "stream",
     "text": [
      "Early stopping, best iteration is:\n",
      "[47]\ttraining's binary_logloss: 0.00670414\tvalid_1's binary_logloss: 0.0409274\n",
      "Training until validation scores don't improve for 10 rounds\n",
      "[20]\ttraining's binary_logloss: 0.0160858\tvalid_1's binary_logloss: 0.0449122\n",
      "[40]\ttraining's binary_logloss: 0.00843166\tvalid_1's binary_logloss: 0.04389\n"
     ]
    },
    {
     "name": "stderr",
     "output_type": "stream",
     "text": [
      "gonadotropin_receptor_agonist logloss: 0.04211213491977075\n",
      "=========================================================================================\n",
      "len(trt) : 60\n",
      "len(train_index) : 963\n",
      "len(valid_index) : 963\n",
      "================================= 1fold lightgbm =================================\n"
     ]
    },
    {
     "name": "stdout",
     "output_type": "stream",
     "text": [
      "Early stopping, best iteration is:\n",
      "[47]\ttraining's binary_logloss: 0.00682981\tvalid_1's binary_logloss: 0.0432969\n",
      "Training until validation scores don't improve for 10 rounds\n",
      "[20]\ttraining's binary_logloss: 0.0443651\tvalid_1's binary_logloss: 0.0665198\n",
      "[40]\ttraining's binary_logloss: 0.0227511\tvalid_1's binary_logloss: 0.0541203\n",
      "[60]\ttraining's binary_logloss: 0.0124846\tvalid_1's binary_logloss: 0.04865\n",
      "[80]\ttraining's binary_logloss: 0.00702548\tvalid_1's binary_logloss: 0.0447971\n",
      "[100]\ttraining's binary_logloss: 0.00398176\tvalid_1's binary_logloss: 0.0430522\n",
      "[120]\ttraining's binary_logloss: 0.00227345\tvalid_1's binary_logloss: 0.0426724\n"
     ]
    },
    {
     "name": "stderr",
     "output_type": "stream",
     "text": [
      "len(train_index) : 963\n",
      "len(valid_index) : 963\n",
      "================================= 2fold lightgbm =================================\n"
     ]
    },
    {
     "name": "stdout",
     "output_type": "stream",
     "text": [
      "Early stopping, best iteration is:\n",
      "[118]\ttraining's binary_logloss: 0.0024083\tvalid_1's binary_logloss: 0.0425949\n",
      "Training until validation scores don't improve for 10 rounds\n",
      "[20]\ttraining's binary_logloss: 0.0460311\tvalid_1's binary_logloss: 0.0562082\n",
      "[40]\ttraining's binary_logloss: 0.024134\tvalid_1's binary_logloss: 0.0408306\n",
      "[60]\ttraining's binary_logloss: 0.013334\tvalid_1's binary_logloss: 0.0335741\n",
      "[80]\ttraining's binary_logloss: 0.00753802\tvalid_1's binary_logloss: 0.0303782\n",
      "[100]\ttraining's binary_logloss: 0.00428285\tvalid_1's binary_logloss: 0.0291135\n"
     ]
    },
    {
     "name": "stderr",
     "output_type": "stream",
     "text": [
      "gsk_inhibitor logloss: 0.035737871072541484\n",
      "=========================================================================================\n",
      "len(trt) : 72\n",
      "len(train_index) : 969\n",
      "len(valid_index) : 969\n",
      "================================= 1fold lightgbm =================================\n"
     ]
    },
    {
     "name": "stdout",
     "output_type": "stream",
     "text": [
      "[120]\ttraining's binary_logloss: 0.00246095\tvalid_1's binary_logloss: 0.0291311\n",
      "Early stopping, best iteration is:\n",
      "[110]\ttraining's binary_logloss: 0.00323973\tvalid_1's binary_logloss: 0.0288808\n",
      "Training until validation scores don't improve for 10 rounds\n",
      "[20]\ttraining's binary_logloss: 0.061785\tvalid_1's binary_logloss: 0.0971664\n",
      "[40]\ttraining's binary_logloss: 0.0331401\tvalid_1's binary_logloss: 0.0793056\n",
      "[60]\ttraining's binary_logloss: 0.0189454\tvalid_1's binary_logloss: 0.0692326\n",
      "[80]\ttraining's binary_logloss: 0.0110407\tvalid_1's binary_logloss: 0.0638308\n",
      "[100]\ttraining's binary_logloss: 0.00649104\tvalid_1's binary_logloss: 0.0599879\n",
      "[120]\ttraining's binary_logloss: 0.00385825\tvalid_1's binary_logloss: 0.058073\n"
     ]
    },
    {
     "name": "stderr",
     "output_type": "stream",
     "text": [
      "len(train_index) : 969\n",
      "len(valid_index) : 969\n",
      "================================= 2fold lightgbm =================================\n"
     ]
    },
    {
     "name": "stdout",
     "output_type": "stream",
     "text": [
      "[140]\ttraining's binary_logloss: 0.00232108\tvalid_1's binary_logloss: 0.0578097\n",
      "Early stopping, best iteration is:\n",
      "[132]\ttraining's binary_logloss: 0.00284256\tvalid_1's binary_logloss: 0.0574887\n",
      "Training until validation scores don't improve for 10 rounds\n",
      "[20]\ttraining's binary_logloss: 0.0535341\tvalid_1's binary_logloss: 0.100736\n",
      "[40]\ttraining's binary_logloss: 0.0279588\tvalid_1's binary_logloss: 0.0874186\n",
      "[60]\ttraining's binary_logloss: 0.0152748\tvalid_1's binary_logloss: 0.0811577\n",
      "[80]\ttraining's binary_logloss: 0.00851292\tvalid_1's binary_logloss: 0.0784563\n",
      "[100]\ttraining's binary_logloss: 0.00481938\tvalid_1's binary_logloss: 0.0776276\n"
     ]
    },
    {
     "name": "stderr",
     "output_type": "stream",
     "text": [
      "hcv_inhibitor logloss: 0.0673108275691221\n",
      "=========================================================================================\n",
      "len(trt) : 106\n",
      "len(train_index) : 986\n",
      "len(valid_index) : 986\n",
      "================================= 1fold lightgbm =================================\n"
     ]
    },
    {
     "name": "stdout",
     "output_type": "stream",
     "text": [
      "Early stopping, best iteration is:\n",
      "[107]\ttraining's binary_logloss: 0.00396424\tvalid_1's binary_logloss: 0.0771329\n",
      "Training until validation scores don't improve for 10 rounds\n",
      "[20]\ttraining's binary_logloss: 0.0751655\tvalid_1's binary_logloss: 0.0768438\n",
      "[40]\ttraining's binary_logloss: 0.0388494\tvalid_1's binary_logloss: 0.0470973\n",
      "[60]\ttraining's binary_logloss: 0.0213153\tvalid_1's binary_logloss: 0.0336818\n",
      "[80]\ttraining's binary_logloss: 0.0119749\tvalid_1's binary_logloss: 0.0273541\n",
      "[100]\ttraining's binary_logloss: 0.00675865\tvalid_1's binary_logloss: 0.0246189\n",
      "[120]\ttraining's binary_logloss: 0.00386306\tvalid_1's binary_logloss: 0.0236691\n"
     ]
    },
    {
     "name": "stderr",
     "output_type": "stream",
     "text": [
      "len(train_index) : 986\n",
      "len(valid_index) : 986\n",
      "================================= 2fold lightgbm =================================\n"
     ]
    },
    {
     "name": "stdout",
     "output_type": "stream",
     "text": [
      "Early stopping, best iteration is:\n",
      "[128]\ttraining's binary_logloss: 0.00309664\tvalid_1's binary_logloss: 0.0233371\n",
      "Training until validation scores don't improve for 10 rounds\n",
      "[20]\ttraining's binary_logloss: 0.0711212\tvalid_1's binary_logloss: 0.0953935\n",
      "[40]\ttraining's binary_logloss: 0.0365588\tvalid_1's binary_logloss: 0.0688994\n",
      "[60]\ttraining's binary_logloss: 0.0196108\tvalid_1's binary_logloss: 0.0601923\n",
      "[80]\ttraining's binary_logloss: 0.0107275\tvalid_1's binary_logloss: 0.057333\n",
      "[100]\ttraining's binary_logloss: 0.00596508\tvalid_1's binary_logloss: 0.0541653\n"
     ]
    },
    {
     "name": "stderr",
     "output_type": "stream",
     "text": [
      "hdac_inhibitor logloss: 0.03840890449591828\n",
      "=========================================================================================\n",
      "len(trt) : 59\n",
      "len(train_index) : 962\n",
      "len(valid_index) : 963\n",
      "================================= 1fold lightgbm =================================\n"
     ]
    },
    {
     "name": "stdout",
     "output_type": "stream",
     "text": [
      "[120]\ttraining's binary_logloss: 0.00334433\tvalid_1's binary_logloss: 0.0538566\n",
      "Early stopping, best iteration is:\n",
      "[112]\ttraining's binary_logloss: 0.00421207\tvalid_1's binary_logloss: 0.0534807\n",
      "Training until validation scores don't improve for 10 rounds\n",
      "[20]\ttraining's binary_logloss: 0.0439308\tvalid_1's binary_logloss: 0.0857933\n",
      "[40]\ttraining's binary_logloss: 0.0227578\tvalid_1's binary_logloss: 0.0742155\n",
      "[60]\ttraining's binary_logloss: 0.0126436\tvalid_1's binary_logloss: 0.068653\n",
      "[80]\ttraining's binary_logloss: 0.00724356\tvalid_1's binary_logloss: 0.0662366\n",
      "[100]\ttraining's binary_logloss: 0.00420209\tvalid_1's binary_logloss: 0.0646678\n",
      "[120]\ttraining's binary_logloss: 0.00245839\tvalid_1's binary_logloss: 0.0640589\n"
     ]
    },
    {
     "name": "stderr",
     "output_type": "stream",
     "text": [
      "len(train_index) : 963\n",
      "len(valid_index) : 962\n",
      "================================= 2fold lightgbm =================================\n"
     ]
    },
    {
     "name": "stdout",
     "output_type": "stream",
     "text": [
      "Early stopping, best iteration is:\n",
      "[122]\ttraining's binary_logloss: 0.00233185\tvalid_1's binary_logloss: 0.0640466\n",
      "Training until validation scores don't improve for 10 rounds\n",
      "[20]\ttraining's binary_logloss: 0.0460481\tvalid_1's binary_logloss: 0.0751259\n",
      "[40]\ttraining's binary_logloss: 0.0240068\tvalid_1's binary_logloss: 0.0619906\n",
      "[60]\ttraining's binary_logloss: 0.0133561\tvalid_1's binary_logloss: 0.05622\n",
      "[80]\ttraining's binary_logloss: 0.00772149\tvalid_1's binary_logloss: 0.0529358\n",
      "[100]\ttraining's binary_logloss: 0.00449421\tvalid_1's binary_logloss: 0.0518322\n"
     ]
    },
    {
     "name": "stderr",
     "output_type": "stream",
     "text": [
      "histamine_receptor_agonist logloss: 0.05794258096160344\n",
      "=========================================================================================\n",
      "len(trt) : 241\n",
      "len(train_index) : 1053\n",
      "len(valid_index) : 1054\n",
      "================================= 1fold lightgbm =================================\n"
     ]
    },
    {
     "name": "stdout",
     "output_type": "stream",
     "text": [
      "Early stopping, best iteration is:\n",
      "[100]\ttraining's binary_logloss: 0.00449421\tvalid_1's binary_logloss: 0.0518322\n",
      "Training until validation scores don't improve for 10 rounds\n",
      "[20]\ttraining's binary_logloss: 0.147028\tvalid_1's binary_logloss: 0.186723\n",
      "[40]\ttraining's binary_logloss: 0.0781339\tvalid_1's binary_logloss: 0.124977\n",
      "[60]\ttraining's binary_logloss: 0.0439068\tvalid_1's binary_logloss: 0.0924216\n",
      "[80]\ttraining's binary_logloss: 0.0252261\tvalid_1's binary_logloss: 0.0744581\n",
      "[100]\ttraining's binary_logloss: 0.0146298\tvalid_1's binary_logloss: 0.0637153\n",
      "[120]\ttraining's binary_logloss: 0.0084389\tvalid_1's binary_logloss: 0.0557262\n",
      "[140]\ttraining's binary_logloss: 0.004924\tvalid_1's binary_logloss: 0.0508375\n",
      "[160]\ttraining's binary_logloss: 0.00286943\tvalid_1's binary_logloss: 0.0477811\n",
      "[180]\ttraining's binary_logloss: 0.00167014\tvalid_1's binary_logloss: 0.0458429\n",
      "[200]\ttraining's binary_logloss: 0.000977489\tvalid_1's binary_logloss: 0.0446398\n",
      "[220]\ttraining's binary_logloss: 0.000571448\tvalid_1's binary_logloss: 0.0439393\n",
      "[240]\ttraining's binary_logloss: 0.000331159\tvalid_1's binary_logloss: 0.0434917\n"
     ]
    },
    {
     "name": "stderr",
     "output_type": "stream",
     "text": [
      "len(train_index) : 1054\n",
      "len(valid_index) : 1053\n",
      "================================= 2fold lightgbm =================================\n"
     ]
    },
    {
     "name": "stdout",
     "output_type": "stream",
     "text": [
      "[260]\ttraining's binary_logloss: 0.000193897\tvalid_1's binary_logloss: 0.0433707\n",
      "Early stopping, best iteration is:\n",
      "[253]\ttraining's binary_logloss: 0.000234529\tvalid_1's binary_logloss: 0.04316\n",
      "Training until validation scores don't improve for 10 rounds\n",
      "[20]\ttraining's binary_logloss: 0.148435\tvalid_1's binary_logloss: 0.176785\n",
      "[40]\ttraining's binary_logloss: 0.079626\tvalid_1's binary_logloss: 0.118831\n",
      "[60]\ttraining's binary_logloss: 0.0448228\tvalid_1's binary_logloss: 0.0877437\n",
      "[80]\ttraining's binary_logloss: 0.0255504\tvalid_1's binary_logloss: 0.0693134\n",
      "[100]\ttraining's binary_logloss: 0.0148565\tvalid_1's binary_logloss: 0.058734\n",
      "[120]\ttraining's binary_logloss: 0.00863653\tvalid_1's binary_logloss: 0.0515721\n",
      "[140]\ttraining's binary_logloss: 0.00508971\tvalid_1's binary_logloss: 0.0474525\n",
      "[160]\ttraining's binary_logloss: 0.00299236\tvalid_1's binary_logloss: 0.0441467\n",
      "[180]\ttraining's binary_logloss: 0.00175824\tvalid_1's binary_logloss: 0.041744\n",
      "[200]\ttraining's binary_logloss: 0.00103251\tvalid_1's binary_logloss: 0.0404439\n",
      "[220]\ttraining's binary_logloss: 0.000605003\tvalid_1's binary_logloss: 0.0383574\n",
      "[240]\ttraining's binary_logloss: 0.000355551\tvalid_1's binary_logloss: 0.0374799\n",
      "[260]\ttraining's binary_logloss: 0.000209092\tvalid_1's binary_logloss: 0.0365746\n"
     ]
    },
    {
     "name": "stderr",
     "output_type": "stream",
     "text": [
      "histamine_receptor_antagonist logloss: 0.039475904234046004\n",
      "=========================================================================================\n"
     ]
    },
    {
     "name": "stdout",
     "output_type": "stream",
     "text": [
      "[280]\ttraining's binary_logloss: 0.000123061\tvalid_1's binary_logloss: 0.0361104\n",
      "Early stopping, best iteration is:\n",
      "[273]\ttraining's binary_logloss: 0.00014788\tvalid_1's binary_logloss: 0.0357883\n"
     ]
    },
    {
     "name": "stderr",
     "output_type": "stream",
     "text": [
      "len(trt) : 24\n",
      "len(train_index) : 945\n",
      "len(valid_index) : 945\n",
      "================================= 1fold lightgbm =================================\n"
     ]
    },
    {
     "name": "stdout",
     "output_type": "stream",
     "text": [
      "Training until validation scores don't improve for 10 rounds\n",
      "[20]\ttraining's binary_logloss: 0.0200581\tvalid_1's binary_logloss: 0.0402972\n",
      "[40]\ttraining's binary_logloss: 0.0102774\tvalid_1's binary_logloss: 0.0356395\n",
      "[60]\ttraining's binary_logloss: 0.00560113\tvalid_1's binary_logloss: 0.0314828\n",
      "[80]\ttraining's binary_logloss: 0.00311779\tvalid_1's binary_logloss: 0.0308186\n",
      "[100]\ttraining's binary_logloss: 0.00176409\tvalid_1's binary_logloss: 0.0302165\n"
     ]
    },
    {
     "name": "stderr",
     "output_type": "stream",
     "text": [
      "len(train_index) : 945\n",
      "len(valid_index) : 945\n",
      "================================= 2fold lightgbm =================================\n"
     ]
    },
    {
     "name": "stdout",
     "output_type": "stream",
     "text": [
      "Early stopping, best iteration is:\n",
      "[100]\ttraining's binary_logloss: 0.00176409\tvalid_1's binary_logloss: 0.0302165\n",
      "Training until validation scores don't improve for 10 rounds\n",
      "[20]\ttraining's binary_logloss: 0.0197068\tvalid_1's binary_logloss: 0.0410524\n",
      "[40]\ttraining's binary_logloss: 0.00996913\tvalid_1's binary_logloss: 0.0341483\n",
      "[60]\ttraining's binary_logloss: 0.00541379\tvalid_1's binary_logloss: 0.031579\n",
      "[80]\ttraining's binary_logloss: 0.00303502\tvalid_1's binary_logloss: 0.0302926\n",
      "[100]\ttraining's binary_logloss: 0.00172831\tvalid_1's binary_logloss: 0.0296934\n",
      "[120]\ttraining's binary_logloss: 0.000991021\tvalid_1's binary_logloss: 0.0295432\n"
     ]
    },
    {
     "name": "stderr",
     "output_type": "stream",
     "text": [
      "histone_lysine_demethylase_inhibitor logloss: 0.029636561221684184\n",
      "=========================================================================================\n",
      "len(trt) : 32\n",
      "len(train_index) : 949\n",
      "len(valid_index) : 949\n",
      "================================= 1fold lightgbm =================================\n"
     ]
    },
    {
     "name": "stdout",
     "output_type": "stream",
     "text": [
      "Early stopping, best iteration is:\n",
      "[127]\ttraining's binary_logloss: 0.000817459\tvalid_1's binary_logloss: 0.0290566\n",
      "Training until validation scores don't improve for 10 rounds\n",
      "[20]\ttraining's binary_logloss: 0.0266513\tvalid_1's binary_logloss: 0.0497249\n",
      "[40]\ttraining's binary_logloss: 0.0138994\tvalid_1's binary_logloss: 0.0398205\n",
      "[60]\ttraining's binary_logloss: 0.00764059\tvalid_1's binary_logloss: 0.0338735\n",
      "[80]\ttraining's binary_logloss: 0.0042953\tvalid_1's binary_logloss: 0.0316707\n",
      "[100]\ttraining's binary_logloss: 0.00245719\tvalid_1's binary_logloss: 0.0302607\n",
      "[120]\ttraining's binary_logloss: 0.00142352\tvalid_1's binary_logloss: 0.0297446\n",
      "Early stopping, best iteration is:\n",
      "[116]\ttraining's binary_logloss: 0.00158813\tvalid_1's binary_logloss: 0.0295167\n"
     ]
    },
    {
     "name": "stderr",
     "output_type": "stream",
     "text": [
      "len(train_index) : 949\n",
      "len(valid_index) : 949\n",
      "================================= 2fold lightgbm =================================\n"
     ]
    },
    {
     "name": "stdout",
     "output_type": "stream",
     "text": [
      "Training until validation scores don't improve for 10 rounds\n",
      "[20]\ttraining's binary_logloss: 0.0244005\tvalid_1's binary_logloss: 0.0672132\n",
      "[40]\ttraining's binary_logloss: 0.0127911\tvalid_1's binary_logloss: 0.0661091\n",
      "Early stopping, best iteration is:\n",
      "[38]\ttraining's binary_logloss: 0.0136008\tvalid_1's binary_logloss: 0.065727\n"
     ]
    },
    {
     "name": "stderr",
     "output_type": "stream",
     "text": [
      "histone_lysine_methyltransferase_inhibitor logloss: 0.04762185522448092\n",
      "=========================================================================================\n",
      "len(trt) : 72\n",
      "len(train_index) : 969\n",
      "len(valid_index) : 969\n",
      "================================= 1fold lightgbm =================================\n"
     ]
    },
    {
     "name": "stdout",
     "output_type": "stream",
     "text": [
      "Training until validation scores don't improve for 10 rounds\n",
      "[20]\ttraining's binary_logloss: 0.0526786\tvalid_1's binary_logloss: 0.0787498\n",
      "[40]\ttraining's binary_logloss: 0.0275691\tvalid_1's binary_logloss: 0.0594663\n",
      "[60]\ttraining's binary_logloss: 0.0151571\tvalid_1's binary_logloss: 0.0491539\n",
      "[80]\ttraining's binary_logloss: 0.00851865\tvalid_1's binary_logloss: 0.0437192\n",
      "[100]\ttraining's binary_logloss: 0.00486334\tvalid_1's binary_logloss: 0.0414028\n",
      "[120]\ttraining's binary_logloss: 0.00279208\tvalid_1's binary_logloss: 0.0407662\n",
      "[140]\ttraining's binary_logloss: 0.00159627\tvalid_1's binary_logloss: 0.0405576\n"
     ]
    },
    {
     "name": "stderr",
     "output_type": "stream",
     "text": [
      "len(train_index) : 969\n",
      "len(valid_index) : 969\n",
      "================================= 2fold lightgbm =================================\n"
     ]
    },
    {
     "name": "stdout",
     "output_type": "stream",
     "text": [
      "[160]\ttraining's binary_logloss: 0.000914134\tvalid_1's binary_logloss: 0.0399783\n",
      "Early stopping, best iteration is:\n",
      "[151]\ttraining's binary_logloss: 0.00117307\tvalid_1's binary_logloss: 0.0397175\n",
      "Training until validation scores don't improve for 10 rounds\n",
      "[20]\ttraining's binary_logloss: 0.0526109\tvalid_1's binary_logloss: 0.074186\n",
      "[40]\ttraining's binary_logloss: 0.0272812\tvalid_1's binary_logloss: 0.051215\n",
      "[60]\ttraining's binary_logloss: 0.0148798\tvalid_1's binary_logloss: 0.0398349\n",
      "[80]\ttraining's binary_logloss: 0.00835562\tvalid_1's binary_logloss: 0.0321547\n",
      "[100]\ttraining's binary_logloss: 0.00477446\tvalid_1's binary_logloss: 0.0280461\n",
      "[120]\ttraining's binary_logloss: 0.00272965\tvalid_1's binary_logloss: 0.0261656\n",
      "[140]\ttraining's binary_logloss: 0.00156246\tvalid_1's binary_logloss: 0.0249002\n",
      "[160]\ttraining's binary_logloss: 0.000897915\tvalid_1's binary_logloss: 0.0243115\n"
     ]
    },
    {
     "name": "stderr",
     "output_type": "stream",
     "text": [
      "hiv_inhibitor logloss: 0.03201448649958376\n",
      "=========================================================================================\n",
      "len(trt) : 283\n",
      "len(train_index) : 1074\n",
      "len(valid_index) : 1075\n",
      "================================= 1fold lightgbm =================================\n"
     ]
    },
    {
     "name": "stdout",
     "output_type": "stream",
     "text": [
      "Early stopping, best iteration is:\n",
      "[160]\ttraining's binary_logloss: 0.000897915\tvalid_1's binary_logloss: 0.0243115\n",
      "Training until validation scores don't improve for 10 rounds\n",
      "[20]\ttraining's binary_logloss: 0.154936\tvalid_1's binary_logloss: 0.16273\n",
      "[40]\ttraining's binary_logloss: 0.0804502\tvalid_1's binary_logloss: 0.0905749\n",
      "[60]\ttraining's binary_logloss: 0.0438453\tvalid_1's binary_logloss: 0.0555673\n",
      "[80]\ttraining's binary_logloss: 0.0242414\tvalid_1's binary_logloss: 0.0374701\n",
      "[100]\ttraining's binary_logloss: 0.0135062\tvalid_1's binary_logloss: 0.0287446\n",
      "[120]\ttraining's binary_logloss: 0.00759357\tvalid_1's binary_logloss: 0.024041\n",
      "[140]\ttraining's binary_logloss: 0.00429329\tvalid_1's binary_logloss: 0.0219373\n",
      "[160]\ttraining's binary_logloss: 0.00243408\tvalid_1's binary_logloss: 0.0210001\n"
     ]
    },
    {
     "name": "stderr",
     "output_type": "stream",
     "text": [
      "len(train_index) : 1075\n",
      "len(valid_index) : 1074\n",
      "================================= 2fold lightgbm =================================\n"
     ]
    },
    {
     "name": "stdout",
     "output_type": "stream",
     "text": [
      "Early stopping, best iteration is:\n",
      "[165]\ttraining's binary_logloss: 0.00211563\tvalid_1's binary_logloss: 0.0205753\n",
      "Training until validation scores don't improve for 10 rounds\n",
      "[20]\ttraining's binary_logloss: 0.153367\tvalid_1's binary_logloss: 0.163009\n",
      "[40]\ttraining's binary_logloss: 0.0786609\tvalid_1's binary_logloss: 0.0920844\n",
      "[60]\ttraining's binary_logloss: 0.0424654\tvalid_1's binary_logloss: 0.0580724\n",
      "[80]\ttraining's binary_logloss: 0.0233705\tvalid_1's binary_logloss: 0.0407479\n",
      "[100]\ttraining's binary_logloss: 0.013013\tvalid_1's binary_logloss: 0.0317134\n",
      "[120]\ttraining's binary_logloss: 0.00729519\tvalid_1's binary_logloss: 0.0270601\n",
      "[140]\ttraining's binary_logloss: 0.004101\tvalid_1's binary_logloss: 0.0249105\n",
      "[160]\ttraining's binary_logloss: 0.00231382\tvalid_1's binary_logloss: 0.0239305\n",
      "[180]\ttraining's binary_logloss: 0.00130853\tvalid_1's binary_logloss: 0.0236948\n"
     ]
    },
    {
     "name": "stderr",
     "output_type": "stream",
     "text": [
      "hmgcr_inhibitor logloss: 0.022095029563075748\n",
      "=========================================================================================\n",
      "len(trt) : 93\n",
      "len(train_index) : 979\n",
      "len(valid_index) : 980\n",
      "================================= 1fold lightgbm =================================\n"
     ]
    },
    {
     "name": "stdout",
     "output_type": "stream",
     "text": [
      "Early stopping, best iteration is:\n",
      "[185]\ttraining's binary_logloss: 0.00113491\tvalid_1's binary_logloss: 0.0236161\n",
      "Training until validation scores don't improve for 10 rounds\n",
      "[20]\ttraining's binary_logloss: 0.0619744\tvalid_1's binary_logloss: 0.0686434\n",
      "[40]\ttraining's binary_logloss: 0.0313577\tvalid_1's binary_logloss: 0.0401486\n",
      "[60]\ttraining's binary_logloss: 0.0168088\tvalid_1's binary_logloss: 0.0267224\n",
      "[80]\ttraining's binary_logloss: 0.00917836\tvalid_1's binary_logloss: 0.0182728\n",
      "[100]\ttraining's binary_logloss: 0.00508354\tvalid_1's binary_logloss: 0.0129369\n",
      "[120]\ttraining's binary_logloss: 0.00283581\tvalid_1's binary_logloss: 0.0102504\n",
      "[140]\ttraining's binary_logloss: 0.0015917\tvalid_1's binary_logloss: 0.00821509\n",
      "[160]\ttraining's binary_logloss: 0.000891913\tvalid_1's binary_logloss: 0.00674154\n",
      "[180]\ttraining's binary_logloss: 0.000500692\tvalid_1's binary_logloss: 0.00558312\n",
      "[200]\ttraining's binary_logloss: 0.00028211\tvalid_1's binary_logloss: 0.00479702\n",
      "[220]\ttraining's binary_logloss: 0.000158487\tvalid_1's binary_logloss: 0.00434379\n",
      "[240]\ttraining's binary_logloss: 8.90519e-05\tvalid_1's binary_logloss: 0.00407483\n",
      "[260]\ttraining's binary_logloss: 5.02586e-05\tvalid_1's binary_logloss: 0.00371193\n",
      "[280]\ttraining's binary_logloss: 2.87123e-05\tvalid_1's binary_logloss: 0.00357558\n",
      "[300]\ttraining's binary_logloss: 1.65732e-05\tvalid_1's binary_logloss: 0.00329621\n",
      "[320]\ttraining's binary_logloss: 9.68866e-06\tvalid_1's binary_logloss: 0.00318467\n",
      "[340]\ttraining's binary_logloss: 5.69155e-06\tvalid_1's binary_logloss: 0.0030007\n",
      "[360]\ttraining's binary_logloss: 3.57424e-06\tvalid_1's binary_logloss: 0.00291323\n"
     ]
    },
    {
     "name": "stderr",
     "output_type": "stream",
     "text": [
      "len(train_index) : 980\n",
      "len(valid_index) : 979\n"
     ]
    },
    {
     "name": "stdout",
     "output_type": "stream",
     "text": [
      "[380]\ttraining's binary_logloss: 2.49783e-06\tvalid_1's binary_logloss: 0.00274496\n",
      "Early stopping, best iteration is:\n",
      "[386]\ttraining's binary_logloss: 2.28007e-06\tvalid_1's binary_logloss: 0.00268492\n"
     ]
    },
    {
     "name": "stderr",
     "output_type": "stream",
     "text": [
      "================================= 2fold lightgbm =================================\n"
     ]
    },
    {
     "name": "stdout",
     "output_type": "stream",
     "text": [
      "Training until validation scores don't improve for 10 rounds\n",
      "[20]\ttraining's binary_logloss: 0.0627909\tvalid_1's binary_logloss: 0.0749932\n",
      "[40]\ttraining's binary_logloss: 0.0323905\tvalid_1's binary_logloss: 0.0473589\n",
      "[60]\ttraining's binary_logloss: 0.0173077\tvalid_1's binary_logloss: 0.0343184\n",
      "[80]\ttraining's binary_logloss: 0.0094526\tvalid_1's binary_logloss: 0.0275386\n",
      "[100]\ttraining's binary_logloss: 0.00521176\tvalid_1's binary_logloss: 0.02376\n",
      "[120]\ttraining's binary_logloss: 0.00290872\tvalid_1's binary_logloss: 0.0218369\n",
      "[140]\ttraining's binary_logloss: 0.00162576\tvalid_1's binary_logloss: 0.0205616\n",
      "[160]\ttraining's binary_logloss: 0.000911313\tvalid_1's binary_logloss: 0.0200273\n",
      "[180]\ttraining's binary_logloss: 0.000511034\tvalid_1's binary_logloss: 0.0192947\n",
      "[200]\ttraining's binary_logloss: 0.000286257\tvalid_1's binary_logloss: 0.0186793\n",
      "[220]\ttraining's binary_logloss: 0.000160859\tvalid_1's binary_logloss: 0.0184253\n",
      "Early stopping, best iteration is:\n",
      "[216]\ttraining's binary_logloss: 0.000180546\tvalid_1's binary_logloss: 0.0182549\n"
     ]
    },
    {
     "name": "stderr",
     "output_type": "stream",
     "text": [
      "hsp_inhibitor logloss: 0.010465911902912923\n",
      "=========================================================================================\n",
      "len(trt) : 37\n",
      "len(train_index) : 951\n",
      "len(valid_index) : 952\n",
      "================================= 1fold lightgbm =================================\n"
     ]
    },
    {
     "name": "stdout",
     "output_type": "stream",
     "text": [
      "Training until validation scores don't improve for 10 rounds\n",
      "[20]\ttraining's binary_logloss: 0.0282615\tvalid_1's binary_logloss: 0.0501954\n",
      "[40]\ttraining's binary_logloss: 0.0145923\tvalid_1's binary_logloss: 0.0421188\n",
      "[60]\ttraining's binary_logloss: 0.00794729\tvalid_1's binary_logloss: 0.0361647\n",
      "[80]\ttraining's binary_logloss: 0.00446772\tvalid_1's binary_logloss: 0.0332901\n",
      "[100]\ttraining's binary_logloss: 0.00255397\tvalid_1's binary_logloss: 0.0311996\n"
     ]
    },
    {
     "name": "stderr",
     "output_type": "stream",
     "text": [
      "len(train_index) : 952\n",
      "len(valid_index) : 951\n",
      "================================= 2fold lightgbm =================================\n"
     ]
    },
    {
     "name": "stdout",
     "output_type": "stream",
     "text": [
      "Early stopping, best iteration is:\n",
      "[108]\ttraining's binary_logloss: 0.00204532\tvalid_1's binary_logloss: 0.0301892\n",
      "Training until validation scores don't improve for 10 rounds\n",
      "[20]\ttraining's binary_logloss: 0.030141\tvalid_1's binary_logloss: 0.0497042\n",
      "[40]\ttraining's binary_logloss: 0.0156271\tvalid_1's binary_logloss: 0.0356423\n",
      "[60]\ttraining's binary_logloss: 0.00859063\tvalid_1's binary_logloss: 0.0277544\n",
      "[80]\ttraining's binary_logloss: 0.00483095\tvalid_1's binary_logloss: 0.0235883\n",
      "[100]\ttraining's binary_logloss: 0.0027517\tvalid_1's binary_logloss: 0.0208213\n",
      "[120]\ttraining's binary_logloss: 0.00157405\tvalid_1's binary_logloss: 0.019162\n"
     ]
    },
    {
     "name": "stderr",
     "output_type": "stream",
     "text": [
      "igf-1_inhibitor logloss: 0.024157037834829653\n",
      "=========================================================================================\n"
     ]
    },
    {
     "name": "stdout",
     "output_type": "stream",
     "text": [
      "[140]\ttraining's binary_logloss: 0.000904414\tvalid_1's binary_logloss: 0.0182589\n",
      "Early stopping, best iteration is:\n",
      "[134]\ttraining's binary_logloss: 0.00106751\tvalid_1's binary_logloss: 0.0181186\n"
     ]
    },
    {
     "name": "stderr",
     "output_type": "stream",
     "text": [
      "len(trt) : 30\n",
      "len(train_index) : 948\n",
      "len(valid_index) : 948\n",
      "================================= 1fold lightgbm =================================\n"
     ]
    },
    {
     "name": "stdout",
     "output_type": "stream",
     "text": [
      "Training until validation scores don't improve for 10 rounds\n",
      "[20]\ttraining's binary_logloss: 0.0242077\tvalid_1's binary_logloss: 0.0375042\n",
      "[40]\ttraining's binary_logloss: 0.0125238\tvalid_1's binary_logloss: 0.0279176\n",
      "[60]\ttraining's binary_logloss: 0.00681875\tvalid_1's binary_logloss: 0.023964\n",
      "[80]\ttraining's binary_logloss: 0.0038041\tvalid_1's binary_logloss: 0.0218429\n",
      "[100]\ttraining's binary_logloss: 0.00215771\tvalid_1's binary_logloss: 0.0205569\n",
      "[120]\ttraining's binary_logloss: 0.00122857\tvalid_1's binary_logloss: 0.0199463\n"
     ]
    },
    {
     "name": "stderr",
     "output_type": "stream",
     "text": [
      "len(train_index) : 948\n",
      "len(valid_index) : 948\n",
      "================================= 2fold lightgbm =================================\n"
     ]
    },
    {
     "name": "stdout",
     "output_type": "stream",
     "text": [
      "Early stopping, best iteration is:\n",
      "[125]\ttraining's binary_logloss: 0.00106924\tvalid_1's binary_logloss: 0.0197136\n",
      "Training until validation scores don't improve for 10 rounds\n",
      "[20]\ttraining's binary_logloss: 0.02442\tvalid_1's binary_logloss: 0.0417047\n",
      "[40]\ttraining's binary_logloss: 0.0124471\tvalid_1's binary_logloss: 0.0333765\n",
      "[60]\ttraining's binary_logloss: 0.00682907\tvalid_1's binary_logloss: 0.0292017\n",
      "[80]\ttraining's binary_logloss: 0.00382519\tvalid_1's binary_logloss: 0.0267212\n",
      "[100]\ttraining's binary_logloss: 0.00217076\tvalid_1's binary_logloss: 0.0254552\n",
      "[120]\ttraining's binary_logloss: 0.00124185\tvalid_1's binary_logloss: 0.0249873\n"
     ]
    },
    {
     "name": "stderr",
     "output_type": "stream",
     "text": [
      "ikk_inhibitor logloss: 0.02222170835131265\n",
      "=========================================================================================\n",
      "len(trt) : 31\n",
      "len(train_index) : 948\n",
      "len(valid_index) : 949\n",
      "================================= 1fold lightgbm =================================\n"
     ]
    },
    {
     "name": "stdout",
     "output_type": "stream",
     "text": [
      "Early stopping, best iteration is:\n",
      "[124]\ttraining's binary_logloss: 0.00111092\tvalid_1's binary_logloss: 0.0247298\n",
      "Training until validation scores don't improve for 10 rounds\n",
      "[20]\ttraining's binary_logloss: 0.0256816\tvalid_1's binary_logloss: 0.0651193\n",
      "[40]\ttraining's binary_logloss: 0.0132142\tvalid_1's binary_logloss: 0.0620261\n"
     ]
    },
    {
     "name": "stderr",
     "output_type": "stream",
     "text": [
      "len(train_index) : 949\n",
      "len(valid_index) : 948\n",
      "================================= 2fold lightgbm =================================\n"
     ]
    },
    {
     "name": "stdout",
     "output_type": "stream",
     "text": [
      "[60]\ttraining's binary_logloss: 0.0072913\tvalid_1's binary_logloss: 0.0627961\n",
      "Early stopping, best iteration is:\n",
      "[50]\ttraining's binary_logloss: 0.00976815\tvalid_1's binary_logloss: 0.0617022\n",
      "Training until validation scores don't improve for 10 rounds\n",
      "[20]\ttraining's binary_logloss: 0.027882\tvalid_1's binary_logloss: 0.0605307\n",
      "[40]\ttraining's binary_logloss: 0.0142012\tvalid_1's binary_logloss: 0.0583304\n"
     ]
    },
    {
     "name": "stderr",
     "output_type": "stream",
     "text": [
      "imidazoline_receptor_agonist logloss: 0.0599690697243541\n",
      "=========================================================================================\n",
      "len(trt) : 73\n",
      "len(train_index) : 969\n",
      "len(valid_index) : 970\n",
      "================================= 1fold lightgbm =================================\n"
     ]
    },
    {
     "name": "stdout",
     "output_type": "stream",
     "text": [
      "Early stopping, best iteration is:\n",
      "[39]\ttraining's binary_logloss: 0.0146433\tvalid_1's binary_logloss: 0.0582341\n",
      "Training until validation scores don't improve for 10 rounds\n",
      "[20]\ttraining's binary_logloss: 0.0532665\tvalid_1's binary_logloss: 0.0870329\n",
      "[40]\ttraining's binary_logloss: 0.0279555\tvalid_1's binary_logloss: 0.0673747\n",
      "[60]\ttraining's binary_logloss: 0.0154147\tvalid_1's binary_logloss: 0.0587839\n",
      "[80]\ttraining's binary_logloss: 0.00860868\tvalid_1's binary_logloss: 0.054951\n",
      "[100]\ttraining's binary_logloss: 0.00487257\tvalid_1's binary_logloss: 0.0537255\n"
     ]
    },
    {
     "name": "stderr",
     "output_type": "stream",
     "text": [
      "len(train_index) : 970\n",
      "len(valid_index) : 969\n",
      "================================= 2fold lightgbm =================================\n"
     ]
    },
    {
     "name": "stdout",
     "output_type": "stream",
     "text": [
      "Early stopping, best iteration is:\n",
      "[106]\ttraining's binary_logloss: 0.00411657\tvalid_1's binary_logloss: 0.0534154\n",
      "Training until validation scores don't improve for 10 rounds\n",
      "[20]\ttraining's binary_logloss: 0.0557935\tvalid_1's binary_logloss: 0.0864459\n",
      "[40]\ttraining's binary_logloss: 0.0287313\tvalid_1's binary_logloss: 0.0656144\n",
      "[60]\ttraining's binary_logloss: 0.0157601\tvalid_1's binary_logloss: 0.0554261\n",
      "[80]\ttraining's binary_logloss: 0.0088849\tvalid_1's binary_logloss: 0.0512622\n",
      "[100]\ttraining's binary_logloss: 0.00508736\tvalid_1's binary_logloss: 0.0491013\n",
      "[120]\ttraining's binary_logloss: 0.00292703\tvalid_1's binary_logloss: 0.0490334\n",
      "Early stopping, best iteration is:\n",
      "[115]\ttraining's binary_logloss: 0.00335619\tvalid_1's binary_logloss: 0.0486437\n"
     ]
    },
    {
     "name": "stderr",
     "output_type": "stream",
     "text": [
      "immunosuppressant logloss: 0.05103078426453308\n",
      "=========================================================================================\n",
      "len(trt) : 30\n",
      "len(train_index) : 948\n",
      "len(valid_index) : 948\n",
      "================================= 1fold lightgbm =================================\n"
     ]
    },
    {
     "name": "stdout",
     "output_type": "stream",
     "text": [
      "Training until validation scores don't improve for 10 rounds\n",
      "[20]\ttraining's binary_logloss: 0.0262664\tvalid_1's binary_logloss: 0.0537728\n",
      "[40]\ttraining's binary_logloss: 0.013661\tvalid_1's binary_logloss: 0.0471614\n",
      "[60]\ttraining's binary_logloss: 0.00759512\tvalid_1's binary_logloss: 0.0448462\n",
      "[80]\ttraining's binary_logloss: 0.00433483\tvalid_1's binary_logloss: 0.044125\n",
      "Early stopping, best iteration is:\n",
      "[75]\ttraining's binary_logloss: 0.00498308\tvalid_1's binary_logloss: 0.0439351\n"
     ]
    },
    {
     "name": "stderr",
     "output_type": "stream",
     "text": [
      "len(train_index) : 948\n",
      "len(valid_index) : 948\n",
      "================================= 2fold lightgbm =================================\n"
     ]
    },
    {
     "name": "stdout",
     "output_type": "stream",
     "text": [
      "Training until validation scores don't improve for 10 rounds\n",
      "[20]\ttraining's binary_logloss: 0.0256725\tvalid_1's binary_logloss: 0.062289\n",
      "[40]\ttraining's binary_logloss: 0.0133001\tvalid_1's binary_logloss: 0.0582948\n"
     ]
    },
    {
     "name": "stderr",
     "output_type": "stream",
     "text": [
      "insulin_secretagogue logloss: 0.05071683170598064\n",
      "=========================================================================================\n",
      "len(trt) : 51\n",
      "len(train_index) : 958\n",
      "len(valid_index) : 959\n",
      "================================= 1fold lightgbm =================================\n"
     ]
    },
    {
     "name": "stdout",
     "output_type": "stream",
     "text": [
      "[60]\ttraining's binary_logloss: 0.0073278\tvalid_1's binary_logloss: 0.0579464\n",
      "Early stopping, best iteration is:\n",
      "[52]\ttraining's binary_logloss: 0.00924899\tvalid_1's binary_logloss: 0.0574986\n",
      "Training until validation scores don't improve for 10 rounds\n",
      "[20]\ttraining's binary_logloss: 0.043088\tvalid_1's binary_logloss: 0.0798034\n",
      "[40]\ttraining's binary_logloss: 0.0230233\tvalid_1's binary_logloss: 0.0675072\n",
      "[60]\ttraining's binary_logloss: 0.0132267\tvalid_1's binary_logloss: 0.0621362\n",
      "[80]\ttraining's binary_logloss: 0.00770969\tvalid_1's binary_logloss: 0.0596806\n",
      "[100]\ttraining's binary_logloss: 0.00446167\tvalid_1's binary_logloss: 0.0580302\n"
     ]
    },
    {
     "name": "stderr",
     "output_type": "stream",
     "text": [
      "len(train_index) : 959\n",
      "len(valid_index) : 958\n",
      "================================= 2fold lightgbm =================================\n"
     ]
    },
    {
     "name": "stdout",
     "output_type": "stream",
     "text": [
      "[120]\ttraining's binary_logloss: 0.00263809\tvalid_1's binary_logloss: 0.0578373\n",
      "Early stopping, best iteration is:\n",
      "[111]\ttraining's binary_logloss: 0.00333354\tvalid_1's binary_logloss: 0.0572141\n",
      "Training until validation scores don't improve for 10 rounds\n",
      "[20]\ttraining's binary_logloss: 0.043707\tvalid_1's binary_logloss: 0.0788348\n",
      "[40]\ttraining's binary_logloss: 0.0234312\tvalid_1's binary_logloss: 0.0665646\n",
      "[60]\ttraining's binary_logloss: 0.0132402\tvalid_1's binary_logloss: 0.0605742\n",
      "[80]\ttraining's binary_logloss: 0.0077232\tvalid_1's binary_logloss: 0.0583319\n",
      "[100]\ttraining's binary_logloss: 0.00454888\tvalid_1's binary_logloss: 0.0573066\n",
      "[120]\ttraining's binary_logloss: 0.00270037\tvalid_1's binary_logloss: 0.0566168\n"
     ]
    },
    {
     "name": "stderr",
     "output_type": "stream",
     "text": [
      "insulin_sensitizer logloss: 0.056715800430491736\n",
      "=========================================================================================\n",
      "len(trt) : 42\n",
      "len(train_index) : 954\n",
      "len(valid_index) : 954\n",
      "================================= 1fold lightgbm =================================\n"
     ]
    },
    {
     "name": "stdout",
     "output_type": "stream",
     "text": [
      "Early stopping, best iteration is:\n",
      "[117]\ttraining's binary_logloss: 0.0029174\tvalid_1's binary_logloss: 0.056217\n",
      "Training until validation scores don't improve for 10 rounds\n",
      "[20]\ttraining's binary_logloss: 0.036054\tvalid_1's binary_logloss: 0.067924\n",
      "[40]\ttraining's binary_logloss: 0.0189488\tvalid_1's binary_logloss: 0.0568511\n",
      "[60]\ttraining's binary_logloss: 0.010628\tvalid_1's binary_logloss: 0.0545588\n",
      "[80]\ttraining's binary_logloss: 0.00611935\tvalid_1's binary_logloss: 0.0538197\n",
      "Early stopping, best iteration is:\n",
      "[74]\ttraining's binary_logloss: 0.00722432\tvalid_1's binary_logloss: 0.0534348\n"
     ]
    },
    {
     "name": "stderr",
     "output_type": "stream",
     "text": [
      "len(train_index) : 954\n",
      "len(valid_index) : 954\n",
      "================================= 2fold lightgbm =================================\n"
     ]
    },
    {
     "name": "stdout",
     "output_type": "stream",
     "text": [
      "Training until validation scores don't improve for 10 rounds\n",
      "[20]\ttraining's binary_logloss: 0.0341918\tvalid_1's binary_logloss: 0.0678374\n",
      "[40]\ttraining's binary_logloss: 0.0181173\tvalid_1's binary_logloss: 0.05923\n",
      "[60]\ttraining's binary_logloss: 0.0102189\tvalid_1's binary_logloss: 0.0555088\n",
      "[80]\ttraining's binary_logloss: 0.00588219\tvalid_1's binary_logloss: 0.0542104\n"
     ]
    },
    {
     "name": "stderr",
     "output_type": "stream",
     "text": [
      "integrin_inhibitor logloss: 0.05352750053282638\n",
      "=========================================================================================\n",
      "len(trt) : 92\n",
      "len(train_index) : 979\n",
      "len(valid_index) : 979\n",
      "================================= 1fold lightgbm =================================\n"
     ]
    },
    {
     "name": "stdout",
     "output_type": "stream",
     "text": [
      "Early stopping, best iteration is:\n",
      "[88]\ttraining's binary_logloss: 0.00473193\tvalid_1's binary_logloss: 0.0536202\n",
      "Training until validation scores don't improve for 10 rounds\n",
      "[20]\ttraining's binary_logloss: 0.0621488\tvalid_1's binary_logloss: 0.0686898\n",
      "[40]\ttraining's binary_logloss: 0.0316313\tvalid_1's binary_logloss: 0.0414899\n",
      "[60]\ttraining's binary_logloss: 0.017102\tvalid_1's binary_logloss: 0.0281361\n",
      "[80]\ttraining's binary_logloss: 0.00943499\tvalid_1's binary_logloss: 0.0204085\n",
      "[100]\ttraining's binary_logloss: 0.00526931\tvalid_1's binary_logloss: 0.0157816\n",
      "[120]\ttraining's binary_logloss: 0.00296669\tvalid_1's binary_logloss: 0.012998\n",
      "[140]\ttraining's binary_logloss: 0.00167789\tvalid_1's binary_logloss: 0.0114149\n",
      "[160]\ttraining's binary_logloss: 0.000952243\tvalid_1's binary_logloss: 0.0106158\n",
      "[180]\ttraining's binary_logloss: 0.000541493\tvalid_1's binary_logloss: 0.0102374\n",
      "[200]\ttraining's binary_logloss: 0.0003081\tvalid_1's binary_logloss: 0.00987089\n",
      "[220]\ttraining's binary_logloss: 0.000175604\tvalid_1's binary_logloss: 0.0096214\n"
     ]
    },
    {
     "name": "stderr",
     "output_type": "stream",
     "text": [
      "len(train_index) : 979\n",
      "len(valid_index) : 979\n",
      "================================= 2fold lightgbm =================================\n"
     ]
    },
    {
     "name": "stdout",
     "output_type": "stream",
     "text": [
      "Early stopping, best iteration is:\n",
      "[225]\ttraining's binary_logloss: 0.000152557\tvalid_1's binary_logloss: 0.00954533\n",
      "Training until validation scores don't improve for 10 rounds\n",
      "[20]\ttraining's binary_logloss: 0.063137\tvalid_1's binary_logloss: 0.0762409\n",
      "[40]\ttraining's binary_logloss: 0.0318004\tvalid_1's binary_logloss: 0.0487586\n",
      "[60]\ttraining's binary_logloss: 0.0170678\tvalid_1's binary_logloss: 0.0364368\n",
      "[80]\ttraining's binary_logloss: 0.00941822\tvalid_1's binary_logloss: 0.0301779\n",
      "[100]\ttraining's binary_logloss: 0.00525821\tvalid_1's binary_logloss: 0.0267096\n",
      "[120]\ttraining's binary_logloss: 0.00294893\tvalid_1's binary_logloss: 0.0246392\n",
      "[140]\ttraining's binary_logloss: 0.00166092\tvalid_1's binary_logloss: 0.0229206\n",
      "[160]\ttraining's binary_logloss: 0.000936901\tvalid_1's binary_logloss: 0.0217417\n",
      "[180]\ttraining's binary_logloss: 0.00052922\tvalid_1's binary_logloss: 0.0208022\n",
      "[200]\ttraining's binary_logloss: 0.000299758\tvalid_1's binary_logloss: 0.0200054\n",
      "[220]\ttraining's binary_logloss: 0.000169626\tvalid_1's binary_logloss: 0.0198295\n"
     ]
    },
    {
     "name": "stderr",
     "output_type": "stream",
     "text": [
      "jak_inhibitor logloss: 0.014534151857178542\n",
      "=========================================================================================\n",
      "len(trt) : 273\n",
      "len(train_index) : 1069\n",
      "len(valid_index) : 1070\n",
      "================================= 1fold lightgbm =================================\n"
     ]
    },
    {
     "name": "stdout",
     "output_type": "stream",
     "text": [
      "Early stopping, best iteration is:\n",
      "[226]\ttraining's binary_logloss: 0.000143029\tvalid_1's binary_logloss: 0.019523\n",
      "Training until validation scores don't improve for 10 rounds\n",
      "[20]\ttraining's binary_logloss: 0.14991\tvalid_1's binary_logloss: 0.155554\n",
      "[40]\ttraining's binary_logloss: 0.0777322\tvalid_1's binary_logloss: 0.087263\n",
      "[60]\ttraining's binary_logloss: 0.0428688\tvalid_1's binary_logloss: 0.0549742\n",
      "[80]\ttraining's binary_logloss: 0.0241199\tvalid_1's binary_logloss: 0.0384479\n",
      "[100]\ttraining's binary_logloss: 0.0137089\tvalid_1's binary_logloss: 0.0298617\n",
      "[120]\ttraining's binary_logloss: 0.00783732\tvalid_1's binary_logloss: 0.0254459\n",
      "[140]\ttraining's binary_logloss: 0.00451086\tvalid_1's binary_logloss: 0.0235692\n",
      "[160]\ttraining's binary_logloss: 0.00260939\tvalid_1's binary_logloss: 0.0227816\n"
     ]
    },
    {
     "name": "stderr",
     "output_type": "stream",
     "text": [
      "len(train_index) : 1070\n",
      "len(valid_index) : 1069\n",
      "================================= 2fold lightgbm =================================\n"
     ]
    },
    {
     "name": "stdout",
     "output_type": "stream",
     "text": [
      "Early stopping, best iteration is:\n",
      "[161]\ttraining's binary_logloss: 0.00253844\tvalid_1's binary_logloss: 0.0226851\n",
      "Training until validation scores don't improve for 10 rounds\n",
      "[20]\ttraining's binary_logloss: 0.150877\tvalid_1's binary_logloss: 0.157704\n",
      "[40]\ttraining's binary_logloss: 0.0784546\tvalid_1's binary_logloss: 0.0906199\n",
      "[60]\ttraining's binary_logloss: 0.0424445\tvalid_1's binary_logloss: 0.059423\n",
      "[80]\ttraining's binary_logloss: 0.0235136\tvalid_1's binary_logloss: 0.0435965\n",
      "[100]\ttraining's binary_logloss: 0.0132243\tvalid_1's binary_logloss: 0.0358802\n",
      "[120]\ttraining's binary_logloss: 0.00750238\tvalid_1's binary_logloss: 0.0320885\n",
      "[140]\ttraining's binary_logloss: 0.00426547\tvalid_1's binary_logloss: 0.0310165\n"
     ]
    },
    {
     "name": "stderr",
     "output_type": "stream",
     "text": [
      "kit_inhibitor logloss: 0.02683159057221221\n",
      "=========================================================================================\n"
     ]
    },
    {
     "name": "stdout",
     "output_type": "stream",
     "text": [
      "[160]\ttraining's binary_logloss: 0.00243727\tvalid_1's binary_logloss: 0.0310117\n",
      "Early stopping, best iteration is:\n",
      "[153]\ttraining's binary_logloss: 0.00296606\tvalid_1's binary_logloss: 0.030982\n"
     ]
    },
    {
     "name": "stderr",
     "output_type": "stream",
     "text": [
      "len(trt) : 6\n",
      "len(train_index) : 936\n",
      "len(valid_index) : 936\n",
      "================================= 1fold lightgbm =================================\n"
     ]
    },
    {
     "name": "stdout",
     "output_type": "stream",
     "text": [
      "Training until validation scores don't improve for 10 rounds\n",
      "[20]\ttraining's binary_logloss: 0.00499764\tvalid_1's binary_logloss: 0.0186407\n",
      "[40]\ttraining's binary_logloss: 0.00249947\tvalid_1's binary_logloss: 0.0179454\n",
      "Early stopping, best iteration is:\n",
      "[38]\ttraining's binary_logloss: 0.0026661\tvalid_1's binary_logloss: 0.0178259\n"
     ]
    },
    {
     "name": "stderr",
     "output_type": "stream",
     "text": [
      "len(train_index) : 936\n",
      "len(valid_index) : 936\n",
      "================================= 2fold lightgbm =================================\n"
     ]
    },
    {
     "name": "stdout",
     "output_type": "stream",
     "text": [
      "Training until validation scores don't improve for 10 rounds\n",
      "[20]\ttraining's binary_logloss: 0.00528519\tvalid_1's binary_logloss: 0.0151834\n"
     ]
    },
    {
     "name": "stderr",
     "output_type": "stream",
     "text": [
      "laxative logloss: 0.016378714770640915\n",
      "=========================================================================================\n",
      "len(trt) : 6\n",
      "len(train_index) : 936\n",
      "len(valid_index) : 936\n",
      "================================= 1fold lightgbm =================================\n"
     ]
    },
    {
     "name": "stdout",
     "output_type": "stream",
     "text": [
      "[40]\ttraining's binary_logloss: 0.00261455\tvalid_1's binary_logloss: 0.0151092\n",
      "Early stopping, best iteration is:\n",
      "[32]\ttraining's binary_logloss: 0.00341792\tvalid_1's binary_logloss: 0.0149315\n",
      "Training until validation scores don't improve for 10 rounds\n",
      "[20]\ttraining's binary_logloss: 0.0049085\tvalid_1's binary_logloss: 0.0193215\n"
     ]
    },
    {
     "name": "stderr",
     "output_type": "stream",
     "text": [
      "len(train_index) : 936\n",
      "len(valid_index) : 936\n",
      "================================= 2fold lightgbm =================================\n"
     ]
    },
    {
     "name": "stdout",
     "output_type": "stream",
     "text": [
      "[40]\ttraining's binary_logloss: 0.00246295\tvalid_1's binary_logloss: 0.0193707\n",
      "Early stopping, best iteration is:\n",
      "[32]\ttraining's binary_logloss: 0.00320148\tvalid_1's binary_logloss: 0.0191429\n",
      "Training until validation scores don't improve for 10 rounds\n",
      "[20]\ttraining's binary_logloss: 0.00505846\tvalid_1's binary_logloss: 0.0180969\n"
     ]
    },
    {
     "name": "stderr",
     "output_type": "stream",
     "text": [
      "leukotriene_inhibitor logloss: 0.018572811929555604\n",
      "=========================================================================================\n",
      "len(trt) : 62\n",
      "len(train_index) : 964\n",
      "len(valid_index) : 964\n",
      "================================= 1fold lightgbm =================================\n"
     ]
    },
    {
     "name": "stdout",
     "output_type": "stream",
     "text": [
      "Early stopping, best iteration is:\n",
      "[23]\ttraining's binary_logloss: 0.00451062\tvalid_1's binary_logloss: 0.0180028\n",
      "Training until validation scores don't improve for 10 rounds\n",
      "[20]\ttraining's binary_logloss: 0.0482808\tvalid_1's binary_logloss: 0.0815318\n",
      "[40]\ttraining's binary_logloss: 0.0254053\tvalid_1's binary_logloss: 0.0661525\n",
      "[60]\ttraining's binary_logloss: 0.0142288\tvalid_1's binary_logloss: 0.0579666\n",
      "[80]\ttraining's binary_logloss: 0.00813613\tvalid_1's binary_logloss: 0.0516793\n",
      "[100]\ttraining's binary_logloss: 0.004675\tvalid_1's binary_logloss: 0.0472444\n",
      "[120]\ttraining's binary_logloss: 0.00272177\tvalid_1's binary_logloss: 0.0456336\n"
     ]
    },
    {
     "name": "stderr",
     "output_type": "stream",
     "text": [
      "len(train_index) : 964\n",
      "len(valid_index) : 964\n",
      "================================= 2fold lightgbm =================================\n"
     ]
    },
    {
     "name": "stdout",
     "output_type": "stream",
     "text": [
      "[140]\ttraining's binary_logloss: 0.00158654\tvalid_1's binary_logloss: 0.045656\n",
      "Early stopping, best iteration is:\n",
      "[130]\ttraining's binary_logloss: 0.00207938\tvalid_1's binary_logloss: 0.0452518\n",
      "Training until validation scores don't improve for 10 rounds\n",
      "[20]\ttraining's binary_logloss: 0.0511287\tvalid_1's binary_logloss: 0.0843885\n",
      "[40]\ttraining's binary_logloss: 0.0269179\tvalid_1's binary_logloss: 0.0648813\n",
      "[60]\ttraining's binary_logloss: 0.015029\tvalid_1's binary_logloss: 0.0554158\n",
      "[80]\ttraining's binary_logloss: 0.00858183\tvalid_1's binary_logloss: 0.0507075\n",
      "[100]\ttraining's binary_logloss: 0.00497513\tvalid_1's binary_logloss: 0.0484689\n",
      "[120]\ttraining's binary_logloss: 0.00290986\tvalid_1's binary_logloss: 0.0470993\n"
     ]
    },
    {
     "name": "stderr",
     "output_type": "stream",
     "text": [
      "leukotriene_receptor_antagonist logloss: 0.04592225547803524\n",
      "=========================================================================================\n",
      "len(trt) : 12\n",
      "len(train_index) : 939\n",
      "len(valid_index) : 939\n",
      "================================= 1fold lightgbm =================================\n"
     ]
    },
    {
     "name": "stdout",
     "output_type": "stream",
     "text": [
      "[140]\ttraining's binary_logloss: 0.00171397\tvalid_1's binary_logloss: 0.0467728\n",
      "Early stopping, best iteration is:\n",
      "[131]\ttraining's binary_logloss: 0.00218011\tvalid_1's binary_logloss: 0.0465927\n",
      "Training until validation scores don't improve for 10 rounds\n",
      "[20]\ttraining's binary_logloss: 0.0102186\tvalid_1's binary_logloss: 0.0349428\n"
     ]
    },
    {
     "name": "stderr",
     "output_type": "stream",
     "text": [
      "len(train_index) : 939\n",
      "len(valid_index) : 939\n",
      "================================= 2fold lightgbm =================================\n"
     ]
    },
    {
     "name": "stdout",
     "output_type": "stream",
     "text": [
      "Early stopping, best iteration is:\n",
      "[29]\ttraining's binary_logloss: 0.0075196\tvalid_1's binary_logloss: 0.0347069\n",
      "Training until validation scores don't improve for 10 rounds\n"
     ]
    },
    {
     "name": "stderr",
     "output_type": "stream",
     "text": [
      "lipase_inhibitor logloss: 0.03485722916605827\n",
      "=========================================================================================\n",
      "len(trt) : 61\n",
      "len(train_index) : 963\n",
      "len(valid_index) : 964\n"
     ]
    },
    {
     "name": "stdout",
     "output_type": "stream",
     "text": [
      "[20]\ttraining's binary_logloss: 0.0107984\tvalid_1's binary_logloss: 0.0351918\n",
      "Early stopping, best iteration is:\n",
      "[12]\ttraining's binary_logloss: 0.0155482\tvalid_1's binary_logloss: 0.0350076\n"
     ]
    },
    {
     "name": "stderr",
     "output_type": "stream",
     "text": [
      "================================= 1fold lightgbm =================================\n"
     ]
    },
    {
     "name": "stdout",
     "output_type": "stream",
     "text": [
      "Training until validation scores don't improve for 10 rounds\n",
      "[20]\ttraining's binary_logloss: 0.0459696\tvalid_1's binary_logloss: 0.0902436\n",
      "[40]\ttraining's binary_logloss: 0.024381\tvalid_1's binary_logloss: 0.0784909\n",
      "[60]\ttraining's binary_logloss: 0.0136184\tvalid_1's binary_logloss: 0.0711042\n",
      "[80]\ttraining's binary_logloss: 0.00784312\tvalid_1's binary_logloss: 0.067319\n",
      "[100]\ttraining's binary_logloss: 0.00456325\tvalid_1's binary_logloss: 0.0666527\n"
     ]
    },
    {
     "name": "stderr",
     "output_type": "stream",
     "text": [
      "len(train_index) : 964\n",
      "len(valid_index) : 963\n",
      "================================= 2fold lightgbm =================================\n"
     ]
    },
    {
     "name": "stdout",
     "output_type": "stream",
     "text": [
      "[120]\ttraining's binary_logloss: 0.00266269\tvalid_1's binary_logloss: 0.0657202\n",
      "Early stopping, best iteration is:\n",
      "[114]\ttraining's binary_logloss: 0.00312961\tvalid_1's binary_logloss: 0.0654428\n",
      "Training until validation scores don't improve for 10 rounds\n",
      "[20]\ttraining's binary_logloss: 0.0488711\tvalid_1's binary_logloss: 0.0734742\n",
      "[40]\ttraining's binary_logloss: 0.0261668\tvalid_1's binary_logloss: 0.0570358\n",
      "[60]\ttraining's binary_logloss: 0.0147684\tvalid_1's binary_logloss: 0.0480674\n",
      "[80]\ttraining's binary_logloss: 0.00853798\tvalid_1's binary_logloss: 0.0430243\n",
      "[100]\ttraining's binary_logloss: 0.00501139\tvalid_1's binary_logloss: 0.0397338\n",
      "[120]\ttraining's binary_logloss: 0.00297091\tvalid_1's binary_logloss: 0.0381504\n",
      "[140]\ttraining's binary_logloss: 0.00176139\tvalid_1's binary_logloss: 0.0377909\n",
      "Early stopping, best iteration is:\n",
      "[137]\ttraining's binary_logloss: 0.0019004\tvalid_1's binary_logloss: 0.0377594\n"
     ]
    },
    {
     "name": "stderr",
     "output_type": "stream",
     "text": [
      "lipoxygenase_inhibitor logloss: 0.051608262149677966\n",
      "=========================================================================================\n",
      "len(trt) : 6\n",
      "len(train_index) : 936\n",
      "len(valid_index) : 936\n",
      "================================= 1fold lightgbm =================================\n"
     ]
    },
    {
     "name": "stdout",
     "output_type": "stream",
     "text": [
      "Training until validation scores don't improve for 10 rounds\n",
      "[20]\ttraining's binary_logloss: 0.00495184\tvalid_1's binary_logloss: 0.0205777\n"
     ]
    },
    {
     "name": "stderr",
     "output_type": "stream",
     "text": [
      "len(train_index) : 936\n",
      "len(valid_index) : 936\n",
      "================================= 2fold lightgbm =================================\n"
     ]
    },
    {
     "name": "stdout",
     "output_type": "stream",
     "text": [
      "Early stopping, best iteration is:\n",
      "[28]\ttraining's binary_logloss: 0.00370753\tvalid_1's binary_logloss: 0.0202878\n",
      "Training until validation scores don't improve for 10 rounds\n",
      "[20]\ttraining's binary_logloss: 0.00514253\tvalid_1's binary_logloss: 0.018896\n"
     ]
    },
    {
     "name": "stderr",
     "output_type": "stream",
     "text": [
      "lxr_agonist logloss: 0.019419326036632073\n",
      "=========================================================================================\n",
      "len(trt) : 31\n",
      "len(train_index) : 948\n",
      "len(valid_index) : 949\n",
      "================================= 1fold lightgbm =================================\n"
     ]
    },
    {
     "name": "stdout",
     "output_type": "stream",
     "text": [
      "[40]\ttraining's binary_logloss: 0.00256968\tvalid_1's binary_logloss: 0.0188062\n",
      "Early stopping, best iteration is:\n",
      "[31]\ttraining's binary_logloss: 0.0034663\tvalid_1's binary_logloss: 0.0185509\n",
      "Training until validation scores don't improve for 10 rounds\n",
      "[20]\ttraining's binary_logloss: 0.0230887\tvalid_1's binary_logloss: 0.0350986\n",
      "[40]\ttraining's binary_logloss: 0.0120949\tvalid_1's binary_logloss: 0.0252751\n",
      "[60]\ttraining's binary_logloss: 0.00664427\tvalid_1's binary_logloss: 0.0194044\n",
      "[80]\ttraining's binary_logloss: 0.00365464\tvalid_1's binary_logloss: 0.0170923\n",
      "[100]\ttraining's binary_logloss: 0.00207423\tvalid_1's binary_logloss: 0.0153782\n"
     ]
    },
    {
     "name": "stderr",
     "output_type": "stream",
     "text": [
      "len(train_index) : 949\n",
      "len(valid_index) : 948\n",
      "================================= 2fold lightgbm =================================\n"
     ]
    },
    {
     "name": "stdout",
     "output_type": "stream",
     "text": [
      "Early stopping, best iteration is:\n",
      "[106]\ttraining's binary_logloss: 0.00174976\tvalid_1's binary_logloss: 0.0151181\n",
      "Training until validation scores don't improve for 10 rounds\n",
      "[20]\ttraining's binary_logloss: 0.0239418\tvalid_1's binary_logloss: 0.0362878\n",
      "[40]\ttraining's binary_logloss: 0.0123029\tvalid_1's binary_logloss: 0.0273465\n",
      "[60]\ttraining's binary_logloss: 0.00661596\tvalid_1's binary_logloss: 0.0238345\n",
      "[80]\ttraining's binary_logloss: 0.00367727\tvalid_1's binary_logloss: 0.0223339\n",
      "[100]\ttraining's binary_logloss: 0.00206964\tvalid_1's binary_logloss: 0.0219407\n"
     ]
    },
    {
     "name": "stderr",
     "output_type": "stream",
     "text": [
      "mdm_inhibitor logloss: 0.018387982826784763\n",
      "=========================================================================================\n",
      "len(trt) : 72\n",
      "len(train_index) : 969\n",
      "len(valid_index) : 969\n",
      "================================= 1fold lightgbm =================================\n"
     ]
    },
    {
     "name": "stdout",
     "output_type": "stream",
     "text": [
      "Early stopping, best iteration is:\n",
      "[103]\ttraining's binary_logloss: 0.00190379\tvalid_1's binary_logloss: 0.0216613\n",
      "Training until validation scores don't improve for 10 rounds\n",
      "[20]\ttraining's binary_logloss: 0.0513834\tvalid_1's binary_logloss: 0.0579675\n",
      "[40]\ttraining's binary_logloss: 0.0266172\tvalid_1's binary_logloss: 0.0341221\n",
      "[60]\ttraining's binary_logloss: 0.0144813\tvalid_1's binary_logloss: 0.0222199\n",
      "[80]\ttraining's binary_logloss: 0.00807013\tvalid_1's binary_logloss: 0.015877\n",
      "[100]\ttraining's binary_logloss: 0.00454218\tvalid_1's binary_logloss: 0.012175\n",
      "[120]\ttraining's binary_logloss: 0.0025456\tvalid_1's binary_logloss: 0.00977657\n",
      "[140]\ttraining's binary_logloss: 0.00142639\tvalid_1's binary_logloss: 0.00836664\n",
      "[160]\ttraining's binary_logloss: 0.000801574\tvalid_1's binary_logloss: 0.00786496\n",
      "[180]\ttraining's binary_logloss: 0.000452265\tvalid_1's binary_logloss: 0.00728922\n"
     ]
    },
    {
     "name": "stderr",
     "output_type": "stream",
     "text": [
      "len(train_index) : 969\n",
      "len(valid_index) : 969\n",
      "================================= 2fold lightgbm =================================\n"
     ]
    },
    {
     "name": "stdout",
     "output_type": "stream",
     "text": [
      "[200]\ttraining's binary_logloss: 0.000255278\tvalid_1's binary_logloss: 0.00721644\n",
      "Early stopping, best iteration is:\n",
      "[190]\ttraining's binary_logloss: 0.000340281\tvalid_1's binary_logloss: 0.00717491\n",
      "Training until validation scores don't improve for 10 rounds\n",
      "[20]\ttraining's binary_logloss: 0.0500144\tvalid_1's binary_logloss: 0.0683704\n",
      "[40]\ttraining's binary_logloss: 0.0255754\tvalid_1's binary_logloss: 0.0494558\n",
      "[60]\ttraining's binary_logloss: 0.0136706\tvalid_1's binary_logloss: 0.0416001\n",
      "[80]\ttraining's binary_logloss: 0.0074475\tvalid_1's binary_logloss: 0.0379779\n",
      "[100]\ttraining's binary_logloss: 0.00411218\tvalid_1's binary_logloss: 0.036246\n"
     ]
    },
    {
     "name": "stderr",
     "output_type": "stream",
     "text": [
      "mek_inhibitor logloss: 0.021554706100606887\n",
      "=========================================================================================\n",
      "len(trt) : 74\n",
      "len(train_index) : 970\n",
      "len(valid_index) : 970\n",
      "================================= 1fold lightgbm =================================\n"
     ]
    },
    {
     "name": "stdout",
     "output_type": "stream",
     "text": [
      "Early stopping, best iteration is:\n",
      "[108]\ttraining's binary_logloss: 0.00325009\tvalid_1's binary_logloss: 0.0359345\n",
      "Training until validation scores don't improve for 10 rounds\n",
      "[20]\ttraining's binary_logloss: 0.0573373\tvalid_1's binary_logloss: 0.0953285\n",
      "[40]\ttraining's binary_logloss: 0.0305521\tvalid_1's binary_logloss: 0.0795333\n",
      "[60]\ttraining's binary_logloss: 0.0172041\tvalid_1's binary_logloss: 0.0713056\n",
      "[80]\ttraining's binary_logloss: 0.00990007\tvalid_1's binary_logloss: 0.0671816\n",
      "[100]\ttraining's binary_logloss: 0.00577975\tvalid_1's binary_logloss: 0.0653804\n",
      "[120]\ttraining's binary_logloss: 0.00340251\tvalid_1's binary_logloss: 0.0648316\n"
     ]
    },
    {
     "name": "stderr",
     "output_type": "stream",
     "text": [
      "len(train_index) : 970\n",
      "len(valid_index) : 970\n",
      "================================= 2fold lightgbm =================================\n"
     ]
    },
    {
     "name": "stdout",
     "output_type": "stream",
     "text": [
      "[140]\ttraining's binary_logloss: 0.00200143\tvalid_1's binary_logloss: 0.064473\n",
      "Early stopping, best iteration is:\n",
      "[133]\ttraining's binary_logloss: 0.00240702\tvalid_1's binary_logloss: 0.0642145\n",
      "Training until validation scores don't improve for 10 rounds\n",
      "[20]\ttraining's binary_logloss: 0.0554259\tvalid_1's binary_logloss: 0.112419\n",
      "[40]\ttraining's binary_logloss: 0.0286805\tvalid_1's binary_logloss: 0.0978798\n",
      "[60]\ttraining's binary_logloss: 0.0158232\tvalid_1's binary_logloss: 0.0915293\n",
      "[80]\ttraining's binary_logloss: 0.00899875\tvalid_1's binary_logloss: 0.0880115\n"
     ]
    },
    {
     "name": "stderr",
     "output_type": "stream",
     "text": [
      "membrane_integrity_inhibitor logloss: 0.07549690799205819\n",
      "=========================================================================================\n"
     ]
    },
    {
     "name": "stdout",
     "output_type": "stream",
     "text": [
      "[100]\ttraining's binary_logloss: 0.00519262\tvalid_1's binary_logloss: 0.0872554\n",
      "Early stopping, best iteration is:\n",
      "[94]\ttraining's binary_logloss: 0.0061159\tvalid_1's binary_logloss: 0.0867793\n"
     ]
    },
    {
     "name": "stderr",
     "output_type": "stream",
     "text": [
      "len(trt) : 25\n",
      "len(train_index) : 945\n",
      "len(valid_index) : 946\n",
      "================================= 1fold lightgbm =================================\n"
     ]
    },
    {
     "name": "stdout",
     "output_type": "stream",
     "text": [
      "Training until validation scores don't improve for 10 rounds\n",
      "[20]\ttraining's binary_logloss: 0.0216336\tvalid_1's binary_logloss: 0.0492708\n",
      "[40]\ttraining's binary_logloss: 0.0113366\tvalid_1's binary_logloss: 0.0458488\n"
     ]
    },
    {
     "name": "stderr",
     "output_type": "stream",
     "text": [
      "len(train_index) : 946\n",
      "len(valid_index) : 945\n",
      "================================= 2fold lightgbm =================================\n"
     ]
    },
    {
     "name": "stdout",
     "output_type": "stream",
     "text": [
      "Early stopping, best iteration is:\n",
      "[42]\ttraining's binary_logloss: 0.0106649\tvalid_1's binary_logloss: 0.0457342\n",
      "Training until validation scores don't improve for 10 rounds\n",
      "[20]\ttraining's binary_logloss: 0.0229821\tvalid_1's binary_logloss: 0.05055\n",
      "[40]\ttraining's binary_logloss: 0.0118829\tvalid_1's binary_logloss: 0.0452765\n",
      "[60]\ttraining's binary_logloss: 0.00664484\tvalid_1's binary_logloss: 0.0424276\n"
     ]
    },
    {
     "name": "stderr",
     "output_type": "stream",
     "text": [
      "mineralocorticoid_receptor_antagonist logloss: 0.043959108359641494\n",
      "=========================================================================================\n",
      "len(trt) : 12\n",
      "len(train_index) : 939\n",
      "len(valid_index) : 939\n",
      "================================= 1fold lightgbm =================================\n"
     ]
    },
    {
     "name": "stdout",
     "output_type": "stream",
     "text": [
      "Early stopping, best iteration is:\n",
      "[62]\ttraining's binary_logloss: 0.00628929\tvalid_1's binary_logloss: 0.0421821\n",
      "Training until validation scores don't improve for 10 rounds\n",
      "[20]\ttraining's binary_logloss: 0.00968125\tvalid_1's binary_logloss: 0.0302273\n",
      "[40]\ttraining's binary_logloss: 0.00496351\tvalid_1's binary_logloss: 0.0284785\n"
     ]
    },
    {
     "name": "stderr",
     "output_type": "stream",
     "text": [
      "len(train_index) : 939\n",
      "len(valid_index) : 939\n",
      "================================= 2fold lightgbm =================================\n"
     ]
    },
    {
     "name": "stdout",
     "output_type": "stream",
     "text": [
      "Early stopping, best iteration is:\n",
      "[46]\ttraining's binary_logloss: 0.00413305\tvalid_1's binary_logloss: 0.0283817\n",
      "Training until validation scores don't improve for 10 rounds\n",
      "[20]\ttraining's binary_logloss: 0.0106969\tvalid_1's binary_logloss: 0.0216568\n",
      "[40]\ttraining's binary_logloss: 0.00541352\tvalid_1's binary_logloss: 0.0182313\n",
      "[60]\ttraining's binary_logloss: 0.00295674\tvalid_1's binary_logloss: 0.0179757\n",
      "Early stopping, best iteration is:\n",
      "[55]\ttraining's binary_logloss: 0.00343878\tvalid_1's binary_logloss: 0.0176447\n"
     ]
    },
    {
     "name": "stderr",
     "output_type": "stream",
     "text": [
      "monoacylglycerol_lipase_inhibitor logloss: 0.02301316053422296\n",
      "=========================================================================================\n",
      "len(trt) : 85\n",
      "len(train_index) : 975\n",
      "len(valid_index) : 976\n",
      "================================= 1fold lightgbm =================================\n"
     ]
    },
    {
     "name": "stdout",
     "output_type": "stream",
     "text": [
      "Training until validation scores don't improve for 10 rounds\n",
      "[20]\ttraining's binary_logloss: 0.0605159\tvalid_1's binary_logloss: 0.100319\n",
      "[40]\ttraining's binary_logloss: 0.0317365\tvalid_1's binary_logloss: 0.079442\n",
      "[60]\ttraining's binary_logloss: 0.0176558\tvalid_1's binary_logloss: 0.0676705\n",
      "[80]\ttraining's binary_logloss: 0.0100955\tvalid_1's binary_logloss: 0.0620952\n",
      "[100]\ttraining's binary_logloss: 0.00579322\tvalid_1's binary_logloss: 0.058682\n",
      "[120]\ttraining's binary_logloss: 0.00333817\tvalid_1's binary_logloss: 0.0574666\n",
      "[140]\ttraining's binary_logloss: 0.00193432\tvalid_1's binary_logloss: 0.0573851\n",
      "Early stopping, best iteration is:\n",
      "[136]\ttraining's binary_logloss: 0.00215438\tvalid_1's binary_logloss: 0.0568247\n"
     ]
    },
    {
     "name": "stderr",
     "output_type": "stream",
     "text": [
      "len(train_index) : 976\n",
      "len(valid_index) : 975\n",
      "================================= 2fold lightgbm =================================\n"
     ]
    },
    {
     "name": "stdout",
     "output_type": "stream",
     "text": [
      "Training until validation scores don't improve for 10 rounds\n",
      "[20]\ttraining's binary_logloss: 0.0640307\tvalid_1's binary_logloss: 0.0871767\n",
      "[40]\ttraining's binary_logloss: 0.0339876\tvalid_1's binary_logloss: 0.0605855\n",
      "[60]\ttraining's binary_logloss: 0.0189722\tvalid_1's binary_logloss: 0.047076\n",
      "[80]\ttraining's binary_logloss: 0.0108447\tvalid_1's binary_logloss: 0.0409344\n",
      "[100]\ttraining's binary_logloss: 0.0062434\tvalid_1's binary_logloss: 0.0361497\n",
      "[120]\ttraining's binary_logloss: 0.00361063\tvalid_1's binary_logloss: 0.0337792\n",
      "[140]\ttraining's binary_logloss: 0.00208725\tvalid_1's binary_logloss: 0.0315318\n",
      "[160]\ttraining's binary_logloss: 0.00121275\tvalid_1's binary_logloss: 0.0304129\n",
      "[180]\ttraining's binary_logloss: 0.000705826\tvalid_1's binary_logloss: 0.0297748\n",
      "Early stopping, best iteration is:\n",
      "[178]\ttraining's binary_logloss: 0.000745486\tvalid_1's binary_logloss: 0.0297206\n"
     ]
    },
    {
     "name": "stderr",
     "output_type": "stream",
     "text": [
      "monoamine_oxidase_inhibitor logloss: 0.043279618601924814\n",
      "=========================================================================================\n",
      "len(trt) : 18\n",
      "len(train_index) : 942\n",
      "len(valid_index) : 942\n",
      "================================= 1fold lightgbm =================================\n"
     ]
    },
    {
     "name": "stdout",
     "output_type": "stream",
     "text": [
      "Training until validation scores don't improve for 10 rounds\n",
      "[20]\ttraining's binary_logloss: 0.0150412\tvalid_1's binary_logloss: 0.0215846\n",
      "[40]\ttraining's binary_logloss: 0.00782039\tvalid_1's binary_logloss: 0.0141986\n",
      "[60]\ttraining's binary_logloss: 0.00425177\tvalid_1's binary_logloss: 0.0102234\n",
      "[80]\ttraining's binary_logloss: 0.0023902\tvalid_1's binary_logloss: 0.00813281\n",
      "[100]\ttraining's binary_logloss: 0.00136287\tvalid_1's binary_logloss: 0.00669368\n",
      "[120]\ttraining's binary_logloss: 0.000781244\tvalid_1's binary_logloss: 0.00598251\n",
      "[140]\ttraining's binary_logloss: 0.000449363\tvalid_1's binary_logloss: 0.00518731\n",
      "[160]\ttraining's binary_logloss: 0.00025891\tvalid_1's binary_logloss: 0.00449018\n",
      "[180]\ttraining's binary_logloss: 0.000149479\tvalid_1's binary_logloss: 0.00398001\n",
      "[200]\ttraining's binary_logloss: 8.62482e-05\tvalid_1's binary_logloss: 0.00369432\n",
      "[220]\ttraining's binary_logloss: 4.9924e-05\tvalid_1's binary_logloss: 0.00328987\n",
      "[240]\ttraining's binary_logloss: 2.91022e-05\tvalid_1's binary_logloss: 0.00295939\n",
      "[260]\ttraining's binary_logloss: 1.73295e-05\tvalid_1's binary_logloss: 0.00253643\n",
      "[280]\ttraining's binary_logloss: 1.05877e-05\tvalid_1's binary_logloss: 0.00214953\n",
      "[300]\ttraining's binary_logloss: 6.87205e-06\tvalid_1's binary_logloss: 0.00179728\n",
      "[320]\ttraining's binary_logloss: 4.56031e-06\tvalid_1's binary_logloss: 0.00168959\n",
      "[340]\ttraining's binary_logloss: 3.16138e-06\tvalid_1's binary_logloss: 0.0014308\n",
      "[360]\ttraining's binary_logloss: 2.23361e-06\tvalid_1's binary_logloss: 0.00125343\n",
      "Early stopping, best iteration is:\n",
      "[363]\ttraining's binary_logloss: 2.1218e-06\tvalid_1's binary_logloss: 0.00121232\n"
     ]
    },
    {
     "name": "stderr",
     "output_type": "stream",
     "text": [
      "len(train_index) : 942\n",
      "len(valid_index) : 942\n",
      "================================= 2fold lightgbm =================================\n"
     ]
    },
    {
     "name": "stdout",
     "output_type": "stream",
     "text": [
      "Training until validation scores don't improve for 10 rounds\n",
      "[20]\ttraining's binary_logloss: 0.0138538\tvalid_1's binary_logloss: 0.0232916\n",
      "[40]\ttraining's binary_logloss: 0.0070119\tvalid_1's binary_logloss: 0.0178463\n",
      "[60]\ttraining's binary_logloss: 0.00378751\tvalid_1's binary_logloss: 0.0150642\n",
      "[80]\ttraining's binary_logloss: 0.00210267\tvalid_1's binary_logloss: 0.0137271\n",
      "[100]\ttraining's binary_logloss: 0.00118136\tvalid_1's binary_logloss: 0.0132257\n",
      "[120]\ttraining's binary_logloss: 0.000666255\tvalid_1's binary_logloss: 0.0128969\n"
     ]
    },
    {
     "name": "stderr",
     "output_type": "stream",
     "text": [
      "monopolar_spindle_1_kinase_inhibitor logloss: 0.0070262072359358425\n",
      "=========================================================================================\n",
      "len(trt) : 130\n",
      "len(train_index) : 998\n",
      "len(valid_index) : 998\n",
      "================================= 1fold lightgbm =================================\n"
     ]
    },
    {
     "name": "stdout",
     "output_type": "stream",
     "text": [
      "Early stopping, best iteration is:\n",
      "[119]\ttraining's binary_logloss: 0.000685483\tvalid_1's binary_logloss: 0.0128401\n",
      "Training until validation scores don't improve for 10 rounds\n",
      "[20]\ttraining's binary_logloss: 0.0848701\tvalid_1's binary_logloss: 0.0946335\n",
      "[40]\ttraining's binary_logloss: 0.0434687\tvalid_1's binary_logloss: 0.0559755\n",
      "[60]\ttraining's binary_logloss: 0.0235962\tvalid_1's binary_logloss: 0.0376245\n",
      "[80]\ttraining's binary_logloss: 0.013134\tvalid_1's binary_logloss: 0.0282261\n",
      "[100]\ttraining's binary_logloss: 0.0073788\tvalid_1's binary_logloss: 0.0232331\n",
      "[120]\ttraining's binary_logloss: 0.00417285\tvalid_1's binary_logloss: 0.0208264\n",
      "[140]\ttraining's binary_logloss: 0.00236661\tvalid_1's binary_logloss: 0.0198628\n",
      "[160]\ttraining's binary_logloss: 0.00134798\tvalid_1's binary_logloss: 0.0194723\n"
     ]
    },
    {
     "name": "stderr",
     "output_type": "stream",
     "text": [
      "len(train_index) : 998\n",
      "len(valid_index) : 998\n"
     ]
    },
    {
     "name": "stdout",
     "output_type": "stream",
     "text": [
      "[180]\ttraining's binary_logloss: 0.000766952\tvalid_1's binary_logloss: 0.0189416\n",
      "Early stopping, best iteration is:\n",
      "[175]\ttraining's binary_logloss: 0.000884115\tvalid_1's binary_logloss: 0.018764\n"
     ]
    },
    {
     "name": "stderr",
     "output_type": "stream",
     "text": [
      "================================= 2fold lightgbm =================================\n"
     ]
    },
    {
     "name": "stdout",
     "output_type": "stream",
     "text": [
      "Training until validation scores don't improve for 10 rounds\n",
      "[20]\ttraining's binary_logloss: 0.0849169\tvalid_1's binary_logloss: 0.097437\n",
      "[40]\ttraining's binary_logloss: 0.0436624\tvalid_1's binary_logloss: 0.0611156\n",
      "[60]\ttraining's binary_logloss: 0.0239528\tvalid_1's binary_logloss: 0.0438492\n",
      "[80]\ttraining's binary_logloss: 0.0131715\tvalid_1's binary_logloss: 0.0363202\n",
      "[100]\ttraining's binary_logloss: 0.00723664\tvalid_1's binary_logloss: 0.0304886\n",
      "[120]\ttraining's binary_logloss: 0.00404599\tvalid_1's binary_logloss: 0.026665\n",
      "[140]\ttraining's binary_logloss: 0.00225853\tvalid_1's binary_logloss: 0.0248042\n",
      "[160]\ttraining's binary_logloss: 0.0012645\tvalid_1's binary_logloss: 0.0236799\n"
     ]
    },
    {
     "name": "stderr",
     "output_type": "stream",
     "text": [
      "mtor_inhibitor logloss: 0.021192134125303085\n",
      "=========================================================================================\n",
      "len(trt) : 48\n",
      "len(train_index) : 957\n",
      "len(valid_index) : 957\n",
      "================================= 1fold lightgbm =================================\n"
     ]
    },
    {
     "name": "stdout",
     "output_type": "stream",
     "text": [
      "Early stopping, best iteration is:\n",
      "[163]\ttraining's binary_logloss: 0.00116001\tvalid_1's binary_logloss: 0.0236203\n",
      "Training until validation scores don't improve for 10 rounds\n",
      "[20]\ttraining's binary_logloss: 0.0403514\tvalid_1's binary_logloss: 0.0663595\n",
      "[40]\ttraining's binary_logloss: 0.0211399\tvalid_1's binary_logloss: 0.0497951\n",
      "[60]\ttraining's binary_logloss: 0.0118695\tvalid_1's binary_logloss: 0.042111\n",
      "[80]\ttraining's binary_logloss: 0.00687534\tvalid_1's binary_logloss: 0.0378143\n",
      "[100]\ttraining's binary_logloss: 0.00404153\tvalid_1's binary_logloss: 0.0355421\n",
      "[120]\ttraining's binary_logloss: 0.00238773\tvalid_1's binary_logloss: 0.0335735\n",
      "[140]\ttraining's binary_logloss: 0.00141548\tvalid_1's binary_logloss: 0.032172\n",
      "[160]\ttraining's binary_logloss: 0.000840706\tvalid_1's binary_logloss: 0.0310499\n",
      "[180]\ttraining's binary_logloss: 0.000498852\tvalid_1's binary_logloss: 0.0304138\n"
     ]
    },
    {
     "name": "stderr",
     "output_type": "stream",
     "text": [
      "len(train_index) : 957\n",
      "len(valid_index) : 957\n",
      "================================= 2fold lightgbm =================================\n"
     ]
    },
    {
     "name": "stdout",
     "output_type": "stream",
     "text": [
      "[200]\ttraining's binary_logloss: 0.000296805\tvalid_1's binary_logloss: 0.0298772\n",
      "Early stopping, best iteration is:\n",
      "[191]\ttraining's binary_logloss: 0.000374687\tvalid_1's binary_logloss: 0.0297878\n",
      "Training until validation scores don't improve for 10 rounds\n",
      "[20]\ttraining's binary_logloss: 0.0395491\tvalid_1's binary_logloss: 0.0755471\n",
      "[40]\ttraining's binary_logloss: 0.0207308\tvalid_1's binary_logloss: 0.0643307\n",
      "[60]\ttraining's binary_logloss: 0.0114718\tvalid_1's binary_logloss: 0.0603671\n",
      "[80]\ttraining's binary_logloss: 0.00653697\tvalid_1's binary_logloss: 0.0587223\n",
      "[100]\ttraining's binary_logloss: 0.00379637\tvalid_1's binary_logloss: 0.0577345\n"
     ]
    },
    {
     "name": "stderr",
     "output_type": "stream",
     "text": [
      "mucolytic_agent logloss: 0.043613575739590946\n",
      "=========================================================================================\n",
      "len(trt) : 37\n",
      "len(train_index) : 951\n",
      "len(valid_index) : 952\n",
      "================================= 1fold lightgbm =================================\n"
     ]
    },
    {
     "name": "stdout",
     "output_type": "stream",
     "text": [
      "Early stopping, best iteration is:\n",
      "[108]\ttraining's binary_logloss: 0.00306241\tvalid_1's binary_logloss: 0.0574394\n",
      "Training until validation scores don't improve for 10 rounds\n",
      "[20]\ttraining's binary_logloss: 0.0289998\tvalid_1's binary_logloss: 0.0685535\n",
      "[40]\ttraining's binary_logloss: 0.0145006\tvalid_1's binary_logloss: 0.0643655\n"
     ]
    },
    {
     "name": "stderr",
     "output_type": "stream",
     "text": [
      "len(train_index) : 952\n",
      "len(valid_index) : 951\n",
      "================================= 2fold lightgbm =================================\n"
     ]
    },
    {
     "name": "stdout",
     "output_type": "stream",
     "text": [
      "Early stopping, best iteration is:\n",
      "[46]\ttraining's binary_logloss: 0.0119947\tvalid_1's binary_logloss: 0.0639875\n",
      "Training until validation scores don't improve for 10 rounds\n",
      "[20]\ttraining's binary_logloss: 0.0305237\tvalid_1's binary_logloss: 0.0528248\n",
      "[40]\ttraining's binary_logloss: 0.0159611\tvalid_1's binary_logloss: 0.0438721\n",
      "[60]\ttraining's binary_logloss: 0.0088797\tvalid_1's binary_logloss: 0.0410872\n",
      "[80]\ttraining's binary_logloss: 0.00505924\tvalid_1's binary_logloss: 0.0402136\n"
     ]
    },
    {
     "name": "stderr",
     "output_type": "stream",
     "text": [
      "neuropeptide_receptor_antagonist logloss: 0.052065540572913245\n",
      "=========================================================================================\n",
      "len(trt) : 832\n",
      "len(train_index) : 1349\n",
      "len(valid_index) : 1349\n",
      "================================= 1fold lightgbm =================================\n"
     ]
    },
    {
     "name": "stdout",
     "output_type": "stream",
     "text": [
      "Early stopping, best iteration is:\n",
      "[86]\ttraining's binary_logloss: 0.00428559\tvalid_1's binary_logloss: 0.040131\n",
      "Training until validation scores don't improve for 10 rounds\n",
      "[20]\ttraining's binary_logloss: 0.286525\tvalid_1's binary_logloss: 0.297474\n",
      "[40]\ttraining's binary_logloss: 0.148709\tvalid_1's binary_logloss: 0.161808\n",
      "[60]\ttraining's binary_logloss: 0.081145\tvalid_1's binary_logloss: 0.0951909\n",
      "[80]\ttraining's binary_logloss: 0.0451305\tvalid_1's binary_logloss: 0.0599086\n",
      "[100]\ttraining's binary_logloss: 0.0253921\tvalid_1's binary_logloss: 0.0402503\n",
      "[120]\ttraining's binary_logloss: 0.0143312\tvalid_1's binary_logloss: 0.0293047\n",
      "[140]\ttraining's binary_logloss: 0.00809802\tvalid_1's binary_logloss: 0.0230964\n",
      "[160]\ttraining's binary_logloss: 0.00460058\tvalid_1's binary_logloss: 0.0197161\n",
      "[180]\ttraining's binary_logloss: 0.00263153\tvalid_1's binary_logloss: 0.0173992\n",
      "[200]\ttraining's binary_logloss: 0.00150257\tvalid_1's binary_logloss: 0.0156484\n",
      "[220]\ttraining's binary_logloss: 0.000858521\tvalid_1's binary_logloss: 0.0141746\n",
      "[240]\ttraining's binary_logloss: 0.000491154\tvalid_1's binary_logloss: 0.0131709\n",
      "[260]\ttraining's binary_logloss: 0.000281929\tvalid_1's binary_logloss: 0.0125631\n",
      "[280]\ttraining's binary_logloss: 0.000161885\tvalid_1's binary_logloss: 0.0118785\n",
      "[300]\ttraining's binary_logloss: 9.26289e-05\tvalid_1's binary_logloss: 0.0111962\n",
      "[320]\ttraining's binary_logloss: 5.32474e-05\tvalid_1's binary_logloss: 0.0108428\n",
      "[340]\ttraining's binary_logloss: 3.08902e-05\tvalid_1's binary_logloss: 0.0104426\n"
     ]
    },
    {
     "name": "stderr",
     "output_type": "stream",
     "text": [
      "len(train_index) : 1349\n",
      "len(valid_index) : 1349\n",
      "================================= 2fold lightgbm =================================\n"
     ]
    },
    {
     "name": "stdout",
     "output_type": "stream",
     "text": [
      "Early stopping, best iteration is:\n",
      "[345]\ttraining's binary_logloss: 2.70286e-05\tvalid_1's binary_logloss: 0.0103702\n",
      "Training until validation scores don't improve for 10 rounds\n",
      "[20]\ttraining's binary_logloss: 0.282709\tvalid_1's binary_logloss: 0.301608\n",
      "[40]\ttraining's binary_logloss: 0.147005\tvalid_1's binary_logloss: 0.172873\n",
      "[60]\ttraining's binary_logloss: 0.0792064\tvalid_1's binary_logloss: 0.108133\n",
      "[80]\ttraining's binary_logloss: 0.0434881\tvalid_1's binary_logloss: 0.0747282\n",
      "[100]\ttraining's binary_logloss: 0.0241553\tvalid_1's binary_logloss: 0.0565866\n",
      "[120]\ttraining's binary_logloss: 0.0135274\tvalid_1's binary_logloss: 0.0470759\n",
      "[140]\ttraining's binary_logloss: 0.00761027\tvalid_1's binary_logloss: 0.042303\n",
      "[160]\ttraining's binary_logloss: 0.00428191\tvalid_1's binary_logloss: 0.0400999\n",
      "[180]\ttraining's binary_logloss: 0.00242103\tvalid_1's binary_logloss: 0.0399685\n",
      "Early stopping, best iteration is:\n",
      "[175]\ttraining's binary_logloss: 0.00278898\tvalid_1's binary_logloss: 0.0399084\n"
     ]
    },
    {
     "name": "stderr",
     "output_type": "stream",
     "text": [
      "nfkb_inhibitor logloss: 0.025139285084490853\n",
      "=========================================================================================\n",
      "len(trt) : 6\n",
      "len(train_index) : 936\n",
      "len(valid_index) : 936\n",
      "================================= 1fold lightgbm =================================\n"
     ]
    },
    {
     "name": "stdout",
     "output_type": "stream",
     "text": [
      "Training until validation scores don't improve for 10 rounds\n",
      "[20]\ttraining's binary_logloss: 0.00514174\tvalid_1's binary_logloss: 0.0160055\n"
     ]
    },
    {
     "name": "stderr",
     "output_type": "stream",
     "text": [
      "len(train_index) : 936\n",
      "len(valid_index) : 936\n",
      "================================= 2fold lightgbm =================================\n"
     ]
    },
    {
     "name": "stdout",
     "output_type": "stream",
     "text": [
      "[40]\ttraining's binary_logloss: 0.00256313\tvalid_1's binary_logloss: 0.0158308\n",
      "Early stopping, best iteration is:\n",
      "[32]\ttraining's binary_logloss: 0.00332399\tvalid_1's binary_logloss: 0.0157768\n",
      "Training until validation scores don't improve for 10 rounds\n",
      "[20]\ttraining's binary_logloss: 0.00493722\tvalid_1's binary_logloss: 0.0167139\n",
      "[40]\ttraining's binary_logloss: 0.00246632\tvalid_1's binary_logloss: 0.0159491\n"
     ]
    },
    {
     "name": "stderr",
     "output_type": "stream",
     "text": [
      "nicotinic_receptor_agonist logloss: 0.015854992191483536\n",
      "=========================================================================================\n",
      "len(trt) : 26\n",
      "len(train_index) : 946\n",
      "len(valid_index) : 946\n",
      "================================= 1fold lightgbm =================================\n"
     ]
    },
    {
     "name": "stdout",
     "output_type": "stream",
     "text": [
      "Early stopping, best iteration is:\n",
      "[48]\ttraining's binary_logloss: 0.00191343\tvalid_1's binary_logloss: 0.0159331\n",
      "Training until validation scores don't improve for 10 rounds\n",
      "[20]\ttraining's binary_logloss: 0.0222974\tvalid_1's binary_logloss: 0.0456617\n",
      "[40]\ttraining's binary_logloss: 0.0115536\tvalid_1's binary_logloss: 0.0394448\n",
      "[60]\ttraining's binary_logloss: 0.00635556\tvalid_1's binary_logloss: 0.0380081\n"
     ]
    },
    {
     "name": "stderr",
     "output_type": "stream",
     "text": [
      "len(train_index) : 946\n",
      "len(valid_index) : 946\n",
      "================================= 2fold lightgbm =================================\n"
     ]
    },
    {
     "name": "stdout",
     "output_type": "stream",
     "text": [
      "Early stopping, best iteration is:\n",
      "[66]\ttraining's binary_logloss: 0.0053369\tvalid_1's binary_logloss: 0.0373297\n",
      "Training until validation scores don't improve for 10 rounds\n",
      "[20]\ttraining's binary_logloss: 0.0219472\tvalid_1's binary_logloss: 0.0541833\n",
      "[40]\ttraining's binary_logloss: 0.0116628\tvalid_1's binary_logloss: 0.0499437\n",
      "[60]\ttraining's binary_logloss: 0.0065321\tvalid_1's binary_logloss: 0.0487094\n",
      "[80]\ttraining's binary_logloss: 0.00367845\tvalid_1's binary_logloss: 0.0475596\n",
      "Early stopping, best iteration is:\n",
      "[75]\ttraining's binary_logloss: 0.00425841\tvalid_1's binary_logloss: 0.0472071\n"
     ]
    },
    {
     "name": "stderr",
     "output_type": "stream",
     "text": [
      "nitric_oxide_donor logloss: 0.04226840274578837\n",
      "=========================================================================================\n",
      "len(trt) : 12\n",
      "len(train_index) : 939\n",
      "len(valid_index) : 939\n",
      "================================= 1fold lightgbm =================================\n"
     ]
    },
    {
     "name": "stdout",
     "output_type": "stream",
     "text": [
      "Training until validation scores don't improve for 10 rounds\n",
      "[20]\ttraining's binary_logloss: 0.00926777\tvalid_1's binary_logloss: 0.0292957\n"
     ]
    },
    {
     "name": "stderr",
     "output_type": "stream",
     "text": [
      "len(train_index) : 939\n",
      "len(valid_index) : 939\n",
      "================================= 2fold lightgbm =================================\n"
     ]
    },
    {
     "name": "stdout",
     "output_type": "stream",
     "text": [
      "Early stopping, best iteration is:\n",
      "[29]\ttraining's binary_logloss: 0.00672753\tvalid_1's binary_logloss: 0.028822\n",
      "Training until validation scores don't improve for 10 rounds\n",
      "[20]\ttraining's binary_logloss: 0.00924335\tvalid_1's binary_logloss: 0.0280844\n",
      "[40]\ttraining's binary_logloss: 0.00467409\tvalid_1's binary_logloss: 0.0264467\n",
      "[60]\ttraining's binary_logloss: 0.0025253\tvalid_1's binary_logloss: 0.0261811\n",
      "Early stopping, best iteration is:\n",
      "[56]\ttraining's binary_logloss: 0.00284844\tvalid_1's binary_logloss: 0.0260133\n"
     ]
    },
    {
     "name": "stderr",
     "output_type": "stream",
     "text": [
      "nitric_oxide_production_inhibitor logloss: 0.027417633833265252\n",
      "=========================================================================================\n",
      "len(trt) : 26\n",
      "len(train_index) : 946\n",
      "len(valid_index) : 946\n",
      "================================= 1fold lightgbm =================================\n"
     ]
    },
    {
     "name": "stdout",
     "output_type": "stream",
     "text": [
      "Training until validation scores don't improve for 10 rounds\n",
      "[20]\ttraining's binary_logloss: 0.0218192\tvalid_1's binary_logloss: 0.0450039\n",
      "[40]\ttraining's binary_logloss: 0.0113402\tvalid_1's binary_logloss: 0.0378138\n",
      "[60]\ttraining's binary_logloss: 0.00625865\tvalid_1's binary_logloss: 0.0342926\n",
      "[80]\ttraining's binary_logloss: 0.00350949\tvalid_1's binary_logloss: 0.0323083\n",
      "[100]\ttraining's binary_logloss: 0.00199699\tvalid_1's binary_logloss: 0.0311076\n",
      "[120]\ttraining's binary_logloss: 0.00114656\tvalid_1's binary_logloss: 0.0302558\n",
      "[140]\ttraining's binary_logloss: 0.000659285\tvalid_1's binary_logloss: 0.0298292\n"
     ]
    },
    {
     "name": "stderr",
     "output_type": "stream",
     "text": [
      "len(train_index) : 946\n",
      "len(valid_index) : 946\n",
      "================================= 2fold lightgbm =================================\n"
     ]
    },
    {
     "name": "stdout",
     "output_type": "stream",
     "text": [
      "Early stopping, best iteration is:\n",
      "[141]\ttraining's binary_logloss: 0.000642242\tvalid_1's binary_logloss: 0.0297415\n",
      "Training until validation scores don't improve for 10 rounds\n",
      "[20]\ttraining's binary_logloss: 0.0227396\tvalid_1's binary_logloss: 0.0522178\n",
      "[40]\ttraining's binary_logloss: 0.011899\tvalid_1's binary_logloss: 0.046048\n",
      "[60]\ttraining's binary_logloss: 0.00659186\tvalid_1's binary_logloss: 0.0423416\n",
      "[80]\ttraining's binary_logloss: 0.00372459\tvalid_1's binary_logloss: 0.0395056\n",
      "[100]\ttraining's binary_logloss: 0.00213659\tvalid_1's binary_logloss: 0.0383677\n"
     ]
    },
    {
     "name": "stderr",
     "output_type": "stream",
     "text": [
      "nitric_oxide_synthase_inhibitor logloss: 0.03374869907729464\n",
      "=========================================================================================\n",
      "len(trt) : 7\n",
      "len(train_index) : 936\n",
      "len(valid_index) : 937\n",
      "================================= 1fold lightgbm =================================\n"
     ]
    },
    {
     "name": "stdout",
     "output_type": "stream",
     "text": [
      "Early stopping, best iteration is:\n",
      "[105]\ttraining's binary_logloss: 0.00185688\tvalid_1's binary_logloss: 0.0377559\n",
      "Training until validation scores don't improve for 10 rounds\n",
      "[20]\ttraining's binary_logloss: 0.00498737\tvalid_1's binary_logloss: 0.0230728\n"
     ]
    },
    {
     "name": "stderr",
     "output_type": "stream",
     "text": [
      "len(train_index) : 937\n",
      "len(valid_index) : 936\n",
      "================================= 2fold lightgbm =================================\n"
     ]
    },
    {
     "name": "stdout",
     "output_type": "stream",
     "text": [
      "[40]\ttraining's binary_logloss: 0.00249227\tvalid_1's binary_logloss: 0.0224762\n",
      "Early stopping, best iteration is:\n",
      "[33]\ttraining's binary_logloss: 0.00313961\tvalid_1's binary_logloss: 0.0223273\n",
      "Training until validation scores don't improve for 10 rounds\n",
      "[20]\ttraining's binary_logloss: 0.00634231\tvalid_1's binary_logloss: 0.0177383\n"
     ]
    },
    {
     "name": "stderr",
     "output_type": "stream",
     "text": [
      "norepinephrine_reuptake_inhibitor logloss: 0.01986103900254505\n",
      "=========================================================================================\n",
      "len(trt) : 18\n",
      "len(train_index) : 942\n",
      "len(valid_index) : 942\n",
      "================================= 1fold lightgbm =================================\n"
     ]
    },
    {
     "name": "stdout",
     "output_type": "stream",
     "text": [
      "Early stopping, best iteration is:\n",
      "[26]\ttraining's binary_logloss: 0.00509688\tvalid_1's binary_logloss: 0.0173921\n",
      "Training until validation scores don't improve for 10 rounds\n",
      "[20]\ttraining's binary_logloss: 0.0133941\tvalid_1's binary_logloss: 0.0374402\n",
      "[40]\ttraining's binary_logloss: 0.00679214\tvalid_1's binary_logloss: 0.034789\n",
      "[60]\ttraining's binary_logloss: 0.00367247\tvalid_1's binary_logloss: 0.0339296\n",
      "Early stopping, best iteration is:\n",
      "[59]\ttraining's binary_logloss: 0.00378414\tvalid_1's binary_logloss: 0.0338529\n"
     ]
    },
    {
     "name": "stderr",
     "output_type": "stream",
     "text": [
      "len(train_index) : 942\n",
      "len(valid_index) : 942\n",
      "================================= 2fold lightgbm =================================\n"
     ]
    },
    {
     "name": "stdout",
     "output_type": "stream",
     "text": [
      "Training until validation scores don't improve for 10 rounds\n",
      "[20]\ttraining's binary_logloss: 0.0143543\tvalid_1's binary_logloss: 0.0232476\n",
      "[40]\ttraining's binary_logloss: 0.0074977\tvalid_1's binary_logloss: 0.0183265\n",
      "[60]\ttraining's binary_logloss: 0.0041563\tvalid_1's binary_logloss: 0.0155977\n",
      "[80]\ttraining's binary_logloss: 0.00235216\tvalid_1's binary_logloss: 0.0145242\n",
      "[100]\ttraining's binary_logloss: 0.0013479\tvalid_1's binary_logloss: 0.0140895\n"
     ]
    },
    {
     "name": "stderr",
     "output_type": "stream",
     "text": [
      "nrf2_activator logloss: 0.023796673497892728\n",
      "=========================================================================================\n",
      "len(trt) : 61\n",
      "len(train_index) : 963\n",
      "len(valid_index) : 964\n",
      "================================= 1fold lightgbm =================================\n"
     ]
    },
    {
     "name": "stdout",
     "output_type": "stream",
     "text": [
      "[120]\ttraining's binary_logloss: 0.000775537\tvalid_1's binary_logloss: 0.0138285\n",
      "Early stopping, best iteration is:\n",
      "[110]\ttraining's binary_logloss: 0.00102162\tvalid_1's binary_logloss: 0.0137404\n",
      "Training until validation scores don't improve for 10 rounds\n",
      "[20]\ttraining's binary_logloss: 0.0460454\tvalid_1's binary_logloss: 0.0686252\n",
      "[40]\ttraining's binary_logloss: 0.0247476\tvalid_1's binary_logloss: 0.0533001\n",
      "[60]\ttraining's binary_logloss: 0.0139641\tvalid_1's binary_logloss: 0.0438818\n",
      "[80]\ttraining's binary_logloss: 0.00798997\tvalid_1's binary_logloss: 0.037748\n",
      "[100]\ttraining's binary_logloss: 0.00457715\tvalid_1's binary_logloss: 0.0336313\n",
      "[120]\ttraining's binary_logloss: 0.00263671\tvalid_1's binary_logloss: 0.03095\n",
      "[140]\ttraining's binary_logloss: 0.00153386\tvalid_1's binary_logloss: 0.0286063\n",
      "[160]\ttraining's binary_logloss: 0.000887409\tvalid_1's binary_logloss: 0.0270024\n",
      "[180]\ttraining's binary_logloss: 0.000515876\tvalid_1's binary_logloss: 0.0262977\n",
      "[200]\ttraining's binary_logloss: 0.000299696\tvalid_1's binary_logloss: 0.0258951\n",
      "Early stopping, best iteration is:\n",
      "[195]\ttraining's binary_logloss: 0.000343645\tvalid_1's binary_logloss: 0.0256115\n"
     ]
    },
    {
     "name": "stderr",
     "output_type": "stream",
     "text": [
      "len(train_index) : 964\n",
      "len(valid_index) : 963\n",
      "================================= 2fold lightgbm =================================\n"
     ]
    },
    {
     "name": "stdout",
     "output_type": "stream",
     "text": [
      "Training until validation scores don't improve for 10 rounds\n",
      "[20]\ttraining's binary_logloss: 0.0492416\tvalid_1's binary_logloss: 0.0759464\n",
      "[40]\ttraining's binary_logloss: 0.0261963\tvalid_1's binary_logloss: 0.057992\n",
      "[60]\ttraining's binary_logloss: 0.0145622\tvalid_1's binary_logloss: 0.0493185\n",
      "[80]\ttraining's binary_logloss: 0.00835942\tvalid_1's binary_logloss: 0.0439595\n",
      "[100]\ttraining's binary_logloss: 0.00485901\tvalid_1's binary_logloss: 0.0408895\n",
      "[120]\ttraining's binary_logloss: 0.00284883\tvalid_1's binary_logloss: 0.0390475\n",
      "[140]\ttraining's binary_logloss: 0.00167283\tvalid_1's binary_logloss: 0.0379293\n"
     ]
    },
    {
     "name": "stderr",
     "output_type": "stream",
     "text": [
      "opioid_receptor_agonist logloss: 0.03171785264409482\n",
      "=========================================================================================\n",
      "len(trt) : 96\n",
      "len(train_index) : 981\n",
      "len(valid_index) : 981\n",
      "================================= 1fold lightgbm =================================\n"
     ]
    },
    {
     "name": "stdout",
     "output_type": "stream",
     "text": [
      "Early stopping, best iteration is:\n",
      "[141]\ttraining's binary_logloss: 0.00163002\tvalid_1's binary_logloss: 0.0378305\n",
      "Training until validation scores don't improve for 10 rounds\n",
      "[20]\ttraining's binary_logloss: 0.0689298\tvalid_1's binary_logloss: 0.108982\n",
      "[40]\ttraining's binary_logloss: 0.0362384\tvalid_1's binary_logloss: 0.0829971\n",
      "[60]\ttraining's binary_logloss: 0.0201479\tvalid_1's binary_logloss: 0.0719124\n",
      "[80]\ttraining's binary_logloss: 0.0114828\tvalid_1's binary_logloss: 0.0650453\n",
      "[100]\ttraining's binary_logloss: 0.00655133\tvalid_1's binary_logloss: 0.0612803\n",
      "[120]\ttraining's binary_logloss: 0.00378316\tvalid_1's binary_logloss: 0.0575803\n",
      "[140]\ttraining's binary_logloss: 0.00217837\tvalid_1's binary_logloss: 0.0559051\n",
      "[160]\ttraining's binary_logloss: 0.00125974\tvalid_1's binary_logloss: 0.0543257\n"
     ]
    },
    {
     "name": "stderr",
     "output_type": "stream",
     "text": [
      "len(train_index) : 981\n",
      "len(valid_index) : 981\n"
     ]
    },
    {
     "name": "stdout",
     "output_type": "stream",
     "text": [
      "[180]\ttraining's binary_logloss: 0.000729895\tvalid_1's binary_logloss: 0.0542927\n",
      "Early stopping, best iteration is:\n",
      "[175]\ttraining's binary_logloss: 0.000838995\tvalid_1's binary_logloss: 0.0541717\n"
     ]
    },
    {
     "name": "stderr",
     "output_type": "stream",
     "text": [
      "================================= 2fold lightgbm =================================\n"
     ]
    },
    {
     "name": "stdout",
     "output_type": "stream",
     "text": [
      "Training until validation scores don't improve for 10 rounds\n",
      "[20]\ttraining's binary_logloss: 0.0693218\tvalid_1's binary_logloss: 0.0955607\n",
      "[40]\ttraining's binary_logloss: 0.0366695\tvalid_1's binary_logloss: 0.0673602\n",
      "[60]\ttraining's binary_logloss: 0.020494\tvalid_1's binary_logloss: 0.0520256\n",
      "[80]\ttraining's binary_logloss: 0.0117146\tvalid_1's binary_logloss: 0.0426236\n",
      "[100]\ttraining's binary_logloss: 0.00674815\tvalid_1's binary_logloss: 0.0361871\n",
      "[120]\ttraining's binary_logloss: 0.00388636\tvalid_1's binary_logloss: 0.0311809\n",
      "[140]\ttraining's binary_logloss: 0.00225967\tvalid_1's binary_logloss: 0.0281565\n",
      "[160]\ttraining's binary_logloss: 0.0013181\tvalid_1's binary_logloss: 0.0264894\n",
      "[180]\ttraining's binary_logloss: 0.000771179\tvalid_1's binary_logloss: 0.0250431\n",
      "[200]\ttraining's binary_logloss: 0.000450662\tvalid_1's binary_logloss: 0.0245114\n",
      "[220]\ttraining's binary_logloss: 0.000262171\tvalid_1's binary_logloss: 0.0236582\n",
      "[240]\ttraining's binary_logloss: 0.000153299\tvalid_1's binary_logloss: 0.0227592\n",
      "[260]\ttraining's binary_logloss: 8.97831e-05\tvalid_1's binary_logloss: 0.0222506\n",
      "[280]\ttraining's binary_logloss: 5.26631e-05\tvalid_1's binary_logloss: 0.0216023\n",
      "[300]\ttraining's binary_logloss: 3.16131e-05\tvalid_1's binary_logloss: 0.0213115\n"
     ]
    },
    {
     "name": "stderr",
     "output_type": "stream",
     "text": [
      "opioid_receptor_antagonist logloss: 0.03771127803234207\n",
      "=========================================================================================\n",
      "len(trt) : 37\n",
      "len(train_index) : 951\n",
      "len(valid_index) : 952\n",
      "================================= 1fold lightgbm =================================\n"
     ]
    },
    {
     "name": "stdout",
     "output_type": "stream",
     "text": [
      "Early stopping, best iteration is:\n",
      "[302]\ttraining's binary_logloss: 3.00438e-05\tvalid_1's binary_logloss: 0.0212509\n",
      "Training until validation scores don't improve for 10 rounds\n",
      "[20]\ttraining's binary_logloss: 0.0294016\tvalid_1's binary_logloss: 0.0608999\n",
      "[40]\ttraining's binary_logloss: 0.0150855\tvalid_1's binary_logloss: 0.0521043\n",
      "[60]\ttraining's binary_logloss: 0.00823184\tvalid_1's binary_logloss: 0.0484825\n"
     ]
    },
    {
     "name": "stderr",
     "output_type": "stream",
     "text": [
      "len(train_index) : 952\n",
      "len(valid_index) : 951\n",
      "================================= 2fold lightgbm =================================\n"
     ]
    },
    {
     "name": "stdout",
     "output_type": "stream",
     "text": [
      "Early stopping, best iteration is:\n",
      "[68]\ttraining's binary_logloss: 0.00652002\tvalid_1's binary_logloss: 0.0480236\n",
      "Training until validation scores don't improve for 10 rounds\n",
      "[20]\ttraining's binary_logloss: 0.0323468\tvalid_1's binary_logloss: 0.056645\n",
      "[40]\ttraining's binary_logloss: 0.0169725\tvalid_1's binary_logloss: 0.0467194\n",
      "[60]\ttraining's binary_logloss: 0.00938042\tvalid_1's binary_logloss: 0.0413889\n",
      "[80]\ttraining's binary_logloss: 0.00531907\tvalid_1's binary_logloss: 0.0399262\n"
     ]
    },
    {
     "name": "stderr",
     "output_type": "stream",
     "text": [
      "orexin_receptor_antagonist logloss: 0.043848430653641426\n",
      "=========================================================================================\n",
      "len(trt) : 62\n",
      "len(train_index) : 964\n",
      "len(valid_index) : 964\n",
      "================================= 1fold lightgbm =================================\n"
     ]
    },
    {
     "name": "stdout",
     "output_type": "stream",
     "text": [
      "Early stopping, best iteration is:\n",
      "[77]\ttraining's binary_logloss: 0.00579409\tvalid_1's binary_logloss: 0.0396689\n",
      "Training until validation scores don't improve for 10 rounds\n",
      "[20]\ttraining's binary_logloss: 0.0462156\tvalid_1's binary_logloss: 0.0693373\n",
      "[40]\ttraining's binary_logloss: 0.0235341\tvalid_1's binary_logloss: 0.0540625\n",
      "[60]\ttraining's binary_logloss: 0.0127026\tvalid_1's binary_logloss: 0.0472996\n",
      "[80]\ttraining's binary_logloss: 0.00712439\tvalid_1's binary_logloss: 0.042714\n",
      "[100]\ttraining's binary_logloss: 0.00401939\tvalid_1's binary_logloss: 0.0392113\n",
      "[120]\ttraining's binary_logloss: 0.00227822\tvalid_1's binary_logloss: 0.0378118\n",
      "Early stopping, best iteration is:\n",
      "[119]\ttraining's binary_logloss: 0.002345\tvalid_1's binary_logloss: 0.0376502\n"
     ]
    },
    {
     "name": "stderr",
     "output_type": "stream",
     "text": [
      "len(train_index) : 964\n",
      "len(valid_index) : 964\n",
      "================================= 2fold lightgbm =================================\n"
     ]
    },
    {
     "name": "stdout",
     "output_type": "stream",
     "text": [
      "Training until validation scores don't improve for 10 rounds\n",
      "[20]\ttraining's binary_logloss: 0.0450599\tvalid_1's binary_logloss: 0.0634479\n",
      "[40]\ttraining's binary_logloss: 0.0236719\tvalid_1's binary_logloss: 0.0497888\n",
      "[60]\ttraining's binary_logloss: 0.0131882\tvalid_1's binary_logloss: 0.0441343\n",
      "[80]\ttraining's binary_logloss: 0.00725358\tvalid_1's binary_logloss: 0.0399268\n",
      "[100]\ttraining's binary_logloss: 0.00402654\tvalid_1's binary_logloss: 0.0372391\n",
      "[120]\ttraining's binary_logloss: 0.00225553\tvalid_1's binary_logloss: 0.0356307\n",
      "[140]\ttraining's binary_logloss: 0.00127331\tvalid_1's binary_logloss: 0.0349417\n",
      "[160]\ttraining's binary_logloss: 0.00072242\tvalid_1's binary_logloss: 0.0347652\n"
     ]
    },
    {
     "name": "stderr",
     "output_type": "stream",
     "text": [
      "p38_mapk_inhibitor logloss: 0.03606623844873302\n",
      "=========================================================================================\n",
      "len(trt) : 24\n",
      "len(train_index) : 945\n",
      "len(valid_index) : 945\n",
      "================================= 1fold lightgbm =================================\n"
     ]
    },
    {
     "name": "stdout",
     "output_type": "stream",
     "text": [
      "[180]\ttraining's binary_logloss: 0.000412474\tvalid_1's binary_logloss: 0.034729\n",
      "Early stopping, best iteration is:\n",
      "[171]\ttraining's binary_logloss: 0.000530489\tvalid_1's binary_logloss: 0.0344823\n",
      "Training until validation scores don't improve for 10 rounds\n",
      "[20]\ttraining's binary_logloss: 0.0184811\tvalid_1's binary_logloss: 0.0510222\n",
      "[40]\ttraining's binary_logloss: 0.00950308\tvalid_1's binary_logloss: 0.0474419\n"
     ]
    },
    {
     "name": "stderr",
     "output_type": "stream",
     "text": [
      "len(train_index) : 945\n",
      "len(valid_index) : 945\n",
      "================================= 2fold lightgbm =================================\n"
     ]
    },
    {
     "name": "stdout",
     "output_type": "stream",
     "text": [
      "[60]\ttraining's binary_logloss: 0.00519125\tvalid_1's binary_logloss: 0.0472164\n",
      "Early stopping, best iteration is:\n",
      "[50]\ttraining's binary_logloss: 0.0069724\tvalid_1's binary_logloss: 0.0469913\n",
      "Training until validation scores don't improve for 10 rounds\n",
      "[20]\ttraining's binary_logloss: 0.0211581\tvalid_1's binary_logloss: 0.0403383\n",
      "[40]\ttraining's binary_logloss: 0.0109495\tvalid_1's binary_logloss: 0.0354733\n",
      "[60]\ttraining's binary_logloss: 0.00601563\tvalid_1's binary_logloss: 0.0328922\n",
      "[80]\ttraining's binary_logloss: 0.0033959\tvalid_1's binary_logloss: 0.0321804\n"
     ]
    },
    {
     "name": "stderr",
     "output_type": "stream",
     "text": [
      "p-glycoprotein_inhibitor logloss: 0.03956929603012219\n",
      "=========================================================================================\n",
      "len(trt) : 61\n",
      "len(train_index) : 963\n",
      "len(valid_index) : 964\n",
      "================================= 1fold lightgbm =================================\n"
     ]
    },
    {
     "name": "stdout",
     "output_type": "stream",
     "text": [
      "Early stopping, best iteration is:\n",
      "[79]\ttraining's binary_logloss: 0.0034912\tvalid_1's binary_logloss: 0.0321473\n",
      "Training until validation scores don't improve for 10 rounds\n",
      "[20]\ttraining's binary_logloss: 0.0467906\tvalid_1's binary_logloss: 0.0787319\n",
      "[40]\ttraining's binary_logloss: 0.024671\tvalid_1's binary_logloss: 0.0615341\n",
      "[60]\ttraining's binary_logloss: 0.0136852\tvalid_1's binary_logloss: 0.0522186\n",
      "[80]\ttraining's binary_logloss: 0.00778192\tvalid_1's binary_logloss: 0.0466259\n",
      "[100]\ttraining's binary_logloss: 0.00447752\tvalid_1's binary_logloss: 0.0426596\n",
      "[120]\ttraining's binary_logloss: 0.00259891\tvalid_1's binary_logloss: 0.0397722\n",
      "[140]\ttraining's binary_logloss: 0.00151629\tvalid_1's binary_logloss: 0.0378423\n",
      "[160]\ttraining's binary_logloss: 0.000884822\tvalid_1's binary_logloss: 0.0366215\n",
      "[180]\ttraining's binary_logloss: 0.000516354\tvalid_1's binary_logloss: 0.0354263\n",
      "[200]\ttraining's binary_logloss: 0.000301359\tvalid_1's binary_logloss: 0.0348565\n",
      "Early stopping, best iteration is:\n",
      "[195]\ttraining's binary_logloss: 0.000345168\tvalid_1's binary_logloss: 0.0347196\n"
     ]
    },
    {
     "name": "stderr",
     "output_type": "stream",
     "text": [
      "len(train_index) : 964\n",
      "len(valid_index) : 963\n",
      "================================= 2fold lightgbm =================================\n"
     ]
    },
    {
     "name": "stdout",
     "output_type": "stream",
     "text": [
      "Training until validation scores don't improve for 10 rounds\n",
      "[20]\ttraining's binary_logloss: 0.045111\tvalid_1's binary_logloss: 0.0841569\n",
      "[40]\ttraining's binary_logloss: 0.0234778\tvalid_1's binary_logloss: 0.0664235\n",
      "[60]\ttraining's binary_logloss: 0.0129675\tvalid_1's binary_logloss: 0.056383\n",
      "[80]\ttraining's binary_logloss: 0.0072624\tvalid_1's binary_logloss: 0.0496054\n",
      "[100]\ttraining's binary_logloss: 0.00412235\tvalid_1's binary_logloss: 0.0479044\n",
      "[120]\ttraining's binary_logloss: 0.00234311\tvalid_1's binary_logloss: 0.0474628\n"
     ]
    },
    {
     "name": "stderr",
     "output_type": "stream",
     "text": [
      "parp_inhibitor logloss: 0.04099938109541862\n",
      "=========================================================================================\n",
      "len(trt) : 297\n",
      "len(train_index) : 1081\n",
      "len(valid_index) : 1082\n",
      "================================= 1fold lightgbm =================================\n"
     ]
    },
    {
     "name": "stdout",
     "output_type": "stream",
     "text": [
      "Early stopping, best iteration is:\n",
      "[125]\ttraining's binary_logloss: 0.00203552\tvalid_1's binary_logloss: 0.0472857\n",
      "Training until validation scores don't improve for 10 rounds\n",
      "[20]\ttraining's binary_logloss: 0.16144\tvalid_1's binary_logloss: 0.166735\n",
      "[40]\ttraining's binary_logloss: 0.0841029\tvalid_1's binary_logloss: 0.0948332\n",
      "[60]\ttraining's binary_logloss: 0.0459167\tvalid_1's binary_logloss: 0.0601224\n",
      "[80]\ttraining's binary_logloss: 0.0257299\tvalid_1's binary_logloss: 0.0423264\n",
      "[100]\ttraining's binary_logloss: 0.0146161\tvalid_1's binary_logloss: 0.0335461\n",
      "[120]\ttraining's binary_logloss: 0.00832349\tvalid_1's binary_logloss: 0.0293646\n",
      "[140]\ttraining's binary_logloss: 0.00475862\tvalid_1's binary_logloss: 0.0272515\n",
      "[160]\ttraining's binary_logloss: 0.00274028\tvalid_1's binary_logloss: 0.0266902\n"
     ]
    },
    {
     "name": "stderr",
     "output_type": "stream",
     "text": [
      "len(train_index) : 1082\n",
      "len(valid_index) : 1081\n",
      "================================= 2fold lightgbm =================================\n"
     ]
    },
    {
     "name": "stdout",
     "output_type": "stream",
     "text": [
      "Early stopping, best iteration is:\n",
      "[164]\ttraining's binary_logloss: 0.00245395\tvalid_1's binary_logloss: 0.0265322\n",
      "Training until validation scores don't improve for 10 rounds\n",
      "[20]\ttraining's binary_logloss: 0.160613\tvalid_1's binary_logloss: 0.167664\n",
      "[40]\ttraining's binary_logloss: 0.0836997\tvalid_1's binary_logloss: 0.0961465\n",
      "[60]\ttraining's binary_logloss: 0.0459454\tvalid_1's binary_logloss: 0.0616574\n",
      "[80]\ttraining's binary_logloss: 0.0256157\tvalid_1's binary_logloss: 0.0437437\n",
      "[100]\ttraining's binary_logloss: 0.0144798\tvalid_1's binary_logloss: 0.0347522\n",
      "[120]\ttraining's binary_logloss: 0.00824841\tvalid_1's binary_logloss: 0.0301407\n",
      "[140]\ttraining's binary_logloss: 0.00471542\tvalid_1's binary_logloss: 0.0281306\n",
      "[160]\ttraining's binary_logloss: 0.0027027\tvalid_1's binary_logloss: 0.0272507\n"
     ]
    },
    {
     "name": "stderr",
     "output_type": "stream",
     "text": [
      "pdgfr_inhibitor logloss: 0.026842966138320594\n",
      "=========================================================================================\n",
      "len(trt) : 18\n",
      "len(train_index) : 942\n",
      "len(valid_index) : 942\n",
      "================================= 1fold lightgbm =================================\n"
     ]
    },
    {
     "name": "stdout",
     "output_type": "stream",
     "text": [
      "Early stopping, best iteration is:\n",
      "[164]\ttraining's binary_logloss: 0.00242081\tvalid_1's binary_logloss: 0.027154\n",
      "Training until validation scores don't improve for 10 rounds\n",
      "[20]\ttraining's binary_logloss: 0.0143048\tvalid_1's binary_logloss: 0.0443196\n"
     ]
    },
    {
     "name": "stderr",
     "output_type": "stream",
     "text": [
      "len(train_index) : 942\n",
      "len(valid_index) : 942\n",
      "================================= 2fold lightgbm =================================\n"
     ]
    },
    {
     "name": "stdout",
     "output_type": "stream",
     "text": [
      "[40]\ttraining's binary_logloss: 0.00751717\tvalid_1's binary_logloss: 0.0443006\n",
      "Early stopping, best iteration is:\n",
      "[30]\ttraining's binary_logloss: 0.0102292\tvalid_1's binary_logloss: 0.0440244\n",
      "Training until validation scores don't improve for 10 rounds\n",
      "[20]\ttraining's binary_logloss: 0.0151505\tvalid_1's binary_logloss: 0.0390545\n",
      "[40]\ttraining's binary_logloss: 0.00784038\tvalid_1's binary_logloss: 0.035532\n",
      "[60]\ttraining's binary_logloss: 0.00433176\tvalid_1's binary_logloss: 0.0344271\n"
     ]
    },
    {
     "name": "stderr",
     "output_type": "stream",
     "text": [
      "pdk_inhibitor logloss: 0.03892829997107834\n",
      "=========================================================================================\n",
      "len(trt) : 264\n",
      "len(train_index) : 1065\n",
      "len(valid_index) : 1065\n",
      "================================= 1fold lightgbm =================================\n"
     ]
    },
    {
     "name": "stdout",
     "output_type": "stream",
     "text": [
      "Early stopping, best iteration is:\n",
      "[67]\ttraining's binary_logloss: 0.00353658\tvalid_1's binary_logloss: 0.0338322\n",
      "Training until validation scores don't improve for 10 rounds\n",
      "[20]\ttraining's binary_logloss: 0.158288\tvalid_1's binary_logloss: 0.182717\n",
      "[40]\ttraining's binary_logloss: 0.0839072\tvalid_1's binary_logloss: 0.115602\n",
      "[60]\ttraining's binary_logloss: 0.0464315\tvalid_1's binary_logloss: 0.0786628\n",
      "[80]\ttraining's binary_logloss: 0.0264875\tvalid_1's binary_logloss: 0.0581331\n",
      "[100]\ttraining's binary_logloss: 0.0152227\tvalid_1's binary_logloss: 0.044738\n",
      "[120]\ttraining's binary_logloss: 0.00878195\tvalid_1's binary_logloss: 0.0367219\n",
      "[140]\ttraining's binary_logloss: 0.00509175\tvalid_1's binary_logloss: 0.0318096\n",
      "[160]\ttraining's binary_logloss: 0.00295731\tvalid_1's binary_logloss: 0.0288841\n",
      "[180]\ttraining's binary_logloss: 0.00172748\tvalid_1's binary_logloss: 0.0271186\n",
      "[200]\ttraining's binary_logloss: 0.00100782\tvalid_1's binary_logloss: 0.0255423\n",
      "[220]\ttraining's binary_logloss: 0.000590355\tvalid_1's binary_logloss: 0.0244255\n",
      "[240]\ttraining's binary_logloss: 0.000345398\tvalid_1's binary_logloss: 0.0237189\n"
     ]
    },
    {
     "name": "stderr",
     "output_type": "stream",
     "text": [
      "len(train_index) : 1065\n",
      "len(valid_index) : 1065\n",
      "================================= 2fold lightgbm =================================\n"
     ]
    },
    {
     "name": "stdout",
     "output_type": "stream",
     "text": [
      "[260]\ttraining's binary_logloss: 0.000201325\tvalid_1's binary_logloss: 0.0234228\n",
      "Early stopping, best iteration is:\n",
      "[252]\ttraining's binary_logloss: 0.000249811\tvalid_1's binary_logloss: 0.0232049\n",
      "Training until validation scores don't improve for 10 rounds\n",
      "[20]\ttraining's binary_logloss: 0.154251\tvalid_1's binary_logloss: 0.18975\n",
      "[40]\ttraining's binary_logloss: 0.0815209\tvalid_1's binary_logloss: 0.12545\n",
      "[60]\ttraining's binary_logloss: 0.0452843\tvalid_1's binary_logloss: 0.0910482\n",
      "[80]\ttraining's binary_logloss: 0.0256198\tvalid_1's binary_logloss: 0.0713267\n",
      "[100]\ttraining's binary_logloss: 0.0146\tvalid_1's binary_logloss: 0.0592395\n",
      "[120]\ttraining's binary_logloss: 0.00840683\tvalid_1's binary_logloss: 0.0520625\n",
      "[140]\ttraining's binary_logloss: 0.00484994\tvalid_1's binary_logloss: 0.0464639\n",
      "[160]\ttraining's binary_logloss: 0.00280869\tvalid_1's binary_logloss: 0.0436161\n",
      "[180]\ttraining's binary_logloss: 0.00163075\tvalid_1's binary_logloss: 0.0414168\n",
      "[200]\ttraining's binary_logloss: 0.000947892\tvalid_1's binary_logloss: 0.0408802\n"
     ]
    },
    {
     "name": "stderr",
     "output_type": "stream",
     "text": [
      "phosphodiesterase_inhibitor logloss: 0.03181483870103099\n",
      "=========================================================================================\n",
      "len(trt) : 25\n",
      "len(train_index) : 945\n",
      "len(valid_index) : 946\n",
      "================================= 1fold lightgbm =================================\n"
     ]
    },
    {
     "name": "stdout",
     "output_type": "stream",
     "text": [
      "[220]\ttraining's binary_logloss: 0.00055255\tvalid_1's binary_logloss: 0.0405743\n",
      "Early stopping, best iteration is:\n",
      "[210]\ttraining's binary_logloss: 0.000725282\tvalid_1's binary_logloss: 0.0404247\n",
      "Training until validation scores don't improve for 10 rounds\n",
      "[20]\ttraining's binary_logloss: 0.022303\tvalid_1's binary_logloss: 0.0592997\n"
     ]
    },
    {
     "name": "stderr",
     "output_type": "stream",
     "text": [
      "len(train_index) : 946\n",
      "len(valid_index) : 945\n"
     ]
    },
    {
     "name": "stdout",
     "output_type": "stream",
     "text": [
      "[40]\ttraining's binary_logloss: 0.0116424\tvalid_1's binary_logloss: 0.0575575\n",
      "Early stopping, best iteration is:\n",
      "[36]\ttraining's binary_logloss: 0.0131762\tvalid_1's binary_logloss: 0.0574521\n"
     ]
    },
    {
     "name": "stderr",
     "output_type": "stream",
     "text": [
      "================================= 2fold lightgbm =================================\n"
     ]
    },
    {
     "name": "stdout",
     "output_type": "stream",
     "text": [
      "Training until validation scores don't improve for 10 rounds\n",
      "[20]\ttraining's binary_logloss: 0.0233536\tvalid_1's binary_logloss: 0.0505163\n",
      "[40]\ttraining's binary_logloss: 0.0122492\tvalid_1's binary_logloss: 0.0483837\n",
      "Early stopping, best iteration is:\n",
      "[36]\ttraining's binary_logloss: 0.013832\tvalid_1's binary_logloss: 0.0483503\n"
     ]
    },
    {
     "name": "stderr",
     "output_type": "stream",
     "text": [
      "phospholipase_inhibitor logloss: 0.05290361841645554\n",
      "=========================================================================================\n",
      "len(trt) : 151\n",
      "len(train_index) : 1008\n",
      "len(valid_index) : 1009\n",
      "================================= 1fold lightgbm =================================\n"
     ]
    },
    {
     "name": "stdout",
     "output_type": "stream",
     "text": [
      "Training until validation scores don't improve for 10 rounds\n",
      "[20]\ttraining's binary_logloss: 0.0980892\tvalid_1's binary_logloss: 0.130402\n",
      "[40]\ttraining's binary_logloss: 0.0508576\tvalid_1's binary_logloss: 0.0912227\n",
      "[60]\ttraining's binary_logloss: 0.0277969\tvalid_1's binary_logloss: 0.0718232\n",
      "[80]\ttraining's binary_logloss: 0.0155187\tvalid_1's binary_logloss: 0.0628507\n",
      "[100]\ttraining's binary_logloss: 0.00871062\tvalid_1's binary_logloss: 0.0563584\n",
      "[120]\ttraining's binary_logloss: 0.00492851\tvalid_1's binary_logloss: 0.0525705\n",
      "[140]\ttraining's binary_logloss: 0.0028046\tvalid_1's binary_logloss: 0.0512486\n",
      "[160]\ttraining's binary_logloss: 0.00160659\tvalid_1's binary_logloss: 0.050348\n",
      "Early stopping, best iteration is:\n",
      "[159]\ttraining's binary_logloss: 0.00165212\tvalid_1's binary_logloss: 0.0502052\n"
     ]
    },
    {
     "name": "stderr",
     "output_type": "stream",
     "text": [
      "len(train_index) : 1009\n",
      "len(valid_index) : 1008\n",
      "================================= 2fold lightgbm =================================\n"
     ]
    },
    {
     "name": "stdout",
     "output_type": "stream",
     "text": [
      "Training until validation scores don't improve for 10 rounds\n",
      "[20]\ttraining's binary_logloss: 0.103034\tvalid_1's binary_logloss: 0.117311\n",
      "[40]\ttraining's binary_logloss: 0.0545037\tvalid_1's binary_logloss: 0.0754222\n",
      "[60]\ttraining's binary_logloss: 0.0301514\tvalid_1's binary_logloss: 0.0540052\n",
      "[80]\ttraining's binary_logloss: 0.0169604\tvalid_1's binary_logloss: 0.0421053\n",
      "[100]\ttraining's binary_logloss: 0.00966229\tvalid_1's binary_logloss: 0.0352399\n",
      "[120]\ttraining's binary_logloss: 0.0055584\tvalid_1's binary_logloss: 0.0313635\n",
      "[140]\ttraining's binary_logloss: 0.00320863\tvalid_1's binary_logloss: 0.0293034\n",
      "[160]\ttraining's binary_logloss: 0.00185859\tvalid_1's binary_logloss: 0.0284046\n",
      "[180]\ttraining's binary_logloss: 0.001078\tvalid_1's binary_logloss: 0.0280787\n",
      "Early stopping, best iteration is:\n",
      "[177]\ttraining's binary_logloss: 0.00117028\tvalid_1's binary_logloss: 0.0279487\n"
     ]
    },
    {
     "name": "stderr",
     "output_type": "stream",
     "text": [
      "pi3k_inhibitor logloss: 0.03908248416327909\n",
      "=========================================================================================\n",
      "len(trt) : 31\n",
      "len(train_index) : 948\n",
      "len(valid_index) : 949\n",
      "================================= 1fold lightgbm =================================\n"
     ]
    },
    {
     "name": "stdout",
     "output_type": "stream",
     "text": [
      "Training until validation scores don't improve for 10 rounds\n",
      "[20]\ttraining's binary_logloss: 0.0251146\tvalid_1's binary_logloss: 0.0600914\n",
      "[40]\ttraining's binary_logloss: 0.0131558\tvalid_1's binary_logloss: 0.0546352\n",
      "[60]\ttraining's binary_logloss: 0.00731023\tvalid_1's binary_logloss: 0.053343\n"
     ]
    },
    {
     "name": "stderr",
     "output_type": "stream",
     "text": [
      "len(train_index) : 949\n",
      "len(valid_index) : 948\n",
      "================================= 2fold lightgbm =================================\n"
     ]
    },
    {
     "name": "stdout",
     "output_type": "stream",
     "text": [
      "Early stopping, best iteration is:\n",
      "[66]\ttraining's binary_logloss: 0.00616495\tvalid_1's binary_logloss: 0.0530714\n",
      "Training until validation scores don't improve for 10 rounds\n",
      "[20]\ttraining's binary_logloss: 0.0277619\tvalid_1's binary_logloss: 0.0582738\n",
      "[40]\ttraining's binary_logloss: 0.0144781\tvalid_1's binary_logloss: 0.0517583\n",
      "[60]\ttraining's binary_logloss: 0.0079721\tvalid_1's binary_logloss: 0.0489101\n",
      "[80]\ttraining's binary_logloss: 0.00450367\tvalid_1's binary_logloss: 0.0471267\n"
     ]
    },
    {
     "name": "stderr",
     "output_type": "stream",
     "text": [
      "pkc_inhibitor logloss: 0.04998011855914899\n",
      "=========================================================================================\n"
     ]
    },
    {
     "name": "stdout",
     "output_type": "stream",
     "text": [
      "[100]\ttraining's binary_logloss: 0.00258219\tvalid_1's binary_logloss: 0.0471461\n",
      "Early stopping, best iteration is:\n",
      "[94]\ttraining's binary_logloss: 0.00304597\tvalid_1's binary_logloss: 0.0468855\n"
     ]
    },
    {
     "name": "stderr",
     "output_type": "stream",
     "text": [
      "len(trt) : 55\n",
      "len(train_index) : 960\n",
      "len(valid_index) : 961\n",
      "================================= 1fold lightgbm =================================\n"
     ]
    },
    {
     "name": "stdout",
     "output_type": "stream",
     "text": [
      "Training until validation scores don't improve for 10 rounds\n",
      "[20]\ttraining's binary_logloss: 0.0455167\tvalid_1's binary_logloss: 0.0961407\n",
      "[40]\ttraining's binary_logloss: 0.024194\tvalid_1's binary_logloss: 0.0857804\n",
      "[60]\ttraining's binary_logloss: 0.013663\tvalid_1's binary_logloss: 0.0831337\n"
     ]
    },
    {
     "name": "stderr",
     "output_type": "stream",
     "text": [
      "len(train_index) : 961\n",
      "len(valid_index) : 960\n",
      "================================= 2fold lightgbm =================================\n"
     ]
    },
    {
     "name": "stdout",
     "output_type": "stream",
     "text": [
      "Early stopping, best iteration is:\n",
      "[59]\ttraining's binary_logloss: 0.0140513\tvalid_1's binary_logloss: 0.0829463\n",
      "Training until validation scores don't improve for 10 rounds\n",
      "[20]\ttraining's binary_logloss: 0.0502229\tvalid_1's binary_logloss: 0.0839961\n",
      "[40]\ttraining's binary_logloss: 0.0268021\tvalid_1's binary_logloss: 0.0731244\n",
      "[60]\ttraining's binary_logloss: 0.0152952\tvalid_1's binary_logloss: 0.0681033\n",
      "[80]\ttraining's binary_logloss: 0.00889643\tvalid_1's binary_logloss: 0.0653809\n"
     ]
    },
    {
     "name": "stderr",
     "output_type": "stream",
     "text": [
      "potassium_channel_activator logloss: 0.07361704102776047\n",
      "=========================================================================================\n",
      "len(trt) : 98\n",
      "len(train_index) : 982\n",
      "len(valid_index) : 982\n",
      "================================= 1fold lightgbm =================================\n"
     ]
    },
    {
     "name": "stdout",
     "output_type": "stream",
     "text": [
      "[100]\ttraining's binary_logloss: 0.00522513\tvalid_1's binary_logloss: 0.064899\n",
      "Early stopping, best iteration is:\n",
      "[92]\ttraining's binary_logloss: 0.00645396\tvalid_1's binary_logloss: 0.0642781\n",
      "Training until validation scores don't improve for 10 rounds\n",
      "[20]\ttraining's binary_logloss: 0.0727593\tvalid_1's binary_logloss: 0.104033\n",
      "[40]\ttraining's binary_logloss: 0.0381962\tvalid_1's binary_logloss: 0.0772619\n",
      "[60]\ttraining's binary_logloss: 0.021114\tvalid_1's binary_logloss: 0.0641153\n",
      "[80]\ttraining's binary_logloss: 0.0119432\tvalid_1's binary_logloss: 0.0566778\n",
      "[100]\ttraining's binary_logloss: 0.00685338\tvalid_1's binary_logloss: 0.0524361\n",
      "[120]\ttraining's binary_logloss: 0.00396956\tvalid_1's binary_logloss: 0.0510332\n",
      "[140]\ttraining's binary_logloss: 0.00231495\tvalid_1's binary_logloss: 0.0500519\n",
      "[160]\ttraining's binary_logloss: 0.00135258\tvalid_1's binary_logloss: 0.049622\n",
      "[180]\ttraining's binary_logloss: 0.000791242\tvalid_1's binary_logloss: 0.0488052\n"
     ]
    },
    {
     "name": "stderr",
     "output_type": "stream",
     "text": [
      "len(train_index) : 982\n",
      "len(valid_index) : 982\n",
      "================================= 2fold lightgbm =================================\n"
     ]
    },
    {
     "name": "stdout",
     "output_type": "stream",
     "text": [
      "Early stopping, best iteration is:\n",
      "[188]\ttraining's binary_logloss: 0.000640019\tvalid_1's binary_logloss: 0.0485056\n",
      "Training until validation scores don't improve for 10 rounds\n",
      "[20]\ttraining's binary_logloss: 0.0729424\tvalid_1's binary_logloss: 0.102933\n",
      "[40]\ttraining's binary_logloss: 0.0389243\tvalid_1's binary_logloss: 0.0742938\n",
      "[60]\ttraining's binary_logloss: 0.0219018\tvalid_1's binary_logloss: 0.0595949\n",
      "[80]\ttraining's binary_logloss: 0.0126409\tvalid_1's binary_logloss: 0.0495798\n",
      "[100]\ttraining's binary_logloss: 0.00733892\tvalid_1's binary_logloss: 0.0441753\n",
      "[120]\ttraining's binary_logloss: 0.0042707\tvalid_1's binary_logloss: 0.0410729\n",
      "[140]\ttraining's binary_logloss: 0.00248463\tvalid_1's binary_logloss: 0.040222\n",
      "[160]\ttraining's binary_logloss: 0.00144421\tvalid_1's binary_logloss: 0.0387333\n",
      "[180]\ttraining's binary_logloss: 0.00084533\tvalid_1's binary_logloss: 0.0374917\n"
     ]
    },
    {
     "name": "stderr",
     "output_type": "stream",
     "text": [
      "potassium_channel_antagonist logloss: 0.042881066749346566\n",
      "=========================================================================================\n",
      "len(trt) : 115\n",
      "len(train_index) : 990\n",
      "len(valid_index) : 991\n",
      "================================= 1fold lightgbm =================================\n"
     ]
    },
    {
     "name": "stdout",
     "output_type": "stream",
     "text": [
      "Early stopping, best iteration is:\n",
      "[186]\ttraining's binary_logloss: 0.000719095\tvalid_1's binary_logloss: 0.0372565\n",
      "Training until validation scores don't improve for 10 rounds\n",
      "[20]\ttraining's binary_logloss: 0.0821797\tvalid_1's binary_logloss: 0.114736\n",
      "[40]\ttraining's binary_logloss: 0.0437763\tvalid_1's binary_logloss: 0.0847934\n",
      "[60]\ttraining's binary_logloss: 0.0243012\tvalid_1's binary_logloss: 0.0675131\n",
      "[80]\ttraining's binary_logloss: 0.0136217\tvalid_1's binary_logloss: 0.0559878\n",
      "[100]\ttraining's binary_logloss: 0.00774577\tvalid_1's binary_logloss: 0.0486572\n",
      "[120]\ttraining's binary_logloss: 0.00445113\tvalid_1's binary_logloss: 0.0445547\n",
      "[140]\ttraining's binary_logloss: 0.00256938\tvalid_1's binary_logloss: 0.0413888\n",
      "[160]\ttraining's binary_logloss: 0.00147421\tvalid_1's binary_logloss: 0.0396143\n",
      "[180]\ttraining's binary_logloss: 0.000843518\tvalid_1's binary_logloss: 0.038306\n",
      "[200]\ttraining's binary_logloss: 0.000484591\tvalid_1's binary_logloss: 0.0372533\n",
      "[220]\ttraining's binary_logloss: 0.000278982\tvalid_1's binary_logloss: 0.0366108\n",
      "[240]\ttraining's binary_logloss: 0.000160013\tvalid_1's binary_logloss: 0.0362872\n"
     ]
    },
    {
     "name": "stderr",
     "output_type": "stream",
     "text": [
      "len(train_index) : 991\n",
      "len(valid_index) : 990\n",
      "================================= 2fold lightgbm =================================\n"
     ]
    },
    {
     "name": "stdout",
     "output_type": "stream",
     "text": [
      "[260]\ttraining's binary_logloss: 9.25024e-05\tvalid_1's binary_logloss: 0.0360069\n",
      "Early stopping, best iteration is:\n",
      "[250]\ttraining's binary_logloss: 0.000121797\tvalid_1's binary_logloss: 0.0359355\n",
      "Training until validation scores don't improve for 10 rounds\n",
      "[20]\ttraining's binary_logloss: 0.0831946\tvalid_1's binary_logloss: 0.113426\n",
      "[40]\ttraining's binary_logloss: 0.0440506\tvalid_1's binary_logloss: 0.0812812\n",
      "[60]\ttraining's binary_logloss: 0.0244978\tvalid_1's binary_logloss: 0.0642717\n",
      "[80]\ttraining's binary_logloss: 0.0139073\tvalid_1's binary_logloss: 0.0548707\n",
      "[100]\ttraining's binary_logloss: 0.00797778\tvalid_1's binary_logloss: 0.0484449\n",
      "[120]\ttraining's binary_logloss: 0.00459739\tvalid_1's binary_logloss: 0.0439592\n",
      "[140]\ttraining's binary_logloss: 0.00265831\tvalid_1's binary_logloss: 0.0414997\n",
      "[160]\ttraining's binary_logloss: 0.00154385\tvalid_1's binary_logloss: 0.0407875\n"
     ]
    },
    {
     "name": "stderr",
     "output_type": "stream",
     "text": [
      "ppar_receptor_agonist logloss: 0.038019005409652994\n"
     ]
    },
    {
     "name": "stdout",
     "output_type": "stream",
     "text": [
      "[180]\ttraining's binary_logloss: 0.000900076\tvalid_1's binary_logloss: 0.0403719\n",
      "Early stopping, best iteration is:\n",
      "[175]\ttraining's binary_logloss: 0.00103045\tvalid_1's binary_logloss: 0.0401046\n"
     ]
    },
    {
     "name": "stderr",
     "output_type": "stream",
     "text": [
      "=========================================================================================\n",
      "len(trt) : 30\n",
      "len(train_index) : 948\n",
      "len(valid_index) : 948\n",
      "================================= 1fold lightgbm =================================\n"
     ]
    },
    {
     "name": "stdout",
     "output_type": "stream",
     "text": [
      "Training until validation scores don't improve for 10 rounds\n",
      "[20]\ttraining's binary_logloss: 0.0263529\tvalid_1's binary_logloss: 0.0552702\n",
      "[40]\ttraining's binary_logloss: 0.0135579\tvalid_1's binary_logloss: 0.0520915\n",
      "[60]\ttraining's binary_logloss: 0.00764439\tvalid_1's binary_logloss: 0.0506121\n"
     ]
    },
    {
     "name": "stderr",
     "output_type": "stream",
     "text": [
      "len(train_index) : 948\n",
      "len(valid_index) : 948\n",
      "================================= 2fold lightgbm =================================\n"
     ]
    },
    {
     "name": "stdout",
     "output_type": "stream",
     "text": [
      "Early stopping, best iteration is:\n",
      "[65]\ttraining's binary_logloss: 0.00662301\tvalid_1's binary_logloss: 0.0503055\n",
      "Training until validation scores don't improve for 10 rounds\n",
      "[20]\ttraining's binary_logloss: 0.0259838\tvalid_1's binary_logloss: 0.0597426\n",
      "[40]\ttraining's binary_logloss: 0.0136195\tvalid_1's binary_logloss: 0.0522711\n",
      "[60]\ttraining's binary_logloss: 0.00764008\tvalid_1's binary_logloss: 0.0493291\n"
     ]
    },
    {
     "name": "stderr",
     "output_type": "stream",
     "text": [
      "ppar_receptor_antagonist logloss: 0.04943315961315413\n",
      "=========================================================================================\n",
      "len(trt) : 119\n",
      "len(train_index) : 992\n",
      "len(valid_index) : 993\n",
      "================================= 1fold lightgbm =================================\n"
     ]
    },
    {
     "name": "stdout",
     "output_type": "stream",
     "text": [
      "[80]\ttraining's binary_logloss: 0.00436758\tvalid_1's binary_logloss: 0.0486892\n",
      "Early stopping, best iteration is:\n",
      "[71]\ttraining's binary_logloss: 0.0056148\tvalid_1's binary_logloss: 0.0485608\n",
      "Training until validation scores don't improve for 10 rounds\n",
      "[20]\ttraining's binary_logloss: 0.0829639\tvalid_1's binary_logloss: 0.119465\n",
      "[40]\ttraining's binary_logloss: 0.0436873\tvalid_1's binary_logloss: 0.0886983\n",
      "[60]\ttraining's binary_logloss: 0.024045\tvalid_1's binary_logloss: 0.071956\n",
      "[80]\ttraining's binary_logloss: 0.0136599\tvalid_1's binary_logloss: 0.0627606\n",
      "[100]\ttraining's binary_logloss: 0.00787415\tvalid_1's binary_logloss: 0.0574055\n",
      "[120]\ttraining's binary_logloss: 0.00451217\tvalid_1's binary_logloss: 0.0536452\n",
      "[140]\ttraining's binary_logloss: 0.00259719\tvalid_1's binary_logloss: 0.0504469\n",
      "[160]\ttraining's binary_logloss: 0.00147013\tvalid_1's binary_logloss: 0.0465706\n",
      "[180]\ttraining's binary_logloss: 0.000836522\tvalid_1's binary_logloss: 0.0439589\n",
      "[200]\ttraining's binary_logloss: 0.00047923\tvalid_1's binary_logloss: 0.042357\n",
      "[220]\ttraining's binary_logloss: 0.000275818\tvalid_1's binary_logloss: 0.0414322\n",
      "[240]\ttraining's binary_logloss: 0.000158376\tvalid_1's binary_logloss: 0.0402984\n",
      "[260]\ttraining's binary_logloss: 9.17218e-05\tvalid_1's binary_logloss: 0.0399251\n",
      "Early stopping, best iteration is:\n",
      "[256]\ttraining's binary_logloss: 0.000102105\tvalid_1's binary_logloss: 0.039759\n"
     ]
    },
    {
     "name": "stderr",
     "output_type": "stream",
     "text": [
      "len(train_index) : 993\n",
      "len(valid_index) : 992\n",
      "================================= 2fold lightgbm =================================\n"
     ]
    },
    {
     "name": "stdout",
     "output_type": "stream",
     "text": [
      "Training until validation scores don't improve for 10 rounds\n",
      "[20]\ttraining's binary_logloss: 0.0852623\tvalid_1's binary_logloss: 0.110612\n",
      "[40]\ttraining's binary_logloss: 0.0452811\tvalid_1's binary_logloss: 0.0779514\n",
      "[60]\ttraining's binary_logloss: 0.0252076\tvalid_1's binary_logloss: 0.0625637\n",
      "[80]\ttraining's binary_logloss: 0.0143826\tvalid_1's binary_logloss: 0.0545464\n",
      "[100]\ttraining's binary_logloss: 0.0082662\tvalid_1's binary_logloss: 0.0493548\n",
      "[120]\ttraining's binary_logloss: 0.00480285\tvalid_1's binary_logloss: 0.0467363\n",
      "[140]\ttraining's binary_logloss: 0.00280115\tvalid_1's binary_logloss: 0.0448135\n",
      "[160]\ttraining's binary_logloss: 0.00164304\tvalid_1's binary_logloss: 0.0435294\n"
     ]
    },
    {
     "name": "stderr",
     "output_type": "stream",
     "text": [
      "progesterone_receptor_agonist logloss: 0.04145707285787331\n",
      "=========================================================================================\n",
      "len(trt) : 18\n",
      "len(train_index) : 942\n",
      "len(valid_index) : 942\n",
      "================================= 1fold lightgbm =================================\n"
     ]
    },
    {
     "name": "stdout",
     "output_type": "stream",
     "text": [
      "Early stopping, best iteration is:\n",
      "[166]\ttraining's binary_logloss: 0.00139779\tvalid_1's binary_logloss: 0.0431569\n",
      "Training until validation scores don't improve for 10 rounds\n",
      "[20]\ttraining's binary_logloss: 0.015404\tvalid_1's binary_logloss: 0.0389541\n",
      "[40]\ttraining's binary_logloss: 0.00818487\tvalid_1's binary_logloss: 0.0360178\n"
     ]
    },
    {
     "name": "stderr",
     "output_type": "stream",
     "text": [
      "len(train_index) : 942\n",
      "len(valid_index) : 942\n",
      "================================= 2fold lightgbm =================================\n"
     ]
    },
    {
     "name": "stdout",
     "output_type": "stream",
     "text": [
      "[60]\ttraining's binary_logloss: 0.00457155\tvalid_1's binary_logloss: 0.0360454\n",
      "Early stopping, best iteration is:\n",
      "[51]\ttraining's binary_logloss: 0.00592925\tvalid_1's binary_logloss: 0.0354197\n",
      "Training until validation scores don't improve for 10 rounds\n",
      "[20]\ttraining's binary_logloss: 0.0161475\tvalid_1's binary_logloss: 0.0439921\n",
      "[40]\ttraining's binary_logloss: 0.00842136\tvalid_1's binary_logloss: 0.0420392\n"
     ]
    },
    {
     "name": "stderr",
     "output_type": "stream",
     "text": [
      "progesterone_receptor_antagonist logloss: 0.03838143381300198\n",
      "=========================================================================================\n"
     ]
    },
    {
     "name": "stdout",
     "output_type": "stream",
     "text": [
      "[60]\ttraining's binary_logloss: 0.00464014\tvalid_1's binary_logloss: 0.0418245\n",
      "Early stopping, best iteration is:\n",
      "[55]\ttraining's binary_logloss: 0.00537172\tvalid_1's binary_logloss: 0.0413432\n"
     ]
    },
    {
     "name": "stderr",
     "output_type": "stream",
     "text": [
      "len(trt) : 36\n",
      "len(train_index) : 951\n",
      "len(valid_index) : 951\n",
      "================================= 1fold lightgbm =================================\n"
     ]
    },
    {
     "name": "stdout",
     "output_type": "stream",
     "text": [
      "Training until validation scores don't improve for 10 rounds\n",
      "[20]\ttraining's binary_logloss: 0.0322483\tvalid_1's binary_logloss: 0.073056\n"
     ]
    },
    {
     "name": "stderr",
     "output_type": "stream",
     "text": [
      "len(train_index) : 951\n",
      "len(valid_index) : 951\n",
      "================================= 2fold lightgbm =================================\n"
     ]
    },
    {
     "name": "stdout",
     "output_type": "stream",
     "text": [
      "[40]\ttraining's binary_logloss: 0.0171276\tvalid_1's binary_logloss: 0.0710152\n",
      "Early stopping, best iteration is:\n",
      "[33]\ttraining's binary_logloss: 0.0211432\tvalid_1's binary_logloss: 0.0709933\n",
      "Training until validation scores don't improve for 10 rounds\n",
      "[20]\ttraining's binary_logloss: 0.0314438\tvalid_1's binary_logloss: 0.069637\n",
      "[40]\ttraining's binary_logloss: 0.0167055\tvalid_1's binary_logloss: 0.0655528\n"
     ]
    },
    {
     "name": "stderr",
     "output_type": "stream",
     "text": [
      "prostaglandin_inhibitor logloss: 0.06782838547838937\n",
      "=========================================================================================\n",
      "len(trt) : 84\n",
      "len(train_index) : 975\n",
      "len(valid_index) : 975\n",
      "================================= 1fold lightgbm =================================\n"
     ]
    },
    {
     "name": "stdout",
     "output_type": "stream",
     "text": [
      "[60]\ttraining's binary_logloss: 0.00948963\tvalid_1's binary_logloss: 0.0651973\n",
      "Early stopping, best iteration is:\n",
      "[52]\ttraining's binary_logloss: 0.0118615\tvalid_1's binary_logloss: 0.0646635\n",
      "Training until validation scores don't improve for 10 rounds\n",
      "[20]\ttraining's binary_logloss: 0.0659236\tvalid_1's binary_logloss: 0.0950752\n",
      "[40]\ttraining's binary_logloss: 0.0353512\tvalid_1's binary_logloss: 0.0711518\n",
      "[60]\ttraining's binary_logloss: 0.0200211\tvalid_1's binary_logloss: 0.0584241\n",
      "[80]\ttraining's binary_logloss: 0.011578\tvalid_1's binary_logloss: 0.050238\n",
      "[100]\ttraining's binary_logloss: 0.00675711\tvalid_1's binary_logloss: 0.0453768\n",
      "[120]\ttraining's binary_logloss: 0.00392882\tvalid_1's binary_logloss: 0.0429952\n",
      "[140]\ttraining's binary_logloss: 0.00231103\tvalid_1's binary_logloss: 0.0414287\n",
      "[160]\ttraining's binary_logloss: 0.0013572\tvalid_1's binary_logloss: 0.0409926\n",
      "Early stopping, best iteration is:\n",
      "[156]\ttraining's binary_logloss: 0.0015107\tvalid_1's binary_logloss: 0.0409547\n"
     ]
    },
    {
     "name": "stderr",
     "output_type": "stream",
     "text": [
      "len(train_index) : 975\n",
      "len(valid_index) : 975\n",
      "================================= 2fold lightgbm =================================\n"
     ]
    },
    {
     "name": "stdout",
     "output_type": "stream",
     "text": [
      "Training until validation scores don't improve for 10 rounds\n",
      "[20]\ttraining's binary_logloss: 0.061395\tvalid_1's binary_logloss: 0.0972013\n",
      "[40]\ttraining's binary_logloss: 0.0325723\tvalid_1's binary_logloss: 0.0775625\n",
      "[60]\ttraining's binary_logloss: 0.0181582\tvalid_1's binary_logloss: 0.0671347\n",
      "[80]\ttraining's binary_logloss: 0.0103379\tvalid_1's binary_logloss: 0.0624574\n",
      "[100]\ttraining's binary_logloss: 0.00596762\tvalid_1's binary_logloss: 0.0600363\n",
      "[120]\ttraining's binary_logloss: 0.00346612\tvalid_1's binary_logloss: 0.0593645\n",
      "Early stopping, best iteration is:\n",
      "[118]\ttraining's binary_logloss: 0.00366101\tvalid_1's binary_logloss: 0.0591085\n"
     ]
    },
    {
     "name": "stderr",
     "output_type": "stream",
     "text": [
      "prostanoid_receptor_antagonist logloss: 0.050031631022248585\n",
      "=========================================================================================\n",
      "len(trt) : 726\n",
      "len(train_index) : 1296\n",
      "len(valid_index) : 1296\n",
      "================================= 1fold lightgbm =================================\n"
     ]
    },
    {
     "name": "stdout",
     "output_type": "stream",
     "text": [
      "Training until validation scores don't improve for 10 rounds\n",
      "[20]\ttraining's binary_logloss: 0.258475\tvalid_1's binary_logloss: 0.258475\n",
      "[40]\ttraining's binary_logloss: 0.130454\tvalid_1's binary_logloss: 0.130454\n",
      "[60]\ttraining's binary_logloss: 0.06881\tvalid_1's binary_logloss: 0.06881\n",
      "[80]\ttraining's binary_logloss: 0.0370039\tvalid_1's binary_logloss: 0.0370039\n",
      "[100]\ttraining's binary_logloss: 0.0200906\tvalid_1's binary_logloss: 0.0200906\n",
      "[120]\ttraining's binary_logloss: 0.0109621\tvalid_1's binary_logloss: 0.0109621\n",
      "[140]\ttraining's binary_logloss: 0.00599719\tvalid_1's binary_logloss: 0.00599719\n",
      "[160]\ttraining's binary_logloss: 0.00328567\tvalid_1's binary_logloss: 0.00328567\n",
      "[180]\ttraining's binary_logloss: 0.00180151\tvalid_1's binary_logloss: 0.00180151\n",
      "[200]\ttraining's binary_logloss: 0.000988182\tvalid_1's binary_logloss: 0.000988182\n",
      "[220]\ttraining's binary_logloss: 0.000542172\tvalid_1's binary_logloss: 0.000542172\n",
      "[240]\ttraining's binary_logloss: 0.000297504\tvalid_1's binary_logloss: 0.000297504\n",
      "[260]\ttraining's binary_logloss: 0.00016326\tvalid_1's binary_logloss: 0.00016326\n",
      "[280]\ttraining's binary_logloss: 8.95947e-05\tvalid_1's binary_logloss: 8.95947e-05\n",
      "[300]\ttraining's binary_logloss: 4.91694e-05\tvalid_1's binary_logloss: 4.91694e-05\n",
      "[320]\ttraining's binary_logloss: 2.69843e-05\tvalid_1's binary_logloss: 2.69843e-05\n",
      "[340]\ttraining's binary_logloss: 1.48092e-05\tvalid_1's binary_logloss: 1.48092e-05\n",
      "[360]\ttraining's binary_logloss: 8.12743e-06\tvalid_1's binary_logloss: 8.12743e-06\n",
      "[380]\ttraining's binary_logloss: 4.46042e-06\tvalid_1's binary_logloss: 4.46042e-06\n",
      "[400]\ttraining's binary_logloss: 2.44793e-06\tvalid_1's binary_logloss: 2.44793e-06\n"
     ]
    },
    {
     "name": "stderr",
     "output_type": "stream",
     "text": [
      "len(train_index) : 1296\n",
      "len(valid_index) : 1296\n",
      "================================= 2fold lightgbm =================================\n"
     ]
    },
    {
     "name": "stdout",
     "output_type": "stream",
     "text": [
      "[420]\ttraining's binary_logloss: 1.51473e-06\tvalid_1's binary_logloss: 1.51473e-06\n",
      "Early stopping, best iteration is:\n",
      "[416]\ttraining's binary_logloss: 1.51473e-06\tvalid_1's binary_logloss: 1.51473e-06\n",
      "Training until validation scores don't improve for 10 rounds\n",
      "[20]\ttraining's binary_logloss: 0.258475\tvalid_1's binary_logloss: 0.258475\n",
      "[40]\ttraining's binary_logloss: 0.130454\tvalid_1's binary_logloss: 0.130454\n",
      "[60]\ttraining's binary_logloss: 0.06881\tvalid_1's binary_logloss: 0.06881\n",
      "[80]\ttraining's binary_logloss: 0.0370039\tvalid_1's binary_logloss: 0.0370039\n",
      "[100]\ttraining's binary_logloss: 0.0200906\tvalid_1's binary_logloss: 0.0200941\n",
      "[120]\ttraining's binary_logloss: 0.0109621\tvalid_1's binary_logloss: 0.0109663\n",
      "[140]\ttraining's binary_logloss: 0.00599719\tvalid_1's binary_logloss: 0.00599946\n",
      "[160]\ttraining's binary_logloss: 0.00328567\tvalid_1's binary_logloss: 0.00328691\n",
      "[180]\ttraining's binary_logloss: 0.00180151\tvalid_1's binary_logloss: 0.00180239\n",
      "[200]\ttraining's binary_logloss: 0.000988182\tvalid_1's binary_logloss: 0.000988665\n",
      "[220]\ttraining's binary_logloss: 0.000542172\tvalid_1's binary_logloss: 0.000542437\n",
      "[240]\ttraining's binary_logloss: 0.000297504\tvalid_1's binary_logloss: 0.00029765\n",
      "[260]\ttraining's binary_logloss: 0.00016326\tvalid_1's binary_logloss: 0.00016334\n",
      "[280]\ttraining's binary_logloss: 8.95947e-05\tvalid_1's binary_logloss: 8.96386e-05\n",
      "[300]\ttraining's binary_logloss: 4.91694e-05\tvalid_1's binary_logloss: 4.91934e-05\n",
      "[320]\ttraining's binary_logloss: 2.69843e-05\tvalid_1's binary_logloss: 2.69975e-05\n",
      "[340]\ttraining's binary_logloss: 1.48092e-05\tvalid_1's binary_logloss: 1.48165e-05\n",
      "[360]\ttraining's binary_logloss: 8.12743e-06\tvalid_1's binary_logloss: 8.13141e-06\n",
      "[380]\ttraining's binary_logloss: 4.46042e-06\tvalid_1's binary_logloss: 4.4626e-06\n",
      "[400]\ttraining's binary_logloss: 2.44793e-06\tvalid_1's binary_logloss: 2.44912e-06\n"
     ]
    },
    {
     "name": "stderr",
     "output_type": "stream",
     "text": [
      "proteasome_inhibitor logloss: 1.51510551108395e-06\n",
      "=========================================================================================\n",
      "len(trt) : 48\n",
      "len(train_index) : 957\n"
     ]
    },
    {
     "name": "stdout",
     "output_type": "stream",
     "text": [
      "[420]\ttraining's binary_logloss: 1.51473e-06\tvalid_1's binary_logloss: 1.51548e-06\n",
      "Early stopping, best iteration is:\n",
      "[416]\ttraining's binary_logloss: 1.51473e-06\tvalid_1's binary_logloss: 1.51548e-06\n"
     ]
    },
    {
     "name": "stderr",
     "output_type": "stream",
     "text": [
      "len(valid_index) : 957\n",
      "================================= 1fold lightgbm =================================\n"
     ]
    },
    {
     "name": "stdout",
     "output_type": "stream",
     "text": [
      "Training until validation scores don't improve for 10 rounds\n",
      "[20]\ttraining's binary_logloss: 0.0423261\tvalid_1's binary_logloss: 0.0808561\n",
      "[40]\ttraining's binary_logloss: 0.02274\tvalid_1's binary_logloss: 0.0701707\n",
      "[60]\ttraining's binary_logloss: 0.0129031\tvalid_1's binary_logloss: 0.0652051\n",
      "[80]\ttraining's binary_logloss: 0.00750955\tvalid_1's binary_logloss: 0.0633408\n",
      "Early stopping, best iteration is:\n",
      "[76]\ttraining's binary_logloss: 0.00838824\tvalid_1's binary_logloss: 0.0631161\n"
     ]
    },
    {
     "name": "stderr",
     "output_type": "stream",
     "text": [
      "len(train_index) : 957\n",
      "len(valid_index) : 957\n",
      "================================= 2fold lightgbm =================================\n"
     ]
    },
    {
     "name": "stdout",
     "output_type": "stream",
     "text": [
      "Training until validation scores don't improve for 10 rounds\n",
      "[20]\ttraining's binary_logloss: 0.0413162\tvalid_1's binary_logloss: 0.0854958\n",
      "[40]\ttraining's binary_logloss: 0.0221874\tvalid_1's binary_logloss: 0.0778633\n",
      "[60]\ttraining's binary_logloss: 0.0125852\tvalid_1's binary_logloss: 0.0738544\n"
     ]
    },
    {
     "name": "stderr",
     "output_type": "stream",
     "text": [
      "protein_kinase_inhibitor logloss: 0.06806517475198717\n",
      "=========================================================================================\n",
      "len(trt) : 6\n",
      "len(train_index) : 936\n",
      "len(valid_index) : 936\n",
      "================================= 1fold lightgbm =================================\n"
     ]
    },
    {
     "name": "stdout",
     "output_type": "stream",
     "text": [
      "Early stopping, best iteration is:\n",
      "[69]\ttraining's binary_logloss: 0.00986682\tvalid_1's binary_logloss: 0.0730143\n",
      "Training until validation scores don't improve for 10 rounds\n",
      "[20]\ttraining's binary_logloss: 0.00517381\tvalid_1's binary_logloss: 0.0150881\n",
      "[40]\ttraining's binary_logloss: 0.00256117\tvalid_1's binary_logloss: 0.0135927\n",
      "[60]\ttraining's binary_logloss: 0.00136924\tvalid_1's binary_logloss: 0.0131058\n",
      "Early stopping, best iteration is:\n",
      "[61]\ttraining's binary_logloss: 0.001328\tvalid_1's binary_logloss: 0.013045\n"
     ]
    },
    {
     "name": "stderr",
     "output_type": "stream",
     "text": [
      "len(train_index) : 936\n",
      "len(valid_index) : 936\n",
      "================================= 2fold lightgbm =================================\n"
     ]
    },
    {
     "name": "stdout",
     "output_type": "stream",
     "text": [
      "Training until validation scores don't improve for 10 rounds\n",
      "[20]\ttraining's binary_logloss: 0.00520586\tvalid_1's binary_logloss: 0.0123479\n"
     ]
    },
    {
     "name": "stderr",
     "output_type": "stream",
     "text": [
      "protein_phosphatase_inhibitor logloss: 0.012321846132862111\n",
      "=========================================================================================\n",
      "len(trt) : 103\n",
      "len(train_index) : 984\n",
      "len(valid_index) : 985\n",
      "================================= 1fold lightgbm =================================\n"
     ]
    },
    {
     "name": "stdout",
     "output_type": "stream",
     "text": [
      "Early stopping, best iteration is:\n",
      "[28]\ttraining's binary_logloss: 0.0038685\tvalid_1's binary_logloss: 0.0115987\n",
      "Training until validation scores don't improve for 10 rounds\n",
      "[20]\ttraining's binary_logloss: 0.0720126\tvalid_1's binary_logloss: 0.11399\n",
      "[40]\ttraining's binary_logloss: 0.0374705\tvalid_1's binary_logloss: 0.0879993\n",
      "[60]\ttraining's binary_logloss: 0.0207025\tvalid_1's binary_logloss: 0.0743722\n",
      "[80]\ttraining's binary_logloss: 0.0116274\tvalid_1's binary_logloss: 0.0643822\n",
      "[100]\ttraining's binary_logloss: 0.00662834\tvalid_1's binary_logloss: 0.0595682\n",
      "[120]\ttraining's binary_logloss: 0.00381787\tvalid_1's binary_logloss: 0.0569999\n",
      "[140]\ttraining's binary_logloss: 0.00220202\tvalid_1's binary_logloss: 0.0554345\n",
      "[160]\ttraining's binary_logloss: 0.00127449\tvalid_1's binary_logloss: 0.0546236\n"
     ]
    },
    {
     "name": "stderr",
     "output_type": "stream",
     "text": [
      "len(train_index) : 985\n",
      "len(valid_index) : 984\n",
      "================================= 2fold lightgbm =================================\n"
     ]
    },
    {
     "name": "stdout",
     "output_type": "stream",
     "text": [
      "Early stopping, best iteration is:\n",
      "[166]\ttraining's binary_logloss: 0.00107899\tvalid_1's binary_logloss: 0.0540574\n",
      "Training until validation scores don't improve for 10 rounds\n",
      "[20]\ttraining's binary_logloss: 0.0750122\tvalid_1's binary_logloss: 0.104055\n",
      "[40]\ttraining's binary_logloss: 0.0396158\tvalid_1's binary_logloss: 0.0760993\n",
      "[60]\ttraining's binary_logloss: 0.0218271\tvalid_1's binary_logloss: 0.0605177\n",
      "[80]\ttraining's binary_logloss: 0.0123209\tvalid_1's binary_logloss: 0.0522861\n",
      "[100]\ttraining's binary_logloss: 0.00707059\tvalid_1's binary_logloss: 0.046785\n",
      "[120]\ttraining's binary_logloss: 0.00407208\tvalid_1's binary_logloss: 0.0435681\n",
      "[140]\ttraining's binary_logloss: 0.00235315\tvalid_1's binary_logloss: 0.0421096\n",
      "[160]\ttraining's binary_logloss: 0.00135849\tvalid_1's binary_logloss: 0.041165\n",
      "[180]\ttraining's binary_logloss: 0.000787856\tvalid_1's binary_logloss: 0.0407662\n"
     ]
    },
    {
     "name": "stderr",
     "output_type": "stream",
     "text": [
      "protein_synthesis_inhibitor logloss: 0.04730556401352997\n",
      "=========================================================================================\n",
      "len(trt) : 19\n",
      "len(train_index) : 942\n",
      "len(valid_index) : 943\n",
      "================================= 1fold lightgbm =================================\n"
     ]
    },
    {
     "name": "stdout",
     "output_type": "stream",
     "text": [
      "Early stopping, best iteration is:\n",
      "[184]\ttraining's binary_logloss: 0.000706631\tvalid_1's binary_logloss: 0.0405468\n",
      "Training until validation scores don't improve for 10 rounds\n",
      "[20]\ttraining's binary_logloss: 0.0162084\tvalid_1's binary_logloss: 0.0497469\n",
      "[40]\ttraining's binary_logloss: 0.00840358\tvalid_1's binary_logloss: 0.0464921\n",
      "[60]\ttraining's binary_logloss: 0.0046394\tvalid_1's binary_logloss: 0.0456651\n",
      "[80]\ttraining's binary_logloss: 0.00261958\tvalid_1's binary_logloss: 0.0458158\n",
      "Early stopping, best iteration is:\n",
      "[73]\ttraining's binary_logloss: 0.00319528\tvalid_1's binary_logloss: 0.0451272\n"
     ]
    },
    {
     "name": "stderr",
     "output_type": "stream",
     "text": [
      "len(train_index) : 943\n",
      "len(valid_index) : 942\n",
      "================================= 2fold lightgbm =================================\n"
     ]
    },
    {
     "name": "stdout",
     "output_type": "stream",
     "text": [
      "Training until validation scores don't improve for 10 rounds\n",
      "[20]\ttraining's binary_logloss: 0.01673\tvalid_1's binary_logloss: 0.0432304\n",
      "[40]\ttraining's binary_logloss: 0.00870562\tvalid_1's binary_logloss: 0.0404368\n",
      "[60]\ttraining's binary_logloss: 0.00479565\tvalid_1's binary_logloss: 0.0386178\n"
     ]
    },
    {
     "name": "stderr",
     "output_type": "stream",
     "text": [
      "protein_tyrosine_kinase_inhibitor logloss: 0.04186469045783155\n",
      "=========================================================================================\n",
      "len(trt) : 56\n",
      "len(train_index) : 961\n",
      "len(valid_index) : 961\n",
      "================================= 1fold lightgbm =================================\n"
     ]
    },
    {
     "name": "stdout",
     "output_type": "stream",
     "text": [
      "Early stopping, best iteration is:\n",
      "[64]\ttraining's binary_logloss: 0.00427457\tvalid_1's binary_logloss: 0.0385988\n",
      "Training until validation scores don't improve for 10 rounds\n",
      "[20]\ttraining's binary_logloss: 0.0469378\tvalid_1's binary_logloss: 0.0939624\n",
      "[40]\ttraining's binary_logloss: 0.0251074\tvalid_1's binary_logloss: 0.0791979\n",
      "[60]\ttraining's binary_logloss: 0.0142061\tvalid_1's binary_logloss: 0.0722203\n",
      "[80]\ttraining's binary_logloss: 0.00817477\tvalid_1's binary_logloss: 0.0693529\n",
      "[100]\ttraining's binary_logloss: 0.00478308\tvalid_1's binary_logloss: 0.0680494\n"
     ]
    },
    {
     "name": "stderr",
     "output_type": "stream",
     "text": [
      "len(train_index) : 961\n",
      "len(valid_index) : 961\n"
     ]
    },
    {
     "name": "stdout",
     "output_type": "stream",
     "text": [
      "[120]\ttraining's binary_logloss: 0.00281936\tvalid_1's binary_logloss: 0.0678116\n",
      "Early stopping, best iteration is:\n",
      "[115]\ttraining's binary_logloss: 0.00321615\tvalid_1's binary_logloss: 0.0676562\n"
     ]
    },
    {
     "name": "stderr",
     "output_type": "stream",
     "text": [
      "================================= 2fold lightgbm =================================\n"
     ]
    },
    {
     "name": "stdout",
     "output_type": "stream",
     "text": [
      "Training until validation scores don't improve for 10 rounds\n",
      "[20]\ttraining's binary_logloss: 0.0482248\tvalid_1's binary_logloss: 0.0881838\n",
      "[40]\ttraining's binary_logloss: 0.0254596\tvalid_1's binary_logloss: 0.0735125\n",
      "[60]\ttraining's binary_logloss: 0.0144457\tvalid_1's binary_logloss: 0.0658299\n",
      "[80]\ttraining's binary_logloss: 0.00839932\tvalid_1's binary_logloss: 0.0627773\n",
      "[100]\ttraining's binary_logloss: 0.00496166\tvalid_1's binary_logloss: 0.061417\n"
     ]
    },
    {
     "name": "stderr",
     "output_type": "stream",
     "text": [
      "radiopaque_medium logloss: 0.06440033574440689\n",
      "=========================================================================================\n",
      "len(trt) : 223\n",
      "len(train_index) : 1044\n",
      "len(valid_index) : 1045\n",
      "================================= 1fold lightgbm =================================\n"
     ]
    },
    {
     "name": "stdout",
     "output_type": "stream",
     "text": [
      "[120]\ttraining's binary_logloss: 0.00294345\tvalid_1's binary_logloss: 0.0618157\n",
      "Early stopping, best iteration is:\n",
      "[110]\ttraining's binary_logloss: 0.00382254\tvalid_1's binary_logloss: 0.0611445\n",
      "Training until validation scores don't improve for 10 rounds\n",
      "[20]\ttraining's binary_logloss: 0.12887\tvalid_1's binary_logloss: 0.132519\n",
      "[40]\ttraining's binary_logloss: 0.066121\tvalid_1's binary_logloss: 0.072475\n",
      "[60]\ttraining's binary_logloss: 0.0356328\tvalid_1's binary_logloss: 0.0440872\n",
      "[80]\ttraining's binary_logloss: 0.019538\tvalid_1's binary_logloss: 0.0296698\n",
      "[100]\ttraining's binary_logloss: 0.0107998\tvalid_1's binary_logloss: 0.0228506\n",
      "[120]\ttraining's binary_logloss: 0.00602585\tvalid_1's binary_logloss: 0.0192155\n",
      "[140]\ttraining's binary_logloss: 0.00337942\tvalid_1's binary_logloss: 0.0173498\n",
      "[160]\ttraining's binary_logloss: 0.00189465\tvalid_1's binary_logloss: 0.0167426\n",
      "Early stopping, best iteration is:\n",
      "[158]\ttraining's binary_logloss: 0.00200674\tvalid_1's binary_logloss: 0.0166671\n"
     ]
    },
    {
     "name": "stderr",
     "output_type": "stream",
     "text": [
      "len(train_index) : 1045\n",
      "len(valid_index) : 1044\n",
      "================================= 2fold lightgbm =================================\n"
     ]
    },
    {
     "name": "stdout",
     "output_type": "stream",
     "text": [
      "Training until validation scores don't improve for 10 rounds\n",
      "[20]\ttraining's binary_logloss: 0.128964\tvalid_1's binary_logloss: 0.135386\n",
      "[40]\ttraining's binary_logloss: 0.0660162\tvalid_1's binary_logloss: 0.0751505\n",
      "[60]\ttraining's binary_logloss: 0.0355181\tvalid_1's binary_logloss: 0.0462115\n",
      "[80]\ttraining's binary_logloss: 0.0195796\tvalid_1's binary_logloss: 0.0312264\n",
      "[100]\ttraining's binary_logloss: 0.0109094\tvalid_1's binary_logloss: 0.0230983\n",
      "[120]\ttraining's binary_logloss: 0.0061054\tvalid_1's binary_logloss: 0.0194683\n",
      "[140]\ttraining's binary_logloss: 0.00343798\tvalid_1's binary_logloss: 0.0172782\n",
      "[160]\ttraining's binary_logloss: 0.00194667\tvalid_1's binary_logloss: 0.0162958\n",
      "[180]\ttraining's binary_logloss: 0.00110027\tvalid_1's binary_logloss: 0.0156571\n",
      "[200]\ttraining's binary_logloss: 0.000622894\tvalid_1's binary_logloss: 0.0151379\n",
      "Early stopping, best iteration is:\n",
      "[195]\ttraining's binary_logloss: 0.00071838\tvalid_1's binary_logloss: 0.015014\n"
     ]
    },
    {
     "name": "stderr",
     "output_type": "stream",
     "text": [
      "raf_inhibitor logloss: 0.015840955839190273\n",
      "=========================================================================================\n",
      "len(trt) : 12\n",
      "len(train_index) : 939\n",
      "len(valid_index) : 939\n",
      "================================= 1fold lightgbm =================================\n"
     ]
    },
    {
     "name": "stdout",
     "output_type": "stream",
     "text": [
      "Training until validation scores don't improve for 10 rounds\n",
      "[20]\ttraining's binary_logloss: 0.00989286\tvalid_1's binary_logloss: 0.0324513\n",
      "[40]\ttraining's binary_logloss: 0.00497983\tvalid_1's binary_logloss: 0.0306769\n",
      "[60]\ttraining's binary_logloss: 0.0026934\tvalid_1's binary_logloss: 0.0299674\n"
     ]
    },
    {
     "name": "stderr",
     "output_type": "stream",
     "text": [
      "len(train_index) : 939\n",
      "len(valid_index) : 939\n",
      "================================= 2fold lightgbm =================================\n"
     ]
    },
    {
     "name": "stdout",
     "output_type": "stream",
     "text": [
      "Early stopping, best iteration is:\n",
      "[63]\ttraining's binary_logloss: 0.00246126\tvalid_1's binary_logloss: 0.0298845\n",
      "Training until validation scores don't improve for 10 rounds\n",
      "[20]\ttraining's binary_logloss: 0.0101851\tvalid_1's binary_logloss: 0.0298995\n",
      "[40]\ttraining's binary_logloss: 0.00513025\tvalid_1's binary_logloss: 0.0292962\n",
      "Early stopping, best iteration is:\n",
      "[36]\ttraining's binary_logloss: 0.00582557\tvalid_1's binary_logloss: 0.0291457\n"
     ]
    },
    {
     "name": "stderr",
     "output_type": "stream",
     "text": [
      "ras_gtpase_inhibitor logloss: 0.029515107972880057\n",
      "=========================================================================================\n",
      "len(trt) : 67\n",
      "len(train_index) : 966\n",
      "len(valid_index) : 967\n",
      "================================= 1fold lightgbm =================================\n"
     ]
    },
    {
     "name": "stdout",
     "output_type": "stream",
     "text": [
      "Training until validation scores don't improve for 10 rounds\n",
      "[20]\ttraining's binary_logloss: 0.0465621\tvalid_1's binary_logloss: 0.0599644\n",
      "[40]\ttraining's binary_logloss: 0.0239473\tvalid_1's binary_logloss: 0.0438287\n",
      "[60]\ttraining's binary_logloss: 0.0131015\tvalid_1's binary_logloss: 0.0355243\n",
      "[80]\ttraining's binary_logloss: 0.00742881\tvalid_1's binary_logloss: 0.0301266\n",
      "[100]\ttraining's binary_logloss: 0.00427307\tvalid_1's binary_logloss: 0.0274077\n",
      "[120]\ttraining's binary_logloss: 0.00246269\tvalid_1's binary_logloss: 0.0256361\n",
      "[140]\ttraining's binary_logloss: 0.00142328\tvalid_1's binary_logloss: 0.0246363\n",
      "[160]\ttraining's binary_logloss: 0.000821281\tvalid_1's binary_logloss: 0.023624\n",
      "[180]\ttraining's binary_logloss: 0.000475517\tvalid_1's binary_logloss: 0.0228865\n"
     ]
    },
    {
     "name": "stderr",
     "output_type": "stream",
     "text": [
      "len(train_index) : 967\n",
      "len(valid_index) : 966\n",
      "================================= 2fold lightgbm =================================\n"
     ]
    },
    {
     "name": "stdout",
     "output_type": "stream",
     "text": [
      "[200]\ttraining's binary_logloss: 0.000275806\tvalid_1's binary_logloss: 0.022571\n",
      "Early stopping, best iteration is:\n",
      "[190]\ttraining's binary_logloss: 0.000362094\tvalid_1's binary_logloss: 0.022557\n",
      "Training until validation scores don't improve for 10 rounds\n",
      "[20]\ttraining's binary_logloss: 0.0475691\tvalid_1's binary_logloss: 0.0667032\n",
      "[40]\ttraining's binary_logloss: 0.0242357\tvalid_1's binary_logloss: 0.0496769\n",
      "[60]\ttraining's binary_logloss: 0.0131491\tvalid_1's binary_logloss: 0.0405634\n",
      "[80]\ttraining's binary_logloss: 0.00729469\tvalid_1's binary_logloss: 0.0350016\n",
      "[100]\ttraining's binary_logloss: 0.00408567\tvalid_1's binary_logloss: 0.0320695\n",
      "[120]\ttraining's binary_logloss: 0.00229625\tvalid_1's binary_logloss: 0.0310605\n"
     ]
    },
    {
     "name": "stderr",
     "output_type": "stream",
     "text": [
      "retinoid_receptor_agonist logloss: 0.026711386213592134\n",
      "=========================================================================================\n",
      "len(trt) : 6\n",
      "len(train_index) : 936\n",
      "len(valid_index) : 936\n",
      "================================= 1fold lightgbm =================================\n"
     ]
    },
    {
     "name": "stdout",
     "output_type": "stream",
     "text": [
      "Early stopping, best iteration is:\n",
      "[122]\ttraining's binary_logloss: 0.00216966\tvalid_1's binary_logloss: 0.03087\n",
      "Training until validation scores don't improve for 10 rounds\n",
      "[20]\ttraining's binary_logloss: 0.00511975\tvalid_1's binary_logloss: 0.0179138\n"
     ]
    },
    {
     "name": "stderr",
     "output_type": "stream",
     "text": [
      "len(train_index) : 936\n",
      "len(valid_index) : 936\n",
      "================================= 2fold lightgbm =================================\n"
     ]
    },
    {
     "name": "stdout",
     "output_type": "stream",
     "text": [
      "Early stopping, best iteration is:\n",
      "[25]\ttraining's binary_logloss: 0.00423655\tvalid_1's binary_logloss: 0.0176982\n",
      "Training until validation scores don't improve for 10 rounds\n",
      "[20]\ttraining's binary_logloss: 0.00539254\tvalid_1's binary_logloss: 0.0160882\n",
      "[40]\ttraining's binary_logloss: 0.00271428\tvalid_1's binary_logloss: 0.0152533\n",
      "[60]\ttraining's binary_logloss: 0.00147906\tvalid_1's binary_logloss: 0.0153517\n",
      "Early stopping, best iteration is:\n",
      "[56]\ttraining's binary_logloss: 0.00166205\tvalid_1's binary_logloss: 0.0151961\n"
     ]
    },
    {
     "name": "stderr",
     "output_type": "stream",
     "text": [
      "retinoid_receptor_antagonist logloss: 0.016447149300139647\n",
      "=========================================================================================\n",
      "len(trt) : 35\n",
      "len(train_index) : 950\n",
      "len(valid_index) : 951\n",
      "================================= 1fold lightgbm =================================\n"
     ]
    },
    {
     "name": "stdout",
     "output_type": "stream",
     "text": [
      "Training until validation scores don't improve for 10 rounds\n",
      "[20]\ttraining's binary_logloss: 0.0284105\tvalid_1's binary_logloss: 0.0616937\n",
      "[40]\ttraining's binary_logloss: 0.0148799\tvalid_1's binary_logloss: 0.0534319\n",
      "[60]\ttraining's binary_logloss: 0.00828372\tvalid_1's binary_logloss: 0.0489297\n",
      "[80]\ttraining's binary_logloss: 0.00469023\tvalid_1's binary_logloss: 0.047772\n",
      "[100]\ttraining's binary_logloss: 0.00270259\tvalid_1's binary_logloss: 0.0474046\n",
      "Early stopping, best iteration is:\n",
      "[97]\ttraining's binary_logloss: 0.00293421\tvalid_1's binary_logloss: 0.0472823\n"
     ]
    },
    {
     "name": "stderr",
     "output_type": "stream",
     "text": [
      "len(train_index) : 951\n",
      "len(valid_index) : 950\n",
      "================================= 2fold lightgbm =================================\n"
     ]
    },
    {
     "name": "stdout",
     "output_type": "stream",
     "text": [
      "Training until validation scores don't improve for 10 rounds\n",
      "[20]\ttraining's binary_logloss: 0.0303678\tvalid_1's binary_logloss: 0.0527052\n",
      "[40]\ttraining's binary_logloss: 0.0157224\tvalid_1's binary_logloss: 0.0432589\n",
      "[60]\ttraining's binary_logloss: 0.00866307\tvalid_1's binary_logloss: 0.0394038\n",
      "[80]\ttraining's binary_logloss: 0.00487853\tvalid_1's binary_logloss: 0.0385919\n"
     ]
    },
    {
     "name": "stderr",
     "output_type": "stream",
     "text": [
      "rho_associated_kinase_inhibitor logloss: 0.04270710902683854\n",
      "=========================================================================================\n",
      "len(trt) : 37\n",
      "len(train_index) : 951\n",
      "len(valid_index) : 952\n",
      "================================= 1fold lightgbm =================================\n"
     ]
    },
    {
     "name": "stdout",
     "output_type": "stream",
     "text": [
      "[100]\ttraining's binary_logloss: 0.00277178\tvalid_1's binary_logloss: 0.0384328\n",
      "Early stopping, best iteration is:\n",
      "[90]\ttraining's binary_logloss: 0.00367959\tvalid_1's binary_logloss: 0.0381271\n",
      "Training until validation scores don't improve for 10 rounds\n",
      "[20]\ttraining's binary_logloss: 0.0286518\tvalid_1's binary_logloss: 0.05522\n",
      "[40]\ttraining's binary_logloss: 0.0146612\tvalid_1's binary_logloss: 0.0502361\n",
      "[60]\ttraining's binary_logloss: 0.00798031\tvalid_1's binary_logloss: 0.0479659\n"
     ]
    },
    {
     "name": "stderr",
     "output_type": "stream",
     "text": [
      "len(train_index) : 952\n",
      "len(valid_index) : 951\n",
      "================================= 2fold lightgbm =================================\n"
     ]
    },
    {
     "name": "stdout",
     "output_type": "stream",
     "text": [
      "Early stopping, best iteration is:\n",
      "[62]\ttraining's binary_logloss: 0.00752273\tvalid_1's binary_logloss: 0.047899\n",
      "Training until validation scores don't improve for 10 rounds\n",
      "[20]\ttraining's binary_logloss: 0.0320339\tvalid_1's binary_logloss: 0.0555825\n",
      "[40]\ttraining's binary_logloss: 0.0165376\tvalid_1's binary_logloss: 0.0456089\n",
      "[60]\ttraining's binary_logloss: 0.00908224\tvalid_1's binary_logloss: 0.0403935\n",
      "[80]\ttraining's binary_logloss: 0.00514943\tvalid_1's binary_logloss: 0.0388147\n",
      "[100]\ttraining's binary_logloss: 0.00295807\tvalid_1's binary_logloss: 0.0384156\n"
     ]
    },
    {
     "name": "stderr",
     "output_type": "stream",
     "text": [
      "ribonucleoside_reductase_inhibitor logloss: 0.04312411585975672\n",
      "=========================================================================================\n",
      "len(trt) : 25\n",
      "len(train_index) : 945\n",
      "len(valid_index) : 946\n",
      "================================= 1fold lightgbm =================================\n"
     ]
    },
    {
     "name": "stdout",
     "output_type": "stream",
     "text": [
      "Early stopping, best iteration is:\n",
      "[102]\ttraining's binary_logloss: 0.00280508\tvalid_1's binary_logloss: 0.0383442\n",
      "Training until validation scores don't improve for 10 rounds\n",
      "[20]\ttraining's binary_logloss: 0.0203469\tvalid_1's binary_logloss: 0.050707\n",
      "[40]\ttraining's binary_logloss: 0.0106734\tvalid_1's binary_logloss: 0.0447687\n",
      "[60]\ttraining's binary_logloss: 0.00592958\tvalid_1's binary_logloss: 0.0432226\n"
     ]
    },
    {
     "name": "stderr",
     "output_type": "stream",
     "text": [
      "len(train_index) : 946\n",
      "len(valid_index) : 945\n",
      "================================= 2fold lightgbm =================================\n"
     ]
    },
    {
     "name": "stdout",
     "output_type": "stream",
     "text": [
      "Early stopping, best iteration is:\n",
      "[68]\ttraining's binary_logloss: 0.00471185\tvalid_1's binary_logloss: 0.043057\n",
      "Training until validation scores don't improve for 10 rounds\n",
      "[20]\ttraining's binary_logloss: 0.0222383\tvalid_1's binary_logloss: 0.0522228\n",
      "[40]\ttraining's binary_logloss: 0.0117812\tvalid_1's binary_logloss: 0.048186\n",
      "[60]\ttraining's binary_logloss: 0.00655629\tvalid_1's binary_logloss: 0.0467663\n"
     ]
    },
    {
     "name": "stderr",
     "output_type": "stream",
     "text": [
      "rna_polymerase_inhibitor logloss: 0.044747693610137286\n",
      "=========================================================================================\n",
      "len(trt) : 236\n",
      "len(train_index) : 1051\n",
      "len(valid_index) : 1051\n",
      "================================= 1fold lightgbm =================================\n"
     ]
    },
    {
     "name": "stdout",
     "output_type": "stream",
     "text": [
      "Early stopping, best iteration is:\n",
      "[66]\ttraining's binary_logloss: 0.00551565\tvalid_1's binary_logloss: 0.0464402\n",
      "Training until validation scores don't improve for 10 rounds\n",
      "[20]\ttraining's binary_logloss: 0.143361\tvalid_1's binary_logloss: 0.182214\n",
      "[40]\ttraining's binary_logloss: 0.0769077\tvalid_1's binary_logloss: 0.124543\n",
      "[60]\ttraining's binary_logloss: 0.0434342\tvalid_1's binary_logloss: 0.0932856\n",
      "[80]\ttraining's binary_logloss: 0.0247604\tvalid_1's binary_logloss: 0.0746054\n",
      "[100]\ttraining's binary_logloss: 0.014323\tvalid_1's binary_logloss: 0.0634844\n",
      "[120]\ttraining's binary_logloss: 0.00831842\tvalid_1's binary_logloss: 0.0556295\n",
      "[140]\ttraining's binary_logloss: 0.00484131\tvalid_1's binary_logloss: 0.0509527\n",
      "[160]\ttraining's binary_logloss: 0.00282782\tvalid_1's binary_logloss: 0.0481442\n",
      "[180]\ttraining's binary_logloss: 0.00165874\tvalid_1's binary_logloss: 0.0459438\n",
      "[200]\ttraining's binary_logloss: 0.000973423\tvalid_1's binary_logloss: 0.0451654\n",
      "[220]\ttraining's binary_logloss: 0.000571483\tvalid_1's binary_logloss: 0.0444599\n",
      "[240]\ttraining's binary_logloss: 0.000336438\tvalid_1's binary_logloss: 0.0439042\n"
     ]
    },
    {
     "name": "stderr",
     "output_type": "stream",
     "text": [
      "len(train_index) : 1051\n",
      "len(valid_index) : 1051\n",
      "================================= 2fold lightgbm =================================\n"
     ]
    },
    {
     "name": "stdout",
     "output_type": "stream",
     "text": [
      "Early stopping, best iteration is:\n",
      "[242]\ttraining's binary_logloss: 0.000318816\tvalid_1's binary_logloss: 0.0437922\n",
      "Training until validation scores don't improve for 10 rounds\n",
      "[20]\ttraining's binary_logloss: 0.144379\tvalid_1's binary_logloss: 0.175777\n",
      "[40]\ttraining's binary_logloss: 0.0761524\tvalid_1's binary_logloss: 0.112898\n",
      "[60]\ttraining's binary_logloss: 0.0423119\tvalid_1's binary_logloss: 0.0793323\n",
      "[80]\ttraining's binary_logloss: 0.0238479\tvalid_1's binary_logloss: 0.0588852\n",
      "[100]\ttraining's binary_logloss: 0.0137558\tvalid_1's binary_logloss: 0.0454903\n",
      "[120]\ttraining's binary_logloss: 0.00799024\tvalid_1's binary_logloss: 0.0372035\n",
      "[140]\ttraining's binary_logloss: 0.00466252\tvalid_1's binary_logloss: 0.0309949\n",
      "[160]\ttraining's binary_logloss: 0.0027171\tvalid_1's binary_logloss: 0.0268128\n",
      "[180]\ttraining's binary_logloss: 0.00158519\tvalid_1's binary_logloss: 0.0240818\n",
      "[200]\ttraining's binary_logloss: 0.000923774\tvalid_1's binary_logloss: 0.0219635\n",
      "[220]\ttraining's binary_logloss: 0.000539307\tvalid_1's binary_logloss: 0.0204248\n",
      "[240]\ttraining's binary_logloss: 0.000314604\tvalid_1's binary_logloss: 0.0194824\n",
      "[260]\ttraining's binary_logloss: 0.00018439\tvalid_1's binary_logloss: 0.0181503\n",
      "[280]\ttraining's binary_logloss: 0.000107508\tvalid_1's binary_logloss: 0.0176597\n",
      "[300]\ttraining's binary_logloss: 6.28049e-05\tvalid_1's binary_logloss: 0.016945\n",
      "[320]\ttraining's binary_logloss: 3.69072e-05\tvalid_1's binary_logloss: 0.0163418\n"
     ]
    },
    {
     "name": "stderr",
     "output_type": "stream",
     "text": [
      "serotonin_receptor_agonist logloss: 0.02985694322427008\n",
      "=========================================================================================\n"
     ]
    },
    {
     "name": "stdout",
     "output_type": "stream",
     "text": [
      "[340]\ttraining's binary_logloss: 2.18695e-05\tvalid_1's binary_logloss: 0.0160412\n",
      "Early stopping, best iteration is:\n",
      "[332]\ttraining's binary_logloss: 2.6938e-05\tvalid_1's binary_logloss: 0.0159216\n"
     ]
    },
    {
     "name": "stderr",
     "output_type": "stream",
     "text": [
      "len(trt) : 404\n",
      "len(train_index) : 1135\n",
      "len(valid_index) : 1135\n",
      "================================= 1fold lightgbm =================================\n"
     ]
    },
    {
     "name": "stdout",
     "output_type": "stream",
     "text": [
      "Training until validation scores don't improve for 10 rounds\n",
      "[20]\ttraining's binary_logloss: 0.20486\tvalid_1's binary_logloss: 0.220437\n",
      "[40]\ttraining's binary_logloss: 0.110243\tvalid_1's binary_logloss: 0.129918\n",
      "[60]\ttraining's binary_logloss: 0.0622069\tvalid_1's binary_logloss: 0.0824231\n",
      "[80]\ttraining's binary_logloss: 0.0357702\tvalid_1's binary_logloss: 0.0548273\n",
      "[100]\ttraining's binary_logloss: 0.0208999\tvalid_1's binary_logloss: 0.0382987\n",
      "[120]\ttraining's binary_logloss: 0.0122835\tvalid_1's binary_logloss: 0.0279748\n",
      "[140]\ttraining's binary_logloss: 0.00723858\tvalid_1's binary_logloss: 0.0210322\n",
      "[160]\ttraining's binary_logloss: 0.00429806\tvalid_1's binary_logloss: 0.0162382\n",
      "[180]\ttraining's binary_logloss: 0.00253824\tvalid_1's binary_logloss: 0.0137152\n",
      "[200]\ttraining's binary_logloss: 0.0015017\tvalid_1's binary_logloss: 0.0118752\n",
      "[220]\ttraining's binary_logloss: 0.00088819\tvalid_1's binary_logloss: 0.0105762\n",
      "[240]\ttraining's binary_logloss: 0.000527319\tvalid_1's binary_logloss: 0.00945682\n",
      "[260]\ttraining's binary_logloss: 0.00031241\tvalid_1's binary_logloss: 0.00862895\n",
      "[280]\ttraining's binary_logloss: 0.00018579\tvalid_1's binary_logloss: 0.00813283\n",
      "[300]\ttraining's binary_logloss: 0.000110075\tvalid_1's binary_logloss: 0.00764019\n",
      "Early stopping, best iteration is:\n",
      "[296]\ttraining's binary_logloss: 0.000122343\tvalid_1's binary_logloss: 0.00757828\n"
     ]
    },
    {
     "name": "stderr",
     "output_type": "stream",
     "text": [
      "len(train_index) : 1135\n",
      "len(valid_index) : 1135\n",
      "================================= 2fold lightgbm =================================\n"
     ]
    },
    {
     "name": "stdout",
     "output_type": "stream",
     "text": [
      "Training until validation scores don't improve for 10 rounds\n",
      "[20]\ttraining's binary_logloss: 0.201833\tvalid_1's binary_logloss: 0.233464\n",
      "[40]\ttraining's binary_logloss: 0.1075\tvalid_1's binary_logloss: 0.144667\n",
      "[60]\ttraining's binary_logloss: 0.0596286\tvalid_1's binary_logloss: 0.096688\n",
      "[80]\ttraining's binary_logloss: 0.0335814\tvalid_1's binary_logloss: 0.067954\n",
      "[100]\ttraining's binary_logloss: 0.0193755\tvalid_1's binary_logloss: 0.0520766\n",
      "[120]\ttraining's binary_logloss: 0.0113799\tvalid_1's binary_logloss: 0.0431228\n",
      "[140]\ttraining's binary_logloss: 0.006644\tvalid_1's binary_logloss: 0.0375485\n",
      "[160]\ttraining's binary_logloss: 0.00387167\tvalid_1's binary_logloss: 0.0337075\n",
      "[180]\ttraining's binary_logloss: 0.00225792\tvalid_1's binary_logloss: 0.0314738\n",
      "[200]\ttraining's binary_logloss: 0.00131641\tvalid_1's binary_logloss: 0.0290476\n",
      "[220]\ttraining's binary_logloss: 0.000769804\tvalid_1's binary_logloss: 0.0266337\n",
      "[240]\ttraining's binary_logloss: 0.000449879\tvalid_1's binary_logloss: 0.0254541\n"
     ]
    },
    {
     "name": "stderr",
     "output_type": "stream",
     "text": [
      "serotonin_receptor_antagonist logloss: 0.016161957315591217\n",
      "=========================================================================================\n"
     ]
    },
    {
     "name": "stdout",
     "output_type": "stream",
     "text": [
      "[260]\ttraining's binary_logloss: 0.000261792\tvalid_1's binary_logloss: 0.0247718\n",
      "Early stopping, best iteration is:\n",
      "[252]\ttraining's binary_logloss: 0.000324633\tvalid_1's binary_logloss: 0.0247456\n"
     ]
    },
    {
     "name": "stderr",
     "output_type": "stream",
     "text": [
      "len(trt) : 44\n",
      "len(train_index) : 955\n",
      "len(valid_index) : 955\n",
      "================================= 1fold lightgbm =================================\n"
     ]
    },
    {
     "name": "stdout",
     "output_type": "stream",
     "text": [
      "Training until validation scores don't improve for 10 rounds\n",
      "[20]\ttraining's binary_logloss: 0.0367644\tvalid_1's binary_logloss: 0.0805096\n",
      "[40]\ttraining's binary_logloss: 0.0192875\tvalid_1's binary_logloss: 0.0704093\n",
      "[60]\ttraining's binary_logloss: 0.0107168\tvalid_1's binary_logloss: 0.0651374\n",
      "[80]\ttraining's binary_logloss: 0.00613212\tvalid_1's binary_logloss: 0.0620009\n"
     ]
    },
    {
     "name": "stderr",
     "output_type": "stream",
     "text": [
      "len(train_index) : 955\n",
      "len(valid_index) : 955\n",
      "================================= 2fold lightgbm =================================\n"
     ]
    },
    {
     "name": "stdout",
     "output_type": "stream",
     "text": [
      "[100]\ttraining's binary_logloss: 0.00354685\tvalid_1's binary_logloss: 0.0617308\n",
      "Early stopping, best iteration is:\n",
      "[93]\ttraining's binary_logloss: 0.00429208\tvalid_1's binary_logloss: 0.0611989\n",
      "Training until validation scores don't improve for 10 rounds\n",
      "[20]\ttraining's binary_logloss: 0.0377432\tvalid_1's binary_logloss: 0.0714574\n",
      "[40]\ttraining's binary_logloss: 0.0199581\tvalid_1's binary_logloss: 0.0609435\n",
      "[60]\ttraining's binary_logloss: 0.0112731\tvalid_1's binary_logloss: 0.0563892\n",
      "[80]\ttraining's binary_logloss: 0.00651737\tvalid_1's binary_logloss: 0.0557669\n"
     ]
    },
    {
     "name": "stderr",
     "output_type": "stream",
     "text": [
      "serotonin_reuptake_inhibitor logloss: 0.0582329594119041\n",
      "=========================================================================================\n",
      "len(trt) : 36\n",
      "len(train_index) : 951\n",
      "len(valid_index) : 951\n",
      "================================= 1fold lightgbm =================================\n"
     ]
    },
    {
     "name": "stdout",
     "output_type": "stream",
     "text": [
      "Early stopping, best iteration is:\n",
      "[82]\ttraining's binary_logloss: 0.00617213\tvalid_1's binary_logloss: 0.055267\n",
      "Training until validation scores don't improve for 10 rounds\n",
      "[20]\ttraining's binary_logloss: 0.0314574\tvalid_1's binary_logloss: 0.0644399\n",
      "[40]\ttraining's binary_logloss: 0.0164828\tvalid_1's binary_logloss: 0.0615142\n",
      "[60]\ttraining's binary_logloss: 0.00920957\tvalid_1's binary_logloss: 0.0601868\n",
      "[80]\ttraining's binary_logloss: 0.00528169\tvalid_1's binary_logloss: 0.0595479\n"
     ]
    },
    {
     "name": "stderr",
     "output_type": "stream",
     "text": [
      "len(train_index) : 951\n",
      "len(valid_index) : 951\n",
      "================================= 2fold lightgbm =================================\n"
     ]
    },
    {
     "name": "stdout",
     "output_type": "stream",
     "text": [
      "[100]\ttraining's binary_logloss: 0.00308783\tvalid_1's binary_logloss: 0.0587263\n",
      "Early stopping, best iteration is:\n",
      "[92]\ttraining's binary_logloss: 0.00382194\tvalid_1's binary_logloss: 0.0584928\n",
      "Training until validation scores don't improve for 10 rounds\n",
      "[20]\ttraining's binary_logloss: 0.0308003\tvalid_1's binary_logloss: 0.0686539\n",
      "[40]\ttraining's binary_logloss: 0.016007\tvalid_1's binary_logloss: 0.0622412\n"
     ]
    },
    {
     "name": "stderr",
     "output_type": "stream",
     "text": [
      "sigma_receptor_agonist logloss: 0.05961954825641853\n",
      "=========================================================================================\n",
      "len(trt) : 36\n",
      "len(train_index) : 951\n",
      "len(valid_index) : 951\n",
      "================================= 1fold lightgbm =================================\n"
     ]
    },
    {
     "name": "stdout",
     "output_type": "stream",
     "text": [
      "[60]\ttraining's binary_logloss: 0.00879855\tvalid_1's binary_logloss: 0.0610771\n",
      "Early stopping, best iteration is:\n",
      "[52]\ttraining's binary_logloss: 0.0111166\tvalid_1's binary_logloss: 0.0607463\n",
      "Training until validation scores don't improve for 10 rounds\n",
      "[20]\ttraining's binary_logloss: 0.0315323\tvalid_1's binary_logloss: 0.0545525\n",
      "[40]\ttraining's binary_logloss: 0.0158632\tvalid_1's binary_logloss: 0.0481145\n",
      "[60]\ttraining's binary_logloss: 0.00869047\tvalid_1's binary_logloss: 0.0458268\n",
      "[80]\ttraining's binary_logloss: 0.00488801\tvalid_1's binary_logloss: 0.0453225\n",
      "[100]\ttraining's binary_logloss: 0.00283481\tvalid_1's binary_logloss: 0.0449514\n"
     ]
    },
    {
     "name": "stderr",
     "output_type": "stream",
     "text": [
      "len(train_index) : 951\n",
      "len(valid_index) : 951\n",
      "================================= 2fold lightgbm =================================\n"
     ]
    },
    {
     "name": "stdout",
     "output_type": "stream",
     "text": [
      "Early stopping, best iteration is:\n",
      "[103]\ttraining's binary_logloss: 0.00260853\tvalid_1's binary_logloss: 0.0448305\n",
      "Training until validation scores don't improve for 10 rounds\n",
      "[20]\ttraining's binary_logloss: 0.0300639\tvalid_1's binary_logloss: 0.0643387\n",
      "[40]\ttraining's binary_logloss: 0.0154264\tvalid_1's binary_logloss: 0.05688\n",
      "[60]\ttraining's binary_logloss: 0.00849928\tvalid_1's binary_logloss: 0.0545666\n"
     ]
    },
    {
     "name": "stderr",
     "output_type": "stream",
     "text": [
      "sigma_receptor_antagonist logloss: 0.04956835415453686\n",
      "=========================================================================================\n",
      "len(trt) : 25\n",
      "len(train_index) : 945\n",
      "len(valid_index) : 946\n",
      "================================= 1fold lightgbm =================================\n"
     ]
    },
    {
     "name": "stdout",
     "output_type": "stream",
     "text": [
      "Early stopping, best iteration is:\n",
      "[62]\ttraining's binary_logloss: 0.00802789\tvalid_1's binary_logloss: 0.0543062\n",
      "Training until validation scores don't improve for 10 rounds\n",
      "[20]\ttraining's binary_logloss: 0.0204272\tvalid_1's binary_logloss: 0.0641962\n",
      "[40]\ttraining's binary_logloss: 0.0106122\tvalid_1's binary_logloss: 0.0615257\n"
     ]
    },
    {
     "name": "stderr",
     "output_type": "stream",
     "text": [
      "len(train_index) : 946\n",
      "len(valid_index) : 945\n",
      "================================= 2fold lightgbm =================================\n"
     ]
    },
    {
     "name": "stdout",
     "output_type": "stream",
     "text": [
      "[60]\ttraining's binary_logloss: 0.00585397\tvalid_1's binary_logloss: 0.0612205\n",
      "Early stopping, best iteration is:\n",
      "[53]\ttraining's binary_logloss: 0.00719116\tvalid_1's binary_logloss: 0.0607582\n",
      "Training until validation scores don't improve for 10 rounds\n",
      "[20]\ttraining's binary_logloss: 0.0223256\tvalid_1's binary_logloss: 0.0528436\n",
      "[40]\ttraining's binary_logloss: 0.0116442\tvalid_1's binary_logloss: 0.0506254\n"
     ]
    },
    {
     "name": "stderr",
     "output_type": "stream",
     "text": [
      "smoothened_receptor_antagonist logloss: 0.05569451172786115\n",
      "=========================================================================================\n",
      "len(trt) : 267\n",
      "len(train_index) : 1066\n",
      "len(valid_index) : 1067\n",
      "================================= 1fold lightgbm =================================\n"
     ]
    },
    {
     "name": "stdout",
     "output_type": "stream",
     "text": [
      "Early stopping, best iteration is:\n",
      "[40]\ttraining's binary_logloss: 0.0116442\tvalid_1's binary_logloss: 0.0506254\n",
      "Training until validation scores don't improve for 10 rounds\n",
      "[20]\ttraining's binary_logloss: 0.15746\tvalid_1's binary_logloss: 0.181393\n",
      "[40]\ttraining's binary_logloss: 0.0839609\tvalid_1's binary_logloss: 0.114407\n",
      "[60]\ttraining's binary_logloss: 0.0469147\tvalid_1's binary_logloss: 0.0791735\n",
      "[80]\ttraining's binary_logloss: 0.0268525\tvalid_1's binary_logloss: 0.0580772\n",
      "[100]\ttraining's binary_logloss: 0.0155779\tvalid_1's binary_logloss: 0.046088\n",
      "[120]\ttraining's binary_logloss: 0.00903448\tvalid_1's binary_logloss: 0.0373091\n",
      "[140]\ttraining's binary_logloss: 0.00526529\tvalid_1's binary_logloss: 0.0311407\n",
      "[160]\ttraining's binary_logloss: 0.00309158\tvalid_1's binary_logloss: 0.0269703\n",
      "[180]\ttraining's binary_logloss: 0.00181963\tvalid_1's binary_logloss: 0.024021\n",
      "[200]\ttraining's binary_logloss: 0.00107379\tvalid_1's binary_logloss: 0.022152\n",
      "[220]\ttraining's binary_logloss: 0.000633721\tvalid_1's binary_logloss: 0.0212443\n",
      "[240]\ttraining's binary_logloss: 0.000372911\tvalid_1's binary_logloss: 0.0205599\n",
      "[260]\ttraining's binary_logloss: 0.000219168\tvalid_1's binary_logloss: 0.0198539\n"
     ]
    },
    {
     "name": "stderr",
     "output_type": "stream",
     "text": [
      "len(train_index) : 1067\n",
      "len(valid_index) : 1066\n",
      "================================= 2fold lightgbm =================================\n"
     ]
    },
    {
     "name": "stdout",
     "output_type": "stream",
     "text": [
      "Early stopping, best iteration is:\n",
      "[263]\ttraining's binary_logloss: 0.000202291\tvalid_1's binary_logloss: 0.019718\n",
      "Training until validation scores don't improve for 10 rounds\n",
      "[20]\ttraining's binary_logloss: 0.155308\tvalid_1's binary_logloss: 0.181027\n",
      "[40]\ttraining's binary_logloss: 0.0824243\tvalid_1's binary_logloss: 0.114898\n",
      "[60]\ttraining's binary_logloss: 0.0455802\tvalid_1's binary_logloss: 0.0811353\n",
      "[80]\ttraining's binary_logloss: 0.0259163\tvalid_1's binary_logloss: 0.0618628\n",
      "[100]\ttraining's binary_logloss: 0.0149077\tvalid_1's binary_logloss: 0.0496824\n",
      "[120]\ttraining's binary_logloss: 0.00862702\tvalid_1's binary_logloss: 0.0421711\n",
      "[140]\ttraining's binary_logloss: 0.00498134\tvalid_1's binary_logloss: 0.0366855\n",
      "[160]\ttraining's binary_logloss: 0.00287566\tvalid_1's binary_logloss: 0.032905\n",
      "[180]\ttraining's binary_logloss: 0.00166311\tvalid_1's binary_logloss: 0.0300041\n",
      "[200]\ttraining's binary_logloss: 0.000966841\tvalid_1's binary_logloss: 0.0284362\n",
      "[220]\ttraining's binary_logloss: 0.000559592\tvalid_1's binary_logloss: 0.0267271\n",
      "[240]\ttraining's binary_logloss: 0.000323835\tvalid_1's binary_logloss: 0.0251953\n",
      "[260]\ttraining's binary_logloss: 0.0001882\tvalid_1's binary_logloss: 0.0242428\n",
      "[280]\ttraining's binary_logloss: 0.00010946\tvalid_1's binary_logloss: 0.0231243\n",
      "[300]\ttraining's binary_logloss: 6.38618e-05\tvalid_1's binary_logloss: 0.022302\n",
      "[320]\ttraining's binary_logloss: 3.73476e-05\tvalid_1's binary_logloss: 0.0213923\n",
      "[340]\ttraining's binary_logloss: 2.20857e-05\tvalid_1's binary_logloss: 0.0208621\n",
      "[360]\ttraining's binary_logloss: 1.33247e-05\tvalid_1's binary_logloss: 0.0206896\n"
     ]
    },
    {
     "name": "stderr",
     "output_type": "stream",
     "text": [
      "sodium_channel_inhibitor logloss: 0.020072692476382097\n",
      "=========================================================================================\n"
     ]
    },
    {
     "name": "stdout",
     "output_type": "stream",
     "text": [
      "[380]\ttraining's binary_logloss: 8.42265e-06\tvalid_1's binary_logloss: 0.0205058\n",
      "Early stopping, best iteration is:\n",
      "[371]\ttraining's binary_logloss: 1.03095e-05\tvalid_1's binary_logloss: 0.0204277\n"
     ]
    },
    {
     "name": "stderr",
     "output_type": "stream",
     "text": [
      "len(trt) : 25\n",
      "len(train_index) : 945\n",
      "len(valid_index) : 946\n",
      "================================= 1fold lightgbm =================================\n"
     ]
    },
    {
     "name": "stdout",
     "output_type": "stream",
     "text": [
      "Training until validation scores don't improve for 10 rounds\n",
      "[20]\ttraining's binary_logloss: 0.0214062\tvalid_1's binary_logloss: 0.0612343\n"
     ]
    },
    {
     "name": "stderr",
     "output_type": "stream",
     "text": [
      "len(train_index) : 946\n",
      "len(valid_index) : 945\n",
      "================================= 2fold lightgbm =================================\n"
     ]
    },
    {
     "name": "stdout",
     "output_type": "stream",
     "text": [
      "Early stopping, best iteration is:\n",
      "[23]\ttraining's binary_logloss: 0.019211\tvalid_1's binary_logloss: 0.0607869\n",
      "Training until validation scores don't improve for 10 rounds\n",
      "[20]\ttraining's binary_logloss: 0.0220957\tvalid_1's binary_logloss: 0.054961\n",
      "[40]\ttraining's binary_logloss: 0.0115235\tvalid_1's binary_logloss: 0.0522912\n"
     ]
    },
    {
     "name": "stderr",
     "output_type": "stream",
     "text": [
      "sphingosine_receptor_agonist logloss: 0.05651151624995255\n",
      "=========================================================================================\n",
      "len(trt) : 71\n",
      "len(train_index) : 968\n",
      "len(valid_index) : 969\n",
      "================================= 1fold lightgbm =================================\n"
     ]
    },
    {
     "name": "stdout",
     "output_type": "stream",
     "text": [
      "Early stopping, best iteration is:\n",
      "[44]\ttraining's binary_logloss: 0.010197\tvalid_1's binary_logloss: 0.0522316\n",
      "Training until validation scores don't improve for 10 rounds\n",
      "[20]\ttraining's binary_logloss: 0.0489561\tvalid_1's binary_logloss: 0.0704978\n",
      "[40]\ttraining's binary_logloss: 0.0250011\tvalid_1's binary_logloss: 0.0499338\n",
      "[60]\ttraining's binary_logloss: 0.0135282\tvalid_1's binary_logloss: 0.0415391\n",
      "[80]\ttraining's binary_logloss: 0.00747659\tvalid_1's binary_logloss: 0.0351567\n",
      "[100]\ttraining's binary_logloss: 0.00419645\tvalid_1's binary_logloss: 0.032067\n",
      "[120]\ttraining's binary_logloss: 0.00236835\tvalid_1's binary_logloss: 0.0299804\n",
      "[140]\ttraining's binary_logloss: 0.00134189\tvalid_1's binary_logloss: 0.0289277\n",
      "[160]\ttraining's binary_logloss: 0.000762601\tvalid_1's binary_logloss: 0.0283757\n",
      "[180]\ttraining's binary_logloss: 0.000434205\tvalid_1's binary_logloss: 0.0277557\n",
      "[200]\ttraining's binary_logloss: 0.000247219\tvalid_1's binary_logloss: 0.0273251\n"
     ]
    },
    {
     "name": "stderr",
     "output_type": "stream",
     "text": [
      "len(train_index) : 969\n",
      "len(valid_index) : 968\n",
      "================================= 2fold lightgbm =================================\n"
     ]
    },
    {
     "name": "stdout",
     "output_type": "stream",
     "text": [
      "Early stopping, best iteration is:\n",
      "[203]\ttraining's binary_logloss: 0.000227276\tvalid_1's binary_logloss: 0.0271776\n",
      "Training until validation scores don't improve for 10 rounds\n",
      "[20]\ttraining's binary_logloss: 0.0514696\tvalid_1's binary_logloss: 0.0698996\n",
      "[40]\ttraining's binary_logloss: 0.0270961\tvalid_1's binary_logloss: 0.0502563\n",
      "[60]\ttraining's binary_logloss: 0.0151044\tvalid_1's binary_logloss: 0.0403888\n",
      "[80]\ttraining's binary_logloss: 0.00856598\tvalid_1's binary_logloss: 0.0361239\n",
      "[100]\ttraining's binary_logloss: 0.0048892\tvalid_1's binary_logloss: 0.0344747\n",
      "Early stopping, best iteration is:\n",
      "[97]\ttraining's binary_logloss: 0.00531872\tvalid_1's binary_logloss: 0.0342868\n"
     ]
    },
    {
     "name": "stderr",
     "output_type": "stream",
     "text": [
      "src_inhibitor logloss: 0.030730353184110517\n",
      "=========================================================================================\n",
      "len(trt) : 6\n",
      "len(train_index) : 936\n",
      "len(valid_index) : 936\n",
      "================================= 1fold lightgbm =================================\n"
     ]
    },
    {
     "name": "stdout",
     "output_type": "stream",
     "text": [
      "Training until validation scores don't improve for 10 rounds\n"
     ]
    },
    {
     "name": "stderr",
     "output_type": "stream",
     "text": [
      "len(train_index) : 936\n",
      "len(valid_index) : 936\n",
      "================================= 2fold lightgbm =================================\n"
     ]
    },
    {
     "name": "stdout",
     "output_type": "stream",
     "text": [
      "Early stopping, best iteration is:\n",
      "[5]\ttraining's binary_logloss: 0.0110917\tvalid_1's binary_logloss: 0.0197474\n",
      "Training until validation scores don't improve for 10 rounds\n"
     ]
    },
    {
     "name": "stderr",
     "output_type": "stream",
     "text": [
      "steroid logloss: 0.019814824825902837\n",
      "=========================================================================================\n"
     ]
    },
    {
     "name": "stdout",
     "output_type": "stream",
     "text": [
      "[20]\ttraining's binary_logloss: 0.00498754\tvalid_1's binary_logloss: 0.0200131\n",
      "Early stopping, best iteration is:\n",
      "[16]\ttraining's binary_logloss: 0.00586817\tvalid_1's binary_logloss: 0.0198822\n"
     ]
    },
    {
     "name": "stderr",
     "output_type": "stream",
     "text": [
      "len(trt) : 19\n",
      "len(train_index) : 942\n",
      "len(valid_index) : 943\n",
      "================================= 1fold lightgbm =================================\n"
     ]
    },
    {
     "name": "stdout",
     "output_type": "stream",
     "text": [
      "Training until validation scores don't improve for 10 rounds\n",
      "[20]\ttraining's binary_logloss: 0.0140644\tvalid_1's binary_logloss: 0.0309183\n",
      "[40]\ttraining's binary_logloss: 0.00721055\tvalid_1's binary_logloss: 0.0254242\n",
      "[60]\ttraining's binary_logloss: 0.003964\tvalid_1's binary_logloss: 0.0227385\n",
      "[80]\ttraining's binary_logloss: 0.0022334\tvalid_1's binary_logloss: 0.0212088\n",
      "[100]\ttraining's binary_logloss: 0.00127174\tvalid_1's binary_logloss: 0.0200028\n",
      "[120]\ttraining's binary_logloss: 0.00072719\tvalid_1's binary_logloss: 0.0195574\n",
      "[140]\ttraining's binary_logloss: 0.000418299\tvalid_1's binary_logloss: 0.0190921\n",
      "[160]\ttraining's binary_logloss: 0.000240751\tvalid_1's binary_logloss: 0.0189643\n",
      "Early stopping, best iteration is:\n",
      "[158]\ttraining's binary_logloss: 0.00025407\tvalid_1's binary_logloss: 0.0188399\n"
     ]
    },
    {
     "name": "stderr",
     "output_type": "stream",
     "text": [
      "len(train_index) : 943\n",
      "len(valid_index) : 942\n",
      "================================= 2fold lightgbm =================================\n"
     ]
    },
    {
     "name": "stdout",
     "output_type": "stream",
     "text": [
      "Training until validation scores don't improve for 10 rounds\n",
      "[20]\ttraining's binary_logloss: 0.0150171\tvalid_1's binary_logloss: 0.0301578\n",
      "[40]\ttraining's binary_logloss: 0.00763719\tvalid_1's binary_logloss: 0.0262407\n",
      "[60]\ttraining's binary_logloss: 0.00411689\tvalid_1's binary_logloss: 0.0239925\n",
      "[80]\ttraining's binary_logloss: 0.00227721\tvalid_1's binary_logloss: 0.0231956\n"
     ]
    },
    {
     "name": "stderr",
     "output_type": "stream",
     "text": [
      "syk_inhibitor logloss: 0.020773047236477684\n",
      "=========================================================================================\n",
      "len(trt) : 60\n",
      "len(train_index) : 963\n",
      "len(valid_index) : 963\n",
      "================================= 1fold lightgbm =================================\n"
     ]
    },
    {
     "name": "stdout",
     "output_type": "stream",
     "text": [
      "Early stopping, best iteration is:\n",
      "[86]\ttraining's binary_logloss: 0.00191294\tvalid_1's binary_logloss: 0.0227083\n",
      "Training until validation scores don't improve for 10 rounds\n",
      "[20]\ttraining's binary_logloss: 0.0447487\tvalid_1's binary_logloss: 0.0864705\n",
      "[40]\ttraining's binary_logloss: 0.0238007\tvalid_1's binary_logloss: 0.0764025\n",
      "[60]\ttraining's binary_logloss: 0.0132348\tvalid_1's binary_logloss: 0.0728653\n"
     ]
    },
    {
     "name": "stderr",
     "output_type": "stream",
     "text": [
      "len(train_index) : 963\n",
      "len(valid_index) : 963\n",
      "================================= 2fold lightgbm =================================\n"
     ]
    },
    {
     "name": "stdout",
     "output_type": "stream",
     "text": [
      "[80]\ttraining's binary_logloss: 0.00746281\tvalid_1's binary_logloss: 0.0726368\n",
      "Early stopping, best iteration is:\n",
      "[75]\ttraining's binary_logloss: 0.00859607\tvalid_1's binary_logloss: 0.0721659\n",
      "Training until validation scores don't improve for 10 rounds\n",
      "[20]\ttraining's binary_logloss: 0.0509578\tvalid_1's binary_logloss: 0.0805752\n",
      "[40]\ttraining's binary_logloss: 0.027421\tvalid_1's binary_logloss: 0.0640414\n",
      "[60]\ttraining's binary_logloss: 0.0154482\tvalid_1's binary_logloss: 0.0543929\n",
      "[80]\ttraining's binary_logloss: 0.00891306\tvalid_1's binary_logloss: 0.0494689\n",
      "[100]\ttraining's binary_logloss: 0.00519802\tvalid_1's binary_logloss: 0.0465333\n",
      "[120]\ttraining's binary_logloss: 0.00306009\tvalid_1's binary_logloss: 0.0451301\n"
     ]
    },
    {
     "name": "stderr",
     "output_type": "stream",
     "text": [
      "tachykinin_antagonist logloss: 0.05838692504047677\n",
      "=========================================================================================\n",
      "len(trt) : 30\n",
      "len(train_index) : 948\n",
      "len(valid_index) : 948\n",
      "================================= 1fold lightgbm =================================\n"
     ]
    },
    {
     "name": "stdout",
     "output_type": "stream",
     "text": [
      "Early stopping, best iteration is:\n",
      "[126]\ttraining's binary_logloss: 0.00260544\tvalid_1's binary_logloss: 0.0446079\n",
      "Training until validation scores don't improve for 10 rounds\n",
      "[20]\ttraining's binary_logloss: 0.0208657\tvalid_1's binary_logloss: 0.0294396\n",
      "[40]\ttraining's binary_logloss: 0.0104739\tvalid_1's binary_logloss: 0.0181572\n",
      "[60]\ttraining's binary_logloss: 0.00559419\tvalid_1's binary_logloss: 0.0118372\n",
      "[80]\ttraining's binary_logloss: 0.00305827\tvalid_1's binary_logloss: 0.00790446\n",
      "[100]\ttraining's binary_logloss: 0.00169111\tvalid_1's binary_logloss: 0.00551182\n",
      "[120]\ttraining's binary_logloss: 0.000941253\tvalid_1's binary_logloss: 0.00399826\n",
      "[140]\ttraining's binary_logloss: 0.000526269\tvalid_1's binary_logloss: 0.00303339\n",
      "[160]\ttraining's binary_logloss: 0.000295193\tvalid_1's binary_logloss: 0.00238351\n",
      "[180]\ttraining's binary_logloss: 0.000166064\tvalid_1's binary_logloss: 0.00206569\n",
      "[200]\ttraining's binary_logloss: 9.36326e-05\tvalid_1's binary_logloss: 0.00187966\n",
      "[220]\ttraining's binary_logloss: 5.29242e-05\tvalid_1's binary_logloss: 0.00172656\n"
     ]
    },
    {
     "name": "stderr",
     "output_type": "stream",
     "text": [
      "len(train_index) : 948\n",
      "len(valid_index) : 948\n",
      "================================= 2fold lightgbm =================================\n"
     ]
    },
    {
     "name": "stdout",
     "output_type": "stream",
     "text": [
      "Early stopping, best iteration is:\n",
      "[228]\ttraining's binary_logloss: 4.21488e-05\tvalid_1's binary_logloss: 0.00164049\n",
      "Training until validation scores don't improve for 10 rounds\n",
      "[20]\ttraining's binary_logloss: 0.0208472\tvalid_1's binary_logloss: 0.0245944\n",
      "[40]\ttraining's binary_logloss: 0.0105028\tvalid_1's binary_logloss: 0.0141941\n",
      "[60]\ttraining's binary_logloss: 0.00562843\tvalid_1's binary_logloss: 0.00934046\n",
      "[80]\ttraining's binary_logloss: 0.00308937\tvalid_1's binary_logloss: 0.00642968\n",
      "[100]\ttraining's binary_logloss: 0.0017161\tvalid_1's binary_logloss: 0.00466613\n",
      "[120]\ttraining's binary_logloss: 0.000960421\tvalid_1's binary_logloss: 0.00363775\n",
      "[140]\ttraining's binary_logloss: 0.00054038\tvalid_1's binary_logloss: 0.00297797\n",
      "[160]\ttraining's binary_logloss: 0.000305263\tvalid_1's binary_logloss: 0.00257324\n",
      "[180]\ttraining's binary_logloss: 0.000171689\tvalid_1's binary_logloss: 0.00219645\n",
      "[200]\ttraining's binary_logloss: 9.67027e-05\tvalid_1's binary_logloss: 0.00185866\n",
      "[220]\ttraining's binary_logloss: 5.48872e-05\tvalid_1's binary_logloss: 0.00172178\n",
      "[240]\ttraining's binary_logloss: 3.13786e-05\tvalid_1's binary_logloss: 0.00159281\n",
      "[260]\ttraining's binary_logloss: 1.8232e-05\tvalid_1's binary_logloss: 0.00137591\n",
      "[280]\ttraining's binary_logloss: 1.08428e-05\tvalid_1's binary_logloss: 0.00121187\n",
      "[300]\ttraining's binary_logloss: 6.60449e-06\tvalid_1's binary_logloss: 0.00103708\n",
      "[320]\ttraining's binary_logloss: 4.11128e-06\tvalid_1's binary_logloss: 0.000885865\n"
     ]
    },
    {
     "name": "stderr",
     "output_type": "stream",
     "text": [
      "tgf-beta_receptor_inhibitor logloss: 0.0011668613819360476\n",
      "=========================================================================================\n"
     ]
    },
    {
     "name": "stdout",
     "output_type": "stream",
     "text": [
      "[340]\ttraining's binary_logloss: 2.62684e-06\tvalid_1's binary_logloss: 0.000784048\n",
      "[360]\ttraining's binary_logloss: 2.07203e-06\tvalid_1's binary_logloss: 0.000693238\n",
      "Early stopping, best iteration is:\n",
      "[351]\ttraining's binary_logloss: 2.07203e-06\tvalid_1's binary_logloss: 0.000693238\n"
     ]
    },
    {
     "name": "stderr",
     "output_type": "stream",
     "text": [
      "len(trt) : 19\n",
      "len(train_index) : 942\n",
      "len(valid_index) : 943\n",
      "================================= 1fold lightgbm =================================\n"
     ]
    },
    {
     "name": "stdout",
     "output_type": "stream",
     "text": [
      "Training until validation scores don't improve for 10 rounds\n",
      "[20]\ttraining's binary_logloss: 0.0144087\tvalid_1's binary_logloss: 0.0357793\n",
      "[40]\ttraining's binary_logloss: 0.00744775\tvalid_1's binary_logloss: 0.0322896\n",
      "[60]\ttraining's binary_logloss: 0.00408089\tvalid_1's binary_logloss: 0.0300377\n",
      "[80]\ttraining's binary_logloss: 0.00229443\tvalid_1's binary_logloss: 0.0294082\n",
      "[100]\ttraining's binary_logloss: 0.00130001\tvalid_1's binary_logloss: 0.0291438\n"
     ]
    },
    {
     "name": "stderr",
     "output_type": "stream",
     "text": [
      "len(train_index) : 943\n",
      "len(valid_index) : 942\n",
      "================================= 2fold lightgbm =================================\n"
     ]
    },
    {
     "name": "stdout",
     "output_type": "stream",
     "text": [
      "Early stopping, best iteration is:\n",
      "[107]\ttraining's binary_logloss: 0.00106622\tvalid_1's binary_logloss: 0.0290221\n",
      "Training until validation scores don't improve for 10 rounds\n",
      "[20]\ttraining's binary_logloss: 0.016105\tvalid_1's binary_logloss: 0.0340022\n",
      "[40]\ttraining's binary_logloss: 0.00832271\tvalid_1's binary_logloss: 0.0269785\n",
      "[60]\ttraining's binary_logloss: 0.00457996\tvalid_1's binary_logloss: 0.0226454\n",
      "[80]\ttraining's binary_logloss: 0.00257272\tvalid_1's binary_logloss: 0.0205485\n",
      "[100]\ttraining's binary_logloss: 0.00146703\tvalid_1's binary_logloss: 0.0189678\n",
      "[120]\ttraining's binary_logloss: 0.000839648\tvalid_1's binary_logloss: 0.0182959\n",
      "[140]\ttraining's binary_logloss: 0.000484059\tvalid_1's binary_logloss: 0.0180125\n"
     ]
    },
    {
     "name": "stderr",
     "output_type": "stream",
     "text": [
      "thrombin_inhibitor logloss: 0.023426719874598895\n",
      "=========================================================================================\n",
      "len(trt) : 37\n",
      "len(train_index) : 951\n",
      "len(valid_index) : 952\n",
      "================================= 1fold lightgbm =================================\n"
     ]
    },
    {
     "name": "stdout",
     "output_type": "stream",
     "text": [
      "Early stopping, best iteration is:\n",
      "[137]\ttraining's binary_logloss: 0.000526789\tvalid_1's binary_logloss: 0.0178254\n",
      "Training until validation scores don't improve for 10 rounds\n",
      "[20]\ttraining's binary_logloss: 0.0308393\tvalid_1's binary_logloss: 0.0510422\n",
      "[40]\ttraining's binary_logloss: 0.0160947\tvalid_1's binary_logloss: 0.0437897\n",
      "[60]\ttraining's binary_logloss: 0.00891368\tvalid_1's binary_logloss: 0.0393006\n",
      "[80]\ttraining's binary_logloss: 0.00500792\tvalid_1's binary_logloss: 0.0364652\n",
      "[100]\ttraining's binary_logloss: 0.00286109\tvalid_1's binary_logloss: 0.0350971\n"
     ]
    },
    {
     "name": "stderr",
     "output_type": "stream",
     "text": [
      "len(train_index) : 952\n",
      "len(valid_index) : 951\n",
      "================================= 2fold lightgbm =================================\n"
     ]
    },
    {
     "name": "stdout",
     "output_type": "stream",
     "text": [
      "[120]\ttraining's binary_logloss: 0.00164881\tvalid_1's binary_logloss: 0.0349224\n",
      "Early stopping, best iteration is:\n",
      "[113]\ttraining's binary_logloss: 0.00199726\tvalid_1's binary_logloss: 0.0344711\n",
      "Training until validation scores don't improve for 10 rounds\n",
      "[20]\ttraining's binary_logloss: 0.031982\tvalid_1's binary_logloss: 0.0545698\n",
      "[40]\ttraining's binary_logloss: 0.0167325\tvalid_1's binary_logloss: 0.0477472\n",
      "[60]\ttraining's binary_logloss: 0.00938095\tvalid_1's binary_logloss: 0.0429374\n",
      "[80]\ttraining's binary_logloss: 0.00537315\tvalid_1's binary_logloss: 0.0397264\n"
     ]
    },
    {
     "name": "stderr",
     "output_type": "stream",
     "text": [
      "thymidylate_synthase_inhibitor logloss: 0.036479617526326745\n",
      "=========================================================================================\n",
      "len(trt) : 30\n",
      "len(train_index) : 948\n",
      "len(valid_index) : 948\n",
      "================================= 1fold lightgbm =================================\n"
     ]
    },
    {
     "name": "stdout",
     "output_type": "stream",
     "text": [
      "[100]\ttraining's binary_logloss: 0.00305972\tvalid_1's binary_logloss: 0.038967\n",
      "Early stopping, best iteration is:\n",
      "[92]\ttraining's binary_logloss: 0.00384686\tvalid_1's binary_logloss: 0.0384902\n",
      "Training until validation scores don't improve for 10 rounds\n",
      "[20]\ttraining's binary_logloss: 0.0259916\tvalid_1's binary_logloss: 0.0588204\n",
      "[40]\ttraining's binary_logloss: 0.0135522\tvalid_1's binary_logloss: 0.052781\n"
     ]
    },
    {
     "name": "stderr",
     "output_type": "stream",
     "text": [
      "len(train_index) : 948\n",
      "len(valid_index) : 948\n",
      "================================= 2fold lightgbm =================================\n"
     ]
    },
    {
     "name": "stdout",
     "output_type": "stream",
     "text": [
      "Early stopping, best iteration is:\n",
      "[47]\ttraining's binary_logloss: 0.0110096\tvalid_1's binary_logloss: 0.0516542\n",
      "Training until validation scores don't improve for 10 rounds\n",
      "[20]\ttraining's binary_logloss: 0.0251367\tvalid_1's binary_logloss: 0.0618027\n",
      "[40]\ttraining's binary_logloss: 0.0132339\tvalid_1's binary_logloss: 0.0589749\n",
      "[60]\ttraining's binary_logloss: 0.0073309\tvalid_1's binary_logloss: 0.0575061\n"
     ]
    },
    {
     "name": "stderr",
     "output_type": "stream",
     "text": [
      "tlr_agonist logloss: 0.054362499153647305\n",
      "=========================================================================================\n",
      "len(trt) : 7\n",
      "len(train_index) : 936\n",
      "len(valid_index) : 937\n",
      "================================= 1fold lightgbm =================================\n"
     ]
    },
    {
     "name": "stdout",
     "output_type": "stream",
     "text": [
      "[80]\ttraining's binary_logloss: 0.00413015\tvalid_1's binary_logloss: 0.0573928\n",
      "Early stopping, best iteration is:\n",
      "[71]\ttraining's binary_logloss: 0.00531955\tvalid_1's binary_logloss: 0.0570708\n",
      "Training until validation scores don't improve for 10 rounds\n"
     ]
    },
    {
     "name": "stderr",
     "output_type": "stream",
     "text": [
      "len(train_index) : 937\n",
      "len(valid_index) : 936\n",
      "================================= 2fold lightgbm =================================\n"
     ]
    },
    {
     "name": "stdout",
     "output_type": "stream",
     "text": [
      "[20]\ttraining's binary_logloss: 0.00497549\tvalid_1's binary_logloss: 0.0255748\n",
      "Early stopping, best iteration is:\n",
      "[12]\ttraining's binary_logloss: 0.00702151\tvalid_1's binary_logloss: 0.025206\n",
      "Training until validation scores don't improve for 10 rounds\n",
      "[20]\ttraining's binary_logloss: 0.00644182\tvalid_1's binary_logloss: 0.0207394\n"
     ]
    },
    {
     "name": "stderr",
     "output_type": "stream",
     "text": [
      "tlr_antagonist logloss: 0.022949848712685045\n",
      "=========================================================================================\n",
      "len(trt) : 36\n",
      "len(train_index) : 951\n",
      "len(valid_index) : 951\n",
      "================================= 1fold lightgbm =================================\n"
     ]
    },
    {
     "name": "stdout",
     "output_type": "stream",
     "text": [
      "Early stopping, best iteration is:\n",
      "[22]\ttraining's binary_logloss: 0.00598386\tvalid_1's binary_logloss: 0.0206913\n",
      "Training until validation scores don't improve for 10 rounds\n",
      "[20]\ttraining's binary_logloss: 0.0295075\tvalid_1's binary_logloss: 0.0630403\n",
      "[40]\ttraining's binary_logloss: 0.0152984\tvalid_1's binary_logloss: 0.0569179\n",
      "[60]\ttraining's binary_logloss: 0.00853612\tvalid_1's binary_logloss: 0.0556131\n"
     ]
    },
    {
     "name": "stderr",
     "output_type": "stream",
     "text": [
      "len(train_index) : 951\n",
      "len(valid_index) : 951\n",
      "================================= 2fold lightgbm =================================\n"
     ]
    },
    {
     "name": "stdout",
     "output_type": "stream",
     "text": [
      "Early stopping, best iteration is:\n",
      "[58]\ttraining's binary_logloss: 0.00903108\tvalid_1's binary_logloss: 0.0555323\n",
      "Training until validation scores don't improve for 10 rounds\n",
      "[20]\ttraining's binary_logloss: 0.029358\tvalid_1's binary_logloss: 0.0571821\n",
      "[40]\ttraining's binary_logloss: 0.0151523\tvalid_1's binary_logloss: 0.0473074\n",
      "[60]\ttraining's binary_logloss: 0.00828317\tvalid_1's binary_logloss: 0.0429479\n",
      "[80]\ttraining's binary_logloss: 0.00465904\tvalid_1's binary_logloss: 0.0413955\n",
      "Early stopping, best iteration is:\n",
      "[77]\ttraining's binary_logloss: 0.00508169\tvalid_1's binary_logloss: 0.0411435\n"
     ]
    },
    {
     "name": "stderr",
     "output_type": "stream",
     "text": [
      "tnf_inhibitor logloss: 0.048337920956235986\n",
      "=========================================================================================\n",
      "len(trt) : 127\n",
      "len(train_index) : 996\n",
      "len(valid_index) : 997\n",
      "================================= 1fold lightgbm =================================\n"
     ]
    },
    {
     "name": "stdout",
     "output_type": "stream",
     "text": [
      "Training until validation scores don't improve for 10 rounds\n",
      "[20]\ttraining's binary_logloss: 0.0820591\tvalid_1's binary_logloss: 0.100508\n",
      "[40]\ttraining's binary_logloss: 0.04197\tvalid_1's binary_logloss: 0.0604296\n",
      "[60]\ttraining's binary_logloss: 0.0227475\tvalid_1's binary_logloss: 0.0387107\n",
      "[80]\ttraining's binary_logloss: 0.0124316\tvalid_1's binary_logloss: 0.0282625\n",
      "[100]\ttraining's binary_logloss: 0.00695689\tvalid_1's binary_logloss: 0.0215757\n",
      "[120]\ttraining's binary_logloss: 0.00392016\tvalid_1's binary_logloss: 0.0172833\n",
      "[140]\ttraining's binary_logloss: 0.00222199\tvalid_1's binary_logloss: 0.014345\n",
      "[160]\ttraining's binary_logloss: 0.00126024\tvalid_1's binary_logloss: 0.012459\n",
      "[180]\ttraining's binary_logloss: 0.000709535\tvalid_1's binary_logloss: 0.0113632\n",
      "[200]\ttraining's binary_logloss: 0.000402928\tvalid_1's binary_logloss: 0.0106244\n"
     ]
    },
    {
     "name": "stderr",
     "output_type": "stream",
     "text": [
      "len(train_index) : 997\n",
      "len(valid_index) : 996\n",
      "================================= 2fold lightgbm =================================\n"
     ]
    },
    {
     "name": "stdout",
     "output_type": "stream",
     "text": [
      "[220]\ttraining's binary_logloss: 0.000228614\tvalid_1's binary_logloss: 0.0102336\n",
      "Early stopping, best iteration is:\n",
      "[212]\ttraining's binary_logloss: 0.000287007\tvalid_1's binary_logloss: 0.0101544\n",
      "Training until validation scores don't improve for 10 rounds\n",
      "[20]\ttraining's binary_logloss: 0.0819388\tvalid_1's binary_logloss: 0.0928274\n",
      "[40]\ttraining's binary_logloss: 0.0415537\tvalid_1's binary_logloss: 0.0586719\n",
      "[60]\ttraining's binary_logloss: 0.0223493\tvalid_1's binary_logloss: 0.0421759\n",
      "[80]\ttraining's binary_logloss: 0.0123042\tvalid_1's binary_logloss: 0.0338338\n",
      "[100]\ttraining's binary_logloss: 0.00685206\tvalid_1's binary_logloss: 0.0293152\n",
      "[120]\ttraining's binary_logloss: 0.00383395\tvalid_1's binary_logloss: 0.027065\n",
      "[140]\ttraining's binary_logloss: 0.00214424\tvalid_1's binary_logloss: 0.0261362\n",
      "Early stopping, best iteration is:\n",
      "[138]\ttraining's binary_logloss: 0.00227361\tvalid_1's binary_logloss: 0.0260806\n"
     ]
    },
    {
     "name": "stderr",
     "output_type": "stream",
     "text": [
      "topoisomerase_inhibitor logloss: 0.018113506397271387\n",
      "=========================================================================================\n",
      "len(trt) : 18\n",
      "len(train_index) : 942\n",
      "len(valid_index) : 942\n",
      "================================= 1fold lightgbm =================================\n"
     ]
    },
    {
     "name": "stdout",
     "output_type": "stream",
     "text": [
      "Training until validation scores don't improve for 10 rounds\n",
      "[20]\ttraining's binary_logloss: 0.0156186\tvalid_1's binary_logloss: 0.0356689\n",
      "[40]\ttraining's binary_logloss: 0.0079116\tvalid_1's binary_logloss: 0.0322781\n",
      "Early stopping, best iteration is:\n",
      "[34]\ttraining's binary_logloss: 0.00969103\tvalid_1's binary_logloss: 0.0319052\n"
     ]
    },
    {
     "name": "stderr",
     "output_type": "stream",
     "text": [
      "len(train_index) : 942\n",
      "len(valid_index) : 942\n",
      "================================= 2fold lightgbm =================================\n"
     ]
    },
    {
     "name": "stdout",
     "output_type": "stream",
     "text": [
      "Training until validation scores don't improve for 10 rounds\n",
      "[20]\ttraining's binary_logloss: 0.0142856\tvalid_1's binary_logloss: 0.0444691\n"
     ]
    },
    {
     "name": "stderr",
     "output_type": "stream",
     "text": [
      "transient_receptor_potential_channel_antagonist logloss: 0.03770099915435096\n",
      "=========================================================================================\n",
      "len(trt) : 6\n",
      "len(train_index) : 936\n",
      "len(valid_index) : 936\n",
      "================================= 1fold lightgbm =================================\n"
     ]
    },
    {
     "name": "stdout",
     "output_type": "stream",
     "text": [
      "[40]\ttraining's binary_logloss: 0.00731655\tvalid_1's binary_logloss: 0.0438722\n",
      "Early stopping, best iteration is:\n",
      "[31]\ttraining's binary_logloss: 0.00981512\tvalid_1's binary_logloss: 0.0434968\n",
      "Training until validation scores don't improve for 10 rounds\n",
      "[20]\ttraining's binary_logloss: 0.00500214\tvalid_1's binary_logloss: 0.0199778\n"
     ]
    },
    {
     "name": "stderr",
     "output_type": "stream",
     "text": [
      "len(train_index) : 936\n",
      "len(valid_index) : 936\n",
      "================================= 2fold lightgbm =================================\n"
     ]
    },
    {
     "name": "stdout",
     "output_type": "stream",
     "text": [
      "Early stopping, best iteration is:\n",
      "[24]\ttraining's binary_logloss: 0.00430357\tvalid_1's binary_logloss: 0.019629\n",
      "Training until validation scores don't improve for 10 rounds\n"
     ]
    },
    {
     "name": "stderr",
     "output_type": "stream",
     "text": [
      "tropomyosin_receptor_kinase_inhibitor logloss: 0.01978104082929339\n",
      "=========================================================================================\n",
      "len(trt) : 25\n",
      "len(train_index) : 945\n",
      "len(valid_index) : 946\n",
      "================================= 1fold lightgbm =================================\n"
     ]
    },
    {
     "name": "stdout",
     "output_type": "stream",
     "text": [
      "Early stopping, best iteration is:\n",
      "[8]\ttraining's binary_logloss: 0.00888862\tvalid_1's binary_logloss: 0.019933\n",
      "Training until validation scores don't improve for 10 rounds\n",
      "[20]\ttraining's binary_logloss: 0.0192428\tvalid_1's binary_logloss: 0.0431639\n",
      "[40]\ttraining's binary_logloss: 0.00979115\tvalid_1's binary_logloss: 0.0388802\n",
      "[60]\ttraining's binary_logloss: 0.00540291\tvalid_1's binary_logloss: 0.0370211\n"
     ]
    },
    {
     "name": "stderr",
     "output_type": "stream",
     "text": [
      "len(train_index) : 946\n",
      "len(valid_index) : 945\n",
      "================================= 2fold lightgbm =================================\n"
     ]
    },
    {
     "name": "stdout",
     "output_type": "stream",
     "text": [
      "Early stopping, best iteration is:\n",
      "[64]\ttraining's binary_logloss: 0.0048161\tvalid_1's binary_logloss: 0.0368445\n",
      "Training until validation scores don't improve for 10 rounds\n",
      "[20]\ttraining's binary_logloss: 0.0211232\tvalid_1's binary_logloss: 0.0459002\n",
      "[40]\ttraining's binary_logloss: 0.011398\tvalid_1's binary_logloss: 0.0431009\n",
      "[60]\ttraining's binary_logloss: 0.00637098\tvalid_1's binary_logloss: 0.0403614\n",
      "[80]\ttraining's binary_logloss: 0.00364016\tvalid_1's binary_logloss: 0.0384393\n"
     ]
    },
    {
     "name": "stderr",
     "output_type": "stream",
     "text": [
      "trpv_agonist logloss: 0.037492665402646536\n",
      "=========================================================================================\n",
      "len(trt) : 48\n",
      "len(train_index) : 957\n",
      "len(valid_index) : 957\n",
      "================================= 1fold lightgbm =================================\n"
     ]
    },
    {
     "name": "stdout",
     "output_type": "stream",
     "text": [
      "[100]\ttraining's binary_logloss: 0.00209055\tvalid_1's binary_logloss: 0.0384473\n",
      "Early stopping, best iteration is:\n",
      "[90]\ttraining's binary_logloss: 0.00274711\tvalid_1's binary_logloss: 0.0381415\n",
      "Training until validation scores don't improve for 10 rounds\n",
      "[20]\ttraining's binary_logloss: 0.041237\tvalid_1's binary_logloss: 0.0841972\n",
      "[40]\ttraining's binary_logloss: 0.0218494\tvalid_1's binary_logloss: 0.0738733\n",
      "[60]\ttraining's binary_logloss: 0.0123669\tvalid_1's binary_logloss: 0.0691505\n",
      "[80]\ttraining's binary_logloss: 0.00712578\tvalid_1's binary_logloss: 0.0678165\n"
     ]
    },
    {
     "name": "stderr",
     "output_type": "stream",
     "text": [
      "len(train_index) : 957\n",
      "len(valid_index) : 957\n",
      "================================= 2fold lightgbm =================================\n"
     ]
    },
    {
     "name": "stdout",
     "output_type": "stream",
     "text": [
      "Early stopping, best iteration is:\n",
      "[84]\ttraining's binary_logloss: 0.00638891\tvalid_1's binary_logloss: 0.0670167\n",
      "Training until validation scores don't improve for 10 rounds\n",
      "[20]\ttraining's binary_logloss: 0.0424825\tvalid_1's binary_logloss: 0.0815006\n",
      "[40]\ttraining's binary_logloss: 0.022385\tvalid_1's binary_logloss: 0.0733095\n",
      "[60]\ttraining's binary_logloss: 0.0126722\tvalid_1's binary_logloss: 0.0694421\n",
      "[80]\ttraining's binary_logloss: 0.00733283\tvalid_1's binary_logloss: 0.0686065\n",
      "Early stopping, best iteration is:\n",
      "[78]\ttraining's binary_logloss: 0.00773522\tvalid_1's binary_logloss: 0.0685152\n"
     ]
    },
    {
     "name": "stderr",
     "output_type": "stream",
     "text": [
      "trpv_antagonist logloss: 0.06776592468467414\n",
      "=========================================================================================\n",
      "len(trt) : 316\n",
      "len(train_index) : 1091\n",
      "len(valid_index) : 1091\n",
      "================================= 1fold lightgbm =================================\n"
     ]
    },
    {
     "name": "stdout",
     "output_type": "stream",
     "text": [
      "Training until validation scores don't improve for 10 rounds\n",
      "[20]\ttraining's binary_logloss: 0.169088\tvalid_1's binary_logloss: 0.180131\n",
      "[40]\ttraining's binary_logloss: 0.0872813\tvalid_1's binary_logloss: 0.102498\n",
      "[60]\ttraining's binary_logloss: 0.0471713\tvalid_1's binary_logloss: 0.0640015\n",
      "[80]\ttraining's binary_logloss: 0.0261751\tvalid_1's binary_logloss: 0.0435261\n",
      "[100]\ttraining's binary_logloss: 0.0146059\tvalid_1's binary_logloss: 0.0313719\n",
      "[120]\ttraining's binary_logloss: 0.0082184\tvalid_1's binary_logloss: 0.0248963\n",
      "[140]\ttraining's binary_logloss: 0.00464219\tvalid_1's binary_logloss: 0.0215242\n",
      "[160]\ttraining's binary_logloss: 0.00261085\tvalid_1's binary_logloss: 0.0193728\n",
      "[180]\ttraining's binary_logloss: 0.00147719\tvalid_1's binary_logloss: 0.0181326\n",
      "[200]\ttraining's binary_logloss: 0.000834524\tvalid_1's binary_logloss: 0.0175398\n",
      "[220]\ttraining's binary_logloss: 0.000470485\tvalid_1's binary_logloss: 0.0166274\n",
      "[240]\ttraining's binary_logloss: 0.000265639\tvalid_1's binary_logloss: 0.0160458\n",
      "[260]\ttraining's binary_logloss: 0.000149854\tvalid_1's binary_logloss: 0.0152513\n",
      "[280]\ttraining's binary_logloss: 8.4707e-05\tvalid_1's binary_logloss: 0.0149792\n"
     ]
    },
    {
     "name": "stderr",
     "output_type": "stream",
     "text": [
      "len(train_index) : 1091\n",
      "len(valid_index) : 1091\n",
      "================================= 2fold lightgbm =================================\n"
     ]
    },
    {
     "name": "stdout",
     "output_type": "stream",
     "text": [
      "Early stopping, best iteration is:\n",
      "[282]\ttraining's binary_logloss: 7.99909e-05\tvalid_1's binary_logloss: 0.0148817\n",
      "Training until validation scores don't improve for 10 rounds\n",
      "[20]\ttraining's binary_logloss: 0.168571\tvalid_1's binary_logloss: 0.185529\n",
      "[40]\ttraining's binary_logloss: 0.0885608\tvalid_1's binary_logloss: 0.110843\n",
      "[60]\ttraining's binary_logloss: 0.0469822\tvalid_1's binary_logloss: 0.0703791\n",
      "[80]\ttraining's binary_logloss: 0.0256064\tvalid_1's binary_logloss: 0.04923\n",
      "[100]\ttraining's binary_logloss: 0.0142539\tvalid_1's binary_logloss: 0.0375793\n",
      "[120]\ttraining's binary_logloss: 0.00795138\tvalid_1's binary_logloss: 0.0308369\n",
      "[140]\ttraining's binary_logloss: 0.0044903\tvalid_1's binary_logloss: 0.0266317\n",
      "[160]\ttraining's binary_logloss: 0.00254344\tvalid_1's binary_logloss: 0.0242578\n",
      "[180]\ttraining's binary_logloss: 0.00144235\tvalid_1's binary_logloss: 0.0228944\n"
     ]
    },
    {
     "name": "stderr",
     "output_type": "stream",
     "text": [
      "tubulin_inhibitor logloss: 0.018783806206910805\n",
      "=========================================================================================\n",
      "len(trt) : 73\n",
      "len(train_index) : 969\n",
      "len(valid_index) : 970\n",
      "================================= 1fold lightgbm =================================\n"
     ]
    },
    {
     "name": "stdout",
     "output_type": "stream",
     "text": [
      "Early stopping, best iteration is:\n",
      "[181]\ttraining's binary_logloss: 0.00140218\tvalid_1's binary_logloss: 0.0226859\n",
      "Training until validation scores don't improve for 10 rounds\n",
      "[20]\ttraining's binary_logloss: 0.0518106\tvalid_1's binary_logloss: 0.0848081\n",
      "[40]\ttraining's binary_logloss: 0.0268837\tvalid_1's binary_logloss: 0.0637129\n",
      "[60]\ttraining's binary_logloss: 0.0147762\tvalid_1's binary_logloss: 0.0525118\n",
      "[80]\ttraining's binary_logloss: 0.00832136\tvalid_1's binary_logloss: 0.0466281\n",
      "[100]\ttraining's binary_logloss: 0.00470646\tvalid_1's binary_logloss: 0.0435007\n",
      "[120]\ttraining's binary_logloss: 0.00268484\tvalid_1's binary_logloss: 0.0419854\n",
      "[140]\ttraining's binary_logloss: 0.00153736\tvalid_1's binary_logloss: 0.0410922\n"
     ]
    },
    {
     "name": "stderr",
     "output_type": "stream",
     "text": [
      "len(train_index) : 970\n",
      "len(valid_index) : 969\n",
      "================================= 2fold lightgbm =================================\n"
     ]
    },
    {
     "name": "stdout",
     "output_type": "stream",
     "text": [
      "[160]\ttraining's binary_logloss: 0.000880697\tvalid_1's binary_logloss: 0.0407526\n",
      "Early stopping, best iteration is:\n",
      "[150]\ttraining's binary_logloss: 0.00116453\tvalid_1's binary_logloss: 0.0404984\n",
      "Training until validation scores don't improve for 10 rounds\n",
      "[20]\ttraining's binary_logloss: 0.0550235\tvalid_1's binary_logloss: 0.0762628\n",
      "[40]\ttraining's binary_logloss: 0.0288918\tvalid_1's binary_logloss: 0.0548427\n",
      "[60]\ttraining's binary_logloss: 0.0159655\tvalid_1's binary_logloss: 0.0436825\n",
      "[80]\ttraining's binary_logloss: 0.00900263\tvalid_1's binary_logloss: 0.0385105\n",
      "[100]\ttraining's binary_logloss: 0.00511962\tvalid_1's binary_logloss: 0.0364913\n",
      "[120]\ttraining's binary_logloss: 0.00290576\tvalid_1's binary_logloss: 0.0356176\n",
      "[140]\ttraining's binary_logloss: 0.00166924\tvalid_1's binary_logloss: 0.0353677\n"
     ]
    },
    {
     "name": "stderr",
     "output_type": "stream",
     "text": [
      "tyrosine_kinase_inhibitor logloss: 0.03771696260952769\n",
      "=========================================================================================\n",
      "len(trt) : 6\n",
      "len(train_index) : 936\n",
      "len(valid_index) : 936\n",
      "================================= 1fold lightgbm =================================\n"
     ]
    },
    {
     "name": "stdout",
     "output_type": "stream",
     "text": [
      "[160]\ttraining's binary_logloss: 0.000962183\tvalid_1's binary_logloss: 0.0353806\n",
      "Early stopping, best iteration is:\n",
      "[150]\ttraining's binary_logloss: 0.00126748\tvalid_1's binary_logloss: 0.0349327\n",
      "Training until validation scores don't improve for 10 rounds\n"
     ]
    },
    {
     "name": "stderr",
     "output_type": "stream",
     "text": [
      "len(train_index) : 936\n",
      "len(valid_index) : 936\n",
      "================================= 2fold lightgbm =================================\n"
     ]
    },
    {
     "name": "stdout",
     "output_type": "stream",
     "text": [
      "[20]\ttraining's binary_logloss: 0.00514872\tvalid_1's binary_logloss: 0.0184415\n",
      "Early stopping, best iteration is:\n",
      "[12]\ttraining's binary_logloss: 0.00730356\tvalid_1's binary_logloss: 0.0182177\n",
      "Training until validation scores don't improve for 10 rounds\n",
      "[20]\ttraining's binary_logloss: 0.00512629\tvalid_1's binary_logloss: 0.0176055\n",
      "[40]\ttraining's binary_logloss: 0.00254303\tvalid_1's binary_logloss: 0.0170545\n"
     ]
    },
    {
     "name": "stderr",
     "output_type": "stream",
     "text": [
      "ubiquitin_specific_protease_inhibitor logloss: 0.017358458424195252\n",
      "=========================================================================================\n",
      "len(trt) : 170\n",
      "len(train_index) : 1018\n",
      "len(valid_index) : 1018\n",
      "================================= 1fold lightgbm =================================\n"
     ]
    },
    {
     "name": "stdout",
     "output_type": "stream",
     "text": [
      "[60]\ttraining's binary_logloss: 0.00136427\tvalid_1's binary_logloss: 0.0167242\n",
      "Early stopping, best iteration is:\n",
      "[53]\ttraining's binary_logloss: 0.00169103\tvalid_1's binary_logloss: 0.0164992\n",
      "Training until validation scores don't improve for 10 rounds\n",
      "[20]\ttraining's binary_logloss: 0.106104\tvalid_1's binary_logloss: 0.13209\n",
      "[40]\ttraining's binary_logloss: 0.0550061\tvalid_1's binary_logloss: 0.089154\n",
      "[60]\ttraining's binary_logloss: 0.0298422\tvalid_1's binary_logloss: 0.0698428\n",
      "[80]\ttraining's binary_logloss: 0.0164501\tvalid_1's binary_logloss: 0.0614719\n",
      "[100]\ttraining's binary_logloss: 0.00922479\tvalid_1's binary_logloss: 0.0584013\n"
     ]
    },
    {
     "name": "stderr",
     "output_type": "stream",
     "text": [
      "len(train_index) : 1018\n",
      "len(valid_index) : 1018\n",
      "================================= 2fold lightgbm =================================\n"
     ]
    },
    {
     "name": "stdout",
     "output_type": "stream",
     "text": [
      "Early stopping, best iteration is:\n",
      "[104]\ttraining's binary_logloss: 0.00822791\tvalid_1's binary_logloss: 0.0580451\n",
      "Training until validation scores don't improve for 10 rounds\n",
      "[20]\ttraining's binary_logloss: 0.107872\tvalid_1's binary_logloss: 0.119872\n",
      "[40]\ttraining's binary_logloss: 0.0560718\tvalid_1's binary_logloss: 0.0735277\n",
      "[60]\ttraining's binary_logloss: 0.0308296\tvalid_1's binary_logloss: 0.0499073\n",
      "[80]\ttraining's binary_logloss: 0.0173101\tvalid_1's binary_logloss: 0.0373108\n",
      "[100]\ttraining's binary_logloss: 0.00983091\tvalid_1's binary_logloss: 0.0305939\n",
      "[120]\ttraining's binary_logloss: 0.00560976\tvalid_1's binary_logloss: 0.0264228\n",
      "[140]\ttraining's binary_logloss: 0.00320547\tvalid_1's binary_logloss: 0.0244962\n",
      "[160]\ttraining's binary_logloss: 0.00183003\tvalid_1's binary_logloss: 0.0228094\n",
      "[180]\ttraining's binary_logloss: 0.00105245\tvalid_1's binary_logloss: 0.0222452\n",
      "[200]\ttraining's binary_logloss: 0.000605241\tvalid_1's binary_logloss: 0.0215807\n",
      "[220]\ttraining's binary_logloss: 0.000348213\tvalid_1's binary_logloss: 0.0211754\n",
      "[240]\ttraining's binary_logloss: 0.000199232\tvalid_1's binary_logloss: 0.0200797\n"
     ]
    },
    {
     "name": "stderr",
     "output_type": "stream",
     "text": [
      "vegfr_inhibitor logloss: 0.039007256632471614\n",
      "=========================================================================================\n",
      "len(trt) : 26\n"
     ]
    },
    {
     "name": "stdout",
     "output_type": "stream",
     "text": [
      "[260]\ttraining's binary_logloss: 0.000113782\tvalid_1's binary_logloss: 0.0203579\n",
      "Early stopping, best iteration is:\n",
      "[252]\ttraining's binary_logloss: 0.000142374\tvalid_1's binary_logloss: 0.0199694\n"
     ]
    },
    {
     "name": "stderr",
     "output_type": "stream",
     "text": [
      "len(train_index) : 946\n",
      "len(valid_index) : 946\n",
      "================================= 1fold lightgbm =================================\n"
     ]
    },
    {
     "name": "stdout",
     "output_type": "stream",
     "text": [
      "Training until validation scores don't improve for 10 rounds\n",
      "[20]\ttraining's binary_logloss: 0.0219623\tvalid_1's binary_logloss: 0.062756\n",
      "[40]\ttraining's binary_logloss: 0.011356\tvalid_1's binary_logloss: 0.0606342\n",
      "Early stopping, best iteration is:\n",
      "[38]\ttraining's binary_logloss: 0.0120884\tvalid_1's binary_logloss: 0.0606318\n"
     ]
    },
    {
     "name": "stderr",
     "output_type": "stream",
     "text": [
      "len(train_index) : 946\n",
      "len(valid_index) : 946\n",
      "================================= 2fold lightgbm =================================\n"
     ]
    },
    {
     "name": "stdout",
     "output_type": "stream",
     "text": [
      "Training until validation scores don't improve for 10 rounds\n",
      "[20]\ttraining's binary_logloss: 0.0227998\tvalid_1's binary_logloss: 0.0596837\n",
      "[40]\ttraining's binary_logloss: 0.0117699\tvalid_1's binary_logloss: 0.0560745\n"
     ]
    },
    {
     "name": "stderr",
     "output_type": "stream",
     "text": [
      "vitamin_b logloss: 0.05812429712051816\n",
      "=========================================================================================\n"
     ]
    },
    {
     "name": "stdout",
     "output_type": "stream",
     "text": [
      "[60]\ttraining's binary_logloss: 0.0065318\tvalid_1's binary_logloss: 0.056325\n",
      "Early stopping, best iteration is:\n",
      "[55]\ttraining's binary_logloss: 0.00754521\tvalid_1's binary_logloss: 0.0556168\n"
     ]
    },
    {
     "name": "stderr",
     "output_type": "stream",
     "text": [
      "len(trt) : 39\n",
      "len(train_index) : 952\n",
      "len(valid_index) : 953\n",
      "================================= 1fold lightgbm =================================\n"
     ]
    },
    {
     "name": "stdout",
     "output_type": "stream",
     "text": [
      "Training until validation scores don't improve for 10 rounds\n",
      "[20]\ttraining's binary_logloss: 0.0311626\tvalid_1's binary_logloss: 0.0574681\n",
      "[40]\ttraining's binary_logloss: 0.0163623\tvalid_1's binary_logloss: 0.0454856\n",
      "[60]\ttraining's binary_logloss: 0.00912719\tvalid_1's binary_logloss: 0.0399973\n",
      "[80]\ttraining's binary_logloss: 0.00522398\tvalid_1's binary_logloss: 0.0371347\n",
      "[100]\ttraining's binary_logloss: 0.00303015\tvalid_1's binary_logloss: 0.0348914\n",
      "[120]\ttraining's binary_logloss: 0.00177027\tvalid_1's binary_logloss: 0.0334204\n",
      "[140]\ttraining's binary_logloss: 0.00103783\tvalid_1's binary_logloss: 0.0318312\n",
      "[160]\ttraining's binary_logloss: 0.000607103\tvalid_1's binary_logloss: 0.0308642\n",
      "[180]\ttraining's binary_logloss: 0.000356105\tvalid_1's binary_logloss: 0.0293477\n",
      "[200]\ttraining's binary_logloss: 0.000209393\tvalid_1's binary_logloss: 0.0283263\n",
      "[220]\ttraining's binary_logloss: 0.000123559\tvalid_1's binary_logloss: 0.0282084\n"
     ]
    },
    {
     "name": "stderr",
     "output_type": "stream",
     "text": [
      "len(train_index) : 953\n",
      "len(valid_index) : 952\n",
      "================================= 2fold lightgbm =================================\n"
     ]
    },
    {
     "name": "stdout",
     "output_type": "stream",
     "text": [
      "[240]\ttraining's binary_logloss: 7.30753e-05\tvalid_1's binary_logloss: 0.0273704\n",
      "Early stopping, best iteration is:\n",
      "[232]\ttraining's binary_logloss: 9.02035e-05\tvalid_1's binary_logloss: 0.0271174\n",
      "Training until validation scores don't improve for 10 rounds\n",
      "[20]\ttraining's binary_logloss: 0.0309256\tvalid_1's binary_logloss: 0.0607402\n",
      "[40]\ttraining's binary_logloss: 0.0161789\tvalid_1's binary_logloss: 0.0534624\n",
      "[60]\ttraining's binary_logloss: 0.00888503\tvalid_1's binary_logloss: 0.0502985\n"
     ]
    },
    {
     "name": "stderr",
     "output_type": "stream",
     "text": [
      "vitamin_d_receptor_agonist logloss: 0.03845732325187606\n",
      "=========================================================================================\n",
      "len(trt) : 30\n",
      "len(train_index) : 948\n",
      "len(valid_index) : 948\n",
      "================================= 1fold lightgbm =================================\n"
     ]
    },
    {
     "name": "stdout",
     "output_type": "stream",
     "text": [
      "Early stopping, best iteration is:\n",
      "[64]\ttraining's binary_logloss: 0.00792459\tvalid_1's binary_logloss: 0.0498091\n",
      "Training until validation scores don't improve for 10 rounds\n",
      "[20]\ttraining's binary_logloss: 0.0266842\tvalid_1's binary_logloss: 0.0663888\n",
      "[40]\ttraining's binary_logloss: 0.0138096\tvalid_1's binary_logloss: 0.0625709\n",
      "[60]\ttraining's binary_logloss: 0.00767545\tvalid_1's binary_logloss: 0.0620801\n",
      "Early stopping, best iteration is:\n",
      "[57]\ttraining's binary_logloss: 0.00836336\tvalid_1's binary_logloss: 0.0618107\n"
     ]
    },
    {
     "name": "stderr",
     "output_type": "stream",
     "text": [
      "len(train_index) : 948\n",
      "len(valid_index) : 948\n",
      "================================= 2fold lightgbm =================================\n"
     ]
    },
    {
     "name": "stdout",
     "output_type": "stream",
     "text": [
      "Training until validation scores don't improve for 10 rounds\n",
      "[20]\ttraining's binary_logloss: 0.0270408\tvalid_1's binary_logloss: 0.0634024\n",
      "[40]\ttraining's binary_logloss: 0.0141355\tvalid_1's binary_logloss: 0.0594263\n",
      "[60]\ttraining's binary_logloss: 0.00791545\tvalid_1's binary_logloss: 0.0581691\n"
     ]
    },
    {
     "name": "stderr",
     "output_type": "stream",
     "text": [
      "wnt_inhibitor logloss: 0.05982108608995593\n",
      "=========================================================================================\n"
     ]
    },
    {
     "name": "stdout",
     "output_type": "stream",
     "text": [
      "Early stopping, best iteration is:\n",
      "[68]\ttraining's binary_logloss: 0.00633204\tvalid_1's binary_logloss: 0.0578314\n",
      "\n"
     ]
    }
   ],
   "source": [
    "for target_col in tqdm(train_targets_scored.columns[1:]):\n",
    "    _preds, _score, models,  = run_lgbm(target_col, ctl_df)\n",
    "\n",
    "    sub[target_col] = _preds\n",
    "    scores.append(_score)\n",
    "        \n",
    "    for model in models:\n",
    "        _importance_df = pd.DataFrame()\n",
    "        _importance_df[\"Feature\"] = train.columns[2:]\n",
    "        _importance_df[\"importance\"] = model.feature_importance(importance_type='gain')\n",
    "        feature_importance_df = pd.concat([feature_importance_df, _importance_df], axis=0)"
   ]
  },
  {
   "cell_type": "code",
   "execution_count": 20,
   "metadata": {
    "execution": {
     "iopub.execute_input": "2020-10-12T13:34:14.916031Z",
     "iopub.status.busy": "2020-10-12T13:34:14.915080Z",
     "iopub.status.idle": "2020-10-12T13:34:16.675385Z",
     "shell.execute_reply": "2020-10-12T13:34:16.674697Z"
    },
    "papermill": {
     "duration": 3.209988,
     "end_time": "2020-10-12T13:34:16.675504",
     "exception": false,
     "start_time": "2020-10-12T13:34:13.465516",
     "status": "completed"
    },
    "tags": []
   },
   "outputs": [],
   "source": [
    "sub.to_csv('submission.csv', index=False)"
   ]
  },
  {
   "cell_type": "code",
   "execution_count": 21,
   "metadata": {
    "execution": {
     "iopub.execute_input": "2020-10-12T13:34:19.498301Z",
     "iopub.status.busy": "2020-10-12T13:34:19.497469Z",
     "iopub.status.idle": "2020-10-12T13:34:19.500474Z",
     "shell.execute_reply": "2020-10-12T13:34:19.501161Z"
    },
    "papermill": {
     "duration": 1.413356,
     "end_time": "2020-10-12T13:34:19.501352",
     "exception": false,
     "start_time": "2020-10-12T13:34:18.087996",
     "status": "completed"
    },
    "tags": []
   },
   "outputs": [
    {
     "name": "stdout",
     "output_type": "stream",
     "text": [
      "CV:0.03666726454869465\n"
     ]
    }
   ],
   "source": [
    "print(f\"CV:{np.mean(scores)}\")"
   ]
  },
  {
   "cell_type": "code",
   "execution_count": 22,
   "metadata": {
    "execution": {
     "iopub.execute_input": "2020-10-12T13:34:22.306061Z",
     "iopub.status.busy": "2020-10-12T13:34:22.305398Z",
     "iopub.status.idle": "2020-10-12T13:34:26.785751Z",
     "shell.execute_reply": "2020-10-12T13:34:26.786185Z"
    },
    "papermill": {
     "duration": 5.8655,
     "end_time": "2020-10-12T13:34:26.786332",
     "exception": false,
     "start_time": "2020-10-12T13:34:20.920832",
     "status": "completed"
    },
    "tags": []
   },
   "outputs": [
    {
     "data": {
      "image/png": "[encoded data removed]",
      "text/plain": [
       "<Figure size 576x2160 with 1 Axes>"
      ]
     },
     "metadata": {
      "needs_background": "light"
     },
     "output_type": "display_data"
    }
   ],
   "source": [
    "show_feature_importance(feature_importance_df)"
   ]
  },
  {
   "cell_type": "code",
   "execution_count": null,
   "metadata": {
    "papermill": {
     "duration": 1.391161,
     "end_time": "2020-10-12T13:34:29.564564",
     "exception": false,
     "start_time": "2020-10-12T13:34:28.173403",
     "status": "completed"
    },
    "tags": []
   },
   "outputs": [],
   "source": []
  }
 ],
 "metadata": {
  "kernelspec": {
   "display_name": "Python 3",
   "language": "python",
   "name": "python3"
  },
  "language_info": {
   "codemirror_mode": {
    "name": "ipython",
    "version": 3
   },
   "file_extension": ".py",
   "mimetype": "text/x-python",
   "name": "python",
   "nbconvert_exporter": "python",
   "pygments_lexer": "ipython3",
   "version": "3.7.6"
  },
  "papermill": {
   "duration": 1403.739319,
   "end_time": "2020-10-12T13:34:32.005801",
   "environment_variables": {},
   "exception": null,
   "input_path": "__notebook__.ipynb",
   "output_path": "__notebook__.ipynb",
   "parameters": {},
   "start_time": "2020-10-12T13:11:08.266482",
   "version": "2.1.0"
  },
  "widgets": {
   "application/vnd.jupyter.widget-state+json": {
    "state": {
     "03d9eef3dadb4820b94ee42a7cd88182": {
      "model_module": "@jupyter-widgets/base",
      "model_module_version": "1.2.0",
      "model_name": "LayoutModel",
      "state": {
       "_model_module": "@jupyter-widgets/base",
       "_model_module_version": "1.2.0",
       "_model_name": "LayoutModel",
       "_view_count": null,
       "_view_module": "@jupyter-widgets/base",
       "_view_module_version": "1.2.0",
       "_view_name": "LayoutView",
       "align_content": null,
       "align_items": null,
       "align_self": null,
       "border": null,
       "bottom": null,
       "display": null,
       "flex": null,
       "flex_flow": null,
       "grid_area": null,
       "grid_auto_columns": null,
       "grid_auto_flow": null,
       "grid_auto_rows": null,
       "grid_column": null,
       "grid_gap": null,
       "grid_row": null,
       "grid_template_areas": null,
       "grid_template_columns": null,
       "grid_template_rows": null,
       "height": null,
       "justify_content": null,
       "justify_items": null,
       "left": null,
       "margin": null,
       "max_height": null,
       "max_width": null,
       "min_height": null,
       "min_width": null,
       "object_fit": null,
       "object_position": null,
       "order": null,
       "overflow": null,
       "overflow_x": null,
       "overflow_y": null,
       "padding": null,
       "right": null,
       "top": null,
       "visibility": null,
       "width": null
      }
     },
     "0938c446de0e4fb5ae130268476116e7": {
      "model_module": "@jupyter-widgets/controls",
      "model_module_version": "1.5.0",
      "model_name": "FloatProgressModel",
      "state": {
       "_dom_classes": [],
       "_model_module": "@jupyter-widgets/controls",
       "_model_module_version": "1.5.0",
       "_model_name": "FloatProgressModel",
       "_view_count": null,
       "_view_module": "@jupyter-widgets/controls",
       "_view_module_version": "1.5.0",
       "_view_name": "ProgressView",
       "bar_style": "success",
       "description": "100%",
       "description_tooltip": null,
       "layout": "IPY_MODEL_cf327e67f67545878dcdfdb946fce897",
       "max": 206.0,
       "min": 0.0,
       "orientation": "horizontal",
       "style": "IPY_MODEL_35242114c23a4fce9e5010aa422a5ab6",
       "value": 206.0
      }
     },
     "1d402b1503a64b1dbfc6eb7e5f44e584": {
      "model_module": "@jupyter-widgets/controls",
      "model_module_version": "1.5.0",
      "model_name": "HTMLModel",
      "state": {
       "_dom_classes": [],
       "_model_module": "@jupyter-widgets/controls",
       "_model_module_version": "1.5.0",
       "_model_name": "HTMLModel",
       "_view_count": null,
       "_view_module": "@jupyter-widgets/controls",
       "_view_module_version": "1.5.0",
       "_view_name": "HTMLView",
       "description": "",
       "description_tooltip": null,
       "layout": "IPY_MODEL_03d9eef3dadb4820b94ee42a7cd88182",
       "placeholder": "​",
       "style": "IPY_MODEL_fc64726631604d94ba32a66ff3956532",
       "value": " 206/206 [22:58&lt;00:00,  6.69s/it]"
      }
     },
     "35242114c23a4fce9e5010aa422a5ab6": {
      "model_module": "@jupyter-widgets/controls",
      "model_module_version": "1.5.0",
      "model_name": "ProgressStyleModel",
      "state": {
       "_model_module": "@jupyter-widgets/controls",
       "_model_module_version": "1.5.0",
       "_model_name": "ProgressStyleModel",
       "_view_count": null,
       "_view_module": "@jupyter-widgets/base",
       "_view_module_version": "1.2.0",
       "_view_name": "StyleView",
       "bar_color": null,
       "description_width": "initial"
      }
     },
     "3d9554bbc5a046e8877e9c4521d09f61": {
      "model_module": "@jupyter-widgets/base",
      "model_module_version": "1.2.0",
      "model_name": "LayoutModel",
      "state": {
       "_model_module": "@jupyter-widgets/base",
       "_model_module_version": "1.2.0",
       "_model_name": "LayoutModel",
       "_view_count": null,
       "_view_module": "@jupyter-widgets/base",
       "_view_module_version": "1.2.0",
       "_view_name": "LayoutView",
       "align_content": null,
       "align_items": null,
       "align_self": null,
       "border": null,
       "bottom": null,
       "display": null,
       "flex": null,
       "flex_flow": null,
       "grid_area": null,
       "grid_auto_columns": null,
       "grid_auto_flow": null,
       "grid_auto_rows": null,
       "grid_column": null,
       "grid_gap": null,
       "grid_row": null,
       "grid_template_areas": null,
       "grid_template_columns": null,
       "grid_template_rows": null,
       "height": null,
       "justify_content": null,
       "justify_items": null,
       "left": null,
       "margin": null,
       "max_height": null,
       "max_width": null,
       "min_height": null,
       "min_width": null,
       "object_fit": null,
       "object_position": null,
       "order": null,
       "overflow": null,
       "overflow_x": null,
       "overflow_y": null,
       "padding": null,
       "right": null,
       "top": null,
       "visibility": null,
       "width": null
      }
     },
     "95a6ad6a68df454680eaa96f479270ed": {
      "model_module": "@jupyter-widgets/controls",
      "model_module_version": "1.5.0",
      "model_name": "HBoxModel",
      "state": {
       "_dom_classes": [],
       "_model_module": "@jupyter-widgets/controls",
       "_model_module_version": "1.5.0",
       "_model_name": "HBoxModel",
       "_view_count": null,
       "_view_module": "@jupyter-widgets/controls",
       "_view_module_version": "1.5.0",
       "_view_name": "HBoxView",
       "box_style": "",
       "children": [
        "IPY_MODEL_0938c446de0e4fb5ae130268476116e7",
        "IPY_MODEL_1d402b1503a64b1dbfc6eb7e5f44e584"
       ],
       "layout": "IPY_MODEL_3d9554bbc5a046e8877e9c4521d09f61"
      }
     },
     "cf327e67f67545878dcdfdb946fce897": {
      "model_module": "@jupyter-widgets/base",
      "model_module_version": "1.2.0",
      "model_name": "LayoutModel",
      "state": {
       "_model_module": "@jupyter-widgets/base",
       "_model_module_version": "1.2.0",
       "_model_name": "LayoutModel",
       "_view_count": null,
       "_view_module": "@jupyter-widgets/base",
       "_view_module_version": "1.2.0",
       "_view_name": "LayoutView",
       "align_content": null,
       "align_items": null,
       "align_self": null,
       "border": null,
       "bottom": null,
       "display": null,
       "flex": null,
       "flex_flow": null,
       "grid_area": null,
       "grid_auto_columns": null,
       "grid_auto_flow": null,
       "grid_auto_rows": null,
       "grid_column": null,
       "grid_gap": null,
       "grid_row": null,
       "grid_template_areas": null,
       "grid_template_columns": null,
       "grid_template_rows": null,
       "height": null,
       "justify_content": null,
       "justify_items": null,
       "left": null,
       "margin": null,
       "max_height": null,
       "max_width": null,
       "min_height": null,
       "min_width": null,
       "object_fit": null,
       "object_position": null,
       "order": null,
       "overflow": null,
       "overflow_x": null,
       "overflow_y": null,
       "padding": null,
       "right": null,
       "top": null,
       "visibility": null,
       "width": null
      }
     },
     "fc64726631604d94ba32a66ff3956532": {
      "model_module": "@jupyter-widgets/controls",
      "model_module_version": "1.5.0",
      "model_name": "DescriptionStyleModel",
      "state": {
       "_model_module": "@jupyter-widgets/controls",
       "_model_module_version": "1.5.0",
       "_model_name": "DescriptionStyleModel",
       "_view_count": null,
       "_view_module": "@jupyter-widgets/base",
       "_view_module_version": "1.2.0",
       "_view_name": "StyleView",
       "description_width": ""
      }
     }
    },
    "version_major": 2,
    "version_minor": 0
   }
  }
 },
 "nbformat": 4,
 "nbformat_minor": 4
}
