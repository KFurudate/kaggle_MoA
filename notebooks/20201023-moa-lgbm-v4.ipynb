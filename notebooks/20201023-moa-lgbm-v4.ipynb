{
 "cells": [
  {
   "cell_type": "markdown",
   "metadata": {
    "papermill": {
     "duration": 0.025137,
     "end_time": "2020-10-24T01:02:16.958763",
     "exception": false,
     "start_time": "2020-10-24T01:02:16.933626",
     "status": "completed"
    },
    "tags": []
   },
   "source": [
    "Thanks for:\n",
    "\n",
    "https://www.kaggle.com/sishihara/moa-lgbm-benchmark#Preprocessing\n",
    "\n",
    "https://www.kaggle.com/ttahara/osic-baseline-lgbm-with-custom-metric\n",
    "\n",
    "https://zenn.dev/fkubota/articles/2b8d46b11c178ac2fa2d\n",
    "\n",
    "https://qiita.com/ryouta0506/items/619d9ac0d80f8c0aed92\n",
    "\n",
    "https://github.com/nejumi/tools_for_kaggle/blob/master/semi_supervised_learner.py\n",
    "\n",
    "https://upura.hatenablog.com/entry/2019/03/03/233534\n"
   ]
  },
  {
   "cell_type": "code",
   "execution_count": 1,
   "metadata": {
    "execution": {
     "iopub.execute_input": "2020-10-24T01:02:17.015535Z",
     "iopub.status.busy": "2020-10-24T01:02:17.014201Z",
     "iopub.status.idle": "2020-10-24T01:02:17.017220Z",
     "shell.execute_reply": "2020-10-24T01:02:17.018087Z"
    },
    "papermill": {
     "duration": 0.035714,
     "end_time": "2020-10-24T01:02:17.018312",
     "exception": false,
     "start_time": "2020-10-24T01:02:16.982598",
     "status": "completed"
    },
    "tags": []
   },
   "outputs": [],
   "source": [
    "# Version = \"v1\" # starter model\n",
    "# Version = \"v2\" # Add debug mode and minor modifications\n",
    "# Version = \"v3\"  # minor modifications, DEBUG=True:CV:0.01672, False:CV:0.01636\n",
    "\n",
    "Version = \"v4\" # Use anotated data, "
   ]
  },
  {
   "cell_type": "code",
   "execution_count": 2,
   "metadata": {
    "execution": {
     "iopub.execute_input": "2020-10-24T01:02:17.098198Z",
     "iopub.status.busy": "2020-10-24T01:02:17.096947Z",
     "iopub.status.idle": "2020-10-24T01:02:17.101971Z",
     "shell.execute_reply": "2020-10-24T01:02:17.103198Z"
    },
    "papermill": {
     "duration": 0.054755,
     "end_time": "2020-10-24T01:02:17.103442",
     "exception": false,
     "start_time": "2020-10-24T01:02:17.048687",
     "status": "completed"
    },
    "tags": []
   },
   "outputs": [],
   "source": [
    "DEBUG = True"
   ]
  },
  {
   "cell_type": "markdown",
   "metadata": {
    "papermill": {
     "duration": 0.026201,
     "end_time": "2020-10-24T01:02:17.166234",
     "exception": false,
     "start_time": "2020-10-24T01:02:17.140033",
     "status": "completed"
    },
    "tags": []
   },
   "source": [
    "# Library"
   ]
  },
  {
   "cell_type": "code",
   "execution_count": 3,
   "metadata": {
    "_cell_guid": "b1076dfc-b9ad-4769-8c92-a6c4dae69d19",
    "_uuid": "8f2839f25d086af736a60e9eeb907d3b93b6e0e5",
    "execution": {
     "iopub.execute_input": "2020-10-24T01:02:17.234918Z",
     "iopub.status.busy": "2020-10-24T01:02:17.233843Z",
     "iopub.status.idle": "2020-10-24T01:02:20.266428Z",
     "shell.execute_reply": "2020-10-24T01:02:20.265652Z"
    },
    "papermill": {
     "duration": 3.073371,
     "end_time": "2020-10-24T01:02:20.266581",
     "exception": false,
     "start_time": "2020-10-24T01:02:17.193210",
     "status": "completed"
    },
    "tags": []
   },
   "outputs": [
    {
     "name": "stdout",
     "output_type": "stream",
     "text": [
      "lightgbm Version:  2.3.1\n",
      "numpy Version:  1.18.5\n",
      "pandas Version:  1.1.1\n",
      "imblearn Version:  0.7.0\n"
     ]
    }
   ],
   "source": [
    "import lightgbm as lgb\n",
    "from logging import getLogger, INFO, StreamHandler, FileHandler, Formatter\n",
    "import imblearn\n",
    "from imblearn.over_sampling import SMOTE\n",
    "\n",
    "import numpy as np\n",
    "import pandas as pd\n",
    "import matplotlib.pyplot as plt\n",
    "import seaborn as sns\n",
    "\n",
    "import os\n",
    "import random\n",
    "\n",
    "from sklearn import preprocessing\n",
    "from sklearn.metrics import log_loss\n",
    "from sklearn.model_selection import StratifiedKFold\n",
    "from sklearn.datasets import make_classification\n",
    "from sklearn.neighbors import NearestNeighbors\n",
    "\n",
    "from tqdm.notebook import tqdm\n",
    "import torch\n",
    "\n",
    "import warnings\n",
    "warnings.filterwarnings(\"ignore\")\n",
    "\n",
    "print(\"lightgbm Version: \", lgb.__version__)\n",
    "print(\"numpy Version: \", np.__version__)\n",
    "print(\"pandas Version: \", pd.__version__)\n",
    "print(\"imblearn Version: \", imblearn.__version__)"
   ]
  },
  {
   "cell_type": "markdown",
   "metadata": {
    "papermill": {
     "duration": 0.023233,
     "end_time": "2020-10-24T01:02:20.313992",
     "exception": false,
     "start_time": "2020-10-24T01:02:20.290759",
     "status": "completed"
    },
    "tags": []
   },
   "source": [
    "# Utils"
   ]
  },
  {
   "cell_type": "code",
   "execution_count": 4,
   "metadata": {
    "execution": {
     "iopub.execute_input": "2020-10-24T01:02:20.375187Z",
     "iopub.status.busy": "2020-10-24T01:02:20.374243Z",
     "iopub.status.idle": "2020-10-24T01:02:20.378811Z",
     "shell.execute_reply": "2020-10-24T01:02:20.377967Z"
    },
    "papermill": {
     "duration": 0.041176,
     "end_time": "2020-10-24T01:02:20.378972",
     "exception": false,
     "start_time": "2020-10-24T01:02:20.337796",
     "status": "completed"
    },
    "tags": []
   },
   "outputs": [],
   "source": [
    "def get_logger(filename='log'):\n",
    "    logger = getLogger(__name__)\n",
    "    logger.setLevel(INFO)\n",
    "    handler1 = StreamHandler()\n",
    "    handler1.setFormatter(Formatter(\"%(message)s\"))\n",
    "    handler2 = FileHandler(filename=f\"{filename}.{Version}.moa.lgbm.log\")\n",
    "    handler2.setFormatter(Formatter(\"%(message)s\"))\n",
    "    logger.addHandler(handler1)\n",
    "    logger.addHandler(handler2)\n",
    "    return logger\n",
    "\n",
    "logger = get_logger()\n",
    "\n",
    "\n",
    "def seed_everything(seed=777):\n",
    "    random.seed(seed)\n",
    "    os.environ['PYTHONHASHSEED'] = str(seed)\n",
    "    np.random.seed(seed)\n",
    "    torch.manual_seed(seed)\n",
    "    torch.cuda.manual_seed(seed)\n",
    "    torch.backends.cudnn.deterministic = True"
   ]
  },
  {
   "cell_type": "markdown",
   "metadata": {
    "papermill": {
     "duration": 0.023449,
     "end_time": "2020-10-24T01:02:20.426348",
     "exception": false,
     "start_time": "2020-10-24T01:02:20.402899",
     "status": "completed"
    },
    "tags": []
   },
   "source": [
    "# Config"
   ]
  },
  {
   "cell_type": "code",
   "execution_count": 5,
   "metadata": {
    "execution": {
     "iopub.execute_input": "2020-10-24T01:02:20.482229Z",
     "iopub.status.busy": "2020-10-24T01:02:20.481438Z",
     "iopub.status.idle": "2020-10-24T01:02:20.489329Z",
     "shell.execute_reply": "2020-10-24T01:02:20.488539Z"
    },
    "papermill": {
     "duration": 0.039521,
     "end_time": "2020-10-24T01:02:20.489463",
     "exception": false,
     "start_time": "2020-10-24T01:02:20.449942",
     "status": "completed"
    },
    "tags": []
   },
   "outputs": [],
   "source": [
    "if DEBUG:\n",
    "    N_FOLD = 2\n",
    "    Num_boost_round=1000\n",
    "    Early_stopping_rounds=10\n",
    "    Learning_rate = 0.03\n",
    "else:\n",
    "    N_FOLD = 4\n",
    "    Num_boost_round=10000\n",
    "    Early_stopping_rounds=50\n",
    "    Learning_rate = 0.01\n",
    "\n",
    "SEED = 42\n",
    "seed_everything(seed=SEED)\n",
    "\n",
    "Threshold = 0.6\n",
    "Max_depth = 7"
   ]
  },
  {
   "cell_type": "markdown",
   "metadata": {
    "papermill": {
     "duration": 0.023921,
     "end_time": "2020-10-24T01:02:20.537502",
     "exception": false,
     "start_time": "2020-10-24T01:02:20.513581",
     "status": "completed"
    },
    "tags": []
   },
   "source": [
    "# Data Loading"
   ]
  },
  {
   "cell_type": "code",
   "execution_count": 6,
   "metadata": {
    "_cell_guid": "79c7e3d0-c299-4dcb-8224-4455121ee9b0",
    "_uuid": "d629ff2d2480ee46fbb7e2d37f6b5fab8052498a",
    "execution": {
     "iopub.execute_input": "2020-10-24T01:02:20.595453Z",
     "iopub.status.busy": "2020-10-24T01:02:20.594457Z",
     "iopub.status.idle": "2020-10-24T01:02:28.273277Z",
     "shell.execute_reply": "2020-10-24T01:02:28.272589Z"
    },
    "papermill": {
     "duration": 7.712003,
     "end_time": "2020-10-24T01:02:28.273409",
     "exception": false,
     "start_time": "2020-10-24T01:02:20.561406",
     "status": "completed"
    },
    "tags": []
   },
   "outputs": [],
   "source": [
    "train = pd.read_csv(\"../input/lish-moa/train_features.csv\")\n",
    "test = pd.read_csv(\"../input/lish-moa/test_features.csv\")\n",
    "train_targets_scored = pd.read_csv(\"../input/lish-moa/train_targets_scored.csv\")\n",
    "train_targets_nonscored = pd.read_csv(\"../input/lish-moa/train_targets_nonscored.csv\")\n",
    "sub = pd.read_csv(\"../input/lish-moa/sample_submission.csv\")"
   ]
  },
  {
   "cell_type": "code",
   "execution_count": 7,
   "metadata": {
    "execution": {
     "iopub.execute_input": "2020-10-24T01:02:28.330991Z",
     "iopub.status.busy": "2020-10-24T01:02:28.330136Z",
     "iopub.status.idle": "2020-10-24T01:02:28.333498Z",
     "shell.execute_reply": "2020-10-24T01:02:28.332820Z"
    },
    "papermill": {
     "duration": 0.036646,
     "end_time": "2020-10-24T01:02:28.333637",
     "exception": false,
     "start_time": "2020-10-24T01:02:28.296991",
     "status": "completed"
    },
    "tags": []
   },
   "outputs": [],
   "source": [
    "def label_encoding(train: pd.DataFrame, test: pd.DataFrame, encode_cols):\n",
    "    n_train = len(train)\n",
    "    train = pd.concat([train, test], sort=False).reset_index(drop=True)\n",
    "    for f in encode_cols:\n",
    "        try:\n",
    "            lbl = preprocessing.LabelEncoder()\n",
    "            train[f] = lbl.fit_transform(list(train[f].values))\n",
    "        except:\n",
    "            print(f)\n",
    "    test = train[n_train:].reset_index(drop=True)\n",
    "    train = train[:n_train]\n",
    "    return train, test"
   ]
  },
  {
   "cell_type": "code",
   "execution_count": 8,
   "metadata": {
    "execution": {
     "iopub.execute_input": "2020-10-24T01:02:28.391624Z",
     "iopub.status.busy": "2020-10-24T01:02:28.390806Z",
     "iopub.status.idle": "2020-10-24T01:02:28.414016Z",
     "shell.execute_reply": "2020-10-24T01:02:28.413269Z"
    },
    "papermill": {
     "duration": 0.056724,
     "end_time": "2020-10-24T01:02:28.414150",
     "exception": false,
     "start_time": "2020-10-24T01:02:28.357426",
     "status": "completed"
    },
    "tags": []
   },
   "outputs": [
    {
     "data": {
      "text/html": [
       "<div>\n",
       "<style scoped>\n",
       "    .dataframe tbody tr th:only-of-type {\n",
       "        vertical-align: middle;\n",
       "    }\n",
       "\n",
       "    .dataframe tbody tr th {\n",
       "        vertical-align: top;\n",
       "    }\n",
       "\n",
       "    .dataframe thead th {\n",
       "        text-align: right;\n",
       "    }\n",
       "</style>\n",
       "<table border=\"1\" class=\"dataframe\">\n",
       "  <thead>\n",
       "    <tr style=\"text-align: right;\">\n",
       "      <th></th>\n",
       "      <th>sig_id</th>\n",
       "      <th>annot1</th>\n",
       "      <th>annot2</th>\n",
       "      <th>annot3</th>\n",
       "    </tr>\n",
       "  </thead>\n",
       "  <tbody>\n",
       "    <tr>\n",
       "      <th>0</th>\n",
       "      <td>acetylcholine_receptor_agonist</td>\n",
       "      <td>acetylcholine_release_enhancer</td>\n",
       "      <td>NaN</td>\n",
       "      <td>NaN</td>\n",
       "    </tr>\n",
       "    <tr>\n",
       "      <th>1</th>\n",
       "      <td>acetylcholine_receptor_antagonist</td>\n",
       "      <td>atherogenesis_inhibitor</td>\n",
       "      <td>NaN</td>\n",
       "      <td>NaN</td>\n",
       "    </tr>\n",
       "    <tr>\n",
       "      <th>2</th>\n",
       "      <td>adenosine_receptor_antagonist</td>\n",
       "      <td>adenosine_deaminase_inhibitor</td>\n",
       "      <td>NaN</td>\n",
       "      <td>NaN</td>\n",
       "    </tr>\n",
       "    <tr>\n",
       "      <th>3</th>\n",
       "      <td>adenylyl_cyclase_activator</td>\n",
       "      <td>adenylyl_cyclase_inhibitor</td>\n",
       "      <td>NaN</td>\n",
       "      <td>NaN</td>\n",
       "    </tr>\n",
       "    <tr>\n",
       "      <th>4</th>\n",
       "      <td>aldehyde_dehydrogenase_inhibitor</td>\n",
       "      <td>alcohol_dehydrogenase_inhibitor</td>\n",
       "      <td>NaN</td>\n",
       "      <td>NaN</td>\n",
       "    </tr>\n",
       "  </tbody>\n",
       "</table>\n",
       "</div>"
      ],
      "text/plain": [
       "                              sig_id                           annot1 annot2  \\\n",
       "0     acetylcholine_receptor_agonist   acetylcholine_release_enhancer    NaN   \n",
       "1  acetylcholine_receptor_antagonist          atherogenesis_inhibitor    NaN   \n",
       "2      adenosine_receptor_antagonist    adenosine_deaminase_inhibitor    NaN   \n",
       "3         adenylyl_cyclase_activator       adenylyl_cyclase_inhibitor    NaN   \n",
       "4   aldehyde_dehydrogenase_inhibitor  alcohol_dehydrogenase_inhibitor    NaN   \n",
       "\n",
       "  annot3  \n",
       "0    NaN  \n",
       "1    NaN  \n",
       "2    NaN  \n",
       "3    NaN  \n",
       "4    NaN  "
      ]
     },
     "execution_count": 8,
     "metadata": {},
     "output_type": "execute_result"
    }
   ],
   "source": [
    "annot = pd.read_csv(\"../input/moa-annot-data/20201016_moa_sig_list.csv\")\n",
    "annot.head()"
   ]
  },
  {
   "cell_type": "code",
   "execution_count": 9,
   "metadata": {
    "execution": {
     "iopub.execute_input": "2020-10-24T01:02:28.469746Z",
     "iopub.status.busy": "2020-10-24T01:02:28.468552Z",
     "iopub.status.idle": "2020-10-24T01:02:28.474727Z",
     "shell.execute_reply": "2020-10-24T01:02:28.473740Z"
    },
    "papermill": {
     "duration": 0.036124,
     "end_time": "2020-10-24T01:02:28.474901",
     "exception": false,
     "start_time": "2020-10-24T01:02:28.438777",
     "status": "completed"
    },
    "tags": []
   },
   "outputs": [
    {
     "name": "stdout",
     "output_type": "stream",
     "text": [
      "['acetylcholine_receptor_agonist', 'acetylcholine_receptor_antagonist', 'adenosine_receptor_antagonist', 'adenylyl_cyclase_activator', 'aldehyde_dehydrogenase_inhibitor', 'angiotensin_receptor_antagonist', 'anti-inflammatory', 'antiarrhythmic', 'anticonvulsant', 'antifungal', 'antihistamine', 'apoptosis_stimulant', 'atm_kinase_inhibitor', 'atp-sensitive_potassium_channel_antagonist', 'atp_synthase_inhibitor', 'atr_kinase_inhibitor', 'autotaxin_inhibitor', 'bacterial_membrane_integrity_inhibitor', 'bcr-abl_inhibitor', 'calcineurin_inhibitor', 'caspase_activator', 'catechol_o_methyltransferase_inhibitor', 'cdk_inhibitor', 'chk_inhibitor', 'coagulation_factor_inhibitor', 'dopamine_receptor_agonist', 'elastase_inhibitor', 'erbb2_inhibitor', 'free_radical_scavenger', 'fungal_squalene_epoxidase_inhibitor', 'gaba_receptor_agonist', 'gaba_receptor_antagonist', 'glutamate_receptor_agonist', 'histamine_receptor_antagonist', 'histone_lysine_demethylase_inhibitor', 'hiv_inhibitor', 'imidazoline_receptor_agonist', 'leukotriene_inhibitor', 'mek_inhibitor', 'nicotinic_receptor_agonist', 'nitric_oxide_production_inhibitor', 'norepinephrine_reuptake_inhibitor', 'p-glycoprotein_inhibitor', 'pdk_inhibitor', 'potassium_channel_activator', 'potassium_channel_antagonist', 'progesterone_receptor_agonist', 'protein_phosphatase_inhibitor', 'protein_tyrosine_kinase_inhibitor', 'ras_gtpase_inhibitor', 'serotonin_receptor_antagonist', 'serotonin_reuptake_inhibitor', 'sodium_channel_inhibitor', 'sphingosine_receptor_agonist', 'steroid', 'tropomyosin_receptor_kinase_inhibitor', 'ubiquitin_specific_protease_inhibitor']\n"
     ]
    }
   ],
   "source": [
    "annot_sig = annot.sig_id.tolist()\n",
    "print(annot_sig)"
   ]
  },
  {
   "cell_type": "code",
   "execution_count": 10,
   "metadata": {
    "execution": {
     "iopub.execute_input": "2020-10-24T01:02:28.536544Z",
     "iopub.status.busy": "2020-10-24T01:02:28.535688Z",
     "iopub.status.idle": "2020-10-24T01:02:28.633561Z",
     "shell.execute_reply": "2020-10-24T01:02:28.632778Z"
    },
    "papermill": {
     "duration": 0.132,
     "end_time": "2020-10-24T01:02:28.633692",
     "exception": false,
     "start_time": "2020-10-24T01:02:28.501692",
     "status": "completed"
    },
    "tags": []
   },
   "outputs": [
    {
     "data": {
      "text/html": [
       "<div>\n",
       "<style scoped>\n",
       "    .dataframe tbody tr th:only-of-type {\n",
       "        vertical-align: middle;\n",
       "    }\n",
       "\n",
       "    .dataframe tbody tr th {\n",
       "        vertical-align: top;\n",
       "    }\n",
       "\n",
       "    .dataframe thead th {\n",
       "        text-align: right;\n",
       "    }\n",
       "</style>\n",
       "<table border=\"1\" class=\"dataframe\">\n",
       "  <thead>\n",
       "    <tr style=\"text-align: right;\">\n",
       "      <th></th>\n",
       "      <th>sig_id</th>\n",
       "      <th>5-alpha_reductase_inhibitor</th>\n",
       "      <th>11-beta-hsd1_inhibitor</th>\n",
       "      <th>acat_inhibitor</th>\n",
       "      <th>acetylcholine_receptor_agonist</th>\n",
       "      <th>acetylcholine_receptor_antagonist</th>\n",
       "      <th>acetylcholinesterase_inhibitor</th>\n",
       "      <th>adenosine_receptor_agonist</th>\n",
       "      <th>adenosine_receptor_antagonist</th>\n",
       "      <th>adenylyl_cyclase_activator</th>\n",
       "      <th>...</th>\n",
       "      <th>ve-cadherin_antagonist</th>\n",
       "      <th>vesicular_monoamine_transporter_inhibitor</th>\n",
       "      <th>vitamin_k_antagonist</th>\n",
       "      <th>voltage-gated_calcium_channel_ligand</th>\n",
       "      <th>voltage-gated_potassium_channel_activator</th>\n",
       "      <th>voltage-gated_sodium_channel_blocker</th>\n",
       "      <th>wdr5_mll_interaction_inhibitor</th>\n",
       "      <th>wnt_agonist</th>\n",
       "      <th>xanthine_oxidase_inhibitor</th>\n",
       "      <th>xiap_inhibitor</th>\n",
       "    </tr>\n",
       "  </thead>\n",
       "  <tbody>\n",
       "    <tr>\n",
       "      <th>0</th>\n",
       "      <td>id_000644bb2</td>\n",
       "      <td>0</td>\n",
       "      <td>0</td>\n",
       "      <td>0</td>\n",
       "      <td>0</td>\n",
       "      <td>0</td>\n",
       "      <td>0</td>\n",
       "      <td>0</td>\n",
       "      <td>0</td>\n",
       "      <td>0</td>\n",
       "      <td>...</td>\n",
       "      <td>0</td>\n",
       "      <td>0</td>\n",
       "      <td>0</td>\n",
       "      <td>0</td>\n",
       "      <td>0</td>\n",
       "      <td>0</td>\n",
       "      <td>0</td>\n",
       "      <td>0</td>\n",
       "      <td>0</td>\n",
       "      <td>0</td>\n",
       "    </tr>\n",
       "    <tr>\n",
       "      <th>1</th>\n",
       "      <td>id_000779bfc</td>\n",
       "      <td>0</td>\n",
       "      <td>0</td>\n",
       "      <td>0</td>\n",
       "      <td>0</td>\n",
       "      <td>0</td>\n",
       "      <td>0</td>\n",
       "      <td>0</td>\n",
       "      <td>0</td>\n",
       "      <td>0</td>\n",
       "      <td>...</td>\n",
       "      <td>0</td>\n",
       "      <td>0</td>\n",
       "      <td>0</td>\n",
       "      <td>0</td>\n",
       "      <td>0</td>\n",
       "      <td>0</td>\n",
       "      <td>0</td>\n",
       "      <td>0</td>\n",
       "      <td>0</td>\n",
       "      <td>0</td>\n",
       "    </tr>\n",
       "    <tr>\n",
       "      <th>2</th>\n",
       "      <td>id_000a6266a</td>\n",
       "      <td>0</td>\n",
       "      <td>0</td>\n",
       "      <td>0</td>\n",
       "      <td>0</td>\n",
       "      <td>0</td>\n",
       "      <td>0</td>\n",
       "      <td>0</td>\n",
       "      <td>0</td>\n",
       "      <td>0</td>\n",
       "      <td>...</td>\n",
       "      <td>0</td>\n",
       "      <td>0</td>\n",
       "      <td>0</td>\n",
       "      <td>0</td>\n",
       "      <td>0</td>\n",
       "      <td>0</td>\n",
       "      <td>0</td>\n",
       "      <td>0</td>\n",
       "      <td>0</td>\n",
       "      <td>0</td>\n",
       "    </tr>\n",
       "    <tr>\n",
       "      <th>3</th>\n",
       "      <td>id_0015fd391</td>\n",
       "      <td>0</td>\n",
       "      <td>0</td>\n",
       "      <td>0</td>\n",
       "      <td>0</td>\n",
       "      <td>0</td>\n",
       "      <td>0</td>\n",
       "      <td>0</td>\n",
       "      <td>0</td>\n",
       "      <td>0</td>\n",
       "      <td>...</td>\n",
       "      <td>0</td>\n",
       "      <td>0</td>\n",
       "      <td>0</td>\n",
       "      <td>0</td>\n",
       "      <td>0</td>\n",
       "      <td>0</td>\n",
       "      <td>0</td>\n",
       "      <td>0</td>\n",
       "      <td>0</td>\n",
       "      <td>0</td>\n",
       "    </tr>\n",
       "    <tr>\n",
       "      <th>4</th>\n",
       "      <td>id_001626bd3</td>\n",
       "      <td>0</td>\n",
       "      <td>0</td>\n",
       "      <td>0</td>\n",
       "      <td>0</td>\n",
       "      <td>0</td>\n",
       "      <td>0</td>\n",
       "      <td>0</td>\n",
       "      <td>0</td>\n",
       "      <td>0</td>\n",
       "      <td>...</td>\n",
       "      <td>0</td>\n",
       "      <td>0</td>\n",
       "      <td>0</td>\n",
       "      <td>0</td>\n",
       "      <td>0</td>\n",
       "      <td>0</td>\n",
       "      <td>0</td>\n",
       "      <td>0</td>\n",
       "      <td>0</td>\n",
       "      <td>0</td>\n",
       "    </tr>\n",
       "  </tbody>\n",
       "</table>\n",
       "<p>5 rows × 610 columns</p>\n",
       "</div>"
      ],
      "text/plain": [
       "         sig_id  5-alpha_reductase_inhibitor  11-beta-hsd1_inhibitor  \\\n",
       "0  id_000644bb2                            0                       0   \n",
       "1  id_000779bfc                            0                       0   \n",
       "2  id_000a6266a                            0                       0   \n",
       "3  id_0015fd391                            0                       0   \n",
       "4  id_001626bd3                            0                       0   \n",
       "\n",
       "   acat_inhibitor  acetylcholine_receptor_agonist  \\\n",
       "0               0                               0   \n",
       "1               0                               0   \n",
       "2               0                               0   \n",
       "3               0                               0   \n",
       "4               0                               0   \n",
       "\n",
       "   acetylcholine_receptor_antagonist  acetylcholinesterase_inhibitor  \\\n",
       "0                                  0                               0   \n",
       "1                                  0                               0   \n",
       "2                                  0                               0   \n",
       "3                                  0                               0   \n",
       "4                                  0                               0   \n",
       "\n",
       "   adenosine_receptor_agonist  adenosine_receptor_antagonist  \\\n",
       "0                           0                              0   \n",
       "1                           0                              0   \n",
       "2                           0                              0   \n",
       "3                           0                              0   \n",
       "4                           0                              0   \n",
       "\n",
       "   adenylyl_cyclase_activator  ...  ve-cadherin_antagonist  \\\n",
       "0                           0  ...                       0   \n",
       "1                           0  ...                       0   \n",
       "2                           0  ...                       0   \n",
       "3                           0  ...                       0   \n",
       "4                           0  ...                       0   \n",
       "\n",
       "   vesicular_monoamine_transporter_inhibitor  vitamin_k_antagonist  \\\n",
       "0                                          0                     0   \n",
       "1                                          0                     0   \n",
       "2                                          0                     0   \n",
       "3                                          0                     0   \n",
       "4                                          0                     0   \n",
       "\n",
       "   voltage-gated_calcium_channel_ligand  \\\n",
       "0                                     0   \n",
       "1                                     0   \n",
       "2                                     0   \n",
       "3                                     0   \n",
       "4                                     0   \n",
       "\n",
       "   voltage-gated_potassium_channel_activator  \\\n",
       "0                                          0   \n",
       "1                                          0   \n",
       "2                                          0   \n",
       "3                                          0   \n",
       "4                                          0   \n",
       "\n",
       "   voltage-gated_sodium_channel_blocker  wdr5_mll_interaction_inhibitor  \\\n",
       "0                                     0                               0   \n",
       "1                                     0                               0   \n",
       "2                                     0                               0   \n",
       "3                                     0                               0   \n",
       "4                                     0                               0   \n",
       "\n",
       "   wnt_agonist  xanthine_oxidase_inhibitor  xiap_inhibitor  \n",
       "0            0                           0               0  \n",
       "1            0                           0               0  \n",
       "2            0                           0               0  \n",
       "3            0                           0               0  \n",
       "4            0                           0               0  \n",
       "\n",
       "[5 rows x 610 columns]"
      ]
     },
     "execution_count": 10,
     "metadata": {},
     "output_type": "execute_result"
    }
   ],
   "source": [
    "train_target = pd.concat([train_targets_scored, train_targets_nonscored], axis=1)\n",
    "train_target.head()"
   ]
  },
  {
   "cell_type": "code",
   "execution_count": 11,
   "metadata": {
    "execution": {
     "iopub.execute_input": "2020-10-24T01:02:28.697519Z",
     "iopub.status.busy": "2020-10-24T01:02:28.696500Z",
     "iopub.status.idle": "2020-10-24T01:02:28.700576Z",
     "shell.execute_reply": "2020-10-24T01:02:28.699770Z"
    },
    "papermill": {
     "duration": 0.040793,
     "end_time": "2020-10-24T01:02:28.700705",
     "exception": false,
     "start_time": "2020-10-24T01:02:28.659912",
     "status": "completed"
    },
    "tags": []
   },
   "outputs": [],
   "source": [
    "def get_target(target_col, annot_sig):\n",
    "    if target_col in annot_sig:\n",
    "        t_cols = []\n",
    "        for t_col in list(annot[annot.sig_id == target_col].iloc[0]):\n",
    "            if t_col is not np.nan:\n",
    "                t_cols.append(t_col)\n",
    "                target = train_target[t_cols]\n",
    "                target = target.sum(axis=1)\n",
    "                #1以上であれば1に置換\n",
    "                target = target.where(target < 1, 1)\n",
    "    else:\n",
    "        target = train_targets_scored[target_col]\n",
    "    \n",
    "    return target"
   ]
  },
  {
   "cell_type": "code",
   "execution_count": 12,
   "metadata": {
    "execution": {
     "iopub.execute_input": "2020-10-24T01:02:28.783299Z",
     "iopub.status.busy": "2020-10-24T01:02:28.782122Z",
     "iopub.status.idle": "2020-10-24T01:02:28.787319Z",
     "shell.execute_reply": "2020-10-24T01:02:28.786485Z"
    },
    "papermill": {
     "duration": 0.060197,
     "end_time": "2020-10-24T01:02:28.787464",
     "exception": false,
     "start_time": "2020-10-24T01:02:28.727267",
     "status": "completed"
    },
    "tags": []
   },
   "outputs": [],
   "source": [
    "#===========================================================\n",
    "# model\n",
    "#===========================================================\n",
    "def run_lgbm(target_col: str):\n",
    "    \n",
    "    X_train = train.drop([\"sig_id\"], axis=1)\n",
    "    y_train = get_target(target_col, annot_sig)\n",
    "    X_test = test.drop([\"sig_id\"], axis=1)\n",
    "\n",
    "    y_preds = []\n",
    "    models = []\n",
    "    oof_train = np.zeros((len(X_train),))\n",
    "    score = 0\n",
    "\n",
    "    for fold_, (train_index, valid_index) in enumerate(cv.split(X_train, y_train)):\n",
    "        X_tr = X_train.loc[train_index, :]\n",
    "        X_val = X_train.loc[valid_index, :]\n",
    "        y_tr = y_train[train_index]\n",
    "        y_val = y_train[valid_index]\n",
    "\n",
    "        lgb_train = lgb.Dataset(X_tr,\n",
    "                                y_tr,\n",
    "                                categorical_feature=categorical_cols)\n",
    "\n",
    "        lgb_eval = lgb.Dataset(X_val,\n",
    "                               y_val,\n",
    "                               reference=lgb_train,\n",
    "                               categorical_feature=categorical_cols)\n",
    "        \n",
    "        logger.info(f\"================================= fold {fold_+1}/{cv.get_n_splits()} {target_col}=================================\")\n",
    "        \n",
    "\n",
    "        model = lgb.train(params,\n",
    "                          lgb_train,\n",
    "                          valid_sets=[lgb_train, lgb_eval],\n",
    "                          verbose_eval=100,\n",
    "                          num_boost_round=Num_boost_round,\n",
    "                          early_stopping_rounds=Early_stopping_rounds)\n",
    "\n",
    "        oof_train[valid_index] = model.predict(X_val,\n",
    "                                               num_iteration=model.best_iteration)\n",
    "        y_pred = model.predict(X_test,\n",
    "                               num_iteration=model.best_iteration)\n",
    "\n",
    "        y_preds.append(y_pred)\n",
    "        models.append(model)\n",
    "        \n",
    "    score = log_loss(y_train, oof_train)\n",
    "    \n",
    "    logger.info(f\"{target_col} logloss: {score}\")\n",
    "    logger.info(f\"=========================================================================================\")\n",
    "\n",
    "    return sum(y_preds) / len(y_preds), score, models, "
   ]
  },
  {
   "cell_type": "code",
   "execution_count": 13,
   "metadata": {
    "execution": {
     "iopub.execute_input": "2020-10-24T01:02:28.864507Z",
     "iopub.status.busy": "2020-10-24T01:02:28.863413Z",
     "iopub.status.idle": "2020-10-24T01:02:28.867604Z",
     "shell.execute_reply": "2020-10-24T01:02:28.866916Z"
    },
    "papermill": {
     "duration": 0.051407,
     "end_time": "2020-10-24T01:02:28.867755",
     "exception": false,
     "start_time": "2020-10-24T01:02:28.816348",
     "status": "completed"
    },
    "tags": []
   },
   "outputs": [],
   "source": [
    "def show_feature_importance(feature_importance_df, num=100):\n",
    "    cols = (feature_importance_df[[\"Feature\", \"importance\"]]\n",
    "            .groupby(\"Feature\")\n",
    "            .mean()\n",
    "            .sort_values(by=\"importance\", ascending=False)[:num].index)\n",
    "    best_features = feature_importance_df.loc[feature_importance_df.Feature.isin(cols)]\n",
    "\n",
    "    plt.figure(figsize=(8, 30))\n",
    "    sns.barplot(x=\"importance\", \n",
    "                y=\"Feature\", \n",
    "                data=best_features.sort_values(by=\"importance\", ascending=False))\n",
    "    plt.title('Features importance (averaged)')\n",
    "    plt.tight_layout()\n",
    "    plt.savefig(f\"./feature_importance_{Version}.png\")\n",
    "    plt.show()"
   ]
  },
  {
   "cell_type": "markdown",
   "metadata": {
    "papermill": {
     "duration": 0.026814,
     "end_time": "2020-10-24T01:02:28.925300",
     "exception": false,
     "start_time": "2020-10-24T01:02:28.898486",
     "status": "completed"
    },
    "tags": []
   },
   "source": [
    "# Preprocessing\n",
    "\n",
    "We have to convert some categorical features into numbers in train and test. We can identify categorical features by `pd.DataFrame.select_dtypes`."
   ]
  },
  {
   "cell_type": "code",
   "execution_count": 14,
   "metadata": {
    "execution": {
     "iopub.execute_input": "2020-10-24T01:02:29.021386Z",
     "iopub.status.busy": "2020-10-24T01:02:29.013308Z",
     "iopub.status.idle": "2020-10-24T01:02:29.026824Z",
     "shell.execute_reply": "2020-10-24T01:02:29.026181Z"
    },
    "papermill": {
     "duration": 0.074703,
     "end_time": "2020-10-24T01:02:29.026971",
     "exception": false,
     "start_time": "2020-10-24T01:02:28.952268",
     "status": "completed"
    },
    "tags": []
   },
   "outputs": [
    {
     "data": {
      "text/html": [
       "<div>\n",
       "<style scoped>\n",
       "    .dataframe tbody tr th:only-of-type {\n",
       "        vertical-align: middle;\n",
       "    }\n",
       "\n",
       "    .dataframe tbody tr th {\n",
       "        vertical-align: top;\n",
       "    }\n",
       "\n",
       "    .dataframe thead th {\n",
       "        text-align: right;\n",
       "    }\n",
       "</style>\n",
       "<table border=\"1\" class=\"dataframe\">\n",
       "  <thead>\n",
       "    <tr style=\"text-align: right;\">\n",
       "      <th></th>\n",
       "      <th>sig_id</th>\n",
       "      <th>cp_type</th>\n",
       "      <th>cp_time</th>\n",
       "      <th>cp_dose</th>\n",
       "      <th>g-0</th>\n",
       "      <th>g-1</th>\n",
       "      <th>g-2</th>\n",
       "      <th>g-3</th>\n",
       "      <th>g-4</th>\n",
       "      <th>g-5</th>\n",
       "      <th>...</th>\n",
       "      <th>c-90</th>\n",
       "      <th>c-91</th>\n",
       "      <th>c-92</th>\n",
       "      <th>c-93</th>\n",
       "      <th>c-94</th>\n",
       "      <th>c-95</th>\n",
       "      <th>c-96</th>\n",
       "      <th>c-97</th>\n",
       "      <th>c-98</th>\n",
       "      <th>c-99</th>\n",
       "    </tr>\n",
       "  </thead>\n",
       "  <tbody>\n",
       "    <tr>\n",
       "      <th>0</th>\n",
       "      <td>id_000644bb2</td>\n",
       "      <td>trt_cp</td>\n",
       "      <td>24</td>\n",
       "      <td>D1</td>\n",
       "      <td>1.0620</td>\n",
       "      <td>0.5577</td>\n",
       "      <td>-0.2479</td>\n",
       "      <td>-0.6208</td>\n",
       "      <td>-0.1944</td>\n",
       "      <td>-1.0120</td>\n",
       "      <td>...</td>\n",
       "      <td>0.2862</td>\n",
       "      <td>0.2584</td>\n",
       "      <td>0.8076</td>\n",
       "      <td>0.5523</td>\n",
       "      <td>-0.1912</td>\n",
       "      <td>0.6584</td>\n",
       "      <td>-0.3981</td>\n",
       "      <td>0.2139</td>\n",
       "      <td>0.3801</td>\n",
       "      <td>0.4176</td>\n",
       "    </tr>\n",
       "    <tr>\n",
       "      <th>1</th>\n",
       "      <td>id_000779bfc</td>\n",
       "      <td>trt_cp</td>\n",
       "      <td>72</td>\n",
       "      <td>D1</td>\n",
       "      <td>0.0743</td>\n",
       "      <td>0.4087</td>\n",
       "      <td>0.2991</td>\n",
       "      <td>0.0604</td>\n",
       "      <td>1.0190</td>\n",
       "      <td>0.5207</td>\n",
       "      <td>...</td>\n",
       "      <td>-0.4265</td>\n",
       "      <td>0.7543</td>\n",
       "      <td>0.4708</td>\n",
       "      <td>0.0230</td>\n",
       "      <td>0.2957</td>\n",
       "      <td>0.4899</td>\n",
       "      <td>0.1522</td>\n",
       "      <td>0.1241</td>\n",
       "      <td>0.6077</td>\n",
       "      <td>0.7371</td>\n",
       "    </tr>\n",
       "    <tr>\n",
       "      <th>2</th>\n",
       "      <td>id_000a6266a</td>\n",
       "      <td>trt_cp</td>\n",
       "      <td>48</td>\n",
       "      <td>D1</td>\n",
       "      <td>0.6280</td>\n",
       "      <td>0.5817</td>\n",
       "      <td>1.5540</td>\n",
       "      <td>-0.0764</td>\n",
       "      <td>-0.0323</td>\n",
       "      <td>1.2390</td>\n",
       "      <td>...</td>\n",
       "      <td>-0.7250</td>\n",
       "      <td>-0.6297</td>\n",
       "      <td>0.6103</td>\n",
       "      <td>0.0223</td>\n",
       "      <td>-1.3240</td>\n",
       "      <td>-0.3174</td>\n",
       "      <td>-0.6417</td>\n",
       "      <td>-0.2187</td>\n",
       "      <td>-1.4080</td>\n",
       "      <td>0.6931</td>\n",
       "    </tr>\n",
       "    <tr>\n",
       "      <th>3</th>\n",
       "      <td>id_0015fd391</td>\n",
       "      <td>trt_cp</td>\n",
       "      <td>48</td>\n",
       "      <td>D1</td>\n",
       "      <td>-0.5138</td>\n",
       "      <td>-0.2491</td>\n",
       "      <td>-0.2656</td>\n",
       "      <td>0.5288</td>\n",
       "      <td>4.0620</td>\n",
       "      <td>-0.8095</td>\n",
       "      <td>...</td>\n",
       "      <td>-2.0990</td>\n",
       "      <td>-0.6441</td>\n",
       "      <td>-5.6300</td>\n",
       "      <td>-1.3780</td>\n",
       "      <td>-0.8632</td>\n",
       "      <td>-1.2880</td>\n",
       "      <td>-1.6210</td>\n",
       "      <td>-0.8784</td>\n",
       "      <td>-0.3876</td>\n",
       "      <td>-0.8154</td>\n",
       "    </tr>\n",
       "    <tr>\n",
       "      <th>4</th>\n",
       "      <td>id_001626bd3</td>\n",
       "      <td>trt_cp</td>\n",
       "      <td>72</td>\n",
       "      <td>D2</td>\n",
       "      <td>-0.3254</td>\n",
       "      <td>-0.4009</td>\n",
       "      <td>0.9700</td>\n",
       "      <td>0.6919</td>\n",
       "      <td>1.4180</td>\n",
       "      <td>-0.8244</td>\n",
       "      <td>...</td>\n",
       "      <td>0.0042</td>\n",
       "      <td>0.0048</td>\n",
       "      <td>0.6670</td>\n",
       "      <td>1.0690</td>\n",
       "      <td>0.5523</td>\n",
       "      <td>-0.3031</td>\n",
       "      <td>0.1094</td>\n",
       "      <td>0.2885</td>\n",
       "      <td>-0.3786</td>\n",
       "      <td>0.7125</td>\n",
       "    </tr>\n",
       "  </tbody>\n",
       "</table>\n",
       "<p>5 rows × 876 columns</p>\n",
       "</div>"
      ],
      "text/plain": [
       "         sig_id cp_type  cp_time cp_dose     g-0     g-1     g-2     g-3  \\\n",
       "0  id_000644bb2  trt_cp       24      D1  1.0620  0.5577 -0.2479 -0.6208   \n",
       "1  id_000779bfc  trt_cp       72      D1  0.0743  0.4087  0.2991  0.0604   \n",
       "2  id_000a6266a  trt_cp       48      D1  0.6280  0.5817  1.5540 -0.0764   \n",
       "3  id_0015fd391  trt_cp       48      D1 -0.5138 -0.2491 -0.2656  0.5288   \n",
       "4  id_001626bd3  trt_cp       72      D2 -0.3254 -0.4009  0.9700  0.6919   \n",
       "\n",
       "      g-4     g-5  ...    c-90    c-91    c-92    c-93    c-94    c-95  \\\n",
       "0 -0.1944 -1.0120  ...  0.2862  0.2584  0.8076  0.5523 -0.1912  0.6584   \n",
       "1  1.0190  0.5207  ... -0.4265  0.7543  0.4708  0.0230  0.2957  0.4899   \n",
       "2 -0.0323  1.2390  ... -0.7250 -0.6297  0.6103  0.0223 -1.3240 -0.3174   \n",
       "3  4.0620 -0.8095  ... -2.0990 -0.6441 -5.6300 -1.3780 -0.8632 -1.2880   \n",
       "4  1.4180 -0.8244  ...  0.0042  0.0048  0.6670  1.0690  0.5523 -0.3031   \n",
       "\n",
       "     c-96    c-97    c-98    c-99  \n",
       "0 -0.3981  0.2139  0.3801  0.4176  \n",
       "1  0.1522  0.1241  0.6077  0.7371  \n",
       "2 -0.6417 -0.2187 -1.4080  0.6931  \n",
       "3 -1.6210 -0.8784 -0.3876 -0.8154  \n",
       "4  0.1094  0.2885 -0.3786  0.7125  \n",
       "\n",
       "[5 rows x 876 columns]"
      ]
     },
     "execution_count": 14,
     "metadata": {},
     "output_type": "execute_result"
    }
   ],
   "source": [
    "train.head()"
   ]
  },
  {
   "cell_type": "code",
   "execution_count": 15,
   "metadata": {
    "execution": {
     "iopub.execute_input": "2020-10-24T01:02:29.107811Z",
     "iopub.status.busy": "2020-10-24T01:02:29.106557Z",
     "iopub.status.idle": "2020-10-24T01:02:29.111268Z",
     "shell.execute_reply": "2020-10-24T01:02:29.111812Z"
    },
    "papermill": {
     "duration": 0.049581,
     "end_time": "2020-10-24T01:02:29.111993",
     "exception": false,
     "start_time": "2020-10-24T01:02:29.062412",
     "status": "completed"
    },
    "tags": []
   },
   "outputs": [
    {
     "data": {
      "text/plain": [
       "Index(['sig_id', 'cp_type', 'cp_dose'], dtype='object')"
      ]
     },
     "execution_count": 15,
     "metadata": {},
     "output_type": "execute_result"
    }
   ],
   "source": [
    "train.select_dtypes(include=['object']).columns"
   ]
  },
  {
   "cell_type": "code",
   "execution_count": 16,
   "metadata": {
    "execution": {
     "iopub.execute_input": "2020-10-24T01:02:29.176549Z",
     "iopub.status.busy": "2020-10-24T01:02:29.175450Z",
     "iopub.status.idle": "2020-10-24T01:02:29.451201Z",
     "shell.execute_reply": "2020-10-24T01:02:29.450311Z"
    },
    "papermill": {
     "duration": 0.310824,
     "end_time": "2020-10-24T01:02:29.451349",
     "exception": false,
     "start_time": "2020-10-24T01:02:29.140525",
     "status": "completed"
    },
    "tags": []
   },
   "outputs": [],
   "source": [
    "train, test = label_encoding(train, test, ['cp_type', 'cp_dose'])"
   ]
  },
  {
   "cell_type": "code",
   "execution_count": 17,
   "metadata": {
    "execution": {
     "iopub.execute_input": "2020-10-24T01:02:29.537578Z",
     "iopub.status.busy": "2020-10-24T01:02:29.533097Z",
     "iopub.status.idle": "2020-10-24T01:02:29.554174Z",
     "shell.execute_reply": "2020-10-24T01:02:29.553315Z"
    },
    "papermill": {
     "duration": 0.07164,
     "end_time": "2020-10-24T01:02:29.554315",
     "exception": false,
     "start_time": "2020-10-24T01:02:29.482675",
     "status": "completed"
    },
    "tags": []
   },
   "outputs": [
    {
     "data": {
      "text/html": [
       "<div>\n",
       "<style scoped>\n",
       "    .dataframe tbody tr th:only-of-type {\n",
       "        vertical-align: middle;\n",
       "    }\n",
       "\n",
       "    .dataframe tbody tr th {\n",
       "        vertical-align: top;\n",
       "    }\n",
       "\n",
       "    .dataframe thead th {\n",
       "        text-align: right;\n",
       "    }\n",
       "</style>\n",
       "<table border=\"1\" class=\"dataframe\">\n",
       "  <thead>\n",
       "    <tr style=\"text-align: right;\">\n",
       "      <th></th>\n",
       "      <th>sig_id</th>\n",
       "      <th>cp_type</th>\n",
       "      <th>cp_time</th>\n",
       "      <th>cp_dose</th>\n",
       "      <th>g-0</th>\n",
       "      <th>g-1</th>\n",
       "      <th>g-2</th>\n",
       "      <th>g-3</th>\n",
       "      <th>g-4</th>\n",
       "      <th>g-5</th>\n",
       "      <th>...</th>\n",
       "      <th>c-90</th>\n",
       "      <th>c-91</th>\n",
       "      <th>c-92</th>\n",
       "      <th>c-93</th>\n",
       "      <th>c-94</th>\n",
       "      <th>c-95</th>\n",
       "      <th>c-96</th>\n",
       "      <th>c-97</th>\n",
       "      <th>c-98</th>\n",
       "      <th>c-99</th>\n",
       "    </tr>\n",
       "  </thead>\n",
       "  <tbody>\n",
       "    <tr>\n",
       "      <th>0</th>\n",
       "      <td>id_000644bb2</td>\n",
       "      <td>1</td>\n",
       "      <td>24</td>\n",
       "      <td>0</td>\n",
       "      <td>1.0620</td>\n",
       "      <td>0.5577</td>\n",
       "      <td>-0.2479</td>\n",
       "      <td>-0.6208</td>\n",
       "      <td>-0.1944</td>\n",
       "      <td>-1.0120</td>\n",
       "      <td>...</td>\n",
       "      <td>0.2862</td>\n",
       "      <td>0.2584</td>\n",
       "      <td>0.8076</td>\n",
       "      <td>0.5523</td>\n",
       "      <td>-0.1912</td>\n",
       "      <td>0.6584</td>\n",
       "      <td>-0.3981</td>\n",
       "      <td>0.2139</td>\n",
       "      <td>0.3801</td>\n",
       "      <td>0.4176</td>\n",
       "    </tr>\n",
       "    <tr>\n",
       "      <th>1</th>\n",
       "      <td>id_000779bfc</td>\n",
       "      <td>1</td>\n",
       "      <td>72</td>\n",
       "      <td>0</td>\n",
       "      <td>0.0743</td>\n",
       "      <td>0.4087</td>\n",
       "      <td>0.2991</td>\n",
       "      <td>0.0604</td>\n",
       "      <td>1.0190</td>\n",
       "      <td>0.5207</td>\n",
       "      <td>...</td>\n",
       "      <td>-0.4265</td>\n",
       "      <td>0.7543</td>\n",
       "      <td>0.4708</td>\n",
       "      <td>0.0230</td>\n",
       "      <td>0.2957</td>\n",
       "      <td>0.4899</td>\n",
       "      <td>0.1522</td>\n",
       "      <td>0.1241</td>\n",
       "      <td>0.6077</td>\n",
       "      <td>0.7371</td>\n",
       "    </tr>\n",
       "    <tr>\n",
       "      <th>2</th>\n",
       "      <td>id_000a6266a</td>\n",
       "      <td>1</td>\n",
       "      <td>48</td>\n",
       "      <td>0</td>\n",
       "      <td>0.6280</td>\n",
       "      <td>0.5817</td>\n",
       "      <td>1.5540</td>\n",
       "      <td>-0.0764</td>\n",
       "      <td>-0.0323</td>\n",
       "      <td>1.2390</td>\n",
       "      <td>...</td>\n",
       "      <td>-0.7250</td>\n",
       "      <td>-0.6297</td>\n",
       "      <td>0.6103</td>\n",
       "      <td>0.0223</td>\n",
       "      <td>-1.3240</td>\n",
       "      <td>-0.3174</td>\n",
       "      <td>-0.6417</td>\n",
       "      <td>-0.2187</td>\n",
       "      <td>-1.4080</td>\n",
       "      <td>0.6931</td>\n",
       "    </tr>\n",
       "    <tr>\n",
       "      <th>3</th>\n",
       "      <td>id_0015fd391</td>\n",
       "      <td>1</td>\n",
       "      <td>48</td>\n",
       "      <td>0</td>\n",
       "      <td>-0.5138</td>\n",
       "      <td>-0.2491</td>\n",
       "      <td>-0.2656</td>\n",
       "      <td>0.5288</td>\n",
       "      <td>4.0620</td>\n",
       "      <td>-0.8095</td>\n",
       "      <td>...</td>\n",
       "      <td>-2.0990</td>\n",
       "      <td>-0.6441</td>\n",
       "      <td>-5.6300</td>\n",
       "      <td>-1.3780</td>\n",
       "      <td>-0.8632</td>\n",
       "      <td>-1.2880</td>\n",
       "      <td>-1.6210</td>\n",
       "      <td>-0.8784</td>\n",
       "      <td>-0.3876</td>\n",
       "      <td>-0.8154</td>\n",
       "    </tr>\n",
       "    <tr>\n",
       "      <th>4</th>\n",
       "      <td>id_001626bd3</td>\n",
       "      <td>1</td>\n",
       "      <td>72</td>\n",
       "      <td>1</td>\n",
       "      <td>-0.3254</td>\n",
       "      <td>-0.4009</td>\n",
       "      <td>0.9700</td>\n",
       "      <td>0.6919</td>\n",
       "      <td>1.4180</td>\n",
       "      <td>-0.8244</td>\n",
       "      <td>...</td>\n",
       "      <td>0.0042</td>\n",
       "      <td>0.0048</td>\n",
       "      <td>0.6670</td>\n",
       "      <td>1.0690</td>\n",
       "      <td>0.5523</td>\n",
       "      <td>-0.3031</td>\n",
       "      <td>0.1094</td>\n",
       "      <td>0.2885</td>\n",
       "      <td>-0.3786</td>\n",
       "      <td>0.7125</td>\n",
       "    </tr>\n",
       "  </tbody>\n",
       "</table>\n",
       "<p>5 rows × 876 columns</p>\n",
       "</div>"
      ],
      "text/plain": [
       "         sig_id  cp_type  cp_time  cp_dose     g-0     g-1     g-2     g-3  \\\n",
       "0  id_000644bb2        1       24        0  1.0620  0.5577 -0.2479 -0.6208   \n",
       "1  id_000779bfc        1       72        0  0.0743  0.4087  0.2991  0.0604   \n",
       "2  id_000a6266a        1       48        0  0.6280  0.5817  1.5540 -0.0764   \n",
       "3  id_0015fd391        1       48        0 -0.5138 -0.2491 -0.2656  0.5288   \n",
       "4  id_001626bd3        1       72        1 -0.3254 -0.4009  0.9700  0.6919   \n",
       "\n",
       "      g-4     g-5  ...    c-90    c-91    c-92    c-93    c-94    c-95  \\\n",
       "0 -0.1944 -1.0120  ...  0.2862  0.2584  0.8076  0.5523 -0.1912  0.6584   \n",
       "1  1.0190  0.5207  ... -0.4265  0.7543  0.4708  0.0230  0.2957  0.4899   \n",
       "2 -0.0323  1.2390  ... -0.7250 -0.6297  0.6103  0.0223 -1.3240 -0.3174   \n",
       "3  4.0620 -0.8095  ... -2.0990 -0.6441 -5.6300 -1.3780 -0.8632 -1.2880   \n",
       "4  1.4180 -0.8244  ...  0.0042  0.0048  0.6670  1.0690  0.5523 -0.3031   \n",
       "\n",
       "     c-96    c-97    c-98    c-99  \n",
       "0 -0.3981  0.2139  0.3801  0.4176  \n",
       "1  0.1522  0.1241  0.6077  0.7371  \n",
       "2 -0.6417 -0.2187 -1.4080  0.6931  \n",
       "3 -1.6210 -0.8784 -0.3876 -0.8154  \n",
       "4  0.1094  0.2885 -0.3786  0.7125  \n",
       "\n",
       "[5 rows x 876 columns]"
      ]
     },
     "execution_count": 17,
     "metadata": {},
     "output_type": "execute_result"
    }
   ],
   "source": [
    "train.head()"
   ]
  },
  {
   "cell_type": "markdown",
   "metadata": {
    "papermill": {
     "duration": 0.02934,
     "end_time": "2020-10-24T01:02:29.613724",
     "exception": false,
     "start_time": "2020-10-24T01:02:29.584384",
     "status": "completed"
    },
    "tags": []
   },
   "source": [
    "# Modeling"
   ]
  },
  {
   "cell_type": "code",
   "execution_count": 18,
   "metadata": {
    "execution": {
     "iopub.execute_input": "2020-10-24T01:02:29.685022Z",
     "iopub.status.busy": "2020-10-24T01:02:29.683630Z",
     "iopub.status.idle": "2020-10-24T01:02:29.706262Z",
     "shell.execute_reply": "2020-10-24T01:02:29.705121Z"
    },
    "papermill": {
     "duration": 0.06365,
     "end_time": "2020-10-24T01:02:29.706453",
     "exception": false,
     "start_time": "2020-10-24T01:02:29.642803",
     "status": "completed"
    },
    "tags": []
   },
   "outputs": [],
   "source": [
    "cv = StratifiedKFold(n_splits=N_FOLD, shuffle=True, random_state=SEED)\n",
    "\n",
    "params = {\n",
    "    'objective': 'binary',\n",
    "    'learning_rate': Learning_rate,\n",
    "    'num_threads': 2,\n",
    "    'verbose': -1,\n",
    "    'max_depth': Max_depth,\n",
    "    'num_leaves': int((Max_depth**2)*0.7),\n",
    "    'feature_fraction':0.7, # randomly select part of features on each iteration\n",
    "    'lambda_l1':0.1,\n",
    "    'lambda_l2':0.1\n",
    "\n",
    "}\n",
    "\n",
    "categorical_cols = ['cp_type', 'cp_dose']\n",
    "oof = train_targets_scored.copy()\n",
    "feature_importance_df = pd.DataFrame()\n",
    "models = []\n",
    "scores = []"
   ]
  },
  {
   "cell_type": "code",
   "execution_count": 19,
   "metadata": {
    "execution": {
     "iopub.execute_input": "2020-10-24T01:02:29.797336Z",
     "iopub.status.busy": "2020-10-24T01:02:29.796133Z",
     "iopub.status.idle": "2020-10-24T01:38:07.210248Z",
     "shell.execute_reply": "2020-10-24T01:38:07.209359Z"
    },
    "papermill": {
     "duration": 2137.463624,
     "end_time": "2020-10-24T01:38:07.210423",
     "exception": false,
     "start_time": "2020-10-24T01:02:29.746799",
     "status": "completed"
    },
    "tags": []
   },
   "outputs": [
    {
     "data": {
      "application/vnd.jupyter.widget-view+json": {
       "model_id": "635690a5c2f7486c8180dcaec188d45e",
       "version_major": 2,
       "version_minor": 0
      },
      "text/plain": [
       "HBox(children=(FloatProgress(value=0.0, max=206.0), HTML(value='')))"
      ]
     },
     "metadata": {},
     "output_type": "display_data"
    },
    {
     "name": "stderr",
     "output_type": "stream",
     "text": [
      "================================= fold 1/2 5-alpha_reductase_inhibitor=================================\n"
     ]
    },
    {
     "name": "stdout",
     "output_type": "stream",
     "text": [
      "Training until validation scores don't improve for 10 rounds\n",
      "Early stopping, best iteration is:\n",
      "[1]\ttraining's binary_logloss: 0.0052987\tvalid_1's binary_logloss: 0.00558749\n"
     ]
    },
    {
     "name": "stderr",
     "output_type": "stream",
     "text": [
      "================================= fold 2/2 5-alpha_reductase_inhibitor=================================\n"
     ]
    },
    {
     "name": "stdout",
     "output_type": "stream",
     "text": [
      "Training until validation scores don't improve for 10 rounds\n",
      "Early stopping, best iteration is:\n",
      "[1]\ttraining's binary_logloss: 0.00505257\tvalid_1's binary_logloss: 0.00619707\n"
     ]
    },
    {
     "name": "stderr",
     "output_type": "stream",
     "text": [
      "5-alpha_reductase_inhibitor logloss: 0.005892282737485706\n",
      "=========================================================================================\n",
      "================================= fold 1/2 11-beta-hsd1_inhibitor=================================\n"
     ]
    },
    {
     "name": "stdout",
     "output_type": "stream",
     "text": [
      "Training until validation scores don't improve for 10 rounds\n",
      "Early stopping, best iteration is:\n",
      "[1]\ttraining's binary_logloss: 0.00528889\tvalid_1's binary_logloss: 0.0061952\n"
     ]
    },
    {
     "name": "stderr",
     "output_type": "stream",
     "text": [
      "================================= fold 2/2 11-beta-hsd1_inhibitor=================================\n"
     ]
    },
    {
     "name": "stdout",
     "output_type": "stream",
     "text": [
      "Training until validation scores don't improve for 10 rounds\n",
      "Early stopping, best iteration is:\n",
      "[1]\ttraining's binary_logloss: 0.00556059\tvalid_1's binary_logloss: 0.00619414\n"
     ]
    },
    {
     "name": "stderr",
     "output_type": "stream",
     "text": [
      "11-beta-hsd1_inhibitor logloss: 0.006194670339008325\n",
      "=========================================================================================\n",
      "================================= fold 1/2 acat_inhibitor=================================\n"
     ]
    },
    {
     "name": "stdout",
     "output_type": "stream",
     "text": [
      "Training until validation scores don't improve for 10 rounds\n",
      "Early stopping, best iteration is:\n",
      "[2]\ttraining's binary_logloss: 0.00628035\tvalid_1's binary_logloss: 0.00793537\n"
     ]
    },
    {
     "name": "stderr",
     "output_type": "stream",
     "text": [
      "================================= fold 2/2 acat_inhibitor=================================\n"
     ]
    },
    {
     "name": "stdout",
     "output_type": "stream",
     "text": [
      "Training until validation scores don't improve for 10 rounds\n",
      "Early stopping, best iteration is:\n",
      "[5]\ttraining's binary_logloss: 0.00517702\tvalid_1's binary_logloss: 0.0078987\n"
     ]
    },
    {
     "name": "stderr",
     "output_type": "stream",
     "text": [
      "acat_inhibitor logloss: 0.007917034852462748\n",
      "=========================================================================================\n",
      "================================= fold 1/2 acetylcholine_receptor_agonist=================================\n"
     ]
    },
    {
     "name": "stdout",
     "output_type": "stream",
     "text": [
      "Training until validation scores don't improve for 10 rounds\n",
      "Early stopping, best iteration is:\n",
      "[4]\ttraining's binary_logloss: 0.0378023\tvalid_1's binary_logloss: 0.0477345\n"
     ]
    },
    {
     "name": "stderr",
     "output_type": "stream",
     "text": [
      "================================= fold 2/2 acetylcholine_receptor_agonist=================================\n"
     ]
    },
    {
     "name": "stdout",
     "output_type": "stream",
     "text": [
      "Training until validation scores don't improve for 10 rounds\n",
      "Early stopping, best iteration is:\n",
      "[6]\ttraining's binary_logloss: 0.0383997\tvalid_1's binary_logloss: 0.0476171\n"
     ]
    },
    {
     "name": "stderr",
     "output_type": "stream",
     "text": [
      "acetylcholine_receptor_agonist logloss: 0.047675812257817085\n",
      "=========================================================================================\n",
      "================================= fold 1/2 acetylcholine_receptor_antagonist=================================\n"
     ]
    },
    {
     "name": "stdout",
     "output_type": "stream",
     "text": [
      "Training until validation scores don't improve for 10 rounds\n",
      "Early stopping, best iteration is:\n",
      "[45]\ttraining's binary_logloss: 0.0263863\tvalid_1's binary_logloss: 0.0674447\n"
     ]
    },
    {
     "name": "stderr",
     "output_type": "stream",
     "text": [
      "================================= fold 2/2 acetylcholine_receptor_antagonist=================================\n"
     ]
    },
    {
     "name": "stdout",
     "output_type": "stream",
     "text": [
      "Training until validation scores don't improve for 10 rounds\n",
      "Early stopping, best iteration is:\n",
      "[2]\ttraining's binary_logloss: 0.0649109\tvalid_1's binary_logloss: 0.0688247\n"
     ]
    },
    {
     "name": "stderr",
     "output_type": "stream",
     "text": [
      "acetylcholine_receptor_antagonist logloss: 0.06813470181370242\n",
      "=========================================================================================\n",
      "================================= fold 1/2 acetylcholinesterase_inhibitor=================================\n"
     ]
    },
    {
     "name": "stdout",
     "output_type": "stream",
     "text": [
      "Training until validation scores don't improve for 10 rounds\n",
      "Early stopping, best iteration is:\n",
      "[1]\ttraining's binary_logloss: 0.0193573\tvalid_1's binary_logloss: 0.0205356\n"
     ]
    },
    {
     "name": "stderr",
     "output_type": "stream",
     "text": [
      "================================= fold 2/2 acetylcholinesterase_inhibitor=================================\n"
     ]
    },
    {
     "name": "stdout",
     "output_type": "stream",
     "text": [
      "Training until validation scores don't improve for 10 rounds\n",
      "Early stopping, best iteration is:\n",
      "[1]\ttraining's binary_logloss: 0.0191005\tvalid_1's binary_logloss: 0.0210135\n"
     ]
    },
    {
     "name": "stderr",
     "output_type": "stream",
     "text": [
      "acetylcholinesterase_inhibitor logloss: 0.020774536719624443\n",
      "=========================================================================================\n",
      "================================= fold 1/2 adenosine_receptor_agonist=================================\n"
     ]
    },
    {
     "name": "stdout",
     "output_type": "stream",
     "text": [
      "Training until validation scores don't improve for 10 rounds\n",
      "Early stopping, best iteration is:\n",
      "[7]\ttraining's binary_logloss: 0.00867386\tvalid_1's binary_logloss: 0.0160555\n"
     ]
    },
    {
     "name": "stderr",
     "output_type": "stream",
     "text": [
      "================================= fold 2/2 adenosine_receptor_agonist=================================\n"
     ]
    },
    {
     "name": "stdout",
     "output_type": "stream",
     "text": [
      "Training until validation scores don't improve for 10 rounds\n",
      "Early stopping, best iteration is:\n",
      "[9]\ttraining's binary_logloss: 0.00700976\tvalid_1's binary_logloss: 0.0160492\n"
     ]
    },
    {
     "name": "stderr",
     "output_type": "stream",
     "text": [
      "adenosine_receptor_agonist logloss: 0.016052306486671438\n",
      "=========================================================================================\n",
      "================================= fold 1/2 adenosine_receptor_antagonist=================================\n"
     ]
    },
    {
     "name": "stdout",
     "output_type": "stream",
     "text": [
      "Training until validation scores don't improve for 10 rounds\n",
      "Early stopping, best iteration is:\n",
      "[2]\ttraining's binary_logloss: 0.0222102\tvalid_1's binary_logloss: 0.0263373\n"
     ]
    },
    {
     "name": "stderr",
     "output_type": "stream",
     "text": [
      "================================= fold 2/2 adenosine_receptor_antagonist=================================\n"
     ]
    },
    {
     "name": "stdout",
     "output_type": "stream",
     "text": [
      "Training until validation scores don't improve for 10 rounds\n",
      "Early stopping, best iteration is:\n",
      "[1]\ttraining's binary_logloss: 0.0242246\tvalid_1's binary_logloss: 0.0262788\n"
     ]
    },
    {
     "name": "stderr",
     "output_type": "stream",
     "text": [
      "adenosine_receptor_antagonist logloss: 0.026308079801988526\n",
      "=========================================================================================\n",
      "================================= fold 1/2 adenylyl_cyclase_activator=================================\n"
     ]
    },
    {
     "name": "stdout",
     "output_type": "stream",
     "text": [
      "Training until validation scores don't improve for 10 rounds\n",
      "Early stopping, best iteration is:\n",
      "[15]\ttraining's binary_logloss: 0.00160681\tvalid_1's binary_logloss: 0.00596897\n"
     ]
    },
    {
     "name": "stderr",
     "output_type": "stream",
     "text": [
      "================================= fold 2/2 adenylyl_cyclase_activator=================================\n"
     ]
    },
    {
     "name": "stdout",
     "output_type": "stream",
     "text": [
      "Training until validation scores don't improve for 10 rounds\n",
      "Early stopping, best iteration is:\n",
      "[28]\ttraining's binary_logloss: 0.000988414\tvalid_1's binary_logloss: 0.0057363\n"
     ]
    },
    {
     "name": "stderr",
     "output_type": "stream",
     "text": [
      "adenylyl_cyclase_activator logloss: 0.005852634292197096\n",
      "=========================================================================================\n",
      "================================= fold 1/2 adrenergic_receptor_agonist=================================\n"
     ]
    },
    {
     "name": "stdout",
     "output_type": "stream",
     "text": [
      "Training until validation scores don't improve for 10 rounds\n",
      "Early stopping, best iteration is:\n",
      "[38]\ttraining's binary_logloss: 0.0192856\tvalid_1's binary_logloss: 0.059989\n"
     ]
    },
    {
     "name": "stderr",
     "output_type": "stream",
     "text": [
      "================================= fold 2/2 adrenergic_receptor_agonist=================================\n"
     ]
    },
    {
     "name": "stdout",
     "output_type": "stream",
     "text": [
      "Training until validation scores don't improve for 10 rounds\n",
      "Early stopping, best iteration is:\n",
      "[32]\ttraining's binary_logloss: 0.0223247\tvalid_1's binary_logloss: 0.0603305\n"
     ]
    },
    {
     "name": "stderr",
     "output_type": "stream",
     "text": [
      "adrenergic_receptor_agonist logloss: 0.06015979312067918\n",
      "=========================================================================================\n",
      "================================= fold 1/2 adrenergic_receptor_antagonist=================================\n"
     ]
    },
    {
     "name": "stdout",
     "output_type": "stream",
     "text": [
      "Training until validation scores don't improve for 10 rounds\n",
      "Early stopping, best iteration is:\n",
      "[42]\ttraining's binary_logloss: 0.0357696\tvalid_1's binary_logloss: 0.0771663\n"
     ]
    },
    {
     "name": "stderr",
     "output_type": "stream",
     "text": [
      "================================= fold 2/2 adrenergic_receptor_antagonist=================================\n"
     ]
    },
    {
     "name": "stdout",
     "output_type": "stream",
     "text": [
      "Training until validation scores don't improve for 10 rounds\n",
      "Early stopping, best iteration is:\n",
      "[35]\ttraining's binary_logloss: 0.0414355\tvalid_1's binary_logloss: 0.0768704\n"
     ]
    },
    {
     "name": "stderr",
     "output_type": "stream",
     "text": [
      "adrenergic_receptor_antagonist logloss: 0.0770183314440831\n",
      "=========================================================================================\n",
      "================================= fold 1/2 akt_inhibitor=================================\n"
     ]
    },
    {
     "name": "stdout",
     "output_type": "stream",
     "text": [
      "Training until validation scores don't improve for 10 rounds\n",
      "Early stopping, best iteration is:\n",
      "[39]\ttraining's binary_logloss: 0.00262325\tvalid_1's binary_logloss: 0.0163762\n"
     ]
    },
    {
     "name": "stderr",
     "output_type": "stream",
     "text": [
      "================================= fold 2/2 akt_inhibitor=================================\n"
     ]
    },
    {
     "name": "stdout",
     "output_type": "stream",
     "text": [
      "Training until validation scores don't improve for 10 rounds\n",
      "Early stopping, best iteration is:\n",
      "[38]\ttraining's binary_logloss: 0.00277354\tvalid_1's binary_logloss: 0.0164682\n"
     ]
    },
    {
     "name": "stderr",
     "output_type": "stream",
     "text": [
      "akt_inhibitor logloss: 0.016422175774056313\n",
      "=========================================================================================\n",
      "================================= fold 1/2 aldehyde_dehydrogenase_inhibitor=================================\n"
     ]
    },
    {
     "name": "stdout",
     "output_type": "stream",
     "text": [
      "Training until validation scores don't improve for 10 rounds\n",
      "Early stopping, best iteration is:\n",
      "[1]\ttraining's binary_logloss: 0.00615053\tvalid_1's binary_logloss: 0.00619452\n"
     ]
    },
    {
     "name": "stderr",
     "output_type": "stream",
     "text": [
      "================================= fold 2/2 aldehyde_dehydrogenase_inhibitor=================================\n"
     ]
    },
    {
     "name": "stdout",
     "output_type": "stream",
     "text": [
      "Training until validation scores don't improve for 10 rounds\n",
      "Early stopping, best iteration is:\n",
      "[10]\ttraining's binary_logloss: 0.00218576\tvalid_1's binary_logloss: 0.00648689\n"
     ]
    },
    {
     "name": "stderr",
     "output_type": "stream",
     "text": [
      "aldehyde_dehydrogenase_inhibitor logloss: 0.006340707174817939\n",
      "=========================================================================================\n",
      "================================= fold 1/2 alk_inhibitor=================================\n"
     ]
    },
    {
     "name": "stdout",
     "output_type": "stream",
     "text": [
      "Training until validation scores don't improve for 10 rounds\n",
      "Early stopping, best iteration is:\n",
      "[27]\ttraining's binary_logloss: 0.00235289\tvalid_1's binary_logloss: 0.0122498\n"
     ]
    },
    {
     "name": "stderr",
     "output_type": "stream",
     "text": [
      "================================= fold 2/2 alk_inhibitor=================================\n"
     ]
    },
    {
     "name": "stdout",
     "output_type": "stream",
     "text": [
      "Training until validation scores don't improve for 10 rounds\n",
      "Early stopping, best iteration is:\n",
      "[21]\ttraining's binary_logloss: 0.00284478\tvalid_1's binary_logloss: 0.0123518\n"
     ]
    },
    {
     "name": "stderr",
     "output_type": "stream",
     "text": [
      "alk_inhibitor logloss: 0.012300783650208013\n",
      "=========================================================================================\n",
      "================================= fold 1/2 ampk_activator=================================\n"
     ]
    },
    {
     "name": "stdout",
     "output_type": "stream",
     "text": [
      "Training until validation scores don't improve for 10 rounds\n",
      "Early stopping, best iteration is:\n",
      "[4]\ttraining's binary_logloss: 0.00250596\tvalid_1's binary_logloss: 0.00433142\n"
     ]
    },
    {
     "name": "stderr",
     "output_type": "stream",
     "text": [
      "================================= fold 2/2 ampk_activator=================================\n"
     ]
    },
    {
     "name": "stdout",
     "output_type": "stream",
     "text": [
      "Training until validation scores don't improve for 10 rounds\n",
      "Early stopping, best iteration is:\n",
      "[1]\ttraining's binary_logloss: 0.00392146\tvalid_1's binary_logloss: 0.00426431\n"
     ]
    },
    {
     "name": "stderr",
     "output_type": "stream",
     "text": [
      "ampk_activator logloss: 0.004297861215790056\n",
      "=========================================================================================\n",
      "================================= fold 1/2 analgesic=================================\n"
     ]
    },
    {
     "name": "stdout",
     "output_type": "stream",
     "text": [
      "Training until validation scores don't improve for 10 rounds\n",
      "Early stopping, best iteration is:\n",
      "[5]\ttraining's binary_logloss: 0.0028841\tvalid_1's binary_logloss: 0.00428751\n"
     ]
    },
    {
     "name": "stderr",
     "output_type": "stream",
     "text": [
      "================================= fold 2/2 analgesic=================================\n"
     ]
    },
    {
     "name": "stdout",
     "output_type": "stream",
     "text": [
      "Training until validation scores don't improve for 10 rounds\n",
      "Early stopping, best iteration is:\n",
      "[1]\ttraining's binary_logloss: 0.00402851\tvalid_1's binary_logloss: 0.00433174\n"
     ]
    },
    {
     "name": "stderr",
     "output_type": "stream",
     "text": [
      "analgesic logloss: 0.004309624974805149\n",
      "=========================================================================================\n",
      "================================= fold 1/2 androgen_receptor_agonist=================================\n"
     ]
    },
    {
     "name": "stdout",
     "output_type": "stream",
     "text": [
      "Training until validation scores don't improve for 10 rounds\n",
      "Early stopping, best iteration is:\n",
      "[1]\ttraining's binary_logloss: 0.0126955\tvalid_1's binary_logloss: 0.0145004\n"
     ]
    },
    {
     "name": "stderr",
     "output_type": "stream",
     "text": [
      "================================= fold 2/2 androgen_receptor_agonist=================================\n"
     ]
    },
    {
     "name": "stdout",
     "output_type": "stream",
     "text": [
      "Training until validation scores don't improve for 10 rounds\n",
      "Early stopping, best iteration is:\n",
      "[1]\ttraining's binary_logloss: 0.0132387\tvalid_1's binary_logloss: 0.0144925\n"
     ]
    },
    {
     "name": "stderr",
     "output_type": "stream",
     "text": [
      "androgen_receptor_agonist logloss: 0.01449649420939636\n",
      "=========================================================================================\n",
      "================================= fold 1/2 androgen_receptor_antagonist=================================\n"
     ]
    },
    {
     "name": "stdout",
     "output_type": "stream",
     "text": [
      "Training until validation scores don't improve for 10 rounds\n",
      "Early stopping, best iteration is:\n",
      "[1]\ttraining's binary_logloss: 0.0231441\tvalid_1's binary_logloss: 0.0244433\n"
     ]
    },
    {
     "name": "stderr",
     "output_type": "stream",
     "text": [
      "================================= fold 2/2 androgen_receptor_antagonist=================================\n"
     ]
    },
    {
     "name": "stdout",
     "output_type": "stream",
     "text": [
      "Training until validation scores don't improve for 10 rounds\n",
      "Early stopping, best iteration is:\n",
      "[3]\ttraining's binary_logloss: 0.0190167\tvalid_1's binary_logloss: 0.0248879\n"
     ]
    },
    {
     "name": "stderr",
     "output_type": "stream",
     "text": [
      "androgen_receptor_antagonist logloss: 0.024665633310435142\n",
      "=========================================================================================\n",
      "================================= fold 1/2 anesthetic_-_local=================================\n"
     ]
    },
    {
     "name": "stdout",
     "output_type": "stream",
     "text": [
      "Training until validation scores don't improve for 10 rounds\n",
      "Early stopping, best iteration is:\n",
      "[1]\ttraining's binary_logloss: 0.0209003\tvalid_1's binary_logloss: 0.0225286\n"
     ]
    },
    {
     "name": "stderr",
     "output_type": "stream",
     "text": [
      "================================= fold 2/2 anesthetic_-_local=================================\n"
     ]
    },
    {
     "name": "stdout",
     "output_type": "stream",
     "text": [
      "Training until validation scores don't improve for 10 rounds\n",
      "Early stopping, best iteration is:\n",
      "[2]\ttraining's binary_logloss: 0.0187138\tvalid_1's binary_logloss: 0.0225281\n"
     ]
    },
    {
     "name": "stderr",
     "output_type": "stream",
     "text": [
      "anesthetic_-_local logloss: 0.02252833934158737\n",
      "=========================================================================================\n",
      "================================= fold 1/2 angiogenesis_inhibitor=================================\n"
     ]
    },
    {
     "name": "stdout",
     "output_type": "stream",
     "text": [
      "Training until validation scores don't improve for 10 rounds\n",
      "Early stopping, best iteration is:\n",
      "[2]\ttraining's binary_logloss: 0.00893734\tvalid_1's binary_logloss: 0.0113316\n"
     ]
    },
    {
     "name": "stderr",
     "output_type": "stream",
     "text": [
      "================================= fold 2/2 angiogenesis_inhibitor=================================\n"
     ]
    },
    {
     "name": "stdout",
     "output_type": "stream",
     "text": [
      "Training until validation scores don't improve for 10 rounds\n",
      "Early stopping, best iteration is:\n",
      "[5]\ttraining's binary_logloss: 0.00670498\tvalid_1's binary_logloss: 0.0112831\n"
     ]
    },
    {
     "name": "stderr",
     "output_type": "stream",
     "text": [
      "angiogenesis_inhibitor logloss: 0.01130735256770238\n",
      "=========================================================================================\n",
      "================================= fold 1/2 angiotensin_receptor_antagonist=================================\n"
     ]
    },
    {
     "name": "stdout",
     "output_type": "stream",
     "text": [
      "Training until validation scores don't improve for 10 rounds\n",
      "Early stopping, best iteration is:\n",
      "[6]\ttraining's binary_logloss: 0.0220784\tvalid_1's binary_logloss: 0.0334699\n"
     ]
    },
    {
     "name": "stderr",
     "output_type": "stream",
     "text": [
      "================================= fold 2/2 angiotensin_receptor_antagonist=================================\n"
     ]
    },
    {
     "name": "stdout",
     "output_type": "stream",
     "text": [
      "Training until validation scores don't improve for 10 rounds\n",
      "Early stopping, best iteration is:\n",
      "[4]\ttraining's binary_logloss: 0.0240029\tvalid_1's binary_logloss: 0.0334868\n"
     ]
    },
    {
     "name": "stderr",
     "output_type": "stream",
     "text": [
      "angiotensin_receptor_antagonist logloss: 0.033478317794098184\n",
      "=========================================================================================\n",
      "================================= fold 1/2 anti-inflammatory=================================\n"
     ]
    },
    {
     "name": "stdout",
     "output_type": "stream",
     "text": [
      "Training until validation scores don't improve for 10 rounds\n",
      "Early stopping, best iteration is:\n",
      "[7]\ttraining's binary_logloss: 0.0252379\tvalid_1's binary_logloss: 0.0365975\n"
     ]
    },
    {
     "name": "stderr",
     "output_type": "stream",
     "text": [
      "================================= fold 2/2 anti-inflammatory=================================\n"
     ]
    },
    {
     "name": "stdout",
     "output_type": "stream",
     "text": [
      "Training until validation scores don't improve for 10 rounds\n",
      "Early stopping, best iteration is:\n",
      "[14]\ttraining's binary_logloss: 0.0173889\tvalid_1's binary_logloss: 0.036608\n"
     ]
    },
    {
     "name": "stderr",
     "output_type": "stream",
     "text": [
      "anti-inflammatory logloss: 0.03660274671590815\n",
      "=========================================================================================\n",
      "================================= fold 1/2 antiarrhythmic=================================\n"
     ]
    },
    {
     "name": "stdout",
     "output_type": "stream",
     "text": [
      "Training until validation scores don't improve for 10 rounds\n",
      "Early stopping, best iteration is:\n",
      "[1]\ttraining's binary_logloss: 0.0257711\tvalid_1's binary_logloss: 0.0280475\n"
     ]
    },
    {
     "name": "stderr",
     "output_type": "stream",
     "text": [
      "================================= fold 2/2 antiarrhythmic=================================\n"
     ]
    },
    {
     "name": "stdout",
     "output_type": "stream",
     "text": [
      "Training until validation scores don't improve for 10 rounds\n",
      "Early stopping, best iteration is:\n",
      "[1]\ttraining's binary_logloss: 0.0263441\tvalid_1's binary_logloss: 0.0280572\n"
     ]
    },
    {
     "name": "stderr",
     "output_type": "stream",
     "text": [
      "antiarrhythmic logloss: 0.028052365198262073\n",
      "=========================================================================================\n",
      "================================= fold 1/2 antibiotic=================================\n"
     ]
    },
    {
     "name": "stdout",
     "output_type": "stream",
     "text": [
      "Training until validation scores don't improve for 10 rounds\n",
      "Early stopping, best iteration is:\n",
      "[18]\ttraining's binary_logloss: 0.00379994\tvalid_1's binary_logloss: 0.0122658\n"
     ]
    },
    {
     "name": "stderr",
     "output_type": "stream",
     "text": [
      "================================= fold 2/2 antibiotic=================================\n"
     ]
    },
    {
     "name": "stdout",
     "output_type": "stream",
     "text": [
      "Training until validation scores don't improve for 10 rounds\n",
      "Early stopping, best iteration is:\n",
      "[2]\ttraining's binary_logloss: 0.0103307\tvalid_1's binary_logloss: 0.0134758\n"
     ]
    },
    {
     "name": "stderr",
     "output_type": "stream",
     "text": [
      "antibiotic logloss: 0.012870800606129277\n",
      "=========================================================================================\n",
      "================================= fold 1/2 anticonvulsant=================================\n"
     ]
    },
    {
     "name": "stdout",
     "output_type": "stream",
     "text": [
      "Training until validation scores don't improve for 10 rounds\n",
      "Early stopping, best iteration is:\n",
      "[1]\ttraining's binary_logloss: 0.00577834\tvalid_1's binary_logloss: 0.00619278\n"
     ]
    },
    {
     "name": "stderr",
     "output_type": "stream",
     "text": [
      "================================= fold 2/2 anticonvulsant=================================\n"
     ]
    },
    {
     "name": "stdout",
     "output_type": "stream",
     "text": [
      "Training until validation scores don't improve for 10 rounds\n",
      "Early stopping, best iteration is:\n",
      "[6]\ttraining's binary_logloss: 0.00308966\tvalid_1's binary_logloss: 0.00615098\n"
     ]
    },
    {
     "name": "stderr",
     "output_type": "stream",
     "text": [
      "anticonvulsant logloss: 0.0061718790669182235\n",
      "=========================================================================================\n",
      "================================= fold 1/2 antifungal=================================\n"
     ]
    },
    {
     "name": "stdout",
     "output_type": "stream",
     "text": [
      "Training until validation scores don't improve for 10 rounds\n",
      "Early stopping, best iteration is:\n",
      "[1]\ttraining's binary_logloss: 0.00782419\tvalid_1's binary_logloss: 0.00854723\n"
     ]
    },
    {
     "name": "stderr",
     "output_type": "stream",
     "text": [
      "================================= fold 2/2 antifungal=================================\n"
     ]
    },
    {
     "name": "stdout",
     "output_type": "stream",
     "text": [
      "Training until validation scores don't improve for 10 rounds\n",
      "Early stopping, best iteration is:\n",
      "[1]\ttraining's binary_logloss: 0.007824\tvalid_1's binary_logloss: 0.00854864\n"
     ]
    },
    {
     "name": "stderr",
     "output_type": "stream",
     "text": [
      "antifungal logloss: 0.008547938497388722\n",
      "=========================================================================================\n",
      "================================= fold 1/2 antihistamine=================================\n"
     ]
    },
    {
     "name": "stdout",
     "output_type": "stream",
     "text": [
      "Training until validation scores don't improve for 10 rounds\n",
      "Early stopping, best iteration is:\n",
      "[1]\ttraining's binary_logloss: 0.0054478\tvalid_1's binary_logloss: 0.00619287\n"
     ]
    },
    {
     "name": "stderr",
     "output_type": "stream",
     "text": [
      "================================= fold 2/2 antihistamine=================================\n"
     ]
    },
    {
     "name": "stdout",
     "output_type": "stream",
     "text": [
      "Training until validation scores don't improve for 10 rounds\n",
      "Early stopping, best iteration is:\n",
      "[1]\ttraining's binary_logloss: 0.00573487\tvalid_1's binary_logloss: 0.00619388\n"
     ]
    },
    {
     "name": "stderr",
     "output_type": "stream",
     "text": [
      "antihistamine logloss: 0.006193374960413548\n",
      "=========================================================================================\n",
      "================================= fold 1/2 antimalarial=================================\n"
     ]
    },
    {
     "name": "stdout",
     "output_type": "stream",
     "text": [
      "Training until validation scores don't improve for 10 rounds\n",
      "Early stopping, best iteration is:\n",
      "[1]\ttraining's binary_logloss: 0.00536255\tvalid_1's binary_logloss: 0.00619063\n"
     ]
    },
    {
     "name": "stderr",
     "output_type": "stream",
     "text": [
      "================================= fold 2/2 antimalarial=================================\n"
     ]
    },
    {
     "name": "stdout",
     "output_type": "stream",
     "text": [
      "Training until validation scores don't improve for 10 rounds\n",
      "Early stopping, best iteration is:\n",
      "[3]\ttraining's binary_logloss: 0.00457103\tvalid_1's binary_logloss: 0.00613436\n"
     ]
    },
    {
     "name": "stderr",
     "output_type": "stream",
     "text": [
      "antimalarial logloss: 0.006162492641929111\n",
      "=========================================================================================\n",
      "================================= fold 1/2 antioxidant=================================\n"
     ]
    },
    {
     "name": "stdout",
     "output_type": "stream",
     "text": [
      "Training until validation scores don't improve for 10 rounds\n",
      "Early stopping, best iteration is:\n",
      "[7]\ttraining's binary_logloss: 0.0127839\tvalid_1's binary_logloss: 0.020568\n"
     ]
    },
    {
     "name": "stderr",
     "output_type": "stream",
     "text": [
      "================================= fold 2/2 antioxidant=================================\n"
     ]
    },
    {
     "name": "stdout",
     "output_type": "stream",
     "text": [
      "Training until validation scores don't improve for 10 rounds\n",
      "Early stopping, best iteration is:\n",
      "[5]\ttraining's binary_logloss: 0.0123731\tvalid_1's binary_logloss: 0.0208977\n"
     ]
    },
    {
     "name": "stderr",
     "output_type": "stream",
     "text": [
      "antioxidant logloss: 0.020732870403740413\n",
      "=========================================================================================\n",
      "================================= fold 1/2 antiprotozoal=================================\n"
     ]
    },
    {
     "name": "stdout",
     "output_type": "stream",
     "text": [
      "Training until validation scores don't improve for 10 rounds\n",
      "Early stopping, best iteration is:\n",
      "[1]\ttraining's binary_logloss: 0.00991826\tvalid_1's binary_logloss: 0.0113478\n"
     ]
    },
    {
     "name": "stderr",
     "output_type": "stream",
     "text": [
      "================================= fold 2/2 antiprotozoal=================================\n"
     ]
    },
    {
     "name": "stdout",
     "output_type": "stream",
     "text": [
      "Training until validation scores don't improve for 10 rounds\n",
      "Early stopping, best iteration is:\n",
      "[2]\ttraining's binary_logloss: 0.00980391\tvalid_1's binary_logloss: 0.0112914\n"
     ]
    },
    {
     "name": "stderr",
     "output_type": "stream",
     "text": [
      "antiprotozoal logloss: 0.011319572384161654\n",
      "=========================================================================================\n",
      "================================= fold 1/2 antiviral=================================\n"
     ]
    },
    {
     "name": "stdout",
     "output_type": "stream",
     "text": [
      "Training until validation scores don't improve for 10 rounds\n",
      "Early stopping, best iteration is:\n",
      "[12]\ttraining's binary_logloss: 0.00242942\tvalid_1's binary_logloss: 0.00736265\n"
     ]
    },
    {
     "name": "stderr",
     "output_type": "stream",
     "text": [
      "================================= fold 2/2 antiviral=================================\n"
     ]
    },
    {
     "name": "stdout",
     "output_type": "stream",
     "text": [
      "Training until validation scores don't improve for 10 rounds\n",
      "Early stopping, best iteration is:\n",
      "[1]\ttraining's binary_logloss: 0.00677246\tvalid_1's binary_logloss: 0.00797354\n"
     ]
    },
    {
     "name": "stderr",
     "output_type": "stream",
     "text": [
      "antiviral logloss: 0.007668096658162331\n",
      "=========================================================================================\n",
      "================================= fold 1/2 apoptosis_stimulant=================================\n"
     ]
    },
    {
     "name": "stdout",
     "output_type": "stream",
     "text": [
      "Training until validation scores don't improve for 10 rounds\n",
      "Early stopping, best iteration is:\n",
      "[20]\ttraining's binary_logloss: 0.0103177\tvalid_1's binary_logloss: 0.0276922\n"
     ]
    },
    {
     "name": "stderr",
     "output_type": "stream",
     "text": [
      "================================= fold 2/2 apoptosis_stimulant=================================\n"
     ]
    },
    {
     "name": "stdout",
     "output_type": "stream",
     "text": [
      "Training until validation scores don't improve for 10 rounds\n",
      "Early stopping, best iteration is:\n",
      "[15]\ttraining's binary_logloss: 0.0138306\tvalid_1's binary_logloss: 0.0287703\n"
     ]
    },
    {
     "name": "stderr",
     "output_type": "stream",
     "text": [
      "apoptosis_stimulant logloss: 0.028231266044327713\n",
      "=========================================================================================\n",
      "================================= fold 1/2 aromatase_inhibitor=================================\n"
     ]
    },
    {
     "name": "stdout",
     "output_type": "stream",
     "text": [
      "Training until validation scores don't improve for 10 rounds\n",
      "Early stopping, best iteration is:\n",
      "[2]\ttraining's binary_logloss: 0.0117676\tvalid_1's binary_logloss: 0.0140167\n"
     ]
    },
    {
     "name": "stderr",
     "output_type": "stream",
     "text": [
      "================================= fold 2/2 aromatase_inhibitor=================================\n"
     ]
    },
    {
     "name": "stdout",
     "output_type": "stream",
     "text": [
      "Training until validation scores don't improve for 10 rounds\n",
      "Early stopping, best iteration is:\n",
      "[1]\ttraining's binary_logloss: 0.0122728\tvalid_1's binary_logloss: 0.0145678\n"
     ]
    },
    {
     "name": "stderr",
     "output_type": "stream",
     "text": [
      "aromatase_inhibitor logloss: 0.014292247113290748\n",
      "=========================================================================================\n",
      "================================= fold 1/2 atm_kinase_inhibitor=================================\n"
     ]
    },
    {
     "name": "stdout",
     "output_type": "stream",
     "text": [
      "Training until validation scores don't improve for 10 rounds\n",
      "Early stopping, best iteration is:\n",
      "[46]\ttraining's binary_logloss: 0.00639408\tvalid_1's binary_logloss: 0.0331109\n"
     ]
    },
    {
     "name": "stderr",
     "output_type": "stream",
     "text": [
      "================================= fold 2/2 atm_kinase_inhibitor=================================\n"
     ]
    },
    {
     "name": "stdout",
     "output_type": "stream",
     "text": [
      "Training until validation scores don't improve for 10 rounds\n",
      "Early stopping, best iteration is:\n",
      "[41]\ttraining's binary_logloss: 0.0067689\tvalid_1's binary_logloss: 0.0324776\n"
     ]
    },
    {
     "name": "stderr",
     "output_type": "stream",
     "text": [
      "atm_kinase_inhibitor logloss: 0.032794242863811454\n",
      "=========================================================================================\n",
      "================================= fold 1/2 atp-sensitive_potassium_channel_antagonist=================================\n"
     ]
    },
    {
     "name": "stdout",
     "output_type": "stream",
     "text": [
      "Training until validation scores don't improve for 10 rounds\n",
      "Early stopping, best iteration is:\n",
      "[5]\ttraining's binary_logloss: 0.00191375\tvalid_1's binary_logloss: 0.00234633\n"
     ]
    },
    {
     "name": "stderr",
     "output_type": "stream",
     "text": [
      "================================= fold 2/2 atp-sensitive_potassium_channel_antagonist=================================\n"
     ]
    },
    {
     "name": "stdout",
     "output_type": "stream",
     "text": [
      "Training until validation scores don't improve for 10 rounds\n",
      "Early stopping, best iteration is:\n",
      "[13]\ttraining's binary_logloss: 0.000676692\tvalid_1's binary_logloss: 0.00289484\n"
     ]
    },
    {
     "name": "stderr",
     "output_type": "stream",
     "text": [
      "atp-sensitive_potassium_channel_antagonist logloss: 0.00262058496527707\n",
      "=========================================================================================\n",
      "================================= fold 1/2 atp_synthase_inhibitor=================================\n"
     ]
    },
    {
     "name": "stdout",
     "output_type": "stream",
     "text": [
      "Training until validation scores don't improve for 10 rounds\n",
      "Early stopping, best iteration is:\n",
      "[87]\ttraining's binary_logloss: 0.000178003\tvalid_1's binary_logloss: 0.00452109\n"
     ]
    },
    {
     "name": "stderr",
     "output_type": "stream",
     "text": [
      "================================= fold 2/2 atp_synthase_inhibitor=================================\n"
     ]
    },
    {
     "name": "stdout",
     "output_type": "stream",
     "text": [
      "Training until validation scores don't improve for 10 rounds\n",
      "[100]\ttraining's binary_logloss: 0.000135695\tvalid_1's binary_logloss: 0.00331991\n",
      "Early stopping, best iteration is:\n",
      "[104]\ttraining's binary_logloss: 0.000125751\tvalid_1's binary_logloss: 0.00329741\n"
     ]
    },
    {
     "name": "stderr",
     "output_type": "stream",
     "text": [
      "atp_synthase_inhibitor logloss: 0.003909248952740205\n",
      "=========================================================================================\n",
      "================================= fold 1/2 atpase_inhibitor=================================\n"
     ]
    },
    {
     "name": "stdout",
     "output_type": "stream",
     "text": [
      "Training until validation scores don't improve for 10 rounds\n",
      "Early stopping, best iteration is:\n",
      "[44]\ttraining's binary_logloss: 0.00389871\tvalid_1's binary_logloss: 0.0218273\n"
     ]
    },
    {
     "name": "stderr",
     "output_type": "stream",
     "text": [
      "================================= fold 2/2 atpase_inhibitor=================================\n"
     ]
    },
    {
     "name": "stdout",
     "output_type": "stream",
     "text": [
      "Training until validation scores don't improve for 10 rounds\n",
      "Early stopping, best iteration is:\n",
      "[21]\ttraining's binary_logloss: 0.00713604\tvalid_1's binary_logloss: 0.0241893\n"
     ]
    },
    {
     "name": "stderr",
     "output_type": "stream",
     "text": [
      "atpase_inhibitor logloss: 0.023008307517397898\n",
      "=========================================================================================\n",
      "================================= fold 1/2 atr_kinase_inhibitor=================================\n"
     ]
    },
    {
     "name": "stdout",
     "output_type": "stream",
     "text": [
      "Training until validation scores don't improve for 10 rounds\n",
      "Early stopping, best iteration is:\n",
      "[62]\ttraining's binary_logloss: 0.000790082\tvalid_1's binary_logloss: 0.00955987\n"
     ]
    },
    {
     "name": "stderr",
     "output_type": "stream",
     "text": [
      "================================= fold 2/2 atr_kinase_inhibitor=================================\n"
     ]
    },
    {
     "name": "stdout",
     "output_type": "stream",
     "text": [
      "Training until validation scores don't improve for 10 rounds\n",
      "[100]\ttraining's binary_logloss: 0.000309385\tvalid_1's binary_logloss: 0.00930726\n",
      "Early stopping, best iteration is:\n",
      "[98]\ttraining's binary_logloss: 0.000322729\tvalid_1's binary_logloss: 0.0093037\n"
     ]
    },
    {
     "name": "stderr",
     "output_type": "stream",
     "text": [
      "atr_kinase_inhibitor logloss: 0.009431785469434701\n",
      "=========================================================================================\n",
      "================================= fold 1/2 aurora_kinase_inhibitor=================================\n"
     ]
    },
    {
     "name": "stdout",
     "output_type": "stream",
     "text": [
      "Training until validation scores don't improve for 10 rounds\n",
      "Early stopping, best iteration is:\n",
      "[73]\ttraining's binary_logloss: 0.00155473\tvalid_1's binary_logloss: 0.0178063\n"
     ]
    },
    {
     "name": "stderr",
     "output_type": "stream",
     "text": [
      "================================= fold 2/2 aurora_kinase_inhibitor=================================\n"
     ]
    },
    {
     "name": "stdout",
     "output_type": "stream",
     "text": [
      "Training until validation scores don't improve for 10 rounds\n",
      "Early stopping, best iteration is:\n",
      "[77]\ttraining's binary_logloss: 0.00138289\tvalid_1's binary_logloss: 0.0170806\n"
     ]
    },
    {
     "name": "stderr",
     "output_type": "stream",
     "text": [
      "aurora_kinase_inhibitor logloss: 0.01744343722274507\n",
      "=========================================================================================\n",
      "================================= fold 1/2 autotaxin_inhibitor=================================\n"
     ]
    },
    {
     "name": "stdout",
     "output_type": "stream",
     "text": [
      "Training until validation scores don't improve for 10 rounds\n",
      "Early stopping, best iteration is:\n",
      "[6]\ttraining's binary_logloss: 0.00539442\tvalid_1's binary_logloss: 0.0112757\n"
     ]
    },
    {
     "name": "stderr",
     "output_type": "stream",
     "text": [
      "================================= fold 2/2 autotaxin_inhibitor=================================\n"
     ]
    },
    {
     "name": "stdout",
     "output_type": "stream",
     "text": [
      "Training until validation scores don't improve for 10 rounds\n",
      "Early stopping, best iteration is:\n",
      "[2]\ttraining's binary_logloss: 0.00894564\tvalid_1's binary_logloss: 0.0112974\n"
     ]
    },
    {
     "name": "stderr",
     "output_type": "stream",
     "text": [
      "autotaxin_inhibitor logloss: 0.011286524887426878\n",
      "=========================================================================================\n",
      "================================= fold 1/2 bacterial_30s_ribosomal_subunit_inhibitor=================================\n"
     ]
    },
    {
     "name": "stdout",
     "output_type": "stream",
     "text": [
      "Training until validation scores don't improve for 10 rounds\n",
      "Early stopping, best iteration is:\n",
      "[1]\ttraining's binary_logloss: 0.0164462\tvalid_1's binary_logloss: 0.0176284\n"
     ]
    },
    {
     "name": "stderr",
     "output_type": "stream",
     "text": [
      "================================= fold 2/2 bacterial_30s_ribosomal_subunit_inhibitor=================================\n"
     ]
    },
    {
     "name": "stdout",
     "output_type": "stream",
     "text": [
      "Training until validation scores don't improve for 10 rounds\n",
      "Early stopping, best iteration is:\n",
      "[1]\ttraining's binary_logloss: 0.0156114\tvalid_1's binary_logloss: 0.0176521\n"
     ]
    },
    {
     "name": "stderr",
     "output_type": "stream",
     "text": [
      "bacterial_30s_ribosomal_subunit_inhibitor logloss: 0.017640254205821455\n",
      "=========================================================================================\n",
      "================================= fold 1/2 bacterial_50s_ribosomal_subunit_inhibitor=================================\n"
     ]
    },
    {
     "name": "stdout",
     "output_type": "stream",
     "text": [
      "Training until validation scores don't improve for 10 rounds\n",
      "Early stopping, best iteration is:\n",
      "[1]\ttraining's binary_logloss: 0.0203369\tvalid_1's binary_logloss: 0.0225865\n"
     ]
    },
    {
     "name": "stderr",
     "output_type": "stream",
     "text": [
      "================================= fold 2/2 bacterial_50s_ribosomal_subunit_inhibitor=================================\n"
     ]
    },
    {
     "name": "stdout",
     "output_type": "stream",
     "text": [
      "Training until validation scores don't improve for 10 rounds\n",
      "Early stopping, best iteration is:\n",
      "[1]\ttraining's binary_logloss: 0.0201658\tvalid_1's binary_logloss: 0.0225187\n"
     ]
    },
    {
     "name": "stderr",
     "output_type": "stream",
     "text": [
      "bacterial_50s_ribosomal_subunit_inhibitor logloss: 0.02255262181187911\n",
      "=========================================================================================\n",
      "================================= fold 1/2 bacterial_antifolate=================================\n"
     ]
    },
    {
     "name": "stdout",
     "output_type": "stream",
     "text": [
      "Training until validation scores don't improve for 10 rounds\n",
      "Early stopping, best iteration is:\n",
      "[1]\ttraining's binary_logloss: 0.00950579\tvalid_1's binary_logloss: 0.0111935\n"
     ]
    },
    {
     "name": "stderr",
     "output_type": "stream",
     "text": [
      "================================= fold 2/2 bacterial_antifolate=================================\n"
     ]
    },
    {
     "name": "stdout",
     "output_type": "stream",
     "text": [
      "Training until validation scores don't improve for 10 rounds\n",
      "Early stopping, best iteration is:\n",
      "[2]\ttraining's binary_logloss: 0.0086082\tvalid_1's binary_logloss: 0.0112625\n"
     ]
    },
    {
     "name": "stderr",
     "output_type": "stream",
     "text": [
      "bacterial_antifolate logloss: 0.011227976615939687\n",
      "=========================================================================================\n",
      "================================= fold 1/2 bacterial_cell_wall_synthesis_inhibitor=================================\n"
     ]
    },
    {
     "name": "stdout",
     "output_type": "stream",
     "text": [
      "Training until validation scores don't improve for 10 rounds\n",
      "Early stopping, best iteration is:\n",
      "[1]\ttraining's binary_logloss: 0.046162\tvalid_1's binary_logloss: 0.0468339\n"
     ]
    },
    {
     "name": "stderr",
     "output_type": "stream",
     "text": [
      "================================= fold 2/2 bacterial_cell_wall_synthesis_inhibitor=================================\n"
     ]
    },
    {
     "name": "stdout",
     "output_type": "stream",
     "text": [
      "Training until validation scores don't improve for 10 rounds\n",
      "Early stopping, best iteration is:\n",
      "[12]\ttraining's binary_logloss: 0.0262103\tvalid_1's binary_logloss: 0.0468745\n"
     ]
    },
    {
     "name": "stderr",
     "output_type": "stream",
     "text": [
      "bacterial_cell_wall_synthesis_inhibitor logloss: 0.04685418241837757\n",
      "=========================================================================================\n",
      "================================= fold 1/2 bacterial_dna_gyrase_inhibitor=================================\n"
     ]
    },
    {
     "name": "stdout",
     "output_type": "stream",
     "text": [
      "Training until validation scores don't improve for 10 rounds\n",
      "Early stopping, best iteration is:\n",
      "[11]\ttraining's binary_logloss: 0.0105805\tvalid_1's binary_logloss: 0.0243166\n"
     ]
    },
    {
     "name": "stderr",
     "output_type": "stream",
     "text": [
      "================================= fold 2/2 bacterial_dna_gyrase_inhibitor=================================\n"
     ]
    },
    {
     "name": "stdout",
     "output_type": "stream",
     "text": [
      "Training until validation scores don't improve for 10 rounds\n",
      "Early stopping, best iteration is:\n",
      "[1]\ttraining's binary_logloss: 0.0227584\tvalid_1's binary_logloss: 0.0248792\n"
     ]
    },
    {
     "name": "stderr",
     "output_type": "stream",
     "text": [
      "bacterial_dna_gyrase_inhibitor logloss: 0.024597895452436954\n",
      "=========================================================================================\n",
      "================================= fold 1/2 bacterial_dna_inhibitor=================================\n"
     ]
    },
    {
     "name": "stdout",
     "output_type": "stream",
     "text": [
      "Training until validation scores don't improve for 10 rounds\n",
      "Early stopping, best iteration is:\n",
      "[1]\ttraining's binary_logloss: 0.0284317\tvalid_1's binary_logloss: 0.0303529\n"
     ]
    },
    {
     "name": "stderr",
     "output_type": "stream",
     "text": [
      "================================= fold 2/2 bacterial_dna_inhibitor=================================\n"
     ]
    },
    {
     "name": "stdout",
     "output_type": "stream",
     "text": [
      "Training until validation scores don't improve for 10 rounds\n",
      "Early stopping, best iteration is:\n",
      "[15]\ttraining's binary_logloss: 0.0133322\tvalid_1's binary_logloss: 0.0306049\n"
     ]
    },
    {
     "name": "stderr",
     "output_type": "stream",
     "text": [
      "bacterial_dna_inhibitor logloss: 0.030478936270792244\n",
      "=========================================================================================\n",
      "================================= fold 1/2 bacterial_membrane_integrity_inhibitor=================================\n"
     ]
    },
    {
     "name": "stdout",
     "output_type": "stream",
     "text": [
      "Training until validation scores don't improve for 10 rounds\n",
      "Early stopping, best iteration is:\n",
      "[4]\ttraining's binary_logloss: 0.00492687\tvalid_1's binary_logloss: 0.00564332\n"
     ]
    },
    {
     "name": "stderr",
     "output_type": "stream",
     "text": [
      "================================= fold 2/2 bacterial_membrane_integrity_inhibitor=================================\n"
     ]
    },
    {
     "name": "stdout",
     "output_type": "stream",
     "text": [
      "Training until validation scores don't improve for 10 rounds\n",
      "Early stopping, best iteration is:\n",
      "[10]\ttraining's binary_logloss: 0.00218966\tvalid_1's binary_logloss: 0.00643732\n"
     ]
    },
    {
     "name": "stderr",
     "output_type": "stream",
     "text": [
      "bacterial_membrane_integrity_inhibitor logloss: 0.006040322772749651\n",
      "=========================================================================================\n",
      "================================= fold 1/2 bcl_inhibitor=================================\n"
     ]
    },
    {
     "name": "stdout",
     "output_type": "stream",
     "text": [
      "Training until validation scores don't improve for 10 rounds\n",
      "Early stopping, best iteration is:\n",
      "[1]\ttraining's binary_logloss: 0.00925924\tvalid_1's binary_logloss: 0.00954764\n"
     ]
    },
    {
     "name": "stderr",
     "output_type": "stream",
     "text": [
      "================================= fold 2/2 bcl_inhibitor=================================\n"
     ]
    },
    {
     "name": "stdout",
     "output_type": "stream",
     "text": [
      "Training until validation scores don't improve for 10 rounds\n",
      "Early stopping, best iteration is:\n",
      "[26]\ttraining's binary_logloss: 0.00177898\tvalid_1's binary_logloss: 0.00981262\n"
     ]
    },
    {
     "name": "stderr",
     "output_type": "stream",
     "text": [
      "bcl_inhibitor logloss: 0.009680126694340702\n",
      "=========================================================================================\n",
      "================================= fold 1/2 bcr-abl_inhibitor=================================\n"
     ]
    },
    {
     "name": "stdout",
     "output_type": "stream",
     "text": [
      "Training until validation scores don't improve for 10 rounds\n",
      "Early stopping, best iteration is:\n",
      "[13]\ttraining's binary_logloss: 0.00743691\tvalid_1's binary_logloss: 0.0175439\n"
     ]
    },
    {
     "name": "stderr",
     "output_type": "stream",
     "text": [
      "================================= fold 2/2 bcr-abl_inhibitor=================================\n"
     ]
    },
    {
     "name": "stdout",
     "output_type": "stream",
     "text": [
      "Training until validation scores don't improve for 10 rounds\n",
      "Early stopping, best iteration is:\n",
      "[11]\ttraining's binary_logloss: 0.00748202\tvalid_1's binary_logloss: 0.0182292\n"
     ]
    },
    {
     "name": "stderr",
     "output_type": "stream",
     "text": [
      "bcr-abl_inhibitor logloss: 0.01788654013001385\n",
      "=========================================================================================\n",
      "================================= fold 1/2 benzodiazepine_receptor_agonist=================================\n"
     ]
    },
    {
     "name": "stdout",
     "output_type": "stream",
     "text": [
      "Training until validation scores don't improve for 10 rounds\n",
      "Early stopping, best iteration is:\n",
      "[14]\ttraining's binary_logloss: 0.00716324\tvalid_1's binary_logloss: 0.019127\n"
     ]
    },
    {
     "name": "stderr",
     "output_type": "stream",
     "text": [
      "================================= fold 2/2 benzodiazepine_receptor_agonist=================================\n"
     ]
    },
    {
     "name": "stdout",
     "output_type": "stream",
     "text": [
      "Training until validation scores don't improve for 10 rounds\n",
      "Early stopping, best iteration is:\n",
      "[2]\ttraining's binary_logloss: 0.0148205\tvalid_1's binary_logloss: 0.0194683\n"
     ]
    },
    {
     "name": "stderr",
     "output_type": "stream",
     "text": [
      "benzodiazepine_receptor_agonist logloss: 0.01929764884321491\n",
      "=========================================================================================\n",
      "================================= fold 1/2 beta_amyloid_inhibitor=================================\n"
     ]
    },
    {
     "name": "stdout",
     "output_type": "stream",
     "text": [
      "Training until validation scores don't improve for 10 rounds\n",
      "Early stopping, best iteration is:\n",
      "[1]\ttraining's binary_logloss: 0.00701363\tvalid_1's binary_logloss: 0.00796803\n"
     ]
    },
    {
     "name": "stderr",
     "output_type": "stream",
     "text": [
      "================================= fold 2/2 beta_amyloid_inhibitor=================================\n"
     ]
    },
    {
     "name": "stdout",
     "output_type": "stream",
     "text": [
      "Training until validation scores don't improve for 10 rounds\n",
      "Early stopping, best iteration is:\n",
      "[1]\ttraining's binary_logloss: 0.00718679\tvalid_1's binary_logloss: 0.00796807\n"
     ]
    },
    {
     "name": "stderr",
     "output_type": "stream",
     "text": [
      "beta_amyloid_inhibitor logloss: 0.007968051935789226\n",
      "=========================================================================================\n",
      "================================= fold 1/2 bromodomain_inhibitor=================================\n"
     ]
    },
    {
     "name": "stdout",
     "output_type": "stream",
     "text": [
      "Training until validation scores don't improve for 10 rounds\n",
      "Early stopping, best iteration is:\n",
      "[53]\ttraining's binary_logloss: 0.0019509\tvalid_1's binary_logloss: 0.0154121\n"
     ]
    },
    {
     "name": "stderr",
     "output_type": "stream",
     "text": [
      "================================= fold 2/2 bromodomain_inhibitor=================================\n"
     ]
    },
    {
     "name": "stdout",
     "output_type": "stream",
     "text": [
      "Training until validation scores don't improve for 10 rounds\n",
      "Early stopping, best iteration is:\n",
      "[38]\ttraining's binary_logloss: 0.00268379\tvalid_1's binary_logloss: 0.0148188\n"
     ]
    },
    {
     "name": "stderr",
     "output_type": "stream",
     "text": [
      "bromodomain_inhibitor logloss: 0.015115476717376241\n",
      "=========================================================================================\n",
      "================================= fold 1/2 btk_inhibitor=================================\n"
     ]
    },
    {
     "name": "stdout",
     "output_type": "stream",
     "text": [
      "Training until validation scores don't improve for 10 rounds\n",
      "Early stopping, best iteration is:\n",
      "[1]\ttraining's binary_logloss: 0.00846864\tvalid_1's binary_logloss: 0.00910134\n"
     ]
    },
    {
     "name": "stderr",
     "output_type": "stream",
     "text": [
      "================================= fold 2/2 btk_inhibitor=================================\n"
     ]
    },
    {
     "name": "stdout",
     "output_type": "stream",
     "text": [
      "Training until validation scores don't improve for 10 rounds\n",
      "Early stopping, best iteration is:\n",
      "[2]\ttraining's binary_logloss: 0.00772457\tvalid_1's binary_logloss: 0.00958721\n"
     ]
    },
    {
     "name": "stderr",
     "output_type": "stream",
     "text": [
      "btk_inhibitor logloss: 0.009344278347779577\n",
      "=========================================================================================\n",
      "================================= fold 1/2 calcineurin_inhibitor=================================\n"
     ]
    },
    {
     "name": "stdout",
     "output_type": "stream",
     "text": [
      "Training until validation scores don't improve for 10 rounds\n",
      "Early stopping, best iteration is:\n",
      "[1]\ttraining's binary_logloss: 0.00387677\tvalid_1's binary_logloss: 0.00433431\n"
     ]
    },
    {
     "name": "stderr",
     "output_type": "stream",
     "text": [
      "================================= fold 2/2 calcineurin_inhibitor=================================\n"
     ]
    },
    {
     "name": "stdout",
     "output_type": "stream",
     "text": [
      "Training until validation scores don't improve for 10 rounds\n",
      "Early stopping, best iteration is:\n",
      "[6]\ttraining's binary_logloss: 0.00165078\tvalid_1's binary_logloss: 0.00432023\n"
     ]
    },
    {
     "name": "stderr",
     "output_type": "stream",
     "text": [
      "calcineurin_inhibitor logloss: 0.004327267240299035\n",
      "=========================================================================================\n",
      "================================= fold 1/2 calcium_channel_blocker=================================\n"
     ]
    },
    {
     "name": "stdout",
     "output_type": "stream",
     "text": [
      "Training until validation scores don't improve for 10 rounds\n",
      "Early stopping, best iteration is:\n",
      "[3]\ttraining's binary_logloss: 0.0586233\tvalid_1's binary_logloss: 0.0639002\n"
     ]
    },
    {
     "name": "stderr",
     "output_type": "stream",
     "text": [
      "================================= fold 2/2 calcium_channel_blocker=================================\n"
     ]
    },
    {
     "name": "stdout",
     "output_type": "stream",
     "text": [
      "Training until validation scores don't improve for 10 rounds\n",
      "Early stopping, best iteration is:\n",
      "[21]\ttraining's binary_logloss: 0.0306471\tvalid_1's binary_logloss: 0.06376\n"
     ]
    },
    {
     "name": "stderr",
     "output_type": "stream",
     "text": [
      "calcium_channel_blocker logloss: 0.06383009951110849\n",
      "=========================================================================================\n",
      "================================= fold 1/2 cannabinoid_receptor_agonist=================================\n"
     ]
    },
    {
     "name": "stdout",
     "output_type": "stream",
     "text": [
      "Training until validation scores don't improve for 10 rounds\n",
      "Early stopping, best iteration is:\n",
      "[1]\ttraining's binary_logloss: 0.0112895\tvalid_1's binary_logloss: 0.0129777\n"
     ]
    },
    {
     "name": "stderr",
     "output_type": "stream",
     "text": [
      "================================= fold 2/2 cannabinoid_receptor_agonist=================================\n"
     ]
    },
    {
     "name": "stdout",
     "output_type": "stream",
     "text": [
      "Training until validation scores don't improve for 10 rounds\n",
      "Early stopping, best iteration is:\n",
      "[1]\ttraining's binary_logloss: 0.0116238\tvalid_1's binary_logloss: 0.0129132\n"
     ]
    },
    {
     "name": "stderr",
     "output_type": "stream",
     "text": [
      "cannabinoid_receptor_agonist logloss: 0.012945444318071734\n",
      "=========================================================================================\n",
      "================================= fold 1/2 cannabinoid_receptor_antagonist=================================\n"
     ]
    },
    {
     "name": "stdout",
     "output_type": "stream",
     "text": [
      "Training until validation scores don't improve for 10 rounds\n",
      "Early stopping, best iteration is:\n",
      "[2]\ttraining's binary_logloss: 0.0142069\tvalid_1's binary_logloss: 0.0160595\n"
     ]
    },
    {
     "name": "stderr",
     "output_type": "stream",
     "text": [
      "================================= fold 2/2 cannabinoid_receptor_antagonist=================================\n"
     ]
    },
    {
     "name": "stdout",
     "output_type": "stream",
     "text": [
      "Training until validation scores don't improve for 10 rounds\n",
      "Early stopping, best iteration is:\n",
      "[1]\ttraining's binary_logloss: 0.0147417\tvalid_1's binary_logloss: 0.0165355\n"
     ]
    },
    {
     "name": "stderr",
     "output_type": "stream",
     "text": [
      "cannabinoid_receptor_antagonist logloss: 0.016297509248371256\n",
      "=========================================================================================\n",
      "================================= fold 1/2 carbonic_anhydrase_inhibitor=================================\n"
     ]
    },
    {
     "name": "stdout",
     "output_type": "stream",
     "text": [
      "Training until validation scores don't improve for 10 rounds\n",
      "Early stopping, best iteration is:\n",
      "[1]\ttraining's binary_logloss: 0.0102358\tvalid_1's binary_logloss: 0.0113467\n"
     ]
    },
    {
     "name": "stderr",
     "output_type": "stream",
     "text": [
      "================================= fold 2/2 carbonic_anhydrase_inhibitor=================================\n"
     ]
    },
    {
     "name": "stdout",
     "output_type": "stream",
     "text": [
      "Training until validation scores don't improve for 10 rounds\n",
      "Early stopping, best iteration is:\n",
      "[1]\ttraining's binary_logloss: 0.0105067\tvalid_1's binary_logloss: 0.0113475\n"
     ]
    },
    {
     "name": "stderr",
     "output_type": "stream",
     "text": [
      "carbonic_anhydrase_inhibitor logloss: 0.011347058281062198\n",
      "=========================================================================================\n",
      "================================= fold 1/2 casein_kinase_inhibitor=================================\n"
     ]
    },
    {
     "name": "stdout",
     "output_type": "stream",
     "text": [
      "Training until validation scores don't improve for 10 rounds\n",
      "Early stopping, best iteration is:\n",
      "[6]\ttraining's binary_logloss: 0.00567775\tvalid_1's binary_logloss: 0.0111391\n"
     ]
    },
    {
     "name": "stderr",
     "output_type": "stream",
     "text": [
      "================================= fold 2/2 casein_kinase_inhibitor=================================\n"
     ]
    },
    {
     "name": "stdout",
     "output_type": "stream",
     "text": [
      "Training until validation scores don't improve for 10 rounds\n",
      "Early stopping, best iteration is:\n",
      "[1]\ttraining's binary_logloss: 0.0100347\tvalid_1's binary_logloss: 0.0112178\n"
     ]
    },
    {
     "name": "stderr",
     "output_type": "stream",
     "text": [
      "casein_kinase_inhibitor logloss: 0.011178452548636903\n",
      "=========================================================================================\n",
      "================================= fold 1/2 caspase_activator=================================\n"
     ]
    },
    {
     "name": "stdout",
     "output_type": "stream",
     "text": [
      "Training until validation scores don't improve for 10 rounds\n",
      "Early stopping, best iteration is:\n",
      "[8]\ttraining's binary_logloss: 0.00830028\tvalid_1's binary_logloss: 0.0159624\n"
     ]
    },
    {
     "name": "stderr",
     "output_type": "stream",
     "text": [
      "================================= fold 2/2 caspase_activator=================================\n"
     ]
    },
    {
     "name": "stdout",
     "output_type": "stream",
     "text": [
      "Training until validation scores don't improve for 10 rounds\n",
      "Early stopping, best iteration is:\n",
      "[8]\ttraining's binary_logloss: 0.0079717\tvalid_1's binary_logloss: 0.0164612\n"
     ]
    },
    {
     "name": "stderr",
     "output_type": "stream",
     "text": [
      "caspase_activator logloss: 0.01621181863465925\n",
      "=========================================================================================\n",
      "================================= fold 1/2 catechol_o_methyltransferase_inhibitor=================================\n"
     ]
    },
    {
     "name": "stdout",
     "output_type": "stream",
     "text": [
      "Training until validation scores don't improve for 10 rounds\n",
      "Early stopping, best iteration is:\n",
      "[1]\ttraining's binary_logloss: 0.00578242\tvalid_1's binary_logloss: 0.00619011\n"
     ]
    },
    {
     "name": "stderr",
     "output_type": "stream",
     "text": [
      "================================= fold 2/2 catechol_o_methyltransferase_inhibitor=================================\n"
     ]
    },
    {
     "name": "stdout",
     "output_type": "stream",
     "text": [
      "Training until validation scores don't improve for 10 rounds\n",
      "Early stopping, best iteration is:\n",
      "[1]\ttraining's binary_logloss: 0.00560368\tvalid_1's binary_logloss: 0.00619274\n"
     ]
    },
    {
     "name": "stderr",
     "output_type": "stream",
     "text": [
      "catechol_o_methyltransferase_inhibitor logloss: 0.006191424154064015\n",
      "=========================================================================================\n",
      "================================= fold 1/2 cc_chemokine_receptor_antagonist=================================\n"
     ]
    },
    {
     "name": "stdout",
     "output_type": "stream",
     "text": [
      "Training until validation scores don't improve for 10 rounds\n",
      "Early stopping, best iteration is:\n",
      "[1]\ttraining's binary_logloss: 0.0253041\tvalid_1's binary_logloss: 0.02769\n"
     ]
    },
    {
     "name": "stderr",
     "output_type": "stream",
     "text": [
      "================================= fold 2/2 cc_chemokine_receptor_antagonist=================================\n"
     ]
    },
    {
     "name": "stdout",
     "output_type": "stream",
     "text": [
      "Training until validation scores don't improve for 10 rounds\n",
      "Early stopping, best iteration is:\n",
      "[4]\ttraining's binary_logloss: 0.0218353\tvalid_1's binary_logloss: 0.0275421\n"
     ]
    },
    {
     "name": "stderr",
     "output_type": "stream",
     "text": [
      "cc_chemokine_receptor_antagonist logloss: 0.02761604891883328\n",
      "=========================================================================================\n",
      "================================= fold 1/2 cck_receptor_antagonist=================================\n"
     ]
    },
    {
     "name": "stdout",
     "output_type": "stream",
     "text": [
      "Training until validation scores don't improve for 10 rounds\n",
      "Early stopping, best iteration is:\n",
      "[4]\ttraining's binary_logloss: 0.00351221\tvalid_1's binary_logloss: 0.0061385\n"
     ]
    },
    {
     "name": "stderr",
     "output_type": "stream",
     "text": [
      "================================= fold 2/2 cck_receptor_antagonist=================================\n"
     ]
    },
    {
     "name": "stdout",
     "output_type": "stream",
     "text": [
      "Training until validation scores don't improve for 10 rounds\n",
      "Early stopping, best iteration is:\n",
      "[1]\ttraining's binary_logloss: 0.0057327\tvalid_1's binary_logloss: 0.00619342\n"
     ]
    },
    {
     "name": "stderr",
     "output_type": "stream",
     "text": [
      "cck_receptor_antagonist logloss: 0.006165959446845941\n",
      "=========================================================================================\n",
      "================================= fold 1/2 cdk_inhibitor=================================\n"
     ]
    },
    {
     "name": "stdout",
     "output_type": "stream",
     "text": [
      "Training until validation scores don't improve for 10 rounds\n",
      "Early stopping, best iteration is:\n",
      "[85]\ttraining's binary_logloss: 0.00377221\tvalid_1's binary_logloss: 0.0275487\n"
     ]
    },
    {
     "name": "stderr",
     "output_type": "stream",
     "text": [
      "================================= fold 2/2 cdk_inhibitor=================================\n"
     ]
    },
    {
     "name": "stdout",
     "output_type": "stream",
     "text": [
      "Training until validation scores don't improve for 10 rounds\n",
      "[100]\ttraining's binary_logloss: 0.00294588\tvalid_1's binary_logloss: 0.0262025\n",
      "Early stopping, best iteration is:\n",
      "[101]\ttraining's binary_logloss: 0.00287689\tvalid_1's binary_logloss: 0.0261941\n"
     ]
    },
    {
     "name": "stderr",
     "output_type": "stream",
     "text": [
      "cdk_inhibitor logloss: 0.026871381284676643\n",
      "=========================================================================================\n",
      "================================= fold 1/2 chelating_agent=================================\n"
     ]
    },
    {
     "name": "stdout",
     "output_type": "stream",
     "text": [
      "Training until validation scores don't improve for 10 rounds\n",
      "Early stopping, best iteration is:\n",
      "[1]\ttraining's binary_logloss: 0.01493\tvalid_1's binary_logloss: 0.0161114\n"
     ]
    },
    {
     "name": "stderr",
     "output_type": "stream",
     "text": [
      "================================= fold 2/2 chelating_agent=================================\n"
     ]
    },
    {
     "name": "stdout",
     "output_type": "stream",
     "text": [
      "Training until validation scores don't improve for 10 rounds\n",
      "Early stopping, best iteration is:\n",
      "[1]\ttraining's binary_logloss: 0.0152912\tvalid_1's binary_logloss: 0.016087\n"
     ]
    },
    {
     "name": "stderr",
     "output_type": "stream",
     "text": [
      "chelating_agent logloss: 0.016099239421804704\n",
      "=========================================================================================\n",
      "================================= fold 1/2 chk_inhibitor=================================\n"
     ]
    },
    {
     "name": "stdout",
     "output_type": "stream",
     "text": [
      "Training until validation scores don't improve for 10 rounds\n",
      "Early stopping, best iteration is:\n",
      "[62]\ttraining's binary_logloss: 0.000790082\tvalid_1's binary_logloss: 0.00955987\n"
     ]
    },
    {
     "name": "stderr",
     "output_type": "stream",
     "text": [
      "================================= fold 2/2 chk_inhibitor=================================\n"
     ]
    },
    {
     "name": "stdout",
     "output_type": "stream",
     "text": [
      "Training until validation scores don't improve for 10 rounds\n",
      "[100]\ttraining's binary_logloss: 0.000309385\tvalid_1's binary_logloss: 0.00930726\n",
      "Early stopping, best iteration is:\n",
      "[98]\ttraining's binary_logloss: 0.000322729\tvalid_1's binary_logloss: 0.0093037\n"
     ]
    },
    {
     "name": "stderr",
     "output_type": "stream",
     "text": [
      "chk_inhibitor logloss: 0.009431785469434701\n",
      "=========================================================================================\n",
      "================================= fold 1/2 chloride_channel_blocker=================================\n"
     ]
    },
    {
     "name": "stdout",
     "output_type": "stream",
     "text": [
      "Training until validation scores don't improve for 10 rounds\n",
      "Early stopping, best iteration is:\n",
      "[1]\ttraining's binary_logloss: 0.0120074\tvalid_1's binary_logloss: 0.0129646\n"
     ]
    },
    {
     "name": "stderr",
     "output_type": "stream",
     "text": [
      "================================= fold 2/2 chloride_channel_blocker=================================\n"
     ]
    },
    {
     "name": "stdout",
     "output_type": "stream",
     "text": [
      "Training until validation scores don't improve for 10 rounds\n",
      "Early stopping, best iteration is:\n",
      "[3]\ttraining's binary_logloss: 0.00859085\tvalid_1's binary_logloss: 0.0129412\n"
     ]
    },
    {
     "name": "stderr",
     "output_type": "stream",
     "text": [
      "chloride_channel_blocker logloss: 0.012952910654667681\n",
      "=========================================================================================\n",
      "================================= fold 1/2 cholesterol_inhibitor=================================\n"
     ]
    },
    {
     "name": "stdout",
     "output_type": "stream",
     "text": [
      "Training until validation scores don't improve for 10 rounds\n",
      "Early stopping, best iteration is:\n",
      "[1]\ttraining's binary_logloss: 0.0133203\tvalid_1's binary_logloss: 0.0144788\n"
     ]
    },
    {
     "name": "stderr",
     "output_type": "stream",
     "text": [
      "================================= fold 2/2 cholesterol_inhibitor=================================\n"
     ]
    },
    {
     "name": "stdout",
     "output_type": "stream",
     "text": [
      "Training until validation scores don't improve for 10 rounds\n",
      "Early stopping, best iteration is:\n",
      "[1]\ttraining's binary_logloss: 0.0133769\tvalid_1's binary_logloss: 0.0144112\n"
     ]
    },
    {
     "name": "stderr",
     "output_type": "stream",
     "text": [
      "cholesterol_inhibitor logloss: 0.014444965761380575\n",
      "=========================================================================================\n",
      "================================= fold 1/2 cholinergic_receptor_antagonist=================================\n"
     ]
    },
    {
     "name": "stdout",
     "output_type": "stream",
     "text": [
      "Training until validation scores don't improve for 10 rounds\n",
      "Early stopping, best iteration is:\n",
      "[7]\ttraining's binary_logloss: 0.00904381\tvalid_1's binary_logloss: 0.0160591\n"
     ]
    },
    {
     "name": "stderr",
     "output_type": "stream",
     "text": [
      "================================= fold 2/2 cholinergic_receptor_antagonist=================================\n"
     ]
    },
    {
     "name": "stdout",
     "output_type": "stream",
     "text": [
      "Training until validation scores don't improve for 10 rounds\n",
      "Early stopping, best iteration is:\n",
      "[2]\ttraining's binary_logloss: 0.0120597\tvalid_1's binary_logloss: 0.0160489\n"
     ]
    },
    {
     "name": "stderr",
     "output_type": "stream",
     "text": [
      "cholinergic_receptor_antagonist logloss: 0.01605395750988471\n",
      "=========================================================================================\n",
      "================================= fold 1/2 coagulation_factor_inhibitor=================================\n"
     ]
    },
    {
     "name": "stdout",
     "output_type": "stream",
     "text": [
      "Training until validation scores don't improve for 10 rounds\n",
      "Early stopping, best iteration is:\n",
      "[4]\ttraining's binary_logloss: 0.00449434\tvalid_1's binary_logloss: 0.00796013\n"
     ]
    },
    {
     "name": "stderr",
     "output_type": "stream",
     "text": [
      "================================= fold 2/2 coagulation_factor_inhibitor=================================\n"
     ]
    },
    {
     "name": "stdout",
     "output_type": "stream",
     "text": [
      "Training until validation scores don't improve for 10 rounds\n",
      "Early stopping, best iteration is:\n",
      "[4]\ttraining's binary_logloss: 0.00534425\tvalid_1's binary_logloss: 0.00791914\n"
     ]
    },
    {
     "name": "stderr",
     "output_type": "stream",
     "text": [
      "coagulation_factor_inhibitor logloss: 0.007939635122982163\n",
      "=========================================================================================\n",
      "================================= fold 1/2 corticosteroid_agonist=================================\n"
     ]
    },
    {
     "name": "stdout",
     "output_type": "stream",
     "text": [
      "Training until validation scores don't improve for 10 rounds\n",
      "Early stopping, best iteration is:\n",
      "[35]\ttraining's binary_logloss: 0.00142539\tvalid_1's binary_logloss: 0.0104035\n"
     ]
    },
    {
     "name": "stderr",
     "output_type": "stream",
     "text": [
      "================================= fold 2/2 corticosteroid_agonist=================================\n"
     ]
    },
    {
     "name": "stdout",
     "output_type": "stream",
     "text": [
      "Training until validation scores don't improve for 10 rounds\n",
      "Early stopping, best iteration is:\n",
      "[39]\ttraining's binary_logloss: 0.001352\tvalid_1's binary_logloss: 0.0093204\n"
     ]
    },
    {
     "name": "stderr",
     "output_type": "stream",
     "text": [
      "corticosteroid_agonist logloss: 0.009861942076034575\n",
      "=========================================================================================\n",
      "================================= fold 1/2 cyclooxygenase_inhibitor=================================\n"
     ]
    },
    {
     "name": "stdout",
     "output_type": "stream",
     "text": [
      "Training until validation scores don't improve for 10 rounds\n",
      "Early stopping, best iteration is:\n",
      "[36]\ttraining's binary_logloss: 0.0470086\tvalid_1's binary_logloss: 0.0896889\n"
     ]
    },
    {
     "name": "stderr",
     "output_type": "stream",
     "text": [
      "================================= fold 2/2 cyclooxygenase_inhibitor=================================\n"
     ]
    },
    {
     "name": "stdout",
     "output_type": "stream",
     "text": [
      "Training until validation scores don't improve for 10 rounds\n",
      "Early stopping, best iteration is:\n",
      "[32]\ttraining's binary_logloss: 0.0456159\tvalid_1's binary_logloss: 0.0889916\n"
     ]
    },
    {
     "name": "stderr",
     "output_type": "stream",
     "text": [
      "cyclooxygenase_inhibitor logloss: 0.08934026536444911\n",
      "=========================================================================================\n",
      "================================= fold 1/2 cytochrome_p450_inhibitor=================================\n"
     ]
    },
    {
     "name": "stdout",
     "output_type": "stream",
     "text": [
      "Training until validation scores don't improve for 10 rounds\n",
      "Early stopping, best iteration is:\n",
      "[4]\ttraining's binary_logloss: 0.020229\tvalid_1's binary_logloss: 0.0276951\n"
     ]
    },
    {
     "name": "stderr",
     "output_type": "stream",
     "text": [
      "================================= fold 2/2 cytochrome_p450_inhibitor=================================\n"
     ]
    },
    {
     "name": "stdout",
     "output_type": "stream",
     "text": [
      "Training until validation scores don't improve for 10 rounds\n",
      "Early stopping, best iteration is:\n",
      "[17]\ttraining's binary_logloss: 0.0100942\tvalid_1's binary_logloss: 0.0279171\n"
     ]
    },
    {
     "name": "stderr",
     "output_type": "stream",
     "text": [
      "cytochrome_p450_inhibitor logloss: 0.027806080046012194\n",
      "=========================================================================================\n",
      "================================= fold 1/2 dihydrofolate_reductase_inhibitor=================================\n"
     ]
    },
    {
     "name": "stdout",
     "output_type": "stream",
     "text": [
      "Training until validation scores don't improve for 10 rounds\n",
      "Early stopping, best iteration is:\n",
      "[33]\ttraining's binary_logloss: 0.00169553\tvalid_1's binary_logloss: 0.00953953\n"
     ]
    },
    {
     "name": "stderr",
     "output_type": "stream",
     "text": [
      "================================= fold 2/2 dihydrofolate_reductase_inhibitor=================================\n"
     ]
    },
    {
     "name": "stdout",
     "output_type": "stream",
     "text": [
      "Training until validation scores don't improve for 10 rounds\n",
      "Early stopping, best iteration is:\n",
      "[13]\ttraining's binary_logloss: 0.00372596\tvalid_1's binary_logloss: 0.0107822\n"
     ]
    },
    {
     "name": "stderr",
     "output_type": "stream",
     "text": [
      "dihydrofolate_reductase_inhibitor logloss: 0.01016085318136573\n",
      "=========================================================================================\n",
      "================================= fold 1/2 dipeptidyl_peptidase_inhibitor=================================\n"
     ]
    },
    {
     "name": "stdout",
     "output_type": "stream",
     "text": [
      "Training until validation scores don't improve for 10 rounds\n",
      "Early stopping, best iteration is:\n",
      "[1]\ttraining's binary_logloss: 0.00751368\tvalid_1's binary_logloss: 0.00797059\n"
     ]
    },
    {
     "name": "stderr",
     "output_type": "stream",
     "text": [
      "================================= fold 2/2 dipeptidyl_peptidase_inhibitor=================================\n"
     ]
    },
    {
     "name": "stdout",
     "output_type": "stream",
     "text": [
      "Training until validation scores don't improve for 10 rounds\n",
      "Early stopping, best iteration is:\n",
      "[1]\ttraining's binary_logloss: 0.00734433\tvalid_1's binary_logloss: 0.00854977\n"
     ]
    },
    {
     "name": "stderr",
     "output_type": "stream",
     "text": [
      "dipeptidyl_peptidase_inhibitor logloss: 0.00826017811241838\n",
      "=========================================================================================\n",
      "================================= fold 1/2 diuretic=================================\n"
     ]
    },
    {
     "name": "stdout",
     "output_type": "stream",
     "text": [
      "Training until validation scores don't improve for 10 rounds\n",
      "Early stopping, best iteration is:\n",
      "[1]\ttraining's binary_logloss: 0.0022212\tvalid_1's binary_logloss: 0.00234056\n"
     ]
    },
    {
     "name": "stderr",
     "output_type": "stream",
     "text": [
      "================================= fold 2/2 diuretic=================================\n"
     ]
    },
    {
     "name": "stdout",
     "output_type": "stream",
     "text": [
      "Training until validation scores don't improve for 10 rounds\n",
      "Early stopping, best iteration is:\n",
      "[1]\ttraining's binary_logloss: 0.00212593\tvalid_1's binary_logloss: 0.00234061\n"
     ]
    },
    {
     "name": "stderr",
     "output_type": "stream",
     "text": [
      "diuretic logloss: 0.0023405862227867625\n",
      "=========================================================================================\n",
      "================================= fold 1/2 dna_alkylating_agent=================================\n"
     ]
    },
    {
     "name": "stdout",
     "output_type": "stream",
     "text": [
      "Training until validation scores don't improve for 10 rounds\n",
      "Early stopping, best iteration is:\n",
      "[8]\ttraining's binary_logloss: 0.00652705\tvalid_1's binary_logloss: 0.0144475\n"
     ]
    },
    {
     "name": "stderr",
     "output_type": "stream",
     "text": [
      "================================= fold 2/2 dna_alkylating_agent=================================\n"
     ]
    },
    {
     "name": "stdout",
     "output_type": "stream",
     "text": [
      "Training until validation scores don't improve for 10 rounds\n",
      "Early stopping, best iteration is:\n",
      "[13]\ttraining's binary_logloss: 0.00530181\tvalid_1's binary_logloss: 0.0141786\n"
     ]
    },
    {
     "name": "stderr",
     "output_type": "stream",
     "text": [
      "dna_alkylating_agent logloss: 0.014313036020714882\n",
      "=========================================================================================\n",
      "================================= fold 1/2 dna_inhibitor=================================\n"
     ]
    },
    {
     "name": "stdout",
     "output_type": "stream",
     "text": [
      "Training until validation scores don't improve for 10 rounds\n",
      "Early stopping, best iteration is:\n",
      "[58]\ttraining's binary_logloss: 0.0245891\tvalid_1's binary_logloss: 0.0816035\n"
     ]
    },
    {
     "name": "stderr",
     "output_type": "stream",
     "text": [
      "================================= fold 2/2 dna_inhibitor=================================\n"
     ]
    },
    {
     "name": "stdout",
     "output_type": "stream",
     "text": [
      "Training until validation scores don't improve for 10 rounds\n",
      "Early stopping, best iteration is:\n",
      "[37]\ttraining's binary_logloss: 0.0360084\tvalid_1's binary_logloss: 0.0815243\n"
     ]
    },
    {
     "name": "stderr",
     "output_type": "stream",
     "text": [
      "dna_inhibitor logloss: 0.08156394225758942\n",
      "=========================================================================================\n",
      "================================= fold 1/2 dopamine_receptor_agonist=================================\n"
     ]
    },
    {
     "name": "stdout",
     "output_type": "stream",
     "text": [
      "Training until validation scores don't improve for 10 rounds\n",
      "Early stopping, best iteration is:\n",
      "[2]\ttraining's binary_logloss: 0.0294921\tvalid_1's binary_logloss: 0.0328299\n"
     ]
    },
    {
     "name": "stderr",
     "output_type": "stream",
     "text": [
      "================================= fold 2/2 dopamine_receptor_agonist=================================\n"
     ]
    },
    {
     "name": "stdout",
     "output_type": "stream",
     "text": [
      "Training until validation scores don't improve for 10 rounds\n",
      "Early stopping, best iteration is:\n",
      "[14]\ttraining's binary_logloss: 0.0157497\tvalid_1's binary_logloss: 0.0332327\n"
     ]
    },
    {
     "name": "stderr",
     "output_type": "stream",
     "text": [
      "dopamine_receptor_agonist logloss: 0.03303132208567574\n",
      "=========================================================================================\n",
      "================================= fold 1/2 dopamine_receptor_antagonist=================================\n"
     ]
    },
    {
     "name": "stdout",
     "output_type": "stream",
     "text": [
      "Training until validation scores don't improve for 10 rounds\n",
      "Early stopping, best iteration is:\n",
      "[63]\ttraining's binary_logloss: 0.0289882\tvalid_1's binary_logloss: 0.0854369\n"
     ]
    },
    {
     "name": "stderr",
     "output_type": "stream",
     "text": [
      "================================= fold 2/2 dopamine_receptor_antagonist=================================\n"
     ]
    },
    {
     "name": "stdout",
     "output_type": "stream",
     "text": [
      "Training until validation scores don't improve for 10 rounds\n",
      "Early stopping, best iteration is:\n",
      "[46]\ttraining's binary_logloss: 0.0375558\tvalid_1's binary_logloss: 0.0870118\n"
     ]
    },
    {
     "name": "stderr",
     "output_type": "stream",
     "text": [
      "dopamine_receptor_antagonist logloss: 0.08622434960125258\n",
      "=========================================================================================\n",
      "================================= fold 1/2 egfr_inhibitor=================================\n"
     ]
    },
    {
     "name": "stdout",
     "output_type": "stream",
     "text": [
      "Training until validation scores don't improve for 10 rounds\n",
      "[100]\ttraining's binary_logloss: 0.00289566\tvalid_1's binary_logloss: 0.0332947\n",
      "Early stopping, best iteration is:\n",
      "[123]\ttraining's binary_logloss: 0.00177397\tvalid_1's binary_logloss: 0.033057\n"
     ]
    },
    {
     "name": "stderr",
     "output_type": "stream",
     "text": [
      "================================= fold 2/2 egfr_inhibitor=================================\n"
     ]
    },
    {
     "name": "stdout",
     "output_type": "stream",
     "text": [
      "Training until validation scores don't improve for 10 rounds\n",
      "[100]\ttraining's binary_logloss: 0.00295047\tvalid_1's binary_logloss: 0.0332505\n",
      "Early stopping, best iteration is:\n",
      "[107]\ttraining's binary_logloss: 0.00253219\tvalid_1's binary_logloss: 0.0332299\n"
     ]
    },
    {
     "name": "stderr",
     "output_type": "stream",
     "text": [
      "egfr_inhibitor logloss: 0.033143428954662546\n",
      "=========================================================================================\n",
      "================================= fold 1/2 elastase_inhibitor=================================\n"
     ]
    },
    {
     "name": "stdout",
     "output_type": "stream",
     "text": [
      "Training until validation scores don't improve for 10 rounds\n",
      "Early stopping, best iteration is:\n",
      "[1]\ttraining's binary_logloss: 0.00392173\tvalid_1's binary_logloss: 0.00433226\n"
     ]
    },
    {
     "name": "stderr",
     "output_type": "stream",
     "text": [
      "================================= fold 2/2 elastase_inhibitor=================================\n"
     ]
    },
    {
     "name": "stdout",
     "output_type": "stream",
     "text": [
      "Training until validation scores don't improve for 10 rounds\n",
      "Early stopping, best iteration is:\n",
      "[1]\ttraining's binary_logloss: 0.00401343\tvalid_1's binary_logloss: 0.00433343\n"
     ]
    },
    {
     "name": "stderr",
     "output_type": "stream",
     "text": [
      "elastase_inhibitor logloss: 0.004332849401389945\n",
      "=========================================================================================\n",
      "================================= fold 1/2 erbb2_inhibitor=================================\n"
     ]
    },
    {
     "name": "stdout",
     "output_type": "stream",
     "text": [
      "Training until validation scores don't improve for 10 rounds\n",
      "Early stopping, best iteration is:\n",
      "[3]\ttraining's binary_logloss: 0.00428404\tvalid_1's binary_logloss: 0.00669558\n"
     ]
    },
    {
     "name": "stderr",
     "output_type": "stream",
     "text": [
      "================================= fold 2/2 erbb2_inhibitor=================================\n"
     ]
    },
    {
     "name": "stdout",
     "output_type": "stream",
     "text": [
      "Training until validation scores don't improve for 10 rounds\n",
      "Early stopping, best iteration is:\n",
      "[5]\ttraining's binary_logloss: 0.00413233\tvalid_1's binary_logloss: 0.00670653\n"
     ]
    },
    {
     "name": "stderr",
     "output_type": "stream",
     "text": [
      "erbb2_inhibitor logloss: 0.006701055704152678\n",
      "=========================================================================================\n",
      "================================= fold 1/2 estrogen_receptor_agonist=================================\n"
     ]
    },
    {
     "name": "stdout",
     "output_type": "stream",
     "text": [
      "Training until validation scores don't improve for 10 rounds\n",
      "Early stopping, best iteration is:\n",
      "[12]\ttraining's binary_logloss: 0.0214512\tvalid_1's binary_logloss: 0.0395325\n"
     ]
    },
    {
     "name": "stderr",
     "output_type": "stream",
     "text": [
      "================================= fold 2/2 estrogen_receptor_agonist=================================\n"
     ]
    },
    {
     "name": "stdout",
     "output_type": "stream",
     "text": [
      "Training until validation scores don't improve for 10 rounds\n",
      "Early stopping, best iteration is:\n",
      "[3]\ttraining's binary_logloss: 0.0323109\tvalid_1's binary_logloss: 0.0399715\n"
     ]
    },
    {
     "name": "stderr",
     "output_type": "stream",
     "text": [
      "estrogen_receptor_agonist logloss: 0.03975199971740233\n",
      "=========================================================================================\n",
      "================================= fold 1/2 estrogen_receptor_antagonist=================================\n"
     ]
    },
    {
     "name": "stdout",
     "output_type": "stream",
     "text": [
      "Training until validation scores don't improve for 10 rounds\n",
      "Early stopping, best iteration is:\n",
      "[3]\ttraining's binary_logloss: 0.00995883\tvalid_1's binary_logloss: 0.0144415\n"
     ]
    },
    {
     "name": "stderr",
     "output_type": "stream",
     "text": [
      "================================= fold 2/2 estrogen_receptor_antagonist=================================\n"
     ]
    },
    {
     "name": "stdout",
     "output_type": "stream",
     "text": [
      "Training until validation scores don't improve for 10 rounds\n",
      "Early stopping, best iteration is:\n",
      "[17]\ttraining's binary_logloss: 0.00417773\tvalid_1's binary_logloss: 0.0143213\n"
     ]
    },
    {
     "name": "stderr",
     "output_type": "stream",
     "text": [
      "estrogen_receptor_antagonist logloss: 0.01438138588426076\n",
      "=========================================================================================\n",
      "================================= fold 1/2 faah_inhibitor=================================\n"
     ]
    },
    {
     "name": "stdout",
     "output_type": "stream",
     "text": [
      "Training until validation scores don't improve for 10 rounds\n",
      "Early stopping, best iteration is:\n",
      "[1]\ttraining's binary_logloss: 0.0103789\tvalid_1's binary_logloss: 0.011279\n"
     ]
    },
    {
     "name": "stderr",
     "output_type": "stream",
     "text": [
      "================================= fold 2/2 faah_inhibitor=================================\n"
     ]
    },
    {
     "name": "stdout",
     "output_type": "stream",
     "text": [
      "Training until validation scores don't improve for 10 rounds\n",
      "Early stopping, best iteration is:\n",
      "[13]\ttraining's binary_logloss: 0.00363807\tvalid_1's binary_logloss: 0.0112019\n"
     ]
    },
    {
     "name": "stderr",
     "output_type": "stream",
     "text": [
      "faah_inhibitor logloss: 0.011240438246257605\n",
      "=========================================================================================\n",
      "================================= fold 1/2 farnesyltransferase_inhibitor=================================\n"
     ]
    },
    {
     "name": "stdout",
     "output_type": "stream",
     "text": [
      "Training until validation scores don't improve for 10 rounds\n",
      "Early stopping, best iteration is:\n",
      "[51]\ttraining's binary_logloss: 0.000451134\tvalid_1's binary_logloss: 0.00592809\n"
     ]
    },
    {
     "name": "stderr",
     "output_type": "stream",
     "text": [
      "================================= fold 2/2 farnesyltransferase_inhibitor=================================\n"
     ]
    },
    {
     "name": "stdout",
     "output_type": "stream",
     "text": [
      "Training until validation scores don't improve for 10 rounds\n",
      "Early stopping, best iteration is:\n",
      "[28]\ttraining's binary_logloss: 0.000919327\tvalid_1's binary_logloss: 0.00562464\n"
     ]
    },
    {
     "name": "stderr",
     "output_type": "stream",
     "text": [
      "farnesyltransferase_inhibitor logloss: 0.005776364802029367\n",
      "=========================================================================================\n",
      "================================= fold 1/2 fatty_acid_receptor_agonist=================================\n"
     ]
    },
    {
     "name": "stdout",
     "output_type": "stream",
     "text": [
      "Training until validation scores don't improve for 10 rounds\n",
      "Early stopping, best iteration is:\n",
      "[1]\ttraining's binary_logloss: 0.0078921\tvalid_1's binary_logloss: 0.00797467\n"
     ]
    },
    {
     "name": "stderr",
     "output_type": "stream",
     "text": [
      "================================= fold 2/2 fatty_acid_receptor_agonist=================================\n"
     ]
    },
    {
     "name": "stdout",
     "output_type": "stream",
     "text": [
      "Training until validation scores don't improve for 10 rounds\n",
      "Early stopping, best iteration is:\n",
      "[2]\ttraining's binary_logloss: 0.0061477\tvalid_1's binary_logloss: 0.00851487\n"
     ]
    },
    {
     "name": "stderr",
     "output_type": "stream",
     "text": [
      "fatty_acid_receptor_agonist logloss: 0.008244769960789804\n",
      "=========================================================================================\n",
      "================================= fold 1/2 fgfr_inhibitor=================================\n"
     ]
    },
    {
     "name": "stdout",
     "output_type": "stream",
     "text": [
      "Training until validation scores don't improve for 10 rounds\n",
      "Early stopping, best iteration is:\n",
      "[48]\ttraining's binary_logloss: 0.00147427\tvalid_1's binary_logloss: 0.0132062\n"
     ]
    },
    {
     "name": "stderr",
     "output_type": "stream",
     "text": [
      "================================= fold 2/2 fgfr_inhibitor=================================\n"
     ]
    },
    {
     "name": "stdout",
     "output_type": "stream",
     "text": [
      "Training until validation scores don't improve for 10 rounds\n",
      "Early stopping, best iteration is:\n",
      "[33]\ttraining's binary_logloss: 0.00222298\tvalid_1's binary_logloss: 0.0138075\n"
     ]
    },
    {
     "name": "stderr",
     "output_type": "stream",
     "text": [
      "fgfr_inhibitor logloss: 0.013506828298729418\n",
      "=========================================================================================\n",
      "================================= fold 1/2 flt3_inhibitor=================================\n"
     ]
    },
    {
     "name": "stdout",
     "output_type": "stream",
     "text": [
      "Training until validation scores don't improve for 10 rounds\n",
      "Early stopping, best iteration is:\n",
      "[85]\ttraining's binary_logloss: 0.0036859\tvalid_1's binary_logloss: 0.0318976\n"
     ]
    },
    {
     "name": "stderr",
     "output_type": "stream",
     "text": [
      "================================= fold 2/2 flt3_inhibitor=================================\n"
     ]
    },
    {
     "name": "stdout",
     "output_type": "stream",
     "text": [
      "Training until validation scores don't improve for 10 rounds\n",
      "[100]\ttraining's binary_logloss: 0.00267644\tvalid_1's binary_logloss: 0.0303186\n",
      "Early stopping, best iteration is:\n",
      "[111]\ttraining's binary_logloss: 0.00211738\tvalid_1's binary_logloss: 0.0302807\n"
     ]
    },
    {
     "name": "stderr",
     "output_type": "stream",
     "text": [
      "flt3_inhibitor logloss: 0.031089124789870106\n",
      "=========================================================================================\n",
      "================================= fold 1/2 focal_adhesion_kinase_inhibitor=================================\n"
     ]
    },
    {
     "name": "stdout",
     "output_type": "stream",
     "text": [
      "Training until validation scores don't improve for 10 rounds\n",
      "Early stopping, best iteration is:\n",
      "[38]\ttraining's binary_logloss: 0.000633807\tvalid_1's binary_logloss: 0.00558218\n"
     ]
    },
    {
     "name": "stderr",
     "output_type": "stream",
     "text": [
      "================================= fold 2/2 focal_adhesion_kinase_inhibitor=================================\n"
     ]
    },
    {
     "name": "stdout",
     "output_type": "stream",
     "text": [
      "Training until validation scores don't improve for 10 rounds\n",
      "Early stopping, best iteration is:\n",
      "[66]\ttraining's binary_logloss: 0.000304235\tvalid_1's binary_logloss: 0.0047568\n"
     ]
    },
    {
     "name": "stderr",
     "output_type": "stream",
     "text": [
      "focal_adhesion_kinase_inhibitor logloss: 0.005169487529955707\n",
      "=========================================================================================\n",
      "================================= fold 1/2 free_radical_scavenger=================================\n"
     ]
    },
    {
     "name": "stdout",
     "output_type": "stream",
     "text": [
      "Training until validation scores don't improve for 10 rounds\n",
      "Early stopping, best iteration is:\n",
      "[5]\ttraining's binary_logloss: 0.0167105\tvalid_1's binary_logloss: 0.0248267\n"
     ]
    },
    {
     "name": "stderr",
     "output_type": "stream",
     "text": [
      "================================= fold 2/2 free_radical_scavenger=================================\n"
     ]
    },
    {
     "name": "stdout",
     "output_type": "stream",
     "text": [
      "Training until validation scores don't improve for 10 rounds\n",
      "Early stopping, best iteration is:\n",
      "[3]\ttraining's binary_logloss: 0.0186216\tvalid_1's binary_logloss: 0.0252248\n"
     ]
    },
    {
     "name": "stderr",
     "output_type": "stream",
     "text": [
      "free_radical_scavenger logloss: 0.02502575698609168\n",
      "=========================================================================================\n",
      "================================= fold 1/2 fungal_squalene_epoxidase_inhibitor=================================\n"
     ]
    },
    {
     "name": "stdout",
     "output_type": "stream",
     "text": [
      "Training until validation scores don't improve for 10 rounds\n",
      "Early stopping, best iteration is:\n",
      "[11]\ttraining's binary_logloss: 0.00322388\tvalid_1's binary_logloss: 0.00904609\n"
     ]
    },
    {
     "name": "stderr",
     "output_type": "stream",
     "text": [
      "================================= fold 2/2 fungal_squalene_epoxidase_inhibitor=================================\n"
     ]
    },
    {
     "name": "stdout",
     "output_type": "stream",
     "text": [
      "Training until validation scores don't improve for 10 rounds\n",
      "Early stopping, best iteration is:\n",
      "[1]\ttraining's binary_logloss: 0.00835663\tvalid_1's binary_logloss: 0.00969019\n"
     ]
    },
    {
     "name": "stderr",
     "output_type": "stream",
     "text": [
      "fungal_squalene_epoxidase_inhibitor logloss: 0.00936814013490865\n",
      "=========================================================================================\n",
      "================================= fold 1/2 gaba_receptor_agonist=================================\n"
     ]
    },
    {
     "name": "stdout",
     "output_type": "stream",
     "text": [
      "Training until validation scores don't improve for 10 rounds\n",
      "Early stopping, best iteration is:\n",
      "[6]\ttraining's binary_logloss: 0.0230218\tvalid_1's binary_logloss: 0.0333491\n"
     ]
    },
    {
     "name": "stderr",
     "output_type": "stream",
     "text": [
      "================================= fold 2/2 gaba_receptor_agonist=================================\n"
     ]
    },
    {
     "name": "stdout",
     "output_type": "stream",
     "text": [
      "Training until validation scores don't improve for 10 rounds\n",
      "Early stopping, best iteration is:\n",
      "[3]\ttraining's binary_logloss: 0.0273904\tvalid_1's binary_logloss: 0.0336709\n"
     ]
    },
    {
     "name": "stderr",
     "output_type": "stream",
     "text": [
      "gaba_receptor_agonist logloss: 0.03350999472715868\n",
      "=========================================================================================\n",
      "================================= fold 1/2 gaba_receptor_antagonist=================================\n"
     ]
    },
    {
     "name": "stdout",
     "output_type": "stream",
     "text": [
      "Training until validation scores don't improve for 10 rounds\n",
      "Early stopping, best iteration is:\n",
      "[14]\ttraining's binary_logloss: 0.0226507\tvalid_1's binary_logloss: 0.0423262\n"
     ]
    },
    {
     "name": "stderr",
     "output_type": "stream",
     "text": [
      "================================= fold 2/2 gaba_receptor_antagonist=================================\n"
     ]
    },
    {
     "name": "stdout",
     "output_type": "stream",
     "text": [
      "Training until validation scores don't improve for 10 rounds\n",
      "Early stopping, best iteration is:\n",
      "[3]\ttraining's binary_logloss: 0.0372348\tvalid_1's binary_logloss: 0.042872\n"
     ]
    },
    {
     "name": "stderr",
     "output_type": "stream",
     "text": [
      "gaba_receptor_antagonist logloss: 0.04259907125128645\n",
      "=========================================================================================\n",
      "================================= fold 1/2 gamma_secretase_inhibitor=================================\n"
     ]
    },
    {
     "name": "stdout",
     "output_type": "stream",
     "text": [
      "Training until validation scores don't improve for 10 rounds\n",
      "Early stopping, best iteration is:\n",
      "[40]\ttraining's binary_logloss: 0.00209627\tvalid_1's binary_logloss: 0.0133832\n"
     ]
    },
    {
     "name": "stderr",
     "output_type": "stream",
     "text": [
      "================================= fold 2/2 gamma_secretase_inhibitor=================================\n"
     ]
    },
    {
     "name": "stdout",
     "output_type": "stream",
     "text": [
      "Training until validation scores don't improve for 10 rounds\n",
      "Early stopping, best iteration is:\n",
      "[38]\ttraining's binary_logloss: 0.00221253\tvalid_1's binary_logloss: 0.0145534\n"
     ]
    },
    {
     "name": "stderr",
     "output_type": "stream",
     "text": [
      "gamma_secretase_inhibitor logloss: 0.013968284337062889\n",
      "=========================================================================================\n",
      "================================= fold 1/2 glucocorticoid_receptor_agonist=================================\n"
     ]
    },
    {
     "name": "stdout",
     "output_type": "stream",
     "text": [
      "Training until validation scores don't improve for 10 rounds\n",
      "[100]\ttraining's binary_logloss: 0.00223651\tvalid_1's binary_logloss: 0.0133365\n",
      "Early stopping, best iteration is:\n",
      "[122]\ttraining's binary_logloss: 0.00138772\tvalid_1's binary_logloss: 0.0132239\n"
     ]
    },
    {
     "name": "stderr",
     "output_type": "stream",
     "text": [
      "================================= fold 2/2 glucocorticoid_receptor_agonist=================================\n"
     ]
    },
    {
     "name": "stdout",
     "output_type": "stream",
     "text": [
      "Training until validation scores don't improve for 10 rounds\n",
      "[100]\ttraining's binary_logloss: 0.00202679\tvalid_1's binary_logloss: 0.0157976\n",
      "Early stopping, best iteration is:\n",
      "[100]\ttraining's binary_logloss: 0.00202679\tvalid_1's binary_logloss: 0.0157976\n"
     ]
    },
    {
     "name": "stderr",
     "output_type": "stream",
     "text": [
      "glucocorticoid_receptor_agonist logloss: 0.014510751114679418\n",
      "=========================================================================================\n",
      "================================= fold 1/2 glutamate_inhibitor=================================\n"
     ]
    },
    {
     "name": "stdout",
     "output_type": "stream",
     "text": [
      "Training until validation scores don't improve for 10 rounds\n",
      "Early stopping, best iteration is:\n",
      "[1]\ttraining's binary_logloss: 0.00471718\tvalid_1's binary_logloss: 0.00433534\n"
     ]
    },
    {
     "name": "stderr",
     "output_type": "stream",
     "text": [
      "================================= fold 2/2 glutamate_inhibitor=================================\n"
     ]
    },
    {
     "name": "stdout",
     "output_type": "stream",
     "text": [
      "Training until validation scores don't improve for 10 rounds\n",
      "Early stopping, best iteration is:\n",
      "[2]\ttraining's binary_logloss: 0.00362602\tvalid_1's binary_logloss: 0.00491274\n"
     ]
    },
    {
     "name": "stderr",
     "output_type": "stream",
     "text": [
      "glutamate_inhibitor logloss: 0.004624038739520439\n",
      "=========================================================================================\n",
      "================================= fold 1/2 glutamate_receptor_agonist=================================\n"
     ]
    },
    {
     "name": "stdout",
     "output_type": "stream",
     "text": [
      "Training until validation scores don't improve for 10 rounds\n",
      "Early stopping, best iteration is:\n",
      "[6]\ttraining's binary_logloss: 0.0137709\tvalid_1's binary_logloss: 0.0223741\n"
     ]
    },
    {
     "name": "stderr",
     "output_type": "stream",
     "text": [
      "================================= fold 2/2 glutamate_receptor_agonist=================================\n"
     ]
    },
    {
     "name": "stdout",
     "output_type": "stream",
     "text": [
      "Training until validation scores don't improve for 10 rounds\n",
      "Early stopping, best iteration is:\n",
      "[1]\ttraining's binary_logloss: 0.0206645\tvalid_1's binary_logloss: 0.0225372\n"
     ]
    },
    {
     "name": "stderr",
     "output_type": "stream",
     "text": [
      "glutamate_receptor_agonist logloss: 0.02245561980722395\n",
      "=========================================================================================\n",
      "================================= fold 1/2 glutamate_receptor_antagonist=================================\n"
     ]
    },
    {
     "name": "stdout",
     "output_type": "stream",
     "text": [
      "Training until validation scores don't improve for 10 rounds\n",
      "Early stopping, best iteration is:\n",
      "[37]\ttraining's binary_logloss: 0.0391862\tvalid_1's binary_logloss: 0.0781574\n"
     ]
    },
    {
     "name": "stderr",
     "output_type": "stream",
     "text": [
      "================================= fold 2/2 glutamate_receptor_antagonist=================================\n"
     ]
    },
    {
     "name": "stdout",
     "output_type": "stream",
     "text": [
      "Training until validation scores don't improve for 10 rounds\n",
      "Early stopping, best iteration is:\n",
      "[17]\ttraining's binary_logloss: 0.0520146\tvalid_1's binary_logloss: 0.0791208\n"
     ]
    },
    {
     "name": "stderr",
     "output_type": "stream",
     "text": [
      "glutamate_receptor_antagonist logloss: 0.07863906946863576\n",
      "=========================================================================================\n",
      "================================= fold 1/2 gonadotropin_receptor_agonist=================================\n"
     ]
    },
    {
     "name": "stdout",
     "output_type": "stream",
     "text": [
      "Training until validation scores don't improve for 10 rounds\n",
      "Early stopping, best iteration is:\n",
      "[1]\ttraining's binary_logloss: 0.00556098\tvalid_1's binary_logloss: 0.00619293\n"
     ]
    },
    {
     "name": "stderr",
     "output_type": "stream",
     "text": [
      "================================= fold 2/2 gonadotropin_receptor_agonist=================================\n"
     ]
    },
    {
     "name": "stdout",
     "output_type": "stream",
     "text": [
      "Training until validation scores don't improve for 10 rounds\n",
      "Early stopping, best iteration is:\n",
      "[2]\ttraining's binary_logloss: 0.00448446\tvalid_1's binary_logloss: 0.0060735\n"
     ]
    },
    {
     "name": "stderr",
     "output_type": "stream",
     "text": [
      "gonadotropin_receptor_agonist logloss: 0.006133217127432438\n",
      "=========================================================================================\n",
      "================================= fold 1/2 gsk_inhibitor=================================\n"
     ]
    },
    {
     "name": "stdout",
     "output_type": "stream",
     "text": [
      "Training until validation scores don't improve for 10 rounds\n",
      "Early stopping, best iteration is:\n",
      "[38]\ttraining's binary_logloss: 0.00238971\tvalid_1's binary_logloss: 0.0137765\n"
     ]
    },
    {
     "name": "stderr",
     "output_type": "stream",
     "text": [
      "================================= fold 2/2 gsk_inhibitor=================================\n"
     ]
    },
    {
     "name": "stdout",
     "output_type": "stream",
     "text": [
      "Training until validation scores don't improve for 10 rounds\n",
      "Early stopping, best iteration is:\n",
      "[43]\ttraining's binary_logloss: 0.00198139\tvalid_1's binary_logloss: 0.0136221\n"
     ]
    },
    {
     "name": "stderr",
     "output_type": "stream",
     "text": [
      "gsk_inhibitor logloss: 0.013699307973354424\n",
      "=========================================================================================\n",
      "================================= fold 1/2 hcv_inhibitor=================================\n"
     ]
    },
    {
     "name": "stdout",
     "output_type": "stream",
     "text": [
      "Training until validation scores don't improve for 10 rounds\n",
      "Early stopping, best iteration is:\n",
      "[1]\ttraining's binary_logloss: 0.0194588\tvalid_1's binary_logloss: 0.0206044\n"
     ]
    },
    {
     "name": "stderr",
     "output_type": "stream",
     "text": [
      "================================= fold 2/2 hcv_inhibitor=================================\n"
     ]
    },
    {
     "name": "stdout",
     "output_type": "stream",
     "text": [
      "Training until validation scores don't improve for 10 rounds\n",
      "Early stopping, best iteration is:\n",
      "[1]\ttraining's binary_logloss: 0.0198557\tvalid_1's binary_logloss: 0.0205408\n"
     ]
    },
    {
     "name": "stderr",
     "output_type": "stream",
     "text": [
      "hcv_inhibitor logloss: 0.020572557798241145\n",
      "=========================================================================================\n",
      "================================= fold 1/2 hdac_inhibitor=================================\n"
     ]
    },
    {
     "name": "stdout",
     "output_type": "stream",
     "text": [
      "Training until validation scores don't improve for 10 rounds\n",
      "Early stopping, best iteration is:\n",
      "[74]\ttraining's binary_logloss: 0.00142398\tvalid_1's binary_logloss: 0.0114848\n"
     ]
    },
    {
     "name": "stderr",
     "output_type": "stream",
     "text": [
      "================================= fold 2/2 hdac_inhibitor=================================\n"
     ]
    },
    {
     "name": "stdout",
     "output_type": "stream",
     "text": [
      "Training until validation scores don't improve for 10 rounds\n",
      "Early stopping, best iteration is:\n",
      "[59]\ttraining's binary_logloss: 0.00211743\tvalid_1's binary_logloss: 0.0186331\n"
     ]
    },
    {
     "name": "stderr",
     "output_type": "stream",
     "text": [
      "hdac_inhibitor logloss: 0.015058971756890154\n",
      "=========================================================================================\n",
      "================================= fold 1/2 histamine_receptor_agonist=================================\n"
     ]
    },
    {
     "name": "stdout",
     "output_type": "stream",
     "text": [
      "Training until validation scores don't improve for 10 rounds\n",
      "Early stopping, best iteration is:\n",
      "[1]\ttraining's binary_logloss: 0.0161318\tvalid_1's binary_logloss: 0.0171243\n"
     ]
    },
    {
     "name": "stderr",
     "output_type": "stream",
     "text": [
      "================================= fold 2/2 histamine_receptor_agonist=================================\n"
     ]
    },
    {
     "name": "stdout",
     "output_type": "stream",
     "text": [
      "Training until validation scores don't improve for 10 rounds\n",
      "Early stopping, best iteration is:\n",
      "[1]\ttraining's binary_logloss: 0.0154797\tvalid_1's binary_logloss: 0.0176275\n"
     ]
    },
    {
     "name": "stderr",
     "output_type": "stream",
     "text": [
      "histamine_receptor_agonist logloss: 0.01737586913394994\n",
      "=========================================================================================\n",
      "================================= fold 1/2 histamine_receptor_antagonist=================================\n"
     ]
    },
    {
     "name": "stdout",
     "output_type": "stream",
     "text": [
      "Training until validation scores don't improve for 10 rounds\n",
      "Early stopping, best iteration is:\n",
      "[1]\ttraining's binary_logloss: 0.0554266\tvalid_1's binary_logloss: 0.0576456\n"
     ]
    },
    {
     "name": "stderr",
     "output_type": "stream",
     "text": [
      "================================= fold 2/2 histamine_receptor_antagonist=================================\n"
     ]
    },
    {
     "name": "stdout",
     "output_type": "stream",
     "text": [
      "Training until validation scores don't improve for 10 rounds\n",
      "Early stopping, best iteration is:\n",
      "[1]\ttraining's binary_logloss: 0.0565011\tvalid_1's binary_logloss: 0.0578359\n"
     ]
    },
    {
     "name": "stderr",
     "output_type": "stream",
     "text": [
      "histamine_receptor_antagonist logloss: 0.057740751828326144\n",
      "=========================================================================================\n",
      "================================= fold 1/2 histone_lysine_demethylase_inhibitor=================================\n"
     ]
    },
    {
     "name": "stdout",
     "output_type": "stream",
     "text": [
      "Training until validation scores don't improve for 10 rounds\n",
      "Early stopping, best iteration is:\n",
      "[11]\ttraining's binary_logloss: 0.00601989\tvalid_1's binary_logloss: 0.0142501\n"
     ]
    },
    {
     "name": "stderr",
     "output_type": "stream",
     "text": [
      "================================= fold 2/2 histone_lysine_demethylase_inhibitor=================================\n"
     ]
    },
    {
     "name": "stdout",
     "output_type": "stream",
     "text": [
      "Training until validation scores don't improve for 10 rounds\n",
      "Early stopping, best iteration is:\n",
      "[11]\ttraining's binary_logloss: 0.00524798\tvalid_1's binary_logloss: 0.014784\n"
     ]
    },
    {
     "name": "stderr",
     "output_type": "stream",
     "text": [
      "histone_lysine_demethylase_inhibitor logloss: 0.01451709175629772\n",
      "=========================================================================================\n",
      "================================= fold 1/2 histone_lysine_methyltransferase_inhibitor=================================\n"
     ]
    },
    {
     "name": "stdout",
     "output_type": "stream",
     "text": [
      "Training until validation scores don't improve for 10 rounds\n",
      "Early stopping, best iteration is:\n",
      "[16]\ttraining's binary_logloss: 0.00272853\tvalid_1's binary_logloss: 0.0101476\n"
     ]
    },
    {
     "name": "stderr",
     "output_type": "stream",
     "text": [
      "================================= fold 2/2 histone_lysine_methyltransferase_inhibitor=================================\n"
     ]
    },
    {
     "name": "stdout",
     "output_type": "stream",
     "text": [
      "Training until validation scores don't improve for 10 rounds\n",
      "Early stopping, best iteration is:\n",
      "[22]\ttraining's binary_logloss: 0.00211917\tvalid_1's binary_logloss: 0.00997721\n"
     ]
    },
    {
     "name": "stderr",
     "output_type": "stream",
     "text": [
      "histone_lysine_methyltransferase_inhibitor logloss: 0.010062428810353232\n",
      "=========================================================================================\n",
      "================================= fold 1/2 hiv_inhibitor=================================\n"
     ]
    },
    {
     "name": "stdout",
     "output_type": "stream",
     "text": [
      "Training until validation scores don't improve for 10 rounds\n",
      "Early stopping, best iteration is:\n",
      "[1]\ttraining's binary_logloss: 0.0193306\tvalid_1's binary_logloss: 0.0220857\n"
     ]
    },
    {
     "name": "stderr",
     "output_type": "stream",
     "text": [
      "================================= fold 2/2 hiv_inhibitor=================================\n"
     ]
    },
    {
     "name": "stdout",
     "output_type": "stream",
     "text": [
      "Training until validation scores don't improve for 10 rounds\n",
      "Early stopping, best iteration is:\n",
      "[1]\ttraining's binary_logloss: 0.0203147\tvalid_1's binary_logloss: 0.0220488\n"
     ]
    },
    {
     "name": "stderr",
     "output_type": "stream",
     "text": [
      "hiv_inhibitor logloss: 0.02206726675389038\n",
      "=========================================================================================\n",
      "================================= fold 1/2 hmgcr_inhibitor=================================\n"
     ]
    },
    {
     "name": "stdout",
     "output_type": "stream",
     "text": [
      "Training until validation scores don't improve for 10 rounds\n",
      "[100]\ttraining's binary_logloss: 0.00216738\tvalid_1's binary_logloss: 0.0190397\n",
      "Early stopping, best iteration is:\n",
      "[145]\ttraining's binary_logloss: 0.000828538\tvalid_1's binary_logloss: 0.0184963\n"
     ]
    },
    {
     "name": "stderr",
     "output_type": "stream",
     "text": [
      "================================= fold 2/2 hmgcr_inhibitor=================================\n"
     ]
    },
    {
     "name": "stdout",
     "output_type": "stream",
     "text": [
      "Training until validation scores don't improve for 10 rounds\n",
      "[100]\ttraining's binary_logloss: 0.00216335\tvalid_1's binary_logloss: 0.0172735\n",
      "Early stopping, best iteration is:\n",
      "[186]\ttraining's binary_logloss: 0.000426261\tvalid_1's binary_logloss: 0.0160727\n"
     ]
    },
    {
     "name": "stderr",
     "output_type": "stream",
     "text": [
      "hmgcr_inhibitor logloss: 0.017284524648460902\n",
      "=========================================================================================\n",
      "================================= fold 1/2 hsp_inhibitor=================================\n"
     ]
    },
    {
     "name": "stdout",
     "output_type": "stream",
     "text": [
      "Training until validation scores don't improve for 10 rounds\n",
      "[100]\ttraining's binary_logloss: 0.000586795\tvalid_1's binary_logloss: 0.00749912\n",
      "Early stopping, best iteration is:\n",
      "[92]\ttraining's binary_logloss: 0.000713185\tvalid_1's binary_logloss: 0.00747563\n"
     ]
    },
    {
     "name": "stderr",
     "output_type": "stream",
     "text": [
      "================================= fold 2/2 hsp_inhibitor=================================\n"
     ]
    },
    {
     "name": "stdout",
     "output_type": "stream",
     "text": [
      "Training until validation scores don't improve for 10 rounds\n",
      "Early stopping, best iteration is:\n",
      "[81]\ttraining's binary_logloss: 0.000926508\tvalid_1's binary_logloss: 0.00877655\n"
     ]
    },
    {
     "name": "stderr",
     "output_type": "stream",
     "text": [
      "hsp_inhibitor logloss: 0.008126091800629362\n",
      "=========================================================================================\n",
      "================================= fold 1/2 igf-1_inhibitor=================================\n"
     ]
    },
    {
     "name": "stdout",
     "output_type": "stream",
     "text": [
      "Training until validation scores don't improve for 10 rounds\n",
      "Early stopping, best iteration is:\n",
      "[31]\ttraining's binary_logloss: 0.00185897\tvalid_1's binary_logloss: 0.0105367\n"
     ]
    },
    {
     "name": "stderr",
     "output_type": "stream",
     "text": [
      "================================= fold 2/2 igf-1_inhibitor=================================\n"
     ]
    },
    {
     "name": "stdout",
     "output_type": "stream",
     "text": [
      "Training until validation scores don't improve for 10 rounds\n",
      "Early stopping, best iteration is:\n",
      "[31]\ttraining's binary_logloss: 0.00176558\tvalid_1's binary_logloss: 0.0116342\n"
     ]
    },
    {
     "name": "stderr",
     "output_type": "stream",
     "text": [
      "igf-1_inhibitor logloss: 0.011085488833227398\n",
      "=========================================================================================\n",
      "================================= fold 1/2 ikk_inhibitor=================================\n"
     ]
    },
    {
     "name": "stdout",
     "output_type": "stream",
     "text": [
      "Training until validation scores don't improve for 10 rounds\n",
      "Early stopping, best iteration is:\n",
      "[19]\ttraining's binary_logloss: 0.00211886\tvalid_1's binary_logloss: 0.00872998\n"
     ]
    },
    {
     "name": "stderr",
     "output_type": "stream",
     "text": [
      "================================= fold 2/2 ikk_inhibitor=================================\n"
     ]
    },
    {
     "name": "stdout",
     "output_type": "stream",
     "text": [
      "Training until validation scores don't improve for 10 rounds\n",
      "Early stopping, best iteration is:\n",
      "[49]\ttraining's binary_logloss: 0.000827484\tvalid_1's binary_logloss: 0.00823615\n"
     ]
    },
    {
     "name": "stderr",
     "output_type": "stream",
     "text": [
      "ikk_inhibitor logloss: 0.008483067903370377\n",
      "=========================================================================================\n",
      "================================= fold 1/2 imidazoline_receptor_agonist=================================\n"
     ]
    },
    {
     "name": "stdout",
     "output_type": "stream",
     "text": [
      "Training until validation scores don't improve for 10 rounds\n",
      "Early stopping, best iteration is:\n",
      "[1]\ttraining's binary_logloss: 0.0105594\tvalid_1's binary_logloss: 0.0113448\n"
     ]
    },
    {
     "name": "stderr",
     "output_type": "stream",
     "text": [
      "================================= fold 2/2 imidazoline_receptor_agonist=================================\n"
     ]
    },
    {
     "name": "stdout",
     "output_type": "stream",
     "text": [
      "Training until validation scores don't improve for 10 rounds\n",
      "Early stopping, best iteration is:\n",
      "[1]\ttraining's binary_logloss: 0.010478\tvalid_1's binary_logloss: 0.0118969\n"
     ]
    },
    {
     "name": "stderr",
     "output_type": "stream",
     "text": [
      "imidazoline_receptor_agonist logloss: 0.011620805767438208\n",
      "=========================================================================================\n",
      "================================= fold 1/2 immunosuppressant=================================\n"
     ]
    },
    {
     "name": "stdout",
     "output_type": "stream",
     "text": [
      "Training until validation scores don't improve for 10 rounds\n",
      "Early stopping, best iteration is:\n",
      "[26]\ttraining's binary_logloss: 0.00462672\tvalid_1's binary_logloss: 0.0195205\n"
     ]
    },
    {
     "name": "stderr",
     "output_type": "stream",
     "text": [
      "================================= fold 2/2 immunosuppressant=================================\n"
     ]
    },
    {
     "name": "stdout",
     "output_type": "stream",
     "text": [
      "Training until validation scores don't improve for 10 rounds\n",
      "Early stopping, best iteration is:\n",
      "[18]\ttraining's binary_logloss: 0.00590076\tvalid_1's binary_logloss: 0.0202635\n"
     ]
    },
    {
     "name": "stderr",
     "output_type": "stream",
     "text": [
      "immunosuppressant logloss: 0.019892020129127486\n",
      "=========================================================================================\n",
      "================================= fold 1/2 insulin_secretagogue=================================\n"
     ]
    },
    {
     "name": "stdout",
     "output_type": "stream",
     "text": [
      "Training until validation scores don't improve for 10 rounds\n",
      "Early stopping, best iteration is:\n",
      "[1]\ttraining's binary_logloss: 0.0089263\tvalid_1's binary_logloss: 0.00968304\n"
     ]
    },
    {
     "name": "stderr",
     "output_type": "stream",
     "text": [
      "================================= fold 2/2 insulin_secretagogue=================================\n"
     ]
    },
    {
     "name": "stdout",
     "output_type": "stream",
     "text": [
      "Training until validation scores don't improve for 10 rounds\n",
      "Early stopping, best iteration is:\n",
      "[1]\ttraining's binary_logloss: 0.00856732\tvalid_1's binary_logloss: 0.00968309\n"
     ]
    },
    {
     "name": "stderr",
     "output_type": "stream",
     "text": [
      "insulin_secretagogue logloss: 0.009683066010807605\n",
      "=========================================================================================\n",
      "================================= fold 1/2 insulin_sensitizer=================================\n"
     ]
    },
    {
     "name": "stdout",
     "output_type": "stream",
     "text": [
      "Training until validation scores don't improve for 10 rounds\n",
      "Early stopping, best iteration is:\n",
      "[34]\ttraining's binary_logloss: 0.00235571\tvalid_1's binary_logloss: 0.0139636\n"
     ]
    },
    {
     "name": "stderr",
     "output_type": "stream",
     "text": [
      "================================= fold 2/2 insulin_sensitizer=================================\n"
     ]
    },
    {
     "name": "stdout",
     "output_type": "stream",
     "text": [
      "Training until validation scores don't improve for 10 rounds\n",
      "Early stopping, best iteration is:\n",
      "[19]\ttraining's binary_logloss: 0.00391003\tvalid_1's binary_logloss: 0.0151579\n"
     ]
    },
    {
     "name": "stderr",
     "output_type": "stream",
     "text": [
      "insulin_sensitizer logloss: 0.014560706462052962\n",
      "=========================================================================================\n",
      "================================= fold 1/2 integrin_inhibitor=================================\n"
     ]
    },
    {
     "name": "stdout",
     "output_type": "stream",
     "text": [
      "Training until validation scores don't improve for 10 rounds\n",
      "Early stopping, best iteration is:\n",
      "[1]\ttraining's binary_logloss: 0.012099\tvalid_1's binary_logloss: 0.0129636\n"
     ]
    },
    {
     "name": "stderr",
     "output_type": "stream",
     "text": [
      "================================= fold 2/2 integrin_inhibitor=================================\n"
     ]
    },
    {
     "name": "stdout",
     "output_type": "stream",
     "text": [
      "Training until validation scores don't improve for 10 rounds\n",
      "Early stopping, best iteration is:\n",
      "[5]\ttraining's binary_logloss: 0.00760271\tvalid_1's binary_logloss: 0.0129387\n"
     ]
    },
    {
     "name": "stderr",
     "output_type": "stream",
     "text": [
      "integrin_inhibitor logloss: 0.012951166576967751\n",
      "=========================================================================================\n",
      "================================= fold 1/2 jak_inhibitor=================================\n"
     ]
    },
    {
     "name": "stdout",
     "output_type": "stream",
     "text": [
      "Training until validation scores don't improve for 10 rounds\n",
      "Early stopping, best iteration is:\n",
      "[53]\ttraining's binary_logloss: 0.00239356\tvalid_1's binary_logloss: 0.0198664\n"
     ]
    },
    {
     "name": "stderr",
     "output_type": "stream",
     "text": [
      "================================= fold 2/2 jak_inhibitor=================================\n"
     ]
    },
    {
     "name": "stdout",
     "output_type": "stream",
     "text": [
      "Training until validation scores don't improve for 10 rounds\n",
      "Early stopping, best iteration is:\n",
      "[61]\ttraining's binary_logloss: 0.00191516\tvalid_1's binary_logloss: 0.0190919\n"
     ]
    },
    {
     "name": "stderr",
     "output_type": "stream",
     "text": [
      "jak_inhibitor logloss: 0.01947915991372929\n",
      "=========================================================================================\n",
      "================================= fold 1/2 kit_inhibitor=================================\n"
     ]
    },
    {
     "name": "stdout",
     "output_type": "stream",
     "text": [
      "Training until validation scores don't improve for 10 rounds\n",
      "[100]\ttraining's binary_logloss: 0.00235182\tvalid_1's binary_logloss: 0.0251379\n",
      "Early stopping, best iteration is:\n",
      "[111]\ttraining's binary_logloss: 0.00184678\tvalid_1's binary_logloss: 0.0250338\n"
     ]
    },
    {
     "name": "stderr",
     "output_type": "stream",
     "text": [
      "================================= fold 2/2 kit_inhibitor=================================\n"
     ]
    },
    {
     "name": "stdout",
     "output_type": "stream",
     "text": [
      "Training until validation scores don't improve for 10 rounds\n",
      "[100]\ttraining's binary_logloss: 0.00241885\tvalid_1's binary_logloss: 0.0230815\n",
      "Early stopping, best iteration is:\n",
      "[109]\ttraining's binary_logloss: 0.00198145\tvalid_1's binary_logloss: 0.0229621\n"
     ]
    },
    {
     "name": "stderr",
     "output_type": "stream",
     "text": [
      "kit_inhibitor logloss: 0.023997957491429425\n",
      "=========================================================================================\n",
      "================================= fold 1/2 laxative=================================\n"
     ]
    },
    {
     "name": "stdout",
     "output_type": "stream",
     "text": [
      "Training until validation scores don't improve for 10 rounds\n",
      "Early stopping, best iteration is:\n",
      "[26]\ttraining's binary_logloss: 0.000449336\tvalid_1's binary_logloss: 0.00224047\n"
     ]
    },
    {
     "name": "stderr",
     "output_type": "stream",
     "text": [
      "================================= fold 2/2 laxative=================================\n"
     ]
    },
    {
     "name": "stdout",
     "output_type": "stream",
     "text": [
      "Training until validation scores don't improve for 10 rounds\n",
      "Early stopping, best iteration is:\n",
      "[2]\ttraining's binary_logloss: 0.0020085\tvalid_1's binary_logloss: 0.00233931\n"
     ]
    },
    {
     "name": "stderr",
     "output_type": "stream",
     "text": [
      "laxative logloss: 0.0022898899986191243\n",
      "=========================================================================================\n",
      "================================= fold 1/2 leukotriene_inhibitor=================================\n"
     ]
    },
    {
     "name": "stdout",
     "output_type": "stream",
     "text": [
      "Training until validation scores don't improve for 10 rounds\n",
      "Early stopping, best iteration is:\n",
      "[11]\ttraining's binary_logloss: 0.0086488\tvalid_1's binary_logloss: 0.0187921\n"
     ]
    },
    {
     "name": "stderr",
     "output_type": "stream",
     "text": [
      "================================= fold 2/2 leukotriene_inhibitor=================================\n"
     ]
    },
    {
     "name": "stdout",
     "output_type": "stream",
     "text": [
      "Training until validation scores don't improve for 10 rounds\n",
      "Early stopping, best iteration is:\n",
      "[1]\ttraining's binary_logloss: 0.0182769\tvalid_1's binary_logloss: 0.0195319\n"
     ]
    },
    {
     "name": "stderr",
     "output_type": "stream",
     "text": [
      "leukotriene_inhibitor logloss: 0.01916202455866134\n",
      "=========================================================================================\n",
      "================================= fold 1/2 leukotriene_receptor_antagonist=================================\n"
     ]
    },
    {
     "name": "stdout",
     "output_type": "stream",
     "text": [
      "Training until validation scores don't improve for 10 rounds\n",
      "Early stopping, best iteration is:\n",
      "[1]\ttraining's binary_logloss: 0.0168627\tvalid_1's binary_logloss: 0.0181356\n"
     ]
    },
    {
     "name": "stderr",
     "output_type": "stream",
     "text": [
      "================================= fold 2/2 leukotriene_receptor_antagonist=================================\n"
     ]
    },
    {
     "name": "stdout",
     "output_type": "stream",
     "text": [
      "Training until validation scores don't improve for 10 rounds\n",
      "Early stopping, best iteration is:\n",
      "[1]\ttraining's binary_logloss: 0.0159285\tvalid_1's binary_logloss: 0.0179087\n"
     ]
    },
    {
     "name": "stderr",
     "output_type": "stream",
     "text": [
      "leukotriene_receptor_antagonist logloss: 0.018022154205457164\n",
      "=========================================================================================\n",
      "================================= fold 1/2 lipase_inhibitor=================================\n"
     ]
    },
    {
     "name": "stdout",
     "output_type": "stream",
     "text": [
      "Training until validation scores don't improve for 10 rounds\n",
      "Early stopping, best iteration is:\n",
      "[1]\ttraining's binary_logloss: 0.00410474\tvalid_1's binary_logloss: 0.00433222\n"
     ]
    },
    {
     "name": "stderr",
     "output_type": "stream",
     "text": [
      "================================= fold 2/2 lipase_inhibitor=================================\n"
     ]
    },
    {
     "name": "stdout",
     "output_type": "stream",
     "text": [
      "Training until validation scores don't improve for 10 rounds\n",
      "Early stopping, best iteration is:\n",
      "[1]\ttraining's binary_logloss: 0.00388937\tvalid_1's binary_logloss: 0.00433397\n"
     ]
    },
    {
     "name": "stderr",
     "output_type": "stream",
     "text": [
      "lipase_inhibitor logloss: 0.004333092097120686\n",
      "=========================================================================================\n",
      "================================= fold 1/2 lipoxygenase_inhibitor=================================\n"
     ]
    },
    {
     "name": "stdout",
     "output_type": "stream",
     "text": [
      "Training until validation scores don't improve for 10 rounds\n",
      "Early stopping, best iteration is:\n",
      "[1]\ttraining's binary_logloss: 0.0169213\tvalid_1's binary_logloss: 0.0176286\n"
     ]
    },
    {
     "name": "stderr",
     "output_type": "stream",
     "text": [
      "================================= fold 2/2 lipoxygenase_inhibitor=================================\n"
     ]
    },
    {
     "name": "stdout",
     "output_type": "stream",
     "text": [
      "Training until validation scores don't improve for 10 rounds\n",
      "Early stopping, best iteration is:\n",
      "[9]\ttraining's binary_logloss: 0.00977568\tvalid_1's binary_logloss: 0.01796\n"
     ]
    },
    {
     "name": "stderr",
     "output_type": "stream",
     "text": [
      "lipoxygenase_inhibitor logloss: 0.017794294287271487\n",
      "=========================================================================================\n",
      "================================= fold 1/2 lxr_agonist=================================\n"
     ]
    },
    {
     "name": "stdout",
     "output_type": "stream",
     "text": [
      "Training until validation scores don't improve for 10 rounds\n",
      "Early stopping, best iteration is:\n",
      "[31]\ttraining's binary_logloss: 0.000313971\tvalid_1's binary_logloss: 0.00223522\n"
     ]
    },
    {
     "name": "stderr",
     "output_type": "stream",
     "text": [
      "================================= fold 2/2 lxr_agonist=================================\n"
     ]
    },
    {
     "name": "stdout",
     "output_type": "stream",
     "text": [
      "Training until validation scores don't improve for 10 rounds\n",
      "Early stopping, best iteration is:\n",
      "[12]\ttraining's binary_logloss: 0.000704663\tvalid_1's binary_logloss: 0.0022042\n"
     ]
    },
    {
     "name": "stderr",
     "output_type": "stream",
     "text": [
      "lxr_agonist logloss: 0.0022197102239271877\n",
      "=========================================================================================\n",
      "================================= fold 1/2 mdm_inhibitor=================================\n"
     ]
    },
    {
     "name": "stdout",
     "output_type": "stream",
     "text": [
      "Training until validation scores don't improve for 10 rounds\n",
      "Early stopping, best iteration is:\n",
      "[65]\ttraining's binary_logloss: 0.000565363\tvalid_1's binary_logloss: 0.00646629\n"
     ]
    },
    {
     "name": "stderr",
     "output_type": "stream",
     "text": [
      "================================= fold 2/2 mdm_inhibitor=================================\n"
     ]
    },
    {
     "name": "stdout",
     "output_type": "stream",
     "text": [
      "Training until validation scores don't improve for 10 rounds\n",
      "Early stopping, best iteration is:\n",
      "[44]\ttraining's binary_logloss: 0.000861571\tvalid_1's binary_logloss: 0.0084994\n"
     ]
    },
    {
     "name": "stderr",
     "output_type": "stream",
     "text": [
      "mdm_inhibitor logloss: 0.007482845310826336\n",
      "=========================================================================================\n",
      "================================= fold 1/2 mek_inhibitor=================================\n"
     ]
    },
    {
     "name": "stdout",
     "output_type": "stream",
     "text": [
      "Training until validation scores don't improve for 10 rounds\n",
      "Early stopping, best iteration is:\n",
      "[62]\ttraining's binary_logloss: 0.00298654\tvalid_1's binary_logloss: 0.0231065\n"
     ]
    },
    {
     "name": "stderr",
     "output_type": "stream",
     "text": [
      "================================= fold 2/2 mek_inhibitor=================================\n"
     ]
    },
    {
     "name": "stdout",
     "output_type": "stream",
     "text": [
      "Training until validation scores don't improve for 10 rounds\n",
      "Early stopping, best iteration is:\n",
      "[52]\ttraining's binary_logloss: 0.00393156\tvalid_1's binary_logloss: 0.0248584\n"
     ]
    },
    {
     "name": "stderr",
     "output_type": "stream",
     "text": [
      "mek_inhibitor logloss: 0.023982430437190328\n",
      "=========================================================================================\n",
      "================================= fold 1/2 membrane_integrity_inhibitor=================================\n"
     ]
    },
    {
     "name": "stdout",
     "output_type": "stream",
     "text": [
      "Training until validation scores don't improve for 10 rounds\n",
      "Early stopping, best iteration is:\n",
      "[1]\ttraining's binary_logloss: 0.0195687\tvalid_1's binary_logloss: 0.0211038\n"
     ]
    },
    {
     "name": "stderr",
     "output_type": "stream",
     "text": [
      "================================= fold 2/2 membrane_integrity_inhibitor=================================\n"
     ]
    },
    {
     "name": "stdout",
     "output_type": "stream",
     "text": [
      "Training until validation scores don't improve for 10 rounds\n",
      "Early stopping, best iteration is:\n",
      "[8]\ttraining's binary_logloss: 0.010534\tvalid_1's binary_logloss: 0.0209414\n"
     ]
    },
    {
     "name": "stderr",
     "output_type": "stream",
     "text": [
      "membrane_integrity_inhibitor logloss: 0.021022629120005108\n",
      "=========================================================================================\n",
      "================================= fold 1/2 mineralocorticoid_receptor_antagonist=================================\n"
     ]
    },
    {
     "name": "stdout",
     "output_type": "stream",
     "text": [
      "Training until validation scores don't improve for 10 rounds\n",
      "Early stopping, best iteration is:\n",
      "[1]\ttraining's binary_logloss: 0.00774844\tvalid_1's binary_logloss: 0.00797472\n"
     ]
    },
    {
     "name": "stderr",
     "output_type": "stream",
     "text": [
      "================================= fold 2/2 mineralocorticoid_receptor_antagonist=================================\n"
     ]
    },
    {
     "name": "stdout",
     "output_type": "stream",
     "text": [
      "Training until validation scores don't improve for 10 rounds\n",
      "Early stopping, best iteration is:\n",
      "[1]\ttraining's binary_logloss: 0.00709676\tvalid_1's binary_logloss: 0.00855354\n"
     ]
    },
    {
     "name": "stderr",
     "output_type": "stream",
     "text": [
      "mineralocorticoid_receptor_antagonist logloss: 0.008264131739780974\n",
      "=========================================================================================\n",
      "================================= fold 1/2 monoacylglycerol_lipase_inhibitor=================================\n"
     ]
    },
    {
     "name": "stdout",
     "output_type": "stream",
     "text": [
      "Training until validation scores don't improve for 10 rounds\n",
      "Early stopping, best iteration is:\n",
      "[1]\ttraining's binary_logloss: 0.00387599\tvalid_1's binary_logloss: 0.00433195\n"
     ]
    },
    {
     "name": "stderr",
     "output_type": "stream",
     "text": [
      "================================= fold 2/2 monoacylglycerol_lipase_inhibitor=================================\n"
     ]
    },
    {
     "name": "stdout",
     "output_type": "stream",
     "text": [
      "Training until validation scores don't improve for 10 rounds\n",
      "Early stopping, best iteration is:\n",
      "[1]\ttraining's binary_logloss: 0.00390727\tvalid_1's binary_logloss: 0.00433468\n"
     ]
    },
    {
     "name": "stderr",
     "output_type": "stream",
     "text": [
      "monoacylglycerol_lipase_inhibitor logloss: 0.004333317389036853\n",
      "=========================================================================================\n",
      "================================= fold 1/2 monoamine_oxidase_inhibitor=================================\n"
     ]
    },
    {
     "name": "stdout",
     "output_type": "stream",
     "text": [
      "Training until validation scores don't improve for 10 rounds\n",
      "Early stopping, best iteration is:\n",
      "[1]\ttraining's binary_logloss: 0.0217355\tvalid_1's binary_logloss: 0.0235182\n"
     ]
    },
    {
     "name": "stderr",
     "output_type": "stream",
     "text": [
      "================================= fold 2/2 monoamine_oxidase_inhibitor=================================\n"
     ]
    },
    {
     "name": "stdout",
     "output_type": "stream",
     "text": [
      "Training until validation scores don't improve for 10 rounds\n",
      "Early stopping, best iteration is:\n",
      "[1]\ttraining's binary_logloss: 0.020891\tvalid_1's binary_logloss: 0.0240011\n"
     ]
    },
    {
     "name": "stderr",
     "output_type": "stream",
     "text": [
      "monoamine_oxidase_inhibitor logloss: 0.023759677339807182\n",
      "=========================================================================================\n",
      "================================= fold 1/2 monopolar_spindle_1_kinase_inhibitor=================================\n"
     ]
    },
    {
     "name": "stdout",
     "output_type": "stream",
     "text": [
      "Training until validation scores don't improve for 10 rounds\n",
      "Early stopping, best iteration is:\n",
      "[1]\ttraining's binary_logloss: 0.00554727\tvalid_1's binary_logloss: 0.00619704\n"
     ]
    },
    {
     "name": "stderr",
     "output_type": "stream",
     "text": [
      "================================= fold 2/2 monopolar_spindle_1_kinase_inhibitor=================================\n"
     ]
    },
    {
     "name": "stdout",
     "output_type": "stream",
     "text": [
      "Training until validation scores don't improve for 10 rounds\n",
      "Early stopping, best iteration is:\n",
      "[23]\ttraining's binary_logloss: 0.001197\tvalid_1's binary_logloss: 0.00616183\n"
     ]
    },
    {
     "name": "stderr",
     "output_type": "stream",
     "text": [
      "monopolar_spindle_1_kinase_inhibitor logloss: 0.006179434800729468\n",
      "=========================================================================================\n",
      "================================= fold 1/2 mtor_inhibitor=================================\n"
     ]
    },
    {
     "name": "stdout",
     "output_type": "stream",
     "text": [
      "Training until validation scores don't improve for 10 rounds\n",
      "Early stopping, best iteration is:\n",
      "[66]\ttraining's binary_logloss: 0.00257938\tvalid_1's binary_logloss: 0.0219718\n"
     ]
    },
    {
     "name": "stderr",
     "output_type": "stream",
     "text": [
      "================================= fold 2/2 mtor_inhibitor=================================\n"
     ]
    },
    {
     "name": "stdout",
     "output_type": "stream",
     "text": [
      "Training until validation scores don't improve for 10 rounds\n",
      "Early stopping, best iteration is:\n",
      "[80]\ttraining's binary_logloss: 0.00193377\tvalid_1's binary_logloss: 0.018535\n"
     ]
    },
    {
     "name": "stderr",
     "output_type": "stream",
     "text": [
      "mtor_inhibitor logloss: 0.02025336342727003\n",
      "=========================================================================================\n",
      "================================= fold 1/2 mucolytic_agent=================================\n"
     ]
    },
    {
     "name": "stdout",
     "output_type": "stream",
     "text": [
      "Training until validation scores don't improve for 10 rounds\n",
      "Early stopping, best iteration is:\n",
      "[7]\ttraining's binary_logloss: 0.00726347\tvalid_1's binary_logloss: 0.0144666\n"
     ]
    },
    {
     "name": "stderr",
     "output_type": "stream",
     "text": [
      "================================= fold 2/2 mucolytic_agent=================================\n"
     ]
    },
    {
     "name": "stdout",
     "output_type": "stream",
     "text": [
      "Training until validation scores don't improve for 10 rounds\n",
      "Early stopping, best iteration is:\n",
      "[14]\ttraining's binary_logloss: 0.00469671\tvalid_1's binary_logloss: 0.0144998\n"
     ]
    },
    {
     "name": "stderr",
     "output_type": "stream",
     "text": [
      "mucolytic_agent logloss: 0.014483219086244723\n",
      "=========================================================================================\n",
      "================================= fold 1/2 neuropeptide_receptor_antagonist=================================\n"
     ]
    },
    {
     "name": "stdout",
     "output_type": "stream",
     "text": [
      "Training until validation scores don't improve for 10 rounds\n",
      "Early stopping, best iteration is:\n",
      "[2]\ttraining's binary_logloss: 0.00956535\tvalid_1's binary_logloss: 0.0113357\n"
     ]
    },
    {
     "name": "stderr",
     "output_type": "stream",
     "text": [
      "================================= fold 2/2 neuropeptide_receptor_antagonist=================================\n"
     ]
    },
    {
     "name": "stdout",
     "output_type": "stream",
     "text": [
      "Training until validation scores don't improve for 10 rounds\n",
      "Early stopping, best iteration is:\n",
      "[3]\ttraining's binary_logloss: 0.00817531\tvalid_1's binary_logloss: 0.0118552\n"
     ]
    },
    {
     "name": "stderr",
     "output_type": "stream",
     "text": [
      "neuropeptide_receptor_antagonist logloss: 0.011595440354350003\n",
      "=========================================================================================\n",
      "================================= fold 1/2 nfkb_inhibitor=================================\n"
     ]
    },
    {
     "name": "stdout",
     "output_type": "stream",
     "text": [
      "Training until validation scores don't improve for 10 rounds\n",
      "[100]\ttraining's binary_logloss: 0.00858323\tvalid_1's binary_logloss: 0.0276085\n",
      "Early stopping, best iteration is:\n",
      "[128]\ttraining's binary_logloss: 0.00487376\tvalid_1's binary_logloss: 0.0267659\n"
     ]
    },
    {
     "name": "stderr",
     "output_type": "stream",
     "text": [
      "================================= fold 2/2 nfkb_inhibitor=================================\n"
     ]
    },
    {
     "name": "stdout",
     "output_type": "stream",
     "text": [
      "Training until validation scores don't improve for 10 rounds\n",
      "[100]\ttraining's binary_logloss: 0.00637317\tvalid_1's binary_logloss: 0.0379059\n",
      "Early stopping, best iteration is:\n",
      "[102]\ttraining's binary_logloss: 0.00608035\tvalid_1's binary_logloss: 0.0378912\n"
     ]
    },
    {
     "name": "stderr",
     "output_type": "stream",
     "text": [
      "nfkb_inhibitor logloss: 0.0323285307032466\n",
      "=========================================================================================\n",
      "================================= fold 1/2 nicotinic_receptor_agonist=================================\n"
     ]
    },
    {
     "name": "stdout",
     "output_type": "stream",
     "text": [
      "Training until validation scores don't improve for 10 rounds\n",
      "Early stopping, best iteration is:\n",
      "[1]\ttraining's binary_logloss: 0.0037408\tvalid_1's binary_logloss: 0.00433444\n"
     ]
    },
    {
     "name": "stderr",
     "output_type": "stream",
     "text": [
      "================================= fold 2/2 nicotinic_receptor_agonist=================================\n"
     ]
    },
    {
     "name": "stdout",
     "output_type": "stream",
     "text": [
      "Training until validation scores don't improve for 10 rounds\n",
      "Early stopping, best iteration is:\n",
      "[1]\ttraining's binary_logloss: 0.00373888\tvalid_1's binary_logloss: 0.00433287\n"
     ]
    },
    {
     "name": "stderr",
     "output_type": "stream",
     "text": [
      "nicotinic_receptor_agonist logloss: 0.004333654326519547\n",
      "=========================================================================================\n",
      "================================= fold 1/2 nitric_oxide_donor=================================\n"
     ]
    },
    {
     "name": "stdout",
     "output_type": "stream",
     "text": [
      "Training until validation scores don't improve for 10 rounds\n",
      "Early stopping, best iteration is:\n",
      "[1]\ttraining's binary_logloss: 0.00779426\tvalid_1's binary_logloss: 0.00854484\n"
     ]
    },
    {
     "name": "stderr",
     "output_type": "stream",
     "text": [
      "================================= fold 2/2 nitric_oxide_donor=================================\n"
     ]
    },
    {
     "name": "stdout",
     "output_type": "stream",
     "text": [
      "Training until validation scores don't improve for 10 rounds\n",
      "Early stopping, best iteration is:\n",
      "[1]\ttraining's binary_logloss: 0.0074826\tvalid_1's binary_logloss: 0.00855431\n"
     ]
    },
    {
     "name": "stderr",
     "output_type": "stream",
     "text": [
      "nitric_oxide_donor logloss: 0.008549573211138126\n",
      "=========================================================================================\n",
      "================================= fold 1/2 nitric_oxide_production_inhibitor=================================\n"
     ]
    },
    {
     "name": "stdout",
     "output_type": "stream",
     "text": [
      "Training until validation scores don't improve for 10 rounds\n",
      "Early stopping, best iteration is:\n",
      "[7]\ttraining's binary_logloss: 0.00567455\tvalid_1's binary_logloss: 0.00908285\n"
     ]
    },
    {
     "name": "stderr",
     "output_type": "stream",
     "text": [
      "================================= fold 2/2 nitric_oxide_production_inhibitor=================================\n"
     ]
    },
    {
     "name": "stdout",
     "output_type": "stream",
     "text": [
      "Training until validation scores don't improve for 10 rounds\n",
      "Early stopping, best iteration is:\n",
      "[2]\ttraining's binary_logloss: 0.00736588\tvalid_1's binary_logloss: 0.0096395\n"
     ]
    },
    {
     "name": "stderr",
     "output_type": "stream",
     "text": [
      "nitric_oxide_production_inhibitor logloss: 0.009361175421055199\n",
      "=========================================================================================\n",
      "================================= fold 1/2 nitric_oxide_synthase_inhibitor=================================\n"
     ]
    },
    {
     "name": "stdout",
     "output_type": "stream",
     "text": [
      "Training until validation scores don't improve for 10 rounds\n",
      "Early stopping, best iteration is:\n",
      "[1]\ttraining's binary_logloss: 0.00785281\tvalid_1's binary_logloss: 0.00854655\n"
     ]
    },
    {
     "name": "stderr",
     "output_type": "stream",
     "text": [
      "================================= fold 2/2 nitric_oxide_synthase_inhibitor=================================\n"
     ]
    },
    {
     "name": "stdout",
     "output_type": "stream",
     "text": [
      "Training until validation scores don't improve for 10 rounds\n",
      "Early stopping, best iteration is:\n",
      "[1]\ttraining's binary_logloss: 0.00751007\tvalid_1's binary_logloss: 0.00854756\n"
     ]
    },
    {
     "name": "stderr",
     "output_type": "stream",
     "text": [
      "nitric_oxide_synthase_inhibitor logloss: 0.008547053596029962\n",
      "=========================================================================================\n",
      "================================= fold 1/2 norepinephrine_reuptake_inhibitor=================================\n"
     ]
    },
    {
     "name": "stdout",
     "output_type": "stream",
     "text": [
      "Training until validation scores don't improve for 10 rounds\n",
      "Early stopping, best iteration is:\n",
      "[9]\ttraining's binary_logloss: 0.00608235\tvalid_1's binary_logloss: 0.0128283\n"
     ]
    },
    {
     "name": "stderr",
     "output_type": "stream",
     "text": [
      "================================= fold 2/2 norepinephrine_reuptake_inhibitor=================================\n"
     ]
    },
    {
     "name": "stdout",
     "output_type": "stream",
     "text": [
      "Training until validation scores don't improve for 10 rounds\n",
      "Early stopping, best iteration is:\n",
      "[3]\ttraining's binary_logloss: 0.00987775\tvalid_1's binary_logloss: 0.0133977\n"
     ]
    },
    {
     "name": "stderr",
     "output_type": "stream",
     "text": [
      "norepinephrine_reuptake_inhibitor logloss: 0.013113027636625958\n",
      "=========================================================================================\n",
      "================================= fold 1/2 nrf2_activator=================================\n"
     ]
    },
    {
     "name": "stdout",
     "output_type": "stream",
     "text": [
      "Training until validation scores don't improve for 10 rounds\n",
      "Early stopping, best iteration is:\n",
      "[43]\ttraining's binary_logloss: 0.000625767\tvalid_1's binary_logloss: 0.00503177\n"
     ]
    },
    {
     "name": "stderr",
     "output_type": "stream",
     "text": [
      "================================= fold 2/2 nrf2_activator=================================\n"
     ]
    },
    {
     "name": "stdout",
     "output_type": "stream",
     "text": [
      "Training until validation scores don't improve for 10 rounds\n",
      "Early stopping, best iteration is:\n",
      "[25]\ttraining's binary_logloss: 0.00109986\tvalid_1's binary_logloss: 0.005646\n"
     ]
    },
    {
     "name": "stderr",
     "output_type": "stream",
     "text": [
      "nrf2_activator logloss: 0.005338885553046958\n",
      "=========================================================================================\n",
      "================================= fold 1/2 opioid_receptor_agonist=================================\n"
     ]
    },
    {
     "name": "stdout",
     "output_type": "stream",
     "text": [
      "Training until validation scores don't improve for 10 rounds\n",
      "Early stopping, best iteration is:\n",
      "[2]\ttraining's binary_logloss: 0.0150683\tvalid_1's binary_logloss: 0.0175741\n"
     ]
    },
    {
     "name": "stderr",
     "output_type": "stream",
     "text": [
      "================================= fold 2/2 opioid_receptor_agonist=================================\n"
     ]
    },
    {
     "name": "stdout",
     "output_type": "stream",
     "text": [
      "Training until validation scores don't improve for 10 rounds\n",
      "Early stopping, best iteration is:\n",
      "[1]\ttraining's binary_logloss: 0.0152209\tvalid_1's binary_logloss: 0.0180449\n"
     ]
    },
    {
     "name": "stderr",
     "output_type": "stream",
     "text": [
      "opioid_receptor_agonist logloss: 0.017809503696455294\n",
      "=========================================================================================\n",
      "================================= fold 1/2 opioid_receptor_antagonist=================================\n"
     ]
    },
    {
     "name": "stdout",
     "output_type": "stream",
     "text": [
      "Training until validation scores don't improve for 10 rounds\n",
      "Early stopping, best iteration is:\n",
      "[1]\ttraining's binary_logloss: 0.0249258\tvalid_1's binary_logloss: 0.0262502\n"
     ]
    },
    {
     "name": "stderr",
     "output_type": "stream",
     "text": [
      "================================= fold 2/2 opioid_receptor_antagonist=================================\n"
     ]
    },
    {
     "name": "stdout",
     "output_type": "stream",
     "text": [
      "Training until validation scores don't improve for 10 rounds\n",
      "Early stopping, best iteration is:\n",
      "[6]\ttraining's binary_logloss: 0.0159575\tvalid_1's binary_logloss: 0.0261447\n"
     ]
    },
    {
     "name": "stderr",
     "output_type": "stream",
     "text": [
      "opioid_receptor_antagonist logloss: 0.026197430266453794\n",
      "=========================================================================================\n",
      "================================= fold 1/2 orexin_receptor_antagonist=================================\n"
     ]
    },
    {
     "name": "stdout",
     "output_type": "stream",
     "text": [
      "Training until validation scores don't improve for 10 rounds\n",
      "Early stopping, best iteration is:\n",
      "[2]\ttraining's binary_logloss: 0.00959006\tvalid_1's binary_logloss: 0.0112913\n"
     ]
    },
    {
     "name": "stderr",
     "output_type": "stream",
     "text": [
      "================================= fold 2/2 orexin_receptor_antagonist=================================\n"
     ]
    },
    {
     "name": "stdout",
     "output_type": "stream",
     "text": [
      "Training until validation scores don't improve for 10 rounds\n",
      "Early stopping, best iteration is:\n",
      "[3]\ttraining's binary_logloss: 0.00895214\tvalid_1's binary_logloss: 0.0118528\n"
     ]
    },
    {
     "name": "stderr",
     "output_type": "stream",
     "text": [
      "orexin_receptor_antagonist logloss: 0.011572011348237812\n",
      "=========================================================================================\n",
      "================================= fold 1/2 p38_mapk_inhibitor=================================\n"
     ]
    },
    {
     "name": "stdout",
     "output_type": "stream",
     "text": [
      "Training until validation scores don't improve for 10 rounds\n",
      "Early stopping, best iteration is:\n",
      "[43]\ttraining's binary_logloss: 0.00198945\tvalid_1's binary_logloss: 0.0135511\n"
     ]
    },
    {
     "name": "stderr",
     "output_type": "stream",
     "text": [
      "================================= fold 2/2 p38_mapk_inhibitor=================================\n"
     ]
    },
    {
     "name": "stdout",
     "output_type": "stream",
     "text": [
      "Training until validation scores don't improve for 10 rounds\n",
      "Early stopping, best iteration is:\n",
      "[46]\ttraining's binary_logloss: 0.00194931\tvalid_1's binary_logloss: 0.0135722\n"
     ]
    },
    {
     "name": "stderr",
     "output_type": "stream",
     "text": [
      "p38_mapk_inhibitor logloss: 0.013561612659533425\n",
      "=========================================================================================\n",
      "================================= fold 1/2 p-glycoprotein_inhibitor=================================\n"
     ]
    },
    {
     "name": "stdout",
     "output_type": "stream",
     "text": [
      "Training until validation scores don't improve for 10 rounds\n",
      "Early stopping, best iteration is:\n",
      "[1]\ttraining's binary_logloss: 0.00876321\tvalid_1's binary_logloss: 0.00968609\n"
     ]
    },
    {
     "name": "stderr",
     "output_type": "stream",
     "text": [
      "================================= fold 2/2 p-glycoprotein_inhibitor=================================\n"
     ]
    },
    {
     "name": "stdout",
     "output_type": "stream",
     "text": [
      "Training until validation scores don't improve for 10 rounds\n",
      "Early stopping, best iteration is:\n",
      "[1]\ttraining's binary_logloss: 0.00880756\tvalid_1's binary_logloss: 0.00968539\n"
     ]
    },
    {
     "name": "stderr",
     "output_type": "stream",
     "text": [
      "p-glycoprotein_inhibitor logloss: 0.009685740017606323\n",
      "=========================================================================================\n",
      "================================= fold 1/2 parp_inhibitor=================================\n"
     ]
    },
    {
     "name": "stdout",
     "output_type": "stream",
     "text": [
      "Training until validation scores don't improve for 10 rounds\n",
      "Early stopping, best iteration is:\n",
      "[4]\ttraining's binary_logloss: 0.0115759\tvalid_1's binary_logloss: 0.0175182\n"
     ]
    },
    {
     "name": "stderr",
     "output_type": "stream",
     "text": [
      "================================= fold 2/2 parp_inhibitor=================================\n"
     ]
    },
    {
     "name": "stdout",
     "output_type": "stream",
     "text": [
      "Training until validation scores don't improve for 10 rounds\n",
      "Early stopping, best iteration is:\n",
      "[2]\ttraining's binary_logloss: 0.0141902\tvalid_1's binary_logloss: 0.0180158\n"
     ]
    },
    {
     "name": "stderr",
     "output_type": "stream",
     "text": [
      "parp_inhibitor logloss: 0.017767016178769145\n",
      "=========================================================================================\n",
      "================================= fold 1/2 pdgfr_inhibitor=================================\n"
     ]
    },
    {
     "name": "stdout",
     "output_type": "stream",
     "text": [
      "Training until validation scores don't improve for 10 rounds\n",
      "[100]\ttraining's binary_logloss: 0.00288703\tvalid_1's binary_logloss: 0.0235521\n",
      "Early stopping, best iteration is:\n",
      "[109]\ttraining's binary_logloss: 0.00237226\tvalid_1's binary_logloss: 0.0233091\n"
     ]
    },
    {
     "name": "stderr",
     "output_type": "stream",
     "text": [
      "================================= fold 2/2 pdgfr_inhibitor=================================\n"
     ]
    },
    {
     "name": "stdout",
     "output_type": "stream",
     "text": [
      "Training until validation scores don't improve for 10 rounds\n",
      "[100]\ttraining's binary_logloss: 0.00260596\tvalid_1's binary_logloss: 0.0298449\n",
      "Early stopping, best iteration is:\n",
      "[101]\ttraining's binary_logloss: 0.00254783\tvalid_1's binary_logloss: 0.0298203\n"
     ]
    },
    {
     "name": "stderr",
     "output_type": "stream",
     "text": [
      "pdgfr_inhibitor logloss: 0.026564677883405993\n",
      "=========================================================================================\n",
      "================================= fold 1/2 pdk_inhibitor=================================\n"
     ]
    },
    {
     "name": "stdout",
     "output_type": "stream",
     "text": [
      "Training until validation scores don't improve for 10 rounds\n",
      "Early stopping, best iteration is:\n",
      "[16]\ttraining's binary_logloss: 0.00320057\tvalid_1's binary_logloss: 0.0109811\n"
     ]
    },
    {
     "name": "stderr",
     "output_type": "stream",
     "text": [
      "================================= fold 2/2 pdk_inhibitor=================================\n"
     ]
    },
    {
     "name": "stdout",
     "output_type": "stream",
     "text": [
      "Training until validation scores don't improve for 10 rounds\n",
      "Early stopping, best iteration is:\n",
      "[28]\ttraining's binary_logloss: 0.00204767\tvalid_1's binary_logloss: 0.010838\n"
     ]
    },
    {
     "name": "stderr",
     "output_type": "stream",
     "text": [
      "pdk_inhibitor logloss: 0.010909506402654683\n",
      "=========================================================================================\n",
      "================================= fold 1/2 phosphodiesterase_inhibitor=================================\n"
     ]
    },
    {
     "name": "stdout",
     "output_type": "stream",
     "text": [
      "Training until validation scores don't improve for 10 rounds\n",
      "Early stopping, best iteration is:\n",
      "[9]\ttraining's binary_logloss: 0.0438294\tvalid_1's binary_logloss: 0.0608264\n"
     ]
    },
    {
     "name": "stderr",
     "output_type": "stream",
     "text": [
      "================================= fold 2/2 phosphodiesterase_inhibitor=================================\n"
     ]
    },
    {
     "name": "stdout",
     "output_type": "stream",
     "text": [
      "Training until validation scores don't improve for 10 rounds\n",
      "Early stopping, best iteration is:\n",
      "[30]\ttraining's binary_logloss: 0.0247732\tvalid_1's binary_logloss: 0.0595956\n"
     ]
    },
    {
     "name": "stderr",
     "output_type": "stream",
     "text": [
      "phosphodiesterase_inhibitor logloss: 0.06021099921365256\n",
      "=========================================================================================\n",
      "================================= fold 1/2 phospholipase_inhibitor=================================\n"
     ]
    },
    {
     "name": "stdout",
     "output_type": "stream",
     "text": [
      "Training until validation scores don't improve for 10 rounds\n",
      "Early stopping, best iteration is:\n",
      "[1]\ttraining's binary_logloss: 0.0073287\tvalid_1's binary_logloss: 0.00797469\n"
     ]
    },
    {
     "name": "stderr",
     "output_type": "stream",
     "text": [
      "================================= fold 2/2 phospholipase_inhibitor=================================\n"
     ]
    },
    {
     "name": "stdout",
     "output_type": "stream",
     "text": [
      "Training until validation scores don't improve for 10 rounds\n",
      "Early stopping, best iteration is:\n",
      "[1]\ttraining's binary_logloss: 0.00701296\tvalid_1's binary_logloss: 0.00855287\n"
     ]
    },
    {
     "name": "stderr",
     "output_type": "stream",
     "text": [
      "phospholipase_inhibitor logloss: 0.008263780482593873\n",
      "=========================================================================================\n",
      "================================= fold 1/2 pi3k_inhibitor=================================\n"
     ]
    },
    {
     "name": "stdout",
     "output_type": "stream",
     "text": [
      "Training until validation scores don't improve for 10 rounds\n",
      "Early stopping, best iteration is:\n",
      "[44]\ttraining's binary_logloss: 0.00597687\tvalid_1's binary_logloss: 0.0309346\n"
     ]
    },
    {
     "name": "stderr",
     "output_type": "stream",
     "text": [
      "================================= fold 2/2 pi3k_inhibitor=================================\n"
     ]
    },
    {
     "name": "stdout",
     "output_type": "stream",
     "text": [
      "Training until validation scores don't improve for 10 rounds\n",
      "Early stopping, best iteration is:\n",
      "[61]\ttraining's binary_logloss: 0.00410548\tvalid_1's binary_logloss: 0.0315024\n"
     ]
    },
    {
     "name": "stderr",
     "output_type": "stream",
     "text": [
      "pi3k_inhibitor logloss: 0.031218527398102467\n",
      "=========================================================================================\n",
      "================================= fold 1/2 pkc_inhibitor=================================\n"
     ]
    },
    {
     "name": "stdout",
     "output_type": "stream",
     "text": [
      "Training until validation scores don't improve for 10 rounds\n",
      "Early stopping, best iteration is:\n",
      "[14]\ttraining's binary_logloss: 0.00302021\tvalid_1's binary_logloss: 0.00949154\n"
     ]
    },
    {
     "name": "stderr",
     "output_type": "stream",
     "text": [
      "================================= fold 2/2 pkc_inhibitor=================================\n"
     ]
    },
    {
     "name": "stdout",
     "output_type": "stream",
     "text": [
      "Training until validation scores don't improve for 10 rounds\n",
      "Early stopping, best iteration is:\n",
      "[15]\ttraining's binary_logloss: 0.00291404\tvalid_1's binary_logloss: 0.00998794\n"
     ]
    },
    {
     "name": "stderr",
     "output_type": "stream",
     "text": [
      "pkc_inhibitor logloss: 0.009739739237089479\n",
      "=========================================================================================\n",
      "================================= fold 1/2 potassium_channel_activator=================================\n"
     ]
    },
    {
     "name": "stdout",
     "output_type": "stream",
     "text": [
      "Training until validation scores don't improve for 10 rounds\n",
      "Early stopping, best iteration is:\n",
      "[1]\ttraining's binary_logloss: 0.0175054\tvalid_1's binary_logloss: 0.0191122\n"
     ]
    },
    {
     "name": "stderr",
     "output_type": "stream",
     "text": [
      "================================= fold 2/2 potassium_channel_activator=================================\n"
     ]
    },
    {
     "name": "stdout",
     "output_type": "stream",
     "text": [
      "Training until validation scores don't improve for 10 rounds\n",
      "Early stopping, best iteration is:\n",
      "[3]\ttraining's binary_logloss: 0.0144749\tvalid_1's binary_logloss: 0.0195026\n"
     ]
    },
    {
     "name": "stderr",
     "output_type": "stream",
     "text": [
      "potassium_channel_activator logloss: 0.019307405742267927\n",
      "=========================================================================================\n",
      "================================= fold 1/2 potassium_channel_antagonist=================================\n"
     ]
    },
    {
     "name": "stdout",
     "output_type": "stream",
     "text": [
      "Training until validation scores don't improve for 10 rounds\n",
      "Early stopping, best iteration is:\n",
      "[1]\ttraining's binary_logloss: 0.0274494\tvalid_1's binary_logloss: 0.0294491\n"
     ]
    },
    {
     "name": "stderr",
     "output_type": "stream",
     "text": [
      "================================= fold 2/2 potassium_channel_antagonist=================================\n"
     ]
    },
    {
     "name": "stdout",
     "output_type": "stream",
     "text": [
      "Training until validation scores don't improve for 10 rounds\n",
      "Early stopping, best iteration is:\n",
      "[4]\ttraining's binary_logloss: 0.0233749\tvalid_1's binary_logloss: 0.0293461\n"
     ]
    },
    {
     "name": "stderr",
     "output_type": "stream",
     "text": [
      "potassium_channel_antagonist logloss: 0.029397620980122118\n",
      "=========================================================================================\n",
      "================================= fold 1/2 ppar_receptor_agonist=================================\n"
     ]
    },
    {
     "name": "stdout",
     "output_type": "stream",
     "text": [
      "Training until validation scores don't improve for 10 rounds\n",
      "Early stopping, best iteration is:\n",
      "[32]\ttraining's binary_logloss: 0.00640244\tvalid_1's binary_logloss: 0.0271386\n"
     ]
    },
    {
     "name": "stderr",
     "output_type": "stream",
     "text": [
      "================================= fold 2/2 ppar_receptor_agonist=================================\n"
     ]
    },
    {
     "name": "stdout",
     "output_type": "stream",
     "text": [
      "Training until validation scores don't improve for 10 rounds\n",
      "Early stopping, best iteration is:\n",
      "[28]\ttraining's binary_logloss: 0.00746146\tvalid_1's binary_logloss: 0.027083\n"
     ]
    },
    {
     "name": "stderr",
     "output_type": "stream",
     "text": [
      "ppar_receptor_agonist logloss: 0.027110786912566916\n",
      "=========================================================================================\n",
      "================================= fold 1/2 ppar_receptor_antagonist=================================\n"
     ]
    },
    {
     "name": "stdout",
     "output_type": "stream",
     "text": [
      "Training until validation scores don't improve for 10 rounds\n",
      "Early stopping, best iteration is:\n",
      "[6]\ttraining's binary_logloss: 0.00496981\tvalid_1's binary_logloss: 0.00957742\n"
     ]
    },
    {
     "name": "stderr",
     "output_type": "stream",
     "text": [
      "================================= fold 2/2 ppar_receptor_antagonist=================================\n"
     ]
    },
    {
     "name": "stdout",
     "output_type": "stream",
     "text": [
      "Training until validation scores don't improve for 10 rounds\n",
      "Early stopping, best iteration is:\n",
      "[6]\ttraining's binary_logloss: 0.0048533\tvalid_1's binary_logloss: 0.00963116\n"
     ]
    },
    {
     "name": "stderr",
     "output_type": "stream",
     "text": [
      "ppar_receptor_antagonist logloss: 0.009604286837330606\n",
      "=========================================================================================\n",
      "================================= fold 1/2 progesterone_receptor_agonist=================================\n"
     ]
    },
    {
     "name": "stdout",
     "output_type": "stream",
     "text": [
      "Training until validation scores don't improve for 10 rounds\n",
      "Early stopping, best iteration is:\n",
      "[21]\ttraining's binary_logloss: 0.0109378\tvalid_1's binary_logloss: 0.0345373\n"
     ]
    },
    {
     "name": "stderr",
     "output_type": "stream",
     "text": [
      "================================= fold 2/2 progesterone_receptor_agonist=================================\n"
     ]
    },
    {
     "name": "stdout",
     "output_type": "stream",
     "text": [
      "Training until validation scores don't improve for 10 rounds\n",
      "Early stopping, best iteration is:\n",
      "[24]\ttraining's binary_logloss: 0.010561\tvalid_1's binary_logloss: 0.034496\n"
     ]
    },
    {
     "name": "stderr",
     "output_type": "stream",
     "text": [
      "progesterone_receptor_agonist logloss: 0.03451662963304392\n",
      "=========================================================================================\n",
      "================================= fold 1/2 progesterone_receptor_antagonist=================================\n"
     ]
    },
    {
     "name": "stdout",
     "output_type": "stream",
     "text": [
      "Training until validation scores don't improve for 10 rounds\n",
      "Early stopping, best iteration is:\n",
      "[1]\ttraining's binary_logloss: 0.00508076\tvalid_1's binary_logloss: 0.00619732\n"
     ]
    },
    {
     "name": "stderr",
     "output_type": "stream",
     "text": [
      "================================= fold 2/2 progesterone_receptor_antagonist=================================\n"
     ]
    },
    {
     "name": "stdout",
     "output_type": "stream",
     "text": [
      "Training until validation scores don't improve for 10 rounds\n",
      "Early stopping, best iteration is:\n",
      "[1]\ttraining's binary_logloss: 0.00558469\tvalid_1's binary_logloss: 0.00619116\n"
     ]
    },
    {
     "name": "stderr",
     "output_type": "stream",
     "text": [
      "progesterone_receptor_antagonist logloss: 0.006194242838996398\n",
      "=========================================================================================\n",
      "================================= fold 1/2 prostaglandin_inhibitor=================================\n"
     ]
    },
    {
     "name": "stdout",
     "output_type": "stream",
     "text": [
      "Training until validation scores don't improve for 10 rounds\n",
      "Early stopping, best iteration is:\n",
      "[1]\ttraining's binary_logloss: 0.00995352\tvalid_1's binary_logloss: 0.011348\n"
     ]
    },
    {
     "name": "stderr",
     "output_type": "stream",
     "text": [
      "================================= fold 2/2 prostaglandin_inhibitor=================================\n"
     ]
    },
    {
     "name": "stdout",
     "output_type": "stream",
     "text": [
      "Training until validation scores don't improve for 10 rounds\n",
      "Early stopping, best iteration is:\n",
      "[2]\ttraining's binary_logloss: 0.00880615\tvalid_1's binary_logloss: 0.0112777\n"
     ]
    },
    {
     "name": "stderr",
     "output_type": "stream",
     "text": [
      "prostaglandin_inhibitor logloss: 0.011312837070012625\n",
      "=========================================================================================\n",
      "================================= fold 1/2 prostanoid_receptor_antagonist=================================\n"
     ]
    },
    {
     "name": "stdout",
     "output_type": "stream",
     "text": [
      "Training until validation scores don't improve for 10 rounds\n",
      "Early stopping, best iteration is:\n",
      "[10]\ttraining's binary_logloss: 0.0125379\tvalid_1's binary_logloss: 0.0233731\n"
     ]
    },
    {
     "name": "stderr",
     "output_type": "stream",
     "text": [
      "================================= fold 2/2 prostanoid_receptor_antagonist=================================\n"
     ]
    },
    {
     "name": "stdout",
     "output_type": "stream",
     "text": [
      "Training until validation scores don't improve for 10 rounds\n",
      "Early stopping, best iteration is:\n",
      "[2]\ttraining's binary_logloss: 0.0201491\tvalid_1's binary_logloss: 0.0235015\n"
     ]
    },
    {
     "name": "stderr",
     "output_type": "stream",
     "text": [
      "prostanoid_receptor_antagonist logloss: 0.023437302088562467\n",
      "=========================================================================================\n",
      "================================= fold 1/2 proteasome_inhibitor=================================\n"
     ]
    },
    {
     "name": "stdout",
     "output_type": "stream",
     "text": [
      "Training until validation scores don't improve for 10 rounds\n",
      "[100]\ttraining's binary_logloss: 0.00346468\tvalid_1's binary_logloss: 0.00469596\n",
      "[200]\ttraining's binary_logloss: 0.000291311\tvalid_1's binary_logloss: 0.00118467\n",
      "[300]\ttraining's binary_logloss: 6.63395e-05\tvalid_1's binary_logloss: 0.000904007\n",
      "Early stopping, best iteration is:\n",
      "[332]\ttraining's binary_logloss: 5.16343e-05\tvalid_1's binary_logloss: 0.0008931\n"
     ]
    },
    {
     "name": "stderr",
     "output_type": "stream",
     "text": [
      "================================= fold 2/2 proteasome_inhibitor=================================\n"
     ]
    },
    {
     "name": "stdout",
     "output_type": "stream",
     "text": [
      "Training until validation scores don't improve for 10 rounds\n",
      "[100]\ttraining's binary_logloss: 0.00349014\tvalid_1's binary_logloss: 0.0051213\n",
      "[200]\ttraining's binary_logloss: 0.000306371\tvalid_1's binary_logloss: 0.00179129\n",
      "[300]\ttraining's binary_logloss: 7.27548e-05\tvalid_1's binary_logloss: 0.00137335\n",
      "[400]\ttraining's binary_logloss: 4.01235e-05\tvalid_1's binary_logloss: 0.00124873\n",
      "Early stopping, best iteration is:\n",
      "[426]\ttraining's binary_logloss: 3.74915e-05\tvalid_1's binary_logloss: 0.0012405\n"
     ]
    },
    {
     "name": "stderr",
     "output_type": "stream",
     "text": [
      "proteasome_inhibitor logloss: 0.0010667997909376214\n",
      "=========================================================================================\n",
      "================================= fold 1/2 protein_kinase_inhibitor=================================\n"
     ]
    },
    {
     "name": "stdout",
     "output_type": "stream",
     "text": [
      "Training until validation scores don't improve for 10 rounds\n",
      "Early stopping, best iteration is:\n",
      "[15]\ttraining's binary_logloss: 0.0047368\tvalid_1's binary_logloss: 0.0145043\n"
     ]
    },
    {
     "name": "stderr",
     "output_type": "stream",
     "text": [
      "================================= fold 2/2 protein_kinase_inhibitor=================================\n"
     ]
    },
    {
     "name": "stdout",
     "output_type": "stream",
     "text": [
      "Training until validation scores don't improve for 10 rounds\n",
      "Early stopping, best iteration is:\n",
      "[3]\ttraining's binary_logloss: 0.0105391\tvalid_1's binary_logloss: 0.0143314\n"
     ]
    },
    {
     "name": "stderr",
     "output_type": "stream",
     "text": [
      "protein_kinase_inhibitor logloss: 0.01441783540500838\n",
      "=========================================================================================\n",
      "================================= fold 1/2 protein_phosphatase_inhibitor=================================\n"
     ]
    },
    {
     "name": "stdout",
     "output_type": "stream",
     "text": [
      "Training until validation scores don't improve for 10 rounds\n",
      "Early stopping, best iteration is:\n",
      "[10]\ttraining's binary_logloss: 0.00287101\tvalid_1's binary_logloss: 0.00779202\n"
     ]
    },
    {
     "name": "stderr",
     "output_type": "stream",
     "text": [
      "================================= fold 2/2 protein_phosphatase_inhibitor=================================\n"
     ]
    },
    {
     "name": "stdout",
     "output_type": "stream",
     "text": [
      "Training until validation scores don't improve for 10 rounds\n",
      "Early stopping, best iteration is:\n",
      "[17]\ttraining's binary_logloss: 0.00211312\tvalid_1's binary_logloss: 0.00768898\n"
     ]
    },
    {
     "name": "stderr",
     "output_type": "stream",
     "text": [
      "protein_phosphatase_inhibitor logloss: 0.007740497359178868\n",
      "=========================================================================================\n",
      "================================= fold 1/2 protein_synthesis_inhibitor=================================\n"
     ]
    },
    {
     "name": "stdout",
     "output_type": "stream",
     "text": [
      "Training until validation scores don't improve for 10 rounds\n",
      "Early stopping, best iteration is:\n",
      "[30]\ttraining's binary_logloss: 0.00617535\tvalid_1's binary_logloss: 0.0247761\n"
     ]
    },
    {
     "name": "stderr",
     "output_type": "stream",
     "text": [
      "================================= fold 2/2 protein_synthesis_inhibitor=================================\n"
     ]
    },
    {
     "name": "stdout",
     "output_type": "stream",
     "text": [
      "Training until validation scores don't improve for 10 rounds\n",
      "Early stopping, best iteration is:\n",
      "[28]\ttraining's binary_logloss: 0.00628727\tvalid_1's binary_logloss: 0.0248851\n"
     ]
    },
    {
     "name": "stderr",
     "output_type": "stream",
     "text": [
      "protein_synthesis_inhibitor logloss: 0.024830602917232446\n",
      "=========================================================================================\n",
      "================================= fold 1/2 protein_tyrosine_kinase_inhibitor=================================\n"
     ]
    },
    {
     "name": "stdout",
     "output_type": "stream",
     "text": [
      "Training until validation scores don't improve for 10 rounds\n",
      "Early stopping, best iteration is:\n",
      "[22]\ttraining's binary_logloss: 0.00300113\tvalid_1's binary_logloss: 0.0124586\n"
     ]
    },
    {
     "name": "stderr",
     "output_type": "stream",
     "text": [
      "================================= fold 2/2 protein_tyrosine_kinase_inhibitor=================================\n"
     ]
    },
    {
     "name": "stdout",
     "output_type": "stream",
     "text": [
      "Training until validation scores don't improve for 10 rounds\n",
      "Early stopping, best iteration is:\n",
      "[5]\ttraining's binary_logloss: 0.00771773\tvalid_1's binary_logloss: 0.0133861\n"
     ]
    },
    {
     "name": "stderr",
     "output_type": "stream",
     "text": [
      "protein_tyrosine_kinase_inhibitor logloss: 0.012922343389297524\n",
      "=========================================================================================\n",
      "================================= fold 1/2 radiopaque_medium=================================\n"
     ]
    },
    {
     "name": "stdout",
     "output_type": "stream",
     "text": [
      "Training until validation scores don't improve for 10 rounds\n",
      "Early stopping, best iteration is:\n",
      "[1]\ttraining's binary_logloss: 0.0149938\tvalid_1's binary_logloss: 0.0164672\n"
     ]
    },
    {
     "name": "stderr",
     "output_type": "stream",
     "text": [
      "================================= fold 2/2 radiopaque_medium=================================\n"
     ]
    },
    {
     "name": "stdout",
     "output_type": "stream",
     "text": [
      "Training until validation scores don't improve for 10 rounds\n",
      "Early stopping, best iteration is:\n",
      "[1]\ttraining's binary_logloss: 0.0150166\tvalid_1's binary_logloss: 0.0166001\n"
     ]
    },
    {
     "name": "stderr",
     "output_type": "stream",
     "text": [
      "radiopaque_medium logloss: 0.016533668667142697\n",
      "=========================================================================================\n",
      "================================= fold 1/2 raf_inhibitor=================================\n"
     ]
    },
    {
     "name": "stdout",
     "output_type": "stream",
     "text": [
      "Training until validation scores don't improve for 10 rounds\n",
      "[100]\ttraining's binary_logloss: 0.00133054\tvalid_1's binary_logloss: 0.00910428\n",
      "Early stopping, best iteration is:\n",
      "[169]\ttraining's binary_logloss: 0.000292571\tvalid_1's binary_logloss: 0.00845901\n"
     ]
    },
    {
     "name": "stderr",
     "output_type": "stream",
     "text": [
      "================================= fold 2/2 raf_inhibitor=================================\n"
     ]
    },
    {
     "name": "stdout",
     "output_type": "stream",
     "text": [
      "Training until validation scores don't improve for 10 rounds\n",
      "[100]\ttraining's binary_logloss: 0.00124906\tvalid_1's binary_logloss: 0.0122465\n",
      "Early stopping, best iteration is:\n",
      "[120]\ttraining's binary_logloss: 0.000766597\tvalid_1's binary_logloss: 0.012148\n"
     ]
    },
    {
     "name": "stderr",
     "output_type": "stream",
     "text": [
      "raf_inhibitor logloss: 0.010303526094726253\n",
      "=========================================================================================\n",
      "================================= fold 1/2 ras_gtpase_inhibitor=================================\n"
     ]
    },
    {
     "name": "stdout",
     "output_type": "stream",
     "text": [
      "Training until validation scores don't improve for 10 rounds\n",
      "Early stopping, best iteration is:\n",
      "[56]\ttraining's binary_logloss: 0.00191779\tvalid_1's binary_logloss: 0.014911\n"
     ]
    },
    {
     "name": "stderr",
     "output_type": "stream",
     "text": [
      "================================= fold 2/2 ras_gtpase_inhibitor=================================\n"
     ]
    },
    {
     "name": "stdout",
     "output_type": "stream",
     "text": [
      "Training until validation scores don't improve for 10 rounds\n",
      "Early stopping, best iteration is:\n",
      "[54]\ttraining's binary_logloss: 0.0020311\tvalid_1's binary_logloss: 0.0147013\n"
     ]
    },
    {
     "name": "stderr",
     "output_type": "stream",
     "text": [
      "ras_gtpase_inhibitor logloss: 0.014806170046227356\n",
      "=========================================================================================\n",
      "================================= fold 1/2 retinoid_receptor_agonist=================================\n"
     ]
    },
    {
     "name": "stdout",
     "output_type": "stream",
     "text": [
      "Training until validation scores don't improve for 10 rounds\n",
      "Early stopping, best iteration is:\n",
      "[37]\ttraining's binary_logloss: 0.00263472\tvalid_1's binary_logloss: 0.014247\n"
     ]
    },
    {
     "name": "stderr",
     "output_type": "stream",
     "text": [
      "================================= fold 2/2 retinoid_receptor_agonist=================================\n"
     ]
    },
    {
     "name": "stdout",
     "output_type": "stream",
     "text": [
      "Training until validation scores don't improve for 10 rounds\n",
      "Early stopping, best iteration is:\n",
      "[40]\ttraining's binary_logloss: 0.00241688\tvalid_1's binary_logloss: 0.0139705\n"
     ]
    },
    {
     "name": "stderr",
     "output_type": "stream",
     "text": [
      "retinoid_receptor_agonist logloss: 0.014108729709519582\n",
      "=========================================================================================\n",
      "================================= fold 1/2 retinoid_receptor_antagonist=================================\n"
     ]
    },
    {
     "name": "stdout",
     "output_type": "stream",
     "text": [
      "Training until validation scores don't improve for 10 rounds\n",
      "Early stopping, best iteration is:\n",
      "[1]\ttraining's binary_logloss: 0.00212534\tvalid_1's binary_logloss: 0.00234096\n"
     ]
    },
    {
     "name": "stderr",
     "output_type": "stream",
     "text": [
      "================================= fold 2/2 retinoid_receptor_antagonist=================================\n"
     ]
    },
    {
     "name": "stdout",
     "output_type": "stream",
     "text": [
      "Training until validation scores don't improve for 10 rounds\n",
      "Early stopping, best iteration is:\n",
      "[1]\ttraining's binary_logloss: 0.00212863\tvalid_1's binary_logloss: 0.00234121\n"
     ]
    },
    {
     "name": "stderr",
     "output_type": "stream",
     "text": [
      "retinoid_receptor_antagonist logloss: 0.0023410866409864493\n",
      "=========================================================================================\n",
      "================================= fold 1/2 rho_associated_kinase_inhibitor=================================\n"
     ]
    },
    {
     "name": "stdout",
     "output_type": "stream",
     "text": [
      "Training until validation scores don't improve for 10 rounds\n",
      "Early stopping, best iteration is:\n",
      "[17]\ttraining's binary_logloss: 0.00302933\tvalid_1's binary_logloss: 0.0102797\n"
     ]
    },
    {
     "name": "stderr",
     "output_type": "stream",
     "text": [
      "================================= fold 2/2 rho_associated_kinase_inhibitor=================================\n"
     ]
    },
    {
     "name": "stdout",
     "output_type": "stream",
     "text": [
      "Training until validation scores don't improve for 10 rounds\n",
      "Early stopping, best iteration is:\n",
      "[7]\ttraining's binary_logloss: 0.00487269\tvalid_1's binary_logloss: 0.011146\n"
     ]
    },
    {
     "name": "stderr",
     "output_type": "stream",
     "text": [
      "rho_associated_kinase_inhibitor logloss: 0.010712841498357818\n",
      "=========================================================================================\n",
      "================================= fold 1/2 ribonucleoside_reductase_inhibitor=================================\n"
     ]
    },
    {
     "name": "stdout",
     "output_type": "stream",
     "text": [
      "Training until validation scores don't improve for 10 rounds\n",
      "Early stopping, best iteration is:\n",
      "[55]\ttraining's binary_logloss: 0.000955139\tvalid_1's binary_logloss: 0.00937009\n"
     ]
    },
    {
     "name": "stderr",
     "output_type": "stream",
     "text": [
      "================================= fold 2/2 ribonucleoside_reductase_inhibitor=================================\n"
     ]
    },
    {
     "name": "stdout",
     "output_type": "stream",
     "text": [
      "Training until validation scores don't improve for 10 rounds\n",
      "Early stopping, best iteration is:\n",
      "[13]\ttraining's binary_logloss: 0.0034951\tvalid_1's binary_logloss: 0.00993939\n"
     ]
    },
    {
     "name": "stderr",
     "output_type": "stream",
     "text": [
      "ribonucleoside_reductase_inhibitor logloss: 0.009654741351040724\n",
      "=========================================================================================\n",
      "================================= fold 1/2 rna_polymerase_inhibitor=================================\n"
     ]
    },
    {
     "name": "stdout",
     "output_type": "stream",
     "text": [
      "Training until validation scores don't improve for 10 rounds\n",
      "Early stopping, best iteration is:\n",
      "[1]\ttraining's binary_logloss: 0.0076622\tvalid_1's binary_logloss: 0.00797097\n"
     ]
    },
    {
     "name": "stderr",
     "output_type": "stream",
     "text": [
      "================================= fold 2/2 rna_polymerase_inhibitor=================================\n"
     ]
    },
    {
     "name": "stdout",
     "output_type": "stream",
     "text": [
      "Training until validation scores don't improve for 10 rounds\n",
      "Early stopping, best iteration is:\n",
      "[7]\ttraining's binary_logloss: 0.0035525\tvalid_1's binary_logloss: 0.00849396\n"
     ]
    },
    {
     "name": "stderr",
     "output_type": "stream",
     "text": [
      "rna_polymerase_inhibitor logloss: 0.008232469452696905\n",
      "=========================================================================================\n",
      "================================= fold 1/2 serotonin_receptor_agonist=================================\n"
     ]
    },
    {
     "name": "stdout",
     "output_type": "stream",
     "text": [
      "Training until validation scores don't improve for 10 rounds\n",
      "Early stopping, best iteration is:\n",
      "[3]\ttraining's binary_logloss: 0.0517075\tvalid_1's binary_logloss: 0.0555217\n"
     ]
    },
    {
     "name": "stderr",
     "output_type": "stream",
     "text": [
      "================================= fold 2/2 serotonin_receptor_agonist=================================\n"
     ]
    },
    {
     "name": "stdout",
     "output_type": "stream",
     "text": [
      "Training until validation scores don't improve for 10 rounds\n",
      "Early stopping, best iteration is:\n",
      "[3]\ttraining's binary_logloss: 0.0479871\tvalid_1's binary_logloss: 0.0555568\n"
     ]
    },
    {
     "name": "stderr",
     "output_type": "stream",
     "text": [
      "serotonin_receptor_agonist logloss: 0.055539264096916376\n",
      "=========================================================================================\n",
      "================================= fold 1/2 serotonin_receptor_antagonist=================================\n"
     ]
    },
    {
     "name": "stdout",
     "output_type": "stream",
     "text": [
      "Training until validation scores don't improve for 10 rounds\n",
      "Early stopping, best iteration is:\n",
      "[41]\ttraining's binary_logloss: 0.0354166\tvalid_1's binary_logloss: 0.0834795\n"
     ]
    },
    {
     "name": "stderr",
     "output_type": "stream",
     "text": [
      "================================= fold 2/2 serotonin_receptor_antagonist=================================\n"
     ]
    },
    {
     "name": "stdout",
     "output_type": "stream",
     "text": [
      "Training until validation scores don't improve for 10 rounds\n",
      "Early stopping, best iteration is:\n",
      "[55]\ttraining's binary_logloss: 0.0286375\tvalid_1's binary_logloss: 0.0839433\n"
     ]
    },
    {
     "name": "stderr",
     "output_type": "stream",
     "text": [
      "serotonin_receptor_antagonist logloss: 0.08371137976871938\n",
      "=========================================================================================\n",
      "================================= fold 1/2 serotonin_reuptake_inhibitor=================================\n"
     ]
    },
    {
     "name": "stdout",
     "output_type": "stream",
     "text": [
      "Training until validation scores don't improve for 10 rounds\n",
      "Early stopping, best iteration is:\n",
      "[2]\ttraining's binary_logloss: 0.0187715\tvalid_1's binary_logloss: 0.0225054\n"
     ]
    },
    {
     "name": "stderr",
     "output_type": "stream",
     "text": [
      "================================= fold 2/2 serotonin_reuptake_inhibitor=================================\n"
     ]
    },
    {
     "name": "stdout",
     "output_type": "stream",
     "text": [
      "Training until validation scores don't improve for 10 rounds\n",
      "Early stopping, best iteration is:\n",
      "[1]\ttraining's binary_logloss: 0.020667\tvalid_1's binary_logloss: 0.0224836\n"
     ]
    },
    {
     "name": "stderr",
     "output_type": "stream",
     "text": [
      "serotonin_reuptake_inhibitor logloss: 0.022494524322947018\n",
      "=========================================================================================\n",
      "================================= fold 1/2 sigma_receptor_agonist=================================\n"
     ]
    },
    {
     "name": "stdout",
     "output_type": "stream",
     "text": [
      "Training until validation scores don't improve for 10 rounds\n",
      "Early stopping, best iteration is:\n",
      "[1]\ttraining's binary_logloss: 0.0104899\tvalid_1's binary_logloss: 0.0113051\n"
     ]
    },
    {
     "name": "stderr",
     "output_type": "stream",
     "text": [
      "================================= fold 2/2 sigma_receptor_agonist=================================\n"
     ]
    },
    {
     "name": "stdout",
     "output_type": "stream",
     "text": [
      "Training until validation scores don't improve for 10 rounds\n",
      "Early stopping, best iteration is:\n",
      "[1]\ttraining's binary_logloss: 0.0106265\tvalid_1's binary_logloss: 0.0113484\n"
     ]
    },
    {
     "name": "stderr",
     "output_type": "stream",
     "text": [
      "sigma_receptor_agonist logloss: 0.011326719533542466\n",
      "=========================================================================================\n",
      "================================= fold 1/2 sigma_receptor_antagonist=================================\n"
     ]
    },
    {
     "name": "stdout",
     "output_type": "stream",
     "text": [
      "Training until validation scores don't improve for 10 rounds\n",
      "Early stopping, best iteration is:\n",
      "[1]\ttraining's binary_logloss: 0.0103901\tvalid_1's binary_logloss: 0.0113421\n"
     ]
    },
    {
     "name": "stderr",
     "output_type": "stream",
     "text": [
      "================================= fold 2/2 sigma_receptor_antagonist=================================\n"
     ]
    },
    {
     "name": "stdout",
     "output_type": "stream",
     "text": [
      "Training until validation scores don't improve for 10 rounds\n",
      "Early stopping, best iteration is:\n",
      "[6]\ttraining's binary_logloss: 0.00596651\tvalid_1's binary_logloss: 0.0112426\n"
     ]
    },
    {
     "name": "stderr",
     "output_type": "stream",
     "text": [
      "sigma_receptor_antagonist logloss: 0.011292325657224506\n",
      "=========================================================================================\n",
      "================================= fold 1/2 smoothened_receptor_antagonist=================================\n"
     ]
    },
    {
     "name": "stdout",
     "output_type": "stream",
     "text": [
      "Training until validation scores don't improve for 10 rounds\n",
      "Early stopping, best iteration is:\n",
      "[3]\ttraining's binary_logloss: 0.00655577\tvalid_1's binary_logloss: 0.00790578\n"
     ]
    },
    {
     "name": "stderr",
     "output_type": "stream",
     "text": [
      "================================= fold 2/2 smoothened_receptor_antagonist=================================\n"
     ]
    },
    {
     "name": "stdout",
     "output_type": "stream",
     "text": [
      "Training until validation scores don't improve for 10 rounds\n",
      "Early stopping, best iteration is:\n",
      "[7]\ttraining's binary_logloss: 0.00422849\tvalid_1's binary_logloss: 0.0084654\n"
     ]
    },
    {
     "name": "stderr",
     "output_type": "stream",
     "text": [
      "smoothened_receptor_antagonist logloss: 0.008185589622516344\n",
      "=========================================================================================\n",
      "================================= fold 1/2 sodium_channel_inhibitor=================================\n"
     ]
    },
    {
     "name": "stdout",
     "output_type": "stream",
     "text": [
      "Training until validation scores don't improve for 10 rounds\n",
      "Early stopping, best iteration is:\n",
      "[5]\ttraining's binary_logloss: 0.0531967\tvalid_1's binary_logloss: 0.0623109\n"
     ]
    },
    {
     "name": "stderr",
     "output_type": "stream",
     "text": [
      "================================= fold 2/2 sodium_channel_inhibitor=================================\n"
     ]
    },
    {
     "name": "stdout",
     "output_type": "stream",
     "text": [
      "Training until validation scores don't improve for 10 rounds\n",
      "Early stopping, best iteration is:\n",
      "[5]\ttraining's binary_logloss: 0.0519036\tvalid_1's binary_logloss: 0.0626079\n"
     ]
    },
    {
     "name": "stderr",
     "output_type": "stream",
     "text": [
      "sodium_channel_inhibitor logloss: 0.06245941092336127\n",
      "=========================================================================================\n",
      "================================= fold 1/2 sphingosine_receptor_agonist=================================\n"
     ]
    },
    {
     "name": "stdout",
     "output_type": "stream",
     "text": [
      "Training until validation scores don't improve for 10 rounds\n",
      "Early stopping, best iteration is:\n",
      "[1]\ttraining's binary_logloss: 0.00905935\tvalid_1's binary_logloss: 0.0102447\n"
     ]
    },
    {
     "name": "stderr",
     "output_type": "stream",
     "text": [
      "================================= fold 2/2 sphingosine_receptor_agonist=================================\n"
     ]
    },
    {
     "name": "stdout",
     "output_type": "stream",
     "text": [
      "Training until validation scores don't improve for 10 rounds\n",
      "Early stopping, best iteration is:\n",
      "[17]\ttraining's binary_logloss: 0.00280056\tvalid_1's binary_logloss: 0.0101378\n"
     ]
    },
    {
     "name": "stderr",
     "output_type": "stream",
     "text": [
      "sphingosine_receptor_agonist logloss: 0.010191294116246205\n",
      "=========================================================================================\n",
      "================================= fold 1/2 src_inhibitor=================================\n"
     ]
    },
    {
     "name": "stdout",
     "output_type": "stream",
     "text": [
      "Training until validation scores don't improve for 10 rounds\n",
      "Early stopping, best iteration is:\n",
      "[27]\ttraining's binary_logloss: 0.00400321\tvalid_1's binary_logloss: 0.0179503\n"
     ]
    },
    {
     "name": "stderr",
     "output_type": "stream",
     "text": [
      "================================= fold 2/2 src_inhibitor=================================\n"
     ]
    },
    {
     "name": "stdout",
     "output_type": "stream",
     "text": [
      "Training until validation scores don't improve for 10 rounds\n",
      "Early stopping, best iteration is:\n",
      "[34]\ttraining's binary_logloss: 0.00334262\tvalid_1's binary_logloss: 0.0180419\n"
     ]
    },
    {
     "name": "stderr",
     "output_type": "stream",
     "text": [
      "src_inhibitor logloss: 0.01799610820294439\n",
      "=========================================================================================\n",
      "================================= fold 1/2 steroid=================================\n"
     ]
    },
    {
     "name": "stdout",
     "output_type": "stream",
     "text": [
      "Training until validation scores don't improve for 10 rounds\n",
      "Early stopping, best iteration is:\n",
      "[21]\ttraining's binary_logloss: 0.00727022\tvalid_1's binary_logloss: 0.0254197\n"
     ]
    },
    {
     "name": "stderr",
     "output_type": "stream",
     "text": [
      "================================= fold 2/2 steroid=================================\n"
     ]
    },
    {
     "name": "stdout",
     "output_type": "stream",
     "text": [
      "Training until validation scores don't improve for 10 rounds\n",
      "Early stopping, best iteration is:\n",
      "[5]\ttraining's binary_logloss: 0.0189543\tvalid_1's binary_logloss: 0.0264868\n"
     ]
    },
    {
     "name": "stderr",
     "output_type": "stream",
     "text": [
      "steroid logloss: 0.025953257235201376\n",
      "=========================================================================================\n",
      "================================= fold 1/2 syk_inhibitor=================================\n"
     ]
    },
    {
     "name": "stdout",
     "output_type": "stream",
     "text": [
      "Training until validation scores don't improve for 10 rounds\n",
      "Early stopping, best iteration is:\n",
      "[20]\ttraining's binary_logloss: 0.00158665\tvalid_1's binary_logloss: 0.00559385\n"
     ]
    },
    {
     "name": "stderr",
     "output_type": "stream",
     "text": [
      "================================= fold 2/2 syk_inhibitor=================================\n"
     ]
    },
    {
     "name": "stdout",
     "output_type": "stream",
     "text": [
      "Training until validation scores don't improve for 10 rounds\n",
      "Early stopping, best iteration is:\n",
      "[23]\ttraining's binary_logloss: 0.00120219\tvalid_1's binary_logloss: 0.00649253\n"
     ]
    },
    {
     "name": "stderr",
     "output_type": "stream",
     "text": [
      "syk_inhibitor logloss: 0.006043189677288337\n",
      "=========================================================================================\n",
      "================================= fold 1/2 tachykinin_antagonist=================================\n"
     ]
    },
    {
     "name": "stdout",
     "output_type": "stream",
     "text": [
      "Training until validation scores don't improve for 10 rounds\n",
      "Early stopping, best iteration is:\n",
      "[4]\ttraining's binary_logloss: 0.0119749\tvalid_1's binary_logloss: 0.0174157\n"
     ]
    },
    {
     "name": "stderr",
     "output_type": "stream",
     "text": [
      "================================= fold 2/2 tachykinin_antagonist=================================\n"
     ]
    },
    {
     "name": "stdout",
     "output_type": "stream",
     "text": [
      "Training until validation scores don't improve for 10 rounds\n",
      "Early stopping, best iteration is:\n",
      "[3]\ttraining's binary_logloss: 0.0124554\tvalid_1's binary_logloss: 0.0176716\n"
     ]
    },
    {
     "name": "stderr",
     "output_type": "stream",
     "text": [
      "tachykinin_antagonist logloss: 0.017543647768342625\n",
      "=========================================================================================\n",
      "================================= fold 1/2 tgf-beta_receptor_inhibitor=================================\n"
     ]
    },
    {
     "name": "stdout",
     "output_type": "stream",
     "text": [
      "Training until validation scores don't improve for 10 rounds\n",
      "[100]\ttraining's binary_logloss: 0.000198959\tvalid_1's binary_logloss: 0.00396282\n",
      "Early stopping, best iteration is:\n",
      "[114]\ttraining's binary_logloss: 0.000149048\tvalid_1's binary_logloss: 0.00394252\n"
     ]
    },
    {
     "name": "stderr",
     "output_type": "stream",
     "text": [
      "================================= fold 2/2 tgf-beta_receptor_inhibitor=================================\n"
     ]
    },
    {
     "name": "stdout",
     "output_type": "stream",
     "text": [
      "Training until validation scores don't improve for 10 rounds\n",
      "[100]\ttraining's binary_logloss: 0.000209661\tvalid_1's binary_logloss: 0.00316038\n",
      "Early stopping, best iteration is:\n",
      "[138]\ttraining's binary_logloss: 0.000106324\tvalid_1's binary_logloss: 0.00302731\n"
     ]
    },
    {
     "name": "stderr",
     "output_type": "stream",
     "text": [
      "tgf-beta_receptor_inhibitor logloss: 0.0034849166020424786\n",
      "=========================================================================================\n",
      "================================= fold 1/2 thrombin_inhibitor=================================\n"
     ]
    },
    {
     "name": "stdout",
     "output_type": "stream",
     "text": [
      "Training until validation scores don't improve for 10 rounds\n",
      "Early stopping, best iteration is:\n",
      "[1]\ttraining's binary_logloss: 0.00625048\tvalid_1's binary_logloss: 0.00619713\n"
     ]
    },
    {
     "name": "stderr",
     "output_type": "stream",
     "text": [
      "================================= fold 2/2 thrombin_inhibitor=================================\n"
     ]
    },
    {
     "name": "stdout",
     "output_type": "stream",
     "text": [
      "Training until validation scores don't improve for 10 rounds\n",
      "Early stopping, best iteration is:\n",
      "[1]\ttraining's binary_logloss: 0.00552987\tvalid_1's binary_logloss: 0.00679995\n"
     ]
    },
    {
     "name": "stderr",
     "output_type": "stream",
     "text": [
      "thrombin_inhibitor logloss: 0.006498538563854541\n",
      "=========================================================================================\n",
      "================================= fold 1/2 thymidylate_synthase_inhibitor=================================\n"
     ]
    },
    {
     "name": "stdout",
     "output_type": "stream",
     "text": [
      "Training until validation scores don't improve for 10 rounds\n",
      "Early stopping, best iteration is:\n",
      "[21]\ttraining's binary_logloss: 0.00272817\tvalid_1's binary_logloss: 0.0109521\n"
     ]
    },
    {
     "name": "stderr",
     "output_type": "stream",
     "text": [
      "================================= fold 2/2 thymidylate_synthase_inhibitor=================================\n"
     ]
    },
    {
     "name": "stdout",
     "output_type": "stream",
     "text": [
      "Training until validation scores don't improve for 10 rounds\n",
      "Early stopping, best iteration is:\n",
      "[21]\ttraining's binary_logloss: 0.00249479\tvalid_1's binary_logloss: 0.0115225\n"
     ]
    },
    {
     "name": "stderr",
     "output_type": "stream",
     "text": [
      "thymidylate_synthase_inhibitor logloss: 0.011237299252122452\n",
      "=========================================================================================\n",
      "================================= fold 1/2 tlr_agonist=================================\n"
     ]
    },
    {
     "name": "stdout",
     "output_type": "stream",
     "text": [
      "Training until validation scores don't improve for 10 rounds\n",
      "Early stopping, best iteration is:\n",
      "[1]\ttraining's binary_logloss: 0.00879792\tvalid_1's binary_logloss: 0.00966808\n"
     ]
    },
    {
     "name": "stderr",
     "output_type": "stream",
     "text": [
      "================================= fold 2/2 tlr_agonist=================================\n"
     ]
    },
    {
     "name": "stdout",
     "output_type": "stream",
     "text": [
      "Training until validation scores don't improve for 10 rounds\n",
      "Early stopping, best iteration is:\n",
      "[1]\ttraining's binary_logloss: 0.00863003\tvalid_1's binary_logloss: 0.00969292\n"
     ]
    },
    {
     "name": "stderr",
     "output_type": "stream",
     "text": [
      "tlr_agonist logloss: 0.009680498224733639\n",
      "=========================================================================================\n",
      "================================= fold 1/2 tlr_antagonist=================================\n"
     ]
    },
    {
     "name": "stdout",
     "output_type": "stream",
     "text": [
      "Training until validation scores don't improve for 10 rounds\n",
      "Early stopping, best iteration is:\n",
      "[4]\ttraining's binary_logloss: 0.00229619\tvalid_1's binary_logloss: 0.00234856\n"
     ]
    },
    {
     "name": "stderr",
     "output_type": "stream",
     "text": [
      "================================= fold 2/2 tlr_antagonist=================================\n"
     ]
    },
    {
     "name": "stdout",
     "output_type": "stream",
     "text": [
      "Training until validation scores don't improve for 10 rounds\n",
      "Early stopping, best iteration is:\n",
      "[1]\ttraining's binary_logloss: 0.00222095\tvalid_1's binary_logloss: 0.00303879\n"
     ]
    },
    {
     "name": "stderr",
     "output_type": "stream",
     "text": [
      "tlr_antagonist logloss: 0.0026936757664202775\n",
      "=========================================================================================\n",
      "================================= fold 1/2 tnf_inhibitor=================================\n"
     ]
    },
    {
     "name": "stdout",
     "output_type": "stream",
     "text": [
      "Training until validation scores don't improve for 10 rounds\n",
      "Early stopping, best iteration is:\n",
      "[5]\ttraining's binary_logloss: 0.00722378\tvalid_1's binary_logloss: 0.0112187\n"
     ]
    },
    {
     "name": "stderr",
     "output_type": "stream",
     "text": [
      "================================= fold 2/2 tnf_inhibitor=================================\n"
     ]
    },
    {
     "name": "stdout",
     "output_type": "stream",
     "text": [
      "Training until validation scores don't improve for 10 rounds\n",
      "Early stopping, best iteration is:\n",
      "[4]\ttraining's binary_logloss: 0.00698736\tvalid_1's binary_logloss: 0.0113407\n"
     ]
    },
    {
     "name": "stderr",
     "output_type": "stream",
     "text": [
      "tnf_inhibitor logloss: 0.011279693107324558\n",
      "=========================================================================================\n",
      "================================= fold 1/2 topoisomerase_inhibitor=================================\n"
     ]
    },
    {
     "name": "stdout",
     "output_type": "stream",
     "text": [
      "Training until validation scores don't improve for 10 rounds\n",
      "Early stopping, best iteration is:\n",
      "[59]\ttraining's binary_logloss: 0.00283173\tvalid_1's binary_logloss: 0.0195096\n"
     ]
    },
    {
     "name": "stderr",
     "output_type": "stream",
     "text": [
      "================================= fold 2/2 topoisomerase_inhibitor=================================\n"
     ]
    },
    {
     "name": "stdout",
     "output_type": "stream",
     "text": [
      "Training until validation scores don't improve for 10 rounds\n",
      "Early stopping, best iteration is:\n",
      "[81]\ttraining's binary_logloss: 0.00170967\tvalid_1's binary_logloss: 0.0200658\n"
     ]
    },
    {
     "name": "stderr",
     "output_type": "stream",
     "text": [
      "topoisomerase_inhibitor logloss: 0.019787702288880493\n",
      "=========================================================================================\n",
      "================================= fold 1/2 transient_receptor_potential_channel_antagonist=================================\n"
     ]
    },
    {
     "name": "stdout",
     "output_type": "stream",
     "text": [
      "Training until validation scores don't improve for 10 rounds\n",
      "Early stopping, best iteration is:\n",
      "[1]\ttraining's binary_logloss: 0.005783\tvalid_1's binary_logloss: 0.00619492\n"
     ]
    },
    {
     "name": "stderr",
     "output_type": "stream",
     "text": [
      "================================= fold 2/2 transient_receptor_potential_channel_antagonist=================================\n"
     ]
    },
    {
     "name": "stdout",
     "output_type": "stream",
     "text": [
      "Training until validation scores don't improve for 10 rounds\n",
      "Early stopping, best iteration is:\n",
      "[1]\ttraining's binary_logloss: 0.00566295\tvalid_1's binary_logloss: 0.0061969\n"
     ]
    },
    {
     "name": "stderr",
     "output_type": "stream",
     "text": [
      "transient_receptor_potential_channel_antagonist logloss: 0.006195908269521626\n",
      "=========================================================================================\n",
      "================================= fold 1/2 tropomyosin_receptor_kinase_inhibitor=================================\n"
     ]
    },
    {
     "name": "stdout",
     "output_type": "stream",
     "text": [
      "Training until validation scores don't improve for 10 rounds\n",
      "Early stopping, best iteration is:\n",
      "[52]\ttraining's binary_logloss: 0.0122976\tvalid_1's binary_logloss: 0.0523412\n"
     ]
    },
    {
     "name": "stderr",
     "output_type": "stream",
     "text": [
      "================================= fold 2/2 tropomyosin_receptor_kinase_inhibitor=================================\n"
     ]
    },
    {
     "name": "stdout",
     "output_type": "stream",
     "text": [
      "Training until validation scores don't improve for 10 rounds\n",
      "Early stopping, best iteration is:\n",
      "[63]\ttraining's binary_logloss: 0.00983599\tvalid_1's binary_logloss: 0.049625\n"
     ]
    },
    {
     "name": "stderr",
     "output_type": "stream",
     "text": [
      "tropomyosin_receptor_kinase_inhibitor logloss: 0.05098310747123657\n",
      "=========================================================================================\n",
      "================================= fold 1/2 trpv_agonist=================================\n"
     ]
    },
    {
     "name": "stdout",
     "output_type": "stream",
     "text": [
      "Training until validation scores don't improve for 10 rounds\n",
      "Early stopping, best iteration is:\n",
      "[15]\ttraining's binary_logloss: 0.00244926\tvalid_1's binary_logloss: 0.00726393\n"
     ]
    },
    {
     "name": "stderr",
     "output_type": "stream",
     "text": [
      "================================= fold 2/2 trpv_agonist=================================\n"
     ]
    },
    {
     "name": "stdout",
     "output_type": "stream",
     "text": [
      "Training until validation scores don't improve for 10 rounds\n",
      "Early stopping, best iteration is:\n",
      "[11]\ttraining's binary_logloss: 0.00267926\tvalid_1's binary_logloss: 0.00751917\n"
     ]
    },
    {
     "name": "stderr",
     "output_type": "stream",
     "text": [
      "trpv_agonist logloss: 0.007391552647668102\n",
      "=========================================================================================\n",
      "================================= fold 1/2 trpv_antagonist=================================\n"
     ]
    },
    {
     "name": "stdout",
     "output_type": "stream",
     "text": [
      "Training until validation scores don't improve for 10 rounds\n",
      "Early stopping, best iteration is:\n",
      "[3]\ttraining's binary_logloss: 0.00992279\tvalid_1's binary_logloss: 0.0145244\n"
     ]
    },
    {
     "name": "stderr",
     "output_type": "stream",
     "text": [
      "================================= fold 2/2 trpv_antagonist=================================\n"
     ]
    },
    {
     "name": "stdout",
     "output_type": "stream",
     "text": [
      "Training until validation scores don't improve for 10 rounds\n",
      "Early stopping, best iteration is:\n",
      "[8]\ttraining's binary_logloss: 0.00737342\tvalid_1's binary_logloss: 0.0143405\n"
     ]
    },
    {
     "name": "stderr",
     "output_type": "stream",
     "text": [
      "trpv_antagonist logloss: 0.01443248415313893\n",
      "=========================================================================================\n",
      "================================= fold 1/2 tubulin_inhibitor=================================\n"
     ]
    },
    {
     "name": "stdout",
     "output_type": "stream",
     "text": [
      "Training until validation scores don't improve for 10 rounds\n",
      "[100]\ttraining's binary_logloss: 0.00291391\tvalid_1's binary_logloss: 0.0288927\n",
      "Early stopping, best iteration is:\n",
      "[120]\ttraining's binary_logloss: 0.00193657\tvalid_1's binary_logloss: 0.0286477\n"
     ]
    },
    {
     "name": "stderr",
     "output_type": "stream",
     "text": [
      "================================= fold 2/2 tubulin_inhibitor=================================\n"
     ]
    },
    {
     "name": "stdout",
     "output_type": "stream",
     "text": [
      "Training until validation scores don't improve for 10 rounds\n",
      "Early stopping, best iteration is:\n",
      "[84]\ttraining's binary_logloss: 0.00381922\tvalid_1's binary_logloss: 0.0305135\n"
     ]
    },
    {
     "name": "stderr",
     "output_type": "stream",
     "text": [
      "tubulin_inhibitor logloss: 0.029580597925965155\n",
      "=========================================================================================\n",
      "================================= fold 1/2 tyrosine_kinase_inhibitor=================================\n"
     ]
    },
    {
     "name": "stdout",
     "output_type": "stream",
     "text": [
      "Training until validation scores don't improve for 10 rounds\n",
      "Early stopping, best iteration is:\n",
      "[10]\ttraining's binary_logloss: 0.00864584\tvalid_1's binary_logloss: 0.0203369\n"
     ]
    },
    {
     "name": "stderr",
     "output_type": "stream",
     "text": [
      "================================= fold 2/2 tyrosine_kinase_inhibitor=================================\n"
     ]
    },
    {
     "name": "stdout",
     "output_type": "stream",
     "text": [
      "Training until validation scores don't improve for 10 rounds\n",
      "Early stopping, best iteration is:\n",
      "[13]\ttraining's binary_logloss: 0.00745461\tvalid_1's binary_logloss: 0.0208371\n"
     ]
    },
    {
     "name": "stderr",
     "output_type": "stream",
     "text": [
      "tyrosine_kinase_inhibitor logloss: 0.02058700517464445\n",
      "=========================================================================================\n",
      "================================= fold 1/2 ubiquitin_specific_protease_inhibitor=================================\n"
     ]
    },
    {
     "name": "stdout",
     "output_type": "stream",
     "text": [
      "Training until validation scores don't improve for 10 rounds\n",
      "Early stopping, best iteration is:\n",
      "[6]\ttraining's binary_logloss: 0.0023964\tvalid_1's binary_logloss: 0.00418891\n"
     ]
    },
    {
     "name": "stderr",
     "output_type": "stream",
     "text": [
      "================================= fold 2/2 ubiquitin_specific_protease_inhibitor=================================\n"
     ]
    },
    {
     "name": "stdout",
     "output_type": "stream",
     "text": [
      "Training until validation scores don't improve for 10 rounds\n",
      "Early stopping, best iteration is:\n",
      "[12]\ttraining's binary_logloss: 0.00135598\tvalid_1's binary_logloss: 0.00428821\n"
     ]
    },
    {
     "name": "stderr",
     "output_type": "stream",
     "text": [
      "ubiquitin_specific_protease_inhibitor logloss: 0.004238561311790022\n",
      "=========================================================================================\n",
      "================================= fold 1/2 vegfr_inhibitor=================================\n"
     ]
    },
    {
     "name": "stdout",
     "output_type": "stream",
     "text": [
      "Training until validation scores don't improve for 10 rounds\n",
      "Early stopping, best iteration is:\n",
      "[56]\ttraining's binary_logloss: 0.00496516\tvalid_1's binary_logloss: 0.0310219\n"
     ]
    },
    {
     "name": "stderr",
     "output_type": "stream",
     "text": [
      "================================= fold 2/2 vegfr_inhibitor=================================\n"
     ]
    },
    {
     "name": "stdout",
     "output_type": "stream",
     "text": [
      "Training until validation scores don't improve for 10 rounds\n",
      "Early stopping, best iteration is:\n",
      "[56]\ttraining's binary_logloss: 0.00516996\tvalid_1's binary_logloss: 0.0309945\n"
     ]
    },
    {
     "name": "stderr",
     "output_type": "stream",
     "text": [
      "vegfr_inhibitor logloss: 0.031008201185204764\n",
      "=========================================================================================\n",
      "================================= fold 1/2 vitamin_b=================================\n"
     ]
    },
    {
     "name": "stdout",
     "output_type": "stream",
     "text": [
      "Training until validation scores don't improve for 10 rounds\n",
      "Early stopping, best iteration is:\n",
      "[1]\ttraining's binary_logloss: 0.00766253\tvalid_1's binary_logloss: 0.00848873\n"
     ]
    },
    {
     "name": "stderr",
     "output_type": "stream",
     "text": [
      "================================= fold 2/2 vitamin_b=================================\n"
     ]
    },
    {
     "name": "stdout",
     "output_type": "stream",
     "text": [
      "Training until validation scores don't improve for 10 rounds\n",
      "Early stopping, best iteration is:\n",
      "[6]\ttraining's binary_logloss: 0.0046509\tvalid_1's binary_logloss: 0.00851391\n"
     ]
    },
    {
     "name": "stderr",
     "output_type": "stream",
     "text": [
      "vitamin_b logloss: 0.008501320289735118\n",
      "=========================================================================================\n",
      "================================= fold 1/2 vitamin_d_receptor_agonist=================================\n"
     ]
    },
    {
     "name": "stdout",
     "output_type": "stream",
     "text": [
      "Training until validation scores don't improve for 10 rounds\n",
      "Early stopping, best iteration is:\n",
      "[45]\ttraining's binary_logloss: 0.00116828\tvalid_1's binary_logloss: 0.00835165\n"
     ]
    },
    {
     "name": "stderr",
     "output_type": "stream",
     "text": [
      "================================= fold 2/2 vitamin_d_receptor_agonist=================================\n"
     ]
    },
    {
     "name": "stdout",
     "output_type": "stream",
     "text": [
      "Training until validation scores don't improve for 10 rounds\n",
      "Early stopping, best iteration is:\n",
      "[61]\ttraining's binary_logloss: 0.000752059\tvalid_1's binary_logloss: 0.00826868\n"
     ]
    },
    {
     "name": "stderr",
     "output_type": "stream",
     "text": [
      "vitamin_d_receptor_agonist logloss: 0.008310162236236832\n",
      "=========================================================================================\n",
      "================================= fold 1/2 wnt_inhibitor=================================\n"
     ]
    },
    {
     "name": "stdout",
     "output_type": "stream",
     "text": [
      "Training until validation scores don't improve for 10 rounds\n",
      "Early stopping, best iteration is:\n",
      "[1]\ttraining's binary_logloss: 0.00862161\tvalid_1's binary_logloss: 0.00968172\n"
     ]
    },
    {
     "name": "stderr",
     "output_type": "stream",
     "text": [
      "================================= fold 2/2 wnt_inhibitor=================================\n"
     ]
    },
    {
     "name": "stdout",
     "output_type": "stream",
     "text": [
      "Training until validation scores don't improve for 10 rounds\n",
      "Early stopping, best iteration is:\n",
      "[5]\ttraining's binary_logloss: 0.00553122\tvalid_1's binary_logloss: 0.00963463\n"
     ]
    },
    {
     "name": "stderr",
     "output_type": "stream",
     "text": [
      "wnt_inhibitor logloss: 0.009658176104676848\n",
      "=========================================================================================\n"
     ]
    },
    {
     "name": "stdout",
     "output_type": "stream",
     "text": [
      "\n"
     ]
    }
   ],
   "source": [
    "for target_col in tqdm(train_targets_scored.columns[1:]):\n",
    "    _preds, _score, models = run_lgbm(target_col)\n",
    "\n",
    "    sub[target_col] = _preds\n",
    "    scores.append(_score)\n",
    "        \n",
    "    for model in models:\n",
    "        _importance_df = pd.DataFrame()\n",
    "        _importance_df[\"Feature\"] = train.columns[1:]\n",
    "        _importance_df[\"importance\"] = model.feature_importance(importance_type='gain')\n",
    "        feature_importance_df = pd.concat([feature_importance_df, _importance_df], axis=0)"
   ]
  },
  {
   "cell_type": "code",
   "execution_count": 20,
   "metadata": {
    "execution": {
     "iopub.execute_input": "2020-10-24T01:38:08.628274Z",
     "iopub.status.busy": "2020-10-24T01:38:08.627502Z",
     "iopub.status.idle": "2020-10-24T01:38:11.259307Z",
     "shell.execute_reply": "2020-10-24T01:38:11.258462Z"
    },
    "papermill": {
     "duration": 3.339637,
     "end_time": "2020-10-24T01:38:11.259440",
     "exception": false,
     "start_time": "2020-10-24T01:38:07.919803",
     "status": "completed"
    },
    "tags": []
   },
   "outputs": [],
   "source": [
    "sub.to_csv('submission.csv', index=False)"
   ]
  },
  {
   "cell_type": "code",
   "execution_count": 21,
   "metadata": {
    "execution": {
     "iopub.execute_input": "2020-10-24T01:38:12.676025Z",
     "iopub.status.busy": "2020-10-24T01:38:12.675174Z",
     "iopub.status.idle": "2020-10-24T01:38:12.679106Z",
     "shell.execute_reply": "2020-10-24T01:38:12.678350Z"
    },
    "papermill": {
     "duration": 0.714366,
     "end_time": "2020-10-24T01:38:12.679262",
     "exception": false,
     "start_time": "2020-10-24T01:38:11.964896",
     "status": "completed"
    },
    "tags": []
   },
   "outputs": [
    {
     "name": "stdout",
     "output_type": "stream",
     "text": [
      "CV:0.018643095604980287\n"
     ]
    }
   ],
   "source": [
    "print(f\"CV:{np.mean(scores)}\")"
   ]
  },
  {
   "cell_type": "code",
   "execution_count": 22,
   "metadata": {
    "execution": {
     "iopub.execute_input": "2020-10-24T01:38:14.091654Z",
     "iopub.status.busy": "2020-10-24T01:38:14.090842Z",
     "iopub.status.idle": "2020-10-24T01:38:20.482518Z",
     "shell.execute_reply": "2020-10-24T01:38:20.481644Z"
    },
    "papermill": {
     "duration": 7.101025,
     "end_time": "2020-10-24T01:38:20.482693",
     "exception": false,
     "start_time": "2020-10-24T01:38:13.381668",
     "status": "completed"
    },
    "tags": []
   },
   "outputs": [
    {
     "data": {
      "image/png": "[encoded data removed]",
      "text/plain": [
       "<Figure size 576x2160 with 1 Axes>"
      ]
     },
     "metadata": {
      "needs_background": "light"
     },
     "output_type": "display_data"
    }
   ],
   "source": [
    "show_feature_importance(feature_importance_df)"
   ]
  },
  {
   "cell_type": "code",
   "execution_count": null,
   "metadata": {
    "papermill": {
     "duration": 0.712215,
     "end_time": "2020-10-24T01:38:21.939402",
     "exception": false,
     "start_time": "2020-10-24T01:38:21.227187",
     "status": "completed"
    },
    "tags": []
   },
   "outputs": [],
   "source": []
  }
 ],
 "metadata": {
  "kernelspec": {
   "display_name": "Python 3",
   "language": "python",
   "name": "python3"
  },
  "language_info": {
   "codemirror_mode": {
    "name": "ipython",
    "version": 3
   },
   "file_extension": ".py",
   "mimetype": "text/x-python",
   "name": "python",
   "nbconvert_exporter": "python",
   "pygments_lexer": "ipython3",
   "version": "3.7.6"
  },
  "papermill": {
   "duration": 2172.289827,
   "end_time": "2020-10-24T01:38:23.678302",
   "environment_variables": {},
   "exception": null,
   "input_path": "__notebook__.ipynb",
   "output_path": "__notebook__.ipynb",
   "parameters": {},
   "start_time": "2020-10-24T01:02:11.388475",
   "version": "2.1.0"
  },
  "widgets": {
   "application/vnd.jupyter.widget-state+json": {
    "state": {
     "28d18ba64984436c9fec3bf023249255": {
      "model_module": "@jupyter-widgets/base",
      "model_module_version": "1.2.0",
      "model_name": "LayoutModel",
      "state": {
       "_model_module": "@jupyter-widgets/base",
       "_model_module_version": "1.2.0",
       "_model_name": "LayoutModel",
       "_view_count": null,
       "_view_module": "@jupyter-widgets/base",
       "_view_module_version": "1.2.0",
       "_view_name": "LayoutView",
       "align_content": null,
       "align_items": null,
       "align_self": null,
       "border": null,
       "bottom": null,
       "display": null,
       "flex": null,
       "flex_flow": null,
       "grid_area": null,
       "grid_auto_columns": null,
       "grid_auto_flow": null,
       "grid_auto_rows": null,
       "grid_column": null,
       "grid_gap": null,
       "grid_row": null,
       "grid_template_areas": null,
       "grid_template_columns": null,
       "grid_template_rows": null,
       "height": null,
       "justify_content": null,
       "justify_items": null,
       "left": null,
       "margin": null,
       "max_height": null,
       "max_width": null,
       "min_height": null,
       "min_width": null,
       "object_fit": null,
       "object_position": null,
       "order": null,
       "overflow": null,
       "overflow_x": null,
       "overflow_y": null,
       "padding": null,
       "right": null,
       "top": null,
       "visibility": null,
       "width": null
      }
     },
     "377af367d32c48e89594031a630ebc9a": {
      "model_module": "@jupyter-widgets/controls",
      "model_module_version": "1.5.0",
      "model_name": "FloatProgressModel",
      "state": {
       "_dom_classes": [],
       "_model_module": "@jupyter-widgets/controls",
       "_model_module_version": "1.5.0",
       "_model_name": "FloatProgressModel",
       "_view_count": null,
       "_view_module": "@jupyter-widgets/controls",
       "_view_module_version": "1.5.0",
       "_view_name": "ProgressView",
       "bar_style": "success",
       "description": "100%",
       "description_tooltip": null,
       "layout": "IPY_MODEL_28d18ba64984436c9fec3bf023249255",
       "max": 206.0,
       "min": 0.0,
       "orientation": "horizontal",
       "style": "IPY_MODEL_c3640e87ae0444b5846323725c5e803e",
       "value": 206.0
      }
     },
     "38b11b98c62d4228b7fa50f57614c536": {
      "model_module": "@jupyter-widgets/controls",
      "model_module_version": "1.5.0",
      "model_name": "DescriptionStyleModel",
      "state": {
       "_model_module": "@jupyter-widgets/controls",
       "_model_module_version": "1.5.0",
       "_model_name": "DescriptionStyleModel",
       "_view_count": null,
       "_view_module": "@jupyter-widgets/base",
       "_view_module_version": "1.2.0",
       "_view_name": "StyleView",
       "description_width": ""
      }
     },
     "635690a5c2f7486c8180dcaec188d45e": {
      "model_module": "@jupyter-widgets/controls",
      "model_module_version": "1.5.0",
      "model_name": "HBoxModel",
      "state": {
       "_dom_classes": [],
       "_model_module": "@jupyter-widgets/controls",
       "_model_module_version": "1.5.0",
       "_model_name": "HBoxModel",
       "_view_count": null,
       "_view_module": "@jupyter-widgets/controls",
       "_view_module_version": "1.5.0",
       "_view_name": "HBoxView",
       "box_style": "",
       "children": [
        "IPY_MODEL_377af367d32c48e89594031a630ebc9a",
        "IPY_MODEL_f4e70dc7101f49bf88073eed17e592a6"
       ],
       "layout": "IPY_MODEL_6f46fd393dd14641a38f21441d8aae04"
      }
     },
     "6f46fd393dd14641a38f21441d8aae04": {
      "model_module": "@jupyter-widgets/base",
      "model_module_version": "1.2.0",
      "model_name": "LayoutModel",
      "state": {
       "_model_module": "@jupyter-widgets/base",
       "_model_module_version": "1.2.0",
       "_model_name": "LayoutModel",
       "_view_count": null,
       "_view_module": "@jupyter-widgets/base",
       "_view_module_version": "1.2.0",
       "_view_name": "LayoutView",
       "align_content": null,
       "align_items": null,
       "align_self": null,
       "border": null,
       "bottom": null,
       "display": null,
       "flex": null,
       "flex_flow": null,
       "grid_area": null,
       "grid_auto_columns": null,
       "grid_auto_flow": null,
       "grid_auto_rows": null,
       "grid_column": null,
       "grid_gap": null,
       "grid_row": null,
       "grid_template_areas": null,
       "grid_template_columns": null,
       "grid_template_rows": null,
       "height": null,
       "justify_content": null,
       "justify_items": null,
       "left": null,
       "margin": null,
       "max_height": null,
       "max_width": null,
       "min_height": null,
       "min_width": null,
       "object_fit": null,
       "object_position": null,
       "order": null,
       "overflow": null,
       "overflow_x": null,
       "overflow_y": null,
       "padding": null,
       "right": null,
       "top": null,
       "visibility": null,
       "width": null
      }
     },
     "8fb95eccc4554ddaa1cacc847739498a": {
      "model_module": "@jupyter-widgets/base",
      "model_module_version": "1.2.0",
      "model_name": "LayoutModel",
      "state": {
       "_model_module": "@jupyter-widgets/base",
       "_model_module_version": "1.2.0",
       "_model_name": "LayoutModel",
       "_view_count": null,
       "_view_module": "@jupyter-widgets/base",
       "_view_module_version": "1.2.0",
       "_view_name": "LayoutView",
       "align_content": null,
       "align_items": null,
       "align_self": null,
       "border": null,
       "bottom": null,
       "display": null,
       "flex": null,
       "flex_flow": null,
       "grid_area": null,
       "grid_auto_columns": null,
       "grid_auto_flow": null,
       "grid_auto_rows": null,
       "grid_column": null,
       "grid_gap": null,
       "grid_row": null,
       "grid_template_areas": null,
       "grid_template_columns": null,
       "grid_template_rows": null,
       "height": null,
       "justify_content": null,
       "justify_items": null,
       "left": null,
       "margin": null,
       "max_height": null,
       "max_width": null,
       "min_height": null,
       "min_width": null,
       "object_fit": null,
       "object_position": null,
       "order": null,
       "overflow": null,
       "overflow_x": null,
       "overflow_y": null,
       "padding": null,
       "right": null,
       "top": null,
       "visibility": null,
       "width": null
      }
     },
     "c3640e87ae0444b5846323725c5e803e": {
      "model_module": "@jupyter-widgets/controls",
      "model_module_version": "1.5.0",
      "model_name": "ProgressStyleModel",
      "state": {
       "_model_module": "@jupyter-widgets/controls",
       "_model_module_version": "1.5.0",
       "_model_name": "ProgressStyleModel",
       "_view_count": null,
       "_view_module": "@jupyter-widgets/base",
       "_view_module_version": "1.2.0",
       "_view_name": "StyleView",
       "bar_color": null,
       "description_width": "initial"
      }
     },
     "f4e70dc7101f49bf88073eed17e592a6": {
      "model_module": "@jupyter-widgets/controls",
      "model_module_version": "1.5.0",
      "model_name": "HTMLModel",
      "state": {
       "_dom_classes": [],
       "_model_module": "@jupyter-widgets/controls",
       "_model_module_version": "1.5.0",
       "_model_name": "HTMLModel",
       "_view_count": null,
       "_view_module": "@jupyter-widgets/controls",
       "_view_module_version": "1.5.0",
       "_view_name": "HTMLView",
       "description": "",
       "description_tooltip": null,
       "layout": "IPY_MODEL_8fb95eccc4554ddaa1cacc847739498a",
       "placeholder": "​",
       "style": "IPY_MODEL_38b11b98c62d4228b7fa50f57614c536",
       "value": " 206/206 [35:48&lt;00:00, 10.43s/it]"
      }
     }
    },
    "version_major": 2,
    "version_minor": 0
   }
  }
 },
 "nbformat": 4,
 "nbformat_minor": 4
}
