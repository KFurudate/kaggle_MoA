{
 "cells": [
  {
   "cell_type": "markdown",
   "metadata": {
    "papermill": {
     "duration": 0.021752,
     "end_time": "2020-10-11T16:58:25.260605",
     "exception": false,
     "start_time": "2020-10-11T16:58:25.238853",
     "status": "completed"
    },
    "tags": []
   },
   "source": [
    "Thanks for:\n",
    "* https://www.kaggle.com/sishihara/moa-lgbm-benchmark#Preprocessing\n",
    "\n",
    "* https://www.kaggle.com/ttahara/osic-baseline-lgbm-with-custom-metric\n",
    "\n",
    "* https://zenn.dev/fkubota/articles/2b8d46b11c178ac2fa2d\n",
    "\n"
   ]
  },
  {
   "cell_type": "code",
   "execution_count": 1,
   "metadata": {
    "execution": {
     "iopub.execute_input": "2020-10-11T16:58:25.306128Z",
     "iopub.status.busy": "2020-10-11T16:58:25.305298Z",
     "iopub.status.idle": "2020-10-11T16:58:25.308901Z",
     "shell.execute_reply": "2020-10-11T16:58:25.308183Z"
    },
    "papermill": {
     "duration": 0.028632,
     "end_time": "2020-10-11T16:58:25.309030",
     "exception": false,
     "start_time": "2020-10-11T16:58:25.280398",
     "status": "completed"
    },
    "tags": []
   },
   "outputs": [],
   "source": [
    "# Version = \"v1\" # starter model\n",
    "# Version = \"v2\" # compare treat Vs.ctrl and minor modifications, StratifiedKFold\n",
    "Version = \"v3\" # minor modifications、Add debug mode"
   ]
  },
  {
   "cell_type": "code",
   "execution_count": 2,
   "metadata": {
    "execution": {
     "iopub.execute_input": "2020-10-11T16:58:25.355091Z",
     "iopub.status.busy": "2020-10-11T16:58:25.354340Z",
     "iopub.status.idle": "2020-10-11T16:58:25.357927Z",
     "shell.execute_reply": "2020-10-11T16:58:25.357223Z"
    },
    "papermill": {
     "duration": 0.029012,
     "end_time": "2020-10-11T16:58:25.358056",
     "exception": false,
     "start_time": "2020-10-11T16:58:25.329044",
     "status": "completed"
    },
    "tags": []
   },
   "outputs": [],
   "source": [
    "DEBUG = True"
   ]
  },
  {
   "cell_type": "markdown",
   "metadata": {
    "papermill": {
     "duration": 0.021738,
     "end_time": "2020-10-11T16:58:25.399660",
     "exception": false,
     "start_time": "2020-10-11T16:58:25.377922",
     "status": "completed"
    },
    "tags": []
   },
   "source": [
    "# Library"
   ]
  },
  {
   "cell_type": "code",
   "execution_count": 3,
   "metadata": {
    "_cell_guid": "b1076dfc-b9ad-4769-8c92-a6c4dae69d19",
    "_uuid": "8f2839f25d086af736a60e9eeb907d3b93b6e0e5",
    "execution": {
     "iopub.execute_input": "2020-10-11T16:58:25.449438Z",
     "iopub.status.busy": "2020-10-11T16:58:25.448626Z",
     "iopub.status.idle": "2020-10-11T16:58:27.877732Z",
     "shell.execute_reply": "2020-10-11T16:58:27.876692Z"
    },
    "papermill": {
     "duration": 2.4581,
     "end_time": "2020-10-11T16:58:27.877926",
     "exception": false,
     "start_time": "2020-10-11T16:58:25.419826",
     "status": "completed"
    },
    "tags": []
   },
   "outputs": [],
   "source": [
    "import lightgbm as lgb\n",
    "from logging import getLogger, INFO, StreamHandler, FileHandler, Formatter\n",
    "\n",
    "import numpy as np\n",
    "import pandas as pd\n",
    "import matplotlib.pyplot as plt\n",
    "import seaborn as sns\n",
    "\n",
    "import os\n",
    "import random\n",
    "\n",
    "from sklearn import preprocessing\n",
    "from sklearn.metrics import log_loss\n",
    "from sklearn.model_selection import StratifiedKFold\n",
    "\n",
    "from tqdm.notebook import tqdm\n",
    "import torch\n",
    "\n",
    "import warnings\n",
    "warnings.filterwarnings(\"ignore\")"
   ]
  },
  {
   "cell_type": "markdown",
   "metadata": {
    "papermill": {
     "duration": 0.020681,
     "end_time": "2020-10-11T16:58:27.925809",
     "exception": false,
     "start_time": "2020-10-11T16:58:27.905128",
     "status": "completed"
    },
    "tags": []
   },
   "source": [
    "# Utils"
   ]
  },
  {
   "cell_type": "code",
   "execution_count": 4,
   "metadata": {
    "execution": {
     "iopub.execute_input": "2020-10-11T16:58:28.114755Z",
     "iopub.status.busy": "2020-10-11T16:58:28.113909Z",
     "iopub.status.idle": "2020-10-11T16:58:28.118773Z",
     "shell.execute_reply": "2020-10-11T16:58:28.117937Z"
    },
    "papermill": {
     "duration": 0.172125,
     "end_time": "2020-10-11T16:58:28.118933",
     "exception": false,
     "start_time": "2020-10-11T16:58:27.946808",
     "status": "completed"
    },
    "tags": []
   },
   "outputs": [],
   "source": [
    "def get_logger(filename='log'):\n",
    "    logger = getLogger(__name__)\n",
    "    logger.setLevel(INFO)\n",
    "    handler1 = StreamHandler()\n",
    "    handler1.setFormatter(Formatter(\"%(message)s\"))\n",
    "    handler2 = FileHandler(filename=f\"{filename}.log\")\n",
    "    handler2.setFormatter(Formatter(\"%(message)s\"))\n",
    "    logger.addHandler(handler1)\n",
    "    logger.addHandler(handler2)\n",
    "    return logger\n",
    "\n",
    "logger = get_logger()\n",
    "\n",
    "\n",
    "def seed_everything(seed=777):\n",
    "    random.seed(seed)\n",
    "    os.environ['PYTHONHASHSEED'] = str(seed)\n",
    "    np.random.seed(seed)\n",
    "    torch.manual_seed(seed)\n",
    "    torch.cuda.manual_seed(seed)\n",
    "    torch.backends.cudnn.deterministic = True"
   ]
  },
  {
   "cell_type": "markdown",
   "metadata": {
    "papermill": {
     "duration": 0.02032,
     "end_time": "2020-10-11T16:58:28.160332",
     "exception": false,
     "start_time": "2020-10-11T16:58:28.140012",
     "status": "completed"
    },
    "tags": []
   },
   "source": [
    "# Config"
   ]
  },
  {
   "cell_type": "code",
   "execution_count": 5,
   "metadata": {
    "execution": {
     "iopub.execute_input": "2020-10-11T16:58:28.213696Z",
     "iopub.status.busy": "2020-10-11T16:58:28.212536Z",
     "iopub.status.idle": "2020-10-11T16:58:28.221190Z",
     "shell.execute_reply": "2020-10-11T16:58:28.220294Z"
    },
    "papermill": {
     "duration": 0.038192,
     "end_time": "2020-10-11T16:58:28.221346",
     "exception": false,
     "start_time": "2020-10-11T16:58:28.183154",
     "status": "completed"
    },
    "tags": []
   },
   "outputs": [],
   "source": [
    "if DEBUG:\n",
    "    N_FOLD = 2\n",
    "    Num_boost_round=1000\n",
    "    Early_stopping_rounds=10\n",
    "    Learning_rate = 0.03\n",
    "else:\n",
    "    N_FOLD = 5\n",
    "    Num_boost_round=10000\n",
    "    Early_stopping_rounds=20\n",
    "    Learning_rate = 0.01\n",
    "\n",
    "SEED = 42\n",
    "seed_everything(seed=SEED)"
   ]
  },
  {
   "cell_type": "markdown",
   "metadata": {
    "papermill": {
     "duration": 0.020558,
     "end_time": "2020-10-11T16:58:28.263072",
     "exception": false,
     "start_time": "2020-10-11T16:58:28.242514",
     "status": "completed"
    },
    "tags": []
   },
   "source": [
    "# Data Loading"
   ]
  },
  {
   "cell_type": "code",
   "execution_count": 6,
   "metadata": {
    "_cell_guid": "79c7e3d0-c299-4dcb-8224-4455121ee9b0",
    "_uuid": "d629ff2d2480ee46fbb7e2d37f6b5fab8052498a",
    "execution": {
     "iopub.execute_input": "2020-10-11T16:58:28.315363Z",
     "iopub.status.busy": "2020-10-11T16:58:28.314530Z",
     "iopub.status.idle": "2020-10-11T16:58:36.664111Z",
     "shell.execute_reply": "2020-10-11T16:58:36.663269Z"
    },
    "papermill": {
     "duration": 8.380111,
     "end_time": "2020-10-11T16:58:36.664266",
     "exception": false,
     "start_time": "2020-10-11T16:58:28.284155",
     "status": "completed"
    },
    "tags": []
   },
   "outputs": [],
   "source": [
    "train = pd.read_csv(\"../input/lish-moa/train_features.csv\")\n",
    "test = pd.read_csv(\"../input/lish-moa/test_features.csv\")\n",
    "train_targets_scored = pd.read_csv(\"../input/lish-moa/train_targets_scored.csv\")\n",
    "train_targets_nonscored = pd.read_csv(\"../input/lish-moa/train_targets_nonscored.csv\")\n",
    "sub = pd.read_csv(\"../input/lish-moa/sample_submission.csv\")"
   ]
  },
  {
   "cell_type": "code",
   "execution_count": 7,
   "metadata": {
    "execution": {
     "iopub.execute_input": "2020-10-11T16:58:36.716585Z",
     "iopub.status.busy": "2020-10-11T16:58:36.715527Z",
     "iopub.status.idle": "2020-10-11T16:58:36.720904Z",
     "shell.execute_reply": "2020-10-11T16:58:36.720138Z"
    },
    "papermill": {
     "duration": 0.035843,
     "end_time": "2020-10-11T16:58:36.721032",
     "exception": false,
     "start_time": "2020-10-11T16:58:36.685189",
     "status": "completed"
    },
    "tags": []
   },
   "outputs": [],
   "source": [
    "def label_encoding(train: pd.DataFrame, test: pd.DataFrame, encode_cols):\n",
    "    n_train = len(train)\n",
    "    train = pd.concat([train, test], sort=False).reset_index(drop=True)\n",
    "    for f in encode_cols:\n",
    "        try:\n",
    "            lbl = preprocessing.LabelEncoder()\n",
    "            train[f] = lbl.fit_transform(list(train[f].values))\n",
    "        except:\n",
    "            print(f)\n",
    "    test = train[n_train:].reset_index(drop=True)\n",
    "    train = train[:n_train]\n",
    "    return train, test"
   ]
  },
  {
   "cell_type": "markdown",
   "metadata": {
    "papermill": {
     "duration": 0.020389,
     "end_time": "2020-10-11T16:58:36.762523",
     "exception": false,
     "start_time": "2020-10-11T16:58:36.742134",
     "status": "completed"
    },
    "tags": []
   },
   "source": [
    "# Training Utils"
   ]
  },
  {
   "cell_type": "code",
   "execution_count": 8,
   "metadata": {
    "execution": {
     "iopub.execute_input": "2020-10-11T16:58:36.829294Z",
     "iopub.status.busy": "2020-10-11T16:58:36.828137Z",
     "iopub.status.idle": "2020-10-11T16:58:36.832187Z",
     "shell.execute_reply": "2020-10-11T16:58:36.831414Z"
    },
    "papermill": {
     "duration": 0.049113,
     "end_time": "2020-10-11T16:58:36.832315",
     "exception": false,
     "start_time": "2020-10-11T16:58:36.783202",
     "status": "completed"
    },
    "tags": []
   },
   "outputs": [],
   "source": [
    "#===========================================================\n",
    "# model\n",
    "#===========================================================\n",
    "def run_lgbm(target_col: str):\n",
    "    \n",
    "    target = train_targets_scored[target_col]\n",
    "    ctr = train[train.cp_type==0].copy().reset_index(drop=True)\n",
    "    trt = train[target==1].copy().reset_index(drop=True)\n",
    "    trt[\"target\"] = 1\n",
    "    ctr[\"target\"] = 0\n",
    "\n",
    "    X_train = pd.concat([trt, ctr],axis=0).reset_index(drop=True)\n",
    "    y_train = X_train[\"target\"]\n",
    "    \n",
    "    X_train = X_train.drop([\"sig_id\", \"target\", \"cp_type\"], axis=1)\n",
    "    X_test = test.drop([\"sig_id\", \"cp_type\"], axis=1)\n",
    "    \n",
    "    y_preds = []\n",
    "    models = []\n",
    "    oof_train = np.zeros((len(X_train),))\n",
    "    score = 0\n",
    "    \n",
    "    for fold_, (train_index, valid_index) in enumerate(cv.split(X_train, y_train)):\n",
    "        logger.info(f'len(train_index) : {len(train_index)}')\n",
    "        logger.info(f'len(valid_index) : {len(valid_index)}')\n",
    "        \n",
    "        X_tr = X_train.loc[train_index, :]\n",
    "        X_val = X_train.loc[valid_index, :]\n",
    "        y_tr = y_train[train_index]\n",
    "        y_val = y_train[valid_index]\n",
    "\n",
    "        lgb_train = lgb.Dataset(X_tr,\n",
    "                                y_tr,\n",
    "                                categorical_feature=categorical_cols)\n",
    "\n",
    "        lgb_eval = lgb.Dataset(X_val,\n",
    "                               y_val,\n",
    "                               reference=lgb_train,\n",
    "                               categorical_feature=categorical_cols)\n",
    "        \n",
    "        logger.info(f\"================================= {fold_+1}fold lightgbm =================================\")\n",
    "\n",
    "        model = lgb.train(params,\n",
    "                          lgb_train,\n",
    "                          valid_sets=[lgb_train, lgb_eval],\n",
    "                          verbose_eval=20,\n",
    "                          num_boost_round=Num_boost_round,\n",
    "                          early_stopping_rounds=Early_stopping_rounds)\n",
    "        \n",
    "        oof_train[valid_index] = model.predict(X_val, num_iteration=model.best_iteration)\n",
    "\n",
    "\n",
    "        y_pred = model.predict(X_test, num_iteration=model.best_iteration)\n",
    "\n",
    "        y_preds.append(y_pred)\n",
    "        models.append(model)\n",
    "    \n",
    "    score = log_loss(y_train, oof_train)\n",
    "    \n",
    "    logger.info(f\"{target_col} logloss: {score}\")\n",
    "    logger.info(f\"=========================================================================================\")\n",
    "\n",
    "    return sum(y_preds) / len(y_preds), score, models, "
   ]
  },
  {
   "cell_type": "code",
   "execution_count": 9,
   "metadata": {
    "execution": {
     "iopub.execute_input": "2020-10-11T16:58:36.886845Z",
     "iopub.status.busy": "2020-10-11T16:58:36.885837Z",
     "iopub.status.idle": "2020-10-11T16:58:36.889844Z",
     "shell.execute_reply": "2020-10-11T16:58:36.889173Z"
    },
    "papermill": {
     "duration": 0.036279,
     "end_time": "2020-10-11T16:58:36.890019",
     "exception": false,
     "start_time": "2020-10-11T16:58:36.853740",
     "status": "completed"
    },
    "tags": []
   },
   "outputs": [],
   "source": [
    "def show_feature_importance(feature_importance_df):\n",
    "    cols = (feature_importance_df[[\"Feature\", \"importance\"]]\n",
    "            .groupby(\"Feature\")\n",
    "            .mean()\n",
    "            .sort_values(by=\"importance\", ascending=False)[:100].index)\n",
    "    best_features = feature_importance_df.loc[feature_importance_df.Feature.isin(cols)]\n",
    "\n",
    "    plt.figure(figsize=(8, 30))\n",
    "    sns.barplot(x=\"importance\", \n",
    "                y=\"Feature\", \n",
    "                data=best_features.sort_values(by=\"importance\", ascending=False))\n",
    "    plt.title('Features importance (averaged)')\n",
    "    plt.tight_layout()\n",
    "    plt.savefig(f\"./feature_importance_{Version}.png\")\n",
    "    plt.show()"
   ]
  },
  {
   "cell_type": "markdown",
   "metadata": {
    "papermill": {
     "duration": 0.02166,
     "end_time": "2020-10-11T16:58:36.933123",
     "exception": false,
     "start_time": "2020-10-11T16:58:36.911463",
     "status": "completed"
    },
    "tags": []
   },
   "source": [
    "# Preprocessing\n",
    "\n",
    "We have to convert some categorical features into numbers in train and test. We can identify categorical features by `pd.DataFrame.select_dtypes`."
   ]
  },
  {
   "cell_type": "code",
   "execution_count": 10,
   "metadata": {
    "execution": {
     "iopub.execute_input": "2020-10-11T16:58:36.988709Z",
     "iopub.status.busy": "2020-10-11T16:58:36.987874Z",
     "iopub.status.idle": "2020-10-11T16:58:37.024566Z",
     "shell.execute_reply": "2020-10-11T16:58:37.025221Z"
    },
    "papermill": {
     "duration": 0.070321,
     "end_time": "2020-10-11T16:58:37.025403",
     "exception": false,
     "start_time": "2020-10-11T16:58:36.955082",
     "status": "completed"
    },
    "tags": []
   },
   "outputs": [
    {
     "data": {
      "text/html": [
       "<div>\n",
       "<style scoped>\n",
       "    .dataframe tbody tr th:only-of-type {\n",
       "        vertical-align: middle;\n",
       "    }\n",
       "\n",
       "    .dataframe tbody tr th {\n",
       "        vertical-align: top;\n",
       "    }\n",
       "\n",
       "    .dataframe thead th {\n",
       "        text-align: right;\n",
       "    }\n",
       "</style>\n",
       "<table border=\"1\" class=\"dataframe\">\n",
       "  <thead>\n",
       "    <tr style=\"text-align: right;\">\n",
       "      <th></th>\n",
       "      <th>sig_id</th>\n",
       "      <th>cp_type</th>\n",
       "      <th>cp_time</th>\n",
       "      <th>cp_dose</th>\n",
       "      <th>g-0</th>\n",
       "      <th>g-1</th>\n",
       "      <th>g-2</th>\n",
       "      <th>g-3</th>\n",
       "      <th>g-4</th>\n",
       "      <th>g-5</th>\n",
       "      <th>...</th>\n",
       "      <th>c-90</th>\n",
       "      <th>c-91</th>\n",
       "      <th>c-92</th>\n",
       "      <th>c-93</th>\n",
       "      <th>c-94</th>\n",
       "      <th>c-95</th>\n",
       "      <th>c-96</th>\n",
       "      <th>c-97</th>\n",
       "      <th>c-98</th>\n",
       "      <th>c-99</th>\n",
       "    </tr>\n",
       "  </thead>\n",
       "  <tbody>\n",
       "    <tr>\n",
       "      <th>0</th>\n",
       "      <td>id_000644bb2</td>\n",
       "      <td>trt_cp</td>\n",
       "      <td>24</td>\n",
       "      <td>D1</td>\n",
       "      <td>1.0620</td>\n",
       "      <td>0.5577</td>\n",
       "      <td>-0.2479</td>\n",
       "      <td>-0.6208</td>\n",
       "      <td>-0.1944</td>\n",
       "      <td>-1.0120</td>\n",
       "      <td>...</td>\n",
       "      <td>0.2862</td>\n",
       "      <td>0.2584</td>\n",
       "      <td>0.8076</td>\n",
       "      <td>0.5523</td>\n",
       "      <td>-0.1912</td>\n",
       "      <td>0.6584</td>\n",
       "      <td>-0.3981</td>\n",
       "      <td>0.2139</td>\n",
       "      <td>0.3801</td>\n",
       "      <td>0.4176</td>\n",
       "    </tr>\n",
       "    <tr>\n",
       "      <th>1</th>\n",
       "      <td>id_000779bfc</td>\n",
       "      <td>trt_cp</td>\n",
       "      <td>72</td>\n",
       "      <td>D1</td>\n",
       "      <td>0.0743</td>\n",
       "      <td>0.4087</td>\n",
       "      <td>0.2991</td>\n",
       "      <td>0.0604</td>\n",
       "      <td>1.0190</td>\n",
       "      <td>0.5207</td>\n",
       "      <td>...</td>\n",
       "      <td>-0.4265</td>\n",
       "      <td>0.7543</td>\n",
       "      <td>0.4708</td>\n",
       "      <td>0.0230</td>\n",
       "      <td>0.2957</td>\n",
       "      <td>0.4899</td>\n",
       "      <td>0.1522</td>\n",
       "      <td>0.1241</td>\n",
       "      <td>0.6077</td>\n",
       "      <td>0.7371</td>\n",
       "    </tr>\n",
       "    <tr>\n",
       "      <th>2</th>\n",
       "      <td>id_000a6266a</td>\n",
       "      <td>trt_cp</td>\n",
       "      <td>48</td>\n",
       "      <td>D1</td>\n",
       "      <td>0.6280</td>\n",
       "      <td>0.5817</td>\n",
       "      <td>1.5540</td>\n",
       "      <td>-0.0764</td>\n",
       "      <td>-0.0323</td>\n",
       "      <td>1.2390</td>\n",
       "      <td>...</td>\n",
       "      <td>-0.7250</td>\n",
       "      <td>-0.6297</td>\n",
       "      <td>0.6103</td>\n",
       "      <td>0.0223</td>\n",
       "      <td>-1.3240</td>\n",
       "      <td>-0.3174</td>\n",
       "      <td>-0.6417</td>\n",
       "      <td>-0.2187</td>\n",
       "      <td>-1.4080</td>\n",
       "      <td>0.6931</td>\n",
       "    </tr>\n",
       "    <tr>\n",
       "      <th>3</th>\n",
       "      <td>id_0015fd391</td>\n",
       "      <td>trt_cp</td>\n",
       "      <td>48</td>\n",
       "      <td>D1</td>\n",
       "      <td>-0.5138</td>\n",
       "      <td>-0.2491</td>\n",
       "      <td>-0.2656</td>\n",
       "      <td>0.5288</td>\n",
       "      <td>4.0620</td>\n",
       "      <td>-0.8095</td>\n",
       "      <td>...</td>\n",
       "      <td>-2.0990</td>\n",
       "      <td>-0.6441</td>\n",
       "      <td>-5.6300</td>\n",
       "      <td>-1.3780</td>\n",
       "      <td>-0.8632</td>\n",
       "      <td>-1.2880</td>\n",
       "      <td>-1.6210</td>\n",
       "      <td>-0.8784</td>\n",
       "      <td>-0.3876</td>\n",
       "      <td>-0.8154</td>\n",
       "    </tr>\n",
       "    <tr>\n",
       "      <th>4</th>\n",
       "      <td>id_001626bd3</td>\n",
       "      <td>trt_cp</td>\n",
       "      <td>72</td>\n",
       "      <td>D2</td>\n",
       "      <td>-0.3254</td>\n",
       "      <td>-0.4009</td>\n",
       "      <td>0.9700</td>\n",
       "      <td>0.6919</td>\n",
       "      <td>1.4180</td>\n",
       "      <td>-0.8244</td>\n",
       "      <td>...</td>\n",
       "      <td>0.0042</td>\n",
       "      <td>0.0048</td>\n",
       "      <td>0.6670</td>\n",
       "      <td>1.0690</td>\n",
       "      <td>0.5523</td>\n",
       "      <td>-0.3031</td>\n",
       "      <td>0.1094</td>\n",
       "      <td>0.2885</td>\n",
       "      <td>-0.3786</td>\n",
       "      <td>0.7125</td>\n",
       "    </tr>\n",
       "  </tbody>\n",
       "</table>\n",
       "<p>5 rows × 876 columns</p>\n",
       "</div>"
      ],
      "text/plain": [
       "         sig_id cp_type  cp_time cp_dose     g-0     g-1     g-2     g-3  \\\n",
       "0  id_000644bb2  trt_cp       24      D1  1.0620  0.5577 -0.2479 -0.6208   \n",
       "1  id_000779bfc  trt_cp       72      D1  0.0743  0.4087  0.2991  0.0604   \n",
       "2  id_000a6266a  trt_cp       48      D1  0.6280  0.5817  1.5540 -0.0764   \n",
       "3  id_0015fd391  trt_cp       48      D1 -0.5138 -0.2491 -0.2656  0.5288   \n",
       "4  id_001626bd3  trt_cp       72      D2 -0.3254 -0.4009  0.9700  0.6919   \n",
       "\n",
       "      g-4     g-5  ...    c-90    c-91    c-92    c-93    c-94    c-95  \\\n",
       "0 -0.1944 -1.0120  ...  0.2862  0.2584  0.8076  0.5523 -0.1912  0.6584   \n",
       "1  1.0190  0.5207  ... -0.4265  0.7543  0.4708  0.0230  0.2957  0.4899   \n",
       "2 -0.0323  1.2390  ... -0.7250 -0.6297  0.6103  0.0223 -1.3240 -0.3174   \n",
       "3  4.0620 -0.8095  ... -2.0990 -0.6441 -5.6300 -1.3780 -0.8632 -1.2880   \n",
       "4  1.4180 -0.8244  ...  0.0042  0.0048  0.6670  1.0690  0.5523 -0.3031   \n",
       "\n",
       "     c-96    c-97    c-98    c-99  \n",
       "0 -0.3981  0.2139  0.3801  0.4176  \n",
       "1  0.1522  0.1241  0.6077  0.7371  \n",
       "2 -0.6417 -0.2187 -1.4080  0.6931  \n",
       "3 -1.6210 -0.8784 -0.3876 -0.8154  \n",
       "4  0.1094  0.2885 -0.3786  0.7125  \n",
       "\n",
       "[5 rows x 876 columns]"
      ]
     },
     "execution_count": 10,
     "metadata": {},
     "output_type": "execute_result"
    }
   ],
   "source": [
    "train.head()"
   ]
  },
  {
   "cell_type": "code",
   "execution_count": 11,
   "metadata": {
    "execution": {
     "iopub.execute_input": "2020-10-11T16:58:37.088583Z",
     "iopub.status.busy": "2020-10-11T16:58:37.077797Z",
     "iopub.status.idle": "2020-10-11T16:58:37.093229Z",
     "shell.execute_reply": "2020-10-11T16:58:37.093787Z"
    },
    "papermill": {
     "duration": 0.045214,
     "end_time": "2020-10-11T16:58:37.093981",
     "exception": false,
     "start_time": "2020-10-11T16:58:37.048767",
     "status": "completed"
    },
    "tags": []
   },
   "outputs": [
    {
     "data": {
      "text/plain": [
       "Index(['sig_id', 'cp_type', 'cp_dose'], dtype='object')"
      ]
     },
     "execution_count": 11,
     "metadata": {},
     "output_type": "execute_result"
    }
   ],
   "source": [
    "train.select_dtypes(include=['object']).columns"
   ]
  },
  {
   "cell_type": "code",
   "execution_count": 12,
   "metadata": {
    "execution": {
     "iopub.execute_input": "2020-10-11T16:58:37.149812Z",
     "iopub.status.busy": "2020-10-11T16:58:37.148140Z",
     "iopub.status.idle": "2020-10-11T16:58:37.478500Z",
     "shell.execute_reply": "2020-10-11T16:58:37.477684Z"
    },
    "papermill": {
     "duration": 0.360918,
     "end_time": "2020-10-11T16:58:37.478668",
     "exception": false,
     "start_time": "2020-10-11T16:58:37.117750",
     "status": "completed"
    },
    "tags": []
   },
   "outputs": [],
   "source": [
    "train, test = label_encoding(train, test, ['cp_type', 'cp_dose'])"
   ]
  },
  {
   "cell_type": "code",
   "execution_count": 13,
   "metadata": {
    "execution": {
     "iopub.execute_input": "2020-10-11T16:58:37.540724Z",
     "iopub.status.busy": "2020-10-11T16:58:37.531991Z",
     "iopub.status.idle": "2020-10-11T16:58:37.561417Z",
     "shell.execute_reply": "2020-10-11T16:58:37.560630Z"
    },
    "papermill": {
     "duration": 0.059679,
     "end_time": "2020-10-11T16:58:37.561569",
     "exception": false,
     "start_time": "2020-10-11T16:58:37.501890",
     "status": "completed"
    },
    "tags": []
   },
   "outputs": [
    {
     "data": {
      "text/html": [
       "<div>\n",
       "<style scoped>\n",
       "    .dataframe tbody tr th:only-of-type {\n",
       "        vertical-align: middle;\n",
       "    }\n",
       "\n",
       "    .dataframe tbody tr th {\n",
       "        vertical-align: top;\n",
       "    }\n",
       "\n",
       "    .dataframe thead th {\n",
       "        text-align: right;\n",
       "    }\n",
       "</style>\n",
       "<table border=\"1\" class=\"dataframe\">\n",
       "  <thead>\n",
       "    <tr style=\"text-align: right;\">\n",
       "      <th></th>\n",
       "      <th>sig_id</th>\n",
       "      <th>cp_type</th>\n",
       "      <th>cp_time</th>\n",
       "      <th>cp_dose</th>\n",
       "      <th>g-0</th>\n",
       "      <th>g-1</th>\n",
       "      <th>g-2</th>\n",
       "      <th>g-3</th>\n",
       "      <th>g-4</th>\n",
       "      <th>g-5</th>\n",
       "      <th>...</th>\n",
       "      <th>c-90</th>\n",
       "      <th>c-91</th>\n",
       "      <th>c-92</th>\n",
       "      <th>c-93</th>\n",
       "      <th>c-94</th>\n",
       "      <th>c-95</th>\n",
       "      <th>c-96</th>\n",
       "      <th>c-97</th>\n",
       "      <th>c-98</th>\n",
       "      <th>c-99</th>\n",
       "    </tr>\n",
       "  </thead>\n",
       "  <tbody>\n",
       "    <tr>\n",
       "      <th>0</th>\n",
       "      <td>id_000644bb2</td>\n",
       "      <td>1</td>\n",
       "      <td>24</td>\n",
       "      <td>0</td>\n",
       "      <td>1.0620</td>\n",
       "      <td>0.5577</td>\n",
       "      <td>-0.2479</td>\n",
       "      <td>-0.6208</td>\n",
       "      <td>-0.1944</td>\n",
       "      <td>-1.0120</td>\n",
       "      <td>...</td>\n",
       "      <td>0.2862</td>\n",
       "      <td>0.2584</td>\n",
       "      <td>0.8076</td>\n",
       "      <td>0.5523</td>\n",
       "      <td>-0.1912</td>\n",
       "      <td>0.6584</td>\n",
       "      <td>-0.3981</td>\n",
       "      <td>0.2139</td>\n",
       "      <td>0.3801</td>\n",
       "      <td>0.4176</td>\n",
       "    </tr>\n",
       "    <tr>\n",
       "      <th>1</th>\n",
       "      <td>id_000779bfc</td>\n",
       "      <td>1</td>\n",
       "      <td>72</td>\n",
       "      <td>0</td>\n",
       "      <td>0.0743</td>\n",
       "      <td>0.4087</td>\n",
       "      <td>0.2991</td>\n",
       "      <td>0.0604</td>\n",
       "      <td>1.0190</td>\n",
       "      <td>0.5207</td>\n",
       "      <td>...</td>\n",
       "      <td>-0.4265</td>\n",
       "      <td>0.7543</td>\n",
       "      <td>0.4708</td>\n",
       "      <td>0.0230</td>\n",
       "      <td>0.2957</td>\n",
       "      <td>0.4899</td>\n",
       "      <td>0.1522</td>\n",
       "      <td>0.1241</td>\n",
       "      <td>0.6077</td>\n",
       "      <td>0.7371</td>\n",
       "    </tr>\n",
       "    <tr>\n",
       "      <th>2</th>\n",
       "      <td>id_000a6266a</td>\n",
       "      <td>1</td>\n",
       "      <td>48</td>\n",
       "      <td>0</td>\n",
       "      <td>0.6280</td>\n",
       "      <td>0.5817</td>\n",
       "      <td>1.5540</td>\n",
       "      <td>-0.0764</td>\n",
       "      <td>-0.0323</td>\n",
       "      <td>1.2390</td>\n",
       "      <td>...</td>\n",
       "      <td>-0.7250</td>\n",
       "      <td>-0.6297</td>\n",
       "      <td>0.6103</td>\n",
       "      <td>0.0223</td>\n",
       "      <td>-1.3240</td>\n",
       "      <td>-0.3174</td>\n",
       "      <td>-0.6417</td>\n",
       "      <td>-0.2187</td>\n",
       "      <td>-1.4080</td>\n",
       "      <td>0.6931</td>\n",
       "    </tr>\n",
       "    <tr>\n",
       "      <th>3</th>\n",
       "      <td>id_0015fd391</td>\n",
       "      <td>1</td>\n",
       "      <td>48</td>\n",
       "      <td>0</td>\n",
       "      <td>-0.5138</td>\n",
       "      <td>-0.2491</td>\n",
       "      <td>-0.2656</td>\n",
       "      <td>0.5288</td>\n",
       "      <td>4.0620</td>\n",
       "      <td>-0.8095</td>\n",
       "      <td>...</td>\n",
       "      <td>-2.0990</td>\n",
       "      <td>-0.6441</td>\n",
       "      <td>-5.6300</td>\n",
       "      <td>-1.3780</td>\n",
       "      <td>-0.8632</td>\n",
       "      <td>-1.2880</td>\n",
       "      <td>-1.6210</td>\n",
       "      <td>-0.8784</td>\n",
       "      <td>-0.3876</td>\n",
       "      <td>-0.8154</td>\n",
       "    </tr>\n",
       "    <tr>\n",
       "      <th>4</th>\n",
       "      <td>id_001626bd3</td>\n",
       "      <td>1</td>\n",
       "      <td>72</td>\n",
       "      <td>1</td>\n",
       "      <td>-0.3254</td>\n",
       "      <td>-0.4009</td>\n",
       "      <td>0.9700</td>\n",
       "      <td>0.6919</td>\n",
       "      <td>1.4180</td>\n",
       "      <td>-0.8244</td>\n",
       "      <td>...</td>\n",
       "      <td>0.0042</td>\n",
       "      <td>0.0048</td>\n",
       "      <td>0.6670</td>\n",
       "      <td>1.0690</td>\n",
       "      <td>0.5523</td>\n",
       "      <td>-0.3031</td>\n",
       "      <td>0.1094</td>\n",
       "      <td>0.2885</td>\n",
       "      <td>-0.3786</td>\n",
       "      <td>0.7125</td>\n",
       "    </tr>\n",
       "  </tbody>\n",
       "</table>\n",
       "<p>5 rows × 876 columns</p>\n",
       "</div>"
      ],
      "text/plain": [
       "         sig_id  cp_type  cp_time  cp_dose     g-0     g-1     g-2     g-3  \\\n",
       "0  id_000644bb2        1       24        0  1.0620  0.5577 -0.2479 -0.6208   \n",
       "1  id_000779bfc        1       72        0  0.0743  0.4087  0.2991  0.0604   \n",
       "2  id_000a6266a        1       48        0  0.6280  0.5817  1.5540 -0.0764   \n",
       "3  id_0015fd391        1       48        0 -0.5138 -0.2491 -0.2656  0.5288   \n",
       "4  id_001626bd3        1       72        1 -0.3254 -0.4009  0.9700  0.6919   \n",
       "\n",
       "      g-4     g-5  ...    c-90    c-91    c-92    c-93    c-94    c-95  \\\n",
       "0 -0.1944 -1.0120  ...  0.2862  0.2584  0.8076  0.5523 -0.1912  0.6584   \n",
       "1  1.0190  0.5207  ... -0.4265  0.7543  0.4708  0.0230  0.2957  0.4899   \n",
       "2 -0.0323  1.2390  ... -0.7250 -0.6297  0.6103  0.0223 -1.3240 -0.3174   \n",
       "3  4.0620 -0.8095  ... -2.0990 -0.6441 -5.6300 -1.3780 -0.8632 -1.2880   \n",
       "4  1.4180 -0.8244  ...  0.0042  0.0048  0.6670  1.0690  0.5523 -0.3031   \n",
       "\n",
       "     c-96    c-97    c-98    c-99  \n",
       "0 -0.3981  0.2139  0.3801  0.4176  \n",
       "1  0.1522  0.1241  0.6077  0.7371  \n",
       "2 -0.6417 -0.2187 -1.4080  0.6931  \n",
       "3 -1.6210 -0.8784 -0.3876 -0.8154  \n",
       "4  0.1094  0.2885 -0.3786  0.7125  \n",
       "\n",
       "[5 rows x 876 columns]"
      ]
     },
     "execution_count": 13,
     "metadata": {},
     "output_type": "execute_result"
    }
   ],
   "source": [
    "train.head()"
   ]
  },
  {
   "cell_type": "markdown",
   "metadata": {
    "papermill": {
     "duration": 0.023953,
     "end_time": "2020-10-11T16:58:37.610132",
     "exception": false,
     "start_time": "2020-10-11T16:58:37.586179",
     "status": "completed"
    },
    "tags": []
   },
   "source": [
    "# Modeling"
   ]
  },
  {
   "cell_type": "code",
   "execution_count": 14,
   "metadata": {
    "execution": {
     "iopub.execute_input": "2020-10-11T16:58:37.668366Z",
     "iopub.status.busy": "2020-10-11T16:58:37.667315Z",
     "iopub.status.idle": "2020-10-11T16:58:37.670479Z",
     "shell.execute_reply": "2020-10-11T16:58:37.671040Z"
    },
    "papermill": {
     "duration": 0.036708,
     "end_time": "2020-10-11T16:58:37.671231",
     "exception": false,
     "start_time": "2020-10-11T16:58:37.634523",
     "status": "completed"
    },
    "tags": []
   },
   "outputs": [],
   "source": [
    "cv = StratifiedKFold(n_splits=N_FOLD, shuffle=True, random_state=SEED)\n",
    "\n",
    "params = {\n",
    "    'num_leaves': 24,\n",
    "    'max_depth': 5,\n",
    "    'objective': 'binary',\n",
    "    'learning_rate': Learning_rate\n",
    "}\n",
    "\n",
    "categorical_cols = ['cp_time', 'cp_dose']\n",
    "feature_importance_df = pd.DataFrame()\n",
    "models = []\n",
    "scores = []"
   ]
  },
  {
   "cell_type": "code",
   "execution_count": 15,
   "metadata": {
    "execution": {
     "iopub.execute_input": "2020-10-11T16:58:37.730853Z",
     "iopub.status.busy": "2020-10-11T16:58:37.729735Z",
     "iopub.status.idle": "2020-10-11T17:25:41.467276Z",
     "shell.execute_reply": "2020-10-11T17:25:41.468100Z"
    },
    "papermill": {
     "duration": 1623.772807,
     "end_time": "2020-10-11T17:25:41.468346",
     "exception": false,
     "start_time": "2020-10-11T16:58:37.695539",
     "status": "completed"
    },
    "tags": []
   },
   "outputs": [
    {
     "data": {
      "application/vnd.jupyter.widget-view+json": {
       "model_id": "95fe813b2bb342babcde99334f3242ab",
       "version_major": 2,
       "version_minor": 0
      },
      "text/plain": [
       "HBox(children=(FloatProgress(value=0.0, max=206.0), HTML(value='')))"
      ]
     },
     "metadata": {},
     "output_type": "display_data"
    },
    {
     "name": "stderr",
     "output_type": "stream",
     "text": [
      "len(train_index) : 941\n",
      "len(valid_index) : 942\n",
      "================================= 1fold lightgbm =================================\n"
     ]
    },
    {
     "name": "stdout",
     "output_type": "stream",
     "text": [
      "Training until validation scores don't improve for 10 rounds\n",
      "[20]\ttraining's binary_logloss: 0.0135585\tvalid_1's binary_logloss: 0.0381451\n",
      "[40]\ttraining's binary_logloss: 0.00685197\tvalid_1's binary_logloss: 0.0349226\n",
      "[60]\ttraining's binary_logloss: 0.00372096\tvalid_1's binary_logloss: 0.0340594\n"
     ]
    },
    {
     "name": "stderr",
     "output_type": "stream",
     "text": [
      "len(train_index) : 942\n",
      "len(valid_index) : 941\n",
      "================================= 2fold lightgbm =================================\n"
     ]
    },
    {
     "name": "stdout",
     "output_type": "stream",
     "text": [
      "Early stopping, best iteration is:\n",
      "[66]\ttraining's binary_logloss: 0.00311894\tvalid_1's binary_logloss: 0.0336927\n",
      "Training until validation scores don't improve for 10 rounds\n",
      "[20]\ttraining's binary_logloss: 0.0150128\tvalid_1's binary_logloss: 0.0367205\n",
      "[40]\ttraining's binary_logloss: 0.00747461\tvalid_1's binary_logloss: 0.0346958\n"
     ]
    },
    {
     "name": "stderr",
     "output_type": "stream",
     "text": [
      "5-alpha_reductase_inhibitor logloss: 0.0341905726752713\n",
      "=========================================================================================\n",
      "len(train_index) : 942\n",
      "len(valid_index) : 942\n"
     ]
    },
    {
     "name": "stdout",
     "output_type": "stream",
     "text": [
      "Early stopping, best iteration is:\n",
      "[49]\ttraining's binary_logloss: 0.00561815\tvalid_1's binary_logloss: 0.034689\n"
     ]
    },
    {
     "name": "stderr",
     "output_type": "stream",
     "text": [
      "================================= 1fold lightgbm =================================\n"
     ]
    },
    {
     "name": "stdout",
     "output_type": "stream",
     "text": [
      "Training until validation scores don't improve for 10 rounds\n",
      "[20]\ttraining's binary_logloss: 0.0162581\tvalid_1's binary_logloss: 0.0458677\n",
      "[40]\ttraining's binary_logloss: 0.00814828\tvalid_1's binary_logloss: 0.0433347\n"
     ]
    },
    {
     "name": "stderr",
     "output_type": "stream",
     "text": [
      "len(train_index) : 942\n",
      "len(valid_index) : 942\n",
      "================================= 2fold lightgbm =================================\n"
     ]
    },
    {
     "name": "stdout",
     "output_type": "stream",
     "text": [
      "[60]\ttraining's binary_logloss: 0.00443074\tvalid_1's binary_logloss: 0.0427138\n",
      "Early stopping, best iteration is:\n",
      "[50]\ttraining's binary_logloss: 0.00597028\tvalid_1's binary_logloss: 0.0425985\n",
      "Training until validation scores don't improve for 10 rounds\n",
      "[20]\ttraining's binary_logloss: 0.0153341\tvalid_1's binary_logloss: 0.0433683\n",
      "[40]\ttraining's binary_logloss: 0.00771093\tvalid_1's binary_logloss: 0.0406359\n",
      "[60]\ttraining's binary_logloss: 0.00415615\tvalid_1's binary_logloss: 0.0401601\n",
      "[80]\ttraining's binary_logloss: 0.00229426\tvalid_1's binary_logloss: 0.0398065\n"
     ]
    },
    {
     "name": "stderr",
     "output_type": "stream",
     "text": [
      "11-beta-hsd1_inhibitor logloss: 0.04112415659283485\n",
      "=========================================================================================\n"
     ]
    },
    {
     "name": "stdout",
     "output_type": "stream",
     "text": [
      "Early stopping, best iteration is:\n",
      "[82]\ttraining's binary_logloss: 0.00216455\tvalid_1's binary_logloss: 0.0396498\n"
     ]
    },
    {
     "name": "stderr",
     "output_type": "stream",
     "text": [
      "len(train_index) : 945\n",
      "len(valid_index) : 945\n",
      "================================= 1fold lightgbm =================================\n"
     ]
    },
    {
     "name": "stdout",
     "output_type": "stream",
     "text": [
      "Training until validation scores don't improve for 10 rounds\n"
     ]
    },
    {
     "name": "stderr",
     "output_type": "stream",
     "text": [
      "len(train_index) : 945\n",
      "len(valid_index) : 945\n",
      "================================= 2fold lightgbm =================================\n"
     ]
    },
    {
     "name": "stdout",
     "output_type": "stream",
     "text": [
      "Early stopping, best iteration is:\n",
      "[7]\ttraining's binary_logloss: 0.0435489\tvalid_1's binary_logloss: 0.065465\n",
      "Training until validation scores don't improve for 10 rounds\n",
      "[20]\ttraining's binary_logloss: 0.0241527\tvalid_1's binary_logloss: 0.0651224\n",
      "[40]\ttraining's binary_logloss: 0.0122084\tvalid_1's binary_logloss: 0.0649971\n",
      "Early stopping, best iteration is:\n",
      "[34]\ttraining's binary_logloss: 0.0147466\tvalid_1's binary_logloss: 0.0645743\n"
     ]
    },
    {
     "name": "stderr",
     "output_type": "stream",
     "text": [
      "acat_inhibitor logloss: 0.06501963398562491\n",
      "=========================================================================================\n",
      "len(train_index) : 1028\n",
      "len(valid_index) : 1028\n",
      "================================= 1fold lightgbm =================================\n"
     ]
    },
    {
     "name": "stdout",
     "output_type": "stream",
     "text": [
      "Training until validation scores don't improve for 10 rounds\n",
      "[20]\ttraining's binary_logloss: 0.166383\tvalid_1's binary_logloss: 0.257884\n",
      "[40]\ttraining's binary_logloss: 0.106397\tvalid_1's binary_logloss: 0.24102\n",
      "[60]\ttraining's binary_logloss: 0.0693081\tvalid_1's binary_logloss: 0.232366\n",
      "[80]\ttraining's binary_logloss: 0.0473612\tvalid_1's binary_logloss: 0.228961\n"
     ]
    },
    {
     "name": "stderr",
     "output_type": "stream",
     "text": [
      "len(train_index) : 1028\n",
      "len(valid_index) : 1028\n",
      "================================= 2fold lightgbm =================================\n"
     ]
    },
    {
     "name": "stdout",
     "output_type": "stream",
     "text": [
      "Early stopping, best iteration is:\n",
      "[86]\ttraining's binary_logloss: 0.0422394\tvalid_1's binary_logloss: 0.227904\n",
      "Training until validation scores don't improve for 10 rounds\n",
      "[20]\ttraining's binary_logloss: 0.171842\tvalid_1's binary_logloss: 0.256847\n",
      "[40]\ttraining's binary_logloss: 0.113072\tvalid_1's binary_logloss: 0.235345\n",
      "[60]\ttraining's binary_logloss: 0.0778781\tvalid_1's binary_logloss: 0.225151\n",
      "[80]\ttraining's binary_logloss: 0.0548367\tvalid_1's binary_logloss: 0.219923\n",
      "[100]\ttraining's binary_logloss: 0.0392923\tvalid_1's binary_logloss: 0.217423\n",
      "[120]\ttraining's binary_logloss: 0.0283365\tvalid_1's binary_logloss: 0.216669\n"
     ]
    },
    {
     "name": "stderr",
     "output_type": "stream",
     "text": [
      "acetylcholine_receptor_agonist logloss: 0.2222406220238216\n",
      "=========================================================================================\n"
     ]
    },
    {
     "name": "stdout",
     "output_type": "stream",
     "text": [
      "Early stopping, best iteration is:\n",
      "[121]\ttraining's binary_logloss: 0.0278795\tvalid_1's binary_logloss: 0.216577\n"
     ]
    },
    {
     "name": "stderr",
     "output_type": "stream",
     "text": [
      "len(train_index) : 1083\n",
      "len(valid_index) : 1084\n",
      "================================= 1fold lightgbm =================================\n"
     ]
    },
    {
     "name": "stdout",
     "output_type": "stream",
     "text": [
      "Training until validation scores don't improve for 10 rounds\n",
      "[20]\ttraining's binary_logloss: 0.219358\tvalid_1's binary_logloss: 0.304389\n",
      "[40]\ttraining's binary_logloss: 0.138886\tvalid_1's binary_logloss: 0.263599\n",
      "[60]\ttraining's binary_logloss: 0.0918732\tvalid_1's binary_logloss: 0.239478\n",
      "[80]\ttraining's binary_logloss: 0.063061\tvalid_1's binary_logloss: 0.22375\n",
      "[100]\ttraining's binary_logloss: 0.0437268\tvalid_1's binary_logloss: 0.215194\n",
      "[120]\ttraining's binary_logloss: 0.0307662\tvalid_1's binary_logloss: 0.211724\n",
      "[140]\ttraining's binary_logloss: 0.0219744\tvalid_1's binary_logloss: 0.210772\n",
      "Early stopping, best iteration is:\n",
      "[132]\ttraining's binary_logloss: 0.0251627\tvalid_1's binary_logloss: 0.210064\n"
     ]
    },
    {
     "name": "stderr",
     "output_type": "stream",
     "text": [
      "len(train_index) : 1084\n",
      "len(valid_index) : 1083\n",
      "================================= 2fold lightgbm =================================\n"
     ]
    },
    {
     "name": "stdout",
     "output_type": "stream",
     "text": [
      "Training until validation scores don't improve for 10 rounds\n",
      "[20]\ttraining's binary_logloss: 0.225872\tvalid_1's binary_logloss: 0.294156\n",
      "[40]\ttraining's binary_logloss: 0.147725\tvalid_1's binary_logloss: 0.246784\n",
      "[60]\ttraining's binary_logloss: 0.101716\tvalid_1's binary_logloss: 0.217768\n",
      "[80]\ttraining's binary_logloss: 0.0713656\tvalid_1's binary_logloss: 0.199762\n",
      "[100]\ttraining's binary_logloss: 0.0506361\tvalid_1's binary_logloss: 0.189433\n",
      "[120]\ttraining's binary_logloss: 0.0361805\tvalid_1's binary_logloss: 0.182877\n",
      "[140]\ttraining's binary_logloss: 0.0259791\tvalid_1's binary_logloss: 0.179687\n",
      "[160]\ttraining's binary_logloss: 0.0185233\tvalid_1's binary_logloss: 0.178319\n"
     ]
    },
    {
     "name": "stderr",
     "output_type": "stream",
     "text": [
      "acetylcholine_receptor_antagonist logloss: 0.194095909562167\n",
      "=========================================================================================\n"
     ]
    },
    {
     "name": "stdout",
     "output_type": "stream",
     "text": [
      "Early stopping, best iteration is:\n",
      "[166]\ttraining's binary_logloss: 0.0167658\tvalid_1's binary_logloss: 0.178113\n"
     ]
    },
    {
     "name": "stderr",
     "output_type": "stream",
     "text": [
      "len(train_index) : 969\n",
      "len(valid_index) : 970\n",
      "================================= 1fold lightgbm =================================\n"
     ]
    },
    {
     "name": "stdout",
     "output_type": "stream",
     "text": [
      "Training until validation scores don't improve for 10 rounds\n",
      "[20]\ttraining's binary_logloss: 0.0690064\tvalid_1's binary_logloss: 0.134796\n",
      "[40]\ttraining's binary_logloss: 0.0379272\tvalid_1's binary_logloss: 0.120748\n",
      "[60]\ttraining's binary_logloss: 0.0225167\tvalid_1's binary_logloss: 0.113176\n",
      "[80]\ttraining's binary_logloss: 0.0139551\tvalid_1's binary_logloss: 0.110226\n",
      "[100]\ttraining's binary_logloss: 0.00879262\tvalid_1's binary_logloss: 0.110233\n"
     ]
    },
    {
     "name": "stderr",
     "output_type": "stream",
     "text": [
      "len(train_index) : 970\n",
      "len(valid_index) : 969\n",
      "================================= 2fold lightgbm =================================\n"
     ]
    },
    {
     "name": "stdout",
     "output_type": "stream",
     "text": [
      "Early stopping, best iteration is:\n",
      "[95]\ttraining's binary_logloss: 0.00986437\tvalid_1's binary_logloss: 0.10975\n",
      "Training until validation scores don't improve for 10 rounds\n",
      "[20]\ttraining's binary_logloss: 0.0666922\tvalid_1's binary_logloss: 0.135976\n",
      "[40]\ttraining's binary_logloss: 0.0358788\tvalid_1's binary_logloss: 0.12724\n",
      "[60]\ttraining's binary_logloss: 0.0213547\tvalid_1's binary_logloss: 0.124708\n",
      "[80]\ttraining's binary_logloss: 0.0129288\tvalid_1's binary_logloss: 0.124354\n",
      "Early stopping, best iteration is:\n",
      "[72]\ttraining's binary_logloss: 0.0156582\tvalid_1's binary_logloss: 0.123878\n"
     ]
    },
    {
     "name": "stderr",
     "output_type": "stream",
     "text": [
      "acetylcholinesterase_inhibitor logloss: 0.11681028792866632\n",
      "=========================================================================================\n",
      "len(train_index) : 960\n",
      "len(valid_index) : 960\n",
      "================================= 1fold lightgbm =================================\n"
     ]
    },
    {
     "name": "stdout",
     "output_type": "stream",
     "text": [
      "Training until validation scores don't improve for 10 rounds\n",
      "[20]\ttraining's binary_logloss: 0.0544582\tvalid_1's binary_logloss: 0.11076\n",
      "[40]\ttraining's binary_logloss: 0.0307887\tvalid_1's binary_logloss: 0.108693\n"
     ]
    },
    {
     "name": "stderr",
     "output_type": "stream",
     "text": [
      "len(train_index) : 960\n",
      "len(valid_index) : 960\n",
      "================================= 2fold lightgbm =================================\n"
     ]
    },
    {
     "name": "stdout",
     "output_type": "stream",
     "text": [
      "Early stopping, best iteration is:\n",
      "[48]\ttraining's binary_logloss: 0.0250786\tvalid_1's binary_logloss: 0.10775\n",
      "Training until validation scores don't improve for 10 rounds\n",
      "[20]\ttraining's binary_logloss: 0.0521924\tvalid_1's binary_logloss: 0.120774\n",
      "[40]\ttraining's binary_logloss: 0.0286165\tvalid_1's binary_logloss: 0.120327\n",
      "Early stopping, best iteration is:\n",
      "[33]\ttraining's binary_logloss: 0.0349145\tvalid_1's binary_logloss: 0.119254\n"
     ]
    },
    {
     "name": "stderr",
     "output_type": "stream",
     "text": [
      "adenosine_receptor_agonist logloss: 0.11350199372860653\n",
      "=========================================================================================\n",
      "len(train_index) : 981\n",
      "len(valid_index) : 981\n",
      "================================= 1fold lightgbm =================================\n"
     ]
    },
    {
     "name": "stdout",
     "output_type": "stream",
     "text": [
      "Training until validation scores don't improve for 10 rounds\n",
      "[20]\ttraining's binary_logloss: 0.0891231\tvalid_1's binary_logloss: 0.151328\n",
      "[40]\ttraining's binary_logloss: 0.0510351\tvalid_1's binary_logloss: 0.130982\n",
      "[60]\ttraining's binary_logloss: 0.0310579\tvalid_1's binary_logloss: 0.120657\n",
      "[80]\ttraining's binary_logloss: 0.0196808\tvalid_1's binary_logloss: 0.1151\n",
      "[100]\ttraining's binary_logloss: 0.0124276\tvalid_1's binary_logloss: 0.114245\n"
     ]
    },
    {
     "name": "stderr",
     "output_type": "stream",
     "text": [
      "len(train_index) : 981\n",
      "len(valid_index) : 981\n",
      "================================= 2fold lightgbm =================================\n"
     ]
    },
    {
     "name": "stdout",
     "output_type": "stream",
     "text": [
      "Early stopping, best iteration is:\n",
      "[97]\ttraining's binary_logloss: 0.0133366\tvalid_1's binary_logloss: 0.113961\n",
      "Training until validation scores don't improve for 10 rounds\n",
      "[20]\ttraining's binary_logloss: 0.0926336\tvalid_1's binary_logloss: 0.15338\n",
      "[40]\ttraining's binary_logloss: 0.051572\tvalid_1's binary_logloss: 0.130763\n",
      "[60]\ttraining's binary_logloss: 0.0315516\tvalid_1's binary_logloss: 0.121587\n",
      "[80]\ttraining's binary_logloss: 0.0195774\tvalid_1's binary_logloss: 0.118024\n"
     ]
    },
    {
     "name": "stderr",
     "output_type": "stream",
     "text": [
      "adenosine_receptor_antagonist logloss: 0.1155811819586111\n",
      "=========================================================================================\n"
     ]
    },
    {
     "name": "stdout",
     "output_type": "stream",
     "text": [
      "Early stopping, best iteration is:\n",
      "[89]\ttraining's binary_logloss: 0.0158731\tvalid_1's binary_logloss: 0.117201\n"
     ]
    },
    {
     "name": "stderr",
     "output_type": "stream",
     "text": [
      "len(train_index) : 939\n",
      "len(valid_index) : 939\n",
      "================================= 1fold lightgbm =================================\n"
     ]
    },
    {
     "name": "stdout",
     "output_type": "stream",
     "text": [
      "Training until validation scores don't improve for 10 rounds\n"
     ]
    },
    {
     "name": "stderr",
     "output_type": "stream",
     "text": [
      "len(train_index) : 939\n",
      "len(valid_index) : 939\n",
      "================================= 2fold lightgbm =================================\n"
     ]
    },
    {
     "name": "stdout",
     "output_type": "stream",
     "text": [
      "[20]\ttraining's binary_logloss: 0.0102661\tvalid_1's binary_logloss: 0.0338429\n",
      "Early stopping, best iteration is:\n",
      "[12]\ttraining's binary_logloss: 0.0140697\tvalid_1's binary_logloss: 0.0337676\n",
      "Training until validation scores don't improve for 10 rounds\n",
      "[20]\ttraining's binary_logloss: 0.01012\tvalid_1's binary_logloss: 0.0296271\n"
     ]
    },
    {
     "name": "stderr",
     "output_type": "stream",
     "text": [
      "adenylyl_cyclase_activator logloss: 0.03145272394736923\n",
      "=========================================================================================\n"
     ]
    },
    {
     "name": "stdout",
     "output_type": "stream",
     "text": [
      "[40]\ttraining's binary_logloss: 0.00513877\tvalid_1's binary_logloss: 0.0292474\n",
      "Early stopping, best iteration is:\n",
      "[32]\ttraining's binary_logloss: 0.00663272\tvalid_1's binary_logloss: 0.0291378\n"
     ]
    },
    {
     "name": "stderr",
     "output_type": "stream",
     "text": [
      "len(train_index) : 1068\n",
      "len(valid_index) : 1068\n",
      "================================= 1fold lightgbm =================================\n"
     ]
    },
    {
     "name": "stdout",
     "output_type": "stream",
     "text": [
      "Training until validation scores don't improve for 10 rounds\n",
      "[20]\ttraining's binary_logloss: 0.21013\tvalid_1's binary_logloss: 0.275499\n",
      "[40]\ttraining's binary_logloss: 0.133783\tvalid_1's binary_logloss: 0.226263\n",
      "[60]\ttraining's binary_logloss: 0.0886118\tvalid_1's binary_logloss: 0.197414\n",
      "[80]\ttraining's binary_logloss: 0.0605099\tvalid_1's binary_logloss: 0.178305\n",
      "[100]\ttraining's binary_logloss: 0.0417972\tvalid_1's binary_logloss: 0.164661\n",
      "[120]\ttraining's binary_logloss: 0.0291523\tvalid_1's binary_logloss: 0.156779\n",
      "[140]\ttraining's binary_logloss: 0.020406\tvalid_1's binary_logloss: 0.152476\n",
      "[160]\ttraining's binary_logloss: 0.0145345\tvalid_1's binary_logloss: 0.149654\n",
      "[180]\ttraining's binary_logloss: 0.0102713\tvalid_1's binary_logloss: 0.148649\n",
      "[200]\ttraining's binary_logloss: 0.00732471\tvalid_1's binary_logloss: 0.14804\n"
     ]
    },
    {
     "name": "stderr",
     "output_type": "stream",
     "text": [
      "len(train_index) : 1068\n",
      "len(valid_index) : 1068\n",
      "================================= 2fold lightgbm =================================\n"
     ]
    },
    {
     "name": "stdout",
     "output_type": "stream",
     "text": [
      "Early stopping, best iteration is:\n",
      "[203]\ttraining's binary_logloss: 0.00694918\tvalid_1's binary_logloss: 0.147801\n",
      "Training until validation scores don't improve for 10 rounds\n",
      "[20]\ttraining's binary_logloss: 0.193114\tvalid_1's binary_logloss: 0.285106\n",
      "[40]\ttraining's binary_logloss: 0.119022\tvalid_1's binary_logloss: 0.247761\n",
      "[60]\ttraining's binary_logloss: 0.0773653\tvalid_1's binary_logloss: 0.229118\n",
      "[80]\ttraining's binary_logloss: 0.0507715\tvalid_1's binary_logloss: 0.217628\n",
      "[100]\ttraining's binary_logloss: 0.033927\tvalid_1's binary_logloss: 0.21622\n"
     ]
    },
    {
     "name": "stderr",
     "output_type": "stream",
     "text": [
      "adrenergic_receptor_agonist logloss: 0.1818507024824078\n",
      "=========================================================================================\n"
     ]
    },
    {
     "name": "stdout",
     "output_type": "stream",
     "text": [
      "Early stopping, best iteration is:\n",
      "[104]\ttraining's binary_logloss: 0.031344\tvalid_1's binary_logloss: 0.2159\n"
     ]
    },
    {
     "name": "stderr",
     "output_type": "stream",
     "text": [
      "len(train_index) : 1113\n",
      "len(valid_index) : 1113\n",
      "================================= 1fold lightgbm =================================\n"
     ]
    },
    {
     "name": "stdout",
     "output_type": "stream",
     "text": [
      "Training until validation scores don't improve for 10 rounds\n",
      "[20]\ttraining's binary_logloss: 0.253674\tvalid_1's binary_logloss: 0.34575\n",
      "[40]\ttraining's binary_logloss: 0.167067\tvalid_1's binary_logloss: 0.300277\n",
      "[60]\ttraining's binary_logloss: 0.114656\tvalid_1's binary_logloss: 0.269736\n",
      "[80]\ttraining's binary_logloss: 0.0801291\tvalid_1's binary_logloss: 0.252719\n",
      "[100]\ttraining's binary_logloss: 0.0561437\tvalid_1's binary_logloss: 0.241989\n",
      "[120]\ttraining's binary_logloss: 0.0400271\tvalid_1's binary_logloss: 0.236508\n"
     ]
    },
    {
     "name": "stderr",
     "output_type": "stream",
     "text": [
      "len(train_index) : 1113\n",
      "len(valid_index) : 1113\n",
      "================================= 2fold lightgbm =================================\n"
     ]
    },
    {
     "name": "stdout",
     "output_type": "stream",
     "text": [
      "[140]\ttraining's binary_logloss: 0.0290165\tvalid_1's binary_logloss: 0.23499\n",
      "Early stopping, best iteration is:\n",
      "[130]\ttraining's binary_logloss: 0.0339392\tvalid_1's binary_logloss: 0.23451\n",
      "Training until validation scores don't improve for 10 rounds\n",
      "[20]\ttraining's binary_logloss: 0.25132\tvalid_1's binary_logloss: 0.336257\n",
      "[40]\ttraining's binary_logloss: 0.162437\tvalid_1's binary_logloss: 0.290586\n",
      "[60]\ttraining's binary_logloss: 0.108568\tvalid_1's binary_logloss: 0.26495\n",
      "[80]\ttraining's binary_logloss: 0.0762983\tvalid_1's binary_logloss: 0.250645\n",
      "[100]\ttraining's binary_logloss: 0.054131\tvalid_1's binary_logloss: 0.243657\n",
      "[120]\ttraining's binary_logloss: 0.0395681\tvalid_1's binary_logloss: 0.240765\n",
      "[140]\ttraining's binary_logloss: 0.0290749\tvalid_1's binary_logloss: 0.239035\n"
     ]
    },
    {
     "name": "stderr",
     "output_type": "stream",
     "text": [
      "adrenergic_receptor_antagonist logloss: 0.23668517480917206\n",
      "=========================================================================================\n"
     ]
    },
    {
     "name": "stdout",
     "output_type": "stream",
     "text": [
      "[160]\ttraining's binary_logloss: 0.0214259\tvalid_1's binary_logloss: 0.239767\n",
      "Early stopping, best iteration is:\n",
      "[150]\ttraining's binary_logloss: 0.0247578\tvalid_1's binary_logloss: 0.23886\n"
     ]
    },
    {
     "name": "stderr",
     "output_type": "stream",
     "text": [
      "len(train_index) : 966\n",
      "len(valid_index) : 966\n",
      "================================= 1fold lightgbm =================================\n"
     ]
    },
    {
     "name": "stdout",
     "output_type": "stream",
     "text": [
      "Training until validation scores don't improve for 10 rounds\n",
      "[20]\ttraining's binary_logloss: 0.0578739\tvalid_1's binary_logloss: 0.0992949\n",
      "[40]\ttraining's binary_logloss: 0.0301296\tvalid_1's binary_logloss: 0.0867877\n",
      "[60]\ttraining's binary_logloss: 0.016871\tvalid_1's binary_logloss: 0.0826132\n",
      "[80]\ttraining's binary_logloss: 0.00974385\tvalid_1's binary_logloss: 0.0817321\n"
     ]
    },
    {
     "name": "stderr",
     "output_type": "stream",
     "text": [
      "len(train_index) : 966\n",
      "len(valid_index) : 966\n",
      "================================= 2fold lightgbm =================================\n"
     ]
    },
    {
     "name": "stdout",
     "output_type": "stream",
     "text": [
      "Early stopping, best iteration is:\n",
      "[76]\ttraining's binary_logloss: 0.0108898\tvalid_1's binary_logloss: 0.0815319\n",
      "Training until validation scores don't improve for 10 rounds\n",
      "[20]\ttraining's binary_logloss: 0.0567874\tvalid_1's binary_logloss: 0.0916749\n",
      "[40]\ttraining's binary_logloss: 0.0308712\tvalid_1's binary_logloss: 0.0788658\n",
      "[60]\ttraining's binary_logloss: 0.0177642\tvalid_1's binary_logloss: 0.0730604\n",
      "[80]\ttraining's binary_logloss: 0.0103502\tvalid_1's binary_logloss: 0.06983\n",
      "[100]\ttraining's binary_logloss: 0.00610339\tvalid_1's binary_logloss: 0.0694181\n",
      "Early stopping, best iteration is:\n",
      "[93]\ttraining's binary_logloss: 0.00734198\tvalid_1's binary_logloss: 0.0689441\n"
     ]
    },
    {
     "name": "stderr",
     "output_type": "stream",
     "text": [
      "akt_inhibitor logloss: 0.07523801681140356\n",
      "=========================================================================================\n",
      "len(train_index) : 936\n",
      "len(valid_index) : 937\n",
      "================================= 1fold lightgbm =================================\n"
     ]
    },
    {
     "name": "stdout",
     "output_type": "stream",
     "text": [
      "Training until validation scores don't improve for 10 rounds\n",
      "[20]\ttraining's binary_logloss: 0.00514789\tvalid_1's binary_logloss: 0.0116462\n",
      "[40]\ttraining's binary_logloss: 0.00268884\tvalid_1's binary_logloss: 0.00956941\n",
      "[60]\ttraining's binary_logloss: 0.00150773\tvalid_1's binary_logloss: 0.00843786\n",
      "[80]\ttraining's binary_logloss: 0.000870575\tvalid_1's binary_logloss: 0.00767038\n",
      "[100]\ttraining's binary_logloss: 0.000511482\tvalid_1's binary_logloss: 0.00729147\n",
      "[120]\ttraining's binary_logloss: 0.000304283\tvalid_1's binary_logloss: 0.00702669\n",
      "[140]\ttraining's binary_logloss: 0.000179922\tvalid_1's binary_logloss: 0.00662653\n",
      "[160]\ttraining's binary_logloss: 0.000105744\tvalid_1's binary_logloss: 0.00658047\n",
      "Early stopping, best iteration is:\n",
      "[154]\ttraining's binary_logloss: 0.000123915\tvalid_1's binary_logloss: 0.00645289\n"
     ]
    },
    {
     "name": "stderr",
     "output_type": "stream",
     "text": [
      "len(train_index) : 937\n",
      "len(valid_index) : 936\n",
      "================================= 2fold lightgbm =================================\n"
     ]
    },
    {
     "name": "stdout",
     "output_type": "stream",
     "text": [
      "Training until validation scores don't improve for 10 rounds\n",
      "[20]\ttraining's binary_logloss: 0.00680628\tvalid_1's binary_logloss: 0.0121451\n",
      "[40]\ttraining's binary_logloss: 0.00343611\tvalid_1's binary_logloss: 0.0103928\n",
      "[60]\ttraining's binary_logloss: 0.00185753\tvalid_1's binary_logloss: 0.00960391\n",
      "[80]\ttraining's binary_logloss: 0.0010303\tvalid_1's binary_logloss: 0.00914566\n",
      "[100]\ttraining's binary_logloss: 0.000578368\tvalid_1's binary_logloss: 0.00889461\n",
      "Early stopping, best iteration is:\n",
      "[98]\ttraining's binary_logloss: 0.000612923\tvalid_1's binary_logloss: 0.00887333\n"
     ]
    },
    {
     "name": "stderr",
     "output_type": "stream",
     "text": [
      "aldehyde_dehydrogenase_inhibitor logloss: 0.007662464143262385\n",
      "=========================================================================================\n",
      "len(train_index) : 954\n",
      "len(valid_index) : 954\n",
      "================================= 1fold lightgbm =================================\n"
     ]
    },
    {
     "name": "stdout",
     "output_type": "stream",
     "text": [
      "Training until validation scores don't improve for 10 rounds\n",
      "[20]\ttraining's binary_logloss: 0.0376121\tvalid_1's binary_logloss: 0.0764958\n",
      "[40]\ttraining's binary_logloss: 0.0193984\tvalid_1's binary_logloss: 0.0704386\n"
     ]
    },
    {
     "name": "stderr",
     "output_type": "stream",
     "text": [
      "len(train_index) : 954\n",
      "len(valid_index) : 954\n",
      "================================= 2fold lightgbm =================================\n"
     ]
    },
    {
     "name": "stdout",
     "output_type": "stream",
     "text": [
      "[60]\ttraining's binary_logloss: 0.0105839\tvalid_1's binary_logloss: 0.0697819\n",
      "Early stopping, best iteration is:\n",
      "[50]\ttraining's binary_logloss: 0.0142001\tvalid_1's binary_logloss: 0.0692947\n",
      "Training until validation scores don't improve for 10 rounds\n",
      "[20]\ttraining's binary_logloss: 0.04128\tvalid_1's binary_logloss: 0.0688277\n",
      "[40]\ttraining's binary_logloss: 0.0213874\tvalid_1's binary_logloss: 0.0573337\n",
      "[60]\ttraining's binary_logloss: 0.0120383\tvalid_1's binary_logloss: 0.0511282\n",
      "[80]\ttraining's binary_logloss: 0.00697222\tvalid_1's binary_logloss: 0.0495784\n",
      "[100]\ttraining's binary_logloss: 0.00411328\tvalid_1's binary_logloss: 0.0492476\n",
      "Early stopping, best iteration is:\n",
      "[94]\ttraining's binary_logloss: 0.00480588\tvalid_1's binary_logloss: 0.0491257\n"
     ]
    },
    {
     "name": "stderr",
     "output_type": "stream",
     "text": [
      "alk_inhibitor logloss: 0.059210213042753805\n",
      "=========================================================================================\n",
      "len(train_index) : 939\n",
      "len(valid_index) : 939\n",
      "================================= 1fold lightgbm =================================\n"
     ]
    },
    {
     "name": "stdout",
     "output_type": "stream",
     "text": [
      "Training until validation scores don't improve for 10 rounds\n",
      "[20]\ttraining's binary_logloss: 0.0128817\tvalid_1's binary_logloss: 0.0380558\n"
     ]
    },
    {
     "name": "stderr",
     "output_type": "stream",
     "text": [
      "len(train_index) : 939\n",
      "len(valid_index) : 939\n",
      "================================= 2fold lightgbm =================================\n"
     ]
    },
    {
     "name": "stdout",
     "output_type": "stream",
     "text": [
      "Early stopping, best iteration is:\n",
      "[24]\ttraining's binary_logloss: 0.0109881\tvalid_1's binary_logloss: 0.0378914\n",
      "Training until validation scores don't improve for 10 rounds\n"
     ]
    },
    {
     "name": "stderr",
     "output_type": "stream",
     "text": [
      "ampk_activator logloss: 0.038113723908345006\n",
      "=========================================================================================\n",
      "len(train_index) : 939\n",
      "len(valid_index) : 939\n"
     ]
    },
    {
     "name": "stdout",
     "output_type": "stream",
     "text": [
      "Early stopping, best iteration is:\n",
      "[1]\ttraining's binary_logloss: 0.0359888\tvalid_1's binary_logloss: 0.038336\n"
     ]
    },
    {
     "name": "stderr",
     "output_type": "stream",
     "text": [
      "================================= 1fold lightgbm =================================\n"
     ]
    },
    {
     "name": "stdout",
     "output_type": "stream",
     "text": [
      "Training until validation scores don't improve for 10 rounds\n"
     ]
    },
    {
     "name": "stderr",
     "output_type": "stream",
     "text": [
      "len(train_index) : 939\n",
      "len(valid_index) : 939\n",
      "================================= 2fold lightgbm =================================\n"
     ]
    },
    {
     "name": "stdout",
     "output_type": "stream",
     "text": [
      "Early stopping, best iteration is:\n",
      "[1]\ttraining's binary_logloss: 0.0355526\tvalid_1's binary_logloss: 0.0377926\n",
      "Training until validation scores don't improve for 10 rounds\n",
      "[20]\ttraining's binary_logloss: 0.0106697\tvalid_1's binary_logloss: 0.0361461\n"
     ]
    },
    {
     "name": "stderr",
     "output_type": "stream",
     "text": [
      "analgesic logloss: 0.0369305225426096\n",
      "=========================================================================================\n",
      "len(train_index) : 957\n",
      "len(valid_index) : 957\n"
     ]
    },
    {
     "name": "stdout",
     "output_type": "stream",
     "text": [
      "Early stopping, best iteration is:\n",
      "[18]\ttraining's binary_logloss: 0.0115123\tvalid_1's binary_logloss: 0.0360685\n"
     ]
    },
    {
     "name": "stderr",
     "output_type": "stream",
     "text": [
      "================================= 1fold lightgbm =================================\n"
     ]
    },
    {
     "name": "stdout",
     "output_type": "stream",
     "text": [
      "Training until validation scores don't improve for 10 rounds\n",
      "[20]\ttraining's binary_logloss: 0.0434935\tvalid_1's binary_logloss: 0.097068\n",
      "[40]\ttraining's binary_logloss: 0.0230893\tvalid_1's binary_logloss: 0.0874664\n",
      "[60]\ttraining's binary_logloss: 0.0132409\tvalid_1's binary_logloss: 0.0852061\n",
      "[80]\ttraining's binary_logloss: 0.00791907\tvalid_1's binary_logloss: 0.0844342\n",
      "Early stopping, best iteration is:\n",
      "[73]\ttraining's binary_logloss: 0.00946187\tvalid_1's binary_logloss: 0.0839256\n"
     ]
    },
    {
     "name": "stderr",
     "output_type": "stream",
     "text": [
      "len(train_index) : 957\n",
      "len(valid_index) : 957\n",
      "================================= 2fold lightgbm =================================\n"
     ]
    },
    {
     "name": "stdout",
     "output_type": "stream",
     "text": [
      "Training until validation scores don't improve for 10 rounds\n",
      "[20]\ttraining's binary_logloss: 0.0463484\tvalid_1's binary_logloss: 0.0921373\n",
      "[40]\ttraining's binary_logloss: 0.0245566\tvalid_1's binary_logloss: 0.0870767\n",
      "[60]\ttraining's binary_logloss: 0.0141117\tvalid_1's binary_logloss: 0.0873041\n",
      "Early stopping, best iteration is:\n",
      "[53]\ttraining's binary_logloss: 0.017042\tvalid_1's binary_logloss: 0.0865787\n"
     ]
    },
    {
     "name": "stderr",
     "output_type": "stream",
     "text": [
      "androgen_receptor_agonist logloss: 0.08525218322485621\n",
      "=========================================================================================\n",
      "len(train_index) : 977\n",
      "len(valid_index) : 978\n",
      "================================= 1fold lightgbm =================================\n"
     ]
    },
    {
     "name": "stdout",
     "output_type": "stream",
     "text": [
      "Training until validation scores don't improve for 10 rounds\n",
      "[20]\ttraining's binary_logloss: 0.080039\tvalid_1's binary_logloss: 0.151524\n",
      "[40]\ttraining's binary_logloss: 0.0458277\tvalid_1's binary_logloss: 0.138806\n",
      "[60]\ttraining's binary_logloss: 0.0278088\tvalid_1's binary_logloss: 0.133413\n",
      "[80]\ttraining's binary_logloss: 0.0173702\tvalid_1's binary_logloss: 0.131208\n"
     ]
    },
    {
     "name": "stderr",
     "output_type": "stream",
     "text": [
      "len(train_index) : 978\n",
      "len(valid_index) : 977\n",
      "================================= 2fold lightgbm =================================\n"
     ]
    },
    {
     "name": "stdout",
     "output_type": "stream",
     "text": [
      "Early stopping, best iteration is:\n",
      "[79]\ttraining's binary_logloss: 0.0178135\tvalid_1's binary_logloss: 0.131127\n",
      "Training until validation scores don't improve for 10 rounds\n",
      "[20]\ttraining's binary_logloss: 0.0808759\tvalid_1's binary_logloss: 0.15052\n",
      "[40]\ttraining's binary_logloss: 0.047302\tvalid_1's binary_logloss: 0.138009\n",
      "[60]\ttraining's binary_logloss: 0.0300458\tvalid_1's binary_logloss: 0.129351\n",
      "[80]\ttraining's binary_logloss: 0.0194133\tvalid_1's binary_logloss: 0.123744\n"
     ]
    },
    {
     "name": "stderr",
     "output_type": "stream",
     "text": [
      "androgen_receptor_antagonist logloss: 0.1267624414590522\n",
      "=========================================================================================\n"
     ]
    },
    {
     "name": "stdout",
     "output_type": "stream",
     "text": [
      "[100]\ttraining's binary_logloss: 0.012612\tvalid_1's binary_logloss: 0.122957\n",
      "Early stopping, best iteration is:\n",
      "[91]\ttraining's binary_logloss: 0.0153575\tvalid_1's binary_logloss: 0.122394\n"
     ]
    },
    {
     "name": "stderr",
     "output_type": "stream",
     "text": [
      "len(train_index) : 973\n",
      "len(valid_index) : 973\n",
      "================================= 1fold lightgbm =================================\n"
     ]
    },
    {
     "name": "stdout",
     "output_type": "stream",
     "text": [
      "Training until validation scores don't improve for 10 rounds\n",
      "[20]\ttraining's binary_logloss: 0.0711913\tvalid_1's binary_logloss: 0.136605\n",
      "[40]\ttraining's binary_logloss: 0.0386595\tvalid_1's binary_logloss: 0.126705\n",
      "[60]\ttraining's binary_logloss: 0.0226109\tvalid_1's binary_logloss: 0.120953\n",
      "[80]\ttraining's binary_logloss: 0.0135593\tvalid_1's binary_logloss: 0.118882\n"
     ]
    },
    {
     "name": "stderr",
     "output_type": "stream",
     "text": [
      "len(train_index) : 973\n",
      "len(valid_index) : 973\n",
      "================================= 2fold lightgbm =================================\n"
     ]
    },
    {
     "name": "stdout",
     "output_type": "stream",
     "text": [
      "Early stopping, best iteration is:\n",
      "[82]\ttraining's binary_logloss: 0.0128833\tvalid_1's binary_logloss: 0.118815\n",
      "Training until validation scores don't improve for 10 rounds\n",
      "[20]\ttraining's binary_logloss: 0.0714361\tvalid_1's binary_logloss: 0.133272\n",
      "[40]\ttraining's binary_logloss: 0.0390541\tvalid_1's binary_logloss: 0.118137\n",
      "[60]\ttraining's binary_logloss: 0.023091\tvalid_1's binary_logloss: 0.112605\n",
      "[80]\ttraining's binary_logloss: 0.0140005\tvalid_1's binary_logloss: 0.111894\n",
      "Early stopping, best iteration is:\n",
      "[72]\ttraining's binary_logloss: 0.0170501\tvalid_1's binary_logloss: 0.111534\n"
     ]
    },
    {
     "name": "stderr",
     "output_type": "stream",
     "text": [
      "anesthetic_-_local logloss: 0.11517458820710982\n",
      "=========================================================================================\n",
      "len(train_index) : 951\n",
      "len(valid_index) : 951\n",
      "================================= 1fold lightgbm =================================\n"
     ]
    },
    {
     "name": "stdout",
     "output_type": "stream",
     "text": [
      "Training until validation scores don't improve for 10 rounds\n",
      "[20]\ttraining's binary_logloss: 0.0332286\tvalid_1's binary_logloss: 0.0903233\n",
      "[40]\ttraining's binary_logloss: 0.0174449\tvalid_1's binary_logloss: 0.0890849\n"
     ]
    },
    {
     "name": "stderr",
     "output_type": "stream",
     "text": [
      "len(train_index) : 951\n",
      "len(valid_index) : 951\n",
      "================================= 2fold lightgbm =================================\n"
     ]
    },
    {
     "name": "stdout",
     "output_type": "stream",
     "text": [
      "Early stopping, best iteration is:\n",
      "[35]\ttraining's binary_logloss: 0.0202661\tvalid_1's binary_logloss: 0.0888562\n",
      "Training until validation scores don't improve for 10 rounds\n",
      "[20]\ttraining's binary_logloss: 0.03458\tvalid_1's binary_logloss: 0.0821725\n",
      "[40]\ttraining's binary_logloss: 0.0179707\tvalid_1's binary_logloss: 0.0804457\n"
     ]
    },
    {
     "name": "stderr",
     "output_type": "stream",
     "text": [
      "angiogenesis_inhibitor logloss: 0.08447470443059943\n",
      "=========================================================================================\n",
      "len(train_index) : 951\n",
      "len(valid_index) : 952\n",
      "================================= 1fold lightgbm =================================\n"
     ]
    },
    {
     "name": "stdout",
     "output_type": "stream",
     "text": [
      "Early stopping, best iteration is:\n",
      "[43]\ttraining's binary_logloss: 0.0164344\tvalid_1's binary_logloss: 0.0800932\n",
      "Training until validation scores don't improve for 10 rounds\n",
      "[20]\ttraining's binary_logloss: 0.0351247\tvalid_1's binary_logloss: 0.0818948\n"
     ]
    },
    {
     "name": "stderr",
     "output_type": "stream",
     "text": [
      "len(train_index) : 952\n",
      "len(valid_index) : 951\n",
      "================================= 2fold lightgbm =================================\n"
     ]
    },
    {
     "name": "stdout",
     "output_type": "stream",
     "text": [
      "Early stopping, best iteration is:\n",
      "[29]\ttraining's binary_logloss: 0.0255568\tvalid_1's binary_logloss: 0.0811831\n",
      "Training until validation scores don't improve for 10 rounds\n",
      "[20]\ttraining's binary_logloss: 0.0347959\tvalid_1's binary_logloss: 0.0764897\n",
      "[40]\ttraining's binary_logloss: 0.0180871\tvalid_1's binary_logloss: 0.0728946\n"
     ]
    },
    {
     "name": "stderr",
     "output_type": "stream",
     "text": [
      "angiotensin_receptor_antagonist logloss: 0.07686383413450287\n",
      "=========================================================================================\n"
     ]
    },
    {
     "name": "stdout",
     "output_type": "stream",
     "text": [
      "Early stopping, best iteration is:\n",
      "[47]\ttraining's binary_logloss: 0.0146816\tvalid_1's binary_logloss: 0.07254\n"
     ]
    },
    {
     "name": "stderr",
     "output_type": "stream",
     "text": [
      "len(train_index) : 969\n",
      "len(valid_index) : 970\n",
      "================================= 1fold lightgbm =================================\n"
     ]
    },
    {
     "name": "stdout",
     "output_type": "stream",
     "text": [
      "Training until validation scores don't improve for 10 rounds\n",
      "[20]\ttraining's binary_logloss: 0.0680476\tvalid_1's binary_logloss: 0.127176\n",
      "[40]\ttraining's binary_logloss: 0.0376899\tvalid_1's binary_logloss: 0.119949\n"
     ]
    },
    {
     "name": "stderr",
     "output_type": "stream",
     "text": [
      "len(train_index) : 970\n",
      "len(valid_index) : 969\n",
      "================================= 2fold lightgbm =================================\n"
     ]
    },
    {
     "name": "stdout",
     "output_type": "stream",
     "text": [
      "[60]\ttraining's binary_logloss: 0.0218187\tvalid_1's binary_logloss: 0.119319\n",
      "Early stopping, best iteration is:\n",
      "[50]\ttraining's binary_logloss: 0.0285222\tvalid_1's binary_logloss: 0.118384\n",
      "Training until validation scores don't improve for 10 rounds\n",
      "[20]\ttraining's binary_logloss: 0.0698843\tvalid_1's binary_logloss: 0.125523\n",
      "[40]\ttraining's binary_logloss: 0.0387359\tvalid_1's binary_logloss: 0.115078\n",
      "[60]\ttraining's binary_logloss: 0.0228696\tvalid_1's binary_logloss: 0.111497\n",
      "[80]\ttraining's binary_logloss: 0.0139831\tvalid_1's binary_logloss: 0.110901\n"
     ]
    },
    {
     "name": "stderr",
     "output_type": "stream",
     "text": [
      "anti-inflammatory logloss: 0.11462935598434063\n",
      "=========================================================================================\n"
     ]
    },
    {
     "name": "stdout",
     "output_type": "stream",
     "text": [
      "Early stopping, best iteration is:\n",
      "[87]\ttraining's binary_logloss: 0.0118633\tvalid_1's binary_logloss: 0.110871\n"
     ]
    },
    {
     "name": "stderr",
     "output_type": "stream",
     "text": [
      "len(train_index) : 936\n",
      "len(valid_index) : 936\n",
      "================================= 1fold lightgbm =================================\n"
     ]
    },
    {
     "name": "stdout",
     "output_type": "stream",
     "text": [
      "Training until validation scores don't improve for 10 rounds\n"
     ]
    },
    {
     "name": "stderr",
     "output_type": "stream",
     "text": [
      "len(train_index) : 936\n",
      "len(valid_index) : 936\n",
      "================================= 2fold lightgbm =================================\n"
     ]
    },
    {
     "name": "stdout",
     "output_type": "stream",
     "text": [
      "Early stopping, best iteration is:\n",
      "[1]\ttraining's binary_logloss: 0.0175052\tvalid_1's binary_logloss: 0.0205024\n",
      "Training until validation scores don't improve for 10 rounds\n"
     ]
    },
    {
     "name": "stderr",
     "output_type": "stream",
     "text": [
      "antiarrhythmic logloss: 0.02053364017109943\n",
      "=========================================================================================\n",
      "len(train_index) : 954\n",
      "len(valid_index) : 955\n",
      "================================= 1fold lightgbm =================================\n"
     ]
    },
    {
     "name": "stdout",
     "output_type": "stream",
     "text": [
      "Early stopping, best iteration is:\n",
      "[9]\ttraining's binary_logloss: 0.00871046\tvalid_1's binary_logloss: 0.0205649\n",
      "Training until validation scores don't improve for 10 rounds\n",
      "[20]\ttraining's binary_logloss: 0.0428833\tvalid_1's binary_logloss: 0.0934817\n",
      "[40]\ttraining's binary_logloss: 0.0232463\tvalid_1's binary_logloss: 0.0939108\n",
      "Early stopping, best iteration is:\n",
      "[34]\ttraining's binary_logloss: 0.0276616\tvalid_1's binary_logloss: 0.0925955\n"
     ]
    },
    {
     "name": "stderr",
     "output_type": "stream",
     "text": [
      "len(train_index) : 955\n",
      "len(valid_index) : 954\n",
      "================================= 2fold lightgbm =================================\n"
     ]
    },
    {
     "name": "stdout",
     "output_type": "stream",
     "text": [
      "Training until validation scores don't improve for 10 rounds\n",
      "[20]\ttraining's binary_logloss: 0.045322\tvalid_1's binary_logloss: 0.0892374\n",
      "[40]\ttraining's binary_logloss: 0.0245161\tvalid_1's binary_logloss: 0.0844889\n"
     ]
    },
    {
     "name": "stderr",
     "output_type": "stream",
     "text": [
      "antibiotic logloss: 0.08843476513722996\n",
      "=========================================================================================\n",
      "len(train_index) : 939\n",
      "len(valid_index) : 939\n",
      "================================= 1fold lightgbm =================================\n"
     ]
    },
    {
     "name": "stdout",
     "output_type": "stream",
     "text": [
      "Early stopping, best iteration is:\n",
      "[43]\ttraining's binary_logloss: 0.0224747\tvalid_1's binary_logloss: 0.0842697\n",
      "Training until validation scores don't improve for 10 rounds\n",
      "[20]\ttraining's binary_logloss: 0.010979\tvalid_1's binary_logloss: 0.0374018\n",
      "Early stopping, best iteration is:\n",
      "[15]\ttraining's binary_logloss: 0.0134901\tvalid_1's binary_logloss: 0.0372685\n"
     ]
    },
    {
     "name": "stderr",
     "output_type": "stream",
     "text": [
      "len(train_index) : 939\n",
      "len(valid_index) : 939\n",
      "================================= 2fold lightgbm =================================\n"
     ]
    },
    {
     "name": "stdout",
     "output_type": "stream",
     "text": [
      "Training until validation scores don't improve for 10 rounds\n",
      "[20]\ttraining's binary_logloss: 0.0107957\tvalid_1's binary_logloss: 0.0321573\n"
     ]
    },
    {
     "name": "stderr",
     "output_type": "stream",
     "text": [
      "anticonvulsant logloss: 0.03433966268264178\n",
      "=========================================================================================\n"
     ]
    },
    {
     "name": "stdout",
     "output_type": "stream",
     "text": [
      "[40]\ttraining's binary_logloss: 0.00543023\tvalid_1's binary_logloss: 0.0315069\n",
      "Early stopping, best iteration is:\n",
      "[32]\ttraining's binary_logloss: 0.00703762\tvalid_1's binary_logloss: 0.0314108\n"
     ]
    },
    {
     "name": "stderr",
     "output_type": "stream",
     "text": [
      "len(train_index) : 939\n",
      "len(valid_index) : 940\n",
      "================================= 1fold lightgbm =================================\n"
     ]
    },
    {
     "name": "stdout",
     "output_type": "stream",
     "text": [
      "Training until validation scores don't improve for 10 rounds\n",
      "[20]\ttraining's binary_logloss: 0.0102998\tvalid_1's binary_logloss: 0.0408215\n",
      "[40]\ttraining's binary_logloss: 0.0052985\tvalid_1's binary_logloss: 0.0387791\n"
     ]
    },
    {
     "name": "stderr",
     "output_type": "stream",
     "text": [
      "len(train_index) : 940\n",
      "len(valid_index) : 939\n",
      "================================= 2fold lightgbm =================================\n"
     ]
    },
    {
     "name": "stdout",
     "output_type": "stream",
     "text": [
      "[60]\ttraining's binary_logloss: 0.00290386\tvalid_1's binary_logloss: 0.0385158\n",
      "Early stopping, best iteration is:\n",
      "[50]\ttraining's binary_logloss: 0.00389908\tvalid_1's binary_logloss: 0.0383581\n",
      "Training until validation scores don't improve for 10 rounds\n",
      "[20]\ttraining's binary_logloss: 0.0127162\tvalid_1's binary_logloss: 0.0332085\n",
      "[40]\ttraining's binary_logloss: 0.0063351\tvalid_1's binary_logloss: 0.0312591\n",
      "[60]\ttraining's binary_logloss: 0.00339923\tvalid_1's binary_logloss: 0.0302737\n"
     ]
    },
    {
     "name": "stderr",
     "output_type": "stream",
     "text": [
      "antifungal logloss: 0.03431803122587487\n",
      "=========================================================================================\n",
      "len(train_index) : 939\n",
      "len(valid_index) : 939\n",
      "================================= 1fold lightgbm =================================\n"
     ]
    },
    {
     "name": "stdout",
     "output_type": "stream",
     "text": [
      "Early stopping, best iteration is:\n",
      "[60]\ttraining's binary_logloss: 0.00339923\tvalid_1's binary_logloss: 0.0302737\n",
      "Training until validation scores don't improve for 10 rounds\n"
     ]
    },
    {
     "name": "stderr",
     "output_type": "stream",
     "text": [
      "len(train_index) : 939\n",
      "len(valid_index) : 939\n",
      "================================= 2fold lightgbm =================================\n"
     ]
    },
    {
     "name": "stdout",
     "output_type": "stream",
     "text": [
      "Early stopping, best iteration is:\n",
      "[1]\ttraining's binary_logloss: 0.036597\tvalid_1's binary_logloss: 0.0388804\n",
      "Training until validation scores don't improve for 10 rounds\n"
     ]
    },
    {
     "name": "stderr",
     "output_type": "stream",
     "text": [
      "antihistamine logloss: 0.038334168859606395\n",
      "=========================================================================================\n",
      "len(train_index) : 942\n",
      "len(valid_index) : 942\n",
      "================================= 1fold lightgbm =================================\n"
     ]
    },
    {
     "name": "stdout",
     "output_type": "stream",
     "text": [
      "Early stopping, best iteration is:\n",
      "[3]\ttraining's binary_logloss: 0.0297186\tvalid_1's binary_logloss: 0.0377879\n",
      "Training until validation scores don't improve for 10 rounds\n",
      "[20]\ttraining's binary_logloss: 0.0167308\tvalid_1's binary_logloss: 0.0503094\n"
     ]
    },
    {
     "name": "stderr",
     "output_type": "stream",
     "text": [
      "len(train_index) : 942\n",
      "len(valid_index) : 942\n",
      "================================= 2fold lightgbm =================================\n"
     ]
    },
    {
     "name": "stdout",
     "output_type": "stream",
     "text": [
      "Early stopping, best iteration is:\n",
      "[19]\ttraining's binary_logloss: 0.0173848\tvalid_1's binary_logloss: 0.0502575\n",
      "Training until validation scores don't improve for 10 rounds\n",
      "[20]\ttraining's binary_logloss: 0.0173975\tvalid_1's binary_logloss: 0.0477049\n"
     ]
    },
    {
     "name": "stderr",
     "output_type": "stream",
     "text": [
      "antimalarial logloss: 0.04881974860407817\n",
      "=========================================================================================\n"
     ]
    },
    {
     "name": "stdout",
     "output_type": "stream",
     "text": [
      "Early stopping, best iteration is:\n",
      "[17]\ttraining's binary_logloss: 0.0197954\tvalid_1's binary_logloss: 0.047382\n"
     ]
    },
    {
     "name": "stderr",
     "output_type": "stream",
     "text": [
      "len(train_index) : 969\n",
      "len(valid_index) : 970\n",
      "================================= 1fold lightgbm =================================\n"
     ]
    },
    {
     "name": "stdout",
     "output_type": "stream",
     "text": [
      "Training until validation scores don't improve for 10 rounds\n",
      "[20]\ttraining's binary_logloss: 0.063738\tvalid_1's binary_logloss: 0.129326\n",
      "[40]\ttraining's binary_logloss: 0.0360124\tvalid_1's binary_logloss: 0.122555\n",
      "[60]\ttraining's binary_logloss: 0.0218142\tvalid_1's binary_logloss: 0.121238\n"
     ]
    },
    {
     "name": "stderr",
     "output_type": "stream",
     "text": [
      "len(train_index) : 970\n",
      "len(valid_index) : 969\n"
     ]
    },
    {
     "name": "stdout",
     "output_type": "stream",
     "text": [
      "Early stopping, best iteration is:\n",
      "[64]\ttraining's binary_logloss: 0.0198507\tvalid_1's binary_logloss: 0.120644\n"
     ]
    },
    {
     "name": "stderr",
     "output_type": "stream",
     "text": [
      "================================= 2fold lightgbm =================================\n"
     ]
    },
    {
     "name": "stdout",
     "output_type": "stream",
     "text": [
      "Training until validation scores don't improve for 10 rounds\n",
      "[20]\ttraining's binary_logloss: 0.073951\tvalid_1's binary_logloss: 0.135304\n",
      "[40]\ttraining's binary_logloss: 0.0439654\tvalid_1's binary_logloss: 0.124716\n",
      "[60]\ttraining's binary_logloss: 0.0281702\tvalid_1's binary_logloss: 0.120212\n",
      "[80]\ttraining's binary_logloss: 0.018449\tvalid_1's binary_logloss: 0.119169\n"
     ]
    },
    {
     "name": "stderr",
     "output_type": "stream",
     "text": [
      "antioxidant logloss: 0.11979874327261522\n",
      "=========================================================================================\n",
      "len(train_index) : 951\n",
      "len(valid_index) : 951\n"
     ]
    },
    {
     "name": "stdout",
     "output_type": "stream",
     "text": [
      "Early stopping, best iteration is:\n",
      "[77]\ttraining's binary_logloss: 0.0197204\tvalid_1's binary_logloss: 0.118953\n"
     ]
    },
    {
     "name": "stderr",
     "output_type": "stream",
     "text": [
      "================================= 1fold lightgbm =================================\n"
     ]
    },
    {
     "name": "stdout",
     "output_type": "stream",
     "text": [
      "Training until validation scores don't improve for 10 rounds\n",
      "[20]\ttraining's binary_logloss: 0.0350268\tvalid_1's binary_logloss: 0.075918\n",
      "[40]\ttraining's binary_logloss: 0.0180575\tvalid_1's binary_logloss: 0.0708366\n",
      "[60]\ttraining's binary_logloss: 0.0102268\tvalid_1's binary_logloss: 0.0701389\n"
     ]
    },
    {
     "name": "stderr",
     "output_type": "stream",
     "text": [
      "len(train_index) : 951\n",
      "len(valid_index) : 951\n",
      "================================= 2fold lightgbm =================================\n"
     ]
    },
    {
     "name": "stdout",
     "output_type": "stream",
     "text": [
      "Early stopping, best iteration is:\n",
      "[62]\ttraining's binary_logloss: 0.00968003\tvalid_1's binary_logloss: 0.0698833\n",
      "Training until validation scores don't improve for 10 rounds\n",
      "[20]\ttraining's binary_logloss: 0.0341187\tvalid_1's binary_logloss: 0.0844539\n",
      "[40]\ttraining's binary_logloss: 0.018114\tvalid_1's binary_logloss: 0.0784482\n",
      "[60]\ttraining's binary_logloss: 0.0104386\tvalid_1's binary_logloss: 0.0768793\n"
     ]
    },
    {
     "name": "stderr",
     "output_type": "stream",
     "text": [
      "antiprotozoal logloss: 0.07324488979554679\n",
      "=========================================================================================\n"
     ]
    },
    {
     "name": "stdout",
     "output_type": "stream",
     "text": [
      "Early stopping, best iteration is:\n",
      "[57]\ttraining's binary_logloss: 0.0113396\tvalid_1's binary_logloss: 0.0766065\n"
     ]
    },
    {
     "name": "stderr",
     "output_type": "stream",
     "text": [
      "len(train_index) : 944\n",
      "len(valid_index) : 945\n",
      "================================= 1fold lightgbm =================================\n"
     ]
    },
    {
     "name": "stdout",
     "output_type": "stream",
     "text": [
      "Training until validation scores don't improve for 10 rounds\n",
      "[20]\ttraining's binary_logloss: 0.0202952\tvalid_1's binary_logloss: 0.0610576\n"
     ]
    },
    {
     "name": "stderr",
     "output_type": "stream",
     "text": [
      "len(train_index) : 945\n",
      "len(valid_index) : 944\n",
      "================================= 2fold lightgbm =================================\n"
     ]
    },
    {
     "name": "stdout",
     "output_type": "stream",
     "text": [
      "Early stopping, best iteration is:\n",
      "[18]\ttraining's binary_logloss: 0.0220559\tvalid_1's binary_logloss: 0.0608929\n",
      "Training until validation scores don't improve for 10 rounds\n",
      "[20]\ttraining's binary_logloss: 0.0220966\tvalid_1's binary_logloss: 0.0555228\n",
      "[40]\ttraining's binary_logloss: 0.011018\tvalid_1's binary_logloss: 0.0519169\n"
     ]
    },
    {
     "name": "stderr",
     "output_type": "stream",
     "text": [
      "antiviral logloss: 0.05619323036994975\n",
      "=========================================================================================\n",
      "len(train_index) : 957\n",
      "len(valid_index) : 958\n",
      "================================= 1fold lightgbm =================================\n"
     ]
    },
    {
     "name": "stdout",
     "output_type": "stream",
     "text": [
      "Early stopping, best iteration is:\n",
      "[49]\ttraining's binary_logloss: 0.00832547\tvalid_1's binary_logloss: 0.0514886\n",
      "Training until validation scores don't improve for 10 rounds\n",
      "[20]\ttraining's binary_logloss: 0.0472567\tvalid_1's binary_logloss: 0.0993404\n",
      "[40]\ttraining's binary_logloss: 0.0251966\tvalid_1's binary_logloss: 0.0927815\n",
      "[60]\ttraining's binary_logloss: 0.014439\tvalid_1's binary_logloss: 0.0916022\n"
     ]
    },
    {
     "name": "stderr",
     "output_type": "stream",
     "text": [
      "len(train_index) : 958\n",
      "len(valid_index) : 957\n",
      "================================= 2fold lightgbm =================================\n"
     ]
    },
    {
     "name": "stdout",
     "output_type": "stream",
     "text": [
      "Early stopping, best iteration is:\n",
      "[56]\ttraining's binary_logloss: 0.0161325\tvalid_1's binary_logloss: 0.0913251\n",
      "Training until validation scores don't improve for 10 rounds\n",
      "[20]\ttraining's binary_logloss: 0.0491277\tvalid_1's binary_logloss: 0.0963549\n",
      "[40]\ttraining's binary_logloss: 0.0265981\tvalid_1's binary_logloss: 0.0884671\n",
      "[60]\ttraining's binary_logloss: 0.0154758\tvalid_1's binary_logloss: 0.0858959\n"
     ]
    },
    {
     "name": "stderr",
     "output_type": "stream",
     "text": [
      "apoptosis_stimulant logloss: 0.08843916305114448\n",
      "=========================================================================================\n",
      "len(train_index) : 956\n",
      "len(valid_index) : 957\n",
      "================================= 1fold lightgbm =================================\n"
     ]
    },
    {
     "name": "stdout",
     "output_type": "stream",
     "text": [
      "Early stopping, best iteration is:\n",
      "[65]\ttraining's binary_logloss: 0.0135715\tvalid_1's binary_logloss: 0.0855502\n",
      "Training until validation scores don't improve for 10 rounds\n",
      "[20]\ttraining's binary_logloss: 0.0445393\tvalid_1's binary_logloss: 0.102707\n"
     ]
    },
    {
     "name": "stderr",
     "output_type": "stream",
     "text": [
      "len(train_index) : 957\n",
      "len(valid_index) : 956\n",
      "================================= 2fold lightgbm =================================\n"
     ]
    },
    {
     "name": "stdout",
     "output_type": "stream",
     "text": [
      "Early stopping, best iteration is:\n",
      "[27]\ttraining's binary_logloss: 0.0349784\tvalid_1's binary_logloss: 0.101048\n",
      "Training until validation scores don't improve for 10 rounds\n",
      "[20]\ttraining's binary_logloss: 0.0486522\tvalid_1's binary_logloss: 0.102664\n",
      "[40]\ttraining's binary_logloss: 0.0269009\tvalid_1's binary_logloss: 0.0962564\n",
      "[60]\ttraining's binary_logloss: 0.0159497\tvalid_1's binary_logloss: 0.0923823\n"
     ]
    },
    {
     "name": "stderr",
     "output_type": "stream",
     "text": [
      "aromatase_inhibitor logloss: 0.0966451944046936\n",
      "=========================================================================================\n",
      "len(train_index) : 936\n",
      "len(valid_index) : 936\n",
      "================================= 1fold lightgbm =================================\n"
     ]
    },
    {
     "name": "stdout",
     "output_type": "stream",
     "text": [
      "Early stopping, best iteration is:\n",
      "[58]\ttraining's binary_logloss: 0.0168163\tvalid_1's binary_logloss: 0.092238\n",
      "Training until validation scores don't improve for 10 rounds\n",
      "[20]\ttraining's binary_logloss: 0.00535121\tvalid_1's binary_logloss: 0.0187001\n"
     ]
    },
    {
     "name": "stderr",
     "output_type": "stream",
     "text": [
      "len(train_index) : 936\n",
      "len(valid_index) : 936\n",
      "================================= 2fold lightgbm =================================\n"
     ]
    },
    {
     "name": "stdout",
     "output_type": "stream",
     "text": [
      "[40]\ttraining's binary_logloss: 0.00270193\tvalid_1's binary_logloss: 0.0184167\n",
      "Early stopping, best iteration is:\n",
      "[30]\ttraining's binary_logloss: 0.00374121\tvalid_1's binary_logloss: 0.018265\n",
      "Training until validation scores don't improve for 10 rounds\n",
      "[20]\ttraining's binary_logloss: 0.00522725\tvalid_1's binary_logloss: 0.0161129\n",
      "[40]\ttraining's binary_logloss: 0.00260993\tvalid_1's binary_logloss: 0.0155914\n"
     ]
    },
    {
     "name": "stderr",
     "output_type": "stream",
     "text": [
      "atm_kinase_inhibitor logloss: 0.016856622430221714\n",
      "=========================================================================================\n",
      "len(train_index) : 933\n",
      "len(valid_index) : 934\n",
      "================================= 1fold lightgbm =================================\n"
     ]
    },
    {
     "name": "stdout",
     "output_type": "stream",
     "text": [
      "Early stopping, best iteration is:\n",
      "[44]\ttraining's binary_logloss: 0.00229778\tvalid_1's binary_logloss: 0.0154483\n"
     ]
    },
    {
     "name": "stderr",
     "output_type": "stream",
     "text": [
      "len(train_index) : 934\n",
      "len(valid_index) : 933\n",
      "================================= 2fold lightgbm =================================\n"
     ]
    },
    {
     "name": "stdout",
     "output_type": "stream",
     "text": [
      "Training until validation scores don't improve for 10 rounds\n",
      "Early stopping, best iteration is:\n",
      "[1]\ttraining's binary_logloss: 0\tvalid_1's binary_logloss: 0.0369794\n",
      "Training until validation scores don't improve for 10 rounds\n",
      "[20]\ttraining's binary_logloss: 0.00172294\tvalid_1's binary_logloss: 0.000726366\n",
      "[40]\ttraining's binary_logloss: 0.000870255\tvalid_1's binary_logloss: 0.000420917\n",
      "[60]\ttraining's binary_logloss: 0.000472247\tvalid_1's binary_logloss: 0.000242646\n",
      "[80]\ttraining's binary_logloss: 0.000262798\tvalid_1's binary_logloss: 0.000139852\n",
      "[100]\ttraining's binary_logloss: 0.000148011\tvalid_1's binary_logloss: 8.09437e-05\n",
      "[120]\ttraining's binary_logloss: 8.39139e-05\tvalid_1's binary_logloss: 4.69325e-05\n",
      "[140]\ttraining's binary_logloss: 4.7771e-05\tvalid_1's binary_logloss: 2.74122e-05\n",
      "[160]\ttraining's binary_logloss: 2.72776e-05\tvalid_1's binary_logloss: 1.60517e-05\n",
      "[180]\ttraining's binary_logloss: 1.5611e-05\tvalid_1's binary_logloss: 9.46924e-06\n",
      "[200]\ttraining's binary_logloss: 8.95079e-06\tvalid_1's binary_logloss: 5.67344e-06\n",
      "[220]\ttraining's binary_logloss: 5.14066e-06\tvalid_1's binary_logloss: 3.41061e-06\n",
      "[240]\ttraining's binary_logloss: 2.95701e-06\tvalid_1's binary_logloss: 2.06978e-06\n",
      "[260]\ttraining's binary_logloss: 2.12338e-06\tvalid_1's binary_logloss: 1.5888e-06\n",
      "Early stopping, best iteration is:\n",
      "[252]\ttraining's binary_logloss: 2.12338e-06\tvalid_1's binary_logloss: 1.5888e-06\n"
     ]
    },
    {
     "name": "stderr",
     "output_type": "stream",
     "text": [
      "atp-sensitive_potassium_channel_antagonist logloss: 0.018500406395202947\n",
      "=========================================================================================\n",
      "len(train_index) : 939\n",
      "len(valid_index) : 939\n",
      "================================= 1fold lightgbm =================================\n"
     ]
    },
    {
     "name": "stdout",
     "output_type": "stream",
     "text": [
      "Training until validation scores don't improve for 10 rounds\n",
      "[20]\ttraining's binary_logloss: 0.00979393\tvalid_1's binary_logloss: 0.0119065\n",
      "[40]\ttraining's binary_logloss: 0.0051925\tvalid_1's binary_logloss: 0.0075803\n",
      "[60]\ttraining's binary_logloss: 0.00296024\tvalid_1's binary_logloss: 0.00534093\n",
      "[80]\ttraining's binary_logloss: 0.00168428\tvalid_1's binary_logloss: 0.00405544\n",
      "[100]\ttraining's binary_logloss: 0.00095995\tvalid_1's binary_logloss: 0.00321074\n",
      "[120]\ttraining's binary_logloss: 0.000543152\tvalid_1's binary_logloss: 0.002526\n",
      "[140]\ttraining's binary_logloss: 0.000307597\tvalid_1's binary_logloss: 0.00212983\n",
      "[160]\ttraining's binary_logloss: 0.000174719\tvalid_1's binary_logloss: 0.00185117\n",
      "[180]\ttraining's binary_logloss: 9.9001e-05\tvalid_1's binary_logloss: 0.00157427\n",
      "[200]\ttraining's binary_logloss: 5.67434e-05\tvalid_1's binary_logloss: 0.00137761\n"
     ]
    },
    {
     "name": "stderr",
     "output_type": "stream",
     "text": [
      "len(train_index) : 939\n",
      "len(valid_index) : 939\n",
      "================================= 2fold lightgbm =================================\n"
     ]
    },
    {
     "name": "stdout",
     "output_type": "stream",
     "text": [
      "Early stopping, best iteration is:\n",
      "[209]\ttraining's binary_logloss: 4.43599e-05\tvalid_1's binary_logloss: 0.00127328\n",
      "Training until validation scores don't improve for 10 rounds\n",
      "[20]\ttraining's binary_logloss: 0.00963199\tvalid_1's binary_logloss: 0.0207789\n",
      "[40]\ttraining's binary_logloss: 0.00502454\tvalid_1's binary_logloss: 0.0171234\n",
      "[60]\ttraining's binary_logloss: 0.00281869\tvalid_1's binary_logloss: 0.015169\n"
     ]
    },
    {
     "name": "stderr",
     "output_type": "stream",
     "text": [
      "atp_synthase_inhibitor logloss: 0.007972992330974649\n",
      "=========================================================================================\n"
     ]
    },
    {
     "name": "stdout",
     "output_type": "stream",
     "text": [
      "[80]\ttraining's binary_logloss: 0.00161742\tvalid_1's binary_logloss: 0.0147667\n",
      "Early stopping, best iteration is:\n",
      "[70]\ttraining's binary_logloss: 0.00213998\tvalid_1's binary_logloss: 0.0146727\n"
     ]
    },
    {
     "name": "stderr",
     "output_type": "stream",
     "text": [
      "len(train_index) : 981\n",
      "len(valid_index) : 982\n",
      "================================= 1fold lightgbm =================================\n"
     ]
    },
    {
     "name": "stdout",
     "output_type": "stream",
     "text": [
      "Training until validation scores don't improve for 10 rounds\n",
      "[20]\ttraining's binary_logloss: 0.0812776\tvalid_1's binary_logloss: 0.126462\n",
      "[40]\ttraining's binary_logloss: 0.0457069\tvalid_1's binary_logloss: 0.10992\n",
      "[60]\ttraining's binary_logloss: 0.0270627\tvalid_1's binary_logloss: 0.104241\n",
      "[80]\ttraining's binary_logloss: 0.0160348\tvalid_1's binary_logloss: 0.102473\n"
     ]
    },
    {
     "name": "stderr",
     "output_type": "stream",
     "text": [
      "len(train_index) : 982\n",
      "len(valid_index) : 981\n",
      "================================= 2fold lightgbm =================================\n"
     ]
    },
    {
     "name": "stdout",
     "output_type": "stream",
     "text": [
      "Early stopping, best iteration is:\n",
      "[75]\ttraining's binary_logloss: 0.0182148\tvalid_1's binary_logloss: 0.102174\n",
      "Training until validation scores don't improve for 10 rounds\n",
      "[20]\ttraining's binary_logloss: 0.0835054\tvalid_1's binary_logloss: 0.133142\n",
      "[40]\ttraining's binary_logloss: 0.0460644\tvalid_1's binary_logloss: 0.113128\n",
      "[60]\ttraining's binary_logloss: 0.0267548\tvalid_1's binary_logloss: 0.103861\n",
      "[80]\ttraining's binary_logloss: 0.0161356\tvalid_1's binary_logloss: 0.0985105\n"
     ]
    },
    {
     "name": "stderr",
     "output_type": "stream",
     "text": [
      "atpase_inhibitor logloss: 0.09987554170244094\n",
      "=========================================================================================\n"
     ]
    },
    {
     "name": "stdout",
     "output_type": "stream",
     "text": [
      "Early stopping, best iteration is:\n",
      "[88]\ttraining's binary_logloss: 0.013255\tvalid_1's binary_logloss: 0.0975744\n"
     ]
    },
    {
     "name": "stderr",
     "output_type": "stream",
     "text": [
      "len(train_index) : 942\n",
      "len(valid_index) : 943\n",
      "================================= 1fold lightgbm =================================\n"
     ]
    },
    {
     "name": "stdout",
     "output_type": "stream",
     "text": [
      "Training until validation scores don't improve for 10 rounds\n",
      "[20]\ttraining's binary_logloss: 0.0160863\tvalid_1's binary_logloss: 0.0294476\n",
      "[40]\ttraining's binary_logloss: 0.00839673\tvalid_1's binary_logloss: 0.0238773\n",
      "[60]\ttraining's binary_logloss: 0.00459068\tvalid_1's binary_logloss: 0.0219698\n",
      "[80]\ttraining's binary_logloss: 0.00257025\tvalid_1's binary_logloss: 0.0212045\n"
     ]
    },
    {
     "name": "stderr",
     "output_type": "stream",
     "text": [
      "len(train_index) : 943\n",
      "len(valid_index) : 942\n",
      "================================= 2fold lightgbm =================================\n"
     ]
    },
    {
     "name": "stdout",
     "output_type": "stream",
     "text": [
      "Early stopping, best iteration is:\n",
      "[82]\ttraining's binary_logloss: 0.00244464\tvalid_1's binary_logloss: 0.0210998\n",
      "Training until validation scores don't improve for 10 rounds\n",
      "[20]\ttraining's binary_logloss: 0.0181785\tvalid_1's binary_logloss: 0.0320745\n",
      "[40]\ttraining's binary_logloss: 0.00888137\tvalid_1's binary_logloss: 0.0270927\n",
      "[60]\ttraining's binary_logloss: 0.00468707\tvalid_1's binary_logloss: 0.0256467\n",
      "[80]\ttraining's binary_logloss: 0.00255607\tvalid_1's binary_logloss: 0.0249631\n"
     ]
    },
    {
     "name": "stderr",
     "output_type": "stream",
     "text": [
      "atr_kinase_inhibitor logloss: 0.022814059645353223\n",
      "=========================================================================================\n",
      "len(train_index) : 981\n",
      "len(valid_index) : 981\n",
      "================================= 1fold lightgbm =================================\n"
     ]
    },
    {
     "name": "stdout",
     "output_type": "stream",
     "text": [
      "Early stopping, best iteration is:\n",
      "[89]\ttraining's binary_logloss: 0.00195718\tvalid_1's binary_logloss: 0.0245301\n",
      "Training until validation scores don't improve for 10 rounds\n",
      "[20]\ttraining's binary_logloss: 0.0778799\tvalid_1's binary_logloss: 0.110915\n",
      "[40]\ttraining's binary_logloss: 0.0410509\tvalid_1's binary_logloss: 0.0887998\n",
      "[60]\ttraining's binary_logloss: 0.0228684\tvalid_1's binary_logloss: 0.0804113\n",
      "[80]\ttraining's binary_logloss: 0.0130148\tvalid_1's binary_logloss: 0.0767953\n",
      "[100]\ttraining's binary_logloss: 0.00754847\tvalid_1's binary_logloss: 0.0751327\n"
     ]
    },
    {
     "name": "stderr",
     "output_type": "stream",
     "text": [
      "len(train_index) : 981\n",
      "len(valid_index) : 981\n",
      "================================= 2fold lightgbm =================================\n"
     ]
    },
    {
     "name": "stdout",
     "output_type": "stream",
     "text": [
      "Early stopping, best iteration is:\n",
      "[105]\ttraining's binary_logloss: 0.00660568\tvalid_1's binary_logloss: 0.0746606\n",
      "Training until validation scores don't improve for 10 rounds\n",
      "[20]\ttraining's binary_logloss: 0.077912\tvalid_1's binary_logloss: 0.10896\n",
      "[40]\ttraining's binary_logloss: 0.0425514\tvalid_1's binary_logloss: 0.0892071\n",
      "[60]\ttraining's binary_logloss: 0.0239412\tvalid_1's binary_logloss: 0.0789793\n",
      "[80]\ttraining's binary_logloss: 0.0139478\tvalid_1's binary_logloss: 0.0713057\n",
      "[100]\ttraining's binary_logloss: 0.00827216\tvalid_1's binary_logloss: 0.0679349\n",
      "[120]\ttraining's binary_logloss: 0.0049286\tvalid_1's binary_logloss: 0.0658492\n",
      "[140]\ttraining's binary_logloss: 0.00294174\tvalid_1's binary_logloss: 0.0652375\n",
      "[160]\ttraining's binary_logloss: 0.0017602\tvalid_1's binary_logloss: 0.0651663\n",
      "Early stopping, best iteration is:\n",
      "[153]\ttraining's binary_logloss: 0.00210742\tvalid_1's binary_logloss: 0.0648546\n"
     ]
    },
    {
     "name": "stderr",
     "output_type": "stream",
     "text": [
      "aurora_kinase_inhibitor logloss: 0.06975763760207003\n",
      "=========================================================================================\n",
      "len(train_index) : 936\n",
      "len(valid_index) : 936\n",
      "================================= 1fold lightgbm =================================\n"
     ]
    },
    {
     "name": "stdout",
     "output_type": "stream",
     "text": [
      "Training until validation scores don't improve for 10 rounds\n"
     ]
    },
    {
     "name": "stderr",
     "output_type": "stream",
     "text": [
      "len(train_index) : 936\n",
      "len(valid_index) : 936\n",
      "================================= 2fold lightgbm =================================\n"
     ]
    },
    {
     "name": "stdout",
     "output_type": "stream",
     "text": [
      "Early stopping, best iteration is:\n",
      "[4]\ttraining's binary_logloss: 0.012928\tvalid_1's binary_logloss: 0.0215338\n",
      "Training until validation scores don't improve for 10 rounds\n",
      "[20]\ttraining's binary_logloss: 0.0051691\tvalid_1's binary_logloss: 0.0203794\n"
     ]
    },
    {
     "name": "stderr",
     "output_type": "stream",
     "text": [
      "autotaxin_inhibitor logloss: 0.020905940969719754\n",
      "=========================================================================================\n",
      "len(train_index) : 963\n",
      "len(valid_index) : 963\n",
      "================================= 1fold lightgbm =================================\n"
     ]
    },
    {
     "name": "stdout",
     "output_type": "stream",
     "text": [
      "Early stopping, best iteration is:\n",
      "[25]\ttraining's binary_logloss: 0.00429452\tvalid_1's binary_logloss: 0.0202781\n",
      "Training until validation scores don't improve for 10 rounds\n",
      "[20]\ttraining's binary_logloss: 0.0556057\tvalid_1's binary_logloss: 0.10502\n",
      "[40]\ttraining's binary_logloss: 0.0309846\tvalid_1's binary_logloss: 0.0971517\n",
      "[60]\ttraining's binary_logloss: 0.0178931\tvalid_1's binary_logloss: 0.0957456\n"
     ]
    },
    {
     "name": "stderr",
     "output_type": "stream",
     "text": [
      "len(train_index) : 963\n",
      "len(valid_index) : 963\n",
      "================================= 2fold lightgbm =================================\n"
     ]
    },
    {
     "name": "stdout",
     "output_type": "stream",
     "text": [
      "Early stopping, best iteration is:\n",
      "[57]\ttraining's binary_logloss: 0.0194964\tvalid_1's binary_logloss: 0.0952809\n",
      "Training until validation scores don't improve for 10 rounds\n",
      "[20]\ttraining's binary_logloss: 0.0599036\tvalid_1's binary_logloss: 0.124665\n",
      "[40]\ttraining's binary_logloss: 0.0329014\tvalid_1's binary_logloss: 0.114834\n",
      "[60]\ttraining's binary_logloss: 0.0192753\tvalid_1's binary_logloss: 0.109765\n"
     ]
    },
    {
     "name": "stderr",
     "output_type": "stream",
     "text": [
      "bacterial_30s_ribosomal_subunit_inhibitor logloss: 0.10201149094056015\n",
      "=========================================================================================\n"
     ]
    },
    {
     "name": "stdout",
     "output_type": "stream",
     "text": [
      "[80]\ttraining's binary_logloss: 0.011619\tvalid_1's binary_logloss: 0.109705\n",
      "Early stopping, best iteration is:\n",
      "[70]\ttraining's binary_logloss: 0.0149159\tvalid_1's binary_logloss: 0.108742\n"
     ]
    },
    {
     "name": "stderr",
     "output_type": "stream",
     "text": [
      "len(train_index) : 973\n",
      "len(valid_index) : 973\n",
      "================================= 1fold lightgbm =================================\n"
     ]
    },
    {
     "name": "stdout",
     "output_type": "stream",
     "text": [
      "Training until validation scores don't improve for 10 rounds\n",
      "[20]\ttraining's binary_logloss: 0.0717292\tvalid_1's binary_logloss: 0.149147\n",
      "[40]\ttraining's binary_logloss: 0.0398271\tvalid_1's binary_logloss: 0.14352\n"
     ]
    },
    {
     "name": "stderr",
     "output_type": "stream",
     "text": [
      "len(train_index) : 973\n",
      "len(valid_index) : 973\n",
      "================================= 2fold lightgbm =================================\n"
     ]
    },
    {
     "name": "stdout",
     "output_type": "stream",
     "text": [
      "Early stopping, best iteration is:\n",
      "[46]\ttraining's binary_logloss: 0.033898\tvalid_1's binary_logloss: 0.142611\n",
      "Training until validation scores don't improve for 10 rounds\n",
      "[20]\ttraining's binary_logloss: 0.0819159\tvalid_1's binary_logloss: 0.142943\n",
      "[40]\ttraining's binary_logloss: 0.0468375\tvalid_1's binary_logloss: 0.128791\n",
      "[60]\ttraining's binary_logloss: 0.0288595\tvalid_1's binary_logloss: 0.122897\n"
     ]
    },
    {
     "name": "stderr",
     "output_type": "stream",
     "text": [
      "bacterial_50s_ribosomal_subunit_inhibitor logloss: 0.13188262982291837\n",
      "=========================================================================================\n"
     ]
    },
    {
     "name": "stdout",
     "output_type": "stream",
     "text": [
      "[80]\ttraining's binary_logloss: 0.0176679\tvalid_1's binary_logloss: 0.121942\n",
      "Early stopping, best iteration is:\n",
      "[70]\ttraining's binary_logloss: 0.022568\tvalid_1's binary_logloss: 0.121154\n"
     ]
    },
    {
     "name": "stderr",
     "output_type": "stream",
     "text": [
      "len(train_index) : 951\n",
      "len(valid_index) : 951\n",
      "================================= 1fold lightgbm =================================\n"
     ]
    },
    {
     "name": "stdout",
     "output_type": "stream",
     "text": [
      "Training until validation scores don't improve for 10 rounds\n",
      "[20]\ttraining's binary_logloss: 0.0328985\tvalid_1's binary_logloss: 0.0717689\n",
      "[40]\ttraining's binary_logloss: 0.016731\tvalid_1's binary_logloss: 0.0670492\n"
     ]
    },
    {
     "name": "stderr",
     "output_type": "stream",
     "text": [
      "len(train_index) : 951\n",
      "len(valid_index) : 951\n",
      "================================= 2fold lightgbm =================================\n"
     ]
    },
    {
     "name": "stdout",
     "output_type": "stream",
     "text": [
      "Early stopping, best iteration is:\n",
      "[47]\ttraining's binary_logloss: 0.0134761\tvalid_1's binary_logloss: 0.0667323\n",
      "Training until validation scores don't improve for 10 rounds\n",
      "[20]\ttraining's binary_logloss: 0.0294833\tvalid_1's binary_logloss: 0.0735294\n",
      "[40]\ttraining's binary_logloss: 0.0147785\tvalid_1's binary_logloss: 0.067781\n"
     ]
    },
    {
     "name": "stderr",
     "output_type": "stream",
     "text": [
      "bacterial_antifolate logloss: 0.06701564714515373\n",
      "=========================================================================================\n"
     ]
    },
    {
     "name": "stdout",
     "output_type": "stream",
     "text": [
      "[60]\ttraining's binary_logloss: 0.00802446\tvalid_1's binary_logloss: 0.0675522\n",
      "Early stopping, best iteration is:\n",
      "[51]\ttraining's binary_logloss: 0.0105072\tvalid_1's binary_logloss: 0.067299\n"
     ]
    },
    {
     "name": "stderr",
     "output_type": "stream",
     "text": [
      "len(train_index) : 1029\n",
      "len(valid_index) : 1029\n",
      "================================= 1fold lightgbm =================================\n"
     ]
    },
    {
     "name": "stdout",
     "output_type": "stream",
     "text": [
      "Training until validation scores don't improve for 10 rounds\n",
      "[20]\ttraining's binary_logloss: 0.160016\tvalid_1's binary_logloss: 0.252175\n",
      "[40]\ttraining's binary_logloss: 0.0963496\tvalid_1's binary_logloss: 0.222766\n",
      "[60]\ttraining's binary_logloss: 0.0612815\tvalid_1's binary_logloss: 0.204599\n",
      "[80]\ttraining's binary_logloss: 0.040057\tvalid_1's binary_logloss: 0.195998\n",
      "[100]\ttraining's binary_logloss: 0.0268684\tvalid_1's binary_logloss: 0.190419\n",
      "[120]\ttraining's binary_logloss: 0.0181086\tvalid_1's binary_logloss: 0.188187\n"
     ]
    },
    {
     "name": "stderr",
     "output_type": "stream",
     "text": [
      "len(train_index) : 1029\n",
      "len(valid_index) : 1029\n",
      "================================= 2fold lightgbm =================================\n"
     ]
    },
    {
     "name": "stdout",
     "output_type": "stream",
     "text": [
      "Early stopping, best iteration is:\n",
      "[119]\ttraining's binary_logloss: 0.0184676\tvalid_1's binary_logloss: 0.187743\n",
      "Training until validation scores don't improve for 10 rounds\n",
      "[20]\ttraining's binary_logloss: 0.163329\tvalid_1's binary_logloss: 0.236573\n",
      "[40]\ttraining's binary_logloss: 0.103025\tvalid_1's binary_logloss: 0.201927\n",
      "[60]\ttraining's binary_logloss: 0.0681399\tvalid_1's binary_logloss: 0.186001\n",
      "[80]\ttraining's binary_logloss: 0.0467106\tvalid_1's binary_logloss: 0.176051\n",
      "[100]\ttraining's binary_logloss: 0.0327657\tvalid_1's binary_logloss: 0.17153\n",
      "[120]\ttraining's binary_logloss: 0.0231243\tvalid_1's binary_logloss: 0.167804\n",
      "[140]\ttraining's binary_logloss: 0.0166178\tvalid_1's binary_logloss: 0.165501\n",
      "[160]\ttraining's binary_logloss: 0.0118021\tvalid_1's binary_logloss: 0.165137\n"
     ]
    },
    {
     "name": "stderr",
     "output_type": "stream",
     "text": [
      "bacterial_cell_wall_synthesis_inhibitor logloss: 0.17629752553843744\n",
      "=========================================================================================\n"
     ]
    },
    {
     "name": "stdout",
     "output_type": "stream",
     "text": [
      "Early stopping, best iteration is:\n",
      "[162]\ttraining's binary_logloss: 0.0114757\tvalid_1's binary_logloss: 0.164852\n"
     ]
    },
    {
     "name": "stderr",
     "output_type": "stream",
     "text": [
      "len(train_index) : 977\n",
      "len(valid_index) : 978\n",
      "================================= 1fold lightgbm =================================\n"
     ]
    },
    {
     "name": "stdout",
     "output_type": "stream",
     "text": [
      "Training until validation scores don't improve for 10 rounds\n",
      "[20]\ttraining's binary_logloss: 0.0851875\tvalid_1's binary_logloss: 0.155901\n",
      "[40]\ttraining's binary_logloss: 0.0487578\tvalid_1's binary_logloss: 0.143379\n",
      "[60]\ttraining's binary_logloss: 0.0300468\tvalid_1's binary_logloss: 0.139111\n",
      "[80]\ttraining's binary_logloss: 0.0192682\tvalid_1's binary_logloss: 0.137918\n"
     ]
    },
    {
     "name": "stderr",
     "output_type": "stream",
     "text": [
      "len(train_index) : 978\n",
      "len(valid_index) : 977\n",
      "================================= 2fold lightgbm =================================\n"
     ]
    },
    {
     "name": "stdout",
     "output_type": "stream",
     "text": [
      "Early stopping, best iteration is:\n",
      "[84]\ttraining's binary_logloss: 0.0176046\tvalid_1's binary_logloss: 0.137649\n",
      "Training until validation scores don't improve for 10 rounds\n",
      "[20]\ttraining's binary_logloss: 0.0836557\tvalid_1's binary_logloss: 0.148087\n",
      "[40]\ttraining's binary_logloss: 0.0467883\tvalid_1's binary_logloss: 0.134465\n",
      "[60]\ttraining's binary_logloss: 0.0283264\tvalid_1's binary_logloss: 0.132057\n"
     ]
    },
    {
     "name": "stderr",
     "output_type": "stream",
     "text": [
      "bacterial_dna_gyrase_inhibitor logloss: 0.13452910871205848\n",
      "=========================================================================================\n"
     ]
    },
    {
     "name": "stdout",
     "output_type": "stream",
     "text": [
      "Early stopping, best iteration is:\n",
      "[62]\ttraining's binary_logloss: 0.0269079\tvalid_1's binary_logloss: 0.131406\n"
     ]
    },
    {
     "name": "stderr",
     "output_type": "stream",
     "text": [
      "len(train_index) : 990\n",
      "len(valid_index) : 991\n",
      "================================= 1fold lightgbm =================================\n"
     ]
    },
    {
     "name": "stdout",
     "output_type": "stream",
     "text": [
      "Training until validation scores don't improve for 10 rounds\n",
      "[20]\ttraining's binary_logloss: 0.101546\tvalid_1's binary_logloss: 0.173069\n",
      "[40]\ttraining's binary_logloss: 0.0603428\tvalid_1's binary_logloss: 0.15109\n",
      "[60]\ttraining's binary_logloss: 0.0386872\tvalid_1's binary_logloss: 0.139881\n",
      "[80]\ttraining's binary_logloss: 0.0247558\tvalid_1's binary_logloss: 0.134528\n",
      "[100]\ttraining's binary_logloss: 0.0162678\tvalid_1's binary_logloss: 0.131584\n",
      "[120]\ttraining's binary_logloss: 0.0106099\tvalid_1's binary_logloss: 0.130986\n"
     ]
    },
    {
     "name": "stderr",
     "output_type": "stream",
     "text": [
      "len(train_index) : 991\n",
      "len(valid_index) : 990\n",
      "================================= 2fold lightgbm =================================\n"
     ]
    },
    {
     "name": "stdout",
     "output_type": "stream",
     "text": [
      "Early stopping, best iteration is:\n",
      "[120]\ttraining's binary_logloss: 0.0106099\tvalid_1's binary_logloss: 0.130986\n",
      "Training until validation scores don't improve for 10 rounds\n",
      "[20]\ttraining's binary_logloss: 0.0992046\tvalid_1's binary_logloss: 0.169442\n",
      "[40]\ttraining's binary_logloss: 0.0576491\tvalid_1's binary_logloss: 0.152051\n",
      "[60]\ttraining's binary_logloss: 0.0348419\tvalid_1's binary_logloss: 0.146076\n",
      "[80]\ttraining's binary_logloss: 0.0217406\tvalid_1's binary_logloss: 0.144675\n"
     ]
    },
    {
     "name": "stderr",
     "output_type": "stream",
     "text": [
      "bacterial_dna_inhibitor logloss: 0.13774641666886914\n",
      "=========================================================================================\n",
      "len(train_index) : 936\n",
      "len(valid_index) : 937\n"
     ]
    },
    {
     "name": "stdout",
     "output_type": "stream",
     "text": [
      "Early stopping, best iteration is:\n",
      "[81]\ttraining's binary_logloss: 0.0212218\tvalid_1's binary_logloss: 0.144513\n"
     ]
    },
    {
     "name": "stderr",
     "output_type": "stream",
     "text": [
      "================================= 1fold lightgbm =================================\n"
     ]
    },
    {
     "name": "stdout",
     "output_type": "stream",
     "text": [
      "Training until validation scores don't improve for 10 rounds\n",
      "[20]\ttraining's binary_logloss: 0.00484025\tvalid_1's binary_logloss: 0.0217856\n",
      "[40]\ttraining's binary_logloss: 0.00243362\tvalid_1's binary_logloss: 0.0208777\n"
     ]
    },
    {
     "name": "stderr",
     "output_type": "stream",
     "text": [
      "len(train_index) : 937\n",
      "len(valid_index) : 936\n",
      "================================= 2fold lightgbm =================================\n"
     ]
    },
    {
     "name": "stdout",
     "output_type": "stream",
     "text": [
      "Early stopping, best iteration is:\n",
      "[41]\ttraining's binary_logloss: 0.00235711\tvalid_1's binary_logloss: 0.0207305\n",
      "Training until validation scores don't improve for 10 rounds\n",
      "[20]\ttraining's binary_logloss: 0.00640063\tvalid_1's binary_logloss: 0.0143156\n",
      "[40]\ttraining's binary_logloss: 0.00326935\tvalid_1's binary_logloss: 0.0109355\n",
      "[60]\ttraining's binary_logloss: 0.00178989\tvalid_1's binary_logloss: 0.00897866\n",
      "[80]\ttraining's binary_logloss: 0.00100635\tvalid_1's binary_logloss: 0.00799149\n",
      "[100]\ttraining's binary_logloss: 0.000573957\tvalid_1's binary_logloss: 0.00738252\n",
      "[120]\ttraining's binary_logloss: 0.000329143\tvalid_1's binary_logloss: 0.0071189\n",
      "Early stopping, best iteration is:\n",
      "[116]\ttraining's binary_logloss: 0.000368095\tvalid_1's binary_logloss: 0.00696593\n"
     ]
    },
    {
     "name": "stderr",
     "output_type": "stream",
     "text": [
      "bacterial_membrane_integrity_inhibitor logloss: 0.013851896176478199\n",
      "=========================================================================================\n",
      "len(train_index) : 948\n",
      "len(valid_index) : 949\n",
      "================================= 1fold lightgbm =================================\n"
     ]
    },
    {
     "name": "stdout",
     "output_type": "stream",
     "text": [
      "Training until validation scores don't improve for 10 rounds\n",
      "[20]\ttraining's binary_logloss: 0.0292359\tvalid_1's binary_logloss: 0.0599351\n",
      "[40]\ttraining's binary_logloss: 0.0153273\tvalid_1's binary_logloss: 0.051431\n",
      "[60]\ttraining's binary_logloss: 0.00844047\tvalid_1's binary_logloss: 0.0494841\n"
     ]
    },
    {
     "name": "stderr",
     "output_type": "stream",
     "text": [
      "len(train_index) : 949\n",
      "len(valid_index) : 948\n",
      "================================= 2fold lightgbm =================================\n"
     ]
    },
    {
     "name": "stdout",
     "output_type": "stream",
     "text": [
      "Early stopping, best iteration is:\n",
      "[64]\ttraining's binary_logloss: 0.00751285\tvalid_1's binary_logloss: 0.049358\n",
      "Training until validation scores don't improve for 10 rounds\n",
      "[20]\ttraining's binary_logloss: 0.0300157\tvalid_1's binary_logloss: 0.0571027\n",
      "[40]\ttraining's binary_logloss: 0.0159107\tvalid_1's binary_logloss: 0.0504593\n",
      "[60]\ttraining's binary_logloss: 0.00868573\tvalid_1's binary_logloss: 0.0492959\n"
     ]
    },
    {
     "name": "stderr",
     "output_type": "stream",
     "text": [
      "bcl_inhibitor logloss: 0.04920077386819582\n",
      "=========================================================================================\n",
      "len(train_index) : 952\n",
      "len(valid_index) : 952\n",
      "================================= 1fold lightgbm =================================\n"
     ]
    },
    {
     "name": "stdout",
     "output_type": "stream",
     "text": [
      "Early stopping, best iteration is:\n",
      "[56]\ttraining's binary_logloss: 0.00978203\tvalid_1's binary_logloss: 0.0490433\n",
      "Training until validation scores don't improve for 10 rounds\n",
      "[20]\ttraining's binary_logloss: 0.0343295\tvalid_1's binary_logloss: 0.0662671\n",
      "[40]\ttraining's binary_logloss: 0.0181391\tvalid_1's binary_logloss: 0.0590203\n",
      "[60]\ttraining's binary_logloss: 0.0100798\tvalid_1's binary_logloss: 0.0558422\n",
      "[80]\ttraining's binary_logloss: 0.00567269\tvalid_1's binary_logloss: 0.0542325\n"
     ]
    },
    {
     "name": "stderr",
     "output_type": "stream",
     "text": [
      "len(train_index) : 952\n",
      "len(valid_index) : 952\n",
      "================================= 2fold lightgbm =================================\n"
     ]
    },
    {
     "name": "stdout",
     "output_type": "stream",
     "text": [
      "Early stopping, best iteration is:\n",
      "[87]\ttraining's binary_logloss: 0.00464772\tvalid_1's binary_logloss: 0.0539497\n",
      "Training until validation scores don't improve for 10 rounds\n",
      "[20]\ttraining's binary_logloss: 0.0355519\tvalid_1's binary_logloss: 0.0630983\n",
      "[40]\ttraining's binary_logloss: 0.018236\tvalid_1's binary_logloss: 0.0529228\n",
      "[60]\ttraining's binary_logloss: 0.0100408\tvalid_1's binary_logloss: 0.0474115\n",
      "[80]\ttraining's binary_logloss: 0.00559402\tvalid_1's binary_logloss: 0.0458658\n"
     ]
    },
    {
     "name": "stderr",
     "output_type": "stream",
     "text": [
      "bcr-abl_inhibitor logloss: 0.04984331637445591\n",
      "=========================================================================================\n",
      "len(train_index) : 966\n",
      "len(valid_index) : 967\n",
      "================================= 1fold lightgbm =================================\n"
     ]
    },
    {
     "name": "stdout",
     "output_type": "stream",
     "text": [
      "Early stopping, best iteration is:\n",
      "[81]\ttraining's binary_logloss: 0.00543853\tvalid_1's binary_logloss: 0.0457369\n",
      "Training until validation scores don't improve for 10 rounds\n",
      "[20]\ttraining's binary_logloss: 0.0604173\tvalid_1's binary_logloss: 0.116452\n",
      "[40]\ttraining's binary_logloss: 0.0335919\tvalid_1's binary_logloss: 0.103069\n",
      "[60]\ttraining's binary_logloss: 0.0201284\tvalid_1's binary_logloss: 0.0963163\n",
      "[80]\ttraining's binary_logloss: 0.0123757\tvalid_1's binary_logloss: 0.0926304\n"
     ]
    },
    {
     "name": "stderr",
     "output_type": "stream",
     "text": [
      "len(train_index) : 967\n",
      "len(valid_index) : 966\n",
      "================================= 2fold lightgbm =================================\n"
     ]
    },
    {
     "name": "stdout",
     "output_type": "stream",
     "text": [
      "Early stopping, best iteration is:\n",
      "[89]\ttraining's binary_logloss: 0.0100323\tvalid_1's binary_logloss: 0.0917076\n",
      "Training until validation scores don't improve for 10 rounds\n",
      "[20]\ttraining's binary_logloss: 0.0629055\tvalid_1's binary_logloss: 0.1276\n",
      "[40]\ttraining's binary_logloss: 0.0342928\tvalid_1's binary_logloss: 0.116488\n",
      "[60]\ttraining's binary_logloss: 0.0200072\tvalid_1's binary_logloss: 0.112451\n",
      "[80]\ttraining's binary_logloss: 0.0121017\tvalid_1's binary_logloss: 0.111789\n",
      "Early stopping, best iteration is:\n",
      "[73]\ttraining's binary_logloss: 0.0144347\tvalid_1's binary_logloss: 0.111364\n"
     ]
    },
    {
     "name": "stderr",
     "output_type": "stream",
     "text": [
      "benzodiazepine_receptor_agonist logloss: 0.1015305613930094\n",
      "=========================================================================================\n",
      "len(train_index) : 945\n",
      "len(valid_index) : 945\n",
      "================================= 1fold lightgbm =================================\n"
     ]
    },
    {
     "name": "stdout",
     "output_type": "stream",
     "text": [
      "Training until validation scores don't improve for 10 rounds\n",
      "[20]\ttraining's binary_logloss: 0.0241569\tvalid_1's binary_logloss: 0.064653\n"
     ]
    },
    {
     "name": "stderr",
     "output_type": "stream",
     "text": [
      "len(train_index) : 945\n",
      "len(valid_index) : 945\n",
      "================================= 2fold lightgbm =================================\n"
     ]
    },
    {
     "name": "stdout",
     "output_type": "stream",
     "text": [
      "Early stopping, best iteration is:\n",
      "[26]\ttraining's binary_logloss: 0.0192645\tvalid_1's binary_logloss: 0.0640324\n",
      "Training until validation scores don't improve for 10 rounds\n",
      "[20]\ttraining's binary_logloss: 0.0239296\tvalid_1's binary_logloss: 0.0647556\n"
     ]
    },
    {
     "name": "stderr",
     "output_type": "stream",
     "text": [
      "beta_amyloid_inhibitor logloss: 0.06434128410457667\n",
      "=========================================================================================\n",
      "len(train_index) : 967\n"
     ]
    },
    {
     "name": "stdout",
     "output_type": "stream",
     "text": [
      "Early stopping, best iteration is:\n",
      "[22]\ttraining's binary_logloss: 0.0222516\tvalid_1's binary_logloss: 0.0646502\n"
     ]
    },
    {
     "name": "stderr",
     "output_type": "stream",
     "text": [
      "len(valid_index) : 967\n",
      "================================= 1fold lightgbm =================================\n"
     ]
    },
    {
     "name": "stdout",
     "output_type": "stream",
     "text": [
      "Training until validation scores don't improve for 10 rounds\n",
      "[20]\ttraining's binary_logloss: 0.060119\tvalid_1's binary_logloss: 0.0971957\n",
      "[40]\ttraining's binary_logloss: 0.0319732\tvalid_1's binary_logloss: 0.0809596\n",
      "[60]\ttraining's binary_logloss: 0.0181269\tvalid_1's binary_logloss: 0.0765324\n",
      "[80]\ttraining's binary_logloss: 0.0105666\tvalid_1's binary_logloss: 0.07574\n"
     ]
    },
    {
     "name": "stderr",
     "output_type": "stream",
     "text": [
      "len(train_index) : 967\n",
      "len(valid_index) : 967\n",
      "================================= 2fold lightgbm =================================\n"
     ]
    },
    {
     "name": "stdout",
     "output_type": "stream",
     "text": [
      "Early stopping, best iteration is:\n",
      "[76]\ttraining's binary_logloss: 0.0117751\tvalid_1's binary_logloss: 0.0754764\n",
      "Training until validation scores don't improve for 10 rounds\n",
      "[20]\ttraining's binary_logloss: 0.0584464\tvalid_1's binary_logloss: 0.104942\n",
      "[40]\ttraining's binary_logloss: 0.0315017\tvalid_1's binary_logloss: 0.0934844\n",
      "[60]\ttraining's binary_logloss: 0.017551\tvalid_1's binary_logloss: 0.0905775\n"
     ]
    },
    {
     "name": "stderr",
     "output_type": "stream",
     "text": [
      "bromodomain_inhibitor logloss: 0.08296543250640818\n",
      "=========================================================================================\n",
      "len(train_index) : 947\n",
      "len(valid_index) : 948\n",
      "================================= 1fold lightgbm =================================\n"
     ]
    },
    {
     "name": "stdout",
     "output_type": "stream",
     "text": [
      "Early stopping, best iteration is:\n",
      "[55]\ttraining's binary_logloss: 0.0202373\tvalid_1's binary_logloss: 0.0904545\n",
      "Training until validation scores don't improve for 10 rounds\n",
      "[20]\ttraining's binary_logloss: 0.0261063\tvalid_1's binary_logloss: 0.0702697\n",
      "[40]\ttraining's binary_logloss: 0.0132218\tvalid_1's binary_logloss: 0.0686235\n"
     ]
    },
    {
     "name": "stderr",
     "output_type": "stream",
     "text": [
      "len(train_index) : 948\n",
      "len(valid_index) : 947\n",
      "================================= 2fold lightgbm =================================\n"
     ]
    },
    {
     "name": "stdout",
     "output_type": "stream",
     "text": [
      "Early stopping, best iteration is:\n",
      "[43]\ttraining's binary_logloss: 0.0120197\tvalid_1's binary_logloss: 0.0684259\n",
      "Training until validation scores don't improve for 10 rounds\n",
      "[20]\ttraining's binary_logloss: 0.0307475\tvalid_1's binary_logloss: 0.060474\n",
      "[40]\ttraining's binary_logloss: 0.015484\tvalid_1's binary_logloss: 0.055463\n",
      "[60]\ttraining's binary_logloss: 0.00855142\tvalid_1's binary_logloss: 0.0546477\n"
     ]
    },
    {
     "name": "stderr",
     "output_type": "stream",
     "text": [
      "btk_inhibitor logloss: 0.06135949172496777\n",
      "=========================================================================================\n",
      "len(train_index) : 936\n",
      "len(valid_index) : 936\n",
      "================================= 1fold lightgbm =================================\n"
     ]
    },
    {
     "name": "stdout",
     "output_type": "stream",
     "text": [
      "Early stopping, best iteration is:\n",
      "[58]\ttraining's binary_logloss: 0.0090459\tvalid_1's binary_logloss: 0.0542856\n",
      "Training until validation scores don't improve for 10 rounds\n"
     ]
    },
    {
     "name": "stderr",
     "output_type": "stream",
     "text": [
      "len(train_index) : 936\n",
      "len(valid_index) : 936\n",
      "================================= 2fold lightgbm =================================\n"
     ]
    },
    {
     "name": "stdout",
     "output_type": "stream",
     "text": [
      "Early stopping, best iteration is:\n",
      "[4]\ttraining's binary_logloss: 0.0139937\tvalid_1's binary_logloss: 0.0216223\n",
      "Training until validation scores don't improve for 10 rounds\n"
     ]
    },
    {
     "name": "stderr",
     "output_type": "stream",
     "text": [
      "calcineurin_inhibitor logloss: 0.02154135416501911\n",
      "=========================================================================================\n",
      "len(train_index) : 1073\n",
      "len(valid_index) : 1074\n"
     ]
    },
    {
     "name": "stdout",
     "output_type": "stream",
     "text": [
      "Early stopping, best iteration is:\n",
      "[4]\ttraining's binary_logloss: 0.0134517\tvalid_1's binary_logloss: 0.0214604\n"
     ]
    },
    {
     "name": "stderr",
     "output_type": "stream",
     "text": [
      "================================= 1fold lightgbm =================================\n"
     ]
    },
    {
     "name": "stdout",
     "output_type": "stream",
     "text": [
      "Training until validation scores don't improve for 10 rounds\n",
      "[20]\ttraining's binary_logloss: 0.21157\tvalid_1's binary_logloss: 0.301676\n",
      "[40]\ttraining's binary_logloss: 0.134486\tvalid_1's binary_logloss: 0.269413\n",
      "[60]\ttraining's binary_logloss: 0.0899627\tvalid_1's binary_logloss: 0.252671\n",
      "[80]\ttraining's binary_logloss: 0.0610123\tvalid_1's binary_logloss: 0.244889\n",
      "[100]\ttraining's binary_logloss: 0.0427844\tvalid_1's binary_logloss: 0.24234\n",
      "[120]\ttraining's binary_logloss: 0.0298291\tvalid_1's binary_logloss: 0.240776\n"
     ]
    },
    {
     "name": "stderr",
     "output_type": "stream",
     "text": [
      "len(train_index) : 1074\n",
      "len(valid_index) : 1073\n",
      "================================= 2fold lightgbm =================================\n"
     ]
    },
    {
     "name": "stdout",
     "output_type": "stream",
     "text": [
      "Early stopping, best iteration is:\n",
      "[118]\ttraining's binary_logloss: 0.0308746\tvalid_1's binary_logloss: 0.240443\n",
      "Training until validation scores don't improve for 10 rounds\n",
      "[20]\ttraining's binary_logloss: 0.217075\tvalid_1's binary_logloss: 0.304179\n",
      "[40]\ttraining's binary_logloss: 0.140938\tvalid_1's binary_logloss: 0.268678\n",
      "[60]\ttraining's binary_logloss: 0.0932184\tvalid_1's binary_logloss: 0.246885\n",
      "[80]\ttraining's binary_logloss: 0.0640198\tvalid_1's binary_logloss: 0.235343\n",
      "[100]\ttraining's binary_logloss: 0.0447152\tvalid_1's binary_logloss: 0.228336\n",
      "[120]\ttraining's binary_logloss: 0.0314383\tvalid_1's binary_logloss: 0.224857\n"
     ]
    },
    {
     "name": "stderr",
     "output_type": "stream",
     "text": [
      "calcium_channel_blocker logloss: 0.23244285573679752\n",
      "=========================================================================================\n",
      "len(train_index) : 954\n",
      "len(valid_index) : 954\n",
      "================================= 1fold lightgbm =================================\n"
     ]
    },
    {
     "name": "stdout",
     "output_type": "stream",
     "text": [
      "Early stopping, best iteration is:\n",
      "[123]\ttraining's binary_logloss: 0.0297516\tvalid_1's binary_logloss: 0.224435\n",
      "Training until validation scores don't improve for 10 rounds\n",
      "[20]\ttraining's binary_logloss: 0.0382933\tvalid_1's binary_logloss: 0.0908684\n",
      "[40]\ttraining's binary_logloss: 0.0194925\tvalid_1's binary_logloss: 0.0876925\n"
     ]
    },
    {
     "name": "stderr",
     "output_type": "stream",
     "text": [
      "len(train_index) : 954\n",
      "len(valid_index) : 954\n",
      "================================= 2fold lightgbm =================================\n"
     ]
    },
    {
     "name": "stdout",
     "output_type": "stream",
     "text": [
      "Early stopping, best iteration is:\n",
      "[35]\ttraining's binary_logloss: 0.022803\tvalid_1's binary_logloss: 0.0875276\n",
      "Training until validation scores don't improve for 10 rounds\n",
      "[20]\ttraining's binary_logloss: 0.0392229\tvalid_1's binary_logloss: 0.0820069\n",
      "[40]\ttraining's binary_logloss: 0.0199934\tvalid_1's binary_logloss: 0.0706068\n",
      "[60]\ttraining's binary_logloss: 0.0110926\tvalid_1's binary_logloss: 0.0679348\n",
      "[80]\ttraining's binary_logloss: 0.00633173\tvalid_1's binary_logloss: 0.0671491\n"
     ]
    },
    {
     "name": "stderr",
     "output_type": "stream",
     "text": [
      "cannabinoid_receptor_agonist logloss: 0.07714187097577149\n",
      "=========================================================================================\n",
      "len(train_index) : 960\n",
      "len(valid_index) : 961\n",
      "================================= 1fold lightgbm =================================\n"
     ]
    },
    {
     "name": "stdout",
     "output_type": "stream",
     "text": [
      "Early stopping, best iteration is:\n",
      "[76]\ttraining's binary_logloss: 0.00709031\tvalid_1's binary_logloss: 0.0667561\n",
      "Training until validation scores don't improve for 10 rounds\n",
      "[20]\ttraining's binary_logloss: 0.0501536\tvalid_1's binary_logloss: 0.107981\n",
      "[40]\ttraining's binary_logloss: 0.0271471\tvalid_1's binary_logloss: 0.097328\n",
      "[60]\ttraining's binary_logloss: 0.0157861\tvalid_1's binary_logloss: 0.0946129\n"
     ]
    },
    {
     "name": "stderr",
     "output_type": "stream",
     "text": [
      "len(train_index) : 961\n",
      "len(valid_index) : 960\n",
      "================================= 2fold lightgbm =================================\n"
     ]
    },
    {
     "name": "stdout",
     "output_type": "stream",
     "text": [
      "[80]\ttraining's binary_logloss: 0.00925957\tvalid_1's binary_logloss: 0.0946369\n",
      "Early stopping, best iteration is:\n",
      "[70]\ttraining's binary_logloss: 0.0121004\tvalid_1's binary_logloss: 0.0939571\n",
      "Training until validation scores don't improve for 10 rounds\n",
      "[20]\ttraining's binary_logloss: 0.051897\tvalid_1's binary_logloss: 0.112223\n",
      "[40]\ttraining's binary_logloss: 0.0293217\tvalid_1's binary_logloss: 0.106054\n",
      "[60]\ttraining's binary_logloss: 0.0176515\tvalid_1's binary_logloss: 0.10515\n"
     ]
    },
    {
     "name": "stderr",
     "output_type": "stream",
     "text": [
      "cannabinoid_receptor_antagonist logloss: 0.09941228549695905\n",
      "=========================================================================================\n",
      "len(train_index) : 951\n",
      "len(valid_index) : 951\n",
      "================================= 1fold lightgbm =================================\n"
     ]
    },
    {
     "name": "stdout",
     "output_type": "stream",
     "text": [
      "Early stopping, best iteration is:\n",
      "[62]\ttraining's binary_logloss: 0.0167732\tvalid_1's binary_logloss: 0.104873\n",
      "Training until validation scores don't improve for 10 rounds\n",
      "[20]\ttraining's binary_logloss: 0.0339867\tvalid_1's binary_logloss: 0.0812538\n",
      "[40]\ttraining's binary_logloss: 0.0178272\tvalid_1's binary_logloss: 0.0781854\n",
      "[60]\ttraining's binary_logloss: 0.0101125\tvalid_1's binary_logloss: 0.0771227\n"
     ]
    },
    {
     "name": "stderr",
     "output_type": "stream",
     "text": [
      "len(train_index) : 951\n",
      "len(valid_index) : 951\n",
      "================================= 2fold lightgbm =================================\n"
     ]
    },
    {
     "name": "stdout",
     "output_type": "stream",
     "text": [
      "Early stopping, best iteration is:\n",
      "[63]\ttraining's binary_logloss: 0.00928405\tvalid_1's binary_logloss: 0.0770241\n",
      "Training until validation scores don't improve for 10 rounds\n",
      "[20]\ttraining's binary_logloss: 0.0344212\tvalid_1's binary_logloss: 0.0781743\n",
      "[40]\ttraining's binary_logloss: 0.0176681\tvalid_1's binary_logloss: 0.0729774\n"
     ]
    },
    {
     "name": "stderr",
     "output_type": "stream",
     "text": [
      "carbonic_anhydrase_inhibitor logloss: 0.07461930940434373\n",
      "=========================================================================================\n",
      "len(train_index) : 951\n",
      "len(valid_index) : 951\n",
      "================================= 1fold lightgbm =================================\n"
     ]
    },
    {
     "name": "stdout",
     "output_type": "stream",
     "text": [
      "Early stopping, best iteration is:\n",
      "[48]\ttraining's binary_logloss: 0.0139098\tvalid_1's binary_logloss: 0.0722146\n",
      "Training until validation scores don't improve for 10 rounds\n",
      "[20]\ttraining's binary_logloss: 0.0336832\tvalid_1's binary_logloss: 0.0775968\n",
      "[40]\ttraining's binary_logloss: 0.0175505\tvalid_1's binary_logloss: 0.0774351\n",
      "Early stopping, best iteration is:\n",
      "[33]\ttraining's binary_logloss: 0.0217512\tvalid_1's binary_logloss: 0.0766348\n"
     ]
    },
    {
     "name": "stderr",
     "output_type": "stream",
     "text": [
      "len(train_index) : 951\n",
      "len(valid_index) : 951\n",
      "================================= 2fold lightgbm =================================\n"
     ]
    },
    {
     "name": "stdout",
     "output_type": "stream",
     "text": [
      "Training until validation scores don't improve for 10 rounds\n",
      "[20]\ttraining's binary_logloss: 0.0337736\tvalid_1's binary_logloss: 0.0805959\n",
      "[40]\ttraining's binary_logloss: 0.0181261\tvalid_1's binary_logloss: 0.0783962\n"
     ]
    },
    {
     "name": "stderr",
     "output_type": "stream",
     "text": [
      "casein_kinase_inhibitor logloss: 0.07746135729531545\n",
      "=========================================================================================\n",
      "len(train_index) : 942\n",
      "len(valid_index) : 942\n",
      "================================= 1fold lightgbm =================================\n"
     ]
    },
    {
     "name": "stdout",
     "output_type": "stream",
     "text": [
      "Early stopping, best iteration is:\n",
      "[41]\ttraining's binary_logloss: 0.017639\tvalid_1's binary_logloss: 0.0782879\n",
      "Training until validation scores don't improve for 10 rounds\n",
      "[20]\ttraining's binary_logloss: 0.0165108\tvalid_1's binary_logloss: 0.0490516\n"
     ]
    },
    {
     "name": "stderr",
     "output_type": "stream",
     "text": [
      "len(train_index) : 942\n",
      "len(valid_index) : 942\n",
      "================================= 2fold lightgbm =================================\n"
     ]
    },
    {
     "name": "stdout",
     "output_type": "stream",
     "text": [
      "Early stopping, best iteration is:\n",
      "[18]\ttraining's binary_logloss: 0.0179703\tvalid_1's binary_logloss: 0.0489716\n",
      "Training until validation scores don't improve for 10 rounds\n",
      "[20]\ttraining's binary_logloss: 0.0155274\tvalid_1's binary_logloss: 0.050299\n"
     ]
    },
    {
     "name": "stderr",
     "output_type": "stream",
     "text": [
      "caspase_activator logloss: 0.049580587330526185\n",
      "=========================================================================================\n",
      "len(train_index) : 939\n",
      "len(valid_index) : 939\n",
      "================================= 1fold lightgbm =================================\n"
     ]
    },
    {
     "name": "stdout",
     "output_type": "stream",
     "text": [
      "Early stopping, best iteration is:\n",
      "[23]\ttraining's binary_logloss: 0.013858\tvalid_1's binary_logloss: 0.0501896\n",
      "Training until validation scores don't improve for 10 rounds\n"
     ]
    },
    {
     "name": "stderr",
     "output_type": "stream",
     "text": [
      "len(train_index) : 939\n",
      "len(valid_index) : 939\n",
      "================================= 2fold lightgbm =================================\n"
     ]
    },
    {
     "name": "stdout",
     "output_type": "stream",
     "text": [
      "Early stopping, best iteration is:\n",
      "[2]\ttraining's binary_logloss: 0.0320447\tvalid_1's binary_logloss: 0.0388379\n",
      "Training until validation scores don't improve for 10 rounds\n",
      "[20]\ttraining's binary_logloss: 0.011551\tvalid_1's binary_logloss: 0.037703\n",
      "Early stopping, best iteration is:\n",
      "[15]\ttraining's binary_logloss: 0.0145279\tvalid_1's binary_logloss: 0.0373403\n"
     ]
    },
    {
     "name": "stderr",
     "output_type": "stream",
     "text": [
      "catechol_o_methyltransferase_inhibitor logloss: 0.03808911145907217\n",
      "=========================================================================================\n",
      "len(train_index) : 984\n",
      "len(valid_index) : 984\n",
      "================================= 1fold lightgbm =================================\n"
     ]
    },
    {
     "name": "stdout",
     "output_type": "stream",
     "text": [
      "Training until validation scores don't improve for 10 rounds\n",
      "[20]\ttraining's binary_logloss: 0.0995121\tvalid_1's binary_logloss: 0.170059\n",
      "[40]\ttraining's binary_logloss: 0.0586265\tvalid_1's binary_logloss: 0.157332\n",
      "[60]\ttraining's binary_logloss: 0.0371083\tvalid_1's binary_logloss: 0.153479\n"
     ]
    },
    {
     "name": "stderr",
     "output_type": "stream",
     "text": [
      "len(train_index) : 984\n",
      "len(valid_index) : 984\n",
      "================================= 2fold lightgbm =================================\n"
     ]
    },
    {
     "name": "stdout",
     "output_type": "stream",
     "text": [
      "Early stopping, best iteration is:\n",
      "[60]\ttraining's binary_logloss: 0.0371083\tvalid_1's binary_logloss: 0.153479\n",
      "Training until validation scores don't improve for 10 rounds\n",
      "[20]\ttraining's binary_logloss: 0.0941214\tvalid_1's binary_logloss: 0.183065\n",
      "[40]\ttraining's binary_logloss: 0.0552588\tvalid_1's binary_logloss: 0.175277\n",
      "[60]\ttraining's binary_logloss: 0.0344547\tvalid_1's binary_logloss: 0.174192\n",
      "Early stopping, best iteration is:\n",
      "[52]\ttraining's binary_logloss: 0.0414611\tvalid_1's binary_logloss: 0.173482\n"
     ]
    },
    {
     "name": "stderr",
     "output_type": "stream",
     "text": [
      "cc_chemokine_receptor_antagonist logloss: 0.16348072598973606\n",
      "=========================================================================================\n",
      "len(train_index) : 942\n",
      "len(valid_index) : 942\n",
      "================================= 1fold lightgbm =================================\n"
     ]
    },
    {
     "name": "stdout",
     "output_type": "stream",
     "text": [
      "Training until validation scores don't improve for 10 rounds\n",
      "[20]\ttraining's binary_logloss: 0.0151431\tvalid_1's binary_logloss: 0.0514508\n",
      "Early stopping, best iteration is:\n",
      "[14]\ttraining's binary_logloss: 0.0191542\tvalid_1's binary_logloss: 0.0511149\n"
     ]
    },
    {
     "name": "stderr",
     "output_type": "stream",
     "text": [
      "len(train_index) : 942\n",
      "len(valid_index) : 942\n",
      "================================= 2fold lightgbm =================================\n"
     ]
    },
    {
     "name": "stdout",
     "output_type": "stream",
     "text": [
      "Training until validation scores don't improve for 10 rounds\n",
      "[20]\ttraining's binary_logloss: 0.0162374\tvalid_1's binary_logloss: 0.0465008\n"
     ]
    },
    {
     "name": "stderr",
     "output_type": "stream",
     "text": [
      "cck_receptor_antagonist logloss: 0.04862211117701609\n",
      "=========================================================================================\n",
      "len(train_index) : 1103\n",
      "len(valid_index) : 1103\n"
     ]
    },
    {
     "name": "stdout",
     "output_type": "stream",
     "text": [
      "Early stopping, best iteration is:\n",
      "[27]\ttraining's binary_logloss: 0.0126775\tvalid_1's binary_logloss: 0.0461293\n"
     ]
    },
    {
     "name": "stderr",
     "output_type": "stream",
     "text": [
      "================================= 1fold lightgbm =================================\n"
     ]
    },
    {
     "name": "stdout",
     "output_type": "stream",
     "text": [
      "Training until validation scores don't improve for 10 rounds\n",
      "[20]\ttraining's binary_logloss: 0.202992\tvalid_1's binary_logloss: 0.214222\n",
      "[40]\ttraining's binary_logloss: 0.116553\tvalid_1's binary_logloss: 0.143013\n",
      "[60]\ttraining's binary_logloss: 0.0676126\tvalid_1's binary_logloss: 0.108212\n",
      "[80]\ttraining's binary_logloss: 0.0394015\tvalid_1's binary_logloss: 0.0917967\n",
      "[100]\ttraining's binary_logloss: 0.0231865\tvalid_1's binary_logloss: 0.0825759\n",
      "[120]\ttraining's binary_logloss: 0.0136628\tvalid_1's binary_logloss: 0.0793218\n"
     ]
    },
    {
     "name": "stderr",
     "output_type": "stream",
     "text": [
      "len(train_index) : 1103\n",
      "len(valid_index) : 1103\n",
      "================================= 2fold lightgbm =================================\n"
     ]
    },
    {
     "name": "stdout",
     "output_type": "stream",
     "text": [
      "Early stopping, best iteration is:\n",
      "[121]\ttraining's binary_logloss: 0.0132961\tvalid_1's binary_logloss: 0.0792586\n",
      "Training until validation scores don't improve for 10 rounds\n",
      "[20]\ttraining's binary_logloss: 0.198\tvalid_1's binary_logloss: 0.216111\n",
      "[40]\ttraining's binary_logloss: 0.111179\tvalid_1's binary_logloss: 0.142002\n",
      "[60]\ttraining's binary_logloss: 0.0646058\tvalid_1's binary_logloss: 0.106937\n",
      "[80]\ttraining's binary_logloss: 0.0381606\tvalid_1's binary_logloss: 0.0896913\n",
      "[100]\ttraining's binary_logloss: 0.0227559\tvalid_1's binary_logloss: 0.0817907\n",
      "[120]\ttraining's binary_logloss: 0.0137555\tvalid_1's binary_logloss: 0.0773452\n",
      "[140]\ttraining's binary_logloss: 0.00839484\tvalid_1's binary_logloss: 0.0751403\n",
      "[160]\ttraining's binary_logloss: 0.00516927\tvalid_1's binary_logloss: 0.0750718\n"
     ]
    },
    {
     "name": "stderr",
     "output_type": "stream",
     "text": [
      "cdk_inhibitor logloss: 0.0770333078542387\n",
      "=========================================================================================\n"
     ]
    },
    {
     "name": "stdout",
     "output_type": "stream",
     "text": [
      "Early stopping, best iteration is:\n",
      "[155]\ttraining's binary_logloss: 0.00581706\tvalid_1's binary_logloss: 0.074808\n"
     ]
    },
    {
     "name": "stderr",
     "output_type": "stream",
     "text": [
      "len(train_index) : 960\n",
      "len(valid_index) : 960\n",
      "================================= 1fold lightgbm =================================\n"
     ]
    },
    {
     "name": "stdout",
     "output_type": "stream",
     "text": [
      "Training until validation scores don't improve for 10 rounds\n",
      "[20]\ttraining's binary_logloss: 0.0532193\tvalid_1's binary_logloss: 0.108578\n",
      "[40]\ttraining's binary_logloss: 0.0291153\tvalid_1's binary_logloss: 0.103545\n"
     ]
    },
    {
     "name": "stderr",
     "output_type": "stream",
     "text": [
      "len(train_index) : 960\n",
      "len(valid_index) : 960\n",
      "================================= 2fold lightgbm =================================\n"
     ]
    },
    {
     "name": "stdout",
     "output_type": "stream",
     "text": [
      "Early stopping, best iteration is:\n",
      "[45]\ttraining's binary_logloss: 0.0254822\tvalid_1's binary_logloss: 0.103241\n",
      "Training until validation scores don't improve for 10 rounds\n",
      "[20]\ttraining's binary_logloss: 0.053206\tvalid_1's binary_logloss: 0.111955\n",
      "[40]\ttraining's binary_logloss: 0.0296903\tvalid_1's binary_logloss: 0.108009\n",
      "[60]\ttraining's binary_logloss: 0.0179144\tvalid_1's binary_logloss: 0.106569\n"
     ]
    },
    {
     "name": "stderr",
     "output_type": "stream",
     "text": [
      "chelating_agent logloss: 0.10471952592272758\n",
      "=========================================================================================\n"
     ]
    },
    {
     "name": "stdout",
     "output_type": "stream",
     "text": [
      "Early stopping, best iteration is:\n",
      "[55]\ttraining's binary_logloss: 0.020226\tvalid_1's binary_logloss: 0.106198\n"
     ]
    },
    {
     "name": "stderr",
     "output_type": "stream",
     "text": [
      "len(train_index) : 945\n",
      "len(valid_index) : 945\n",
      "================================= 1fold lightgbm =================================\n"
     ]
    },
    {
     "name": "stdout",
     "output_type": "stream",
     "text": [
      "Training until validation scores don't improve for 10 rounds\n",
      "[20]\ttraining's binary_logloss: 0.0213391\tvalid_1's binary_logloss: 0.0370066\n",
      "[40]\ttraining's binary_logloss: 0.0110213\tvalid_1's binary_logloss: 0.0306632\n",
      "[60]\ttraining's binary_logloss: 0.00614537\tvalid_1's binary_logloss: 0.0280449\n",
      "[80]\ttraining's binary_logloss: 0.00351198\tvalid_1's binary_logloss: 0.0276632\n",
      "Early stopping, best iteration is:\n",
      "[75]\ttraining's binary_logloss: 0.0040377\tvalid_1's binary_logloss: 0.0275761\n"
     ]
    },
    {
     "name": "stderr",
     "output_type": "stream",
     "text": [
      "len(train_index) : 945\n",
      "len(valid_index) : 945\n",
      "================================= 2fold lightgbm =================================\n"
     ]
    },
    {
     "name": "stdout",
     "output_type": "stream",
     "text": [
      "Training until validation scores don't improve for 10 rounds\n",
      "[20]\ttraining's binary_logloss: 0.020744\tvalid_1's binary_logloss: 0.0351253\n",
      "[40]\ttraining's binary_logloss: 0.0109836\tvalid_1's binary_logloss: 0.0293275\n",
      "[60]\ttraining's binary_logloss: 0.00609714\tvalid_1's binary_logloss: 0.026455\n",
      "[80]\ttraining's binary_logloss: 0.00338516\tvalid_1's binary_logloss: 0.0250886\n"
     ]
    },
    {
     "name": "stderr",
     "output_type": "stream",
     "text": [
      "chk_inhibitor logloss: 0.02621636504189346\n",
      "=========================================================================================\n"
     ]
    },
    {
     "name": "stdout",
     "output_type": "stream",
     "text": [
      "[100]\ttraining's binary_logloss: 0.0019121\tvalid_1's binary_logloss: 0.0251225\n",
      "Early stopping, best iteration is:\n",
      "[93]\ttraining's binary_logloss: 0.00232298\tvalid_1's binary_logloss: 0.0248566\n"
     ]
    },
    {
     "name": "stderr",
     "output_type": "stream",
     "text": [
      "len(train_index) : 954\n",
      "len(valid_index) : 954\n",
      "================================= 1fold lightgbm =================================\n"
     ]
    },
    {
     "name": "stdout",
     "output_type": "stream",
     "text": [
      "Training until validation scores don't improve for 10 rounds\n",
      "[20]\ttraining's binary_logloss: 0.0384181\tvalid_1's binary_logloss: 0.0968111\n"
     ]
    },
    {
     "name": "stderr",
     "output_type": "stream",
     "text": [
      "len(train_index) : 954\n",
      "len(valid_index) : 954\n",
      "================================= 2fold lightgbm =================================\n"
     ]
    },
    {
     "name": "stdout",
     "output_type": "stream",
     "text": [
      "Early stopping, best iteration is:\n",
      "[29]\ttraining's binary_logloss: 0.0286423\tvalid_1's binary_logloss: 0.0964748\n",
      "Training until validation scores don't improve for 10 rounds\n",
      "[20]\ttraining's binary_logloss: 0.0393082\tvalid_1's binary_logloss: 0.100157\n",
      "[40]\ttraining's binary_logloss: 0.0211752\tvalid_1's binary_logloss: 0.0987684\n"
     ]
    },
    {
     "name": "stderr",
     "output_type": "stream",
     "text": [
      "chloride_channel_blocker logloss: 0.0976078040975959\n",
      "=========================================================================================\n",
      "len(train_index) : 957\n",
      "len(valid_index) : 957\n"
     ]
    },
    {
     "name": "stdout",
     "output_type": "stream",
     "text": [
      "Early stopping, best iteration is:\n",
      "[39]\ttraining's binary_logloss: 0.0218032\tvalid_1's binary_logloss: 0.0987408\n"
     ]
    },
    {
     "name": "stderr",
     "output_type": "stream",
     "text": [
      "================================= 1fold lightgbm =================================\n"
     ]
    },
    {
     "name": "stdout",
     "output_type": "stream",
     "text": [
      "Training until validation scores don't improve for 10 rounds\n",
      "[20]\ttraining's binary_logloss: 0.0435189\tvalid_1's binary_logloss: 0.103622\n",
      "[40]\ttraining's binary_logloss: 0.0232629\tvalid_1's binary_logloss: 0.102856\n"
     ]
    },
    {
     "name": "stderr",
     "output_type": "stream",
     "text": [
      "len(train_index) : 957\n",
      "len(valid_index) : 957\n",
      "================================= 2fold lightgbm =================================\n"
     ]
    },
    {
     "name": "stdout",
     "output_type": "stream",
     "text": [
      "Early stopping, best iteration is:\n",
      "[40]\ttraining's binary_logloss: 0.0232629\tvalid_1's binary_logloss: 0.102856\n",
      "Training until validation scores don't improve for 10 rounds\n",
      "[20]\ttraining's binary_logloss: 0.047041\tvalid_1's binary_logloss: 0.105714\n",
      "[40]\ttraining's binary_logloss: 0.0260086\tvalid_1's binary_logloss: 0.10059\n",
      "[60]\ttraining's binary_logloss: 0.0155228\tvalid_1's binary_logloss: 0.0986242\n"
     ]
    },
    {
     "name": "stderr",
     "output_type": "stream",
     "text": [
      "cholesterol_inhibitor logloss: 0.10068303535031682\n",
      "=========================================================================================\n"
     ]
    },
    {
     "name": "stdout",
     "output_type": "stream",
     "text": [
      "Early stopping, best iteration is:\n",
      "[62]\ttraining's binary_logloss: 0.0148266\tvalid_1's binary_logloss: 0.0985105\n"
     ]
    },
    {
     "name": "stderr",
     "output_type": "stream",
     "text": [
      "len(train_index) : 960\n",
      "len(valid_index) : 960\n",
      "================================= 1fold lightgbm =================================\n"
     ]
    },
    {
     "name": "stdout",
     "output_type": "stream",
     "text": [
      "Training until validation scores don't improve for 10 rounds\n",
      "[20]\ttraining's binary_logloss: 0.0533193\tvalid_1's binary_logloss: 0.116758\n"
     ]
    },
    {
     "name": "stderr",
     "output_type": "stream",
     "text": [
      "len(train_index) : 960\n",
      "len(valid_index) : 960\n",
      "================================= 2fold lightgbm =================================\n"
     ]
    },
    {
     "name": "stdout",
     "output_type": "stream",
     "text": [
      "[40]\ttraining's binary_logloss: 0.0290955\tvalid_1's binary_logloss: 0.116226\n",
      "Early stopping, best iteration is:\n",
      "[31]\ttraining's binary_logloss: 0.0374804\tvalid_1's binary_logloss: 0.115657\n",
      "Training until validation scores don't improve for 10 rounds\n",
      "[20]\ttraining's binary_logloss: 0.0549492\tvalid_1's binary_logloss: 0.119833\n",
      "[40]\ttraining's binary_logloss: 0.0305356\tvalid_1's binary_logloss: 0.116021\n"
     ]
    },
    {
     "name": "stderr",
     "output_type": "stream",
     "text": [
      "cholinergic_receptor_antagonist logloss: 0.11557968430965407\n",
      "=========================================================================================\n",
      "len(train_index) : 936\n"
     ]
    },
    {
     "name": "stdout",
     "output_type": "stream",
     "text": [
      "Early stopping, best iteration is:\n",
      "[43]\ttraining's binary_logloss: 0.0282322\tvalid_1's binary_logloss: 0.115502\n"
     ]
    },
    {
     "name": "stderr",
     "output_type": "stream",
     "text": [
      "len(valid_index) : 936\n",
      "================================= 1fold lightgbm =================================\n"
     ]
    },
    {
     "name": "stdout",
     "output_type": "stream",
     "text": [
      "Training until validation scores don't improve for 10 rounds\n",
      "[20]\ttraining's binary_logloss: 0.00533424\tvalid_1's binary_logloss: 0.0212466\n"
     ]
    },
    {
     "name": "stderr",
     "output_type": "stream",
     "text": [
      "len(train_index) : 936\n",
      "len(valid_index) : 936\n",
      "================================= 2fold lightgbm =================================\n"
     ]
    },
    {
     "name": "stdout",
     "output_type": "stream",
     "text": [
      "Early stopping, best iteration is:\n",
      "[29]\ttraining's binary_logloss: 0.00382225\tvalid_1's binary_logloss: 0.0208948\n",
      "Training until validation scores don't improve for 10 rounds\n"
     ]
    },
    {
     "name": "stderr",
     "output_type": "stream",
     "text": [
      "coagulation_factor_inhibitor logloss: 0.021354415479449617\n",
      "=========================================================================================\n",
      "len(train_index) : 951\n",
      "len(valid_index) : 951\n"
     ]
    },
    {
     "name": "stdout",
     "output_type": "stream",
     "text": [
      "Early stopping, best iteration is:\n",
      "[1]\ttraining's binary_logloss: 0.0175052\tvalid_1's binary_logloss: 0.0218141\n"
     ]
    },
    {
     "name": "stderr",
     "output_type": "stream",
     "text": [
      "================================= 1fold lightgbm =================================\n"
     ]
    },
    {
     "name": "stdout",
     "output_type": "stream",
     "text": [
      "Training until validation scores don't improve for 10 rounds\n",
      "[20]\ttraining's binary_logloss: 0.0314517\tvalid_1's binary_logloss: 0.0546198\n",
      "[40]\ttraining's binary_logloss: 0.0159184\tvalid_1's binary_logloss: 0.0497801\n",
      "[60]\ttraining's binary_logloss: 0.00866515\tvalid_1's binary_logloss: 0.0487369\n"
     ]
    },
    {
     "name": "stderr",
     "output_type": "stream",
     "text": [
      "len(train_index) : 951\n",
      "len(valid_index) : 951\n",
      "================================= 2fold lightgbm =================================\n"
     ]
    },
    {
     "name": "stdout",
     "output_type": "stream",
     "text": [
      "Early stopping, best iteration is:\n",
      "[59]\ttraining's binary_logloss: 0.00893512\tvalid_1's binary_logloss: 0.0486315\n",
      "Training until validation scores don't improve for 10 rounds\n",
      "[20]\ttraining's binary_logloss: 0.0340022\tvalid_1's binary_logloss: 0.044381\n",
      "[40]\ttraining's binary_logloss: 0.0167895\tvalid_1's binary_logloss: 0.0377893\n",
      "[60]\ttraining's binary_logloss: 0.00901021\tvalid_1's binary_logloss: 0.0347719\n",
      "[80]\ttraining's binary_logloss: 0.00498065\tvalid_1's binary_logloss: 0.0340027\n"
     ]
    },
    {
     "name": "stderr",
     "output_type": "stream",
     "text": [
      "corticosteroid_agonist logloss: 0.04127096744071867\n",
      "=========================================================================================\n"
     ]
    },
    {
     "name": "stdout",
     "output_type": "stream",
     "text": [
      "Early stopping, best iteration is:\n",
      "[83]\ttraining's binary_logloss: 0.00457712\tvalid_1's binary_logloss: 0.0339105\n"
     ]
    },
    {
     "name": "stderr",
     "output_type": "stream",
     "text": [
      "len(train_index) : 1150\n",
      "len(valid_index) : 1151\n",
      "================================= 1fold lightgbm =================================\n"
     ]
    },
    {
     "name": "stdout",
     "output_type": "stream",
     "text": [
      "Training until validation scores don't improve for 10 rounds\n",
      "[20]\ttraining's binary_logloss: 0.28636\tvalid_1's binary_logloss: 0.370309\n",
      "[40]\ttraining's binary_logloss: 0.186122\tvalid_1's binary_logloss: 0.314592\n",
      "[60]\ttraining's binary_logloss: 0.126959\tvalid_1's binary_logloss: 0.279828\n",
      "[80]\ttraining's binary_logloss: 0.0885389\tvalid_1's binary_logloss: 0.261243\n",
      "[100]\ttraining's binary_logloss: 0.0635144\tvalid_1's binary_logloss: 0.250812\n",
      "[120]\ttraining's binary_logloss: 0.0459289\tvalid_1's binary_logloss: 0.244101\n",
      "[140]\ttraining's binary_logloss: 0.0336409\tvalid_1's binary_logloss: 0.241252\n",
      "[160]\ttraining's binary_logloss: 0.0244384\tvalid_1's binary_logloss: 0.23765\n",
      "[180]\ttraining's binary_logloss: 0.0180166\tvalid_1's binary_logloss: 0.236354\n"
     ]
    },
    {
     "name": "stderr",
     "output_type": "stream",
     "text": [
      "len(train_index) : 1151\n",
      "len(valid_index) : 1150\n",
      "================================= 2fold lightgbm =================================\n"
     ]
    },
    {
     "name": "stdout",
     "output_type": "stream",
     "text": [
      "Early stopping, best iteration is:\n",
      "[180]\ttraining's binary_logloss: 0.0180166\tvalid_1's binary_logloss: 0.236354\n",
      "Training until validation scores don't improve for 10 rounds\n",
      "[20]\ttraining's binary_logloss: 0.282723\tvalid_1's binary_logloss: 0.368576\n",
      "[40]\ttraining's binary_logloss: 0.188843\tvalid_1's binary_logloss: 0.315872\n",
      "[60]\ttraining's binary_logloss: 0.131286\tvalid_1's binary_logloss: 0.283861\n",
      "[80]\ttraining's binary_logloss: 0.093767\tvalid_1's binary_logloss: 0.26441\n",
      "[100]\ttraining's binary_logloss: 0.0681262\tvalid_1's binary_logloss: 0.251884\n",
      "[120]\ttraining's binary_logloss: 0.0500647\tvalid_1's binary_logloss: 0.243932\n",
      "[140]\ttraining's binary_logloss: 0.0373904\tvalid_1's binary_logloss: 0.238137\n",
      "[160]\ttraining's binary_logloss: 0.0274538\tvalid_1's binary_logloss: 0.235468\n"
     ]
    },
    {
     "name": "stderr",
     "output_type": "stream",
     "text": [
      "cyclooxygenase_inhibitor logloss: 0.23542056340050765\n",
      "=========================================================================================\n"
     ]
    },
    {
     "name": "stdout",
     "output_type": "stream",
     "text": [
      "Early stopping, best iteration is:\n",
      "[169]\ttraining's binary_logloss: 0.0238779\tvalid_1's binary_logloss: 0.234486\n"
     ]
    },
    {
     "name": "stderr",
     "output_type": "stream",
     "text": [
      "len(train_index) : 985\n",
      "len(valid_index) : 985\n",
      "================================= 1fold lightgbm =================================\n"
     ]
    },
    {
     "name": "stdout",
     "output_type": "stream",
     "text": [
      "Training until validation scores don't improve for 10 rounds\n",
      "[20]\ttraining's binary_logloss: 0.0987265\tvalid_1's binary_logloss: 0.170183\n",
      "[40]\ttraining's binary_logloss: 0.0567667\tvalid_1's binary_logloss: 0.151245\n",
      "[60]\ttraining's binary_logloss: 0.0348905\tvalid_1's binary_logloss: 0.1435\n",
      "[80]\ttraining's binary_logloss: 0.0223732\tvalid_1's binary_logloss: 0.14088\n",
      "Early stopping, best iteration is:\n",
      "[73]\ttraining's binary_logloss: 0.0262154\tvalid_1's binary_logloss: 0.140478\n"
     ]
    },
    {
     "name": "stderr",
     "output_type": "stream",
     "text": [
      "len(train_index) : 985\n",
      "len(valid_index) : 985\n",
      "================================= 2fold lightgbm =================================\n"
     ]
    },
    {
     "name": "stdout",
     "output_type": "stream",
     "text": [
      "Training until validation scores don't improve for 10 rounds\n",
      "[20]\ttraining's binary_logloss: 0.0965019\tvalid_1's binary_logloss: 0.172248\n",
      "[40]\ttraining's binary_logloss: 0.0561766\tvalid_1's binary_logloss: 0.158412\n",
      "[60]\ttraining's binary_logloss: 0.034285\tvalid_1's binary_logloss: 0.149844\n",
      "[80]\ttraining's binary_logloss: 0.0217602\tvalid_1's binary_logloss: 0.146614\n"
     ]
    },
    {
     "name": "stderr",
     "output_type": "stream",
     "text": [
      "cytochrome_p450_inhibitor logloss: 0.14318135359605624\n",
      "=========================================================================================\n"
     ]
    },
    {
     "name": "stdout",
     "output_type": "stream",
     "text": [
      "[100]\ttraining's binary_logloss: 0.0140182\tvalid_1's binary_logloss: 0.146011\n",
      "Early stopping, best iteration is:\n",
      "[90]\ttraining's binary_logloss: 0.0174889\tvalid_1's binary_logloss: 0.145885\n"
     ]
    },
    {
     "name": "stderr",
     "output_type": "stream",
     "text": [
      "len(train_index) : 951\n",
      "len(valid_index) : 951\n",
      "================================= 1fold lightgbm =================================\n"
     ]
    },
    {
     "name": "stdout",
     "output_type": "stream",
     "text": [
      "Training until validation scores don't improve for 10 rounds\n",
      "[20]\ttraining's binary_logloss: 0.0330336\tvalid_1's binary_logloss: 0.0678965\n",
      "[40]\ttraining's binary_logloss: 0.0169177\tvalid_1's binary_logloss: 0.0587434\n",
      "[60]\ttraining's binary_logloss: 0.00912519\tvalid_1's binary_logloss: 0.0557465\n"
     ]
    },
    {
     "name": "stderr",
     "output_type": "stream",
     "text": [
      "len(train_index) : 951\n",
      "len(valid_index) : 951\n",
      "================================= 2fold lightgbm =================================\n"
     ]
    },
    {
     "name": "stdout",
     "output_type": "stream",
     "text": [
      "[80]\ttraining's binary_logloss: 0.00510354\tvalid_1's binary_logloss: 0.0559136\n",
      "Early stopping, best iteration is:\n",
      "[70]\ttraining's binary_logloss: 0.00680508\tvalid_1's binary_logloss: 0.0555735\n",
      "Training until validation scores don't improve for 10 rounds\n",
      "[20]\ttraining's binary_logloss: 0.0351515\tvalid_1's binary_logloss: 0.0689296\n",
      "[40]\ttraining's binary_logloss: 0.0174746\tvalid_1's binary_logloss: 0.0624618\n",
      "[60]\ttraining's binary_logloss: 0.00944588\tvalid_1's binary_logloss: 0.0594044\n"
     ]
    },
    {
     "name": "stderr",
     "output_type": "stream",
     "text": [
      "dihydrofolate_reductase_inhibitor logloss: 0.05730845225988155\n",
      "=========================================================================================\n",
      "len(train_index) : 945\n",
      "len(valid_index) : 946\n",
      "================================= 1fold lightgbm =================================\n"
     ]
    },
    {
     "name": "stdout",
     "output_type": "stream",
     "text": [
      "Early stopping, best iteration is:\n",
      "[68]\ttraining's binary_logloss: 0.00748862\tvalid_1's binary_logloss: 0.0590434\n",
      "Training until validation scores don't improve for 10 rounds\n",
      "[20]\ttraining's binary_logloss: 0.0222946\tvalid_1's binary_logloss: 0.0569053\n",
      "[40]\ttraining's binary_logloss: 0.0112297\tvalid_1's binary_logloss: 0.0538091\n"
     ]
    },
    {
     "name": "stderr",
     "output_type": "stream",
     "text": [
      "len(train_index) : 946\n",
      "len(valid_index) : 945\n",
      "================================= 2fold lightgbm =================================\n"
     ]
    },
    {
     "name": "stdout",
     "output_type": "stream",
     "text": [
      "Early stopping, best iteration is:\n",
      "[40]\ttraining's binary_logloss: 0.0112297\tvalid_1's binary_logloss: 0.0538091\n",
      "Training until validation scores don't improve for 10 rounds\n",
      "[20]\ttraining's binary_logloss: 0.0235613\tvalid_1's binary_logloss: 0.0546592\n"
     ]
    },
    {
     "name": "stderr",
     "output_type": "stream",
     "text": [
      "dipeptidyl_peptidase_inhibitor logloss: 0.05389895628203149\n",
      "=========================================================================================\n",
      "len(train_index) : 936\n",
      "len(valid_index) : 936\n"
     ]
    },
    {
     "name": "stdout",
     "output_type": "stream",
     "text": [
      "Early stopping, best iteration is:\n",
      "[25]\ttraining's binary_logloss: 0.0195942\tvalid_1's binary_logloss: 0.0539889\n"
     ]
    },
    {
     "name": "stderr",
     "output_type": "stream",
     "text": [
      "================================= 1fold lightgbm =================================\n"
     ]
    },
    {
     "name": "stdout",
     "output_type": "stream",
     "text": [
      "Training until validation scores don't improve for 10 rounds\n"
     ]
    },
    {
     "name": "stderr",
     "output_type": "stream",
     "text": [
      "len(train_index) : 936\n",
      "len(valid_index) : 936\n",
      "================================= 2fold lightgbm =================================\n"
     ]
    },
    {
     "name": "stdout",
     "output_type": "stream",
     "text": [
      "Early stopping, best iteration is:\n",
      "[3]\ttraining's binary_logloss: 0.0131746\tvalid_1's binary_logloss: 0.0213041\n",
      "Training until validation scores don't improve for 10 rounds\n",
      "[20]\ttraining's binary_logloss: 0.00534845\tvalid_1's binary_logloss: 0.0210183\n"
     ]
    },
    {
     "name": "stderr",
     "output_type": "stream",
     "text": [
      "diuretic logloss: 0.021078242319525636\n",
      "=========================================================================================\n",
      "len(train_index) : 957\n",
      "len(valid_index) : 957\n",
      "================================= 1fold lightgbm =================================\n"
     ]
    },
    {
     "name": "stdout",
     "output_type": "stream",
     "text": [
      "Early stopping, best iteration is:\n",
      "[26]\ttraining's binary_logloss: 0.00427615\tvalid_1's binary_logloss: 0.0208523\n",
      "Training until validation scores don't improve for 10 rounds\n",
      "[20]\ttraining's binary_logloss: 0.0477867\tvalid_1's binary_logloss: 0.103254\n"
     ]
    },
    {
     "name": "stderr",
     "output_type": "stream",
     "text": [
      "len(train_index) : 957\n",
      "len(valid_index) : 957\n",
      "================================= 2fold lightgbm =================================\n"
     ]
    },
    {
     "name": "stdout",
     "output_type": "stream",
     "text": [
      "[40]\ttraining's binary_logloss: 0.0255103\tvalid_1's binary_logloss: 0.101161\n",
      "Early stopping, best iteration is:\n",
      "[30]\ttraining's binary_logloss: 0.0342634\tvalid_1's binary_logloss: 0.100695\n",
      "Training until validation scores don't improve for 10 rounds\n",
      "[20]\ttraining's binary_logloss: 0.0485904\tvalid_1's binary_logloss: 0.103948\n",
      "[40]\ttraining's binary_logloss: 0.0260864\tvalid_1's binary_logloss: 0.102731\n"
     ]
    },
    {
     "name": "stderr",
     "output_type": "stream",
     "text": [
      "dna_alkylating_agent logloss: 0.10149502797811628\n",
      "=========================================================================================\n",
      "len(train_index) : 1134\n",
      "len(valid_index) : 1134\n",
      "================================= 1fold lightgbm =================================\n"
     ]
    },
    {
     "name": "stdout",
     "output_type": "stream",
     "text": [
      "Early stopping, best iteration is:\n",
      "[47]\ttraining's binary_logloss: 0.0212605\tvalid_1's binary_logloss: 0.102295\n",
      "Training until validation scores don't improve for 10 rounds\n",
      "[20]\ttraining's binary_logloss: 0.270949\tvalid_1's binary_logloss: 0.348693\n",
      "[40]\ttraining's binary_logloss: 0.174757\tvalid_1's binary_logloss: 0.292059\n",
      "[60]\ttraining's binary_logloss: 0.11796\tvalid_1's binary_logloss: 0.25863\n",
      "[80]\ttraining's binary_logloss: 0.0818715\tvalid_1's binary_logloss: 0.238201\n",
      "[100]\ttraining's binary_logloss: 0.0576885\tvalid_1's binary_logloss: 0.224797\n",
      "[120]\ttraining's binary_logloss: 0.0406573\tvalid_1's binary_logloss: 0.214336\n",
      "[140]\ttraining's binary_logloss: 0.0291424\tvalid_1's binary_logloss: 0.20951\n",
      "[160]\ttraining's binary_logloss: 0.0207822\tvalid_1's binary_logloss: 0.206272\n",
      "[180]\ttraining's binary_logloss: 0.0150826\tvalid_1's binary_logloss: 0.205788\n",
      "[200]\ttraining's binary_logloss: 0.010832\tvalid_1's binary_logloss: 0.206372\n"
     ]
    },
    {
     "name": "stderr",
     "output_type": "stream",
     "text": [
      "len(train_index) : 1134\n",
      "len(valid_index) : 1134\n",
      "================================= 2fold lightgbm =================================\n"
     ]
    },
    {
     "name": "stdout",
     "output_type": "stream",
     "text": [
      "Early stopping, best iteration is:\n",
      "[196]\ttraining's binary_logloss: 0.0116153\tvalid_1's binary_logloss: 0.204558\n",
      "Training until validation scores don't improve for 10 rounds\n",
      "[20]\ttraining's binary_logloss: 0.26502\tvalid_1's binary_logloss: 0.349337\n",
      "[40]\ttraining's binary_logloss: 0.171224\tvalid_1's binary_logloss: 0.292133\n",
      "[60]\ttraining's binary_logloss: 0.11409\tvalid_1's binary_logloss: 0.255303\n",
      "[80]\ttraining's binary_logloss: 0.0778414\tvalid_1's binary_logloss: 0.23249\n",
      "[100]\ttraining's binary_logloss: 0.0540926\tvalid_1's binary_logloss: 0.217649\n",
      "[120]\ttraining's binary_logloss: 0.0384237\tvalid_1's binary_logloss: 0.208428\n",
      "[140]\ttraining's binary_logloss: 0.0272393\tvalid_1's binary_logloss: 0.203187\n",
      "[160]\ttraining's binary_logloss: 0.0194302\tvalid_1's binary_logloss: 0.199638\n"
     ]
    },
    {
     "name": "stderr",
     "output_type": "stream",
     "text": [
      "dna_inhibitor logloss: 0.20172464399288098\n",
      "=========================================================================================\n"
     ]
    },
    {
     "name": "stdout",
     "output_type": "stream",
     "text": [
      "[180]\ttraining's binary_logloss: 0.0139171\tvalid_1's binary_logloss: 0.199051\n",
      "Early stopping, best iteration is:\n",
      "[171]\ttraining's binary_logloss: 0.0162155\tvalid_1's binary_logloss: 0.198891\n"
     ]
    },
    {
     "name": "stderr",
     "output_type": "stream",
     "text": [
      "len(train_index) : 993\n",
      "len(valid_index) : 994\n",
      "================================= 1fold lightgbm =================================\n"
     ]
    },
    {
     "name": "stdout",
     "output_type": "stream",
     "text": [
      "Training until validation scores don't improve for 10 rounds\n",
      "[20]\ttraining's binary_logloss: 0.105791\tvalid_1's binary_logloss: 0.179185\n",
      "[40]\ttraining's binary_logloss: 0.0620176\tvalid_1's binary_logloss: 0.160531\n",
      "[60]\ttraining's binary_logloss: 0.0387675\tvalid_1's binary_logloss: 0.15105\n",
      "[80]\ttraining's binary_logloss: 0.025156\tvalid_1's binary_logloss: 0.146632\n",
      "[100]\ttraining's binary_logloss: 0.0164277\tvalid_1's binary_logloss: 0.144935\n"
     ]
    },
    {
     "name": "stderr",
     "output_type": "stream",
     "text": [
      "len(train_index) : 994\n",
      "len(valid_index) : 993\n",
      "================================= 2fold lightgbm =================================\n"
     ]
    },
    {
     "name": "stdout",
     "output_type": "stream",
     "text": [
      "Early stopping, best iteration is:\n",
      "[99]\ttraining's binary_logloss: 0.0167433\tvalid_1's binary_logloss: 0.144679\n",
      "Training until validation scores don't improve for 10 rounds\n",
      "[20]\ttraining's binary_logloss: 0.110073\tvalid_1's binary_logloss: 0.18251\n",
      "[40]\ttraining's binary_logloss: 0.0649192\tvalid_1's binary_logloss: 0.163011\n",
      "[60]\ttraining's binary_logloss: 0.0405871\tvalid_1's binary_logloss: 0.15156\n",
      "[80]\ttraining's binary_logloss: 0.0255851\tvalid_1's binary_logloss: 0.148669\n",
      "[100]\ttraining's binary_logloss: 0.0168975\tvalid_1's binary_logloss: 0.146407\n"
     ]
    },
    {
     "name": "stderr",
     "output_type": "stream",
     "text": [
      "dopamine_receptor_agonist logloss: 0.14537704369968088\n",
      "=========================================================================================\n"
     ]
    },
    {
     "name": "stdout",
     "output_type": "stream",
     "text": [
      "Early stopping, best iteration is:\n",
      "[97]\ttraining's binary_logloss: 0.018077\tvalid_1's binary_logloss: 0.146075\n"
     ]
    },
    {
     "name": "stderr",
     "output_type": "stream",
     "text": [
      "len(train_index) : 1145\n",
      "len(valid_index) : 1145\n",
      "================================= 1fold lightgbm =================================\n"
     ]
    },
    {
     "name": "stdout",
     "output_type": "stream",
     "text": [
      "Training until validation scores don't improve for 10 rounds\n",
      "[20]\ttraining's binary_logloss: 0.271115\tvalid_1's binary_logloss: 0.34846\n",
      "[40]\ttraining's binary_logloss: 0.1753\tvalid_1's binary_logloss: 0.285283\n",
      "[60]\ttraining's binary_logloss: 0.119459\tvalid_1's binary_logloss: 0.247342\n",
      "[80]\ttraining's binary_logloss: 0.0833996\tvalid_1's binary_logloss: 0.223105\n",
      "[100]\ttraining's binary_logloss: 0.0595469\tvalid_1's binary_logloss: 0.207128\n",
      "[120]\ttraining's binary_logloss: 0.0426999\tvalid_1's binary_logloss: 0.196499\n",
      "[140]\ttraining's binary_logloss: 0.0308551\tvalid_1's binary_logloss: 0.191328\n",
      "[160]\ttraining's binary_logloss: 0.0222762\tvalid_1's binary_logloss: 0.187647\n",
      "[180]\ttraining's binary_logloss: 0.0160985\tvalid_1's binary_logloss: 0.185842\n"
     ]
    },
    {
     "name": "stderr",
     "output_type": "stream",
     "text": [
      "len(train_index) : 1145\n",
      "len(valid_index) : 1145\n",
      "================================= 2fold lightgbm =================================\n"
     ]
    },
    {
     "name": "stdout",
     "output_type": "stream",
     "text": [
      "Early stopping, best iteration is:\n",
      "[185]\ttraining's binary_logloss: 0.0148781\tvalid_1's binary_logloss: 0.185343\n",
      "Training until validation scores don't improve for 10 rounds\n",
      "[20]\ttraining's binary_logloss: 0.267925\tvalid_1's binary_logloss: 0.353808\n",
      "[40]\ttraining's binary_logloss: 0.169119\tvalid_1's binary_logloss: 0.290196\n",
      "[60]\ttraining's binary_logloss: 0.112628\tvalid_1's binary_logloss: 0.253521\n",
      "[80]\ttraining's binary_logloss: 0.0765934\tvalid_1's binary_logloss: 0.231811\n",
      "[100]\ttraining's binary_logloss: 0.0534558\tvalid_1's binary_logloss: 0.220672\n",
      "[120]\ttraining's binary_logloss: 0.037528\tvalid_1's binary_logloss: 0.213637\n",
      "[140]\ttraining's binary_logloss: 0.0266384\tvalid_1's binary_logloss: 0.209465\n",
      "[160]\ttraining's binary_logloss: 0.0189446\tvalid_1's binary_logloss: 0.207595\n"
     ]
    },
    {
     "name": "stderr",
     "output_type": "stream",
     "text": [
      "dopamine_receptor_antagonist logloss: 0.19644812932901648\n",
      "=========================================================================================\n"
     ]
    },
    {
     "name": "stdout",
     "output_type": "stream",
     "text": [
      "Early stopping, best iteration is:\n",
      "[159]\ttraining's binary_logloss: 0.0192783\tvalid_1's binary_logloss: 0.207553\n"
     ]
    },
    {
     "name": "stderr",
     "output_type": "stream",
     "text": [
      "len(train_index) : 1101\n",
      "len(valid_index) : 1101\n",
      "================================= 1fold lightgbm =================================\n"
     ]
    },
    {
     "name": "stdout",
     "output_type": "stream",
     "text": [
      "Training until validation scores don't improve for 10 rounds\n",
      "[20]\ttraining's binary_logloss: 0.209462\tvalid_1's binary_logloss: 0.242331\n",
      "[40]\ttraining's binary_logloss: 0.120231\tvalid_1's binary_logloss: 0.175034\n",
      "[60]\ttraining's binary_logloss: 0.0724859\tvalid_1's binary_logloss: 0.140027\n",
      "[80]\ttraining's binary_logloss: 0.0445727\tvalid_1's binary_logloss: 0.121389\n",
      "[100]\ttraining's binary_logloss: 0.0277141\tvalid_1's binary_logloss: 0.110942\n",
      "[120]\ttraining's binary_logloss: 0.0172918\tvalid_1's binary_logloss: 0.104241\n",
      "[140]\ttraining's binary_logloss: 0.0108496\tvalid_1's binary_logloss: 0.0995186\n",
      "[160]\ttraining's binary_logloss: 0.00687145\tvalid_1's binary_logloss: 0.0984259\n"
     ]
    },
    {
     "name": "stderr",
     "output_type": "stream",
     "text": [
      "len(train_index) : 1101\n",
      "len(valid_index) : 1101\n",
      "================================= 2fold lightgbm =================================\n"
     ]
    },
    {
     "name": "stdout",
     "output_type": "stream",
     "text": [
      "Early stopping, best iteration is:\n",
      "[161]\ttraining's binary_logloss: 0.00670717\tvalid_1's binary_logloss: 0.098263\n",
      "Training until validation scores don't improve for 10 rounds\n",
      "[20]\ttraining's binary_logloss: 0.213447\tvalid_1's binary_logloss: 0.250221\n",
      "[40]\ttraining's binary_logloss: 0.124747\tvalid_1's binary_logloss: 0.18041\n",
      "[60]\ttraining's binary_logloss: 0.0756906\tvalid_1's binary_logloss: 0.144494\n",
      "[80]\ttraining's binary_logloss: 0.0469094\tvalid_1's binary_logloss: 0.124569\n",
      "[100]\ttraining's binary_logloss: 0.0294279\tvalid_1's binary_logloss: 0.113254\n",
      "[120]\ttraining's binary_logloss: 0.018541\tvalid_1's binary_logloss: 0.106308\n",
      "[140]\ttraining's binary_logloss: 0.0117627\tvalid_1's binary_logloss: 0.10346\n",
      "[160]\ttraining's binary_logloss: 0.00755259\tvalid_1's binary_logloss: 0.102488\n"
     ]
    },
    {
     "name": "stderr",
     "output_type": "stream",
     "text": [
      "egfr_inhibitor logloss: 0.10030058340348558\n",
      "=========================================================================================\n"
     ]
    },
    {
     "name": "stdout",
     "output_type": "stream",
     "text": [
      "Early stopping, best iteration is:\n",
      "[155]\ttraining's binary_logloss: 0.00842518\tvalid_1's binary_logloss: 0.102338\n"
     ]
    },
    {
     "name": "stderr",
     "output_type": "stream",
     "text": [
      "len(train_index) : 936\n",
      "len(valid_index) : 936\n",
      "================================= 1fold lightgbm =================================\n"
     ]
    },
    {
     "name": "stdout",
     "output_type": "stream",
     "text": [
      "Training until validation scores don't improve for 10 rounds\n"
     ]
    },
    {
     "name": "stderr",
     "output_type": "stream",
     "text": [
      "len(train_index) : 936\n",
      "len(valid_index) : 936\n",
      "================================= 2fold lightgbm =================================\n"
     ]
    },
    {
     "name": "stdout",
     "output_type": "stream",
     "text": [
      "Early stopping, best iteration is:\n",
      "[6]\ttraining's binary_logloss: 0.0110181\tvalid_1's binary_logloss: 0.0208594\n",
      "Training until validation scores don't improve for 10 rounds\n",
      "[20]\ttraining's binary_logloss: 0.00556596\tvalid_1's binary_logloss: 0.0203616\n"
     ]
    },
    {
     "name": "stderr",
     "output_type": "stream",
     "text": [
      "elastase_inhibitor logloss: 0.02049987114621804\n",
      "=========================================================================================\n",
      "len(train_index) : 933\n",
      "len(valid_index) : 934\n"
     ]
    },
    {
     "name": "stdout",
     "output_type": "stream",
     "text": [
      "Early stopping, best iteration is:\n",
      "[27]\ttraining's binary_logloss: 0.00428425\tvalid_1's binary_logloss: 0.0201404\n"
     ]
    },
    {
     "name": "stderr",
     "output_type": "stream",
     "text": [
      "================================= 1fold lightgbm =================================\n",
      "len(train_index) : 934\n",
      "len(valid_index) : 933\n",
      "================================= 2fold lightgbm =================================\n"
     ]
    },
    {
     "name": "stdout",
     "output_type": "stream",
     "text": [
      "Training until validation scores don't improve for 10 rounds\n",
      "Early stopping, best iteration is:\n",
      "[1]\ttraining's binary_logloss: 0\tvalid_1's binary_logloss: 0.0369794\n",
      "Training until validation scores don't improve for 10 rounds\n",
      "[20]\ttraining's binary_logloss: 0.00174411\tvalid_1's binary_logloss: 0.000728202\n",
      "[40]\ttraining's binary_logloss: 0.000883282\tvalid_1's binary_logloss: 0.000424014\n",
      "[60]\ttraining's binary_logloss: 0.000480971\tvalid_1's binary_logloss: 0.000246277\n",
      "[80]\ttraining's binary_logloss: 0.000268785\tvalid_1's binary_logloss: 0.000142044\n",
      "[100]\ttraining's binary_logloss: 0.000152114\tvalid_1's binary_logloss: 8.30692e-05\n",
      "[120]\ttraining's binary_logloss: 8.67053e-05\tvalid_1's binary_logloss: 4.89986e-05\n",
      "[140]\ttraining's binary_logloss: 4.96566e-05\tvalid_1's binary_logloss: 2.90823e-05\n",
      "[160]\ttraining's binary_logloss: 2.85363e-05\tvalid_1's binary_logloss: 1.74962e-05\n",
      "[180]\ttraining's binary_logloss: 1.64455e-05\tvalid_1's binary_logloss: 1.05734e-05\n",
      "[200]\ttraining's binary_logloss: 9.49856e-06\tvalid_1's binary_logloss: 6.56036e-06\n",
      "[220]\ttraining's binary_logloss: 5.49718e-06\tvalid_1's binary_logloss: 4.04109e-06\n",
      "[240]\ttraining's binary_logloss: 3.18783e-06\tvalid_1's binary_logloss: 2.48485e-06\n",
      "[260]\ttraining's binary_logloss: 2.12115e-06\tvalid_1's binary_logloss: 1.7626e-06\n",
      "Early stopping, best iteration is:\n",
      "[255]\ttraining's binary_logloss: 2.12115e-06\tvalid_1's binary_logloss: 1.7626e-06\n"
     ]
    },
    {
     "name": "stderr",
     "output_type": "stream",
     "text": [
      "erbb2_inhibitor logloss: 0.018500493249676037\n",
      "=========================================================================================\n",
      "len(train_index) : 1012\n",
      "len(valid_index) : 1012\n",
      "================================= 1fold lightgbm =================================\n"
     ]
    },
    {
     "name": "stdout",
     "output_type": "stream",
     "text": [
      "Training until validation scores don't improve for 10 rounds\n",
      "[20]\ttraining's binary_logloss: 0.142262\tvalid_1's binary_logloss: 0.223456\n",
      "[40]\ttraining's binary_logloss: 0.0868883\tvalid_1's binary_logloss: 0.201193\n",
      "[60]\ttraining's binary_logloss: 0.0554103\tvalid_1's binary_logloss: 0.188609\n",
      "[80]\ttraining's binary_logloss: 0.0363845\tvalid_1's binary_logloss: 0.180585\n",
      "[100]\ttraining's binary_logloss: 0.0243199\tvalid_1's binary_logloss: 0.177425\n",
      "[120]\ttraining's binary_logloss: 0.0164596\tvalid_1's binary_logloss: 0.1767\n",
      "Early stopping, best iteration is:\n",
      "[113]\ttraining's binary_logloss: 0.0188983\tvalid_1's binary_logloss: 0.175598\n"
     ]
    },
    {
     "name": "stderr",
     "output_type": "stream",
     "text": [
      "len(train_index) : 1012\n",
      "len(valid_index) : 1012\n",
      "================================= 2fold lightgbm =================================\n"
     ]
    },
    {
     "name": "stdout",
     "output_type": "stream",
     "text": [
      "Training until validation scores don't improve for 10 rounds\n",
      "[20]\ttraining's binary_logloss: 0.13611\tvalid_1's binary_logloss: 0.227643\n",
      "[40]\ttraining's binary_logloss: 0.0821124\tvalid_1's binary_logloss: 0.212239\n",
      "[60]\ttraining's binary_logloss: 0.0510645\tvalid_1's binary_logloss: 0.204307\n",
      "[80]\ttraining's binary_logloss: 0.0330161\tvalid_1's binary_logloss: 0.199141\n"
     ]
    },
    {
     "name": "stderr",
     "output_type": "stream",
     "text": [
      "estrogen_receptor_agonist logloss: 0.18706745675075073\n",
      "=========================================================================================\n"
     ]
    },
    {
     "name": "stdout",
     "output_type": "stream",
     "text": [
      "[100]\ttraining's binary_logloss: 0.0215749\tvalid_1's binary_logloss: 0.199347\n",
      "Early stopping, best iteration is:\n",
      "[90]\ttraining's binary_logloss: 0.0266948\tvalid_1's binary_logloss: 0.198537\n"
     ]
    },
    {
     "name": "stderr",
     "output_type": "stream",
     "text": [
      "len(train_index) : 957\n",
      "len(valid_index) : 957\n",
      "================================= 1fold lightgbm =================================\n"
     ]
    },
    {
     "name": "stdout",
     "output_type": "stream",
     "text": [
      "Training until validation scores don't improve for 10 rounds\n",
      "[20]\ttraining's binary_logloss: 0.0460601\tvalid_1's binary_logloss: 0.0908965\n",
      "[40]\ttraining's binary_logloss: 0.0241187\tvalid_1's binary_logloss: 0.0825377\n",
      "[60]\ttraining's binary_logloss: 0.0138724\tvalid_1's binary_logloss: 0.0809131\n",
      "Early stopping, best iteration is:\n",
      "[52]\ttraining's binary_logloss: 0.0172186\tvalid_1's binary_logloss: 0.0801523\n"
     ]
    },
    {
     "name": "stderr",
     "output_type": "stream",
     "text": [
      "len(train_index) : 957\n",
      "len(valid_index) : 957\n",
      "================================= 2fold lightgbm =================================\n"
     ]
    },
    {
     "name": "stdout",
     "output_type": "stream",
     "text": [
      "Training until validation scores don't improve for 10 rounds\n",
      "[20]\ttraining's binary_logloss: 0.0410384\tvalid_1's binary_logloss: 0.096397\n",
      "[40]\ttraining's binary_logloss: 0.0214857\tvalid_1's binary_logloss: 0.0901718\n"
     ]
    },
    {
     "name": "stderr",
     "output_type": "stream",
     "text": [
      "estrogen_receptor_antagonist logloss: 0.0841955443609586\n",
      "=========================================================================================\n"
     ]
    },
    {
     "name": "stdout",
     "output_type": "stream",
     "text": [
      "[60]\ttraining's binary_logloss: 0.0120758\tvalid_1's binary_logloss: 0.0882414\n",
      "Early stopping, best iteration is:\n",
      "[51]\ttraining's binary_logloss: 0.0155921\tvalid_1's binary_logloss: 0.0882388\n"
     ]
    },
    {
     "name": "stderr",
     "output_type": "stream",
     "text": [
      "len(train_index) : 951\n",
      "len(valid_index) : 951\n",
      "================================= 1fold lightgbm =================================\n"
     ]
    },
    {
     "name": "stdout",
     "output_type": "stream",
     "text": [
      "Training until validation scores don't improve for 10 rounds\n",
      "[20]\ttraining's binary_logloss: 0.0356396\tvalid_1's binary_logloss: 0.0894924\n"
     ]
    },
    {
     "name": "stderr",
     "output_type": "stream",
     "text": [
      "len(train_index) : 951\n",
      "len(valid_index) : 951\n",
      "================================= 2fold lightgbm =================================\n"
     ]
    },
    {
     "name": "stdout",
     "output_type": "stream",
     "text": [
      "[40]\ttraining's binary_logloss: 0.0187542\tvalid_1's binary_logloss: 0.0897668\n",
      "Early stopping, best iteration is:\n",
      "[30]\ttraining's binary_logloss: 0.0252923\tvalid_1's binary_logloss: 0.0893275\n",
      "Training until validation scores don't improve for 10 rounds\n",
      "[20]\ttraining's binary_logloss: 0.036061\tvalid_1's binary_logloss: 0.0846633\n",
      "[40]\ttraining's binary_logloss: 0.0194002\tvalid_1's binary_logloss: 0.0838072\n"
     ]
    },
    {
     "name": "stderr",
     "output_type": "stream",
     "text": [
      "faah_inhibitor logloss: 0.08620257495434376\n",
      "=========================================================================================\n",
      "len(train_index) : 942\n",
      "len(valid_index) : 942\n",
      "================================= 1fold lightgbm =================================\n"
     ]
    },
    {
     "name": "stdout",
     "output_type": "stream",
     "text": [
      "Early stopping, best iteration is:\n",
      "[34]\ttraining's binary_logloss: 0.0230443\tvalid_1's binary_logloss: 0.0830776\n",
      "Training until validation scores don't improve for 10 rounds\n",
      "[20]\ttraining's binary_logloss: 0.0160554\tvalid_1's binary_logloss: 0.0265278\n",
      "[40]\ttraining's binary_logloss: 0.0081251\tvalid_1's binary_logloss: 0.0218248\n",
      "[60]\ttraining's binary_logloss: 0.00442441\tvalid_1's binary_logloss: 0.019277\n",
      "[80]\ttraining's binary_logloss: 0.00246411\tvalid_1's binary_logloss: 0.018128\n",
      "[100]\ttraining's binary_logloss: 0.00139001\tvalid_1's binary_logloss: 0.0176065\n",
      "[120]\ttraining's binary_logloss: 0.000782396\tvalid_1's binary_logloss: 0.0175117\n",
      "Early stopping, best iteration is:\n",
      "[114]\ttraining's binary_logloss: 0.000929758\tvalid_1's binary_logloss: 0.017415\n"
     ]
    },
    {
     "name": "stderr",
     "output_type": "stream",
     "text": [
      "len(train_index) : 942\n",
      "len(valid_index) : 942\n",
      "================================= 2fold lightgbm =================================\n"
     ]
    },
    {
     "name": "stdout",
     "output_type": "stream",
     "text": [
      "Training until validation scores don't improve for 10 rounds\n",
      "[20]\ttraining's binary_logloss: 0.0163778\tvalid_1's binary_logloss: 0.0342981\n",
      "[40]\ttraining's binary_logloss: 0.00820483\tvalid_1's binary_logloss: 0.0296091\n",
      "[60]\ttraining's binary_logloss: 0.0044083\tvalid_1's binary_logloss: 0.0283285\n",
      "[80]\ttraining's binary_logloss: 0.00243266\tvalid_1's binary_logloss: 0.0275003\n"
     ]
    },
    {
     "name": "stderr",
     "output_type": "stream",
     "text": [
      "farnesyltransferase_inhibitor logloss: 0.022374374232885047\n",
      "=========================================================================================\n",
      "len(train_index) : 945\n",
      "len(valid_index) : 946\n",
      "================================= 1fold lightgbm =================================\n"
     ]
    },
    {
     "name": "stdout",
     "output_type": "stream",
     "text": [
      "Early stopping, best iteration is:\n",
      "[77]\ttraining's binary_logloss: 0.00265012\tvalid_1's binary_logloss: 0.0273338\n",
      "Training until validation scores don't improve for 10 rounds\n",
      "[20]\ttraining's binary_logloss: 0.0222061\tvalid_1's binary_logloss: 0.0659616\n",
      "[40]\ttraining's binary_logloss: 0.0112281\tvalid_1's binary_logloss: 0.0637282\n"
     ]
    },
    {
     "name": "stderr",
     "output_type": "stream",
     "text": [
      "len(train_index) : 946\n",
      "len(valid_index) : 945\n",
      "================================= 2fold lightgbm =================================\n"
     ]
    },
    {
     "name": "stdout",
     "output_type": "stream",
     "text": [
      "Early stopping, best iteration is:\n",
      "[43]\ttraining's binary_logloss: 0.0102154\tvalid_1's binary_logloss: 0.0630742\n",
      "Training until validation scores don't improve for 10 rounds\n",
      "[20]\ttraining's binary_logloss: 0.0236924\tvalid_1's binary_logloss: 0.0632131\n"
     ]
    },
    {
     "name": "stderr",
     "output_type": "stream",
     "text": [
      "fatty_acid_receptor_agonist logloss: 0.06310073389683006\n",
      "=========================================================================================\n",
      "len(train_index) : 958\n",
      "len(valid_index) : 958\n",
      "================================= 1fold lightgbm =================================\n"
     ]
    },
    {
     "name": "stdout",
     "output_type": "stream",
     "text": [
      "Early stopping, best iteration is:\n",
      "[23]\ttraining's binary_logloss: 0.0211503\tvalid_1's binary_logloss: 0.0631273\n",
      "Training until validation scores don't improve for 10 rounds\n",
      "[20]\ttraining's binary_logloss: 0.0473557\tvalid_1's binary_logloss: 0.0680534\n",
      "[40]\ttraining's binary_logloss: 0.0263375\tvalid_1's binary_logloss: 0.0571106\n",
      "[60]\ttraining's binary_logloss: 0.0151273\tvalid_1's binary_logloss: 0.0509564\n",
      "[80]\ttraining's binary_logloss: 0.00887453\tvalid_1's binary_logloss: 0.0482964\n"
     ]
    },
    {
     "name": "stderr",
     "output_type": "stream",
     "text": [
      "len(train_index) : 958\n",
      "len(valid_index) : 958\n",
      "================================= 2fold lightgbm =================================\n"
     ]
    },
    {
     "name": "stdout",
     "output_type": "stream",
     "text": [
      "Early stopping, best iteration is:\n",
      "[85]\ttraining's binary_logloss: 0.0077735\tvalid_1's binary_logloss: 0.0481149\n",
      "Training until validation scores don't improve for 10 rounds\n",
      "[20]\ttraining's binary_logloss: 0.0450051\tvalid_1's binary_logloss: 0.0689626\n",
      "[40]\ttraining's binary_logloss: 0.0239149\tvalid_1's binary_logloss: 0.05985\n",
      "[60]\ttraining's binary_logloss: 0.0134649\tvalid_1's binary_logloss: 0.0566647\n",
      "[80]\ttraining's binary_logloss: 0.00782119\tvalid_1's binary_logloss: 0.0555886\n"
     ]
    },
    {
     "name": "stderr",
     "output_type": "stream",
     "text": [
      "fgfr_inhibitor logloss: 0.05184258615192704\n",
      "=========================================================================================\n",
      "len(train_index) : 1072\n",
      "len(valid_index) : 1073\n",
      "================================= 1fold lightgbm =================================\n"
     ]
    },
    {
     "name": "stdout",
     "output_type": "stream",
     "text": [
      "Early stopping, best iteration is:\n",
      "[78]\ttraining's binary_logloss: 0.00825966\tvalid_1's binary_logloss: 0.0555703\n",
      "Training until validation scores don't improve for 10 rounds\n",
      "[20]\ttraining's binary_logloss: 0.183732\tvalid_1's binary_logloss: 0.2092\n",
      "[40]\ttraining's binary_logloss: 0.111846\tvalid_1's binary_logloss: 0.154856\n",
      "[60]\ttraining's binary_logloss: 0.0688262\tvalid_1's binary_logloss: 0.12758\n",
      "[80]\ttraining's binary_logloss: 0.0425989\tvalid_1's binary_logloss: 0.111994\n",
      "[100]\ttraining's binary_logloss: 0.026967\tvalid_1's binary_logloss: 0.104083\n",
      "[120]\ttraining's binary_logloss: 0.0174109\tvalid_1's binary_logloss: 0.0998139\n",
      "[140]\ttraining's binary_logloss: 0.0110246\tvalid_1's binary_logloss: 0.0941442\n",
      "[160]\ttraining's binary_logloss: 0.00711686\tvalid_1's binary_logloss: 0.0911555\n"
     ]
    },
    {
     "name": "stderr",
     "output_type": "stream",
     "text": [
      "len(train_index) : 1073\n",
      "len(valid_index) : 1072\n",
      "================================= 2fold lightgbm =================================\n"
     ]
    },
    {
     "name": "stdout",
     "output_type": "stream",
     "text": [
      "Early stopping, best iteration is:\n",
      "[158]\ttraining's binary_logloss: 0.00743563\tvalid_1's binary_logloss: 0.0910568\n",
      "Training until validation scores don't improve for 10 rounds\n",
      "[20]\ttraining's binary_logloss: 0.18029\tvalid_1's binary_logloss: 0.208711\n",
      "[40]\ttraining's binary_logloss: 0.105692\tvalid_1's binary_logloss: 0.155478\n",
      "[60]\ttraining's binary_logloss: 0.0645096\tvalid_1's binary_logloss: 0.130047\n",
      "[80]\ttraining's binary_logloss: 0.0392091\tvalid_1's binary_logloss: 0.117703\n",
      "[100]\ttraining's binary_logloss: 0.0241586\tvalid_1's binary_logloss: 0.112582\n"
     ]
    },
    {
     "name": "stderr",
     "output_type": "stream",
     "text": [
      "flt3_inhibitor logloss: 0.10117890731702373\n",
      "=========================================================================================\n",
      "len(train_index) : 942\n",
      "len(valid_index) : 942\n",
      "================================= 1fold lightgbm =================================\n"
     ]
    },
    {
     "name": "stdout",
     "output_type": "stream",
     "text": [
      "Early stopping, best iteration is:\n",
      "[108]\ttraining's binary_logloss: 0.0198608\tvalid_1's binary_logloss: 0.11131\n",
      "Training until validation scores don't improve for 10 rounds\n",
      "[20]\ttraining's binary_logloss: 0.0159054\tvalid_1's binary_logloss: 0.0283399\n",
      "[40]\ttraining's binary_logloss: 0.00865933\tvalid_1's binary_logloss: 0.0220828\n",
      "[60]\ttraining's binary_logloss: 0.00477119\tvalid_1's binary_logloss: 0.0199032\n",
      "[80]\ttraining's binary_logloss: 0.00264654\tvalid_1's binary_logloss: 0.0193769\n"
     ]
    },
    {
     "name": "stderr",
     "output_type": "stream",
     "text": [
      "len(train_index) : 942\n",
      "len(valid_index) : 942\n",
      "================================= 2fold lightgbm =================================\n"
     ]
    },
    {
     "name": "stdout",
     "output_type": "stream",
     "text": [
      "Early stopping, best iteration is:\n",
      "[84]\ttraining's binary_logloss: 0.00235044\tvalid_1's binary_logloss: 0.0193268\n",
      "Training until validation scores don't improve for 10 rounds\n",
      "[20]\ttraining's binary_logloss: 0.0153187\tvalid_1's binary_logloss: 0.0324536\n",
      "[40]\ttraining's binary_logloss: 0.00780582\tvalid_1's binary_logloss: 0.0273826\n",
      "[60]\ttraining's binary_logloss: 0.0042665\tvalid_1's binary_logloss: 0.0246189\n",
      "[80]\ttraining's binary_logloss: 0.00240496\tvalid_1's binary_logloss: 0.0233117\n",
      "[100]\ttraining's binary_logloss: 0.00136795\tvalid_1's binary_logloss: 0.0227289\n"
     ]
    },
    {
     "name": "stderr",
     "output_type": "stream",
     "text": [
      "focal_adhesion_kinase_inhibitor logloss: 0.020807297207359392\n"
     ]
    },
    {
     "name": "stdout",
     "output_type": "stream",
     "text": [
      "[120]\ttraining's binary_logloss: 0.000783857\tvalid_1's binary_logloss: 0.0224267\n",
      "Early stopping, best iteration is:\n",
      "[113]\ttraining's binary_logloss: 0.000954091\tvalid_1's binary_logloss: 0.0222878\n"
     ]
    },
    {
     "name": "stderr",
     "output_type": "stream",
     "text": [
      "=========================================================================================\n",
      "len(train_index) : 942\n",
      "len(valid_index) : 942\n",
      "================================= 1fold lightgbm =================================\n"
     ]
    },
    {
     "name": "stdout",
     "output_type": "stream",
     "text": [
      "Training until validation scores don't improve for 10 rounds\n",
      "[20]\ttraining's binary_logloss: 0.0155818\tvalid_1's binary_logloss: 0.050009\n"
     ]
    },
    {
     "name": "stderr",
     "output_type": "stream",
     "text": [
      "len(train_index) : 942\n"
     ]
    },
    {
     "name": "stdout",
     "output_type": "stream",
     "text": [
      "[40]\ttraining's binary_logloss: 0.00797932\tvalid_1's binary_logloss: 0.049471\n",
      "Early stopping, best iteration is:\n",
      "[33]\ttraining's binary_logloss: 0.00994363\tvalid_1's binary_logloss: 0.0491401\n"
     ]
    },
    {
     "name": "stderr",
     "output_type": "stream",
     "text": [
      "len(valid_index) : 942\n",
      "================================= 2fold lightgbm =================================\n"
     ]
    },
    {
     "name": "stdout",
     "output_type": "stream",
     "text": [
      "Training until validation scores don't improve for 10 rounds\n",
      "[20]\ttraining's binary_logloss: 0.0161115\tvalid_1's binary_logloss: 0.0463657\n",
      "[40]\ttraining's binary_logloss: 0.00824144\tvalid_1's binary_logloss: 0.0450727\n",
      "[60]\ttraining's binary_logloss: 0.00451099\tvalid_1's binary_logloss: 0.0446787\n"
     ]
    },
    {
     "name": "stderr",
     "output_type": "stream",
     "text": [
      "free_radical_scavenger logloss: 0.04685758096427435\n",
      "=========================================================================================\n",
      "len(train_index) : 944\n",
      "len(valid_index) : 945\n",
      "================================= 1fold lightgbm =================================\n"
     ]
    },
    {
     "name": "stdout",
     "output_type": "stream",
     "text": [
      "Early stopping, best iteration is:\n",
      "[64]\ttraining's binary_logloss: 0.0040165\tvalid_1's binary_logloss: 0.0445751\n",
      "Training until validation scores don't improve for 10 rounds\n",
      "[20]\ttraining's binary_logloss: 0.0214673\tvalid_1's binary_logloss: 0.0555192\n",
      "[40]\ttraining's binary_logloss: 0.010306\tvalid_1's binary_logloss: 0.0541545\n"
     ]
    },
    {
     "name": "stderr",
     "output_type": "stream",
     "text": [
      "len(train_index) : 945\n",
      "len(valid_index) : 944\n",
      "================================= 2fold lightgbm =================================\n"
     ]
    },
    {
     "name": "stdout",
     "output_type": "stream",
     "text": [
      "Early stopping, best iteration is:\n",
      "[39]\ttraining's binary_logloss: 0.0106511\tvalid_1's binary_logloss: 0.0540746\n",
      "Training until validation scores don't improve for 10 rounds\n",
      "[20]\ttraining's binary_logloss: 0.0233053\tvalid_1's binary_logloss: 0.0543276\n",
      "[40]\ttraining's binary_logloss: 0.01186\tvalid_1's binary_logloss: 0.0533991\n",
      "[60]\ttraining's binary_logloss: 0.00645187\tvalid_1's binary_logloss: 0.0518509\n"
     ]
    },
    {
     "name": "stderr",
     "output_type": "stream",
     "text": [
      "fungal_squalene_epoxidase_inhibitor logloss: 0.05294914759922725\n",
      "=========================================================================================\n",
      "len(train_index) : 986\n",
      "len(valid_index) : 986\n",
      "================================= 1fold lightgbm =================================\n"
     ]
    },
    {
     "name": "stdout",
     "output_type": "stream",
     "text": [
      "Early stopping, best iteration is:\n",
      "[61]\ttraining's binary_logloss: 0.00626092\tvalid_1's binary_logloss: 0.0518225\n",
      "Training until validation scores don't improve for 10 rounds\n",
      "[20]\ttraining's binary_logloss: 0.0965628\tvalid_1's binary_logloss: 0.1719\n",
      "[40]\ttraining's binary_logloss: 0.056713\tvalid_1's binary_logloss: 0.158465\n",
      "[60]\ttraining's binary_logloss: 0.0354946\tvalid_1's binary_logloss: 0.152667\n"
     ]
    },
    {
     "name": "stderr",
     "output_type": "stream",
     "text": [
      "len(train_index) : 986\n",
      "len(valid_index) : 986\n",
      "================================= 2fold lightgbm =================================\n"
     ]
    },
    {
     "name": "stdout",
     "output_type": "stream",
     "text": [
      "Early stopping, best iteration is:\n",
      "[66]\ttraining's binary_logloss: 0.0308865\tvalid_1's binary_logloss: 0.151828\n",
      "Training until validation scores don't improve for 10 rounds\n",
      "[20]\ttraining's binary_logloss: 0.0987249\tvalid_1's binary_logloss: 0.182887\n",
      "[40]\ttraining's binary_logloss: 0.0571173\tvalid_1's binary_logloss: 0.17014\n",
      "[60]\ttraining's binary_logloss: 0.0354559\tvalid_1's binary_logloss: 0.164062\n",
      "[80]\ttraining's binary_logloss: 0.0222442\tvalid_1's binary_logloss: 0.162076\n"
     ]
    },
    {
     "name": "stderr",
     "output_type": "stream",
     "text": [
      "gaba_receptor_agonist logloss: 0.15660720121521668\n",
      "=========================================================================================\n"
     ]
    },
    {
     "name": "stdout",
     "output_type": "stream",
     "text": [
      "Early stopping, best iteration is:\n",
      "[83]\ttraining's binary_logloss: 0.0209113\tvalid_1's binary_logloss: 0.161387\n"
     ]
    },
    {
     "name": "stderr",
     "output_type": "stream",
     "text": [
      "len(train_index) : 1015\n",
      "len(valid_index) : 1016\n",
      "================================= 1fold lightgbm =================================\n"
     ]
    },
    {
     "name": "stdout",
     "output_type": "stream",
     "text": [
      "Training until validation scores don't improve for 10 rounds\n",
      "[20]\ttraining's binary_logloss: 0.139621\tvalid_1's binary_logloss: 0.214577\n",
      "[40]\ttraining's binary_logloss: 0.0835962\tvalid_1's binary_logloss: 0.190206\n",
      "[60]\ttraining's binary_logloss: 0.052381\tvalid_1's binary_logloss: 0.177615\n",
      "[80]\ttraining's binary_logloss: 0.0334393\tvalid_1's binary_logloss: 0.170841\n",
      "[100]\ttraining's binary_logloss: 0.0219287\tvalid_1's binary_logloss: 0.169032\n"
     ]
    },
    {
     "name": "stderr",
     "output_type": "stream",
     "text": [
      "len(train_index) : 1016\n",
      "len(valid_index) : 1015\n",
      "================================= 2fold lightgbm =================================\n"
     ]
    },
    {
     "name": "stdout",
     "output_type": "stream",
     "text": [
      "Early stopping, best iteration is:\n",
      "[101]\ttraining's binary_logloss: 0.0215216\tvalid_1's binary_logloss: 0.168662\n",
      "Training until validation scores don't improve for 10 rounds\n",
      "[20]\ttraining's binary_logloss: 0.141885\tvalid_1's binary_logloss: 0.22436\n",
      "[40]\ttraining's binary_logloss: 0.0852686\tvalid_1's binary_logloss: 0.194097\n",
      "[60]\ttraining's binary_logloss: 0.0545135\tvalid_1's binary_logloss: 0.178141\n",
      "[80]\ttraining's binary_logloss: 0.0358026\tvalid_1's binary_logloss: 0.168649\n",
      "[100]\ttraining's binary_logloss: 0.0241049\tvalid_1's binary_logloss: 0.16389\n",
      "[120]\ttraining's binary_logloss: 0.0161744\tvalid_1's binary_logloss: 0.162667\n"
     ]
    },
    {
     "name": "stderr",
     "output_type": "stream",
     "text": [
      "gaba_receptor_antagonist logloss: 0.1655269399226408\n",
      "=========================================================================================\n"
     ]
    },
    {
     "name": "stdout",
     "output_type": "stream",
     "text": [
      "Early stopping, best iteration is:\n",
      "[121]\ttraining's binary_logloss: 0.0159047\tvalid_1's binary_logloss: 0.162389\n"
     ]
    },
    {
     "name": "stderr",
     "output_type": "stream",
     "text": [
      "len(train_index) : 961\n",
      "len(valid_index) : 961\n",
      "================================= 1fold lightgbm =================================\n"
     ]
    },
    {
     "name": "stdout",
     "output_type": "stream",
     "text": [
      "Training until validation scores don't improve for 10 rounds\n",
      "[20]\ttraining's binary_logloss: 0.0489368\tvalid_1's binary_logloss: 0.0820704\n",
      "[40]\ttraining's binary_logloss: 0.0263069\tvalid_1's binary_logloss: 0.0715014\n",
      "[60]\ttraining's binary_logloss: 0.014519\tvalid_1's binary_logloss: 0.0678422\n"
     ]
    },
    {
     "name": "stderr",
     "output_type": "stream",
     "text": [
      "len(train_index) : 961\n",
      "len(valid_index) : 961\n",
      "================================= 2fold lightgbm =================================\n"
     ]
    },
    {
     "name": "stdout",
     "output_type": "stream",
     "text": [
      "Early stopping, best iteration is:\n",
      "[61]\ttraining's binary_logloss: 0.0141203\tvalid_1's binary_logloss: 0.0676203\n",
      "Training until validation scores don't improve for 10 rounds\n",
      "[20]\ttraining's binary_logloss: 0.0500761\tvalid_1's binary_logloss: 0.069695\n",
      "[40]\ttraining's binary_logloss: 0.0263389\tvalid_1's binary_logloss: 0.0599079\n",
      "[60]\ttraining's binary_logloss: 0.0149894\tvalid_1's binary_logloss: 0.0562938\n",
      "[80]\ttraining's binary_logloss: 0.00875639\tvalid_1's binary_logloss: 0.0539036\n"
     ]
    },
    {
     "name": "stderr",
     "output_type": "stream",
     "text": [
      "gamma_secretase_inhibitor logloss: 0.06052411350345947\n",
      "=========================================================================================\n"
     ]
    },
    {
     "name": "stdout",
     "output_type": "stream",
     "text": [
      "Early stopping, best iteration is:\n",
      "[88]\ttraining's binary_logloss: 0.00713524\tvalid_1's binary_logloss: 0.0534279\n"
     ]
    },
    {
     "name": "stderr",
     "output_type": "stream",
     "text": [
      "len(train_index) : 1066\n",
      "len(valid_index) : 1066\n",
      "================================= 1fold lightgbm =================================\n"
     ]
    },
    {
     "name": "stdout",
     "output_type": "stream",
     "text": [
      "Training until validation scores don't improve for 10 rounds\n",
      "[20]\ttraining's binary_logloss: 0.157041\tvalid_1's binary_logloss: 0.16509\n",
      "[40]\ttraining's binary_logloss: 0.0843534\tvalid_1's binary_logloss: 0.103081\n",
      "[60]\ttraining's binary_logloss: 0.0472993\tvalid_1's binary_logloss: 0.0746794\n",
      "[80]\ttraining's binary_logloss: 0.0272458\tvalid_1's binary_logloss: 0.0607612\n",
      "[100]\ttraining's binary_logloss: 0.0158414\tvalid_1's binary_logloss: 0.0545947\n",
      "[120]\ttraining's binary_logloss: 0.00924827\tvalid_1's binary_logloss: 0.0521183\n",
      "[140]\ttraining's binary_logloss: 0.00534615\tvalid_1's binary_logloss: 0.0512629\n"
     ]
    },
    {
     "name": "stderr",
     "output_type": "stream",
     "text": [
      "len(train_index) : 1066\n",
      "len(valid_index) : 1066\n",
      "================================= 2fold lightgbm =================================\n"
     ]
    },
    {
     "name": "stdout",
     "output_type": "stream",
     "text": [
      "Early stopping, best iteration is:\n",
      "[141]\ttraining's binary_logloss: 0.00520417\tvalid_1's binary_logloss: 0.0512176\n",
      "Training until validation scores don't improve for 10 rounds\n",
      "[20]\ttraining's binary_logloss: 0.156075\tvalid_1's binary_logloss: 0.164632\n",
      "[40]\ttraining's binary_logloss: 0.0855152\tvalid_1's binary_logloss: 0.10241\n",
      "[60]\ttraining's binary_logloss: 0.04796\tvalid_1's binary_logloss: 0.0740121\n",
      "[80]\ttraining's binary_logloss: 0.0274966\tvalid_1's binary_logloss: 0.0606119\n",
      "[100]\ttraining's binary_logloss: 0.0158803\tvalid_1's binary_logloss: 0.0541947\n",
      "[120]\ttraining's binary_logloss: 0.00924751\tvalid_1's binary_logloss: 0.0517064\n",
      "[140]\ttraining's binary_logloss: 0.00544317\tvalid_1's binary_logloss: 0.0514525\n",
      "Early stopping, best iteration is:\n",
      "[133]\ttraining's binary_logloss: 0.00655913\tvalid_1's binary_logloss: 0.0512992\n"
     ]
    },
    {
     "name": "stderr",
     "output_type": "stream",
     "text": [
      "glucocorticoid_receptor_agonist logloss: 0.051258352706666045\n",
      "=========================================================================================\n",
      "len(train_index) : 939\n",
      "len(valid_index) : 940\n",
      "================================= 1fold lightgbm =================================\n"
     ]
    },
    {
     "name": "stdout",
     "output_type": "stream",
     "text": [
      "Training until validation scores don't improve for 10 rounds\n"
     ]
    },
    {
     "name": "stderr",
     "output_type": "stream",
     "text": [
      "len(train_index) : 940\n",
      "len(valid_index) : 939\n",
      "================================= 2fold lightgbm =================================\n"
     ]
    },
    {
     "name": "stdout",
     "output_type": "stream",
     "text": [
      "Early stopping, best iteration is:\n",
      "[5]\ttraining's binary_logloss: 0.0249136\tvalid_1's binary_logloss: 0.0431849\n",
      "Training until validation scores don't improve for 10 rounds\n"
     ]
    },
    {
     "name": "stderr",
     "output_type": "stream",
     "text": [
      "glutamate_inhibitor logloss: 0.040676189018005515\n",
      "=========================================================================================\n",
      "len(train_index) : 970\n",
      "len(valid_index) : 970\n",
      "================================= 1fold lightgbm =================================\n"
     ]
    },
    {
     "name": "stdout",
     "output_type": "stream",
     "text": [
      "Early stopping, best iteration is:\n",
      "[2]\ttraining's binary_logloss: 0.0374992\tvalid_1's binary_logloss: 0.0381648\n",
      "Training until validation scores don't improve for 10 rounds\n",
      "[20]\ttraining's binary_logloss: 0.0688024\tvalid_1's binary_logloss: 0.128507\n",
      "[40]\ttraining's binary_logloss: 0.0392334\tvalid_1's binary_logloss: 0.116338\n",
      "[60]\ttraining's binary_logloss: 0.0237528\tvalid_1's binary_logloss: 0.110939\n",
      "[80]\ttraining's binary_logloss: 0.0148361\tvalid_1's binary_logloss: 0.109774\n"
     ]
    },
    {
     "name": "stderr",
     "output_type": "stream",
     "text": [
      "len(train_index) : 970\n",
      "len(valid_index) : 970\n",
      "================================= 2fold lightgbm =================================\n"
     ]
    },
    {
     "name": "stdout",
     "output_type": "stream",
     "text": [
      "Early stopping, best iteration is:\n",
      "[83]\ttraining's binary_logloss: 0.0139146\tvalid_1's binary_logloss: 0.109303\n",
      "Training until validation scores don't improve for 10 rounds\n",
      "[20]\ttraining's binary_logloss: 0.0675898\tvalid_1's binary_logloss: 0.130736\n",
      "[40]\ttraining's binary_logloss: 0.0373056\tvalid_1's binary_logloss: 0.120496\n",
      "[60]\ttraining's binary_logloss: 0.0220327\tvalid_1's binary_logloss: 0.117791\n"
     ]
    },
    {
     "name": "stderr",
     "output_type": "stream",
     "text": [
      "glutamate_receptor_agonist logloss: 0.11342768956612445\n",
      "=========================================================================================\n",
      "len(train_index) : 1116\n",
      "len(valid_index) : 1117\n",
      "================================= 1fold lightgbm =================================\n"
     ]
    },
    {
     "name": "stdout",
     "output_type": "stream",
     "text": [
      "Early stopping, best iteration is:\n",
      "[58]\ttraining's binary_logloss: 0.0232321\tvalid_1's binary_logloss: 0.117552\n",
      "Training until validation scores don't improve for 10 rounds\n",
      "[20]\ttraining's binary_logloss: 0.248362\tvalid_1's binary_logloss: 0.338103\n",
      "[40]\ttraining's binary_logloss: 0.158582\tvalid_1's binary_logloss: 0.293942\n",
      "[60]\ttraining's binary_logloss: 0.106753\tvalid_1's binary_logloss: 0.269163\n",
      "[80]\ttraining's binary_logloss: 0.0745994\tvalid_1's binary_logloss: 0.252481\n",
      "[100]\ttraining's binary_logloss: 0.0529795\tvalid_1's binary_logloss: 0.243352\n",
      "[120]\ttraining's binary_logloss: 0.0377118\tvalid_1's binary_logloss: 0.237502\n",
      "[140]\ttraining's binary_logloss: 0.0272124\tvalid_1's binary_logloss: 0.235357\n"
     ]
    },
    {
     "name": "stderr",
     "output_type": "stream",
     "text": [
      "len(train_index) : 1117\n",
      "len(valid_index) : 1116\n",
      "================================= 2fold lightgbm =================================\n"
     ]
    },
    {
     "name": "stdout",
     "output_type": "stream",
     "text": [
      "Early stopping, best iteration is:\n",
      "[141]\ttraining's binary_logloss: 0.0267708\tvalid_1's binary_logloss: 0.23516\n",
      "Training until validation scores don't improve for 10 rounds\n",
      "[20]\ttraining's binary_logloss: 0.258934\tvalid_1's binary_logloss: 0.338859\n",
      "[40]\ttraining's binary_logloss: 0.169203\tvalid_1's binary_logloss: 0.28238\n",
      "[60]\ttraining's binary_logloss: 0.116154\tvalid_1's binary_logloss: 0.250661\n",
      "[80]\ttraining's binary_logloss: 0.0824612\tvalid_1's binary_logloss: 0.228659\n",
      "[100]\ttraining's binary_logloss: 0.0601035\tvalid_1's binary_logloss: 0.213784\n",
      "[120]\ttraining's binary_logloss: 0.0437806\tvalid_1's binary_logloss: 0.201525\n",
      "[140]\ttraining's binary_logloss: 0.0323449\tvalid_1's binary_logloss: 0.195158\n",
      "[160]\ttraining's binary_logloss: 0.0238794\tvalid_1's binary_logloss: 0.19183\n",
      "[180]\ttraining's binary_logloss: 0.0178307\tvalid_1's binary_logloss: 0.187691\n",
      "[200]\ttraining's binary_logloss: 0.0131384\tvalid_1's binary_logloss: 0.18749\n"
     ]
    },
    {
     "name": "stderr",
     "output_type": "stream",
     "text": [
      "glutamate_receptor_antagonist logloss: 0.2110456697402478\n",
      "=========================================================================================\n"
     ]
    },
    {
     "name": "stdout",
     "output_type": "stream",
     "text": [
      "Early stopping, best iteration is:\n",
      "[195]\ttraining's binary_logloss: 0.0141467\tvalid_1's binary_logloss: 0.18691\n"
     ]
    },
    {
     "name": "stderr",
     "output_type": "stream",
     "text": [
      "len(train_index) : 942\n",
      "len(valid_index) : 942\n",
      "================================= 1fold lightgbm =================================\n"
     ]
    },
    {
     "name": "stdout",
     "output_type": "stream",
     "text": [
      "Training until validation scores don't improve for 10 rounds\n",
      "[20]\ttraining's binary_logloss: 0.0167206\tvalid_1's binary_logloss: 0.0481863\n"
     ]
    },
    {
     "name": "stderr",
     "output_type": "stream",
     "text": [
      "len(train_index) : 942\n",
      "len(valid_index) : 942\n",
      "================================= 2fold lightgbm =================================\n"
     ]
    },
    {
     "name": "stdout",
     "output_type": "stream",
     "text": [
      "Early stopping, best iteration is:\n",
      "[14]\ttraining's binary_logloss: 0.0221536\tvalid_1's binary_logloss: 0.0478349\n",
      "Training until validation scores don't improve for 10 rounds\n"
     ]
    },
    {
     "name": "stderr",
     "output_type": "stream",
     "text": [
      "gonadotropin_receptor_agonist logloss: 0.05085814596599451\n",
      "=========================================================================================\n"
     ]
    },
    {
     "name": "stdout",
     "output_type": "stream",
     "text": [
      "Early stopping, best iteration is:\n",
      "[9]\ttraining's binary_logloss: 0.0290377\tvalid_1's binary_logloss: 0.0538814\n"
     ]
    },
    {
     "name": "stderr",
     "output_type": "stream",
     "text": [
      "len(train_index) : 963\n",
      "len(valid_index) : 963\n",
      "================================= 1fold lightgbm =================================\n"
     ]
    },
    {
     "name": "stdout",
     "output_type": "stream",
     "text": [
      "Training until validation scores don't improve for 10 rounds\n",
      "[20]\ttraining's binary_logloss: 0.0537919\tvalid_1's binary_logloss: 0.102943\n",
      "[40]\ttraining's binary_logloss: 0.0288127\tvalid_1's binary_logloss: 0.0881836\n",
      "[60]\ttraining's binary_logloss: 0.0162514\tvalid_1's binary_logloss: 0.0820233\n",
      "[80]\ttraining's binary_logloss: 0.00941855\tvalid_1's binary_logloss: 0.0798426\n"
     ]
    },
    {
     "name": "stderr",
     "output_type": "stream",
     "text": [
      "len(train_index) : 963\n",
      "len(valid_index) : 963\n",
      "================================= 2fold lightgbm =================================\n"
     ]
    },
    {
     "name": "stdout",
     "output_type": "stream",
     "text": [
      "Early stopping, best iteration is:\n",
      "[81]\ttraining's binary_logloss: 0.00916651\tvalid_1's binary_logloss: 0.0796355\n",
      "Training until validation scores don't improve for 10 rounds\n",
      "[20]\ttraining's binary_logloss: 0.0590578\tvalid_1's binary_logloss: 0.0935254\n",
      "[40]\ttraining's binary_logloss: 0.0318618\tvalid_1's binary_logloss: 0.0795459\n",
      "[60]\ttraining's binary_logloss: 0.017899\tvalid_1's binary_logloss: 0.0740194\n",
      "[80]\ttraining's binary_logloss: 0.0107972\tvalid_1's binary_logloss: 0.071818\n"
     ]
    },
    {
     "name": "stderr",
     "output_type": "stream",
     "text": [
      "gsk_inhibitor logloss: 0.07568536252220576\n",
      "=========================================================================================\n"
     ]
    },
    {
     "name": "stdout",
     "output_type": "stream",
     "text": [
      "Early stopping, best iteration is:\n",
      "[83]\ttraining's binary_logloss: 0.0100295\tvalid_1's binary_logloss: 0.0717353\n"
     ]
    },
    {
     "name": "stderr",
     "output_type": "stream",
     "text": [
      "len(train_index) : 969\n",
      "len(valid_index) : 969\n",
      "================================= 1fold lightgbm =================================\n"
     ]
    },
    {
     "name": "stdout",
     "output_type": "stream",
     "text": [
      "Training until validation scores don't improve for 10 rounds\n",
      "[20]\ttraining's binary_logloss: 0.067315\tvalid_1's binary_logloss: 0.124168\n",
      "[40]\ttraining's binary_logloss: 0.038782\tvalid_1's binary_logloss: 0.116643\n",
      "[60]\ttraining's binary_logloss: 0.0229342\tvalid_1's binary_logloss: 0.114654\n",
      "[80]\ttraining's binary_logloss: 0.0142617\tvalid_1's binary_logloss: 0.114131\n"
     ]
    },
    {
     "name": "stderr",
     "output_type": "stream",
     "text": [
      "len(train_index) : 969\n",
      "len(valid_index) : 969\n",
      "================================= 2fold lightgbm =================================\n"
     ]
    },
    {
     "name": "stdout",
     "output_type": "stream",
     "text": [
      "Early stopping, best iteration is:\n",
      "[78]\ttraining's binary_logloss: 0.0149274\tvalid_1's binary_logloss: 0.113953\n",
      "Training until validation scores don't improve for 10 rounds\n",
      "[20]\ttraining's binary_logloss: 0.0687172\tvalid_1's binary_logloss: 0.13318\n",
      "[40]\ttraining's binary_logloss: 0.0390104\tvalid_1's binary_logloss: 0.125103\n",
      "[60]\ttraining's binary_logloss: 0.0233338\tvalid_1's binary_logloss: 0.123974\n"
     ]
    },
    {
     "name": "stderr",
     "output_type": "stream",
     "text": [
      "hcv_inhibitor logloss: 0.1188029675938185\n",
      "=========================================================================================\n"
     ]
    },
    {
     "name": "stdout",
     "output_type": "stream",
     "text": [
      "Early stopping, best iteration is:\n",
      "[55]\ttraining's binary_logloss: 0.0265186\tvalid_1's binary_logloss: 0.123652\n"
     ]
    },
    {
     "name": "stderr",
     "output_type": "stream",
     "text": [
      "len(train_index) : 986\n",
      "len(valid_index) : 986\n",
      "================================= 1fold lightgbm =================================\n"
     ]
    },
    {
     "name": "stdout",
     "output_type": "stream",
     "text": [
      "Training until validation scores don't improve for 10 rounds\n",
      "[20]\ttraining's binary_logloss: 0.089647\tvalid_1's binary_logloss: 0.110495\n",
      "[40]\ttraining's binary_logloss: 0.0485068\tvalid_1's binary_logloss: 0.0791072\n",
      "[60]\ttraining's binary_logloss: 0.0280004\tvalid_1's binary_logloss: 0.0662337\n",
      "[80]\ttraining's binary_logloss: 0.0163306\tvalid_1's binary_logloss: 0.0600755\n",
      "[100]\ttraining's binary_logloss: 0.00964674\tvalid_1's binary_logloss: 0.057917\n"
     ]
    },
    {
     "name": "stderr",
     "output_type": "stream",
     "text": [
      "len(train_index) : 986\n",
      "len(valid_index) : 986\n",
      "================================= 2fold lightgbm =================================\n"
     ]
    },
    {
     "name": "stdout",
     "output_type": "stream",
     "text": [
      "Early stopping, best iteration is:\n",
      "[107]\ttraining's binary_logloss: 0.00804803\tvalid_1's binary_logloss: 0.0577325\n",
      "Training until validation scores don't improve for 10 rounds\n",
      "[20]\ttraining's binary_logloss: 0.0860558\tvalid_1's binary_logloss: 0.124291\n",
      "[40]\ttraining's binary_logloss: 0.0481055\tvalid_1's binary_logloss: 0.104505\n",
      "[60]\ttraining's binary_logloss: 0.0272014\tvalid_1's binary_logloss: 0.0967165\n",
      "[80]\ttraining's binary_logloss: 0.0156504\tvalid_1's binary_logloss: 0.0955255\n"
     ]
    },
    {
     "name": "stderr",
     "output_type": "stream",
     "text": [
      "hdac_inhibitor logloss: 0.07662903047879943\n",
      "=========================================================================================\n"
     ]
    },
    {
     "name": "stdout",
     "output_type": "stream",
     "text": [
      "Early stopping, best iteration is:\n",
      "[80]\ttraining's binary_logloss: 0.0156504\tvalid_1's binary_logloss: 0.0955255\n"
     ]
    },
    {
     "name": "stderr",
     "output_type": "stream",
     "text": [
      "len(train_index) : 962\n",
      "len(valid_index) : 963\n",
      "================================= 1fold lightgbm =================================\n"
     ]
    },
    {
     "name": "stdout",
     "output_type": "stream",
     "text": [
      "Training until validation scores don't improve for 10 rounds\n",
      "[20]\ttraining's binary_logloss: 0.051557\tvalid_1's binary_logloss: 0.117811\n",
      "[40]\ttraining's binary_logloss: 0.0277105\tvalid_1's binary_logloss: 0.111226\n",
      "[60]\ttraining's binary_logloss: 0.0162684\tvalid_1's binary_logloss: 0.108479\n",
      "[80]\ttraining's binary_logloss: 0.00971011\tvalid_1's binary_logloss: 0.107732\n",
      "Early stopping, best iteration is:\n",
      "[72]\ttraining's binary_logloss: 0.0120001\tvalid_1's binary_logloss: 0.107145\n"
     ]
    },
    {
     "name": "stderr",
     "output_type": "stream",
     "text": [
      "len(train_index) : 963\n",
      "len(valid_index) : 962\n",
      "================================= 2fold lightgbm =================================\n"
     ]
    },
    {
     "name": "stdout",
     "output_type": "stream",
     "text": [
      "Training until validation scores don't improve for 10 rounds\n",
      "[20]\ttraining's binary_logloss: 0.057046\tvalid_1's binary_logloss: 0.111827\n",
      "[40]\ttraining's binary_logloss: 0.0317838\tvalid_1's binary_logloss: 0.107155\n"
     ]
    },
    {
     "name": "stderr",
     "output_type": "stream",
     "text": [
      "histamine_receptor_agonist logloss: 0.10665781458802095\n",
      "=========================================================================================\n",
      "len(train_index) : 1053\n",
      "len(valid_index) : 1054\n",
      "================================= 1fold lightgbm =================================\n"
     ]
    },
    {
     "name": "stdout",
     "output_type": "stream",
     "text": [
      "Early stopping, best iteration is:\n",
      "[48]\ttraining's binary_logloss: 0.0257119\tvalid_1's binary_logloss: 0.10617\n",
      "Training until validation scores don't improve for 10 rounds\n",
      "[20]\ttraining's binary_logloss: 0.189579\tvalid_1's binary_logloss: 0.271273\n",
      "[40]\ttraining's binary_logloss: 0.119758\tvalid_1's binary_logloss: 0.240189\n",
      "[60]\ttraining's binary_logloss: 0.0790695\tvalid_1's binary_logloss: 0.217797\n",
      "[80]\ttraining's binary_logloss: 0.0537103\tvalid_1's binary_logloss: 0.203004\n",
      "[100]\ttraining's binary_logloss: 0.0369718\tvalid_1's binary_logloss: 0.197204\n",
      "[120]\ttraining's binary_logloss: 0.0257544\tvalid_1's binary_logloss: 0.192276\n",
      "[140]\ttraining's binary_logloss: 0.0181122\tvalid_1's binary_logloss: 0.190374\n"
     ]
    },
    {
     "name": "stderr",
     "output_type": "stream",
     "text": [
      "len(train_index) : 1054\n",
      "len(valid_index) : 1053\n",
      "================================= 2fold lightgbm =================================\n"
     ]
    },
    {
     "name": "stdout",
     "output_type": "stream",
     "text": [
      "Early stopping, best iteration is:\n",
      "[146]\ttraining's binary_logloss: 0.016271\tvalid_1's binary_logloss: 0.189643\n",
      "Training until validation scores don't improve for 10 rounds\n",
      "[20]\ttraining's binary_logloss: 0.193528\tvalid_1's binary_logloss: 0.279912\n",
      "[40]\ttraining's binary_logloss: 0.120251\tvalid_1's binary_logloss: 0.246397\n",
      "[60]\ttraining's binary_logloss: 0.0789656\tvalid_1's binary_logloss: 0.228266\n",
      "[80]\ttraining's binary_logloss: 0.0538677\tvalid_1's binary_logloss: 0.216692\n",
      "[100]\ttraining's binary_logloss: 0.0373757\tvalid_1's binary_logloss: 0.210119\n",
      "[120]\ttraining's binary_logloss: 0.0259561\tvalid_1's binary_logloss: 0.207551\n"
     ]
    },
    {
     "name": "stderr",
     "output_type": "stream",
     "text": [
      "histamine_receptor_antagonist logloss: 0.19763408274720684\n",
      "=========================================================================================\n",
      "len(train_index) : 945\n",
      "len(valid_index) : 945\n"
     ]
    },
    {
     "name": "stdout",
     "output_type": "stream",
     "text": [
      "[140]\ttraining's binary_logloss: 0.0181178\tvalid_1's binary_logloss: 0.205657\n",
      "Early stopping, best iteration is:\n",
      "[130]\ttraining's binary_logloss: 0.0216045\tvalid_1's binary_logloss: 0.205633\n"
     ]
    },
    {
     "name": "stderr",
     "output_type": "stream",
     "text": [
      "================================= 1fold lightgbm =================================\n"
     ]
    },
    {
     "name": "stdout",
     "output_type": "stream",
     "text": [
      "Training until validation scores don't improve for 10 rounds\n",
      "[20]\ttraining's binary_logloss: 0.0227192\tvalid_1's binary_logloss: 0.0523244\n",
      "[40]\ttraining's binary_logloss: 0.0112789\tvalid_1's binary_logloss: 0.048276\n",
      "[60]\ttraining's binary_logloss: 0.006056\tvalid_1's binary_logloss: 0.04739\n"
     ]
    },
    {
     "name": "stderr",
     "output_type": "stream",
     "text": [
      "len(train_index) : 945\n",
      "len(valid_index) : 945\n",
      "================================= 2fold lightgbm =================================\n"
     ]
    },
    {
     "name": "stdout",
     "output_type": "stream",
     "text": [
      "Early stopping, best iteration is:\n",
      "[57]\ttraining's binary_logloss: 0.00663742\tvalid_1's binary_logloss: 0.0472672\n",
      "Training until validation scores don't improve for 10 rounds\n",
      "[20]\ttraining's binary_logloss: 0.0225884\tvalid_1's binary_logloss: 0.0497562\n",
      "[40]\ttraining's binary_logloss: 0.0111064\tvalid_1's binary_logloss: 0.0448164\n",
      "[60]\ttraining's binary_logloss: 0.00593198\tvalid_1's binary_logloss: 0.0437206\n"
     ]
    },
    {
     "name": "stderr",
     "output_type": "stream",
     "text": [
      "histone_lysine_demethylase_inhibitor logloss: 0.04536260125792135\n",
      "=========================================================================================\n"
     ]
    },
    {
     "name": "stdout",
     "output_type": "stream",
     "text": [
      "Early stopping, best iteration is:\n",
      "[65]\ttraining's binary_logloss: 0.00511691\tvalid_1's binary_logloss: 0.043458\n"
     ]
    },
    {
     "name": "stderr",
     "output_type": "stream",
     "text": [
      "len(train_index) : 949\n",
      "len(valid_index) : 949\n",
      "================================= 1fold lightgbm =================================\n"
     ]
    },
    {
     "name": "stdout",
     "output_type": "stream",
     "text": [
      "Training until validation scores don't improve for 10 rounds\n",
      "[20]\ttraining's binary_logloss: 0.0282656\tvalid_1's binary_logloss: 0.0580523\n",
      "[40]\ttraining's binary_logloss: 0.0143301\tvalid_1's binary_logloss: 0.0502309\n",
      "[60]\ttraining's binary_logloss: 0.00789278\tvalid_1's binary_logloss: 0.0478045\n",
      "[80]\ttraining's binary_logloss: 0.00445432\tvalid_1's binary_logloss: 0.0470945\n"
     ]
    },
    {
     "name": "stderr",
     "output_type": "stream",
     "text": [
      "len(train_index) : 949\n",
      "len(valid_index) : 949\n",
      "================================= 2fold lightgbm =================================\n"
     ]
    },
    {
     "name": "stdout",
     "output_type": "stream",
     "text": [
      "Early stopping, best iteration is:\n",
      "[82]\ttraining's binary_logloss: 0.00421503\tvalid_1's binary_logloss: 0.0469086\n",
      "Training until validation scores don't improve for 10 rounds\n",
      "[20]\ttraining's binary_logloss: 0.026714\tvalid_1's binary_logloss: 0.074956\n"
     ]
    },
    {
     "name": "stderr",
     "output_type": "stream",
     "text": [
      "histone_lysine_methyltransferase_inhibitor logloss: 0.06089458336757078\n",
      "=========================================================================================\n",
      "len(train_index) : 969\n"
     ]
    },
    {
     "name": "stdout",
     "output_type": "stream",
     "text": [
      "Early stopping, best iteration is:\n",
      "[21]\ttraining's binary_logloss: 0.0257768\tvalid_1's binary_logloss: 0.0748806\n"
     ]
    },
    {
     "name": "stderr",
     "output_type": "stream",
     "text": [
      "len(valid_index) : 969\n",
      "================================= 1fold lightgbm =================================\n"
     ]
    },
    {
     "name": "stdout",
     "output_type": "stream",
     "text": [
      "Training until validation scores don't improve for 10 rounds\n",
      "[20]\ttraining's binary_logloss: 0.0646063\tvalid_1's binary_logloss: 0.130281\n",
      "[40]\ttraining's binary_logloss: 0.0356241\tvalid_1's binary_logloss: 0.115239\n",
      "[60]\ttraining's binary_logloss: 0.0211585\tvalid_1's binary_logloss: 0.111031\n",
      "[80]\ttraining's binary_logloss: 0.0128621\tvalid_1's binary_logloss: 0.110491\n"
     ]
    },
    {
     "name": "stderr",
     "output_type": "stream",
     "text": [
      "len(train_index) : 969\n",
      "len(valid_index) : 969\n",
      "================================= 2fold lightgbm =================================\n"
     ]
    },
    {
     "name": "stdout",
     "output_type": "stream",
     "text": [
      "Early stopping, best iteration is:\n",
      "[79]\ttraining's binary_logloss: 0.0131798\tvalid_1's binary_logloss: 0.110051\n",
      "Training until validation scores don't improve for 10 rounds\n",
      "[20]\ttraining's binary_logloss: 0.0629396\tvalid_1's binary_logloss: 0.115288\n",
      "[40]\ttraining's binary_logloss: 0.0350057\tvalid_1's binary_logloss: 0.102267\n",
      "[60]\ttraining's binary_logloss: 0.0210594\tvalid_1's binary_logloss: 0.0975953\n"
     ]
    },
    {
     "name": "stderr",
     "output_type": "stream",
     "text": [
      "hiv_inhibitor logloss: 0.10317837136393367\n",
      "=========================================================================================\n"
     ]
    },
    {
     "name": "stdout",
     "output_type": "stream",
     "text": [
      "[80]\ttraining's binary_logloss: 0.012901\tvalid_1's binary_logloss: 0.0968751\n",
      "Early stopping, best iteration is:\n",
      "[71]\ttraining's binary_logloss: 0.016064\tvalid_1's binary_logloss: 0.0963056\n"
     ]
    },
    {
     "name": "stderr",
     "output_type": "stream",
     "text": [
      "len(train_index) : 1074\n",
      "len(valid_index) : 1075\n",
      "================================= 1fold lightgbm =================================\n"
     ]
    },
    {
     "name": "stdout",
     "output_type": "stream",
     "text": [
      "Training until validation scores don't improve for 10 rounds\n",
      "[20]\ttraining's binary_logloss: 0.176466\tvalid_1's binary_logloss: 0.186241\n",
      "[40]\ttraining's binary_logloss: 0.102346\tvalid_1's binary_logloss: 0.119466\n",
      "[60]\ttraining's binary_logloss: 0.0617267\tvalid_1's binary_logloss: 0.0849423\n",
      "[80]\ttraining's binary_logloss: 0.0379518\tvalid_1's binary_logloss: 0.0638218\n",
      "[100]\ttraining's binary_logloss: 0.0235661\tvalid_1's binary_logloss: 0.0517815\n",
      "[120]\ttraining's binary_logloss: 0.0147948\tvalid_1's binary_logloss: 0.0448612\n",
      "[140]\ttraining's binary_logloss: 0.00936723\tvalid_1's binary_logloss: 0.0405699\n",
      "[160]\ttraining's binary_logloss: 0.00595467\tvalid_1's binary_logloss: 0.0390185\n",
      "[180]\ttraining's binary_logloss: 0.00380816\tvalid_1's binary_logloss: 0.0387092\n"
     ]
    },
    {
     "name": "stderr",
     "output_type": "stream",
     "text": [
      "len(train_index) : 1075\n",
      "len(valid_index) : 1074\n",
      "================================= 2fold lightgbm =================================\n"
     ]
    },
    {
     "name": "stdout",
     "output_type": "stream",
     "text": [
      "Early stopping, best iteration is:\n",
      "[177]\ttraining's binary_logloss: 0.00407907\tvalid_1's binary_logloss: 0.0384833\n",
      "Training until validation scores don't improve for 10 rounds\n",
      "[20]\ttraining's binary_logloss: 0.171296\tvalid_1's binary_logloss: 0.185367\n",
      "[40]\ttraining's binary_logloss: 0.096355\tvalid_1's binary_logloss: 0.121986\n",
      "[60]\ttraining's binary_logloss: 0.0576372\tvalid_1's binary_logloss: 0.0928274\n",
      "[80]\ttraining's binary_logloss: 0.0345374\tvalid_1's binary_logloss: 0.078943\n",
      "[100]\ttraining's binary_logloss: 0.0207689\tvalid_1's binary_logloss: 0.0728821\n",
      "[120]\ttraining's binary_logloss: 0.0126791\tvalid_1's binary_logloss: 0.0695393\n",
      "[140]\ttraining's binary_logloss: 0.00770175\tvalid_1's binary_logloss: 0.0678216\n"
     ]
    },
    {
     "name": "stderr",
     "output_type": "stream",
     "text": [
      "hmgcr_inhibitor logloss: 0.053118245107296666\n",
      "=========================================================================================\n",
      "len(train_index) : 979\n"
     ]
    },
    {
     "name": "stdout",
     "output_type": "stream",
     "text": [
      "Early stopping, best iteration is:\n",
      "[139]\ttraining's binary_logloss: 0.00789419\tvalid_1's binary_logloss: 0.0677668\n"
     ]
    },
    {
     "name": "stderr",
     "output_type": "stream",
     "text": [
      "len(valid_index) : 980\n",
      "================================= 1fold lightgbm =================================\n"
     ]
    },
    {
     "name": "stdout",
     "output_type": "stream",
     "text": [
      "Training until validation scores don't improve for 10 rounds\n",
      "[20]\ttraining's binary_logloss: 0.0715577\tvalid_1's binary_logloss: 0.0863078\n",
      "[40]\ttraining's binary_logloss: 0.0378359\tvalid_1's binary_logloss: 0.0638076\n",
      "[60]\ttraining's binary_logloss: 0.020785\tvalid_1's binary_logloss: 0.0538746\n",
      "[80]\ttraining's binary_logloss: 0.0116355\tvalid_1's binary_logloss: 0.0493773\n",
      "[100]\ttraining's binary_logloss: 0.00658726\tvalid_1's binary_logloss: 0.0480525\n"
     ]
    },
    {
     "name": "stderr",
     "output_type": "stream",
     "text": [
      "len(train_index) : 980\n",
      "len(valid_index) : 979\n",
      "================================= 2fold lightgbm =================================\n"
     ]
    },
    {
     "name": "stdout",
     "output_type": "stream",
     "text": [
      "Early stopping, best iteration is:\n",
      "[101]\ttraining's binary_logloss: 0.00640547\tvalid_1's binary_logloss: 0.0478216\n",
      "Training until validation scores don't improve for 10 rounds\n",
      "[20]\ttraining's binary_logloss: 0.0703588\tvalid_1's binary_logloss: 0.0916501\n",
      "[40]\ttraining's binary_logloss: 0.0375423\tvalid_1's binary_logloss: 0.0710439\n",
      "[60]\ttraining's binary_logloss: 0.0207342\tvalid_1's binary_logloss: 0.0617686\n",
      "[80]\ttraining's binary_logloss: 0.0115098\tvalid_1's binary_logloss: 0.0584615\n",
      "[100]\ttraining's binary_logloss: 0.00647017\tvalid_1's binary_logloss: 0.0566104\n",
      "[120]\ttraining's binary_logloss: 0.00370379\tvalid_1's binary_logloss: 0.0561306\n"
     ]
    },
    {
     "name": "stderr",
     "output_type": "stream",
     "text": [
      "hsp_inhibitor logloss: 0.05179356269283423\n",
      "=========================================================================================\n",
      "len(train_index) : 951\n",
      "len(valid_index) : 952\n",
      "================================= 1fold lightgbm =================================\n"
     ]
    },
    {
     "name": "stdout",
     "output_type": "stream",
     "text": [
      "Early stopping, best iteration is:\n",
      "[117]\ttraining's binary_logloss: 0.00402369\tvalid_1's binary_logloss: 0.0557696\n",
      "Training until validation scores don't improve for 10 rounds\n",
      "[20]\ttraining's binary_logloss: 0.0322191\tvalid_1's binary_logloss: 0.0611563\n",
      "[40]\ttraining's binary_logloss: 0.0169222\tvalid_1's binary_logloss: 0.0529767\n",
      "[60]\ttraining's binary_logloss: 0.00920398\tvalid_1's binary_logloss: 0.0502648\n"
     ]
    },
    {
     "name": "stderr",
     "output_type": "stream",
     "text": [
      "len(train_index) : 952\n",
      "len(valid_index) : 951\n",
      "================================= 2fold lightgbm =================================\n"
     ]
    },
    {
     "name": "stdout",
     "output_type": "stream",
     "text": [
      "Early stopping, best iteration is:\n",
      "[67]\ttraining's binary_logloss: 0.0074952\tvalid_1's binary_logloss: 0.049844\n",
      "Training until validation scores don't improve for 10 rounds\n",
      "[20]\ttraining's binary_logloss: 0.0324604\tvalid_1's binary_logloss: 0.0618488\n",
      "[40]\ttraining's binary_logloss: 0.0164065\tvalid_1's binary_logloss: 0.0518604\n",
      "[60]\ttraining's binary_logloss: 0.00894518\tvalid_1's binary_logloss: 0.0484003\n"
     ]
    },
    {
     "name": "stderr",
     "output_type": "stream",
     "text": [
      "igf-1_inhibitor logloss: 0.048974957158207426\n",
      "=========================================================================================\n",
      "len(train_index) : 948\n",
      "len(valid_index) : 948\n",
      "================================= 1fold lightgbm =================================\n"
     ]
    },
    {
     "name": "stdout",
     "output_type": "stream",
     "text": [
      "Early stopping, best iteration is:\n",
      "[67]\ttraining's binary_logloss: 0.00731252\tvalid_1's binary_logloss: 0.048105\n",
      "Training until validation scores don't improve for 10 rounds\n",
      "[20]\ttraining's binary_logloss: 0.0278398\tvalid_1's binary_logloss: 0.049488\n",
      "[40]\ttraining's binary_logloss: 0.0144105\tvalid_1's binary_logloss: 0.0422731\n",
      "[60]\ttraining's binary_logloss: 0.00785587\tvalid_1's binary_logloss: 0.0374796\n",
      "[80]\ttraining's binary_logloss: 0.00438514\tvalid_1's binary_logloss: 0.0359521\n",
      "[100]\ttraining's binary_logloss: 0.00250457\tvalid_1's binary_logloss: 0.035183\n"
     ]
    },
    {
     "name": "stderr",
     "output_type": "stream",
     "text": [
      "len(train_index) : 948\n",
      "len(valid_index) : 948\n",
      "================================= 2fold lightgbm =================================\n"
     ]
    },
    {
     "name": "stdout",
     "output_type": "stream",
     "text": [
      "Early stopping, best iteration is:\n",
      "[109]\ttraining's binary_logloss: 0.00195574\tvalid_1's binary_logloss: 0.0348621\n",
      "Training until validation scores don't improve for 10 rounds\n",
      "[20]\ttraining's binary_logloss: 0.0269034\tvalid_1's binary_logloss: 0.0492377\n",
      "[40]\ttraining's binary_logloss: 0.0132793\tvalid_1's binary_logloss: 0.0452134\n",
      "[60]\ttraining's binary_logloss: 0.00724064\tvalid_1's binary_logloss: 0.0439838\n"
     ]
    },
    {
     "name": "stderr",
     "output_type": "stream",
     "text": [
      "ikk_inhibitor logloss: 0.039344480436526434\n",
      "=========================================================================================\n"
     ]
    },
    {
     "name": "stdout",
     "output_type": "stream",
     "text": [
      "Early stopping, best iteration is:\n",
      "[63]\ttraining's binary_logloss: 0.00664358\tvalid_1's binary_logloss: 0.0438269\n"
     ]
    },
    {
     "name": "stderr",
     "output_type": "stream",
     "text": [
      "len(train_index) : 948\n",
      "len(valid_index) : 949\n",
      "================================= 1fold lightgbm =================================\n"
     ]
    },
    {
     "name": "stdout",
     "output_type": "stream",
     "text": [
      "Training until validation scores don't improve for 10 rounds\n",
      "[20]\ttraining's binary_logloss: 0.0311214\tvalid_1's binary_logloss: 0.0839314\n",
      "Early stopping, best iteration is:\n",
      "[14]\ttraining's binary_logloss: 0.0391102\tvalid_1's binary_logloss: 0.0835303\n"
     ]
    },
    {
     "name": "stderr",
     "output_type": "stream",
     "text": [
      "len(train_index) : 949\n",
      "len(valid_index) : 948\n",
      "================================= 2fold lightgbm =================================\n"
     ]
    },
    {
     "name": "stdout",
     "output_type": "stream",
     "text": [
      "Training until validation scores don't improve for 10 rounds\n",
      "[20]\ttraining's binary_logloss: 0.031584\tvalid_1's binary_logloss: 0.0776423\n"
     ]
    },
    {
     "name": "stderr",
     "output_type": "stream",
     "text": [
      "imidazoline_receptor_agonist logloss: 0.08052416995936862\n",
      "=========================================================================================\n"
     ]
    },
    {
     "name": "stdout",
     "output_type": "stream",
     "text": [
      "Early stopping, best iteration is:\n",
      "[19]\ttraining's binary_logloss: 0.0327478\tvalid_1's binary_logloss: 0.0775148\n"
     ]
    },
    {
     "name": "stderr",
     "output_type": "stream",
     "text": [
      "len(train_index) : 969\n",
      "len(valid_index) : 970\n",
      "================================= 1fold lightgbm =================================\n"
     ]
    },
    {
     "name": "stdout",
     "output_type": "stream",
     "text": [
      "Training until validation scores don't improve for 10 rounds\n",
      "[20]\ttraining's binary_logloss: 0.0704099\tvalid_1's binary_logloss: 0.114292\n",
      "[40]\ttraining's binary_logloss: 0.0382055\tvalid_1's binary_logloss: 0.103261\n",
      "[60]\ttraining's binary_logloss: 0.0223401\tvalid_1's binary_logloss: 0.0994259\n",
      "[80]\ttraining's binary_logloss: 0.0133557\tvalid_1's binary_logloss: 0.097802\n"
     ]
    },
    {
     "name": "stderr",
     "output_type": "stream",
     "text": [
      "len(train_index) : 970\n",
      "len(valid_index) : 969\n",
      "================================= 2fold lightgbm =================================\n"
     ]
    },
    {
     "name": "stdout",
     "output_type": "stream",
     "text": [
      "Early stopping, best iteration is:\n",
      "[85]\ttraining's binary_logloss: 0.0118269\tvalid_1's binary_logloss: 0.0977189\n",
      "Training until validation scores don't improve for 10 rounds\n",
      "[20]\ttraining's binary_logloss: 0.0771504\tvalid_1's binary_logloss: 0.120669\n",
      "[40]\ttraining's binary_logloss: 0.0424629\tvalid_1's binary_logloss: 0.114466\n",
      "[60]\ttraining's binary_logloss: 0.0247715\tvalid_1's binary_logloss: 0.112443\n"
     ]
    },
    {
     "name": "stderr",
     "output_type": "stream",
     "text": [
      "immunosuppressant logloss: 0.10467022827410769\n",
      "=========================================================================================\n"
     ]
    },
    {
     "name": "stdout",
     "output_type": "stream",
     "text": [
      "[80]\ttraining's binary_logloss: 0.0152128\tvalid_1's binary_logloss: 0.112454\n",
      "Early stopping, best iteration is:\n",
      "[70]\ttraining's binary_logloss: 0.019295\tvalid_1's binary_logloss: 0.111629\n"
     ]
    },
    {
     "name": "stderr",
     "output_type": "stream",
     "text": [
      "len(train_index) : 948\n",
      "len(valid_index) : 948\n",
      "================================= 1fold lightgbm =================================\n"
     ]
    },
    {
     "name": "stdout",
     "output_type": "stream",
     "text": [
      "Training until validation scores don't improve for 10 rounds\n",
      "[20]\ttraining's binary_logloss: 0.0296089\tvalid_1's binary_logloss: 0.0752504\n",
      "[40]\ttraining's binary_logloss: 0.015314\tvalid_1's binary_logloss: 0.0745069\n",
      "Early stopping, best iteration is:\n",
      "[34]\ttraining's binary_logloss: 0.018352\tvalid_1's binary_logloss: 0.0744198\n"
     ]
    },
    {
     "name": "stderr",
     "output_type": "stream",
     "text": [
      "len(train_index) : 948\n",
      "len(valid_index) : 948\n",
      "================================= 2fold lightgbm =================================\n"
     ]
    },
    {
     "name": "stdout",
     "output_type": "stream",
     "text": [
      "Training until validation scores don't improve for 10 rounds\n",
      "[20]\ttraining's binary_logloss: 0.0284063\tvalid_1's binary_logloss: 0.0731749\n",
      "[40]\ttraining's binary_logloss: 0.0145528\tvalid_1's binary_logloss: 0.0704888\n"
     ]
    },
    {
     "name": "stderr",
     "output_type": "stream",
     "text": [
      "insulin_secretagogue logloss: 0.0722617269808353\n",
      "=========================================================================================\n",
      "len(train_index) : 958\n",
      "len(valid_index) : 959\n"
     ]
    },
    {
     "name": "stdout",
     "output_type": "stream",
     "text": [
      "Early stopping, best iteration is:\n",
      "[48]\ttraining's binary_logloss: 0.0114239\tvalid_1's binary_logloss: 0.0701037\n"
     ]
    },
    {
     "name": "stderr",
     "output_type": "stream",
     "text": [
      "================================= 1fold lightgbm =================================\n"
     ]
    },
    {
     "name": "stdout",
     "output_type": "stream",
     "text": [
      "Training until validation scores don't improve for 10 rounds\n",
      "[20]\ttraining's binary_logloss: 0.0516584\tvalid_1's binary_logloss: 0.0937819\n",
      "[40]\ttraining's binary_logloss: 0.0274433\tvalid_1's binary_logloss: 0.088277\n"
     ]
    },
    {
     "name": "stderr",
     "output_type": "stream",
     "text": [
      "len(train_index) : 959\n",
      "len(valid_index) : 958\n",
      "================================= 2fold lightgbm =================================\n"
     ]
    },
    {
     "name": "stdout",
     "output_type": "stream",
     "text": [
      "[60]\ttraining's binary_logloss: 0.0156067\tvalid_1's binary_logloss: 0.0886464\n",
      "Early stopping, best iteration is:\n",
      "[50]\ttraining's binary_logloss: 0.0204494\tvalid_1's binary_logloss: 0.0877267\n",
      "Training until validation scores don't improve for 10 rounds\n",
      "[20]\ttraining's binary_logloss: 0.0510351\tvalid_1's binary_logloss: 0.0918686\n",
      "[40]\ttraining's binary_logloss: 0.0280395\tvalid_1's binary_logloss: 0.0897917\n",
      "Early stopping, best iteration is:\n",
      "[32]\ttraining's binary_logloss: 0.0351849\tvalid_1's binary_logloss: 0.0893175\n"
     ]
    },
    {
     "name": "stderr",
     "output_type": "stream",
     "text": [
      "insulin_sensitizer logloss: 0.08852170155055025\n",
      "=========================================================================================\n",
      "len(train_index) : 954\n",
      "len(valid_index) : 954\n",
      "================================= 1fold lightgbm =================================\n"
     ]
    },
    {
     "name": "stdout",
     "output_type": "stream",
     "text": [
      "Training until validation scores don't improve for 10 rounds\n",
      "[20]\ttraining's binary_logloss: 0.0385981\tvalid_1's binary_logloss: 0.0970429\n",
      "[40]\ttraining's binary_logloss: 0.020329\tvalid_1's binary_logloss: 0.0963056\n",
      "Early stopping, best iteration is:\n",
      "[33]\ttraining's binary_logloss: 0.0251403\tvalid_1's binary_logloss: 0.0958591\n"
     ]
    },
    {
     "name": "stderr",
     "output_type": "stream",
     "text": [
      "len(train_index) : 954\n",
      "len(valid_index) : 954\n",
      "================================= 2fold lightgbm =================================\n"
     ]
    },
    {
     "name": "stdout",
     "output_type": "stream",
     "text": [
      "Training until validation scores don't improve for 10 rounds\n",
      "[20]\ttraining's binary_logloss: 0.0411214\tvalid_1's binary_logloss: 0.0944297\n",
      "[40]\ttraining's binary_logloss: 0.0219902\tvalid_1's binary_logloss: 0.091738\n"
     ]
    },
    {
     "name": "stderr",
     "output_type": "stream",
     "text": [
      "integrin_inhibitor logloss: 0.09343377936754997\n",
      "=========================================================================================\n"
     ]
    },
    {
     "name": "stdout",
     "output_type": "stream",
     "text": [
      "[60]\ttraining's binary_logloss: 0.0128195\tvalid_1's binary_logloss: 0.0915576\n",
      "Early stopping, best iteration is:\n",
      "[51]\ttraining's binary_logloss: 0.0162414\tvalid_1's binary_logloss: 0.0910084\n"
     ]
    },
    {
     "name": "stderr",
     "output_type": "stream",
     "text": [
      "len(train_index) : 979\n",
      "len(valid_index) : 979\n",
      "================================= 1fold lightgbm =================================\n"
     ]
    },
    {
     "name": "stdout",
     "output_type": "stream",
     "text": [
      "Training until validation scores don't improve for 10 rounds\n",
      "[20]\ttraining's binary_logloss: 0.0769031\tvalid_1's binary_logloss: 0.112149\n",
      "[40]\ttraining's binary_logloss: 0.0419101\tvalid_1's binary_logloss: 0.0914544\n",
      "[60]\ttraining's binary_logloss: 0.0241233\tvalid_1's binary_logloss: 0.0843467\n",
      "[80]\ttraining's binary_logloss: 0.0143463\tvalid_1's binary_logloss: 0.0790722\n",
      "[100]\ttraining's binary_logloss: 0.0086036\tvalid_1's binary_logloss: 0.0764765\n",
      "[120]\ttraining's binary_logloss: 0.0051616\tvalid_1's binary_logloss: 0.0766022\n",
      "Early stopping, best iteration is:\n",
      "[113]\ttraining's binary_logloss: 0.00616575\tvalid_1's binary_logloss: 0.0760976\n"
     ]
    },
    {
     "name": "stderr",
     "output_type": "stream",
     "text": [
      "len(train_index) : 979\n",
      "len(valid_index) : 979\n",
      "================================= 2fold lightgbm =================================\n"
     ]
    },
    {
     "name": "stdout",
     "output_type": "stream",
     "text": [
      "Training until validation scores don't improve for 10 rounds\n",
      "[20]\ttraining's binary_logloss: 0.0775037\tvalid_1's binary_logloss: 0.109964\n",
      "[40]\ttraining's binary_logloss: 0.0426961\tvalid_1's binary_logloss: 0.08911\n",
      "[60]\ttraining's binary_logloss: 0.0247535\tvalid_1's binary_logloss: 0.0805575\n",
      "[80]\ttraining's binary_logloss: 0.014629\tvalid_1's binary_logloss: 0.0765402\n",
      "[100]\ttraining's binary_logloss: 0.00874026\tvalid_1's binary_logloss: 0.0741402\n"
     ]
    },
    {
     "name": "stderr",
     "output_type": "stream",
     "text": [
      "jak_inhibitor logloss: 0.07508721869879999\n",
      "=========================================================================================\n"
     ]
    },
    {
     "name": "stdout",
     "output_type": "stream",
     "text": [
      "Early stopping, best iteration is:\n",
      "[101]\ttraining's binary_logloss: 0.00851832\tvalid_1's binary_logloss: 0.0740768\n"
     ]
    },
    {
     "name": "stderr",
     "output_type": "stream",
     "text": [
      "len(train_index) : 1069\n",
      "len(valid_index) : 1070\n",
      "================================= 1fold lightgbm =================================\n"
     ]
    },
    {
     "name": "stdout",
     "output_type": "stream",
     "text": [
      "Training until validation scores don't improve for 10 rounds\n",
      "[20]\ttraining's binary_logloss: 0.174649\tvalid_1's binary_logloss: 0.190106\n",
      "[40]\ttraining's binary_logloss: 0.102959\tvalid_1's binary_logloss: 0.128958\n",
      "[60]\ttraining's binary_logloss: 0.0632933\tvalid_1's binary_logloss: 0.0989528\n",
      "[80]\ttraining's binary_logloss: 0.0383019\tvalid_1's binary_logloss: 0.0821908\n",
      "[100]\ttraining's binary_logloss: 0.0238639\tvalid_1's binary_logloss: 0.0757381\n",
      "[120]\ttraining's binary_logloss: 0.014899\tvalid_1's binary_logloss: 0.0726727\n"
     ]
    },
    {
     "name": "stderr",
     "output_type": "stream",
     "text": [
      "len(train_index) : 1070\n",
      "len(valid_index) : 1069\n",
      "================================= 2fold lightgbm =================================\n"
     ]
    },
    {
     "name": "stdout",
     "output_type": "stream",
     "text": [
      "Early stopping, best iteration is:\n",
      "[128]\ttraining's binary_logloss: 0.0123929\tvalid_1's binary_logloss: 0.0720592\n",
      "Training until validation scores don't improve for 10 rounds\n",
      "[20]\ttraining's binary_logloss: 0.171593\tvalid_1's binary_logloss: 0.18472\n",
      "[40]\ttraining's binary_logloss: 0.0995499\tvalid_1's binary_logloss: 0.124114\n",
      "[60]\ttraining's binary_logloss: 0.0613059\tvalid_1's binary_logloss: 0.0951791\n",
      "[80]\ttraining's binary_logloss: 0.0382257\tvalid_1's binary_logloss: 0.0803562\n",
      "[100]\ttraining's binary_logloss: 0.0236469\tvalid_1's binary_logloss: 0.0730115\n",
      "[120]\ttraining's binary_logloss: 0.0148896\tvalid_1's binary_logloss: 0.0699761\n",
      "[140]\ttraining's binary_logloss: 0.00932121\tvalid_1's binary_logloss: 0.0689013\n",
      "Early stopping, best iteration is:\n",
      "[133]\ttraining's binary_logloss: 0.0109856\tvalid_1's binary_logloss: 0.0687818\n"
     ]
    },
    {
     "name": "stderr",
     "output_type": "stream",
     "text": [
      "kit_inhibitor logloss: 0.07042125238269659\n",
      "=========================================================================================\n",
      "len(train_index) : 936\n",
      "len(valid_index) : 936\n",
      "================================= 1fold lightgbm =================================\n"
     ]
    },
    {
     "name": "stdout",
     "output_type": "stream",
     "text": [
      "Training until validation scores don't improve for 10 rounds\n",
      "[20]\ttraining's binary_logloss: 0.00529124\tvalid_1's binary_logloss: 0.0180018\n",
      "[40]\ttraining's binary_logloss: 0.00265237\tvalid_1's binary_logloss: 0.0173791\n"
     ]
    },
    {
     "name": "stderr",
     "output_type": "stream",
     "text": [
      "len(train_index) : 936\n",
      "len(valid_index) : 936\n",
      "================================= 2fold lightgbm =================================\n"
     ]
    },
    {
     "name": "stdout",
     "output_type": "stream",
     "text": [
      "Early stopping, best iteration is:\n",
      "[35]\ttraining's binary_logloss: 0.00312636\tvalid_1's binary_logloss: 0.0172714\n",
      "Training until validation scores don't improve for 10 rounds\n"
     ]
    },
    {
     "name": "stderr",
     "output_type": "stream",
     "text": [
      "laxative logloss: 0.019390501763617465\n",
      "=========================================================================================\n",
      "len(train_index) : 936\n",
      "len(valid_index) : 936\n",
      "================================= 1fold lightgbm =================================\n"
     ]
    },
    {
     "name": "stdout",
     "output_type": "stream",
     "text": [
      "Early stopping, best iteration is:\n",
      "[2]\ttraining's binary_logloss: 0.0153902\tvalid_1's binary_logloss: 0.0215096\n",
      "Training until validation scores don't improve for 10 rounds\n"
     ]
    },
    {
     "name": "stderr",
     "output_type": "stream",
     "text": [
      "len(train_index) : 936\n",
      "len(valid_index) : 936\n",
      "================================= 2fold lightgbm =================================\n"
     ]
    },
    {
     "name": "stdout",
     "output_type": "stream",
     "text": [
      "Early stopping, best iteration is:\n",
      "[3]\ttraining's binary_logloss: 0.0157859\tvalid_1's binary_logloss: 0.0211603\n",
      "Training until validation scores don't improve for 10 rounds\n"
     ]
    },
    {
     "name": "stderr",
     "output_type": "stream",
     "text": [
      "leukotriene_inhibitor logloss: 0.02103159135325732\n",
      "=========================================================================================\n",
      "len(train_index) : 964\n",
      "len(valid_index) : 964\n"
     ]
    },
    {
     "name": "stdout",
     "output_type": "stream",
     "text": [
      "Early stopping, best iteration is:\n",
      "[1]\ttraining's binary_logloss: 0.0195691\tvalid_1's binary_logloss: 0.0209029\n"
     ]
    },
    {
     "name": "stderr",
     "output_type": "stream",
     "text": [
      "================================= 1fold lightgbm =================================\n"
     ]
    },
    {
     "name": "stdout",
     "output_type": "stream",
     "text": [
      "Training until validation scores don't improve for 10 rounds\n",
      "[20]\ttraining's binary_logloss: 0.0560076\tvalid_1's binary_logloss: 0.108958\n",
      "[40]\ttraining's binary_logloss: 0.030326\tvalid_1's binary_logloss: 0.102011\n"
     ]
    },
    {
     "name": "stderr",
     "output_type": "stream",
     "text": [
      "len(train_index) : 964\n",
      "len(valid_index) : 964\n",
      "================================= 2fold lightgbm =================================\n"
     ]
    },
    {
     "name": "stdout",
     "output_type": "stream",
     "text": [
      "Early stopping, best iteration is:\n",
      "[49]\ttraining's binary_logloss: 0.023652\tvalid_1's binary_logloss: 0.101298\n",
      "Training until validation scores don't improve for 10 rounds\n",
      "[20]\ttraining's binary_logloss: 0.0582398\tvalid_1's binary_logloss: 0.112034\n",
      "[40]\ttraining's binary_logloss: 0.0320604\tvalid_1's binary_logloss: 0.0964204\n",
      "[60]\ttraining's binary_logloss: 0.0187168\tvalid_1's binary_logloss: 0.0921286\n",
      "[80]\ttraining's binary_logloss: 0.0113554\tvalid_1's binary_logloss: 0.0913195\n"
     ]
    },
    {
     "name": "stderr",
     "output_type": "stream",
     "text": [
      "leukotriene_receptor_antagonist logloss: 0.0960829767491435\n",
      "=========================================================================================\n"
     ]
    },
    {
     "name": "stdout",
     "output_type": "stream",
     "text": [
      "Early stopping, best iteration is:\n",
      "[77]\ttraining's binary_logloss: 0.0122326\tvalid_1's binary_logloss: 0.0908675\n"
     ]
    },
    {
     "name": "stderr",
     "output_type": "stream",
     "text": [
      "len(train_index) : 939\n",
      "len(valid_index) : 939\n",
      "================================= 1fold lightgbm =================================\n"
     ]
    },
    {
     "name": "stdout",
     "output_type": "stream",
     "text": [
      "Training until validation scores don't improve for 10 rounds\n"
     ]
    },
    {
     "name": "stderr",
     "output_type": "stream",
     "text": [
      "len(train_index) : 939\n",
      "len(valid_index) : 939\n",
      "================================= 2fold lightgbm =================================\n"
     ]
    },
    {
     "name": "stdout",
     "output_type": "stream",
     "text": [
      "Early stopping, best iteration is:\n",
      "[1]\ttraining's binary_logloss: 0.0353882\tvalid_1's binary_logloss: 0.0388684\n",
      "Training until validation scores don't improve for 10 rounds\n"
     ]
    },
    {
     "name": "stderr",
     "output_type": "stream",
     "text": [
      "lipase_inhibitor logloss: 0.038739065019310036\n",
      "=========================================================================================\n"
     ]
    },
    {
     "name": "stdout",
     "output_type": "stream",
     "text": [
      "Early stopping, best iteration is:\n",
      "[1]\ttraining's binary_logloss: 0.0355893\tvalid_1's binary_logloss: 0.0386097\n"
     ]
    },
    {
     "name": "stderr",
     "output_type": "stream",
     "text": [
      "len(train_index) : 963\n",
      "len(valid_index) : 964\n",
      "================================= 1fold lightgbm =================================\n"
     ]
    },
    {
     "name": "stdout",
     "output_type": "stream",
     "text": [
      "Training until validation scores don't improve for 10 rounds\n",
      "[20]\ttraining's binary_logloss: 0.0565371\tvalid_1's binary_logloss: 0.118835\n",
      "[40]\ttraining's binary_logloss: 0.0303786\tvalid_1's binary_logloss: 0.110325\n",
      "[60]\ttraining's binary_logloss: 0.0176284\tvalid_1's binary_logloss: 0.107674\n"
     ]
    },
    {
     "name": "stderr",
     "output_type": "stream",
     "text": [
      "len(train_index) : 964\n",
      "len(valid_index) : 963\n",
      "================================= 2fold lightgbm =================================\n"
     ]
    },
    {
     "name": "stdout",
     "output_type": "stream",
     "text": [
      "Early stopping, best iteration is:\n",
      "[63]\ttraining's binary_logloss: 0.0163051\tvalid_1's binary_logloss: 0.107525\n",
      "Training until validation scores don't improve for 10 rounds\n",
      "[20]\ttraining's binary_logloss: 0.0579354\tvalid_1's binary_logloss: 0.115741\n",
      "[40]\ttraining's binary_logloss: 0.0320253\tvalid_1's binary_logloss: 0.106085\n",
      "[60]\ttraining's binary_logloss: 0.0191308\tvalid_1's binary_logloss: 0.10051\n",
      "[80]\ttraining's binary_logloss: 0.0116348\tvalid_1's binary_logloss: 0.0994935\n"
     ]
    },
    {
     "name": "stderr",
     "output_type": "stream",
     "text": [
      "lipoxygenase_inhibitor logloss: 0.10345365553442164\n",
      "=========================================================================================\n"
     ]
    },
    {
     "name": "stdout",
     "output_type": "stream",
     "text": [
      "Early stopping, best iteration is:\n",
      "[81]\ttraining's binary_logloss: 0.0113802\tvalid_1's binary_logloss: 0.099378\n"
     ]
    },
    {
     "name": "stderr",
     "output_type": "stream",
     "text": [
      "len(train_index) : 936\n",
      "len(valid_index) : 936\n",
      "================================= 1fold lightgbm =================================\n"
     ]
    },
    {
     "name": "stdout",
     "output_type": "stream",
     "text": [
      "Training until validation scores don't improve for 10 rounds\n",
      "[20]\ttraining's binary_logloss: 0.00561193\tvalid_1's binary_logloss: 0.0138528\n"
     ]
    },
    {
     "name": "stderr",
     "output_type": "stream",
     "text": [
      "len(train_index) : 936\n",
      "len(valid_index) : 936\n",
      "================================= 2fold lightgbm =================================\n"
     ]
    },
    {
     "name": "stdout",
     "output_type": "stream",
     "text": [
      "Early stopping, best iteration is:\n",
      "[25]\ttraining's binary_logloss: 0.00468388\tvalid_1's binary_logloss: 0.013508\n",
      "Training until validation scores don't improve for 10 rounds\n",
      "[20]\ttraining's binary_logloss: 0.00561822\tvalid_1's binary_logloss: 0.0163044\n"
     ]
    },
    {
     "name": "stderr",
     "output_type": "stream",
     "text": [
      "lxr_agonist logloss: 0.01472056601379919\n",
      "=========================================================================================\n"
     ]
    },
    {
     "name": "stdout",
     "output_type": "stream",
     "text": [
      "Early stopping, best iteration is:\n",
      "[25]\ttraining's binary_logloss: 0.00466326\tvalid_1's binary_logloss: 0.0159331\n"
     ]
    },
    {
     "name": "stderr",
     "output_type": "stream",
     "text": [
      "len(train_index) : 948\n",
      "len(valid_index) : 949\n",
      "================================= 1fold lightgbm =================================\n"
     ]
    },
    {
     "name": "stdout",
     "output_type": "stream",
     "text": [
      "Training until validation scores don't improve for 10 rounds\n",
      "[20]\ttraining's binary_logloss: 0.0282301\tvalid_1's binary_logloss: 0.0392331\n",
      "[40]\ttraining's binary_logloss: 0.0143146\tvalid_1's binary_logloss: 0.0301169\n",
      "[60]\ttraining's binary_logloss: 0.00746506\tvalid_1's binary_logloss: 0.0236165\n",
      "[80]\ttraining's binary_logloss: 0.00406494\tvalid_1's binary_logloss: 0.021355\n"
     ]
    },
    {
     "name": "stderr",
     "output_type": "stream",
     "text": [
      "len(train_index) : 949\n",
      "len(valid_index) : 948\n",
      "================================= 2fold lightgbm =================================\n"
     ]
    },
    {
     "name": "stdout",
     "output_type": "stream",
     "text": [
      "[100]\ttraining's binary_logloss: 0.00224959\tvalid_1's binary_logloss: 0.0214249\n",
      "Early stopping, best iteration is:\n",
      "[91]\ttraining's binary_logloss: 0.00292905\tvalid_1's binary_logloss: 0.021128\n",
      "Training until validation scores don't improve for 10 rounds\n",
      "[20]\ttraining's binary_logloss: 0.0296386\tvalid_1's binary_logloss: 0.0454985\n",
      "[40]\ttraining's binary_logloss: 0.0148766\tvalid_1's binary_logloss: 0.0386245\n",
      "[60]\ttraining's binary_logloss: 0.00791371\tvalid_1's binary_logloss: 0.0362031\n"
     ]
    },
    {
     "name": "stderr",
     "output_type": "stream",
     "text": [
      "mdm_inhibitor logloss: 0.028458831626874095\n",
      "=========================================================================================\n"
     ]
    },
    {
     "name": "stdout",
     "output_type": "stream",
     "text": [
      "Early stopping, best iteration is:\n",
      "[66]\ttraining's binary_logloss: 0.00660767\tvalid_1's binary_logloss: 0.0357974\n"
     ]
    },
    {
     "name": "stderr",
     "output_type": "stream",
     "text": [
      "len(train_index) : 969\n",
      "len(valid_index) : 969\n",
      "================================= 1fold lightgbm =================================\n"
     ]
    },
    {
     "name": "stdout",
     "output_type": "stream",
     "text": [
      "Training until validation scores don't improve for 10 rounds\n",
      "[20]\ttraining's binary_logloss: 0.0638109\tvalid_1's binary_logloss: 0.0764709\n",
      "[40]\ttraining's binary_logloss: 0.0351273\tvalid_1's binary_logloss: 0.0581981\n",
      "[60]\ttraining's binary_logloss: 0.0190915\tvalid_1's binary_logloss: 0.0505054\n",
      "[80]\ttraining's binary_logloss: 0.0107599\tvalid_1's binary_logloss: 0.0470442\n",
      "[100]\ttraining's binary_logloss: 0.00621446\tvalid_1's binary_logloss: 0.0457777\n"
     ]
    },
    {
     "name": "stderr",
     "output_type": "stream",
     "text": [
      "len(train_index) : 969\n",
      "len(valid_index) : 969\n",
      "================================= 2fold lightgbm =================================\n"
     ]
    },
    {
     "name": "stdout",
     "output_type": "stream",
     "text": [
      "Early stopping, best iteration is:\n",
      "[101]\ttraining's binary_logloss: 0.00604714\tvalid_1's binary_logloss: 0.0457006\n",
      "Training until validation scores don't improve for 10 rounds\n",
      "[20]\ttraining's binary_logloss: 0.0564704\tvalid_1's binary_logloss: 0.0845958\n",
      "[40]\ttraining's binary_logloss: 0.0301013\tvalid_1's binary_logloss: 0.0679054\n",
      "[60]\ttraining's binary_logloss: 0.0168124\tvalid_1's binary_logloss: 0.0600684\n",
      "[80]\ttraining's binary_logloss: 0.00970157\tvalid_1's binary_logloss: 0.0570883\n",
      "[100]\ttraining's binary_logloss: 0.00563665\tvalid_1's binary_logloss: 0.0564776\n"
     ]
    },
    {
     "name": "stderr",
     "output_type": "stream",
     "text": [
      "mek_inhibitor logloss: 0.051081440840099655\n",
      "=========================================================================================\n"
     ]
    },
    {
     "name": "stdout",
     "output_type": "stream",
     "text": [
      "Early stopping, best iteration is:\n",
      "[99]\ttraining's binary_logloss: 0.00578866\tvalid_1's binary_logloss: 0.0564623\n"
     ]
    },
    {
     "name": "stderr",
     "output_type": "stream",
     "text": [
      "len(train_index) : 970\n",
      "len(valid_index) : 970\n",
      "================================= 1fold lightgbm =================================\n"
     ]
    },
    {
     "name": "stdout",
     "output_type": "stream",
     "text": [
      "Training until validation scores don't improve for 10 rounds\n",
      "[20]\ttraining's binary_logloss: 0.0690056\tvalid_1's binary_logloss: 0.131336\n",
      "[40]\ttraining's binary_logloss: 0.0390415\tvalid_1's binary_logloss: 0.12152\n",
      "[60]\ttraining's binary_logloss: 0.0232603\tvalid_1's binary_logloss: 0.118556\n"
     ]
    },
    {
     "name": "stderr",
     "output_type": "stream",
     "text": [
      "len(train_index) : 970\n",
      "len(valid_index) : 970\n",
      "================================= 2fold lightgbm =================================\n"
     ]
    },
    {
     "name": "stdout",
     "output_type": "stream",
     "text": [
      "Early stopping, best iteration is:\n",
      "[67]\ttraining's binary_logloss: 0.0195302\tvalid_1's binary_logloss: 0.117572\n",
      "Training until validation scores don't improve for 10 rounds\n",
      "[20]\ttraining's binary_logloss: 0.0701947\tvalid_1's binary_logloss: 0.146845\n",
      "[40]\ttraining's binary_logloss: 0.0387957\tvalid_1's binary_logloss: 0.139671\n",
      "[60]\ttraining's binary_logloss: 0.0230559\tvalid_1's binary_logloss: 0.138616\n"
     ]
    },
    {
     "name": "stderr",
     "output_type": "stream",
     "text": [
      "membrane_integrity_inhibitor logloss: 0.12773834921559976\n",
      "=========================================================================================\n"
     ]
    },
    {
     "name": "stdout",
     "output_type": "stream",
     "text": [
      "Early stopping, best iteration is:\n",
      "[65]\ttraining's binary_logloss: 0.0203157\tvalid_1's binary_logloss: 0.137905\n"
     ]
    },
    {
     "name": "stderr",
     "output_type": "stream",
     "text": [
      "len(train_index) : 945\n",
      "len(valid_index) : 946\n",
      "================================= 1fold lightgbm =================================\n"
     ]
    },
    {
     "name": "stdout",
     "output_type": "stream",
     "text": [
      "Training until validation scores don't improve for 10 rounds\n",
      "[20]\ttraining's binary_logloss: 0.0232234\tvalid_1's binary_logloss: 0.0678827\n"
     ]
    },
    {
     "name": "stderr",
     "output_type": "stream",
     "text": [
      "len(train_index) : 946\n",
      "len(valid_index) : 945\n",
      "================================= 2fold lightgbm =================================\n"
     ]
    },
    {
     "name": "stdout",
     "output_type": "stream",
     "text": [
      "[40]\ttraining's binary_logloss: 0.0117351\tvalid_1's binary_logloss: 0.0673415\n",
      "Early stopping, best iteration is:\n",
      "[30]\ttraining's binary_logloss: 0.0162466\tvalid_1's binary_logloss: 0.066952\n",
      "Training until validation scores don't improve for 10 rounds\n",
      "[20]\ttraining's binary_logloss: 0.0271164\tvalid_1's binary_logloss: 0.0612478\n",
      "[40]\ttraining's binary_logloss: 0.013641\tvalid_1's binary_logloss: 0.0581755\n"
     ]
    },
    {
     "name": "stderr",
     "output_type": "stream",
     "text": [
      "mineralocorticoid_receptor_antagonist logloss: 0.06233694073753489\n",
      "=========================================================================================\n",
      "len(train_index) : 939\n",
      "len(valid_index) : 939\n",
      "================================= 1fold lightgbm =================================\n"
     ]
    },
    {
     "name": "stdout",
     "output_type": "stream",
     "text": [
      "[60]\ttraining's binary_logloss: 0.00750855\tvalid_1's binary_logloss: 0.0582834\n",
      "Early stopping, best iteration is:\n",
      "[50]\ttraining's binary_logloss: 0.010036\tvalid_1's binary_logloss: 0.057717\n",
      "Training until validation scores don't improve for 10 rounds\n",
      "[20]\ttraining's binary_logloss: 0.0108768\tvalid_1's binary_logloss: 0.0353869\n"
     ]
    },
    {
     "name": "stderr",
     "output_type": "stream",
     "text": [
      "len(train_index) : 939\n",
      "len(valid_index) : 939\n",
      "================================= 2fold lightgbm =================================\n"
     ]
    },
    {
     "name": "stdout",
     "output_type": "stream",
     "text": [
      "Early stopping, best iteration is:\n",
      "[16]\ttraining's binary_logloss: 0.012736\tvalid_1's binary_logloss: 0.0353681\n",
      "Training until validation scores don't improve for 10 rounds\n",
      "[20]\ttraining's binary_logloss: 0.0110365\tvalid_1's binary_logloss: 0.0342754\n"
     ]
    },
    {
     "name": "stderr",
     "output_type": "stream",
     "text": [
      "monoacylglycerol_lipase_inhibitor logloss: 0.03471326352238482\n",
      "=========================================================================================\n",
      "len(train_index) : 975\n",
      "len(valid_index) : 976\n",
      "================================= 1fold lightgbm =================================\n"
     ]
    },
    {
     "name": "stdout",
     "output_type": "stream",
     "text": [
      "Early stopping, best iteration is:\n",
      "[25]\ttraining's binary_logloss: 0.00914007\tvalid_1's binary_logloss: 0.0340584\n",
      "Training until validation scores don't improve for 10 rounds\n",
      "[20]\ttraining's binary_logloss: 0.0793276\tvalid_1's binary_logloss: 0.157796\n",
      "[40]\ttraining's binary_logloss: 0.0442803\tvalid_1's binary_logloss: 0.145201\n",
      "[60]\ttraining's binary_logloss: 0.0267864\tvalid_1's binary_logloss: 0.141653\n",
      "[80]\ttraining's binary_logloss: 0.0165098\tvalid_1's binary_logloss: 0.141866\n"
     ]
    },
    {
     "name": "stderr",
     "output_type": "stream",
     "text": [
      "len(train_index) : 976\n",
      "len(valid_index) : 975\n",
      "================================= 2fold lightgbm =================================\n"
     ]
    },
    {
     "name": "stdout",
     "output_type": "stream",
     "text": [
      "Early stopping, best iteration is:\n",
      "[76]\ttraining's binary_logloss: 0.0182057\tvalid_1's binary_logloss: 0.140832\n",
      "Training until validation scores don't improve for 10 rounds\n",
      "[20]\ttraining's binary_logloss: 0.081645\tvalid_1's binary_logloss: 0.13723\n",
      "[40]\ttraining's binary_logloss: 0.0483068\tvalid_1's binary_logloss: 0.124197\n",
      "[60]\ttraining's binary_logloss: 0.0303437\tvalid_1's binary_logloss: 0.118092\n",
      "[80]\ttraining's binary_logloss: 0.0196275\tvalid_1's binary_logloss: 0.115722\n"
     ]
    },
    {
     "name": "stderr",
     "output_type": "stream",
     "text": [
      "monoamine_oxidase_inhibitor logloss: 0.12797059455214477\n",
      "=========================================================================================\n"
     ]
    },
    {
     "name": "stdout",
     "output_type": "stream",
     "text": [
      "Early stopping, best iteration is:\n",
      "[88]\ttraining's binary_logloss: 0.0166097\tvalid_1's binary_logloss: 0.115096\n"
     ]
    },
    {
     "name": "stderr",
     "output_type": "stream",
     "text": [
      "len(train_index) : 942\n",
      "len(valid_index) : 942\n",
      "================================= 1fold lightgbm =================================\n"
     ]
    },
    {
     "name": "stdout",
     "output_type": "stream",
     "text": [
      "Training until validation scores don't improve for 10 rounds\n",
      "[20]\ttraining's binary_logloss: 0.0165766\tvalid_1's binary_logloss: 0.0350747\n",
      "[40]\ttraining's binary_logloss: 0.00827447\tvalid_1's binary_logloss: 0.0271842\n",
      "[60]\ttraining's binary_logloss: 0.00442466\tvalid_1's binary_logloss: 0.0243709\n",
      "[80]\ttraining's binary_logloss: 0.0024424\tvalid_1's binary_logloss: 0.0234795\n"
     ]
    },
    {
     "name": "stderr",
     "output_type": "stream",
     "text": [
      "len(train_index) : 942\n",
      "len(valid_index) : 942\n",
      "================================= 2fold lightgbm =================================\n"
     ]
    },
    {
     "name": "stdout",
     "output_type": "stream",
     "text": [
      "Early stopping, best iteration is:\n",
      "[78]\ttraining's binary_logloss: 0.00258947\tvalid_1's binary_logloss: 0.0234403\n",
      "Training until validation scores don't improve for 10 rounds\n",
      "[20]\ttraining's binary_logloss: 0.0152433\tvalid_1's binary_logloss: 0.0360026\n",
      "[40]\ttraining's binary_logloss: 0.00752955\tvalid_1's binary_logloss: 0.0295936\n",
      "[60]\ttraining's binary_logloss: 0.00403553\tvalid_1's binary_logloss: 0.0264514\n",
      "[80]\ttraining's binary_logloss: 0.00222588\tvalid_1's binary_logloss: 0.0246362\n",
      "[100]\ttraining's binary_logloss: 0.00124414\tvalid_1's binary_logloss: 0.0239775\n",
      "[120]\ttraining's binary_logloss: 0.000701695\tvalid_1's binary_logloss: 0.0237852\n"
     ]
    },
    {
     "name": "stderr",
     "output_type": "stream",
     "text": [
      "monopolar_spindle_1_kinase_inhibitor logloss: 0.023556545398829638\n",
      "=========================================================================================\n"
     ]
    },
    {
     "name": "stdout",
     "output_type": "stream",
     "text": [
      "Early stopping, best iteration is:\n",
      "[116]\ttraining's binary_logloss: 0.000786555\tvalid_1's binary_logloss: 0.0236728\n"
     ]
    },
    {
     "name": "stderr",
     "output_type": "stream",
     "text": [
      "len(train_index) : 998\n",
      "len(valid_index) : 998\n",
      "================================= 1fold lightgbm =================================\n"
     ]
    },
    {
     "name": "stdout",
     "output_type": "stream",
     "text": [
      "Training until validation scores don't improve for 10 rounds\n",
      "[20]\ttraining's binary_logloss: 0.0983812\tvalid_1's binary_logloss: 0.11597\n",
      "[40]\ttraining's binary_logloss: 0.0528481\tvalid_1's binary_logloss: 0.0824842\n",
      "[60]\ttraining's binary_logloss: 0.0300405\tvalid_1's binary_logloss: 0.0646812\n",
      "[80]\ttraining's binary_logloss: 0.0172502\tvalid_1's binary_logloss: 0.0558329\n",
      "[100]\ttraining's binary_logloss: 0.0101288\tvalid_1's binary_logloss: 0.0520707\n",
      "[120]\ttraining's binary_logloss: 0.00599123\tvalid_1's binary_logloss: 0.0505842\n"
     ]
    },
    {
     "name": "stderr",
     "output_type": "stream",
     "text": [
      "len(train_index) : 998\n",
      "len(valid_index) : 998\n",
      "================================= 2fold lightgbm =================================\n"
     ]
    },
    {
     "name": "stdout",
     "output_type": "stream",
     "text": [
      "Early stopping, best iteration is:\n",
      "[117]\ttraining's binary_logloss: 0.00648752\tvalid_1's binary_logloss: 0.050323\n",
      "Training until validation scores don't improve for 10 rounds\n",
      "[20]\ttraining's binary_logloss: 0.096328\tvalid_1's binary_logloss: 0.127781\n",
      "[40]\ttraining's binary_logloss: 0.0513436\tvalid_1's binary_logloss: 0.101628\n",
      "[60]\ttraining's binary_logloss: 0.0285336\tvalid_1's binary_logloss: 0.0867001\n",
      "[80]\ttraining's binary_logloss: 0.0162307\tvalid_1's binary_logloss: 0.0802287\n",
      "[100]\ttraining's binary_logloss: 0.00937037\tvalid_1's binary_logloss: 0.0789661\n"
     ]
    },
    {
     "name": "stderr",
     "output_type": "stream",
     "text": [
      "mtor_inhibitor logloss: 0.06456555089498768\n",
      "=========================================================================================\n"
     ]
    },
    {
     "name": "stdout",
     "output_type": "stream",
     "text": [
      "Early stopping, best iteration is:\n",
      "[103]\ttraining's binary_logloss: 0.00862654\tvalid_1's binary_logloss: 0.0788081\n"
     ]
    },
    {
     "name": "stderr",
     "output_type": "stream",
     "text": [
      "len(train_index) : 957\n",
      "len(valid_index) : 957\n",
      "================================= 1fold lightgbm =================================\n"
     ]
    },
    {
     "name": "stdout",
     "output_type": "stream",
     "text": [
      "Training until validation scores don't improve for 10 rounds\n",
      "[20]\ttraining's binary_logloss: 0.0440718\tvalid_1's binary_logloss: 0.0954608\n",
      "[40]\ttraining's binary_logloss: 0.0235688\tvalid_1's binary_logloss: 0.0876746\n",
      "[60]\ttraining's binary_logloss: 0.0136096\tvalid_1's binary_logloss: 0.0829201\n"
     ]
    },
    {
     "name": "stderr",
     "output_type": "stream",
     "text": [
      "len(train_index) : 957\n",
      "len(valid_index) : 957\n",
      "================================= 2fold lightgbm =================================\n"
     ]
    },
    {
     "name": "stdout",
     "output_type": "stream",
     "text": [
      "Early stopping, best iteration is:\n",
      "[68]\ttraining's binary_logloss: 0.01107\tvalid_1's binary_logloss: 0.0823098\n",
      "Training until validation scores don't improve for 10 rounds\n",
      "[20]\ttraining's binary_logloss: 0.0438594\tvalid_1's binary_logloss: 0.0955359\n",
      "[40]\ttraining's binary_logloss: 0.0228729\tvalid_1's binary_logloss: 0.0870413\n",
      "[60]\ttraining's binary_logloss: 0.0128913\tvalid_1's binary_logloss: 0.086898\n"
     ]
    },
    {
     "name": "stderr",
     "output_type": "stream",
     "text": [
      "mucolytic_agent logloss: 0.08444649873860212\n",
      "=========================================================================================\n"
     ]
    },
    {
     "name": "stdout",
     "output_type": "stream",
     "text": [
      "Early stopping, best iteration is:\n",
      "[54]\ttraining's binary_logloss: 0.0152483\tvalid_1's binary_logloss: 0.0865832\n"
     ]
    },
    {
     "name": "stderr",
     "output_type": "stream",
     "text": [
      "len(train_index) : 951\n",
      "len(valid_index) : 952\n",
      "================================= 1fold lightgbm =================================\n"
     ]
    },
    {
     "name": "stdout",
     "output_type": "stream",
     "text": [
      "Training until validation scores don't improve for 10 rounds\n",
      "[20]\ttraining's binary_logloss: 0.0306768\tvalid_1's binary_logloss: 0.0896221\n"
     ]
    },
    {
     "name": "stderr",
     "output_type": "stream",
     "text": [
      "len(train_index) : 952\n",
      "len(valid_index) : 951\n",
      "================================= 2fold lightgbm =================================\n"
     ]
    },
    {
     "name": "stdout",
     "output_type": "stream",
     "text": [
      "[40]\ttraining's binary_logloss: 0.0158328\tvalid_1's binary_logloss: 0.0894483\n",
      "Early stopping, best iteration is:\n",
      "[30]\ttraining's binary_logloss: 0.021716\tvalid_1's binary_logloss: 0.0891183\n",
      "Training until validation scores don't improve for 10 rounds\n",
      "[20]\ttraining's binary_logloss: 0.0343597\tvalid_1's binary_logloss: 0.072734\n",
      "[40]\ttraining's binary_logloss: 0.0178311\tvalid_1's binary_logloss: 0.0685059\n"
     ]
    },
    {
     "name": "stderr",
     "output_type": "stream",
     "text": [
      "neuropeptide_receptor_antagonist logloss: 0.07864424005967571\n",
      "=========================================================================================\n"
     ]
    },
    {
     "name": "stdout",
     "output_type": "stream",
     "text": [
      "Early stopping, best iteration is:\n",
      "[46]\ttraining's binary_logloss: 0.0150137\tvalid_1's binary_logloss: 0.0681591\n"
     ]
    },
    {
     "name": "stderr",
     "output_type": "stream",
     "text": [
      "len(train_index) : 1349\n",
      "len(valid_index) : 1349\n",
      "================================= 1fold lightgbm =================================\n"
     ]
    },
    {
     "name": "stdout",
     "output_type": "stream",
     "text": [
      "Training until validation scores don't improve for 10 rounds\n",
      "[20]\ttraining's binary_logloss: 0.306305\tvalid_1's binary_logloss: 0.319007\n",
      "[40]\ttraining's binary_logloss: 0.174482\tvalid_1's binary_logloss: 0.201764\n",
      "[60]\ttraining's binary_logloss: 0.105098\tvalid_1's binary_logloss: 0.145234\n",
      "[80]\ttraining's binary_logloss: 0.0663767\tvalid_1's binary_logloss: 0.114402\n",
      "[100]\ttraining's binary_logloss: 0.042546\tvalid_1's binary_logloss: 0.0976656\n",
      "[120]\ttraining's binary_logloss: 0.027606\tvalid_1's binary_logloss: 0.0888271\n",
      "[140]\ttraining's binary_logloss: 0.018085\tvalid_1's binary_logloss: 0.0832724\n",
      "[160]\ttraining's binary_logloss: 0.0118114\tvalid_1's binary_logloss: 0.0811223\n"
     ]
    },
    {
     "name": "stderr",
     "output_type": "stream",
     "text": [
      "len(train_index) : 1349\n",
      "len(valid_index) : 1349\n",
      "================================= 2fold lightgbm =================================\n"
     ]
    },
    {
     "name": "stdout",
     "output_type": "stream",
     "text": [
      "Early stopping, best iteration is:\n",
      "[165]\ttraining's binary_logloss: 0.0106053\tvalid_1's binary_logloss: 0.080743\n",
      "Training until validation scores don't improve for 10 rounds\n",
      "[20]\ttraining's binary_logloss: 0.301063\tvalid_1's binary_logloss: 0.330794\n",
      "[40]\ttraining's binary_logloss: 0.167752\tvalid_1's binary_logloss: 0.218929\n",
      "[60]\ttraining's binary_logloss: 0.0976661\tvalid_1's binary_logloss: 0.164986\n",
      "[80]\ttraining's binary_logloss: 0.0580957\tvalid_1's binary_logloss: 0.140522\n",
      "[100]\ttraining's binary_logloss: 0.0352429\tvalid_1's binary_logloss: 0.128856\n",
      "[120]\ttraining's binary_logloss: 0.0217849\tvalid_1's binary_logloss: 0.12602\n"
     ]
    },
    {
     "name": "stderr",
     "output_type": "stream",
     "text": [
      "nfkb_inhibitor logloss: 0.10320390061820396\n",
      "=========================================================================================\n"
     ]
    },
    {
     "name": "stdout",
     "output_type": "stream",
     "text": [
      "Early stopping, best iteration is:\n",
      "[118]\ttraining's binary_logloss: 0.0228445\tvalid_1's binary_logloss: 0.125665\n"
     ]
    },
    {
     "name": "stderr",
     "output_type": "stream",
     "text": [
      "len(train_index) : 936\n",
      "len(valid_index) : 936\n",
      "================================= 1fold lightgbm =================================\n"
     ]
    },
    {
     "name": "stdout",
     "output_type": "stream",
     "text": [
      "Training until validation scores don't improve for 10 rounds\n",
      "[20]\ttraining's binary_logloss: 0.0050685\tvalid_1's binary_logloss: 0.0199171\n"
     ]
    },
    {
     "name": "stderr",
     "output_type": "stream",
     "text": [
      "len(train_index) : 936\n",
      "len(valid_index) : 936\n",
      "================================= 2fold lightgbm =================================\n"
     ]
    },
    {
     "name": "stdout",
     "output_type": "stream",
     "text": [
      "Early stopping, best iteration is:\n",
      "[18]\ttraining's binary_logloss: 0.00548374\tvalid_1's binary_logloss: 0.0198425\n",
      "Training until validation scores don't improve for 10 rounds\n"
     ]
    },
    {
     "name": "stderr",
     "output_type": "stream",
     "text": [
      "nicotinic_receptor_agonist logloss: 0.019676151924911397\n",
      "=========================================================================================\n",
      "len(train_index) : 946\n",
      "len(valid_index) : 946\n",
      "================================= 1fold lightgbm =================================\n"
     ]
    },
    {
     "name": "stdout",
     "output_type": "stream",
     "text": [
      "Early stopping, best iteration is:\n",
      "[3]\ttraining's binary_logloss: 0.0154898\tvalid_1's binary_logloss: 0.0195098\n",
      "Training until validation scores don't improve for 10 rounds\n",
      "[20]\ttraining's binary_logloss: 0.0251481\tvalid_1's binary_logloss: 0.0636767\n",
      "[40]\ttraining's binary_logloss: 0.0126444\tvalid_1's binary_logloss: 0.0610977\n",
      "[60]\ttraining's binary_logloss: 0.00676275\tvalid_1's binary_logloss: 0.0607225\n",
      "Early stopping, best iteration is:\n",
      "[52]\ttraining's binary_logloss: 0.00862752\tvalid_1's binary_logloss: 0.0604828\n"
     ]
    },
    {
     "name": "stderr",
     "output_type": "stream",
     "text": [
      "len(train_index) : 946\n",
      "len(valid_index) : 946\n",
      "================================= 2fold lightgbm =================================\n"
     ]
    },
    {
     "name": "stdout",
     "output_type": "stream",
     "text": [
      "Training until validation scores don't improve for 10 rounds\n",
      "[20]\ttraining's binary_logloss: 0.0242841\tvalid_1's binary_logloss: 0.0675052\n",
      "[40]\ttraining's binary_logloss: 0.0120984\tvalid_1's binary_logloss: 0.0653964\n"
     ]
    },
    {
     "name": "stderr",
     "output_type": "stream",
     "text": [
      "nitric_oxide_donor logloss: 0.06293343216878378\n",
      "=========================================================================================\n"
     ]
    },
    {
     "name": "stdout",
     "output_type": "stream",
     "text": [
      "[60]\ttraining's binary_logloss: 0.00658503\tvalid_1's binary_logloss: 0.0663971\n",
      "Early stopping, best iteration is:\n",
      "[50]\ttraining's binary_logloss: 0.00890258\tvalid_1's binary_logloss: 0.0653841\n"
     ]
    },
    {
     "name": "stderr",
     "output_type": "stream",
     "text": [
      "len(train_index) : 939\n",
      "len(valid_index) : 939\n",
      "================================= 1fold lightgbm =================================\n"
     ]
    },
    {
     "name": "stdout",
     "output_type": "stream",
     "text": [
      "Training until validation scores don't improve for 10 rounds\n",
      "[20]\ttraining's binary_logloss: 0.0112452\tvalid_1's binary_logloss: 0.0314537\n",
      "[40]\ttraining's binary_logloss: 0.00573807\tvalid_1's binary_logloss: 0.0310468\n"
     ]
    },
    {
     "name": "stderr",
     "output_type": "stream",
     "text": [
      "len(train_index) : 939\n",
      "len(valid_index) : 939\n",
      "================================= 2fold lightgbm =================================\n"
     ]
    },
    {
     "name": "stdout",
     "output_type": "stream",
     "text": [
      "Early stopping, best iteration is:\n",
      "[40]\ttraining's binary_logloss: 0.00573807\tvalid_1's binary_logloss: 0.0310468\n",
      "Training until validation scores don't improve for 10 rounds\n",
      "[20]\ttraining's binary_logloss: 0.0106019\tvalid_1's binary_logloss: 0.0263838\n",
      "[40]\ttraining's binary_logloss: 0.00547048\tvalid_1's binary_logloss: 0.0249188\n"
     ]
    },
    {
     "name": "stderr",
     "output_type": "stream",
     "text": [
      "nitric_oxide_production_inhibitor logloss: 0.027982793347781223\n",
      "=========================================================================================\n",
      "len(train_index) : 946\n",
      "len(valid_index) : 946\n"
     ]
    },
    {
     "name": "stdout",
     "output_type": "stream",
     "text": [
      "Early stopping, best iteration is:\n",
      "[40]\ttraining's binary_logloss: 0.00547048\tvalid_1's binary_logloss: 0.0249188\n"
     ]
    },
    {
     "name": "stderr",
     "output_type": "stream",
     "text": [
      "================================= 1fold lightgbm =================================\n"
     ]
    },
    {
     "name": "stdout",
     "output_type": "stream",
     "text": [
      "Training until validation scores don't improve for 10 rounds\n",
      "[20]\ttraining's binary_logloss: 0.0241148\tvalid_1's binary_logloss: 0.0553686\n",
      "[40]\ttraining's binary_logloss: 0.0122175\tvalid_1's binary_logloss: 0.0508187\n",
      "[60]\ttraining's binary_logloss: 0.00662561\tvalid_1's binary_logloss: 0.0501691\n"
     ]
    },
    {
     "name": "stderr",
     "output_type": "stream",
     "text": [
      "len(train_index) : 946\n",
      "len(valid_index) : 946\n",
      "================================= 2fold lightgbm =================================\n"
     ]
    },
    {
     "name": "stdout",
     "output_type": "stream",
     "text": [
      "Early stopping, best iteration is:\n",
      "[58]\ttraining's binary_logloss: 0.0070254\tvalid_1's binary_logloss: 0.0498971\n",
      "Training until validation scores don't improve for 10 rounds\n",
      "[20]\ttraining's binary_logloss: 0.0239008\tvalid_1's binary_logloss: 0.0616152\n",
      "[40]\ttraining's binary_logloss: 0.0120088\tvalid_1's binary_logloss: 0.0546504\n",
      "[60]\ttraining's binary_logloss: 0.00657633\tvalid_1's binary_logloss: 0.0520511\n"
     ]
    },
    {
     "name": "stderr",
     "output_type": "stream",
     "text": [
      "nitric_oxide_synthase_inhibitor logloss: 0.05097411291626659\n",
      "=========================================================================================\n"
     ]
    },
    {
     "name": "stdout",
     "output_type": "stream",
     "text": [
      "Early stopping, best iteration is:\n",
      "[60]\ttraining's binary_logloss: 0.00657633\tvalid_1's binary_logloss: 0.0520511\n"
     ]
    },
    {
     "name": "stderr",
     "output_type": "stream",
     "text": [
      "len(train_index) : 936\n",
      "len(valid_index) : 937\n",
      "================================= 1fold lightgbm =================================\n"
     ]
    },
    {
     "name": "stdout",
     "output_type": "stream",
     "text": [
      "Training until validation scores don't improve for 10 rounds\n",
      "[20]\ttraining's binary_logloss: 0.0052694\tvalid_1's binary_logloss: 0.0246127\n"
     ]
    },
    {
     "name": "stderr",
     "output_type": "stream",
     "text": [
      "len(train_index) : 937\n",
      "len(valid_index) : 936\n",
      "================================= 2fold lightgbm =================================\n"
     ]
    },
    {
     "name": "stdout",
     "output_type": "stream",
     "text": [
      "Early stopping, best iteration is:\n",
      "[20]\ttraining's binary_logloss: 0.0052694\tvalid_1's binary_logloss: 0.0246127\n",
      "Training until validation scores don't improve for 10 rounds\n"
     ]
    },
    {
     "name": "stderr",
     "output_type": "stream",
     "text": [
      "norepinephrine_reuptake_inhibitor logloss: 0.023265749057577643\n",
      "=========================================================================================\n",
      "len(train_index) : 942\n",
      "len(valid_index) : 942\n",
      "================================= 1fold lightgbm =================================\n"
     ]
    },
    {
     "name": "stdout",
     "output_type": "stream",
     "text": [
      "Early stopping, best iteration is:\n",
      "[1]\ttraining's binary_logloss: 0.0247228\tvalid_1's binary_logloss: 0.0219174\n",
      "Training until validation scores don't improve for 10 rounds\n",
      "[20]\ttraining's binary_logloss: 0.0160005\tvalid_1's binary_logloss: 0.0415444\n"
     ]
    },
    {
     "name": "stderr",
     "output_type": "stream",
     "text": [
      "len(train_index) : 942\n",
      "len(valid_index) : 942\n",
      "================================= 2fold lightgbm =================================\n"
     ]
    },
    {
     "name": "stdout",
     "output_type": "stream",
     "text": [
      "[40]\ttraining's binary_logloss: 0.00824574\tvalid_1's binary_logloss: 0.0412797\n",
      "Early stopping, best iteration is:\n",
      "[30]\ttraining's binary_logloss: 0.0113163\tvalid_1's binary_logloss: 0.0411408\n",
      "Training until validation scores don't improve for 10 rounds\n",
      "[20]\ttraining's binary_logloss: 0.0161954\tvalid_1's binary_logloss: 0.0273732\n",
      "[40]\ttraining's binary_logloss: 0.0082417\tvalid_1's binary_logloss: 0.0228125\n",
      "[60]\ttraining's binary_logloss: 0.00452657\tvalid_1's binary_logloss: 0.020689\n"
     ]
    },
    {
     "name": "stderr",
     "output_type": "stream",
     "text": [
      "nrf2_activator logloss: 0.03080003018032489\n",
      "=========================================================================================\n"
     ]
    },
    {
     "name": "stdout",
     "output_type": "stream",
     "text": [
      "Early stopping, best iteration is:\n",
      "[68]\ttraining's binary_logloss: 0.00357039\tvalid_1's binary_logloss: 0.0204592\n"
     ]
    },
    {
     "name": "stderr",
     "output_type": "stream",
     "text": [
      "len(train_index) : 963\n",
      "len(valid_index) : 964\n",
      "================================= 1fold lightgbm =================================\n"
     ]
    },
    {
     "name": "stdout",
     "output_type": "stream",
     "text": [
      "Training until validation scores don't improve for 10 rounds\n",
      "[20]\ttraining's binary_logloss: 0.0556349\tvalid_1's binary_logloss: 0.119214\n",
      "[40]\ttraining's binary_logloss: 0.030362\tvalid_1's binary_logloss: 0.111671\n",
      "[60]\ttraining's binary_logloss: 0.0178833\tvalid_1's binary_logloss: 0.108009\n",
      "[80]\ttraining's binary_logloss: 0.0108318\tvalid_1's binary_logloss: 0.106877\n"
     ]
    },
    {
     "name": "stderr",
     "output_type": "stream",
     "text": [
      "len(train_index) : 964\n",
      "len(valid_index) : 963\n",
      "================================= 2fold lightgbm =================================\n"
     ]
    },
    {
     "name": "stdout",
     "output_type": "stream",
     "text": [
      "[100]\ttraining's binary_logloss: 0.00669819\tvalid_1's binary_logloss: 0.107753\n",
      "Early stopping, best iteration is:\n",
      "[90]\ttraining's binary_logloss: 0.00850444\tvalid_1's binary_logloss: 0.106517\n",
      "Training until validation scores don't improve for 10 rounds\n",
      "[20]\ttraining's binary_logloss: 0.0567466\tvalid_1's binary_logloss: 0.109916\n",
      "[40]\ttraining's binary_logloss: 0.0307692\tvalid_1's binary_logloss: 0.0997647\n",
      "[60]\ttraining's binary_logloss: 0.0177655\tvalid_1's binary_logloss: 0.0977822\n"
     ]
    },
    {
     "name": "stderr",
     "output_type": "stream",
     "text": [
      "opioid_receptor_agonist logloss: 0.10180719673061749\n",
      "=========================================================================================\n"
     ]
    },
    {
     "name": "stdout",
     "output_type": "stream",
     "text": [
      "Early stopping, best iteration is:\n",
      "[69]\ttraining's binary_logloss: 0.0140267\tvalid_1's binary_logloss: 0.0970927\n"
     ]
    },
    {
     "name": "stderr",
     "output_type": "stream",
     "text": [
      "len(train_index) : 981\n",
      "len(valid_index) : 981\n",
      "================================= 1fold lightgbm =================================\n"
     ]
    },
    {
     "name": "stdout",
     "output_type": "stream",
     "text": [
      "Training until validation scores don't improve for 10 rounds\n",
      "[20]\ttraining's binary_logloss: 0.0891117\tvalid_1's binary_logloss: 0.158865\n",
      "[40]\ttraining's binary_logloss: 0.0501425\tvalid_1's binary_logloss: 0.145907\n",
      "[60]\ttraining's binary_logloss: 0.0298852\tvalid_1's binary_logloss: 0.141164\n"
     ]
    },
    {
     "name": "stderr",
     "output_type": "stream",
     "text": [
      "len(train_index) : 981\n",
      "len(valid_index) : 981\n",
      "================================= 2fold lightgbm =================================\n"
     ]
    },
    {
     "name": "stdout",
     "output_type": "stream",
     "text": [
      "Early stopping, best iteration is:\n",
      "[67]\ttraining's binary_logloss: 0.0252936\tvalid_1's binary_logloss: 0.140657\n",
      "Training until validation scores don't improve for 10 rounds\n",
      "[20]\ttraining's binary_logloss: 0.0909248\tvalid_1's binary_logloss: 0.159731\n",
      "[40]\ttraining's binary_logloss: 0.0523775\tvalid_1's binary_logloss: 0.143574\n",
      "[60]\ttraining's binary_logloss: 0.0323355\tvalid_1's binary_logloss: 0.137038\n",
      "[80]\ttraining's binary_logloss: 0.0204753\tvalid_1's binary_logloss: 0.134778\n"
     ]
    },
    {
     "name": "stderr",
     "output_type": "stream",
     "text": [
      "opioid_receptor_antagonist logloss: 0.13771753366934106\n",
      "=========================================================================================\n"
     ]
    },
    {
     "name": "stdout",
     "output_type": "stream",
     "text": [
      "Early stopping, best iteration is:\n",
      "[80]\ttraining's binary_logloss: 0.0204753\tvalid_1's binary_logloss: 0.134778\n"
     ]
    },
    {
     "name": "stderr",
     "output_type": "stream",
     "text": [
      "len(train_index) : 951\n",
      "len(valid_index) : 952\n",
      "================================= 1fold lightgbm =================================\n"
     ]
    },
    {
     "name": "stdout",
     "output_type": "stream",
     "text": [
      "Training until validation scores don't improve for 10 rounds\n",
      "[20]\ttraining's binary_logloss: 0.0321828\tvalid_1's binary_logloss: 0.0781936\n",
      "[40]\ttraining's binary_logloss: 0.0162542\tvalid_1's binary_logloss: 0.0751208\n"
     ]
    },
    {
     "name": "stderr",
     "output_type": "stream",
     "text": [
      "len(train_index) : 952\n",
      "len(valid_index) : 951\n"
     ]
    },
    {
     "name": "stdout",
     "output_type": "stream",
     "text": [
      "[60]\ttraining's binary_logloss: 0.00894252\tvalid_1's binary_logloss: 0.0749357\n",
      "Early stopping, best iteration is:\n",
      "[52]\ttraining's binary_logloss: 0.0113108\tvalid_1's binary_logloss: 0.0744834\n"
     ]
    },
    {
     "name": "stderr",
     "output_type": "stream",
     "text": [
      "================================= 2fold lightgbm =================================\n"
     ]
    },
    {
     "name": "stdout",
     "output_type": "stream",
     "text": [
      "Training until validation scores don't improve for 10 rounds\n",
      "[20]\ttraining's binary_logloss: 0.0329301\tvalid_1's binary_logloss: 0.0741137\n",
      "[40]\ttraining's binary_logloss: 0.017096\tvalid_1's binary_logloss: 0.067374\n",
      "[60]\ttraining's binary_logloss: 0.00956815\tvalid_1's binary_logloss: 0.0660519\n"
     ]
    },
    {
     "name": "stderr",
     "output_type": "stream",
     "text": [
      "orexin_receptor_antagonist logloss: 0.06999246941121808\n",
      "=========================================================================================\n",
      "len(train_index) : 964\n",
      "len(valid_index) : 964\n",
      "================================= 1fold lightgbm =================================\n"
     ]
    },
    {
     "name": "stdout",
     "output_type": "stream",
     "text": [
      "Early stopping, best iteration is:\n",
      "[67]\ttraining's binary_logloss: 0.00785692\tvalid_1's binary_logloss: 0.0654968\n",
      "Training until validation scores don't improve for 10 rounds\n",
      "[20]\ttraining's binary_logloss: 0.0541337\tvalid_1's binary_logloss: 0.0916934\n",
      "[40]\ttraining's binary_logloss: 0.0294963\tvalid_1's binary_logloss: 0.0850814\n",
      "[60]\ttraining's binary_logloss: 0.0167618\tvalid_1's binary_logloss: 0.0824048\n"
     ]
    },
    {
     "name": "stderr",
     "output_type": "stream",
     "text": [
      "len(train_index) : 964\n",
      "len(valid_index) : 964\n",
      "================================= 2fold lightgbm =================================\n"
     ]
    },
    {
     "name": "stdout",
     "output_type": "stream",
     "text": [
      "Early stopping, best iteration is:\n",
      "[59]\ttraining's binary_logloss: 0.0172523\tvalid_1's binary_logloss: 0.0821508\n",
      "Training until validation scores don't improve for 10 rounds\n",
      "[20]\ttraining's binary_logloss: 0.0550569\tvalid_1's binary_logloss: 0.0964927\n",
      "[40]\ttraining's binary_logloss: 0.0299293\tvalid_1's binary_logloss: 0.0819404\n",
      "[60]\ttraining's binary_logloss: 0.0171583\tvalid_1's binary_logloss: 0.0756458\n",
      "[80]\ttraining's binary_logloss: 0.0100944\tvalid_1's binary_logloss: 0.0720606\n",
      "[100]\ttraining's binary_logloss: 0.00585929\tvalid_1's binary_logloss: 0.0711156\n"
     ]
    },
    {
     "name": "stderr",
     "output_type": "stream",
     "text": [
      "p38_mapk_inhibitor logloss: 0.07650481848472952\n",
      "=========================================================================================\n"
     ]
    },
    {
     "name": "stdout",
     "output_type": "stream",
     "text": [
      "Early stopping, best iteration is:\n",
      "[104]\ttraining's binary_logloss: 0.0052894\tvalid_1's binary_logloss: 0.0708589\n"
     ]
    },
    {
     "name": "stderr",
     "output_type": "stream",
     "text": [
      "len(train_index) : 945\n",
      "len(valid_index) : 945\n",
      "================================= 1fold lightgbm =================================\n"
     ]
    },
    {
     "name": "stdout",
     "output_type": "stream",
     "text": [
      "Training until validation scores don't improve for 10 rounds\n",
      "[20]\ttraining's binary_logloss: 0.0206761\tvalid_1's binary_logloss: 0.0596103\n",
      "[40]\ttraining's binary_logloss: 0.0105434\tvalid_1's binary_logloss: 0.0591653\n"
     ]
    },
    {
     "name": "stderr",
     "output_type": "stream",
     "text": [
      "len(train_index) : 945\n",
      "len(valid_index) : 945\n",
      "================================= 2fold lightgbm =================================\n"
     ]
    },
    {
     "name": "stdout",
     "output_type": "stream",
     "text": [
      "Early stopping, best iteration is:\n",
      "[35]\ttraining's binary_logloss: 0.0123907\tvalid_1's binary_logloss: 0.058977\n",
      "Training until validation scores don't improve for 10 rounds\n",
      "[20]\ttraining's binary_logloss: 0.0239114\tvalid_1's binary_logloss: 0.0591471\n",
      "[40]\ttraining's binary_logloss: 0.0120106\tvalid_1's binary_logloss: 0.0544346\n"
     ]
    },
    {
     "name": "stderr",
     "output_type": "stream",
     "text": [
      "p-glycoprotein_inhibitor logloss: 0.0567057920543347\n",
      "=========================================================================================\n",
      "len(train_index) : 963\n",
      "len(valid_index) : 964\n",
      "================================= 1fold lightgbm =================================\n"
     ]
    },
    {
     "name": "stdout",
     "output_type": "stream",
     "text": [
      "Early stopping, best iteration is:\n",
      "[40]\ttraining's binary_logloss: 0.0120106\tvalid_1's binary_logloss: 0.0544346\n",
      "Training until validation scores don't improve for 10 rounds\n",
      "[20]\ttraining's binary_logloss: 0.0546095\tvalid_1's binary_logloss: 0.102936\n",
      "[40]\ttraining's binary_logloss: 0.0290759\tvalid_1's binary_logloss: 0.0906817\n",
      "[60]\ttraining's binary_logloss: 0.0165272\tvalid_1's binary_logloss: 0.0871374\n"
     ]
    },
    {
     "name": "stderr",
     "output_type": "stream",
     "text": [
      "len(train_index) : 964\n",
      "len(valid_index) : 963\n",
      "================================= 2fold lightgbm =================================\n"
     ]
    },
    {
     "name": "stdout",
     "output_type": "stream",
     "text": [
      "[80]\ttraining's binary_logloss: 0.00962468\tvalid_1's binary_logloss: 0.0862122\n",
      "Early stopping, best iteration is:\n",
      "[70]\ttraining's binary_logloss: 0.012609\tvalid_1's binary_logloss: 0.0860273\n",
      "Training until validation scores don't improve for 10 rounds\n",
      "[20]\ttraining's binary_logloss: 0.0553069\tvalid_1's binary_logloss: 0.118934\n",
      "[40]\ttraining's binary_logloss: 0.0289421\tvalid_1's binary_logloss: 0.112514\n"
     ]
    },
    {
     "name": "stderr",
     "output_type": "stream",
     "text": [
      "parp_inhibitor logloss: 0.09907965590538621\n",
      "=========================================================================================\n"
     ]
    },
    {
     "name": "stdout",
     "output_type": "stream",
     "text": [
      "Early stopping, best iteration is:\n",
      "[48]\ttraining's binary_logloss: 0.0230659\tvalid_1's binary_logloss: 0.112146\n"
     ]
    },
    {
     "name": "stderr",
     "output_type": "stream",
     "text": [
      "len(train_index) : 1081\n",
      "len(valid_index) : 1082\n",
      "================================= 1fold lightgbm =================================\n"
     ]
    },
    {
     "name": "stdout",
     "output_type": "stream",
     "text": [
      "Training until validation scores don't improve for 10 rounds\n",
      "[20]\ttraining's binary_logloss: 0.186115\tvalid_1's binary_logloss: 0.194246\n",
      "[40]\ttraining's binary_logloss: 0.109091\tvalid_1's binary_logloss: 0.12952\n",
      "[60]\ttraining's binary_logloss: 0.0669566\tvalid_1's binary_logloss: 0.0996305\n",
      "[80]\ttraining's binary_logloss: 0.0418275\tvalid_1's binary_logloss: 0.0837418\n",
      "[100]\ttraining's binary_logloss: 0.0263592\tvalid_1's binary_logloss: 0.0741786\n",
      "[120]\ttraining's binary_logloss: 0.0165591\tvalid_1's binary_logloss: 0.0687375\n",
      "[140]\ttraining's binary_logloss: 0.0105398\tvalid_1's binary_logloss: 0.0670456\n"
     ]
    },
    {
     "name": "stderr",
     "output_type": "stream",
     "text": [
      "len(train_index) : 1082\n",
      "len(valid_index) : 1081\n",
      "================================= 2fold lightgbm =================================\n"
     ]
    },
    {
     "name": "stdout",
     "output_type": "stream",
     "text": [
      "Early stopping, best iteration is:\n",
      "[142]\ttraining's binary_logloss: 0.0100795\tvalid_1's binary_logloss: 0.0669231\n",
      "Training until validation scores don't improve for 10 rounds\n",
      "[20]\ttraining's binary_logloss: 0.17716\tvalid_1's binary_logloss: 0.201013\n",
      "[40]\ttraining's binary_logloss: 0.101778\tvalid_1's binary_logloss: 0.141469\n",
      "[60]\ttraining's binary_logloss: 0.0625539\tvalid_1's binary_logloss: 0.112627\n",
      "[80]\ttraining's binary_logloss: 0.0391362\tvalid_1's binary_logloss: 0.0983846\n",
      "[100]\ttraining's binary_logloss: 0.024103\tvalid_1's binary_logloss: 0.0905144\n",
      "[120]\ttraining's binary_logloss: 0.0150182\tvalid_1's binary_logloss: 0.0860685\n",
      "[140]\ttraining's binary_logloss: 0.00950513\tvalid_1's binary_logloss: 0.0850393\n"
     ]
    },
    {
     "name": "stderr",
     "output_type": "stream",
     "text": [
      "pdgfr_inhibitor logloss: 0.07540624854437054\n",
      "=========================================================================================\n"
     ]
    },
    {
     "name": "stdout",
     "output_type": "stream",
     "text": [
      "[160]\ttraining's binary_logloss: 0.00590539\tvalid_1's binary_logloss: 0.0845948\n",
      "Early stopping, best iteration is:\n",
      "[150]\ttraining's binary_logloss: 0.00745533\tvalid_1's binary_logloss: 0.0838972\n"
     ]
    },
    {
     "name": "stderr",
     "output_type": "stream",
     "text": [
      "len(train_index) : 942\n",
      "len(valid_index) : 942\n",
      "================================= 1fold lightgbm =================================\n"
     ]
    },
    {
     "name": "stdout",
     "output_type": "stream",
     "text": [
      "Training until validation scores don't improve for 10 rounds\n",
      "[20]\ttraining's binary_logloss: 0.0161176\tvalid_1's binary_logloss: 0.0506204\n"
     ]
    },
    {
     "name": "stderr",
     "output_type": "stream",
     "text": [
      "len(train_index) : 942\n",
      "len(valid_index) : 942\n",
      "================================= 2fold lightgbm =================================\n"
     ]
    },
    {
     "name": "stdout",
     "output_type": "stream",
     "text": [
      "Early stopping, best iteration is:\n",
      "[24]\ttraining's binary_logloss: 0.0139094\tvalid_1's binary_logloss: 0.0503308\n",
      "Training until validation scores don't improve for 10 rounds\n",
      "[20]\ttraining's binary_logloss: 0.0178743\tvalid_1's binary_logloss: 0.050942\n",
      "[40]\ttraining's binary_logloss: 0.00858346\tvalid_1's binary_logloss: 0.0481669\n"
     ]
    },
    {
     "name": "stderr",
     "output_type": "stream",
     "text": [
      "pdk_inhibitor logloss: 0.04901259944178543\n",
      "=========================================================================================\n"
     ]
    },
    {
     "name": "stdout",
     "output_type": "stream",
     "text": [
      "Early stopping, best iteration is:\n",
      "[49]\ttraining's binary_logloss: 0.00643636\tvalid_1's binary_logloss: 0.0476944\n"
     ]
    },
    {
     "name": "stderr",
     "output_type": "stream",
     "text": [
      "len(train_index) : 1065\n",
      "len(valid_index) : 1065\n",
      "================================= 1fold lightgbm =================================\n"
     ]
    },
    {
     "name": "stdout",
     "output_type": "stream",
     "text": [
      "Training until validation scores don't improve for 10 rounds\n",
      "[20]\ttraining's binary_logloss: 0.206674\tvalid_1's binary_logloss: 0.281081\n",
      "[40]\ttraining's binary_logloss: 0.130187\tvalid_1's binary_logloss: 0.243688\n",
      "[60]\ttraining's binary_logloss: 0.0858686\tvalid_1's binary_logloss: 0.224196\n",
      "[80]\ttraining's binary_logloss: 0.0578769\tvalid_1's binary_logloss: 0.2138\n",
      "[100]\ttraining's binary_logloss: 0.0397308\tvalid_1's binary_logloss: 0.208479\n",
      "[120]\ttraining's binary_logloss: 0.0274579\tvalid_1's binary_logloss: 0.206194\n"
     ]
    },
    {
     "name": "stderr",
     "output_type": "stream",
     "text": [
      "len(train_index) : 1065\n",
      "len(valid_index) : 1065\n",
      "================================= 2fold lightgbm =================================\n"
     ]
    },
    {
     "name": "stdout",
     "output_type": "stream",
     "text": [
      "[140]\ttraining's binary_logloss: 0.0191629\tvalid_1's binary_logloss: 0.20708\n",
      "Early stopping, best iteration is:\n",
      "[131]\ttraining's binary_logloss: 0.0225644\tvalid_1's binary_logloss: 0.205941\n",
      "Training until validation scores don't improve for 10 rounds\n",
      "[20]\ttraining's binary_logloss: 0.210759\tvalid_1's binary_logloss: 0.301055\n",
      "[40]\ttraining's binary_logloss: 0.133791\tvalid_1's binary_logloss: 0.266785\n",
      "[60]\ttraining's binary_logloss: 0.0890226\tvalid_1's binary_logloss: 0.244427\n",
      "[80]\ttraining's binary_logloss: 0.0603483\tvalid_1's binary_logloss: 0.233278\n",
      "[100]\ttraining's binary_logloss: 0.0418808\tvalid_1's binary_logloss: 0.227085\n",
      "[120]\ttraining's binary_logloss: 0.0290861\tvalid_1's binary_logloss: 0.224594\n",
      "[140]\ttraining's binary_logloss: 0.0204783\tvalid_1's binary_logloss: 0.224835\n",
      "Early stopping, best iteration is:\n",
      "[131]\ttraining's binary_logloss: 0.0238445\tvalid_1's binary_logloss: 0.223869\n"
     ]
    },
    {
     "name": "stderr",
     "output_type": "stream",
     "text": [
      "phosphodiesterase_inhibitor logloss: 0.21490501159051023\n",
      "=========================================================================================\n",
      "len(train_index) : 945\n",
      "len(valid_index) : 946\n",
      "================================= 1fold lightgbm =================================\n"
     ]
    },
    {
     "name": "stdout",
     "output_type": "stream",
     "text": [
      "Training until validation scores don't improve for 10 rounds\n",
      "[20]\ttraining's binary_logloss: 0.0234693\tvalid_1's binary_logloss: 0.0681396\n"
     ]
    },
    {
     "name": "stderr",
     "output_type": "stream",
     "text": [
      "len(train_index) : 946\n",
      "len(valid_index) : 945\n",
      "================================= 2fold lightgbm =================================\n"
     ]
    },
    {
     "name": "stdout",
     "output_type": "stream",
     "text": [
      "Early stopping, best iteration is:\n",
      "[17]\ttraining's binary_logloss: 0.0264604\tvalid_1's binary_logloss: 0.0679258\n",
      "Training until validation scores don't improve for 10 rounds\n",
      "[20]\ttraining's binary_logloss: 0.0253438\tvalid_1's binary_logloss: 0.0677056\n"
     ]
    },
    {
     "name": "stderr",
     "output_type": "stream",
     "text": [
      "phospholipase_inhibitor logloss: 0.06754874638018817\n",
      "=========================================================================================\n"
     ]
    },
    {
     "name": "stdout",
     "output_type": "stream",
     "text": [
      "Early stopping, best iteration is:\n",
      "[27]\ttraining's binary_logloss: 0.0197698\tvalid_1's binary_logloss: 0.0671713\n"
     ]
    },
    {
     "name": "stderr",
     "output_type": "stream",
     "text": [
      "len(train_index) : 1008\n",
      "len(valid_index) : 1009\n",
      "================================= 1fold lightgbm =================================\n"
     ]
    },
    {
     "name": "stdout",
     "output_type": "stream",
     "text": [
      "Training until validation scores don't improve for 10 rounds\n",
      "[20]\ttraining's binary_logloss: 0.117479\tvalid_1's binary_logloss: 0.176328\n",
      "[40]\ttraining's binary_logloss: 0.0661707\tvalid_1's binary_logloss: 0.149087\n",
      "[60]\ttraining's binary_logloss: 0.0391175\tvalid_1's binary_logloss: 0.136064\n",
      "[80]\ttraining's binary_logloss: 0.0235553\tvalid_1's binary_logloss: 0.12785\n",
      "[100]\ttraining's binary_logloss: 0.0144948\tvalid_1's binary_logloss: 0.125968\n"
     ]
    },
    {
     "name": "stderr",
     "output_type": "stream",
     "text": [
      "len(train_index) : 1009\n",
      "len(valid_index) : 1008\n",
      "================================= 2fold lightgbm =================================\n"
     ]
    },
    {
     "name": "stdout",
     "output_type": "stream",
     "text": [
      "Early stopping, best iteration is:\n",
      "[100]\ttraining's binary_logloss: 0.0144948\tvalid_1's binary_logloss: 0.125968\n",
      "Training until validation scores don't improve for 10 rounds\n",
      "[20]\ttraining's binary_logloss: 0.123466\tvalid_1's binary_logloss: 0.157336\n",
      "[40]\ttraining's binary_logloss: 0.0703324\tvalid_1's binary_logloss: 0.119088\n",
      "[60]\ttraining's binary_logloss: 0.0412864\tvalid_1's binary_logloss: 0.0991924\n",
      "[80]\ttraining's binary_logloss: 0.0252791\tvalid_1's binary_logloss: 0.0883853\n",
      "[100]\ttraining's binary_logloss: 0.0157553\tvalid_1's binary_logloss: 0.0830537\n",
      "[120]\ttraining's binary_logloss: 0.00985668\tvalid_1's binary_logloss: 0.0810767\n",
      "[140]\ttraining's binary_logloss: 0.00615949\tvalid_1's binary_logloss: 0.0808274\n"
     ]
    },
    {
     "name": "stderr",
     "output_type": "stream",
     "text": [
      "pi3k_inhibitor logloss: 0.10320527146192773\n",
      "=========================================================================================\n"
     ]
    },
    {
     "name": "stdout",
     "output_type": "stream",
     "text": [
      "Early stopping, best iteration is:\n",
      "[145]\ttraining's binary_logloss: 0.00547552\tvalid_1's binary_logloss: 0.0804195\n"
     ]
    },
    {
     "name": "stderr",
     "output_type": "stream",
     "text": [
      "len(train_index) : 948\n",
      "len(valid_index) : 949\n",
      "================================= 1fold lightgbm =================================\n"
     ]
    },
    {
     "name": "stdout",
     "output_type": "stream",
     "text": [
      "Training until validation scores don't improve for 10 rounds\n",
      "[20]\ttraining's binary_logloss: 0.0287254\tvalid_1's binary_logloss: 0.0758329\n",
      "[40]\ttraining's binary_logloss: 0.0144016\tvalid_1's binary_logloss: 0.0734518\n"
     ]
    },
    {
     "name": "stderr",
     "output_type": "stream",
     "text": [
      "len(train_index) : 949\n",
      "len(valid_index) : 948\n",
      "================================= 2fold lightgbm =================================\n"
     ]
    },
    {
     "name": "stdout",
     "output_type": "stream",
     "text": [
      "Early stopping, best iteration is:\n",
      "[38]\ttraining's binary_logloss: 0.0153386\tvalid_1's binary_logloss: 0.0734308\n",
      "Training until validation scores don't improve for 10 rounds\n",
      "[20]\ttraining's binary_logloss: 0.0316873\tvalid_1's binary_logloss: 0.0640092\n",
      "[40]\ttraining's binary_logloss: 0.0160929\tvalid_1's binary_logloss: 0.0592981\n"
     ]
    },
    {
     "name": "stderr",
     "output_type": "stream",
     "text": [
      "pkc_inhibitor logloss: 0.06622970351187417\n",
      "=========================================================================================\n"
     ]
    },
    {
     "name": "stdout",
     "output_type": "stream",
     "text": [
      "Early stopping, best iteration is:\n",
      "[44]\ttraining's binary_logloss: 0.0142587\tvalid_1's binary_logloss: 0.059021\n"
     ]
    },
    {
     "name": "stderr",
     "output_type": "stream",
     "text": [
      "len(train_index) : 960\n",
      "len(valid_index) : 961\n",
      "================================= 1fold lightgbm =================================\n"
     ]
    },
    {
     "name": "stdout",
     "output_type": "stream",
     "text": [
      "Training until validation scores don't improve for 10 rounds\n",
      "[20]\ttraining's binary_logloss: 0.0515081\tvalid_1's binary_logloss: 0.123656\n"
     ]
    },
    {
     "name": "stderr",
     "output_type": "stream",
     "text": [
      "len(train_index) : 961\n",
      "len(valid_index) : 960\n",
      "================================= 2fold lightgbm =================================\n"
     ]
    },
    {
     "name": "stdout",
     "output_type": "stream",
     "text": [
      "[40]\ttraining's binary_logloss: 0.0284014\tvalid_1's binary_logloss: 0.124234\n",
      "Early stopping, best iteration is:\n",
      "[31]\ttraining's binary_logloss: 0.0368579\tvalid_1's binary_logloss: 0.123256\n",
      "Training until validation scores don't improve for 10 rounds\n",
      "[20]\ttraining's binary_logloss: 0.0614294\tvalid_1's binary_logloss: 0.111296\n",
      "[40]\ttraining's binary_logloss: 0.0353763\tvalid_1's binary_logloss: 0.10658\n",
      "[60]\ttraining's binary_logloss: 0.021776\tvalid_1's binary_logloss: 0.106378\n"
     ]
    },
    {
     "name": "stderr",
     "output_type": "stream",
     "text": [
      "potassium_channel_activator logloss: 0.11455283233050614\n",
      "=========================================================================================\n"
     ]
    },
    {
     "name": "stdout",
     "output_type": "stream",
     "text": [
      "Early stopping, best iteration is:\n",
      "[55]\ttraining's binary_logloss: 0.0245974\tvalid_1's binary_logloss: 0.10584\n"
     ]
    },
    {
     "name": "stderr",
     "output_type": "stream",
     "text": [
      "len(train_index) : 982\n",
      "len(valid_index) : 982\n",
      "================================= 1fold lightgbm =================================\n"
     ]
    },
    {
     "name": "stdout",
     "output_type": "stream",
     "text": [
      "Training until validation scores don't improve for 10 rounds\n",
      "[20]\ttraining's binary_logloss: 0.0902317\tvalid_1's binary_logloss: 0.159182\n",
      "[40]\ttraining's binary_logloss: 0.0518632\tvalid_1's binary_logloss: 0.143974\n",
      "[60]\ttraining's binary_logloss: 0.0312575\tvalid_1's binary_logloss: 0.136524\n",
      "[80]\ttraining's binary_logloss: 0.0200126\tvalid_1's binary_logloss: 0.133806\n",
      "Early stopping, best iteration is:\n",
      "[73]\ttraining's binary_logloss: 0.0233395\tvalid_1's binary_logloss: 0.13359\n"
     ]
    },
    {
     "name": "stderr",
     "output_type": "stream",
     "text": [
      "len(train_index) : 982\n",
      "len(valid_index) : 982\n",
      "================================= 2fold lightgbm =================================\n"
     ]
    },
    {
     "name": "stdout",
     "output_type": "stream",
     "text": [
      "Training until validation scores don't improve for 10 rounds\n",
      "[20]\ttraining's binary_logloss: 0.0906998\tvalid_1's binary_logloss: 0.166019\n",
      "[40]\ttraining's binary_logloss: 0.05387\tvalid_1's binary_logloss: 0.15274\n",
      "[60]\ttraining's binary_logloss: 0.0331218\tvalid_1's binary_logloss: 0.146478\n",
      "[80]\ttraining's binary_logloss: 0.0211222\tvalid_1's binary_logloss: 0.145113\n",
      "[100]\ttraining's binary_logloss: 0.0136245\tvalid_1's binary_logloss: 0.144763\n",
      "Early stopping, best iteration is:\n",
      "[93]\ttraining's binary_logloss: 0.0159069\tvalid_1's binary_logloss: 0.14447\n"
     ]
    },
    {
     "name": "stderr",
     "output_type": "stream",
     "text": [
      "potassium_channel_antagonist logloss: 0.13903040130478628\n",
      "=========================================================================================\n",
      "len(train_index) : 990\n",
      "len(valid_index) : 991\n",
      "================================= 1fold lightgbm =================================\n"
     ]
    },
    {
     "name": "stdout",
     "output_type": "stream",
     "text": [
      "Training until validation scores don't improve for 10 rounds\n",
      "[20]\ttraining's binary_logloss: 0.113079\tvalid_1's binary_logloss: 0.164665\n",
      "[40]\ttraining's binary_logloss: 0.0649224\tvalid_1's binary_logloss: 0.143632\n",
      "[60]\ttraining's binary_logloss: 0.0390762\tvalid_1's binary_logloss: 0.134636\n",
      "[80]\ttraining's binary_logloss: 0.0244988\tvalid_1's binary_logloss: 0.130414\n",
      "[100]\ttraining's binary_logloss: 0.0156164\tvalid_1's binary_logloss: 0.128575\n"
     ]
    },
    {
     "name": "stderr",
     "output_type": "stream",
     "text": [
      "len(train_index) : 991\n",
      "len(valid_index) : 990\n",
      "================================= 2fold lightgbm =================================\n"
     ]
    },
    {
     "name": "stdout",
     "output_type": "stream",
     "text": [
      "[120]\ttraining's binary_logloss: 0.00999723\tvalid_1's binary_logloss: 0.129017\n",
      "Early stopping, best iteration is:\n",
      "[111]\ttraining's binary_logloss: 0.0121902\tvalid_1's binary_logloss: 0.127707\n",
      "Training until validation scores don't improve for 10 rounds\n",
      "[20]\ttraining's binary_logloss: 0.107887\tvalid_1's binary_logloss: 0.165503\n",
      "[40]\ttraining's binary_logloss: 0.0604307\tvalid_1's binary_logloss: 0.147147\n",
      "[60]\ttraining's binary_logloss: 0.036104\tvalid_1's binary_logloss: 0.13819\n",
      "[80]\ttraining's binary_logloss: 0.0220698\tvalid_1's binary_logloss: 0.136072\n"
     ]
    },
    {
     "name": "stderr",
     "output_type": "stream",
     "text": [
      "ppar_receptor_agonist logloss: 0.13179428321840314\n",
      "=========================================================================================\n"
     ]
    },
    {
     "name": "stdout",
     "output_type": "stream",
     "text": [
      "Early stopping, best iteration is:\n",
      "[77]\ttraining's binary_logloss: 0.0236796\tvalid_1's binary_logloss: 0.135885\n"
     ]
    },
    {
     "name": "stderr",
     "output_type": "stream",
     "text": [
      "len(train_index) : 948\n",
      "len(valid_index) : 948\n",
      "================================= 1fold lightgbm =================================\n"
     ]
    },
    {
     "name": "stdout",
     "output_type": "stream",
     "text": [
      "Training until validation scores don't improve for 10 rounds\n",
      "[20]\ttraining's binary_logloss: 0.0318095\tvalid_1's binary_logloss: 0.0725575\n"
     ]
    },
    {
     "name": "stderr",
     "output_type": "stream",
     "text": [
      "len(train_index) : 948\n",
      "len(valid_index) : 948\n",
      "================================= 2fold lightgbm =================================\n"
     ]
    },
    {
     "name": "stdout",
     "output_type": "stream",
     "text": [
      "Early stopping, best iteration is:\n",
      "[20]\ttraining's binary_logloss: 0.0318095\tvalid_1's binary_logloss: 0.0725575\n",
      "Training until validation scores don't improve for 10 rounds\n",
      "[20]\ttraining's binary_logloss: 0.0310682\tvalid_1's binary_logloss: 0.0749611\n"
     ]
    },
    {
     "name": "stderr",
     "output_type": "stream",
     "text": [
      "ppar_receptor_antagonist logloss: 0.07359806838792528\n",
      "=========================================================================================\n"
     ]
    },
    {
     "name": "stdout",
     "output_type": "stream",
     "text": [
      "Early stopping, best iteration is:\n",
      "[23]\ttraining's binary_logloss: 0.0277299\tvalid_1's binary_logloss: 0.0746386\n"
     ]
    },
    {
     "name": "stderr",
     "output_type": "stream",
     "text": [
      "len(train_index) : 992\n",
      "len(valid_index) : 993\n",
      "================================= 1fold lightgbm =================================\n"
     ]
    },
    {
     "name": "stdout",
     "output_type": "stream",
     "text": [
      "Training until validation scores don't improve for 10 rounds\n",
      "[20]\ttraining's binary_logloss: 0.10249\tvalid_1's binary_logloss: 0.165125\n",
      "[40]\ttraining's binary_logloss: 0.0581973\tvalid_1's binary_logloss: 0.143348\n",
      "[60]\ttraining's binary_logloss: 0.0351636\tvalid_1's binary_logloss: 0.134201\n",
      "[80]\ttraining's binary_logloss: 0.0217057\tvalid_1's binary_logloss: 0.13139\n"
     ]
    },
    {
     "name": "stderr",
     "output_type": "stream",
     "text": [
      "len(train_index) : 993\n",
      "len(valid_index) : 992\n",
      "================================= 2fold lightgbm =================================\n"
     ]
    },
    {
     "name": "stdout",
     "output_type": "stream",
     "text": [
      "Early stopping, best iteration is:\n",
      "[87]\ttraining's binary_logloss: 0.018366\tvalid_1's binary_logloss: 0.130865\n",
      "Training until validation scores don't improve for 10 rounds\n",
      "[20]\ttraining's binary_logloss: 0.107918\tvalid_1's binary_logloss: 0.172652\n",
      "[40]\ttraining's binary_logloss: 0.0616894\tvalid_1's binary_logloss: 0.15106\n",
      "[60]\ttraining's binary_logloss: 0.0370696\tvalid_1's binary_logloss: 0.139187\n",
      "[80]\ttraining's binary_logloss: 0.0229142\tvalid_1's binary_logloss: 0.133078\n",
      "[100]\ttraining's binary_logloss: 0.0144143\tvalid_1's binary_logloss: 0.131014\n",
      "[120]\ttraining's binary_logloss: 0.00927332\tvalid_1's binary_logloss: 0.129143\n"
     ]
    },
    {
     "name": "stderr",
     "output_type": "stream",
     "text": [
      "progesterone_receptor_agonist logloss: 0.13000489925875788\n",
      "=========================================================================================\n"
     ]
    },
    {
     "name": "stdout",
     "output_type": "stream",
     "text": [
      "Early stopping, best iteration is:\n",
      "[120]\ttraining's binary_logloss: 0.00927332\tvalid_1's binary_logloss: 0.129143\n"
     ]
    },
    {
     "name": "stderr",
     "output_type": "stream",
     "text": [
      "len(train_index) : 942\n",
      "len(valid_index) : 942\n",
      "================================= 1fold lightgbm =================================\n"
     ]
    },
    {
     "name": "stdout",
     "output_type": "stream",
     "text": [
      "Training until validation scores don't improve for 10 rounds\n",
      "[20]\ttraining's binary_logloss: 0.0176626\tvalid_1's binary_logloss: 0.0462577\n",
      "[40]\ttraining's binary_logloss: 0.00880957\tvalid_1's binary_logloss: 0.04556\n"
     ]
    },
    {
     "name": "stderr",
     "output_type": "stream",
     "text": [
      "len(train_index) : 942\n",
      "len(valid_index) : 942\n",
      "================================= 2fold lightgbm =================================\n"
     ]
    },
    {
     "name": "stdout",
     "output_type": "stream",
     "text": [
      "Early stopping, best iteration is:\n",
      "[43]\ttraining's binary_logloss: 0.00800011\tvalid_1's binary_logloss: 0.0454407\n",
      "Training until validation scores don't improve for 10 rounds\n",
      "[20]\ttraining's binary_logloss: 0.0177442\tvalid_1's binary_logloss: 0.0483606\n",
      "[40]\ttraining's binary_logloss: 0.00854148\tvalid_1's binary_logloss: 0.0457501\n"
     ]
    },
    {
     "name": "stderr",
     "output_type": "stream",
     "text": [
      "progesterone_receptor_antagonist logloss: 0.04543136852298633\n",
      "=========================================================================================\n"
     ]
    },
    {
     "name": "stdout",
     "output_type": "stream",
     "text": [
      "Early stopping, best iteration is:\n",
      "[37]\ttraining's binary_logloss: 0.00943656\tvalid_1's binary_logloss: 0.045422\n"
     ]
    },
    {
     "name": "stderr",
     "output_type": "stream",
     "text": [
      "len(train_index) : 951\n",
      "len(valid_index) : 951\n",
      "================================= 1fold lightgbm =================================\n"
     ]
    },
    {
     "name": "stdout",
     "output_type": "stream",
     "text": [
      "Training until validation scores don't improve for 10 rounds\n",
      "[20]\ttraining's binary_logloss: 0.0343542\tvalid_1's binary_logloss: 0.0849868\n",
      "[40]\ttraining's binary_logloss: 0.0187159\tvalid_1's binary_logloss: 0.0825893\n"
     ]
    },
    {
     "name": "stderr",
     "output_type": "stream",
     "text": [
      "len(train_index) : 951\n",
      "len(valid_index) : 951\n",
      "================================= 2fold lightgbm =================================\n"
     ]
    },
    {
     "name": "stdout",
     "output_type": "stream",
     "text": [
      "Early stopping, best iteration is:\n",
      "[43]\ttraining's binary_logloss: 0.0171739\tvalid_1's binary_logloss: 0.0818626\n",
      "Training until validation scores don't improve for 10 rounds\n",
      "[20]\ttraining's binary_logloss: 0.0342115\tvalid_1's binary_logloss: 0.0852688\n"
     ]
    },
    {
     "name": "stderr",
     "output_type": "stream",
     "text": [
      "prostaglandin_inhibitor logloss: 0.0833389007053044\n",
      "=========================================================================================\n",
      "len(train_index) : 975\n",
      "len(valid_index) : 975\n",
      "================================= 1fold lightgbm =================================\n"
     ]
    },
    {
     "name": "stdout",
     "output_type": "stream",
     "text": [
      "Early stopping, best iteration is:\n",
      "[26]\ttraining's binary_logloss: 0.0278937\tvalid_1's binary_logloss: 0.0848152\n",
      "Training until validation scores don't improve for 10 rounds\n",
      "[20]\ttraining's binary_logloss: 0.0829391\tvalid_1's binary_logloss: 0.144747\n",
      "[40]\ttraining's binary_logloss: 0.0474591\tvalid_1's binary_logloss: 0.133672\n",
      "[60]\ttraining's binary_logloss: 0.0294044\tvalid_1's binary_logloss: 0.125377\n",
      "[80]\ttraining's binary_logloss: 0.0186417\tvalid_1's binary_logloss: 0.120329\n",
      "[100]\ttraining's binary_logloss: 0.0119391\tvalid_1's binary_logloss: 0.12008\n"
     ]
    },
    {
     "name": "stderr",
     "output_type": "stream",
     "text": [
      "len(train_index) : 975\n",
      "len(valid_index) : 975\n",
      "================================= 2fold lightgbm =================================\n"
     ]
    },
    {
     "name": "stdout",
     "output_type": "stream",
     "text": [
      "Early stopping, best iteration is:\n",
      "[97]\ttraining's binary_logloss: 0.0127829\tvalid_1's binary_logloss: 0.119677\n",
      "Training until validation scores don't improve for 10 rounds\n",
      "[20]\ttraining's binary_logloss: 0.0767381\tvalid_1's binary_logloss: 0.146581\n",
      "[40]\ttraining's binary_logloss: 0.0441173\tvalid_1's binary_logloss: 0.137407\n",
      "[60]\ttraining's binary_logloss: 0.0274128\tvalid_1's binary_logloss: 0.133839\n"
     ]
    },
    {
     "name": "stderr",
     "output_type": "stream",
     "text": [
      "prostanoid_receptor_antagonist logloss: 0.12625860347823806\n",
      "=========================================================================================\n"
     ]
    },
    {
     "name": "stdout",
     "output_type": "stream",
     "text": [
      "Early stopping, best iteration is:\n",
      "[68]\ttraining's binary_logloss: 0.0228495\tvalid_1's binary_logloss: 0.13284\n"
     ]
    },
    {
     "name": "stderr",
     "output_type": "stream",
     "text": [
      "len(train_index) : 1296\n",
      "len(valid_index) : 1296\n",
      "================================= 1fold lightgbm =================================\n"
     ]
    },
    {
     "name": "stdout",
     "output_type": "stream",
     "text": [
      "Training until validation scores don't improve for 10 rounds\n",
      "[20]\ttraining's binary_logloss: 0.258475\tvalid_1's binary_logloss: 0.260605\n",
      "[40]\ttraining's binary_logloss: 0.130454\tvalid_1's binary_logloss: 0.133905\n",
      "[60]\ttraining's binary_logloss: 0.06881\tvalid_1's binary_logloss: 0.0733663\n",
      "[80]\ttraining's binary_logloss: 0.0370039\tvalid_1's binary_logloss: 0.0425763\n",
      "[100]\ttraining's binary_logloss: 0.0200906\tvalid_1's binary_logloss: 0.0266362\n",
      "[120]\ttraining's binary_logloss: 0.0109621\tvalid_1's binary_logloss: 0.018459\n",
      "[140]\ttraining's binary_logloss: 0.00599719\tvalid_1's binary_logloss: 0.0144337\n",
      "[160]\ttraining's binary_logloss: 0.00328567\tvalid_1's binary_logloss: 0.0126556\n",
      "[180]\ttraining's binary_logloss: 0.00180151\tvalid_1's binary_logloss: 0.0121015\n"
     ]
    },
    {
     "name": "stderr",
     "output_type": "stream",
     "text": [
      "len(train_index) : 1296\n",
      "len(valid_index) : 1296\n",
      "================================= 2fold lightgbm =================================\n"
     ]
    },
    {
     "name": "stdout",
     "output_type": "stream",
     "text": [
      "Early stopping, best iteration is:\n",
      "[185]\ttraining's binary_logloss: 0.00155033\tvalid_1's binary_logloss: 0.0120825\n",
      "Training until validation scores don't improve for 10 rounds\n",
      "[20]\ttraining's binary_logloss: 0.258475\tvalid_1's binary_logloss: 0.260864\n",
      "[40]\ttraining's binary_logloss: 0.130454\tvalid_1's binary_logloss: 0.13495\n",
      "[60]\ttraining's binary_logloss: 0.06881\tvalid_1's binary_logloss: 0.0752882\n",
      "[80]\ttraining's binary_logloss: 0.0370039\tvalid_1's binary_logloss: 0.0454033\n",
      "[100]\ttraining's binary_logloss: 0.0200906\tvalid_1's binary_logloss: 0.0303792\n",
      "[120]\ttraining's binary_logloss: 0.0109621\tvalid_1's binary_logloss: 0.0231229\n",
      "[140]\ttraining's binary_logloss: 0.00599719\tvalid_1's binary_logloss: 0.0200209\n",
      "[160]\ttraining's binary_logloss: 0.00328567\tvalid_1's binary_logloss: 0.0191673\n"
     ]
    },
    {
     "name": "stderr",
     "output_type": "stream",
     "text": [
      "proteasome_inhibitor logloss: 0.015621821083481192\n",
      "=========================================================================================\n"
     ]
    },
    {
     "name": "stdout",
     "output_type": "stream",
     "text": [
      "Early stopping, best iteration is:\n",
      "[162]\ttraining's binary_logloss: 0.00309395\tvalid_1's binary_logloss: 0.0191612\n"
     ]
    },
    {
     "name": "stderr",
     "output_type": "stream",
     "text": [
      "len(train_index) : 957\n",
      "len(valid_index) : 957\n",
      "================================= 1fold lightgbm =================================\n"
     ]
    },
    {
     "name": "stdout",
     "output_type": "stream",
     "text": [
      "Training until validation scores don't improve for 10 rounds\n",
      "[20]\ttraining's binary_logloss: 0.050523\tvalid_1's binary_logloss: 0.111045\n",
      "[40]\ttraining's binary_logloss: 0.0278891\tvalid_1's binary_logloss: 0.109253\n"
     ]
    },
    {
     "name": "stderr",
     "output_type": "stream",
     "text": [
      "len(train_index) : 957\n",
      "len(valid_index) : 957\n",
      "================================= 2fold lightgbm =================================\n"
     ]
    },
    {
     "name": "stdout",
     "output_type": "stream",
     "text": [
      "Early stopping, best iteration is:\n",
      "[45]\ttraining's binary_logloss: 0.0245855\tvalid_1's binary_logloss: 0.109111\n",
      "Training until validation scores don't improve for 10 rounds\n",
      "[20]\ttraining's binary_logloss: 0.0466675\tvalid_1's binary_logloss: 0.104238\n",
      "[40]\ttraining's binary_logloss: 0.0258396\tvalid_1's binary_logloss: 0.101791\n"
     ]
    },
    {
     "name": "stderr",
     "output_type": "stream",
     "text": [
      "protein_kinase_inhibitor logloss: 0.10527933731322475\n",
      "=========================================================================================\n",
      "len(train_index) : 936\n",
      "len(valid_index) : 936\n",
      "================================= 1fold lightgbm =================================\n"
     ]
    },
    {
     "name": "stdout",
     "output_type": "stream",
     "text": [
      "Early stopping, best iteration is:\n",
      "[37]\ttraining's binary_logloss: 0.0280349\tvalid_1's binary_logloss: 0.101448\n",
      "Training until validation scores don't improve for 10 rounds\n",
      "[20]\ttraining's binary_logloss: 0.00525121\tvalid_1's binary_logloss: 0.0167343\n"
     ]
    },
    {
     "name": "stderr",
     "output_type": "stream",
     "text": [
      "len(train_index) : 936\n",
      "len(valid_index) : 936\n",
      "================================= 2fold lightgbm =================================\n"
     ]
    },
    {
     "name": "stdout",
     "output_type": "stream",
     "text": [
      "[40]\ttraining's binary_logloss: 0.00260533\tvalid_1's binary_logloss: 0.0161072\n",
      "Early stopping, best iteration is:\n",
      "[31]\ttraining's binary_logloss: 0.00351048\tvalid_1's binary_logloss: 0.0160484\n",
      "Training until validation scores don't improve for 10 rounds\n",
      "[20]\ttraining's binary_logloss: 0.00505341\tvalid_1's binary_logloss: 0.0169111\n",
      "[40]\ttraining's binary_logloss: 0.00253144\tvalid_1's binary_logloss: 0.0168176\n",
      "Early stopping, best iteration is:\n",
      "[36]\ttraining's binary_logloss: 0.00288247\tvalid_1's binary_logloss: 0.0167376\n"
     ]
    },
    {
     "name": "stderr",
     "output_type": "stream",
     "text": [
      "protein_phosphatase_inhibitor logloss: 0.0163930134002505\n",
      "=========================================================================================\n",
      "len(train_index) : 984\n",
      "len(valid_index) : 985\n",
      "================================= 1fold lightgbm =================================\n"
     ]
    },
    {
     "name": "stdout",
     "output_type": "stream",
     "text": [
      "Training until validation scores don't improve for 10 rounds\n",
      "[20]\ttraining's binary_logloss: 0.0943058\tvalid_1's binary_logloss: 0.156649\n",
      "[40]\ttraining's binary_logloss: 0.0533198\tvalid_1's binary_logloss: 0.141\n",
      "[60]\ttraining's binary_logloss: 0.032687\tvalid_1's binary_logloss: 0.135116\n",
      "[80]\ttraining's binary_logloss: 0.0204464\tvalid_1's binary_logloss: 0.133814\n"
     ]
    },
    {
     "name": "stderr",
     "output_type": "stream",
     "text": [
      "len(train_index) : 985\n",
      "len(valid_index) : 984\n",
      "================================= 2fold lightgbm =================================\n"
     ]
    },
    {
     "name": "stdout",
     "output_type": "stream",
     "text": [
      "Early stopping, best iteration is:\n",
      "[78]\ttraining's binary_logloss: 0.0214223\tvalid_1's binary_logloss: 0.133556\n",
      "Training until validation scores don't improve for 10 rounds\n",
      "[20]\ttraining's binary_logloss: 0.0952851\tvalid_1's binary_logloss: 0.149551\n",
      "[40]\ttraining's binary_logloss: 0.0544847\tvalid_1's binary_logloss: 0.133023\n",
      "[60]\ttraining's binary_logloss: 0.0323306\tvalid_1's binary_logloss: 0.127306\n"
     ]
    },
    {
     "name": "stderr",
     "output_type": "stream",
     "text": [
      "protein_synthesis_inhibitor logloss: 0.13024963491273\n",
      "=========================================================================================\n"
     ]
    },
    {
     "name": "stdout",
     "output_type": "stream",
     "text": [
      "Early stopping, best iteration is:\n",
      "[68]\ttraining's binary_logloss: 0.0265315\tvalid_1's binary_logloss: 0.126939\n"
     ]
    },
    {
     "name": "stderr",
     "output_type": "stream",
     "text": [
      "len(train_index) : 942\n",
      "len(valid_index) : 943\n",
      "================================= 1fold lightgbm =================================\n"
     ]
    },
    {
     "name": "stdout",
     "output_type": "stream",
     "text": [
      "Training until validation scores don't improve for 10 rounds\n"
     ]
    },
    {
     "name": "stderr",
     "output_type": "stream",
     "text": [
      "len(train_index) : 943\n",
      "len(valid_index) : 942\n",
      "================================= 2fold lightgbm =================================\n"
     ]
    },
    {
     "name": "stdout",
     "output_type": "stream",
     "text": [
      "[20]\ttraining's binary_logloss: 0.0176232\tvalid_1's binary_logloss: 0.0553747\n",
      "Early stopping, best iteration is:\n",
      "[12]\ttraining's binary_logloss: 0.024168\tvalid_1's binary_logloss: 0.0552483\n",
      "Training until validation scores don't improve for 10 rounds\n",
      "[20]\ttraining's binary_logloss: 0.0183136\tvalid_1's binary_logloss: 0.0498908\n",
      "[40]\ttraining's binary_logloss: 0.00933107\tvalid_1's binary_logloss: 0.0484214\n"
     ]
    },
    {
     "name": "stderr",
     "output_type": "stream",
     "text": [
      "protein_tyrosine_kinase_inhibitor logloss: 0.05174571790703219\n",
      "=========================================================================================\n"
     ]
    },
    {
     "name": "stdout",
     "output_type": "stream",
     "text": [
      "Early stopping, best iteration is:\n",
      "[46]\ttraining's binary_logloss: 0.00776587\tvalid_1's binary_logloss: 0.0482394\n"
     ]
    },
    {
     "name": "stderr",
     "output_type": "stream",
     "text": [
      "len(train_index) : 961\n",
      "len(valid_index) : 961\n",
      "================================= 1fold lightgbm =================================\n"
     ]
    },
    {
     "name": "stdout",
     "output_type": "stream",
     "text": [
      "Training until validation scores don't improve for 10 rounds\n",
      "[20]\ttraining's binary_logloss: 0.0521136\tvalid_1's binary_logloss: 0.110282\n",
      "[40]\ttraining's binary_logloss: 0.0283823\tvalid_1's binary_logloss: 0.108783\n"
     ]
    },
    {
     "name": "stderr",
     "output_type": "stream",
     "text": [
      "len(train_index) : 961\n",
      "len(valid_index) : 961\n",
      "================================= 2fold lightgbm =================================\n"
     ]
    },
    {
     "name": "stdout",
     "output_type": "stream",
     "text": [
      "Early stopping, best iteration is:\n",
      "[34]\ttraining's binary_logloss: 0.0338571\tvalid_1's binary_logloss: 0.108577\n",
      "Training until validation scores don't improve for 10 rounds\n",
      "[20]\ttraining's binary_logloss: 0.0514135\tvalid_1's binary_logloss: 0.110968\n",
      "[40]\ttraining's binary_logloss: 0.0280397\tvalid_1's binary_logloss: 0.102329\n",
      "[60]\ttraining's binary_logloss: 0.0162367\tvalid_1's binary_logloss: 0.0996043\n",
      "[80]\ttraining's binary_logloss: 0.0097764\tvalid_1's binary_logloss: 0.0988406\n",
      "Early stopping, best iteration is:\n",
      "[73]\ttraining's binary_logloss: 0.0117264\tvalid_1's binary_logloss: 0.0983723\n"
     ]
    },
    {
     "name": "stderr",
     "output_type": "stream",
     "text": [
      "radiopaque_medium logloss: 0.10347475447783244\n",
      "=========================================================================================\n",
      "len(train_index) : 1044\n",
      "len(valid_index) : 1045\n",
      "================================= 1fold lightgbm =================================\n"
     ]
    },
    {
     "name": "stdout",
     "output_type": "stream",
     "text": [
      "Training until validation scores don't improve for 10 rounds\n",
      "[20]\ttraining's binary_logloss: 0.141031\tvalid_1's binary_logloss: 0.153071\n",
      "[40]\ttraining's binary_logloss: 0.0776443\tvalid_1's binary_logloss: 0.0957531\n",
      "[60]\ttraining's binary_logloss: 0.0445833\tvalid_1's binary_logloss: 0.0662337\n",
      "[80]\ttraining's binary_logloss: 0.0259421\tvalid_1's binary_logloss: 0.0513637\n",
      "[100]\ttraining's binary_logloss: 0.0152637\tvalid_1's binary_logloss: 0.0419708\n",
      "[120]\ttraining's binary_logloss: 0.00892066\tvalid_1's binary_logloss: 0.037127\n",
      "[140]\ttraining's binary_logloss: 0.00522071\tvalid_1's binary_logloss: 0.035182\n"
     ]
    },
    {
     "name": "stderr",
     "output_type": "stream",
     "text": [
      "len(train_index) : 1045\n",
      "len(valid_index) : 1044\n",
      "================================= 2fold lightgbm =================================\n"
     ]
    },
    {
     "name": "stdout",
     "output_type": "stream",
     "text": [
      "[160]\ttraining's binary_logloss: 0.00307424\tvalid_1's binary_logloss: 0.0349216\n",
      "Early stopping, best iteration is:\n",
      "[150]\ttraining's binary_logloss: 0.00400741\tvalid_1's binary_logloss: 0.0347907\n",
      "Training until validation scores don't improve for 10 rounds\n",
      "[20]\ttraining's binary_logloss: 0.141488\tvalid_1's binary_logloss: 0.149312\n",
      "[40]\ttraining's binary_logloss: 0.0769172\tvalid_1's binary_logloss: 0.0923435\n",
      "[60]\ttraining's binary_logloss: 0.0441746\tvalid_1's binary_logloss: 0.065092\n",
      "[80]\ttraining's binary_logloss: 0.0259484\tvalid_1's binary_logloss: 0.0514988\n",
      "[100]\ttraining's binary_logloss: 0.0154632\tvalid_1's binary_logloss: 0.0441049\n",
      "[120]\ttraining's binary_logloss: 0.00921275\tvalid_1's binary_logloss: 0.0410904\n",
      "[140]\ttraining's binary_logloss: 0.00545592\tvalid_1's binary_logloss: 0.0397549\n"
     ]
    },
    {
     "name": "stderr",
     "output_type": "stream",
     "text": [
      "raf_inhibitor logloss: 0.03706624547121264\n",
      "=========================================================================================\n"
     ]
    },
    {
     "name": "stdout",
     "output_type": "stream",
     "text": [
      "[160]\ttraining's binary_logloss: 0.00325109\tvalid_1's binary_logloss: 0.0397943\n",
      "Early stopping, best iteration is:\n",
      "[151]\ttraining's binary_logloss: 0.00411659\tvalid_1's binary_logloss: 0.0393439\n"
     ]
    },
    {
     "name": "stderr",
     "output_type": "stream",
     "text": [
      "len(train_index) : 939\n",
      "len(valid_index) : 939\n",
      "================================= 1fold lightgbm =================================\n"
     ]
    },
    {
     "name": "stdout",
     "output_type": "stream",
     "text": [
      "Training until validation scores don't improve for 10 rounds\n"
     ]
    },
    {
     "name": "stderr",
     "output_type": "stream",
     "text": [
      "len(train_index) : 939\n",
      "len(valid_index) : 939\n",
      "================================= 2fold lightgbm =================================\n"
     ]
    },
    {
     "name": "stdout",
     "output_type": "stream",
     "text": [
      "Early stopping, best iteration is:\n",
      "[6]\ttraining's binary_logloss: 0.0206758\tvalid_1's binary_logloss: 0.037464\n",
      "Training until validation scores don't improve for 10 rounds\n",
      "[20]\ttraining's binary_logloss: 0.0112527\tvalid_1's binary_logloss: 0.0324723\n"
     ]
    },
    {
     "name": "stderr",
     "output_type": "stream",
     "text": [
      "ras_gtpase_inhibitor logloss: 0.03493499860286266\n",
      "=========================================================================================\n",
      "len(train_index) : 966\n",
      "len(valid_index) : 967\n",
      "================================= 1fold lightgbm =================================\n"
     ]
    },
    {
     "name": "stdout",
     "output_type": "stream",
     "text": [
      "Early stopping, best iteration is:\n",
      "[22]\ttraining's binary_logloss: 0.0103883\tvalid_1's binary_logloss: 0.032406\n",
      "Training until validation scores don't improve for 10 rounds\n",
      "[20]\ttraining's binary_logloss: 0.0609931\tvalid_1's binary_logloss: 0.0933424\n",
      "[40]\ttraining's binary_logloss: 0.0322004\tvalid_1's binary_logloss: 0.077571\n",
      "[60]\ttraining's binary_logloss: 0.0182179\tvalid_1's binary_logloss: 0.0703923\n",
      "[80]\ttraining's binary_logloss: 0.0106576\tvalid_1's binary_logloss: 0.0662753\n",
      "[100]\ttraining's binary_logloss: 0.0063093\tvalid_1's binary_logloss: 0.0646478\n",
      "[120]\ttraining's binary_logloss: 0.00370465\tvalid_1's binary_logloss: 0.063217\n",
      "[140]\ttraining's binary_logloss: 0.00221295\tvalid_1's binary_logloss: 0.0620275\n",
      "Early stopping, best iteration is:\n",
      "[134]\ttraining's binary_logloss: 0.00257096\tvalid_1's binary_logloss: 0.0617794\n"
     ]
    },
    {
     "name": "stderr",
     "output_type": "stream",
     "text": [
      "len(train_index) : 967\n",
      "len(valid_index) : 966\n",
      "================================= 2fold lightgbm =================================\n"
     ]
    },
    {
     "name": "stdout",
     "output_type": "stream",
     "text": [
      "Training until validation scores don't improve for 10 rounds\n",
      "[20]\ttraining's binary_logloss: 0.0600067\tvalid_1's binary_logloss: 0.0876134\n",
      "[40]\ttraining's binary_logloss: 0.0314087\tvalid_1's binary_logloss: 0.0760902\n",
      "[60]\ttraining's binary_logloss: 0.0177958\tvalid_1's binary_logloss: 0.071375\n",
      "[80]\ttraining's binary_logloss: 0.0102361\tvalid_1's binary_logloss: 0.0675256\n",
      "[100]\ttraining's binary_logloss: 0.00600446\tvalid_1's binary_logloss: 0.0656079\n",
      "[120]\ttraining's binary_logloss: 0.0035595\tvalid_1's binary_logloss: 0.06522\n",
      "Early stopping, best iteration is:\n",
      "[115]\ttraining's binary_logloss: 0.00404939\tvalid_1's binary_logloss: 0.064943\n"
     ]
    },
    {
     "name": "stderr",
     "output_type": "stream",
     "text": [
      "retinoid_receptor_agonist logloss: 0.06336038935595059\n",
      "=========================================================================================\n",
      "len(train_index) : 936\n",
      "len(valid_index) : 936\n",
      "================================= 1fold lightgbm =================================\n"
     ]
    },
    {
     "name": "stdout",
     "output_type": "stream",
     "text": [
      "Training until validation scores don't improve for 10 rounds\n"
     ]
    },
    {
     "name": "stderr",
     "output_type": "stream",
     "text": [
      "len(train_index) : 936\n",
      "len(valid_index) : 936\n",
      "================================= 2fold lightgbm =================================\n"
     ]
    },
    {
     "name": "stdout",
     "output_type": "stream",
     "text": [
      "Early stopping, best iteration is:\n",
      "[6]\ttraining's binary_logloss: 0.010318\tvalid_1's binary_logloss: 0.020217\n",
      "Training until validation scores don't improve for 10 rounds\n",
      "[20]\ttraining's binary_logloss: 0.00529805\tvalid_1's binary_logloss: 0.0186949\n"
     ]
    },
    {
     "name": "stderr",
     "output_type": "stream",
     "text": [
      "retinoid_receptor_antagonist logloss: 0.01941016101588045\n",
      "=========================================================================================\n",
      "len(train_index) : 950\n",
      "len(valid_index) : 951\n",
      "================================= 1fold lightgbm =================================\n"
     ]
    },
    {
     "name": "stdout",
     "output_type": "stream",
     "text": [
      "Early stopping, best iteration is:\n",
      "[17]\ttraining's binary_logloss: 0.00596461\tvalid_1's binary_logloss: 0.0186033\n",
      "Training until validation scores don't improve for 10 rounds\n",
      "[20]\ttraining's binary_logloss: 0.0331162\tvalid_1's binary_logloss: 0.0783828\n",
      "[40]\ttraining's binary_logloss: 0.0169702\tvalid_1's binary_logloss: 0.0740236\n"
     ]
    },
    {
     "name": "stderr",
     "output_type": "stream",
     "text": [
      "len(train_index) : 951\n",
      "len(valid_index) : 950\n",
      "================================= 2fold lightgbm =================================\n"
     ]
    },
    {
     "name": "stdout",
     "output_type": "stream",
     "text": [
      "Early stopping, best iteration is:\n",
      "[42]\ttraining's binary_logloss: 0.0159519\tvalid_1's binary_logloss: 0.0739695\n",
      "Training until validation scores don't improve for 10 rounds\n",
      "[20]\ttraining's binary_logloss: 0.0343771\tvalid_1's binary_logloss: 0.0744743\n",
      "[40]\ttraining's binary_logloss: 0.0179236\tvalid_1's binary_logloss: 0.0709704\n",
      "[60]\ttraining's binary_logloss: 0.00989066\tvalid_1's binary_logloss: 0.0692199\n",
      "Early stopping, best iteration is:\n",
      "[53]\ttraining's binary_logloss: 0.0121358\tvalid_1's binary_logloss: 0.0689342\n"
     ]
    },
    {
     "name": "stderr",
     "output_type": "stream",
     "text": [
      "rho_associated_kinase_inhibitor logloss: 0.07145316382233771\n",
      "=========================================================================================\n",
      "len(train_index) : 951\n",
      "len(valid_index) : 952\n",
      "================================= 1fold lightgbm =================================\n"
     ]
    },
    {
     "name": "stdout",
     "output_type": "stream",
     "text": [
      "Training until validation scores don't improve for 10 rounds\n",
      "[20]\ttraining's binary_logloss: 0.0353796\tvalid_1's binary_logloss: 0.0705211\n",
      "[40]\ttraining's binary_logloss: 0.0177161\tvalid_1's binary_logloss: 0.068374\n"
     ]
    },
    {
     "name": "stderr",
     "output_type": "stream",
     "text": [
      "len(train_index) : 952\n",
      "len(valid_index) : 951\n",
      "================================= 2fold lightgbm =================================\n"
     ]
    },
    {
     "name": "stdout",
     "output_type": "stream",
     "text": [
      "Early stopping, best iteration is:\n",
      "[47]\ttraining's binary_logloss: 0.0142665\tvalid_1's binary_logloss: 0.0683601\n",
      "Training until validation scores don't improve for 10 rounds\n",
      "[20]\ttraining's binary_logloss: 0.0381243\tvalid_1's binary_logloss: 0.0624728\n",
      "[40]\ttraining's binary_logloss: 0.0192115\tvalid_1's binary_logloss: 0.0553183\n",
      "[60]\ttraining's binary_logloss: 0.0106516\tvalid_1's binary_logloss: 0.0525715\n"
     ]
    },
    {
     "name": "stderr",
     "output_type": "stream",
     "text": [
      "ribonucleoside_reductase_inhibitor logloss: 0.060197663473667465\n",
      "=========================================================================================\n",
      "len(train_index) : 945\n",
      "len(valid_index) : 946\n",
      "================================= 1fold lightgbm =================================\n"
     ]
    },
    {
     "name": "stdout",
     "output_type": "stream",
     "text": [
      "Early stopping, best iteration is:\n",
      "[65]\ttraining's binary_logloss: 0.00920922\tvalid_1's binary_logloss: 0.0520266\n",
      "Training until validation scores don't improve for 10 rounds\n",
      "[20]\ttraining's binary_logloss: 0.0224488\tvalid_1's binary_logloss: 0.0608874\n"
     ]
    },
    {
     "name": "stderr",
     "output_type": "stream",
     "text": [
      "len(train_index) : 946\n",
      "len(valid_index) : 945\n",
      "================================= 2fold lightgbm =================================\n"
     ]
    },
    {
     "name": "stdout",
     "output_type": "stream",
     "text": [
      "Early stopping, best iteration is:\n",
      "[25]\ttraining's binary_logloss: 0.0186036\tvalid_1's binary_logloss: 0.0603194\n",
      "Training until validation scores don't improve for 10 rounds\n",
      "[20]\ttraining's binary_logloss: 0.0250001\tvalid_1's binary_logloss: 0.0656994\n"
     ]
    },
    {
     "name": "stderr",
     "output_type": "stream",
     "text": [
      "rna_polymerase_inhibitor logloss: 0.06290796921518965\n",
      "=========================================================================================\n"
     ]
    },
    {
     "name": "stdout",
     "output_type": "stream",
     "text": [
      "Early stopping, best iteration is:\n",
      "[23]\ttraining's binary_logloss: 0.0223357\tvalid_1's binary_logloss: 0.0654993\n"
     ]
    },
    {
     "name": "stderr",
     "output_type": "stream",
     "text": [
      "len(train_index) : 1051\n",
      "len(valid_index) : 1051\n",
      "================================= 1fold lightgbm =================================\n"
     ]
    },
    {
     "name": "stdout",
     "output_type": "stream",
     "text": [
      "Training until validation scores don't improve for 10 rounds\n",
      "[20]\ttraining's binary_logloss: 0.186516\tvalid_1's binary_logloss: 0.281012\n",
      "[40]\ttraining's binary_logloss: 0.115525\tvalid_1's binary_logloss: 0.24928\n",
      "[60]\ttraining's binary_logloss: 0.0749789\tvalid_1's binary_logloss: 0.230982\n",
      "[80]\ttraining's binary_logloss: 0.0506318\tvalid_1's binary_logloss: 0.219807\n",
      "[100]\ttraining's binary_logloss: 0.0345152\tvalid_1's binary_logloss: 0.213971\n",
      "[120]\ttraining's binary_logloss: 0.0238736\tvalid_1's binary_logloss: 0.21231\n"
     ]
    },
    {
     "name": "stderr",
     "output_type": "stream",
     "text": [
      "len(train_index) : 1051\n",
      "len(valid_index) : 1051\n",
      "================================= 2fold lightgbm =================================\n"
     ]
    },
    {
     "name": "stdout",
     "output_type": "stream",
     "text": [
      "Early stopping, best iteration is:\n",
      "[119]\ttraining's binary_logloss: 0.024332\tvalid_1's binary_logloss: 0.211991\n",
      "Training until validation scores don't improve for 10 rounds\n",
      "[20]\ttraining's binary_logloss: 0.198758\tvalid_1's binary_logloss: 0.264153\n",
      "[40]\ttraining's binary_logloss: 0.127569\tvalid_1's binary_logloss: 0.232106\n",
      "[60]\ttraining's binary_logloss: 0.0857068\tvalid_1's binary_logloss: 0.215121\n",
      "[80]\ttraining's binary_logloss: 0.0587818\tvalid_1's binary_logloss: 0.203275\n",
      "[100]\ttraining's binary_logloss: 0.0409222\tvalid_1's binary_logloss: 0.196368\n",
      "[120]\ttraining's binary_logloss: 0.0290042\tvalid_1's binary_logloss: 0.192029\n"
     ]
    },
    {
     "name": "stderr",
     "output_type": "stream",
     "text": [
      "serotonin_receptor_agonist logloss: 0.20200993895885458\n",
      "=========================================================================================\n"
     ]
    },
    {
     "name": "stdout",
     "output_type": "stream",
     "text": [
      "Early stopping, best iteration is:\n",
      "[120]\ttraining's binary_logloss: 0.0290042\tvalid_1's binary_logloss: 0.192029\n"
     ]
    },
    {
     "name": "stderr",
     "output_type": "stream",
     "text": [
      "len(train_index) : 1135\n",
      "len(valid_index) : 1135\n",
      "================================= 1fold lightgbm =================================\n"
     ]
    },
    {
     "name": "stdout",
     "output_type": "stream",
     "text": [
      "Training until validation scores don't improve for 10 rounds\n",
      "[20]\ttraining's binary_logloss: 0.264185\tvalid_1's binary_logloss: 0.333537\n",
      "[40]\ttraining's binary_logloss: 0.169172\tvalid_1's binary_logloss: 0.270932\n",
      "[60]\ttraining's binary_logloss: 0.112867\tvalid_1's binary_logloss: 0.23563\n",
      "[80]\ttraining's binary_logloss: 0.0782493\tvalid_1's binary_logloss: 0.213044\n",
      "[100]\ttraining's binary_logloss: 0.0546768\tvalid_1's binary_logloss: 0.200331\n",
      "[120]\ttraining's binary_logloss: 0.0389666\tvalid_1's binary_logloss: 0.189992\n",
      "[140]\ttraining's binary_logloss: 0.0276212\tvalid_1's binary_logloss: 0.181245\n",
      "[160]\ttraining's binary_logloss: 0.019827\tvalid_1's binary_logloss: 0.17705\n",
      "[180]\ttraining's binary_logloss: 0.0142589\tvalid_1's binary_logloss: 0.17499\n",
      "[200]\ttraining's binary_logloss: 0.0102272\tvalid_1's binary_logloss: 0.172957\n",
      "[220]\ttraining's binary_logloss: 0.00738375\tvalid_1's binary_logloss: 0.171877\n"
     ]
    },
    {
     "name": "stderr",
     "output_type": "stream",
     "text": [
      "len(train_index) : 1135\n",
      "len(valid_index) : 1135\n",
      "================================= 2fold lightgbm =================================\n"
     ]
    },
    {
     "name": "stdout",
     "output_type": "stream",
     "text": [
      "Early stopping, best iteration is:\n",
      "[217]\ttraining's binary_logloss: 0.00777353\tvalid_1's binary_logloss: 0.17164\n",
      "Training until validation scores don't improve for 10 rounds\n",
      "[20]\ttraining's binary_logloss: 0.259857\tvalid_1's binary_logloss: 0.338391\n",
      "[40]\ttraining's binary_logloss: 0.164244\tvalid_1's binary_logloss: 0.275501\n",
      "[60]\ttraining's binary_logloss: 0.108868\tvalid_1's binary_logloss: 0.239007\n",
      "[80]\ttraining's binary_logloss: 0.0740031\tvalid_1's binary_logloss: 0.217082\n",
      "[100]\ttraining's binary_logloss: 0.0509143\tvalid_1's binary_logloss: 0.20456\n",
      "[120]\ttraining's binary_logloss: 0.0351278\tvalid_1's binary_logloss: 0.196958\n",
      "[140]\ttraining's binary_logloss: 0.0247089\tvalid_1's binary_logloss: 0.193092\n"
     ]
    },
    {
     "name": "stderr",
     "output_type": "stream",
     "text": [
      "serotonin_receptor_antagonist logloss: 0.18222608678680338\n",
      "=========================================================================================\n"
     ]
    },
    {
     "name": "stdout",
     "output_type": "stream",
     "text": [
      "Early stopping, best iteration is:\n",
      "[147]\ttraining's binary_logloss: 0.021823\tvalid_1's binary_logloss: 0.192812\n"
     ]
    },
    {
     "name": "stderr",
     "output_type": "stream",
     "text": [
      "len(train_index) : 955\n",
      "len(valid_index) : 955\n",
      "================================= 1fold lightgbm =================================\n"
     ]
    },
    {
     "name": "stdout",
     "output_type": "stream",
     "text": [
      "Training until validation scores don't improve for 10 rounds\n",
      "[20]\ttraining's binary_logloss: 0.0428704\tvalid_1's binary_logloss: 0.100277\n",
      "[40]\ttraining's binary_logloss: 0.0230677\tvalid_1's binary_logloss: 0.0978111\n"
     ]
    },
    {
     "name": "stderr",
     "output_type": "stream",
     "text": [
      "len(train_index) : 955\n",
      "len(valid_index) : 955\n",
      "================================= 2fold lightgbm =================================\n"
     ]
    },
    {
     "name": "stdout",
     "output_type": "stream",
     "text": [
      "Early stopping, best iteration is:\n",
      "[42]\ttraining's binary_logloss: 0.0217833\tvalid_1's binary_logloss: 0.0975207\n",
      "Training until validation scores don't improve for 10 rounds\n",
      "[20]\ttraining's binary_logloss: 0.0423\tvalid_1's binary_logloss: 0.0924791\n",
      "[40]\ttraining's binary_logloss: 0.022676\tvalid_1's binary_logloss: 0.0882728\n"
     ]
    },
    {
     "name": "stderr",
     "output_type": "stream",
     "text": [
      "serotonin_reuptake_inhibitor logloss: 0.09268875214636677\n",
      "=========================================================================================\n",
      "len(train_index) : 951\n",
      "len(valid_index) : 951\n",
      "================================= 1fold lightgbm =================================\n"
     ]
    },
    {
     "name": "stdout",
     "output_type": "stream",
     "text": [
      "Early stopping, best iteration is:\n",
      "[48]\ttraining's binary_logloss: 0.0180588\tvalid_1's binary_logloss: 0.0878568\n",
      "Training until validation scores don't improve for 10 rounds\n",
      "[20]\ttraining's binary_logloss: 0.0346085\tvalid_1's binary_logloss: 0.0774748\n",
      "[40]\ttraining's binary_logloss: 0.018275\tvalid_1's binary_logloss: 0.0741858\n"
     ]
    },
    {
     "name": "stderr",
     "output_type": "stream",
     "text": [
      "len(train_index) : 951\n",
      "len(valid_index) : 951\n",
      "================================= 2fold lightgbm =================================\n"
     ]
    },
    {
     "name": "stdout",
     "output_type": "stream",
     "text": [
      "Early stopping, best iteration is:\n",
      "[46]\ttraining's binary_logloss: 0.0154607\tvalid_1's binary_logloss: 0.0730286\n",
      "Training until validation scores don't improve for 10 rounds\n",
      "[20]\ttraining's binary_logloss: 0.034317\tvalid_1's binary_logloss: 0.0889114\n",
      "[40]\ttraining's binary_logloss: 0.0174599\tvalid_1's binary_logloss: 0.0860002\n"
     ]
    },
    {
     "name": "stderr",
     "output_type": "stream",
     "text": [
      "sigma_receptor_agonist logloss: 0.07949673527080568\n",
      "=========================================================================================\n"
     ]
    },
    {
     "name": "stdout",
     "output_type": "stream",
     "text": [
      "Early stopping, best iteration is:\n",
      "[41]\ttraining's binary_logloss: 0.016941\tvalid_1's binary_logloss: 0.0859649\n"
     ]
    },
    {
     "name": "stderr",
     "output_type": "stream",
     "text": [
      "len(train_index) : 951\n",
      "len(valid_index) : 951\n",
      "================================= 1fold lightgbm =================================\n"
     ]
    },
    {
     "name": "stdout",
     "output_type": "stream",
     "text": [
      "Training until validation scores don't improve for 10 rounds\n",
      "[20]\ttraining's binary_logloss: 0.0357389\tvalid_1's binary_logloss: 0.0804418\n",
      "[40]\ttraining's binary_logloss: 0.0187173\tvalid_1's binary_logloss: 0.0750442\n"
     ]
    },
    {
     "name": "stderr",
     "output_type": "stream",
     "text": [
      "len(train_index) : 951\n",
      "len(valid_index) : 951\n",
      "================================= 2fold lightgbm =================================\n"
     ]
    },
    {
     "name": "stdout",
     "output_type": "stream",
     "text": [
      "Early stopping, best iteration is:\n",
      "[42]\ttraining's binary_logloss: 0.0176544\tvalid_1's binary_logloss: 0.0748479\n",
      "Training until validation scores don't improve for 10 rounds\n",
      "[20]\ttraining's binary_logloss: 0.0339534\tvalid_1's binary_logloss: 0.0868353\n",
      "[40]\ttraining's binary_logloss: 0.0171421\tvalid_1's binary_logloss: 0.0854859\n"
     ]
    },
    {
     "name": "stderr",
     "output_type": "stream",
     "text": [
      "sigma_receptor_antagonist logloss: 0.08004214701012333\n",
      "=========================================================================================\n",
      "len(train_index) : 945\n",
      "len(valid_index) : 946\n",
      "================================= 1fold lightgbm =================================\n"
     ]
    },
    {
     "name": "stdout",
     "output_type": "stream",
     "text": [
      "Early stopping, best iteration is:\n",
      "[43]\ttraining's binary_logloss: 0.0156576\tvalid_1's binary_logloss: 0.0852364\n",
      "Training until validation scores don't improve for 10 rounds\n"
     ]
    },
    {
     "name": "stderr",
     "output_type": "stream",
     "text": [
      "len(train_index) : 946\n",
      "len(valid_index) : 945\n",
      "================================= 2fold lightgbm =================================\n"
     ]
    },
    {
     "name": "stdout",
     "output_type": "stream",
     "text": [
      "Early stopping, best iteration is:\n",
      "[5]\ttraining's binary_logloss: 0.0476035\tvalid_1's binary_logloss: 0.0705935\n",
      "Training until validation scores don't improve for 10 rounds\n",
      "[20]\ttraining's binary_logloss: 0.0294595\tvalid_1's binary_logloss: 0.0651213\n"
     ]
    },
    {
     "name": "stderr",
     "output_type": "stream",
     "text": [
      "smoothened_receptor_antagonist logloss: 0.06772793301054152\n",
      "=========================================================================================\n",
      "len(train_index) : 1066\n",
      "len(valid_index) : 1067\n",
      "================================= 1fold lightgbm =================================\n"
     ]
    },
    {
     "name": "stdout",
     "output_type": "stream",
     "text": [
      "Early stopping, best iteration is:\n",
      "[17]\ttraining's binary_logloss: 0.0336285\tvalid_1's binary_logloss: 0.0648593\n",
      "Training until validation scores don't improve for 10 rounds\n",
      "[20]\ttraining's binary_logloss: 0.210439\tvalid_1's binary_logloss: 0.280879\n",
      "[40]\ttraining's binary_logloss: 0.132889\tvalid_1's binary_logloss: 0.238341\n",
      "[60]\ttraining's binary_logloss: 0.0871542\tvalid_1's binary_logloss: 0.21373\n",
      "[80]\ttraining's binary_logloss: 0.0590072\tvalid_1's binary_logloss: 0.200721\n",
      "[100]\ttraining's binary_logloss: 0.0405443\tvalid_1's binary_logloss: 0.192185\n",
      "[120]\ttraining's binary_logloss: 0.0279562\tvalid_1's binary_logloss: 0.187533\n",
      "[140]\ttraining's binary_logloss: 0.0193792\tvalid_1's binary_logloss: 0.185191\n"
     ]
    },
    {
     "name": "stderr",
     "output_type": "stream",
     "text": [
      "len(train_index) : 1067\n",
      "len(valid_index) : 1066\n",
      "================================= 2fold lightgbm =================================\n"
     ]
    },
    {
     "name": "stdout",
     "output_type": "stream",
     "text": [
      "Early stopping, best iteration is:\n",
      "[135]\ttraining's binary_logloss: 0.0212259\tvalid_1's binary_logloss: 0.184616\n",
      "Training until validation scores don't improve for 10 rounds\n",
      "[20]\ttraining's binary_logloss: 0.206639\tvalid_1's binary_logloss: 0.28575\n",
      "[40]\ttraining's binary_logloss: 0.127585\tvalid_1's binary_logloss: 0.247365\n",
      "[60]\ttraining's binary_logloss: 0.0839722\tvalid_1's binary_logloss: 0.224507\n",
      "[80]\ttraining's binary_logloss: 0.0562832\tvalid_1's binary_logloss: 0.212522\n",
      "[100]\ttraining's binary_logloss: 0.038124\tvalid_1's binary_logloss: 0.207138\n",
      "[120]\ttraining's binary_logloss: 0.0261233\tvalid_1's binary_logloss: 0.205561\n"
     ]
    },
    {
     "name": "stderr",
     "output_type": "stream",
     "text": [
      "sodium_channel_inhibitor logloss: 0.19493902128662655\n",
      "=========================================================================================\n"
     ]
    },
    {
     "name": "stdout",
     "output_type": "stream",
     "text": [
      "Early stopping, best iteration is:\n",
      "[117]\ttraining's binary_logloss: 0.027582\tvalid_1's binary_logloss: 0.205272\n"
     ]
    },
    {
     "name": "stderr",
     "output_type": "stream",
     "text": [
      "len(train_index) : 945\n",
      "len(valid_index) : 946\n",
      "================================= 1fold lightgbm =================================\n"
     ]
    },
    {
     "name": "stdout",
     "output_type": "stream",
     "text": [
      "Training until validation scores don't improve for 10 rounds\n"
     ]
    },
    {
     "name": "stderr",
     "output_type": "stream",
     "text": [
      "len(train_index) : 946\n",
      "len(valid_index) : 945\n",
      "================================= 2fold lightgbm =================================\n"
     ]
    },
    {
     "name": "stdout",
     "output_type": "stream",
     "text": [
      "Early stopping, best iteration is:\n",
      "[6]\ttraining's binary_logloss: 0.0438844\tvalid_1's binary_logloss: 0.0713581\n",
      "Training until validation scores don't improve for 10 rounds\n"
     ]
    },
    {
     "name": "stderr",
     "output_type": "stream",
     "text": [
      "sphingosine_receptor_agonist logloss: 0.06914332606351355\n",
      "=========================================================================================\n",
      "len(train_index) : 968\n",
      "len(valid_index) : 969\n",
      "================================= 1fold lightgbm =================================\n"
     ]
    },
    {
     "name": "stdout",
     "output_type": "stream",
     "text": [
      "Early stopping, best iteration is:\n",
      "[4]\ttraining's binary_logloss: 0.0530136\tvalid_1's binary_logloss: 0.0669262\n",
      "Training until validation scores don't improve for 10 rounds\n",
      "[20]\ttraining's binary_logloss: 0.0636314\tvalid_1's binary_logloss: 0.102119\n",
      "[40]\ttraining's binary_logloss: 0.0339639\tvalid_1's binary_logloss: 0.0900706\n",
      "[60]\ttraining's binary_logloss: 0.0189392\tvalid_1's binary_logloss: 0.0862662\n"
     ]
    },
    {
     "name": "stderr",
     "output_type": "stream",
     "text": [
      "len(train_index) : 969\n",
      "len(valid_index) : 968\n",
      "================================= 2fold lightgbm =================================\n"
     ]
    },
    {
     "name": "stdout",
     "output_type": "stream",
     "text": [
      "Early stopping, best iteration is:\n",
      "[65]\ttraining's binary_logloss: 0.0164878\tvalid_1's binary_logloss: 0.0858\n",
      "Training until validation scores don't improve for 10 rounds\n",
      "[20]\ttraining's binary_logloss: 0.065718\tvalid_1's binary_logloss: 0.0961564\n",
      "[40]\ttraining's binary_logloss: 0.035705\tvalid_1's binary_logloss: 0.080782\n",
      "[60]\ttraining's binary_logloss: 0.0210563\tvalid_1's binary_logloss: 0.0733875\n",
      "[80]\ttraining's binary_logloss: 0.012572\tvalid_1's binary_logloss: 0.0701264\n",
      "[100]\ttraining's binary_logloss: 0.0075808\tvalid_1's binary_logloss: 0.0700304\n"
     ]
    },
    {
     "name": "stderr",
     "output_type": "stream",
     "text": [
      "src_inhibitor logloss: 0.07776759578531339\n",
      "=========================================================================================\n"
     ]
    },
    {
     "name": "stdout",
     "output_type": "stream",
     "text": [
      "Early stopping, best iteration is:\n",
      "[97]\ttraining's binary_logloss: 0.0081718\tvalid_1's binary_logloss: 0.0697269\n"
     ]
    },
    {
     "name": "stderr",
     "output_type": "stream",
     "text": [
      "len(train_index) : 936\n",
      "len(valid_index) : 936\n",
      "================================= 1fold lightgbm =================================\n"
     ]
    },
    {
     "name": "stdout",
     "output_type": "stream",
     "text": [
      "Training until validation scores don't improve for 10 rounds\n"
     ]
    },
    {
     "name": "stderr",
     "output_type": "stream",
     "text": [
      "len(train_index) : 936\n",
      "len(valid_index) : 936\n",
      "================================= 2fold lightgbm =================================\n"
     ]
    },
    {
     "name": "stdout",
     "output_type": "stream",
     "text": [
      "Early stopping, best iteration is:\n",
      "[4]\ttraining's binary_logloss: 0.0141128\tvalid_1's binary_logloss: 0.0216044\n",
      "Training until validation scores don't improve for 10 rounds\n"
     ]
    },
    {
     "name": "stderr",
     "output_type": "stream",
     "text": [
      "steroid logloss: 0.021655957350700333\n",
      "=========================================================================================\n",
      "len(train_index) : 942\n",
      "len(valid_index) : 943\n",
      "================================= 1fold lightgbm =================================\n"
     ]
    },
    {
     "name": "stdout",
     "output_type": "stream",
     "text": [
      "Early stopping, best iteration is:\n",
      "[1]\ttraining's binary_logloss: 0.0194983\tvalid_1's binary_logloss: 0.0217075\n",
      "Training until validation scores don't improve for 10 rounds\n",
      "[20]\ttraining's binary_logloss: 0.0163328\tvalid_1's binary_logloss: 0.0376241\n",
      "[40]\ttraining's binary_logloss: 0.00819915\tvalid_1's binary_logloss: 0.0335901\n",
      "[60]\ttraining's binary_logloss: 0.00442006\tvalid_1's binary_logloss: 0.0326917\n",
      "[80]\ttraining's binary_logloss: 0.00246863\tvalid_1's binary_logloss: 0.0325667\n"
     ]
    },
    {
     "name": "stderr",
     "output_type": "stream",
     "text": [
      "len(train_index) : 943\n",
      "len(valid_index) : 942\n",
      "================================= 2fold lightgbm =================================\n"
     ]
    },
    {
     "name": "stdout",
     "output_type": "stream",
     "text": [
      "Early stopping, best iteration is:\n",
      "[78]\ttraining's binary_logloss: 0.00261672\tvalid_1's binary_logloss: 0.0324675\n",
      "Training until validation scores don't improve for 10 rounds\n",
      "[20]\ttraining's binary_logloss: 0.0177172\tvalid_1's binary_logloss: 0.0341005\n",
      "[40]\ttraining's binary_logloss: 0.00911456\tvalid_1's binary_logloss: 0.0289185\n",
      "[60]\ttraining's binary_logloss: 0.0049407\tvalid_1's binary_logloss: 0.0277661\n"
     ]
    },
    {
     "name": "stderr",
     "output_type": "stream",
     "text": [
      "syk_inhibitor logloss: 0.03007548319059811\n",
      "=========================================================================================\n"
     ]
    },
    {
     "name": "stdout",
     "output_type": "stream",
     "text": [
      "Early stopping, best iteration is:\n",
      "[61]\ttraining's binary_logloss: 0.00480796\tvalid_1's binary_logloss: 0.0276809\n"
     ]
    },
    {
     "name": "stderr",
     "output_type": "stream",
     "text": [
      "len(train_index) : 963\n",
      "len(valid_index) : 963\n",
      "================================= 1fold lightgbm =================================\n"
     ]
    },
    {
     "name": "stdout",
     "output_type": "stream",
     "text": [
      "Training until validation scores don't improve for 10 rounds\n",
      "[20]\ttraining's binary_logloss: 0.0513983\tvalid_1's binary_logloss: 0.122507\n"
     ]
    },
    {
     "name": "stderr",
     "output_type": "stream",
     "text": [
      "len(train_index) : 963\n",
      "len(valid_index) : 963\n",
      "================================= 2fold lightgbm =================================\n"
     ]
    },
    {
     "name": "stdout",
     "output_type": "stream",
     "text": [
      "Early stopping, best iteration is:\n",
      "[29]\ttraining's binary_logloss: 0.0384768\tvalid_1's binary_logloss: 0.121374\n",
      "Training until validation scores don't improve for 10 rounds\n",
      "[20]\ttraining's binary_logloss: 0.0574763\tvalid_1's binary_logloss: 0.103422\n",
      "[40]\ttraining's binary_logloss: 0.0316632\tvalid_1's binary_logloss: 0.0930002\n",
      "[60]\ttraining's binary_logloss: 0.0191554\tvalid_1's binary_logloss: 0.0895748\n"
     ]
    },
    {
     "name": "stderr",
     "output_type": "stream",
     "text": [
      "tachykinin_antagonist logloss: 0.1048850837870454\n",
      "=========================================================================================\n"
     ]
    },
    {
     "name": "stdout",
     "output_type": "stream",
     "text": [
      "Early stopping, best iteration is:\n",
      "[69]\ttraining's binary_logloss: 0.0153379\tvalid_1's binary_logloss: 0.0883962\n"
     ]
    },
    {
     "name": "stderr",
     "output_type": "stream",
     "text": [
      "len(train_index) : 948\n",
      "len(valid_index) : 948\n",
      "================================= 1fold lightgbm =================================\n"
     ]
    },
    {
     "name": "stdout",
     "output_type": "stream",
     "text": [
      "Training until validation scores don't improve for 10 rounds\n",
      "[20]\ttraining's binary_logloss: 0.0216296\tvalid_1's binary_logloss: 0.0257774\n",
      "[40]\ttraining's binary_logloss: 0.0108166\tvalid_1's binary_logloss: 0.0154734\n",
      "[60]\ttraining's binary_logloss: 0.00575472\tvalid_1's binary_logloss: 0.0104606\n",
      "[80]\ttraining's binary_logloss: 0.00314046\tvalid_1's binary_logloss: 0.00746847\n",
      "[100]\ttraining's binary_logloss: 0.00173943\tvalid_1's binary_logloss: 0.00557094\n",
      "[120]\ttraining's binary_logloss: 0.000971644\tvalid_1's binary_logloss: 0.00456441\n",
      "[140]\ttraining's binary_logloss: 0.000546393\tvalid_1's binary_logloss: 0.00386507\n",
      "[160]\ttraining's binary_logloss: 0.000310304\tvalid_1's binary_logloss: 0.00336267\n",
      "[180]\ttraining's binary_logloss: 0.000175914\tvalid_1's binary_logloss: 0.00320707\n",
      "[200]\ttraining's binary_logloss: 9.96427e-05\tvalid_1's binary_logloss: 0.00306592\n",
      "[220]\ttraining's binary_logloss: 5.6742e-05\tvalid_1's binary_logloss: 0.00293287\n",
      "[240]\ttraining's binary_logloss: 3.21248e-05\tvalid_1's binary_logloss: 0.00246642\n",
      "[260]\ttraining's binary_logloss: 1.84471e-05\tvalid_1's binary_logloss: 0.00206859\n",
      "[280]\ttraining's binary_logloss: 1.08158e-05\tvalid_1's binary_logloss: 0.00160888\n",
      "[300]\ttraining's binary_logloss: 6.61407e-06\tvalid_1's binary_logloss: 0.00139206\n",
      "[320]\ttraining's binary_logloss: 4.22938e-06\tvalid_1's binary_logloss: 0.00116587\n"
     ]
    },
    {
     "name": "stderr",
     "output_type": "stream",
     "text": [
      "len(train_index) : 948\n",
      "len(valid_index) : 948\n",
      "================================= 2fold lightgbm =================================\n"
     ]
    },
    {
     "name": "stdout",
     "output_type": "stream",
     "text": [
      "[340]\ttraining's binary_logloss: 2.8951e-06\tvalid_1's binary_logloss: 0.00105334\n",
      "Early stopping, best iteration is:\n",
      "[342]\ttraining's binary_logloss: 2.79657e-06\tvalid_1's binary_logloss: 0.00102218\n",
      "Training until validation scores don't improve for 10 rounds\n",
      "[20]\ttraining's binary_logloss: 0.0222221\tvalid_1's binary_logloss: 0.0345277\n",
      "[40]\ttraining's binary_logloss: 0.011215\tvalid_1's binary_logloss: 0.0226211\n",
      "[60]\ttraining's binary_logloss: 0.00601616\tvalid_1's binary_logloss: 0.0159797\n",
      "[80]\ttraining's binary_logloss: 0.00332727\tvalid_1's binary_logloss: 0.0122378\n",
      "[100]\ttraining's binary_logloss: 0.00185954\tvalid_1's binary_logloss: 0.00978121\n",
      "[120]\ttraining's binary_logloss: 0.00105417\tvalid_1's binary_logloss: 0.0081995\n",
      "[140]\ttraining's binary_logloss: 0.000602393\tvalid_1's binary_logloss: 0.00706969\n",
      "[160]\ttraining's binary_logloss: 0.000344678\tvalid_1's binary_logloss: 0.00624157\n",
      "[180]\ttraining's binary_logloss: 0.000199687\tvalid_1's binary_logloss: 0.00568294\n",
      "[200]\ttraining's binary_logloss: 0.000116454\tvalid_1's binary_logloss: 0.00505258\n",
      "[220]\ttraining's binary_logloss: 6.75858e-05\tvalid_1's binary_logloss: 0.00455399\n",
      "[240]\ttraining's binary_logloss: 3.93875e-05\tvalid_1's binary_logloss: 0.00429672\n",
      "[260]\ttraining's binary_logloss: 2.29746e-05\tvalid_1's binary_logloss: 0.00410236\n"
     ]
    },
    {
     "name": "stderr",
     "output_type": "stream",
     "text": [
      "tgf-beta_receptor_inhibitor logloss: 0.0025197454164238727\n",
      "=========================================================================================\n"
     ]
    },
    {
     "name": "stdout",
     "output_type": "stream",
     "text": [
      "Early stopping, best iteration is:\n",
      "[265]\ttraining's binary_logloss: 2.01595e-05\tvalid_1's binary_logloss: 0.00401731\n"
     ]
    },
    {
     "name": "stderr",
     "output_type": "stream",
     "text": [
      "len(train_index) : 942\n",
      "len(valid_index) : 943\n",
      "================================= 1fold lightgbm =================================\n"
     ]
    },
    {
     "name": "stdout",
     "output_type": "stream",
     "text": [
      "Training until validation scores don't improve for 10 rounds\n",
      "[20]\ttraining's binary_logloss: 0.0154931\tvalid_1's binary_logloss: 0.0492039\n",
      "[40]\ttraining's binary_logloss: 0.00778268\tvalid_1's binary_logloss: 0.0482105\n"
     ]
    },
    {
     "name": "stderr",
     "output_type": "stream",
     "text": [
      "len(train_index) : 943\n",
      "len(valid_index) : 942\n",
      "================================= 2fold lightgbm =================================\n"
     ]
    },
    {
     "name": "stdout",
     "output_type": "stream",
     "text": [
      "Early stopping, best iteration is:\n",
      "[42]\ttraining's binary_logloss: 0.00731324\tvalid_1's binary_logloss: 0.0479858\n",
      "Training until validation scores don't improve for 10 rounds\n",
      "[20]\ttraining's binary_logloss: 0.0173876\tvalid_1's binary_logloss: 0.0395124\n",
      "[40]\ttraining's binary_logloss: 0.00886504\tvalid_1's binary_logloss: 0.0353213\n",
      "[60]\ttraining's binary_logloss: 0.00486159\tvalid_1's binary_logloss: 0.0343137\n"
     ]
    },
    {
     "name": "stderr",
     "output_type": "stream",
     "text": [
      "thrombin_inhibitor logloss: 0.041075166233617\n",
      "=========================================================================================\n",
      "len(train_index) : 951\n",
      "len(valid_index) : 952\n",
      "================================= 1fold lightgbm =================================\n"
     ]
    },
    {
     "name": "stdout",
     "output_type": "stream",
     "text": [
      "Early stopping, best iteration is:\n",
      "[64]\ttraining's binary_logloss: 0.00434226\tvalid_1's binary_logloss: 0.0341572\n",
      "Training until validation scores don't improve for 10 rounds\n",
      "[20]\ttraining's binary_logloss: 0.0346982\tvalid_1's binary_logloss: 0.0730648\n",
      "[40]\ttraining's binary_logloss: 0.0176424\tvalid_1's binary_logloss: 0.0678595\n"
     ]
    },
    {
     "name": "stderr",
     "output_type": "stream",
     "text": [
      "len(train_index) : 952\n",
      "len(valid_index) : 951\n",
      "================================= 2fold lightgbm =================================\n"
     ]
    },
    {
     "name": "stdout",
     "output_type": "stream",
     "text": [
      "[60]\ttraining's binary_logloss: 0.00964463\tvalid_1's binary_logloss: 0.0669298\n",
      "Early stopping, best iteration is:\n",
      "[51]\ttraining's binary_logloss: 0.0126147\tvalid_1's binary_logloss: 0.0665449\n",
      "Training until validation scores don't improve for 10 rounds\n",
      "[20]\ttraining's binary_logloss: 0.0354305\tvalid_1's binary_logloss: 0.0717364\n",
      "[40]\ttraining's binary_logloss: 0.0185042\tvalid_1's binary_logloss: 0.0674013\n"
     ]
    },
    {
     "name": "stderr",
     "output_type": "stream",
     "text": [
      "thymidylate_synthase_inhibitor logloss: 0.06683877592082672\n",
      "=========================================================================================\n",
      "len(train_index) : 948\n",
      "len(valid_index) : 948\n",
      "================================= 1fold lightgbm =================================\n"
     ]
    },
    {
     "name": "stdout",
     "output_type": "stream",
     "text": [
      "Early stopping, best iteration is:\n",
      "[45]\ttraining's binary_logloss: 0.0158548\tvalid_1's binary_logloss: 0.0671329\n",
      "Training until validation scores don't improve for 10 rounds\n",
      "[20]\ttraining's binary_logloss: 0.029023\tvalid_1's binary_logloss: 0.0723881\n",
      "[40]\ttraining's binary_logloss: 0.0151111\tvalid_1's binary_logloss: 0.0689686\n"
     ]
    },
    {
     "name": "stderr",
     "output_type": "stream",
     "text": [
      "len(train_index) : 948\n",
      "len(valid_index) : 948\n",
      "================================= 2fold lightgbm =================================\n"
     ]
    },
    {
     "name": "stdout",
     "output_type": "stream",
     "text": [
      "Early stopping, best iteration is:\n",
      "[39]\ttraining's binary_logloss: 0.0155983\tvalid_1's binary_logloss: 0.0687039\n",
      "Training until validation scores don't improve for 10 rounds\n",
      "[20]\ttraining's binary_logloss: 0.0280526\tvalid_1's binary_logloss: 0.0739309\n",
      "[40]\ttraining's binary_logloss: 0.0143875\tvalid_1's binary_logloss: 0.0706738\n"
     ]
    },
    {
     "name": "stderr",
     "output_type": "stream",
     "text": [
      "tlr_agonist logloss: 0.06956315643315344\n",
      "=========================================================================================\n",
      "len(train_index) : 936\n",
      "len(valid_index) : 937\n",
      "================================= 1fold lightgbm =================================\n"
     ]
    },
    {
     "name": "stdout",
     "output_type": "stream",
     "text": [
      "Early stopping, best iteration is:\n",
      "[42]\ttraining's binary_logloss: 0.013531\tvalid_1's binary_logloss: 0.0704224\n",
      "Training until validation scores don't improve for 10 rounds\n"
     ]
    },
    {
     "name": "stderr",
     "output_type": "stream",
     "text": [
      "len(train_index) : 937\n",
      "len(valid_index) : 936\n",
      "================================= 2fold lightgbm =================================\n"
     ]
    },
    {
     "name": "stdout",
     "output_type": "stream",
     "text": [
      "Early stopping, best iteration is:\n",
      "[1]\ttraining's binary_logloss: 0.0196946\tvalid_1's binary_logloss: 0.0279726\n",
      "Training until validation scores don't improve for 10 rounds\n"
     ]
    },
    {
     "name": "stderr",
     "output_type": "stream",
     "text": [
      "tlr_antagonist logloss: 0.024910823261017345\n",
      "=========================================================================================\n"
     ]
    },
    {
     "name": "stdout",
     "output_type": "stream",
     "text": [
      "Early stopping, best iteration is:\n",
      "[1]\ttraining's binary_logloss: 0.025959\tvalid_1's binary_logloss: 0.0218458\n"
     ]
    },
    {
     "name": "stderr",
     "output_type": "stream",
     "text": [
      "len(train_index) : 951\n",
      "len(valid_index) : 951\n",
      "================================= 1fold lightgbm =================================\n"
     ]
    },
    {
     "name": "stdout",
     "output_type": "stream",
     "text": [
      "Training until validation scores don't improve for 10 rounds\n",
      "[20]\ttraining's binary_logloss: 0.0321384\tvalid_1's binary_logloss: 0.0767317\n",
      "[40]\ttraining's binary_logloss: 0.0166963\tvalid_1's binary_logloss: 0.0737936\n"
     ]
    },
    {
     "name": "stderr",
     "output_type": "stream",
     "text": [
      "len(train_index) : 951\n",
      "len(valid_index) : 951\n",
      "================================= 2fold lightgbm =================================\n"
     ]
    },
    {
     "name": "stdout",
     "output_type": "stream",
     "text": [
      "Early stopping, best iteration is:\n",
      "[47]\ttraining's binary_logloss: 0.0135894\tvalid_1's binary_logloss: 0.0735722\n",
      "Training until validation scores don't improve for 10 rounds\n",
      "[20]\ttraining's binary_logloss: 0.0332543\tvalid_1's binary_logloss: 0.0801707\n",
      "[40]\ttraining's binary_logloss: 0.0172917\tvalid_1's binary_logloss: 0.0785749\n"
     ]
    },
    {
     "name": "stderr",
     "output_type": "stream",
     "text": [
      "tnf_inhibitor logloss: 0.07602376707268305\n",
      "=========================================================================================\n"
     ]
    },
    {
     "name": "stdout",
     "output_type": "stream",
     "text": [
      "Early stopping, best iteration is:\n",
      "[37]\ttraining's binary_logloss: 0.0189374\tvalid_1's binary_logloss: 0.0784753\n"
     ]
    },
    {
     "name": "stderr",
     "output_type": "stream",
     "text": [
      "len(train_index) : 996\n",
      "len(valid_index) : 997\n",
      "================================= 1fold lightgbm =================================\n"
     ]
    },
    {
     "name": "stdout",
     "output_type": "stream",
     "text": [
      "Training until validation scores don't improve for 10 rounds\n",
      "[20]\ttraining's binary_logloss: 0.0978539\tvalid_1's binary_logloss: 0.116545\n",
      "[40]\ttraining's binary_logloss: 0.053542\tvalid_1's binary_logloss: 0.087633\n",
      "[60]\ttraining's binary_logloss: 0.0301249\tvalid_1's binary_logloss: 0.0724999\n",
      "[80]\ttraining's binary_logloss: 0.0172398\tvalid_1's binary_logloss: 0.0632769\n",
      "[100]\ttraining's binary_logloss: 0.010055\tvalid_1's binary_logloss: 0.0570446\n",
      "[120]\ttraining's binary_logloss: 0.00589818\tvalid_1's binary_logloss: 0.0542862\n",
      "[140]\ttraining's binary_logloss: 0.00348864\tvalid_1's binary_logloss: 0.053103\n",
      "[160]\ttraining's binary_logloss: 0.00209021\tvalid_1's binary_logloss: 0.0526318\n"
     ]
    },
    {
     "name": "stderr",
     "output_type": "stream",
     "text": [
      "len(train_index) : 997\n",
      "len(valid_index) : 996\n",
      "================================= 2fold lightgbm =================================\n"
     ]
    },
    {
     "name": "stdout",
     "output_type": "stream",
     "text": [
      "Early stopping, best iteration is:\n",
      "[156]\ttraining's binary_logloss: 0.0023106\tvalid_1's binary_logloss: 0.0525402\n",
      "Training until validation scores don't improve for 10 rounds\n",
      "[20]\ttraining's binary_logloss: 0.0942907\tvalid_1's binary_logloss: 0.130339\n",
      "[40]\ttraining's binary_logloss: 0.0497341\tvalid_1's binary_logloss: 0.100222\n",
      "[60]\ttraining's binary_logloss: 0.0276792\tvalid_1's binary_logloss: 0.0846795\n",
      "[80]\ttraining's binary_logloss: 0.0158577\tvalid_1's binary_logloss: 0.0778355\n",
      "[100]\ttraining's binary_logloss: 0.00922602\tvalid_1's binary_logloss: 0.0766582\n"
     ]
    },
    {
     "name": "stderr",
     "output_type": "stream",
     "text": [
      "topoisomerase_inhibitor logloss: 0.06447488282440786\n",
      "=========================================================================================\n",
      "len(train_index) : 942\n",
      "len(valid_index) : 942\n"
     ]
    },
    {
     "name": "stdout",
     "output_type": "stream",
     "text": [
      "Early stopping, best iteration is:\n",
      "[97]\ttraining's binary_logloss: 0.00999766\tvalid_1's binary_logloss: 0.0764216\n"
     ]
    },
    {
     "name": "stderr",
     "output_type": "stream",
     "text": [
      "================================= 1fold lightgbm =================================\n"
     ]
    },
    {
     "name": "stdout",
     "output_type": "stream",
     "text": [
      "Training until validation scores don't improve for 10 rounds\n",
      "[20]\ttraining's binary_logloss: 0.0167694\tvalid_1's binary_logloss: 0.0465949\n",
      "[40]\ttraining's binary_logloss: 0.00817518\tvalid_1's binary_logloss: 0.0454189\n"
     ]
    },
    {
     "name": "stderr",
     "output_type": "stream",
     "text": [
      "len(train_index) : 942\n",
      "len(valid_index) : 942\n",
      "================================= 2fold lightgbm =================================\n"
     ]
    },
    {
     "name": "stdout",
     "output_type": "stream",
     "text": [
      "Early stopping, best iteration is:\n",
      "[35]\ttraining's binary_logloss: 0.00965386\tvalid_1's binary_logloss: 0.0452395\n",
      "Training until validation scores don't improve for 10 rounds\n",
      "[20]\ttraining's binary_logloss: 0.0147127\tvalid_1's binary_logloss: 0.0480708\n",
      "[40]\ttraining's binary_logloss: 0.00737558\tvalid_1's binary_logloss: 0.0477837\n",
      "Early stopping, best iteration is:\n",
      "[34]\ttraining's binary_logloss: 0.00896316\tvalid_1's binary_logloss: 0.0474838\n"
     ]
    },
    {
     "name": "stderr",
     "output_type": "stream",
     "text": [
      "transient_receptor_potential_channel_antagonist logloss: 0.04636164595760052\n",
      "=========================================================================================\n",
      "len(train_index) : 936\n",
      "len(valid_index) : 936\n",
      "================================= 1fold lightgbm =================================\n"
     ]
    },
    {
     "name": "stdout",
     "output_type": "stream",
     "text": [
      "Training until validation scores don't improve for 10 rounds\n"
     ]
    },
    {
     "name": "stderr",
     "output_type": "stream",
     "text": [
      "len(train_index) : 936\n",
      "len(valid_index) : 936\n",
      "================================= 2fold lightgbm =================================\n"
     ]
    },
    {
     "name": "stdout",
     "output_type": "stream",
     "text": [
      "Early stopping, best iteration is:\n",
      "[1]\ttraining's binary_logloss: 0.0195691\tvalid_1's binary_logloss: 0.021784\n",
      "Training until validation scores don't improve for 10 rounds\n"
     ]
    },
    {
     "name": "stderr",
     "output_type": "stream",
     "text": [
      "tropomyosin_receptor_kinase_inhibitor logloss: 0.021585483910397503\n",
      "=========================================================================================\n"
     ]
    },
    {
     "name": "stdout",
     "output_type": "stream",
     "text": [
      "Early stopping, best iteration is:\n",
      "[5]\ttraining's binary_logloss: 0.0135688\tvalid_1's binary_logloss: 0.0213869\n"
     ]
    },
    {
     "name": "stderr",
     "output_type": "stream",
     "text": [
      "len(train_index) : 945\n",
      "len(valid_index) : 946\n",
      "================================= 1fold lightgbm =================================\n"
     ]
    },
    {
     "name": "stdout",
     "output_type": "stream",
     "text": [
      "Training until validation scores don't improve for 10 rounds\n",
      "[20]\ttraining's binary_logloss: 0.0230948\tvalid_1's binary_logloss: 0.0540079\n",
      "[40]\ttraining's binary_logloss: 0.011647\tvalid_1's binary_logloss: 0.0520642\n"
     ]
    },
    {
     "name": "stderr",
     "output_type": "stream",
     "text": [
      "len(train_index) : 946\n",
      "len(valid_index) : 945\n",
      "================================= 2fold lightgbm =================================\n"
     ]
    },
    {
     "name": "stdout",
     "output_type": "stream",
     "text": [
      "Early stopping, best iteration is:\n",
      "[44]\ttraining's binary_logloss: 0.0102479\tvalid_1's binary_logloss: 0.0515393\n",
      "Training until validation scores don't improve for 10 rounds\n",
      "[20]\ttraining's binary_logloss: 0.023671\tvalid_1's binary_logloss: 0.0503048\n"
     ]
    },
    {
     "name": "stderr",
     "output_type": "stream",
     "text": [
      "trpv_agonist logloss: 0.050879765763825524\n",
      "=========================================================================================\n"
     ]
    },
    {
     "name": "stdout",
     "output_type": "stream",
     "text": [
      "Early stopping, best iteration is:\n",
      "[22]\ttraining's binary_logloss: 0.0218211\tvalid_1's binary_logloss: 0.0502195\n"
     ]
    },
    {
     "name": "stderr",
     "output_type": "stream",
     "text": [
      "len(train_index) : 957\n",
      "len(valid_index) : 957\n",
      "================================= 1fold lightgbm =================================\n"
     ]
    },
    {
     "name": "stdout",
     "output_type": "stream",
     "text": [
      "Training until validation scores don't improve for 10 rounds\n",
      "[20]\ttraining's binary_logloss: 0.0463066\tvalid_1's binary_logloss: 0.108021\n",
      "[40]\ttraining's binary_logloss: 0.0255537\tvalid_1's binary_logloss: 0.105778\n"
     ]
    },
    {
     "name": "stderr",
     "output_type": "stream",
     "text": [
      "len(train_index) : 957\n",
      "len(valid_index) : 957\n",
      "================================= 2fold lightgbm =================================\n"
     ]
    },
    {
     "name": "stdout",
     "output_type": "stream",
     "text": [
      "Early stopping, best iteration is:\n",
      "[46]\ttraining's binary_logloss: 0.0217636\tvalid_1's binary_logloss: 0.105777\n",
      "Training until validation scores don't improve for 10 rounds\n",
      "[20]\ttraining's binary_logloss: 0.0475723\tvalid_1's binary_logloss: 0.107779\n",
      "[40]\ttraining's binary_logloss: 0.0255057\tvalid_1's binary_logloss: 0.10546\n",
      "Early stopping, best iteration is:\n",
      "[32]\ttraining's binary_logloss: 0.0322571\tvalid_1's binary_logloss: 0.105202\n"
     ]
    },
    {
     "name": "stderr",
     "output_type": "stream",
     "text": [
      "trpv_antagonist logloss: 0.1054896823077872\n",
      "=========================================================================================\n",
      "len(train_index) : 1091\n",
      "len(valid_index) : 1091\n",
      "================================= 1fold lightgbm =================================\n"
     ]
    },
    {
     "name": "stdout",
     "output_type": "stream",
     "text": [
      "Training until validation scores don't improve for 10 rounds\n",
      "[20]\ttraining's binary_logloss: 0.19783\tvalid_1's binary_logloss: 0.223931\n",
      "[40]\ttraining's binary_logloss: 0.116043\tvalid_1's binary_logloss: 0.160618\n",
      "[60]\ttraining's binary_logloss: 0.0710729\tvalid_1's binary_logloss: 0.131357\n",
      "[80]\ttraining's binary_logloss: 0.0443375\tvalid_1's binary_logloss: 0.116275\n",
      "[100]\ttraining's binary_logloss: 0.0278049\tvalid_1's binary_logloss: 0.107441\n",
      "[120]\ttraining's binary_logloss: 0.0173519\tvalid_1's binary_logloss: 0.104055\n",
      "[140]\ttraining's binary_logloss: 0.0109603\tvalid_1's binary_logloss: 0.103394\n",
      "Early stopping, best iteration is:\n",
      "[132]\ttraining's binary_logloss: 0.0131615\tvalid_1's binary_logloss: 0.102946\n"
     ]
    },
    {
     "name": "stderr",
     "output_type": "stream",
     "text": [
      "len(train_index) : 1091\n",
      "len(valid_index) : 1091\n",
      "================================= 2fold lightgbm =================================\n"
     ]
    },
    {
     "name": "stdout",
     "output_type": "stream",
     "text": [
      "Training until validation scores don't improve for 10 rounds\n",
      "[20]\ttraining's binary_logloss: 0.198365\tvalid_1's binary_logloss: 0.237004\n",
      "[40]\ttraining's binary_logloss: 0.116162\tvalid_1's binary_logloss: 0.179291\n",
      "[60]\ttraining's binary_logloss: 0.071504\tvalid_1's binary_logloss: 0.151464\n",
      "[80]\ttraining's binary_logloss: 0.0444185\tvalid_1's binary_logloss: 0.134988\n",
      "[100]\ttraining's binary_logloss: 0.0278926\tvalid_1's binary_logloss: 0.128105\n",
      "[120]\ttraining's binary_logloss: 0.0173411\tvalid_1's binary_logloss: 0.124893\n"
     ]
    },
    {
     "name": "stderr",
     "output_type": "stream",
     "text": [
      "tubulin_inhibitor logloss: 0.11347194069063707\n",
      "=========================================================================================\n"
     ]
    },
    {
     "name": "stdout",
     "output_type": "stream",
     "text": [
      "Early stopping, best iteration is:\n",
      "[129]\ttraining's binary_logloss: 0.0140261\tvalid_1's binary_logloss: 0.123998\n"
     ]
    },
    {
     "name": "stderr",
     "output_type": "stream",
     "text": [
      "len(train_index) : 969\n",
      "len(valid_index) : 970\n",
      "================================= 1fold lightgbm =================================\n"
     ]
    },
    {
     "name": "stdout",
     "output_type": "stream",
     "text": [
      "Training until validation scores don't improve for 10 rounds\n",
      "[20]\ttraining's binary_logloss: 0.0690511\tvalid_1's binary_logloss: 0.125417\n",
      "[40]\ttraining's binary_logloss: 0.0388846\tvalid_1's binary_logloss: 0.116952\n",
      "[60]\ttraining's binary_logloss: 0.0226302\tvalid_1's binary_logloss: 0.113802\n"
     ]
    },
    {
     "name": "stderr",
     "output_type": "stream",
     "text": [
      "len(train_index) : 970\n",
      "len(valid_index) : 969\n",
      "================================= 2fold lightgbm =================================\n"
     ]
    },
    {
     "name": "stdout",
     "output_type": "stream",
     "text": [
      "Early stopping, best iteration is:\n",
      "[68]\ttraining's binary_logloss: 0.0184765\tvalid_1's binary_logloss: 0.113127\n",
      "Training until validation scores don't improve for 10 rounds\n",
      "[20]\ttraining's binary_logloss: 0.068635\tvalid_1's binary_logloss: 0.11124\n",
      "[40]\ttraining's binary_logloss: 0.0387068\tvalid_1's binary_logloss: 0.0998708\n",
      "[60]\ttraining's binary_logloss: 0.0231009\tvalid_1's binary_logloss: 0.096154\n"
     ]
    },
    {
     "name": "stderr",
     "output_type": "stream",
     "text": [
      "tyrosine_kinase_inhibitor logloss: 0.10426198993383434\n",
      "=========================================================================================\n"
     ]
    },
    {
     "name": "stdout",
     "output_type": "stream",
     "text": [
      "Early stopping, best iteration is:\n",
      "[69]\ttraining's binary_logloss: 0.0183231\tvalid_1's binary_logloss: 0.0953883\n"
     ]
    },
    {
     "name": "stderr",
     "output_type": "stream",
     "text": [
      "len(train_index) : 936\n",
      "len(valid_index) : 936\n",
      "================================= 1fold lightgbm =================================\n"
     ]
    },
    {
     "name": "stdout",
     "output_type": "stream",
     "text": [
      "Training until validation scores don't improve for 10 rounds\n",
      "[20]\ttraining's binary_logloss: 0.00490956\tvalid_1's binary_logloss: 0.0216747\n"
     ]
    },
    {
     "name": "stderr",
     "output_type": "stream",
     "text": [
      "len(train_index) : 936\n",
      "len(valid_index) : 936\n",
      "================================= 2fold lightgbm =================================\n"
     ]
    },
    {
     "name": "stdout",
     "output_type": "stream",
     "text": [
      "Early stopping, best iteration is:\n",
      "[25]\ttraining's binary_logloss: 0.00409279\tvalid_1's binary_logloss: 0.0215772\n",
      "Training until validation scores don't improve for 10 rounds\n",
      "[20]\ttraining's binary_logloss: 0.0050372\tvalid_1's binary_logloss: 0.0178799\n"
     ]
    },
    {
     "name": "stderr",
     "output_type": "stream",
     "text": [
      "ubiquitin_specific_protease_inhibitor logloss: 0.019586714455125602\n",
      "=========================================================================================\n"
     ]
    },
    {
     "name": "stdout",
     "output_type": "stream",
     "text": [
      "[40]\ttraining's binary_logloss: 0.00254732\tvalid_1's binary_logloss: 0.0176522\n",
      "Early stopping, best iteration is:\n",
      "[32]\ttraining's binary_logloss: 0.0033006\tvalid_1's binary_logloss: 0.0175963\n"
     ]
    },
    {
     "name": "stderr",
     "output_type": "stream",
     "text": [
      "len(train_index) : 1018\n",
      "len(valid_index) : 1018\n",
      "================================= 1fold lightgbm =================================\n"
     ]
    },
    {
     "name": "stdout",
     "output_type": "stream",
     "text": [
      "Training until validation scores don't improve for 10 rounds\n",
      "[20]\ttraining's binary_logloss: 0.126389\tvalid_1's binary_logloss: 0.168958\n",
      "[40]\ttraining's binary_logloss: 0.0720781\tvalid_1's binary_logloss: 0.134644\n",
      "[60]\ttraining's binary_logloss: 0.041552\tvalid_1's binary_logloss: 0.117471\n",
      "[80]\ttraining's binary_logloss: 0.024844\tvalid_1's binary_logloss: 0.11037\n",
      "[100]\ttraining's binary_logloss: 0.015127\tvalid_1's binary_logloss: 0.108548\n"
     ]
    },
    {
     "name": "stderr",
     "output_type": "stream",
     "text": [
      "len(train_index) : 1018\n",
      "len(valid_index) : 1018\n",
      "================================= 2fold lightgbm =================================\n"
     ]
    },
    {
     "name": "stdout",
     "output_type": "stream",
     "text": [
      "Early stopping, best iteration is:\n",
      "[96]\ttraining's binary_logloss: 0.0166703\tvalid_1's binary_logloss: 0.108474\n",
      "Training until validation scores don't improve for 10 rounds\n",
      "[20]\ttraining's binary_logloss: 0.125272\tvalid_1's binary_logloss: 0.155245\n",
      "[40]\ttraining's binary_logloss: 0.071097\tvalid_1's binary_logloss: 0.113188\n",
      "[60]\ttraining's binary_logloss: 0.0428564\tvalid_1's binary_logloss: 0.0904876\n",
      "[80]\ttraining's binary_logloss: 0.026479\tvalid_1's binary_logloss: 0.0783605\n",
      "[100]\ttraining's binary_logloss: 0.0166687\tvalid_1's binary_logloss: 0.0707568\n",
      "[120]\ttraining's binary_logloss: 0.0104164\tvalid_1's binary_logloss: 0.0659383\n",
      "[140]\ttraining's binary_logloss: 0.00653\tvalid_1's binary_logloss: 0.0629892\n"
     ]
    },
    {
     "name": "stderr",
     "output_type": "stream",
     "text": [
      "vegfr_inhibitor logloss: 0.08561616149222911\n",
      "=========================================================================================\n",
      "len(train_index) : 946\n",
      "len(valid_index) : 946\n"
     ]
    },
    {
     "name": "stdout",
     "output_type": "stream",
     "text": [
      "Early stopping, best iteration is:\n",
      "[148]\ttraining's binary_logloss: 0.00543127\tvalid_1's binary_logloss: 0.0627582\n"
     ]
    },
    {
     "name": "stderr",
     "output_type": "stream",
     "text": [
      "================================= 1fold lightgbm =================================\n"
     ]
    },
    {
     "name": "stdout",
     "output_type": "stream",
     "text": [
      "Training until validation scores don't improve for 10 rounds\n",
      "[20]\ttraining's binary_logloss: 0.0235301\tvalid_1's binary_logloss: 0.0688676\n"
     ]
    },
    {
     "name": "stderr",
     "output_type": "stream",
     "text": [
      "len(train_index) : 946\n",
      "len(valid_index) : 946\n",
      "================================= 2fold lightgbm =================================\n"
     ]
    },
    {
     "name": "stdout",
     "output_type": "stream",
     "text": [
      "Early stopping, best iteration is:\n",
      "[20]\ttraining's binary_logloss: 0.0235301\tvalid_1's binary_logloss: 0.0688676\n",
      "Training until validation scores don't improve for 10 rounds\n"
     ]
    },
    {
     "name": "stderr",
     "output_type": "stream",
     "text": [
      "vitamin_b logloss: 0.07042233801752608\n",
      "=========================================================================================\n",
      "len(train_index) : 952\n",
      "len(valid_index) : 953\n"
     ]
    },
    {
     "name": "stdout",
     "output_type": "stream",
     "text": [
      "Early stopping, best iteration is:\n",
      "[3]\ttraining's binary_logloss: 0.0611844\tvalid_1's binary_logloss: 0.0719771\n"
     ]
    },
    {
     "name": "stderr",
     "output_type": "stream",
     "text": [
      "================================= 1fold lightgbm =================================\n"
     ]
    },
    {
     "name": "stdout",
     "output_type": "stream",
     "text": [
      "Training until validation scores don't improve for 10 rounds\n",
      "[20]\ttraining's binary_logloss: 0.0378634\tvalid_1's binary_logloss: 0.0703542\n",
      "[40]\ttraining's binary_logloss: 0.0192264\tvalid_1's binary_logloss: 0.0662142\n"
     ]
    },
    {
     "name": "stderr",
     "output_type": "stream",
     "text": [
      "len(train_index) : 953\n",
      "len(valid_index) : 952\n",
      "================================= 2fold lightgbm =================================\n"
     ]
    },
    {
     "name": "stdout",
     "output_type": "stream",
     "text": [
      "[60]\ttraining's binary_logloss: 0.010592\tvalid_1's binary_logloss: 0.0656642\n",
      "Early stopping, best iteration is:\n",
      "[50]\ttraining's binary_logloss: 0.0142334\tvalid_1's binary_logloss: 0.0654364\n",
      "Training until validation scores don't improve for 10 rounds\n",
      "[20]\ttraining's binary_logloss: 0.0349878\tvalid_1's binary_logloss: 0.0764069\n",
      "[40]\ttraining's binary_logloss: 0.0180017\tvalid_1's binary_logloss: 0.0729407\n",
      "[60]\ttraining's binary_logloss: 0.0099379\tvalid_1's binary_logloss: 0.0721322\n",
      "Early stopping, best iteration is:\n",
      "[53]\ttraining's binary_logloss: 0.0121675\tvalid_1's binary_logloss: 0.0719214\n"
     ]
    },
    {
     "name": "stderr",
     "output_type": "stream",
     "text": [
      "vitamin_d_receptor_agonist logloss: 0.06867718937731952\n",
      "=========================================================================================\n",
      "len(train_index) : 948\n",
      "len(valid_index) : 948\n",
      "================================= 1fold lightgbm =================================\n"
     ]
    },
    {
     "name": "stdout",
     "output_type": "stream",
     "text": [
      "Training until validation scores don't improve for 10 rounds\n",
      "[20]\ttraining's binary_logloss: 0.0298098\tvalid_1's binary_logloss: 0.0792367\n"
     ]
    },
    {
     "name": "stderr",
     "output_type": "stream",
     "text": [
      "len(train_index) : 948\n",
      "len(valid_index) : 948\n",
      "================================= 2fold lightgbm =================================\n"
     ]
    },
    {
     "name": "stdout",
     "output_type": "stream",
     "text": [
      "Early stopping, best iteration is:\n",
      "[16]\ttraining's binary_logloss: 0.0355475\tvalid_1's binary_logloss: 0.0790664\n",
      "Training until validation scores don't improve for 10 rounds\n",
      "[20]\ttraining's binary_logloss: 0.0320985\tvalid_1's binary_logloss: 0.0767083\n",
      "[40]\ttraining's binary_logloss: 0.0163653\tvalid_1's binary_logloss: 0.0744039\n"
     ]
    },
    {
     "name": "stderr",
     "output_type": "stream",
     "text": [
      "wnt_inhibitor logloss: 0.07672455178094545\n",
      "=========================================================================================\n"
     ]
    },
    {
     "name": "stdout",
     "output_type": "stream",
     "text": [
      "Early stopping, best iteration is:\n",
      "[42]\ttraining's binary_logloss: 0.0154151\tvalid_1's binary_logloss: 0.0743827\n",
      "\n"
     ]
    }
   ],
   "source": [
    "for target_col in tqdm(train_targets_scored.columns[1:]):\n",
    "    _preds, _score, models,  = run_lgbm(target_col)\n",
    "\n",
    "    sub[target_col] = _preds\n",
    "    scores.append(_score)\n",
    "        \n",
    "    for model in models:\n",
    "        _importance_df = pd.DataFrame()\n",
    "        _importance_df[\"Feature\"] = train.columns[2:]\n",
    "        _importance_df[\"importance\"] = model.feature_importance(importance_type='gain')\n",
    "        feature_importance_df = pd.concat([feature_importance_df, _importance_df], axis=0)"
   ]
  },
  {
   "cell_type": "code",
   "execution_count": 16,
   "metadata": {
    "execution": {
     "iopub.execute_input": "2020-10-11T17:25:44.510359Z",
     "iopub.status.busy": "2020-10-11T17:25:44.509323Z",
     "iopub.status.idle": "2020-10-11T17:25:47.196814Z",
     "shell.execute_reply": "2020-10-11T17:25:47.195866Z"
    },
    "papermill": {
     "duration": 4.212588,
     "end_time": "2020-10-11T17:25:47.196988",
     "exception": false,
     "start_time": "2020-10-11T17:25:42.984400",
     "status": "completed"
    },
    "tags": []
   },
   "outputs": [],
   "source": [
    "sub.to_csv('submission.csv', index=False)"
   ]
  },
  {
   "cell_type": "code",
   "execution_count": 17,
   "metadata": {
    "execution": {
     "iopub.execute_input": "2020-10-11T17:25:50.252631Z",
     "iopub.status.busy": "2020-10-11T17:25:50.251589Z",
     "iopub.status.idle": "2020-10-11T17:25:50.255374Z",
     "shell.execute_reply": "2020-10-11T17:25:50.256089Z"
    },
    "papermill": {
     "duration": 1.536917,
     "end_time": "2020-10-11T17:25:50.256333",
     "exception": false,
     "start_time": "2020-10-11T17:25:48.719416",
     "status": "completed"
    },
    "tags": []
   },
   "outputs": [
    {
     "name": "stdout",
     "output_type": "stream",
     "text": [
      "CV:0.08026184269986397\n"
     ]
    }
   ],
   "source": [
    "print(f\"CV:{np.mean(scores)}\")"
   ]
  },
  {
   "cell_type": "code",
   "execution_count": 18,
   "metadata": {
    "execution": {
     "iopub.execute_input": "2020-10-11T17:25:53.384832Z",
     "iopub.status.busy": "2020-10-11T17:25:53.384009Z",
     "iopub.status.idle": "2020-10-11T17:25:59.675362Z",
     "shell.execute_reply": "2020-10-11T17:25:59.674553Z"
    },
    "papermill": {
     "duration": 7.816065,
     "end_time": "2020-10-11T17:25:59.675507",
     "exception": false,
     "start_time": "2020-10-11T17:25:51.859442",
     "status": "completed"
    },
    "tags": []
   },
   "outputs": [
    {
     "data": {
      "image/png": "[encoded data removed]",
      "text/plain": [
       "<Figure size 576x2160 with 1 Axes>"
      ]
     },
     "metadata": {
      "needs_background": "light"
     },
     "output_type": "display_data"
    }
   ],
   "source": [
    "show_feature_importance(feature_importance_df)"
   ]
  },
  {
   "cell_type": "code",
   "execution_count": null,
   "metadata": {
    "papermill": {
     "duration": 1.545577,
     "end_time": "2020-10-11T17:26:02.762659",
     "exception": false,
     "start_time": "2020-10-11T17:26:01.217082",
     "status": "completed"
    },
    "tags": []
   },
   "outputs": [],
   "source": []
  }
 ],
 "metadata": {
  "kernelspec": {
   "display_name": "Python 3",
   "language": "python",
   "name": "python3"
  },
  "language_info": {
   "codemirror_mode": {
    "name": "ipython",
    "version": 3
   },
   "file_extension": ".py",
   "mimetype": "text/x-python",
   "name": "python",
   "nbconvert_exporter": "python",
   "pygments_lexer": "ipython3",
   "version": "3.7.6"
  },
  "papermill": {
   "duration": 1665.149237,
   "end_time": "2020-10-11T17:26:04.411062",
   "environment_variables": {},
   "exception": null,
   "input_path": "__notebook__.ipynb",
   "output_path": "__notebook__.ipynb",
   "parameters": {},
   "start_time": "2020-10-11T16:58:19.261825",
   "version": "2.1.0"
  },
  "widgets": {
   "application/vnd.jupyter.widget-state+json": {
    "state": {
     "06d485ae90e84284941e11a638eb264f": {
      "model_module": "@jupyter-widgets/base",
      "model_module_version": "1.2.0",
      "model_name": "LayoutModel",
      "state": {
       "_model_module": "@jupyter-widgets/base",
       "_model_module_version": "1.2.0",
       "_model_name": "LayoutModel",
       "_view_count": null,
       "_view_module": "@jupyter-widgets/base",
       "_view_module_version": "1.2.0",
       "_view_name": "LayoutView",
       "align_content": null,
       "align_items": null,
       "align_self": null,
       "border": null,
       "bottom": null,
       "display": null,
       "flex": null,
       "flex_flow": null,
       "grid_area": null,
       "grid_auto_columns": null,
       "grid_auto_flow": null,
       "grid_auto_rows": null,
       "grid_column": null,
       "grid_gap": null,
       "grid_row": null,
       "grid_template_areas": null,
       "grid_template_columns": null,
       "grid_template_rows": null,
       "height": null,
       "justify_content": null,
       "justify_items": null,
       "left": null,
       "margin": null,
       "max_height": null,
       "max_width": null,
       "min_height": null,
       "min_width": null,
       "object_fit": null,
       "object_position": null,
       "order": null,
       "overflow": null,
       "overflow_x": null,
       "overflow_y": null,
       "padding": null,
       "right": null,
       "top": null,
       "visibility": null,
       "width": null
      }
     },
     "0ba11568c0304ed3bca781efe99090f9": {
      "model_module": "@jupyter-widgets/base",
      "model_module_version": "1.2.0",
      "model_name": "LayoutModel",
      "state": {
       "_model_module": "@jupyter-widgets/base",
       "_model_module_version": "1.2.0",
       "_model_name": "LayoutModel",
       "_view_count": null,
       "_view_module": "@jupyter-widgets/base",
       "_view_module_version": "1.2.0",
       "_view_name": "LayoutView",
       "align_content": null,
       "align_items": null,
       "align_self": null,
       "border": null,
       "bottom": null,
       "display": null,
       "flex": null,
       "flex_flow": null,
       "grid_area": null,
       "grid_auto_columns": null,
       "grid_auto_flow": null,
       "grid_auto_rows": null,
       "grid_column": null,
       "grid_gap": null,
       "grid_row": null,
       "grid_template_areas": null,
       "grid_template_columns": null,
       "grid_template_rows": null,
       "height": null,
       "justify_content": null,
       "justify_items": null,
       "left": null,
       "margin": null,
       "max_height": null,
       "max_width": null,
       "min_height": null,
       "min_width": null,
       "object_fit": null,
       "object_position": null,
       "order": null,
       "overflow": null,
       "overflow_x": null,
       "overflow_y": null,
       "padding": null,
       "right": null,
       "top": null,
       "visibility": null,
       "width": null
      }
     },
     "5778fe6296484fddbd9a366a7c1d02c1": {
      "model_module": "@jupyter-widgets/controls",
      "model_module_version": "1.5.0",
      "model_name": "ProgressStyleModel",
      "state": {
       "_model_module": "@jupyter-widgets/controls",
       "_model_module_version": "1.5.0",
       "_model_name": "ProgressStyleModel",
       "_view_count": null,
       "_view_module": "@jupyter-widgets/base",
       "_view_module_version": "1.2.0",
       "_view_name": "StyleView",
       "bar_color": null,
       "description_width": "initial"
      }
     },
     "5acf3428884341b382af1256dad8253e": {
      "model_module": "@jupyter-widgets/controls",
      "model_module_version": "1.5.0",
      "model_name": "FloatProgressModel",
      "state": {
       "_dom_classes": [],
       "_model_module": "@jupyter-widgets/controls",
       "_model_module_version": "1.5.0",
       "_model_name": "FloatProgressModel",
       "_view_count": null,
       "_view_module": "@jupyter-widgets/controls",
       "_view_module_version": "1.5.0",
       "_view_name": "ProgressView",
       "bar_style": "success",
       "description": "100%",
       "description_tooltip": null,
       "layout": "IPY_MODEL_83564d8ff04e4814a4f948f1e3a77c48",
       "max": 206.0,
       "min": 0.0,
       "orientation": "horizontal",
       "style": "IPY_MODEL_5778fe6296484fddbd9a366a7c1d02c1",
       "value": 206.0
      }
     },
     "83564d8ff04e4814a4f948f1e3a77c48": {
      "model_module": "@jupyter-widgets/base",
      "model_module_version": "1.2.0",
      "model_name": "LayoutModel",
      "state": {
       "_model_module": "@jupyter-widgets/base",
       "_model_module_version": "1.2.0",
       "_model_name": "LayoutModel",
       "_view_count": null,
       "_view_module": "@jupyter-widgets/base",
       "_view_module_version": "1.2.0",
       "_view_name": "LayoutView",
       "align_content": null,
       "align_items": null,
       "align_self": null,
       "border": null,
       "bottom": null,
       "display": null,
       "flex": null,
       "flex_flow": null,
       "grid_area": null,
       "grid_auto_columns": null,
       "grid_auto_flow": null,
       "grid_auto_rows": null,
       "grid_column": null,
       "grid_gap": null,
       "grid_row": null,
       "grid_template_areas": null,
       "grid_template_columns": null,
       "grid_template_rows": null,
       "height": null,
       "justify_content": null,
       "justify_items": null,
       "left": null,
       "margin": null,
       "max_height": null,
       "max_width": null,
       "min_height": null,
       "min_width": null,
       "object_fit": null,
       "object_position": null,
       "order": null,
       "overflow": null,
       "overflow_x": null,
       "overflow_y": null,
       "padding": null,
       "right": null,
       "top": null,
       "visibility": null,
       "width": null
      }
     },
     "925eea109a364e5c9f245fc91c537026": {
      "model_module": "@jupyter-widgets/controls",
      "model_module_version": "1.5.0",
      "model_name": "HTMLModel",
      "state": {
       "_dom_classes": [],
       "_model_module": "@jupyter-widgets/controls",
       "_model_module_version": "1.5.0",
       "_model_name": "HTMLModel",
       "_view_count": null,
       "_view_module": "@jupyter-widgets/controls",
       "_view_module_version": "1.5.0",
       "_view_name": "HTMLView",
       "description": "",
       "description_tooltip": null,
       "layout": "IPY_MODEL_06d485ae90e84284941e11a638eb264f",
       "placeholder": "​",
       "style": "IPY_MODEL_e55a9b56dd724b9abb607ae1d6707a6a",
       "value": " 206/206 [27:19&lt;00:00,  7.96s/it]"
      }
     },
     "95fe813b2bb342babcde99334f3242ab": {
      "model_module": "@jupyter-widgets/controls",
      "model_module_version": "1.5.0",
      "model_name": "HBoxModel",
      "state": {
       "_dom_classes": [],
       "_model_module": "@jupyter-widgets/controls",
       "_model_module_version": "1.5.0",
       "_model_name": "HBoxModel",
       "_view_count": null,
       "_view_module": "@jupyter-widgets/controls",
       "_view_module_version": "1.5.0",
       "_view_name": "HBoxView",
       "box_style": "",
       "children": [
        "IPY_MODEL_5acf3428884341b382af1256dad8253e",
        "IPY_MODEL_925eea109a364e5c9f245fc91c537026"
       ],
       "layout": "IPY_MODEL_0ba11568c0304ed3bca781efe99090f9"
      }
     },
     "e55a9b56dd724b9abb607ae1d6707a6a": {
      "model_module": "@jupyter-widgets/controls",
      "model_module_version": "1.5.0",
      "model_name": "DescriptionStyleModel",
      "state": {
       "_model_module": "@jupyter-widgets/controls",
       "_model_module_version": "1.5.0",
       "_model_name": "DescriptionStyleModel",
       "_view_count": null,
       "_view_module": "@jupyter-widgets/base",
       "_view_module_version": "1.2.0",
       "_view_name": "StyleView",
       "description_width": ""
      }
     }
    },
    "version_major": 2,
    "version_minor": 0
   }
  }
 },
 "nbformat": 4,
 "nbformat_minor": 4
}
