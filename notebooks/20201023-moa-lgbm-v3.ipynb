{
 "cells": [
  {
   "cell_type": "markdown",
   "metadata": {
    "papermill": {
     "duration": 0.020275,
     "end_time": "2020-10-23T20:51:31.484857",
     "exception": false,
     "start_time": "2020-10-23T20:51:31.464582",
     "status": "completed"
    },
    "tags": []
   },
   "source": [
    "Thanks for:\n",
    "\n",
    "https://www.kaggle.com/sishihara/moa-lgbm-benchmark#Preprocessing\n",
    "\n",
    "https://www.kaggle.com/ttahara/osic-baseline-lgbm-with-custom-metric\n",
    "\n",
    "https://zenn.dev/fkubota/articles/2b8d46b11c178ac2fa2d\n",
    "\n",
    "https://qiita.com/ryouta0506/items/619d9ac0d80f8c0aed92\n",
    "\n",
    "https://github.com/nejumi/tools_for_kaggle/blob/master/semi_supervised_learner.py\n",
    "\n",
    "https://upura.hatenablog.com/entry/2019/03/03/233534\n"
   ]
  },
  {
   "cell_type": "code",
   "execution_count": 1,
   "metadata": {
    "execution": {
     "iopub.execute_input": "2020-10-23T20:51:31.528824Z",
     "iopub.status.busy": "2020-10-23T20:51:31.528019Z",
     "iopub.status.idle": "2020-10-23T20:51:31.530849Z",
     "shell.execute_reply": "2020-10-23T20:51:31.531463Z"
    },
    "papermill": {
     "duration": 0.02761,
     "end_time": "2020-10-23T20:51:31.531689",
     "exception": false,
     "start_time": "2020-10-23T20:51:31.504079",
     "status": "completed"
    },
    "tags": []
   },
   "outputs": [],
   "source": [
    "# Version = \"v1\" # starter model\n",
    "# Version = \"v2\" # Add debug mode and minor modifications\n",
    "Version = \"v3\"  # minor modifications, DEBUG=True:CV:0.01672, False:CV:0.01636"
   ]
  },
  {
   "cell_type": "code",
   "execution_count": 2,
   "metadata": {
    "execution": {
     "iopub.execute_input": "2020-10-23T20:51:31.575923Z",
     "iopub.status.busy": "2020-10-23T20:51:31.575119Z",
     "iopub.status.idle": "2020-10-23T20:51:31.578109Z",
     "shell.execute_reply": "2020-10-23T20:51:31.577344Z"
    },
    "papermill": {
     "duration": 0.026918,
     "end_time": "2020-10-23T20:51:31.578240",
     "exception": false,
     "start_time": "2020-10-23T20:51:31.551322",
     "status": "completed"
    },
    "tags": []
   },
   "outputs": [],
   "source": [
    "DEBUG = False"
   ]
  },
  {
   "cell_type": "markdown",
   "metadata": {
    "papermill": {
     "duration": 0.021166,
     "end_time": "2020-10-23T20:51:31.619293",
     "exception": false,
     "start_time": "2020-10-23T20:51:31.598127",
     "status": "completed"
    },
    "tags": []
   },
   "source": [
    "# Library"
   ]
  },
  {
   "cell_type": "code",
   "execution_count": 3,
   "metadata": {
    "_cell_guid": "b1076dfc-b9ad-4769-8c92-a6c4dae69d19",
    "_uuid": "8f2839f25d086af736a60e9eeb907d3b93b6e0e5",
    "execution": {
     "iopub.execute_input": "2020-10-23T20:51:31.669660Z",
     "iopub.status.busy": "2020-10-23T20:51:31.668797Z",
     "iopub.status.idle": "2020-10-23T20:51:34.103283Z",
     "shell.execute_reply": "2020-10-23T20:51:34.102516Z"
    },
    "papermill": {
     "duration": 2.464721,
     "end_time": "2020-10-23T20:51:34.103410",
     "exception": false,
     "start_time": "2020-10-23T20:51:31.638689",
     "status": "completed"
    },
    "tags": []
   },
   "outputs": [
    {
     "name": "stdout",
     "output_type": "stream",
     "text": [
      "lightgbm Version:  2.3.1\n",
      "numpy Version:  1.18.5\n",
      "pandas Version:  1.1.1\n",
      "imblearn Version:  0.7.0\n"
     ]
    }
   ],
   "source": [
    "import lightgbm as lgb\n",
    "from logging import getLogger, INFO, StreamHandler, FileHandler, Formatter\n",
    "import imblearn\n",
    "from imblearn.over_sampling import SMOTE\n",
    "\n",
    "import numpy as np\n",
    "import pandas as pd\n",
    "import matplotlib.pyplot as plt\n",
    "import seaborn as sns\n",
    "\n",
    "import os\n",
    "import random\n",
    "\n",
    "from sklearn import preprocessing\n",
    "from sklearn.metrics import log_loss\n",
    "from sklearn.model_selection import StratifiedKFold\n",
    "from sklearn.datasets import make_classification\n",
    "from sklearn.neighbors import NearestNeighbors\n",
    "\n",
    "from tqdm.notebook import tqdm\n",
    "import torch\n",
    "\n",
    "import warnings\n",
    "warnings.filterwarnings(\"ignore\")\n",
    "\n",
    "print(\"lightgbm Version: \", lgb.__version__)\n",
    "print(\"numpy Version: \", np.__version__)\n",
    "print(\"pandas Version: \", pd.__version__)\n",
    "print(\"imblearn Version: \", imblearn.__version__)"
   ]
  },
  {
   "cell_type": "markdown",
   "metadata": {
    "papermill": {
     "duration": 0.019819,
     "end_time": "2020-10-23T20:51:34.143816",
     "exception": false,
     "start_time": "2020-10-23T20:51:34.123997",
     "status": "completed"
    },
    "tags": []
   },
   "source": [
    "# Utils"
   ]
  },
  {
   "cell_type": "code",
   "execution_count": 4,
   "metadata": {
    "execution": {
     "iopub.execute_input": "2020-10-23T20:51:34.196200Z",
     "iopub.status.busy": "2020-10-23T20:51:34.193119Z",
     "iopub.status.idle": "2020-10-23T20:51:34.199589Z",
     "shell.execute_reply": "2020-10-23T20:51:34.198921Z"
    },
    "papermill": {
     "duration": 0.035701,
     "end_time": "2020-10-23T20:51:34.199717",
     "exception": false,
     "start_time": "2020-10-23T20:51:34.164016",
     "status": "completed"
    },
    "tags": []
   },
   "outputs": [],
   "source": [
    "def get_logger(filename='log'):\n",
    "    logger = getLogger(__name__)\n",
    "    logger.setLevel(INFO)\n",
    "    handler1 = StreamHandler()\n",
    "    handler1.setFormatter(Formatter(\"%(message)s\"))\n",
    "    handler2 = FileHandler(filename=f\"{filename}.{Version}.moa.lgbm.log\")\n",
    "    handler2.setFormatter(Formatter(\"%(message)s\"))\n",
    "    logger.addHandler(handler1)\n",
    "    logger.addHandler(handler2)\n",
    "    return logger\n",
    "\n",
    "logger = get_logger()\n",
    "\n",
    "\n",
    "def seed_everything(seed=777):\n",
    "    random.seed(seed)\n",
    "    os.environ['PYTHONHASHSEED'] = str(seed)\n",
    "    np.random.seed(seed)\n",
    "    torch.manual_seed(seed)\n",
    "    torch.cuda.manual_seed(seed)\n",
    "    torch.backends.cudnn.deterministic = True"
   ]
  },
  {
   "cell_type": "markdown",
   "metadata": {
    "papermill": {
     "duration": 0.019813,
     "end_time": "2020-10-23T20:51:34.239882",
     "exception": false,
     "start_time": "2020-10-23T20:51:34.220069",
     "status": "completed"
    },
    "tags": []
   },
   "source": [
    "# Config"
   ]
  },
  {
   "cell_type": "code",
   "execution_count": 5,
   "metadata": {
    "execution": {
     "iopub.execute_input": "2020-10-23T20:51:34.288260Z",
     "iopub.status.busy": "2020-10-23T20:51:34.287478Z",
     "iopub.status.idle": "2020-10-23T20:51:34.294551Z",
     "shell.execute_reply": "2020-10-23T20:51:34.293762Z"
    },
    "papermill": {
     "duration": 0.034714,
     "end_time": "2020-10-23T20:51:34.294672",
     "exception": false,
     "start_time": "2020-10-23T20:51:34.259958",
     "status": "completed"
    },
    "tags": []
   },
   "outputs": [],
   "source": [
    "if DEBUG:\n",
    "    N_FOLD = 2\n",
    "    Num_boost_round=1000\n",
    "    Early_stopping_rounds=10\n",
    "    Learning_rate = 0.03\n",
    "else:\n",
    "    N_FOLD = 4\n",
    "    Num_boost_round=10000\n",
    "    Early_stopping_rounds=50\n",
    "    Learning_rate = 0.01\n",
    "\n",
    "SEED = 42\n",
    "seed_everything(seed=SEED)\n",
    "\n",
    "Threshold = 0.6\n",
    "Max_depth = 7"
   ]
  },
  {
   "cell_type": "markdown",
   "metadata": {
    "papermill": {
     "duration": 0.021769,
     "end_time": "2020-10-23T20:51:34.337535",
     "exception": false,
     "start_time": "2020-10-23T20:51:34.315766",
     "status": "completed"
    },
    "tags": []
   },
   "source": [
    "# Data Loading"
   ]
  },
  {
   "cell_type": "code",
   "execution_count": 6,
   "metadata": {
    "_cell_guid": "79c7e3d0-c299-4dcb-8224-4455121ee9b0",
    "_uuid": "d629ff2d2480ee46fbb7e2d37f6b5fab8052498a",
    "execution": {
     "iopub.execute_input": "2020-10-23T20:51:34.388426Z",
     "iopub.status.busy": "2020-10-23T20:51:34.387521Z",
     "iopub.status.idle": "2020-10-23T20:51:41.704374Z",
     "shell.execute_reply": "2020-10-23T20:51:41.703640Z"
    },
    "papermill": {
     "duration": 7.344586,
     "end_time": "2020-10-23T20:51:41.704507",
     "exception": false,
     "start_time": "2020-10-23T20:51:34.359921",
     "status": "completed"
    },
    "tags": []
   },
   "outputs": [],
   "source": [
    "train = pd.read_csv(\"../input/lish-moa/train_features.csv\")\n",
    "test = pd.read_csv(\"../input/lish-moa/test_features.csv\")\n",
    "train_targets_scored = pd.read_csv(\"../input/lish-moa/train_targets_scored.csv\")\n",
    "train_targets_nonscored = pd.read_csv(\"../input/lish-moa/train_targets_nonscored.csv\")\n",
    "sub = pd.read_csv(\"../input/lish-moa/sample_submission.csv\")"
   ]
  },
  {
   "cell_type": "code",
   "execution_count": 7,
   "metadata": {
    "execution": {
     "iopub.execute_input": "2020-10-23T20:51:41.756757Z",
     "iopub.status.busy": "2020-10-23T20:51:41.755853Z",
     "iopub.status.idle": "2020-10-23T20:51:41.759373Z",
     "shell.execute_reply": "2020-10-23T20:51:41.758720Z"
    },
    "papermill": {
     "duration": 0.034027,
     "end_time": "2020-10-23T20:51:41.759498",
     "exception": false,
     "start_time": "2020-10-23T20:51:41.725471",
     "status": "completed"
    },
    "tags": []
   },
   "outputs": [],
   "source": [
    "def label_encoding(train: pd.DataFrame, test: pd.DataFrame, encode_cols):\n",
    "    n_train = len(train)\n",
    "    train = pd.concat([train, test], sort=False).reset_index(drop=True)\n",
    "    for f in encode_cols:\n",
    "        try:\n",
    "            lbl = preprocessing.LabelEncoder()\n",
    "            train[f] = lbl.fit_transform(list(train[f].values))\n",
    "        except:\n",
    "            print(f)\n",
    "    test = train[n_train:].reset_index(drop=True)\n",
    "    train = train[:n_train]\n",
    "    return train, test"
   ]
  },
  {
   "cell_type": "code",
   "execution_count": 8,
   "metadata": {
    "execution": {
     "iopub.execute_input": "2020-10-23T20:51:41.815787Z",
     "iopub.status.busy": "2020-10-23T20:51:41.810382Z",
     "iopub.status.idle": "2020-10-23T20:51:41.823728Z",
     "shell.execute_reply": "2020-10-23T20:51:41.822915Z"
    },
    "papermill": {
     "duration": 0.043453,
     "end_time": "2020-10-23T20:51:41.823856",
     "exception": false,
     "start_time": "2020-10-23T20:51:41.780403",
     "status": "completed"
    },
    "tags": []
   },
   "outputs": [],
   "source": [
    "#===========================================================\n",
    "# model\n",
    "#===========================================================\n",
    "def run_lgbm(target_col: str):\n",
    "    \n",
    "    X_train = train.drop([\"sig_id\"], axis=1)\n",
    "    y_train = train_targets_scored[target_col]\n",
    "    X_test = test.drop([\"sig_id\"], axis=1)\n",
    "\n",
    "    y_preds = []\n",
    "    models = []\n",
    "    oof_train = np.zeros((len(X_train),))\n",
    "    score = 0\n",
    "\n",
    "    for fold_, (train_index, valid_index) in enumerate(cv.split(X_train, y_train)):\n",
    "        X_tr = X_train.loc[train_index, :]\n",
    "        X_val = X_train.loc[valid_index, :]\n",
    "        y_tr = y_train[train_index]\n",
    "        y_val = y_train[valid_index]\n",
    "\n",
    "        lgb_train = lgb.Dataset(X_tr,\n",
    "                                y_tr,\n",
    "                                categorical_feature=categorical_cols)\n",
    "\n",
    "        lgb_eval = lgb.Dataset(X_val,\n",
    "                               y_val,\n",
    "                               reference=lgb_train,\n",
    "                               categorical_feature=categorical_cols)\n",
    "        \n",
    "        logger.info(f\"================================= fold {fold_+1}/{cv.get_n_splits()} {target_col}=================================\")\n",
    "        \n",
    "\n",
    "        model = lgb.train(params,\n",
    "                          lgb_train,\n",
    "                          valid_sets=[lgb_train, lgb_eval],\n",
    "                          verbose_eval=100,\n",
    "                          num_boost_round=Num_boost_round,\n",
    "                          early_stopping_rounds=Early_stopping_rounds)\n",
    "\n",
    "        oof_train[valid_index] = model.predict(X_val,\n",
    "                                               num_iteration=model.best_iteration)\n",
    "        y_pred = model.predict(X_test,\n",
    "                               num_iteration=model.best_iteration)\n",
    "\n",
    "        y_preds.append(y_pred)\n",
    "        models.append(model)\n",
    "        \n",
    "    score = log_loss(y_train, oof_train)\n",
    "    \n",
    "    logger.info(f\"{target_col} logloss: {score}\")\n",
    "    logger.info(f\"=========================================================================================\")\n",
    "\n",
    "    return sum(y_preds) / len(y_preds), score, models, "
   ]
  },
  {
   "cell_type": "code",
   "execution_count": 9,
   "metadata": {
    "execution": {
     "iopub.execute_input": "2020-10-23T20:51:41.876108Z",
     "iopub.status.busy": "2020-10-23T20:51:41.874872Z",
     "iopub.status.idle": "2020-10-23T20:51:41.879539Z",
     "shell.execute_reply": "2020-10-23T20:51:41.878796Z"
    },
    "papermill": {
     "duration": 0.034633,
     "end_time": "2020-10-23T20:51:41.879667",
     "exception": false,
     "start_time": "2020-10-23T20:51:41.845034",
     "status": "completed"
    },
    "tags": []
   },
   "outputs": [],
   "source": [
    "def show_feature_importance(feature_importance_df, num=100):\n",
    "    cols = (feature_importance_df[[\"Feature\", \"importance\"]]\n",
    "            .groupby(\"Feature\")\n",
    "            .mean()\n",
    "            .sort_values(by=\"importance\", ascending=False)[:num].index)\n",
    "    best_features = feature_importance_df.loc[feature_importance_df.Feature.isin(cols)]\n",
    "\n",
    "    plt.figure(figsize=(8, 30))\n",
    "    sns.barplot(x=\"importance\", \n",
    "                y=\"Feature\", \n",
    "                data=best_features.sort_values(by=\"importance\", ascending=False))\n",
    "    plt.title('Features importance (averaged)')\n",
    "    plt.tight_layout()\n",
    "    plt.savefig(f\"./feature_importance_{Version}.png\")\n",
    "    plt.show()"
   ]
  },
  {
   "cell_type": "markdown",
   "metadata": {
    "papermill": {
     "duration": 0.020716,
     "end_time": "2020-10-23T20:51:41.921874",
     "exception": false,
     "start_time": "2020-10-23T20:51:41.901158",
     "status": "completed"
    },
    "tags": []
   },
   "source": [
    "# Preprocessing\n",
    "\n",
    "We have to convert some categorical features into numbers in train and test. We can identify categorical features by `pd.DataFrame.select_dtypes`."
   ]
  },
  {
   "cell_type": "code",
   "execution_count": 10,
   "metadata": {
    "execution": {
     "iopub.execute_input": "2020-10-23T20:51:41.973690Z",
     "iopub.status.busy": "2020-10-23T20:51:41.972818Z",
     "iopub.status.idle": "2020-10-23T20:51:42.008320Z",
     "shell.execute_reply": "2020-10-23T20:51:42.007686Z"
    },
    "papermill": {
     "duration": 0.065468,
     "end_time": "2020-10-23T20:51:42.008461",
     "exception": false,
     "start_time": "2020-10-23T20:51:41.942993",
     "status": "completed"
    },
    "tags": []
   },
   "outputs": [
    {
     "data": {
      "text/html": [
       "<div>\n",
       "<style scoped>\n",
       "    .dataframe tbody tr th:only-of-type {\n",
       "        vertical-align: middle;\n",
       "    }\n",
       "\n",
       "    .dataframe tbody tr th {\n",
       "        vertical-align: top;\n",
       "    }\n",
       "\n",
       "    .dataframe thead th {\n",
       "        text-align: right;\n",
       "    }\n",
       "</style>\n",
       "<table border=\"1\" class=\"dataframe\">\n",
       "  <thead>\n",
       "    <tr style=\"text-align: right;\">\n",
       "      <th></th>\n",
       "      <th>sig_id</th>\n",
       "      <th>cp_type</th>\n",
       "      <th>cp_time</th>\n",
       "      <th>cp_dose</th>\n",
       "      <th>g-0</th>\n",
       "      <th>g-1</th>\n",
       "      <th>g-2</th>\n",
       "      <th>g-3</th>\n",
       "      <th>g-4</th>\n",
       "      <th>g-5</th>\n",
       "      <th>...</th>\n",
       "      <th>c-90</th>\n",
       "      <th>c-91</th>\n",
       "      <th>c-92</th>\n",
       "      <th>c-93</th>\n",
       "      <th>c-94</th>\n",
       "      <th>c-95</th>\n",
       "      <th>c-96</th>\n",
       "      <th>c-97</th>\n",
       "      <th>c-98</th>\n",
       "      <th>c-99</th>\n",
       "    </tr>\n",
       "  </thead>\n",
       "  <tbody>\n",
       "    <tr>\n",
       "      <th>0</th>\n",
       "      <td>id_000644bb2</td>\n",
       "      <td>trt_cp</td>\n",
       "      <td>24</td>\n",
       "      <td>D1</td>\n",
       "      <td>1.0620</td>\n",
       "      <td>0.5577</td>\n",
       "      <td>-0.2479</td>\n",
       "      <td>-0.6208</td>\n",
       "      <td>-0.1944</td>\n",
       "      <td>-1.0120</td>\n",
       "      <td>...</td>\n",
       "      <td>0.2862</td>\n",
       "      <td>0.2584</td>\n",
       "      <td>0.8076</td>\n",
       "      <td>0.5523</td>\n",
       "      <td>-0.1912</td>\n",
       "      <td>0.6584</td>\n",
       "      <td>-0.3981</td>\n",
       "      <td>0.2139</td>\n",
       "      <td>0.3801</td>\n",
       "      <td>0.4176</td>\n",
       "    </tr>\n",
       "    <tr>\n",
       "      <th>1</th>\n",
       "      <td>id_000779bfc</td>\n",
       "      <td>trt_cp</td>\n",
       "      <td>72</td>\n",
       "      <td>D1</td>\n",
       "      <td>0.0743</td>\n",
       "      <td>0.4087</td>\n",
       "      <td>0.2991</td>\n",
       "      <td>0.0604</td>\n",
       "      <td>1.0190</td>\n",
       "      <td>0.5207</td>\n",
       "      <td>...</td>\n",
       "      <td>-0.4265</td>\n",
       "      <td>0.7543</td>\n",
       "      <td>0.4708</td>\n",
       "      <td>0.0230</td>\n",
       "      <td>0.2957</td>\n",
       "      <td>0.4899</td>\n",
       "      <td>0.1522</td>\n",
       "      <td>0.1241</td>\n",
       "      <td>0.6077</td>\n",
       "      <td>0.7371</td>\n",
       "    </tr>\n",
       "    <tr>\n",
       "      <th>2</th>\n",
       "      <td>id_000a6266a</td>\n",
       "      <td>trt_cp</td>\n",
       "      <td>48</td>\n",
       "      <td>D1</td>\n",
       "      <td>0.6280</td>\n",
       "      <td>0.5817</td>\n",
       "      <td>1.5540</td>\n",
       "      <td>-0.0764</td>\n",
       "      <td>-0.0323</td>\n",
       "      <td>1.2390</td>\n",
       "      <td>...</td>\n",
       "      <td>-0.7250</td>\n",
       "      <td>-0.6297</td>\n",
       "      <td>0.6103</td>\n",
       "      <td>0.0223</td>\n",
       "      <td>-1.3240</td>\n",
       "      <td>-0.3174</td>\n",
       "      <td>-0.6417</td>\n",
       "      <td>-0.2187</td>\n",
       "      <td>-1.4080</td>\n",
       "      <td>0.6931</td>\n",
       "    </tr>\n",
       "    <tr>\n",
       "      <th>3</th>\n",
       "      <td>id_0015fd391</td>\n",
       "      <td>trt_cp</td>\n",
       "      <td>48</td>\n",
       "      <td>D1</td>\n",
       "      <td>-0.5138</td>\n",
       "      <td>-0.2491</td>\n",
       "      <td>-0.2656</td>\n",
       "      <td>0.5288</td>\n",
       "      <td>4.0620</td>\n",
       "      <td>-0.8095</td>\n",
       "      <td>...</td>\n",
       "      <td>-2.0990</td>\n",
       "      <td>-0.6441</td>\n",
       "      <td>-5.6300</td>\n",
       "      <td>-1.3780</td>\n",
       "      <td>-0.8632</td>\n",
       "      <td>-1.2880</td>\n",
       "      <td>-1.6210</td>\n",
       "      <td>-0.8784</td>\n",
       "      <td>-0.3876</td>\n",
       "      <td>-0.8154</td>\n",
       "    </tr>\n",
       "    <tr>\n",
       "      <th>4</th>\n",
       "      <td>id_001626bd3</td>\n",
       "      <td>trt_cp</td>\n",
       "      <td>72</td>\n",
       "      <td>D2</td>\n",
       "      <td>-0.3254</td>\n",
       "      <td>-0.4009</td>\n",
       "      <td>0.9700</td>\n",
       "      <td>0.6919</td>\n",
       "      <td>1.4180</td>\n",
       "      <td>-0.8244</td>\n",
       "      <td>...</td>\n",
       "      <td>0.0042</td>\n",
       "      <td>0.0048</td>\n",
       "      <td>0.6670</td>\n",
       "      <td>1.0690</td>\n",
       "      <td>0.5523</td>\n",
       "      <td>-0.3031</td>\n",
       "      <td>0.1094</td>\n",
       "      <td>0.2885</td>\n",
       "      <td>-0.3786</td>\n",
       "      <td>0.7125</td>\n",
       "    </tr>\n",
       "  </tbody>\n",
       "</table>\n",
       "<p>5 rows × 876 columns</p>\n",
       "</div>"
      ],
      "text/plain": [
       "         sig_id cp_type  cp_time cp_dose     g-0     g-1     g-2     g-3  \\\n",
       "0  id_000644bb2  trt_cp       24      D1  1.0620  0.5577 -0.2479 -0.6208   \n",
       "1  id_000779bfc  trt_cp       72      D1  0.0743  0.4087  0.2991  0.0604   \n",
       "2  id_000a6266a  trt_cp       48      D1  0.6280  0.5817  1.5540 -0.0764   \n",
       "3  id_0015fd391  trt_cp       48      D1 -0.5138 -0.2491 -0.2656  0.5288   \n",
       "4  id_001626bd3  trt_cp       72      D2 -0.3254 -0.4009  0.9700  0.6919   \n",
       "\n",
       "      g-4     g-5  ...    c-90    c-91    c-92    c-93    c-94    c-95  \\\n",
       "0 -0.1944 -1.0120  ...  0.2862  0.2584  0.8076  0.5523 -0.1912  0.6584   \n",
       "1  1.0190  0.5207  ... -0.4265  0.7543  0.4708  0.0230  0.2957  0.4899   \n",
       "2 -0.0323  1.2390  ... -0.7250 -0.6297  0.6103  0.0223 -1.3240 -0.3174   \n",
       "3  4.0620 -0.8095  ... -2.0990 -0.6441 -5.6300 -1.3780 -0.8632 -1.2880   \n",
       "4  1.4180 -0.8244  ...  0.0042  0.0048  0.6670  1.0690  0.5523 -0.3031   \n",
       "\n",
       "     c-96    c-97    c-98    c-99  \n",
       "0 -0.3981  0.2139  0.3801  0.4176  \n",
       "1  0.1522  0.1241  0.6077  0.7371  \n",
       "2 -0.6417 -0.2187 -1.4080  0.6931  \n",
       "3 -1.6210 -0.8784 -0.3876 -0.8154  \n",
       "4  0.1094  0.2885 -0.3786  0.7125  \n",
       "\n",
       "[5 rows x 876 columns]"
      ]
     },
     "execution_count": 10,
     "metadata": {},
     "output_type": "execute_result"
    }
   ],
   "source": [
    "train.head()"
   ]
  },
  {
   "cell_type": "code",
   "execution_count": 11,
   "metadata": {
    "execution": {
     "iopub.execute_input": "2020-10-23T20:51:42.064885Z",
     "iopub.status.busy": "2020-10-23T20:51:42.062840Z",
     "iopub.status.idle": "2020-10-23T20:51:42.069942Z",
     "shell.execute_reply": "2020-10-23T20:51:42.069322Z"
    },
    "papermill": {
     "duration": 0.039214,
     "end_time": "2020-10-23T20:51:42.070090",
     "exception": false,
     "start_time": "2020-10-23T20:51:42.030876",
     "status": "completed"
    },
    "tags": []
   },
   "outputs": [
    {
     "data": {
      "text/plain": [
       "Index(['sig_id', 'cp_type', 'cp_dose'], dtype='object')"
      ]
     },
     "execution_count": 11,
     "metadata": {},
     "output_type": "execute_result"
    }
   ],
   "source": [
    "train.select_dtypes(include=['object']).columns"
   ]
  },
  {
   "cell_type": "code",
   "execution_count": 12,
   "metadata": {
    "execution": {
     "iopub.execute_input": "2020-10-23T20:51:42.123074Z",
     "iopub.status.busy": "2020-10-23T20:51:42.121903Z",
     "iopub.status.idle": "2020-10-23T20:51:42.393322Z",
     "shell.execute_reply": "2020-10-23T20:51:42.392639Z"
    },
    "papermill": {
     "duration": 0.300519,
     "end_time": "2020-10-23T20:51:42.393446",
     "exception": false,
     "start_time": "2020-10-23T20:51:42.092927",
     "status": "completed"
    },
    "tags": []
   },
   "outputs": [],
   "source": [
    "train, test = label_encoding(train, test, ['cp_type', 'cp_dose'])"
   ]
  },
  {
   "cell_type": "code",
   "execution_count": 13,
   "metadata": {
    "execution": {
     "iopub.execute_input": "2020-10-23T20:51:42.469090Z",
     "iopub.status.busy": "2020-10-23T20:51:42.458769Z",
     "iopub.status.idle": "2020-10-23T20:51:42.474063Z",
     "shell.execute_reply": "2020-10-23T20:51:42.473336Z"
    },
    "papermill": {
     "duration": 0.05777,
     "end_time": "2020-10-23T20:51:42.474184",
     "exception": false,
     "start_time": "2020-10-23T20:51:42.416414",
     "status": "completed"
    },
    "tags": []
   },
   "outputs": [
    {
     "data": {
      "text/html": [
       "<div>\n",
       "<style scoped>\n",
       "    .dataframe tbody tr th:only-of-type {\n",
       "        vertical-align: middle;\n",
       "    }\n",
       "\n",
       "    .dataframe tbody tr th {\n",
       "        vertical-align: top;\n",
       "    }\n",
       "\n",
       "    .dataframe thead th {\n",
       "        text-align: right;\n",
       "    }\n",
       "</style>\n",
       "<table border=\"1\" class=\"dataframe\">\n",
       "  <thead>\n",
       "    <tr style=\"text-align: right;\">\n",
       "      <th></th>\n",
       "      <th>sig_id</th>\n",
       "      <th>cp_type</th>\n",
       "      <th>cp_time</th>\n",
       "      <th>cp_dose</th>\n",
       "      <th>g-0</th>\n",
       "      <th>g-1</th>\n",
       "      <th>g-2</th>\n",
       "      <th>g-3</th>\n",
       "      <th>g-4</th>\n",
       "      <th>g-5</th>\n",
       "      <th>...</th>\n",
       "      <th>c-90</th>\n",
       "      <th>c-91</th>\n",
       "      <th>c-92</th>\n",
       "      <th>c-93</th>\n",
       "      <th>c-94</th>\n",
       "      <th>c-95</th>\n",
       "      <th>c-96</th>\n",
       "      <th>c-97</th>\n",
       "      <th>c-98</th>\n",
       "      <th>c-99</th>\n",
       "    </tr>\n",
       "  </thead>\n",
       "  <tbody>\n",
       "    <tr>\n",
       "      <th>0</th>\n",
       "      <td>id_000644bb2</td>\n",
       "      <td>1</td>\n",
       "      <td>24</td>\n",
       "      <td>0</td>\n",
       "      <td>1.0620</td>\n",
       "      <td>0.5577</td>\n",
       "      <td>-0.2479</td>\n",
       "      <td>-0.6208</td>\n",
       "      <td>-0.1944</td>\n",
       "      <td>-1.0120</td>\n",
       "      <td>...</td>\n",
       "      <td>0.2862</td>\n",
       "      <td>0.2584</td>\n",
       "      <td>0.8076</td>\n",
       "      <td>0.5523</td>\n",
       "      <td>-0.1912</td>\n",
       "      <td>0.6584</td>\n",
       "      <td>-0.3981</td>\n",
       "      <td>0.2139</td>\n",
       "      <td>0.3801</td>\n",
       "      <td>0.4176</td>\n",
       "    </tr>\n",
       "    <tr>\n",
       "      <th>1</th>\n",
       "      <td>id_000779bfc</td>\n",
       "      <td>1</td>\n",
       "      <td>72</td>\n",
       "      <td>0</td>\n",
       "      <td>0.0743</td>\n",
       "      <td>0.4087</td>\n",
       "      <td>0.2991</td>\n",
       "      <td>0.0604</td>\n",
       "      <td>1.0190</td>\n",
       "      <td>0.5207</td>\n",
       "      <td>...</td>\n",
       "      <td>-0.4265</td>\n",
       "      <td>0.7543</td>\n",
       "      <td>0.4708</td>\n",
       "      <td>0.0230</td>\n",
       "      <td>0.2957</td>\n",
       "      <td>0.4899</td>\n",
       "      <td>0.1522</td>\n",
       "      <td>0.1241</td>\n",
       "      <td>0.6077</td>\n",
       "      <td>0.7371</td>\n",
       "    </tr>\n",
       "    <tr>\n",
       "      <th>2</th>\n",
       "      <td>id_000a6266a</td>\n",
       "      <td>1</td>\n",
       "      <td>48</td>\n",
       "      <td>0</td>\n",
       "      <td>0.6280</td>\n",
       "      <td>0.5817</td>\n",
       "      <td>1.5540</td>\n",
       "      <td>-0.0764</td>\n",
       "      <td>-0.0323</td>\n",
       "      <td>1.2390</td>\n",
       "      <td>...</td>\n",
       "      <td>-0.7250</td>\n",
       "      <td>-0.6297</td>\n",
       "      <td>0.6103</td>\n",
       "      <td>0.0223</td>\n",
       "      <td>-1.3240</td>\n",
       "      <td>-0.3174</td>\n",
       "      <td>-0.6417</td>\n",
       "      <td>-0.2187</td>\n",
       "      <td>-1.4080</td>\n",
       "      <td>0.6931</td>\n",
       "    </tr>\n",
       "    <tr>\n",
       "      <th>3</th>\n",
       "      <td>id_0015fd391</td>\n",
       "      <td>1</td>\n",
       "      <td>48</td>\n",
       "      <td>0</td>\n",
       "      <td>-0.5138</td>\n",
       "      <td>-0.2491</td>\n",
       "      <td>-0.2656</td>\n",
       "      <td>0.5288</td>\n",
       "      <td>4.0620</td>\n",
       "      <td>-0.8095</td>\n",
       "      <td>...</td>\n",
       "      <td>-2.0990</td>\n",
       "      <td>-0.6441</td>\n",
       "      <td>-5.6300</td>\n",
       "      <td>-1.3780</td>\n",
       "      <td>-0.8632</td>\n",
       "      <td>-1.2880</td>\n",
       "      <td>-1.6210</td>\n",
       "      <td>-0.8784</td>\n",
       "      <td>-0.3876</td>\n",
       "      <td>-0.8154</td>\n",
       "    </tr>\n",
       "    <tr>\n",
       "      <th>4</th>\n",
       "      <td>id_001626bd3</td>\n",
       "      <td>1</td>\n",
       "      <td>72</td>\n",
       "      <td>1</td>\n",
       "      <td>-0.3254</td>\n",
       "      <td>-0.4009</td>\n",
       "      <td>0.9700</td>\n",
       "      <td>0.6919</td>\n",
       "      <td>1.4180</td>\n",
       "      <td>-0.8244</td>\n",
       "      <td>...</td>\n",
       "      <td>0.0042</td>\n",
       "      <td>0.0048</td>\n",
       "      <td>0.6670</td>\n",
       "      <td>1.0690</td>\n",
       "      <td>0.5523</td>\n",
       "      <td>-0.3031</td>\n",
       "      <td>0.1094</td>\n",
       "      <td>0.2885</td>\n",
       "      <td>-0.3786</td>\n",
       "      <td>0.7125</td>\n",
       "    </tr>\n",
       "  </tbody>\n",
       "</table>\n",
       "<p>5 rows × 876 columns</p>\n",
       "</div>"
      ],
      "text/plain": [
       "         sig_id  cp_type  cp_time  cp_dose     g-0     g-1     g-2     g-3  \\\n",
       "0  id_000644bb2        1       24        0  1.0620  0.5577 -0.2479 -0.6208   \n",
       "1  id_000779bfc        1       72        0  0.0743  0.4087  0.2991  0.0604   \n",
       "2  id_000a6266a        1       48        0  0.6280  0.5817  1.5540 -0.0764   \n",
       "3  id_0015fd391        1       48        0 -0.5138 -0.2491 -0.2656  0.5288   \n",
       "4  id_001626bd3        1       72        1 -0.3254 -0.4009  0.9700  0.6919   \n",
       "\n",
       "      g-4     g-5  ...    c-90    c-91    c-92    c-93    c-94    c-95  \\\n",
       "0 -0.1944 -1.0120  ...  0.2862  0.2584  0.8076  0.5523 -0.1912  0.6584   \n",
       "1  1.0190  0.5207  ... -0.4265  0.7543  0.4708  0.0230  0.2957  0.4899   \n",
       "2 -0.0323  1.2390  ... -0.7250 -0.6297  0.6103  0.0223 -1.3240 -0.3174   \n",
       "3  4.0620 -0.8095  ... -2.0990 -0.6441 -5.6300 -1.3780 -0.8632 -1.2880   \n",
       "4  1.4180 -0.8244  ...  0.0042  0.0048  0.6670  1.0690  0.5523 -0.3031   \n",
       "\n",
       "     c-96    c-97    c-98    c-99  \n",
       "0 -0.3981  0.2139  0.3801  0.4176  \n",
       "1  0.1522  0.1241  0.6077  0.7371  \n",
       "2 -0.6417 -0.2187 -1.4080  0.6931  \n",
       "3 -1.6210 -0.8784 -0.3876 -0.8154  \n",
       "4  0.1094  0.2885 -0.3786  0.7125  \n",
       "\n",
       "[5 rows x 876 columns]"
      ]
     },
     "execution_count": 13,
     "metadata": {},
     "output_type": "execute_result"
    }
   ],
   "source": [
    "train.head()"
   ]
  },
  {
   "cell_type": "markdown",
   "metadata": {
    "papermill": {
     "duration": 0.023428,
     "end_time": "2020-10-23T20:51:42.521442",
     "exception": false,
     "start_time": "2020-10-23T20:51:42.498014",
     "status": "completed"
    },
    "tags": []
   },
   "source": [
    "# Modeling"
   ]
  },
  {
   "cell_type": "code",
   "execution_count": 14,
   "metadata": {
    "execution": {
     "iopub.execute_input": "2020-10-23T20:51:42.579211Z",
     "iopub.status.busy": "2020-10-23T20:51:42.578357Z",
     "iopub.status.idle": "2020-10-23T20:51:42.595815Z",
     "shell.execute_reply": "2020-10-23T20:51:42.595000Z"
    },
    "papermill": {
     "duration": 0.050086,
     "end_time": "2020-10-23T20:51:42.595946",
     "exception": false,
     "start_time": "2020-10-23T20:51:42.545860",
     "status": "completed"
    },
    "tags": []
   },
   "outputs": [],
   "source": [
    "cv = StratifiedKFold(n_splits=N_FOLD, shuffle=True, random_state=SEED)\n",
    "\n",
    "params = {\n",
    "    'objective': 'binary',\n",
    "    'learning_rate': Learning_rate,\n",
    "    'num_threads': 2,\n",
    "    'verbose': -1,\n",
    "    'max_depth': Max_depth,\n",
    "    'num_leaves': int((Max_depth**2)*0.7),\n",
    "    'feature_fraction':0.7, # randomly select part of features on each iteration\n",
    "    'lambda_l1':0.1,\n",
    "    'lambda_l2':0.1\n",
    "\n",
    "}\n",
    "\n",
    "categorical_cols = ['cp_type', 'cp_dose']\n",
    "oof = train_targets_scored.copy()\n",
    "feature_importance_df = pd.DataFrame()\n",
    "models = []\n",
    "scores = []"
   ]
  },
  {
   "cell_type": "code",
   "execution_count": 15,
   "metadata": {
    "execution": {
     "iopub.execute_input": "2020-10-23T20:51:42.675657Z",
     "iopub.status.busy": "2020-10-23T20:51:42.652541Z",
     "iopub.status.idle": "2020-10-24T00:06:59.130810Z",
     "shell.execute_reply": "2020-10-24T00:06:59.128683Z"
    },
    "papermill": {
     "duration": 11716.511242,
     "end_time": "2020-10-24T00:06:59.131235",
     "exception": false,
     "start_time": "2020-10-23T20:51:42.619993",
     "status": "completed"
    },
    "tags": []
   },
   "outputs": [
    {
     "data": {
      "application/vnd.jupyter.widget-view+json": {
       "model_id": "e922dc2bb8f644f6ba765503743b41b4",
       "version_major": 2,
       "version_minor": 0
      },
      "text/plain": [
       "HBox(children=(FloatProgress(value=0.0, max=206.0), HTML(value='')))"
      ]
     },
     "metadata": {},
     "output_type": "display_data"
    },
    {
     "name": "stderr",
     "output_type": "stream",
     "text": [
      "================================= fold 1/4 5-alpha_reductase_inhibitor=================================\n"
     ]
    },
    {
     "name": "stdout",
     "output_type": "stream",
     "text": [
      "Training until validation scores don't improve for 50 rounds\n"
     ]
    },
    {
     "name": "stderr",
     "output_type": "stream",
     "text": [
      "================================= fold 2/4 5-alpha_reductase_inhibitor=================================\n"
     ]
    },
    {
     "name": "stdout",
     "output_type": "stream",
     "text": [
      "Early stopping, best iteration is:\n",
      "[1]\ttraining's binary_logloss: 0.00572725\tvalid_1's binary_logloss: 0.00558305\n",
      "Training until validation scores don't improve for 50 rounds\n"
     ]
    },
    {
     "name": "stderr",
     "output_type": "stream",
     "text": [
      "================================= fold 3/4 5-alpha_reductase_inhibitor=================================\n"
     ]
    },
    {
     "name": "stdout",
     "output_type": "stream",
     "text": [
      "Early stopping, best iteration is:\n",
      "[1]\ttraining's binary_logloss: 0.00535447\tvalid_1's binary_logloss: 0.00680933\n",
      "Training until validation scores don't improve for 50 rounds\n"
     ]
    },
    {
     "name": "stderr",
     "output_type": "stream",
     "text": [
      "================================= fold 4/4 5-alpha_reductase_inhibitor=================================\n"
     ]
    },
    {
     "name": "stdout",
     "output_type": "stream",
     "text": [
      "Early stopping, best iteration is:\n",
      "[1]\ttraining's binary_logloss: 0.00560772\tvalid_1's binary_logloss: 0.00558342\n",
      "Training until validation scores don't improve for 50 rounds\n",
      "[100]\ttraining's binary_logloss: 0.000818529\tvalid_1's binary_logloss: 0.00561327\n"
     ]
    },
    {
     "name": "stderr",
     "output_type": "stream",
     "text": [
      "5-alpha_reductase_inhibitor logloss: 0.005883538409972169\n",
      "=========================================================================================\n"
     ]
    },
    {
     "name": "stdout",
     "output_type": "stream",
     "text": [
      "Early stopping, best iteration is:\n",
      "[66]\ttraining's binary_logloss: 0.00122792\tvalid_1's binary_logloss: 0.00555825\n"
     ]
    },
    {
     "name": "stderr",
     "output_type": "stream",
     "text": [
      "================================= fold 1/4 11-beta-hsd1_inhibitor=================================\n"
     ]
    },
    {
     "name": "stdout",
     "output_type": "stream",
     "text": [
      "Training until validation scores don't improve for 50 rounds\n",
      "Early stopping, best iteration is:\n",
      "[1]\ttraining's binary_logloss: 0.00573248\tvalid_1's binary_logloss: 0.00679843\n"
     ]
    },
    {
     "name": "stderr",
     "output_type": "stream",
     "text": [
      "================================= fold 2/4 11-beta-hsd1_inhibitor=================================\n"
     ]
    },
    {
     "name": "stdout",
     "output_type": "stream",
     "text": [
      "Training until validation scores don't improve for 50 rounds\n",
      "Early stopping, best iteration is:\n",
      "[3]\ttraining's binary_logloss: 0.00516679\tvalid_1's binary_logloss: 0.0067138\n"
     ]
    },
    {
     "name": "stderr",
     "output_type": "stream",
     "text": [
      "================================= fold 3/4 11-beta-hsd1_inhibitor=================================\n"
     ]
    },
    {
     "name": "stdout",
     "output_type": "stream",
     "text": [
      "Training until validation scores don't improve for 50 rounds\n",
      "[100]\ttraining's binary_logloss: 0.000924484\tvalid_1's binary_logloss: 0.00538709\n",
      "Early stopping, best iteration is:\n",
      "[78]\ttraining's binary_logloss: 0.00117494\tvalid_1's binary_logloss: 0.00537344\n"
     ]
    },
    {
     "name": "stderr",
     "output_type": "stream",
     "text": [
      "================================= fold 4/4 11-beta-hsd1_inhibitor=================================\n"
     ]
    },
    {
     "name": "stdout",
     "output_type": "stream",
     "text": [
      "Training until validation scores don't improve for 50 rounds\n"
     ]
    },
    {
     "name": "stderr",
     "output_type": "stream",
     "text": [
      "11-beta-hsd1_inhibitor logloss: 0.0061188996863396315\n",
      "=========================================================================================\n"
     ]
    },
    {
     "name": "stdout",
     "output_type": "stream",
     "text": [
      "Early stopping, best iteration is:\n",
      "[1]\ttraining's binary_logloss: 0.00608806\tvalid_1's binary_logloss: 0.00558971\n"
     ]
    },
    {
     "name": "stderr",
     "output_type": "stream",
     "text": [
      "================================= fold 1/4 acat_inhibitor=================================\n"
     ]
    },
    {
     "name": "stdout",
     "output_type": "stream",
     "text": [
      "Training until validation scores don't improve for 50 rounds\n",
      "Early stopping, best iteration is:\n",
      "[1]\ttraining's binary_logloss: 0.00769575\tvalid_1's binary_logloss: 0.0079631\n"
     ]
    },
    {
     "name": "stderr",
     "output_type": "stream",
     "text": [
      "================================= fold 2/4 acat_inhibitor=================================\n"
     ]
    },
    {
     "name": "stdout",
     "output_type": "stream",
     "text": [
      "Training until validation scores don't improve for 50 rounds\n",
      "Early stopping, best iteration is:\n",
      "[1]\ttraining's binary_logloss: 0.00772395\tvalid_1's binary_logloss: 0.00795256\n"
     ]
    },
    {
     "name": "stderr",
     "output_type": "stream",
     "text": [
      "================================= fold 3/4 acat_inhibitor=================================\n"
     ]
    },
    {
     "name": "stdout",
     "output_type": "stream",
     "text": [
      "Training until validation scores don't improve for 50 rounds\n",
      "Early stopping, best iteration is:\n",
      "[23]\ttraining's binary_logloss: 0.00359109\tvalid_1's binary_logloss: 0.00792773\n"
     ]
    },
    {
     "name": "stderr",
     "output_type": "stream",
     "text": [
      "================================= fold 4/4 acat_inhibitor=================================\n"
     ]
    },
    {
     "name": "stdout",
     "output_type": "stream",
     "text": [
      "Training until validation scores don't improve for 50 rounds\n"
     ]
    },
    {
     "name": "stderr",
     "output_type": "stream",
     "text": [
      "acat_inhibitor logloss: 0.007952185172731458\n",
      "=========================================================================================\n"
     ]
    },
    {
     "name": "stdout",
     "output_type": "stream",
     "text": [
      "Early stopping, best iteration is:\n",
      "[1]\ttraining's binary_logloss: 0.00773679\tvalid_1's binary_logloss: 0.00796535\n"
     ]
    },
    {
     "name": "stderr",
     "output_type": "stream",
     "text": [
      "================================= fold 1/4 acetylcholine_receptor_agonist=================================\n"
     ]
    },
    {
     "name": "stdout",
     "output_type": "stream",
     "text": [
      "Training until validation scores don't improve for 50 rounds\n",
      "[100]\ttraining's binary_logloss: 0.0192112\tvalid_1's binary_logloss: 0.0460224\n",
      "Early stopping, best iteration is:\n",
      "[121]\ttraining's binary_logloss: 0.0169006\tvalid_1's binary_logloss: 0.0459152\n"
     ]
    },
    {
     "name": "stderr",
     "output_type": "stream",
     "text": [
      "================================= fold 2/4 acetylcholine_receptor_agonist=================================\n"
     ]
    },
    {
     "name": "stdout",
     "output_type": "stream",
     "text": [
      "Training until validation scores don't improve for 50 rounds\n",
      "[100]\ttraining's binary_logloss: 0.0196487\tvalid_1's binary_logloss: 0.0457243\n",
      "Early stopping, best iteration is:\n",
      "[117]\ttraining's binary_logloss: 0.017676\tvalid_1's binary_logloss: 0.0455648\n"
     ]
    },
    {
     "name": "stderr",
     "output_type": "stream",
     "text": [
      "================================= fold 3/4 acetylcholine_receptor_agonist=================================\n"
     ]
    },
    {
     "name": "stdout",
     "output_type": "stream",
     "text": [
      "Training until validation scores don't improve for 50 rounds\n",
      "[100]\ttraining's binary_logloss: 0.0197812\tvalid_1's binary_logloss: 0.0450673\n",
      "Early stopping, best iteration is:\n",
      "[113]\ttraining's binary_logloss: 0.0183166\tvalid_1's binary_logloss: 0.0450554\n"
     ]
    },
    {
     "name": "stderr",
     "output_type": "stream",
     "text": [
      "================================= fold 4/4 acetylcholine_receptor_agonist=================================\n"
     ]
    },
    {
     "name": "stdout",
     "output_type": "stream",
     "text": [
      "Training until validation scores don't improve for 50 rounds\n",
      "[100]\ttraining's binary_logloss: 0.0196444\tvalid_1's binary_logloss: 0.0452406\n",
      "Early stopping, best iteration is:\n",
      "[108]\ttraining's binary_logloss: 0.0186856\tvalid_1's binary_logloss: 0.0451496\n"
     ]
    },
    {
     "name": "stderr",
     "output_type": "stream",
     "text": [
      "acetylcholine_receptor_agonist logloss: 0.045421272962520465\n",
      "=========================================================================================\n",
      "================================= fold 1/4 acetylcholine_receptor_antagonist=================================\n"
     ]
    },
    {
     "name": "stdout",
     "output_type": "stream",
     "text": [
      "Training until validation scores don't improve for 50 rounds\n",
      "[100]\ttraining's binary_logloss: 0.0360671\tvalid_1's binary_logloss: 0.0667552\n",
      "[200]\ttraining's binary_logloss: 0.0243426\tvalid_1's binary_logloss: 0.0666765\n",
      "Early stopping, best iteration is:\n",
      "[181]\ttraining's binary_logloss: 0.0260565\tvalid_1's binary_logloss: 0.0666092\n"
     ]
    },
    {
     "name": "stderr",
     "output_type": "stream",
     "text": [
      "================================= fold 2/4 acetylcholine_receptor_antagonist=================================\n"
     ]
    },
    {
     "name": "stdout",
     "output_type": "stream",
     "text": [
      "Training until validation scores don't improve for 50 rounds\n",
      "[100]\ttraining's binary_logloss: 0.0371105\tvalid_1's binary_logloss: 0.0669036\n",
      "Early stopping, best iteration is:\n",
      "[119]\ttraining's binary_logloss: 0.0343554\tvalid_1's binary_logloss: 0.0667035\n"
     ]
    },
    {
     "name": "stderr",
     "output_type": "stream",
     "text": [
      "================================= fold 3/4 acetylcholine_receptor_antagonist=================================\n"
     ]
    },
    {
     "name": "stdout",
     "output_type": "stream",
     "text": [
      "Training until validation scores don't improve for 50 rounds\n",
      "[100]\ttraining's binary_logloss: 0.0372286\tvalid_1's binary_logloss: 0.0662949\n",
      "[200]\ttraining's binary_logloss: 0.0251898\tvalid_1's binary_logloss: 0.0660179\n",
      "Early stopping, best iteration is:\n",
      "[155]\ttraining's binary_logloss: 0.0297538\tvalid_1's binary_logloss: 0.0658669\n"
     ]
    },
    {
     "name": "stderr",
     "output_type": "stream",
     "text": [
      "================================= fold 4/4 acetylcholine_receptor_antagonist=================================\n"
     ]
    },
    {
     "name": "stdout",
     "output_type": "stream",
     "text": [
      "Training until validation scores don't improve for 50 rounds\n",
      "[100]\ttraining's binary_logloss: 0.0373447\tvalid_1's binary_logloss: 0.0657521\n",
      "[200]\ttraining's binary_logloss: 0.0252181\tvalid_1's binary_logloss: 0.065362\n",
      "Early stopping, best iteration is:\n",
      "[180]\ttraining's binary_logloss: 0.0271979\tvalid_1's binary_logloss: 0.0653182\n"
     ]
    },
    {
     "name": "stderr",
     "output_type": "stream",
     "text": [
      "acetylcholine_receptor_antagonist logloss: 0.06612446189765062\n",
      "=========================================================================================\n",
      "================================= fold 1/4 acetylcholinesterase_inhibitor=================================\n"
     ]
    },
    {
     "name": "stdout",
     "output_type": "stream",
     "text": [
      "Training until validation scores don't improve for 50 rounds\n",
      "Early stopping, best iteration is:\n",
      "[39]\ttraining's binary_logloss: 0.00837168\tvalid_1's binary_logloss: 0.0205231\n"
     ]
    },
    {
     "name": "stderr",
     "output_type": "stream",
     "text": [
      "================================= fold 2/4 acetylcholinesterase_inhibitor=================================\n"
     ]
    },
    {
     "name": "stdout",
     "output_type": "stream",
     "text": [
      "Training until validation scores don't improve for 50 rounds\n",
      "Early stopping, best iteration is:\n",
      "[1]\ttraining's binary_logloss: 0.0200411\tvalid_1's binary_logloss: 0.021542\n"
     ]
    },
    {
     "name": "stderr",
     "output_type": "stream",
     "text": [
      "================================= fold 3/4 acetylcholinesterase_inhibitor=================================\n"
     ]
    },
    {
     "name": "stdout",
     "output_type": "stream",
     "text": [
      "Training until validation scores don't improve for 50 rounds\n",
      "Early stopping, best iteration is:\n",
      "[1]\ttraining's binary_logloss: 0.0203146\tvalid_1's binary_logloss: 0.0205702\n"
     ]
    },
    {
     "name": "stderr",
     "output_type": "stream",
     "text": [
      "================================= fold 4/4 acetylcholinesterase_inhibitor=================================\n"
     ]
    },
    {
     "name": "stdout",
     "output_type": "stream",
     "text": [
      "Training until validation scores don't improve for 50 rounds\n"
     ]
    },
    {
     "name": "stderr",
     "output_type": "stream",
     "text": [
      "acetylcholinesterase_inhibitor logloss: 0.020784410563797543\n",
      "=========================================================================================\n"
     ]
    },
    {
     "name": "stdout",
     "output_type": "stream",
     "text": [
      "Early stopping, best iteration is:\n",
      "[4]\ttraining's binary_logloss: 0.0184784\tvalid_1's binary_logloss: 0.0205023\n"
     ]
    },
    {
     "name": "stderr",
     "output_type": "stream",
     "text": [
      "================================= fold 1/4 adenosine_receptor_agonist=================================\n"
     ]
    },
    {
     "name": "stdout",
     "output_type": "stream",
     "text": [
      "Training until validation scores don't improve for 50 rounds\n",
      "Early stopping, best iteration is:\n",
      "[4]\ttraining's binary_logloss: 0.0136969\tvalid_1's binary_logloss: 0.0165421\n"
     ]
    },
    {
     "name": "stderr",
     "output_type": "stream",
     "text": [
      "================================= fold 2/4 adenosine_receptor_agonist=================================\n"
     ]
    },
    {
     "name": "stdout",
     "output_type": "stream",
     "text": [
      "Training until validation scores don't improve for 50 rounds\n",
      "Early stopping, best iteration is:\n",
      "[6]\ttraining's binary_logloss: 0.0128521\tvalid_1's binary_logloss: 0.0165286\n"
     ]
    },
    {
     "name": "stderr",
     "output_type": "stream",
     "text": [
      "================================= fold 3/4 adenosine_receptor_agonist=================================\n"
     ]
    },
    {
     "name": "stdout",
     "output_type": "stream",
     "text": [
      "Training until validation scores don't improve for 50 rounds\n",
      "Early stopping, best iteration is:\n",
      "[43]\ttraining's binary_logloss: 0.00610932\tvalid_1's binary_logloss: 0.0155542\n"
     ]
    },
    {
     "name": "stderr",
     "output_type": "stream",
     "text": [
      "================================= fold 4/4 adenosine_receptor_agonist=================================\n"
     ]
    },
    {
     "name": "stdout",
     "output_type": "stream",
     "text": [
      "Training until validation scores don't improve for 50 rounds\n"
     ]
    },
    {
     "name": "stderr",
     "output_type": "stream",
     "text": [
      "adenosine_receptor_agonist logloss: 0.01603661101849715\n",
      "=========================================================================================\n"
     ]
    },
    {
     "name": "stdout",
     "output_type": "stream",
     "text": [
      "Early stopping, best iteration is:\n",
      "[43]\ttraining's binary_logloss: 0.00577188\tvalid_1's binary_logloss: 0.0155214\n"
     ]
    },
    {
     "name": "stderr",
     "output_type": "stream",
     "text": [
      "================================= fold 1/4 adenosine_receptor_antagonist=================================\n"
     ]
    },
    {
     "name": "stdout",
     "output_type": "stream",
     "text": [
      "Training until validation scores don't improve for 50 rounds\n",
      "Early stopping, best iteration is:\n",
      "[1]\ttraining's binary_logloss: 0.0254632\tvalid_1's binary_logloss: 0.0262444\n"
     ]
    },
    {
     "name": "stderr",
     "output_type": "stream",
     "text": [
      "================================= fold 2/4 adenosine_receptor_antagonist=================================\n"
     ]
    },
    {
     "name": "stdout",
     "output_type": "stream",
     "text": [
      "Training until validation scores don't improve for 50 rounds\n",
      "[100]\ttraining's binary_logloss: 0.00616733\tvalid_1's binary_logloss: 0.0259396\n",
      "Early stopping, best iteration is:\n",
      "[60]\ttraining's binary_logloss: 0.00910651\tvalid_1's binary_logloss: 0.0259368\n"
     ]
    },
    {
     "name": "stderr",
     "output_type": "stream",
     "text": [
      "================================= fold 3/4 adenosine_receptor_antagonist=================================\n"
     ]
    },
    {
     "name": "stdout",
     "output_type": "stream",
     "text": [
      "Training until validation scores don't improve for 50 rounds\n",
      "Early stopping, best iteration is:\n",
      "[7]\ttraining's binary_logloss: 0.0225422\tvalid_1's binary_logloss: 0.0261815\n"
     ]
    },
    {
     "name": "stderr",
     "output_type": "stream",
     "text": [
      "================================= fold 4/4 adenosine_receptor_antagonist=================================\n"
     ]
    },
    {
     "name": "stdout",
     "output_type": "stream",
     "text": [
      "Training until validation scores don't improve for 50 rounds\n"
     ]
    },
    {
     "name": "stderr",
     "output_type": "stream",
     "text": [
      "adenosine_receptor_antagonist logloss: 0.026125281585716996\n",
      "=========================================================================================\n"
     ]
    },
    {
     "name": "stdout",
     "output_type": "stream",
     "text": [
      "Early stopping, best iteration is:\n",
      "[21]\ttraining's binary_logloss: 0.0162735\tvalid_1's binary_logloss: 0.0261384\n"
     ]
    },
    {
     "name": "stderr",
     "output_type": "stream",
     "text": [
      "================================= fold 1/4 adenylyl_cyclase_activator=================================\n"
     ]
    },
    {
     "name": "stdout",
     "output_type": "stream",
     "text": [
      "Training until validation scores don't improve for 50 rounds\n",
      "[100]\ttraining's binary_logloss: 0.000551235\tvalid_1's binary_logloss: 0.00315626\n",
      "[200]\ttraining's binary_logloss: 0.00020879\tvalid_1's binary_logloss: 0.0030984\n",
      "Early stopping, best iteration is:\n",
      "[220]\ttraining's binary_logloss: 0.000176722\tvalid_1's binary_logloss: 0.00308811\n"
     ]
    },
    {
     "name": "stderr",
     "output_type": "stream",
     "text": [
      "================================= fold 2/4 adenylyl_cyclase_activator=================================\n"
     ]
    },
    {
     "name": "stdout",
     "output_type": "stream",
     "text": [
      "Training until validation scores don't improve for 50 rounds\n",
      "[100]\ttraining's binary_logloss: 0.000523838\tvalid_1's binary_logloss: 0.00394169\n",
      "Early stopping, best iteration is:\n",
      "[73]\ttraining's binary_logloss: 0.000719184\tvalid_1's binary_logloss: 0.00392456\n"
     ]
    },
    {
     "name": "stderr",
     "output_type": "stream",
     "text": [
      "================================= fold 3/4 adenylyl_cyclase_activator=================================\n"
     ]
    },
    {
     "name": "stdout",
     "output_type": "stream",
     "text": [
      "Training until validation scores don't improve for 50 rounds\n",
      "[100]\ttraining's binary_logloss: 0.000524021\tvalid_1's binary_logloss: 0.00345169\n",
      "Early stopping, best iteration is:\n",
      "[74]\ttraining's binary_logloss: 0.000711306\tvalid_1's binary_logloss: 0.00343343\n"
     ]
    },
    {
     "name": "stderr",
     "output_type": "stream",
     "text": [
      "================================= fold 4/4 adenylyl_cyclase_activator=================================\n"
     ]
    },
    {
     "name": "stdout",
     "output_type": "stream",
     "text": [
      "Training until validation scores don't improve for 50 rounds\n",
      "[100]\ttraining's binary_logloss: 0.000556073\tvalid_1's binary_logloss: 0.00309452\n",
      "[200]\ttraining's binary_logloss: 0.000211069\tvalid_1's binary_logloss: 0.00300914\n",
      "[300]\ttraining's binary_logloss: 9.83654e-05\tvalid_1's binary_logloss: 0.00298258\n"
     ]
    },
    {
     "name": "stderr",
     "output_type": "stream",
     "text": [
      "adenylyl_cyclase_activator logloss: 0.003355910195923058\n",
      "=========================================================================================\n"
     ]
    },
    {
     "name": "stdout",
     "output_type": "stream",
     "text": [
      "Early stopping, best iteration is:\n",
      "[279]\ttraining's binary_logloss: 0.000113708\tvalid_1's binary_logloss: 0.00297749\n"
     ]
    },
    {
     "name": "stderr",
     "output_type": "stream",
     "text": [
      "================================= fold 1/4 adrenergic_receptor_agonist=================================\n"
     ]
    },
    {
     "name": "stdout",
     "output_type": "stream",
     "text": [
      "Training until validation scores don't improve for 50 rounds\n",
      "[100]\ttraining's binary_logloss: 0.027286\tvalid_1's binary_logloss: 0.0591443\n",
      "Early stopping, best iteration is:\n",
      "[131]\ttraining's binary_logloss: 0.0233827\tvalid_1's binary_logloss: 0.0590112\n"
     ]
    },
    {
     "name": "stderr",
     "output_type": "stream",
     "text": [
      "================================= fold 2/4 adrenergic_receptor_agonist=================================\n"
     ]
    },
    {
     "name": "stdout",
     "output_type": "stream",
     "text": [
      "Training until validation scores don't improve for 50 rounds\n",
      "[100]\ttraining's binary_logloss: 0.0265725\tvalid_1's binary_logloss: 0.0592313\n",
      "[200]\ttraining's binary_logloss: 0.0159872\tvalid_1's binary_logloss: 0.0591393\n",
      "Early stopping, best iteration is:\n",
      "[171]\ttraining's binary_logloss: 0.0182546\tvalid_1's binary_logloss: 0.0589006\n"
     ]
    },
    {
     "name": "stderr",
     "output_type": "stream",
     "text": [
      "================================= fold 3/4 adrenergic_receptor_agonist=================================\n"
     ]
    },
    {
     "name": "stdout",
     "output_type": "stream",
     "text": [
      "Training until validation scores don't improve for 50 rounds\n",
      "[100]\ttraining's binary_logloss: 0.0271324\tvalid_1's binary_logloss: 0.0592413\n",
      "[200]\ttraining's binary_logloss: 0.0166156\tvalid_1's binary_logloss: 0.0588322\n",
      "Early stopping, best iteration is:\n",
      "[189]\ttraining's binary_logloss: 0.0174709\tvalid_1's binary_logloss: 0.0587861\n"
     ]
    },
    {
     "name": "stderr",
     "output_type": "stream",
     "text": [
      "================================= fold 4/4 adrenergic_receptor_agonist=================================\n"
     ]
    },
    {
     "name": "stdout",
     "output_type": "stream",
     "text": [
      "Training until validation scores don't improve for 50 rounds\n",
      "[100]\ttraining's binary_logloss: 0.0276708\tvalid_1's binary_logloss: 0.0584799\n",
      "[200]\ttraining's binary_logloss: 0.0170574\tvalid_1's binary_logloss: 0.0579319\n",
      "Early stopping, best iteration is:\n",
      "[177]\ttraining's binary_logloss: 0.0189968\tvalid_1's binary_logloss: 0.057868\n"
     ]
    },
    {
     "name": "stderr",
     "output_type": "stream",
     "text": [
      "adrenergic_receptor_agonist logloss: 0.058641504021988124\n",
      "=========================================================================================\n",
      "================================= fold 1/4 adrenergic_receptor_antagonist=================================\n"
     ]
    },
    {
     "name": "stdout",
     "output_type": "stream",
     "text": [
      "Training until validation scores don't improve for 50 rounds\n",
      "[100]\ttraining's binary_logloss: 0.0489415\tvalid_1's binary_logloss: 0.0763816\n",
      "[200]\ttraining's binary_logloss: 0.0333161\tvalid_1's binary_logloss: 0.0760689\n",
      "Early stopping, best iteration is:\n",
      "[156]\ttraining's binary_logloss: 0.0395472\tvalid_1's binary_logloss: 0.0759275\n"
     ]
    },
    {
     "name": "stderr",
     "output_type": "stream",
     "text": [
      "================================= fold 2/4 adrenergic_receptor_antagonist=================================\n"
     ]
    },
    {
     "name": "stdout",
     "output_type": "stream",
     "text": [
      "Training until validation scores don't improve for 50 rounds\n",
      "[100]\ttraining's binary_logloss: 0.0502384\tvalid_1's binary_logloss: 0.0759777\n",
      "[200]\ttraining's binary_logloss: 0.0347994\tvalid_1's binary_logloss: 0.0756299\n",
      "Early stopping, best iteration is:\n",
      "[168]\ttraining's binary_logloss: 0.0389958\tvalid_1's binary_logloss: 0.0754389\n"
     ]
    },
    {
     "name": "stderr",
     "output_type": "stream",
     "text": [
      "================================= fold 3/4 adrenergic_receptor_antagonist=================================\n"
     ]
    },
    {
     "name": "stdout",
     "output_type": "stream",
     "text": [
      "Training until validation scores don't improve for 50 rounds\n",
      "[100]\ttraining's binary_logloss: 0.0509879\tvalid_1's binary_logloss: 0.0756322\n",
      "[200]\ttraining's binary_logloss: 0.0369084\tvalid_1's binary_logloss: 0.0748397\n",
      "Early stopping, best iteration is:\n",
      "[192]\ttraining's binary_logloss: 0.0378053\tvalid_1's binary_logloss: 0.0748171\n"
     ]
    },
    {
     "name": "stderr",
     "output_type": "stream",
     "text": [
      "================================= fold 4/4 adrenergic_receptor_antagonist=================================\n"
     ]
    },
    {
     "name": "stdout",
     "output_type": "stream",
     "text": [
      "Training until validation scores don't improve for 50 rounds\n",
      "[100]\ttraining's binary_logloss: 0.0485226\tvalid_1's binary_logloss: 0.0765763\n",
      "[200]\ttraining's binary_logloss: 0.0338021\tvalid_1's binary_logloss: 0.0759454\n",
      "Early stopping, best iteration is:\n",
      "[170]\ttraining's binary_logloss: 0.037497\tvalid_1's binary_logloss: 0.075853\n"
     ]
    },
    {
     "name": "stderr",
     "output_type": "stream",
     "text": [
      "adrenergic_receptor_antagonist logloss: 0.07550913573764938\n",
      "=========================================================================================\n",
      "================================= fold 1/4 akt_inhibitor=================================\n"
     ]
    },
    {
     "name": "stdout",
     "output_type": "stream",
     "text": [
      "Training until validation scores don't improve for 50 rounds\n",
      "[100]\ttraining's binary_logloss: 0.00311984\tvalid_1's binary_logloss: 0.0155804\n",
      "Early stopping, best iteration is:\n",
      "[143]\ttraining's binary_logloss: 0.00201056\tvalid_1's binary_logloss: 0.0153665\n"
     ]
    },
    {
     "name": "stderr",
     "output_type": "stream",
     "text": [
      "================================= fold 2/4 akt_inhibitor=================================\n"
     ]
    },
    {
     "name": "stdout",
     "output_type": "stream",
     "text": [
      "Training until validation scores don't improve for 50 rounds\n",
      "[100]\ttraining's binary_logloss: 0.00312942\tvalid_1's binary_logloss: 0.0170281\n",
      "Early stopping, best iteration is:\n",
      "[83]\ttraining's binary_logloss: 0.00377496\tvalid_1's binary_logloss: 0.0170121\n"
     ]
    },
    {
     "name": "stderr",
     "output_type": "stream",
     "text": [
      "================================= fold 3/4 akt_inhibitor=================================\n"
     ]
    },
    {
     "name": "stdout",
     "output_type": "stream",
     "text": [
      "Training until validation scores don't improve for 50 rounds\n",
      "[100]\ttraining's binary_logloss: 0.0033266\tvalid_1's binary_logloss: 0.014036\n",
      "[200]\ttraining's binary_logloss: 0.00141675\tvalid_1's binary_logloss: 0.0136036\n",
      "Early stopping, best iteration is:\n",
      "[188]\ttraining's binary_logloss: 0.00156348\tvalid_1's binary_logloss: 0.0135686\n"
     ]
    },
    {
     "name": "stderr",
     "output_type": "stream",
     "text": [
      "================================= fold 4/4 akt_inhibitor=================================\n"
     ]
    },
    {
     "name": "stdout",
     "output_type": "stream",
     "text": [
      "Training until validation scores don't improve for 50 rounds\n",
      "[100]\ttraining's binary_logloss: 0.00318822\tvalid_1's binary_logloss: 0.0153404\n",
      "Early stopping, best iteration is:\n",
      "[130]\ttraining's binary_logloss: 0.00237495\tvalid_1's binary_logloss: 0.0152128\n"
     ]
    },
    {
     "name": "stderr",
     "output_type": "stream",
     "text": [
      "akt_inhibitor logloss: 0.015290087916545948\n",
      "=========================================================================================\n",
      "================================= fold 1/4 aldehyde_dehydrogenase_inhibitor=================================\n"
     ]
    },
    {
     "name": "stdout",
     "output_type": "stream",
     "text": [
      "Training until validation scores don't improve for 50 rounds\n",
      "[100]\ttraining's binary_logloss: 0.000301483\tvalid_1's binary_logloss: 0.0021508\n",
      "[200]\ttraining's binary_logloss: 0.000119728\tvalid_1's binary_logloss: 0.00202463\n",
      "Early stopping, best iteration is:\n",
      "[221]\ttraining's binary_logloss: 0.000101691\tvalid_1's binary_logloss: 0.00202133\n"
     ]
    },
    {
     "name": "stderr",
     "output_type": "stream",
     "text": [
      "================================= fold 2/4 aldehyde_dehydrogenase_inhibitor=================================\n"
     ]
    },
    {
     "name": "stdout",
     "output_type": "stream",
     "text": [
      "Training until validation scores don't improve for 50 rounds\n",
      "[100]\ttraining's binary_logloss: 0.00028721\tvalid_1's binary_logloss: 0.00295394\n",
      "Early stopping, best iteration is:\n",
      "[51]\ttraining's binary_logloss: 0.000519778\tvalid_1's binary_logloss: 0.00293829\n"
     ]
    },
    {
     "name": "stderr",
     "output_type": "stream",
     "text": [
      "================================= fold 3/4 aldehyde_dehydrogenase_inhibitor=================================\n"
     ]
    },
    {
     "name": "stdout",
     "output_type": "stream",
     "text": [
      "Training until validation scores don't improve for 50 rounds\n",
      "[100]\ttraining's binary_logloss: 0.000344001\tvalid_1's binary_logloss: 0.0015597\n",
      "Early stopping, best iteration is:\n",
      "[79]\ttraining's binary_logloss: 0.000436174\tvalid_1's binary_logloss: 0.00155474\n"
     ]
    },
    {
     "name": "stderr",
     "output_type": "stream",
     "text": [
      "================================= fold 4/4 aldehyde_dehydrogenase_inhibitor=================================\n"
     ]
    },
    {
     "name": "stdout",
     "output_type": "stream",
     "text": [
      "Training until validation scores don't improve for 50 rounds\n",
      "[100]\ttraining's binary_logloss: 0.000286611\tvalid_1's binary_logloss: 0.00282824\n"
     ]
    },
    {
     "name": "stderr",
     "output_type": "stream",
     "text": [
      "aldehyde_dehydrogenase_inhibitor logloss: 0.002329723703809661\n",
      "=========================================================================================\n"
     ]
    },
    {
     "name": "stdout",
     "output_type": "stream",
     "text": [
      "Early stopping, best iteration is:\n",
      "[65]\ttraining's binary_logloss: 0.000429729\tvalid_1's binary_logloss: 0.00280449\n"
     ]
    },
    {
     "name": "stderr",
     "output_type": "stream",
     "text": [
      "================================= fold 1/4 alk_inhibitor=================================\n"
     ]
    },
    {
     "name": "stdout",
     "output_type": "stream",
     "text": [
      "Training until validation scores don't improve for 50 rounds\n",
      "[100]\ttraining's binary_logloss: 0.00192547\tvalid_1's binary_logloss: 0.0122739\n",
      "Early stopping, best iteration is:\n",
      "[91]\ttraining's binary_logloss: 0.00211254\tvalid_1's binary_logloss: 0.0122616\n"
     ]
    },
    {
     "name": "stderr",
     "output_type": "stream",
     "text": [
      "================================= fold 2/4 alk_inhibitor=================================\n"
     ]
    },
    {
     "name": "stdout",
     "output_type": "stream",
     "text": [
      "Training until validation scores don't improve for 50 rounds\n",
      "[100]\ttraining's binary_logloss: 0.00189375\tvalid_1's binary_logloss: 0.0125095\n",
      "Early stopping, best iteration is:\n",
      "[82]\ttraining's binary_logloss: 0.00229864\tvalid_1's binary_logloss: 0.012443\n"
     ]
    },
    {
     "name": "stderr",
     "output_type": "stream",
     "text": [
      "================================= fold 3/4 alk_inhibitor=================================\n"
     ]
    },
    {
     "name": "stdout",
     "output_type": "stream",
     "text": [
      "Training until validation scores don't improve for 50 rounds\n",
      "[100]\ttraining's binary_logloss: 0.00197776\tvalid_1's binary_logloss: 0.0119252\n",
      "Early stopping, best iteration is:\n",
      "[82]\ttraining's binary_logloss: 0.00239951\tvalid_1's binary_logloss: 0.0118811\n"
     ]
    },
    {
     "name": "stderr",
     "output_type": "stream",
     "text": [
      "================================= fold 4/4 alk_inhibitor=================================\n"
     ]
    },
    {
     "name": "stdout",
     "output_type": "stream",
     "text": [
      "Training until validation scores don't improve for 50 rounds\n",
      "[100]\ttraining's binary_logloss: 0.00198346\tvalid_1's binary_logloss: 0.0102655\n"
     ]
    },
    {
     "name": "stderr",
     "output_type": "stream",
     "text": [
      "alk_inhibitor logloss: 0.01170880954164854\n",
      "=========================================================================================\n"
     ]
    },
    {
     "name": "stdout",
     "output_type": "stream",
     "text": [
      "Early stopping, best iteration is:\n",
      "[120]\ttraining's binary_logloss: 0.00162415\tvalid_1's binary_logloss: 0.0102493\n"
     ]
    },
    {
     "name": "stderr",
     "output_type": "stream",
     "text": [
      "================================= fold 1/4 ampk_activator=================================\n"
     ]
    },
    {
     "name": "stdout",
     "output_type": "stream",
     "text": [
      "Training until validation scores don't improve for 50 rounds\n",
      "Early stopping, best iteration is:\n",
      "[3]\ttraining's binary_logloss: 0.0039831\tvalid_1's binary_logloss: 0.004317\n"
     ]
    },
    {
     "name": "stderr",
     "output_type": "stream",
     "text": [
      "================================= fold 2/4 ampk_activator=================================\n"
     ]
    },
    {
     "name": "stdout",
     "output_type": "stream",
     "text": [
      "Training until validation scores don't improve for 50 rounds\n",
      "Early stopping, best iteration is:\n",
      "[6]\ttraining's binary_logloss: 0.00330224\tvalid_1's binary_logloss: 0.00432039\n"
     ]
    },
    {
     "name": "stderr",
     "output_type": "stream",
     "text": [
      "================================= fold 3/4 ampk_activator=================================\n"
     ]
    },
    {
     "name": "stdout",
     "output_type": "stream",
     "text": [
      "Training until validation scores don't improve for 50 rounds\n",
      "Early stopping, best iteration is:\n",
      "[1]\ttraining's binary_logloss: 0.00420396\tvalid_1's binary_logloss: 0.00433117\n"
     ]
    },
    {
     "name": "stderr",
     "output_type": "stream",
     "text": [
      "================================= fold 4/4 ampk_activator=================================\n"
     ]
    },
    {
     "name": "stdout",
     "output_type": "stream",
     "text": [
      "Training until validation scores don't improve for 50 rounds\n"
     ]
    },
    {
     "name": "stderr",
     "output_type": "stream",
     "text": [
      "ampk_activator logloss: 0.004324910022457972\n",
      "=========================================================================================\n"
     ]
    },
    {
     "name": "stdout",
     "output_type": "stream",
     "text": [
      "Early stopping, best iteration is:\n",
      "[1]\ttraining's binary_logloss: 0.00419343\tvalid_1's binary_logloss: 0.00433108\n"
     ]
    },
    {
     "name": "stderr",
     "output_type": "stream",
     "text": [
      "================================= fold 1/4 analgesic=================================\n"
     ]
    },
    {
     "name": "stdout",
     "output_type": "stream",
     "text": [
      "Training until validation scores don't improve for 50 rounds\n",
      "Early stopping, best iteration is:\n",
      "[25]\ttraining's binary_logloss: 0.00180944\tvalid_1's binary_logloss: 0.00428107\n"
     ]
    },
    {
     "name": "stderr",
     "output_type": "stream",
     "text": [
      "================================= fold 2/4 analgesic=================================\n"
     ]
    },
    {
     "name": "stdout",
     "output_type": "stream",
     "text": [
      "Training until validation scores don't improve for 50 rounds\n",
      "Early stopping, best iteration is:\n",
      "[1]\ttraining's binary_logloss: 0.00412255\tvalid_1's binary_logloss: 0.00433066\n"
     ]
    },
    {
     "name": "stderr",
     "output_type": "stream",
     "text": [
      "================================= fold 3/4 analgesic=================================\n"
     ]
    },
    {
     "name": "stdout",
     "output_type": "stream",
     "text": [
      "Training until validation scores don't improve for 50 rounds\n",
      "Early stopping, best iteration is:\n",
      "[1]\ttraining's binary_logloss: 0.0041971\tvalid_1's binary_logloss: 0.00433042\n"
     ]
    },
    {
     "name": "stderr",
     "output_type": "stream",
     "text": [
      "================================= fold 4/4 analgesic=================================\n"
     ]
    },
    {
     "name": "stdout",
     "output_type": "stream",
     "text": [
      "Training until validation scores don't improve for 50 rounds\n"
     ]
    },
    {
     "name": "stderr",
     "output_type": "stream",
     "text": [
      "analgesic logloss: 0.004318410361630238\n",
      "=========================================================================================\n"
     ]
    },
    {
     "name": "stdout",
     "output_type": "stream",
     "text": [
      "Early stopping, best iteration is:\n",
      "[1]\ttraining's binary_logloss: 0.00417069\tvalid_1's binary_logloss: 0.0043315\n"
     ]
    },
    {
     "name": "stderr",
     "output_type": "stream",
     "text": [
      "================================= fold 1/4 androgen_receptor_agonist=================================\n"
     ]
    },
    {
     "name": "stdout",
     "output_type": "stream",
     "text": [
      "Training until validation scores don't improve for 50 rounds\n",
      "Early stopping, best iteration is:\n",
      "[1]\ttraining's binary_logloss: 0.0139956\tvalid_1's binary_logloss: 0.0145323\n"
     ]
    },
    {
     "name": "stderr",
     "output_type": "stream",
     "text": [
      "================================= fold 2/4 androgen_receptor_agonist=================================\n"
     ]
    },
    {
     "name": "stdout",
     "output_type": "stream",
     "text": [
      "Training until validation scores don't improve for 50 rounds\n",
      "Early stopping, best iteration is:\n",
      "[1]\ttraining's binary_logloss: 0.0141948\tvalid_1's binary_logloss: 0.0145291\n"
     ]
    },
    {
     "name": "stderr",
     "output_type": "stream",
     "text": [
      "================================= fold 3/4 androgen_receptor_agonist=================================\n"
     ]
    },
    {
     "name": "stdout",
     "output_type": "stream",
     "text": [
      "Training until validation scores don't improve for 50 rounds\n",
      "[100]\ttraining's binary_logloss: 0.00281348\tvalid_1's binary_logloss: 0.0144443\n",
      "Early stopping, best iteration is:\n",
      "[83]\ttraining's binary_logloss: 0.00331287\tvalid_1's binary_logloss: 0.0143991\n"
     ]
    },
    {
     "name": "stderr",
     "output_type": "stream",
     "text": [
      "================================= fold 4/4 androgen_receptor_agonist=================================\n"
     ]
    },
    {
     "name": "stdout",
     "output_type": "stream",
     "text": [
      "Training until validation scores don't improve for 50 rounds\n"
     ]
    },
    {
     "name": "stderr",
     "output_type": "stream",
     "text": [
      "androgen_receptor_agonist logloss: 0.014498492621625761\n",
      "=========================================================================================\n"
     ]
    },
    {
     "name": "stdout",
     "output_type": "stream",
     "text": [
      "Early stopping, best iteration is:\n",
      "[1]\ttraining's binary_logloss: 0.0141735\tvalid_1's binary_logloss: 0.0145334\n"
     ]
    },
    {
     "name": "stderr",
     "output_type": "stream",
     "text": [
      "================================= fold 1/4 androgen_receptor_antagonist=================================\n"
     ]
    },
    {
     "name": "stdout",
     "output_type": "stream",
     "text": [
      "Training until validation scores don't improve for 50 rounds\n",
      "Early stopping, best iteration is:\n",
      "[14]\ttraining's binary_logloss: 0.0170588\tvalid_1's binary_logloss: 0.0243793\n"
     ]
    },
    {
     "name": "stderr",
     "output_type": "stream",
     "text": [
      "================================= fold 2/4 androgen_receptor_antagonist=================================\n"
     ]
    },
    {
     "name": "stdout",
     "output_type": "stream",
     "text": [
      "Training until validation scores don't improve for 50 rounds\n",
      "Early stopping, best iteration is:\n",
      "[19]\ttraining's binary_logloss: 0.0148339\tvalid_1's binary_logloss: 0.0252513\n"
     ]
    },
    {
     "name": "stderr",
     "output_type": "stream",
     "text": [
      "================================= fold 3/4 androgen_receptor_antagonist=================================\n"
     ]
    },
    {
     "name": "stdout",
     "output_type": "stream",
     "text": [
      "Training until validation scores don't improve for 50 rounds\n",
      "Early stopping, best iteration is:\n",
      "[1]\ttraining's binary_logloss: 0.0240296\tvalid_1's binary_logloss: 0.024404\n"
     ]
    },
    {
     "name": "stderr",
     "output_type": "stream",
     "text": [
      "================================= fold 4/4 androgen_receptor_antagonist=================================\n"
     ]
    },
    {
     "name": "stdout",
     "output_type": "stream",
     "text": [
      "Training until validation scores don't improve for 50 rounds\n"
     ]
    },
    {
     "name": "stderr",
     "output_type": "stream",
     "text": [
      "androgen_receptor_antagonist logloss: 0.024596981066957537\n",
      "=========================================================================================\n"
     ]
    },
    {
     "name": "stdout",
     "output_type": "stream",
     "text": [
      "Early stopping, best iteration is:\n",
      "[48]\ttraining's binary_logloss: 0.0094156\tvalid_1's binary_logloss: 0.0243533\n"
     ]
    },
    {
     "name": "stderr",
     "output_type": "stream",
     "text": [
      "================================= fold 1/4 anesthetic_-_local=================================\n"
     ]
    },
    {
     "name": "stdout",
     "output_type": "stream",
     "text": [
      "Training until validation scores don't improve for 50 rounds\n",
      "[100]\ttraining's binary_logloss: 0.0053181\tvalid_1's binary_logloss: 0.0224405\n",
      "Early stopping, best iteration is:\n",
      "[50]\ttraining's binary_logloss: 0.00840119\tvalid_1's binary_logloss: 0.0222851\n"
     ]
    },
    {
     "name": "stderr",
     "output_type": "stream",
     "text": [
      "================================= fold 2/4 anesthetic_-_local=================================\n"
     ]
    },
    {
     "name": "stdout",
     "output_type": "stream",
     "text": [
      "Training until validation scores don't improve for 50 rounds\n",
      "Early stopping, best iteration is:\n",
      "[1]\ttraining's binary_logloss: 0.0217168\tvalid_1's binary_logloss: 0.0225019\n"
     ]
    },
    {
     "name": "stderr",
     "output_type": "stream",
     "text": [
      "================================= fold 3/4 anesthetic_-_local=================================\n"
     ]
    },
    {
     "name": "stdout",
     "output_type": "stream",
     "text": [
      "Training until validation scores don't improve for 50 rounds\n",
      "Early stopping, best iteration is:\n",
      "[15]\ttraining's binary_logloss: 0.0145038\tvalid_1's binary_logloss: 0.0224923\n"
     ]
    },
    {
     "name": "stderr",
     "output_type": "stream",
     "text": [
      "================================= fold 4/4 anesthetic_-_local=================================\n"
     ]
    },
    {
     "name": "stdout",
     "output_type": "stream",
     "text": [
      "Training until validation scores don't improve for 50 rounds\n",
      "[100]\ttraining's binary_logloss: 0.00514152\tvalid_1's binary_logloss: 0.0223853\n"
     ]
    },
    {
     "name": "stderr",
     "output_type": "stream",
     "text": [
      "anesthetic_-_local logloss: 0.022414499712210857\n",
      "=========================================================================================\n"
     ]
    },
    {
     "name": "stdout",
     "output_type": "stream",
     "text": [
      "Early stopping, best iteration is:\n",
      "[72]\ttraining's binary_logloss: 0.00653575\tvalid_1's binary_logloss: 0.0223787\n"
     ]
    },
    {
     "name": "stderr",
     "output_type": "stream",
     "text": [
      "================================= fold 1/4 angiogenesis_inhibitor=================================\n"
     ]
    },
    {
     "name": "stdout",
     "output_type": "stream",
     "text": [
      "Training until validation scores don't improve for 50 rounds\n",
      "Early stopping, best iteration is:\n",
      "[1]\ttraining's binary_logloss: 0.0109429\tvalid_1's binary_logloss: 0.0113328\n"
     ]
    },
    {
     "name": "stderr",
     "output_type": "stream",
     "text": [
      "================================= fold 2/4 angiogenesis_inhibitor=================================\n"
     ]
    },
    {
     "name": "stdout",
     "output_type": "stream",
     "text": [
      "Training until validation scores don't improve for 50 rounds\n",
      "Early stopping, best iteration is:\n",
      "[1]\ttraining's binary_logloss: 0.0110256\tvalid_1's binary_logloss: 0.0113315\n"
     ]
    },
    {
     "name": "stderr",
     "output_type": "stream",
     "text": [
      "================================= fold 3/4 angiogenesis_inhibitor=================================\n"
     ]
    },
    {
     "name": "stdout",
     "output_type": "stream",
     "text": [
      "Training until validation scores don't improve for 50 rounds\n",
      "Early stopping, best iteration is:\n",
      "[1]\ttraining's binary_logloss: 0.0109287\tvalid_1's binary_logloss: 0.0113329\n"
     ]
    },
    {
     "name": "stderr",
     "output_type": "stream",
     "text": [
      "================================= fold 4/4 angiogenesis_inhibitor=================================\n"
     ]
    },
    {
     "name": "stdout",
     "output_type": "stream",
     "text": [
      "Training until validation scores don't improve for 50 rounds\n"
     ]
    },
    {
     "name": "stderr",
     "output_type": "stream",
     "text": [
      "angiogenesis_inhibitor logloss: 0.011332712904079521\n",
      "=========================================================================================\n"
     ]
    },
    {
     "name": "stdout",
     "output_type": "stream",
     "text": [
      "Early stopping, best iteration is:\n",
      "[1]\ttraining's binary_logloss: 0.0110172\tvalid_1's binary_logloss: 0.0113337\n"
     ]
    },
    {
     "name": "stderr",
     "output_type": "stream",
     "text": [
      "================================= fold 1/4 angiotensin_receptor_antagonist=================================\n"
     ]
    },
    {
     "name": "stdout",
     "output_type": "stream",
     "text": [
      "Training until validation scores don't improve for 50 rounds\n",
      "Early stopping, best iteration is:\n",
      "[1]\ttraining's binary_logloss: 0.0110836\tvalid_1's binary_logloss: 0.0113328\n"
     ]
    },
    {
     "name": "stderr",
     "output_type": "stream",
     "text": [
      "================================= fold 2/4 angiotensin_receptor_antagonist=================================\n"
     ]
    },
    {
     "name": "stdout",
     "output_type": "stream",
     "text": [
      "Training until validation scores don't improve for 50 rounds\n",
      "Early stopping, best iteration is:\n",
      "[11]\ttraining's binary_logloss: 0.00806576\tvalid_1's binary_logloss: 0.0123035\n"
     ]
    },
    {
     "name": "stderr",
     "output_type": "stream",
     "text": [
      "================================= fold 3/4 angiotensin_receptor_antagonist=================================\n"
     ]
    },
    {
     "name": "stdout",
     "output_type": "stream",
     "text": [
      "Training until validation scores don't improve for 50 rounds\n",
      "Early stopping, best iteration is:\n",
      "[1]\ttraining's binary_logloss: 0.0112266\tvalid_1's binary_logloss: 0.0113376\n"
     ]
    },
    {
     "name": "stderr",
     "output_type": "stream",
     "text": [
      "================================= fold 4/4 angiotensin_receptor_antagonist=================================\n"
     ]
    },
    {
     "name": "stdout",
     "output_type": "stream",
     "text": [
      "Training until validation scores don't improve for 50 rounds\n"
     ]
    },
    {
     "name": "stderr",
     "output_type": "stream",
     "text": [
      "angiotensin_receptor_antagonist logloss: 0.011577381805410495\n",
      "=========================================================================================\n"
     ]
    },
    {
     "name": "stdout",
     "output_type": "stream",
     "text": [
      "Early stopping, best iteration is:\n",
      "[1]\ttraining's binary_logloss: 0.0112951\tvalid_1's binary_logloss: 0.0113356\n"
     ]
    },
    {
     "name": "stderr",
     "output_type": "stream",
     "text": [
      "================================= fold 1/4 anti-inflammatory=================================\n"
     ]
    },
    {
     "name": "stdout",
     "output_type": "stream",
     "text": [
      "Training until validation scores don't improve for 50 rounds\n",
      "[100]\ttraining's binary_logloss: 0.00417861\tvalid_1's binary_logloss: 0.019588\n",
      "Early stopping, best iteration is:\n",
      "[57]\ttraining's binary_logloss: 0.00642447\tvalid_1's binary_logloss: 0.0195509\n"
     ]
    },
    {
     "name": "stderr",
     "output_type": "stream",
     "text": [
      "================================= fold 2/4 anti-inflammatory=================================\n"
     ]
    },
    {
     "name": "stdout",
     "output_type": "stream",
     "text": [
      "Training until validation scores don't improve for 50 rounds\n",
      "[100]\ttraining's binary_logloss: 0.00414676\tvalid_1's binary_logloss: 0.0205978\n",
      "Early stopping, best iteration is:\n",
      "[96]\ttraining's binary_logloss: 0.0043088\tvalid_1's binary_logloss: 0.0205863\n"
     ]
    },
    {
     "name": "stderr",
     "output_type": "stream",
     "text": [
      "================================= fold 3/4 anti-inflammatory=================================\n"
     ]
    },
    {
     "name": "stdout",
     "output_type": "stream",
     "text": [
      "Training until validation scores don't improve for 50 rounds\n",
      "Early stopping, best iteration is:\n",
      "[44]\ttraining's binary_logloss: 0.00770111\tvalid_1's binary_logloss: 0.019647\n"
     ]
    },
    {
     "name": "stderr",
     "output_type": "stream",
     "text": [
      "================================= fold 4/4 anti-inflammatory=================================\n"
     ]
    },
    {
     "name": "stdout",
     "output_type": "stream",
     "text": [
      "Training until validation scores don't improve for 50 rounds\n",
      "[100]\ttraining's binary_logloss: 0.00465769\tvalid_1's binary_logloss: 0.0200158\n"
     ]
    },
    {
     "name": "stderr",
     "output_type": "stream",
     "text": [
      "anti-inflammatory logloss: 0.01994140077436055\n",
      "=========================================================================================\n"
     ]
    },
    {
     "name": "stdout",
     "output_type": "stream",
     "text": [
      "Early stopping, best iteration is:\n",
      "[86]\ttraining's binary_logloss: 0.00529919\tvalid_1's binary_logloss: 0.0199814\n"
     ]
    },
    {
     "name": "stderr",
     "output_type": "stream",
     "text": [
      "================================= fold 1/4 antiarrhythmic=================================\n"
     ]
    },
    {
     "name": "stdout",
     "output_type": "stream",
     "text": [
      "Training until validation scores don't improve for 50 rounds\n",
      "Early stopping, best iteration is:\n",
      "[1]\ttraining's binary_logloss: 0.00205287\tvalid_1's binary_logloss: 0.00304818\n"
     ]
    },
    {
     "name": "stderr",
     "output_type": "stream",
     "text": [
      "================================= fold 2/4 antiarrhythmic=================================\n"
     ]
    },
    {
     "name": "stdout",
     "output_type": "stream",
     "text": [
      "Training until validation scores don't improve for 50 rounds\n",
      "Early stopping, best iteration is:\n",
      "[1]\ttraining's binary_logloss: 0.00206364\tvalid_1's binary_logloss: 0.00304818\n"
     ]
    },
    {
     "name": "stderr",
     "output_type": "stream",
     "text": [
      "================================= fold 3/4 antiarrhythmic=================================\n"
     ]
    },
    {
     "name": "stdout",
     "output_type": "stream",
     "text": [
      "Training until validation scores don't improve for 50 rounds\n",
      "Early stopping, best iteration is:\n",
      "[48]\ttraining's binary_logloss: 0.000628556\tvalid_1's binary_logloss: 0.00163834\n"
     ]
    },
    {
     "name": "stderr",
     "output_type": "stream",
     "text": [
      "================================= fold 4/4 antiarrhythmic=================================\n"
     ]
    },
    {
     "name": "stdout",
     "output_type": "stream",
     "text": [
      "Training until validation scores don't improve for 50 rounds\n"
     ]
    },
    {
     "name": "stderr",
     "output_type": "stream",
     "text": [
      "antiarrhythmic logloss: 0.0023431795188479324\n",
      "=========================================================================================\n"
     ]
    },
    {
     "name": "stdout",
     "output_type": "stream",
     "text": [
      "Early stopping, best iteration is:\n",
      "[48]\ttraining's binary_logloss: 0.000691019\tvalid_1's binary_logloss: 0.00163779\n"
     ]
    },
    {
     "name": "stderr",
     "output_type": "stream",
     "text": [
      "================================= fold 1/4 antibiotic=================================\n"
     ]
    },
    {
     "name": "stdout",
     "output_type": "stream",
     "text": [
      "Training until validation scores don't improve for 50 rounds\n",
      "Early stopping, best iteration is:\n",
      "[48]\ttraining's binary_logloss: 0.00415809\tvalid_1's binary_logloss: 0.0128013\n"
     ]
    },
    {
     "name": "stderr",
     "output_type": "stream",
     "text": [
      "================================= fold 2/4 antibiotic=================================\n"
     ]
    },
    {
     "name": "stdout",
     "output_type": "stream",
     "text": [
      "Training until validation scores don't improve for 50 rounds\n",
      "Early stopping, best iteration is:\n",
      "[38]\ttraining's binary_logloss: 0.00481466\tvalid_1's binary_logloss: 0.0130488\n"
     ]
    },
    {
     "name": "stderr",
     "output_type": "stream",
     "text": [
      "================================= fold 3/4 antibiotic=================================\n"
     ]
    },
    {
     "name": "stdout",
     "output_type": "stream",
     "text": [
      "Training until validation scores don't improve for 50 rounds\n",
      "Early stopping, best iteration is:\n",
      "[48]\ttraining's binary_logloss: 0.00407674\tvalid_1's binary_logloss: 0.0114916\n"
     ]
    },
    {
     "name": "stderr",
     "output_type": "stream",
     "text": [
      "================================= fold 4/4 antibiotic=================================\n"
     ]
    },
    {
     "name": "stdout",
     "output_type": "stream",
     "text": [
      "Training until validation scores don't improve for 50 rounds\n",
      "[100]\ttraining's binary_logloss: 0.00212883\tvalid_1's binary_logloss: 0.0128174\n"
     ]
    },
    {
     "name": "stderr",
     "output_type": "stream",
     "text": [
      "antibiotic logloss: 0.012502709113476888\n",
      "=========================================================================================\n"
     ]
    },
    {
     "name": "stdout",
     "output_type": "stream",
     "text": [
      "Early stopping, best iteration is:\n",
      "[57]\ttraining's binary_logloss: 0.00358857\tvalid_1's binary_logloss: 0.0126689\n"
     ]
    },
    {
     "name": "stderr",
     "output_type": "stream",
     "text": [
      "================================= fold 1/4 anticonvulsant=================================\n"
     ]
    },
    {
     "name": "stdout",
     "output_type": "stream",
     "text": [
      "Training until validation scores don't improve for 50 rounds\n",
      "Early stopping, best iteration is:\n",
      "[1]\ttraining's binary_logloss: 0.00418359\tvalid_1's binary_logloss: 0.00433055\n"
     ]
    },
    {
     "name": "stderr",
     "output_type": "stream",
     "text": [
      "================================= fold 2/4 anticonvulsant=================================\n"
     ]
    },
    {
     "name": "stdout",
     "output_type": "stream",
     "text": [
      "Training until validation scores don't improve for 50 rounds\n",
      "Early stopping, best iteration is:\n",
      "[1]\ttraining's binary_logloss: 0.00413751\tvalid_1's binary_logloss: 0.00433131\n"
     ]
    },
    {
     "name": "stderr",
     "output_type": "stream",
     "text": [
      "================================= fold 3/4 anticonvulsant=================================\n"
     ]
    },
    {
     "name": "stdout",
     "output_type": "stream",
     "text": [
      "Training until validation scores don't improve for 50 rounds\n",
      "Early stopping, best iteration is:\n",
      "[1]\ttraining's binary_logloss: 0.00415744\tvalid_1's binary_logloss: 0.00433137\n"
     ]
    },
    {
     "name": "stderr",
     "output_type": "stream",
     "text": [
      "================================= fold 4/4 anticonvulsant=================================\n"
     ]
    },
    {
     "name": "stdout",
     "output_type": "stream",
     "text": [
      "Training until validation scores don't improve for 50 rounds\n"
     ]
    },
    {
     "name": "stderr",
     "output_type": "stream",
     "text": [
      "anticonvulsant logloss: 0.0043311043469453124\n",
      "=========================================================================================\n"
     ]
    },
    {
     "name": "stdout",
     "output_type": "stream",
     "text": [
      "Early stopping, best iteration is:\n",
      "[1]\ttraining's binary_logloss: 0.00421541\tvalid_1's binary_logloss: 0.00433119\n"
     ]
    },
    {
     "name": "stderr",
     "output_type": "stream",
     "text": [
      "================================= fold 1/4 antifungal=================================\n"
     ]
    },
    {
     "name": "stdout",
     "output_type": "stream",
     "text": [
      "Training until validation scores don't improve for 50 rounds\n",
      "[100]\ttraining's binary_logloss: 0.000591141\tvalid_1's binary_logloss: 0.00436699\n",
      "Early stopping, best iteration is:\n",
      "[50]\ttraining's binary_logloss: 0.00109979\tvalid_1's binary_logloss: 0.00431366\n"
     ]
    },
    {
     "name": "stderr",
     "output_type": "stream",
     "text": [
      "================================= fold 2/4 antifungal=================================\n"
     ]
    },
    {
     "name": "stdout",
     "output_type": "stream",
     "text": [
      "Training until validation scores don't improve for 50 rounds\n",
      "[100]\ttraining's binary_logloss: 0.00056768\tvalid_1's binary_logloss: 0.00561935\n",
      "Early stopping, best iteration is:\n",
      "[61]\ttraining's binary_logloss: 0.000923692\tvalid_1's binary_logloss: 0.00557895\n"
     ]
    },
    {
     "name": "stderr",
     "output_type": "stream",
     "text": [
      "================================= fold 3/4 antifungal=================================\n"
     ]
    },
    {
     "name": "stdout",
     "output_type": "stream",
     "text": [
      "Training until validation scores don't improve for 50 rounds\n",
      "Early stopping, best iteration is:\n",
      "[1]\ttraining's binary_logloss: 0.00450067\tvalid_1's binary_logloss: 0.0043332\n"
     ]
    },
    {
     "name": "stderr",
     "output_type": "stream",
     "text": [
      "================================= fold 4/4 antifungal=================================\n"
     ]
    },
    {
     "name": "stdout",
     "output_type": "stream",
     "text": [
      "Training until validation scores don't improve for 50 rounds\n"
     ]
    },
    {
     "name": "stderr",
     "output_type": "stream",
     "text": [
      "antifungal logloss: 0.004639742581163786\n",
      "=========================================================================================\n"
     ]
    },
    {
     "name": "stdout",
     "output_type": "stream",
     "text": [
      "Early stopping, best iteration is:\n",
      "[24]\ttraining's binary_logloss: 0.00184892\tvalid_1's binary_logloss: 0.00433304\n"
     ]
    },
    {
     "name": "stderr",
     "output_type": "stream",
     "text": [
      "================================= fold 1/4 antihistamine=================================\n"
     ]
    },
    {
     "name": "stdout",
     "output_type": "stream",
     "text": [
      "Training until validation scores don't improve for 50 rounds\n",
      "Early stopping, best iteration is:\n",
      "[1]\ttraining's binary_logloss: 0.00421397\tvalid_1's binary_logloss: 0.00433039\n"
     ]
    },
    {
     "name": "stderr",
     "output_type": "stream",
     "text": [
      "================================= fold 2/4 antihistamine=================================\n"
     ]
    },
    {
     "name": "stdout",
     "output_type": "stream",
     "text": [
      "Training until validation scores don't improve for 50 rounds\n",
      "Early stopping, best iteration is:\n",
      "[1]\ttraining's binary_logloss: 0.00420392\tvalid_1's binary_logloss: 0.0043298\n"
     ]
    },
    {
     "name": "stderr",
     "output_type": "stream",
     "text": [
      "================================= fold 3/4 antihistamine=================================\n"
     ]
    },
    {
     "name": "stdout",
     "output_type": "stream",
     "text": [
      "Training until validation scores don't improve for 50 rounds\n",
      "Early stopping, best iteration is:\n",
      "[1]\ttraining's binary_logloss: 0.00420517\tvalid_1's binary_logloss: 0.00433121\n"
     ]
    },
    {
     "name": "stderr",
     "output_type": "stream",
     "text": [
      "================================= fold 4/4 antihistamine=================================\n"
     ]
    },
    {
     "name": "stdout",
     "output_type": "stream",
     "text": [
      "Training until validation scores don't improve for 50 rounds\n"
     ]
    },
    {
     "name": "stderr",
     "output_type": "stream",
     "text": [
      "antihistamine logloss: 0.004330656261157282\n",
      "=========================================================================================\n"
     ]
    },
    {
     "name": "stdout",
     "output_type": "stream",
     "text": [
      "Early stopping, best iteration is:\n",
      "[1]\ttraining's binary_logloss: 0.00417433\tvalid_1's binary_logloss: 0.00433122\n"
     ]
    },
    {
     "name": "stderr",
     "output_type": "stream",
     "text": [
      "================================= fold 1/4 antimalarial=================================\n"
     ]
    },
    {
     "name": "stdout",
     "output_type": "stream",
     "text": [
      "Training until validation scores don't improve for 50 rounds\n",
      "Early stopping, best iteration is:\n",
      "[1]\ttraining's binary_logloss: 0.00560984\tvalid_1's binary_logloss: 0.00679865\n"
     ]
    },
    {
     "name": "stderr",
     "output_type": "stream",
     "text": [
      "================================= fold 2/4 antimalarial=================================\n"
     ]
    },
    {
     "name": "stdout",
     "output_type": "stream",
     "text": [
      "Training until validation scores don't improve for 50 rounds\n",
      "Early stopping, best iteration is:\n",
      "[8]\ttraining's binary_logloss: 0.00390937\tvalid_1's binary_logloss: 0.00678836\n"
     ]
    },
    {
     "name": "stderr",
     "output_type": "stream",
     "text": [
      "================================= fold 3/4 antimalarial=================================\n"
     ]
    },
    {
     "name": "stdout",
     "output_type": "stream",
     "text": [
      "Training until validation scores don't improve for 50 rounds\n",
      "Early stopping, best iteration is:\n",
      "[48]\ttraining's binary_logloss: 0.00171277\tvalid_1's binary_logloss: 0.00552759\n"
     ]
    },
    {
     "name": "stderr",
     "output_type": "stream",
     "text": [
      "================================= fold 4/4 antimalarial=================================\n"
     ]
    },
    {
     "name": "stdout",
     "output_type": "stream",
     "text": [
      "Training until validation scores don't improve for 50 rounds\n"
     ]
    },
    {
     "name": "stderr",
     "output_type": "stream",
     "text": [
      "antimalarial logloss: 0.006156900360533241\n",
      "=========================================================================================\n"
     ]
    },
    {
     "name": "stdout",
     "output_type": "stream",
     "text": [
      "Early stopping, best iteration is:\n",
      "[32]\ttraining's binary_logloss: 0.00225253\tvalid_1's binary_logloss: 0.00551279\n"
     ]
    },
    {
     "name": "stderr",
     "output_type": "stream",
     "text": [
      "================================= fold 1/4 antioxidant=================================\n"
     ]
    },
    {
     "name": "stdout",
     "output_type": "stream",
     "text": [
      "Training until validation scores don't improve for 50 rounds\n",
      "[100]\ttraining's binary_logloss: 0.00447911\tvalid_1's binary_logloss: 0.0205438\n",
      "Early stopping, best iteration is:\n",
      "[82]\ttraining's binary_logloss: 0.0052153\tvalid_1's binary_logloss: 0.0204807\n"
     ]
    },
    {
     "name": "stderr",
     "output_type": "stream",
     "text": [
      "================================= fold 2/4 antioxidant=================================\n"
     ]
    },
    {
     "name": "stdout",
     "output_type": "stream",
     "text": [
      "Training until validation scores don't improve for 50 rounds\n",
      "Early stopping, best iteration is:\n",
      "[5]\ttraining's binary_logloss: 0.0176082\tvalid_1's binary_logloss: 0.0215477\n"
     ]
    },
    {
     "name": "stderr",
     "output_type": "stream",
     "text": [
      "================================= fold 3/4 antioxidant=================================\n"
     ]
    },
    {
     "name": "stdout",
     "output_type": "stream",
     "text": [
      "Training until validation scores don't improve for 50 rounds\n",
      "Early stopping, best iteration is:\n",
      "[25]\ttraining's binary_logloss: 0.0114424\tvalid_1's binary_logloss: 0.0203085\n"
     ]
    },
    {
     "name": "stderr",
     "output_type": "stream",
     "text": [
      "================================= fold 4/4 antioxidant=================================\n"
     ]
    },
    {
     "name": "stdout",
     "output_type": "stream",
     "text": [
      "Training until validation scores don't improve for 50 rounds\n",
      "[100]\ttraining's binary_logloss: 0.00490138\tvalid_1's binary_logloss: 0.0203869\n"
     ]
    },
    {
     "name": "stderr",
     "output_type": "stream",
     "text": [
      "antioxidant logloss: 0.020664886583639335\n",
      "=========================================================================================\n"
     ]
    },
    {
     "name": "stdout",
     "output_type": "stream",
     "text": [
      "Early stopping, best iteration is:\n",
      "[53]\ttraining's binary_logloss: 0.00754305\tvalid_1's binary_logloss: 0.0203225\n"
     ]
    },
    {
     "name": "stderr",
     "output_type": "stream",
     "text": [
      "================================= fold 1/4 antiprotozoal=================================\n"
     ]
    },
    {
     "name": "stdout",
     "output_type": "stream",
     "text": [
      "Training until validation scores don't improve for 50 rounds\n",
      "Early stopping, best iteration is:\n",
      "[6]\ttraining's binary_logloss: 0.00925407\tvalid_1's binary_logloss: 0.0112951\n"
     ]
    },
    {
     "name": "stderr",
     "output_type": "stream",
     "text": [
      "================================= fold 2/4 antiprotozoal=================================\n"
     ]
    },
    {
     "name": "stdout",
     "output_type": "stream",
     "text": [
      "Training until validation scores don't improve for 50 rounds\n",
      "Early stopping, best iteration is:\n",
      "[1]\ttraining's binary_logloss: 0.0110307\tvalid_1's binary_logloss: 0.0113234\n"
     ]
    },
    {
     "name": "stderr",
     "output_type": "stream",
     "text": [
      "================================= fold 3/4 antiprotozoal=================================\n"
     ]
    },
    {
     "name": "stdout",
     "output_type": "stream",
     "text": [
      "Training until validation scores don't improve for 50 rounds\n",
      "Early stopping, best iteration is:\n",
      "[1]\ttraining's binary_logloss: 0.0109766\tvalid_1's binary_logloss: 0.0113069\n"
     ]
    },
    {
     "name": "stderr",
     "output_type": "stream",
     "text": [
      "================================= fold 4/4 antiprotozoal=================================\n"
     ]
    },
    {
     "name": "stdout",
     "output_type": "stream",
     "text": [
      "Training until validation scores don't improve for 50 rounds\n"
     ]
    },
    {
     "name": "stderr",
     "output_type": "stream",
     "text": [
      "antiprotozoal logloss: 0.011299050639925609\n",
      "=========================================================================================\n"
     ]
    },
    {
     "name": "stdout",
     "output_type": "stream",
     "text": [
      "Early stopping, best iteration is:\n",
      "[9]\ttraining's binary_logloss: 0.0085578\tvalid_1's binary_logloss: 0.0112708\n"
     ]
    },
    {
     "name": "stderr",
     "output_type": "stream",
     "text": [
      "================================= fold 1/4 antiviral=================================\n"
     ]
    },
    {
     "name": "stdout",
     "output_type": "stream",
     "text": [
      "Training until validation scores don't improve for 50 rounds\n",
      "Early stopping, best iteration is:\n",
      "[1]\ttraining's binary_logloss: 0.00722088\tvalid_1's binary_logloss: 0.00796566\n"
     ]
    },
    {
     "name": "stderr",
     "output_type": "stream",
     "text": [
      "================================= fold 2/4 antiviral=================================\n"
     ]
    },
    {
     "name": "stdout",
     "output_type": "stream",
     "text": [
      "Training until validation scores don't improve for 50 rounds\n",
      "Early stopping, best iteration is:\n",
      "[1]\ttraining's binary_logloss: 0.00732661\tvalid_1's binary_logloss: 0.0079662\n"
     ]
    },
    {
     "name": "stderr",
     "output_type": "stream",
     "text": [
      "================================= fold 3/4 antiviral=================================\n"
     ]
    },
    {
     "name": "stdout",
     "output_type": "stream",
     "text": [
      "Training until validation scores don't improve for 50 rounds\n",
      "[100]\ttraining's binary_logloss: 0.00113879\tvalid_1's binary_logloss: 0.00682185\n",
      "Early stopping, best iteration is:\n",
      "[57]\ttraining's binary_logloss: 0.00187359\tvalid_1's binary_logloss: 0.00674098\n"
     ]
    },
    {
     "name": "stderr",
     "output_type": "stream",
     "text": [
      "================================= fold 4/4 antiviral=================================\n"
     ]
    },
    {
     "name": "stdout",
     "output_type": "stream",
     "text": [
      "Training until validation scores don't improve for 50 rounds\n"
     ]
    },
    {
     "name": "stderr",
     "output_type": "stream",
     "text": [
      "antiviral logloss: 0.007655258950071026\n",
      "=========================================================================================\n"
     ]
    },
    {
     "name": "stdout",
     "output_type": "stream",
     "text": [
      "Early stopping, best iteration is:\n",
      "[19]\ttraining's binary_logloss: 0.0040068\tvalid_1's binary_logloss: 0.0079481\n"
     ]
    },
    {
     "name": "stderr",
     "output_type": "stream",
     "text": [
      "================================= fold 1/4 apoptosis_stimulant=================================\n"
     ]
    },
    {
     "name": "stdout",
     "output_type": "stream",
     "text": [
      "Training until validation scores don't improve for 50 rounds\n",
      "[100]\ttraining's binary_logloss: 0.0030472\tvalid_1's binary_logloss: 0.0140942\n",
      "Early stopping, best iteration is:\n",
      "[57]\ttraining's binary_logloss: 0.00492878\tvalid_1's binary_logloss: 0.0139749\n"
     ]
    },
    {
     "name": "stderr",
     "output_type": "stream",
     "text": [
      "================================= fold 2/4 apoptosis_stimulant=================================\n"
     ]
    },
    {
     "name": "stdout",
     "output_type": "stream",
     "text": [
      "Training until validation scores don't improve for 50 rounds\n",
      "Early stopping, best iteration is:\n",
      "[30]\ttraining's binary_logloss: 0.00688652\tvalid_1's binary_logloss: 0.0153063\n"
     ]
    },
    {
     "name": "stderr",
     "output_type": "stream",
     "text": [
      "================================= fold 3/4 apoptosis_stimulant=================================\n"
     ]
    },
    {
     "name": "stdout",
     "output_type": "stream",
     "text": [
      "Training until validation scores don't improve for 50 rounds\n",
      "[100]\ttraining's binary_logloss: 0.00289697\tvalid_1's binary_logloss: 0.0142697\n",
      "Early stopping, best iteration is:\n",
      "[50]\ttraining's binary_logloss: 0.00540267\tvalid_1's binary_logloss: 0.0140995\n"
     ]
    },
    {
     "name": "stderr",
     "output_type": "stream",
     "text": [
      "================================= fold 4/4 apoptosis_stimulant=================================\n"
     ]
    },
    {
     "name": "stdout",
     "output_type": "stream",
     "text": [
      "Training until validation scores don't improve for 50 rounds\n"
     ]
    },
    {
     "name": "stderr",
     "output_type": "stream",
     "text": [
      "apoptosis_stimulant logloss: 0.014381463636420323\n",
      "=========================================================================================\n"
     ]
    },
    {
     "name": "stdout",
     "output_type": "stream",
     "text": [
      "Early stopping, best iteration is:\n",
      "[20]\ttraining's binary_logloss: 0.00919706\tvalid_1's binary_logloss: 0.014145\n"
     ]
    },
    {
     "name": "stderr",
     "output_type": "stream",
     "text": [
      "================================= fold 1/4 aromatase_inhibitor=================================\n"
     ]
    },
    {
     "name": "stdout",
     "output_type": "stream",
     "text": [
      "Training until validation scores don't improve for 50 rounds\n",
      "Early stopping, best iteration is:\n",
      "[1]\ttraining's binary_logloss: 0.0138096\tvalid_1's binary_logloss: 0.0145318\n"
     ]
    },
    {
     "name": "stderr",
     "output_type": "stream",
     "text": [
      "================================= fold 2/4 aromatase_inhibitor=================================\n"
     ]
    },
    {
     "name": "stdout",
     "output_type": "stream",
     "text": [
      "Training until validation scores don't improve for 50 rounds\n",
      "Early stopping, best iteration is:\n",
      "[2]\ttraining's binary_logloss: 0.0134276\tvalid_1's binary_logloss: 0.01449\n"
     ]
    },
    {
     "name": "stderr",
     "output_type": "stream",
     "text": [
      "================================= fold 3/4 aromatase_inhibitor=================================\n"
     ]
    },
    {
     "name": "stdout",
     "output_type": "stream",
     "text": [
      "Training until validation scores don't improve for 50 rounds\n",
      "Early stopping, best iteration is:\n",
      "[44]\ttraining's binary_logloss: 0.00489113\tvalid_1's binary_logloss: 0.013317\n"
     ]
    },
    {
     "name": "stderr",
     "output_type": "stream",
     "text": [
      "================================= fold 4/4 aromatase_inhibitor=================================\n"
     ]
    },
    {
     "name": "stdout",
     "output_type": "stream",
     "text": [
      "Training until validation scores don't improve for 50 rounds\n"
     ]
    },
    {
     "name": "stderr",
     "output_type": "stream",
     "text": [
      "aromatase_inhibitor logloss: 0.01421334806554862\n",
      "=========================================================================================\n"
     ]
    },
    {
     "name": "stdout",
     "output_type": "stream",
     "text": [
      "Early stopping, best iteration is:\n",
      "[8]\ttraining's binary_logloss: 0.0105639\tvalid_1's binary_logloss: 0.0145145\n"
     ]
    },
    {
     "name": "stderr",
     "output_type": "stream",
     "text": [
      "================================= fold 1/4 atm_kinase_inhibitor=================================\n"
     ]
    },
    {
     "name": "stdout",
     "output_type": "stream",
     "text": [
      "Training until validation scores don't improve for 50 rounds\n",
      "Early stopping, best iteration is:\n",
      "[2]\ttraining's binary_logloss: 0.00201062\tvalid_1's binary_logloss: 0.00304689\n"
     ]
    },
    {
     "name": "stderr",
     "output_type": "stream",
     "text": [
      "================================= fold 2/4 atm_kinase_inhibitor=================================\n"
     ]
    },
    {
     "name": "stdout",
     "output_type": "stream",
     "text": [
      "Training until validation scores don't improve for 50 rounds\n",
      "[100]\ttraining's binary_logloss: 0.000245603\tvalid_1's binary_logloss: 0.00286707\n",
      "Early stopping, best iteration is:\n",
      "[58]\ttraining's binary_logloss: 0.000404114\tvalid_1's binary_logloss: 0.00285222\n"
     ]
    },
    {
     "name": "stderr",
     "output_type": "stream",
     "text": [
      "================================= fold 3/4 atm_kinase_inhibitor=================================\n"
     ]
    },
    {
     "name": "stdout",
     "output_type": "stream",
     "text": [
      "Training until validation scores don't improve for 50 rounds\n",
      "[100]\ttraining's binary_logloss: 0.000291301\tvalid_1's binary_logloss: 0.00154042\n",
      "Early stopping, best iteration is:\n",
      "[87]\ttraining's binary_logloss: 0.000335428\tvalid_1's binary_logloss: 0.00153975\n"
     ]
    },
    {
     "name": "stderr",
     "output_type": "stream",
     "text": [
      "================================= fold 4/4 atm_kinase_inhibitor=================================\n"
     ]
    },
    {
     "name": "stdout",
     "output_type": "stream",
     "text": [
      "Training until validation scores don't improve for 50 rounds\n",
      "[100]\ttraining's binary_logloss: 0.000296253\tvalid_1's binary_logloss: 0.00159628\n"
     ]
    },
    {
     "name": "stderr",
     "output_type": "stream",
     "text": [
      "atm_kinase_inhibitor logloss: 0.002258501102507942\n",
      "=========================================================================================\n"
     ]
    },
    {
     "name": "stdout",
     "output_type": "stream",
     "text": [
      "Early stopping, best iteration is:\n",
      "[130]\ttraining's binary_logloss: 0.000219343\tvalid_1's binary_logloss: 0.00159492\n"
     ]
    },
    {
     "name": "stderr",
     "output_type": "stream",
     "text": [
      "================================= fold 1/4 atp-sensitive_potassium_channel_antagonist=================================\n"
     ]
    },
    {
     "name": "stdout",
     "output_type": "stream",
     "text": [
      "Training until validation scores don't improve for 50 rounds\n",
      "[100]\ttraining's binary_logloss: 0.000151845\tvalid_1's binary_logloss: 2.70689e-05\n",
      "[200]\ttraining's binary_logloss: 5.53695e-05\tvalid_1's binary_logloss: 1.55577e-05\n",
      "[300]\ttraining's binary_logloss: 3.08311e-05\tvalid_1's binary_logloss: 1.06517e-05\n",
      "[400]\ttraining's binary_logloss: 2.13105e-05\tvalid_1's binary_logloss: 8.37462e-06\n",
      "[500]\ttraining's binary_logloss: 1.68895e-05\tvalid_1's binary_logloss: 7.20522e-06\n",
      "[600]\ttraining's binary_logloss: 1.46372e-05\tvalid_1's binary_logloss: 6.57107e-06\n",
      "[700]\ttraining's binary_logloss: 1.3399e-05\tvalid_1's binary_logloss: 6.20931e-06\n",
      "[800]\ttraining's binary_logloss: 1.26875e-05\tvalid_1's binary_logloss: 5.99723e-06\n",
      "[900]\ttraining's binary_logloss: 1.22669e-05\tvalid_1's binary_logloss: 5.87067e-06\n",
      "[1000]\ttraining's binary_logloss: 1.20138e-05\tvalid_1's binary_logloss: 5.79435e-06\n",
      "[1100]\ttraining's binary_logloss: 1.18597e-05\tvalid_1's binary_logloss: 5.74799e-06\n",
      "[1200]\ttraining's binary_logloss: 1.17653e-05\tvalid_1's binary_logloss: 5.71971e-06\n",
      "[1300]\ttraining's binary_logloss: 1.17071e-05\tvalid_1's binary_logloss: 5.70242e-06\n",
      "[1400]\ttraining's binary_logloss: 1.16712e-05\tvalid_1's binary_logloss: 5.69183e-06\n",
      "[1500]\ttraining's binary_logloss: 1.1649e-05\tvalid_1's binary_logloss: 5.68533e-06\n",
      "[1600]\ttraining's binary_logloss: 1.16352e-05\tvalid_1's binary_logloss: 5.68135e-06\n",
      "[1700]\ttraining's binary_logloss: 1.16267e-05\tvalid_1's binary_logloss: 5.6789e-06\n",
      "[1800]\ttraining's binary_logloss: 1.16214e-05\tvalid_1's binary_logloss: 5.67739e-06\n",
      "[1900]\ttraining's binary_logloss: 1.16181e-05\tvalid_1's binary_logloss: 5.67647e-06\n",
      "[2000]\ttraining's binary_logloss: 1.16161e-05\tvalid_1's binary_logloss: 5.6759e-06\n",
      "[2100]\ttraining's binary_logloss: 1.16148e-05\tvalid_1's binary_logloss: 5.67555e-06\n",
      "[2200]\ttraining's binary_logloss: 1.1614e-05\tvalid_1's binary_logloss: 5.67534e-06\n",
      "[2300]\ttraining's binary_logloss: 1.16135e-05\tvalid_1's binary_logloss: 5.67521e-06\n",
      "[2400]\ttraining's binary_logloss: 1.16132e-05\tvalid_1's binary_logloss: 5.67513e-06\n",
      "[2500]\ttraining's binary_logloss: 1.1613e-05\tvalid_1's binary_logloss: 5.67508e-06\n",
      "[2600]\ttraining's binary_logloss: 1.16129e-05\tvalid_1's binary_logloss: 5.67505e-06\n",
      "[2700]\ttraining's binary_logloss: 1.16129e-05\tvalid_1's binary_logloss: 5.67503e-06\n",
      "[2800]\ttraining's binary_logloss: 1.16128e-05\tvalid_1's binary_logloss: 5.67502e-06\n",
      "[2900]\ttraining's binary_logloss: 1.16128e-05\tvalid_1's binary_logloss: 5.67501e-06\n",
      "[3000]\ttraining's binary_logloss: 1.16128e-05\tvalid_1's binary_logloss: 5.675e-06\n",
      "[3100]\ttraining's binary_logloss: 1.16128e-05\tvalid_1's binary_logloss: 5.675e-06\n",
      "[3200]\ttraining's binary_logloss: 1.16127e-05\tvalid_1's binary_logloss: 5.675e-06\n",
      "[3300]\ttraining's binary_logloss: 1.16127e-05\tvalid_1's binary_logloss: 5.675e-06\n",
      "[3400]\ttraining's binary_logloss: 1.16127e-05\tvalid_1's binary_logloss: 5.675e-06\n",
      "[3500]\ttraining's binary_logloss: 1.16127e-05\tvalid_1's binary_logloss: 5.675e-06\n",
      "[3600]\ttraining's binary_logloss: 1.16127e-05\tvalid_1's binary_logloss: 5.675e-06\n",
      "[3700]\ttraining's binary_logloss: 1.16127e-05\tvalid_1's binary_logloss: 5.675e-06\n",
      "[3800]\ttraining's binary_logloss: 1.16127e-05\tvalid_1's binary_logloss: 5.675e-06\n",
      "[3900]\ttraining's binary_logloss: 1.16127e-05\tvalid_1's binary_logloss: 5.675e-06\n",
      "Early stopping, best iteration is:\n",
      "[3874]\ttraining's binary_logloss: 1.16127e-05\tvalid_1's binary_logloss: 5.675e-06\n"
     ]
    },
    {
     "name": "stderr",
     "output_type": "stream",
     "text": [
      "================================= fold 2/4 atp-sensitive_potassium_channel_antagonist=================================\n"
     ]
    },
    {
     "name": "stdout",
     "output_type": "stream",
     "text": [
      "Training until validation scores don't improve for 50 rounds\n",
      "Early stopping, best iteration is:\n",
      "[1]\ttraining's binary_logloss: 0\tvalid_1's binary_logloss: 0.00580094\n"
     ]
    },
    {
     "name": "stderr",
     "output_type": "stream",
     "text": [
      "================================= fold 3/4 atp-sensitive_potassium_channel_antagonist=================================\n"
     ]
    },
    {
     "name": "stdout",
     "output_type": "stream",
     "text": [
      "Training until validation scores don't improve for 50 rounds\n",
      "[100]\ttraining's binary_logloss: 0.000151832\tvalid_1's binary_logloss: 2.71113e-05\n",
      "[200]\ttraining's binary_logloss: 5.53634e-05\tvalid_1's binary_logloss: 1.55918e-05\n",
      "[300]\ttraining's binary_logloss: 3.08272e-05\tvalid_1's binary_logloss: 1.06778e-05\n",
      "[400]\ttraining's binary_logloss: 2.13068e-05\tvalid_1's binary_logloss: 8.39904e-06\n",
      "[500]\ttraining's binary_logloss: 1.68927e-05\tvalid_1's binary_logloss: 7.22972e-06\n",
      "[600]\ttraining's binary_logloss: 1.46375e-05\tvalid_1's binary_logloss: 6.59406e-06\n",
      "[700]\ttraining's binary_logloss: 1.33979e-05\tvalid_1's binary_logloss: 6.23154e-06\n",
      "[800]\ttraining's binary_logloss: 1.26858e-05\tvalid_1's binary_logloss: 6.01895e-06\n",
      "[900]\ttraining's binary_logloss: 1.22648e-05\tvalid_1's binary_logloss: 5.89217e-06\n",
      "[1000]\ttraining's binary_logloss: 1.20115e-05\tvalid_1's binary_logloss: 5.81569e-06\n",
      "[1100]\ttraining's binary_logloss: 1.18573e-05\tvalid_1's binary_logloss: 5.76925e-06\n",
      "[1200]\ttraining's binary_logloss: 1.17627e-05\tvalid_1's binary_logloss: 5.74093e-06\n",
      "[1300]\ttraining's binary_logloss: 1.17045e-05\tvalid_1's binary_logloss: 5.72362e-06\n",
      "[1400]\ttraining's binary_logloss: 1.16686e-05\tvalid_1's binary_logloss: 5.71301e-06\n",
      "[1500]\ttraining's binary_logloss: 1.16463e-05\tvalid_1's binary_logloss: 5.70651e-06\n",
      "[1600]\ttraining's binary_logloss: 1.16326e-05\tvalid_1's binary_logloss: 5.70252e-06\n",
      "[1700]\ttraining's binary_logloss: 1.1624e-05\tvalid_1's binary_logloss: 5.70007e-06\n",
      "[1800]\ttraining's binary_logloss: 1.16187e-05\tvalid_1's binary_logloss: 5.69857e-06\n",
      "[1900]\ttraining's binary_logloss: 1.16155e-05\tvalid_1's binary_logloss: 5.69764e-06\n",
      "[2000]\ttraining's binary_logloss: 1.16134e-05\tvalid_1's binary_logloss: 5.69707e-06\n",
      "[2100]\ttraining's binary_logloss: 1.16122e-05\tvalid_1's binary_logloss: 5.69672e-06\n",
      "[2200]\ttraining's binary_logloss: 1.16114e-05\tvalid_1's binary_logloss: 5.69651e-06\n",
      "[2300]\ttraining's binary_logloss: 1.16109e-05\tvalid_1's binary_logloss: 5.69638e-06\n",
      "[2400]\ttraining's binary_logloss: 1.16106e-05\tvalid_1's binary_logloss: 5.6963e-06\n",
      "[2500]\ttraining's binary_logloss: 1.16104e-05\tvalid_1's binary_logloss: 5.69625e-06\n",
      "[2600]\ttraining's binary_logloss: 1.16103e-05\tvalid_1's binary_logloss: 5.69622e-06\n",
      "[2700]\ttraining's binary_logloss: 1.16102e-05\tvalid_1's binary_logloss: 5.6962e-06\n",
      "[2800]\ttraining's binary_logloss: 1.16102e-05\tvalid_1's binary_logloss: 5.69619e-06\n",
      "[2900]\ttraining's binary_logloss: 1.16101e-05\tvalid_1's binary_logloss: 5.69618e-06\n",
      "[3000]\ttraining's binary_logloss: 1.16101e-05\tvalid_1's binary_logloss: 5.69617e-06\n",
      "[3100]\ttraining's binary_logloss: 1.16101e-05\tvalid_1's binary_logloss: 5.69617e-06\n",
      "[3200]\ttraining's binary_logloss: 1.16101e-05\tvalid_1's binary_logloss: 5.69617e-06\n",
      "[3300]\ttraining's binary_logloss: 1.16101e-05\tvalid_1's binary_logloss: 5.69617e-06\n",
      "[3400]\ttraining's binary_logloss: 1.16101e-05\tvalid_1's binary_logloss: 5.69617e-06\n",
      "[3500]\ttraining's binary_logloss: 1.16101e-05\tvalid_1's binary_logloss: 5.69617e-06\n",
      "[3600]\ttraining's binary_logloss: 1.16101e-05\tvalid_1's binary_logloss: 5.69617e-06\n",
      "[3700]\ttraining's binary_logloss: 1.16101e-05\tvalid_1's binary_logloss: 5.69617e-06\n",
      "Early stopping, best iteration is:\n",
      "[3694]\ttraining's binary_logloss: 1.16101e-05\tvalid_1's binary_logloss: 5.69617e-06\n"
     ]
    },
    {
     "name": "stderr",
     "output_type": "stream",
     "text": [
      "================================= fold 4/4 atp-sensitive_potassium_channel_antagonist=================================\n"
     ]
    },
    {
     "name": "stdout",
     "output_type": "stream",
     "text": [
      "Training until validation scores don't improve for 50 rounds\n",
      "[100]\ttraining's binary_logloss: 0.000151838\tvalid_1's binary_logloss: 2.7063e-05\n",
      "[200]\ttraining's binary_logloss: 5.53667e-05\tvalid_1's binary_logloss: 1.55527e-05\n",
      "[300]\ttraining's binary_logloss: 3.08295e-05\tvalid_1's binary_logloss: 1.06451e-05\n",
      "[400]\ttraining's binary_logloss: 2.13009e-05\tvalid_1's binary_logloss: 8.3658e-06\n",
      "[500]\ttraining's binary_logloss: 1.68891e-05\tvalid_1's binary_logloss: 7.1993e-06\n",
      "[600]\ttraining's binary_logloss: 1.46362e-05\tvalid_1's binary_logloss: 6.56436e-06\n",
      "[700]\ttraining's binary_logloss: 1.33978e-05\tvalid_1's binary_logloss: 6.20229e-06\n",
      "[800]\ttraining's binary_logloss: 1.26862e-05\tvalid_1's binary_logloss: 5.99003e-06\n",
      "[900]\ttraining's binary_logloss: 1.22656e-05\tvalid_1's binary_logloss: 5.86337e-06\n",
      "[1000]\ttraining's binary_logloss: 1.20124e-05\tvalid_1's binary_logloss: 5.78698e-06\n",
      "[1100]\ttraining's binary_logloss: 1.18583e-05\tvalid_1's binary_logloss: 5.74058e-06\n",
      "[1200]\ttraining's binary_logloss: 1.17639e-05\tvalid_1's binary_logloss: 5.71229e-06\n",
      "[1300]\ttraining's binary_logloss: 1.17057e-05\tvalid_1's binary_logloss: 5.69498e-06\n",
      "[1400]\ttraining's binary_logloss: 1.16698e-05\tvalid_1's binary_logloss: 5.68438e-06\n",
      "[1500]\ttraining's binary_logloss: 1.16476e-05\tvalid_1's binary_logloss: 5.67788e-06\n",
      "[1600]\ttraining's binary_logloss: 1.16338e-05\tvalid_1's binary_logloss: 5.67389e-06\n",
      "[1700]\ttraining's binary_logloss: 1.16253e-05\tvalid_1's binary_logloss: 5.67145e-06\n",
      "[1800]\ttraining's binary_logloss: 1.162e-05\tvalid_1's binary_logloss: 5.66994e-06\n",
      "[1900]\ttraining's binary_logloss: 1.16167e-05\tvalid_1's binary_logloss: 5.66902e-06\n",
      "[2000]\ttraining's binary_logloss: 1.16147e-05\tvalid_1's binary_logloss: 5.66845e-06\n",
      "[2100]\ttraining's binary_logloss: 1.16134e-05\tvalid_1's binary_logloss: 5.6681e-06\n",
      "[2200]\ttraining's binary_logloss: 1.16126e-05\tvalid_1's binary_logloss: 5.66789e-06\n",
      "[2300]\ttraining's binary_logloss: 1.16121e-05\tvalid_1's binary_logloss: 5.66775e-06\n",
      "[2400]\ttraining's binary_logloss: 1.16118e-05\tvalid_1's binary_logloss: 5.66767e-06\n",
      "[2500]\ttraining's binary_logloss: 1.16117e-05\tvalid_1's binary_logloss: 5.66762e-06\n",
      "[2600]\ttraining's binary_logloss: 1.16115e-05\tvalid_1's binary_logloss: 5.66759e-06\n",
      "[2700]\ttraining's binary_logloss: 1.16115e-05\tvalid_1's binary_logloss: 5.66757e-06\n",
      "[2800]\ttraining's binary_logloss: 1.16114e-05\tvalid_1's binary_logloss: 5.66756e-06\n",
      "[2900]\ttraining's binary_logloss: 1.16114e-05\tvalid_1's binary_logloss: 5.66755e-06\n",
      "[3000]\ttraining's binary_logloss: 1.16114e-05\tvalid_1's binary_logloss: 5.66755e-06\n",
      "[3100]\ttraining's binary_logloss: 1.16114e-05\tvalid_1's binary_logloss: 5.66755e-06\n",
      "[3200]\ttraining's binary_logloss: 1.16114e-05\tvalid_1's binary_logloss: 5.66755e-06\n",
      "[3300]\ttraining's binary_logloss: 1.16114e-05\tvalid_1's binary_logloss: 5.66754e-06\n",
      "[3400]\ttraining's binary_logloss: 1.16114e-05\tvalid_1's binary_logloss: 5.66754e-06\n",
      "[3500]\ttraining's binary_logloss: 1.16113e-05\tvalid_1's binary_logloss: 5.66754e-06\n",
      "[3600]\ttraining's binary_logloss: 1.16113e-05\tvalid_1's binary_logloss: 5.66754e-06\n",
      "[3700]\ttraining's binary_logloss: 1.16113e-05\tvalid_1's binary_logloss: 5.66754e-06\n",
      "[3800]\ttraining's binary_logloss: 1.16113e-05\tvalid_1's binary_logloss: 5.66754e-06\n",
      "[3900]\ttraining's binary_logloss: 1.16113e-05\tvalid_1's binary_logloss: 5.66754e-06\n",
      "Early stopping, best iteration is:\n",
      "[3882]\ttraining's binary_logloss: 1.16113e-05\tvalid_1's binary_logloss: 5.66754e-06\n"
     ]
    },
    {
     "name": "stderr",
     "output_type": "stream",
     "text": [
      "atp-sensitive_potassium_channel_antagonist logloss: 0.0014546154988172818\n",
      "=========================================================================================\n",
      "================================= fold 1/4 atp_synthase_inhibitor=================================\n"
     ]
    },
    {
     "name": "stdout",
     "output_type": "stream",
     "text": [
      "Training until validation scores don't improve for 50 rounds\n",
      "[100]\ttraining's binary_logloss: 0.000473678\tvalid_1's binary_logloss: 0.0031345\n",
      "[200]\ttraining's binary_logloss: 0.000181463\tvalid_1's binary_logloss: 0.00296814\n",
      "[300]\ttraining's binary_logloss: 8.37564e-05\tvalid_1's binary_logloss: 0.00286851\n",
      "[400]\ttraining's binary_logloss: 4.65956e-05\tvalid_1's binary_logloss: 0.00277244\n",
      "[500]\ttraining's binary_logloss: 3.0862e-05\tvalid_1's binary_logloss: 0.00271189\n",
      "[600]\ttraining's binary_logloss: 2.34536e-05\tvalid_1's binary_logloss: 0.00268903\n",
      "[700]\ttraining's binary_logloss: 1.96011e-05\tvalid_1's binary_logloss: 0.00267787\n",
      "[800]\ttraining's binary_logloss: 1.74471e-05\tvalid_1's binary_logloss: 0.00267015\n",
      "Early stopping, best iteration is:\n",
      "[763]\ttraining's binary_logloss: 1.81078e-05\tvalid_1's binary_logloss: 0.00266906\n"
     ]
    },
    {
     "name": "stderr",
     "output_type": "stream",
     "text": [
      "================================= fold 2/4 atp_synthase_inhibitor=================================\n"
     ]
    },
    {
     "name": "stdout",
     "output_type": "stream",
     "text": [
      "Training until validation scores don't improve for 50 rounds\n",
      "[100]\ttraining's binary_logloss: 0.000505848\tvalid_1's binary_logloss: 0.00315431\n",
      "[200]\ttraining's binary_logloss: 0.00019092\tvalid_1's binary_logloss: 0.0030568\n",
      "Early stopping, best iteration is:\n",
      "[190]\ttraining's binary_logloss: 0.000208836\tvalid_1's binary_logloss: 0.00305117\n"
     ]
    },
    {
     "name": "stderr",
     "output_type": "stream",
     "text": [
      "================================= fold 3/4 atp_synthase_inhibitor=================================\n"
     ]
    },
    {
     "name": "stdout",
     "output_type": "stream",
     "text": [
      "Training until validation scores don't improve for 50 rounds\n",
      "[100]\ttraining's binary_logloss: 0.00052385\tvalid_1's binary_logloss: 0.00197976\n",
      "[200]\ttraining's binary_logloss: 0.000196727\tvalid_1's binary_logloss: 0.00155625\n",
      "[300]\ttraining's binary_logloss: 8.8933e-05\tvalid_1's binary_logloss: 0.00132665\n",
      "[400]\ttraining's binary_logloss: 4.88902e-05\tvalid_1's binary_logloss: 0.00119899\n",
      "[500]\ttraining's binary_logloss: 3.20482e-05\tvalid_1's binary_logloss: 0.00116195\n",
      "[600]\ttraining's binary_logloss: 2.40252e-05\tvalid_1's binary_logloss: 0.00117003\n",
      "Early stopping, best iteration is:\n",
      "[567]\ttraining's binary_logloss: 2.60964e-05\tvalid_1's binary_logloss: 0.00115892\n"
     ]
    },
    {
     "name": "stderr",
     "output_type": "stream",
     "text": [
      "================================= fold 4/4 atp_synthase_inhibitor=================================\n"
     ]
    },
    {
     "name": "stdout",
     "output_type": "stream",
     "text": [
      "Training until validation scores don't improve for 50 rounds\n",
      "[100]\ttraining's binary_logloss: 0.00050243\tvalid_1's binary_logloss: 0.00140703\n",
      "[200]\ttraining's binary_logloss: 0.000188239\tvalid_1's binary_logloss: 0.00106668\n",
      "[300]\ttraining's binary_logloss: 8.58706e-05\tvalid_1's binary_logloss: 0.000952158\n"
     ]
    },
    {
     "name": "stderr",
     "output_type": "stream",
     "text": [
      "atp_synthase_inhibitor logloss: 0.0019547196343033444\n",
      "=========================================================================================\n"
     ]
    },
    {
     "name": "stdout",
     "output_type": "stream",
     "text": [
      "Early stopping, best iteration is:\n",
      "[334]\ttraining's binary_logloss: 6.86793e-05\tvalid_1's binary_logloss: 0.000939422\n"
     ]
    },
    {
     "name": "stderr",
     "output_type": "stream",
     "text": [
      "================================= fold 1/4 atpase_inhibitor=================================\n"
     ]
    },
    {
     "name": "stdout",
     "output_type": "stream",
     "text": [
      "Training until validation scores don't improve for 50 rounds\n",
      "[100]\ttraining's binary_logloss: 0.00542839\tvalid_1's binary_logloss: 0.0207981\n",
      "Early stopping, best iteration is:\n",
      "[133]\ttraining's binary_logloss: 0.00402867\tvalid_1's binary_logloss: 0.0206281\n"
     ]
    },
    {
     "name": "stderr",
     "output_type": "stream",
     "text": [
      "================================= fold 2/4 atpase_inhibitor=================================\n"
     ]
    },
    {
     "name": "stdout",
     "output_type": "stream",
     "text": [
      "Training until validation scores don't improve for 50 rounds\n",
      "[100]\ttraining's binary_logloss: 0.00548094\tvalid_1's binary_logloss: 0.0230815\n",
      "Early stopping, best iteration is:\n",
      "[148]\ttraining's binary_logloss: 0.00358532\tvalid_1's binary_logloss: 0.0229502\n"
     ]
    },
    {
     "name": "stderr",
     "output_type": "stream",
     "text": [
      "================================= fold 3/4 atpase_inhibitor=================================\n"
     ]
    },
    {
     "name": "stdout",
     "output_type": "stream",
     "text": [
      "Training until validation scores don't improve for 50 rounds\n",
      "[100]\ttraining's binary_logloss: 0.00539592\tvalid_1's binary_logloss: 0.0234432\n",
      "Early stopping, best iteration is:\n",
      "[74]\ttraining's binary_logloss: 0.00713154\tvalid_1's binary_logloss: 0.0234009\n"
     ]
    },
    {
     "name": "stderr",
     "output_type": "stream",
     "text": [
      "================================= fold 4/4 atpase_inhibitor=================================\n"
     ]
    },
    {
     "name": "stdout",
     "output_type": "stream",
     "text": [
      "Training until validation scores don't improve for 50 rounds\n",
      "[100]\ttraining's binary_logloss: 0.00538353\tvalid_1's binary_logloss: 0.0222382\n",
      "Early stopping, best iteration is:\n",
      "[99]\ttraining's binary_logloss: 0.00543807\tvalid_1's binary_logloss: 0.0222278\n"
     ]
    },
    {
     "name": "stderr",
     "output_type": "stream",
     "text": [
      "atpase_inhibitor logloss: 0.022301718302569565\n",
      "=========================================================================================\n",
      "================================= fold 1/4 atr_kinase_inhibitor=================================\n"
     ]
    },
    {
     "name": "stdout",
     "output_type": "stream",
     "text": [
      "Training until validation scores don't improve for 50 rounds\n",
      "[100]\ttraining's binary_logloss: 0.000785788\tvalid_1's binary_logloss: 0.00590868\n",
      "[200]\ttraining's binary_logloss: 0.000300111\tvalid_1's binary_logloss: 0.0057798\n",
      "[300]\ttraining's binary_logloss: 0.000140099\tvalid_1's binary_logloss: 0.00572895\n",
      "Early stopping, best iteration is:\n",
      "[325]\ttraining's binary_logloss: 0.000119111\tvalid_1's binary_logloss: 0.00572268\n"
     ]
    },
    {
     "name": "stderr",
     "output_type": "stream",
     "text": [
      "================================= fold 2/4 atr_kinase_inhibitor=================================\n"
     ]
    },
    {
     "name": "stdout",
     "output_type": "stream",
     "text": [
      "Training until validation scores don't improve for 50 rounds\n",
      "[100]\ttraining's binary_logloss: 0.000775281\tvalid_1's binary_logloss: 0.00564419\n",
      "[200]\ttraining's binary_logloss: 0.000295154\tvalid_1's binary_logloss: 0.00557849\n",
      "Early stopping, best iteration is:\n",
      "[183]\ttraining's binary_logloss: 0.000342636\tvalid_1's binary_logloss: 0.00556425\n"
     ]
    },
    {
     "name": "stderr",
     "output_type": "stream",
     "text": [
      "================================= fold 3/4 atr_kinase_inhibitor=================================\n"
     ]
    },
    {
     "name": "stdout",
     "output_type": "stream",
     "text": [
      "Training until validation scores don't improve for 50 rounds\n",
      "[100]\ttraining's binary_logloss: 0.000849297\tvalid_1's binary_logloss: 0.00460361\n",
      "Early stopping, best iteration is:\n",
      "[143]\ttraining's binary_logloss: 0.000541313\tvalid_1's binary_logloss: 0.00455855\n"
     ]
    },
    {
     "name": "stderr",
     "output_type": "stream",
     "text": [
      "================================= fold 4/4 atr_kinase_inhibitor=================================\n"
     ]
    },
    {
     "name": "stdout",
     "output_type": "stream",
     "text": [
      "Training until validation scores don't improve for 50 rounds\n",
      "[100]\ttraining's binary_logloss: 0.000790806\tvalid_1's binary_logloss: 0.0060113\n"
     ]
    },
    {
     "name": "stderr",
     "output_type": "stream",
     "text": [
      "atr_kinase_inhibitor logloss: 0.005448847437116063\n",
      "=========================================================================================\n"
     ]
    },
    {
     "name": "stdout",
     "output_type": "stream",
     "text": [
      "Early stopping, best iteration is:\n",
      "[143]\ttraining's binary_logloss: 0.000504092\tvalid_1's binary_logloss: 0.00594984\n"
     ]
    },
    {
     "name": "stderr",
     "output_type": "stream",
     "text": [
      "================================= fold 1/4 aurora_kinase_inhibitor=================================\n"
     ]
    },
    {
     "name": "stdout",
     "output_type": "stream",
     "text": [
      "Training until validation scores don't improve for 50 rounds\n",
      "[100]\ttraining's binary_logloss: 0.00450436\tvalid_1's binary_logloss: 0.0180456\n",
      "[200]\ttraining's binary_logloss: 0.00184554\tvalid_1's binary_logloss: 0.016959\n",
      "Early stopping, best iteration is:\n",
      "[245]\ttraining's binary_logloss: 0.00127688\tvalid_1's binary_logloss: 0.0168887\n"
     ]
    },
    {
     "name": "stderr",
     "output_type": "stream",
     "text": [
      "================================= fold 2/4 aurora_kinase_inhibitor=================================\n"
     ]
    },
    {
     "name": "stdout",
     "output_type": "stream",
     "text": [
      "Training until validation scores don't improve for 50 rounds\n",
      "[100]\ttraining's binary_logloss: 0.00457936\tvalid_1's binary_logloss: 0.0153274\n",
      "[200]\ttraining's binary_logloss: 0.00188485\tvalid_1's binary_logloss: 0.0138639\n",
      "Early stopping, best iteration is:\n",
      "[237]\ttraining's binary_logloss: 0.00142001\tvalid_1's binary_logloss: 0.0137128\n"
     ]
    },
    {
     "name": "stderr",
     "output_type": "stream",
     "text": [
      "================================= fold 3/4 aurora_kinase_inhibitor=================================\n"
     ]
    },
    {
     "name": "stdout",
     "output_type": "stream",
     "text": [
      "Training until validation scores don't improve for 50 rounds\n",
      "[100]\ttraining's binary_logloss: 0.0045662\tvalid_1's binary_logloss: 0.0171672\n",
      "[200]\ttraining's binary_logloss: 0.00191494\tvalid_1's binary_logloss: 0.0160046\n",
      "Early stopping, best iteration is:\n",
      "[240]\ttraining's binary_logloss: 0.00140613\tvalid_1's binary_logloss: 0.0159162\n"
     ]
    },
    {
     "name": "stderr",
     "output_type": "stream",
     "text": [
      "================================= fold 4/4 aurora_kinase_inhibitor=================================\n"
     ]
    },
    {
     "name": "stdout",
     "output_type": "stream",
     "text": [
      "Training until validation scores don't improve for 50 rounds\n",
      "[100]\ttraining's binary_logloss: 0.00448782\tvalid_1's binary_logloss: 0.0181273\n",
      "[200]\ttraining's binary_logloss: 0.00185226\tvalid_1's binary_logloss: 0.0161433\n",
      "[300]\ttraining's binary_logloss: 0.000864695\tvalid_1's binary_logloss: 0.0159085\n",
      "Early stopping, best iteration is:\n",
      "[273]\ttraining's binary_logloss: 0.00105395\tvalid_1's binary_logloss: 0.0158163\n"
     ]
    },
    {
     "name": "stderr",
     "output_type": "stream",
     "text": [
      "aurora_kinase_inhibitor logloss: 0.015583472017307554\n",
      "=========================================================================================\n",
      "================================= fold 1/4 autotaxin_inhibitor=================================\n"
     ]
    },
    {
     "name": "stdout",
     "output_type": "stream",
     "text": [
      "Training until validation scores don't improve for 50 rounds\n",
      "Early stopping, best iteration is:\n",
      "[1]\ttraining's binary_logloss: 0.00206365\tvalid_1's binary_logloss: 0.00304816\n"
     ]
    },
    {
     "name": "stderr",
     "output_type": "stream",
     "text": [
      "================================= fold 2/4 autotaxin_inhibitor=================================\n"
     ]
    },
    {
     "name": "stdout",
     "output_type": "stream",
     "text": [
      "Training until validation scores don't improve for 50 rounds\n",
      "Early stopping, best iteration is:\n",
      "[1]\ttraining's binary_logloss: 0.00205286\tvalid_1's binary_logloss: 0.00304816\n"
     ]
    },
    {
     "name": "stderr",
     "output_type": "stream",
     "text": [
      "================================= fold 3/4 autotaxin_inhibitor=================================\n"
     ]
    },
    {
     "name": "stdout",
     "output_type": "stream",
     "text": [
      "Training until validation scores don't improve for 50 rounds\n",
      "[100]\ttraining's binary_logloss: 0.000333473\tvalid_1's binary_logloss: 0.0015558\n",
      "[200]\ttraining's binary_logloss: 0.000132638\tvalid_1's binary_logloss: 0.00154387\n",
      "Early stopping, best iteration is:\n",
      "[182]\ttraining's binary_logloss: 0.000153179\tvalid_1's binary_logloss: 0.00154315\n"
     ]
    },
    {
     "name": "stderr",
     "output_type": "stream",
     "text": [
      "================================= fold 4/4 autotaxin_inhibitor=================================\n"
     ]
    },
    {
     "name": "stdout",
     "output_type": "stream",
     "text": [
      "Training until validation scores don't improve for 50 rounds\n"
     ]
    },
    {
     "name": "stderr",
     "output_type": "stream",
     "text": [
      "autotaxin_inhibitor logloss: 0.0023189592413415472\n",
      "=========================================================================================\n"
     ]
    },
    {
     "name": "stdout",
     "output_type": "stream",
     "text": [
      "Early stopping, best iteration is:\n",
      "[48]\ttraining's binary_logloss: 0.000623344\tvalid_1's binary_logloss: 0.00163612\n"
     ]
    },
    {
     "name": "stderr",
     "output_type": "stream",
     "text": [
      "================================= fold 1/4 bacterial_30s_ribosomal_subunit_inhibitor=================================\n"
     ]
    },
    {
     "name": "stdout",
     "output_type": "stream",
     "text": [
      "Training until validation scores don't improve for 50 rounds\n",
      "Early stopping, best iteration is:\n",
      "[15]\ttraining's binary_logloss: 0.0107211\tvalid_1's binary_logloss: 0.0175578\n"
     ]
    },
    {
     "name": "stderr",
     "output_type": "stream",
     "text": [
      "================================= fold 2/4 bacterial_30s_ribosomal_subunit_inhibitor=================================\n"
     ]
    },
    {
     "name": "stdout",
     "output_type": "stream",
     "text": [
      "Training until validation scores don't improve for 50 rounds\n",
      "Early stopping, best iteration is:\n",
      "[24]\ttraining's binary_logloss: 0.00866381\tvalid_1's binary_logloss: 0.0174688\n"
     ]
    },
    {
     "name": "stderr",
     "output_type": "stream",
     "text": [
      "================================= fold 3/4 bacterial_30s_ribosomal_subunit_inhibitor=================================\n"
     ]
    },
    {
     "name": "stdout",
     "output_type": "stream",
     "text": [
      "Training until validation scores don't improve for 50 rounds\n",
      "Early stopping, best iteration is:\n",
      "[1]\ttraining's binary_logloss: 0.0168228\tvalid_1's binary_logloss: 0.0176073\n"
     ]
    },
    {
     "name": "stderr",
     "output_type": "stream",
     "text": [
      "================================= fold 4/4 bacterial_30s_ribosomal_subunit_inhibitor=================================\n"
     ]
    },
    {
     "name": "stdout",
     "output_type": "stream",
     "text": [
      "Training until validation scores don't improve for 50 rounds\n"
     ]
    },
    {
     "name": "stderr",
     "output_type": "stream",
     "text": [
      "bacterial_30s_ribosomal_subunit_inhibitor logloss: 0.017537055044748385\n",
      "=========================================================================================\n"
     ]
    },
    {
     "name": "stdout",
     "output_type": "stream",
     "text": [
      "Early stopping, best iteration is:\n",
      "[10]\ttraining's binary_logloss: 0.012392\tvalid_1's binary_logloss: 0.0175144\n"
     ]
    },
    {
     "name": "stderr",
     "output_type": "stream",
     "text": [
      "================================= fold 1/4 bacterial_50s_ribosomal_subunit_inhibitor=================================\n"
     ]
    },
    {
     "name": "stdout",
     "output_type": "stream",
     "text": [
      "Training until validation scores don't improve for 50 rounds\n",
      "Early stopping, best iteration is:\n",
      "[34]\ttraining's binary_logloss: 0.010368\tvalid_1's binary_logloss: 0.0220892\n"
     ]
    },
    {
     "name": "stderr",
     "output_type": "stream",
     "text": [
      "================================= fold 2/4 bacterial_50s_ribosomal_subunit_inhibitor=================================\n"
     ]
    },
    {
     "name": "stdout",
     "output_type": "stream",
     "text": [
      "Training until validation scores don't improve for 50 rounds\n",
      "[100]\ttraining's binary_logloss: 0.00481084\tvalid_1's binary_logloss: 0.0227754\n",
      "Early stopping, best iteration is:\n",
      "[52]\ttraining's binary_logloss: 0.00802059\tvalid_1's binary_logloss: 0.022456\n"
     ]
    },
    {
     "name": "stderr",
     "output_type": "stream",
     "text": [
      "================================= fold 3/4 bacterial_50s_ribosomal_subunit_inhibitor=================================\n"
     ]
    },
    {
     "name": "stdout",
     "output_type": "stream",
     "text": [
      "Training until validation scores don't improve for 50 rounds\n",
      "Early stopping, best iteration is:\n",
      "[1]\ttraining's binary_logloss: 0.0217897\tvalid_1's binary_logloss: 0.0225066\n"
     ]
    },
    {
     "name": "stderr",
     "output_type": "stream",
     "text": [
      "================================= fold 4/4 bacterial_50s_ribosomal_subunit_inhibitor=================================\n"
     ]
    },
    {
     "name": "stdout",
     "output_type": "stream",
     "text": [
      "Training until validation scores don't improve for 50 rounds\n"
     ]
    },
    {
     "name": "stderr",
     "output_type": "stream",
     "text": [
      "bacterial_50s_ribosomal_subunit_inhibitor logloss: 0.02233256988267242\n",
      "=========================================================================================\n"
     ]
    },
    {
     "name": "stdout",
     "output_type": "stream",
     "text": [
      "Early stopping, best iteration is:\n",
      "[34]\ttraining's binary_logloss: 0.0101703\tvalid_1's binary_logloss: 0.0222785\n"
     ]
    },
    {
     "name": "stderr",
     "output_type": "stream",
     "text": [
      "================================= fold 1/4 bacterial_antifolate=================================\n"
     ]
    },
    {
     "name": "stdout",
     "output_type": "stream",
     "text": [
      "Training until validation scores don't improve for 50 rounds\n",
      "Early stopping, best iteration is:\n",
      "[7]\ttraining's binary_logloss: 0.0081496\tvalid_1's binary_logloss: 0.0112969\n"
     ]
    },
    {
     "name": "stderr",
     "output_type": "stream",
     "text": [
      "================================= fold 2/4 bacterial_antifolate=================================\n"
     ]
    },
    {
     "name": "stdout",
     "output_type": "stream",
     "text": [
      "Training until validation scores don't improve for 50 rounds\n",
      "Early stopping, best iteration is:\n",
      "[1]\ttraining's binary_logloss: 0.0108031\tvalid_1's binary_logloss: 0.011333\n"
     ]
    },
    {
     "name": "stderr",
     "output_type": "stream",
     "text": [
      "================================= fold 3/4 bacterial_antifolate=================================\n"
     ]
    },
    {
     "name": "stdout",
     "output_type": "stream",
     "text": [
      "Training until validation scores don't improve for 50 rounds\n",
      "[100]\ttraining's binary_logloss: 0.00180352\tvalid_1's binary_logloss: 0.0110447\n",
      "Early stopping, best iteration is:\n",
      "[95]\ttraining's binary_logloss: 0.00188642\tvalid_1's binary_logloss: 0.0110364\n"
     ]
    },
    {
     "name": "stderr",
     "output_type": "stream",
     "text": [
      "================================= fold 4/4 bacterial_antifolate=================================\n"
     ]
    },
    {
     "name": "stdout",
     "output_type": "stream",
     "text": [
      "Training until validation scores don't improve for 50 rounds\n"
     ]
    },
    {
     "name": "stderr",
     "output_type": "stream",
     "text": [
      "bacterial_antifolate logloss: 0.011210621997228467\n",
      "=========================================================================================\n"
     ]
    },
    {
     "name": "stdout",
     "output_type": "stream",
     "text": [
      "Early stopping, best iteration is:\n",
      "[14]\ttraining's binary_logloss: 0.00684818\tvalid_1's binary_logloss: 0.0111763\n"
     ]
    },
    {
     "name": "stderr",
     "output_type": "stream",
     "text": [
      "================================= fold 1/4 bacterial_cell_wall_synthesis_inhibitor=================================\n"
     ]
    },
    {
     "name": "stdout",
     "output_type": "stream",
     "text": [
      "Training until validation scores don't improve for 50 rounds\n",
      "[100]\ttraining's binary_logloss: 0.0190372\tvalid_1's binary_logloss: 0.0462543\n",
      "Early stopping, best iteration is:\n",
      "[122]\ttraining's binary_logloss: 0.0167264\tvalid_1's binary_logloss: 0.046174\n"
     ]
    },
    {
     "name": "stderr",
     "output_type": "stream",
     "text": [
      "================================= fold 2/4 bacterial_cell_wall_synthesis_inhibitor=================================\n"
     ]
    },
    {
     "name": "stdout",
     "output_type": "stream",
     "text": [
      "Training until validation scores don't improve for 50 rounds\n",
      "[100]\ttraining's binary_logloss: 0.020234\tvalid_1's binary_logloss: 0.0462615\n",
      "Early stopping, best iteration is:\n",
      "[74]\ttraining's binary_logloss: 0.0242165\tvalid_1's binary_logloss: 0.0461497\n"
     ]
    },
    {
     "name": "stderr",
     "output_type": "stream",
     "text": [
      "================================= fold 3/4 bacterial_cell_wall_synthesis_inhibitor=================================\n"
     ]
    },
    {
     "name": "stdout",
     "output_type": "stream",
     "text": [
      "Training until validation scores don't improve for 50 rounds\n",
      "[100]\ttraining's binary_logloss: 0.0175165\tvalid_1's binary_logloss: 0.0466427\n",
      "Early stopping, best iteration is:\n",
      "[104]\ttraining's binary_logloss: 0.017186\tvalid_1's binary_logloss: 0.0465976\n"
     ]
    },
    {
     "name": "stderr",
     "output_type": "stream",
     "text": [
      "================================= fold 4/4 bacterial_cell_wall_synthesis_inhibitor=================================\n"
     ]
    },
    {
     "name": "stdout",
     "output_type": "stream",
     "text": [
      "Training until validation scores don't improve for 50 rounds\n",
      "[100]\ttraining's binary_logloss: 0.0195872\tvalid_1's binary_logloss: 0.0459703\n"
     ]
    },
    {
     "name": "stderr",
     "output_type": "stream",
     "text": [
      "bacterial_cell_wall_synthesis_inhibitor logloss: 0.04620768454820909\n"
     ]
    },
    {
     "name": "stdout",
     "output_type": "stream",
     "text": [
      "Early stopping, best iteration is:\n",
      "[116]\ttraining's binary_logloss: 0.0178804\tvalid_1's binary_logloss: 0.0459095\n"
     ]
    },
    {
     "name": "stderr",
     "output_type": "stream",
     "text": [
      "=========================================================================================\n",
      "================================= fold 1/4 bacterial_dna_gyrase_inhibitor=================================\n"
     ]
    },
    {
     "name": "stdout",
     "output_type": "stream",
     "text": [
      "Training until validation scores don't improve for 50 rounds\n",
      "Early stopping, best iteration is:\n",
      "[12]\ttraining's binary_logloss: 0.0175674\tvalid_1's binary_logloss: 0.0242781\n"
     ]
    },
    {
     "name": "stderr",
     "output_type": "stream",
     "text": [
      "================================= fold 2/4 bacterial_dna_gyrase_inhibitor=================================\n"
     ]
    },
    {
     "name": "stdout",
     "output_type": "stream",
     "text": [
      "Training until validation scores don't improve for 50 rounds\n",
      "Early stopping, best iteration is:\n",
      "[1]\ttraining's binary_logloss: 0.0239314\tvalid_1's binary_logloss: 0.0253393\n"
     ]
    },
    {
     "name": "stderr",
     "output_type": "stream",
     "text": [
      "================================= fold 3/4 bacterial_dna_gyrase_inhibitor=================================\n"
     ]
    },
    {
     "name": "stdout",
     "output_type": "stream",
     "text": [
      "Training until validation scores don't improve for 50 rounds\n",
      "Early stopping, best iteration is:\n",
      "[33]\ttraining's binary_logloss: 0.0117978\tvalid_1's binary_logloss: 0.0243093\n"
     ]
    },
    {
     "name": "stderr",
     "output_type": "stream",
     "text": [
      "================================= fold 4/4 bacterial_dna_gyrase_inhibitor=================================\n"
     ]
    },
    {
     "name": "stdout",
     "output_type": "stream",
     "text": [
      "Training until validation scores don't improve for 50 rounds\n"
     ]
    },
    {
     "name": "stderr",
     "output_type": "stream",
     "text": [
      "bacterial_dna_gyrase_inhibitor logloss: 0.024509668002531577\n",
      "=========================================================================================\n"
     ]
    },
    {
     "name": "stdout",
     "output_type": "stream",
     "text": [
      "Early stopping, best iteration is:\n",
      "[41]\ttraining's binary_logloss: 0.0103088\tvalid_1's binary_logloss: 0.0241118\n"
     ]
    },
    {
     "name": "stderr",
     "output_type": "stream",
     "text": [
      "================================= fold 1/4 bacterial_dna_inhibitor=================================\n"
     ]
    },
    {
     "name": "stdout",
     "output_type": "stream",
     "text": [
      "Training until validation scores don't improve for 50 rounds\n",
      "Early stopping, best iteration is:\n",
      "[5]\ttraining's binary_logloss: 0.0269262\tvalid_1's binary_logloss: 0.0307569\n"
     ]
    },
    {
     "name": "stderr",
     "output_type": "stream",
     "text": [
      "================================= fold 2/4 bacterial_dna_inhibitor=================================\n"
     ]
    },
    {
     "name": "stdout",
     "output_type": "stream",
     "text": [
      "Training until validation scores don't improve for 50 rounds\n",
      "[100]\ttraining's binary_logloss: 0.00869028\tvalid_1's binary_logloss: 0.0306713\n",
      "Early stopping, best iteration is:\n",
      "[60]\ttraining's binary_logloss: 0.0119539\tvalid_1's binary_logloss: 0.0305802\n"
     ]
    },
    {
     "name": "stderr",
     "output_type": "stream",
     "text": [
      "================================= fold 3/4 bacterial_dna_inhibitor=================================\n"
     ]
    },
    {
     "name": "stdout",
     "output_type": "stream",
     "text": [
      "Training until validation scores don't improve for 50 rounds\n",
      "[100]\ttraining's binary_logloss: 0.0080265\tvalid_1's binary_logloss: 0.0297114\n",
      "Early stopping, best iteration is:\n",
      "[68]\ttraining's binary_logloss: 0.0105445\tvalid_1's binary_logloss: 0.0296032\n"
     ]
    },
    {
     "name": "stderr",
     "output_type": "stream",
     "text": [
      "================================= fold 4/4 bacterial_dna_inhibitor=================================\n"
     ]
    },
    {
     "name": "stdout",
     "output_type": "stream",
     "text": [
      "Training until validation scores don't improve for 50 rounds\n"
     ]
    },
    {
     "name": "stderr",
     "output_type": "stream",
     "text": [
      "bacterial_dna_inhibitor logloss: 0.03043289593640187\n",
      "=========================================================================================\n"
     ]
    },
    {
     "name": "stdout",
     "output_type": "stream",
     "text": [
      "Early stopping, best iteration is:\n",
      "[3]\ttraining's binary_logloss: 0.0288531\tvalid_1's binary_logloss: 0.0307912\n"
     ]
    },
    {
     "name": "stderr",
     "output_type": "stream",
     "text": [
      "================================= fold 1/4 bacterial_membrane_integrity_inhibitor=================================\n"
     ]
    },
    {
     "name": "stdout",
     "output_type": "stream",
     "text": [
      "Training until validation scores don't improve for 50 rounds\n",
      "[100]\ttraining's binary_logloss: 0.000290119\tvalid_1's binary_logloss: 0.00197663\n",
      "[200]\ttraining's binary_logloss: 0.00011516\tvalid_1's binary_logloss: 0.00186457\n",
      "Early stopping, best iteration is:\n",
      "[189]\ttraining's binary_logloss: 0.000126022\tvalid_1's binary_logloss: 0.00186082\n"
     ]
    },
    {
     "name": "stderr",
     "output_type": "stream",
     "text": [
      "================================= fold 2/4 bacterial_membrane_integrity_inhibitor=================================\n"
     ]
    },
    {
     "name": "stdout",
     "output_type": "stream",
     "text": [
      "Training until validation scores don't improve for 50 rounds\n",
      "[100]\ttraining's binary_logloss: 0.000289326\tvalid_1's binary_logloss: 0.00203134\n",
      "[200]\ttraining's binary_logloss: 0.000115468\tvalid_1's binary_logloss: 0.00193966\n",
      "[300]\ttraining's binary_logloss: 5.70627e-05\tvalid_1's binary_logloss: 0.00192104\n",
      "[400]\ttraining's binary_logloss: 3.42381e-05\tvalid_1's binary_logloss: 0.00193268\n",
      "Early stopping, best iteration is:\n",
      "[353]\ttraining's binary_logloss: 4.25441e-05\tvalid_1's binary_logloss: 0.00191644\n"
     ]
    },
    {
     "name": "stderr",
     "output_type": "stream",
     "text": [
      "================================= fold 3/4 bacterial_membrane_integrity_inhibitor=================================\n"
     ]
    },
    {
     "name": "stdout",
     "output_type": "stream",
     "text": [
      "Training until validation scores don't improve for 50 rounds\n",
      "[100]\ttraining's binary_logloss: 0.000337819\tvalid_1's binary_logloss: 0.00104085\n",
      "[200]\ttraining's binary_logloss: 0.000132632\tvalid_1's binary_logloss: 0.00100589\n",
      "[300]\ttraining's binary_logloss: 6.40588e-05\tvalid_1's binary_logloss: 0.000968468\n",
      "[400]\ttraining's binary_logloss: 3.74725e-05\tvalid_1's binary_logloss: 0.000936376\n",
      "Early stopping, best iteration is:\n",
      "[405]\ttraining's binary_logloss: 3.66584e-05\tvalid_1's binary_logloss: 0.000934987\n"
     ]
    },
    {
     "name": "stderr",
     "output_type": "stream",
     "text": [
      "================================= fold 4/4 bacterial_membrane_integrity_inhibitor=================================\n"
     ]
    },
    {
     "name": "stdout",
     "output_type": "stream",
     "text": [
      "Training until validation scores don't improve for 50 rounds\n",
      "[100]\ttraining's binary_logloss: 0.000288176\tvalid_1's binary_logloss: 0.0022309\n"
     ]
    },
    {
     "name": "stderr",
     "output_type": "stream",
     "text": [
      "bacterial_membrane_integrity_inhibitor logloss: 0.0017327751926269844\n",
      "=========================================================================================\n"
     ]
    },
    {
     "name": "stdout",
     "output_type": "stream",
     "text": [
      "Early stopping, best iteration is:\n",
      "[105]\ttraining's binary_logloss: 0.000273423\tvalid_1's binary_logloss: 0.00221881\n"
     ]
    },
    {
     "name": "stderr",
     "output_type": "stream",
     "text": [
      "================================= fold 1/4 bcl_inhibitor=================================\n"
     ]
    },
    {
     "name": "stdout",
     "output_type": "stream",
     "text": [
      "Training until validation scores don't improve for 50 rounds\n",
      "[100]\ttraining's binary_logloss: 0.00147115\tvalid_1's binary_logloss: 0.00992936\n",
      "Early stopping, best iteration is:\n",
      "[85]\ttraining's binary_logloss: 0.00173148\tvalid_1's binary_logloss: 0.00990449\n"
     ]
    },
    {
     "name": "stderr",
     "output_type": "stream",
     "text": [
      "================================= fold 2/4 bcl_inhibitor=================================\n"
     ]
    },
    {
     "name": "stdout",
     "output_type": "stream",
     "text": [
      "Training until validation scores don't improve for 50 rounds\n",
      "[100]\ttraining's binary_logloss: 0.00148921\tvalid_1's binary_logloss: 0.0098213\n",
      "Early stopping, best iteration is:\n",
      "[98]\ttraining's binary_logloss: 0.00152029\tvalid_1's binary_logloss: 0.00981973\n"
     ]
    },
    {
     "name": "stderr",
     "output_type": "stream",
     "text": [
      "================================= fold 3/4 bcl_inhibitor=================================\n"
     ]
    },
    {
     "name": "stdout",
     "output_type": "stream",
     "text": [
      "Training until validation scores don't improve for 50 rounds\n",
      "[100]\ttraining's binary_logloss: 0.00150625\tvalid_1's binary_logloss: 0.0086077\n",
      "Early stopping, best iteration is:\n",
      "[68]\ttraining's binary_logloss: 0.00216399\tvalid_1's binary_logloss: 0.00857666\n"
     ]
    },
    {
     "name": "stderr",
     "output_type": "stream",
     "text": [
      "================================= fold 4/4 bcl_inhibitor=================================\n"
     ]
    },
    {
     "name": "stdout",
     "output_type": "stream",
     "text": [
      "Training until validation scores don't improve for 50 rounds\n",
      "[100]\ttraining's binary_logloss: 0.00146502\tvalid_1's binary_logloss: 0.00951652\n"
     ]
    },
    {
     "name": "stderr",
     "output_type": "stream",
     "text": [
      "bcl_inhibitor logloss: 0.009450441014394675\n",
      "=========================================================================================\n"
     ]
    },
    {
     "name": "stdout",
     "output_type": "stream",
     "text": [
      "Early stopping, best iteration is:\n",
      "[83]\ttraining's binary_logloss: 0.00176043\tvalid_1's binary_logloss: 0.00950075\n"
     ]
    },
    {
     "name": "stderr",
     "output_type": "stream",
     "text": [
      "================================= fold 1/4 bcr-abl_inhibitor=================================\n"
     ]
    },
    {
     "name": "stdout",
     "output_type": "stream",
     "text": [
      "Training until validation scores don't improve for 50 rounds\n",
      "[100]\ttraining's binary_logloss: 0.00181706\tvalid_1's binary_logloss: 0.0110679\n",
      "Early stopping, best iteration is:\n",
      "[76]\ttraining's binary_logloss: 0.00236666\tvalid_1's binary_logloss: 0.0110275\n"
     ]
    },
    {
     "name": "stderr",
     "output_type": "stream",
     "text": [
      "================================= fold 2/4 bcr-abl_inhibitor=================================\n"
     ]
    },
    {
     "name": "stdout",
     "output_type": "stream",
     "text": [
      "Training until validation scores don't improve for 50 rounds\n",
      "[100]\ttraining's binary_logloss: 0.00176919\tvalid_1's binary_logloss: 0.0105082\n",
      "Early stopping, best iteration is:\n",
      "[92]\ttraining's binary_logloss: 0.00192667\tvalid_1's binary_logloss: 0.010476\n"
     ]
    },
    {
     "name": "stderr",
     "output_type": "stream",
     "text": [
      "================================= fold 3/4 bcr-abl_inhibitor=================================\n"
     ]
    },
    {
     "name": "stdout",
     "output_type": "stream",
     "text": [
      "Training until validation scores don't improve for 50 rounds\n",
      "[100]\ttraining's binary_logloss: 0.00184358\tvalid_1's binary_logloss: 0.00985789\n",
      "Early stopping, best iteration is:\n",
      "[84]\ttraining's binary_logloss: 0.0021951\tvalid_1's binary_logloss: 0.00984109\n"
     ]
    },
    {
     "name": "stderr",
     "output_type": "stream",
     "text": [
      "================================= fold 4/4 bcr-abl_inhibitor=================================\n"
     ]
    },
    {
     "name": "stdout",
     "output_type": "stream",
     "text": [
      "Training until validation scores don't improve for 50 rounds\n",
      "[100]\ttraining's binary_logloss: 0.00177319\tvalid_1's binary_logloss: 0.0106775\n"
     ]
    },
    {
     "name": "stderr",
     "output_type": "stream",
     "text": [
      "bcr-abl_inhibitor logloss: 0.010503292861535904\n",
      "=========================================================================================\n"
     ]
    },
    {
     "name": "stdout",
     "output_type": "stream",
     "text": [
      "Early stopping, best iteration is:\n",
      "[113]\ttraining's binary_logloss: 0.00154596\tvalid_1's binary_logloss: 0.0106685\n"
     ]
    },
    {
     "name": "stderr",
     "output_type": "stream",
     "text": [
      "================================= fold 1/4 benzodiazepine_receptor_agonist=================================\n"
     ]
    },
    {
     "name": "stdout",
     "output_type": "stream",
     "text": [
      "Training until validation scores don't improve for 50 rounds\n",
      "[100]\ttraining's binary_logloss: 0.00386941\tvalid_1's binary_logloss: 0.0194401\n",
      "Early stopping, best iteration is:\n",
      "[79]\ttraining's binary_logloss: 0.00478629\tvalid_1's binary_logloss: 0.0194032\n"
     ]
    },
    {
     "name": "stderr",
     "output_type": "stream",
     "text": [
      "================================= fold 2/4 benzodiazepine_receptor_agonist=================================\n"
     ]
    },
    {
     "name": "stdout",
     "output_type": "stream",
     "text": [
      "Training until validation scores don't improve for 50 rounds\n",
      "Early stopping, best iteration is:\n",
      "[13]\ttraining's binary_logloss: 0.0136308\tvalid_1's binary_logloss: 0.0193879\n"
     ]
    },
    {
     "name": "stderr",
     "output_type": "stream",
     "text": [
      "================================= fold 3/4 benzodiazepine_receptor_agonist=================================\n"
     ]
    },
    {
     "name": "stdout",
     "output_type": "stream",
     "text": [
      "Training until validation scores don't improve for 50 rounds\n",
      "[100]\ttraining's binary_logloss: 0.00429085\tvalid_1's binary_logloss: 0.0185553\n",
      "Early stopping, best iteration is:\n",
      "[105]\ttraining's binary_logloss: 0.00413809\tvalid_1's binary_logloss: 0.0185227\n"
     ]
    },
    {
     "name": "stderr",
     "output_type": "stream",
     "text": [
      "================================= fold 4/4 benzodiazepine_receptor_agonist=================================\n"
     ]
    },
    {
     "name": "stdout",
     "output_type": "stream",
     "text": [
      "Training until validation scores don't improve for 50 rounds\n"
     ]
    },
    {
     "name": "stderr",
     "output_type": "stream",
     "text": [
      "benzodiazepine_receptor_agonist logloss: 0.01922731158956313\n",
      "=========================================================================================\n"
     ]
    },
    {
     "name": "stdout",
     "output_type": "stream",
     "text": [
      "Early stopping, best iteration is:\n",
      "[1]\ttraining's binary_logloss: 0.0185998\tvalid_1's binary_logloss: 0.0195954\n"
     ]
    },
    {
     "name": "stderr",
     "output_type": "stream",
     "text": [
      "================================= fold 1/4 beta_amyloid_inhibitor=================================\n"
     ]
    },
    {
     "name": "stdout",
     "output_type": "stream",
     "text": [
      "Training until validation scores don't improve for 50 rounds\n",
      "Early stopping, best iteration is:\n",
      "[12]\ttraining's binary_logloss: 0.00519271\tvalid_1's binary_logloss: 0.0078724\n"
     ]
    },
    {
     "name": "stderr",
     "output_type": "stream",
     "text": [
      "================================= fold 2/4 beta_amyloid_inhibitor=================================\n"
     ]
    },
    {
     "name": "stdout",
     "output_type": "stream",
     "text": [
      "Training until validation scores don't improve for 50 rounds\n",
      "Early stopping, best iteration is:\n",
      "[1]\ttraining's binary_logloss: 0.00770102\tvalid_1's binary_logloss: 0.00796349\n"
     ]
    },
    {
     "name": "stderr",
     "output_type": "stream",
     "text": [
      "================================= fold 3/4 beta_amyloid_inhibitor=================================\n"
     ]
    },
    {
     "name": "stdout",
     "output_type": "stream",
     "text": [
      "Training until validation scores don't improve for 50 rounds\n",
      "Early stopping, best iteration is:\n",
      "[1]\ttraining's binary_logloss: 0.00766679\tvalid_1's binary_logloss: 0.00796308\n"
     ]
    },
    {
     "name": "stderr",
     "output_type": "stream",
     "text": [
      "================================= fold 4/4 beta_amyloid_inhibitor=================================\n"
     ]
    },
    {
     "name": "stdout",
     "output_type": "stream",
     "text": [
      "Training until validation scores don't improve for 50 rounds\n"
     ]
    },
    {
     "name": "stderr",
     "output_type": "stream",
     "text": [
      "beta_amyloid_inhibitor logloss: 0.007940801344227411\n",
      "=========================================================================================\n"
     ]
    },
    {
     "name": "stdout",
     "output_type": "stream",
     "text": [
      "Early stopping, best iteration is:\n",
      "[1]\ttraining's binary_logloss: 0.00760661\tvalid_1's binary_logloss: 0.00796425\n"
     ]
    },
    {
     "name": "stderr",
     "output_type": "stream",
     "text": [
      "================================= fold 1/4 bromodomain_inhibitor=================================\n"
     ]
    },
    {
     "name": "stdout",
     "output_type": "stream",
     "text": [
      "Training until validation scores don't improve for 50 rounds\n",
      "[100]\ttraining's binary_logloss: 0.00348893\tvalid_1's binary_logloss: 0.0142053\n",
      "Early stopping, best iteration is:\n",
      "[148]\ttraining's binary_logloss: 0.00218749\tvalid_1's binary_logloss: 0.014012\n"
     ]
    },
    {
     "name": "stderr",
     "output_type": "stream",
     "text": [
      "================================= fold 2/4 bromodomain_inhibitor=================================\n"
     ]
    },
    {
     "name": "stdout",
     "output_type": "stream",
     "text": [
      "Training until validation scores don't improve for 50 rounds\n",
      "[100]\ttraining's binary_logloss: 0.00329222\tvalid_1's binary_logloss: 0.0150871\n",
      "[200]\ttraining's binary_logloss: 0.00132805\tvalid_1's binary_logloss: 0.0148013\n",
      "Early stopping, best iteration is:\n",
      "[166]\ttraining's binary_logloss: 0.00175217\tvalid_1's binary_logloss: 0.0147811\n"
     ]
    },
    {
     "name": "stderr",
     "output_type": "stream",
     "text": [
      "================================= fold 3/4 bromodomain_inhibitor=================================\n"
     ]
    },
    {
     "name": "stdout",
     "output_type": "stream",
     "text": [
      "Training until validation scores don't improve for 50 rounds\n",
      "[100]\ttraining's binary_logloss: 0.0032497\tvalid_1's binary_logloss: 0.0153204\n",
      "Early stopping, best iteration is:\n",
      "[96]\ttraining's binary_logloss: 0.0033875\tvalid_1's binary_logloss: 0.0153145\n"
     ]
    },
    {
     "name": "stderr",
     "output_type": "stream",
     "text": [
      "================================= fold 4/4 bromodomain_inhibitor=================================\n"
     ]
    },
    {
     "name": "stdout",
     "output_type": "stream",
     "text": [
      "Training until validation scores don't improve for 50 rounds\n",
      "[100]\ttraining's binary_logloss: 0.00318824\tvalid_1's binary_logloss: 0.0137793\n"
     ]
    },
    {
     "name": "stderr",
     "output_type": "stream",
     "text": [
      "bromodomain_inhibitor logloss: 0.01445078948310706\n",
      "=========================================================================================\n"
     ]
    },
    {
     "name": "stdout",
     "output_type": "stream",
     "text": [
      "Early stopping, best iteration is:\n",
      "[143]\ttraining's binary_logloss: 0.00206986\tvalid_1's binary_logloss: 0.0136956\n"
     ]
    },
    {
     "name": "stderr",
     "output_type": "stream",
     "text": [
      "================================= fold 1/4 btk_inhibitor=================================\n"
     ]
    },
    {
     "name": "stdout",
     "output_type": "stream",
     "text": [
      "Training until validation scores don't improve for 50 rounds\n",
      "[100]\ttraining's binary_logloss: 0.00144691\tvalid_1's binary_logloss: 0.00830278\n",
      "Early stopping, best iteration is:\n",
      "[68]\ttraining's binary_logloss: 0.00201856\tvalid_1's binary_logloss: 0.00823294\n"
     ]
    },
    {
     "name": "stderr",
     "output_type": "stream",
     "text": [
      "================================= fold 2/4 btk_inhibitor=================================\n"
     ]
    },
    {
     "name": "stdout",
     "output_type": "stream",
     "text": [
      "Training until validation scores don't improve for 50 rounds\n",
      "Early stopping, best iteration is:\n",
      "[15]\ttraining's binary_logloss: 0.00521902\tvalid_1's binary_logloss: 0.0101961\n"
     ]
    },
    {
     "name": "stderr",
     "output_type": "stream",
     "text": [
      "================================= fold 3/4 btk_inhibitor=================================\n"
     ]
    },
    {
     "name": "stdout",
     "output_type": "stream",
     "text": [
      "Training until validation scores don't improve for 50 rounds\n",
      "Early stopping, best iteration is:\n",
      "[9]\ttraining's binary_logloss: 0.00656928\tvalid_1's binary_logloss: 0.00902926\n"
     ]
    },
    {
     "name": "stderr",
     "output_type": "stream",
     "text": [
      "================================= fold 4/4 btk_inhibitor=================================\n"
     ]
    },
    {
     "name": "stdout",
     "output_type": "stream",
     "text": [
      "Training until validation scores don't improve for 50 rounds\n",
      "[100]\ttraining's binary_logloss: 0.00145562\tvalid_1's binary_logloss: 0.00885454\n"
     ]
    },
    {
     "name": "stderr",
     "output_type": "stream",
     "text": [
      "btk_inhibitor logloss: 0.00907143174631627\n",
      "=========================================================================================\n"
     ]
    },
    {
     "name": "stdout",
     "output_type": "stream",
     "text": [
      "Early stopping, best iteration is:\n",
      "[119]\ttraining's binary_logloss: 0.00120169\tvalid_1's binary_logloss: 0.00882739\n"
     ]
    },
    {
     "name": "stderr",
     "output_type": "stream",
     "text": [
      "================================= fold 1/4 calcineurin_inhibitor=================================\n"
     ]
    },
    {
     "name": "stdout",
     "output_type": "stream",
     "text": [
      "Training until validation scores don't improve for 50 rounds\n",
      "Early stopping, best iteration is:\n",
      "[2]\ttraining's binary_logloss: 0.0020211\tvalid_1's binary_logloss: 0.00304792\n"
     ]
    },
    {
     "name": "stderr",
     "output_type": "stream",
     "text": [
      "================================= fold 2/4 calcineurin_inhibitor=================================\n"
     ]
    },
    {
     "name": "stdout",
     "output_type": "stream",
     "text": [
      "Training until validation scores don't improve for 50 rounds\n",
      "Early stopping, best iteration is:\n",
      "[1]\ttraining's binary_logloss: 0.00206358\tvalid_1's binary_logloss: 0.00304814\n"
     ]
    },
    {
     "name": "stderr",
     "output_type": "stream",
     "text": [
      "================================= fold 3/4 calcineurin_inhibitor=================================\n"
     ]
    },
    {
     "name": "stdout",
     "output_type": "stream",
     "text": [
      "Training until validation scores don't improve for 50 rounds\n",
      "[100]\ttraining's binary_logloss: 0.000306267\tvalid_1's binary_logloss: 0.00162234\n",
      "Early stopping, best iteration is:\n",
      "[78]\ttraining's binary_logloss: 0.000391874\tvalid_1's binary_logloss: 0.00162045\n"
     ]
    },
    {
     "name": "stderr",
     "output_type": "stream",
     "text": [
      "================================= fold 4/4 calcineurin_inhibitor=================================\n"
     ]
    },
    {
     "name": "stdout",
     "output_type": "stream",
     "text": [
      "Training until validation scores don't improve for 50 rounds\n"
     ]
    },
    {
     "name": "stderr",
     "output_type": "stream",
     "text": [
      "calcineurin_inhibitor logloss: 0.0023387540456307515\n",
      "=========================================================================================\n"
     ]
    },
    {
     "name": "stdout",
     "output_type": "stream",
     "text": [
      "Early stopping, best iteration is:\n",
      "[48]\ttraining's binary_logloss: 0.000561066\tvalid_1's binary_logloss: 0.00163826\n"
     ]
    },
    {
     "name": "stderr",
     "output_type": "stream",
     "text": [
      "================================= fold 1/4 calcium_channel_blocker=================================\n"
     ]
    },
    {
     "name": "stdout",
     "output_type": "stream",
     "text": [
      "Training until validation scores don't improve for 50 rounds\n",
      "[100]\ttraining's binary_logloss: 0.0326846\tvalid_1's binary_logloss: 0.0620332\n",
      "[200]\ttraining's binary_logloss: 0.0203538\tvalid_1's binary_logloss: 0.0616101\n",
      "Early stopping, best iteration is:\n",
      "[171]\ttraining's binary_logloss: 0.0231317\tvalid_1's binary_logloss: 0.061569\n"
     ]
    },
    {
     "name": "stderr",
     "output_type": "stream",
     "text": [
      "================================= fold 2/4 calcium_channel_blocker=================================\n"
     ]
    },
    {
     "name": "stdout",
     "output_type": "stream",
     "text": [
      "Training until validation scores don't improve for 50 rounds\n",
      "[100]\ttraining's binary_logloss: 0.0314157\tvalid_1's binary_logloss: 0.0639405\n",
      "Early stopping, best iteration is:\n",
      "[128]\ttraining's binary_logloss: 0.0272861\tvalid_1's binary_logloss: 0.0638739\n"
     ]
    },
    {
     "name": "stderr",
     "output_type": "stream",
     "text": [
      "================================= fold 3/4 calcium_channel_blocker=================================\n"
     ]
    },
    {
     "name": "stdout",
     "output_type": "stream",
     "text": [
      "Training until validation scores don't improve for 50 rounds\n",
      "[100]\ttraining's binary_logloss: 0.0316442\tvalid_1's binary_logloss: 0.0625465\n",
      "[200]\ttraining's binary_logloss: 0.0200402\tvalid_1's binary_logloss: 0.0620349\n",
      "Early stopping, best iteration is:\n",
      "[178]\ttraining's binary_logloss: 0.0218456\tvalid_1's binary_logloss: 0.0620227\n"
     ]
    },
    {
     "name": "stderr",
     "output_type": "stream",
     "text": [
      "================================= fold 4/4 calcium_channel_blocker=================================\n"
     ]
    },
    {
     "name": "stdout",
     "output_type": "stream",
     "text": [
      "Training until validation scores don't improve for 50 rounds\n",
      "[100]\ttraining's binary_logloss: 0.031732\tvalid_1's binary_logloss: 0.0631906\n",
      "Early stopping, best iteration is:\n",
      "[126]\ttraining's binary_logloss: 0.027988\tvalid_1's binary_logloss: 0.0630803\n"
     ]
    },
    {
     "name": "stderr",
     "output_type": "stream",
     "text": [
      "calcium_channel_blocker logloss: 0.06263649153785765\n",
      "=========================================================================================\n",
      "================================= fold 1/4 cannabinoid_receptor_agonist=================================\n"
     ]
    },
    {
     "name": "stdout",
     "output_type": "stream",
     "text": [
      "Training until validation scores don't improve for 50 rounds\n",
      "Early stopping, best iteration is:\n",
      "[10]\ttraining's binary_logloss: 0.00835158\tvalid_1's binary_logloss: 0.0134703\n"
     ]
    },
    {
     "name": "stderr",
     "output_type": "stream",
     "text": [
      "================================= fold 2/4 cannabinoid_receptor_agonist=================================\n"
     ]
    },
    {
     "name": "stdout",
     "output_type": "stream",
     "text": [
      "Training until validation scores don't improve for 50 rounds\n",
      "Early stopping, best iteration is:\n",
      "[9]\ttraining's binary_logloss: 0.00891867\tvalid_1's binary_logloss: 0.0133522\n"
     ]
    },
    {
     "name": "stderr",
     "output_type": "stream",
     "text": [
      "================================= fold 3/4 cannabinoid_receptor_agonist=================================\n"
     ]
    },
    {
     "name": "stdout",
     "output_type": "stream",
     "text": [
      "Training until validation scores don't improve for 50 rounds\n",
      "Early stopping, best iteration is:\n",
      "[9]\ttraining's binary_logloss: 0.00916138\tvalid_1's binary_logloss: 0.012272\n"
     ]
    },
    {
     "name": "stderr",
     "output_type": "stream",
     "text": [
      "================================= fold 4/4 cannabinoid_receptor_agonist=================================\n"
     ]
    },
    {
     "name": "stdout",
     "output_type": "stream",
     "text": [
      "Training until validation scores don't improve for 50 rounds\n"
     ]
    },
    {
     "name": "stderr",
     "output_type": "stream",
     "text": [
      "cannabinoid_receptor_agonist logloss: 0.01285465233976812\n",
      "=========================================================================================\n"
     ]
    },
    {
     "name": "stdout",
     "output_type": "stream",
     "text": [
      "Early stopping, best iteration is:\n",
      "[32]\ttraining's binary_logloss: 0.00533274\tvalid_1's binary_logloss: 0.0123239\n"
     ]
    },
    {
     "name": "stderr",
     "output_type": "stream",
     "text": [
      "================================= fold 1/4 cannabinoid_receptor_antagonist=================================\n"
     ]
    },
    {
     "name": "stdout",
     "output_type": "stream",
     "text": [
      "Training until validation scores don't improve for 50 rounds\n",
      "Early stopping, best iteration is:\n",
      "[2]\ttraining's binary_logloss: 0.0153245\tvalid_1's binary_logloss: 0.0165923\n"
     ]
    },
    {
     "name": "stderr",
     "output_type": "stream",
     "text": [
      "================================= fold 2/4 cannabinoid_receptor_antagonist=================================\n"
     ]
    },
    {
     "name": "stdout",
     "output_type": "stream",
     "text": [
      "Training until validation scores don't improve for 50 rounds\n",
      "Early stopping, best iteration is:\n",
      "[39]\ttraining's binary_logloss: 0.00647697\tvalid_1's binary_logloss: 0.016491\n"
     ]
    },
    {
     "name": "stderr",
     "output_type": "stream",
     "text": [
      "================================= fold 3/4 cannabinoid_receptor_antagonist=================================\n"
     ]
    },
    {
     "name": "stdout",
     "output_type": "stream",
     "text": [
      "Training until validation scores don't improve for 50 rounds\n",
      "Early stopping, best iteration is:\n",
      "[8]\ttraining's binary_logloss: 0.0132967\tvalid_1's binary_logloss: 0.0155508\n"
     ]
    },
    {
     "name": "stderr",
     "output_type": "stream",
     "text": [
      "================================= fold 4/4 cannabinoid_receptor_antagonist=================================\n"
     ]
    },
    {
     "name": "stdout",
     "output_type": "stream",
     "text": [
      "Training until validation scores don't improve for 50 rounds\n"
     ]
    },
    {
     "name": "stderr",
     "output_type": "stream",
     "text": [
      "cannabinoid_receptor_antagonist logloss: 0.016306642494732168\n",
      "=========================================================================================\n"
     ]
    },
    {
     "name": "stdout",
     "output_type": "stream",
     "text": [
      "Early stopping, best iteration is:\n",
      "[1]\ttraining's binary_logloss: 0.0155789\tvalid_1's binary_logloss: 0.0165923\n"
     ]
    },
    {
     "name": "stderr",
     "output_type": "stream",
     "text": [
      "================================= fold 1/4 carbonic_anhydrase_inhibitor=================================\n"
     ]
    },
    {
     "name": "stdout",
     "output_type": "stream",
     "text": [
      "Training until validation scores don't improve for 50 rounds\n",
      "Early stopping, best iteration is:\n",
      "[1]\ttraining's binary_logloss: 0.0110703\tvalid_1's binary_logloss: 0.0113322\n"
     ]
    },
    {
     "name": "stderr",
     "output_type": "stream",
     "text": [
      "================================= fold 2/4 carbonic_anhydrase_inhibitor=================================\n"
     ]
    },
    {
     "name": "stdout",
     "output_type": "stream",
     "text": [
      "Training until validation scores don't improve for 50 rounds\n",
      "Early stopping, best iteration is:\n",
      "[4]\ttraining's binary_logloss: 0.00966824\tvalid_1's binary_logloss: 0.0112899\n"
     ]
    },
    {
     "name": "stderr",
     "output_type": "stream",
     "text": [
      "================================= fold 3/4 carbonic_anhydrase_inhibitor=================================\n"
     ]
    },
    {
     "name": "stdout",
     "output_type": "stream",
     "text": [
      "Training until validation scores don't improve for 50 rounds\n",
      "Early stopping, best iteration is:\n",
      "[1]\ttraining's binary_logloss: 0.0109229\tvalid_1's binary_logloss: 0.0113342\n"
     ]
    },
    {
     "name": "stderr",
     "output_type": "stream",
     "text": [
      "================================= fold 4/4 carbonic_anhydrase_inhibitor=================================\n"
     ]
    },
    {
     "name": "stdout",
     "output_type": "stream",
     "text": [
      "Training until validation scores don't improve for 50 rounds\n"
     ]
    },
    {
     "name": "stderr",
     "output_type": "stream",
     "text": [
      "carbonic_anhydrase_inhibitor logloss: 0.011306441275401927\n",
      "=========================================================================================\n"
     ]
    },
    {
     "name": "stdout",
     "output_type": "stream",
     "text": [
      "Early stopping, best iteration is:\n",
      "[1]\ttraining's binary_logloss: 0.0108475\tvalid_1's binary_logloss: 0.0112695\n"
     ]
    },
    {
     "name": "stderr",
     "output_type": "stream",
     "text": [
      "================================= fold 1/4 casein_kinase_inhibitor=================================\n"
     ]
    },
    {
     "name": "stdout",
     "output_type": "stream",
     "text": [
      "Training until validation scores don't improve for 50 rounds\n",
      "Early stopping, best iteration is:\n",
      "[3]\ttraining's binary_logloss: 0.0100205\tvalid_1's binary_logloss: 0.0112967\n"
     ]
    },
    {
     "name": "stderr",
     "output_type": "stream",
     "text": [
      "================================= fold 2/4 casein_kinase_inhibitor=================================\n"
     ]
    },
    {
     "name": "stdout",
     "output_type": "stream",
     "text": [
      "Training until validation scores don't improve for 50 rounds\n",
      "Early stopping, best iteration is:\n",
      "[40]\ttraining's binary_logloss: 0.00384815\tvalid_1's binary_logloss: 0.0109977\n"
     ]
    },
    {
     "name": "stderr",
     "output_type": "stream",
     "text": [
      "================================= fold 3/4 casein_kinase_inhibitor=================================\n"
     ]
    },
    {
     "name": "stdout",
     "output_type": "stream",
     "text": [
      "Training until validation scores don't improve for 50 rounds\n",
      "[100]\ttraining's binary_logloss: 0.00185467\tvalid_1's binary_logloss: 0.0106301\n",
      "Early stopping, best iteration is:\n",
      "[109]\ttraining's binary_logloss: 0.00170503\tvalid_1's binary_logloss: 0.0106145\n"
     ]
    },
    {
     "name": "stderr",
     "output_type": "stream",
     "text": [
      "================================= fold 4/4 casein_kinase_inhibitor=================================\n"
     ]
    },
    {
     "name": "stdout",
     "output_type": "stream",
     "text": [
      "Training until validation scores don't improve for 50 rounds\n",
      "[100]\ttraining's binary_logloss: 0.00183486\tvalid_1's binary_logloss: 0.0112951\n",
      "Early stopping, best iteration is:\n",
      "[52]\ttraining's binary_logloss: 0.00321548\tvalid_1's binary_logloss: 0.0111519\n"
     ]
    },
    {
     "name": "stderr",
     "output_type": "stream",
     "text": [
      "casein_kinase_inhibitor logloss: 0.01101522820963884\n",
      "=========================================================================================\n",
      "================================= fold 1/4 caspase_activator=================================\n"
     ]
    },
    {
     "name": "stdout",
     "output_type": "stream",
     "text": [
      "Training until validation scores don't improve for 50 rounds\n",
      "Early stopping, best iteration is:\n",
      "[1]\ttraining's binary_logloss: 0.00563133\tvalid_1's binary_logloss: 0.0067977\n"
     ]
    },
    {
     "name": "stderr",
     "output_type": "stream",
     "text": [
      "================================= fold 2/4 caspase_activator=================================\n"
     ]
    },
    {
     "name": "stdout",
     "output_type": "stream",
     "text": [
      "Training until validation scores don't improve for 50 rounds\n",
      "Early stopping, best iteration is:\n",
      "[1]\ttraining's binary_logloss: 0.00568548\tvalid_1's binary_logloss: 0.00679803\n"
     ]
    },
    {
     "name": "stderr",
     "output_type": "stream",
     "text": [
      "================================= fold 3/4 caspase_activator=================================\n"
     ]
    },
    {
     "name": "stdout",
     "output_type": "stream",
     "text": [
      "Training until validation scores don't improve for 50 rounds\n",
      "Early stopping, best iteration is:\n",
      "[21]\ttraining's binary_logloss: 0.00288073\tvalid_1's binary_logloss: 0.00548911\n"
     ]
    },
    {
     "name": "stderr",
     "output_type": "stream",
     "text": [
      "================================= fold 4/4 caspase_activator=================================\n"
     ]
    },
    {
     "name": "stdout",
     "output_type": "stream",
     "text": [
      "Training until validation scores don't improve for 50 rounds\n"
     ]
    },
    {
     "name": "stderr",
     "output_type": "stream",
     "text": [
      "caspase_activator logloss: 0.006168738696690859\n",
      "=========================================================================================\n"
     ]
    },
    {
     "name": "stdout",
     "output_type": "stream",
     "text": [
      "Early stopping, best iteration is:\n",
      "[1]\ttraining's binary_logloss: 0.00612276\tvalid_1's binary_logloss: 0.00558991\n"
     ]
    },
    {
     "name": "stderr",
     "output_type": "stream",
     "text": [
      "================================= fold 1/4 catechol_o_methyltransferase_inhibitor=================================\n"
     ]
    },
    {
     "name": "stdout",
     "output_type": "stream",
     "text": [
      "Training until validation scores don't improve for 50 rounds\n",
      "Early stopping, best iteration is:\n",
      "[1]\ttraining's binary_logloss: 0.0041734\tvalid_1's binary_logloss: 0.00433083\n"
     ]
    },
    {
     "name": "stderr",
     "output_type": "stream",
     "text": [
      "================================= fold 2/4 catechol_o_methyltransferase_inhibitor=================================\n"
     ]
    },
    {
     "name": "stdout",
     "output_type": "stream",
     "text": [
      "Training until validation scores don't improve for 50 rounds\n",
      "Early stopping, best iteration is:\n",
      "[1]\ttraining's binary_logloss: 0.00422416\tvalid_1's binary_logloss: 0.00433033\n"
     ]
    },
    {
     "name": "stderr",
     "output_type": "stream",
     "text": [
      "================================= fold 3/4 catechol_o_methyltransferase_inhibitor=================================\n"
     ]
    },
    {
     "name": "stdout",
     "output_type": "stream",
     "text": [
      "Training until validation scores don't improve for 50 rounds\n",
      "Early stopping, best iteration is:\n",
      "[12]\ttraining's binary_logloss: 0.00294002\tvalid_1's binary_logloss: 0.00430418\n"
     ]
    },
    {
     "name": "stderr",
     "output_type": "stream",
     "text": [
      "================================= fold 4/4 catechol_o_methyltransferase_inhibitor=================================\n"
     ]
    },
    {
     "name": "stdout",
     "output_type": "stream",
     "text": [
      "Training until validation scores don't improve for 50 rounds\n"
     ]
    },
    {
     "name": "stderr",
     "output_type": "stream",
     "text": [
      "catechol_o_methyltransferase_inhibitor logloss: 0.004323892592756761\n",
      "=========================================================================================\n"
     ]
    },
    {
     "name": "stdout",
     "output_type": "stream",
     "text": [
      "Early stopping, best iteration is:\n",
      "[1]\ttraining's binary_logloss: 0.00419349\tvalid_1's binary_logloss: 0.00433023\n"
     ]
    },
    {
     "name": "stderr",
     "output_type": "stream",
     "text": [
      "================================= fold 1/4 cc_chemokine_receptor_antagonist=================================\n"
     ]
    },
    {
     "name": "stdout",
     "output_type": "stream",
     "text": [
      "Training until validation scores don't improve for 50 rounds\n",
      "Early stopping, best iteration is:\n",
      "[43]\ttraining's binary_logloss: 0.0122823\tvalid_1's binary_logloss: 0.0279716\n"
     ]
    },
    {
     "name": "stderr",
     "output_type": "stream",
     "text": [
      "================================= fold 2/4 cc_chemokine_receptor_antagonist=================================\n"
     ]
    },
    {
     "name": "stdout",
     "output_type": "stream",
     "text": [
      "Training until validation scores don't improve for 50 rounds\n",
      "Early stopping, best iteration is:\n",
      "[1]\ttraining's binary_logloss: 0.0267759\tvalid_1's binary_logloss: 0.0280584\n"
     ]
    },
    {
     "name": "stderr",
     "output_type": "stream",
     "text": [
      "================================= fold 3/4 cc_chemokine_receptor_antagonist=================================\n"
     ]
    },
    {
     "name": "stdout",
     "output_type": "stream",
     "text": [
      "Training until validation scores don't improve for 50 rounds\n",
      "Early stopping, best iteration is:\n",
      "[10]\ttraining's binary_logloss: 0.0233021\tvalid_1's binary_logloss: 0.0271495\n"
     ]
    },
    {
     "name": "stderr",
     "output_type": "stream",
     "text": [
      "================================= fold 4/4 cc_chemokine_receptor_antagonist=================================\n"
     ]
    },
    {
     "name": "stdout",
     "output_type": "stream",
     "text": [
      "Training until validation scores don't improve for 50 rounds\n"
     ]
    },
    {
     "name": "stderr",
     "output_type": "stream",
     "text": [
      "cc_chemokine_receptor_antagonist logloss: 0.027490882128719155\n",
      "=========================================================================================\n"
     ]
    },
    {
     "name": "stdout",
     "output_type": "stream",
     "text": [
      "Early stopping, best iteration is:\n",
      "[19]\ttraining's binary_logloss: 0.0191354\tvalid_1's binary_logloss: 0.0267837\n"
     ]
    },
    {
     "name": "stderr",
     "output_type": "stream",
     "text": [
      "================================= fold 1/4 cck_receptor_antagonist=================================\n"
     ]
    },
    {
     "name": "stdout",
     "output_type": "stream",
     "text": [
      "Training until validation scores don't improve for 50 rounds\n",
      "Early stopping, best iteration is:\n",
      "[1]\ttraining's binary_logloss: 0.00574769\tvalid_1's binary_logloss: 0.00679783\n"
     ]
    },
    {
     "name": "stderr",
     "output_type": "stream",
     "text": [
      "================================= fold 2/4 cck_receptor_antagonist=================================\n"
     ]
    },
    {
     "name": "stdout",
     "output_type": "stream",
     "text": [
      "Training until validation scores don't improve for 50 rounds\n",
      "Early stopping, best iteration is:\n",
      "[1]\ttraining's binary_logloss: 0.00572957\tvalid_1's binary_logloss: 0.00679846\n"
     ]
    },
    {
     "name": "stderr",
     "output_type": "stream",
     "text": [
      "================================= fold 3/4 cck_receptor_antagonist=================================\n"
     ]
    },
    {
     "name": "stdout",
     "output_type": "stream",
     "text": [
      "Training until validation scores don't improve for 50 rounds\n",
      "Early stopping, best iteration is:\n",
      "[28]\ttraining's binary_logloss: 0.0023683\tvalid_1's binary_logloss: 0.00558181\n"
     ]
    },
    {
     "name": "stderr",
     "output_type": "stream",
     "text": [
      "================================= fold 4/4 cck_receptor_antagonist=================================\n"
     ]
    },
    {
     "name": "stdout",
     "output_type": "stream",
     "text": [
      "Training until validation scores don't improve for 50 rounds\n"
     ]
    },
    {
     "name": "stderr",
     "output_type": "stream",
     "text": [
      "cck_receptor_antagonist logloss: 0.006191891655676565\n",
      "=========================================================================================\n"
     ]
    },
    {
     "name": "stdout",
     "output_type": "stream",
     "text": [
      "Early stopping, best iteration is:\n",
      "[1]\ttraining's binary_logloss: 0.0061329\tvalid_1's binary_logloss: 0.00558926\n"
     ]
    },
    {
     "name": "stderr",
     "output_type": "stream",
     "text": [
      "================================= fold 1/4 cdk_inhibitor=================================\n"
     ]
    },
    {
     "name": "stdout",
     "output_type": "stream",
     "text": [
      "Training until validation scores don't improve for 50 rounds\n",
      "[100]\ttraining's binary_logloss: 0.0167412\tvalid_1's binary_logloss: 0.0285406\n",
      "[200]\ttraining's binary_logloss: 0.00630556\tvalid_1's binary_logloss: 0.0225963\n",
      "[300]\ttraining's binary_logloss: 0.00274049\tvalid_1's binary_logloss: 0.0211527\n",
      "[400]\ttraining's binary_logloss: 0.00132137\tvalid_1's binary_logloss: 0.0211788\n",
      "Early stopping, best iteration is:\n",
      "[356]\ttraining's binary_logloss: 0.00179986\tvalid_1's binary_logloss: 0.0210157\n"
     ]
    },
    {
     "name": "stderr",
     "output_type": "stream",
     "text": [
      "================================= fold 2/4 cdk_inhibitor=================================\n"
     ]
    },
    {
     "name": "stdout",
     "output_type": "stream",
     "text": [
      "Training until validation scores don't improve for 50 rounds\n",
      "[100]\ttraining's binary_logloss: 0.0160885\tvalid_1's binary_logloss: 0.0314379\n",
      "[200]\ttraining's binary_logloss: 0.00618475\tvalid_1's binary_logloss: 0.0252833\n",
      "[300]\ttraining's binary_logloss: 0.00265988\tvalid_1's binary_logloss: 0.0237256\n",
      "Early stopping, best iteration is:\n",
      "[322]\ttraining's binary_logloss: 0.00224089\tvalid_1's binary_logloss: 0.0237235\n"
     ]
    },
    {
     "name": "stderr",
     "output_type": "stream",
     "text": [
      "================================= fold 3/4 cdk_inhibitor=================================\n"
     ]
    },
    {
     "name": "stdout",
     "output_type": "stream",
     "text": [
      "Training until validation scores don't improve for 50 rounds\n",
      "[100]\ttraining's binary_logloss: 0.016438\tvalid_1's binary_logloss: 0.0311907\n",
      "[200]\ttraining's binary_logloss: 0.00625169\tvalid_1's binary_logloss: 0.0262468\n",
      "[300]\ttraining's binary_logloss: 0.00265936\tvalid_1's binary_logloss: 0.0255983\n",
      "Early stopping, best iteration is:\n",
      "[279]\ttraining's binary_logloss: 0.00314462\tvalid_1's binary_logloss: 0.0255777\n"
     ]
    },
    {
     "name": "stderr",
     "output_type": "stream",
     "text": [
      "================================= fold 4/4 cdk_inhibitor=================================\n"
     ]
    },
    {
     "name": "stdout",
     "output_type": "stream",
     "text": [
      "Training until validation scores don't improve for 50 rounds\n",
      "[100]\ttraining's binary_logloss: 0.0160841\tvalid_1's binary_logloss: 0.0284874\n",
      "[200]\ttraining's binary_logloss: 0.00624785\tvalid_1's binary_logloss: 0.0223449\n",
      "[300]\ttraining's binary_logloss: 0.00268883\tvalid_1's binary_logloss: 0.0210223\n",
      "Early stopping, best iteration is:\n",
      "[314]\ttraining's binary_logloss: 0.00240767\tvalid_1's binary_logloss: 0.0209759\n"
     ]
    },
    {
     "name": "stderr",
     "output_type": "stream",
     "text": [
      "cdk_inhibitor logloss: 0.022823184517295852\n",
      "=========================================================================================\n",
      "================================= fold 1/4 chelating_agent=================================\n"
     ]
    },
    {
     "name": "stdout",
     "output_type": "stream",
     "text": [
      "Training until validation scores don't improve for 50 rounds\n",
      "Early stopping, best iteration is:\n",
      "[12]\ttraining's binary_logloss: 0.0105855\tvalid_1's binary_logloss: 0.0165436\n"
     ]
    },
    {
     "name": "stderr",
     "output_type": "stream",
     "text": [
      "================================= fold 2/4 chelating_agent=================================\n"
     ]
    },
    {
     "name": "stdout",
     "output_type": "stream",
     "text": [
      "Training until validation scores don't improve for 50 rounds\n",
      "Early stopping, best iteration is:\n",
      "[1]\ttraining's binary_logloss: 0.0155602\tvalid_1's binary_logloss: 0.0165876\n"
     ]
    },
    {
     "name": "stderr",
     "output_type": "stream",
     "text": [
      "================================= fold 3/4 chelating_agent=================================\n"
     ]
    },
    {
     "name": "stdout",
     "output_type": "stream",
     "text": [
      "Training until validation scores don't improve for 50 rounds\n",
      "Early stopping, best iteration is:\n",
      "[32]\ttraining's binary_logloss: 0.00672052\tvalid_1's binary_logloss: 0.0154961\n"
     ]
    },
    {
     "name": "stderr",
     "output_type": "stream",
     "text": [
      "================================= fold 4/4 chelating_agent=================================\n"
     ]
    },
    {
     "name": "stdout",
     "output_type": "stream",
     "text": [
      "Training until validation scores don't improve for 50 rounds\n"
     ]
    },
    {
     "name": "stderr",
     "output_type": "stream",
     "text": [
      "chelating_agent logloss: 0.016038301739750266\n",
      "=========================================================================================\n"
     ]
    },
    {
     "name": "stdout",
     "output_type": "stream",
     "text": [
      "Early stopping, best iteration is:\n",
      "[8]\ttraining's binary_logloss: 0.0123631\tvalid_1's binary_logloss: 0.0155258\n"
     ]
    },
    {
     "name": "stderr",
     "output_type": "stream",
     "text": [
      "================================= fold 1/4 chk_inhibitor=================================\n"
     ]
    },
    {
     "name": "stdout",
     "output_type": "stream",
     "text": [
      "Training until validation scores don't improve for 50 rounds\n",
      "[100]\ttraining's binary_logloss: 0.00101731\tvalid_1's binary_logloss: 0.0057125\n",
      "[200]\ttraining's binary_logloss: 0.000383576\tvalid_1's binary_logloss: 0.00519894\n",
      "[300]\ttraining's binary_logloss: 0.000170216\tvalid_1's binary_logloss: 0.00503165\n",
      "[400]\ttraining's binary_logloss: 8.89578e-05\tvalid_1's binary_logloss: 0.00501562\n",
      "Early stopping, best iteration is:\n",
      "[356]\ttraining's binary_logloss: 0.000115898\tvalid_1's binary_logloss: 0.00500866\n"
     ]
    },
    {
     "name": "stderr",
     "output_type": "stream",
     "text": [
      "================================= fold 2/4 chk_inhibitor=================================\n"
     ]
    },
    {
     "name": "stdout",
     "output_type": "stream",
     "text": [
      "Training until validation scores don't improve for 50 rounds\n",
      "[100]\ttraining's binary_logloss: 0.000953481\tvalid_1's binary_logloss: 0.00499174\n",
      "[200]\ttraining's binary_logloss: 0.000360191\tvalid_1's binary_logloss: 0.00470432\n",
      "Early stopping, best iteration is:\n",
      "[220]\ttraining's binary_logloss: 0.000303322\tvalid_1's binary_logloss: 0.00469032\n"
     ]
    },
    {
     "name": "stderr",
     "output_type": "stream",
     "text": [
      "================================= fold 3/4 chk_inhibitor=================================\n"
     ]
    },
    {
     "name": "stdout",
     "output_type": "stream",
     "text": [
      "Training until validation scores don't improve for 50 rounds\n",
      "[100]\ttraining's binary_logloss: 0.00100243\tvalid_1's binary_logloss: 0.00679046\n",
      "Early stopping, best iteration is:\n",
      "[131]\ttraining's binary_logloss: 0.000719296\tvalid_1's binary_logloss: 0.00677602\n"
     ]
    },
    {
     "name": "stderr",
     "output_type": "stream",
     "text": [
      "================================= fold 4/4 chk_inhibitor=================================\n"
     ]
    },
    {
     "name": "stdout",
     "output_type": "stream",
     "text": [
      "Training until validation scores don't improve for 50 rounds\n",
      "[100]\ttraining's binary_logloss: 0.000975547\tvalid_1's binary_logloss: 0.00563606\n",
      "[200]\ttraining's binary_logloss: 0.000364139\tvalid_1's binary_logloss: 0.00553875\n"
     ]
    },
    {
     "name": "stderr",
     "output_type": "stream",
     "text": [
      "chk_inhibitor logloss: 0.005498771331383798\n",
      "=========================================================================================\n"
     ]
    },
    {
     "name": "stdout",
     "output_type": "stream",
     "text": [
      "Early stopping, best iteration is:\n",
      "[174]\ttraining's binary_logloss: 0.000461358\tvalid_1's binary_logloss: 0.0055203\n"
     ]
    },
    {
     "name": "stderr",
     "output_type": "stream",
     "text": [
      "================================= fold 1/4 chloride_channel_blocker=================================\n"
     ]
    },
    {
     "name": "stdout",
     "output_type": "stream",
     "text": [
      "Training until validation scores don't improve for 50 rounds\n",
      "Early stopping, best iteration is:\n",
      "[2]\ttraining's binary_logloss: 0.0119859\tvalid_1's binary_logloss: 0.0134645\n"
     ]
    },
    {
     "name": "stderr",
     "output_type": "stream",
     "text": [
      "================================= fold 2/4 chloride_channel_blocker=================================\n"
     ]
    },
    {
     "name": "stdout",
     "output_type": "stream",
     "text": [
      "Training until validation scores don't improve for 50 rounds\n",
      "Early stopping, best iteration is:\n",
      "[13]\ttraining's binary_logloss: 0.00864415\tvalid_1's binary_logloss: 0.0134659\n"
     ]
    },
    {
     "name": "stderr",
     "output_type": "stream",
     "text": [
      "================================= fold 3/4 chloride_channel_blocker=================================\n"
     ]
    },
    {
     "name": "stdout",
     "output_type": "stream",
     "text": [
      "Training until validation scores don't improve for 50 rounds\n",
      "Early stopping, best iteration is:\n",
      "[1]\ttraining's binary_logloss: 0.012679\tvalid_1's binary_logloss: 0.0124194\n"
     ]
    },
    {
     "name": "stderr",
     "output_type": "stream",
     "text": [
      "================================= fold 4/4 chloride_channel_blocker=================================\n"
     ]
    },
    {
     "name": "stdout",
     "output_type": "stream",
     "text": [
      "Training until validation scores don't improve for 50 rounds\n"
     ]
    },
    {
     "name": "stderr",
     "output_type": "stream",
     "text": [
      "chloride_channel_blocker logloss: 0.012923443641281573\n",
      "=========================================================================================\n"
     ]
    },
    {
     "name": "stdout",
     "output_type": "stream",
     "text": [
      "Early stopping, best iteration is:\n",
      "[37]\ttraining's binary_logloss: 0.0046378\tvalid_1's binary_logloss: 0.0123438\n"
     ]
    },
    {
     "name": "stderr",
     "output_type": "stream",
     "text": [
      "================================= fold 1/4 cholesterol_inhibitor=================================\n"
     ]
    },
    {
     "name": "stdout",
     "output_type": "stream",
     "text": [
      "Training until validation scores don't improve for 50 rounds\n",
      "Early stopping, best iteration is:\n",
      "[1]\ttraining's binary_logloss: 0.0139994\tvalid_1's binary_logloss: 0.0145305\n"
     ]
    },
    {
     "name": "stderr",
     "output_type": "stream",
     "text": [
      "================================= fold 2/4 cholesterol_inhibitor=================================\n"
     ]
    },
    {
     "name": "stdout",
     "output_type": "stream",
     "text": [
      "Training until validation scores don't improve for 50 rounds\n",
      "Early stopping, best iteration is:\n",
      "[1]\ttraining's binary_logloss: 0.0139594\tvalid_1's binary_logloss: 0.0144783\n"
     ]
    },
    {
     "name": "stderr",
     "output_type": "stream",
     "text": [
      "================================= fold 3/4 cholesterol_inhibitor=================================\n"
     ]
    },
    {
     "name": "stdout",
     "output_type": "stream",
     "text": [
      "Training until validation scores don't improve for 50 rounds\n",
      "Early stopping, best iteration is:\n",
      "[37]\ttraining's binary_logloss: 0.00548046\tvalid_1's binary_logloss: 0.0145187\n"
     ]
    },
    {
     "name": "stderr",
     "output_type": "stream",
     "text": [
      "================================= fold 4/4 cholesterol_inhibitor=================================\n"
     ]
    },
    {
     "name": "stdout",
     "output_type": "stream",
     "text": [
      "Training until validation scores don't improve for 50 rounds\n"
     ]
    },
    {
     "name": "stderr",
     "output_type": "stream",
     "text": [
      "cholesterol_inhibitor logloss: 0.014514534511999359\n",
      "=========================================================================================\n"
     ]
    },
    {
     "name": "stdout",
     "output_type": "stream",
     "text": [
      "Early stopping, best iteration is:\n",
      "[1]\ttraining's binary_logloss: 0.0140658\tvalid_1's binary_logloss: 0.0145306\n"
     ]
    },
    {
     "name": "stderr",
     "output_type": "stream",
     "text": [
      "================================= fold 1/4 cholinergic_receptor_antagonist=================================\n"
     ]
    },
    {
     "name": "stdout",
     "output_type": "stream",
     "text": [
      "Training until validation scores don't improve for 50 rounds\n",
      "Early stopping, best iteration is:\n",
      "[1]\ttraining's binary_logloss: 0.0153431\tvalid_1's binary_logloss: 0.0165936\n"
     ]
    },
    {
     "name": "stderr",
     "output_type": "stream",
     "text": [
      "================================= fold 2/4 cholinergic_receptor_antagonist=================================\n"
     ]
    },
    {
     "name": "stdout",
     "output_type": "stream",
     "text": [
      "Training until validation scores don't improve for 50 rounds\n",
      "Early stopping, best iteration is:\n",
      "[1]\ttraining's binary_logloss: 0.0154941\tvalid_1's binary_logloss: 0.016593\n"
     ]
    },
    {
     "name": "stderr",
     "output_type": "stream",
     "text": [
      "================================= fold 3/4 cholinergic_receptor_antagonist=================================\n"
     ]
    },
    {
     "name": "stdout",
     "output_type": "stream",
     "text": [
      "Training until validation scores don't improve for 50 rounds\n",
      "Early stopping, best iteration is:\n",
      "[2]\ttraining's binary_logloss: 0.0151091\tvalid_1's binary_logloss: 0.0155551\n"
     ]
    },
    {
     "name": "stderr",
     "output_type": "stream",
     "text": [
      "================================= fold 4/4 cholinergic_receptor_antagonist=================================\n"
     ]
    },
    {
     "name": "stdout",
     "output_type": "stream",
     "text": [
      "Training until validation scores don't improve for 50 rounds\n"
     ]
    },
    {
     "name": "stderr",
     "output_type": "stream",
     "text": [
      "cholinergic_receptor_antagonist logloss: 0.016077984938934496\n",
      "=========================================================================================\n"
     ]
    },
    {
     "name": "stdout",
     "output_type": "stream",
     "text": [
      "Early stopping, best iteration is:\n",
      "[1]\ttraining's binary_logloss: 0.0158144\tvalid_1's binary_logloss: 0.01557\n"
     ]
    },
    {
     "name": "stderr",
     "output_type": "stream",
     "text": [
      "================================= fold 1/4 coagulation_factor_inhibitor=================================\n"
     ]
    },
    {
     "name": "stdout",
     "output_type": "stream",
     "text": [
      "Training until validation scores don't improve for 50 rounds\n",
      "Early stopping, best iteration is:\n",
      "[1]\ttraining's binary_logloss: 0.00202076\tvalid_1's binary_logloss: 0.00304745\n"
     ]
    },
    {
     "name": "stderr",
     "output_type": "stream",
     "text": [
      "================================= fold 2/4 coagulation_factor_inhibitor=================================\n"
     ]
    },
    {
     "name": "stdout",
     "output_type": "stream",
     "text": [
      "Training until validation scores don't improve for 50 rounds\n",
      "Early stopping, best iteration is:\n",
      "[1]\ttraining's binary_logloss: 0.00205286\tvalid_1's binary_logloss: 0.00304814\n"
     ]
    },
    {
     "name": "stderr",
     "output_type": "stream",
     "text": [
      "================================= fold 3/4 coagulation_factor_inhibitor=================================\n"
     ]
    },
    {
     "name": "stdout",
     "output_type": "stream",
     "text": [
      "Training until validation scores don't improve for 50 rounds\n",
      "[100]\ttraining's binary_logloss: 0.000368476\tvalid_1's binary_logloss: 0.00157207\n",
      "Early stopping, best iteration is:\n",
      "[58]\ttraining's binary_logloss: 0.000626515\tvalid_1's binary_logloss: 0.00156353\n"
     ]
    },
    {
     "name": "stderr",
     "output_type": "stream",
     "text": [
      "================================= fold 4/4 coagulation_factor_inhibitor=================================\n"
     ]
    },
    {
     "name": "stdout",
     "output_type": "stream",
     "text": [
      "Training until validation scores don't improve for 50 rounds\n"
     ]
    },
    {
     "name": "stderr",
     "output_type": "stream",
     "text": [
      "coagulation_factor_inhibitor logloss: 0.0023232111962125336\n",
      "=========================================================================================\n"
     ]
    },
    {
     "name": "stdout",
     "output_type": "stream",
     "text": [
      "Early stopping, best iteration is:\n",
      "[48]\ttraining's binary_logloss: 0.000724915\tvalid_1's binary_logloss: 0.00163348\n"
     ]
    },
    {
     "name": "stderr",
     "output_type": "stream",
     "text": [
      "================================= fold 1/4 corticosteroid_agonist=================================\n"
     ]
    },
    {
     "name": "stdout",
     "output_type": "stream",
     "text": [
      "Training until validation scores don't improve for 50 rounds\n",
      "Early stopping, best iteration is:\n",
      "[44]\ttraining's binary_logloss: 0.00321068\tvalid_1's binary_logloss: 0.0108856\n"
     ]
    },
    {
     "name": "stderr",
     "output_type": "stream",
     "text": [
      "================================= fold 2/4 corticosteroid_agonist=================================\n"
     ]
    },
    {
     "name": "stdout",
     "output_type": "stream",
     "text": [
      "Training until validation scores don't improve for 50 rounds\n",
      "[100]\ttraining's binary_logloss: 0.00157958\tvalid_1's binary_logloss: 0.0101074\n",
      "Early stopping, best iteration is:\n",
      "[108]\ttraining's binary_logloss: 0.00145376\tvalid_1's binary_logloss: 0.010074\n"
     ]
    },
    {
     "name": "stderr",
     "output_type": "stream",
     "text": [
      "================================= fold 3/4 corticosteroid_agonist=================================\n"
     ]
    },
    {
     "name": "stdout",
     "output_type": "stream",
     "text": [
      "Training until validation scores don't improve for 50 rounds\n",
      "[100]\ttraining's binary_logloss: 0.00162703\tvalid_1's binary_logloss: 0.00846984\n",
      "[200]\ttraining's binary_logloss: 0.000636621\tvalid_1's binary_logloss: 0.00833619\n",
      "Early stopping, best iteration is:\n",
      "[178]\ttraining's binary_logloss: 0.000767836\tvalid_1's binary_logloss: 0.00832244\n"
     ]
    },
    {
     "name": "stderr",
     "output_type": "stream",
     "text": [
      "================================= fold 4/4 corticosteroid_agonist=================================\n"
     ]
    },
    {
     "name": "stdout",
     "output_type": "stream",
     "text": [
      "Training until validation scores don't improve for 50 rounds\n",
      "[100]\ttraining's binary_logloss: 0.0016262\tvalid_1's binary_logloss: 0.00941339\n"
     ]
    },
    {
     "name": "stderr",
     "output_type": "stream",
     "text": [
      "corticosteroid_agonist logloss: 0.009641841475893333\n",
      "=========================================================================================\n"
     ]
    },
    {
     "name": "stdout",
     "output_type": "stream",
     "text": [
      "Early stopping, best iteration is:\n",
      "[144]\ttraining's binary_logloss: 0.00105548\tvalid_1's binary_logloss: 0.00928499\n"
     ]
    },
    {
     "name": "stderr",
     "output_type": "stream",
     "text": [
      "================================= fold 1/4 cyclooxygenase_inhibitor=================================\n"
     ]
    },
    {
     "name": "stdout",
     "output_type": "stream",
     "text": [
      "Training until validation scores don't improve for 50 rounds\n",
      "[100]\ttraining's binary_logloss: 0.0562676\tvalid_1's binary_logloss: 0.0883313\n",
      "[200]\ttraining's binary_logloss: 0.0387634\tvalid_1's binary_logloss: 0.0873173\n",
      "Early stopping, best iteration is:\n",
      "[227]\ttraining's binary_logloss: 0.0353813\tvalid_1's binary_logloss: 0.0872252\n"
     ]
    },
    {
     "name": "stderr",
     "output_type": "stream",
     "text": [
      "================================= fold 2/4 cyclooxygenase_inhibitor=================================\n"
     ]
    },
    {
     "name": "stdout",
     "output_type": "stream",
     "text": [
      "Training until validation scores don't improve for 50 rounds\n",
      "[100]\ttraining's binary_logloss: 0.0589362\tvalid_1's binary_logloss: 0.0888791\n",
      "[200]\ttraining's binary_logloss: 0.0419078\tvalid_1's binary_logloss: 0.0878532\n",
      "Early stopping, best iteration is:\n",
      "[205]\ttraining's binary_logloss: 0.0412175\tvalid_1's binary_logloss: 0.0877899\n"
     ]
    },
    {
     "name": "stderr",
     "output_type": "stream",
     "text": [
      "================================= fold 3/4 cyclooxygenase_inhibitor=================================\n"
     ]
    },
    {
     "name": "stdout",
     "output_type": "stream",
     "text": [
      "Training until validation scores don't improve for 50 rounds\n",
      "[100]\ttraining's binary_logloss: 0.0560564\tvalid_1's binary_logloss: 0.0881755\n",
      "[200]\ttraining's binary_logloss: 0.0399111\tvalid_1's binary_logloss: 0.0872769\n",
      "Early stopping, best iteration is:\n",
      "[243]\ttraining's binary_logloss: 0.0348737\tvalid_1's binary_logloss: 0.0871188\n"
     ]
    },
    {
     "name": "stderr",
     "output_type": "stream",
     "text": [
      "================================= fold 4/4 cyclooxygenase_inhibitor=================================\n"
     ]
    },
    {
     "name": "stdout",
     "output_type": "stream",
     "text": [
      "Training until validation scores don't improve for 50 rounds\n",
      "[100]\ttraining's binary_logloss: 0.0589836\tvalid_1's binary_logloss: 0.0888829\n",
      "[200]\ttraining's binary_logloss: 0.04227\tvalid_1's binary_logloss: 0.0886669\n",
      "Early stopping, best iteration is:\n",
      "[151]\ttraining's binary_logloss: 0.0498326\tvalid_1's binary_logloss: 0.0885159\n"
     ]
    },
    {
     "name": "stderr",
     "output_type": "stream",
     "text": [
      "cyclooxygenase_inhibitor logloss: 0.0876624219566695\n",
      "=========================================================================================\n",
      "================================= fold 1/4 cytochrome_p450_inhibitor=================================\n"
     ]
    },
    {
     "name": "stdout",
     "output_type": "stream",
     "text": [
      "Training until validation scores don't improve for 50 rounds\n",
      "Early stopping, best iteration is:\n",
      "[47]\ttraining's binary_logloss: 0.0131288\tvalid_1's binary_logloss: 0.0278123\n"
     ]
    },
    {
     "name": "stderr",
     "output_type": "stream",
     "text": [
      "================================= fold 2/4 cytochrome_p450_inhibitor=================================\n"
     ]
    },
    {
     "name": "stdout",
     "output_type": "stream",
     "text": [
      "Training until validation scores don't improve for 50 rounds\n",
      "[100]\ttraining's binary_logloss: 0.00749412\tvalid_1's binary_logloss: 0.0276003\n",
      "Early stopping, best iteration is:\n",
      "[76]\ttraining's binary_logloss: 0.00916893\tvalid_1's binary_logloss: 0.0275427\n"
     ]
    },
    {
     "name": "stderr",
     "output_type": "stream",
     "text": [
      "================================= fold 3/4 cytochrome_p450_inhibitor=================================\n"
     ]
    },
    {
     "name": "stdout",
     "output_type": "stream",
     "text": [
      "Training until validation scores don't improve for 50 rounds\n",
      "[100]\ttraining's binary_logloss: 0.00686003\tvalid_1's binary_logloss: 0.0277093\n",
      "Early stopping, best iteration is:\n",
      "[63]\ttraining's binary_logloss: 0.00988801\tvalid_1's binary_logloss: 0.0276248\n"
     ]
    },
    {
     "name": "stderr",
     "output_type": "stream",
     "text": [
      "================================= fold 4/4 cytochrome_p450_inhibitor=================================\n"
     ]
    },
    {
     "name": "stdout",
     "output_type": "stream",
     "text": [
      "Training until validation scores don't improve for 50 rounds\n",
      "[100]\ttraining's binary_logloss: 0.00787717\tvalid_1's binary_logloss: 0.02765\n"
     ]
    },
    {
     "name": "stderr",
     "output_type": "stream",
     "text": [
      "cytochrome_p450_inhibitor logloss: 0.027647412180321112\n",
      "=========================================================================================\n"
     ]
    },
    {
     "name": "stdout",
     "output_type": "stream",
     "text": [
      "Early stopping, best iteration is:\n",
      "[72]\ttraining's binary_logloss: 0.0103527\tvalid_1's binary_logloss: 0.0276098\n"
     ]
    },
    {
     "name": "stderr",
     "output_type": "stream",
     "text": [
      "================================= fold 1/4 dihydrofolate_reductase_inhibitor=================================\n"
     ]
    },
    {
     "name": "stdout",
     "output_type": "stream",
     "text": [
      "Training until validation scores don't improve for 50 rounds\n",
      "[100]\ttraining's binary_logloss: 0.00180628\tvalid_1's binary_logloss: 0.00823738\n",
      "Early stopping, best iteration is:\n",
      "[109]\ttraining's binary_logloss: 0.00164219\tvalid_1's binary_logloss: 0.00822318\n"
     ]
    },
    {
     "name": "stderr",
     "output_type": "stream",
     "text": [
      "================================= fold 2/4 dihydrofolate_reductase_inhibitor=================================\n"
     ]
    },
    {
     "name": "stdout",
     "output_type": "stream",
     "text": [
      "Training until validation scores don't improve for 50 rounds\n",
      "[100]\ttraining's binary_logloss: 0.00179489\tvalid_1's binary_logloss: 0.00899151\n",
      "Early stopping, best iteration is:\n",
      "[126]\ttraining's binary_logloss: 0.00138517\tvalid_1's binary_logloss: 0.00894311\n"
     ]
    },
    {
     "name": "stderr",
     "output_type": "stream",
     "text": [
      "================================= fold 3/4 dihydrofolate_reductase_inhibitor=================================\n"
     ]
    },
    {
     "name": "stdout",
     "output_type": "stream",
     "text": [
      "Training until validation scores don't improve for 50 rounds\n",
      "Early stopping, best iteration is:\n",
      "[49]\ttraining's binary_logloss: 0.00333623\tvalid_1's binary_logloss: 0.0103475\n"
     ]
    },
    {
     "name": "stderr",
     "output_type": "stream",
     "text": [
      "================================= fold 4/4 dihydrofolate_reductase_inhibitor=================================\n"
     ]
    },
    {
     "name": "stdout",
     "output_type": "stream",
     "text": [
      "Training until validation scores don't improve for 50 rounds\n",
      "[100]\ttraining's binary_logloss: 0.00170339\tvalid_1's binary_logloss: 0.0111759\n",
      "Early stopping, best iteration is:\n",
      "[51]\ttraining's binary_logloss: 0.00318217\tvalid_1's binary_logloss: 0.0109599\n"
     ]
    },
    {
     "name": "stderr",
     "output_type": "stream",
     "text": [
      "dihydrofolate_reductase_inhibitor logloss: 0.0096183486240903\n",
      "=========================================================================================\n",
      "================================= fold 1/4 dipeptidyl_peptidase_inhibitor=================================\n"
     ]
    },
    {
     "name": "stdout",
     "output_type": "stream",
     "text": [
      "Training until validation scores don't improve for 50 rounds\n",
      "Early stopping, best iteration is:\n",
      "[45]\ttraining's binary_logloss: 0.0024182\tvalid_1's binary_logloss: 0.00796465\n"
     ]
    },
    {
     "name": "stderr",
     "output_type": "stream",
     "text": [
      "================================= fold 2/4 dipeptidyl_peptidase_inhibitor=================================\n"
     ]
    },
    {
     "name": "stdout",
     "output_type": "stream",
     "text": [
      "Training until validation scores don't improve for 50 rounds\n",
      "Early stopping, best iteration is:\n",
      "[1]\ttraining's binary_logloss: 0.0077127\tvalid_1's binary_logloss: 0.00912393\n"
     ]
    },
    {
     "name": "stderr",
     "output_type": "stream",
     "text": [
      "================================= fold 3/4 dipeptidyl_peptidase_inhibitor=================================\n"
     ]
    },
    {
     "name": "stdout",
     "output_type": "stream",
     "text": [
      "Training until validation scores don't improve for 50 rounds\n",
      "Early stopping, best iteration is:\n",
      "[1]\ttraining's binary_logloss: 0.00807828\tvalid_1's binary_logloss: 0.0079663\n"
     ]
    },
    {
     "name": "stderr",
     "output_type": "stream",
     "text": [
      "================================= fold 4/4 dipeptidyl_peptidase_inhibitor=================================\n"
     ]
    },
    {
     "name": "stdout",
     "output_type": "stream",
     "text": [
      "Training until validation scores don't improve for 50 rounds\n"
     ]
    },
    {
     "name": "stderr",
     "output_type": "stream",
     "text": [
      "dipeptidyl_peptidase_inhibitor logloss: 0.00825525556656541\n",
      "=========================================================================================\n"
     ]
    },
    {
     "name": "stdout",
     "output_type": "stream",
     "text": [
      "Early stopping, best iteration is:\n",
      "[1]\ttraining's binary_logloss: 0.0080146\tvalid_1's binary_logloss: 0.00796604\n"
     ]
    },
    {
     "name": "stderr",
     "output_type": "stream",
     "text": [
      "================================= fold 1/4 diuretic=================================\n"
     ]
    },
    {
     "name": "stdout",
     "output_type": "stream",
     "text": [
      "Training until validation scores don't improve for 50 rounds\n",
      "Early stopping, best iteration is:\n",
      "[1]\ttraining's binary_logloss: 0.00206401\tvalid_1's binary_logloss: 0.00304832\n"
     ]
    },
    {
     "name": "stderr",
     "output_type": "stream",
     "text": [
      "================================= fold 2/4 diuretic=================================\n"
     ]
    },
    {
     "name": "stdout",
     "output_type": "stream",
     "text": [
      "Training until validation scores don't improve for 50 rounds\n",
      "Early stopping, best iteration is:\n",
      "[1]\ttraining's binary_logloss: 0.00205286\tvalid_1's binary_logloss: 0.00304821\n"
     ]
    },
    {
     "name": "stderr",
     "output_type": "stream",
     "text": [
      "================================= fold 3/4 diuretic=================================\n"
     ]
    },
    {
     "name": "stdout",
     "output_type": "stream",
     "text": [
      "Training until validation scores don't improve for 50 rounds\n",
      "[100]\ttraining's binary_logloss: 0.000331907\tvalid_1's binary_logloss: 0.0016425\n",
      "Early stopping, best iteration is:\n",
      "[56]\ttraining's binary_logloss: 0.000562033\tvalid_1's binary_logloss: 0.0016322\n"
     ]
    },
    {
     "name": "stderr",
     "output_type": "stream",
     "text": [
      "================================= fold 4/4 diuretic=================================\n"
     ]
    },
    {
     "name": "stdout",
     "output_type": "stream",
     "text": [
      "Training until validation scores don't improve for 50 rounds\n",
      "[100]\ttraining's binary_logloss: 0.000297821\tvalid_1's binary_logloss: 0.00164379\n"
     ]
    },
    {
     "name": "stderr",
     "output_type": "stream",
     "text": [
      "diuretic logloss: 0.0023404667360461154\n",
      "=========================================================================================\n"
     ]
    },
    {
     "name": "stdout",
     "output_type": "stream",
     "text": [
      "Early stopping, best iteration is:\n",
      "[58]\ttraining's binary_logloss: 0.000488006\tvalid_1's binary_logloss: 0.0016329\n"
     ]
    },
    {
     "name": "stderr",
     "output_type": "stream",
     "text": [
      "================================= fold 1/4 dna_alkylating_agent=================================\n"
     ]
    },
    {
     "name": "stdout",
     "output_type": "stream",
     "text": [
      "Training until validation scores don't improve for 50 rounds\n",
      "Early stopping, best iteration is:\n",
      "[22]\ttraining's binary_logloss: 0.00701177\tvalid_1's binary_logloss: 0.0142766\n"
     ]
    },
    {
     "name": "stderr",
     "output_type": "stream",
     "text": [
      "================================= fold 2/4 dna_alkylating_agent=================================\n"
     ]
    },
    {
     "name": "stdout",
     "output_type": "stream",
     "text": [
      "Training until validation scores don't improve for 50 rounds\n",
      "Early stopping, best iteration is:\n",
      "[33]\ttraining's binary_logloss: 0.00575838\tvalid_1's binary_logloss: 0.014501\n"
     ]
    },
    {
     "name": "stderr",
     "output_type": "stream",
     "text": [
      "================================= fold 3/4 dna_alkylating_agent=================================\n"
     ]
    },
    {
     "name": "stdout",
     "output_type": "stream",
     "text": [
      "Training until validation scores don't improve for 50 rounds\n",
      "Early stopping, best iteration is:\n",
      "[34]\ttraining's binary_logloss: 0.00549329\tvalid_1's binary_logloss: 0.014263\n"
     ]
    },
    {
     "name": "stderr",
     "output_type": "stream",
     "text": [
      "================================= fold 4/4 dna_alkylating_agent=================================\n"
     ]
    },
    {
     "name": "stdout",
     "output_type": "stream",
     "text": [
      "Training until validation scores don't improve for 50 rounds\n"
     ]
    },
    {
     "name": "stderr",
     "output_type": "stream",
     "text": [
      "dna_alkylating_agent logloss: 0.014363667540594295\n",
      "=========================================================================================\n"
     ]
    },
    {
     "name": "stdout",
     "output_type": "stream",
     "text": [
      "Early stopping, best iteration is:\n",
      "[5]\ttraining's binary_logloss: 0.011698\tvalid_1's binary_logloss: 0.0144141\n"
     ]
    },
    {
     "name": "stderr",
     "output_type": "stream",
     "text": [
      "================================= fold 1/4 dna_inhibitor=================================\n"
     ]
    },
    {
     "name": "stdout",
     "output_type": "stream",
     "text": [
      "Training until validation scores don't improve for 50 rounds\n",
      "[100]\ttraining's binary_logloss: 0.045527\tvalid_1's binary_logloss: 0.0803549\n",
      "[200]\ttraining's binary_logloss: 0.0299559\tvalid_1's binary_logloss: 0.0793596\n",
      "Early stopping, best iteration is:\n",
      "[194]\ttraining's binary_logloss: 0.0306898\tvalid_1's binary_logloss: 0.0793149\n"
     ]
    },
    {
     "name": "stderr",
     "output_type": "stream",
     "text": [
      "================================= fold 2/4 dna_inhibitor=================================\n"
     ]
    },
    {
     "name": "stdout",
     "output_type": "stream",
     "text": [
      "Training until validation scores don't improve for 50 rounds\n",
      "[100]\ttraining's binary_logloss: 0.0449385\tvalid_1's binary_logloss: 0.083393\n",
      "[200]\ttraining's binary_logloss: 0.0298402\tvalid_1's binary_logloss: 0.082161\n",
      "Early stopping, best iteration is:\n",
      "[217]\ttraining's binary_logloss: 0.0279473\tvalid_1's binary_logloss: 0.0820726\n"
     ]
    },
    {
     "name": "stderr",
     "output_type": "stream",
     "text": [
      "================================= fold 3/4 dna_inhibitor=================================\n"
     ]
    },
    {
     "name": "stdout",
     "output_type": "stream",
     "text": [
      "Training until validation scores don't improve for 50 rounds\n",
      "[100]\ttraining's binary_logloss: 0.0458202\tvalid_1's binary_logloss: 0.0808062\n",
      "[200]\ttraining's binary_logloss: 0.0312703\tvalid_1's binary_logloss: 0.0794736\n",
      "[300]\ttraining's binary_logloss: 0.0219801\tvalid_1's binary_logloss: 0.0795043\n",
      "Early stopping, best iteration is:\n",
      "[263]\ttraining's binary_logloss: 0.0251331\tvalid_1's binary_logloss: 0.0792828\n"
     ]
    },
    {
     "name": "stderr",
     "output_type": "stream",
     "text": [
      "================================= fold 4/4 dna_inhibitor=================================\n"
     ]
    },
    {
     "name": "stdout",
     "output_type": "stream",
     "text": [
      "Training until validation scores don't improve for 50 rounds\n",
      "[100]\ttraining's binary_logloss: 0.0469976\tvalid_1's binary_logloss: 0.0809496\n",
      "[200]\ttraining's binary_logloss: 0.0304782\tvalid_1's binary_logloss: 0.0801993\n",
      "Early stopping, best iteration is:\n",
      "[212]\ttraining's binary_logloss: 0.0291374\tvalid_1's binary_logloss: 0.080152\n"
     ]
    },
    {
     "name": "stderr",
     "output_type": "stream",
     "text": [
      "dna_inhibitor logloss: 0.08020560767337015\n",
      "=========================================================================================\n",
      "================================= fold 1/4 dopamine_receptor_agonist=================================\n"
     ]
    },
    {
     "name": "stdout",
     "output_type": "stream",
     "text": [
      "Training until validation scores don't improve for 50 rounds\n",
      "[100]\ttraining's binary_logloss: 0.0103275\tvalid_1's binary_logloss: 0.0316102\n",
      "Early stopping, best iteration is:\n",
      "[62]\ttraining's binary_logloss: 0.0141242\tvalid_1's binary_logloss: 0.031422\n"
     ]
    },
    {
     "name": "stderr",
     "output_type": "stream",
     "text": [
      "================================= fold 2/4 dopamine_receptor_agonist=================================\n"
     ]
    },
    {
     "name": "stdout",
     "output_type": "stream",
     "text": [
      "Training until validation scores don't improve for 50 rounds\n",
      "[100]\ttraining's binary_logloss: 0.00976215\tvalid_1's binary_logloss: 0.0328509\n",
      "Early stopping, best iteration is:\n",
      "[51]\ttraining's binary_logloss: 0.0159944\tvalid_1's binary_logloss: 0.0325162\n"
     ]
    },
    {
     "name": "stderr",
     "output_type": "stream",
     "text": [
      "================================= fold 3/4 dopamine_receptor_agonist=================================\n"
     ]
    },
    {
     "name": "stdout",
     "output_type": "stream",
     "text": [
      "Training until validation scores don't improve for 50 rounds\n",
      "Early stopping, best iteration is:\n",
      "[2]\ttraining's binary_logloss: 0.0311369\tvalid_1's binary_logloss: 0.031667\n"
     ]
    },
    {
     "name": "stderr",
     "output_type": "stream",
     "text": [
      "================================= fold 4/4 dopamine_receptor_agonist=================================\n"
     ]
    },
    {
     "name": "stdout",
     "output_type": "stream",
     "text": [
      "Training until validation scores don't improve for 50 rounds\n",
      "[100]\ttraining's binary_logloss: 0.0109233\tvalid_1's binary_logloss: 0.0308763\n",
      "Early stopping, best iteration is:\n",
      "[129]\ttraining's binary_logloss: 0.00900189\tvalid_1's binary_logloss: 0.0308109\n"
     ]
    },
    {
     "name": "stderr",
     "output_type": "stream",
     "text": [
      "dopamine_receptor_agonist logloss: 0.031604065213943724\n",
      "=========================================================================================\n",
      "================================= fold 1/4 dopamine_receptor_antagonist=================================\n"
     ]
    },
    {
     "name": "stdout",
     "output_type": "stream",
     "text": [
      "Training until validation scores don't improve for 50 rounds\n",
      "[100]\ttraining's binary_logloss: 0.05296\tvalid_1's binary_logloss: 0.0860763\n",
      "[200]\ttraining's binary_logloss: 0.0371953\tvalid_1's binary_logloss: 0.0849818\n",
      "Early stopping, best iteration is:\n",
      "[229]\ttraining's binary_logloss: 0.0339611\tvalid_1's binary_logloss: 0.0848755\n"
     ]
    },
    {
     "name": "stderr",
     "output_type": "stream",
     "text": [
      "================================= fold 2/4 dopamine_receptor_antagonist=================================\n"
     ]
    },
    {
     "name": "stdout",
     "output_type": "stream",
     "text": [
      "Training until validation scores don't improve for 50 rounds\n",
      "[100]\ttraining's binary_logloss: 0.0554151\tvalid_1's binary_logloss: 0.0858805\n",
      "[200]\ttraining's binary_logloss: 0.0386919\tvalid_1's binary_logloss: 0.0847223\n",
      "Early stopping, best iteration is:\n",
      "[217]\ttraining's binary_logloss: 0.0365986\tvalid_1's binary_logloss: 0.0846433\n"
     ]
    },
    {
     "name": "stderr",
     "output_type": "stream",
     "text": [
      "================================= fold 3/4 dopamine_receptor_antagonist=================================\n"
     ]
    },
    {
     "name": "stdout",
     "output_type": "stream",
     "text": [
      "Training until validation scores don't improve for 50 rounds\n",
      "[100]\ttraining's binary_logloss: 0.0561348\tvalid_1's binary_logloss: 0.0837673\n",
      "[200]\ttraining's binary_logloss: 0.0397543\tvalid_1's binary_logloss: 0.0818198\n",
      "[300]\ttraining's binary_logloss: 0.0289608\tvalid_1's binary_logloss: 0.0818192\n",
      "Early stopping, best iteration is:\n",
      "[260]\ttraining's binary_logloss: 0.0332954\tvalid_1's binary_logloss: 0.0815159\n"
     ]
    },
    {
     "name": "stderr",
     "output_type": "stream",
     "text": [
      "================================= fold 4/4 dopamine_receptor_antagonist=================================\n"
     ]
    },
    {
     "name": "stdout",
     "output_type": "stream",
     "text": [
      "Training until validation scores don't improve for 50 rounds\n",
      "[100]\ttraining's binary_logloss: 0.0547264\tvalid_1's binary_logloss: 0.0848168\n",
      "[200]\ttraining's binary_logloss: 0.0378321\tvalid_1's binary_logloss: 0.0833339\n",
      "Early stopping, best iteration is:\n",
      "[239]\ttraining's binary_logloss: 0.0332033\tvalid_1's binary_logloss: 0.083228\n"
     ]
    },
    {
     "name": "stderr",
     "output_type": "stream",
     "text": [
      "dopamine_receptor_antagonist logloss: 0.0835657850815274\n",
      "=========================================================================================\n",
      "================================= fold 1/4 egfr_inhibitor=================================\n"
     ]
    },
    {
     "name": "stdout",
     "output_type": "stream",
     "text": [
      "Training until validation scores don't improve for 50 rounds\n",
      "[100]\ttraining's binary_logloss: 0.0176307\tvalid_1's binary_logloss: 0.0392298\n",
      "[200]\ttraining's binary_logloss: 0.00743189\tvalid_1's binary_logloss: 0.0331657\n",
      "[300]\ttraining's binary_logloss: 0.00348746\tvalid_1's binary_logloss: 0.0311471\n",
      "[400]\ttraining's binary_logloss: 0.00178735\tvalid_1's binary_logloss: 0.0304995\n",
      "Early stopping, best iteration is:\n",
      "[425]\ttraining's binary_logloss: 0.0015341\tvalid_1's binary_logloss: 0.0304372\n"
     ]
    },
    {
     "name": "stderr",
     "output_type": "stream",
     "text": [
      "================================= fold 2/4 egfr_inhibitor=================================\n"
     ]
    },
    {
     "name": "stdout",
     "output_type": "stream",
     "text": [
      "Training until validation scores don't improve for 50 rounds\n",
      "[100]\ttraining's binary_logloss: 0.0177657\tvalid_1's binary_logloss: 0.0373465\n",
      "[200]\ttraining's binary_logloss: 0.0075146\tvalid_1's binary_logloss: 0.0306918\n",
      "[300]\ttraining's binary_logloss: 0.00351722\tvalid_1's binary_logloss: 0.0285352\n",
      "[400]\ttraining's binary_logloss: 0.00179985\tvalid_1's binary_logloss: 0.0280937\n",
      "Early stopping, best iteration is:\n",
      "[422]\ttraining's binary_logloss: 0.00157345\tvalid_1's binary_logloss: 0.0280126\n"
     ]
    },
    {
     "name": "stderr",
     "output_type": "stream",
     "text": [
      "================================= fold 3/4 egfr_inhibitor=================================\n"
     ]
    },
    {
     "name": "stdout",
     "output_type": "stream",
     "text": [
      "Training until validation scores don't improve for 50 rounds\n",
      "[100]\ttraining's binary_logloss: 0.0177831\tvalid_1's binary_logloss: 0.0371498\n",
      "[200]\ttraining's binary_logloss: 0.00748141\tvalid_1's binary_logloss: 0.0306653\n",
      "[300]\ttraining's binary_logloss: 0.0035524\tvalid_1's binary_logloss: 0.0284995\n",
      "[400]\ttraining's binary_logloss: 0.0018375\tvalid_1's binary_logloss: 0.027893\n",
      "Early stopping, best iteration is:\n",
      "[446]\ttraining's binary_logloss: 0.00139632\tvalid_1's binary_logloss: 0.0278353\n"
     ]
    },
    {
     "name": "stderr",
     "output_type": "stream",
     "text": [
      "================================= fold 4/4 egfr_inhibitor=================================\n"
     ]
    },
    {
     "name": "stdout",
     "output_type": "stream",
     "text": [
      "Training until validation scores don't improve for 50 rounds\n",
      "[100]\ttraining's binary_logloss: 0.0175627\tvalid_1's binary_logloss: 0.0416501\n",
      "[200]\ttraining's binary_logloss: 0.00728\tvalid_1's binary_logloss: 0.0362356\n",
      "[300]\ttraining's binary_logloss: 0.00337756\tvalid_1's binary_logloss: 0.0348928\n",
      "[400]\ttraining's binary_logloss: 0.00171229\tvalid_1's binary_logloss: 0.0346799\n",
      "Early stopping, best iteration is:\n",
      "[423]\ttraining's binary_logloss: 0.00148088\tvalid_1's binary_logloss: 0.0346033\n"
     ]
    },
    {
     "name": "stderr",
     "output_type": "stream",
     "text": [
      "egfr_inhibitor logloss: 0.03022201756975415\n",
      "=========================================================================================\n",
      "================================= fold 1/4 elastase_inhibitor=================================\n"
     ]
    },
    {
     "name": "stdout",
     "output_type": "stream",
     "text": [
      "Training until validation scores don't improve for 50 rounds\n",
      "Early stopping, best iteration is:\n",
      "[1]\ttraining's binary_logloss: 0.00202075\tvalid_1's binary_logloss: 0.00304829\n"
     ]
    },
    {
     "name": "stderr",
     "output_type": "stream",
     "text": [
      "================================= fold 2/4 elastase_inhibitor=================================\n"
     ]
    },
    {
     "name": "stdout",
     "output_type": "stream",
     "text": [
      "Training until validation scores don't improve for 50 rounds\n",
      "Early stopping, best iteration is:\n",
      "[1]\ttraining's binary_logloss: 0.00205364\tvalid_1's binary_logloss: 0.00304822\n"
     ]
    },
    {
     "name": "stderr",
     "output_type": "stream",
     "text": [
      "================================= fold 3/4 elastase_inhibitor=================================\n"
     ]
    },
    {
     "name": "stdout",
     "output_type": "stream",
     "text": [
      "Training until validation scores don't improve for 50 rounds\n",
      "[100]\ttraining's binary_logloss: 0.000361875\tvalid_1's binary_logloss: 0.00154293\n",
      "[200]\ttraining's binary_logloss: 0.000142845\tvalid_1's binary_logloss: 0.00151454\n",
      "Early stopping, best iteration is:\n",
      "[165]\ttraining's binary_logloss: 0.000191825\tvalid_1's binary_logloss: 0.00150813\n"
     ]
    },
    {
     "name": "stderr",
     "output_type": "stream",
     "text": [
      "================================= fold 4/4 elastase_inhibitor=================================\n"
     ]
    },
    {
     "name": "stdout",
     "output_type": "stream",
     "text": [
      "Training until validation scores don't improve for 50 rounds\n",
      "[100]\ttraining's binary_logloss: 0.000306336\tvalid_1's binary_logloss: 0.00158523\n"
     ]
    },
    {
     "name": "stderr",
     "output_type": "stream",
     "text": [
      "elastase_inhibitor logloss: 0.00229726759733584\n",
      "=========================================================================================\n"
     ]
    },
    {
     "name": "stdout",
     "output_type": "stream",
     "text": [
      "Early stopping, best iteration is:\n",
      "[103]\ttraining's binary_logloss: 0.00029685\tvalid_1's binary_logloss: 0.00158418\n"
     ]
    },
    {
     "name": "stderr",
     "output_type": "stream",
     "text": [
      "================================= fold 1/4 erbb2_inhibitor=================================\n"
     ]
    },
    {
     "name": "stdout",
     "output_type": "stream",
     "text": [
      "Training until validation scores don't improve for 50 rounds\n",
      "[100]\ttraining's binary_logloss: 0.000152227\tvalid_1's binary_logloss: 2.74235e-05\n",
      "[200]\ttraining's binary_logloss: 5.56322e-05\tvalid_1's binary_logloss: 1.58965e-05\n",
      "[300]\ttraining's binary_logloss: 3.10413e-05\tvalid_1's binary_logloss: 1.09348e-05\n",
      "[400]\ttraining's binary_logloss: 2.14267e-05\tvalid_1's binary_logloss: 8.5964e-06\n",
      "[500]\ttraining's binary_logloss: 1.69821e-05\tvalid_1's binary_logloss: 7.39736e-06\n",
      "[600]\ttraining's binary_logloss: 1.47045e-05\tvalid_1's binary_logloss: 6.74287e-06\n",
      "[700]\ttraining's binary_logloss: 1.34547e-05\tvalid_1's binary_logloss: 6.36989e-06\n",
      "[800]\ttraining's binary_logloss: 1.27379e-05\tvalid_1's binary_logloss: 6.15115e-06\n",
      "[900]\ttraining's binary_logloss: 1.23147e-05\tvalid_1's binary_logloss: 6.02065e-06\n",
      "[1000]\ttraining's binary_logloss: 1.20603e-05\tvalid_1's binary_logloss: 5.9421e-06\n",
      "[1100]\ttraining's binary_logloss: 1.19058e-05\tvalid_1's binary_logloss: 5.89442e-06\n",
      "[1200]\ttraining's binary_logloss: 1.18113e-05\tvalid_1's binary_logloss: 5.86532e-06\n",
      "[1300]\ttraining's binary_logloss: 1.17532e-05\tvalid_1's binary_logloss: 5.84755e-06\n",
      "[1400]\ttraining's binary_logloss: 1.17173e-05\tvalid_1's binary_logloss: 5.83667e-06\n",
      "[1500]\ttraining's binary_logloss: 1.16952e-05\tvalid_1's binary_logloss: 5.83002e-06\n",
      "[1600]\ttraining's binary_logloss: 1.16816e-05\tvalid_1's binary_logloss: 5.82594e-06\n",
      "[1700]\ttraining's binary_logloss: 1.16734e-05\tvalid_1's binary_logloss: 5.82344e-06\n",
      "[1800]\ttraining's binary_logloss: 1.16684e-05\tvalid_1's binary_logloss: 5.82191e-06\n",
      "[1900]\ttraining's binary_logloss: 1.16653e-05\tvalid_1's binary_logloss: 5.82098e-06\n",
      "[2000]\ttraining's binary_logloss: 1.16632e-05\tvalid_1's binary_logloss: 5.8204e-06\n",
      "[2100]\ttraining's binary_logloss: 1.16619e-05\tvalid_1's binary_logloss: 5.82005e-06\n",
      "[2200]\ttraining's binary_logloss: 1.1661e-05\tvalid_1's binary_logloss: 5.81983e-06\n",
      "[2300]\ttraining's binary_logloss: 1.16603e-05\tvalid_1's binary_logloss: 5.8197e-06\n",
      "[2400]\ttraining's binary_logloss: 1.16599e-05\tvalid_1's binary_logloss: 5.81962e-06\n",
      "[2500]\ttraining's binary_logloss: 1.16595e-05\tvalid_1's binary_logloss: 5.81957e-06\n",
      "[2600]\ttraining's binary_logloss: 1.16593e-05\tvalid_1's binary_logloss: 5.81954e-06\n",
      "[2700]\ttraining's binary_logloss: 1.16591e-05\tvalid_1's binary_logloss: 5.81952e-06\n",
      "[2800]\ttraining's binary_logloss: 1.1659e-05\tvalid_1's binary_logloss: 5.81951e-06\n",
      "[2900]\ttraining's binary_logloss: 1.1659e-05\tvalid_1's binary_logloss: 5.8195e-06\n",
      "[3000]\ttraining's binary_logloss: 1.16589e-05\tvalid_1's binary_logloss: 5.8195e-06\n",
      "[3100]\ttraining's binary_logloss: 1.16589e-05\tvalid_1's binary_logloss: 5.81949e-06\n",
      "[3200]\ttraining's binary_logloss: 1.16589e-05\tvalid_1's binary_logloss: 5.81949e-06\n",
      "[3300]\ttraining's binary_logloss: 1.16589e-05\tvalid_1's binary_logloss: 5.81949e-06\n",
      "[3400]\ttraining's binary_logloss: 1.16588e-05\tvalid_1's binary_logloss: 5.81949e-06\n",
      "[3500]\ttraining's binary_logloss: 1.16588e-05\tvalid_1's binary_logloss: 5.81949e-06\n",
      "[3600]\ttraining's binary_logloss: 1.16588e-05\tvalid_1's binary_logloss: 5.81949e-06\n",
      "[3700]\ttraining's binary_logloss: 1.16588e-05\tvalid_1's binary_logloss: 5.81949e-06\n",
      "[3800]\ttraining's binary_logloss: 1.16588e-05\tvalid_1's binary_logloss: 5.81949e-06\n",
      "[3900]\ttraining's binary_logloss: 1.16588e-05\tvalid_1's binary_logloss: 5.81949e-06\n",
      "Early stopping, best iteration is:\n",
      "[3883]\ttraining's binary_logloss: 1.16588e-05\tvalid_1's binary_logloss: 5.81949e-06\n"
     ]
    },
    {
     "name": "stderr",
     "output_type": "stream",
     "text": [
      "================================= fold 2/4 erbb2_inhibitor=================================\n"
     ]
    },
    {
     "name": "stdout",
     "output_type": "stream",
     "text": [
      "Training until validation scores don't improve for 50 rounds\n",
      "Early stopping, best iteration is:\n",
      "[1]\ttraining's binary_logloss: 0\tvalid_1's binary_logloss: 0.00580094\n"
     ]
    },
    {
     "name": "stderr",
     "output_type": "stream",
     "text": [
      "================================= fold 3/4 erbb2_inhibitor=================================\n"
     ]
    },
    {
     "name": "stdout",
     "output_type": "stream",
     "text": [
      "Training until validation scores don't improve for 50 rounds\n",
      "[100]\ttraining's binary_logloss: 0.000152112\tvalid_1's binary_logloss: 2.7346e-05\n",
      "[200]\ttraining's binary_logloss: 5.5619e-05\tvalid_1's binary_logloss: 1.5831e-05\n",
      "[300]\ttraining's binary_logloss: 3.10428e-05\tvalid_1's binary_logloss: 1.0879e-05\n",
      "[400]\ttraining's binary_logloss: 2.14317e-05\tvalid_1's binary_logloss: 8.54614e-06\n",
      "[500]\ttraining's binary_logloss: 1.69878e-05\tvalid_1's binary_logloss: 7.34985e-06\n",
      "[600]\ttraining's binary_logloss: 1.47102e-05\tvalid_1's binary_logloss: 6.69637e-06\n",
      "[700]\ttraining's binary_logloss: 1.34604e-05\tvalid_1's binary_logloss: 6.32392e-06\n",
      "[800]\ttraining's binary_logloss: 1.2743e-05\tvalid_1's binary_logloss: 6.10571e-06\n",
      "[900]\ttraining's binary_logloss: 1.23194e-05\tvalid_1's binary_logloss: 5.97554e-06\n",
      "[1000]\ttraining's binary_logloss: 1.20648e-05\tvalid_1's binary_logloss: 5.89706e-06\n",
      "[1100]\ttraining's binary_logloss: 1.19101e-05\tvalid_1's binary_logloss: 5.84945e-06\n",
      "[1200]\ttraining's binary_logloss: 1.18153e-05\tvalid_1's binary_logloss: 5.82044e-06\n",
      "[1300]\ttraining's binary_logloss: 1.17572e-05\tvalid_1's binary_logloss: 5.80272e-06\n",
      "[1400]\ttraining's binary_logloss: 1.17213e-05\tvalid_1's binary_logloss: 5.79188e-06\n",
      "[1500]\ttraining's binary_logloss: 1.16991e-05\tvalid_1's binary_logloss: 5.78524e-06\n",
      "[1600]\ttraining's binary_logloss: 1.16854e-05\tvalid_1's binary_logloss: 5.78117e-06\n",
      "[1700]\ttraining's binary_logloss: 1.1677e-05\tvalid_1's binary_logloss: 5.77867e-06\n",
      "[1800]\ttraining's binary_logloss: 1.1672e-05\tvalid_1's binary_logloss: 5.77713e-06\n",
      "[1900]\ttraining's binary_logloss: 1.16691e-05\tvalid_1's binary_logloss: 5.77619e-06\n",
      "[2000]\ttraining's binary_logloss: 1.16671e-05\tvalid_1's binary_logloss: 5.77562e-06\n",
      "[2100]\ttraining's binary_logloss: 1.16659e-05\tvalid_1's binary_logloss: 5.77527e-06\n",
      "[2200]\ttraining's binary_logloss: 1.16649e-05\tvalid_1's binary_logloss: 5.77505e-06\n",
      "[2300]\ttraining's binary_logloss: 1.16642e-05\tvalid_1's binary_logloss: 5.77492e-06\n",
      "[2400]\ttraining's binary_logloss: 1.16638e-05\tvalid_1's binary_logloss: 5.77484e-06\n",
      "[2500]\ttraining's binary_logloss: 1.16635e-05\tvalid_1's binary_logloss: 5.77479e-06\n",
      "[2600]\ttraining's binary_logloss: 1.16633e-05\tvalid_1's binary_logloss: 5.77476e-06\n",
      "[2700]\ttraining's binary_logloss: 1.16632e-05\tvalid_1's binary_logloss: 5.77474e-06\n",
      "[2800]\ttraining's binary_logloss: 1.16631e-05\tvalid_1's binary_logloss: 5.77472e-06\n",
      "[2900]\ttraining's binary_logloss: 1.1663e-05\tvalid_1's binary_logloss: 5.77472e-06\n",
      "[3000]\ttraining's binary_logloss: 1.1663e-05\tvalid_1's binary_logloss: 5.77471e-06\n",
      "[3100]\ttraining's binary_logloss: 1.16629e-05\tvalid_1's binary_logloss: 5.77471e-06\n",
      "[3200]\ttraining's binary_logloss: 1.16629e-05\tvalid_1's binary_logloss: 5.77471e-06\n",
      "[3300]\ttraining's binary_logloss: 1.16629e-05\tvalid_1's binary_logloss: 5.77471e-06\n",
      "[3400]\ttraining's binary_logloss: 1.16629e-05\tvalid_1's binary_logloss: 5.77471e-06\n",
      "[3500]\ttraining's binary_logloss: 1.16629e-05\tvalid_1's binary_logloss: 5.77471e-06\n",
      "[3600]\ttraining's binary_logloss: 1.16629e-05\tvalid_1's binary_logloss: 5.77471e-06\n",
      "[3700]\ttraining's binary_logloss: 1.16629e-05\tvalid_1's binary_logloss: 5.77471e-06\n",
      "Early stopping, best iteration is:\n",
      "[3727]\ttraining's binary_logloss: 1.16629e-05\tvalid_1's binary_logloss: 5.77471e-06\n"
     ]
    },
    {
     "name": "stderr",
     "output_type": "stream",
     "text": [
      "================================= fold 4/4 erbb2_inhibitor=================================\n"
     ]
    },
    {
     "name": "stdout",
     "output_type": "stream",
     "text": [
      "Training until validation scores don't improve for 50 rounds\n",
      "[100]\ttraining's binary_logloss: 0.000152252\tvalid_1's binary_logloss: 2.7442e-05\n",
      "[200]\ttraining's binary_logloss: 5.56163e-05\tvalid_1's binary_logloss: 1.59174e-05\n",
      "[300]\ttraining's binary_logloss: 3.10229e-05\tvalid_1's binary_logloss: 1.09561e-05\n",
      "[400]\ttraining's binary_logloss: 2.14096e-05\tvalid_1's binary_logloss: 8.61668e-06\n",
      "[500]\ttraining's binary_logloss: 1.69665e-05\tvalid_1's binary_logloss: 7.41786e-06\n",
      "[600]\ttraining's binary_logloss: 1.46903e-05\tvalid_1's binary_logloss: 6.76358e-06\n",
      "[700]\ttraining's binary_logloss: 1.34414e-05\tvalid_1's binary_logloss: 6.39064e-06\n",
      "[800]\ttraining's binary_logloss: 1.27252e-05\tvalid_1's binary_logloss: 6.17226e-06\n",
      "[900]\ttraining's binary_logloss: 1.23025e-05\tvalid_1's binary_logloss: 6.04221e-06\n",
      "[1000]\ttraining's binary_logloss: 1.20485e-05\tvalid_1's binary_logloss: 5.96385e-06\n",
      "[1100]\ttraining's binary_logloss: 1.18943e-05\tvalid_1's binary_logloss: 5.91627e-06\n",
      "[1200]\ttraining's binary_logloss: 1.17998e-05\tvalid_1's binary_logloss: 5.88729e-06\n",
      "[1300]\ttraining's binary_logloss: 1.17418e-05\tvalid_1's binary_logloss: 5.8696e-06\n",
      "[1400]\ttraining's binary_logloss: 1.17061e-05\tvalid_1's binary_logloss: 5.85878e-06\n",
      "[1500]\ttraining's binary_logloss: 1.16845e-05\tvalid_1's binary_logloss: 5.85217e-06\n",
      "[1600]\ttraining's binary_logloss: 1.16712e-05\tvalid_1's binary_logloss: 5.84812e-06\n",
      "[1700]\ttraining's binary_logloss: 1.1663e-05\tvalid_1's binary_logloss: 5.84564e-06\n",
      "[1800]\ttraining's binary_logloss: 1.16579e-05\tvalid_1's binary_logloss: 5.84412e-06\n",
      "[1900]\ttraining's binary_logloss: 1.16546e-05\tvalid_1's binary_logloss: 5.84319e-06\n",
      "[2000]\ttraining's binary_logloss: 1.16524e-05\tvalid_1's binary_logloss: 5.84262e-06\n",
      "[2100]\ttraining's binary_logloss: 1.16509e-05\tvalid_1's binary_logloss: 5.84227e-06\n",
      "[2200]\ttraining's binary_logloss: 1.16498e-05\tvalid_1's binary_logloss: 5.84206e-06\n",
      "[2300]\ttraining's binary_logloss: 1.16489e-05\tvalid_1's binary_logloss: 5.84193e-06\n",
      "[2400]\ttraining's binary_logloss: 1.16484e-05\tvalid_1's binary_logloss: 5.84185e-06\n",
      "[2500]\ttraining's binary_logloss: 1.1648e-05\tvalid_1's binary_logloss: 5.8418e-06\n",
      "[2600]\ttraining's binary_logloss: 1.16478e-05\tvalid_1's binary_logloss: 5.84177e-06\n",
      "[2700]\ttraining's binary_logloss: 1.16476e-05\tvalid_1's binary_logloss: 5.84175e-06\n",
      "[2800]\ttraining's binary_logloss: 1.16474e-05\tvalid_1's binary_logloss: 5.84174e-06\n",
      "[2900]\ttraining's binary_logloss: 1.16474e-05\tvalid_1's binary_logloss: 5.84173e-06\n",
      "[3000]\ttraining's binary_logloss: 1.16473e-05\tvalid_1's binary_logloss: 5.84173e-06\n",
      "[3100]\ttraining's binary_logloss: 1.16473e-05\tvalid_1's binary_logloss: 5.84173e-06\n",
      "[3200]\ttraining's binary_logloss: 1.16472e-05\tvalid_1's binary_logloss: 5.84172e-06\n",
      "[3300]\ttraining's binary_logloss: 1.16472e-05\tvalid_1's binary_logloss: 5.84172e-06\n",
      "[3400]\ttraining's binary_logloss: 1.16472e-05\tvalid_1's binary_logloss: 5.84172e-06\n",
      "[3500]\ttraining's binary_logloss: 1.16472e-05\tvalid_1's binary_logloss: 5.84172e-06\n",
      "[3600]\ttraining's binary_logloss: 1.16472e-05\tvalid_1's binary_logloss: 5.84172e-06\n",
      "[3700]\ttraining's binary_logloss: 1.16472e-05\tvalid_1's binary_logloss: 5.84172e-06\n",
      "Early stopping, best iteration is:\n",
      "[3725]\ttraining's binary_logloss: 1.16472e-05\tvalid_1's binary_logloss: 5.84172e-06\n"
     ]
    },
    {
     "name": "stderr",
     "output_type": "stream",
     "text": [
      "erbb2_inhibitor logloss: 0.001454714799335712\n",
      "=========================================================================================\n",
      "================================= fold 1/4 estrogen_receptor_agonist=================================\n"
     ]
    },
    {
     "name": "stdout",
     "output_type": "stream",
     "text": [
      "Training until validation scores don't improve for 50 rounds\n",
      "[100]\ttraining's binary_logloss: 0.0141605\tvalid_1's binary_logloss: 0.0396556\n",
      "Early stopping, best iteration is:\n",
      "[95]\ttraining's binary_logloss: 0.0147278\tvalid_1's binary_logloss: 0.0396256\n"
     ]
    },
    {
     "name": "stderr",
     "output_type": "stream",
     "text": [
      "================================= fold 2/4 estrogen_receptor_agonist=================================\n"
     ]
    },
    {
     "name": "stdout",
     "output_type": "stream",
     "text": [
      "Training until validation scores don't improve for 50 rounds\n",
      "[100]\ttraining's binary_logloss: 0.0143623\tvalid_1's binary_logloss: 0.0394852\n",
      "Early stopping, best iteration is:\n",
      "[111]\ttraining's binary_logloss: 0.0132386\tvalid_1's binary_logloss: 0.0394183\n"
     ]
    },
    {
     "name": "stderr",
     "output_type": "stream",
     "text": [
      "================================= fold 3/4 estrogen_receptor_agonist=================================\n"
     ]
    },
    {
     "name": "stdout",
     "output_type": "stream",
     "text": [
      "Training until validation scores don't improve for 50 rounds\n",
      "[100]\ttraining's binary_logloss: 0.0142933\tvalid_1's binary_logloss: 0.039151\n",
      "Early stopping, best iteration is:\n",
      "[97]\ttraining's binary_logloss: 0.0145848\tvalid_1's binary_logloss: 0.0391075\n"
     ]
    },
    {
     "name": "stderr",
     "output_type": "stream",
     "text": [
      "================================= fold 4/4 estrogen_receptor_agonist=================================\n"
     ]
    },
    {
     "name": "stdout",
     "output_type": "stream",
     "text": [
      "Training until validation scores don't improve for 50 rounds\n",
      "[100]\ttraining's binary_logloss: 0.0139023\tvalid_1's binary_logloss: 0.0389035\n",
      "Early stopping, best iteration is:\n",
      "[114]\ttraining's binary_logloss: 0.0126578\tvalid_1's binary_logloss: 0.0388393\n"
     ]
    },
    {
     "name": "stderr",
     "output_type": "stream",
     "text": [
      "estrogen_receptor_agonist logloss: 0.03924770472921086\n",
      "=========================================================================================\n",
      "================================= fold 1/4 estrogen_receptor_antagonist=================================\n"
     ]
    },
    {
     "name": "stdout",
     "output_type": "stream",
     "text": [
      "Training until validation scores don't improve for 50 rounds\n",
      "[100]\ttraining's binary_logloss: 0.0024539\tvalid_1's binary_logloss: 0.0144059\n",
      "Early stopping, best iteration is:\n",
      "[75]\ttraining's binary_logloss: 0.00312355\tvalid_1's binary_logloss: 0.0143601\n"
     ]
    },
    {
     "name": "stderr",
     "output_type": "stream",
     "text": [
      "================================= fold 2/4 estrogen_receptor_antagonist=================================\n"
     ]
    },
    {
     "name": "stdout",
     "output_type": "stream",
     "text": [
      "Training until validation scores don't improve for 50 rounds\n",
      "Early stopping, best iteration is:\n",
      "[5]\ttraining's binary_logloss: 0.0119654\tvalid_1's binary_logloss: 0.0145096\n"
     ]
    },
    {
     "name": "stderr",
     "output_type": "stream",
     "text": [
      "================================= fold 3/4 estrogen_receptor_antagonist=================================\n"
     ]
    },
    {
     "name": "stdout",
     "output_type": "stream",
     "text": [
      "Training until validation scores don't improve for 50 rounds\n",
      "[100]\ttraining's binary_logloss: 0.00266418\tvalid_1's binary_logloss: 0.0142384\n",
      "Early stopping, best iteration is:\n",
      "[52]\ttraining's binary_logloss: 0.00449621\tvalid_1's binary_logloss: 0.0141253\n"
     ]
    },
    {
     "name": "stderr",
     "output_type": "stream",
     "text": [
      "================================= fold 4/4 estrogen_receptor_antagonist=================================\n"
     ]
    },
    {
     "name": "stdout",
     "output_type": "stream",
     "text": [
      "Training until validation scores don't improve for 50 rounds\n"
     ]
    },
    {
     "name": "stderr",
     "output_type": "stream",
     "text": [
      "estrogen_receptor_antagonist logloss: 0.014344977371024458\n",
      "=========================================================================================\n"
     ]
    },
    {
     "name": "stdout",
     "output_type": "stream",
     "text": [
      "Early stopping, best iteration is:\n",
      "[15]\ttraining's binary_logloss: 0.00842133\tvalid_1's binary_logloss: 0.0143849\n"
     ]
    },
    {
     "name": "stderr",
     "output_type": "stream",
     "text": [
      "================================= fold 1/4 faah_inhibitor=================================\n"
     ]
    },
    {
     "name": "stdout",
     "output_type": "stream",
     "text": [
      "Training until validation scores don't improve for 50 rounds\n",
      "[100]\ttraining's binary_logloss: 0.00174855\tvalid_1's binary_logloss: 0.0112317\n",
      "Early stopping, best iteration is:\n",
      "[73]\ttraining's binary_logloss: 0.00231078\tvalid_1's binary_logloss: 0.0111622\n"
     ]
    },
    {
     "name": "stderr",
     "output_type": "stream",
     "text": [
      "================================= fold 2/4 faah_inhibitor=================================\n"
     ]
    },
    {
     "name": "stdout",
     "output_type": "stream",
     "text": [
      "Training until validation scores don't improve for 50 rounds\n",
      "Early stopping, best iteration is:\n",
      "[38]\ttraining's binary_logloss: 0.00372077\tvalid_1's binary_logloss: 0.0112723\n"
     ]
    },
    {
     "name": "stderr",
     "output_type": "stream",
     "text": [
      "================================= fold 3/4 faah_inhibitor=================================\n"
     ]
    },
    {
     "name": "stdout",
     "output_type": "stream",
     "text": [
      "Training until validation scores don't improve for 50 rounds\n",
      "Early stopping, best iteration is:\n",
      "[26]\ttraining's binary_logloss: 0.00455515\tvalid_1's binary_logloss: 0.0112848\n"
     ]
    },
    {
     "name": "stderr",
     "output_type": "stream",
     "text": [
      "================================= fold 4/4 faah_inhibitor=================================\n"
     ]
    },
    {
     "name": "stdout",
     "output_type": "stream",
     "text": [
      "Training until validation scores don't improve for 50 rounds\n"
     ]
    },
    {
     "name": "stderr",
     "output_type": "stream",
     "text": [
      "faah_inhibitor logloss: 0.011183139171528923\n",
      "=========================================================================================\n"
     ]
    },
    {
     "name": "stdout",
     "output_type": "stream",
     "text": [
      "[100]\ttraining's binary_logloss: 0.00173579\tvalid_1's binary_logloss: 0.0111604\n",
      "Early stopping, best iteration is:\n",
      "[50]\ttraining's binary_logloss: 0.00306735\tvalid_1's binary_logloss: 0.0110132\n"
     ]
    },
    {
     "name": "stderr",
     "output_type": "stream",
     "text": [
      "================================= fold 1/4 farnesyltransferase_inhibitor=================================\n"
     ]
    },
    {
     "name": "stdout",
     "output_type": "stream",
     "text": [
      "Training until validation scores don't improve for 50 rounds\n",
      "[100]\ttraining's binary_logloss: 0.000747672\tvalid_1's binary_logloss: 0.00630953\n",
      "[200]\ttraining's binary_logloss: 0.000284249\tvalid_1's binary_logloss: 0.00624934\n",
      "Early stopping, best iteration is:\n",
      "[158]\ttraining's binary_logloss: 0.000414349\tvalid_1's binary_logloss: 0.00619591\n"
     ]
    },
    {
     "name": "stderr",
     "output_type": "stream",
     "text": [
      "================================= fold 2/4 farnesyltransferase_inhibitor=================================\n"
     ]
    },
    {
     "name": "stdout",
     "output_type": "stream",
     "text": [
      "Training until validation scores don't improve for 50 rounds\n",
      "[100]\ttraining's binary_logloss: 0.000727571\tvalid_1's binary_logloss: 0.00609843\n",
      "Early stopping, best iteration is:\n",
      "[123]\ttraining's binary_logloss: 0.00056996\tvalid_1's binary_logloss: 0.00605557\n"
     ]
    },
    {
     "name": "stderr",
     "output_type": "stream",
     "text": [
      "================================= fold 3/4 farnesyltransferase_inhibitor=================================\n"
     ]
    },
    {
     "name": "stdout",
     "output_type": "stream",
     "text": [
      "Training until validation scores don't improve for 50 rounds\n",
      "Early stopping, best iteration is:\n",
      "[16]\ttraining's binary_logloss: 0.0029344\tvalid_1's binary_logloss: 0.00544756\n"
     ]
    },
    {
     "name": "stderr",
     "output_type": "stream",
     "text": [
      "================================= fold 4/4 farnesyltransferase_inhibitor=================================\n"
     ]
    },
    {
     "name": "stdout",
     "output_type": "stream",
     "text": [
      "Training until validation scores don't improve for 50 rounds\n",
      "[100]\ttraining's binary_logloss: 0.00080049\tvalid_1's binary_logloss: 0.00498878\n",
      "[200]\ttraining's binary_logloss: 0.000300766\tvalid_1's binary_logloss: 0.00483544\n"
     ]
    },
    {
     "name": "stderr",
     "output_type": "stream",
     "text": [
      "farnesyltransferase_inhibitor logloss: 0.005629468619300205\n",
      "=========================================================================================\n"
     ]
    },
    {
     "name": "stdout",
     "output_type": "stream",
     "text": [
      "Early stopping, best iteration is:\n",
      "[231]\ttraining's binary_logloss: 0.00023149\tvalid_1's binary_logloss: 0.00481868\n"
     ]
    },
    {
     "name": "stderr",
     "output_type": "stream",
     "text": [
      "================================= fold 1/4 fatty_acid_receptor_agonist=================================\n"
     ]
    },
    {
     "name": "stdout",
     "output_type": "stream",
     "text": [
      "Training until validation scores don't improve for 50 rounds\n",
      "[100]\ttraining's binary_logloss: 0.0012434\tvalid_1's binary_logloss: 0.00757966\n",
      "Early stopping, best iteration is:\n",
      "[83]\ttraining's binary_logloss: 0.00148698\tvalid_1's binary_logloss: 0.00756397\n"
     ]
    },
    {
     "name": "stderr",
     "output_type": "stream",
     "text": [
      "================================= fold 2/4 fatty_acid_receptor_agonist=================================\n"
     ]
    },
    {
     "name": "stdout",
     "output_type": "stream",
     "text": [
      "Training until validation scores don't improve for 50 rounds\n",
      "Early stopping, best iteration is:\n",
      "[27]\ttraining's binary_logloss: 0.00306108\tvalid_1's binary_logloss: 0.00900126\n"
     ]
    },
    {
     "name": "stderr",
     "output_type": "stream",
     "text": [
      "================================= fold 3/4 fatty_acid_receptor_agonist=================================\n"
     ]
    },
    {
     "name": "stdout",
     "output_type": "stream",
     "text": [
      "Training until validation scores don't improve for 50 rounds\n",
      "[100]\ttraining's binary_logloss: 0.00124671\tvalid_1's binary_logloss: 0.00780145\n",
      "Early stopping, best iteration is:\n",
      "[116]\ttraining's binary_logloss: 0.00106801\tvalid_1's binary_logloss: 0.00779329\n"
     ]
    },
    {
     "name": "stderr",
     "output_type": "stream",
     "text": [
      "================================= fold 4/4 fatty_acid_receptor_agonist=================================\n"
     ]
    },
    {
     "name": "stdout",
     "output_type": "stream",
     "text": [
      "Training until validation scores don't improve for 50 rounds\n"
     ]
    },
    {
     "name": "stderr",
     "output_type": "stream",
     "text": [
      "fatty_acid_receptor_agonist logloss: 0.008072251487499784\n",
      "=========================================================================================\n"
     ]
    },
    {
     "name": "stdout",
     "output_type": "stream",
     "text": [
      "Early stopping, best iteration is:\n",
      "[1]\ttraining's binary_logloss: 0.00815861\tvalid_1's binary_logloss: 0.00793041\n"
     ]
    },
    {
     "name": "stderr",
     "output_type": "stream",
     "text": [
      "================================= fold 1/4 fgfr_inhibitor=================================\n"
     ]
    },
    {
     "name": "stdout",
     "output_type": "stream",
     "text": [
      "Training until validation scores don't improve for 50 rounds\n",
      "[100]\ttraining's binary_logloss: 0.00245412\tvalid_1's binary_logloss: 0.0136714\n",
      "Early stopping, best iteration is:\n",
      "[148]\ttraining's binary_logloss: 0.00154325\tvalid_1's binary_logloss: 0.0134486\n"
     ]
    },
    {
     "name": "stderr",
     "output_type": "stream",
     "text": [
      "================================= fold 2/4 fgfr_inhibitor=================================\n"
     ]
    },
    {
     "name": "stdout",
     "output_type": "stream",
     "text": [
      "Training until validation scores don't improve for 50 rounds\n",
      "[100]\ttraining's binary_logloss: 0.00233776\tvalid_1's binary_logloss: 0.0141528\n",
      "Early stopping, best iteration is:\n",
      "[65]\ttraining's binary_logloss: 0.00347376\tvalid_1's binary_logloss: 0.0140835\n"
     ]
    },
    {
     "name": "stderr",
     "output_type": "stream",
     "text": [
      "================================= fold 3/4 fgfr_inhibitor=================================\n"
     ]
    },
    {
     "name": "stdout",
     "output_type": "stream",
     "text": [
      "Training until validation scores don't improve for 50 rounds\n",
      "[100]\ttraining's binary_logloss: 0.00241331\tvalid_1's binary_logloss: 0.0131828\n",
      "Early stopping, best iteration is:\n",
      "[95]\ttraining's binary_logloss: 0.00254375\tvalid_1's binary_logloss: 0.0131715\n"
     ]
    },
    {
     "name": "stderr",
     "output_type": "stream",
     "text": [
      "================================= fold 4/4 fgfr_inhibitor=================================\n"
     ]
    },
    {
     "name": "stdout",
     "output_type": "stream",
     "text": [
      "Training until validation scores don't improve for 50 rounds\n",
      "[100]\ttraining's binary_logloss: 0.00248028\tvalid_1's binary_logloss: 0.0109551\n"
     ]
    },
    {
     "name": "stderr",
     "output_type": "stream",
     "text": [
      "fgfr_inhibitor logloss: 0.012869123586088237\n",
      "=========================================================================================\n"
     ]
    },
    {
     "name": "stdout",
     "output_type": "stream",
     "text": [
      "Early stopping, best iteration is:\n",
      "[140]\ttraining's binary_logloss: 0.00168024\tvalid_1's binary_logloss: 0.0107726\n"
     ]
    },
    {
     "name": "stderr",
     "output_type": "stream",
     "text": [
      "================================= fold 1/4 flt3_inhibitor=================================\n"
     ]
    },
    {
     "name": "stdout",
     "output_type": "stream",
     "text": [
      "Training until validation scores don't improve for 50 rounds\n",
      "[100]\ttraining's binary_logloss: 0.015175\tvalid_1's binary_logloss: 0.0348569\n",
      "[200]\ttraining's binary_logloss: 0.00647861\tvalid_1's binary_logloss: 0.0301644\n",
      "[300]\ttraining's binary_logloss: 0.00309537\tvalid_1's binary_logloss: 0.0290811\n",
      "Early stopping, best iteration is:\n",
      "[292]\ttraining's binary_logloss: 0.00327266\tvalid_1's binary_logloss: 0.0290498\n"
     ]
    },
    {
     "name": "stderr",
     "output_type": "stream",
     "text": [
      "================================= fold 2/4 flt3_inhibitor=================================\n"
     ]
    },
    {
     "name": "stdout",
     "output_type": "stream",
     "text": [
      "Training until validation scores don't improve for 50 rounds\n",
      "[100]\ttraining's binary_logloss: 0.0148601\tvalid_1's binary_logloss: 0.0345878\n",
      "[200]\ttraining's binary_logloss: 0.00628197\tvalid_1's binary_logloss: 0.0314533\n",
      "[300]\ttraining's binary_logloss: 0.00300763\tvalid_1's binary_logloss: 0.0314141\n",
      "Early stopping, best iteration is:\n",
      "[278]\ttraining's binary_logloss: 0.00351169\tvalid_1's binary_logloss: 0.0313204\n"
     ]
    },
    {
     "name": "stderr",
     "output_type": "stream",
     "text": [
      "================================= fold 3/4 flt3_inhibitor=================================\n"
     ]
    },
    {
     "name": "stdout",
     "output_type": "stream",
     "text": [
      "Training until validation scores don't improve for 50 rounds\n",
      "[100]\ttraining's binary_logloss: 0.0146324\tvalid_1's binary_logloss: 0.0367791\n",
      "[200]\ttraining's binary_logloss: 0.00625568\tvalid_1's binary_logloss: 0.033399\n",
      "[300]\ttraining's binary_logloss: 0.00299429\tvalid_1's binary_logloss: 0.0330771\n",
      "Early stopping, best iteration is:\n",
      "[252]\ttraining's binary_logloss: 0.00423124\tvalid_1's binary_logloss: 0.032889\n"
     ]
    },
    {
     "name": "stderr",
     "output_type": "stream",
     "text": [
      "================================= fold 4/4 flt3_inhibitor=================================\n"
     ]
    },
    {
     "name": "stdout",
     "output_type": "stream",
     "text": [
      "Training until validation scores don't improve for 50 rounds\n",
      "[100]\ttraining's binary_logloss: 0.015119\tvalid_1's binary_logloss: 0.0310624\n",
      "[200]\ttraining's binary_logloss: 0.0065901\tvalid_1's binary_logloss: 0.0254897\n",
      "[300]\ttraining's binary_logloss: 0.00322441\tvalid_1's binary_logloss: 0.0240442\n",
      "[400]\ttraining's binary_logloss: 0.00172753\tvalid_1's binary_logloss: 0.0238366\n",
      "Early stopping, best iteration is:\n",
      "[358]\ttraining's binary_logloss: 0.00222513\tvalid_1's binary_logloss: 0.0237897\n"
     ]
    },
    {
     "name": "stderr",
     "output_type": "stream",
     "text": [
      "flt3_inhibitor logloss: 0.0292622918480496\n",
      "=========================================================================================\n",
      "================================= fold 1/4 focal_adhesion_kinase_inhibitor=================================\n"
     ]
    },
    {
     "name": "stdout",
     "output_type": "stream",
     "text": [
      "Training until validation scores don't improve for 50 rounds\n",
      "[100]\ttraining's binary_logloss: 0.000709919\tvalid_1's binary_logloss: 0.00568503\n",
      "Early stopping, best iteration is:\n",
      "[113]\ttraining's binary_logloss: 0.000616619\tvalid_1's binary_logloss: 0.00567619\n"
     ]
    },
    {
     "name": "stderr",
     "output_type": "stream",
     "text": [
      "================================= fold 2/4 focal_adhesion_kinase_inhibitor=================================\n"
     ]
    },
    {
     "name": "stdout",
     "output_type": "stream",
     "text": [
      "Training until validation scores don't improve for 50 rounds\n",
      "[100]\ttraining's binary_logloss: 0.000731377\tvalid_1's binary_logloss: 0.00639825\n",
      "[200]\ttraining's binary_logloss: 0.000273998\tvalid_1's binary_logloss: 0.00622768\n",
      "Early stopping, best iteration is:\n",
      "[233]\ttraining's binary_logloss: 0.000206937\tvalid_1's binary_logloss: 0.00619898\n"
     ]
    },
    {
     "name": "stderr",
     "output_type": "stream",
     "text": [
      "================================= fold 3/4 focal_adhesion_kinase_inhibitor=================================\n"
     ]
    },
    {
     "name": "stdout",
     "output_type": "stream",
     "text": [
      "Training until validation scores don't improve for 50 rounds\n",
      "[100]\ttraining's binary_logloss: 0.000792581\tvalid_1's binary_logloss: 0.00419301\n",
      "[200]\ttraining's binary_logloss: 0.000298773\tvalid_1's binary_logloss: 0.00390739\n",
      "Early stopping, best iteration is:\n",
      "[241]\ttraining's binary_logloss: 0.000211107\tvalid_1's binary_logloss: 0.00386962\n"
     ]
    },
    {
     "name": "stderr",
     "output_type": "stream",
     "text": [
      "================================= fold 4/4 focal_adhesion_kinase_inhibitor=================================\n"
     ]
    },
    {
     "name": "stdout",
     "output_type": "stream",
     "text": [
      "Training until validation scores don't improve for 50 rounds\n",
      "[100]\ttraining's binary_logloss: 0.000798213\tvalid_1's binary_logloss: 0.00388762\n",
      "[200]\ttraining's binary_logloss: 0.000300214\tvalid_1's binary_logloss: 0.00365247\n",
      "[300]\ttraining's binary_logloss: 0.000137086\tvalid_1's binary_logloss: 0.00355904\n",
      "Early stopping, best iteration is:\n",
      "[319]\ttraining's binary_logloss: 0.000120413\tvalid_1's binary_logloss: 0.00355336\n"
     ]
    },
    {
     "name": "stderr",
     "output_type": "stream",
     "text": [
      "focal_adhesion_kinase_inhibitor logloss: 0.004824630553621146\n",
      "=========================================================================================\n",
      "================================= fold 1/4 free_radical_scavenger=================================\n"
     ]
    },
    {
     "name": "stdout",
     "output_type": "stream",
     "text": [
      "Training until validation scores don't improve for 50 rounds\n",
      "Early stopping, best iteration is:\n",
      "[1]\ttraining's binary_logloss: 0.00559843\tvalid_1's binary_logloss: 0.00679847\n"
     ]
    },
    {
     "name": "stderr",
     "output_type": "stream",
     "text": [
      "================================= fold 2/4 free_radical_scavenger=================================\n"
     ]
    },
    {
     "name": "stdout",
     "output_type": "stream",
     "text": [
      "Training until validation scores don't improve for 50 rounds\n",
      "Early stopping, best iteration is:\n",
      "[1]\ttraining's binary_logloss: 0.00578118\tvalid_1's binary_logloss: 0.00679781\n"
     ]
    },
    {
     "name": "stderr",
     "output_type": "stream",
     "text": [
      "================================= fold 3/4 free_radical_scavenger=================================\n"
     ]
    },
    {
     "name": "stdout",
     "output_type": "stream",
     "text": [
      "Training until validation scores don't improve for 50 rounds\n",
      "Early stopping, best iteration is:\n",
      "[47]\ttraining's binary_logloss: 0.00168568\tvalid_1's binary_logloss: 0.0055818\n"
     ]
    },
    {
     "name": "stderr",
     "output_type": "stream",
     "text": [
      "================================= fold 4/4 free_radical_scavenger=================================\n"
     ]
    },
    {
     "name": "stdout",
     "output_type": "stream",
     "text": [
      "Training until validation scores don't improve for 50 rounds\n"
     ]
    },
    {
     "name": "stderr",
     "output_type": "stream",
     "text": [
      "free_radical_scavenger logloss: 0.006184848136042537\n",
      "=========================================================================================\n"
     ]
    },
    {
     "name": "stdout",
     "output_type": "stream",
     "text": [
      "Early stopping, best iteration is:\n",
      "[24]\ttraining's binary_logloss: 0.00254199\tvalid_1's binary_logloss: 0.00556112\n"
     ]
    },
    {
     "name": "stderr",
     "output_type": "stream",
     "text": [
      "================================= fold 1/4 fungal_squalene_epoxidase_inhibitor=================================\n"
     ]
    },
    {
     "name": "stdout",
     "output_type": "stream",
     "text": [
      "Training until validation scores don't improve for 50 rounds\n",
      "Early stopping, best iteration is:\n",
      "[4]\ttraining's binary_logloss: 0.00598781\tvalid_1's binary_logloss: 0.00788744\n"
     ]
    },
    {
     "name": "stderr",
     "output_type": "stream",
     "text": [
      "================================= fold 2/4 fungal_squalene_epoxidase_inhibitor=================================\n"
     ]
    },
    {
     "name": "stdout",
     "output_type": "stream",
     "text": [
      "Training until validation scores don't improve for 50 rounds\n",
      "Early stopping, best iteration is:\n",
      "[1]\ttraining's binary_logloss: 0.0072929\tvalid_1's binary_logloss: 0.00796374\n"
     ]
    },
    {
     "name": "stderr",
     "output_type": "stream",
     "text": [
      "================================= fold 3/4 fungal_squalene_epoxidase_inhibitor=================================\n"
     ]
    },
    {
     "name": "stdout",
     "output_type": "stream",
     "text": [
      "Training until validation scores don't improve for 50 rounds\n",
      "[100]\ttraining's binary_logloss: 0.00112301\tvalid_1's binary_logloss: 0.00681338\n",
      "Early stopping, best iteration is:\n",
      "[55]\ttraining's binary_logloss: 0.00190387\tvalid_1's binary_logloss: 0.0067532\n"
     ]
    },
    {
     "name": "stderr",
     "output_type": "stream",
     "text": [
      "================================= fold 4/4 fungal_squalene_epoxidase_inhibitor=================================\n"
     ]
    },
    {
     "name": "stdout",
     "output_type": "stream",
     "text": [
      "Training until validation scores don't improve for 50 rounds\n"
     ]
    },
    {
     "name": "stderr",
     "output_type": "stream",
     "text": [
      "fungal_squalene_epoxidase_inhibitor logloss: 0.007642685206297416\n",
      "=========================================================================================\n"
     ]
    },
    {
     "name": "stdout",
     "output_type": "stream",
     "text": [
      "Early stopping, best iteration is:\n",
      "[1]\ttraining's binary_logloss: 0.00728528\tvalid_1's binary_logloss: 0.00796627\n"
     ]
    },
    {
     "name": "stderr",
     "output_type": "stream",
     "text": [
      "================================= fold 1/4 gaba_receptor_agonist=================================\n"
     ]
    },
    {
     "name": "stdout",
     "output_type": "stream",
     "text": [
      "Training until validation scores don't improve for 50 rounds\n",
      "[100]\ttraining's binary_logloss: 0.00688178\tvalid_1's binary_logloss: 0.0288748\n",
      "Early stopping, best iteration is:\n",
      "[55]\ttraining's binary_logloss: 0.0111502\tvalid_1's binary_logloss: 0.0286659\n"
     ]
    },
    {
     "name": "stderr",
     "output_type": "stream",
     "text": [
      "================================= fold 2/4 gaba_receptor_agonist=================================\n"
     ]
    },
    {
     "name": "stdout",
     "output_type": "stream",
     "text": [
      "Training until validation scores don't improve for 50 rounds\n",
      "Early stopping, best iteration is:\n",
      "[47]\ttraining's binary_logloss: 0.0122129\tvalid_1's binary_logloss: 0.028764\n"
     ]
    },
    {
     "name": "stderr",
     "output_type": "stream",
     "text": [
      "================================= fold 3/4 gaba_receptor_agonist=================================\n"
     ]
    },
    {
     "name": "stdout",
     "output_type": "stream",
     "text": [
      "Training until validation scores don't improve for 50 rounds\n",
      "Early stopping, best iteration is:\n",
      "[33]\ttraining's binary_logloss: 0.0146811\tvalid_1's binary_logloss: 0.0275455\n"
     ]
    },
    {
     "name": "stderr",
     "output_type": "stream",
     "text": [
      "================================= fold 4/4 gaba_receptor_agonist=================================\n"
     ]
    },
    {
     "name": "stdout",
     "output_type": "stream",
     "text": [
      "Training until validation scores don't improve for 50 rounds\n"
     ]
    },
    {
     "name": "stderr",
     "output_type": "stream",
     "text": [
      "gaba_receptor_agonist logloss: 0.028263903598243652\n",
      "=========================================================================================\n"
     ]
    },
    {
     "name": "stdout",
     "output_type": "stream",
     "text": [
      "Early stopping, best iteration is:\n",
      "[2]\ttraining's binary_logloss: 0.0271852\tvalid_1's binary_logloss: 0.02808\n"
     ]
    },
    {
     "name": "stderr",
     "output_type": "stream",
     "text": [
      "================================= fold 1/4 gaba_receptor_antagonist=================================\n"
     ]
    },
    {
     "name": "stdout",
     "output_type": "stream",
     "text": [
      "Training until validation scores don't improve for 50 rounds\n",
      "[100]\ttraining's binary_logloss: 0.0152653\tvalid_1's binary_logloss: 0.0402515\n",
      "Early stopping, best iteration is:\n",
      "[89]\ttraining's binary_logloss: 0.0165294\tvalid_1's binary_logloss: 0.0402274\n"
     ]
    },
    {
     "name": "stderr",
     "output_type": "stream",
     "text": [
      "================================= fold 2/4 gaba_receptor_antagonist=================================\n"
     ]
    },
    {
     "name": "stdout",
     "output_type": "stream",
     "text": [
      "Training until validation scores don't improve for 50 rounds\n",
      "Early stopping, best iteration is:\n",
      "[42]\ttraining's binary_logloss: 0.0244154\tvalid_1's binary_logloss: 0.0415888\n"
     ]
    },
    {
     "name": "stderr",
     "output_type": "stream",
     "text": [
      "================================= fold 3/4 gaba_receptor_antagonist=================================\n"
     ]
    },
    {
     "name": "stdout",
     "output_type": "stream",
     "text": [
      "Training until validation scores don't improve for 50 rounds\n",
      "[100]\ttraining's binary_logloss: 0.0150208\tvalid_1's binary_logloss: 0.0409124\n",
      "Early stopping, best iteration is:\n",
      "[79]\ttraining's binary_logloss: 0.0172794\tvalid_1's binary_logloss: 0.0407834\n"
     ]
    },
    {
     "name": "stderr",
     "output_type": "stream",
     "text": [
      "================================= fold 4/4 gaba_receptor_antagonist=================================\n"
     ]
    },
    {
     "name": "stdout",
     "output_type": "stream",
     "text": [
      "Training until validation scores don't improve for 50 rounds\n"
     ]
    },
    {
     "name": "stderr",
     "output_type": "stream",
     "text": [
      "gaba_receptor_antagonist logloss: 0.040900734793641\n",
      "=========================================================================================\n"
     ]
    },
    {
     "name": "stdout",
     "output_type": "stream",
     "text": [
      "Early stopping, best iteration is:\n",
      "[48]\ttraining's binary_logloss: 0.0217075\tvalid_1's binary_logloss: 0.0410033\n"
     ]
    },
    {
     "name": "stderr",
     "output_type": "stream",
     "text": [
      "================================= fold 1/4 gamma_secretase_inhibitor=================================\n"
     ]
    },
    {
     "name": "stdout",
     "output_type": "stream",
     "text": [
      "Training until validation scores don't improve for 50 rounds\n",
      "[100]\ttraining's binary_logloss: 0.00264014\tvalid_1's binary_logloss: 0.0123952\n",
      "[200]\ttraining's binary_logloss: 0.00105713\tvalid_1's binary_logloss: 0.0121197\n",
      "Early stopping, best iteration is:\n",
      "[188]\ttraining's binary_logloss: 0.00117052\tvalid_1's binary_logloss: 0.0120978\n"
     ]
    },
    {
     "name": "stderr",
     "output_type": "stream",
     "text": [
      "================================= fold 2/4 gamma_secretase_inhibitor=================================\n"
     ]
    },
    {
     "name": "stdout",
     "output_type": "stream",
     "text": [
      "Training until validation scores don't improve for 50 rounds\n",
      "[100]\ttraining's binary_logloss: 0.00263619\tvalid_1's binary_logloss: 0.0115749\n",
      "[200]\ttraining's binary_logloss: 0.00106451\tvalid_1's binary_logloss: 0.0114575\n",
      "Early stopping, best iteration is:\n",
      "[150]\ttraining's binary_logloss: 0.00163403\tvalid_1's binary_logloss: 0.0113638\n"
     ]
    },
    {
     "name": "stderr",
     "output_type": "stream",
     "text": [
      "================================= fold 3/4 gamma_secretase_inhibitor=================================\n"
     ]
    },
    {
     "name": "stdout",
     "output_type": "stream",
     "text": [
      "Training until validation scores don't improve for 50 rounds\n",
      "[100]\ttraining's binary_logloss: 0.00260261\tvalid_1's binary_logloss: 0.0143387\n",
      "Early stopping, best iteration is:\n",
      "[139]\ttraining's binary_logloss: 0.00176318\tvalid_1's binary_logloss: 0.0142544\n"
     ]
    },
    {
     "name": "stderr",
     "output_type": "stream",
     "text": [
      "================================= fold 4/4 gamma_secretase_inhibitor=================================\n"
     ]
    },
    {
     "name": "stdout",
     "output_type": "stream",
     "text": [
      "Training until validation scores don't improve for 50 rounds\n"
     ]
    },
    {
     "name": "stderr",
     "output_type": "stream",
     "text": [
      "gamma_secretase_inhibitor logloss: 0.01324732429461919\n",
      "=========================================================================================\n"
     ]
    },
    {
     "name": "stdout",
     "output_type": "stream",
     "text": [
      "Early stopping, best iteration is:\n",
      "[47]\ttraining's binary_logloss: 0.00479925\tvalid_1's binary_logloss: 0.0152738\n"
     ]
    },
    {
     "name": "stderr",
     "output_type": "stream",
     "text": [
      "================================= fold 1/4 glucocorticoid_receptor_agonist=================================\n"
     ]
    },
    {
     "name": "stdout",
     "output_type": "stream",
     "text": [
      "Training until validation scores don't improve for 50 rounds\n",
      "[100]\ttraining's binary_logloss: 0.0124599\tvalid_1's binary_logloss: 0.0185121\n",
      "[200]\ttraining's binary_logloss: 0.00522641\tvalid_1's binary_logloss: 0.0133462\n",
      "[300]\ttraining's binary_logloss: 0.00237857\tvalid_1's binary_logloss: 0.0115556\n",
      "[400]\ttraining's binary_logloss: 0.00115185\tvalid_1's binary_logloss: 0.0109926\n",
      "Early stopping, best iteration is:\n",
      "[398]\ttraining's binary_logloss: 0.00116733\tvalid_1's binary_logloss: 0.010986\n"
     ]
    },
    {
     "name": "stderr",
     "output_type": "stream",
     "text": [
      "================================= fold 2/4 glucocorticoid_receptor_agonist=================================\n"
     ]
    },
    {
     "name": "stdout",
     "output_type": "stream",
     "text": [
      "Training until validation scores don't improve for 50 rounds\n",
      "[100]\ttraining's binary_logloss: 0.0122399\tvalid_1's binary_logloss: 0.0199604\n",
      "[200]\ttraining's binary_logloss: 0.00498349\tvalid_1's binary_logloss: 0.0157483\n",
      "[300]\ttraining's binary_logloss: 0.00222818\tvalid_1's binary_logloss: 0.0152586\n",
      "Early stopping, best iteration is:\n",
      "[277]\ttraining's binary_logloss: 0.00265743\tvalid_1's binary_logloss: 0.0152187\n"
     ]
    },
    {
     "name": "stderr",
     "output_type": "stream",
     "text": [
      "================================= fold 3/4 glucocorticoid_receptor_agonist=================================\n"
     ]
    },
    {
     "name": "stdout",
     "output_type": "stream",
     "text": [
      "Training until validation scores don't improve for 50 rounds\n",
      "[100]\ttraining's binary_logloss: 0.0123479\tvalid_1's binary_logloss: 0.0212562\n",
      "[200]\ttraining's binary_logloss: 0.00513709\tvalid_1's binary_logloss: 0.017006\n",
      "[300]\ttraining's binary_logloss: 0.00230765\tvalid_1's binary_logloss: 0.0162992\n",
      "Early stopping, best iteration is:\n",
      "[304]\ttraining's binary_logloss: 0.00223652\tvalid_1's binary_logloss: 0.0162882\n"
     ]
    },
    {
     "name": "stderr",
     "output_type": "stream",
     "text": [
      "================================= fold 4/4 glucocorticoid_receptor_agonist=================================\n"
     ]
    },
    {
     "name": "stdout",
     "output_type": "stream",
     "text": [
      "Training until validation scores don't improve for 50 rounds\n",
      "[100]\ttraining's binary_logloss: 0.0120246\tvalid_1's binary_logloss: 0.0196311\n",
      "[200]\ttraining's binary_logloss: 0.00496724\tvalid_1's binary_logloss: 0.0154337\n",
      "[300]\ttraining's binary_logloss: 0.00222834\tvalid_1's binary_logloss: 0.0148704\n",
      "Early stopping, best iteration is:\n",
      "[274]\ttraining's binary_logloss: 0.00272837\tvalid_1's binary_logloss: 0.0148189\n"
     ]
    },
    {
     "name": "stderr",
     "output_type": "stream",
     "text": [
      "glucocorticoid_receptor_agonist logloss: 0.014327841806604772\n",
      "=========================================================================================\n",
      "================================= fold 1/4 glutamate_inhibitor=================================\n"
     ]
    },
    {
     "name": "stdout",
     "output_type": "stream",
     "text": [
      "Training until validation scores don't improve for 50 rounds\n",
      "[100]\ttraining's binary_logloss: 0.000637084\tvalid_1's binary_logloss: 0.00412591\n",
      "Early stopping, best iteration is:\n",
      "[104]\ttraining's binary_logloss: 0.000609714\tvalid_1's binary_logloss: 0.00412326\n"
     ]
    },
    {
     "name": "stderr",
     "output_type": "stream",
     "text": [
      "================================= fold 2/4 glutamate_inhibitor=================================\n"
     ]
    },
    {
     "name": "stdout",
     "output_type": "stream",
     "text": [
      "Training until validation scores don't improve for 50 rounds\n",
      "Early stopping, best iteration is:\n",
      "[17]\ttraining's binary_logloss: 0.0024153\tvalid_1's binary_logloss: 0.00556065\n"
     ]
    },
    {
     "name": "stderr",
     "output_type": "stream",
     "text": [
      "================================= fold 3/4 glutamate_inhibitor=================================\n"
     ]
    },
    {
     "name": "stdout",
     "output_type": "stream",
     "text": [
      "Training until validation scores don't improve for 50 rounds\n",
      "Early stopping, best iteration is:\n",
      "[24]\ttraining's binary_logloss: 0.00201371\tvalid_1's binary_logloss: 0.00415644\n"
     ]
    },
    {
     "name": "stderr",
     "output_type": "stream",
     "text": [
      "================================= fold 4/4 glutamate_inhibitor=================================\n"
     ]
    },
    {
     "name": "stdout",
     "output_type": "stream",
     "text": [
      "Training until validation scores don't improve for 50 rounds\n"
     ]
    },
    {
     "name": "stderr",
     "output_type": "stream",
     "text": [
      "glutamate_inhibitor logloss: 0.004543524694159092\n",
      "=========================================================================================\n"
     ]
    },
    {
     "name": "stdout",
     "output_type": "stream",
     "text": [
      "Early stopping, best iteration is:\n",
      "[1]\ttraining's binary_logloss: 0.004602\tvalid_1's binary_logloss: 0.00433364\n"
     ]
    },
    {
     "name": "stderr",
     "output_type": "stream",
     "text": [
      "================================= fold 1/4 glutamate_receptor_agonist=================================\n"
     ]
    },
    {
     "name": "stdout",
     "output_type": "stream",
     "text": [
      "Training until validation scores don't improve for 50 rounds\n",
      "Early stopping, best iteration is:\n",
      "[13]\ttraining's binary_logloss: 0.0160115\tvalid_1's binary_logloss: 0.0214586\n"
     ]
    },
    {
     "name": "stderr",
     "output_type": "stream",
     "text": [
      "================================= fold 2/4 glutamate_receptor_agonist=================================\n"
     ]
    },
    {
     "name": "stdout",
     "output_type": "stream",
     "text": [
      "Training until validation scores don't improve for 50 rounds\n",
      "Early stopping, best iteration is:\n",
      "[16]\ttraining's binary_logloss: 0.0143962\tvalid_1's binary_logloss: 0.021446\n"
     ]
    },
    {
     "name": "stderr",
     "output_type": "stream",
     "text": [
      "================================= fold 3/4 glutamate_receptor_agonist=================================\n"
     ]
    },
    {
     "name": "stdout",
     "output_type": "stream",
     "text": [
      "Training until validation scores don't improve for 50 rounds\n",
      "Early stopping, best iteration is:\n",
      "[1]\ttraining's binary_logloss: 0.0206442\tvalid_1's binary_logloss: 0.0205778\n"
     ]
    },
    {
     "name": "stderr",
     "output_type": "stream",
     "text": [
      "================================= fold 4/4 glutamate_receptor_agonist=================================\n"
     ]
    },
    {
     "name": "stdout",
     "output_type": "stream",
     "text": [
      "Training until validation scores don't improve for 50 rounds\n"
     ]
    },
    {
     "name": "stderr",
     "output_type": "stream",
     "text": [
      "glutamate_receptor_agonist logloss: 0.021011469390477724\n",
      "=========================================================================================\n"
     ]
    },
    {
     "name": "stdout",
     "output_type": "stream",
     "text": [
      "Early stopping, best iteration is:\n",
      "[3]\ttraining's binary_logloss: 0.0200488\tvalid_1's binary_logloss: 0.0205633\n"
     ]
    },
    {
     "name": "stderr",
     "output_type": "stream",
     "text": [
      "================================= fold 1/4 glutamate_receptor_antagonist=================================\n"
     ]
    },
    {
     "name": "stdout",
     "output_type": "stream",
     "text": [
      "Training until validation scores don't improve for 50 rounds\n",
      "[100]\ttraining's binary_logloss: 0.0512821\tvalid_1's binary_logloss: 0.0775304\n",
      "[200]\ttraining's binary_logloss: 0.0355692\tvalid_1's binary_logloss: 0.0773295\n",
      "Early stopping, best iteration is:\n",
      "[171]\ttraining's binary_logloss: 0.0395674\tvalid_1's binary_logloss: 0.0771025\n"
     ]
    },
    {
     "name": "stderr",
     "output_type": "stream",
     "text": [
      "================================= fold 2/4 glutamate_receptor_antagonist=================================\n"
     ]
    },
    {
     "name": "stdout",
     "output_type": "stream",
     "text": [
      "Training until validation scores don't improve for 50 rounds\n",
      "[100]\ttraining's binary_logloss: 0.049061\tvalid_1's binary_logloss: 0.0779473\n",
      "[200]\ttraining's binary_logloss: 0.0346352\tvalid_1's binary_logloss: 0.0771651\n",
      "Early stopping, best iteration is:\n",
      "[194]\ttraining's binary_logloss: 0.0354176\tvalid_1's binary_logloss: 0.0771159\n"
     ]
    },
    {
     "name": "stderr",
     "output_type": "stream",
     "text": [
      "================================= fold 3/4 glutamate_receptor_antagonist=================================\n"
     ]
    },
    {
     "name": "stdout",
     "output_type": "stream",
     "text": [
      "Training until validation scores don't improve for 50 rounds\n",
      "[100]\ttraining's binary_logloss: 0.0504004\tvalid_1's binary_logloss: 0.0772194\n",
      "[200]\ttraining's binary_logloss: 0.0360214\tvalid_1's binary_logloss: 0.0766451\n",
      "Early stopping, best iteration is:\n",
      "[191]\ttraining's binary_logloss: 0.0372022\tvalid_1's binary_logloss: 0.0765742\n"
     ]
    },
    {
     "name": "stderr",
     "output_type": "stream",
     "text": [
      "================================= fold 4/4 glutamate_receptor_antagonist=================================\n"
     ]
    },
    {
     "name": "stdout",
     "output_type": "stream",
     "text": [
      "Training until validation scores don't improve for 50 rounds\n",
      "[100]\ttraining's binary_logloss: 0.0482186\tvalid_1's binary_logloss: 0.0781583\n",
      "Early stopping, best iteration is:\n",
      "[144]\ttraining's binary_logloss: 0.0411934\tvalid_1's binary_logloss: 0.0778913\n"
     ]
    },
    {
     "name": "stderr",
     "output_type": "stream",
     "text": [
      "glutamate_receptor_antagonist logloss: 0.07717099816778913\n",
      "=========================================================================================\n",
      "================================= fold 1/4 gonadotropin_receptor_agonist=================================\n"
     ]
    },
    {
     "name": "stdout",
     "output_type": "stream",
     "text": [
      "Training until validation scores don't improve for 50 rounds\n",
      "Early stopping, best iteration is:\n",
      "[20]\ttraining's binary_logloss: 0.00281055\tvalid_1's binary_logloss: 0.00679078\n"
     ]
    },
    {
     "name": "stderr",
     "output_type": "stream",
     "text": [
      "================================= fold 2/4 gonadotropin_receptor_agonist=================================\n"
     ]
    },
    {
     "name": "stdout",
     "output_type": "stream",
     "text": [
      "Training until validation scores don't improve for 50 rounds\n",
      "Early stopping, best iteration is:\n",
      "[1]\ttraining's binary_logloss: 0.00575873\tvalid_1's binary_logloss: 0.00679839\n"
     ]
    },
    {
     "name": "stderr",
     "output_type": "stream",
     "text": [
      "================================= fold 3/4 gonadotropin_receptor_agonist=================================\n"
     ]
    },
    {
     "name": "stdout",
     "output_type": "stream",
     "text": [
      "Training until validation scores don't improve for 50 rounds\n",
      "Early stopping, best iteration is:\n",
      "[1]\ttraining's binary_logloss: 0.00619166\tvalid_1's binary_logloss: 0.00558961\n"
     ]
    },
    {
     "name": "stderr",
     "output_type": "stream",
     "text": [
      "================================= fold 4/4 gonadotropin_receptor_agonist=================================\n"
     ]
    },
    {
     "name": "stdout",
     "output_type": "stream",
     "text": [
      "Training until validation scores don't improve for 50 rounds\n"
     ]
    },
    {
     "name": "stderr",
     "output_type": "stream",
     "text": [
      "gonadotropin_receptor_agonist logloss: 0.006191650782272089\n",
      "=========================================================================================\n"
     ]
    },
    {
     "name": "stdout",
     "output_type": "stream",
     "text": [
      "Early stopping, best iteration is:\n",
      "[14]\ttraining's binary_logloss: 0.00366012\tvalid_1's binary_logloss: 0.00558761\n"
     ]
    },
    {
     "name": "stderr",
     "output_type": "stream",
     "text": [
      "================================= fold 1/4 gsk_inhibitor=================================\n"
     ]
    },
    {
     "name": "stdout",
     "output_type": "stream",
     "text": [
      "Training until validation scores don't improve for 50 rounds\n",
      "[100]\ttraining's binary_logloss: 0.00273153\tvalid_1's binary_logloss: 0.0143739\n",
      "Early stopping, best iteration is:\n",
      "[83]\ttraining's binary_logloss: 0.00330769\tvalid_1's binary_logloss: 0.0143579\n"
     ]
    },
    {
     "name": "stderr",
     "output_type": "stream",
     "text": [
      "================================= fold 2/4 gsk_inhibitor=================================\n"
     ]
    },
    {
     "name": "stdout",
     "output_type": "stream",
     "text": [
      "Training until validation scores don't improve for 50 rounds\n",
      "[100]\ttraining's binary_logloss: 0.00280367\tvalid_1's binary_logloss: 0.0132356\n",
      "[200]\ttraining's binary_logloss: 0.00109934\tvalid_1's binary_logloss: 0.0130071\n",
      "Early stopping, best iteration is:\n",
      "[198]\ttraining's binary_logloss: 0.00111714\tvalid_1's binary_logloss: 0.0129968\n"
     ]
    },
    {
     "name": "stderr",
     "output_type": "stream",
     "text": [
      "================================= fold 3/4 gsk_inhibitor=================================\n"
     ]
    },
    {
     "name": "stdout",
     "output_type": "stream",
     "text": [
      "Training until validation scores don't improve for 50 rounds\n",
      "[100]\ttraining's binary_logloss: 0.00272931\tvalid_1's binary_logloss: 0.0129081\n",
      "[200]\ttraining's binary_logloss: 0.00104844\tvalid_1's binary_logloss: 0.0128671\n",
      "Early stopping, best iteration is:\n",
      "[182]\ttraining's binary_logloss: 0.00122847\tvalid_1's binary_logloss: 0.0128039\n"
     ]
    },
    {
     "name": "stderr",
     "output_type": "stream",
     "text": [
      "================================= fold 4/4 gsk_inhibitor=================================\n"
     ]
    },
    {
     "name": "stdout",
     "output_type": "stream",
     "text": [
      "Training until validation scores don't improve for 50 rounds\n",
      "[100]\ttraining's binary_logloss: 0.00286864\tvalid_1's binary_logloss: 0.0125649\n",
      "[200]\ttraining's binary_logloss: 0.00113578\tvalid_1's binary_logloss: 0.0124586\n"
     ]
    },
    {
     "name": "stderr",
     "output_type": "stream",
     "text": [
      "gsk_inhibitor logloss: 0.013131523736961808\n",
      "=========================================================================================\n"
     ]
    },
    {
     "name": "stdout",
     "output_type": "stream",
     "text": [
      "Early stopping, best iteration is:\n",
      "[155]\ttraining's binary_logloss: 0.00167841\tvalid_1's binary_logloss: 0.0123673\n"
     ]
    },
    {
     "name": "stderr",
     "output_type": "stream",
     "text": [
      "================================= fold 1/4 hcv_inhibitor=================================\n"
     ]
    },
    {
     "name": "stdout",
     "output_type": "stream",
     "text": [
      "Training until validation scores don't improve for 50 rounds\n",
      "Early stopping, best iteration is:\n",
      "[1]\ttraining's binary_logloss: 0.0200742\tvalid_1's binary_logloss: 0.0205724\n"
     ]
    },
    {
     "name": "stderr",
     "output_type": "stream",
     "text": [
      "================================= fold 2/4 hcv_inhibitor=================================\n"
     ]
    },
    {
     "name": "stdout",
     "output_type": "stream",
     "text": [
      "Training until validation scores don't improve for 50 rounds\n",
      "Early stopping, best iteration is:\n",
      "[1]\ttraining's binary_logloss: 0.020123\tvalid_1's binary_logloss: 0.0205675\n"
     ]
    },
    {
     "name": "stderr",
     "output_type": "stream",
     "text": [
      "================================= fold 3/4 hcv_inhibitor=================================\n"
     ]
    },
    {
     "name": "stdout",
     "output_type": "stream",
     "text": [
      "Training until validation scores don't improve for 50 rounds\n",
      "Early stopping, best iteration is:\n",
      "[2]\ttraining's binary_logloss: 0.0194247\tvalid_1's binary_logloss: 0.0205169\n"
     ]
    },
    {
     "name": "stderr",
     "output_type": "stream",
     "text": [
      "================================= fold 4/4 hcv_inhibitor=================================\n"
     ]
    },
    {
     "name": "stdout",
     "output_type": "stream",
     "text": [
      "Training until validation scores don't improve for 50 rounds\n"
     ]
    },
    {
     "name": "stderr",
     "output_type": "stream",
     "text": [
      "hcv_inhibitor logloss: 0.020555512364335705\n",
      "=========================================================================================\n"
     ]
    },
    {
     "name": "stdout",
     "output_type": "stream",
     "text": [
      "Early stopping, best iteration is:\n",
      "[2]\ttraining's binary_logloss: 0.0195821\tvalid_1's binary_logloss: 0.0205652\n"
     ]
    },
    {
     "name": "stderr",
     "output_type": "stream",
     "text": [
      "================================= fold 1/4 hdac_inhibitor=================================\n"
     ]
    },
    {
     "name": "stdout",
     "output_type": "stream",
     "text": [
      "Training until validation scores don't improve for 50 rounds\n",
      "[100]\ttraining's binary_logloss: 0.00466632\tvalid_1's binary_logloss: 0.0136284\n",
      "[200]\ttraining's binary_logloss: 0.00178539\tvalid_1's binary_logloss: 0.0124591\n",
      "Early stopping, best iteration is:\n",
      "[224]\ttraining's binary_logloss: 0.00145074\tvalid_1's binary_logloss: 0.0124079\n"
     ]
    },
    {
     "name": "stderr",
     "output_type": "stream",
     "text": [
      "================================= fold 2/4 hdac_inhibitor=================================\n"
     ]
    },
    {
     "name": "stdout",
     "output_type": "stream",
     "text": [
      "Training until validation scores don't improve for 50 rounds\n",
      "[100]\ttraining's binary_logloss: 0.00486403\tvalid_1's binary_logloss: 0.0134382\n",
      "[200]\ttraining's binary_logloss: 0.0018659\tvalid_1's binary_logloss: 0.0121948\n",
      "[300]\ttraining's binary_logloss: 0.00081839\tvalid_1's binary_logloss: 0.0122053\n",
      "Early stopping, best iteration is:\n",
      "[257]\ttraining's binary_logloss: 0.00115047\tvalid_1's binary_logloss: 0.012136\n"
     ]
    },
    {
     "name": "stderr",
     "output_type": "stream",
     "text": [
      "================================= fold 3/4 hdac_inhibitor=================================\n"
     ]
    },
    {
     "name": "stdout",
     "output_type": "stream",
     "text": [
      "Training until validation scores don't improve for 50 rounds\n",
      "[100]\ttraining's binary_logloss: 0.00486581\tvalid_1's binary_logloss: 0.0140882\n",
      "[200]\ttraining's binary_logloss: 0.00182161\tvalid_1's binary_logloss: 0.0129033\n",
      "[300]\ttraining's binary_logloss: 0.000798945\tvalid_1's binary_logloss: 0.0129529\n",
      "Early stopping, best iteration is:\n",
      "[250]\ttraining's binary_logloss: 0.00118446\tvalid_1's binary_logloss: 0.0128489\n"
     ]
    },
    {
     "name": "stderr",
     "output_type": "stream",
     "text": [
      "================================= fold 4/4 hdac_inhibitor=================================\n"
     ]
    },
    {
     "name": "stdout",
     "output_type": "stream",
     "text": [
      "Training until validation scores don't improve for 50 rounds\n",
      "[100]\ttraining's binary_logloss: 0.00480095\tvalid_1's binary_logloss: 0.0176833\n",
      "[200]\ttraining's binary_logloss: 0.00180028\tvalid_1's binary_logloss: 0.0172658\n",
      "Early stopping, best iteration is:\n",
      "[187]\ttraining's binary_logloss: 0.00202655\tvalid_1's binary_logloss: 0.0172565\n"
     ]
    },
    {
     "name": "stderr",
     "output_type": "stream",
     "text": [
      "hdac_inhibitor logloss: 0.013662230086798517\n",
      "=========================================================================================\n",
      "================================= fold 1/4 histamine_receptor_agonist=================================\n"
     ]
    },
    {
     "name": "stdout",
     "output_type": "stream",
     "text": [
      "Training until validation scores don't improve for 50 rounds\n",
      "Early stopping, best iteration is:\n",
      "[6]\ttraining's binary_logloss: 0.0139497\tvalid_1's binary_logloss: 0.0174993\n"
     ]
    },
    {
     "name": "stderr",
     "output_type": "stream",
     "text": [
      "================================= fold 2/4 histamine_receptor_agonist=================================\n"
     ]
    },
    {
     "name": "stdout",
     "output_type": "stream",
     "text": [
      "Training until validation scores don't improve for 50 rounds\n",
      "Early stopping, best iteration is:\n",
      "[32]\ttraining's binary_logloss: 0.00794302\tvalid_1's binary_logloss: 0.017558\n"
     ]
    },
    {
     "name": "stderr",
     "output_type": "stream",
     "text": [
      "================================= fold 3/4 histamine_receptor_agonist=================================\n"
     ]
    },
    {
     "name": "stdout",
     "output_type": "stream",
     "text": [
      "Training until validation scores don't improve for 50 rounds\n",
      "Early stopping, best iteration is:\n",
      "[13]\ttraining's binary_logloss: 0.0118739\tvalid_1's binary_logloss: 0.0165696\n"
     ]
    },
    {
     "name": "stderr",
     "output_type": "stream",
     "text": [
      "================================= fold 4/4 histamine_receptor_agonist=================================\n"
     ]
    },
    {
     "name": "stdout",
     "output_type": "stream",
     "text": [
      "Training until validation scores don't improve for 50 rounds\n"
     ]
    },
    {
     "name": "stderr",
     "output_type": "stream",
     "text": [
      "histamine_receptor_agonist logloss: 0.017268058223150064\n",
      "=========================================================================================\n"
     ]
    },
    {
     "name": "stdout",
     "output_type": "stream",
     "text": [
      "Early stopping, best iteration is:\n",
      "[24]\ttraining's binary_logloss: 0.00900489\tvalid_1's binary_logloss: 0.0174452\n"
     ]
    },
    {
     "name": "stderr",
     "output_type": "stream",
     "text": [
      "================================= fold 1/4 histamine_receptor_antagonist=================================\n"
     ]
    },
    {
     "name": "stdout",
     "output_type": "stream",
     "text": [
      "Training until validation scores don't improve for 50 rounds\n",
      "[100]\ttraining's binary_logloss: 0.0270484\tvalid_1's binary_logloss: 0.0558727\n",
      "Early stopping, best iteration is:\n",
      "[73]\ttraining's binary_logloss: 0.0321717\tvalid_1's binary_logloss: 0.0556295\n"
     ]
    },
    {
     "name": "stderr",
     "output_type": "stream",
     "text": [
      "================================= fold 2/4 histamine_receptor_antagonist=================================\n"
     ]
    },
    {
     "name": "stdout",
     "output_type": "stream",
     "text": [
      "Training until validation scores don't improve for 50 rounds\n",
      "Early stopping, best iteration is:\n",
      "[1]\ttraining's binary_logloss: 0.0558586\tvalid_1's binary_logloss: 0.0571064\n"
     ]
    },
    {
     "name": "stderr",
     "output_type": "stream",
     "text": [
      "================================= fold 3/4 histamine_receptor_antagonist=================================\n"
     ]
    },
    {
     "name": "stdout",
     "output_type": "stream",
     "text": [
      "Training until validation scores don't improve for 50 rounds\n",
      "[100]\ttraining's binary_logloss: 0.0276643\tvalid_1's binary_logloss: 0.0548901\n",
      "Early stopping, best iteration is:\n",
      "[146]\ttraining's binary_logloss: 0.0219846\tvalid_1's binary_logloss: 0.0546982\n"
     ]
    },
    {
     "name": "stderr",
     "output_type": "stream",
     "text": [
      "================================= fold 4/4 histamine_receptor_antagonist=================================\n"
     ]
    },
    {
     "name": "stdout",
     "output_type": "stream",
     "text": [
      "Training until validation scores don't improve for 50 rounds\n",
      "[100]\ttraining's binary_logloss: 0.0268665\tvalid_1's binary_logloss: 0.0556308\n",
      "Early stopping, best iteration is:\n",
      "[109]\ttraining's binary_logloss: 0.0255043\tvalid_1's binary_logloss: 0.05559\n"
     ]
    },
    {
     "name": "stderr",
     "output_type": "stream",
     "text": [
      "histamine_receptor_antagonist logloss: 0.05575607484604525\n",
      "=========================================================================================\n",
      "================================= fold 1/4 histone_lysine_demethylase_inhibitor=================================\n"
     ]
    },
    {
     "name": "stdout",
     "output_type": "stream",
     "text": [
      "Training until validation scores don't improve for 50 rounds\n",
      "Early stopping, best iteration is:\n",
      "[33]\ttraining's binary_logloss: 0.00272002\tvalid_1's binary_logloss: 0.00741202\n"
     ]
    },
    {
     "name": "stderr",
     "output_type": "stream",
     "text": [
      "================================= fold 2/4 histone_lysine_demethylase_inhibitor=================================\n"
     ]
    },
    {
     "name": "stdout",
     "output_type": "stream",
     "text": [
      "Training until validation scores don't improve for 50 rounds\n",
      "[100]\ttraining's binary_logloss: 0.00108685\tvalid_1's binary_logloss: 0.00729386\n",
      "Early stopping, best iteration is:\n",
      "[149]\ttraining's binary_logloss: 0.000661041\tvalid_1's binary_logloss: 0.00725354\n"
     ]
    },
    {
     "name": "stderr",
     "output_type": "stream",
     "text": [
      "================================= fold 3/4 histone_lysine_demethylase_inhibitor=================================\n"
     ]
    },
    {
     "name": "stdout",
     "output_type": "stream",
     "text": [
      "Training until validation scores don't improve for 50 rounds\n",
      "[100]\ttraining's binary_logloss: 0.00106812\tvalid_1's binary_logloss: 0.00676242\n",
      "Early stopping, best iteration is:\n",
      "[68]\ttraining's binary_logloss: 0.0015604\tvalid_1's binary_logloss: 0.00670555\n"
     ]
    },
    {
     "name": "stderr",
     "output_type": "stream",
     "text": [
      "================================= fold 4/4 histone_lysine_demethylase_inhibitor=================================\n"
     ]
    },
    {
     "name": "stdout",
     "output_type": "stream",
     "text": [
      "Training until validation scores don't improve for 50 rounds\n",
      "[100]\ttraining's binary_logloss: 0.00107808\tvalid_1's binary_logloss: 0.00668114\n"
     ]
    },
    {
     "name": "stderr",
     "output_type": "stream",
     "text": [
      "histone_lysine_demethylase_inhibitor logloss: 0.007004795079549321\n",
      "=========================================================================================\n"
     ]
    },
    {
     "name": "stdout",
     "output_type": "stream",
     "text": [
      "Early stopping, best iteration is:\n",
      "[114]\ttraining's binary_logloss: 0.000927303\tvalid_1's binary_logloss: 0.00664796\n"
     ]
    },
    {
     "name": "stderr",
     "output_type": "stream",
     "text": [
      "================================= fold 1/4 histone_lysine_methyltransferase_inhibitor=================================\n"
     ]
    },
    {
     "name": "stdout",
     "output_type": "stream",
     "text": [
      "Training until validation scores don't improve for 50 rounds\n",
      "[100]\ttraining's binary_logloss: 0.00155683\tvalid_1's binary_logloss: 0.0100017\n",
      "Early stopping, best iteration is:\n",
      "[108]\ttraining's binary_logloss: 0.00143759\tvalid_1's binary_logloss: 0.00997488\n"
     ]
    },
    {
     "name": "stderr",
     "output_type": "stream",
     "text": [
      "================================= fold 2/4 histone_lysine_methyltransferase_inhibitor=================================\n"
     ]
    },
    {
     "name": "stdout",
     "output_type": "stream",
     "text": [
      "Training until validation scores don't improve for 50 rounds\n",
      "Early stopping, best iteration is:\n",
      "[22]\ttraining's binary_logloss: 0.00454736\tvalid_1's binary_logloss: 0.0101405\n"
     ]
    },
    {
     "name": "stderr",
     "output_type": "stream",
     "text": [
      "================================= fold 3/4 histone_lysine_methyltransferase_inhibitor=================================\n"
     ]
    },
    {
     "name": "stdout",
     "output_type": "stream",
     "text": [
      "Training until validation scores don't improve for 50 rounds\n",
      "Early stopping, best iteration is:\n",
      "[16]\ttraining's binary_logloss: 0.00508575\tvalid_1's binary_logloss: 0.0101109\n"
     ]
    },
    {
     "name": "stderr",
     "output_type": "stream",
     "text": [
      "================================= fold 4/4 histone_lysine_methyltransferase_inhibitor=================================\n"
     ]
    },
    {
     "name": "stdout",
     "output_type": "stream",
     "text": [
      "Training until validation scores don't improve for 50 rounds\n"
     ]
    },
    {
     "name": "stderr",
     "output_type": "stream",
     "text": [
      "histone_lysine_methyltransferase_inhibitor logloss: 0.010079140021278967\n",
      "=========================================================================================\n"
     ]
    },
    {
     "name": "stdout",
     "output_type": "stream",
     "text": [
      "Early stopping, best iteration is:\n",
      "[12]\ttraining's binary_logloss: 0.00606344\tvalid_1's binary_logloss: 0.0100903\n"
     ]
    },
    {
     "name": "stderr",
     "output_type": "stream",
     "text": [
      "================================= fold 1/4 hiv_inhibitor=================================\n"
     ]
    },
    {
     "name": "stdout",
     "output_type": "stream",
     "text": [
      "Training until validation scores don't improve for 50 rounds\n",
      "[100]\ttraining's binary_logloss: 0.00437678\tvalid_1's binary_logloss: 0.0205869\n",
      "Early stopping, best iteration is:\n",
      "[68]\ttraining's binary_logloss: 0.0057417\tvalid_1's binary_logloss: 0.0204502\n"
     ]
    },
    {
     "name": "stderr",
     "output_type": "stream",
     "text": [
      "================================= fold 2/4 hiv_inhibitor=================================\n"
     ]
    },
    {
     "name": "stdout",
     "output_type": "stream",
     "text": [
      "Training until validation scores don't improve for 50 rounds\n",
      "Early stopping, best iteration is:\n",
      "[10]\ttraining's binary_logloss: 0.0158477\tvalid_1's binary_logloss: 0.0204269\n"
     ]
    },
    {
     "name": "stderr",
     "output_type": "stream",
     "text": [
      "================================= fold 3/4 hiv_inhibitor=================================\n"
     ]
    },
    {
     "name": "stdout",
     "output_type": "stream",
     "text": [
      "Training until validation scores don't improve for 50 rounds\n",
      "Early stopping, best iteration is:\n",
      "[1]\ttraining's binary_logloss: 0.0197236\tvalid_1's binary_logloss: 0.0205777\n"
     ]
    },
    {
     "name": "stderr",
     "output_type": "stream",
     "text": [
      "================================= fold 4/4 hiv_inhibitor=================================\n"
     ]
    },
    {
     "name": "stdout",
     "output_type": "stream",
     "text": [
      "Training until validation scores don't improve for 50 rounds\n"
     ]
    },
    {
     "name": "stderr",
     "output_type": "stream",
     "text": [
      "hiv_inhibitor logloss: 0.020494747899548596\n",
      "=========================================================================================\n"
     ]
    },
    {
     "name": "stdout",
     "output_type": "stream",
     "text": [
      "Early stopping, best iteration is:\n",
      "[15]\ttraining's binary_logloss: 0.0128255\tvalid_1's binary_logloss: 0.0205242\n"
     ]
    },
    {
     "name": "stderr",
     "output_type": "stream",
     "text": [
      "================================= fold 1/4 hmgcr_inhibitor=================================\n"
     ]
    },
    {
     "name": "stdout",
     "output_type": "stream",
     "text": [
      "Training until validation scores don't improve for 50 rounds\n",
      "[100]\ttraining's binary_logloss: 0.0127969\tvalid_1's binary_logloss: 0.0241289\n",
      "[200]\ttraining's binary_logloss: 0.00502361\tvalid_1's binary_logloss: 0.018422\n",
      "[300]\ttraining's binary_logloss: 0.00220376\tvalid_1's binary_logloss: 0.0163099\n",
      "[400]\ttraining's binary_logloss: 0.00107164\tvalid_1's binary_logloss: 0.0156425\n",
      "Early stopping, best iteration is:\n",
      "[440]\ttraining's binary_logloss: 0.000824623\tvalid_1's binary_logloss: 0.0155801\n"
     ]
    },
    {
     "name": "stderr",
     "output_type": "stream",
     "text": [
      "================================= fold 2/4 hmgcr_inhibitor=================================\n"
     ]
    },
    {
     "name": "stdout",
     "output_type": "stream",
     "text": [
      "Training until validation scores don't improve for 50 rounds\n",
      "[100]\ttraining's binary_logloss: 0.0129119\tvalid_1's binary_logloss: 0.0247049\n",
      "[200]\ttraining's binary_logloss: 0.00509847\tvalid_1's binary_logloss: 0.0186194\n",
      "[300]\ttraining's binary_logloss: 0.00222806\tvalid_1's binary_logloss: 0.0163148\n",
      "[400]\ttraining's binary_logloss: 0.00106914\tvalid_1's binary_logloss: 0.0154618\n",
      "[500]\ttraining's binary_logloss: 0.000567177\tvalid_1's binary_logloss: 0.0152705\n",
      "Early stopping, best iteration is:\n",
      "[520]\ttraining's binary_logloss: 0.000506777\tvalid_1's binary_logloss: 0.0152567\n"
     ]
    },
    {
     "name": "stderr",
     "output_type": "stream",
     "text": [
      "================================= fold 3/4 hmgcr_inhibitor=================================\n"
     ]
    },
    {
     "name": "stdout",
     "output_type": "stream",
     "text": [
      "Training until validation scores don't improve for 50 rounds\n",
      "[100]\ttraining's binary_logloss: 0.0129715\tvalid_1's binary_logloss: 0.0232033\n",
      "[200]\ttraining's binary_logloss: 0.00511375\tvalid_1's binary_logloss: 0.0169032\n",
      "[300]\ttraining's binary_logloss: 0.00224644\tvalid_1's binary_logloss: 0.0148347\n",
      "[400]\ttraining's binary_logloss: 0.00109081\tvalid_1's binary_logloss: 0.0141859\n",
      "[500]\ttraining's binary_logloss: 0.000582919\tvalid_1's binary_logloss: 0.0140019\n",
      "Early stopping, best iteration is:\n",
      "[522]\ttraining's binary_logloss: 0.000515082\tvalid_1's binary_logloss: 0.0139598\n"
     ]
    },
    {
     "name": "stderr",
     "output_type": "stream",
     "text": [
      "================================= fold 4/4 hmgcr_inhibitor=================================\n"
     ]
    },
    {
     "name": "stdout",
     "output_type": "stream",
     "text": [
      "Training until validation scores don't improve for 50 rounds\n",
      "[100]\ttraining's binary_logloss: 0.0129441\tvalid_1's binary_logloss: 0.0231567\n",
      "[200]\ttraining's binary_logloss: 0.00510669\tvalid_1's binary_logloss: 0.016651\n",
      "[300]\ttraining's binary_logloss: 0.00225215\tvalid_1's binary_logloss: 0.0139588\n",
      "[400]\ttraining's binary_logloss: 0.00109605\tvalid_1's binary_logloss: 0.0129771\n",
      "[500]\ttraining's binary_logloss: 0.000593207\tvalid_1's binary_logloss: 0.0127295\n",
      "[600]\ttraining's binary_logloss: 0.000356928\tvalid_1's binary_logloss: 0.0126442\n",
      "Early stopping, best iteration is:\n",
      "[603]\ttraining's binary_logloss: 0.000352056\tvalid_1's binary_logloss: 0.0126291\n"
     ]
    },
    {
     "name": "stderr",
     "output_type": "stream",
     "text": [
      "hmgcr_inhibitor logloss: 0.014356499211369089\n",
      "=========================================================================================\n",
      "================================= fold 1/4 hsp_inhibitor=================================\n"
     ]
    },
    {
     "name": "stdout",
     "output_type": "stream",
     "text": [
      "Training until validation scores don't improve for 50 rounds\n",
      "[100]\ttraining's binary_logloss: 0.00387654\tvalid_1's binary_logloss: 0.0122479\n",
      "[200]\ttraining's binary_logloss: 0.00138321\tvalid_1's binary_logloss: 0.0113339\n",
      "[300]\ttraining's binary_logloss: 0.00057037\tvalid_1's binary_logloss: 0.011211\n",
      "Early stopping, best iteration is:\n",
      "[259]\ttraining's binary_logloss: 0.000808604\tvalid_1's binary_logloss: 0.0111846\n"
     ]
    },
    {
     "name": "stderr",
     "output_type": "stream",
     "text": [
      "================================= fold 2/4 hsp_inhibitor=================================\n"
     ]
    },
    {
     "name": "stdout",
     "output_type": "stream",
     "text": [
      "Training until validation scores don't improve for 50 rounds\n",
      "[100]\ttraining's binary_logloss: 0.00392332\tvalid_1's binary_logloss: 0.00667962\n",
      "[200]\ttraining's binary_logloss: 0.00142611\tvalid_1's binary_logloss: 0.00515119\n",
      "[300]\ttraining's binary_logloss: 0.000605872\tvalid_1's binary_logloss: 0.00476983\n",
      "[400]\ttraining's binary_logloss: 0.000291383\tvalid_1's binary_logloss: 0.00478593\n",
      "Early stopping, best iteration is:\n",
      "[355]\ttraining's binary_logloss: 0.000398727\tvalid_1's binary_logloss: 0.00474493\n"
     ]
    },
    {
     "name": "stderr",
     "output_type": "stream",
     "text": [
      "================================= fold 3/4 hsp_inhibitor=================================\n"
     ]
    },
    {
     "name": "stdout",
     "output_type": "stream",
     "text": [
      "Training until validation scores don't improve for 50 rounds\n",
      "[100]\ttraining's binary_logloss: 0.00394776\tvalid_1's binary_logloss: 0.0127884\n",
      "[200]\ttraining's binary_logloss: 0.00142357\tvalid_1's binary_logloss: 0.0122326\n",
      "Early stopping, best iteration is:\n",
      "[192]\ttraining's binary_logloss: 0.00153596\tvalid_1's binary_logloss: 0.0122246\n"
     ]
    },
    {
     "name": "stderr",
     "output_type": "stream",
     "text": [
      "================================= fold 4/4 hsp_inhibitor=================================\n"
     ]
    },
    {
     "name": "stdout",
     "output_type": "stream",
     "text": [
      "Training until validation scores don't improve for 50 rounds\n",
      "[100]\ttraining's binary_logloss: 0.00399827\tvalid_1's binary_logloss: 0.00774003\n",
      "[200]\ttraining's binary_logloss: 0.00148366\tvalid_1's binary_logloss: 0.00614233\n",
      "[300]\ttraining's binary_logloss: 0.000629082\tvalid_1's binary_logloss: 0.00575411\n",
      "[400]\ttraining's binary_logloss: 0.000300091\tvalid_1's binary_logloss: 0.00569445\n",
      "Early stopping, best iteration is:\n",
      "[380]\ttraining's binary_logloss: 0.000344445\tvalid_1's binary_logloss: 0.00568464\n"
     ]
    },
    {
     "name": "stderr",
     "output_type": "stream",
     "text": [
      "hsp_inhibitor logloss: 0.008459644529686084\n",
      "=========================================================================================\n",
      "================================= fold 1/4 igf-1_inhibitor=================================\n"
     ]
    },
    {
     "name": "stdout",
     "output_type": "stream",
     "text": [
      "Training until validation scores don't improve for 50 rounds\n",
      "[100]\ttraining's binary_logloss: 0.0017709\tvalid_1's binary_logloss: 0.00964263\n",
      "Early stopping, best iteration is:\n",
      "[136]\ttraining's binary_logloss: 0.0012552\tvalid_1's binary_logloss: 0.00961248\n"
     ]
    },
    {
     "name": "stderr",
     "output_type": "stream",
     "text": [
      "================================= fold 2/4 igf-1_inhibitor=================================\n"
     ]
    },
    {
     "name": "stdout",
     "output_type": "stream",
     "text": [
      "Training until validation scores don't improve for 50 rounds\n",
      "[100]\ttraining's binary_logloss: 0.001684\tvalid_1's binary_logloss: 0.0121548\n",
      "Early stopping, best iteration is:\n",
      "[116]\ttraining's binary_logloss: 0.00143913\tvalid_1's binary_logloss: 0.0121066\n"
     ]
    },
    {
     "name": "stderr",
     "output_type": "stream",
     "text": [
      "================================= fold 3/4 igf-1_inhibitor=================================\n"
     ]
    },
    {
     "name": "stdout",
     "output_type": "stream",
     "text": [
      "Training until validation scores don't improve for 50 rounds\n",
      "[100]\ttraining's binary_logloss: 0.00181133\tvalid_1's binary_logloss: 0.010451\n",
      "Early stopping, best iteration is:\n",
      "[115]\ttraining's binary_logloss: 0.00156179\tvalid_1's binary_logloss: 0.0104275\n"
     ]
    },
    {
     "name": "stderr",
     "output_type": "stream",
     "text": [
      "================================= fold 4/4 igf-1_inhibitor=================================\n"
     ]
    },
    {
     "name": "stdout",
     "output_type": "stream",
     "text": [
      "Training until validation scores don't improve for 50 rounds\n",
      "[100]\ttraining's binary_logloss: 0.00175407\tvalid_1's binary_logloss: 0.0103118\n"
     ]
    },
    {
     "name": "stderr",
     "output_type": "stream",
     "text": [
      "igf-1_inhibitor logloss: 0.010612622955435918\n",
      "=========================================================================================\n"
     ]
    },
    {
     "name": "stdout",
     "output_type": "stream",
     "text": [
      "Early stopping, best iteration is:\n",
      "[107]\ttraining's binary_logloss: 0.0016383\tvalid_1's binary_logloss: 0.0103038\n"
     ]
    },
    {
     "name": "stderr",
     "output_type": "stream",
     "text": [
      "================================= fold 1/4 ikk_inhibitor=================================\n"
     ]
    },
    {
     "name": "stdout",
     "output_type": "stream",
     "text": [
      "Training until validation scores don't improve for 50 rounds\n",
      "[100]\ttraining's binary_logloss: 0.00127299\tvalid_1's binary_logloss: 0.00879761\n",
      "Early stopping, best iteration is:\n",
      "[107]\ttraining's binary_logloss: 0.00118032\tvalid_1's binary_logloss: 0.00877396\n"
     ]
    },
    {
     "name": "stderr",
     "output_type": "stream",
     "text": [
      "================================= fold 2/4 ikk_inhibitor=================================\n"
     ]
    },
    {
     "name": "stdout",
     "output_type": "stream",
     "text": [
      "Training until validation scores don't improve for 50 rounds\n",
      "[100]\ttraining's binary_logloss: 0.00136768\tvalid_1's binary_logloss: 0.00834525\n",
      "Early stopping, best iteration is:\n",
      "[81]\ttraining's binary_logloss: 0.00168315\tvalid_1's binary_logloss: 0.00831085\n"
     ]
    },
    {
     "name": "stderr",
     "output_type": "stream",
     "text": [
      "================================= fold 3/4 ikk_inhibitor=================================\n"
     ]
    },
    {
     "name": "stdout",
     "output_type": "stream",
     "text": [
      "Training until validation scores don't improve for 50 rounds\n",
      "[100]\ttraining's binary_logloss: 0.00135855\tvalid_1's binary_logloss: 0.00767542\n",
      "[200]\ttraining's binary_logloss: 0.000539794\tvalid_1's binary_logloss: 0.00754592\n",
      "Early stopping, best iteration is:\n",
      "[196]\ttraining's binary_logloss: 0.000557195\tvalid_1's binary_logloss: 0.00754366\n"
     ]
    },
    {
     "name": "stderr",
     "output_type": "stream",
     "text": [
      "================================= fold 4/4 ikk_inhibitor=================================\n"
     ]
    },
    {
     "name": "stdout",
     "output_type": "stream",
     "text": [
      "Training until validation scores don't improve for 50 rounds\n",
      "[100]\ttraining's binary_logloss: 0.001334\tvalid_1's binary_logloss: 0.00724614\n"
     ]
    },
    {
     "name": "stderr",
     "output_type": "stream",
     "text": [
      "ikk_inhibitor logloss: 0.007966472313761611\n",
      "=========================================================================================\n"
     ]
    },
    {
     "name": "stdout",
     "output_type": "stream",
     "text": [
      "Early stopping, best iteration is:\n",
      "[134]\ttraining's binary_logloss: 0.000938936\tvalid_1's binary_logloss: 0.00723723\n"
     ]
    },
    {
     "name": "stderr",
     "output_type": "stream",
     "text": [
      "================================= fold 1/4 imidazoline_receptor_agonist=================================\n"
     ]
    },
    {
     "name": "stdout",
     "output_type": "stream",
     "text": [
      "Training until validation scores don't improve for 50 rounds\n",
      "Early stopping, best iteration is:\n",
      "[1]\ttraining's binary_logloss: 0.00951178\tvalid_1's binary_logloss: 0.0102325\n"
     ]
    },
    {
     "name": "stderr",
     "output_type": "stream",
     "text": [
      "================================= fold 2/4 imidazoline_receptor_agonist=================================\n"
     ]
    },
    {
     "name": "stdout",
     "output_type": "stream",
     "text": [
      "Training until validation scores don't improve for 50 rounds\n",
      "Early stopping, best iteration is:\n",
      "[3]\ttraining's binary_logloss: 0.00893236\tvalid_1's binary_logloss: 0.0101871\n"
     ]
    },
    {
     "name": "stderr",
     "output_type": "stream",
     "text": [
      "================================= fold 3/4 imidazoline_receptor_agonist=================================\n"
     ]
    },
    {
     "name": "stdout",
     "output_type": "stream",
     "text": [
      "Training until validation scores don't improve for 50 rounds\n",
      "[100]\ttraining's binary_logloss: 0.00159274\tvalid_1's binary_logloss: 0.00901984\n",
      "Early stopping, best iteration is:\n",
      "[73]\ttraining's binary_logloss: 0.00211788\tvalid_1's binary_logloss: 0.00897513\n"
     ]
    },
    {
     "name": "stderr",
     "output_type": "stream",
     "text": [
      "================================= fold 4/4 imidazoline_receptor_agonist=================================\n"
     ]
    },
    {
     "name": "stdout",
     "output_type": "stream",
     "text": [
      "Training until validation scores don't improve for 50 rounds\n"
     ]
    },
    {
     "name": "stderr",
     "output_type": "stream",
     "text": [
      "imidazoline_receptor_agonist logloss: 0.009907023231953558\n",
      "=========================================================================================\n"
     ]
    },
    {
     "name": "stdout",
     "output_type": "stream",
     "text": [
      "Early stopping, best iteration is:\n",
      "[1]\ttraining's binary_logloss: 0.00958026\tvalid_1's binary_logloss: 0.0102332\n"
     ]
    },
    {
     "name": "stderr",
     "output_type": "stream",
     "text": [
      "================================= fold 1/4 immunosuppressant=================================\n"
     ]
    },
    {
     "name": "stdout",
     "output_type": "stream",
     "text": [
      "Training until validation scores don't improve for 50 rounds\n",
      "[100]\ttraining's binary_logloss: 0.00389561\tvalid_1's binary_logloss: 0.0197633\n",
      "Early stopping, best iteration is:\n",
      "[79]\ttraining's binary_logloss: 0.0048726\tvalid_1's binary_logloss: 0.0196505\n"
     ]
    },
    {
     "name": "stderr",
     "output_type": "stream",
     "text": [
      "================================= fold 2/4 immunosuppressant=================================\n"
     ]
    },
    {
     "name": "stdout",
     "output_type": "stream",
     "text": [
      "Training until validation scores don't improve for 50 rounds\n",
      "[100]\ttraining's binary_logloss: 0.00375803\tvalid_1's binary_logloss: 0.0201458\n",
      "Early stopping, best iteration is:\n",
      "[93]\ttraining's binary_logloss: 0.00403324\tvalid_1's binary_logloss: 0.0201103\n"
     ]
    },
    {
     "name": "stderr",
     "output_type": "stream",
     "text": [
      "================================= fold 3/4 immunosuppressant=================================\n"
     ]
    },
    {
     "name": "stdout",
     "output_type": "stream",
     "text": [
      "Training until validation scores don't improve for 50 rounds\n",
      "Early stopping, best iteration is:\n",
      "[42]\ttraining's binary_logloss: 0.00788154\tvalid_1's binary_logloss: 0.0198803\n"
     ]
    },
    {
     "name": "stderr",
     "output_type": "stream",
     "text": [
      "================================= fold 4/4 immunosuppressant=================================\n"
     ]
    },
    {
     "name": "stdout",
     "output_type": "stream",
     "text": [
      "Training until validation scores don't improve for 50 rounds\n",
      "[100]\ttraining's binary_logloss: 0.00404289\tvalid_1's binary_logloss: 0.019041\n"
     ]
    },
    {
     "name": "stderr",
     "output_type": "stream",
     "text": [
      "immunosuppressant logloss: 0.01966510163404928\n",
      "=========================================================================================\n"
     ]
    },
    {
     "name": "stdout",
     "output_type": "stream",
     "text": [
      "Early stopping, best iteration is:\n",
      "[88]\ttraining's binary_logloss: 0.00458014\tvalid_1's binary_logloss: 0.0190192\n"
     ]
    },
    {
     "name": "stderr",
     "output_type": "stream",
     "text": [
      "================================= fold 1/4 insulin_secretagogue=================================\n"
     ]
    },
    {
     "name": "stdout",
     "output_type": "stream",
     "text": [
      "Training until validation scores don't improve for 50 rounds\n",
      "Early stopping, best iteration is:\n",
      "[20]\ttraining's binary_logloss: 0.00494041\tvalid_1's binary_logloss: 0.0101985\n"
     ]
    },
    {
     "name": "stderr",
     "output_type": "stream",
     "text": [
      "================================= fold 2/4 insulin_secretagogue=================================\n"
     ]
    },
    {
     "name": "stdout",
     "output_type": "stream",
     "text": [
      "Training until validation scores don't improve for 50 rounds\n",
      "Early stopping, best iteration is:\n",
      "[11]\ttraining's binary_logloss: 0.00599964\tvalid_1's binary_logloss: 0.0102338\n"
     ]
    },
    {
     "name": "stderr",
     "output_type": "stream",
     "text": [
      "================================= fold 3/4 insulin_secretagogue=================================\n"
     ]
    },
    {
     "name": "stdout",
     "output_type": "stream",
     "text": [
      "Training until validation scores don't improve for 50 rounds\n",
      "Early stopping, best iteration is:\n",
      "[1]\ttraining's binary_logloss: 0.00946726\tvalid_1's binary_logloss: 0.00911378\n"
     ]
    },
    {
     "name": "stderr",
     "output_type": "stream",
     "text": [
      "================================= fold 4/4 insulin_secretagogue=================================\n"
     ]
    },
    {
     "name": "stdout",
     "output_type": "stream",
     "text": [
      "Training until validation scores don't improve for 50 rounds\n"
     ]
    },
    {
     "name": "stderr",
     "output_type": "stream",
     "text": [
      "insulin_secretagogue logloss: 0.009664875923842459\n",
      "=========================================================================================\n"
     ]
    },
    {
     "name": "stdout",
     "output_type": "stream",
     "text": [
      "Early stopping, best iteration is:\n",
      "[1]\ttraining's binary_logloss: 0.00955741\tvalid_1's binary_logloss: 0.00911323\n"
     ]
    },
    {
     "name": "stderr",
     "output_type": "stream",
     "text": [
      "================================= fold 1/4 insulin_sensitizer=================================\n"
     ]
    },
    {
     "name": "stdout",
     "output_type": "stream",
     "text": [
      "Training until validation scores don't improve for 50 rounds\n",
      "[100]\ttraining's binary_logloss: 0.00244056\tvalid_1's binary_logloss: 0.0141847\n",
      "Early stopping, best iteration is:\n",
      "[70]\ttraining's binary_logloss: 0.00340816\tvalid_1's binary_logloss: 0.0140675\n"
     ]
    },
    {
     "name": "stderr",
     "output_type": "stream",
     "text": [
      "================================= fold 2/4 insulin_sensitizer=================================\n"
     ]
    },
    {
     "name": "stdout",
     "output_type": "stream",
     "text": [
      "Training until validation scores don't improve for 50 rounds\n",
      "[100]\ttraining's binary_logloss: 0.00238214\tvalid_1's binary_logloss: 0.0143581\n",
      "Early stopping, best iteration is:\n",
      "[77]\ttraining's binary_logloss: 0.00309584\tvalid_1's binary_logloss: 0.014338\n"
     ]
    },
    {
     "name": "stderr",
     "output_type": "stream",
     "text": [
      "================================= fold 3/4 insulin_sensitizer=================================\n"
     ]
    },
    {
     "name": "stdout",
     "output_type": "stream",
     "text": [
      "Training until validation scores don't improve for 50 rounds\n",
      "[100]\ttraining's binary_logloss: 0.00248804\tvalid_1's binary_logloss: 0.0136342\n",
      "Early stopping, best iteration is:\n",
      "[79]\ttraining's binary_logloss: 0.00312819\tvalid_1's binary_logloss: 0.0135863\n"
     ]
    },
    {
     "name": "stderr",
     "output_type": "stream",
     "text": [
      "================================= fold 4/4 insulin_sensitizer=================================\n"
     ]
    },
    {
     "name": "stdout",
     "output_type": "stream",
     "text": [
      "Training until validation scores don't improve for 50 rounds\n",
      "[100]\ttraining's binary_logloss: 0.00241731\tvalid_1's binary_logloss: 0.0142918\n"
     ]
    },
    {
     "name": "stderr",
     "output_type": "stream",
     "text": [
      "insulin_sensitizer logloss: 0.014068416310073774\n",
      "=========================================================================================\n"
     ]
    },
    {
     "name": "stdout",
     "output_type": "stream",
     "text": [
      "Early stopping, best iteration is:\n",
      "[108]\ttraining's binary_logloss: 0.00222826\tvalid_1's binary_logloss: 0.0142818\n"
     ]
    },
    {
     "name": "stderr",
     "output_type": "stream",
     "text": [
      "================================= fold 1/4 integrin_inhibitor=================================\n"
     ]
    },
    {
     "name": "stdout",
     "output_type": "stream",
     "text": [
      "Training until validation scores don't improve for 50 rounds\n",
      "Early stopping, best iteration is:\n",
      "[3]\ttraining's binary_logloss: 0.0117166\tvalid_1's binary_logloss: 0.0133886\n"
     ]
    },
    {
     "name": "stderr",
     "output_type": "stream",
     "text": [
      "================================= fold 2/4 integrin_inhibitor=================================\n"
     ]
    },
    {
     "name": "stdout",
     "output_type": "stream",
     "text": [
      "Training until validation scores don't improve for 50 rounds\n",
      "Early stopping, best iteration is:\n",
      "[1]\ttraining's binary_logloss: 0.012335\tvalid_1's binary_logloss: 0.0134844\n"
     ]
    },
    {
     "name": "stderr",
     "output_type": "stream",
     "text": [
      "================================= fold 3/4 integrin_inhibitor=================================\n"
     ]
    },
    {
     "name": "stdout",
     "output_type": "stream",
     "text": [
      "Training until validation scores don't improve for 50 rounds\n",
      "Early stopping, best iteration is:\n",
      "[2]\ttraining's binary_logloss: 0.0123189\tvalid_1's binary_logloss: 0.012416\n"
     ]
    },
    {
     "name": "stderr",
     "output_type": "stream",
     "text": [
      "================================= fold 4/4 integrin_inhibitor=================================\n"
     ]
    },
    {
     "name": "stdout",
     "output_type": "stream",
     "text": [
      "Training until validation scores don't improve for 50 rounds\n"
     ]
    },
    {
     "name": "stderr",
     "output_type": "stream",
     "text": [
      "integrin_inhibitor logloss: 0.012925524357019866\n",
      "=========================================================================================\n"
     ]
    },
    {
     "name": "stdout",
     "output_type": "stream",
     "text": [
      "Early stopping, best iteration is:\n",
      "[4]\ttraining's binary_logloss: 0.0117525\tvalid_1's binary_logloss: 0.0124129\n"
     ]
    },
    {
     "name": "stderr",
     "output_type": "stream",
     "text": [
      "================================= fold 1/4 jak_inhibitor=================================\n"
     ]
    },
    {
     "name": "stdout",
     "output_type": "stream",
     "text": [
      "Training until validation scores don't improve for 50 rounds\n",
      "[100]\ttraining's binary_logloss: 0.00436436\tvalid_1's binary_logloss: 0.0186545\n",
      "[200]\ttraining's binary_logloss: 0.00171538\tvalid_1's binary_logloss: 0.0181468\n",
      "Early stopping, best iteration is:\n",
      "[199]\ttraining's binary_logloss: 0.00172995\tvalid_1's binary_logloss: 0.0181385\n"
     ]
    },
    {
     "name": "stderr",
     "output_type": "stream",
     "text": [
      "================================= fold 2/4 jak_inhibitor=================================\n"
     ]
    },
    {
     "name": "stdout",
     "output_type": "stream",
     "text": [
      "Training until validation scores don't improve for 50 rounds\n",
      "[100]\ttraining's binary_logloss: 0.00453685\tvalid_1's binary_logloss: 0.0199247\n",
      "[200]\ttraining's binary_logloss: 0.00176157\tvalid_1's binary_logloss: 0.0195626\n",
      "Early stopping, best iteration is:\n",
      "[166]\ttraining's binary_logloss: 0.00237458\tvalid_1's binary_logloss: 0.0194773\n"
     ]
    },
    {
     "name": "stderr",
     "output_type": "stream",
     "text": [
      "================================= fold 3/4 jak_inhibitor=================================\n"
     ]
    },
    {
     "name": "stdout",
     "output_type": "stream",
     "text": [
      "Training until validation scores don't improve for 50 rounds\n",
      "[100]\ttraining's binary_logloss: 0.00439147\tvalid_1's binary_logloss: 0.0177056\n",
      "[200]\ttraining's binary_logloss: 0.00173421\tvalid_1's binary_logloss: 0.017261\n",
      "Early stopping, best iteration is:\n",
      "[180]\ttraining's binary_logloss: 0.00206056\tvalid_1's binary_logloss: 0.0172537\n"
     ]
    },
    {
     "name": "stderr",
     "output_type": "stream",
     "text": [
      "================================= fold 4/4 jak_inhibitor=================================\n"
     ]
    },
    {
     "name": "stdout",
     "output_type": "stream",
     "text": [
      "Training until validation scores don't improve for 50 rounds\n",
      "[100]\ttraining's binary_logloss: 0.00440479\tvalid_1's binary_logloss: 0.0177219\n",
      "[200]\ttraining's binary_logloss: 0.0017418\tvalid_1's binary_logloss: 0.0171351\n",
      "Early stopping, best iteration is:\n",
      "[191]\ttraining's binary_logloss: 0.00188023\tvalid_1's binary_logloss: 0.0171118\n"
     ]
    },
    {
     "name": "stderr",
     "output_type": "stream",
     "text": [
      "jak_inhibitor logloss: 0.017995392846815814\n",
      "=========================================================================================\n",
      "================================= fold 1/4 kit_inhibitor=================================\n"
     ]
    },
    {
     "name": "stdout",
     "output_type": "stream",
     "text": [
      "Training until validation scores don't improve for 50 rounds\n",
      "[100]\ttraining's binary_logloss: 0.0135965\tvalid_1's binary_logloss: 0.0294022\n",
      "[200]\ttraining's binary_logloss: 0.00557517\tvalid_1's binary_logloss: 0.0248071\n",
      "[300]\ttraining's binary_logloss: 0.0025423\tvalid_1's binary_logloss: 0.023827\n",
      "Early stopping, best iteration is:\n",
      "[316]\ttraining's binary_logloss: 0.00225976\tvalid_1's binary_logloss: 0.0237764\n"
     ]
    },
    {
     "name": "stderr",
     "output_type": "stream",
     "text": [
      "================================= fold 2/4 kit_inhibitor=================================\n"
     ]
    },
    {
     "name": "stdout",
     "output_type": "stream",
     "text": [
      "Training until validation scores don't improve for 50 rounds\n",
      "[100]\ttraining's binary_logloss: 0.0134829\tvalid_1's binary_logloss: 0.0281226\n",
      "[200]\ttraining's binary_logloss: 0.00564435\tvalid_1's binary_logloss: 0.0236058\n",
      "[300]\ttraining's binary_logloss: 0.00259248\tvalid_1's binary_logloss: 0.022372\n",
      "Early stopping, best iteration is:\n",
      "[334]\ttraining's binary_logloss: 0.00203665\tvalid_1's binary_logloss: 0.0222103\n"
     ]
    },
    {
     "name": "stderr",
     "output_type": "stream",
     "text": [
      "================================= fold 3/4 kit_inhibitor=================================\n"
     ]
    },
    {
     "name": "stdout",
     "output_type": "stream",
     "text": [
      "Training until validation scores don't improve for 50 rounds\n",
      "[100]\ttraining's binary_logloss: 0.0138107\tvalid_1's binary_logloss: 0.0297283\n",
      "[200]\ttraining's binary_logloss: 0.00568838\tvalid_1's binary_logloss: 0.0245496\n",
      "[300]\ttraining's binary_logloss: 0.00258926\tvalid_1's binary_logloss: 0.0232341\n",
      "Early stopping, best iteration is:\n",
      "[317]\ttraining's binary_logloss: 0.00228461\tvalid_1's binary_logloss: 0.0231677\n"
     ]
    },
    {
     "name": "stderr",
     "output_type": "stream",
     "text": [
      "================================= fold 4/4 kit_inhibitor=================================\n"
     ]
    },
    {
     "name": "stdout",
     "output_type": "stream",
     "text": [
      "Training until validation scores don't improve for 50 rounds\n",
      "[100]\ttraining's binary_logloss: 0.0141904\tvalid_1's binary_logloss: 0.0282185\n",
      "[200]\ttraining's binary_logloss: 0.00580839\tvalid_1's binary_logloss: 0.0226698\n",
      "[300]\ttraining's binary_logloss: 0.00268023\tvalid_1's binary_logloss: 0.0209653\n",
      "[400]\ttraining's binary_logloss: 0.00136982\tvalid_1's binary_logloss: 0.0205032\n",
      "Early stopping, best iteration is:\n",
      "[431]\ttraining's binary_logloss: 0.00113142\tvalid_1's binary_logloss: 0.0204788\n"
     ]
    },
    {
     "name": "stderr",
     "output_type": "stream",
     "text": [
      "kit_inhibitor logloss: 0.02240833906170785\n",
      "=========================================================================================\n",
      "================================= fold 1/4 laxative=================================\n"
     ]
    },
    {
     "name": "stdout",
     "output_type": "stream",
     "text": [
      "Training until validation scores don't improve for 50 rounds\n",
      "Early stopping, best iteration is:\n",
      "[1]\ttraining's binary_logloss: 0.00205392\tvalid_1's binary_logloss: 0.00304822\n"
     ]
    },
    {
     "name": "stderr",
     "output_type": "stream",
     "text": [
      "================================= fold 2/4 laxative=================================\n"
     ]
    },
    {
     "name": "stdout",
     "output_type": "stream",
     "text": [
      "Training until validation scores don't improve for 50 rounds\n",
      "Early stopping, best iteration is:\n",
      "[1]\ttraining's binary_logloss: 0.00205287\tvalid_1's binary_logloss: 0.00304824\n"
     ]
    },
    {
     "name": "stderr",
     "output_type": "stream",
     "text": [
      "================================= fold 3/4 laxative=================================\n"
     ]
    },
    {
     "name": "stdout",
     "output_type": "stream",
     "text": [
      "Training until validation scores don't improve for 50 rounds\n",
      "[100]\ttraining's binary_logloss: 0.00033702\tvalid_1's binary_logloss: 0.00163062\n",
      "Early stopping, best iteration is:\n",
      "[58]\ttraining's binary_logloss: 0.000584345\tvalid_1's binary_logloss: 0.00162138\n"
     ]
    },
    {
     "name": "stderr",
     "output_type": "stream",
     "text": [
      "================================= fold 4/4 laxative=================================\n"
     ]
    },
    {
     "name": "stdout",
     "output_type": "stream",
     "text": [
      "Training until validation scores don't improve for 50 rounds\n"
     ]
    },
    {
     "name": "stderr",
     "output_type": "stream",
     "text": [
      "laxative logloss: 0.0023374646310585306\n",
      "=========================================================================================\n"
     ]
    },
    {
     "name": "stdout",
     "output_type": "stream",
     "text": [
      "Early stopping, best iteration is:\n",
      "[48]\ttraining's binary_logloss: 0.000639292\tvalid_1's binary_logloss: 0.00163177\n"
     ]
    },
    {
     "name": "stderr",
     "output_type": "stream",
     "text": [
      "================================= fold 1/4 leukotriene_inhibitor=================================\n"
     ]
    },
    {
     "name": "stdout",
     "output_type": "stream",
     "text": [
      "Training until validation scores don't improve for 50 rounds\n",
      "Early stopping, best iteration is:\n",
      "[1]\ttraining's binary_logloss: 0.00205286\tvalid_1's binary_logloss: 0.00304819\n"
     ]
    },
    {
     "name": "stderr",
     "output_type": "stream",
     "text": [
      "================================= fold 2/4 leukotriene_inhibitor=================================\n"
     ]
    },
    {
     "name": "stdout",
     "output_type": "stream",
     "text": [
      "Training until validation scores don't improve for 50 rounds\n",
      "Early stopping, best iteration is:\n",
      "[1]\ttraining's binary_logloss: 0.00205485\tvalid_1's binary_logloss: 0.00304822\n"
     ]
    },
    {
     "name": "stderr",
     "output_type": "stream",
     "text": [
      "================================= fold 3/4 leukotriene_inhibitor=================================\n"
     ]
    },
    {
     "name": "stdout",
     "output_type": "stream",
     "text": [
      "Training until validation scores don't improve for 50 rounds\n",
      "[100]\ttraining's binary_logloss: 0.000356852\tvalid_1's binary_logloss: 0.00161783\n",
      "Early stopping, best iteration is:\n",
      "[135]\ttraining's binary_logloss: 0.000250399\tvalid_1's binary_logloss: 0.00161253\n"
     ]
    },
    {
     "name": "stderr",
     "output_type": "stream",
     "text": [
      "================================= fold 4/4 leukotriene_inhibitor=================================\n"
     ]
    },
    {
     "name": "stdout",
     "output_type": "stream",
     "text": [
      "Training until validation scores don't improve for 50 rounds\n",
      "Early stopping, best iteration is:\n",
      "[48]\ttraining's binary_logloss: 0.000661295\tvalid_1's binary_logloss: 0.00163898\n"
     ]
    },
    {
     "name": "stderr",
     "output_type": "stream",
     "text": [
      "leukotriene_inhibitor logloss: 0.002337038814877823\n",
      "=========================================================================================\n",
      "================================= fold 1/4 leukotriene_receptor_antagonist=================================\n"
     ]
    },
    {
     "name": "stdout",
     "output_type": "stream",
     "text": [
      "Training until validation scores don't improve for 50 rounds\n",
      "Early stopping, best iteration is:\n",
      "[1]\ttraining's binary_logloss: 0.0173245\tvalid_1's binary_logloss: 0.0185923\n"
     ]
    },
    {
     "name": "stderr",
     "output_type": "stream",
     "text": [
      "================================= fold 2/4 leukotriene_receptor_antagonist=================================\n"
     ]
    },
    {
     "name": "stdout",
     "output_type": "stream",
     "text": [
      "Training until validation scores don't improve for 50 rounds\n",
      "Early stopping, best iteration is:\n",
      "[4]\ttraining's binary_logloss: 0.0163482\tvalid_1's binary_logloss: 0.0185744\n"
     ]
    },
    {
     "name": "stderr",
     "output_type": "stream",
     "text": [
      "================================= fold 3/4 leukotriene_receptor_antagonist=================================\n"
     ]
    },
    {
     "name": "stdout",
     "output_type": "stream",
     "text": [
      "Training until validation scores don't improve for 50 rounds\n",
      "Early stopping, best iteration is:\n",
      "[13]\ttraining's binary_logloss: 0.0127619\tvalid_1's binary_logloss: 0.0175237\n"
     ]
    },
    {
     "name": "stderr",
     "output_type": "stream",
     "text": [
      "================================= fold 4/4 leukotriene_receptor_antagonist=================================\n"
     ]
    },
    {
     "name": "stdout",
     "output_type": "stream",
     "text": [
      "Training until validation scores don't improve for 50 rounds\n"
     ]
    },
    {
     "name": "stderr",
     "output_type": "stream",
     "text": [
      "leukotriene_receptor_antagonist logloss: 0.018063664907045765\n",
      "=========================================================================================\n"
     ]
    },
    {
     "name": "stdout",
     "output_type": "stream",
     "text": [
      "Early stopping, best iteration is:\n",
      "[10]\ttraining's binary_logloss: 0.0132452\tvalid_1's binary_logloss: 0.0175641\n"
     ]
    },
    {
     "name": "stderr",
     "output_type": "stream",
     "text": [
      "================================= fold 1/4 lipase_inhibitor=================================\n"
     ]
    },
    {
     "name": "stdout",
     "output_type": "stream",
     "text": [
      "Training until validation scores don't improve for 50 rounds\n",
      "Early stopping, best iteration is:\n",
      "[22]\ttraining's binary_logloss: 0.00218803\tvalid_1's binary_logloss: 0.00431997\n"
     ]
    },
    {
     "name": "stderr",
     "output_type": "stream",
     "text": [
      "================================= fold 2/4 lipase_inhibitor=================================\n"
     ]
    },
    {
     "name": "stdout",
     "output_type": "stream",
     "text": [
      "Training until validation scores don't improve for 50 rounds\n",
      "Early stopping, best iteration is:\n",
      "[1]\ttraining's binary_logloss: 0.00419407\tvalid_1's binary_logloss: 0.00433038\n"
     ]
    },
    {
     "name": "stderr",
     "output_type": "stream",
     "text": [
      "================================= fold 3/4 lipase_inhibitor=================================\n"
     ]
    },
    {
     "name": "stdout",
     "output_type": "stream",
     "text": [
      "Training until validation scores don't improve for 50 rounds\n",
      "Early stopping, best iteration is:\n",
      "[1]\ttraining's binary_logloss: 0.0042349\tvalid_1's binary_logloss: 0.00433129\n"
     ]
    },
    {
     "name": "stderr",
     "output_type": "stream",
     "text": [
      "================================= fold 4/4 lipase_inhibitor=================================\n"
     ]
    },
    {
     "name": "stdout",
     "output_type": "stream",
     "text": [
      "Training until validation scores don't improve for 50 rounds\n"
     ]
    },
    {
     "name": "stderr",
     "output_type": "stream",
     "text": [
      "lipase_inhibitor logloss: 0.004311184214631256\n",
      "=========================================================================================\n"
     ]
    },
    {
     "name": "stdout",
     "output_type": "stream",
     "text": [
      "Early stopping, best iteration is:\n",
      "[20]\ttraining's binary_logloss: 0.00207805\tvalid_1's binary_logloss: 0.00426309\n"
     ]
    },
    {
     "name": "stderr",
     "output_type": "stream",
     "text": [
      "================================= fold 1/4 lipoxygenase_inhibitor=================================\n"
     ]
    },
    {
     "name": "stdout",
     "output_type": "stream",
     "text": [
      "Training until validation scores don't improve for 50 rounds\n",
      "Early stopping, best iteration is:\n",
      "[1]\ttraining's binary_logloss: 0.01749\tvalid_1's binary_logloss: 0.0175844\n"
     ]
    },
    {
     "name": "stderr",
     "output_type": "stream",
     "text": [
      "================================= fold 2/4 lipoxygenase_inhibitor=================================\n"
     ]
    },
    {
     "name": "stdout",
     "output_type": "stream",
     "text": [
      "Training until validation scores don't improve for 50 rounds\n",
      "Early stopping, best iteration is:\n",
      "[45]\ttraining's binary_logloss: 0.00629518\tvalid_1's binary_logloss: 0.0179503\n"
     ]
    },
    {
     "name": "stderr",
     "output_type": "stream",
     "text": [
      "================================= fold 3/4 lipoxygenase_inhibitor=================================\n"
     ]
    },
    {
     "name": "stdout",
     "output_type": "stream",
     "text": [
      "Training until validation scores don't improve for 50 rounds\n",
      "Early stopping, best iteration is:\n",
      "[38]\ttraining's binary_logloss: 0.00798218\tvalid_1's binary_logloss: 0.0173285\n"
     ]
    },
    {
     "name": "stderr",
     "output_type": "stream",
     "text": [
      "================================= fold 4/4 lipoxygenase_inhibitor=================================\n"
     ]
    },
    {
     "name": "stdout",
     "output_type": "stream",
     "text": [
      "Training until validation scores don't improve for 50 rounds\n",
      "Early stopping, best iteration is:\n",
      "[1]\ttraining's binary_logloss: 0.017441\tvalid_1's binary_logloss: 0.0175649\n"
     ]
    },
    {
     "name": "stderr",
     "output_type": "stream",
     "text": [
      "lipoxygenase_inhibitor logloss: 0.017607041709559967\n",
      "=========================================================================================\n",
      "================================= fold 1/4 lxr_agonist=================================\n"
     ]
    },
    {
     "name": "stdout",
     "output_type": "stream",
     "text": [
      "Training until validation scores don't improve for 50 rounds\n",
      "[100]\ttraining's binary_logloss: 0.000254529\tvalid_1's binary_logloss: 0.00288188\n",
      "[200]\ttraining's binary_logloss: 0.000103805\tvalid_1's binary_logloss: 0.00285856\n",
      "Early stopping, best iteration is:\n",
      "[223]\ttraining's binary_logloss: 8.77297e-05\tvalid_1's binary_logloss: 0.0028539\n"
     ]
    },
    {
     "name": "stderr",
     "output_type": "stream",
     "text": [
      "================================= fold 2/4 lxr_agonist=================================\n"
     ]
    },
    {
     "name": "stdout",
     "output_type": "stream",
     "text": [
      "Training until validation scores don't improve for 50 rounds\n",
      "Early stopping, best iteration is:\n",
      "[32]\ttraining's binary_logloss: 0.000662159\tvalid_1's binary_logloss: 0.00304025\n"
     ]
    },
    {
     "name": "stderr",
     "output_type": "stream",
     "text": [
      "================================= fold 3/4 lxr_agonist=================================\n"
     ]
    },
    {
     "name": "stdout",
     "output_type": "stream",
     "text": [
      "Training until validation scores don't improve for 50 rounds\n",
      "[100]\ttraining's binary_logloss: 0.00029544\tvalid_1's binary_logloss: 0.00164629\n",
      "Early stopping, best iteration is:\n",
      "[54]\ttraining's binary_logloss: 0.0005134\tvalid_1's binary_logloss: 0.00163271\n"
     ]
    },
    {
     "name": "stderr",
     "output_type": "stream",
     "text": [
      "================================= fold 4/4 lxr_agonist=================================\n"
     ]
    },
    {
     "name": "stdout",
     "output_type": "stream",
     "text": [
      "Training until validation scores don't improve for 50 rounds\n",
      "[100]\ttraining's binary_logloss: 0.000295175\tvalid_1's binary_logloss: 0.00158017\n",
      "[200]\ttraining's binary_logloss: 0.000119266\tvalid_1's binary_logloss: 0.00157564\n"
     ]
    },
    {
     "name": "stderr",
     "output_type": "stream",
     "text": [
      "lxr_agonist logloss: 0.002274917972932639\n",
      "=========================================================================================\n"
     ]
    },
    {
     "name": "stdout",
     "output_type": "stream",
     "text": [
      "Early stopping, best iteration is:\n",
      "[159]\ttraining's binary_logloss: 0.000167534\tvalid_1's binary_logloss: 0.00157258\n"
     ]
    },
    {
     "name": "stderr",
     "output_type": "stream",
     "text": [
      "================================= fold 1/4 mdm_inhibitor=================================\n"
     ]
    },
    {
     "name": "stdout",
     "output_type": "stream",
     "text": [
      "Training until validation scores don't improve for 50 rounds\n",
      "[100]\ttraining's binary_logloss: 0.00128608\tvalid_1's binary_logloss: 0.00771121\n",
      "[200]\ttraining's binary_logloss: 0.000498815\tvalid_1's binary_logloss: 0.00732835\n",
      "Early stopping, best iteration is:\n",
      "[200]\ttraining's binary_logloss: 0.000498815\tvalid_1's binary_logloss: 0.00732835\n"
     ]
    },
    {
     "name": "stderr",
     "output_type": "stream",
     "text": [
      "================================= fold 2/4 mdm_inhibitor=================================\n"
     ]
    },
    {
     "name": "stdout",
     "output_type": "stream",
     "text": [
      "Training until validation scores don't improve for 50 rounds\n",
      "[100]\ttraining's binary_logloss: 0.00134617\tvalid_1's binary_logloss: 0.00797859\n",
      "[200]\ttraining's binary_logloss: 0.000524894\tvalid_1's binary_logloss: 0.00739909\n",
      "[300]\ttraining's binary_logloss: 0.000240732\tvalid_1's binary_logloss: 0.00737024\n",
      "Early stopping, best iteration is:\n",
      "[266]\ttraining's binary_logloss: 0.000308443\tvalid_1's binary_logloss: 0.00734006\n"
     ]
    },
    {
     "name": "stderr",
     "output_type": "stream",
     "text": [
      "================================= fold 3/4 mdm_inhibitor=================================\n"
     ]
    },
    {
     "name": "stdout",
     "output_type": "stream",
     "text": [
      "Training until validation scores don't improve for 50 rounds\n",
      "[100]\ttraining's binary_logloss: 0.00129519\tvalid_1's binary_logloss: 0.00713564\n",
      "Early stopping, best iteration is:\n",
      "[134]\ttraining's binary_logloss: 0.000919295\tvalid_1's binary_logloss: 0.00710976\n"
     ]
    },
    {
     "name": "stderr",
     "output_type": "stream",
     "text": [
      "================================= fold 4/4 mdm_inhibitor=================================\n"
     ]
    },
    {
     "name": "stdout",
     "output_type": "stream",
     "text": [
      "Training until validation scores don't improve for 50 rounds\n",
      "[100]\ttraining's binary_logloss: 0.00132974\tvalid_1's binary_logloss: 0.0067292\n",
      "[200]\ttraining's binary_logloss: 0.000510792\tvalid_1's binary_logloss: 0.00639847\n",
      "[300]\ttraining's binary_logloss: 0.000231833\tvalid_1's binary_logloss: 0.00631831\n",
      "Early stopping, best iteration is:\n",
      "[303]\ttraining's binary_logloss: 0.000226877\tvalid_1's binary_logloss: 0.00630867\n"
     ]
    },
    {
     "name": "stderr",
     "output_type": "stream",
     "text": [
      "mdm_inhibitor logloss: 0.00702173867265012\n",
      "=========================================================================================\n",
      "================================= fold 1/4 mek_inhibitor=================================\n"
     ]
    },
    {
     "name": "stdout",
     "output_type": "stream",
     "text": [
      "Training until validation scores don't improve for 50 rounds\n",
      "[100]\ttraining's binary_logloss: 0.00322545\tvalid_1's binary_logloss: 0.0105622\n",
      "[200]\ttraining's binary_logloss: 0.00122472\tvalid_1's binary_logloss: 0.010003\n",
      "Early stopping, best iteration is:\n",
      "[212]\ttraining's binary_logloss: 0.00110327\tvalid_1's binary_logloss: 0.00998388\n"
     ]
    },
    {
     "name": "stderr",
     "output_type": "stream",
     "text": [
      "================================= fold 2/4 mek_inhibitor=================================\n"
     ]
    },
    {
     "name": "stdout",
     "output_type": "stream",
     "text": [
      "Training until validation scores don't improve for 50 rounds\n",
      "[100]\ttraining's binary_logloss: 0.00316149\tvalid_1's binary_logloss: 0.0110749\n",
      "[200]\ttraining's binary_logloss: 0.00121979\tvalid_1's binary_logloss: 0.00963994\n",
      "[300]\ttraining's binary_logloss: 0.000549693\tvalid_1's binary_logloss: 0.00942142\n",
      "Early stopping, best iteration is:\n",
      "[315]\ttraining's binary_logloss: 0.000493557\tvalid_1's binary_logloss: 0.00941091\n"
     ]
    },
    {
     "name": "stderr",
     "output_type": "stream",
     "text": [
      "================================= fold 3/4 mek_inhibitor=================================\n"
     ]
    },
    {
     "name": "stdout",
     "output_type": "stream",
     "text": [
      "Training until validation scores don't improve for 50 rounds\n",
      "[100]\ttraining's binary_logloss: 0.00309367\tvalid_1's binary_logloss: 0.0116447\n",
      "[200]\ttraining's binary_logloss: 0.00115076\tvalid_1's binary_logloss: 0.0112171\n",
      "Early stopping, best iteration is:\n",
      "[214]\ttraining's binary_logloss: 0.00101751\tvalid_1's binary_logloss: 0.0111991\n"
     ]
    },
    {
     "name": "stderr",
     "output_type": "stream",
     "text": [
      "================================= fold 4/4 mek_inhibitor=================================\n"
     ]
    },
    {
     "name": "stdout",
     "output_type": "stream",
     "text": [
      "Training until validation scores don't improve for 50 rounds\n",
      "[100]\ttraining's binary_logloss: 0.00326522\tvalid_1's binary_logloss: 0.00989438\n",
      "[200]\ttraining's binary_logloss: 0.00123629\tvalid_1's binary_logloss: 0.00882692\n",
      "[300]\ttraining's binary_logloss: 0.000548739\tvalid_1's binary_logloss: 0.00877426\n",
      "Early stopping, best iteration is:\n",
      "[251]\ttraining's binary_logloss: 0.000803956\tvalid_1's binary_logloss: 0.00871293\n"
     ]
    },
    {
     "name": "stderr",
     "output_type": "stream",
     "text": [
      "mek_inhibitor logloss: 0.009826702188116817\n",
      "=========================================================================================\n",
      "================================= fold 1/4 membrane_integrity_inhibitor=================================\n"
     ]
    },
    {
     "name": "stdout",
     "output_type": "stream",
     "text": [
      "Training until validation scores don't improve for 50 rounds\n",
      "Early stopping, best iteration is:\n",
      "[1]\ttraining's binary_logloss: 0.0201935\tvalid_1's binary_logloss: 0.0215449\n"
     ]
    },
    {
     "name": "stderr",
     "output_type": "stream",
     "text": [
      "================================= fold 2/4 membrane_integrity_inhibitor=================================\n"
     ]
    },
    {
     "name": "stdout",
     "output_type": "stream",
     "text": [
      "Training until validation scores don't improve for 50 rounds\n",
      "[100]\ttraining's binary_logloss: 0.00468884\tvalid_1's binary_logloss: 0.0213602\n",
      "Early stopping, best iteration is:\n",
      "[58]\ttraining's binary_logloss: 0.00742793\tvalid_1's binary_logloss: 0.0212158\n"
     ]
    },
    {
     "name": "stderr",
     "output_type": "stream",
     "text": [
      "================================= fold 3/4 membrane_integrity_inhibitor=================================\n"
     ]
    },
    {
     "name": "stdout",
     "output_type": "stream",
     "text": [
      "Training until validation scores don't improve for 50 rounds\n",
      "Early stopping, best iteration is:\n",
      "[41]\ttraining's binary_logloss: 0.00852899\tvalid_1's binary_logloss: 0.0197074\n"
     ]
    },
    {
     "name": "stderr",
     "output_type": "stream",
     "text": [
      "================================= fold 4/4 membrane_integrity_inhibitor=================================\n"
     ]
    },
    {
     "name": "stdout",
     "output_type": "stream",
     "text": [
      "Training until validation scores don't improve for 50 rounds\n",
      "[100]\ttraining's binary_logloss: 0.00463072\tvalid_1's binary_logloss: 0.0203138\n",
      "Early stopping, best iteration is:\n",
      "[52]\ttraining's binary_logloss: 0.00745442\tvalid_1's binary_logloss: 0.0201622\n"
     ]
    },
    {
     "name": "stderr",
     "output_type": "stream",
     "text": [
      "membrane_integrity_inhibitor logloss: 0.020657627147522267\n",
      "=========================================================================================\n",
      "================================= fold 1/4 mineralocorticoid_receptor_antagonist=================================\n"
     ]
    },
    {
     "name": "stdout",
     "output_type": "stream",
     "text": [
      "Training until validation scores don't improve for 50 rounds\n",
      "Early stopping, best iteration is:\n",
      "[36]\ttraining's binary_logloss: 0.00275762\tvalid_1's binary_logloss: 0.00785708\n"
     ]
    },
    {
     "name": "stderr",
     "output_type": "stream",
     "text": [
      "================================= fold 2/4 mineralocorticoid_receptor_antagonist=================================\n"
     ]
    },
    {
     "name": "stdout",
     "output_type": "stream",
     "text": [
      "Training until validation scores don't improve for 50 rounds\n",
      "Early stopping, best iteration is:\n",
      "[10]\ttraining's binary_logloss: 0.00495237\tvalid_1's binary_logloss: 0.00902051\n"
     ]
    },
    {
     "name": "stderr",
     "output_type": "stream",
     "text": [
      "================================= fold 3/4 mineralocorticoid_receptor_antagonist=================================\n"
     ]
    },
    {
     "name": "stdout",
     "output_type": "stream",
     "text": [
      "Training until validation scores don't improve for 50 rounds\n",
      "Early stopping, best iteration is:\n",
      "[1]\ttraining's binary_logloss: 0.00802981\tvalid_1's binary_logloss: 0.00796342\n"
     ]
    },
    {
     "name": "stderr",
     "output_type": "stream",
     "text": [
      "================================= fold 4/4 mineralocorticoid_receptor_antagonist=================================\n"
     ]
    },
    {
     "name": "stdout",
     "output_type": "stream",
     "text": [
      "Training until validation scores don't improve for 50 rounds\n"
     ]
    },
    {
     "name": "stderr",
     "output_type": "stream",
     "text": [
      "mineralocorticoid_receptor_antagonist logloss: 0.008185202151132547\n",
      "=========================================================================================\n"
     ]
    },
    {
     "name": "stdout",
     "output_type": "stream",
     "text": [
      "Early stopping, best iteration is:\n",
      "[33]\ttraining's binary_logloss: 0.00293264\tvalid_1's binary_logloss: 0.00789971\n"
     ]
    },
    {
     "name": "stderr",
     "output_type": "stream",
     "text": [
      "================================= fold 1/4 monoacylglycerol_lipase_inhibitor=================================\n"
     ]
    },
    {
     "name": "stdout",
     "output_type": "stream",
     "text": [
      "Training until validation scores don't improve for 50 rounds\n",
      "Early stopping, best iteration is:\n",
      "[2]\ttraining's binary_logloss: 0.00406308\tvalid_1's binary_logloss: 0.00432838\n"
     ]
    },
    {
     "name": "stderr",
     "output_type": "stream",
     "text": [
      "================================= fold 2/4 monoacylglycerol_lipase_inhibitor=================================\n"
     ]
    },
    {
     "name": "stdout",
     "output_type": "stream",
     "text": [
      "Training until validation scores don't improve for 50 rounds\n",
      "Early stopping, best iteration is:\n",
      "[1]\ttraining's binary_logloss: 0.00421427\tvalid_1's binary_logloss: 0.00433074\n"
     ]
    },
    {
     "name": "stderr",
     "output_type": "stream",
     "text": [
      "================================= fold 3/4 monoacylglycerol_lipase_inhibitor=================================\n"
     ]
    },
    {
     "name": "stdout",
     "output_type": "stream",
     "text": [
      "Training until validation scores don't improve for 50 rounds\n",
      "Early stopping, best iteration is:\n",
      "[2]\ttraining's binary_logloss: 0.00400447\tvalid_1's binary_logloss: 0.00432898\n"
     ]
    },
    {
     "name": "stderr",
     "output_type": "stream",
     "text": [
      "================================= fold 4/4 monoacylglycerol_lipase_inhibitor=================================\n"
     ]
    },
    {
     "name": "stdout",
     "output_type": "stream",
     "text": [
      "Training until validation scores don't improve for 50 rounds\n"
     ]
    },
    {
     "name": "stderr",
     "output_type": "stream",
     "text": [
      "monoacylglycerol_lipase_inhibitor logloss: 0.004329860402337719\n",
      "=========================================================================================\n"
     ]
    },
    {
     "name": "stdout",
     "output_type": "stream",
     "text": [
      "Early stopping, best iteration is:\n",
      "[1]\ttraining's binary_logloss: 0.00418636\tvalid_1's binary_logloss: 0.00433135\n"
     ]
    },
    {
     "name": "stderr",
     "output_type": "stream",
     "text": [
      "================================= fold 1/4 monoamine_oxidase_inhibitor=================================\n"
     ]
    },
    {
     "name": "stdout",
     "output_type": "stream",
     "text": [
      "Training until validation scores don't improve for 50 rounds\n",
      "Early stopping, best iteration is:\n",
      "[10]\ttraining's binary_logloss: 0.0184402\tvalid_1's binary_logloss: 0.0234096\n"
     ]
    },
    {
     "name": "stderr",
     "output_type": "stream",
     "text": [
      "================================= fold 2/4 monoamine_oxidase_inhibitor=================================\n"
     ]
    },
    {
     "name": "stdout",
     "output_type": "stream",
     "text": [
      "Training until validation scores don't improve for 50 rounds\n",
      "Early stopping, best iteration is:\n",
      "[19]\ttraining's binary_logloss: 0.0147925\tvalid_1's binary_logloss: 0.0242321\n"
     ]
    },
    {
     "name": "stderr",
     "output_type": "stream",
     "text": [
      "================================= fold 3/4 monoamine_oxidase_inhibitor=================================\n"
     ]
    },
    {
     "name": "stdout",
     "output_type": "stream",
     "text": [
      "Training until validation scores don't improve for 50 rounds\n",
      "Early stopping, best iteration is:\n",
      "[5]\ttraining's binary_logloss: 0.020587\tvalid_1's binary_logloss: 0.0233806\n"
     ]
    },
    {
     "name": "stderr",
     "output_type": "stream",
     "text": [
      "================================= fold 4/4 monoamine_oxidase_inhibitor=================================\n"
     ]
    },
    {
     "name": "stdout",
     "output_type": "stream",
     "text": [
      "Training until validation scores don't improve for 50 rounds\n"
     ]
    },
    {
     "name": "stderr",
     "output_type": "stream",
     "text": [
      "monoamine_oxidase_inhibitor logloss: 0.023615727675566904\n",
      "=========================================================================================\n"
     ]
    },
    {
     "name": "stdout",
     "output_type": "stream",
     "text": [
      "Early stopping, best iteration is:\n",
      "[4]\ttraining's binary_logloss: 0.0213228\tvalid_1's binary_logloss: 0.0234406\n"
     ]
    },
    {
     "name": "stderr",
     "output_type": "stream",
     "text": [
      "================================= fold 1/4 monopolar_spindle_1_kinase_inhibitor=================================\n"
     ]
    },
    {
     "name": "stdout",
     "output_type": "stream",
     "text": [
      "Training until validation scores don't improve for 50 rounds\n",
      "[100]\ttraining's binary_logloss: 0.00081049\tvalid_1's binary_logloss: 0.00647394\n",
      "Early stopping, best iteration is:\n",
      "[105]\ttraining's binary_logloss: 0.000768427\tvalid_1's binary_logloss: 0.00645867\n"
     ]
    },
    {
     "name": "stderr",
     "output_type": "stream",
     "text": [
      "================================= fold 2/4 monopolar_spindle_1_kinase_inhibitor=================================\n"
     ]
    },
    {
     "name": "stdout",
     "output_type": "stream",
     "text": [
      "Training until validation scores don't improve for 50 rounds\n",
      "Early stopping, best iteration is:\n",
      "[6]\ttraining's binary_logloss: 0.0043587\tvalid_1's binary_logloss: 0.00678093\n"
     ]
    },
    {
     "name": "stderr",
     "output_type": "stream",
     "text": [
      "================================= fold 3/4 monopolar_spindle_1_kinase_inhibitor=================================\n"
     ]
    },
    {
     "name": "stdout",
     "output_type": "stream",
     "text": [
      "Training until validation scores don't improve for 50 rounds\n",
      "[100]\ttraining's binary_logloss: 0.000871111\tvalid_1's binary_logloss: 0.00530481\n",
      "Early stopping, best iteration is:\n",
      "[64]\ttraining's binary_logloss: 0.0013262\tvalid_1's binary_logloss: 0.00527661\n"
     ]
    },
    {
     "name": "stderr",
     "output_type": "stream",
     "text": [
      "================================= fold 4/4 monopolar_spindle_1_kinase_inhibitor=================================\n"
     ]
    },
    {
     "name": "stdout",
     "output_type": "stream",
     "text": [
      "Training until validation scores don't improve for 50 rounds\n"
     ]
    },
    {
     "name": "stderr",
     "output_type": "stream",
     "text": [
      "monopolar_spindle_1_kinase_inhibitor logloss: 0.006026498460921826\n",
      "=========================================================================================\n"
     ]
    },
    {
     "name": "stdout",
     "output_type": "stream",
     "text": [
      "Early stopping, best iteration is:\n",
      "[1]\ttraining's binary_logloss: 0.00609076\tvalid_1's binary_logloss: 0.00558958\n"
     ]
    },
    {
     "name": "stderr",
     "output_type": "stream",
     "text": [
      "================================= fold 1/4 mtor_inhibitor=================================\n"
     ]
    },
    {
     "name": "stdout",
     "output_type": "stream",
     "text": [
      "Training until validation scores don't improve for 50 rounds\n",
      "[100]\ttraining's binary_logloss: 0.00671339\tvalid_1's binary_logloss: 0.021881\n",
      "[200]\ttraining's binary_logloss: 0.00271237\tvalid_1's binary_logloss: 0.0212585\n",
      "Early stopping, best iteration is:\n",
      "[175]\ttraining's binary_logloss: 0.0033285\tvalid_1's binary_logloss: 0.0212078\n"
     ]
    },
    {
     "name": "stderr",
     "output_type": "stream",
     "text": [
      "================================= fold 2/4 mtor_inhibitor=================================\n"
     ]
    },
    {
     "name": "stdout",
     "output_type": "stream",
     "text": [
      "Training until validation scores don't improve for 50 rounds\n",
      "[100]\ttraining's binary_logloss: 0.00715219\tvalid_1's binary_logloss: 0.0225584\n",
      "[200]\ttraining's binary_logloss: 0.00289073\tvalid_1's binary_logloss: 0.0217331\n",
      "Early stopping, best iteration is:\n",
      "[215]\ttraining's binary_logloss: 0.00256094\tvalid_1's binary_logloss: 0.0217179\n"
     ]
    },
    {
     "name": "stderr",
     "output_type": "stream",
     "text": [
      "================================= fold 3/4 mtor_inhibitor=================================\n"
     ]
    },
    {
     "name": "stdout",
     "output_type": "stream",
     "text": [
      "Training until validation scores don't improve for 50 rounds\n",
      "[100]\ttraining's binary_logloss: 0.00764187\tvalid_1's binary_logloss: 0.0170314\n",
      "[200]\ttraining's binary_logloss: 0.00301884\tvalid_1's binary_logloss: 0.0145175\n",
      "[300]\ttraining's binary_logloss: 0.00142636\tvalid_1's binary_logloss: 0.0138115\n",
      "[400]\ttraining's binary_logloss: 0.00075574\tvalid_1's binary_logloss: 0.0137364\n",
      "Early stopping, best iteration is:\n",
      "[363]\ttraining's binary_logloss: 0.000948335\tvalid_1's binary_logloss: 0.0136899\n"
     ]
    },
    {
     "name": "stderr",
     "output_type": "stream",
     "text": [
      "================================= fold 4/4 mtor_inhibitor=================================\n"
     ]
    },
    {
     "name": "stdout",
     "output_type": "stream",
     "text": [
      "Training until validation scores don't improve for 50 rounds\n",
      "[100]\ttraining's binary_logloss: 0.00702892\tvalid_1's binary_logloss: 0.0199875\n",
      "[200]\ttraining's binary_logloss: 0.00286167\tvalid_1's binary_logloss: 0.0185349\n",
      "[300]\ttraining's binary_logloss: 0.0013351\tvalid_1's binary_logloss: 0.0186035\n",
      "Early stopping, best iteration is:\n",
      "[250]\ttraining's binary_logloss: 0.00192413\tvalid_1's binary_logloss: 0.0184137\n"
     ]
    },
    {
     "name": "stderr",
     "output_type": "stream",
     "text": [
      "mtor_inhibitor logloss: 0.018757552945782623\n",
      "=========================================================================================\n",
      "================================= fold 1/4 mucolytic_agent=================================\n"
     ]
    },
    {
     "name": "stdout",
     "output_type": "stream",
     "text": [
      "Training until validation scores don't improve for 50 rounds\n",
      "Early stopping, best iteration is:\n",
      "[6]\ttraining's binary_logloss: 0.0115599\tvalid_1's binary_logloss: 0.014515\n"
     ]
    },
    {
     "name": "stderr",
     "output_type": "stream",
     "text": [
      "================================= fold 2/4 mucolytic_agent=================================\n"
     ]
    },
    {
     "name": "stdout",
     "output_type": "stream",
     "text": [
      "Training until validation scores don't improve for 50 rounds\n",
      "Early stopping, best iteration is:\n",
      "[14]\ttraining's binary_logloss: 0.00891699\tvalid_1's binary_logloss: 0.0143022\n"
     ]
    },
    {
     "name": "stderr",
     "output_type": "stream",
     "text": [
      "================================= fold 3/4 mucolytic_agent=================================\n"
     ]
    },
    {
     "name": "stdout",
     "output_type": "stream",
     "text": [
      "Training until validation scores don't improve for 50 rounds\n",
      "Early stopping, best iteration is:\n",
      "[30]\ttraining's binary_logloss: 0.0062392\tvalid_1's binary_logloss: 0.0144452\n"
     ]
    },
    {
     "name": "stderr",
     "output_type": "stream",
     "text": [
      "================================= fold 4/4 mucolytic_agent=================================\n"
     ]
    },
    {
     "name": "stdout",
     "output_type": "stream",
     "text": [
      "Training until validation scores don't improve for 50 rounds\n"
     ]
    },
    {
     "name": "stderr",
     "output_type": "stream",
     "text": [
      "mucolytic_agent logloss: 0.01442324829783349\n",
      "=========================================================================================\n"
     ]
    },
    {
     "name": "stdout",
     "output_type": "stream",
     "text": [
      "Early stopping, best iteration is:\n",
      "[15]\ttraining's binary_logloss: 0.00854058\tvalid_1's binary_logloss: 0.0144306\n"
     ]
    },
    {
     "name": "stderr",
     "output_type": "stream",
     "text": [
      "================================= fold 1/4 neuropeptide_receptor_antagonist=================================\n"
     ]
    },
    {
     "name": "stdout",
     "output_type": "stream",
     "text": [
      "Training until validation scores don't improve for 50 rounds\n",
      "Early stopping, best iteration is:\n",
      "[20]\ttraining's binary_logloss: 0.00581452\tvalid_1's binary_logloss: 0.0111508\n"
     ]
    },
    {
     "name": "stderr",
     "output_type": "stream",
     "text": [
      "================================= fold 2/4 neuropeptide_receptor_antagonist=================================\n"
     ]
    },
    {
     "name": "stdout",
     "output_type": "stream",
     "text": [
      "Training until validation scores don't improve for 50 rounds\n",
      "Early stopping, best iteration is:\n",
      "[49]\ttraining's binary_logloss: 0.00331982\tvalid_1's binary_logloss: 0.0123088\n"
     ]
    },
    {
     "name": "stderr",
     "output_type": "stream",
     "text": [
      "================================= fold 3/4 neuropeptide_receptor_antagonist=================================\n"
     ]
    },
    {
     "name": "stdout",
     "output_type": "stream",
     "text": [
      "Training until validation scores don't improve for 50 rounds\n",
      "Early stopping, best iteration is:\n",
      "[1]\ttraining's binary_logloss: 0.0112592\tvalid_1's binary_logloss: 0.0113349\n"
     ]
    },
    {
     "name": "stderr",
     "output_type": "stream",
     "text": [
      "================================= fold 4/4 neuropeptide_receptor_antagonist=================================\n"
     ]
    },
    {
     "name": "stdout",
     "output_type": "stream",
     "text": [
      "Training until validation scores don't improve for 50 rounds\n"
     ]
    },
    {
     "name": "stderr",
     "output_type": "stream",
     "text": [
      "neuropeptide_receptor_antagonist logloss: 0.011505362222763637\n",
      "=========================================================================================\n"
     ]
    },
    {
     "name": "stdout",
     "output_type": "stream",
     "text": [
      "Early stopping, best iteration is:\n",
      "[10]\ttraining's binary_logloss: 0.007981\tvalid_1's binary_logloss: 0.0112268\n"
     ]
    },
    {
     "name": "stderr",
     "output_type": "stream",
     "text": [
      "================================= fold 1/4 nfkb_inhibitor=================================\n"
     ]
    },
    {
     "name": "stdout",
     "output_type": "stream",
     "text": [
      "Training until validation scores don't improve for 50 rounds\n",
      "[100]\ttraining's binary_logloss: 0.0427451\tvalid_1's binary_logloss: 0.046165\n",
      "[200]\ttraining's binary_logloss: 0.019075\tvalid_1's binary_logloss: 0.0316161\n",
      "[300]\ttraining's binary_logloss: 0.00982435\tvalid_1's binary_logloss: 0.0273352\n",
      "[400]\ttraining's binary_logloss: 0.00529888\tvalid_1's binary_logloss: 0.0263784\n",
      "Early stopping, best iteration is:\n",
      "[405]\ttraining's binary_logloss: 0.00516994\tvalid_1's binary_logloss: 0.0263742\n"
     ]
    },
    {
     "name": "stderr",
     "output_type": "stream",
     "text": [
      "================================= fold 2/4 nfkb_inhibitor=================================\n"
     ]
    },
    {
     "name": "stdout",
     "output_type": "stream",
     "text": [
      "Training until validation scores don't improve for 50 rounds\n",
      "[100]\ttraining's binary_logloss: 0.0426692\tvalid_1's binary_logloss: 0.0466311\n",
      "[200]\ttraining's binary_logloss: 0.0183433\tvalid_1's binary_logloss: 0.0319366\n",
      "[300]\ttraining's binary_logloss: 0.00891337\tvalid_1's binary_logloss: 0.0276824\n",
      "[400]\ttraining's binary_logloss: 0.00461961\tvalid_1's binary_logloss: 0.0269788\n",
      "Early stopping, best iteration is:\n",
      "[379]\ttraining's binary_logloss: 0.00525703\tvalid_1's binary_logloss: 0.026936\n"
     ]
    },
    {
     "name": "stderr",
     "output_type": "stream",
     "text": [
      "================================= fold 3/4 nfkb_inhibitor=================================\n"
     ]
    },
    {
     "name": "stdout",
     "output_type": "stream",
     "text": [
      "Training until validation scores don't improve for 50 rounds\n",
      "[100]\ttraining's binary_logloss: 0.0424794\tvalid_1's binary_logloss: 0.0491475\n",
      "[200]\ttraining's binary_logloss: 0.0184407\tvalid_1's binary_logloss: 0.0352914\n",
      "[300]\ttraining's binary_logloss: 0.00891956\tvalid_1's binary_logloss: 0.0314403\n",
      "[400]\ttraining's binary_logloss: 0.00463425\tvalid_1's binary_logloss: 0.0309381\n",
      "Early stopping, best iteration is:\n",
      "[373]\ttraining's binary_logloss: 0.00549772\tvalid_1's binary_logloss: 0.0308728\n"
     ]
    },
    {
     "name": "stderr",
     "output_type": "stream",
     "text": [
      "================================= fold 4/4 nfkb_inhibitor=================================\n"
     ]
    },
    {
     "name": "stdout",
     "output_type": "stream",
     "text": [
      "Training until validation scores don't improve for 50 rounds\n",
      "[100]\ttraining's binary_logloss: 0.0401091\tvalid_1's binary_logloss: 0.0562627\n",
      "[200]\ttraining's binary_logloss: 0.0175033\tvalid_1's binary_logloss: 0.04491\n",
      "[300]\ttraining's binary_logloss: 0.00786006\tvalid_1's binary_logloss: 0.0432434\n",
      "Early stopping, best iteration is:\n",
      "[280]\ttraining's binary_logloss: 0.0091388\tvalid_1's binary_logloss: 0.0431916\n"
     ]
    },
    {
     "name": "stderr",
     "output_type": "stream",
     "text": [
      "nfkb_inhibitor logloss: 0.031843184128271695\n",
      "=========================================================================================\n",
      "================================= fold 1/4 nicotinic_receptor_agonist=================================\n"
     ]
    },
    {
     "name": "stdout",
     "output_type": "stream",
     "text": [
      "Training until validation scores don't improve for 50 rounds\n",
      "Early stopping, best iteration is:\n",
      "[1]\ttraining's binary_logloss: 0.00205285\tvalid_1's binary_logloss: 0.00304815\n"
     ]
    },
    {
     "name": "stderr",
     "output_type": "stream",
     "text": [
      "================================= fold 2/4 nicotinic_receptor_agonist=================================\n"
     ]
    },
    {
     "name": "stdout",
     "output_type": "stream",
     "text": [
      "Training until validation scores don't improve for 50 rounds\n",
      "Early stopping, best iteration is:\n",
      "[1]\ttraining's binary_logloss: 0.00206359\tvalid_1's binary_logloss: 0.00304812\n"
     ]
    },
    {
     "name": "stderr",
     "output_type": "stream",
     "text": [
      "================================= fold 3/4 nicotinic_receptor_agonist=================================\n"
     ]
    },
    {
     "name": "stdout",
     "output_type": "stream",
     "text": [
      "Training until validation scores don't improve for 50 rounds\n",
      "Early stopping, best iteration is:\n",
      "[48]\ttraining's binary_logloss: 0.000635123\tvalid_1's binary_logloss: 0.00163734\n"
     ]
    },
    {
     "name": "stderr",
     "output_type": "stream",
     "text": [
      "================================= fold 4/4 nicotinic_receptor_agonist=================================\n"
     ]
    },
    {
     "name": "stdout",
     "output_type": "stream",
     "text": [
      "Training until validation scores don't improve for 50 rounds\n",
      "[100]\ttraining's binary_logloss: 0.000329289\tvalid_1's binary_logloss: 0.00160522\n"
     ]
    },
    {
     "name": "stderr",
     "output_type": "stream",
     "text": [
      "nicotinic_receptor_agonist logloss: 0.0023340719498969056\n",
      "=========================================================================================\n"
     ]
    },
    {
     "name": "stdout",
     "output_type": "stream",
     "text": [
      "Early stopping, best iteration is:\n",
      "[107]\ttraining's binary_logloss: 0.000305115\tvalid_1's binary_logloss: 0.00160244\n"
     ]
    },
    {
     "name": "stderr",
     "output_type": "stream",
     "text": [
      "================================= fold 1/4 nitric_oxide_donor=================================\n"
     ]
    },
    {
     "name": "stdout",
     "output_type": "stream",
     "text": [
      "Training until validation scores don't improve for 50 rounds\n",
      "Early stopping, best iteration is:\n",
      "[1]\ttraining's binary_logloss: 0.00808581\tvalid_1's binary_logloss: 0.00911557\n"
     ]
    },
    {
     "name": "stderr",
     "output_type": "stream",
     "text": [
      "================================= fold 2/4 nitric_oxide_donor=================================\n"
     ]
    },
    {
     "name": "stdout",
     "output_type": "stream",
     "text": [
      "Training until validation scores don't improve for 50 rounds\n",
      "Early stopping, best iteration is:\n",
      "[6]\ttraining's binary_logloss: 0.00660544\tvalid_1's binary_logloss: 0.00906339\n"
     ]
    },
    {
     "name": "stderr",
     "output_type": "stream",
     "text": [
      "================================= fold 3/4 nitric_oxide_donor=================================\n"
     ]
    },
    {
     "name": "stdout",
     "output_type": "stream",
     "text": [
      "Training until validation scores don't improve for 50 rounds\n",
      "Early stopping, best iteration is:\n",
      "[1]\ttraining's binary_logloss: 0.00843431\tvalid_1's binary_logloss: 0.00796978\n"
     ]
    },
    {
     "name": "stderr",
     "output_type": "stream",
     "text": [
      "================================= fold 4/4 nitric_oxide_donor=================================\n"
     ]
    },
    {
     "name": "stdout",
     "output_type": "stream",
     "text": [
      "Training until validation scores don't improve for 50 rounds\n"
     ]
    },
    {
     "name": "stderr",
     "output_type": "stream",
     "text": [
      "nitric_oxide_donor logloss: 0.00852998489921383\n",
      "=========================================================================================\n"
     ]
    },
    {
     "name": "stdout",
     "output_type": "stream",
     "text": [
      "Early stopping, best iteration is:\n",
      "[1]\ttraining's binary_logloss: 0.00846061\tvalid_1's binary_logloss: 0.00797101\n"
     ]
    },
    {
     "name": "stderr",
     "output_type": "stream",
     "text": [
      "================================= fold 1/4 nitric_oxide_production_inhibitor=================================\n"
     ]
    },
    {
     "name": "stdout",
     "output_type": "stream",
     "text": [
      "Training until validation scores don't improve for 50 rounds\n",
      "Early stopping, best iteration is:\n",
      "[31]\ttraining's binary_logloss: 0.00156961\tvalid_1's binary_logloss: 0.0041612\n"
     ]
    },
    {
     "name": "stderr",
     "output_type": "stream",
     "text": [
      "================================= fold 2/4 nitric_oxide_production_inhibitor=================================\n"
     ]
    },
    {
     "name": "stdout",
     "output_type": "stream",
     "text": [
      "Training until validation scores don't improve for 50 rounds\n",
      "[100]\ttraining's binary_logloss: 0.000560645\tvalid_1's binary_logloss: 0.00425118\n",
      "Early stopping, best iteration is:\n",
      "[52]\ttraining's binary_logloss: 0.00102475\tvalid_1's binary_logloss: 0.00417928\n"
     ]
    },
    {
     "name": "stderr",
     "output_type": "stream",
     "text": [
      "================================= fold 3/4 nitric_oxide_production_inhibitor=================================\n"
     ]
    },
    {
     "name": "stdout",
     "output_type": "stream",
     "text": [
      "Training until validation scores don't improve for 50 rounds\n",
      "Early stopping, best iteration is:\n",
      "[1]\ttraining's binary_logloss: 0.00412801\tvalid_1's binary_logloss: 0.00433112\n"
     ]
    },
    {
     "name": "stderr",
     "output_type": "stream",
     "text": [
      "================================= fold 4/4 nitric_oxide_production_inhibitor=================================\n"
     ]
    },
    {
     "name": "stdout",
     "output_type": "stream",
     "text": [
      "Training until validation scores don't improve for 50 rounds\n"
     ]
    },
    {
     "name": "stderr",
     "output_type": "stream",
     "text": [
      "nitric_oxide_production_inhibitor logloss: 0.004145944929318346\n",
      "=========================================================================================\n"
     ]
    },
    {
     "name": "stdout",
     "output_type": "stream",
     "text": [
      "Early stopping, best iteration is:\n",
      "[44]\ttraining's binary_logloss: 0.0012145\tvalid_1's binary_logloss: 0.00391218\n"
     ]
    },
    {
     "name": "stderr",
     "output_type": "stream",
     "text": [
      "================================= fold 1/4 nitric_oxide_synthase_inhibitor=================================\n"
     ]
    },
    {
     "name": "stdout",
     "output_type": "stream",
     "text": [
      "Training until validation scores don't improve for 50 rounds\n",
      "Early stopping, best iteration is:\n",
      "[1]\ttraining's binary_logloss: 0.00811348\tvalid_1's binary_logloss: 0.00911561\n"
     ]
    },
    {
     "name": "stderr",
     "output_type": "stream",
     "text": [
      "================================= fold 2/4 nitric_oxide_synthase_inhibitor=================================\n"
     ]
    },
    {
     "name": "stdout",
     "output_type": "stream",
     "text": [
      "Training until validation scores don't improve for 50 rounds\n",
      "Early stopping, best iteration is:\n",
      "[2]\ttraining's binary_logloss: 0.00771546\tvalid_1's binary_logloss: 0.00903863\n"
     ]
    },
    {
     "name": "stderr",
     "output_type": "stream",
     "text": [
      "================================= fold 3/4 nitric_oxide_synthase_inhibitor=================================\n"
     ]
    },
    {
     "name": "stdout",
     "output_type": "stream",
     "text": [
      "Training until validation scores don't improve for 50 rounds\n",
      "Early stopping, best iteration is:\n",
      "[4]\ttraining's binary_logloss: 0.00730141\tvalid_1's binary_logloss: 0.00792679\n"
     ]
    },
    {
     "name": "stderr",
     "output_type": "stream",
     "text": [
      "================================= fold 4/4 nitric_oxide_synthase_inhibitor=================================\n"
     ]
    },
    {
     "name": "stdout",
     "output_type": "stream",
     "text": [
      "Training until validation scores don't improve for 50 rounds\n"
     ]
    },
    {
     "name": "stderr",
     "output_type": "stream",
     "text": [
      "nitric_oxide_synthase_inhibitor logloss: 0.008511787636319957\n",
      "=========================================================================================\n"
     ]
    },
    {
     "name": "stdout",
     "output_type": "stream",
     "text": [
      "Early stopping, best iteration is:\n",
      "[8]\ttraining's binary_logloss: 0.0062429\tvalid_1's binary_logloss: 0.00796593\n"
     ]
    },
    {
     "name": "stderr",
     "output_type": "stream",
     "text": [
      "================================= fold 1/4 norepinephrine_reuptake_inhibitor=================================\n"
     ]
    },
    {
     "name": "stdout",
     "output_type": "stream",
     "text": [
      "Training until validation scores don't improve for 50 rounds\n",
      "Early stopping, best iteration is:\n",
      "[1]\ttraining's binary_logloss: 0.00252293\tvalid_1's binary_logloss: 0.00302888\n"
     ]
    },
    {
     "name": "stderr",
     "output_type": "stream",
     "text": [
      "================================= fold 2/4 norepinephrine_reuptake_inhibitor=================================\n"
     ]
    },
    {
     "name": "stdout",
     "output_type": "stream",
     "text": [
      "Training until validation scores don't improve for 50 rounds\n",
      "Early stopping, best iteration is:\n",
      "[1]\ttraining's binary_logloss: 0.00248049\tvalid_1's binary_logloss: 0.00302873\n"
     ]
    },
    {
     "name": "stderr",
     "output_type": "stream",
     "text": [
      "================================= fold 3/4 norepinephrine_reuptake_inhibitor=================================\n"
     ]
    },
    {
     "name": "stdout",
     "output_type": "stream",
     "text": [
      "Training until validation scores don't improve for 50 rounds\n",
      "[100]\ttraining's binary_logloss: 0.000400626\tvalid_1's binary_logloss: 0.00164138\n",
      "Early stopping, best iteration is:\n",
      "[87]\ttraining's binary_logloss: 0.000465216\tvalid_1's binary_logloss: 0.00163902\n"
     ]
    },
    {
     "name": "stderr",
     "output_type": "stream",
     "text": [
      "================================= fold 4/4 norepinephrine_reuptake_inhibitor=================================\n"
     ]
    },
    {
     "name": "stdout",
     "output_type": "stream",
     "text": [
      "Training until validation scores don't improve for 50 rounds\n"
     ]
    },
    {
     "name": "stderr",
     "output_type": "stream",
     "text": [
      "norepinephrine_reuptake_inhibitor logloss: 0.0026814907302782085\n",
      "=========================================================================================\n"
     ]
    },
    {
     "name": "stdout",
     "output_type": "stream",
     "text": [
      "Early stopping, best iteration is:\n",
      "[1]\ttraining's binary_logloss: 0.00252273\tvalid_1's binary_logloss: 0.00302922\n"
     ]
    },
    {
     "name": "stderr",
     "output_type": "stream",
     "text": [
      "================================= fold 1/4 nrf2_activator=================================\n"
     ]
    },
    {
     "name": "stdout",
     "output_type": "stream",
     "text": [
      "Training until validation scores don't improve for 50 rounds\n",
      "[100]\ttraining's binary_logloss: 0.0007739\tvalid_1's binary_logloss: 0.0048962\n",
      "[200]\ttraining's binary_logloss: 0.000306808\tvalid_1's binary_logloss: 0.00464067\n",
      "[300]\ttraining's binary_logloss: 0.000149256\tvalid_1's binary_logloss: 0.00456142\n",
      "Early stopping, best iteration is:\n",
      "[307]\ttraining's binary_logloss: 0.000142806\tvalid_1's binary_logloss: 0.00455556\n"
     ]
    },
    {
     "name": "stderr",
     "output_type": "stream",
     "text": [
      "================================= fold 2/4 nrf2_activator=================================\n"
     ]
    },
    {
     "name": "stdout",
     "output_type": "stream",
     "text": [
      "Training until validation scores don't improve for 50 rounds\n",
      "Early stopping, best iteration is:\n",
      "[45]\ttraining's binary_logloss: 0.00162586\tvalid_1's binary_logloss: 0.00590455\n"
     ]
    },
    {
     "name": "stderr",
     "output_type": "stream",
     "text": [
      "================================= fold 3/4 nrf2_activator=================================\n"
     ]
    },
    {
     "name": "stdout",
     "output_type": "stream",
     "text": [
      "Training until validation scores don't improve for 50 rounds\n",
      "[100]\ttraining's binary_logloss: 0.00084244\tvalid_1's binary_logloss: 0.00354291\n",
      "[200]\ttraining's binary_logloss: 0.000339858\tvalid_1's binary_logloss: 0.00328846\n",
      "Early stopping, best iteration is:\n",
      "[248]\ttraining's binary_logloss: 0.000236803\tvalid_1's binary_logloss: 0.00325878\n"
     ]
    },
    {
     "name": "stderr",
     "output_type": "stream",
     "text": [
      "================================= fold 4/4 nrf2_activator=================================\n"
     ]
    },
    {
     "name": "stdout",
     "output_type": "stream",
     "text": [
      "Training until validation scores don't improve for 50 rounds\n",
      "[100]\ttraining's binary_logloss: 0.000841112\tvalid_1's binary_logloss: 0.00456122\n"
     ]
    },
    {
     "name": "stderr",
     "output_type": "stream",
     "text": [
      "nrf2_activator logloss: 0.004565517537372293\n",
      "=========================================================================================\n"
     ]
    },
    {
     "name": "stdout",
     "output_type": "stream",
     "text": [
      "Early stopping, best iteration is:\n",
      "[119]\ttraining's binary_logloss: 0.00068865\tvalid_1's binary_logloss: 0.00454296\n"
     ]
    },
    {
     "name": "stderr",
     "output_type": "stream",
     "text": [
      "================================= fold 1/4 opioid_receptor_agonist=================================\n"
     ]
    },
    {
     "name": "stdout",
     "output_type": "stream",
     "text": [
      "Training until validation scores don't improve for 50 rounds\n",
      "[100]\ttraining's binary_logloss: 0.0037719\tvalid_1's binary_logloss: 0.0173286\n",
      "Early stopping, best iteration is:\n",
      "[67]\ttraining's binary_logloss: 0.00517996\tvalid_1's binary_logloss: 0.0172779\n"
     ]
    },
    {
     "name": "stderr",
     "output_type": "stream",
     "text": [
      "================================= fold 2/4 opioid_receptor_agonist=================================\n"
     ]
    },
    {
     "name": "stdout",
     "output_type": "stream",
     "text": [
      "Training until validation scores don't improve for 50 rounds\n",
      "Early stopping, best iteration is:\n",
      "[1]\ttraining's binary_logloss: 0.0172794\tvalid_1's binary_logloss: 0.0186064\n"
     ]
    },
    {
     "name": "stderr",
     "output_type": "stream",
     "text": [
      "================================= fold 3/4 opioid_receptor_agonist=================================\n"
     ]
    },
    {
     "name": "stdout",
     "output_type": "stream",
     "text": [
      "Training until validation scores don't improve for 50 rounds\n",
      "Early stopping, best iteration is:\n",
      "[47]\ttraining's binary_logloss: 0.006575\tvalid_1's binary_logloss: 0.0173737\n"
     ]
    },
    {
     "name": "stderr",
     "output_type": "stream",
     "text": [
      "================================= fold 4/4 opioid_receptor_agonist=================================\n"
     ]
    },
    {
     "name": "stdout",
     "output_type": "stream",
     "text": [
      "Training until validation scores don't improve for 50 rounds\n"
     ]
    },
    {
     "name": "stderr",
     "output_type": "stream",
     "text": [
      "opioid_receptor_agonist logloss: 0.017703549372769956\n",
      "=========================================================================================\n"
     ]
    },
    {
     "name": "stdout",
     "output_type": "stream",
     "text": [
      "Early stopping, best iteration is:\n",
      "[9]\ttraining's binary_logloss: 0.0140877\tvalid_1's binary_logloss: 0.0175561\n"
     ]
    },
    {
     "name": "stderr",
     "output_type": "stream",
     "text": [
      "================================= fold 1/4 opioid_receptor_antagonist=================================\n"
     ]
    },
    {
     "name": "stdout",
     "output_type": "stream",
     "text": [
      "Training until validation scores don't improve for 50 rounds\n",
      "Early stopping, best iteration is:\n",
      "[2]\ttraining's binary_logloss: 0.0249454\tvalid_1's binary_logloss: 0.0262404\n"
     ]
    },
    {
     "name": "stderr",
     "output_type": "stream",
     "text": [
      "================================= fold 2/4 opioid_receptor_antagonist=================================\n"
     ]
    },
    {
     "name": "stdout",
     "output_type": "stream",
     "text": [
      "Training until validation scores don't improve for 50 rounds\n",
      "Early stopping, best iteration is:\n",
      "[1]\ttraining's binary_logloss: 0.0258559\tvalid_1's binary_logloss: 0.0262365\n"
     ]
    },
    {
     "name": "stderr",
     "output_type": "stream",
     "text": [
      "================================= fold 3/4 opioid_receptor_antagonist=================================\n"
     ]
    },
    {
     "name": "stdout",
     "output_type": "stream",
     "text": [
      "Training until validation scores don't improve for 50 rounds\n",
      "[100]\ttraining's binary_logloss: 0.00603931\tvalid_1's binary_logloss: 0.0263324\n",
      "Early stopping, best iteration is:\n",
      "[52]\ttraining's binary_logloss: 0.0100471\tvalid_1's binary_logloss: 0.0260861\n"
     ]
    },
    {
     "name": "stderr",
     "output_type": "stream",
     "text": [
      "================================= fold 4/4 opioid_receptor_antagonist=================================\n"
     ]
    },
    {
     "name": "stdout",
     "output_type": "stream",
     "text": [
      "Training until validation scores don't improve for 50 rounds\n"
     ]
    },
    {
     "name": "stderr",
     "output_type": "stream",
     "text": [
      "opioid_receptor_antagonist logloss: 0.026191512156341818\n",
      "=========================================================================================\n"
     ]
    },
    {
     "name": "stdout",
     "output_type": "stream",
     "text": [
      "Early stopping, best iteration is:\n",
      "[10]\ttraining's binary_logloss: 0.0216995\tvalid_1's binary_logloss: 0.026203\n"
     ]
    },
    {
     "name": "stderr",
     "output_type": "stream",
     "text": [
      "================================= fold 1/4 orexin_receptor_antagonist=================================\n"
     ]
    },
    {
     "name": "stdout",
     "output_type": "stream",
     "text": [
      "Training until validation scores don't improve for 50 rounds\n",
      "[100]\ttraining's binary_logloss: 0.00207938\tvalid_1's binary_logloss: 0.0113328\n",
      "Early stopping, best iteration is:\n",
      "[58]\ttraining's binary_logloss: 0.00321731\tvalid_1's binary_logloss: 0.01128\n"
     ]
    },
    {
     "name": "stderr",
     "output_type": "stream",
     "text": [
      "================================= fold 2/4 orexin_receptor_antagonist=================================\n"
     ]
    },
    {
     "name": "stdout",
     "output_type": "stream",
     "text": [
      "Training until validation scores don't improve for 50 rounds\n",
      "Early stopping, best iteration is:\n",
      "[1]\ttraining's binary_logloss: 0.0108429\tvalid_1's binary_logloss: 0.0124238\n"
     ]
    },
    {
     "name": "stderr",
     "output_type": "stream",
     "text": [
      "================================= fold 3/4 orexin_receptor_antagonist=================================\n"
     ]
    },
    {
     "name": "stdout",
     "output_type": "stream",
     "text": [
      "Training until validation scores don't improve for 50 rounds\n",
      "Early stopping, best iteration is:\n",
      "[1]\ttraining's binary_logloss: 0.0111219\tvalid_1's binary_logloss: 0.011336\n"
     ]
    },
    {
     "name": "stderr",
     "output_type": "stream",
     "text": [
      "================================= fold 4/4 orexin_receptor_antagonist=================================\n"
     ]
    },
    {
     "name": "stdout",
     "output_type": "stream",
     "text": [
      "Training until validation scores don't improve for 50 rounds\n"
     ]
    },
    {
     "name": "stderr",
     "output_type": "stream",
     "text": [
      "orexin_receptor_antagonist logloss: 0.01157538934292843\n",
      "=========================================================================================\n"
     ]
    },
    {
     "name": "stdout",
     "output_type": "stream",
     "text": [
      "Early stopping, best iteration is:\n",
      "[16]\ttraining's binary_logloss: 0.00668377\tvalid_1's binary_logloss: 0.0112617\n"
     ]
    },
    {
     "name": "stderr",
     "output_type": "stream",
     "text": [
      "================================= fold 1/4 p38_mapk_inhibitor=================================\n"
     ]
    },
    {
     "name": "stdout",
     "output_type": "stream",
     "text": [
      "Training until validation scores don't improve for 50 rounds\n",
      "[100]\ttraining's binary_logloss: 0.00273741\tvalid_1's binary_logloss: 0.013697\n",
      "Early stopping, best iteration is:\n",
      "[128]\ttraining's binary_logloss: 0.00204637\tvalid_1's binary_logloss: 0.0135797\n"
     ]
    },
    {
     "name": "stderr",
     "output_type": "stream",
     "text": [
      "================================= fold 2/4 p38_mapk_inhibitor=================================\n"
     ]
    },
    {
     "name": "stdout",
     "output_type": "stream",
     "text": [
      "Training until validation scores don't improve for 50 rounds\n",
      "[100]\ttraining's binary_logloss: 0.00269141\tvalid_1's binary_logloss: 0.0134996\n",
      "[200]\ttraining's binary_logloss: 0.0010404\tvalid_1's binary_logloss: 0.0132281\n",
      "Early stopping, best iteration is:\n",
      "[194]\ttraining's binary_logloss: 0.00109252\tvalid_1's binary_logloss: 0.0132103\n"
     ]
    },
    {
     "name": "stderr",
     "output_type": "stream",
     "text": [
      "================================= fold 3/4 p38_mapk_inhibitor=================================\n"
     ]
    },
    {
     "name": "stdout",
     "output_type": "stream",
     "text": [
      "Training until validation scores don't improve for 50 rounds\n",
      "[100]\ttraining's binary_logloss: 0.00285649\tvalid_1's binary_logloss: 0.012059\n",
      "[200]\ttraining's binary_logloss: 0.00110669\tvalid_1's binary_logloss: 0.011961\n",
      "Early stopping, best iteration is:\n",
      "[157]\ttraining's binary_logloss: 0.00161959\tvalid_1's binary_logloss: 0.0118339\n"
     ]
    },
    {
     "name": "stderr",
     "output_type": "stream",
     "text": [
      "================================= fold 4/4 p38_mapk_inhibitor=================================\n"
     ]
    },
    {
     "name": "stdout",
     "output_type": "stream",
     "text": [
      "Training until validation scores don't improve for 50 rounds\n",
      "[100]\ttraining's binary_logloss: 0.00280386\tvalid_1's binary_logloss: 0.0131024\n",
      "[200]\ttraining's binary_logloss: 0.00108135\tvalid_1's binary_logloss: 0.0127243\n",
      "Early stopping, best iteration is:\n",
      "[192]\ttraining's binary_logloss: 0.00115848\tvalid_1's binary_logloss: 0.0127202\n"
     ]
    },
    {
     "name": "stderr",
     "output_type": "stream",
     "text": [
      "p38_mapk_inhibitor logloss: 0.012836069323305652\n",
      "=========================================================================================\n",
      "================================= fold 1/4 p-glycoprotein_inhibitor=================================\n"
     ]
    },
    {
     "name": "stdout",
     "output_type": "stream",
     "text": [
      "Training until validation scores don't improve for 50 rounds\n",
      "Early stopping, best iteration is:\n",
      "[14]\ttraining's binary_logloss: 0.00484921\tvalid_1's binary_logloss: 0.0079215\n"
     ]
    },
    {
     "name": "stderr",
     "output_type": "stream",
     "text": [
      "================================= fold 2/4 p-glycoprotein_inhibitor=================================\n"
     ]
    },
    {
     "name": "stdout",
     "output_type": "stream",
     "text": [
      "Training until validation scores don't improve for 50 rounds\n",
      "Early stopping, best iteration is:\n",
      "[1]\ttraining's binary_logloss: 0.00766304\tvalid_1's binary_logloss: 0.00796198\n"
     ]
    },
    {
     "name": "stderr",
     "output_type": "stream",
     "text": [
      "================================= fold 3/4 p-glycoprotein_inhibitor=================================\n"
     ]
    },
    {
     "name": "stdout",
     "output_type": "stream",
     "text": [
      "Training until validation scores don't improve for 50 rounds\n",
      "Early stopping, best iteration is:\n",
      "[9]\ttraining's binary_logloss: 0.00575863\tvalid_1's binary_logloss: 0.00794817\n"
     ]
    },
    {
     "name": "stderr",
     "output_type": "stream",
     "text": [
      "================================= fold 4/4 p-glycoprotein_inhibitor=================================\n"
     ]
    },
    {
     "name": "stdout",
     "output_type": "stream",
     "text": [
      "Training until validation scores don't improve for 50 rounds\n"
     ]
    },
    {
     "name": "stderr",
     "output_type": "stream",
     "text": [
      "p-glycoprotein_inhibitor logloss: 0.00794303647882658\n",
      "=========================================================================================\n"
     ]
    },
    {
     "name": "stdout",
     "output_type": "stream",
     "text": [
      "Early stopping, best iteration is:\n",
      "[3]\ttraining's binary_logloss: 0.00697458\tvalid_1's binary_logloss: 0.00794049\n"
     ]
    },
    {
     "name": "stderr",
     "output_type": "stream",
     "text": [
      "================================= fold 1/4 parp_inhibitor=================================\n"
     ]
    },
    {
     "name": "stdout",
     "output_type": "stream",
     "text": [
      "Training until validation scores don't improve for 50 rounds\n",
      "[100]\ttraining's binary_logloss: 0.00324119\tvalid_1's binary_logloss: 0.0166769\n",
      "Early stopping, best iteration is:\n",
      "[83]\ttraining's binary_logloss: 0.00382055\tvalid_1's binary_logloss: 0.0166266\n"
     ]
    },
    {
     "name": "stderr",
     "output_type": "stream",
     "text": [
      "================================= fold 2/4 parp_inhibitor=================================\n"
     ]
    },
    {
     "name": "stdout",
     "output_type": "stream",
     "text": [
      "Training until validation scores don't improve for 50 rounds\n",
      "Early stopping, best iteration is:\n",
      "[38]\ttraining's binary_logloss: 0.00645971\tvalid_1's binary_logloss: 0.0179853\n"
     ]
    },
    {
     "name": "stderr",
     "output_type": "stream",
     "text": [
      "================================= fold 3/4 parp_inhibitor=================================\n"
     ]
    },
    {
     "name": "stdout",
     "output_type": "stream",
     "text": [
      "Training until validation scores don't improve for 50 rounds\n",
      "Early stopping, best iteration is:\n",
      "[48]\ttraining's binary_logloss: 0.00577518\tvalid_1's binary_logloss: 0.0167059\n"
     ]
    },
    {
     "name": "stderr",
     "output_type": "stream",
     "text": [
      "================================= fold 4/4 parp_inhibitor=================================\n"
     ]
    },
    {
     "name": "stdout",
     "output_type": "stream",
     "text": [
      "Training until validation scores don't improve for 50 rounds\n"
     ]
    },
    {
     "name": "stderr",
     "output_type": "stream",
     "text": [
      "parp_inhibitor logloss: 0.017189589892360174\n",
      "=========================================================================================\n"
     ]
    },
    {
     "name": "stdout",
     "output_type": "stream",
     "text": [
      "Early stopping, best iteration is:\n",
      "[39]\ttraining's binary_logloss: 0.00660444\tvalid_1's binary_logloss: 0.0174406\n"
     ]
    },
    {
     "name": "stderr",
     "output_type": "stream",
     "text": [
      "================================= fold 1/4 pdgfr_inhibitor=================================\n"
     ]
    },
    {
     "name": "stdout",
     "output_type": "stream",
     "text": [
      "Training until validation scores don't improve for 50 rounds\n",
      "[100]\ttraining's binary_logloss: 0.0153756\tvalid_1's binary_logloss: 0.0282263\n",
      "[200]\ttraining's binary_logloss: 0.00654027\tvalid_1's binary_logloss: 0.0216042\n",
      "[300]\ttraining's binary_logloss: 0.00309301\tvalid_1's binary_logloss: 0.0193485\n",
      "[400]\ttraining's binary_logloss: 0.00161323\tvalid_1's binary_logloss: 0.0187211\n",
      "[500]\ttraining's binary_logloss: 0.000914114\tvalid_1's binary_logloss: 0.0185098\n",
      "Early stopping, best iteration is:\n",
      "[506]\ttraining's binary_logloss: 0.000884961\tvalid_1's binary_logloss: 0.0184868\n"
     ]
    },
    {
     "name": "stderr",
     "output_type": "stream",
     "text": [
      "================================= fold 2/4 pdgfr_inhibitor=================================\n"
     ]
    },
    {
     "name": "stdout",
     "output_type": "stream",
     "text": [
      "Training until validation scores don't improve for 50 rounds\n",
      "[100]\ttraining's binary_logloss: 0.0151247\tvalid_1's binary_logloss: 0.0302437\n",
      "[200]\ttraining's binary_logloss: 0.00645686\tvalid_1's binary_logloss: 0.0249622\n",
      "[300]\ttraining's binary_logloss: 0.00306749\tvalid_1's binary_logloss: 0.0235754\n",
      "[400]\ttraining's binary_logloss: 0.00159034\tvalid_1's binary_logloss: 0.0235759\n",
      "Early stopping, best iteration is:\n",
      "[350]\ttraining's binary_logloss: 0.0021834\tvalid_1's binary_logloss: 0.0234476\n"
     ]
    },
    {
     "name": "stderr",
     "output_type": "stream",
     "text": [
      "================================= fold 3/4 pdgfr_inhibitor=================================\n"
     ]
    },
    {
     "name": "stdout",
     "output_type": "stream",
     "text": [
      "Training until validation scores don't improve for 50 rounds\n",
      "[100]\ttraining's binary_logloss: 0.0147545\tvalid_1's binary_logloss: 0.0358041\n",
      "[200]\ttraining's binary_logloss: 0.00622315\tvalid_1's binary_logloss: 0.0318616\n",
      "[300]\ttraining's binary_logloss: 0.0029081\tvalid_1's binary_logloss: 0.0315844\n",
      "Early stopping, best iteration is:\n",
      "[262]\ttraining's binary_logloss: 0.00385592\tvalid_1's binary_logloss: 0.031446\n"
     ]
    },
    {
     "name": "stderr",
     "output_type": "stream",
     "text": [
      "================================= fold 4/4 pdgfr_inhibitor=================================\n"
     ]
    },
    {
     "name": "stdout",
     "output_type": "stream",
     "text": [
      "Training until validation scores don't improve for 50 rounds\n",
      "[100]\ttraining's binary_logloss: 0.0148995\tvalid_1's binary_logloss: 0.031558\n",
      "[200]\ttraining's binary_logloss: 0.00629357\tvalid_1's binary_logloss: 0.0264472\n",
      "[300]\ttraining's binary_logloss: 0.0029461\tvalid_1's binary_logloss: 0.0248847\n",
      "Early stopping, best iteration is:\n",
      "[337]\ttraining's binary_logloss: 0.00227061\tvalid_1's binary_logloss: 0.0247936\n"
     ]
    },
    {
     "name": "stderr",
     "output_type": "stream",
     "text": [
      "pdgfr_inhibitor logloss: 0.02454321124541943\n",
      "=========================================================================================\n",
      "================================= fold 1/4 pdk_inhibitor=================================\n"
     ]
    },
    {
     "name": "stdout",
     "output_type": "stream",
     "text": [
      "Training until validation scores don't improve for 50 rounds\n",
      "Early stopping, best iteration is:\n",
      "[1]\ttraining's binary_logloss: 0.00576436\tvalid_1's binary_logloss: 0.00679741\n"
     ]
    },
    {
     "name": "stderr",
     "output_type": "stream",
     "text": [
      "================================= fold 2/4 pdk_inhibitor=================================\n"
     ]
    },
    {
     "name": "stdout",
     "output_type": "stream",
     "text": [
      "Training until validation scores don't improve for 50 rounds\n",
      "Early stopping, best iteration is:\n",
      "[1]\ttraining's binary_logloss: 0.00582657\tvalid_1's binary_logloss: 0.00679816\n"
     ]
    },
    {
     "name": "stderr",
     "output_type": "stream",
     "text": [
      "================================= fold 3/4 pdk_inhibitor=================================\n"
     ]
    },
    {
     "name": "stdout",
     "output_type": "stream",
     "text": [
      "Training until validation scores don't improve for 50 rounds\n",
      "[100]\ttraining's binary_logloss: 0.000900697\tvalid_1's binary_logloss: 0.00555646\n",
      "Early stopping, best iteration is:\n",
      "[78]\ttraining's binary_logloss: 0.00113845\tvalid_1's binary_logloss: 0.0055494\n"
     ]
    },
    {
     "name": "stderr",
     "output_type": "stream",
     "text": [
      "================================= fold 4/4 pdk_inhibitor=================================\n"
     ]
    },
    {
     "name": "stdout",
     "output_type": "stream",
     "text": [
      "Training until validation scores don't improve for 50 rounds\n",
      "[100]\ttraining's binary_logloss: 0.000905095\tvalid_1's binary_logloss: 0.0055622\n"
     ]
    },
    {
     "name": "stderr",
     "output_type": "stream",
     "text": [
      "pdk_inhibitor logloss: 0.006169343145887018\n",
      "=========================================================================================\n"
     ]
    },
    {
     "name": "stdout",
     "output_type": "stream",
     "text": [
      "Early stopping, best iteration is:\n",
      "[70]\ttraining's binary_logloss: 0.00126425\tvalid_1's binary_logloss: 0.00553219\n"
     ]
    },
    {
     "name": "stderr",
     "output_type": "stream",
     "text": [
      "================================= fold 1/4 phosphodiesterase_inhibitor=================================\n"
     ]
    },
    {
     "name": "stdout",
     "output_type": "stream",
     "text": [
      "Training until validation scores don't improve for 50 rounds\n",
      "[100]\ttraining's binary_logloss: 0.0289424\tvalid_1's binary_logloss: 0.0598163\n",
      "[200]\ttraining's binary_logloss: 0.0179816\tvalid_1's binary_logloss: 0.0595604\n",
      "Early stopping, best iteration is:\n",
      "[164]\ttraining's binary_logloss: 0.0209876\tvalid_1's binary_logloss: 0.0594733\n"
     ]
    },
    {
     "name": "stderr",
     "output_type": "stream",
     "text": [
      "================================= fold 2/4 phosphodiesterase_inhibitor=================================\n"
     ]
    },
    {
     "name": "stdout",
     "output_type": "stream",
     "text": [
      "Training until validation scores don't improve for 50 rounds\n",
      "[100]\ttraining's binary_logloss: 0.0287347\tvalid_1's binary_logloss: 0.0596646\n",
      "[200]\ttraining's binary_logloss: 0.0175262\tvalid_1's binary_logloss: 0.0594124\n",
      "Early stopping, best iteration is:\n",
      "[161]\ttraining's binary_logloss: 0.0210009\tvalid_1's binary_logloss: 0.0593218\n"
     ]
    },
    {
     "name": "stderr",
     "output_type": "stream",
     "text": [
      "================================= fold 3/4 phosphodiesterase_inhibitor=================================\n"
     ]
    },
    {
     "name": "stdout",
     "output_type": "stream",
     "text": [
      "Training until validation scores don't improve for 50 rounds\n",
      "[100]\ttraining's binary_logloss: 0.0283904\tvalid_1's binary_logloss: 0.0596464\n",
      "[200]\ttraining's binary_logloss: 0.0178143\tvalid_1's binary_logloss: 0.0596212\n",
      "Early stopping, best iteration is:\n",
      "[157]\ttraining's binary_logloss: 0.0216565\tvalid_1's binary_logloss: 0.0593999\n"
     ]
    },
    {
     "name": "stderr",
     "output_type": "stream",
     "text": [
      "================================= fold 4/4 phosphodiesterase_inhibitor=================================\n"
     ]
    },
    {
     "name": "stdout",
     "output_type": "stream",
     "text": [
      "Training until validation scores don't improve for 50 rounds\n",
      "[100]\ttraining's binary_logloss: 0.0300712\tvalid_1's binary_logloss: 0.0592841\n",
      "[200]\ttraining's binary_logloss: 0.018658\tvalid_1's binary_logloss: 0.0589301\n",
      "Early stopping, best iteration is:\n",
      "[184]\ttraining's binary_logloss: 0.0201307\tvalid_1's binary_logloss: 0.0588367\n"
     ]
    },
    {
     "name": "stderr",
     "output_type": "stream",
     "text": [
      "phosphodiesterase_inhibitor logloss: 0.059257968652849706\n",
      "=========================================================================================\n",
      "================================= fold 1/4 phospholipase_inhibitor=================================\n"
     ]
    },
    {
     "name": "stdout",
     "output_type": "stream",
     "text": [
      "Training until validation scores don't improve for 50 rounds\n",
      "Early stopping, best iteration is:\n",
      "[24]\ttraining's binary_logloss: 0.00360847\tvalid_1's binary_logloss: 0.00795811\n"
     ]
    },
    {
     "name": "stderr",
     "output_type": "stream",
     "text": [
      "================================= fold 2/4 phospholipase_inhibitor=================================\n"
     ]
    },
    {
     "name": "stdout",
     "output_type": "stream",
     "text": [
      "Training until validation scores don't improve for 50 rounds\n",
      "Early stopping, best iteration is:\n",
      "[4]\ttraining's binary_logloss: 0.0066756\tvalid_1's binary_logloss: 0.00905376\n"
     ]
    },
    {
     "name": "stderr",
     "output_type": "stream",
     "text": [
      "================================= fold 3/4 phospholipase_inhibitor=================================\n"
     ]
    },
    {
     "name": "stdout",
     "output_type": "stream",
     "text": [
      "Training until validation scores don't improve for 50 rounds\n",
      "Early stopping, best iteration is:\n",
      "[1]\ttraining's binary_logloss: 0.00791932\tvalid_1's binary_logloss: 0.00796445\n"
     ]
    },
    {
     "name": "stderr",
     "output_type": "stream",
     "text": [
      "================================= fold 4/4 phospholipase_inhibitor=================================\n"
     ]
    },
    {
     "name": "stdout",
     "output_type": "stream",
     "text": [
      "Training until validation scores don't improve for 50 rounds\n"
     ]
    },
    {
     "name": "stderr",
     "output_type": "stream",
     "text": [
      "phospholipase_inhibitor logloss: 0.008235600927646202\n",
      "=========================================================================================\n"
     ]
    },
    {
     "name": "stdout",
     "output_type": "stream",
     "text": [
      "Early stopping, best iteration is:\n",
      "[1]\ttraining's binary_logloss: 0.00805222\tvalid_1's binary_logloss: 0.00796599\n"
     ]
    },
    {
     "name": "stderr",
     "output_type": "stream",
     "text": [
      "================================= fold 1/4 pi3k_inhibitor=================================\n"
     ]
    },
    {
     "name": "stdout",
     "output_type": "stream",
     "text": [
      "Training until validation scores don't improve for 50 rounds\n",
      "[100]\ttraining's binary_logloss: 0.00885897\tvalid_1's binary_logloss: 0.0307024\n",
      "[200]\ttraining's binary_logloss: 0.00384445\tvalid_1's binary_logloss: 0.0303749\n",
      "Early stopping, best iteration is:\n",
      "[174]\ttraining's binary_logloss: 0.00466822\tvalid_1's binary_logloss: 0.0302676\n"
     ]
    },
    {
     "name": "stderr",
     "output_type": "stream",
     "text": [
      "================================= fold 2/4 pi3k_inhibitor=================================\n"
     ]
    },
    {
     "name": "stdout",
     "output_type": "stream",
     "text": [
      "Training until validation scores don't improve for 50 rounds\n",
      "[100]\ttraining's binary_logloss: 0.00876138\tvalid_1's binary_logloss: 0.0311837\n",
      "Early stopping, best iteration is:\n",
      "[149]\ttraining's binary_logloss: 0.00557313\tvalid_1's binary_logloss: 0.0310672\n"
     ]
    },
    {
     "name": "stderr",
     "output_type": "stream",
     "text": [
      "================================= fold 3/4 pi3k_inhibitor=================================\n"
     ]
    },
    {
     "name": "stdout",
     "output_type": "stream",
     "text": [
      "Training until validation scores don't improve for 50 rounds\n",
      "[100]\ttraining's binary_logloss: 0.00960443\tvalid_1's binary_logloss: 0.0263757\n",
      "[200]\ttraining's binary_logloss: 0.00431252\tvalid_1's binary_logloss: 0.0252645\n",
      "Early stopping, best iteration is:\n",
      "[232]\ttraining's binary_logloss: 0.0035477\tvalid_1's binary_logloss: 0.0251801\n"
     ]
    },
    {
     "name": "stderr",
     "output_type": "stream",
     "text": [
      "================================= fold 4/4 pi3k_inhibitor=================================\n"
     ]
    },
    {
     "name": "stdout",
     "output_type": "stream",
     "text": [
      "Training until validation scores don't improve for 50 rounds\n",
      "[100]\ttraining's binary_logloss: 0.00871176\tvalid_1's binary_logloss: 0.033871\n",
      "Early stopping, best iteration is:\n",
      "[103]\ttraining's binary_logloss: 0.00845889\tvalid_1's binary_logloss: 0.0338265\n"
     ]
    },
    {
     "name": "stderr",
     "output_type": "stream",
     "text": [
      "pi3k_inhibitor logloss: 0.030085389119752594\n",
      "=========================================================================================\n",
      "================================= fold 1/4 pkc_inhibitor=================================\n"
     ]
    },
    {
     "name": "stdout",
     "output_type": "stream",
     "text": [
      "Training until validation scores don't improve for 50 rounds\n",
      "Early stopping, best iteration is:\n",
      "[38]\ttraining's binary_logloss: 0.00321697\tvalid_1's binary_logloss: 0.00967628\n"
     ]
    },
    {
     "name": "stderr",
     "output_type": "stream",
     "text": [
      "================================= fold 2/4 pkc_inhibitor=================================\n"
     ]
    },
    {
     "name": "stdout",
     "output_type": "stream",
     "text": [
      "Training until validation scores don't improve for 50 rounds\n",
      "Early stopping, best iteration is:\n",
      "[49]\ttraining's binary_logloss: 0.00269641\tvalid_1's binary_logloss: 0.00975827\n"
     ]
    },
    {
     "name": "stderr",
     "output_type": "stream",
     "text": [
      "================================= fold 3/4 pkc_inhibitor=================================\n"
     ]
    },
    {
     "name": "stdout",
     "output_type": "stream",
     "text": [
      "Training until validation scores don't improve for 50 rounds\n",
      "Early stopping, best iteration is:\n",
      "[33]\ttraining's binary_logloss: 0.00410131\tvalid_1's binary_logloss: 0.00892651\n"
     ]
    },
    {
     "name": "stderr",
     "output_type": "stream",
     "text": [
      "================================= fold 4/4 pkc_inhibitor=================================\n"
     ]
    },
    {
     "name": "stdout",
     "output_type": "stream",
     "text": [
      "Training until validation scores don't improve for 50 rounds\n"
     ]
    },
    {
     "name": "stderr",
     "output_type": "stream",
     "text": [
      "pkc_inhibitor logloss: 0.00957345670726866\n",
      "=========================================================================================\n"
     ]
    },
    {
     "name": "stdout",
     "output_type": "stream",
     "text": [
      "Early stopping, best iteration is:\n",
      "[27]\ttraining's binary_logloss: 0.00458177\tvalid_1's binary_logloss: 0.00993272\n"
     ]
    },
    {
     "name": "stderr",
     "output_type": "stream",
     "text": [
      "================================= fold 1/4 potassium_channel_activator=================================\n"
     ]
    },
    {
     "name": "stdout",
     "output_type": "stream",
     "text": [
      "Training until validation scores don't improve for 50 rounds\n",
      "Early stopping, best iteration is:\n",
      "[6]\ttraining's binary_logloss: 0.013589\tvalid_1's binary_logloss: 0.0165278\n"
     ]
    },
    {
     "name": "stderr",
     "output_type": "stream",
     "text": [
      "================================= fold 2/4 potassium_channel_activator=================================\n"
     ]
    },
    {
     "name": "stdout",
     "output_type": "stream",
     "text": [
      "Training until validation scores don't improve for 50 rounds\n",
      "Early stopping, best iteration is:\n",
      "[19]\ttraining's binary_logloss: 0.00903641\tvalid_1's binary_logloss: 0.0164072\n"
     ]
    },
    {
     "name": "stderr",
     "output_type": "stream",
     "text": [
      "================================= fold 3/4 potassium_channel_activator=================================\n"
     ]
    },
    {
     "name": "stdout",
     "output_type": "stream",
     "text": [
      "Training until validation scores don't improve for 50 rounds\n",
      "Early stopping, best iteration is:\n",
      "[30]\ttraining's binary_logloss: 0.00688027\tvalid_1's binary_logloss: 0.0154396\n"
     ]
    },
    {
     "name": "stderr",
     "output_type": "stream",
     "text": [
      "================================= fold 4/4 potassium_channel_activator=================================\n"
     ]
    },
    {
     "name": "stdout",
     "output_type": "stream",
     "text": [
      "Training until validation scores don't improve for 50 rounds\n"
     ]
    },
    {
     "name": "stderr",
     "output_type": "stream",
     "text": [
      "potassium_channel_activator logloss: 0.016241766411452696\n",
      "=========================================================================================\n"
     ]
    },
    {
     "name": "stdout",
     "output_type": "stream",
     "text": [
      "Early stopping, best iteration is:\n",
      "[1]\ttraining's binary_logloss: 0.0158108\tvalid_1's binary_logloss: 0.0165925\n"
     ]
    },
    {
     "name": "stderr",
     "output_type": "stream",
     "text": [
      "================================= fold 1/4 potassium_channel_antagonist=================================\n"
     ]
    },
    {
     "name": "stdout",
     "output_type": "stream",
     "text": [
      "Training until validation scores don't improve for 50 rounds\n",
      "[100]\ttraining's binary_logloss: 0.00598074\tvalid_1's binary_logloss: 0.0273336\n",
      "Early stopping, best iteration is:\n",
      "[54]\ttraining's binary_logloss: 0.00928377\tvalid_1's binary_logloss: 0.0270868\n"
     ]
    },
    {
     "name": "stderr",
     "output_type": "stream",
     "text": [
      "================================= fold 2/4 potassium_channel_antagonist=================================\n"
     ]
    },
    {
     "name": "stdout",
     "output_type": "stream",
     "text": [
      "Training until validation scores don't improve for 50 rounds\n",
      "Early stopping, best iteration is:\n",
      "[47]\ttraining's binary_logloss: 0.0106472\tvalid_1's binary_logloss: 0.0270715\n"
     ]
    },
    {
     "name": "stderr",
     "output_type": "stream",
     "text": [
      "================================= fold 3/4 potassium_channel_antagonist=================================\n"
     ]
    },
    {
     "name": "stdout",
     "output_type": "stream",
     "text": [
      "Training until validation scores don't improve for 50 rounds\n",
      "[100]\ttraining's binary_logloss: 0.00671137\tvalid_1's binary_logloss: 0.0258071\n",
      "Early stopping, best iteration is:\n",
      "[81]\ttraining's binary_logloss: 0.00787503\tvalid_1's binary_logloss: 0.0257678\n"
     ]
    },
    {
     "name": "stderr",
     "output_type": "stream",
     "text": [
      "================================= fold 4/4 potassium_channel_antagonist=================================\n"
     ]
    },
    {
     "name": "stdout",
     "output_type": "stream",
     "text": [
      "Training until validation scores don't improve for 50 rounds\n",
      "[100]\ttraining's binary_logloss: 0.0066842\tvalid_1's binary_logloss: 0.0262591\n"
     ]
    },
    {
     "name": "stderr",
     "output_type": "stream",
     "text": [
      "potassium_channel_antagonist logloss: 0.026520107268086998\n",
      "=========================================================================================\n"
     ]
    },
    {
     "name": "stdout",
     "output_type": "stream",
     "text": [
      "Early stopping, best iteration is:\n",
      "[76]\ttraining's binary_logloss: 0.00817234\tvalid_1's binary_logloss: 0.0261541\n"
     ]
    },
    {
     "name": "stderr",
     "output_type": "stream",
     "text": [
      "================================= fold 1/4 ppar_receptor_agonist=================================\n"
     ]
    },
    {
     "name": "stdout",
     "output_type": "stream",
     "text": [
      "Training until validation scores don't improve for 50 rounds\n",
      "[100]\ttraining's binary_logloss: 0.00682712\tvalid_1's binary_logloss: 0.0261725\n",
      "Early stopping, best iteration is:\n",
      "[101]\ttraining's binary_logloss: 0.00675469\tvalid_1's binary_logloss: 0.0261668\n"
     ]
    },
    {
     "name": "stderr",
     "output_type": "stream",
     "text": [
      "================================= fold 2/4 ppar_receptor_agonist=================================\n"
     ]
    },
    {
     "name": "stdout",
     "output_type": "stream",
     "text": [
      "Training until validation scores don't improve for 50 rounds\n",
      "[100]\ttraining's binary_logloss: 0.00661919\tvalid_1's binary_logloss: 0.0281853\n",
      "Early stopping, best iteration is:\n",
      "[106]\ttraining's binary_logloss: 0.00621157\tvalid_1's binary_logloss: 0.0281544\n"
     ]
    },
    {
     "name": "stderr",
     "output_type": "stream",
     "text": [
      "================================= fold 3/4 ppar_receptor_agonist=================================\n"
     ]
    },
    {
     "name": "stdout",
     "output_type": "stream",
     "text": [
      "Training until validation scores don't improve for 50 rounds\n",
      "[100]\ttraining's binary_logloss: 0.00672957\tvalid_1's binary_logloss: 0.0237387\n",
      "Early stopping, best iteration is:\n",
      "[137]\ttraining's binary_logloss: 0.00477772\tvalid_1's binary_logloss: 0.0236496\n"
     ]
    },
    {
     "name": "stderr",
     "output_type": "stream",
     "text": [
      "================================= fold 4/4 ppar_receptor_agonist=================================\n"
     ]
    },
    {
     "name": "stdout",
     "output_type": "stream",
     "text": [
      "Training until validation scores don't improve for 50 rounds\n",
      "[100]\ttraining's binary_logloss: 0.00688427\tvalid_1's binary_logloss: 0.0269928\n",
      "Early stopping, best iteration is:\n",
      "[101]\ttraining's binary_logloss: 0.00681135\tvalid_1's binary_logloss: 0.0269779\n"
     ]
    },
    {
     "name": "stderr",
     "output_type": "stream",
     "text": [
      "ppar_receptor_agonist logloss: 0.02623727248390816\n",
      "=========================================================================================\n",
      "================================= fold 1/4 ppar_receptor_antagonist=================================\n"
     ]
    },
    {
     "name": "stdout",
     "output_type": "stream",
     "text": [
      "Training until validation scores don't improve for 50 rounds\n",
      "Early stopping, best iteration is:\n",
      "[19]\ttraining's binary_logloss: 0.00463054\tvalid_1's binary_logloss: 0.00967007\n"
     ]
    },
    {
     "name": "stderr",
     "output_type": "stream",
     "text": [
      "================================= fold 2/4 ppar_receptor_antagonist=================================\n"
     ]
    },
    {
     "name": "stdout",
     "output_type": "stream",
     "text": [
      "Training until validation scores don't improve for 50 rounds\n",
      "Early stopping, best iteration is:\n",
      "[1]\ttraining's binary_logloss: 0.0092229\tvalid_1's binary_logloss: 0.0102364\n"
     ]
    },
    {
     "name": "stderr",
     "output_type": "stream",
     "text": [
      "================================= fold 3/4 ppar_receptor_antagonist=================================\n"
     ]
    },
    {
     "name": "stdout",
     "output_type": "stream",
     "text": [
      "Training until validation scores don't improve for 50 rounds\n",
      "Early stopping, best iteration is:\n",
      "[28]\ttraining's binary_logloss: 0.00410129\tvalid_1's binary_logloss: 0.00883646\n"
     ]
    },
    {
     "name": "stderr",
     "output_type": "stream",
     "text": [
      "================================= fold 4/4 ppar_receptor_antagonist=================================\n"
     ]
    },
    {
     "name": "stdout",
     "output_type": "stream",
     "text": [
      "Training until validation scores don't improve for 50 rounds\n"
     ]
    },
    {
     "name": "stderr",
     "output_type": "stream",
     "text": [
      "ppar_receptor_antagonist logloss: 0.009445751690368329\n",
      "=========================================================================================\n"
     ]
    },
    {
     "name": "stdout",
     "output_type": "stream",
     "text": [
      "Early stopping, best iteration is:\n",
      "[2]\ttraining's binary_logloss: 0.00920878\tvalid_1's binary_logloss: 0.00903988\n"
     ]
    },
    {
     "name": "stderr",
     "output_type": "stream",
     "text": [
      "================================= fold 1/4 progesterone_receptor_agonist=================================\n"
     ]
    },
    {
     "name": "stdout",
     "output_type": "stream",
     "text": [
      "Training until validation scores don't improve for 50 rounds\n",
      "[100]\ttraining's binary_logloss: 0.00793743\tvalid_1's binary_logloss: 0.0306115\n",
      "Early stopping, best iteration is:\n",
      "[87]\ttraining's binary_logloss: 0.00876389\tvalid_1's binary_logloss: 0.0305709\n"
     ]
    },
    {
     "name": "stderr",
     "output_type": "stream",
     "text": [
      "================================= fold 2/4 progesterone_receptor_agonist=================================\n"
     ]
    },
    {
     "name": "stdout",
     "output_type": "stream",
     "text": [
      "Training until validation scores don't improve for 50 rounds\n",
      "[100]\ttraining's binary_logloss: 0.0078394\tvalid_1's binary_logloss: 0.0301743\n",
      "Early stopping, best iteration is:\n",
      "[93]\ttraining's binary_logloss: 0.00828818\tvalid_1's binary_logloss: 0.0301545\n"
     ]
    },
    {
     "name": "stderr",
     "output_type": "stream",
     "text": [
      "================================= fold 3/4 progesterone_receptor_agonist=================================\n"
     ]
    },
    {
     "name": "stdout",
     "output_type": "stream",
     "text": [
      "Training until validation scores don't improve for 50 rounds\n",
      "[100]\ttraining's binary_logloss: 0.0076428\tvalid_1's binary_logloss: 0.0292429\n",
      "Early stopping, best iteration is:\n",
      "[133]\ttraining's binary_logloss: 0.0058458\tvalid_1's binary_logloss: 0.0290693\n"
     ]
    },
    {
     "name": "stderr",
     "output_type": "stream",
     "text": [
      "================================= fold 4/4 progesterone_receptor_agonist=================================\n"
     ]
    },
    {
     "name": "stdout",
     "output_type": "stream",
     "text": [
      "Training until validation scores don't improve for 50 rounds\n",
      "[100]\ttraining's binary_logloss: 0.00721162\tvalid_1's binary_logloss: 0.0313057\n"
     ]
    },
    {
     "name": "stderr",
     "output_type": "stream",
     "text": [
      "progesterone_receptor_agonist logloss: 0.030238625247509626\n",
      "=========================================================================================\n"
     ]
    },
    {
     "name": "stdout",
     "output_type": "stream",
     "text": [
      "Early stopping, best iteration is:\n",
      "[70]\ttraining's binary_logloss: 0.00966664\tvalid_1's binary_logloss: 0.0311598\n"
     ]
    },
    {
     "name": "stderr",
     "output_type": "stream",
     "text": [
      "================================= fold 1/4 progesterone_receptor_antagonist=================================\n"
     ]
    },
    {
     "name": "stdout",
     "output_type": "stream",
     "text": [
      "Training until validation scores don't improve for 50 rounds\n",
      "Early stopping, best iteration is:\n",
      "[8]\ttraining's binary_logloss: 0.00408096\tvalid_1's binary_logloss: 0.00673171\n"
     ]
    },
    {
     "name": "stderr",
     "output_type": "stream",
     "text": [
      "================================= fold 2/4 progesterone_receptor_antagonist=================================\n"
     ]
    },
    {
     "name": "stdout",
     "output_type": "stream",
     "text": [
      "Training until validation scores don't improve for 50 rounds\n",
      "Early stopping, best iteration is:\n",
      "[1]\ttraining's binary_logloss: 0.00580181\tvalid_1's binary_logloss: 0.00679598\n"
     ]
    },
    {
     "name": "stderr",
     "output_type": "stream",
     "text": [
      "================================= fold 3/4 progesterone_receptor_antagonist=================================\n"
     ]
    },
    {
     "name": "stdout",
     "output_type": "stream",
     "text": [
      "Training until validation scores don't improve for 50 rounds\n",
      "[100]\ttraining's binary_logloss: 0.000876381\tvalid_1's binary_logloss: 0.00541274\n",
      "Early stopping, best iteration is:\n",
      "[97]\ttraining's binary_logloss: 0.000904554\tvalid_1's binary_logloss: 0.00540544\n"
     ]
    },
    {
     "name": "stderr",
     "output_type": "stream",
     "text": [
      "================================= fold 4/4 progesterone_receptor_antagonist=================================\n"
     ]
    },
    {
     "name": "stdout",
     "output_type": "stream",
     "text": [
      "Training until validation scores don't improve for 50 rounds\n",
      "[100]\ttraining's binary_logloss: 0.000888216\tvalid_1's binary_logloss: 0.00518139\n"
     ]
    },
    {
     "name": "stderr",
     "output_type": "stream",
     "text": [
      "progesterone_receptor_antagonist logloss: 0.006018889272936675\n",
      "=========================================================================================\n"
     ]
    },
    {
     "name": "stdout",
     "output_type": "stream",
     "text": [
      "Early stopping, best iteration is:\n",
      "[74]\ttraining's binary_logloss: 0.00119014\tvalid_1's binary_logloss: 0.00514218\n"
     ]
    },
    {
     "name": "stderr",
     "output_type": "stream",
     "text": [
      "================================= fold 1/4 prostaglandin_inhibitor=================================\n"
     ]
    },
    {
     "name": "stdout",
     "output_type": "stream",
     "text": [
      "Training until validation scores don't improve for 50 rounds\n",
      "Early stopping, best iteration is:\n",
      "[6]\ttraining's binary_logloss: 0.00913112\tvalid_1's binary_logloss: 0.0112724\n"
     ]
    },
    {
     "name": "stderr",
     "output_type": "stream",
     "text": [
      "================================= fold 2/4 prostaglandin_inhibitor=================================\n"
     ]
    },
    {
     "name": "stdout",
     "output_type": "stream",
     "text": [
      "Training until validation scores don't improve for 50 rounds\n",
      "Early stopping, best iteration is:\n",
      "[2]\ttraining's binary_logloss: 0.0104482\tvalid_1's binary_logloss: 0.0112935\n"
     ]
    },
    {
     "name": "stderr",
     "output_type": "stream",
     "text": [
      "================================= fold 3/4 prostaglandin_inhibitor=================================\n"
     ]
    },
    {
     "name": "stdout",
     "output_type": "stream",
     "text": [
      "Training until validation scores don't improve for 50 rounds\n",
      "Early stopping, best iteration is:\n",
      "[7]\ttraining's binary_logloss: 0.00885757\tvalid_1's binary_logloss: 0.0112966\n"
     ]
    },
    {
     "name": "stderr",
     "output_type": "stream",
     "text": [
      "================================= fold 4/4 prostaglandin_inhibitor=================================\n"
     ]
    },
    {
     "name": "stdout",
     "output_type": "stream",
     "text": [
      "Training until validation scores don't improve for 50 rounds\n"
     ]
    },
    {
     "name": "stderr",
     "output_type": "stream",
     "text": [
      "prostaglandin_inhibitor logloss: 0.011299114358602392\n",
      "=========================================================================================\n"
     ]
    },
    {
     "name": "stdout",
     "output_type": "stream",
     "text": [
      "Early stopping, best iteration is:\n",
      "[1]\ttraining's binary_logloss: 0.0108606\tvalid_1's binary_logloss: 0.011334\n"
     ]
    },
    {
     "name": "stderr",
     "output_type": "stream",
     "text": [
      "================================= fold 1/4 prostanoid_receptor_antagonist=================================\n"
     ]
    },
    {
     "name": "stdout",
     "output_type": "stream",
     "text": [
      "Training until validation scores don't improve for 50 rounds\n",
      "[100]\ttraining's binary_logloss: 0.005958\tvalid_1's binary_logloss: 0.0233552\n",
      "Early stopping, best iteration is:\n",
      "[58]\ttraining's binary_logloss: 0.00902114\tvalid_1's binary_logloss: 0.0232512\n"
     ]
    },
    {
     "name": "stderr",
     "output_type": "stream",
     "text": [
      "================================= fold 2/4 prostanoid_receptor_antagonist=================================\n"
     ]
    },
    {
     "name": "stdout",
     "output_type": "stream",
     "text": [
      "Training until validation scores don't improve for 50 rounds\n",
      "Early stopping, best iteration is:\n",
      "[36]\ttraining's binary_logloss: 0.0117658\tvalid_1's binary_logloss: 0.0233601\n"
     ]
    },
    {
     "name": "stderr",
     "output_type": "stream",
     "text": [
      "================================= fold 3/4 prostanoid_receptor_antagonist=================================\n"
     ]
    },
    {
     "name": "stdout",
     "output_type": "stream",
     "text": [
      "Training until validation scores don't improve for 50 rounds\n",
      "Early stopping, best iteration is:\n",
      "[6]\ttraining's binary_logloss: 0.0197931\tvalid_1's binary_logloss: 0.0234398\n"
     ]
    },
    {
     "name": "stderr",
     "output_type": "stream",
     "text": [
      "================================= fold 4/4 prostanoid_receptor_antagonist=================================\n"
     ]
    },
    {
     "name": "stdout",
     "output_type": "stream",
     "text": [
      "Training until validation scores don't improve for 50 rounds\n"
     ]
    },
    {
     "name": "stderr",
     "output_type": "stream",
     "text": [
      "prostanoid_receptor_antagonist logloss: 0.02336805019025444\n",
      "=========================================================================================\n"
     ]
    },
    {
     "name": "stdout",
     "output_type": "stream",
     "text": [
      "Early stopping, best iteration is:\n",
      "[39]\ttraining's binary_logloss: 0.00991622\tvalid_1's binary_logloss: 0.0234212\n"
     ]
    },
    {
     "name": "stderr",
     "output_type": "stream",
     "text": [
      "================================= fold 1/4 proteasome_inhibitor=================================\n"
     ]
    },
    {
     "name": "stdout",
     "output_type": "stream",
     "text": [
      "Training until validation scores don't improve for 50 rounds\n",
      "[100]\ttraining's binary_logloss: 0.0251393\tvalid_1's binary_logloss: 0.0264847\n",
      "[200]\ttraining's binary_logloss: 0.00893073\tvalid_1's binary_logloss: 0.0103408\n",
      "[300]\ttraining's binary_logloss: 0.00342886\tvalid_1's binary_logloss: 0.00467086\n",
      "[400]\ttraining's binary_logloss: 0.00138421\tvalid_1's binary_logloss: 0.00244111\n",
      "[500]\ttraining's binary_logloss: 0.000593416\tvalid_1's binary_logloss: 0.00144918\n",
      "[600]\ttraining's binary_logloss: 0.00027546\tvalid_1's binary_logloss: 0.000989645\n",
      "[700]\ttraining's binary_logloss: 0.000142923\tvalid_1's binary_logloss: 0.000765538\n",
      "[800]\ttraining's binary_logloss: 8.50743e-05\tvalid_1's binary_logloss: 0.000646089\n",
      "[900]\ttraining's binary_logloss: 5.73254e-05\tvalid_1's binary_logloss: 0.000556064\n",
      "[1000]\ttraining's binary_logloss: 4.28673e-05\tvalid_1's binary_logloss: 0.000498504\n",
      "[1100]\ttraining's binary_logloss: 3.46082e-05\tvalid_1's binary_logloss: 0.000460363\n",
      "[1200]\ttraining's binary_logloss: 2.96474e-05\tvalid_1's binary_logloss: 0.000429467\n",
      "[1300]\ttraining's binary_logloss: 2.67106e-05\tvalid_1's binary_logloss: 0.000405811\n",
      "[1400]\ttraining's binary_logloss: 2.54508e-05\tvalid_1's binary_logloss: 0.000394568\n",
      "Early stopping, best iteration is:\n",
      "[1369]\ttraining's binary_logloss: 2.54508e-05\tvalid_1's binary_logloss: 0.000394568\n"
     ]
    },
    {
     "name": "stderr",
     "output_type": "stream",
     "text": [
      "================================= fold 2/4 proteasome_inhibitor=================================\n"
     ]
    },
    {
     "name": "stdout",
     "output_type": "stream",
     "text": [
      "Training until validation scores don't improve for 50 rounds\n",
      "[100]\ttraining's binary_logloss: 0.0252086\tvalid_1's binary_logloss: 0.0271109\n",
      "[200]\ttraining's binary_logloss: 0.00890587\tvalid_1's binary_logloss: 0.0108005\n",
      "[300]\ttraining's binary_logloss: 0.00338759\tvalid_1's binary_logloss: 0.00516556\n",
      "[400]\ttraining's binary_logloss: 0.00135556\tvalid_1's binary_logloss: 0.00300204\n",
      "[500]\ttraining's binary_logloss: 0.000575035\tvalid_1's binary_logloss: 0.00217755\n",
      "[600]\ttraining's binary_logloss: 0.000263268\tvalid_1's binary_logloss: 0.00183862\n",
      "[700]\ttraining's binary_logloss: 0.000135532\tvalid_1's binary_logloss: 0.00174157\n",
      "Early stopping, best iteration is:\n",
      "[708]\ttraining's binary_logloss: 0.000129358\tvalid_1's binary_logloss: 0.00173208\n"
     ]
    },
    {
     "name": "stderr",
     "output_type": "stream",
     "text": [
      "================================= fold 3/4 proteasome_inhibitor=================================\n"
     ]
    },
    {
     "name": "stdout",
     "output_type": "stream",
     "text": [
      "Training until validation scores don't improve for 50 rounds\n",
      "[100]\ttraining's binary_logloss: 0.0252062\tvalid_1's binary_logloss: 0.0270491\n",
      "[200]\ttraining's binary_logloss: 0.00895218\tvalid_1's binary_logloss: 0.0108482\n",
      "[300]\ttraining's binary_logloss: 0.0034172\tvalid_1's binary_logloss: 0.00503906\n",
      "[400]\ttraining's binary_logloss: 0.00137495\tvalid_1's binary_logloss: 0.00280925\n",
      "[500]\ttraining's binary_logloss: 0.000586871\tvalid_1's binary_logloss: 0.00190497\n",
      "[600]\ttraining's binary_logloss: 0.000271416\tvalid_1's binary_logloss: 0.0014141\n",
      "[700]\ttraining's binary_logloss: 0.00014115\tvalid_1's binary_logloss: 0.00115239\n",
      "[800]\ttraining's binary_logloss: 8.41852e-05\tvalid_1's binary_logloss: 0.000995105\n",
      "[900]\ttraining's binary_logloss: 5.68721e-05\tvalid_1's binary_logloss: 0.000898702\n",
      "[1000]\ttraining's binary_logloss: 4.23891e-05\tvalid_1's binary_logloss: 0.000843612\n",
      "[1100]\ttraining's binary_logloss: 3.41724e-05\tvalid_1's binary_logloss: 0.000805505\n",
      "[1200]\ttraining's binary_logloss: 2.92149e-05\tvalid_1's binary_logloss: 0.000777294\n",
      "[1300]\ttraining's binary_logloss: 2.6341e-05\tvalid_1's binary_logloss: 0.000765612\n",
      "[1400]\ttraining's binary_logloss: 2.54085e-05\tvalid_1's binary_logloss: 0.000762807\n",
      "Early stopping, best iteration is:\n",
      "[1353]\ttraining's binary_logloss: 2.54085e-05\tvalid_1's binary_logloss: 0.000762807\n"
     ]
    },
    {
     "name": "stderr",
     "output_type": "stream",
     "text": [
      "================================= fold 4/4 proteasome_inhibitor=================================\n"
     ]
    },
    {
     "name": "stdout",
     "output_type": "stream",
     "text": [
      "Training until validation scores don't improve for 50 rounds\n",
      "[100]\ttraining's binary_logloss: 0.0252608\tvalid_1's binary_logloss: 0.0263103\n",
      "[200]\ttraining's binary_logloss: 0.00894773\tvalid_1's binary_logloss: 0.0102896\n",
      "[300]\ttraining's binary_logloss: 0.00341631\tvalid_1's binary_logloss: 0.00479697\n",
      "[400]\ttraining's binary_logloss: 0.00137638\tvalid_1's binary_logloss: 0.00272388\n",
      "[500]\ttraining's binary_logloss: 0.000590071\tvalid_1's binary_logloss: 0.00196201\n",
      "[600]\ttraining's binary_logloss: 0.000274894\tvalid_1's binary_logloss: 0.00165525\n",
      "[700]\ttraining's binary_logloss: 0.000143834\tvalid_1's binary_logloss: 0.00148899\n",
      "[800]\ttraining's binary_logloss: 8.59124e-05\tvalid_1's binary_logloss: 0.00140722\n",
      "[900]\ttraining's binary_logloss: 5.78967e-05\tvalid_1's binary_logloss: 0.00135516\n",
      "[1000]\ttraining's binary_logloss: 4.32635e-05\tvalid_1's binary_logloss: 0.00131696\n",
      "[1100]\ttraining's binary_logloss: 3.48164e-05\tvalid_1's binary_logloss: 0.0012908\n",
      "[1200]\ttraining's binary_logloss: 2.98759e-05\tvalid_1's binary_logloss: 0.00126102\n",
      "[1300]\ttraining's binary_logloss: 2.70133e-05\tvalid_1's binary_logloss: 0.0012439\n",
      "Early stopping, best iteration is:\n",
      "[1335]\ttraining's binary_logloss: 2.63977e-05\tvalid_1's binary_logloss: 0.00123935\n"
     ]
    },
    {
     "name": "stderr",
     "output_type": "stream",
     "text": [
      "proteasome_inhibitor logloss: 0.0010322036179395075\n",
      "=========================================================================================\n",
      "================================= fold 1/4 protein_kinase_inhibitor=================================\n"
     ]
    },
    {
     "name": "stdout",
     "output_type": "stream",
     "text": [
      "Training until validation scores don't improve for 50 rounds\n",
      "Early stopping, best iteration is:\n",
      "[29]\ttraining's binary_logloss: 0.00639178\tvalid_1's binary_logloss: 0.014044\n"
     ]
    },
    {
     "name": "stderr",
     "output_type": "stream",
     "text": [
      "================================= fold 2/4 protein_kinase_inhibitor=================================\n"
     ]
    },
    {
     "name": "stdout",
     "output_type": "stream",
     "text": [
      "Training until validation scores don't improve for 50 rounds\n",
      "Early stopping, best iteration is:\n",
      "[29]\ttraining's binary_logloss: 0.00662003\tvalid_1's binary_logloss: 0.0141766\n"
     ]
    },
    {
     "name": "stderr",
     "output_type": "stream",
     "text": [
      "================================= fold 3/4 protein_kinase_inhibitor=================================\n"
     ]
    },
    {
     "name": "stdout",
     "output_type": "stream",
     "text": [
      "Training until validation scores don't improve for 50 rounds\n",
      "Early stopping, best iteration is:\n",
      "[27]\ttraining's binary_logloss: 0.00651671\tvalid_1's binary_logloss: 0.0142903\n"
     ]
    },
    {
     "name": "stderr",
     "output_type": "stream",
     "text": [
      "================================= fold 4/4 protein_kinase_inhibitor=================================\n"
     ]
    },
    {
     "name": "stdout",
     "output_type": "stream",
     "text": [
      "Training until validation scores don't improve for 50 rounds\n",
      "[100]\ttraining's binary_logloss: 0.00250221\tvalid_1's binary_logloss: 0.0143796\n"
     ]
    },
    {
     "name": "stderr",
     "output_type": "stream",
     "text": [
      "protein_kinase_inhibitor logloss: 0.014162249412615145\n",
      "=========================================================================================\n"
     ]
    },
    {
     "name": "stdout",
     "output_type": "stream",
     "text": [
      "Early stopping, best iteration is:\n",
      "[56]\ttraining's binary_logloss: 0.00399556\tvalid_1's binary_logloss: 0.0141382\n"
     ]
    },
    {
     "name": "stderr",
     "output_type": "stream",
     "text": [
      "================================= fold 1/4 protein_phosphatase_inhibitor=================================\n"
     ]
    },
    {
     "name": "stdout",
     "output_type": "stream",
     "text": [
      "Training until validation scores don't improve for 50 rounds\n",
      "Early stopping, best iteration is:\n",
      "[1]\ttraining's binary_logloss: 0.00205286\tvalid_1's binary_logloss: 0.00304814\n"
     ]
    },
    {
     "name": "stderr",
     "output_type": "stream",
     "text": [
      "================================= fold 2/4 protein_phosphatase_inhibitor=================================\n"
     ]
    },
    {
     "name": "stdout",
     "output_type": "stream",
     "text": [
      "Training until validation scores don't improve for 50 rounds\n",
      "[100]\ttraining's binary_logloss: 0.000277506\tvalid_1's binary_logloss: 0.00300395\n",
      "Early stopping, best iteration is:\n",
      "[101]\ttraining's binary_logloss: 0.000274402\tvalid_1's binary_logloss: 0.00300139\n"
     ]
    },
    {
     "name": "stderr",
     "output_type": "stream",
     "text": [
      "================================= fold 3/4 protein_phosphatase_inhibitor=================================\n"
     ]
    },
    {
     "name": "stdout",
     "output_type": "stream",
     "text": [
      "Training until validation scores don't improve for 50 rounds\n",
      "[100]\ttraining's binary_logloss: 0.000312392\tvalid_1's binary_logloss: 0.00158371\n",
      "Early stopping, best iteration is:\n",
      "[84]\ttraining's binary_logloss: 0.000373861\tvalid_1's binary_logloss: 0.00158236\n"
     ]
    },
    {
     "name": "stderr",
     "output_type": "stream",
     "text": [
      "================================= fold 4/4 protein_phosphatase_inhibitor=================================\n"
     ]
    },
    {
     "name": "stdout",
     "output_type": "stream",
     "text": [
      "Training until validation scores don't improve for 50 rounds\n",
      "[100]\ttraining's binary_logloss: 0.000318434\tvalid_1's binary_logloss: 0.00164923\n",
      "Early stopping, best iteration is:\n",
      "[53]\ttraining's binary_logloss: 0.000574609\tvalid_1's binary_logloss: 0.00163663\n"
     ]
    },
    {
     "name": "stderr",
     "output_type": "stream",
     "text": [
      "protein_phosphatase_inhibitor logloss: 0.0023171884396579585\n",
      "=========================================================================================\n",
      "================================= fold 1/4 protein_synthesis_inhibitor=================================\n"
     ]
    },
    {
     "name": "stdout",
     "output_type": "stream",
     "text": [
      "Training until validation scores don't improve for 50 rounds\n",
      "[100]\ttraining's binary_logloss: 0.00615559\tvalid_1's binary_logloss: 0.0260531\n",
      "Early stopping, best iteration is:\n",
      "[73]\ttraining's binary_logloss: 0.00832342\tvalid_1's binary_logloss: 0.0260018\n"
     ]
    },
    {
     "name": "stderr",
     "output_type": "stream",
     "text": [
      "================================= fold 2/4 protein_synthesis_inhibitor=================================\n"
     ]
    },
    {
     "name": "stdout",
     "output_type": "stream",
     "text": [
      "Training until validation scores don't improve for 50 rounds\n",
      "[100]\ttraining's binary_logloss: 0.00657491\tvalid_1's binary_logloss: 0.0239912\n",
      "Early stopping, best iteration is:\n",
      "[145]\ttraining's binary_logloss: 0.00428393\tvalid_1's binary_logloss: 0.0237774\n"
     ]
    },
    {
     "name": "stderr",
     "output_type": "stream",
     "text": [
      "================================= fold 3/4 protein_synthesis_inhibitor=================================\n"
     ]
    },
    {
     "name": "stdout",
     "output_type": "stream",
     "text": [
      "Training until validation scores don't improve for 50 rounds\n",
      "[100]\ttraining's binary_logloss: 0.00646881\tvalid_1's binary_logloss: 0.0243033\n",
      "Early stopping, best iteration is:\n",
      "[109]\ttraining's binary_logloss: 0.00588417\tvalid_1's binary_logloss: 0.0242906\n"
     ]
    },
    {
     "name": "stderr",
     "output_type": "stream",
     "text": [
      "================================= fold 4/4 protein_synthesis_inhibitor=================================\n"
     ]
    },
    {
     "name": "stdout",
     "output_type": "stream",
     "text": [
      "Training until validation scores don't improve for 50 rounds\n",
      "[100]\ttraining's binary_logloss: 0.00636307\tvalid_1's binary_logloss: 0.0230287\n",
      "Early stopping, best iteration is:\n",
      "[109]\ttraining's binary_logloss: 0.00578281\tvalid_1's binary_logloss: 0.0230028\n"
     ]
    },
    {
     "name": "stderr",
     "output_type": "stream",
     "text": [
      "protein_synthesis_inhibitor logloss: 0.024268206169244244\n",
      "=========================================================================================\n",
      "================================= fold 1/4 protein_tyrosine_kinase_inhibitor=================================\n"
     ]
    },
    {
     "name": "stdout",
     "output_type": "stream",
     "text": [
      "Training until validation scores don't improve for 50 rounds\n",
      "Early stopping, best iteration is:\n",
      "[1]\ttraining's binary_logloss: 0.00618178\tvalid_1's binary_logloss: 0.006791\n"
     ]
    },
    {
     "name": "stderr",
     "output_type": "stream",
     "text": [
      "================================= fold 2/4 protein_tyrosine_kinase_inhibitor=================================\n"
     ]
    },
    {
     "name": "stdout",
     "output_type": "stream",
     "text": [
      "Training until validation scores don't improve for 50 rounds\n",
      "Early stopping, best iteration is:\n",
      "[1]\ttraining's binary_logloss: 0.00613947\tvalid_1's binary_logloss: 0.00679089\n"
     ]
    },
    {
     "name": "stderr",
     "output_type": "stream",
     "text": [
      "================================= fold 3/4 protein_tyrosine_kinase_inhibitor=================================\n"
     ]
    },
    {
     "name": "stdout",
     "output_type": "stream",
     "text": [
      "Training until validation scores don't improve for 50 rounds\n",
      "Early stopping, best iteration is:\n",
      "[9]\ttraining's binary_logloss: 0.00453518\tvalid_1's binary_logloss: 0.00558696\n"
     ]
    },
    {
     "name": "stderr",
     "output_type": "stream",
     "text": [
      "================================= fold 4/4 protein_tyrosine_kinase_inhibitor=================================\n"
     ]
    },
    {
     "name": "stdout",
     "output_type": "stream",
     "text": [
      "Training until validation scores don't improve for 50 rounds\n"
     ]
    },
    {
     "name": "stderr",
     "output_type": "stream",
     "text": [
      "protein_tyrosine_kinase_inhibitor logloss: 0.006490390955806196\n",
      "=========================================================================================\n"
     ]
    },
    {
     "name": "stdout",
     "output_type": "stream",
     "text": [
      "Early stopping, best iteration is:\n",
      "[1]\ttraining's binary_logloss: 0.00621879\tvalid_1's binary_logloss: 0.00679261\n"
     ]
    },
    {
     "name": "stderr",
     "output_type": "stream",
     "text": [
      "================================= fold 1/4 radiopaque_medium=================================\n"
     ]
    },
    {
     "name": "stdout",
     "output_type": "stream",
     "text": [
      "Training until validation scores don't improve for 50 rounds\n",
      "Early stopping, best iteration is:\n",
      "[2]\ttraining's binary_logloss: 0.0155633\tvalid_1's binary_logloss: 0.0165052\n"
     ]
    },
    {
     "name": "stderr",
     "output_type": "stream",
     "text": [
      "================================= fold 2/4 radiopaque_medium=================================\n"
     ]
    },
    {
     "name": "stdout",
     "output_type": "stream",
     "text": [
      "Training until validation scores don't improve for 50 rounds\n",
      "Early stopping, best iteration is:\n",
      "[1]\ttraining's binary_logloss: 0.0158972\tvalid_1's binary_logloss: 0.0165894\n"
     ]
    },
    {
     "name": "stderr",
     "output_type": "stream",
     "text": [
      "================================= fold 3/4 radiopaque_medium=================================\n"
     ]
    },
    {
     "name": "stdout",
     "output_type": "stream",
     "text": [
      "Training until validation scores don't improve for 50 rounds\n",
      "Early stopping, best iteration is:\n",
      "[29]\ttraining's binary_logloss: 0.00755755\tvalid_1's binary_logloss: 0.0164735\n"
     ]
    },
    {
     "name": "stderr",
     "output_type": "stream",
     "text": [
      "================================= fold 4/4 radiopaque_medium=================================\n"
     ]
    },
    {
     "name": "stdout",
     "output_type": "stream",
     "text": [
      "Training until validation scores don't improve for 50 rounds\n"
     ]
    },
    {
     "name": "stderr",
     "output_type": "stream",
     "text": [
      "radiopaque_medium logloss: 0.01653098405138092\n",
      "=========================================================================================\n"
     ]
    },
    {
     "name": "stdout",
     "output_type": "stream",
     "text": [
      "Early stopping, best iteration is:\n",
      "[4]\ttraining's binary_logloss: 0.0148652\tvalid_1's binary_logloss: 0.0165558\n"
     ]
    },
    {
     "name": "stderr",
     "output_type": "stream",
     "text": [
      "================================= fold 1/4 raf_inhibitor=================================\n"
     ]
    },
    {
     "name": "stdout",
     "output_type": "stream",
     "text": [
      "Training until validation scores don't improve for 50 rounds\n",
      "[100]\ttraining's binary_logloss: 0.00907538\tvalid_1's binary_logloss: 0.0117158\n",
      "[200]\ttraining's binary_logloss: 0.00326319\tvalid_1's binary_logloss: 0.00640652\n",
      "[300]\ttraining's binary_logloss: 0.00131521\tvalid_1's binary_logloss: 0.00445454\n",
      "[400]\ttraining's binary_logloss: 0.000584867\tvalid_1's binary_logloss: 0.00369698\n",
      "[500]\ttraining's binary_logloss: 0.000291353\tvalid_1's binary_logloss: 0.00334344\n",
      "[600]\ttraining's binary_logloss: 0.000166957\tvalid_1's binary_logloss: 0.00322384\n",
      "Early stopping, best iteration is:\n",
      "[647]\ttraining's binary_logloss: 0.000134822\tvalid_1's binary_logloss: 0.00321041\n"
     ]
    },
    {
     "name": "stderr",
     "output_type": "stream",
     "text": [
      "================================= fold 2/4 raf_inhibitor=================================\n"
     ]
    },
    {
     "name": "stdout",
     "output_type": "stream",
     "text": [
      "Training until validation scores don't improve for 50 rounds\n",
      "[100]\ttraining's binary_logloss: 0.00877803\tvalid_1's binary_logloss: 0.0181462\n",
      "[200]\ttraining's binary_logloss: 0.00315029\tvalid_1's binary_logloss: 0.0139318\n",
      "[300]\ttraining's binary_logloss: 0.00126017\tvalid_1's binary_logloss: 0.0128441\n",
      "[400]\ttraining's binary_logloss: 0.000555933\tvalid_1's binary_logloss: 0.012796\n",
      "Early stopping, best iteration is:\n",
      "[388]\ttraining's binary_logloss: 0.000609356\tvalid_1's binary_logloss: 0.012754\n"
     ]
    },
    {
     "name": "stderr",
     "output_type": "stream",
     "text": [
      "================================= fold 3/4 raf_inhibitor=================================\n"
     ]
    },
    {
     "name": "stdout",
     "output_type": "stream",
     "text": [
      "Training until validation scores don't improve for 50 rounds\n",
      "[100]\ttraining's binary_logloss: 0.00882384\tvalid_1's binary_logloss: 0.0166087\n",
      "[200]\ttraining's binary_logloss: 0.00317257\tvalid_1's binary_logloss: 0.0126717\n",
      "[300]\ttraining's binary_logloss: 0.00127467\tvalid_1's binary_logloss: 0.0117578\n",
      "[400]\ttraining's binary_logloss: 0.000565455\tvalid_1's binary_logloss: 0.0117465\n",
      "Early stopping, best iteration is:\n",
      "[371]\ttraining's binary_logloss: 0.000708635\tvalid_1's binary_logloss: 0.0116941\n"
     ]
    },
    {
     "name": "stderr",
     "output_type": "stream",
     "text": [
      "================================= fold 4/4 raf_inhibitor=================================\n"
     ]
    },
    {
     "name": "stdout",
     "output_type": "stream",
     "text": [
      "Training until validation scores don't improve for 50 rounds\n",
      "[100]\ttraining's binary_logloss: 0.00917392\tvalid_1's binary_logloss: 0.0175564\n",
      "[200]\ttraining's binary_logloss: 0.00326505\tvalid_1's binary_logloss: 0.0132989\n",
      "[300]\ttraining's binary_logloss: 0.00130171\tvalid_1's binary_logloss: 0.012154\n",
      "[400]\ttraining's binary_logloss: 0.00057277\tvalid_1's binary_logloss: 0.0116797\n",
      "Early stopping, best iteration is:\n",
      "[423]\ttraining's binary_logloss: 0.000482133\tvalid_1's binary_logloss: 0.011646\n"
     ]
    },
    {
     "name": "stderr",
     "output_type": "stream",
     "text": [
      "raf_inhibitor logloss: 0.009825986294413619\n",
      "=========================================================================================\n",
      "================================= fold 1/4 ras_gtpase_inhibitor=================================\n"
     ]
    },
    {
     "name": "stdout",
     "output_type": "stream",
     "text": [
      "Training until validation scores don't improve for 50 rounds\n",
      "Early stopping, best iteration is:\n",
      "[18]\ttraining's binary_logloss: 0.00240986\tvalid_1's binary_logloss: 0.00426904\n"
     ]
    },
    {
     "name": "stderr",
     "output_type": "stream",
     "text": [
      "================================= fold 2/4 ras_gtpase_inhibitor=================================\n"
     ]
    },
    {
     "name": "stdout",
     "output_type": "stream",
     "text": [
      "Training until validation scores don't improve for 50 rounds\n",
      "Early stopping, best iteration is:\n",
      "[1]\ttraining's binary_logloss: 0.00423874\tvalid_1's binary_logloss: 0.00433067\n"
     ]
    },
    {
     "name": "stderr",
     "output_type": "stream",
     "text": [
      "================================= fold 3/4 ras_gtpase_inhibitor=================================\n"
     ]
    },
    {
     "name": "stdout",
     "output_type": "stream",
     "text": [
      "Training until validation scores don't improve for 50 rounds\n",
      "Early stopping, best iteration is:\n",
      "[1]\ttraining's binary_logloss: 0.00410703\tvalid_1's binary_logloss: 0.00433012\n"
     ]
    },
    {
     "name": "stderr",
     "output_type": "stream",
     "text": [
      "================================= fold 4/4 ras_gtpase_inhibitor=================================\n"
     ]
    },
    {
     "name": "stdout",
     "output_type": "stream",
     "text": [
      "Training until validation scores don't improve for 50 rounds\n"
     ]
    },
    {
     "name": "stderr",
     "output_type": "stream",
     "text": [
      "ras_gtpase_inhibitor logloss: 0.004315232332024561\n",
      "=========================================================================================\n"
     ]
    },
    {
     "name": "stdout",
     "output_type": "stream",
     "text": [
      "Early stopping, best iteration is:\n",
      "[1]\ttraining's binary_logloss: 0.0042036\tvalid_1's binary_logloss: 0.0043311\n"
     ]
    },
    {
     "name": "stderr",
     "output_type": "stream",
     "text": [
      "================================= fold 1/4 retinoid_receptor_agonist=================================\n"
     ]
    },
    {
     "name": "stdout",
     "output_type": "stream",
     "text": [
      "Training until validation scores don't improve for 50 rounds\n",
      "[100]\ttraining's binary_logloss: 0.00301673\tvalid_1's binary_logloss: 0.0146671\n",
      "[200]\ttraining's binary_logloss: 0.00118995\tvalid_1's binary_logloss: 0.0144549\n",
      "Early stopping, best iteration is:\n",
      "[162]\ttraining's binary_logloss: 0.00165538\tvalid_1's binary_logloss: 0.0143824\n"
     ]
    },
    {
     "name": "stderr",
     "output_type": "stream",
     "text": [
      "================================= fold 2/4 retinoid_receptor_agonist=================================\n"
     ]
    },
    {
     "name": "stdout",
     "output_type": "stream",
     "text": [
      "Training until validation scores don't improve for 50 rounds\n",
      "[100]\ttraining's binary_logloss: 0.00301091\tvalid_1's binary_logloss: 0.0155872\n",
      "[200]\ttraining's binary_logloss: 0.00120856\tvalid_1's binary_logloss: 0.0155611\n",
      "Early stopping, best iteration is:\n",
      "[171]\ttraining's binary_logloss: 0.00154429\tvalid_1's binary_logloss: 0.0154736\n"
     ]
    },
    {
     "name": "stderr",
     "output_type": "stream",
     "text": [
      "================================= fold 3/4 retinoid_receptor_agonist=================================\n"
     ]
    },
    {
     "name": "stdout",
     "output_type": "stream",
     "text": [
      "Training until validation scores don't improve for 50 rounds\n",
      "[100]\ttraining's binary_logloss: 0.00314692\tvalid_1's binary_logloss: 0.0147498\n",
      "[200]\ttraining's binary_logloss: 0.00123074\tvalid_1's binary_logloss: 0.014482\n",
      "Early stopping, best iteration is:\n",
      "[176]\ttraining's binary_logloss: 0.00151322\tvalid_1's binary_logloss: 0.0144398\n"
     ]
    },
    {
     "name": "stderr",
     "output_type": "stream",
     "text": [
      "================================= fold 4/4 retinoid_receptor_agonist=================================\n"
     ]
    },
    {
     "name": "stdout",
     "output_type": "stream",
     "text": [
      "Training until validation scores don't improve for 50 rounds\n",
      "[100]\ttraining's binary_logloss: 0.00314224\tvalid_1's binary_logloss: 0.0129634\n",
      "[200]\ttraining's binary_logloss: 0.00125975\tvalid_1's binary_logloss: 0.012457\n",
      "Early stopping, best iteration is:\n",
      "[196]\ttraining's binary_logloss: 0.00130215\tvalid_1's binary_logloss: 0.0124454\n"
     ]
    },
    {
     "name": "stderr",
     "output_type": "stream",
     "text": [
      "retinoid_receptor_agonist logloss: 0.014185343547646235\n",
      "=========================================================================================\n",
      "================================= fold 1/4 retinoid_receptor_antagonist=================================\n"
     ]
    },
    {
     "name": "stdout",
     "output_type": "stream",
     "text": [
      "Training until validation scores don't improve for 50 rounds\n",
      "Early stopping, best iteration is:\n",
      "[1]\ttraining's binary_logloss: 0.0020208\tvalid_1's binary_logloss: 0.00304824\n"
     ]
    },
    {
     "name": "stderr",
     "output_type": "stream",
     "text": [
      "================================= fold 2/4 retinoid_receptor_antagonist=================================\n"
     ]
    },
    {
     "name": "stdout",
     "output_type": "stream",
     "text": [
      "Training until validation scores don't improve for 50 rounds\n",
      "Early stopping, best iteration is:\n",
      "[1]\ttraining's binary_logloss: 0.00202263\tvalid_1's binary_logloss: 0.00304826\n"
     ]
    },
    {
     "name": "stderr",
     "output_type": "stream",
     "text": [
      "================================= fold 3/4 retinoid_receptor_antagonist=================================\n"
     ]
    },
    {
     "name": "stdout",
     "output_type": "stream",
     "text": [
      "Training until validation scores don't improve for 50 rounds\n",
      "Early stopping, best iteration is:\n",
      "[49]\ttraining's binary_logloss: 0.000559791\tvalid_1's binary_logloss: 0.00163727\n"
     ]
    },
    {
     "name": "stderr",
     "output_type": "stream",
     "text": [
      "================================= fold 4/4 retinoid_receptor_antagonist=================================\n"
     ]
    },
    {
     "name": "stdout",
     "output_type": "stream",
     "text": [
      "Training until validation scores don't improve for 50 rounds\n"
     ]
    },
    {
     "name": "stderr",
     "output_type": "stream",
     "text": [
      "retinoid_receptor_antagonist logloss: 0.0023421426430177772\n",
      "=========================================================================================\n"
     ]
    },
    {
     "name": "stdout",
     "output_type": "stream",
     "text": [
      "Early stopping, best iteration is:\n",
      "[48]\ttraining's binary_logloss: 0.000657116\tvalid_1's binary_logloss: 0.00163457\n"
     ]
    },
    {
     "name": "stderr",
     "output_type": "stream",
     "text": [
      "================================= fold 1/4 rho_associated_kinase_inhibitor=================================\n"
     ]
    },
    {
     "name": "stdout",
     "output_type": "stream",
     "text": [
      "Training until validation scores don't improve for 50 rounds\n",
      "[100]\ttraining's binary_logloss: 0.001668\tvalid_1's binary_logloss: 0.0102802\n",
      "Early stopping, best iteration is:\n",
      "[73]\ttraining's binary_logloss: 0.0022671\tvalid_1's binary_logloss: 0.010224\n"
     ]
    },
    {
     "name": "stderr",
     "output_type": "stream",
     "text": [
      "================================= fold 2/4 rho_associated_kinase_inhibitor=================================\n"
     ]
    },
    {
     "name": "stdout",
     "output_type": "stream",
     "text": [
      "Training until validation scores don't improve for 50 rounds\n",
      "[100]\ttraining's binary_logloss: 0.00164539\tvalid_1's binary_logloss: 0.0100383\n",
      "Early stopping, best iteration is:\n",
      "[101]\ttraining's binary_logloss: 0.00162872\tvalid_1's binary_logloss: 0.0100342\n"
     ]
    },
    {
     "name": "stderr",
     "output_type": "stream",
     "text": [
      "================================= fold 3/4 rho_associated_kinase_inhibitor=================================\n"
     ]
    },
    {
     "name": "stdout",
     "output_type": "stream",
     "text": [
      "Training until validation scores don't improve for 50 rounds\n",
      "Early stopping, best iteration is:\n",
      "[32]\ttraining's binary_logloss: 0.00410416\tvalid_1's binary_logloss: 0.0101773\n"
     ]
    },
    {
     "name": "stderr",
     "output_type": "stream",
     "text": [
      "================================= fold 4/4 rho_associated_kinase_inhibitor=================================\n"
     ]
    },
    {
     "name": "stdout",
     "output_type": "stream",
     "text": [
      "Training until validation scores don't improve for 50 rounds\n"
     ]
    },
    {
     "name": "stderr",
     "output_type": "stream",
     "text": [
      "rho_associated_kinase_inhibitor logloss: 0.01039979490997576\n",
      "=========================================================================================\n"
     ]
    },
    {
     "name": "stdout",
     "output_type": "stream",
     "text": [
      "Early stopping, best iteration is:\n",
      "[36]\ttraining's binary_logloss: 0.00367684\tvalid_1's binary_logloss: 0.0111638\n"
     ]
    },
    {
     "name": "stderr",
     "output_type": "stream",
     "text": [
      "================================= fold 1/4 ribonucleoside_reductase_inhibitor=================================\n"
     ]
    },
    {
     "name": "stdout",
     "output_type": "stream",
     "text": [
      "Training until validation scores don't improve for 50 rounds\n",
      "[100]\ttraining's binary_logloss: 0.00171468\tvalid_1's binary_logloss: 0.00957735\n",
      "Early stopping, best iteration is:\n",
      "[81]\ttraining's binary_logloss: 0.00211544\tvalid_1's binary_logloss: 0.00951409\n"
     ]
    },
    {
     "name": "stderr",
     "output_type": "stream",
     "text": [
      "================================= fold 2/4 ribonucleoside_reductase_inhibitor=================================\n"
     ]
    },
    {
     "name": "stdout",
     "output_type": "stream",
     "text": [
      "Training until validation scores don't improve for 50 rounds\n",
      "[100]\ttraining's binary_logloss: 0.00165895\tvalid_1's binary_logloss: 0.00884863\n",
      "[200]\ttraining's binary_logloss: 0.000672344\tvalid_1's binary_logloss: 0.00883048\n",
      "Early stopping, best iteration is:\n",
      "[166]\ttraining's binary_logloss: 0.000890854\tvalid_1's binary_logloss: 0.0087638\n"
     ]
    },
    {
     "name": "stderr",
     "output_type": "stream",
     "text": [
      "================================= fold 3/4 ribonucleoside_reductase_inhibitor=================================\n"
     ]
    },
    {
     "name": "stdout",
     "output_type": "stream",
     "text": [
      "Training until validation scores don't improve for 50 rounds\n",
      "[100]\ttraining's binary_logloss: 0.0016928\tvalid_1's binary_logloss: 0.00974498\n",
      "Early stopping, best iteration is:\n",
      "[113]\ttraining's binary_logloss: 0.00147997\tvalid_1's binary_logloss: 0.00974135\n"
     ]
    },
    {
     "name": "stderr",
     "output_type": "stream",
     "text": [
      "================================= fold 4/4 ribonucleoside_reductase_inhibitor=================================\n"
     ]
    },
    {
     "name": "stdout",
     "output_type": "stream",
     "text": [
      "Training until validation scores don't improve for 50 rounds\n",
      "[100]\ttraining's binary_logloss: 0.00170656\tvalid_1's binary_logloss: 0.00979787\n"
     ]
    },
    {
     "name": "stderr",
     "output_type": "stream",
     "text": [
      "ribonucleoside_reductase_inhibitor logloss: 0.009447558756143188\n",
      "=========================================================================================\n"
     ]
    },
    {
     "name": "stdout",
     "output_type": "stream",
     "text": [
      "Early stopping, best iteration is:\n",
      "[80]\ttraining's binary_logloss: 0.0021467\tvalid_1's binary_logloss: 0.0097711\n"
     ]
    },
    {
     "name": "stderr",
     "output_type": "stream",
     "text": [
      "================================= fold 1/4 rna_polymerase_inhibitor=================================\n"
     ]
    },
    {
     "name": "stdout",
     "output_type": "stream",
     "text": [
      "Training until validation scores don't improve for 50 rounds\n",
      "Early stopping, best iteration is:\n",
      "[1]\ttraining's binary_logloss: 0.00802695\tvalid_1's binary_logloss: 0.00796493\n"
     ]
    },
    {
     "name": "stderr",
     "output_type": "stream",
     "text": [
      "================================= fold 2/4 rna_polymerase_inhibitor=================================\n"
     ]
    },
    {
     "name": "stdout",
     "output_type": "stream",
     "text": [
      "Training until validation scores don't improve for 50 rounds\n",
      "Early stopping, best iteration is:\n",
      "[1]\ttraining's binary_logloss: 0.00771116\tvalid_1's binary_logloss: 0.00912281\n"
     ]
    },
    {
     "name": "stderr",
     "output_type": "stream",
     "text": [
      "================================= fold 3/4 rna_polymerase_inhibitor=================================\n"
     ]
    },
    {
     "name": "stdout",
     "output_type": "stream",
     "text": [
      "Training until validation scores don't improve for 50 rounds\n",
      "Early stopping, best iteration is:\n",
      "[13]\ttraining's binary_logloss: 0.0052103\tvalid_1's binary_logloss: 0.00784853\n"
     ]
    },
    {
     "name": "stderr",
     "output_type": "stream",
     "text": [
      "================================= fold 4/4 rna_polymerase_inhibitor=================================\n"
     ]
    },
    {
     "name": "stdout",
     "output_type": "stream",
     "text": [
      "Training until validation scores don't improve for 50 rounds\n",
      "[100]\ttraining's binary_logloss: 0.00120076\tvalid_1's binary_logloss: 0.00796602\n",
      "Early stopping, best iteration is:\n",
      "[67]\ttraining's binary_logloss: 0.00172486\tvalid_1's binary_logloss: 0.00791547\n"
     ]
    },
    {
     "name": "stderr",
     "output_type": "stream",
     "text": [
      "rna_polymerase_inhibitor logloss: 0.008212962747426687\n",
      "=========================================================================================\n",
      "================================= fold 1/4 serotonin_receptor_agonist=================================\n"
     ]
    },
    {
     "name": "stdout",
     "output_type": "stream",
     "text": [
      "Training until validation scores don't improve for 50 rounds\n",
      "[100]\ttraining's binary_logloss: 0.0264467\tvalid_1's binary_logloss: 0.0548236\n",
      "[200]\ttraining's binary_logloss: 0.0157677\tvalid_1's binary_logloss: 0.0545097\n",
      "Early stopping, best iteration is:\n",
      "[176]\ttraining's binary_logloss: 0.0178217\tvalid_1's binary_logloss: 0.0543435\n"
     ]
    },
    {
     "name": "stderr",
     "output_type": "stream",
     "text": [
      "================================= fold 2/4 serotonin_receptor_agonist=================================\n"
     ]
    },
    {
     "name": "stdout",
     "output_type": "stream",
     "text": [
      "Training until validation scores don't improve for 50 rounds\n",
      "[100]\ttraining's binary_logloss: 0.0264948\tvalid_1's binary_logloss: 0.0548517\n",
      "[200]\ttraining's binary_logloss: 0.0158982\tvalid_1's binary_logloss: 0.0549239\n",
      "Early stopping, best iteration is:\n",
      "[160]\ttraining's binary_logloss: 0.0192707\tvalid_1's binary_logloss: 0.0546045\n"
     ]
    },
    {
     "name": "stderr",
     "output_type": "stream",
     "text": [
      "================================= fold 3/4 serotonin_receptor_agonist=================================\n"
     ]
    },
    {
     "name": "stdout",
     "output_type": "stream",
     "text": [
      "Training until validation scores don't improve for 50 rounds\n",
      "[100]\ttraining's binary_logloss: 0.0274513\tvalid_1's binary_logloss: 0.0550235\n",
      "Early stopping, best iteration is:\n",
      "[74]\ttraining's binary_logloss: 0.0323138\tvalid_1's binary_logloss: 0.0549701\n"
     ]
    },
    {
     "name": "stderr",
     "output_type": "stream",
     "text": [
      "================================= fold 4/4 serotonin_receptor_agonist=================================\n"
     ]
    },
    {
     "name": "stdout",
     "output_type": "stream",
     "text": [
      "Training until validation scores don't improve for 50 rounds\n",
      "[100]\ttraining's binary_logloss: 0.0258297\tvalid_1's binary_logloss: 0.0546014\n",
      "Early stopping, best iteration is:\n",
      "[109]\ttraining's binary_logloss: 0.024552\tvalid_1's binary_logloss: 0.0545684\n"
     ]
    },
    {
     "name": "stderr",
     "output_type": "stream",
     "text": [
      "serotonin_receptor_agonist logloss: 0.05462161285674003\n",
      "=========================================================================================\n",
      "================================= fold 1/4 serotonin_receptor_antagonist=================================\n"
     ]
    },
    {
     "name": "stdout",
     "output_type": "stream",
     "text": [
      "Training until validation scores don't improve for 50 rounds\n",
      "[100]\ttraining's binary_logloss: 0.0497166\tvalid_1's binary_logloss: 0.0822282\n",
      "[200]\ttraining's binary_logloss: 0.0351535\tvalid_1's binary_logloss: 0.080551\n",
      "[300]\ttraining's binary_logloss: 0.0250334\tvalid_1's binary_logloss: 0.0806374\n",
      "Early stopping, best iteration is:\n",
      "[260]\ttraining's binary_logloss: 0.0287595\tvalid_1's binary_logloss: 0.0804386\n"
     ]
    },
    {
     "name": "stderr",
     "output_type": "stream",
     "text": [
      "================================= fold 2/4 serotonin_receptor_antagonist=================================\n"
     ]
    },
    {
     "name": "stdout",
     "output_type": "stream",
     "text": [
      "Training until validation scores don't improve for 50 rounds\n",
      "[100]\ttraining's binary_logloss: 0.0505784\tvalid_1's binary_logloss: 0.0828253\n",
      "[200]\ttraining's binary_logloss: 0.0350773\tvalid_1's binary_logloss: 0.0819852\n",
      "Early stopping, best iteration is:\n",
      "[161]\ttraining's binary_logloss: 0.0401498\tvalid_1's binary_logloss: 0.0818567\n"
     ]
    },
    {
     "name": "stderr",
     "output_type": "stream",
     "text": [
      "================================= fold 3/4 serotonin_receptor_antagonist=================================\n"
     ]
    },
    {
     "name": "stdout",
     "output_type": "stream",
     "text": [
      "Training until validation scores don't improve for 50 rounds\n",
      "[100]\ttraining's binary_logloss: 0.0494264\tvalid_1's binary_logloss: 0.0820574\n",
      "[200]\ttraining's binary_logloss: 0.0344943\tvalid_1's binary_logloss: 0.0809271\n",
      "Early stopping, best iteration is:\n",
      "[223]\ttraining's binary_logloss: 0.031799\tvalid_1's binary_logloss: 0.0808907\n"
     ]
    },
    {
     "name": "stderr",
     "output_type": "stream",
     "text": [
      "================================= fold 4/4 serotonin_receptor_antagonist=================================\n"
     ]
    },
    {
     "name": "stdout",
     "output_type": "stream",
     "text": [
      "Training until validation scores don't improve for 50 rounds\n",
      "[100]\ttraining's binary_logloss: 0.0499727\tvalid_1's binary_logloss: 0.0827385\n",
      "[200]\ttraining's binary_logloss: 0.0354658\tvalid_1's binary_logloss: 0.0821496\n",
      "Early stopping, best iteration is:\n",
      "[189]\ttraining's binary_logloss: 0.0366919\tvalid_1's binary_logloss: 0.0820966\n"
     ]
    },
    {
     "name": "stderr",
     "output_type": "stream",
     "text": [
      "serotonin_receptor_antagonist logloss: 0.08132064521566525\n",
      "=========================================================================================\n",
      "================================= fold 1/4 serotonin_reuptake_inhibitor=================================\n"
     ]
    },
    {
     "name": "stdout",
     "output_type": "stream",
     "text": [
      "Training until validation scores don't improve for 50 rounds\n",
      "Early stopping, best iteration is:\n",
      "[12]\ttraining's binary_logloss: 0.00924072\tvalid_1's binary_logloss: 0.0134826\n"
     ]
    },
    {
     "name": "stderr",
     "output_type": "stream",
     "text": [
      "================================= fold 2/4 serotonin_reuptake_inhibitor=================================\n"
     ]
    },
    {
     "name": "stdout",
     "output_type": "stream",
     "text": [
      "Training until validation scores don't improve for 50 rounds\n",
      "Early stopping, best iteration is:\n",
      "[1]\ttraining's binary_logloss: 0.012792\tvalid_1's binary_logloss: 0.0134812\n"
     ]
    },
    {
     "name": "stderr",
     "output_type": "stream",
     "text": [
      "================================= fold 3/4 serotonin_reuptake_inhibitor=================================\n"
     ]
    },
    {
     "name": "stdout",
     "output_type": "stream",
     "text": [
      "Training until validation scores don't improve for 50 rounds\n",
      "Early stopping, best iteration is:\n",
      "[25]\ttraining's binary_logloss: 0.00639425\tvalid_1's binary_logloss: 0.0133105\n"
     ]
    },
    {
     "name": "stderr",
     "output_type": "stream",
     "text": [
      "================================= fold 4/4 serotonin_reuptake_inhibitor=================================\n"
     ]
    },
    {
     "name": "stdout",
     "output_type": "stream",
     "text": [
      "Training until validation scores don't improve for 50 rounds\n",
      "Early stopping, best iteration is:\n",
      "[12]\ttraining's binary_logloss: 0.00930203\tvalid_1's binary_logloss: 0.0134467\n"
     ]
    },
    {
     "name": "stderr",
     "output_type": "stream",
     "text": [
      "serotonin_reuptake_inhibitor logloss: 0.013430255725681258\n",
      "=========================================================================================\n",
      "================================= fold 1/4 sigma_receptor_agonist=================================\n"
     ]
    },
    {
     "name": "stdout",
     "output_type": "stream",
     "text": [
      "Training until validation scores don't improve for 50 rounds\n",
      "Early stopping, best iteration is:\n",
      "[1]\ttraining's binary_logloss: 0.0109848\tvalid_1's binary_logloss: 0.0113152\n"
     ]
    },
    {
     "name": "stderr",
     "output_type": "stream",
     "text": [
      "================================= fold 2/4 sigma_receptor_agonist=================================\n"
     ]
    },
    {
     "name": "stdout",
     "output_type": "stream",
     "text": [
      "Training until validation scores don't improve for 50 rounds\n",
      "Early stopping, best iteration is:\n",
      "[7]\ttraining's binary_logloss: 0.00848311\tvalid_1's binary_logloss: 0.0113151\n"
     ]
    },
    {
     "name": "stderr",
     "output_type": "stream",
     "text": [
      "================================= fold 3/4 sigma_receptor_agonist=================================\n"
     ]
    },
    {
     "name": "stdout",
     "output_type": "stream",
     "text": [
      "Training until validation scores don't improve for 50 rounds\n",
      "Early stopping, best iteration is:\n",
      "[1]\ttraining's binary_logloss: 0.0109851\tvalid_1's binary_logloss: 0.0112835\n"
     ]
    },
    {
     "name": "stderr",
     "output_type": "stream",
     "text": [
      "================================= fold 4/4 sigma_receptor_agonist=================================\n"
     ]
    },
    {
     "name": "stdout",
     "output_type": "stream",
     "text": [
      "Training until validation scores don't improve for 50 rounds\n"
     ]
    },
    {
     "name": "stderr",
     "output_type": "stream",
     "text": [
      "sigma_receptor_agonist logloss: 0.01130967972173419\n",
      "=========================================================================================\n"
     ]
    },
    {
     "name": "stdout",
     "output_type": "stream",
     "text": [
      "Early stopping, best iteration is:\n",
      "[10]\ttraining's binary_logloss: 0.00786916\tvalid_1's binary_logloss: 0.0113249\n"
     ]
    },
    {
     "name": "stderr",
     "output_type": "stream",
     "text": [
      "================================= fold 1/4 sigma_receptor_antagonist=================================\n"
     ]
    },
    {
     "name": "stdout",
     "output_type": "stream",
     "text": [
      "Training until validation scores don't improve for 50 rounds\n",
      "Early stopping, best iteration is:\n",
      "[1]\ttraining's binary_logloss: 0.0109246\tvalid_1's binary_logloss: 0.0113342\n"
     ]
    },
    {
     "name": "stderr",
     "output_type": "stream",
     "text": [
      "================================= fold 2/4 sigma_receptor_antagonist=================================\n"
     ]
    },
    {
     "name": "stdout",
     "output_type": "stream",
     "text": [
      "Training until validation scores don't improve for 50 rounds\n",
      "Early stopping, best iteration is:\n",
      "[16]\ttraining's binary_logloss: 0.00632021\tvalid_1's binary_logloss: 0.0111614\n"
     ]
    },
    {
     "name": "stderr",
     "output_type": "stream",
     "text": [
      "================================= fold 3/4 sigma_receptor_antagonist=================================\n"
     ]
    },
    {
     "name": "stdout",
     "output_type": "stream",
     "text": [
      "Training until validation scores don't improve for 50 rounds\n",
      "Early stopping, best iteration is:\n",
      "[1]\ttraining's binary_logloss: 0.011059\tvalid_1's binary_logloss: 0.0113325\n"
     ]
    },
    {
     "name": "stderr",
     "output_type": "stream",
     "text": [
      "================================= fold 4/4 sigma_receptor_antagonist=================================\n"
     ]
    },
    {
     "name": "stdout",
     "output_type": "stream",
     "text": [
      "Training until validation scores don't improve for 50 rounds\n"
     ]
    },
    {
     "name": "stderr",
     "output_type": "stream",
     "text": [
      "sigma_receptor_antagonist logloss: 0.011264614902031336\n",
      "=========================================================================================\n"
     ]
    },
    {
     "name": "stdout",
     "output_type": "stream",
     "text": [
      "Early stopping, best iteration is:\n",
      "[9]\ttraining's binary_logloss: 0.00782359\tvalid_1's binary_logloss: 0.0112304\n"
     ]
    },
    {
     "name": "stderr",
     "output_type": "stream",
     "text": [
      "================================= fold 1/4 smoothened_receptor_antagonist=================================\n"
     ]
    },
    {
     "name": "stdout",
     "output_type": "stream",
     "text": [
      "Training until validation scores don't improve for 50 rounds\n",
      "Early stopping, best iteration is:\n",
      "[34]\ttraining's binary_logloss: 0.00317828\tvalid_1's binary_logloss: 0.00780176\n"
     ]
    },
    {
     "name": "stderr",
     "output_type": "stream",
     "text": [
      "================================= fold 2/4 smoothened_receptor_antagonist=================================\n"
     ]
    },
    {
     "name": "stdout",
     "output_type": "stream",
     "text": [
      "Training until validation scores don't improve for 50 rounds\n",
      "Early stopping, best iteration is:\n",
      "[1]\ttraining's binary_logloss: 0.00777409\tvalid_1's binary_logloss: 0.00912343\n"
     ]
    },
    {
     "name": "stderr",
     "output_type": "stream",
     "text": [
      "================================= fold 3/4 smoothened_receptor_antagonist=================================\n"
     ]
    },
    {
     "name": "stdout",
     "output_type": "stream",
     "text": [
      "Training until validation scores don't improve for 50 rounds\n",
      "Early stopping, best iteration is:\n",
      "[11]\ttraining's binary_logloss: 0.0058723\tvalid_1's binary_logloss: 0.00793397\n"
     ]
    },
    {
     "name": "stderr",
     "output_type": "stream",
     "text": [
      "================================= fold 4/4 smoothened_receptor_antagonist=================================\n"
     ]
    },
    {
     "name": "stdout",
     "output_type": "stream",
     "text": [
      "Training until validation scores don't improve for 50 rounds\n"
     ]
    },
    {
     "name": "stderr",
     "output_type": "stream",
     "text": [
      "smoothened_receptor_antagonist logloss: 0.008189281996996983\n",
      "=========================================================================================\n"
     ]
    },
    {
     "name": "stdout",
     "output_type": "stream",
     "text": [
      "Early stopping, best iteration is:\n",
      "[11]\ttraining's binary_logloss: 0.00591455\tvalid_1's binary_logloss: 0.00789788\n"
     ]
    },
    {
     "name": "stderr",
     "output_type": "stream",
     "text": [
      "================================= fold 1/4 sodium_channel_inhibitor=================================\n"
     ]
    },
    {
     "name": "stdout",
     "output_type": "stream",
     "text": [
      "Training until validation scores don't improve for 50 rounds\n",
      "Early stopping, best iteration is:\n",
      "[16]\ttraining's binary_logloss: 0.0526555\tvalid_1's binary_logloss: 0.0615897\n"
     ]
    },
    {
     "name": "stderr",
     "output_type": "stream",
     "text": [
      "================================= fold 2/4 sodium_channel_inhibitor=================================\n"
     ]
    },
    {
     "name": "stdout",
     "output_type": "stream",
     "text": [
      "Training until validation scores don't improve for 50 rounds\n",
      "[100]\ttraining's binary_logloss: 0.0310262\tvalid_1's binary_logloss: 0.0610355\n",
      "Early stopping, best iteration is:\n",
      "[146]\ttraining's binary_logloss: 0.0247448\tvalid_1's binary_logloss: 0.0608909\n"
     ]
    },
    {
     "name": "stderr",
     "output_type": "stream",
     "text": [
      "================================= fold 3/4 sodium_channel_inhibitor=================================\n"
     ]
    },
    {
     "name": "stdout",
     "output_type": "stream",
     "text": [
      "Training until validation scores don't improve for 50 rounds\n",
      "[100]\ttraining's binary_logloss: 0.0302104\tvalid_1's binary_logloss: 0.0603159\n",
      "Early stopping, best iteration is:\n",
      "[130]\ttraining's binary_logloss: 0.0263889\tvalid_1's binary_logloss: 0.0601702\n"
     ]
    },
    {
     "name": "stderr",
     "output_type": "stream",
     "text": [
      "================================= fold 4/4 sodium_channel_inhibitor=================================\n"
     ]
    },
    {
     "name": "stdout",
     "output_type": "stream",
     "text": [
      "Training until validation scores don't improve for 50 rounds\n"
     ]
    },
    {
     "name": "stderr",
     "output_type": "stream",
     "text": [
      "sodium_channel_inhibitor logloss: 0.06099942516100828\n",
      "=========================================================================================\n"
     ]
    },
    {
     "name": "stdout",
     "output_type": "stream",
     "text": [
      "Early stopping, best iteration is:\n",
      "[23]\ttraining's binary_logloss: 0.0510878\tvalid_1's binary_logloss: 0.0613468\n"
     ]
    },
    {
     "name": "stderr",
     "output_type": "stream",
     "text": [
      "================================= fold 1/4 sphingosine_receptor_agonist=================================\n"
     ]
    },
    {
     "name": "stdout",
     "output_type": "stream",
     "text": [
      "Training until validation scores don't improve for 50 rounds\n",
      "Early stopping, best iteration is:\n",
      "[49]\ttraining's binary_logloss: 0.00232781\tvalid_1's binary_logloss: 0.00786887\n"
     ]
    },
    {
     "name": "stderr",
     "output_type": "stream",
     "text": [
      "================================= fold 2/4 sphingosine_receptor_agonist=================================\n"
     ]
    },
    {
     "name": "stdout",
     "output_type": "stream",
     "text": [
      "Training until validation scores don't improve for 50 rounds\n",
      "Early stopping, best iteration is:\n",
      "[16]\ttraining's binary_logloss: 0.00423071\tvalid_1's binary_logloss: 0.00902912\n"
     ]
    },
    {
     "name": "stderr",
     "output_type": "stream",
     "text": [
      "================================= fold 3/4 sphingosine_receptor_agonist=================================\n"
     ]
    },
    {
     "name": "stdout",
     "output_type": "stream",
     "text": [
      "Training until validation scores don't improve for 50 rounds\n",
      "Early stopping, best iteration is:\n",
      "[1]\ttraining's binary_logloss: 0.00806356\tvalid_1's binary_logloss: 0.007964\n"
     ]
    },
    {
     "name": "stderr",
     "output_type": "stream",
     "text": [
      "================================= fold 4/4 sphingosine_receptor_agonist=================================\n"
     ]
    },
    {
     "name": "stdout",
     "output_type": "stream",
     "text": [
      "Training until validation scores don't improve for 50 rounds\n"
     ]
    },
    {
     "name": "stderr",
     "output_type": "stream",
     "text": [
      "sphingosine_receptor_agonist logloss: 0.008200731595075625\n",
      "=========================================================================================\n"
     ]
    },
    {
     "name": "stdout",
     "output_type": "stream",
     "text": [
      "Early stopping, best iteration is:\n",
      "[2]\ttraining's binary_logloss: 0.00780387\tvalid_1's binary_logloss: 0.00794085\n"
     ]
    },
    {
     "name": "stderr",
     "output_type": "stream",
     "text": [
      "================================= fold 1/4 src_inhibitor=================================\n"
     ]
    },
    {
     "name": "stdout",
     "output_type": "stream",
     "text": [
      "Training until validation scores don't improve for 50 rounds\n",
      "[100]\ttraining's binary_logloss: 0.00360217\tvalid_1's binary_logloss: 0.0190586\n",
      "Early stopping, best iteration is:\n",
      "[70]\ttraining's binary_logloss: 0.00506348\tvalid_1's binary_logloss: 0.0189508\n"
     ]
    },
    {
     "name": "stderr",
     "output_type": "stream",
     "text": [
      "================================= fold 2/4 src_inhibitor=================================\n"
     ]
    },
    {
     "name": "stdout",
     "output_type": "stream",
     "text": [
      "Training until validation scores don't improve for 50 rounds\n",
      "[100]\ttraining's binary_logloss: 0.00340525\tvalid_1's binary_logloss: 0.0174317\n",
      "Early stopping, best iteration is:\n",
      "[114]\ttraining's binary_logloss: 0.00295998\tvalid_1's binary_logloss: 0.0173823\n"
     ]
    },
    {
     "name": "stderr",
     "output_type": "stream",
     "text": [
      "================================= fold 3/4 src_inhibitor=================================\n"
     ]
    },
    {
     "name": "stdout",
     "output_type": "stream",
     "text": [
      "Training until validation scores don't improve for 50 rounds\n",
      "[100]\ttraining's binary_logloss: 0.00356423\tvalid_1's binary_logloss: 0.0162956\n",
      "Early stopping, best iteration is:\n",
      "[100]\ttraining's binary_logloss: 0.00356423\tvalid_1's binary_logloss: 0.0162956\n"
     ]
    },
    {
     "name": "stderr",
     "output_type": "stream",
     "text": [
      "================================= fold 4/4 src_inhibitor=================================\n"
     ]
    },
    {
     "name": "stdout",
     "output_type": "stream",
     "text": [
      "Training until validation scores don't improve for 50 rounds\n",
      "[100]\ttraining's binary_logloss: 0.0035277\tvalid_1's binary_logloss: 0.0163581\n",
      "Early stopping, best iteration is:\n",
      "[124]\ttraining's binary_logloss: 0.00278276\tvalid_1's binary_logloss: 0.0163006\n"
     ]
    },
    {
     "name": "stderr",
     "output_type": "stream",
     "text": [
      "src_inhibitor logloss: 0.017232390566029585\n",
      "=========================================================================================\n",
      "================================= fold 1/4 steroid=================================\n"
     ]
    },
    {
     "name": "stdout",
     "output_type": "stream",
     "text": [
      "Training until validation scores don't improve for 50 rounds\n",
      "Early stopping, best iteration is:\n",
      "[3]\ttraining's binary_logloss: 0.00194772\tvalid_1's binary_logloss: 0.00304793\n"
     ]
    },
    {
     "name": "stderr",
     "output_type": "stream",
     "text": [
      "================================= fold 2/4 steroid=================================\n"
     ]
    },
    {
     "name": "stdout",
     "output_type": "stream",
     "text": [
      "Training until validation scores don't improve for 50 rounds\n",
      "Early stopping, best iteration is:\n",
      "[1]\ttraining's binary_logloss: 0.00205297\tvalid_1's binary_logloss: 0.00304818\n"
     ]
    },
    {
     "name": "stderr",
     "output_type": "stream",
     "text": [
      "================================= fold 3/4 steroid=================================\n"
     ]
    },
    {
     "name": "stdout",
     "output_type": "stream",
     "text": [
      "Training until validation scores don't improve for 50 rounds\n",
      "Early stopping, best iteration is:\n",
      "[48]\ttraining's binary_logloss: 0.000613409\tvalid_1's binary_logloss: 0.00163579\n"
     ]
    },
    {
     "name": "stderr",
     "output_type": "stream",
     "text": [
      "================================= fold 4/4 steroid=================================\n"
     ]
    },
    {
     "name": "stdout",
     "output_type": "stream",
     "text": [
      "Training until validation scores don't improve for 50 rounds\n",
      "[100]\ttraining's binary_logloss: 0.000359513\tvalid_1's binary_logloss: 0.00164361\n",
      "Early stopping, best iteration is:\n",
      "[55]\ttraining's binary_logloss: 0.000630015\tvalid_1's binary_logloss: 0.001634\n"
     ]
    },
    {
     "name": "stderr",
     "output_type": "stream",
     "text": [
      "steroid logloss: 0.002341534216397963\n",
      "=========================================================================================\n",
      "================================= fold 1/4 syk_inhibitor=================================\n"
     ]
    },
    {
     "name": "stdout",
     "output_type": "stream",
     "text": [
      "Training until validation scores don't improve for 50 rounds\n",
      "[100]\ttraining's binary_logloss: 0.000875837\tvalid_1's binary_logloss: 0.00669428\n",
      "Early stopping, best iteration is:\n",
      "[59]\ttraining's binary_logloss: 0.00145196\tvalid_1's binary_logloss: 0.00666724\n"
     ]
    },
    {
     "name": "stderr",
     "output_type": "stream",
     "text": [
      "================================= fold 2/4 syk_inhibitor=================================\n"
     ]
    },
    {
     "name": "stdout",
     "output_type": "stream",
     "text": [
      "Training until validation scores don't improve for 50 rounds\n",
      "[100]\ttraining's binary_logloss: 0.000890784\tvalid_1's binary_logloss: 0.00576209\n",
      "Early stopping, best iteration is:\n",
      "[142]\ttraining's binary_logloss: 0.000579851\tvalid_1's binary_logloss: 0.00568853\n"
     ]
    },
    {
     "name": "stderr",
     "output_type": "stream",
     "text": [
      "================================= fold 3/4 syk_inhibitor=================================\n"
     ]
    },
    {
     "name": "stdout",
     "output_type": "stream",
     "text": [
      "Training until validation scores don't improve for 50 rounds\n",
      "[100]\ttraining's binary_logloss: 0.00090178\tvalid_1's binary_logloss: 0.00463509\n",
      "[200]\ttraining's binary_logloss: 0.00034998\tvalid_1's binary_logloss: 0.00453744\n",
      "Early stopping, best iteration is:\n",
      "[180]\ttraining's binary_logloss: 0.000415785\tvalid_1's binary_logloss: 0.0045061\n"
     ]
    },
    {
     "name": "stderr",
     "output_type": "stream",
     "text": [
      "================================= fold 4/4 syk_inhibitor=================================\n"
     ]
    },
    {
     "name": "stdout",
     "output_type": "stream",
     "text": [
      "Training until validation scores don't improve for 50 rounds\n",
      "[100]\ttraining's binary_logloss: 0.000871016\tvalid_1's binary_logloss: 0.00595807\n"
     ]
    },
    {
     "name": "stderr",
     "output_type": "stream",
     "text": [
      "syk_inhibitor logloss: 0.005698166987244092\n",
      "=========================================================================================\n"
     ]
    },
    {
     "name": "stdout",
     "output_type": "stream",
     "text": [
      "Early stopping, best iteration is:\n",
      "[79]\ttraining's binary_logloss: 0.00111394\tvalid_1's binary_logloss: 0.00593064\n"
     ]
    },
    {
     "name": "stderr",
     "output_type": "stream",
     "text": [
      "================================= fold 1/4 tachykinin_antagonist=================================\n"
     ]
    },
    {
     "name": "stdout",
     "output_type": "stream",
     "text": [
      "Training until validation scores don't improve for 50 rounds\n",
      "Early stopping, best iteration is:\n",
      "[23]\ttraining's binary_logloss: 0.00898932\tvalid_1's binary_logloss: 0.0174801\n"
     ]
    },
    {
     "name": "stderr",
     "output_type": "stream",
     "text": [
      "================================= fold 2/4 tachykinin_antagonist=================================\n"
     ]
    },
    {
     "name": "stdout",
     "output_type": "stream",
     "text": [
      "Training until validation scores don't improve for 50 rounds\n",
      "Early stopping, best iteration is:\n",
      "[42]\ttraining's binary_logloss: 0.00622603\tvalid_1's binary_logloss: 0.017548\n"
     ]
    },
    {
     "name": "stderr",
     "output_type": "stream",
     "text": [
      "================================= fold 3/4 tachykinin_antagonist=================================\n"
     ]
    },
    {
     "name": "stdout",
     "output_type": "stream",
     "text": [
      "Training until validation scores don't improve for 50 rounds\n",
      "Early stopping, best iteration is:\n",
      "[6]\ttraining's binary_logloss: 0.0141347\tvalid_1's binary_logloss: 0.0175636\n"
     ]
    },
    {
     "name": "stderr",
     "output_type": "stream",
     "text": [
      "================================= fold 4/4 tachykinin_antagonist=================================\n"
     ]
    },
    {
     "name": "stdout",
     "output_type": "stream",
     "text": [
      "Training until validation scores don't improve for 50 rounds\n"
     ]
    },
    {
     "name": "stderr",
     "output_type": "stream",
     "text": [
      "tachykinin_antagonist logloss: 0.01754280867226399\n",
      "=========================================================================================\n"
     ]
    },
    {
     "name": "stdout",
     "output_type": "stream",
     "text": [
      "Early stopping, best iteration is:\n",
      "[2]\ttraining's binary_logloss: 0.0164989\tvalid_1's binary_logloss: 0.0175796\n"
     ]
    },
    {
     "name": "stderr",
     "output_type": "stream",
     "text": [
      "================================= fold 1/4 tgf-beta_receptor_inhibitor=================================\n"
     ]
    },
    {
     "name": "stdout",
     "output_type": "stream",
     "text": [
      "Training until validation scores don't improve for 50 rounds\n",
      "[100]\ttraining's binary_logloss: 0.00116122\tvalid_1's binary_logloss: 0.00583504\n",
      "[200]\ttraining's binary_logloss: 0.000431331\tvalid_1's binary_logloss: 0.00533525\n",
      "[300]\ttraining's binary_logloss: 0.000188225\tvalid_1's binary_logloss: 0.00518955\n",
      "Early stopping, best iteration is:\n",
      "[294]\ttraining's binary_logloss: 0.000196988\tvalid_1's binary_logloss: 0.00518347\n"
     ]
    },
    {
     "name": "stderr",
     "output_type": "stream",
     "text": [
      "================================= fold 2/4 tgf-beta_receptor_inhibitor=================================\n"
     ]
    },
    {
     "name": "stdout",
     "output_type": "stream",
     "text": [
      "Training until validation scores don't improve for 50 rounds\n",
      "[100]\ttraining's binary_logloss: 0.00116287\tvalid_1's binary_logloss: 0.00413508\n",
      "[200]\ttraining's binary_logloss: 0.000429781\tvalid_1's binary_logloss: 0.00386539\n",
      "[300]\ttraining's binary_logloss: 0.000186948\tvalid_1's binary_logloss: 0.0038506\n",
      "Early stopping, best iteration is:\n",
      "[252]\ttraining's binary_logloss: 0.000274763\tvalid_1's binary_logloss: 0.00380343\n"
     ]
    },
    {
     "name": "stderr",
     "output_type": "stream",
     "text": [
      "================================= fold 3/4 tgf-beta_receptor_inhibitor=================================\n"
     ]
    },
    {
     "name": "stdout",
     "output_type": "stream",
     "text": [
      "Training until validation scores don't improve for 50 rounds\n",
      "[100]\ttraining's binary_logloss: 0.00121634\tvalid_1's binary_logloss: 0.00335048\n",
      "[200]\ttraining's binary_logloss: 0.000453566\tvalid_1's binary_logloss: 0.00282829\n",
      "[300]\ttraining's binary_logloss: 0.000197268\tvalid_1's binary_logloss: 0.00265392\n",
      "[400]\ttraining's binary_logloss: 0.00010199\tvalid_1's binary_logloss: 0.00258297\n",
      "[500]\ttraining's binary_logloss: 6.19067e-05\tvalid_1's binary_logloss: 0.00259497\n",
      "Early stopping, best iteration is:\n",
      "[454]\ttraining's binary_logloss: 7.62908e-05\tvalid_1's binary_logloss: 0.00254489\n"
     ]
    },
    {
     "name": "stderr",
     "output_type": "stream",
     "text": [
      "================================= fold 4/4 tgf-beta_receptor_inhibitor=================================\n"
     ]
    },
    {
     "name": "stdout",
     "output_type": "stream",
     "text": [
      "Training until validation scores don't improve for 50 rounds\n",
      "[100]\ttraining's binary_logloss: 0.00121436\tvalid_1's binary_logloss: 0.00297552\n",
      "[200]\ttraining's binary_logloss: 0.000458081\tvalid_1's binary_logloss: 0.00214045\n",
      "[300]\ttraining's binary_logloss: 0.000199673\tvalid_1's binary_logloss: 0.00192827\n",
      "[400]\ttraining's binary_logloss: 0.000102882\tvalid_1's binary_logloss: 0.00185476\n",
      "[500]\ttraining's binary_logloss: 6.28945e-05\tvalid_1's binary_logloss: 0.00182266\n",
      "[600]\ttraining's binary_logloss: 4.38091e-05\tvalid_1's binary_logloss: 0.0017954\n",
      "Early stopping, best iteration is:\n",
      "[571]\ttraining's binary_logloss: 4.80971e-05\tvalid_1's binary_logloss: 0.00178901\n"
     ]
    },
    {
     "name": "stderr",
     "output_type": "stream",
     "text": [
      "tgf-beta_receptor_inhibitor logloss: 0.0033302988392005938\n",
      "=========================================================================================\n",
      "================================= fold 1/4 thrombin_inhibitor=================================\n"
     ]
    },
    {
     "name": "stdout",
     "output_type": "stream",
     "text": [
      "Training until validation scores don't improve for 50 rounds\n",
      "Early stopping, best iteration is:\n",
      "[1]\ttraining's binary_logloss: 0.00619035\tvalid_1's binary_logloss: 0.00677728\n"
     ]
    },
    {
     "name": "stderr",
     "output_type": "stream",
     "text": [
      "================================= fold 2/4 thrombin_inhibitor=================================\n"
     ]
    },
    {
     "name": "stdout",
     "output_type": "stream",
     "text": [
      "Training until validation scores don't improve for 50 rounds\n",
      "Early stopping, best iteration is:\n",
      "[1]\ttraining's binary_logloss: 0.00607208\tvalid_1's binary_logloss: 0.00679153\n"
     ]
    },
    {
     "name": "stderr",
     "output_type": "stream",
     "text": [
      "================================= fold 3/4 thrombin_inhibitor=================================\n"
     ]
    },
    {
     "name": "stdout",
     "output_type": "stream",
     "text": [
      "Training until validation scores don't improve for 50 rounds\n",
      "[100]\ttraining's binary_logloss: 0.000947922\tvalid_1's binary_logloss: 0.00523168\n",
      "Early stopping, best iteration is:\n",
      "[100]\ttraining's binary_logloss: 0.000947922\tvalid_1's binary_logloss: 0.00523168\n"
     ]
    },
    {
     "name": "stderr",
     "output_type": "stream",
     "text": [
      "================================= fold 4/4 thrombin_inhibitor=================================\n"
     ]
    },
    {
     "name": "stdout",
     "output_type": "stream",
     "text": [
      "Training until validation scores don't improve for 50 rounds\n"
     ]
    },
    {
     "name": "stderr",
     "output_type": "stream",
     "text": [
      "thrombin_inhibitor logloss: 0.006398143954987207\n",
      "=========================================================================================\n"
     ]
    },
    {
     "name": "stdout",
     "output_type": "stream",
     "text": [
      "Early stopping, best iteration is:\n",
      "[1]\ttraining's binary_logloss: 0.00616132\tvalid_1's binary_logloss: 0.00679196\n"
     ]
    },
    {
     "name": "stderr",
     "output_type": "stream",
     "text": [
      "================================= fold 1/4 thymidylate_synthase_inhibitor=================================\n"
     ]
    },
    {
     "name": "stdout",
     "output_type": "stream",
     "text": [
      "Training until validation scores don't improve for 50 rounds\n",
      "[100]\ttraining's binary_logloss: 0.00185086\tvalid_1's binary_logloss: 0.0102173\n",
      "Early stopping, best iteration is:\n",
      "[91]\ttraining's binary_logloss: 0.00202754\tvalid_1's binary_logloss: 0.0102005\n"
     ]
    },
    {
     "name": "stderr",
     "output_type": "stream",
     "text": [
      "================================= fold 2/4 thymidylate_synthase_inhibitor=================================\n"
     ]
    },
    {
     "name": "stdout",
     "output_type": "stream",
     "text": [
      "Training until validation scores don't improve for 50 rounds\n",
      "Early stopping, best iteration is:\n",
      "[7]\ttraining's binary_logloss: 0.0086439\tvalid_1's binary_logloss: 0.0123218\n"
     ]
    },
    {
     "name": "stderr",
     "output_type": "stream",
     "text": [
      "================================= fold 3/4 thymidylate_synthase_inhibitor=================================\n"
     ]
    },
    {
     "name": "stdout",
     "output_type": "stream",
     "text": [
      "Training until validation scores don't improve for 50 rounds\n",
      "[100]\ttraining's binary_logloss: 0.0017612\tvalid_1's binary_logloss: 0.010419\n",
      "Early stopping, best iteration is:\n",
      "[86]\ttraining's binary_logloss: 0.00204583\tvalid_1's binary_logloss: 0.0103945\n"
     ]
    },
    {
     "name": "stderr",
     "output_type": "stream",
     "text": [
      "================================= fold 4/4 thymidylate_synthase_inhibitor=================================\n"
     ]
    },
    {
     "name": "stdout",
     "output_type": "stream",
     "text": [
      "Training until validation scores don't improve for 50 rounds\n",
      "[100]\ttraining's binary_logloss: 0.00181774\tvalid_1's binary_logloss: 0.0110548\n",
      "Early stopping, best iteration is:\n",
      "[87]\ttraining's binary_logloss: 0.00208624\tvalid_1's binary_logloss: 0.0110187\n"
     ]
    },
    {
     "name": "stderr",
     "output_type": "stream",
     "text": [
      "thymidylate_synthase_inhibitor logloss: 0.010983873053326113\n",
      "=========================================================================================\n",
      "================================= fold 1/4 tlr_agonist=================================\n"
     ]
    },
    {
     "name": "stdout",
     "output_type": "stream",
     "text": [
      "Training until validation scores don't improve for 50 rounds\n",
      "Early stopping, best iteration is:\n",
      "[10]\ttraining's binary_logloss: 0.00659147\tvalid_1's binary_logloss: 0.0102245\n"
     ]
    },
    {
     "name": "stderr",
     "output_type": "stream",
     "text": [
      "================================= fold 2/4 tlr_agonist=================================\n"
     ]
    },
    {
     "name": "stdout",
     "output_type": "stream",
     "text": [
      "Training until validation scores don't improve for 50 rounds\n",
      "Early stopping, best iteration is:\n",
      "[1]\ttraining's binary_logloss: 0.0092043\tvalid_1's binary_logloss: 0.0102367\n"
     ]
    },
    {
     "name": "stderr",
     "output_type": "stream",
     "text": [
      "================================= fold 3/4 tlr_agonist=================================\n"
     ]
    },
    {
     "name": "stdout",
     "output_type": "stream",
     "text": [
      "Training until validation scores don't improve for 50 rounds\n",
      "Early stopping, best iteration is:\n",
      "[11]\ttraining's binary_logloss: 0.00636571\tvalid_1's binary_logloss: 0.00905231\n"
     ]
    },
    {
     "name": "stderr",
     "output_type": "stream",
     "text": [
      "================================= fold 4/4 tlr_agonist=================================\n"
     ]
    },
    {
     "name": "stdout",
     "output_type": "stream",
     "text": [
      "Training until validation scores don't improve for 50 rounds\n"
     ]
    },
    {
     "name": "stderr",
     "output_type": "stream",
     "text": [
      "tlr_agonist logloss: 0.009650101940014467\n",
      "=========================================================================================\n"
     ]
    },
    {
     "name": "stdout",
     "output_type": "stream",
     "text": [
      "Early stopping, best iteration is:\n",
      "[45]\ttraining's binary_logloss: 0.00288267\tvalid_1's binary_logloss: 0.00908668\n"
     ]
    },
    {
     "name": "stderr",
     "output_type": "stream",
     "text": [
      "================================= fold 1/4 tlr_antagonist=================================\n"
     ]
    },
    {
     "name": "stdout",
     "output_type": "stream",
     "text": [
      "Training until validation scores don't improve for 50 rounds\n",
      "Early stopping, best iteration is:\n",
      "[1]\ttraining's binary_logloss: 0.00248166\tvalid_1's binary_logloss: 0.00302887\n"
     ]
    },
    {
     "name": "stderr",
     "output_type": "stream",
     "text": [
      "================================= fold 2/4 tlr_antagonist=================================\n"
     ]
    },
    {
     "name": "stdout",
     "output_type": "stream",
     "text": [
      "Training until validation scores don't improve for 50 rounds\n",
      "Early stopping, best iteration is:\n",
      "[1]\ttraining's binary_logloss: 0.00248188\tvalid_1's binary_logloss: 0.00302878\n"
     ]
    },
    {
     "name": "stderr",
     "output_type": "stream",
     "text": [
      "================================= fold 3/4 tlr_antagonist=================================\n"
     ]
    },
    {
     "name": "stdout",
     "output_type": "stream",
     "text": [
      "Training until validation scores don't improve for 50 rounds\n",
      "[100]\ttraining's binary_logloss: 0.000396859\tvalid_1's binary_logloss: 0.00163541\n",
      "Early stopping, best iteration is:\n",
      "[106]\ttraining's binary_logloss: 0.000371632\tvalid_1's binary_logloss: 0.00163525\n"
     ]
    },
    {
     "name": "stderr",
     "output_type": "stream",
     "text": [
      "================================= fold 4/4 tlr_antagonist=================================\n"
     ]
    },
    {
     "name": "stdout",
     "output_type": "stream",
     "text": [
      "Training until validation scores don't improve for 50 rounds\n"
     ]
    },
    {
     "name": "stderr",
     "output_type": "stream",
     "text": [
      "tlr_antagonist logloss: 0.00268055313305647\n",
      "=========================================================================================\n"
     ]
    },
    {
     "name": "stdout",
     "output_type": "stream",
     "text": [
      "Early stopping, best iteration is:\n",
      "[1]\ttraining's binary_logloss: 0.00248264\tvalid_1's binary_logloss: 0.0030292\n"
     ]
    },
    {
     "name": "stderr",
     "output_type": "stream",
     "text": [
      "================================= fold 1/4 tnf_inhibitor=================================\n"
     ]
    },
    {
     "name": "stdout",
     "output_type": "stream",
     "text": [
      "Training until validation scores don't improve for 50 rounds\n",
      "Early stopping, best iteration is:\n",
      "[14]\ttraining's binary_logloss: 0.00685386\tvalid_1's binary_logloss: 0.0112996\n"
     ]
    },
    {
     "name": "stderr",
     "output_type": "stream",
     "text": [
      "================================= fold 2/4 tnf_inhibitor=================================\n"
     ]
    },
    {
     "name": "stdout",
     "output_type": "stream",
     "text": [
      "Training until validation scores don't improve for 50 rounds\n",
      "[100]\ttraining's binary_logloss: 0.00178882\tvalid_1's binary_logloss: 0.0109321\n",
      "Early stopping, best iteration is:\n",
      "[52]\ttraining's binary_logloss: 0.00307969\tvalid_1's binary_logloss: 0.0108995\n"
     ]
    },
    {
     "name": "stderr",
     "output_type": "stream",
     "text": [
      "================================= fold 3/4 tnf_inhibitor=================================\n"
     ]
    },
    {
     "name": "stdout",
     "output_type": "stream",
     "text": [
      "Training until validation scores don't improve for 50 rounds\n",
      "[100]\ttraining's binary_logloss: 0.00184044\tvalid_1's binary_logloss: 0.0112223\n",
      "Early stopping, best iteration is:\n",
      "[71]\ttraining's binary_logloss: 0.00252023\tvalid_1's binary_logloss: 0.0111503\n"
     ]
    },
    {
     "name": "stderr",
     "output_type": "stream",
     "text": [
      "================================= fold 4/4 tnf_inhibitor=================================\n"
     ]
    },
    {
     "name": "stdout",
     "output_type": "stream",
     "text": [
      "Training until validation scores don't improve for 50 rounds\n"
     ]
    },
    {
     "name": "stderr",
     "output_type": "stream",
     "text": [
      "tnf_inhibitor logloss: 0.011134976153922716\n",
      "=========================================================================================\n"
     ]
    },
    {
     "name": "stdout",
     "output_type": "stream",
     "text": [
      "Early stopping, best iteration is:\n",
      "[43]\ttraining's binary_logloss: 0.00360733\tvalid_1's binary_logloss: 0.0111905\n"
     ]
    },
    {
     "name": "stderr",
     "output_type": "stream",
     "text": [
      "================================= fold 1/4 topoisomerase_inhibitor=================================\n"
     ]
    },
    {
     "name": "stdout",
     "output_type": "stream",
     "text": [
      "Training until validation scores don't improve for 50 rounds\n",
      "[100]\ttraining's binary_logloss: 0.00640603\tvalid_1's binary_logloss: 0.0199178\n",
      "[200]\ttraining's binary_logloss: 0.00252353\tvalid_1's binary_logloss: 0.019207\n",
      "Early stopping, best iteration is:\n",
      "[188]\ttraining's binary_logloss: 0.00280326\tvalid_1's binary_logloss: 0.0191813\n"
     ]
    },
    {
     "name": "stderr",
     "output_type": "stream",
     "text": [
      "================================= fold 2/4 topoisomerase_inhibitor=================================\n"
     ]
    },
    {
     "name": "stdout",
     "output_type": "stream",
     "text": [
      "Training until validation scores don't improve for 50 rounds\n",
      "[100]\ttraining's binary_logloss: 0.0062762\tvalid_1's binary_logloss: 0.0197799\n",
      "[200]\ttraining's binary_logloss: 0.00249189\tvalid_1's binary_logloss: 0.0187007\n",
      "Early stopping, best iteration is:\n",
      "[202]\ttraining's binary_logloss: 0.00245079\tvalid_1's binary_logloss: 0.018698\n"
     ]
    },
    {
     "name": "stderr",
     "output_type": "stream",
     "text": [
      "================================= fold 3/4 topoisomerase_inhibitor=================================\n"
     ]
    },
    {
     "name": "stdout",
     "output_type": "stream",
     "text": [
      "Training until validation scores don't improve for 50 rounds\n",
      "[100]\ttraining's binary_logloss: 0.00643552\tvalid_1's binary_logloss: 0.0175142\n",
      "[200]\ttraining's binary_logloss: 0.00258854\tvalid_1's binary_logloss: 0.0158459\n",
      "[300]\ttraining's binary_logloss: 0.00118353\tvalid_1's binary_logloss: 0.0156009\n",
      "Early stopping, best iteration is:\n",
      "[281]\ttraining's binary_logloss: 0.00136209\tvalid_1's binary_logloss: 0.015569\n"
     ]
    },
    {
     "name": "stderr",
     "output_type": "stream",
     "text": [
      "================================= fold 4/4 topoisomerase_inhibitor=================================\n"
     ]
    },
    {
     "name": "stdout",
     "output_type": "stream",
     "text": [
      "Training until validation scores don't improve for 50 rounds\n",
      "[100]\ttraining's binary_logloss: 0.00651587\tvalid_1's binary_logloss: 0.0202765\n",
      "[200]\ttraining's binary_logloss: 0.00257146\tvalid_1's binary_logloss: 0.019261\n",
      "Early stopping, best iteration is:\n",
      "[193]\ttraining's binary_logloss: 0.00273068\tvalid_1's binary_logloss: 0.0192457\n"
     ]
    },
    {
     "name": "stderr",
     "output_type": "stream",
     "text": [
      "topoisomerase_inhibitor logloss: 0.01817356262616328\n",
      "=========================================================================================\n",
      "================================= fold 1/4 transient_receptor_potential_channel_antagonist=================================\n"
     ]
    },
    {
     "name": "stdout",
     "output_type": "stream",
     "text": [
      "Training until validation scores don't improve for 50 rounds\n",
      "Early stopping, best iteration is:\n",
      "[19]\ttraining's binary_logloss: 0.00271516\tvalid_1's binary_logloss: 0.00678537\n"
     ]
    },
    {
     "name": "stderr",
     "output_type": "stream",
     "text": [
      "================================= fold 2/4 transient_receptor_potential_channel_antagonist=================================\n"
     ]
    },
    {
     "name": "stdout",
     "output_type": "stream",
     "text": [
      "Training until validation scores don't improve for 50 rounds\n",
      "Early stopping, best iteration is:\n",
      "[1]\ttraining's binary_logloss: 0.0058116\tvalid_1's binary_logloss: 0.0067977\n"
     ]
    },
    {
     "name": "stderr",
     "output_type": "stream",
     "text": [
      "================================= fold 3/4 transient_receptor_potential_channel_antagonist=================================\n"
     ]
    },
    {
     "name": "stdout",
     "output_type": "stream",
     "text": [
      "Training until validation scores don't improve for 50 rounds\n",
      "Early stopping, best iteration is:\n",
      "[1]\ttraining's binary_logloss: 0.00617417\tvalid_1's binary_logloss: 0.00558947\n"
     ]
    },
    {
     "name": "stderr",
     "output_type": "stream",
     "text": [
      "================================= fold 4/4 transient_receptor_potential_channel_antagonist=================================\n"
     ]
    },
    {
     "name": "stdout",
     "output_type": "stream",
     "text": [
      "Training until validation scores don't improve for 50 rounds\n"
     ]
    },
    {
     "name": "stderr",
     "output_type": "stream",
     "text": [
      "transient_receptor_potential_channel_antagonist logloss: 0.006184752435479574\n",
      "=========================================================================================\n"
     ]
    },
    {
     "name": "stdout",
     "output_type": "stream",
     "text": [
      "Early stopping, best iteration is:\n",
      "[35]\ttraining's binary_logloss: 0.00212956\tvalid_1's binary_logloss: 0.00556627\n"
     ]
    },
    {
     "name": "stderr",
     "output_type": "stream",
     "text": [
      "================================= fold 1/4 tropomyosin_receptor_kinase_inhibitor=================================\n"
     ]
    },
    {
     "name": "stdout",
     "output_type": "stream",
     "text": [
      "Training until validation scores don't improve for 50 rounds\n",
      "Early stopping, best iteration is:\n",
      "[1]\ttraining's binary_logloss: 0.0020235\tvalid_1's binary_logloss: 0.00304663\n"
     ]
    },
    {
     "name": "stderr",
     "output_type": "stream",
     "text": [
      "================================= fold 2/4 tropomyosin_receptor_kinase_inhibitor=================================\n"
     ]
    },
    {
     "name": "stdout",
     "output_type": "stream",
     "text": [
      "Training until validation scores don't improve for 50 rounds\n",
      "Early stopping, best iteration is:\n",
      "[1]\ttraining's binary_logloss: 0.00205284\tvalid_1's binary_logloss: 0.00304813\n"
     ]
    },
    {
     "name": "stderr",
     "output_type": "stream",
     "text": [
      "================================= fold 3/4 tropomyosin_receptor_kinase_inhibitor=================================\n"
     ]
    },
    {
     "name": "stdout",
     "output_type": "stream",
     "text": [
      "Training until validation scores don't improve for 50 rounds\n",
      "[100]\ttraining's binary_logloss: 0.000373185\tvalid_1's binary_logloss: 0.00165453\n",
      "Early stopping, best iteration is:\n",
      "[51]\ttraining's binary_logloss: 0.00070411\tvalid_1's binary_logloss: 0.00163879\n"
     ]
    },
    {
     "name": "stderr",
     "output_type": "stream",
     "text": [
      "================================= fold 4/4 tropomyosin_receptor_kinase_inhibitor=================================\n"
     ]
    },
    {
     "name": "stdout",
     "output_type": "stream",
     "text": [
      "Training until validation scores don't improve for 50 rounds\n",
      "[100]\ttraining's binary_logloss: 0.000332206\tvalid_1's binary_logloss: 0.00158028\n",
      "[200]\ttraining's binary_logloss: 0.000133454\tvalid_1's binary_logloss: 0.00156741\n"
     ]
    },
    {
     "name": "stderr",
     "output_type": "stream",
     "text": [
      "tropomyosin_receptor_kinase_inhibitor logloss: 0.0023240092717326352\n",
      "=========================================================================================\n"
     ]
    },
    {
     "name": "stdout",
     "output_type": "stream",
     "text": [
      "Early stopping, best iteration is:\n",
      "[168]\ttraining's binary_logloss: 0.000172717\tvalid_1's binary_logloss: 0.00156224\n"
     ]
    },
    {
     "name": "stderr",
     "output_type": "stream",
     "text": [
      "================================= fold 1/4 trpv_agonist=================================\n"
     ]
    },
    {
     "name": "stdout",
     "output_type": "stream",
     "text": [
      "Training until validation scores don't improve for 50 rounds\n",
      "[100]\ttraining's binary_logloss: 0.00116986\tvalid_1's binary_logloss: 0.00724916\n",
      "Early stopping, best iteration is:\n",
      "[73]\ttraining's binary_logloss: 0.00160076\tvalid_1's binary_logloss: 0.00723298\n"
     ]
    },
    {
     "name": "stderr",
     "output_type": "stream",
     "text": [
      "================================= fold 2/4 trpv_agonist=================================\n"
     ]
    },
    {
     "name": "stdout",
     "output_type": "stream",
     "text": [
      "Training until validation scores don't improve for 50 rounds\n",
      "Early stopping, best iteration is:\n",
      "[24]\ttraining's binary_logloss: 0.00344646\tvalid_1's binary_logloss: 0.00853513\n"
     ]
    },
    {
     "name": "stderr",
     "output_type": "stream",
     "text": [
      "================================= fold 3/4 trpv_agonist=================================\n"
     ]
    },
    {
     "name": "stdout",
     "output_type": "stream",
     "text": [
      "Training until validation scores don't improve for 50 rounds\n",
      "[100]\ttraining's binary_logloss: 0.00113558\tvalid_1's binary_logloss: 0.00703323\n",
      "Early stopping, best iteration is:\n",
      "[55]\ttraining's binary_logloss: 0.00196187\tvalid_1's binary_logloss: 0.00698376\n"
     ]
    },
    {
     "name": "stderr",
     "output_type": "stream",
     "text": [
      "================================= fold 4/4 trpv_agonist=================================\n"
     ]
    },
    {
     "name": "stdout",
     "output_type": "stream",
     "text": [
      "Training until validation scores don't improve for 50 rounds\n",
      "[100]\ttraining's binary_logloss: 0.00116947\tvalid_1's binary_logloss: 0.00756756\n",
      "Early stopping, best iteration is:\n",
      "[64]\ttraining's binary_logloss: 0.00178136\tvalid_1's binary_logloss: 0.00753011\n"
     ]
    },
    {
     "name": "stderr",
     "output_type": "stream",
     "text": [
      "trpv_agonist logloss: 0.0075705224195698135\n",
      "=========================================================================================\n",
      "================================= fold 1/4 trpv_antagonist=================================\n"
     ]
    },
    {
     "name": "stdout",
     "output_type": "stream",
     "text": [
      "Training until validation scores don't improve for 50 rounds\n",
      "Early stopping, best iteration is:\n",
      "[41]\ttraining's binary_logloss: 0.00495495\tvalid_1's binary_logloss: 0.0145013\n"
     ]
    },
    {
     "name": "stderr",
     "output_type": "stream",
     "text": [
      "================================= fold 2/4 trpv_antagonist=================================\n"
     ]
    },
    {
     "name": "stdout",
     "output_type": "stream",
     "text": [
      "Training until validation scores don't improve for 50 rounds\n",
      "Early stopping, best iteration is:\n",
      "[23]\ttraining's binary_logloss: 0.00703694\tvalid_1's binary_logloss: 0.0144846\n"
     ]
    },
    {
     "name": "stderr",
     "output_type": "stream",
     "text": [
      "================================= fold 3/4 trpv_antagonist=================================\n"
     ]
    },
    {
     "name": "stdout",
     "output_type": "stream",
     "text": [
      "Training until validation scores don't improve for 50 rounds\n",
      "Early stopping, best iteration is:\n",
      "[15]\ttraining's binary_logloss: 0.0103425\tvalid_1's binary_logloss: 0.0142858\n"
     ]
    },
    {
     "name": "stderr",
     "output_type": "stream",
     "text": [
      "================================= fold 4/4 trpv_antagonist=================================\n"
     ]
    },
    {
     "name": "stdout",
     "output_type": "stream",
     "text": [
      "Training until validation scores don't improve for 50 rounds\n"
     ]
    },
    {
     "name": "stderr",
     "output_type": "stream",
     "text": [
      "trpv_antagonist logloss: 0.01442963837471077\n",
      "=========================================================================================\n"
     ]
    },
    {
     "name": "stdout",
     "output_type": "stream",
     "text": [
      "Early stopping, best iteration is:\n",
      "[8]\ttraining's binary_logloss: 0.0117363\tvalid_1's binary_logloss: 0.0144469\n"
     ]
    },
    {
     "name": "stderr",
     "output_type": "stream",
     "text": [
      "================================= fold 1/4 tubulin_inhibitor=================================\n"
     ]
    },
    {
     "name": "stdout",
     "output_type": "stream",
     "text": [
      "Training until validation scores don't improve for 50 rounds\n",
      "[100]\ttraining's binary_logloss: 0.0164793\tvalid_1's binary_logloss: 0.0346699\n",
      "[200]\ttraining's binary_logloss: 0.00678252\tvalid_1's binary_logloss: 0.0300928\n",
      "[300]\ttraining's binary_logloss: 0.00317393\tvalid_1's binary_logloss: 0.0289811\n",
      "[400]\ttraining's binary_logloss: 0.00161841\tvalid_1's binary_logloss: 0.0289145\n",
      "Early stopping, best iteration is:\n",
      "[366]\ttraining's binary_logloss: 0.00202179\tvalid_1's binary_logloss: 0.0288314\n"
     ]
    },
    {
     "name": "stderr",
     "output_type": "stream",
     "text": [
      "================================= fold 2/4 tubulin_inhibitor=================================\n"
     ]
    },
    {
     "name": "stdout",
     "output_type": "stream",
     "text": [
      "Training until validation scores don't improve for 50 rounds\n",
      "[100]\ttraining's binary_logloss: 0.01643\tvalid_1's binary_logloss: 0.030089\n",
      "[200]\ttraining's binary_logloss: 0.00684238\tvalid_1's binary_logloss: 0.0239286\n",
      "[300]\ttraining's binary_logloss: 0.00329515\tvalid_1's binary_logloss: 0.0219486\n",
      "[400]\ttraining's binary_logloss: 0.00171145\tvalid_1's binary_logloss: 0.0214877\n",
      "Early stopping, best iteration is:\n",
      "[369]\ttraining's binary_logloss: 0.00207526\tvalid_1's binary_logloss: 0.0214526\n"
     ]
    },
    {
     "name": "stderr",
     "output_type": "stream",
     "text": [
      "================================= fold 3/4 tubulin_inhibitor=================================\n"
     ]
    },
    {
     "name": "stdout",
     "output_type": "stream",
     "text": [
      "Training until validation scores don't improve for 50 rounds\n",
      "[100]\ttraining's binary_logloss: 0.0162189\tvalid_1's binary_logloss: 0.0342448\n",
      "[200]\ttraining's binary_logloss: 0.00676246\tvalid_1's binary_logloss: 0.0302672\n",
      "[300]\ttraining's binary_logloss: 0.00320763\tvalid_1's binary_logloss: 0.0297778\n",
      "Early stopping, best iteration is:\n",
      "[276]\ttraining's binary_logloss: 0.00380208\tvalid_1's binary_logloss: 0.0297326\n"
     ]
    },
    {
     "name": "stderr",
     "output_type": "stream",
     "text": [
      "================================= fold 4/4 tubulin_inhibitor=================================\n"
     ]
    },
    {
     "name": "stdout",
     "output_type": "stream",
     "text": [
      "Training until validation scores don't improve for 50 rounds\n",
      "[100]\ttraining's binary_logloss: 0.0159767\tvalid_1's binary_logloss: 0.0314635\n",
      "[200]\ttraining's binary_logloss: 0.00658664\tvalid_1's binary_logloss: 0.0267454\n",
      "[300]\ttraining's binary_logloss: 0.00302983\tvalid_1's binary_logloss: 0.0262462\n",
      "Early stopping, best iteration is:\n",
      "[282]\ttraining's binary_logloss: 0.00345712\tvalid_1's binary_logloss: 0.0262078\n"
     ]
    },
    {
     "name": "stderr",
     "output_type": "stream",
     "text": [
      "tubulin_inhibitor logloss: 0.026555995600675418\n",
      "=========================================================================================\n",
      "================================= fold 1/4 tyrosine_kinase_inhibitor=================================\n"
     ]
    },
    {
     "name": "stdout",
     "output_type": "stream",
     "text": [
      "Training until validation scores don't improve for 50 rounds\n",
      "Early stopping, best iteration is:\n",
      "[1]\ttraining's binary_logloss: 0.0202579\tvalid_1's binary_logloss: 0.0205157\n"
     ]
    },
    {
     "name": "stderr",
     "output_type": "stream",
     "text": [
      "================================= fold 2/4 tyrosine_kinase_inhibitor=================================\n"
     ]
    },
    {
     "name": "stdout",
     "output_type": "stream",
     "text": [
      "Training until validation scores don't improve for 50 rounds\n",
      "Early stopping, best iteration is:\n",
      "[35]\ttraining's binary_logloss: 0.00894971\tvalid_1's binary_logloss: 0.0210716\n"
     ]
    },
    {
     "name": "stderr",
     "output_type": "stream",
     "text": [
      "================================= fold 3/4 tyrosine_kinase_inhibitor=================================\n"
     ]
    },
    {
     "name": "stdout",
     "output_type": "stream",
     "text": [
      "Training until validation scores don't improve for 50 rounds\n",
      "Early stopping, best iteration is:\n",
      "[38]\ttraining's binary_logloss: 0.00845479\tvalid_1's binary_logloss: 0.0204058\n"
     ]
    },
    {
     "name": "stderr",
     "output_type": "stream",
     "text": [
      "================================= fold 4/4 tyrosine_kinase_inhibitor=================================\n"
     ]
    },
    {
     "name": "stdout",
     "output_type": "stream",
     "text": [
      "Training until validation scores don't improve for 50 rounds\n",
      "[100]\ttraining's binary_logloss: 0.00409761\tvalid_1's binary_logloss: 0.0204839\n",
      "Early stopping, best iteration is:\n",
      "[64]\ttraining's binary_logloss: 0.00610074\tvalid_1's binary_logloss: 0.020276\n"
     ]
    },
    {
     "name": "stderr",
     "output_type": "stream",
     "text": [
      "tyrosine_kinase_inhibitor logloss: 0.02056730790584446\n",
      "=========================================================================================\n",
      "================================= fold 1/4 ubiquitin_specific_protease_inhibitor=================================\n"
     ]
    },
    {
     "name": "stdout",
     "output_type": "stream",
     "text": [
      "Training until validation scores don't improve for 50 rounds\n",
      "Early stopping, best iteration is:\n",
      "[1]\ttraining's binary_logloss: 0.00206398\tvalid_1's binary_logloss: 0.00304823\n"
     ]
    },
    {
     "name": "stderr",
     "output_type": "stream",
     "text": [
      "================================= fold 2/4 ubiquitin_specific_protease_inhibitor=================================\n"
     ]
    },
    {
     "name": "stdout",
     "output_type": "stream",
     "text": [
      "Training until validation scores don't improve for 50 rounds\n",
      "Early stopping, best iteration is:\n",
      "[1]\ttraining's binary_logloss: 0.00205287\tvalid_1's binary_logloss: 0.0030482\n"
     ]
    },
    {
     "name": "stderr",
     "output_type": "stream",
     "text": [
      "================================= fold 3/4 ubiquitin_specific_protease_inhibitor=================================\n"
     ]
    },
    {
     "name": "stdout",
     "output_type": "stream",
     "text": [
      "Training until validation scores don't improve for 50 rounds\n",
      "[100]\ttraining's binary_logloss: 0.000330846\tvalid_1's binary_logloss: 0.00160133\n",
      "Early stopping, best iteration is:\n",
      "[124]\ttraining's binary_logloss: 0.000257491\tvalid_1's binary_logloss: 0.00159596\n"
     ]
    },
    {
     "name": "stderr",
     "output_type": "stream",
     "text": [
      "================================= fold 4/4 ubiquitin_specific_protease_inhibitor=================================\n"
     ]
    },
    {
     "name": "stdout",
     "output_type": "stream",
     "text": [
      "Training until validation scores don't improve for 50 rounds\n",
      "[100]\ttraining's binary_logloss: 0.000311576\tvalid_1's binary_logloss: 0.00164451\n",
      "Early stopping, best iteration is:\n",
      "[60]\ttraining's binary_logloss: 0.000504711\tvalid_1's binary_logloss: 0.00163419\n"
     ]
    },
    {
     "name": "stderr",
     "output_type": "stream",
     "text": [
      "ubiquitin_specific_protease_inhibitor logloss: 0.0023317026047548193\n",
      "=========================================================================================\n",
      "================================= fold 1/4 vegfr_inhibitor=================================\n"
     ]
    },
    {
     "name": "stdout",
     "output_type": "stream",
     "text": [
      "Training until validation scores don't improve for 50 rounds\n",
      "[100]\ttraining's binary_logloss: 0.00961051\tvalid_1's binary_logloss: 0.0301535\n",
      "[200]\ttraining's binary_logloss: 0.00417643\tvalid_1's binary_logloss: 0.0287758\n",
      "Early stopping, best iteration is:\n",
      "[198]\ttraining's binary_logloss: 0.00424502\tvalid_1's binary_logloss: 0.0287441\n"
     ]
    },
    {
     "name": "stderr",
     "output_type": "stream",
     "text": [
      "================================= fold 2/4 vegfr_inhibitor=================================\n"
     ]
    },
    {
     "name": "stdout",
     "output_type": "stream",
     "text": [
      "Training until validation scores don't improve for 50 rounds\n",
      "[100]\ttraining's binary_logloss: 0.00988254\tvalid_1's binary_logloss: 0.0293324\n",
      "[200]\ttraining's binary_logloss: 0.00440223\tvalid_1's binary_logloss: 0.0277486\n",
      "Early stopping, best iteration is:\n",
      "[234]\ttraining's binary_logloss: 0.00346656\tvalid_1's binary_logloss: 0.0275769\n"
     ]
    },
    {
     "name": "stderr",
     "output_type": "stream",
     "text": [
      "================================= fold 3/4 vegfr_inhibitor=================================\n"
     ]
    },
    {
     "name": "stdout",
     "output_type": "stream",
     "text": [
      "Training until validation scores don't improve for 50 rounds\n",
      "[100]\ttraining's binary_logloss: 0.00988467\tvalid_1's binary_logloss: 0.0305687\n",
      "[200]\ttraining's binary_logloss: 0.00431836\tvalid_1's binary_logloss: 0.0294851\n",
      "Early stopping, best iteration is:\n",
      "[197]\ttraining's binary_logloss: 0.00442074\tvalid_1's binary_logloss: 0.0294764\n"
     ]
    },
    {
     "name": "stderr",
     "output_type": "stream",
     "text": [
      "================================= fold 4/4 vegfr_inhibitor=================================\n"
     ]
    },
    {
     "name": "stdout",
     "output_type": "stream",
     "text": [
      "Training until validation scores don't improve for 50 rounds\n",
      "[100]\ttraining's binary_logloss: 0.0103993\tvalid_1's binary_logloss: 0.0312644\n",
      "[200]\ttraining's binary_logloss: 0.00464952\tvalid_1's binary_logloss: 0.030463\n",
      "Early stopping, best iteration is:\n",
      "[175]\ttraining's binary_logloss: 0.00560932\tvalid_1's binary_logloss: 0.0304024\n"
     ]
    },
    {
     "name": "stderr",
     "output_type": "stream",
     "text": [
      "vegfr_inhibitor logloss: 0.02904986826093418\n",
      "=========================================================================================\n",
      "================================= fold 1/4 vitamin_b=================================\n"
     ]
    },
    {
     "name": "stdout",
     "output_type": "stream",
     "text": [
      "Training until validation scores don't improve for 50 rounds\n",
      "Early stopping, best iteration is:\n",
      "[1]\ttraining's binary_logloss: 0.00791305\tvalid_1's binary_logloss: 0.00911664\n"
     ]
    },
    {
     "name": "stderr",
     "output_type": "stream",
     "text": [
      "================================= fold 2/4 vitamin_b=================================\n"
     ]
    },
    {
     "name": "stdout",
     "output_type": "stream",
     "text": [
      "Training until validation scores don't improve for 50 rounds\n",
      "Early stopping, best iteration is:\n",
      "[20]\ttraining's binary_logloss: 0.0039547\tvalid_1's binary_logloss: 0.00895973\n"
     ]
    },
    {
     "name": "stderr",
     "output_type": "stream",
     "text": [
      "================================= fold 3/4 vitamin_b=================================\n"
     ]
    },
    {
     "name": "stdout",
     "output_type": "stream",
     "text": [
      "Training until validation scores don't improve for 50 rounds\n",
      "Early stopping, best iteration is:\n",
      "[43]\ttraining's binary_logloss: 0.00273474\tvalid_1's binary_logloss: 0.00796203\n"
     ]
    },
    {
     "name": "stderr",
     "output_type": "stream",
     "text": [
      "================================= fold 4/4 vitamin_b=================================\n"
     ]
    },
    {
     "name": "stdout",
     "output_type": "stream",
     "text": [
      "Training until validation scores don't improve for 50 rounds\n"
     ]
    },
    {
     "name": "stderr",
     "output_type": "stream",
     "text": [
      "vitamin_b logloss: 0.00848467728273996\n",
      "=========================================================================================\n"
     ]
    },
    {
     "name": "stdout",
     "output_type": "stream",
     "text": [
      "Early stopping, best iteration is:\n",
      "[41]\ttraining's binary_logloss: 0.00267331\tvalid_1's binary_logloss: 0.00790012\n"
     ]
    },
    {
     "name": "stderr",
     "output_type": "stream",
     "text": [
      "================================= fold 1/4 vitamin_d_receptor_agonist=================================\n"
     ]
    },
    {
     "name": "stdout",
     "output_type": "stream",
     "text": [
      "Training until validation scores don't improve for 50 rounds\n",
      "[100]\ttraining's binary_logloss: 0.00168809\tvalid_1's binary_logloss: 0.00872201\n",
      "[200]\ttraining's binary_logloss: 0.000633694\tvalid_1's binary_logloss: 0.00864342\n",
      "Early stopping, best iteration is:\n",
      "[152]\ttraining's binary_logloss: 0.000985608\tvalid_1's binary_logloss: 0.00863044\n"
     ]
    },
    {
     "name": "stderr",
     "output_type": "stream",
     "text": [
      "================================= fold 2/4 vitamin_d_receptor_agonist=================================\n"
     ]
    },
    {
     "name": "stdout",
     "output_type": "stream",
     "text": [
      "Training until validation scores don't improve for 50 rounds\n",
      "[100]\ttraining's binary_logloss: 0.00168536\tvalid_1's binary_logloss: 0.00822354\n",
      "[200]\ttraining's binary_logloss: 0.0006402\tvalid_1's binary_logloss: 0.00793144\n",
      "Early stopping, best iteration is:\n",
      "[219]\ttraining's binary_logloss: 0.000545227\tvalid_1's binary_logloss: 0.0079155\n"
     ]
    },
    {
     "name": "stderr",
     "output_type": "stream",
     "text": [
      "================================= fold 3/4 vitamin_d_receptor_agonist=================================\n"
     ]
    },
    {
     "name": "stdout",
     "output_type": "stream",
     "text": [
      "Training until validation scores don't improve for 50 rounds\n",
      "[100]\ttraining's binary_logloss: 0.00173939\tvalid_1's binary_logloss: 0.00736622\n",
      "[200]\ttraining's binary_logloss: 0.000667899\tvalid_1's binary_logloss: 0.00679879\n",
      "[300]\ttraining's binary_logloss: 0.000304954\tvalid_1's binary_logloss: 0.00652076\n",
      "Early stopping, best iteration is:\n",
      "[344]\ttraining's binary_logloss: 0.000226461\tvalid_1's binary_logloss: 0.0064972\n"
     ]
    },
    {
     "name": "stderr",
     "output_type": "stream",
     "text": [
      "================================= fold 4/4 vitamin_d_receptor_agonist=================================\n"
     ]
    },
    {
     "name": "stdout",
     "output_type": "stream",
     "text": [
      "Training until validation scores don't improve for 50 rounds\n",
      "[100]\ttraining's binary_logloss: 0.00167228\tvalid_1's binary_logloss: 0.0104588\n"
     ]
    },
    {
     "name": "stderr",
     "output_type": "stream",
     "text": [
      "vitamin_d_receptor_agonist logloss: 0.008368711102831881\n",
      "=========================================================================================\n"
     ]
    },
    {
     "name": "stdout",
     "output_type": "stream",
     "text": [
      "Early stopping, best iteration is:\n",
      "[118]\ttraining's binary_logloss: 0.00137745\tvalid_1's binary_logloss: 0.0104317\n"
     ]
    },
    {
     "name": "stderr",
     "output_type": "stream",
     "text": [
      "================================= fold 1/4 wnt_inhibitor=================================\n"
     ]
    },
    {
     "name": "stdout",
     "output_type": "stream",
     "text": [
      "Training until validation scores don't improve for 50 rounds\n",
      "Early stopping, best iteration is:\n",
      "[1]\ttraining's binary_logloss: 0.00919562\tvalid_1's binary_logloss: 0.0102374\n"
     ]
    },
    {
     "name": "stderr",
     "output_type": "stream",
     "text": [
      "================================= fold 2/4 wnt_inhibitor=================================\n"
     ]
    },
    {
     "name": "stdout",
     "output_type": "stream",
     "text": [
      "Training until validation scores don't improve for 50 rounds\n",
      "Early stopping, best iteration is:\n",
      "[8]\ttraining's binary_logloss: 0.00692166\tvalid_1's binary_logloss: 0.0102137\n"
     ]
    },
    {
     "name": "stderr",
     "output_type": "stream",
     "text": [
      "================================= fold 3/4 wnt_inhibitor=================================\n"
     ]
    },
    {
     "name": "stdout",
     "output_type": "stream",
     "text": [
      "Training until validation scores don't improve for 50 rounds\n",
      "Early stopping, best iteration is:\n",
      "[30]\ttraining's binary_logloss: 0.00388534\tvalid_1's binary_logloss: 0.00901589\n"
     ]
    },
    {
     "name": "stderr",
     "output_type": "stream",
     "text": [
      "================================= fold 4/4 wnt_inhibitor=================================\n"
     ]
    },
    {
     "name": "stdout",
     "output_type": "stream",
     "text": [
      "Training until validation scores don't improve for 50 rounds\n"
     ]
    },
    {
     "name": "stderr",
     "output_type": "stream",
     "text": [
      "wnt_inhibitor logloss: 0.009615582273095984\n",
      "=========================================================================================\n"
     ]
    },
    {
     "name": "stdout",
     "output_type": "stream",
     "text": [
      "Early stopping, best iteration is:\n",
      "[5]\ttraining's binary_logloss: 0.00814568\tvalid_1's binary_logloss: 0.00899511\n",
      "\n"
     ]
    }
   ],
   "source": [
    "for target_col in tqdm(train_targets_scored.columns[1:]):\n",
    "    _preds, _score, models = run_lgbm(target_col)\n",
    "\n",
    "    sub[target_col] = _preds\n",
    "    scores.append(_score)\n",
    "        \n",
    "    for model in models:\n",
    "        _importance_df = pd.DataFrame()\n",
    "        _importance_df[\"Feature\"] = train.columns[1:]\n",
    "        _importance_df[\"importance\"] = model.feature_importance(importance_type='gain')\n",
    "        feature_importance_df = pd.concat([feature_importance_df, _importance_df], axis=0)"
   ]
  },
  {
   "cell_type": "code",
   "execution_count": 16,
   "metadata": {
    "execution": {
     "iopub.execute_input": "2020-10-24T00:07:02.215833Z",
     "iopub.status.busy": "2020-10-24T00:07:02.215097Z",
     "iopub.status.idle": "2020-10-24T00:07:04.800647Z",
     "shell.execute_reply": "2020-10-24T00:07:04.799854Z"
    },
    "papermill": {
     "duration": 4.127759,
     "end_time": "2020-10-24T00:07:04.800779",
     "exception": false,
     "start_time": "2020-10-24T00:07:00.673020",
     "status": "completed"
    },
    "tags": []
   },
   "outputs": [],
   "source": [
    "sub.to_csv('submission.csv', index=False)"
   ]
  },
  {
   "cell_type": "code",
   "execution_count": 17,
   "metadata": {
    "execution": {
     "iopub.execute_input": "2020-10-24T00:07:07.893425Z",
     "iopub.status.busy": "2020-10-24T00:07:07.892446Z",
     "iopub.status.idle": "2020-10-24T00:07:07.895825Z",
     "shell.execute_reply": "2020-10-24T00:07:07.896520Z"
    },
    "papermill": {
     "duration": 1.555583,
     "end_time": "2020-10-24T00:07:07.896685",
     "exception": false,
     "start_time": "2020-10-24T00:07:06.341102",
     "status": "completed"
    },
    "tags": []
   },
   "outputs": [
    {
     "name": "stdout",
     "output_type": "stream",
     "text": [
      "CV:0.016366154133975203\n"
     ]
    }
   ],
   "source": [
    "print(f\"CV:{np.mean(scores)}\")"
   ]
  },
  {
   "cell_type": "code",
   "execution_count": 18,
   "metadata": {
    "execution": {
     "iopub.execute_input": "2020-10-24T00:07:10.985841Z",
     "iopub.status.busy": "2020-10-24T00:07:10.985071Z",
     "iopub.status.idle": "2020-10-24T00:07:17.502878Z",
     "shell.execute_reply": "2020-10-24T00:07:17.502209Z"
    },
    "papermill": {
     "duration": 8.06056,
     "end_time": "2020-10-24T00:07:17.503005",
     "exception": false,
     "start_time": "2020-10-24T00:07:09.442445",
     "status": "completed"
    },
    "tags": []
   },
   "outputs": [
    {
     "data": {
      "image/png": "[encoded data removed]",
      "text/plain": [
       "<Figure size 576x2160 with 1 Axes>"
      ]
     },
     "metadata": {
      "needs_background": "light"
     },
     "output_type": "display_data"
    }
   ],
   "source": [
    "show_feature_importance(feature_importance_df)"
   ]
  },
  {
   "cell_type": "code",
   "execution_count": null,
   "metadata": {
    "papermill": {
     "duration": 1.607551,
     "end_time": "2020-10-24T00:07:20.656894",
     "exception": false,
     "start_time": "2020-10-24T00:07:19.049343",
     "status": "completed"
    },
    "tags": []
   },
   "outputs": [],
   "source": []
  }
 ],
 "metadata": {
  "kernelspec": {
   "display_name": "Python 3",
   "language": "python",
   "name": "python3"
  },
  "language_info": {
   "codemirror_mode": {
    "name": "ipython",
    "version": 3
   },
   "file_extension": ".py",
   "mimetype": "text/x-python",
   "name": "python",
   "nbconvert_exporter": "python",
   "pygments_lexer": "ipython3",
   "version": "3.7.6"
  },
  "papermill": {
   "duration": 11755.751896,
   "end_time": "2020-10-24T00:07:22.369718",
   "environment_variables": {},
   "exception": null,
   "input_path": "__notebook__.ipynb",
   "output_path": "__notebook__.ipynb",
   "parameters": {},
   "start_time": "2020-10-23T20:51:26.617822",
   "version": "2.1.0"
  },
  "widgets": {
   "application/vnd.jupyter.widget-state+json": {
    "state": {
     "15571fdc98db4eb8b3ea9a2ef5b7fa64": {
      "model_module": "@jupyter-widgets/controls",
      "model_module_version": "1.5.0",
      "model_name": "FloatProgressModel",
      "state": {
       "_dom_classes": [],
       "_model_module": "@jupyter-widgets/controls",
       "_model_module_version": "1.5.0",
       "_model_name": "FloatProgressModel",
       "_view_count": null,
       "_view_module": "@jupyter-widgets/controls",
       "_view_module_version": "1.5.0",
       "_view_name": "ProgressView",
       "bar_style": "success",
       "description": "100%",
       "description_tooltip": null,
       "layout": "IPY_MODEL_6d9f48420c97438e8d29c68efcbbd41f",
       "max": 206.0,
       "min": 0.0,
       "orientation": "horizontal",
       "style": "IPY_MODEL_89c0ee20292948e8b6ed8bc5d73de006",
       "value": 206.0
      }
     },
     "164ad1ab4f274f3ba8b0cbad56566604": {
      "model_module": "@jupyter-widgets/controls",
      "model_module_version": "1.5.0",
      "model_name": "DescriptionStyleModel",
      "state": {
       "_model_module": "@jupyter-widgets/controls",
       "_model_module_version": "1.5.0",
       "_model_name": "DescriptionStyleModel",
       "_view_count": null,
       "_view_module": "@jupyter-widgets/base",
       "_view_module_version": "1.2.0",
       "_view_name": "StyleView",
       "description_width": ""
      }
     },
     "6d9f48420c97438e8d29c68efcbbd41f": {
      "model_module": "@jupyter-widgets/base",
      "model_module_version": "1.2.0",
      "model_name": "LayoutModel",
      "state": {
       "_model_module": "@jupyter-widgets/base",
       "_model_module_version": "1.2.0",
       "_model_name": "LayoutModel",
       "_view_count": null,
       "_view_module": "@jupyter-widgets/base",
       "_view_module_version": "1.2.0",
       "_view_name": "LayoutView",
       "align_content": null,
       "align_items": null,
       "align_self": null,
       "border": null,
       "bottom": null,
       "display": null,
       "flex": null,
       "flex_flow": null,
       "grid_area": null,
       "grid_auto_columns": null,
       "grid_auto_flow": null,
       "grid_auto_rows": null,
       "grid_column": null,
       "grid_gap": null,
       "grid_row": null,
       "grid_template_areas": null,
       "grid_template_columns": null,
       "grid_template_rows": null,
       "height": null,
       "justify_content": null,
       "justify_items": null,
       "left": null,
       "margin": null,
       "max_height": null,
       "max_width": null,
       "min_height": null,
       "min_width": null,
       "object_fit": null,
       "object_position": null,
       "order": null,
       "overflow": null,
       "overflow_x": null,
       "overflow_y": null,
       "padding": null,
       "right": null,
       "top": null,
       "visibility": null,
       "width": null
      }
     },
     "89c0ee20292948e8b6ed8bc5d73de006": {
      "model_module": "@jupyter-widgets/controls",
      "model_module_version": "1.5.0",
      "model_name": "ProgressStyleModel",
      "state": {
       "_model_module": "@jupyter-widgets/controls",
       "_model_module_version": "1.5.0",
       "_model_name": "ProgressStyleModel",
       "_view_count": null,
       "_view_module": "@jupyter-widgets/base",
       "_view_module_version": "1.2.0",
       "_view_name": "StyleView",
       "bar_color": null,
       "description_width": "initial"
      }
     },
     "afcc0e459ba143c6aa4d5f1815f5827d": {
      "model_module": "@jupyter-widgets/base",
      "model_module_version": "1.2.0",
      "model_name": "LayoutModel",
      "state": {
       "_model_module": "@jupyter-widgets/base",
       "_model_module_version": "1.2.0",
       "_model_name": "LayoutModel",
       "_view_count": null,
       "_view_module": "@jupyter-widgets/base",
       "_view_module_version": "1.2.0",
       "_view_name": "LayoutView",
       "align_content": null,
       "align_items": null,
       "align_self": null,
       "border": null,
       "bottom": null,
       "display": null,
       "flex": null,
       "flex_flow": null,
       "grid_area": null,
       "grid_auto_columns": null,
       "grid_auto_flow": null,
       "grid_auto_rows": null,
       "grid_column": null,
       "grid_gap": null,
       "grid_row": null,
       "grid_template_areas": null,
       "grid_template_columns": null,
       "grid_template_rows": null,
       "height": null,
       "justify_content": null,
       "justify_items": null,
       "left": null,
       "margin": null,
       "max_height": null,
       "max_width": null,
       "min_height": null,
       "min_width": null,
       "object_fit": null,
       "object_position": null,
       "order": null,
       "overflow": null,
       "overflow_x": null,
       "overflow_y": null,
       "padding": null,
       "right": null,
       "top": null,
       "visibility": null,
       "width": null
      }
     },
     "ca0babb35cd64ce9863290be6326e456": {
      "model_module": "@jupyter-widgets/base",
      "model_module_version": "1.2.0",
      "model_name": "LayoutModel",
      "state": {
       "_model_module": "@jupyter-widgets/base",
       "_model_module_version": "1.2.0",
       "_model_name": "LayoutModel",
       "_view_count": null,
       "_view_module": "@jupyter-widgets/base",
       "_view_module_version": "1.2.0",
       "_view_name": "LayoutView",
       "align_content": null,
       "align_items": null,
       "align_self": null,
       "border": null,
       "bottom": null,
       "display": null,
       "flex": null,
       "flex_flow": null,
       "grid_area": null,
       "grid_auto_columns": null,
       "grid_auto_flow": null,
       "grid_auto_rows": null,
       "grid_column": null,
       "grid_gap": null,
       "grid_row": null,
       "grid_template_areas": null,
       "grid_template_columns": null,
       "grid_template_rows": null,
       "height": null,
       "justify_content": null,
       "justify_items": null,
       "left": null,
       "margin": null,
       "max_height": null,
       "max_width": null,
       "min_height": null,
       "min_width": null,
       "object_fit": null,
       "object_position": null,
       "order": null,
       "overflow": null,
       "overflow_x": null,
       "overflow_y": null,
       "padding": null,
       "right": null,
       "top": null,
       "visibility": null,
       "width": null
      }
     },
     "e922dc2bb8f644f6ba765503743b41b4": {
      "model_module": "@jupyter-widgets/controls",
      "model_module_version": "1.5.0",
      "model_name": "HBoxModel",
      "state": {
       "_dom_classes": [],
       "_model_module": "@jupyter-widgets/controls",
       "_model_module_version": "1.5.0",
       "_model_name": "HBoxModel",
       "_view_count": null,
       "_view_module": "@jupyter-widgets/controls",
       "_view_module_version": "1.5.0",
       "_view_name": "HBoxView",
       "box_style": "",
       "children": [
        "IPY_MODEL_15571fdc98db4eb8b3ea9a2ef5b7fa64",
        "IPY_MODEL_fd595eeac42c4e54adc4e5904ad0a6a4"
       ],
       "layout": "IPY_MODEL_afcc0e459ba143c6aa4d5f1815f5827d"
      }
     },
     "fd595eeac42c4e54adc4e5904ad0a6a4": {
      "model_module": "@jupyter-widgets/controls",
      "model_module_version": "1.5.0",
      "model_name": "HTMLModel",
      "state": {
       "_dom_classes": [],
       "_model_module": "@jupyter-widgets/controls",
       "_model_module_version": "1.5.0",
       "_model_name": "HTMLModel",
       "_view_count": null,
       "_view_module": "@jupyter-widgets/controls",
       "_view_module_version": "1.5.0",
       "_view_name": "HTMLView",
       "description": "",
       "description_tooltip": null,
       "layout": "IPY_MODEL_ca0babb35cd64ce9863290be6326e456",
       "placeholder": "​",
       "style": "IPY_MODEL_164ad1ab4f274f3ba8b0cbad56566604",
       "value": " 206/206 [3:15:32&lt;00:00, 56.96s/it]"
      }
     }
    },
    "version_major": 2,
    "version_minor": 0
   }
  }
 },
 "nbformat": 4,
 "nbformat_minor": 4
}
