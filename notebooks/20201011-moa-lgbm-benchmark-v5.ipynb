{
 "cells": [
  {
   "cell_type": "markdown",
   "metadata": {
    "papermill": {
     "duration": 0.017552,
     "end_time": "2020-10-12T23:56:42.356489",
     "exception": false,
     "start_time": "2020-10-12T23:56:42.338937",
     "status": "completed"
    },
    "tags": []
   },
   "source": [
    "Thanks for:\n",
    "* https://www.kaggle.com/sishihara/moa-lgbm-benchmark#Preprocessing\n",
    "\n",
    "* https://www.kaggle.com/ttahara/osic-baseline-lgbm-with-custom-metric\n",
    "\n",
    "* https://zenn.dev/fkubota/articles/2b8d46b11c178ac2fa2d\n",
    "\n"
   ]
  },
  {
   "cell_type": "code",
   "execution_count": 1,
   "metadata": {
    "execution": {
     "iopub.execute_input": "2020-10-12T23:56:42.393137Z",
     "iopub.status.busy": "2020-10-12T23:56:42.392210Z",
     "iopub.status.idle": "2020-10-12T23:56:42.395408Z",
     "shell.execute_reply": "2020-10-12T23:56:42.394893Z"
    },
    "papermill": {
     "duration": 0.023277,
     "end_time": "2020-10-12T23:56:42.395526",
     "exception": false,
     "start_time": "2020-10-12T23:56:42.372249",
     "status": "completed"
    },
    "tags": []
   },
   "outputs": [],
   "source": [
    "# Version = \"v1\" # starter model\n",
    "# Version = \"v2\" # Compare treat Vs. ctrl and minor modifications, StratifiedKFold\n",
    "# Version = \"v3\" # Add debug mode and minor modifications\n",
    "# Version = \"v4\" # Clipping a control with an outlier(25-75)\n",
    "\n",
    "Version = \"v5\" # Clipping a control with an outlier(20-80)"
   ]
  },
  {
   "cell_type": "code",
   "execution_count": 2,
   "metadata": {
    "execution": {
     "iopub.execute_input": "2020-10-12T23:56:42.432325Z",
     "iopub.status.busy": "2020-10-12T23:56:42.431564Z",
     "iopub.status.idle": "2020-10-12T23:56:42.434666Z",
     "shell.execute_reply": "2020-10-12T23:56:42.434037Z"
    },
    "papermill": {
     "duration": 0.02312,
     "end_time": "2020-10-12T23:56:42.434774",
     "exception": false,
     "start_time": "2020-10-12T23:56:42.411654",
     "status": "completed"
    },
    "tags": []
   },
   "outputs": [],
   "source": [
    "DEBUG = True"
   ]
  },
  {
   "cell_type": "markdown",
   "metadata": {
    "papermill": {
     "duration": 0.015419,
     "end_time": "2020-10-12T23:56:42.466042",
     "exception": false,
     "start_time": "2020-10-12T23:56:42.450623",
     "status": "completed"
    },
    "tags": []
   },
   "source": [
    "# Library"
   ]
  },
  {
   "cell_type": "code",
   "execution_count": 3,
   "metadata": {
    "_cell_guid": "b1076dfc-b9ad-4769-8c92-a6c4dae69d19",
    "_uuid": "8f2839f25d086af736a60e9eeb907d3b93b6e0e5",
    "execution": {
     "iopub.execute_input": "2020-10-12T23:56:42.506344Z",
     "iopub.status.busy": "2020-10-12T23:56:42.505561Z",
     "iopub.status.idle": "2020-10-12T23:56:44.334476Z",
     "shell.execute_reply": "2020-10-12T23:56:44.333796Z"
    },
    "papermill": {
     "duration": 1.851122,
     "end_time": "2020-10-12T23:56:44.334606",
     "exception": false,
     "start_time": "2020-10-12T23:56:42.483484",
     "status": "completed"
    },
    "tags": []
   },
   "outputs": [],
   "source": [
    "import lightgbm as lgb\n",
    "from logging import getLogger, INFO, StreamHandler, FileHandler, Formatter\n",
    "\n",
    "import numpy as np\n",
    "import pandas as pd\n",
    "import matplotlib.pyplot as plt\n",
    "import seaborn as sns\n",
    "\n",
    "import os\n",
    "import random\n",
    "\n",
    "from sklearn import preprocessing\n",
    "from sklearn.metrics import log_loss\n",
    "from sklearn.model_selection import StratifiedKFold\n",
    "\n",
    "from tqdm.notebook import tqdm\n",
    "import torch\n",
    "\n",
    "import warnings\n",
    "warnings.filterwarnings(\"ignore\")"
   ]
  },
  {
   "cell_type": "markdown",
   "metadata": {
    "papermill": {
     "duration": 0.016293,
     "end_time": "2020-10-12T23:56:44.366924",
     "exception": false,
     "start_time": "2020-10-12T23:56:44.350631",
     "status": "completed"
    },
    "tags": []
   },
   "source": [
    "# Utils"
   ]
  },
  {
   "cell_type": "code",
   "execution_count": 4,
   "metadata": {
    "execution": {
     "iopub.execute_input": "2020-10-12T23:56:44.481863Z",
     "iopub.status.busy": "2020-10-12T23:56:44.481104Z",
     "iopub.status.idle": "2020-10-12T23:56:44.485430Z",
     "shell.execute_reply": "2020-10-12T23:56:44.484805Z"
    },
    "papermill": {
     "duration": 0.102824,
     "end_time": "2020-10-12T23:56:44.485543",
     "exception": false,
     "start_time": "2020-10-12T23:56:44.382719",
     "status": "completed"
    },
    "tags": []
   },
   "outputs": [],
   "source": [
    "def get_logger(filename='log'):\n",
    "    logger = getLogger(__name__)\n",
    "    logger.setLevel(INFO)\n",
    "    handler1 = StreamHandler()\n",
    "    handler1.setFormatter(Formatter(\"%(message)s\"))\n",
    "    handler2 = FileHandler(filename=f\"{filename}.{Version}.log\")\n",
    "    handler2.setFormatter(Formatter(\"%(message)s\"))\n",
    "    logger.addHandler(handler1)\n",
    "    logger.addHandler(handler2)\n",
    "    return logger\n",
    "\n",
    "logger = get_logger()\n",
    "\n",
    "\n",
    "def seed_everything(seed=777):\n",
    "    random.seed(seed)\n",
    "    os.environ['PYTHONHASHSEED'] = str(seed)\n",
    "    np.random.seed(seed)\n",
    "    torch.manual_seed(seed)\n",
    "    torch.cuda.manual_seed(seed)\n",
    "    torch.backends.cudnn.deterministic = True"
   ]
  },
  {
   "cell_type": "markdown",
   "metadata": {
    "papermill": {
     "duration": 0.015519,
     "end_time": "2020-10-12T23:56:44.517672",
     "exception": false,
     "start_time": "2020-10-12T23:56:44.502153",
     "status": "completed"
    },
    "tags": []
   },
   "source": [
    "# Config"
   ]
  },
  {
   "cell_type": "code",
   "execution_count": 5,
   "metadata": {
    "execution": {
     "iopub.execute_input": "2020-10-12T23:56:44.555112Z",
     "iopub.status.busy": "2020-10-12T23:56:44.554461Z",
     "iopub.status.idle": "2020-10-12T23:56:44.560655Z",
     "shell.execute_reply": "2020-10-12T23:56:44.560023Z"
    },
    "papermill": {
     "duration": 0.027278,
     "end_time": "2020-10-12T23:56:44.560765",
     "exception": false,
     "start_time": "2020-10-12T23:56:44.533487",
     "status": "completed"
    },
    "tags": []
   },
   "outputs": [],
   "source": [
    "if DEBUG:\n",
    "    N_FOLD = 2\n",
    "    Num_boost_round=1000\n",
    "    Early_stopping_rounds=10\n",
    "    Learning_rate = 0.03\n",
    "else:\n",
    "    N_FOLD = 5\n",
    "    Num_boost_round=10000\n",
    "    Early_stopping_rounds=20\n",
    "    Learning_rate = 0.01\n",
    "\n",
    "SEED = 42\n",
    "seed_everything(seed=SEED)"
   ]
  },
  {
   "cell_type": "markdown",
   "metadata": {
    "papermill": {
     "duration": 0.016063,
     "end_time": "2020-10-12T23:56:44.592846",
     "exception": false,
     "start_time": "2020-10-12T23:56:44.576783",
     "status": "completed"
    },
    "tags": []
   },
   "source": [
    "# Data Loading"
   ]
  },
  {
   "cell_type": "code",
   "execution_count": 6,
   "metadata": {
    "_cell_guid": "79c7e3d0-c299-4dcb-8224-4455121ee9b0",
    "_uuid": "d629ff2d2480ee46fbb7e2d37f6b5fab8052498a",
    "execution": {
     "iopub.execute_input": "2020-10-12T23:56:44.632877Z",
     "iopub.status.busy": "2020-10-12T23:56:44.632102Z",
     "iopub.status.idle": "2020-10-12T23:56:49.570508Z",
     "shell.execute_reply": "2020-10-12T23:56:49.569818Z"
    },
    "papermill": {
     "duration": 4.961696,
     "end_time": "2020-10-12T23:56:49.570631",
     "exception": false,
     "start_time": "2020-10-12T23:56:44.608935",
     "status": "completed"
    },
    "tags": []
   },
   "outputs": [],
   "source": [
    "train = pd.read_csv(\"../input/lish-moa/train_features.csv\")\n",
    "test = pd.read_csv(\"../input/lish-moa/test_features.csv\")\n",
    "train_targets_scored = pd.read_csv(\"../input/lish-moa/train_targets_scored.csv\")\n",
    "train_targets_nonscored = pd.read_csv(\"../input/lish-moa/train_targets_nonscored.csv\")\n",
    "sub = pd.read_csv(\"../input/lish-moa/sample_submission.csv\")"
   ]
  },
  {
   "cell_type": "code",
   "execution_count": 7,
   "metadata": {
    "execution": {
     "iopub.execute_input": "2020-10-12T23:56:49.611526Z",
     "iopub.status.busy": "2020-10-12T23:56:49.610744Z",
     "iopub.status.idle": "2020-10-12T23:56:49.613450Z",
     "shell.execute_reply": "2020-10-12T23:56:49.612939Z"
    },
    "papermill": {
     "duration": 0.025877,
     "end_time": "2020-10-12T23:56:49.613554",
     "exception": false,
     "start_time": "2020-10-12T23:56:49.587677",
     "status": "completed"
    },
    "tags": []
   },
   "outputs": [],
   "source": [
    "def label_encoding(train: pd.DataFrame, test: pd.DataFrame, encode_cols):\n",
    "    n_train = len(train)\n",
    "    train = pd.concat([train, test], sort=False).reset_index(drop=True)\n",
    "    for f in encode_cols:\n",
    "        try:\n",
    "            lbl = preprocessing.LabelEncoder()\n",
    "            train[f] = lbl.fit_transform(list(train[f].values))\n",
    "        except:\n",
    "            print(f)\n",
    "    test = train[n_train:].reset_index(drop=True)\n",
    "    train = train[:n_train]\n",
    "    return train, test"
   ]
  },
  {
   "cell_type": "markdown",
   "metadata": {
    "papermill": {
     "duration": 0.015795,
     "end_time": "2020-10-12T23:56:49.645337",
     "exception": false,
     "start_time": "2020-10-12T23:56:49.629542",
     "status": "completed"
    },
    "tags": []
   },
   "source": [
    "# Training Utils"
   ]
  },
  {
   "cell_type": "code",
   "execution_count": 8,
   "metadata": {
    "execution": {
     "iopub.execute_input": "2020-10-12T23:56:49.691850Z",
     "iopub.status.busy": "2020-10-12T23:56:49.686077Z",
     "iopub.status.idle": "2020-10-12T23:56:49.694141Z",
     "shell.execute_reply": "2020-10-12T23:56:49.694796Z"
    },
    "papermill": {
     "duration": 0.033422,
     "end_time": "2020-10-12T23:56:49.694935",
     "exception": false,
     "start_time": "2020-10-12T23:56:49.661513",
     "status": "completed"
    },
    "tags": []
   },
   "outputs": [],
   "source": [
    "#===========================================================\n",
    "# model\n",
    "#===========================================================\n",
    "def run_lgbm(target_col: str, ctr):\n",
    "    \n",
    "    target = train_targets_scored[target_col]\n",
    "    trt = train[target==1].copy().reset_index(drop=True)\n",
    "    trt[\"target\"] = 1\n",
    "    \n",
    "    X_train = pd.concat([trt, ctr], axis=0).reset_index(drop=True)\n",
    "    y_train = X_train[\"target\"]\n",
    "    \n",
    "    X_train = X_train.drop([\"sig_id\", \"target\", \"cp_type\"], axis=1)\n",
    "    X_test = test.drop([\"sig_id\", \"cp_type\"], axis=1)\n",
    "    \n",
    "    y_preds = []\n",
    "    models = []\n",
    "    oof_train = np.zeros((len(X_train),))\n",
    "    score = 0\n",
    "    \n",
    "    logger.info(f'len(trt) : {len(trt)}')\n",
    "    \n",
    "    for fold_, (train_index, valid_index) in enumerate(cv.split(X_train, y_train)):\n",
    "        logger.info(f'len(train_index) : {len(train_index)}')\n",
    "        logger.info(f'len(valid_index) : {len(valid_index)}')\n",
    "        \n",
    "        X_tr = X_train.loc[train_index, :]\n",
    "        X_val = X_train.loc[valid_index, :]\n",
    "        y_tr = y_train[train_index]\n",
    "        y_val = y_train[valid_index]\n",
    "\n",
    "        lgb_train = lgb.Dataset(X_tr,\n",
    "                                y_tr,\n",
    "                                categorical_feature=categorical_cols)\n",
    "\n",
    "        lgb_eval = lgb.Dataset(X_val,\n",
    "                               y_val,\n",
    "                               reference=lgb_train,\n",
    "                               categorical_feature=categorical_cols)\n",
    "        \n",
    "        logger.info(f\"================================= {fold_+1}fold lightgbm =================================\")\n",
    "\n",
    "        model = lgb.train(params,\n",
    "                          lgb_train,\n",
    "                          valid_sets=[lgb_train, lgb_eval],\n",
    "                          verbose_eval=20,\n",
    "                          num_boost_round=Num_boost_round,\n",
    "                          early_stopping_rounds=Early_stopping_rounds)\n",
    "        \n",
    "        oof_train[valid_index] = model.predict(X_val, num_iteration=model.best_iteration)\n",
    "\n",
    "\n",
    "        y_pred = model.predict(X_test, num_iteration=model.best_iteration)\n",
    "\n",
    "        y_preds.append(y_pred)\n",
    "        models.append(model)\n",
    "    \n",
    "    score = log_loss(y_train, oof_train)\n",
    "    \n",
    "    logger.info(f\"{target_col} logloss: {score}\")\n",
    "    logger.info(f\"=========================================================================================\")\n",
    "\n",
    "    return sum(y_preds) / len(y_preds), score, models, "
   ]
  },
  {
   "cell_type": "code",
   "execution_count": 9,
   "metadata": {
    "execution": {
     "iopub.execute_input": "2020-10-12T23:56:49.734803Z",
     "iopub.status.busy": "2020-10-12T23:56:49.734196Z",
     "iopub.status.idle": "2020-10-12T23:56:49.737378Z",
     "shell.execute_reply": "2020-10-12T23:56:49.736736Z"
    },
    "papermill": {
     "duration": 0.026336,
     "end_time": "2020-10-12T23:56:49.737490",
     "exception": false,
     "start_time": "2020-10-12T23:56:49.711154",
     "status": "completed"
    },
    "tags": []
   },
   "outputs": [],
   "source": [
    "def show_feature_importance(feature_importance_df):\n",
    "    cols = (feature_importance_df[[\"Feature\", \"importance\"]]\n",
    "            .groupby(\"Feature\")\n",
    "            .mean()\n",
    "            .sort_values(by=\"importance\", ascending=False)[:100].index)\n",
    "    best_features = feature_importance_df.loc[feature_importance_df.Feature.isin(cols)]\n",
    "\n",
    "    plt.figure(figsize=(8, 30))\n",
    "    sns.barplot(x=\"importance\", \n",
    "                y=\"Feature\", \n",
    "                data=best_features.sort_values(by=\"importance\", ascending=False))\n",
    "    plt.title('Features importance (averaged)')\n",
    "    plt.tight_layout()\n",
    "    plt.savefig(f\"./feature_importance_{Version}.png\")\n",
    "    plt.show()"
   ]
  },
  {
   "cell_type": "markdown",
   "metadata": {
    "papermill": {
     "duration": 0.01652,
     "end_time": "2020-10-12T23:56:49.770460",
     "exception": false,
     "start_time": "2020-10-12T23:56:49.753940",
     "status": "completed"
    },
    "tags": []
   },
   "source": [
    "# Preprocessing\n",
    "\n",
    "We have to convert some categorical features into numbers in train and test. We can identify categorical features by `pd.DataFrame.select_dtypes`."
   ]
  },
  {
   "cell_type": "code",
   "execution_count": 10,
   "metadata": {
    "execution": {
     "iopub.execute_input": "2020-10-12T23:56:49.813295Z",
     "iopub.status.busy": "2020-10-12T23:56:49.812672Z",
     "iopub.status.idle": "2020-10-12T23:56:49.841373Z",
     "shell.execute_reply": "2020-10-12T23:56:49.841854Z"
    },
    "papermill": {
     "duration": 0.054905,
     "end_time": "2020-10-12T23:56:49.841991",
     "exception": false,
     "start_time": "2020-10-12T23:56:49.787086",
     "status": "completed"
    },
    "tags": []
   },
   "outputs": [
    {
     "data": {
      "text/html": [
       "<div>\n",
       "<style scoped>\n",
       "    .dataframe tbody tr th:only-of-type {\n",
       "        vertical-align: middle;\n",
       "    }\n",
       "\n",
       "    .dataframe tbody tr th {\n",
       "        vertical-align: top;\n",
       "    }\n",
       "\n",
       "    .dataframe thead th {\n",
       "        text-align: right;\n",
       "    }\n",
       "</style>\n",
       "<table border=\"1\" class=\"dataframe\">\n",
       "  <thead>\n",
       "    <tr style=\"text-align: right;\">\n",
       "      <th></th>\n",
       "      <th>sig_id</th>\n",
       "      <th>cp_type</th>\n",
       "      <th>cp_time</th>\n",
       "      <th>cp_dose</th>\n",
       "      <th>g-0</th>\n",
       "      <th>g-1</th>\n",
       "      <th>g-2</th>\n",
       "      <th>g-3</th>\n",
       "      <th>g-4</th>\n",
       "      <th>g-5</th>\n",
       "      <th>...</th>\n",
       "      <th>c-90</th>\n",
       "      <th>c-91</th>\n",
       "      <th>c-92</th>\n",
       "      <th>c-93</th>\n",
       "      <th>c-94</th>\n",
       "      <th>c-95</th>\n",
       "      <th>c-96</th>\n",
       "      <th>c-97</th>\n",
       "      <th>c-98</th>\n",
       "      <th>c-99</th>\n",
       "    </tr>\n",
       "  </thead>\n",
       "  <tbody>\n",
       "    <tr>\n",
       "      <th>0</th>\n",
       "      <td>id_000644bb2</td>\n",
       "      <td>trt_cp</td>\n",
       "      <td>24</td>\n",
       "      <td>D1</td>\n",
       "      <td>1.0620</td>\n",
       "      <td>0.5577</td>\n",
       "      <td>-0.2479</td>\n",
       "      <td>-0.6208</td>\n",
       "      <td>-0.1944</td>\n",
       "      <td>-1.0120</td>\n",
       "      <td>...</td>\n",
       "      <td>0.2862</td>\n",
       "      <td>0.2584</td>\n",
       "      <td>0.8076</td>\n",
       "      <td>0.5523</td>\n",
       "      <td>-0.1912</td>\n",
       "      <td>0.6584</td>\n",
       "      <td>-0.3981</td>\n",
       "      <td>0.2139</td>\n",
       "      <td>0.3801</td>\n",
       "      <td>0.4176</td>\n",
       "    </tr>\n",
       "    <tr>\n",
       "      <th>1</th>\n",
       "      <td>id_000779bfc</td>\n",
       "      <td>trt_cp</td>\n",
       "      <td>72</td>\n",
       "      <td>D1</td>\n",
       "      <td>0.0743</td>\n",
       "      <td>0.4087</td>\n",
       "      <td>0.2991</td>\n",
       "      <td>0.0604</td>\n",
       "      <td>1.0190</td>\n",
       "      <td>0.5207</td>\n",
       "      <td>...</td>\n",
       "      <td>-0.4265</td>\n",
       "      <td>0.7543</td>\n",
       "      <td>0.4708</td>\n",
       "      <td>0.0230</td>\n",
       "      <td>0.2957</td>\n",
       "      <td>0.4899</td>\n",
       "      <td>0.1522</td>\n",
       "      <td>0.1241</td>\n",
       "      <td>0.6077</td>\n",
       "      <td>0.7371</td>\n",
       "    </tr>\n",
       "    <tr>\n",
       "      <th>2</th>\n",
       "      <td>id_000a6266a</td>\n",
       "      <td>trt_cp</td>\n",
       "      <td>48</td>\n",
       "      <td>D1</td>\n",
       "      <td>0.6280</td>\n",
       "      <td>0.5817</td>\n",
       "      <td>1.5540</td>\n",
       "      <td>-0.0764</td>\n",
       "      <td>-0.0323</td>\n",
       "      <td>1.2390</td>\n",
       "      <td>...</td>\n",
       "      <td>-0.7250</td>\n",
       "      <td>-0.6297</td>\n",
       "      <td>0.6103</td>\n",
       "      <td>0.0223</td>\n",
       "      <td>-1.3240</td>\n",
       "      <td>-0.3174</td>\n",
       "      <td>-0.6417</td>\n",
       "      <td>-0.2187</td>\n",
       "      <td>-1.4080</td>\n",
       "      <td>0.6931</td>\n",
       "    </tr>\n",
       "    <tr>\n",
       "      <th>3</th>\n",
       "      <td>id_0015fd391</td>\n",
       "      <td>trt_cp</td>\n",
       "      <td>48</td>\n",
       "      <td>D1</td>\n",
       "      <td>-0.5138</td>\n",
       "      <td>-0.2491</td>\n",
       "      <td>-0.2656</td>\n",
       "      <td>0.5288</td>\n",
       "      <td>4.0620</td>\n",
       "      <td>-0.8095</td>\n",
       "      <td>...</td>\n",
       "      <td>-2.0990</td>\n",
       "      <td>-0.6441</td>\n",
       "      <td>-5.6300</td>\n",
       "      <td>-1.3780</td>\n",
       "      <td>-0.8632</td>\n",
       "      <td>-1.2880</td>\n",
       "      <td>-1.6210</td>\n",
       "      <td>-0.8784</td>\n",
       "      <td>-0.3876</td>\n",
       "      <td>-0.8154</td>\n",
       "    </tr>\n",
       "    <tr>\n",
       "      <th>4</th>\n",
       "      <td>id_001626bd3</td>\n",
       "      <td>trt_cp</td>\n",
       "      <td>72</td>\n",
       "      <td>D2</td>\n",
       "      <td>-0.3254</td>\n",
       "      <td>-0.4009</td>\n",
       "      <td>0.9700</td>\n",
       "      <td>0.6919</td>\n",
       "      <td>1.4180</td>\n",
       "      <td>-0.8244</td>\n",
       "      <td>...</td>\n",
       "      <td>0.0042</td>\n",
       "      <td>0.0048</td>\n",
       "      <td>0.6670</td>\n",
       "      <td>1.0690</td>\n",
       "      <td>0.5523</td>\n",
       "      <td>-0.3031</td>\n",
       "      <td>0.1094</td>\n",
       "      <td>0.2885</td>\n",
       "      <td>-0.3786</td>\n",
       "      <td>0.7125</td>\n",
       "    </tr>\n",
       "  </tbody>\n",
       "</table>\n",
       "<p>5 rows × 876 columns</p>\n",
       "</div>"
      ],
      "text/plain": [
       "         sig_id cp_type  cp_time cp_dose     g-0     g-1     g-2     g-3  \\\n",
       "0  id_000644bb2  trt_cp       24      D1  1.0620  0.5577 -0.2479 -0.6208   \n",
       "1  id_000779bfc  trt_cp       72      D1  0.0743  0.4087  0.2991  0.0604   \n",
       "2  id_000a6266a  trt_cp       48      D1  0.6280  0.5817  1.5540 -0.0764   \n",
       "3  id_0015fd391  trt_cp       48      D1 -0.5138 -0.2491 -0.2656  0.5288   \n",
       "4  id_001626bd3  trt_cp       72      D2 -0.3254 -0.4009  0.9700  0.6919   \n",
       "\n",
       "      g-4     g-5  ...    c-90    c-91    c-92    c-93    c-94    c-95  \\\n",
       "0 -0.1944 -1.0120  ...  0.2862  0.2584  0.8076  0.5523 -0.1912  0.6584   \n",
       "1  1.0190  0.5207  ... -0.4265  0.7543  0.4708  0.0230  0.2957  0.4899   \n",
       "2 -0.0323  1.2390  ... -0.7250 -0.6297  0.6103  0.0223 -1.3240 -0.3174   \n",
       "3  4.0620 -0.8095  ... -2.0990 -0.6441 -5.6300 -1.3780 -0.8632 -1.2880   \n",
       "4  1.4180 -0.8244  ...  0.0042  0.0048  0.6670  1.0690  0.5523 -0.3031   \n",
       "\n",
       "     c-96    c-97    c-98    c-99  \n",
       "0 -0.3981  0.2139  0.3801  0.4176  \n",
       "1  0.1522  0.1241  0.6077  0.7371  \n",
       "2 -0.6417 -0.2187 -1.4080  0.6931  \n",
       "3 -1.6210 -0.8784 -0.3876 -0.8154  \n",
       "4  0.1094  0.2885 -0.3786  0.7125  \n",
       "\n",
       "[5 rows x 876 columns]"
      ]
     },
     "execution_count": 10,
     "metadata": {},
     "output_type": "execute_result"
    }
   ],
   "source": [
    "train.head()"
   ]
  },
  {
   "cell_type": "code",
   "execution_count": 11,
   "metadata": {
    "execution": {
     "iopub.execute_input": "2020-10-12T23:56:49.888601Z",
     "iopub.status.busy": "2020-10-12T23:56:49.880948Z",
     "iopub.status.idle": "2020-10-12T23:56:49.893017Z",
     "shell.execute_reply": "2020-10-12T23:56:49.892538Z"
    },
    "papermill": {
     "duration": 0.0336,
     "end_time": "2020-10-12T23:56:49.893128",
     "exception": false,
     "start_time": "2020-10-12T23:56:49.859528",
     "status": "completed"
    },
    "tags": []
   },
   "outputs": [
    {
     "data": {
      "text/plain": [
       "Index(['sig_id', 'cp_type', 'cp_dose'], dtype='object')"
      ]
     },
     "execution_count": 11,
     "metadata": {},
     "output_type": "execute_result"
    }
   ],
   "source": [
    "train.select_dtypes(include=['object']).columns"
   ]
  },
  {
   "cell_type": "code",
   "execution_count": 12,
   "metadata": {
    "execution": {
     "iopub.execute_input": "2020-10-12T23:56:49.934772Z",
     "iopub.status.busy": "2020-10-12T23:56:49.932874Z",
     "iopub.status.idle": "2020-10-12T23:56:50.101862Z",
     "shell.execute_reply": "2020-10-12T23:56:50.101300Z"
    },
    "papermill": {
     "duration": 0.191352,
     "end_time": "2020-10-12T23:56:50.101975",
     "exception": false,
     "start_time": "2020-10-12T23:56:49.910623",
     "status": "completed"
    },
    "tags": []
   },
   "outputs": [],
   "source": [
    "train, test = label_encoding(train, test, ['cp_type', 'cp_dose'])"
   ]
  },
  {
   "cell_type": "code",
   "execution_count": 13,
   "metadata": {
    "execution": {
     "iopub.execute_input": "2020-10-12T23:56:50.151549Z",
     "iopub.status.busy": "2020-10-12T23:56:50.150844Z",
     "iopub.status.idle": "2020-10-12T23:56:50.166329Z",
     "shell.execute_reply": "2020-10-12T23:56:50.165834Z"
    },
    "papermill": {
     "duration": 0.04685,
     "end_time": "2020-10-12T23:56:50.166447",
     "exception": false,
     "start_time": "2020-10-12T23:56:50.119597",
     "status": "completed"
    },
    "tags": []
   },
   "outputs": [
    {
     "data": {
      "text/html": [
       "<div>\n",
       "<style scoped>\n",
       "    .dataframe tbody tr th:only-of-type {\n",
       "        vertical-align: middle;\n",
       "    }\n",
       "\n",
       "    .dataframe tbody tr th {\n",
       "        vertical-align: top;\n",
       "    }\n",
       "\n",
       "    .dataframe thead th {\n",
       "        text-align: right;\n",
       "    }\n",
       "</style>\n",
       "<table border=\"1\" class=\"dataframe\">\n",
       "  <thead>\n",
       "    <tr style=\"text-align: right;\">\n",
       "      <th></th>\n",
       "      <th>sig_id</th>\n",
       "      <th>cp_type</th>\n",
       "      <th>cp_time</th>\n",
       "      <th>cp_dose</th>\n",
       "      <th>g-0</th>\n",
       "      <th>g-1</th>\n",
       "      <th>g-2</th>\n",
       "      <th>g-3</th>\n",
       "      <th>g-4</th>\n",
       "      <th>g-5</th>\n",
       "      <th>...</th>\n",
       "      <th>c-90</th>\n",
       "      <th>c-91</th>\n",
       "      <th>c-92</th>\n",
       "      <th>c-93</th>\n",
       "      <th>c-94</th>\n",
       "      <th>c-95</th>\n",
       "      <th>c-96</th>\n",
       "      <th>c-97</th>\n",
       "      <th>c-98</th>\n",
       "      <th>c-99</th>\n",
       "    </tr>\n",
       "  </thead>\n",
       "  <tbody>\n",
       "    <tr>\n",
       "      <th>0</th>\n",
       "      <td>id_000644bb2</td>\n",
       "      <td>1</td>\n",
       "      <td>24</td>\n",
       "      <td>0</td>\n",
       "      <td>1.0620</td>\n",
       "      <td>0.5577</td>\n",
       "      <td>-0.2479</td>\n",
       "      <td>-0.6208</td>\n",
       "      <td>-0.1944</td>\n",
       "      <td>-1.0120</td>\n",
       "      <td>...</td>\n",
       "      <td>0.2862</td>\n",
       "      <td>0.2584</td>\n",
       "      <td>0.8076</td>\n",
       "      <td>0.5523</td>\n",
       "      <td>-0.1912</td>\n",
       "      <td>0.6584</td>\n",
       "      <td>-0.3981</td>\n",
       "      <td>0.2139</td>\n",
       "      <td>0.3801</td>\n",
       "      <td>0.4176</td>\n",
       "    </tr>\n",
       "    <tr>\n",
       "      <th>1</th>\n",
       "      <td>id_000779bfc</td>\n",
       "      <td>1</td>\n",
       "      <td>72</td>\n",
       "      <td>0</td>\n",
       "      <td>0.0743</td>\n",
       "      <td>0.4087</td>\n",
       "      <td>0.2991</td>\n",
       "      <td>0.0604</td>\n",
       "      <td>1.0190</td>\n",
       "      <td>0.5207</td>\n",
       "      <td>...</td>\n",
       "      <td>-0.4265</td>\n",
       "      <td>0.7543</td>\n",
       "      <td>0.4708</td>\n",
       "      <td>0.0230</td>\n",
       "      <td>0.2957</td>\n",
       "      <td>0.4899</td>\n",
       "      <td>0.1522</td>\n",
       "      <td>0.1241</td>\n",
       "      <td>0.6077</td>\n",
       "      <td>0.7371</td>\n",
       "    </tr>\n",
       "    <tr>\n",
       "      <th>2</th>\n",
       "      <td>id_000a6266a</td>\n",
       "      <td>1</td>\n",
       "      <td>48</td>\n",
       "      <td>0</td>\n",
       "      <td>0.6280</td>\n",
       "      <td>0.5817</td>\n",
       "      <td>1.5540</td>\n",
       "      <td>-0.0764</td>\n",
       "      <td>-0.0323</td>\n",
       "      <td>1.2390</td>\n",
       "      <td>...</td>\n",
       "      <td>-0.7250</td>\n",
       "      <td>-0.6297</td>\n",
       "      <td>0.6103</td>\n",
       "      <td>0.0223</td>\n",
       "      <td>-1.3240</td>\n",
       "      <td>-0.3174</td>\n",
       "      <td>-0.6417</td>\n",
       "      <td>-0.2187</td>\n",
       "      <td>-1.4080</td>\n",
       "      <td>0.6931</td>\n",
       "    </tr>\n",
       "    <tr>\n",
       "      <th>3</th>\n",
       "      <td>id_0015fd391</td>\n",
       "      <td>1</td>\n",
       "      <td>48</td>\n",
       "      <td>0</td>\n",
       "      <td>-0.5138</td>\n",
       "      <td>-0.2491</td>\n",
       "      <td>-0.2656</td>\n",
       "      <td>0.5288</td>\n",
       "      <td>4.0620</td>\n",
       "      <td>-0.8095</td>\n",
       "      <td>...</td>\n",
       "      <td>-2.0990</td>\n",
       "      <td>-0.6441</td>\n",
       "      <td>-5.6300</td>\n",
       "      <td>-1.3780</td>\n",
       "      <td>-0.8632</td>\n",
       "      <td>-1.2880</td>\n",
       "      <td>-1.6210</td>\n",
       "      <td>-0.8784</td>\n",
       "      <td>-0.3876</td>\n",
       "      <td>-0.8154</td>\n",
       "    </tr>\n",
       "    <tr>\n",
       "      <th>4</th>\n",
       "      <td>id_001626bd3</td>\n",
       "      <td>1</td>\n",
       "      <td>72</td>\n",
       "      <td>1</td>\n",
       "      <td>-0.3254</td>\n",
       "      <td>-0.4009</td>\n",
       "      <td>0.9700</td>\n",
       "      <td>0.6919</td>\n",
       "      <td>1.4180</td>\n",
       "      <td>-0.8244</td>\n",
       "      <td>...</td>\n",
       "      <td>0.0042</td>\n",
       "      <td>0.0048</td>\n",
       "      <td>0.6670</td>\n",
       "      <td>1.0690</td>\n",
       "      <td>0.5523</td>\n",
       "      <td>-0.3031</td>\n",
       "      <td>0.1094</td>\n",
       "      <td>0.2885</td>\n",
       "      <td>-0.3786</td>\n",
       "      <td>0.7125</td>\n",
       "    </tr>\n",
       "  </tbody>\n",
       "</table>\n",
       "<p>5 rows × 876 columns</p>\n",
       "</div>"
      ],
      "text/plain": [
       "         sig_id  cp_type  cp_time  cp_dose     g-0     g-1     g-2     g-3  \\\n",
       "0  id_000644bb2        1       24        0  1.0620  0.5577 -0.2479 -0.6208   \n",
       "1  id_000779bfc        1       72        0  0.0743  0.4087  0.2991  0.0604   \n",
       "2  id_000a6266a        1       48        0  0.6280  0.5817  1.5540 -0.0764   \n",
       "3  id_0015fd391        1       48        0 -0.5138 -0.2491 -0.2656  0.5288   \n",
       "4  id_001626bd3        1       72        1 -0.3254 -0.4009  0.9700  0.6919   \n",
       "\n",
       "      g-4     g-5  ...    c-90    c-91    c-92    c-93    c-94    c-95  \\\n",
       "0 -0.1944 -1.0120  ...  0.2862  0.2584  0.8076  0.5523 -0.1912  0.6584   \n",
       "1  1.0190  0.5207  ... -0.4265  0.7543  0.4708  0.0230  0.2957  0.4899   \n",
       "2 -0.0323  1.2390  ... -0.7250 -0.6297  0.6103  0.0223 -1.3240 -0.3174   \n",
       "3  4.0620 -0.8095  ... -2.0990 -0.6441 -5.6300 -1.3780 -0.8632 -1.2880   \n",
       "4  1.4180 -0.8244  ...  0.0042  0.0048  0.6670  1.0690  0.5523 -0.3031   \n",
       "\n",
       "     c-96    c-97    c-98    c-99  \n",
       "0 -0.3981  0.2139  0.3801  0.4176  \n",
       "1  0.1522  0.1241  0.6077  0.7371  \n",
       "2 -0.6417 -0.2187 -1.4080  0.6931  \n",
       "3 -1.6210 -0.8784 -0.3876 -0.8154  \n",
       "4  0.1094  0.2885 -0.3786  0.7125  \n",
       "\n",
       "[5 rows x 876 columns]"
      ]
     },
     "execution_count": 13,
     "metadata": {},
     "output_type": "execute_result"
    }
   ],
   "source": [
    "train.head()"
   ]
  },
  {
   "cell_type": "code",
   "execution_count": 14,
   "metadata": {
    "execution": {
     "iopub.execute_input": "2020-10-12T23:56:50.209205Z",
     "iopub.status.busy": "2020-10-12T23:56:50.208538Z",
     "iopub.status.idle": "2020-10-12T23:56:50.268391Z",
     "shell.execute_reply": "2020-10-12T23:56:50.267855Z"
    },
    "papermill": {
     "duration": 0.083364,
     "end_time": "2020-10-12T23:56:50.268506",
     "exception": false,
     "start_time": "2020-10-12T23:56:50.185142",
     "status": "completed"
    },
    "tags": []
   },
   "outputs": [
    {
     "data": {
      "text/html": [
       "<div>\n",
       "<style scoped>\n",
       "    .dataframe tbody tr th:only-of-type {\n",
       "        vertical-align: middle;\n",
       "    }\n",
       "\n",
       "    .dataframe tbody tr th {\n",
       "        vertical-align: top;\n",
       "    }\n",
       "\n",
       "    .dataframe thead th {\n",
       "        text-align: right;\n",
       "    }\n",
       "</style>\n",
       "<table border=\"1\" class=\"dataframe\">\n",
       "  <thead>\n",
       "    <tr style=\"text-align: right;\">\n",
       "      <th></th>\n",
       "      <th>sig_id</th>\n",
       "      <th>cp_type</th>\n",
       "      <th>cp_time</th>\n",
       "      <th>cp_dose</th>\n",
       "      <th>g-0</th>\n",
       "      <th>g-1</th>\n",
       "      <th>g-2</th>\n",
       "      <th>g-3</th>\n",
       "      <th>g-4</th>\n",
       "      <th>g-5</th>\n",
       "      <th>...</th>\n",
       "      <th>c-90</th>\n",
       "      <th>c-91</th>\n",
       "      <th>c-92</th>\n",
       "      <th>c-93</th>\n",
       "      <th>c-94</th>\n",
       "      <th>c-95</th>\n",
       "      <th>c-96</th>\n",
       "      <th>c-97</th>\n",
       "      <th>c-98</th>\n",
       "      <th>c-99</th>\n",
       "    </tr>\n",
       "  </thead>\n",
       "  <tbody>\n",
       "    <tr>\n",
       "      <th>25</th>\n",
       "      <td>id_0054388ec</td>\n",
       "      <td>0</td>\n",
       "      <td>48</td>\n",
       "      <td>0</td>\n",
       "      <td>-0.6696</td>\n",
       "      <td>-0.2718</td>\n",
       "      <td>-1.2230</td>\n",
       "      <td>-0.6226</td>\n",
       "      <td>-0.7220</td>\n",
       "      <td>0.1588</td>\n",
       "      <td>...</td>\n",
       "      <td>0.6171</td>\n",
       "      <td>0.6405</td>\n",
       "      <td>0.5429</td>\n",
       "      <td>0.3562</td>\n",
       "      <td>1.3290</td>\n",
       "      <td>0.5573</td>\n",
       "      <td>0.8837</td>\n",
       "      <td>0.5534</td>\n",
       "      <td>0.8976</td>\n",
       "      <td>1.0050</td>\n",
       "    </tr>\n",
       "    <tr>\n",
       "      <th>38</th>\n",
       "      <td>id_0079af0fb</td>\n",
       "      <td>0</td>\n",
       "      <td>24</td>\n",
       "      <td>0</td>\n",
       "      <td>-0.1636</td>\n",
       "      <td>-1.8230</td>\n",
       "      <td>-0.5211</td>\n",
       "      <td>0.3054</td>\n",
       "      <td>-1.1280</td>\n",
       "      <td>0.6041</td>\n",
       "      <td>...</td>\n",
       "      <td>-0.3880</td>\n",
       "      <td>-0.6828</td>\n",
       "      <td>-0.6594</td>\n",
       "      <td>-0.2043</td>\n",
       "      <td>0.3571</td>\n",
       "      <td>-0.1319</td>\n",
       "      <td>0.2187</td>\n",
       "      <td>0.0737</td>\n",
       "      <td>0.6498</td>\n",
       "      <td>-1.4820</td>\n",
       "    </tr>\n",
       "    <tr>\n",
       "      <th>40</th>\n",
       "      <td>id_007bfbb91</td>\n",
       "      <td>0</td>\n",
       "      <td>24</td>\n",
       "      <td>1</td>\n",
       "      <td>-1.3200</td>\n",
       "      <td>-1.7340</td>\n",
       "      <td>-0.0741</td>\n",
       "      <td>1.5440</td>\n",
       "      <td>-1.8290</td>\n",
       "      <td>-0.0951</td>\n",
       "      <td>...</td>\n",
       "      <td>0.7412</td>\n",
       "      <td>1.0340</td>\n",
       "      <td>0.7393</td>\n",
       "      <td>1.1020</td>\n",
       "      <td>0.3786</td>\n",
       "      <td>0.2636</td>\n",
       "      <td>-0.5751</td>\n",
       "      <td>0.3362</td>\n",
       "      <td>0.8543</td>\n",
       "      <td>0.9180</td>\n",
       "    </tr>\n",
       "    <tr>\n",
       "      <th>47</th>\n",
       "      <td>id_008a986b7</td>\n",
       "      <td>0</td>\n",
       "      <td>48</td>\n",
       "      <td>1</td>\n",
       "      <td>0.4860</td>\n",
       "      <td>0.1430</td>\n",
       "      <td>0.5281</td>\n",
       "      <td>-0.0022</td>\n",
       "      <td>-0.2334</td>\n",
       "      <td>-0.6607</td>\n",
       "      <td>...</td>\n",
       "      <td>-0.3085</td>\n",
       "      <td>-0.1866</td>\n",
       "      <td>0.7629</td>\n",
       "      <td>0.3288</td>\n",
       "      <td>-0.9915</td>\n",
       "      <td>-0.3694</td>\n",
       "      <td>-0.4979</td>\n",
       "      <td>0.5281</td>\n",
       "      <td>-0.9245</td>\n",
       "      <td>-0.9367</td>\n",
       "    </tr>\n",
       "    <tr>\n",
       "      <th>63</th>\n",
       "      <td>id_009d8340f</td>\n",
       "      <td>0</td>\n",
       "      <td>24</td>\n",
       "      <td>1</td>\n",
       "      <td>0.4471</td>\n",
       "      <td>-0.0839</td>\n",
       "      <td>-0.3864</td>\n",
       "      <td>0.3196</td>\n",
       "      <td>0.2584</td>\n",
       "      <td>-0.3156</td>\n",
       "      <td>...</td>\n",
       "      <td>0.4795</td>\n",
       "      <td>0.3939</td>\n",
       "      <td>0.7665</td>\n",
       "      <td>0.7932</td>\n",
       "      <td>-0.6804</td>\n",
       "      <td>-0.0435</td>\n",
       "      <td>0.0949</td>\n",
       "      <td>0.2000</td>\n",
       "      <td>-0.4326</td>\n",
       "      <td>0.9364</td>\n",
       "    </tr>\n",
       "    <tr>\n",
       "      <th>...</th>\n",
       "      <td>...</td>\n",
       "      <td>...</td>\n",
       "      <td>...</td>\n",
       "      <td>...</td>\n",
       "      <td>...</td>\n",
       "      <td>...</td>\n",
       "      <td>...</td>\n",
       "      <td>...</td>\n",
       "      <td>...</td>\n",
       "      <td>...</td>\n",
       "      <td>...</td>\n",
       "      <td>...</td>\n",
       "      <td>...</td>\n",
       "      <td>...</td>\n",
       "      <td>...</td>\n",
       "      <td>...</td>\n",
       "      <td>...</td>\n",
       "      <td>...</td>\n",
       "      <td>...</td>\n",
       "      <td>...</td>\n",
       "      <td>...</td>\n",
       "    </tr>\n",
       "    <tr>\n",
       "      <th>23729</th>\n",
       "      <td>id_ff1f9e5fc</td>\n",
       "      <td>0</td>\n",
       "      <td>24</td>\n",
       "      <td>0</td>\n",
       "      <td>0.0465</td>\n",
       "      <td>0.6430</td>\n",
       "      <td>-0.2453</td>\n",
       "      <td>0.3521</td>\n",
       "      <td>0.6195</td>\n",
       "      <td>-0.6659</td>\n",
       "      <td>...</td>\n",
       "      <td>0.6085</td>\n",
       "      <td>0.1621</td>\n",
       "      <td>-0.2065</td>\n",
       "      <td>0.8314</td>\n",
       "      <td>-0.1891</td>\n",
       "      <td>-0.0074</td>\n",
       "      <td>0.2131</td>\n",
       "      <td>-0.1419</td>\n",
       "      <td>-0.2422</td>\n",
       "      <td>0.0457</td>\n",
       "    </tr>\n",
       "    <tr>\n",
       "      <th>23747</th>\n",
       "      <td>id_ff469c482</td>\n",
       "      <td>0</td>\n",
       "      <td>72</td>\n",
       "      <td>0</td>\n",
       "      <td>-0.6204</td>\n",
       "      <td>-1.3800</td>\n",
       "      <td>-1.1880</td>\n",
       "      <td>-0.6573</td>\n",
       "      <td>-0.8408</td>\n",
       "      <td>-0.2447</td>\n",
       "      <td>...</td>\n",
       "      <td>0.8209</td>\n",
       "      <td>0.7366</td>\n",
       "      <td>0.5468</td>\n",
       "      <td>1.1450</td>\n",
       "      <td>0.5254</td>\n",
       "      <td>0.6224</td>\n",
       "      <td>-0.9630</td>\n",
       "      <td>0.8872</td>\n",
       "      <td>-0.0742</td>\n",
       "      <td>-0.6777</td>\n",
       "    </tr>\n",
       "    <tr>\n",
       "      <th>23768</th>\n",
       "      <td>id_ff89331ca</td>\n",
       "      <td>0</td>\n",
       "      <td>72</td>\n",
       "      <td>1</td>\n",
       "      <td>-0.1051</td>\n",
       "      <td>0.4335</td>\n",
       "      <td>0.3648</td>\n",
       "      <td>-0.0525</td>\n",
       "      <td>-0.3632</td>\n",
       "      <td>-0.3228</td>\n",
       "      <td>...</td>\n",
       "      <td>-0.1219</td>\n",
       "      <td>0.4885</td>\n",
       "      <td>0.4963</td>\n",
       "      <td>0.9434</td>\n",
       "      <td>-0.4779</td>\n",
       "      <td>0.6951</td>\n",
       "      <td>0.9517</td>\n",
       "      <td>-0.8110</td>\n",
       "      <td>-0.1748</td>\n",
       "      <td>-0.3626</td>\n",
       "    </tr>\n",
       "    <tr>\n",
       "      <th>23793</th>\n",
       "      <td>id_ffd26f361</td>\n",
       "      <td>0</td>\n",
       "      <td>48</td>\n",
       "      <td>1</td>\n",
       "      <td>0.6008</td>\n",
       "      <td>0.2781</td>\n",
       "      <td>-0.3319</td>\n",
       "      <td>-0.8782</td>\n",
       "      <td>0.9281</td>\n",
       "      <td>0.7535</td>\n",
       "      <td>...</td>\n",
       "      <td>1.2470</td>\n",
       "      <td>0.9569</td>\n",
       "      <td>-0.2065</td>\n",
       "      <td>-0.4918</td>\n",
       "      <td>0.7863</td>\n",
       "      <td>0.0504</td>\n",
       "      <td>0.8813</td>\n",
       "      <td>0.7757</td>\n",
       "      <td>-0.5272</td>\n",
       "      <td>0.7082</td>\n",
       "    </tr>\n",
       "    <tr>\n",
       "      <th>23811</th>\n",
       "      <td>id_fffc1c3f4</td>\n",
       "      <td>0</td>\n",
       "      <td>48</td>\n",
       "      <td>1</td>\n",
       "      <td>0.3942</td>\n",
       "      <td>0.3756</td>\n",
       "      <td>0.3109</td>\n",
       "      <td>-0.7389</td>\n",
       "      <td>0.5505</td>\n",
       "      <td>-0.0159</td>\n",
       "      <td>...</td>\n",
       "      <td>0.5409</td>\n",
       "      <td>0.3755</td>\n",
       "      <td>0.7343</td>\n",
       "      <td>0.2807</td>\n",
       "      <td>0.4116</td>\n",
       "      <td>0.6422</td>\n",
       "      <td>0.2256</td>\n",
       "      <td>0.7592</td>\n",
       "      <td>0.6656</td>\n",
       "      <td>0.3808</td>\n",
       "    </tr>\n",
       "  </tbody>\n",
       "</table>\n",
       "<p>1866 rows × 876 columns</p>\n",
       "</div>"
      ],
      "text/plain": [
       "             sig_id  cp_type  cp_time  cp_dose     g-0     g-1     g-2  \\\n",
       "25     id_0054388ec        0       48        0 -0.6696 -0.2718 -1.2230   \n",
       "38     id_0079af0fb        0       24        0 -0.1636 -1.8230 -0.5211   \n",
       "40     id_007bfbb91        0       24        1 -1.3200 -1.7340 -0.0741   \n",
       "47     id_008a986b7        0       48        1  0.4860  0.1430  0.5281   \n",
       "63     id_009d8340f        0       24        1  0.4471 -0.0839 -0.3864   \n",
       "...             ...      ...      ...      ...     ...     ...     ...   \n",
       "23729  id_ff1f9e5fc        0       24        0  0.0465  0.6430 -0.2453   \n",
       "23747  id_ff469c482        0       72        0 -0.6204 -1.3800 -1.1880   \n",
       "23768  id_ff89331ca        0       72        1 -0.1051  0.4335  0.3648   \n",
       "23793  id_ffd26f361        0       48        1  0.6008  0.2781 -0.3319   \n",
       "23811  id_fffc1c3f4        0       48        1  0.3942  0.3756  0.3109   \n",
       "\n",
       "          g-3     g-4     g-5  ...    c-90    c-91    c-92    c-93    c-94  \\\n",
       "25    -0.6226 -0.7220  0.1588  ...  0.6171  0.6405  0.5429  0.3562  1.3290   \n",
       "38     0.3054 -1.1280  0.6041  ... -0.3880 -0.6828 -0.6594 -0.2043  0.3571   \n",
       "40     1.5440 -1.8290 -0.0951  ...  0.7412  1.0340  0.7393  1.1020  0.3786   \n",
       "47    -0.0022 -0.2334 -0.6607  ... -0.3085 -0.1866  0.7629  0.3288 -0.9915   \n",
       "63     0.3196  0.2584 -0.3156  ...  0.4795  0.3939  0.7665  0.7932 -0.6804   \n",
       "...       ...     ...     ...  ...     ...     ...     ...     ...     ...   \n",
       "23729  0.3521  0.6195 -0.6659  ...  0.6085  0.1621 -0.2065  0.8314 -0.1891   \n",
       "23747 -0.6573 -0.8408 -0.2447  ...  0.8209  0.7366  0.5468  1.1450  0.5254   \n",
       "23768 -0.0525 -0.3632 -0.3228  ... -0.1219  0.4885  0.4963  0.9434 -0.4779   \n",
       "23793 -0.8782  0.9281  0.7535  ...  1.2470  0.9569 -0.2065 -0.4918  0.7863   \n",
       "23811 -0.7389  0.5505 -0.0159  ...  0.5409  0.3755  0.7343  0.2807  0.4116   \n",
       "\n",
       "         c-95    c-96    c-97    c-98    c-99  \n",
       "25     0.5573  0.8837  0.5534  0.8976  1.0050  \n",
       "38    -0.1319  0.2187  0.0737  0.6498 -1.4820  \n",
       "40     0.2636 -0.5751  0.3362  0.8543  0.9180  \n",
       "47    -0.3694 -0.4979  0.5281 -0.9245 -0.9367  \n",
       "63    -0.0435  0.0949  0.2000 -0.4326  0.9364  \n",
       "...       ...     ...     ...     ...     ...  \n",
       "23729 -0.0074  0.2131 -0.1419 -0.2422  0.0457  \n",
       "23747  0.6224 -0.9630  0.8872 -0.0742 -0.6777  \n",
       "23768  0.6951  0.9517 -0.8110 -0.1748 -0.3626  \n",
       "23793  0.0504  0.8813  0.7757 -0.5272  0.7082  \n",
       "23811  0.6422  0.2256  0.7592  0.6656  0.3808  \n",
       "\n",
       "[1866 rows x 876 columns]"
      ]
     },
     "execution_count": 14,
     "metadata": {},
     "output_type": "execute_result"
    }
   ],
   "source": [
    "# Select control data\n",
    "ctl = train[(train.cp_type==0)]\n",
    "ctl"
   ]
  },
  {
   "cell_type": "code",
   "execution_count": 15,
   "metadata": {
    "execution": {
     "iopub.execute_input": "2020-10-12T23:56:50.338095Z",
     "iopub.status.busy": "2020-10-12T23:56:50.322648Z",
     "iopub.status.idle": "2020-10-12T23:56:56.458191Z",
     "shell.execute_reply": "2020-10-12T23:56:56.458736Z"
    },
    "papermill": {
     "duration": 6.171211,
     "end_time": "2020-10-12T23:56:56.458887",
     "exception": false,
     "start_time": "2020-10-12T23:56:50.287676",
     "status": "completed"
    },
    "tags": []
   },
   "outputs": [
    {
     "name": "stdout",
     "output_type": "stream",
     "text": [
      "343\n",
      "305\n",
      "301\n",
      "305\n",
      "307\n",
      "305\n"
     ]
    },
    {
     "data": {
      "text/html": [
       "<div>\n",
       "<style scoped>\n",
       "    .dataframe tbody tr th:only-of-type {\n",
       "        vertical-align: middle;\n",
       "    }\n",
       "\n",
       "    .dataframe tbody tr th {\n",
       "        vertical-align: top;\n",
       "    }\n",
       "\n",
       "    .dataframe thead th {\n",
       "        text-align: right;\n",
       "    }\n",
       "</style>\n",
       "<table border=\"1\" class=\"dataframe\">\n",
       "  <thead>\n",
       "    <tr style=\"text-align: right;\">\n",
       "      <th></th>\n",
       "      <th>sig_id</th>\n",
       "      <th>cp_type</th>\n",
       "      <th>cp_time</th>\n",
       "      <th>cp_dose</th>\n",
       "      <th>g-0</th>\n",
       "      <th>g-1</th>\n",
       "      <th>g-2</th>\n",
       "      <th>g-3</th>\n",
       "      <th>g-4</th>\n",
       "      <th>g-5</th>\n",
       "      <th>...</th>\n",
       "      <th>c-90</th>\n",
       "      <th>c-91</th>\n",
       "      <th>c-92</th>\n",
       "      <th>c-93</th>\n",
       "      <th>c-94</th>\n",
       "      <th>c-95</th>\n",
       "      <th>c-96</th>\n",
       "      <th>c-97</th>\n",
       "      <th>c-98</th>\n",
       "      <th>c-99</th>\n",
       "    </tr>\n",
       "  </thead>\n",
       "  <tbody>\n",
       "    <tr>\n",
       "      <th>0</th>\n",
       "      <td>id_0054388ec</td>\n",
       "      <td>0</td>\n",
       "      <td>48</td>\n",
       "      <td>0</td>\n",
       "      <td>-0.66960</td>\n",
       "      <td>-0.27180</td>\n",
       "      <td>-0.69462</td>\n",
       "      <td>-0.52590</td>\n",
       "      <td>-0.72200</td>\n",
       "      <td>0.15880</td>\n",
       "      <td>...</td>\n",
       "      <td>0.61710</td>\n",
       "      <td>0.64050</td>\n",
       "      <td>0.54290</td>\n",
       "      <td>0.35620</td>\n",
       "      <td>1.01260</td>\n",
       "      <td>0.55730</td>\n",
       "      <td>0.85766</td>\n",
       "      <td>0.55340</td>\n",
       "      <td>0.86888</td>\n",
       "      <td>0.99000</td>\n",
       "    </tr>\n",
       "    <tr>\n",
       "      <th>1</th>\n",
       "      <td>id_01b05de6c</td>\n",
       "      <td>0</td>\n",
       "      <td>48</td>\n",
       "      <td>0</td>\n",
       "      <td>-0.31760</td>\n",
       "      <td>0.23072</td>\n",
       "      <td>-0.37730</td>\n",
       "      <td>0.49774</td>\n",
       "      <td>-0.48770</td>\n",
       "      <td>0.34130</td>\n",
       "      <td>...</td>\n",
       "      <td>0.21890</td>\n",
       "      <td>-0.24212</td>\n",
       "      <td>0.70354</td>\n",
       "      <td>0.33890</td>\n",
       "      <td>0.74370</td>\n",
       "      <td>0.75330</td>\n",
       "      <td>0.24060</td>\n",
       "      <td>0.50570</td>\n",
       "      <td>0.80170</td>\n",
       "      <td>0.99000</td>\n",
       "    </tr>\n",
       "    <tr>\n",
       "      <th>2</th>\n",
       "      <td>id_020ba48d9</td>\n",
       "      <td>0</td>\n",
       "      <td>48</td>\n",
       "      <td>0</td>\n",
       "      <td>0.59264</td>\n",
       "      <td>-0.33390</td>\n",
       "      <td>0.73572</td>\n",
       "      <td>-0.41920</td>\n",
       "      <td>0.45450</td>\n",
       "      <td>-0.40514</td>\n",
       "      <td>...</td>\n",
       "      <td>-0.20012</td>\n",
       "      <td>-0.24212</td>\n",
       "      <td>-0.24420</td>\n",
       "      <td>0.05570</td>\n",
       "      <td>-0.04850</td>\n",
       "      <td>-0.15696</td>\n",
       "      <td>-0.33016</td>\n",
       "      <td>-0.25144</td>\n",
       "      <td>0.36020</td>\n",
       "      <td>-0.00716</td>\n",
       "    </tr>\n",
       "    <tr>\n",
       "      <th>3</th>\n",
       "      <td>id_02c93b4a5</td>\n",
       "      <td>0</td>\n",
       "      <td>48</td>\n",
       "      <td>0</td>\n",
       "      <td>-0.08840</td>\n",
       "      <td>-1.13200</td>\n",
       "      <td>0.55620</td>\n",
       "      <td>0.46610</td>\n",
       "      <td>-0.16830</td>\n",
       "      <td>0.84190</td>\n",
       "      <td>...</td>\n",
       "      <td>-0.20012</td>\n",
       "      <td>0.47660</td>\n",
       "      <td>0.70354</td>\n",
       "      <td>0.46130</td>\n",
       "      <td>0.89570</td>\n",
       "      <td>0.82270</td>\n",
       "      <td>0.85766</td>\n",
       "      <td>0.79720</td>\n",
       "      <td>0.65420</td>\n",
       "      <td>0.05800</td>\n",
       "    </tr>\n",
       "    <tr>\n",
       "      <th>4</th>\n",
       "      <td>id_03bc6d412</td>\n",
       "      <td>0</td>\n",
       "      <td>48</td>\n",
       "      <td>0</td>\n",
       "      <td>0.59264</td>\n",
       "      <td>0.09310</td>\n",
       "      <td>-0.09580</td>\n",
       "      <td>-0.43370</td>\n",
       "      <td>0.54504</td>\n",
       "      <td>-0.40514</td>\n",
       "      <td>...</td>\n",
       "      <td>-0.20012</td>\n",
       "      <td>-0.24212</td>\n",
       "      <td>-0.29144</td>\n",
       "      <td>-0.05584</td>\n",
       "      <td>0.12700</td>\n",
       "      <td>0.35110</td>\n",
       "      <td>0.12330</td>\n",
       "      <td>-0.25144</td>\n",
       "      <td>0.17670</td>\n",
       "      <td>0.11530</td>\n",
       "    </tr>\n",
       "    <tr>\n",
       "      <th>...</th>\n",
       "      <td>...</td>\n",
       "      <td>...</td>\n",
       "      <td>...</td>\n",
       "      <td>...</td>\n",
       "      <td>...</td>\n",
       "      <td>...</td>\n",
       "      <td>...</td>\n",
       "      <td>...</td>\n",
       "      <td>...</td>\n",
       "      <td>...</td>\n",
       "      <td>...</td>\n",
       "      <td>...</td>\n",
       "      <td>...</td>\n",
       "      <td>...</td>\n",
       "      <td>...</td>\n",
       "      <td>...</td>\n",
       "      <td>...</td>\n",
       "      <td>...</td>\n",
       "      <td>...</td>\n",
       "      <td>...</td>\n",
       "      <td>...</td>\n",
       "    </tr>\n",
       "    <tr>\n",
       "      <th>1861</th>\n",
       "      <td>id_fbb620181</td>\n",
       "      <td>0</td>\n",
       "      <td>72</td>\n",
       "      <td>1</td>\n",
       "      <td>-0.34900</td>\n",
       "      <td>0.72970</td>\n",
       "      <td>-1.18920</td>\n",
       "      <td>-0.52336</td>\n",
       "      <td>0.91858</td>\n",
       "      <td>-0.97840</td>\n",
       "      <td>...</td>\n",
       "      <td>-0.51532</td>\n",
       "      <td>-0.48866</td>\n",
       "      <td>-0.55696</td>\n",
       "      <td>-0.02430</td>\n",
       "      <td>-0.44654</td>\n",
       "      <td>0.59806</td>\n",
       "      <td>-0.50942</td>\n",
       "      <td>-0.42608</td>\n",
       "      <td>-0.19490</td>\n",
       "      <td>-0.12740</td>\n",
       "    </tr>\n",
       "    <tr>\n",
       "      <th>1862</th>\n",
       "      <td>id_fbba92030</td>\n",
       "      <td>0</td>\n",
       "      <td>72</td>\n",
       "      <td>1</td>\n",
       "      <td>-0.63910</td>\n",
       "      <td>0.77178</td>\n",
       "      <td>0.38808</td>\n",
       "      <td>0.66622</td>\n",
       "      <td>-0.56166</td>\n",
       "      <td>-0.84690</td>\n",
       "      <td>...</td>\n",
       "      <td>0.59024</td>\n",
       "      <td>0.60446</td>\n",
       "      <td>0.54674</td>\n",
       "      <td>0.69300</td>\n",
       "      <td>0.63246</td>\n",
       "      <td>0.59806</td>\n",
       "      <td>0.64624</td>\n",
       "      <td>-0.03440</td>\n",
       "      <td>-0.01860</td>\n",
       "      <td>0.51730</td>\n",
       "    </tr>\n",
       "    <tr>\n",
       "      <th>1863</th>\n",
       "      <td>id_fbc0849ad</td>\n",
       "      <td>0</td>\n",
       "      <td>72</td>\n",
       "      <td>1</td>\n",
       "      <td>-0.29480</td>\n",
       "      <td>0.21960</td>\n",
       "      <td>-0.32520</td>\n",
       "      <td>-0.20840</td>\n",
       "      <td>-0.56166</td>\n",
       "      <td>0.35420</td>\n",
       "      <td>...</td>\n",
       "      <td>0.59024</td>\n",
       "      <td>0.50140</td>\n",
       "      <td>0.54674</td>\n",
       "      <td>0.45600</td>\n",
       "      <td>-0.33600</td>\n",
       "      <td>-0.38402</td>\n",
       "      <td>0.64624</td>\n",
       "      <td>0.62030</td>\n",
       "      <td>0.66932</td>\n",
       "      <td>0.45040</td>\n",
       "    </tr>\n",
       "    <tr>\n",
       "      <th>1864</th>\n",
       "      <td>id_fd93fa37d</td>\n",
       "      <td>0</td>\n",
       "      <td>72</td>\n",
       "      <td>1</td>\n",
       "      <td>-0.29840</td>\n",
       "      <td>-0.47880</td>\n",
       "      <td>-1.18920</td>\n",
       "      <td>-0.52336</td>\n",
       "      <td>0.91858</td>\n",
       "      <td>0.45488</td>\n",
       "      <td>...</td>\n",
       "      <td>0.03080</td>\n",
       "      <td>-0.44220</td>\n",
       "      <td>-0.55696</td>\n",
       "      <td>-0.35564</td>\n",
       "      <td>-0.44654</td>\n",
       "      <td>0.41030</td>\n",
       "      <td>0.44620</td>\n",
       "      <td>-0.42608</td>\n",
       "      <td>-0.19490</td>\n",
       "      <td>0.19250</td>\n",
       "    </tr>\n",
       "    <tr>\n",
       "      <th>1865</th>\n",
       "      <td>id_ff89331ca</td>\n",
       "      <td>0</td>\n",
       "      <td>72</td>\n",
       "      <td>1</td>\n",
       "      <td>-0.10510</td>\n",
       "      <td>0.43350</td>\n",
       "      <td>0.36480</td>\n",
       "      <td>-0.05250</td>\n",
       "      <td>-0.36320</td>\n",
       "      <td>-0.32280</td>\n",
       "      <td>...</td>\n",
       "      <td>-0.12190</td>\n",
       "      <td>0.48850</td>\n",
       "      <td>0.49630</td>\n",
       "      <td>0.69300</td>\n",
       "      <td>-0.44654</td>\n",
       "      <td>0.59806</td>\n",
       "      <td>0.64624</td>\n",
       "      <td>-0.42608</td>\n",
       "      <td>-0.17480</td>\n",
       "      <td>-0.33546</td>\n",
       "    </tr>\n",
       "  </tbody>\n",
       "</table>\n",
       "<p>1866 rows × 876 columns</p>\n",
       "</div>"
      ],
      "text/plain": [
       "            sig_id cp_type cp_time cp_dose      g-0      g-1      g-2  \\\n",
       "0     id_0054388ec       0      48       0 -0.66960 -0.27180 -0.69462   \n",
       "1     id_01b05de6c       0      48       0 -0.31760  0.23072 -0.37730   \n",
       "2     id_020ba48d9       0      48       0  0.59264 -0.33390  0.73572   \n",
       "3     id_02c93b4a5       0      48       0 -0.08840 -1.13200  0.55620   \n",
       "4     id_03bc6d412       0      48       0  0.59264  0.09310 -0.09580   \n",
       "...            ...     ...     ...     ...      ...      ...      ...   \n",
       "1861  id_fbb620181       0      72       1 -0.34900  0.72970 -1.18920   \n",
       "1862  id_fbba92030       0      72       1 -0.63910  0.77178  0.38808   \n",
       "1863  id_fbc0849ad       0      72       1 -0.29480  0.21960 -0.32520   \n",
       "1864  id_fd93fa37d       0      72       1 -0.29840 -0.47880 -1.18920   \n",
       "1865  id_ff89331ca       0      72       1 -0.10510  0.43350  0.36480   \n",
       "\n",
       "          g-3      g-4      g-5  ...     c-90     c-91     c-92     c-93  \\\n",
       "0    -0.52590 -0.72200  0.15880  ...  0.61710  0.64050  0.54290  0.35620   \n",
       "1     0.49774 -0.48770  0.34130  ...  0.21890 -0.24212  0.70354  0.33890   \n",
       "2    -0.41920  0.45450 -0.40514  ... -0.20012 -0.24212 -0.24420  0.05570   \n",
       "3     0.46610 -0.16830  0.84190  ... -0.20012  0.47660  0.70354  0.46130   \n",
       "4    -0.43370  0.54504 -0.40514  ... -0.20012 -0.24212 -0.29144 -0.05584   \n",
       "...       ...      ...      ...  ...      ...      ...      ...      ...   \n",
       "1861 -0.52336  0.91858 -0.97840  ... -0.51532 -0.48866 -0.55696 -0.02430   \n",
       "1862  0.66622 -0.56166 -0.84690  ...  0.59024  0.60446  0.54674  0.69300   \n",
       "1863 -0.20840 -0.56166  0.35420  ...  0.59024  0.50140  0.54674  0.45600   \n",
       "1864 -0.52336  0.91858  0.45488  ...  0.03080 -0.44220 -0.55696 -0.35564   \n",
       "1865 -0.05250 -0.36320 -0.32280  ... -0.12190  0.48850  0.49630  0.69300   \n",
       "\n",
       "         c-94     c-95     c-96     c-97     c-98     c-99  \n",
       "0     1.01260  0.55730  0.85766  0.55340  0.86888  0.99000  \n",
       "1     0.74370  0.75330  0.24060  0.50570  0.80170  0.99000  \n",
       "2    -0.04850 -0.15696 -0.33016 -0.25144  0.36020 -0.00716  \n",
       "3     0.89570  0.82270  0.85766  0.79720  0.65420  0.05800  \n",
       "4     0.12700  0.35110  0.12330 -0.25144  0.17670  0.11530  \n",
       "...       ...      ...      ...      ...      ...      ...  \n",
       "1861 -0.44654  0.59806 -0.50942 -0.42608 -0.19490 -0.12740  \n",
       "1862  0.63246  0.59806  0.64624 -0.03440 -0.01860  0.51730  \n",
       "1863 -0.33600 -0.38402  0.64624  0.62030  0.66932  0.45040  \n",
       "1864 -0.44654  0.41030  0.44620 -0.42608 -0.19490  0.19250  \n",
       "1865 -0.44654  0.59806  0.64624 -0.42608 -0.17480 -0.33546  \n",
       "\n",
       "[1866 rows x 876 columns]"
      ]
     },
     "execution_count": 15,
     "metadata": {},
     "output_type": "execute_result"
    }
   ],
   "source": [
    "# clipping\n",
    "\n",
    "def outlaier_clip(df):\n",
    "    df = df.copy()\n",
    "    clipping = df.columns[4:]\n",
    "    for col in clipping:\n",
    "        upper, lower = np.percentile(df[col], [20, 80])\n",
    "        df[col] = np.clip(df[col], upper, lower)\n",
    "    \n",
    "    return df\n",
    "\n",
    "ctl_df = pd.DataFrame(columns=train.columns)\n",
    "for i in ctl.cp_time.unique():\n",
    "    for j in ctl.cp_dose.unique():\n",
    "        print(len(ctl[(ctl.cp_time==i) & (ctl.cp_dose==j)]))\n",
    "        tmp_ctl = ctl[(ctl.cp_time==i) & (ctl.cp_dose==j)]\n",
    "        tmp_ctl = outlaier_clip(tmp_ctl)\n",
    "        ctl_df = pd.concat([ctl_df, tmp_ctl],axis=0).reset_index(drop=True)\n",
    "ctl_df"
   ]
  },
  {
   "cell_type": "code",
   "execution_count": 16,
   "metadata": {
    "execution": {
     "iopub.execute_input": "2020-10-12T23:56:56.509478Z",
     "iopub.status.busy": "2020-10-12T23:56:56.508820Z",
     "iopub.status.idle": "2020-10-12T23:56:56.511947Z",
     "shell.execute_reply": "2020-10-12T23:56:56.511465Z"
    },
    "papermill": {
     "duration": 0.030596,
     "end_time": "2020-10-12T23:56:56.512059",
     "exception": false,
     "start_time": "2020-10-12T23:56:56.481463",
     "status": "completed"
    },
    "tags": []
   },
   "outputs": [],
   "source": [
    "ctl_df[\"target\"] = 0"
   ]
  },
  {
   "cell_type": "code",
   "execution_count": 17,
   "metadata": {
    "execution": {
     "iopub.execute_input": "2020-10-12T23:56:56.567195Z",
     "iopub.status.busy": "2020-10-12T23:56:56.566215Z",
     "iopub.status.idle": "2020-10-12T23:56:56.570205Z",
     "shell.execute_reply": "2020-10-12T23:56:56.569612Z"
    },
    "papermill": {
     "duration": 0.036018,
     "end_time": "2020-10-12T23:56:56.570335",
     "exception": false,
     "start_time": "2020-10-12T23:56:56.534317",
     "status": "completed"
    },
    "tags": []
   },
   "outputs": [
    {
     "data": {
      "text/plain": [
       "sig_id      object\n",
       "cp_type      int64\n",
       "cp_time      int64\n",
       "cp_dose      int64\n",
       "g-0        float64\n",
       "            ...   \n",
       "c-96       float64\n",
       "c-97       float64\n",
       "c-98       float64\n",
       "c-99       float64\n",
       "target       int64\n",
       "Length: 877, dtype: object"
      ]
     },
     "execution_count": 17,
     "metadata": {},
     "output_type": "execute_result"
    }
   ],
   "source": [
    "ctl_df.cp_type = ctl_df.cp_type.astype('int64')\n",
    "ctl_df.cp_time = ctl_df.cp_time.astype('int64')\n",
    "ctl_df.cp_dose = ctl_df.cp_dose.astype('int64')\n",
    "ctl_df.dtypes"
   ]
  },
  {
   "cell_type": "markdown",
   "metadata": {
    "papermill": {
     "duration": 0.021869,
     "end_time": "2020-10-12T23:56:56.614713",
     "exception": false,
     "start_time": "2020-10-12T23:56:56.592844",
     "status": "completed"
    },
    "tags": []
   },
   "source": [
    "# Modeling"
   ]
  },
  {
   "cell_type": "code",
   "execution_count": 18,
   "metadata": {
    "execution": {
     "iopub.execute_input": "2020-10-12T23:56:56.666372Z",
     "iopub.status.busy": "2020-10-12T23:56:56.665476Z",
     "iopub.status.idle": "2020-10-12T23:56:56.668388Z",
     "shell.execute_reply": "2020-10-12T23:56:56.667887Z"
    },
    "papermill": {
     "duration": 0.031522,
     "end_time": "2020-10-12T23:56:56.668495",
     "exception": false,
     "start_time": "2020-10-12T23:56:56.636973",
     "status": "completed"
    },
    "tags": []
   },
   "outputs": [],
   "source": [
    "cv = StratifiedKFold(n_splits=N_FOLD, shuffle=True, random_state=SEED)\n",
    "\n",
    "params = {\n",
    "    'num_leaves': 24,\n",
    "    'max_depth': 5,\n",
    "    'objective': 'binary',\n",
    "    'learning_rate': Learning_rate\n",
    "}\n",
    "\n",
    "categorical_cols = ['cp_time', 'cp_dose']\n",
    "feature_importance_df = pd.DataFrame()\n",
    "models = []\n",
    "scores = []"
   ]
  },
  {
   "cell_type": "code",
   "execution_count": 19,
   "metadata": {
    "execution": {
     "iopub.execute_input": "2020-10-12T23:56:56.721104Z",
     "iopub.status.busy": "2020-10-12T23:56:56.720163Z",
     "iopub.status.idle": "2020-10-13T00:18:04.953445Z",
     "shell.execute_reply": "2020-10-13T00:18:04.951640Z"
    },
    "papermill": {
     "duration": 1268.262937,
     "end_time": "2020-10-13T00:18:04.953703",
     "exception": false,
     "start_time": "2020-10-12T23:56:56.690766",
     "status": "completed"
    },
    "tags": []
   },
   "outputs": [
    {
     "data": {
      "application/vnd.jupyter.widget-view+json": {
       "model_id": "9a25ca03a65a4e569ba25f008896ae97",
       "version_major": 2,
       "version_minor": 0
      },
      "text/plain": [
       "HBox(children=(FloatProgress(value=0.0, max=206.0), HTML(value='')))"
      ]
     },
     "metadata": {},
     "output_type": "display_data"
    },
    {
     "name": "stderr",
     "output_type": "stream",
     "text": [
      "len(trt) : 17\n",
      "len(train_index) : 941\n",
      "len(valid_index) : 942\n",
      "================================= 1fold lightgbm =================================\n"
     ]
    },
    {
     "name": "stdout",
     "output_type": "stream",
     "text": [
      "Training until validation scores don't improve for 10 rounds\n",
      "[20]\ttraining's binary_logloss: 0.0143342\tvalid_1's binary_logloss: 0.0327439\n",
      "[40]\ttraining's binary_logloss: 0.00745638\tvalid_1's binary_logloss: 0.0275167\n",
      "[60]\ttraining's binary_logloss: 0.00414996\tvalid_1's binary_logloss: 0.025558\n",
      "[80]\ttraining's binary_logloss: 0.00234502\tvalid_1's binary_logloss: 0.0251704\n"
     ]
    },
    {
     "name": "stderr",
     "output_type": "stream",
     "text": [
      "len(train_index) : 942\n",
      "len(valid_index) : 941\n"
     ]
    },
    {
     "name": "stdout",
     "output_type": "stream",
     "text": [
      "[100]\ttraining's binary_logloss: 0.00134521\tvalid_1's binary_logloss: 0.0251028\n",
      "Early stopping, best iteration is:\n",
      "[95]\ttraining's binary_logloss: 0.00154112\tvalid_1's binary_logloss: 0.0248987\n"
     ]
    },
    {
     "name": "stderr",
     "output_type": "stream",
     "text": [
      "================================= 2fold lightgbm =================================\n"
     ]
    },
    {
     "name": "stdout",
     "output_type": "stream",
     "text": [
      "Training until validation scores don't improve for 10 rounds\n",
      "[20]\ttraining's binary_logloss: 0.0153766\tvalid_1's binary_logloss: 0.0268023\n",
      "[40]\ttraining's binary_logloss: 0.00775558\tvalid_1's binary_logloss: 0.0241001\n",
      "[60]\ttraining's binary_logloss: 0.00421506\tvalid_1's binary_logloss: 0.022905\n",
      "[80]\ttraining's binary_logloss: 0.00232711\tvalid_1's binary_logloss: 0.0226172\n"
     ]
    },
    {
     "name": "stderr",
     "output_type": "stream",
     "text": [
      "5-alpha_reductase_inhibitor logloss: 0.023716958762848114\n",
      "=========================================================================================\n",
      "len(trt) : 18\n",
      "len(train_index) : 942\n",
      "len(valid_index) : 942\n",
      "================================= 1fold lightgbm =================================\n"
     ]
    },
    {
     "name": "stdout",
     "output_type": "stream",
     "text": [
      "Early stopping, best iteration is:\n",
      "[79]\ttraining's binary_logloss: 0.00239492\tvalid_1's binary_logloss: 0.022534\n",
      "Training until validation scores don't improve for 10 rounds\n",
      "[20]\ttraining's binary_logloss: 0.014768\tvalid_1's binary_logloss: 0.0412003\n",
      "[40]\ttraining's binary_logloss: 0.00759102\tvalid_1's binary_logloss: 0.0371566\n",
      "[60]\ttraining's binary_logloss: 0.00417209\tvalid_1's binary_logloss: 0.0345641\n",
      "[80]\ttraining's binary_logloss: 0.00235558\tvalid_1's binary_logloss: 0.0327693\n",
      "[100]\ttraining's binary_logloss: 0.00134819\tvalid_1's binary_logloss: 0.032066\n"
     ]
    },
    {
     "name": "stderr",
     "output_type": "stream",
     "text": [
      "len(train_index) : 942\n",
      "len(valid_index) : 942\n",
      "================================= 2fold lightgbm =================================\n"
     ]
    },
    {
     "name": "stdout",
     "output_type": "stream",
     "text": [
      "[120]\ttraining's binary_logloss: 0.000774225\tvalid_1's binary_logloss: 0.0324555\n",
      "Early stopping, best iteration is:\n",
      "[110]\ttraining's binary_logloss: 0.00102225\tvalid_1's binary_logloss: 0.0319462\n",
      "Training until validation scores don't improve for 10 rounds\n",
      "[20]\ttraining's binary_logloss: 0.015009\tvalid_1's binary_logloss: 0.0355033\n",
      "[40]\ttraining's binary_logloss: 0.00766434\tvalid_1's binary_logloss: 0.0311411\n",
      "[60]\ttraining's binary_logloss: 0.00415839\tvalid_1's binary_logloss: 0.0296176\n"
     ]
    },
    {
     "name": "stderr",
     "output_type": "stream",
     "text": [
      "11-beta-hsd1_inhibitor logloss: 0.030742966810432818\n",
      "=========================================================================================\n",
      "len(trt) : 24\n",
      "len(train_index) : 945\n",
      "len(valid_index) : 945\n",
      "================================= 1fold lightgbm =================================\n"
     ]
    },
    {
     "name": "stdout",
     "output_type": "stream",
     "text": [
      "Early stopping, best iteration is:\n",
      "[63]\ttraining's binary_logloss: 0.00378819\tvalid_1's binary_logloss: 0.0295397\n",
      "Training until validation scores don't improve for 10 rounds\n",
      "[20]\ttraining's binary_logloss: 0.0221035\tvalid_1's binary_logloss: 0.0554884\n"
     ]
    },
    {
     "name": "stderr",
     "output_type": "stream",
     "text": [
      "len(train_index) : 945\n",
      "len(valid_index) : 945\n",
      "================================= 2fold lightgbm =================================\n"
     ]
    },
    {
     "name": "stdout",
     "output_type": "stream",
     "text": [
      "[40]\ttraining's binary_logloss: 0.0116078\tvalid_1's binary_logloss: 0.0545899\n",
      "Early stopping, best iteration is:\n",
      "[35]\ttraining's binary_logloss: 0.0135684\tvalid_1's binary_logloss: 0.0545419\n",
      "Training until validation scores don't improve for 10 rounds\n",
      "[20]\ttraining's binary_logloss: 0.0240966\tvalid_1's binary_logloss: 0.0581609\n",
      "[40]\ttraining's binary_logloss: 0.0128111\tvalid_1's binary_logloss: 0.0561477\n"
     ]
    },
    {
     "name": "stderr",
     "output_type": "stream",
     "text": [
      "acat_inhibitor logloss: 0.05520889453941809\n",
      "=========================================================================================\n",
      "len(trt) : 190\n",
      "len(train_index) : 1028\n",
      "len(valid_index) : 1028\n",
      "================================= 1fold lightgbm =================================\n"
     ]
    },
    {
     "name": "stdout",
     "output_type": "stream",
     "text": [
      "Early stopping, best iteration is:\n",
      "[45]\ttraining's binary_logloss: 0.0110564\tvalid_1's binary_logloss: 0.0558758\n",
      "Training until validation scores don't improve for 10 rounds\n",
      "[20]\ttraining's binary_logloss: 0.125849\tvalid_1's binary_logloss: 0.179723\n",
      "[40]\ttraining's binary_logloss: 0.0698236\tvalid_1's binary_logloss: 0.134756\n",
      "[60]\ttraining's binary_logloss: 0.0401305\tvalid_1's binary_logloss: 0.110518\n",
      "[80]\ttraining's binary_logloss: 0.0237466\tvalid_1's binary_logloss: 0.0965447\n",
      "[100]\ttraining's binary_logloss: 0.0140505\tvalid_1's binary_logloss: 0.0871656\n",
      "[120]\ttraining's binary_logloss: 0.00835234\tvalid_1's binary_logloss: 0.0822564\n",
      "[140]\ttraining's binary_logloss: 0.00501698\tvalid_1's binary_logloss: 0.0789449\n",
      "[160]\ttraining's binary_logloss: 0.00303602\tvalid_1's binary_logloss: 0.0778536\n"
     ]
    },
    {
     "name": "stderr",
     "output_type": "stream",
     "text": [
      "len(train_index) : 1028\n",
      "len(valid_index) : 1028\n",
      "================================= 2fold lightgbm =================================\n"
     ]
    },
    {
     "name": "stdout",
     "output_type": "stream",
     "text": [
      "[180]\ttraining's binary_logloss: 0.00183171\tvalid_1's binary_logloss: 0.0780806\n",
      "Early stopping, best iteration is:\n",
      "[172]\ttraining's binary_logloss: 0.00224232\tvalid_1's binary_logloss: 0.0774263\n",
      "Training until validation scores don't improve for 10 rounds\n",
      "[20]\ttraining's binary_logloss: 0.138613\tvalid_1's binary_logloss: 0.186547\n",
      "[40]\ttraining's binary_logloss: 0.0778376\tvalid_1's binary_logloss: 0.139049\n",
      "[60]\ttraining's binary_logloss: 0.0452996\tvalid_1's binary_logloss: 0.110037\n",
      "[80]\ttraining's binary_logloss: 0.0273669\tvalid_1's binary_logloss: 0.0928435\n",
      "[100]\ttraining's binary_logloss: 0.0167601\tvalid_1's binary_logloss: 0.0817794\n",
      "[120]\ttraining's binary_logloss: 0.0102758\tvalid_1's binary_logloss: 0.0745373\n",
      "[140]\ttraining's binary_logloss: 0.00643773\tvalid_1's binary_logloss: 0.0703032\n",
      "[160]\ttraining's binary_logloss: 0.004055\tvalid_1's binary_logloss: 0.0676735\n",
      "[180]\ttraining's binary_logloss: 0.00256001\tvalid_1's binary_logloss: 0.0660601\n",
      "[200]\ttraining's binary_logloss: 0.00162358\tvalid_1's binary_logloss: 0.0638081\n"
     ]
    },
    {
     "name": "stderr",
     "output_type": "stream",
     "text": [
      "acetylcholine_receptor_agonist logloss: 0.0699104544509147\n",
      "=========================================================================================\n",
      "len(trt) : 301\n",
      "len(train_index) : 1083\n",
      "len(valid_index) : 1084\n",
      "================================= 1fold lightgbm =================================\n"
     ]
    },
    {
     "name": "stdout",
     "output_type": "stream",
     "text": [
      "[220]\ttraining's binary_logloss: 0.00102878\tvalid_1's binary_logloss: 0.062704\n",
      "Early stopping, best iteration is:\n",
      "[211]\ttraining's binary_logloss: 0.0012621\tvalid_1's binary_logloss: 0.0623946\n",
      "Training until validation scores don't improve for 10 rounds\n",
      "[20]\ttraining's binary_logloss: 0.178182\tvalid_1's binary_logloss: 0.200258\n",
      "[40]\ttraining's binary_logloss: 0.0985518\tvalid_1's binary_logloss: 0.131905\n",
      "[60]\ttraining's binary_logloss: 0.0563671\tvalid_1's binary_logloss: 0.0940731\n",
      "[80]\ttraining's binary_logloss: 0.0332672\tvalid_1's binary_logloss: 0.0728059\n",
      "[100]\ttraining's binary_logloss: 0.0199756\tvalid_1's binary_logloss: 0.0586622\n",
      "[120]\ttraining's binary_logloss: 0.0121613\tvalid_1's binary_logloss: 0.0503776\n",
      "[140]\ttraining's binary_logloss: 0.00738544\tvalid_1's binary_logloss: 0.0446292\n",
      "[160]\ttraining's binary_logloss: 0.0044934\tvalid_1's binary_logloss: 0.0414935\n",
      "[180]\ttraining's binary_logloss: 0.00274541\tvalid_1's binary_logloss: 0.0393785\n",
      "[200]\ttraining's binary_logloss: 0.00168008\tvalid_1's binary_logloss: 0.0373308\n",
      "[220]\ttraining's binary_logloss: 0.00102815\tvalid_1's binary_logloss: 0.0354594\n",
      "[240]\ttraining's binary_logloss: 0.000627894\tvalid_1's binary_logloss: 0.0338306\n",
      "[260]\ttraining's binary_logloss: 0.000385806\tvalid_1's binary_logloss: 0.0331364\n",
      "[280]\ttraining's binary_logloss: 0.000238099\tvalid_1's binary_logloss: 0.0324108\n",
      "[300]\ttraining's binary_logloss: 0.000146387\tvalid_1's binary_logloss: 0.0315994\n",
      "[320]\ttraining's binary_logloss: 9.03342e-05\tvalid_1's binary_logloss: 0.0308387\n",
      "[340]\ttraining's binary_logloss: 5.62155e-05\tvalid_1's binary_logloss: 0.0301425\n",
      "[360]\ttraining's binary_logloss: 3.46828e-05\tvalid_1's binary_logloss: 0.0298586\n",
      "Early stopping, best iteration is:\n",
      "[355]\ttraining's binary_logloss: 3.912e-05\tvalid_1's binary_logloss: 0.0294383\n"
     ]
    },
    {
     "name": "stderr",
     "output_type": "stream",
     "text": [
      "len(train_index) : 1084\n",
      "len(valid_index) : 1083\n",
      "================================= 2fold lightgbm =================================\n"
     ]
    },
    {
     "name": "stdout",
     "output_type": "stream",
     "text": [
      "Training until validation scores don't improve for 10 rounds\n",
      "[20]\ttraining's binary_logloss: 0.180946\tvalid_1's binary_logloss: 0.20805\n",
      "[40]\ttraining's binary_logloss: 0.0998625\tvalid_1's binary_logloss: 0.13667\n",
      "[60]\ttraining's binary_logloss: 0.0583372\tvalid_1's binary_logloss: 0.0966546\n",
      "[80]\ttraining's binary_logloss: 0.0349121\tvalid_1's binary_logloss: 0.0732067\n",
      "[100]\ttraining's binary_logloss: 0.0210663\tvalid_1's binary_logloss: 0.0573357\n",
      "[120]\ttraining's binary_logloss: 0.0129897\tvalid_1's binary_logloss: 0.046836\n",
      "[140]\ttraining's binary_logloss: 0.00803603\tvalid_1's binary_logloss: 0.0410948\n",
      "[160]\ttraining's binary_logloss: 0.00501975\tvalid_1's binary_logloss: 0.036699\n",
      "[180]\ttraining's binary_logloss: 0.00315242\tvalid_1's binary_logloss: 0.0340856\n",
      "[200]\ttraining's binary_logloss: 0.0019793\tvalid_1's binary_logloss: 0.0322338\n",
      "[220]\ttraining's binary_logloss: 0.00124266\tvalid_1's binary_logloss: 0.030403\n",
      "[240]\ttraining's binary_logloss: 0.000776277\tvalid_1's binary_logloss: 0.0285648\n",
      "[260]\ttraining's binary_logloss: 0.000486776\tvalid_1's binary_logloss: 0.0273779\n",
      "[280]\ttraining's binary_logloss: 0.000306143\tvalid_1's binary_logloss: 0.0262906\n",
      "[300]\ttraining's binary_logloss: 0.000193487\tvalid_1's binary_logloss: 0.025472\n",
      "[320]\ttraining's binary_logloss: 0.000122369\tvalid_1's binary_logloss: 0.024953\n",
      "[340]\ttraining's binary_logloss: 7.7615e-05\tvalid_1's binary_logloss: 0.0244546\n",
      "[360]\ttraining's binary_logloss: 4.93039e-05\tvalid_1's binary_logloss: 0.0237003\n",
      "[380]\ttraining's binary_logloss: 3.1545e-05\tvalid_1's binary_logloss: 0.0228815\n",
      "[400]\ttraining's binary_logloss: 2.01627e-05\tvalid_1's binary_logloss: 0.0220508\n",
      "[420]\ttraining's binary_logloss: 1.29289e-05\tvalid_1's binary_logloss: 0.0210859\n",
      "[440]\ttraining's binary_logloss: 8.6013e-06\tvalid_1's binary_logloss: 0.0202269\n"
     ]
    },
    {
     "name": "stderr",
     "output_type": "stream",
     "text": [
      "acetylcholine_receptor_antagonist logloss: 0.024790906392415036\n",
      "=========================================================================================\n",
      "len(trt) : 73\n",
      "len(train_index) : 969\n",
      "len(valid_index) : 970\n",
      "================================= 1fold lightgbm =================================\n"
     ]
    },
    {
     "name": "stdout",
     "output_type": "stream",
     "text": [
      "Early stopping, best iteration is:\n",
      "[448]\ttraining's binary_logloss: 7.50152e-06\tvalid_1's binary_logloss: 0.0201392\n",
      "Training until validation scores don't improve for 10 rounds\n",
      "[20]\ttraining's binary_logloss: 0.0611462\tvalid_1's binary_logloss: 0.0925816\n",
      "[40]\ttraining's binary_logloss: 0.0326471\tvalid_1's binary_logloss: 0.0731883\n",
      "[60]\ttraining's binary_logloss: 0.0184767\tvalid_1's binary_logloss: 0.0632714\n",
      "[80]\ttraining's binary_logloss: 0.0107529\tvalid_1's binary_logloss: 0.0581805\n",
      "[100]\ttraining's binary_logloss: 0.00637915\tvalid_1's binary_logloss: 0.0559415\n"
     ]
    },
    {
     "name": "stderr",
     "output_type": "stream",
     "text": [
      "len(train_index) : 970\n",
      "len(valid_index) : 969\n",
      "================================= 2fold lightgbm =================================\n"
     ]
    },
    {
     "name": "stdout",
     "output_type": "stream",
     "text": [
      "Early stopping, best iteration is:\n",
      "[108]\ttraining's binary_logloss: 0.00518795\tvalid_1's binary_logloss: 0.0548959\n",
      "Training until validation scores don't improve for 10 rounds\n",
      "[20]\ttraining's binary_logloss: 0.0575472\tvalid_1's binary_logloss: 0.0931571\n",
      "[40]\ttraining's binary_logloss: 0.0309094\tvalid_1's binary_logloss: 0.0763318\n",
      "[60]\ttraining's binary_logloss: 0.0173552\tvalid_1's binary_logloss: 0.0663342\n",
      "[80]\ttraining's binary_logloss: 0.0101001\tvalid_1's binary_logloss: 0.0638263\n",
      "[100]\ttraining's binary_logloss: 0.00592073\tvalid_1's binary_logloss: 0.0623367\n"
     ]
    },
    {
     "name": "stderr",
     "output_type": "stream",
     "text": [
      "acetylcholinesterase_inhibitor logloss: 0.05834280092041864\n",
      "=========================================================================================\n",
      "len(trt) : 54\n",
      "len(train_index) : 960\n",
      "len(valid_index) : 960\n",
      "================================= 1fold lightgbm =================================\n"
     ]
    },
    {
     "name": "stdout",
     "output_type": "stream",
     "text": [
      "[120]\ttraining's binary_logloss: 0.00349307\tvalid_1's binary_logloss: 0.0620684\n",
      "Early stopping, best iteration is:\n",
      "[110]\ttraining's binary_logloss: 0.00454543\tvalid_1's binary_logloss: 0.0617933\n",
      "Training until validation scores don't improve for 10 rounds\n",
      "[20]\ttraining's binary_logloss: 0.0484955\tvalid_1's binary_logloss: 0.0850381\n",
      "[40]\ttraining's binary_logloss: 0.0263112\tvalid_1's binary_logloss: 0.071732\n",
      "[60]\ttraining's binary_logloss: 0.0149137\tvalid_1's binary_logloss: 0.0663068\n"
     ]
    },
    {
     "name": "stderr",
     "output_type": "stream",
     "text": [
      "len(train_index) : 960\n",
      "len(valid_index) : 960\n",
      "================================= 2fold lightgbm =================================\n"
     ]
    },
    {
     "name": "stdout",
     "output_type": "stream",
     "text": [
      "Early stopping, best iteration is:\n",
      "[63]\ttraining's binary_logloss: 0.0138169\tvalid_1's binary_logloss: 0.0655077\n",
      "Training until validation scores don't improve for 10 rounds\n",
      "[20]\ttraining's binary_logloss: 0.0454978\tvalid_1's binary_logloss: 0.0890794\n",
      "[40]\ttraining's binary_logloss: 0.0247091\tvalid_1's binary_logloss: 0.0845562\n",
      "[60]\ttraining's binary_logloss: 0.0141718\tvalid_1's binary_logloss: 0.0840299\n"
     ]
    },
    {
     "name": "stderr",
     "output_type": "stream",
     "text": [
      "adenosine_receptor_agonist logloss: 0.0747531541127683\n",
      "=========================================================================================\n",
      "len(trt) : 96\n",
      "len(train_index) : 981\n",
      "len(valid_index) : 981\n",
      "================================= 1fold lightgbm =================================\n"
     ]
    },
    {
     "name": "stdout",
     "output_type": "stream",
     "text": [
      "Early stopping, best iteration is:\n",
      "[69]\ttraining's binary_logloss: 0.011151\tvalid_1's binary_logloss: 0.0839986\n",
      "Training until validation scores don't improve for 10 rounds\n",
      "[20]\ttraining's binary_logloss: 0.0750238\tvalid_1's binary_logloss: 0.109017\n",
      "[40]\ttraining's binary_logloss: 0.0402323\tvalid_1's binary_logloss: 0.0824332\n",
      "[60]\ttraining's binary_logloss: 0.0228571\tvalid_1's binary_logloss: 0.0673636\n",
      "[80]\ttraining's binary_logloss: 0.0132218\tvalid_1's binary_logloss: 0.0601351\n",
      "[100]\ttraining's binary_logloss: 0.00770763\tvalid_1's binary_logloss: 0.0567234\n",
      "[120]\ttraining's binary_logloss: 0.00451451\tvalid_1's binary_logloss: 0.0554381\n"
     ]
    },
    {
     "name": "stderr",
     "output_type": "stream",
     "text": [
      "len(train_index) : 981\n",
      "len(valid_index) : 981\n",
      "================================= 2fold lightgbm =================================\n"
     ]
    },
    {
     "name": "stdout",
     "output_type": "stream",
     "text": [
      "Early stopping, best iteration is:\n",
      "[126]\ttraining's binary_logloss: 0.00385035\tvalid_1's binary_logloss: 0.0550577\n",
      "Training until validation scores don't improve for 10 rounds\n",
      "[20]\ttraining's binary_logloss: 0.0746603\tvalid_1's binary_logloss: 0.107546\n",
      "[40]\ttraining's binary_logloss: 0.0397682\tvalid_1's binary_logloss: 0.0811526\n",
      "[60]\ttraining's binary_logloss: 0.0223984\tvalid_1's binary_logloss: 0.0686369\n",
      "[80]\ttraining's binary_logloss: 0.0128398\tvalid_1's binary_logloss: 0.0604773\n",
      "[100]\ttraining's binary_logloss: 0.00739208\tvalid_1's binary_logloss: 0.0566799\n",
      "[120]\ttraining's binary_logloss: 0.00429747\tvalid_1's binary_logloss: 0.0539227\n",
      "[140]\ttraining's binary_logloss: 0.00251684\tvalid_1's binary_logloss: 0.0517801\n",
      "[160]\ttraining's binary_logloss: 0.00148108\tvalid_1's binary_logloss: 0.0507006\n",
      "[180]\ttraining's binary_logloss: 0.000875899\tvalid_1's binary_logloss: 0.0500199\n"
     ]
    },
    {
     "name": "stderr",
     "output_type": "stream",
     "text": [
      "adenosine_receptor_antagonist logloss: 0.052478438512039975\n",
      "=========================================================================================\n",
      "len(trt) : 12\n",
      "len(train_index) : 939\n",
      "len(valid_index) : 939\n",
      "================================= 1fold lightgbm =================================\n"
     ]
    },
    {
     "name": "stdout",
     "output_type": "stream",
     "text": [
      "Early stopping, best iteration is:\n",
      "[179]\ttraining's binary_logloss: 0.00089973\tvalid_1's binary_logloss: 0.0498992\n",
      "Training until validation scores don't improve for 10 rounds\n",
      "[20]\ttraining's binary_logloss: 0.0103861\tvalid_1's binary_logloss: 0.0238296\n",
      "[40]\ttraining's binary_logloss: 0.00543841\tvalid_1's binary_logloss: 0.0215374\n",
      "[60]\ttraining's binary_logloss: 0.00304081\tvalid_1's binary_logloss: 0.0201722\n",
      "[80]\ttraining's binary_logloss: 0.00173507\tvalid_1's binary_logloss: 0.0194032\n",
      "[100]\ttraining's binary_logloss: 0.00100513\tvalid_1's binary_logloss: 0.0183722\n",
      "[120]\ttraining's binary_logloss: 0.000587319\tvalid_1's binary_logloss: 0.0176049\n",
      "[140]\ttraining's binary_logloss: 0.000344658\tvalid_1's binary_logloss: 0.0174312\n",
      "[160]\ttraining's binary_logloss: 0.00020198\tvalid_1's binary_logloss: 0.0172964\n"
     ]
    },
    {
     "name": "stderr",
     "output_type": "stream",
     "text": [
      "len(train_index) : 939\n",
      "len(valid_index) : 939\n",
      "================================= 2fold lightgbm =================================\n"
     ]
    },
    {
     "name": "stdout",
     "output_type": "stream",
     "text": [
      "Early stopping, best iteration is:\n",
      "[166]\ttraining's binary_logloss: 0.00017263\tvalid_1's binary_logloss: 0.0170009\n",
      "Training until validation scores don't improve for 10 rounds\n",
      "[20]\ttraining's binary_logloss: 0.00987911\tvalid_1's binary_logloss: 0.0269881\n",
      "[40]\ttraining's binary_logloss: 0.00502072\tvalid_1's binary_logloss: 0.024341\n",
      "[60]\ttraining's binary_logloss: 0.00274483\tvalid_1's binary_logloss: 0.0225769\n",
      "[80]\ttraining's binary_logloss: 0.00153115\tvalid_1's binary_logloss: 0.0221022\n"
     ]
    },
    {
     "name": "stderr",
     "output_type": "stream",
     "text": [
      "adenylyl_cyclase_activator logloss: 0.019449902730760107\n",
      "=========================================================================================\n",
      "len(trt) : 270\n",
      "len(train_index) : 1068\n",
      "len(valid_index) : 1068\n",
      "================================= 1fold lightgbm =================================\n"
     ]
    },
    {
     "name": "stdout",
     "output_type": "stream",
     "text": [
      "Early stopping, best iteration is:\n",
      "[86]\ttraining's binary_logloss: 0.00129066\tvalid_1's binary_logloss: 0.021899\n",
      "Training until validation scores don't improve for 10 rounds\n",
      "[20]\ttraining's binary_logloss: 0.164924\tvalid_1's binary_logloss: 0.186996\n",
      "[40]\ttraining's binary_logloss: 0.0891929\tvalid_1's binary_logloss: 0.115817\n",
      "[60]\ttraining's binary_logloss: 0.0513957\tvalid_1's binary_logloss: 0.0795462\n",
      "[80]\ttraining's binary_logloss: 0.0304167\tvalid_1's binary_logloss: 0.0594626\n",
      "[100]\ttraining's binary_logloss: 0.0182261\tvalid_1's binary_logloss: 0.0475549\n",
      "[120]\ttraining's binary_logloss: 0.0109819\tvalid_1's binary_logloss: 0.0397308\n",
      "[140]\ttraining's binary_logloss: 0.00663929\tvalid_1's binary_logloss: 0.0346697\n",
      "[160]\ttraining's binary_logloss: 0.00403061\tvalid_1's binary_logloss: 0.0311539\n",
      "[180]\ttraining's binary_logloss: 0.00244694\tvalid_1's binary_logloss: 0.0305404\n",
      "[200]\ttraining's binary_logloss: 0.00150433\tvalid_1's binary_logloss: 0.0292559\n",
      "[220]\ttraining's binary_logloss: 0.000923008\tvalid_1's binary_logloss: 0.028461\n",
      "[240]\ttraining's binary_logloss: 0.000573134\tvalid_1's binary_logloss: 0.0283952\n"
     ]
    },
    {
     "name": "stderr",
     "output_type": "stream",
     "text": [
      "len(train_index) : 1068\n",
      "len(valid_index) : 1068\n",
      "================================= 2fold lightgbm =================================\n"
     ]
    },
    {
     "name": "stdout",
     "output_type": "stream",
     "text": [
      "Early stopping, best iteration is:\n",
      "[242]\ttraining's binary_logloss: 0.000546676\tvalid_1's binary_logloss: 0.0282465\n",
      "Training until validation scores don't improve for 10 rounds\n",
      "[20]\ttraining's binary_logloss: 0.15882\tvalid_1's binary_logloss: 0.192463\n",
      "[40]\ttraining's binary_logloss: 0.0853265\tvalid_1's binary_logloss: 0.130926\n",
      "[60]\ttraining's binary_logloss: 0.0484221\tvalid_1's binary_logloss: 0.097084\n",
      "[80]\ttraining's binary_logloss: 0.0283396\tvalid_1's binary_logloss: 0.0781922\n",
      "[100]\ttraining's binary_logloss: 0.0168026\tvalid_1's binary_logloss: 0.0653482\n",
      "[120]\ttraining's binary_logloss: 0.0100149\tvalid_1's binary_logloss: 0.0567486\n",
      "[140]\ttraining's binary_logloss: 0.00597462\tvalid_1's binary_logloss: 0.050167\n",
      "[160]\ttraining's binary_logloss: 0.00356346\tvalid_1's binary_logloss: 0.0459365\n",
      "[180]\ttraining's binary_logloss: 0.00212562\tvalid_1's binary_logloss: 0.043444\n",
      "[200]\ttraining's binary_logloss: 0.00127413\tvalid_1's binary_logloss: 0.04196\n",
      "[220]\ttraining's binary_logloss: 0.000764315\tvalid_1's binary_logloss: 0.0406797\n",
      "[240]\ttraining's binary_logloss: 0.000458171\tvalid_1's binary_logloss: 0.039794\n",
      "[260]\ttraining's binary_logloss: 0.000277039\tvalid_1's binary_logloss: 0.0383392\n",
      "[280]\ttraining's binary_logloss: 0.000167715\tvalid_1's binary_logloss: 0.0376394\n",
      "[300]\ttraining's binary_logloss: 0.000102405\tvalid_1's binary_logloss: 0.0373873\n",
      "Early stopping, best iteration is:\n",
      "[296]\ttraining's binary_logloss: 0.000113126\tvalid_1's binary_logloss: 0.0371489\n"
     ]
    },
    {
     "name": "stderr",
     "output_type": "stream",
     "text": [
      "adrenergic_receptor_agonist logloss: 0.03269769340804146\n",
      "=========================================================================================\n",
      "len(trt) : 360\n",
      "len(train_index) : 1113\n",
      "len(valid_index) : 1113\n",
      "================================= 1fold lightgbm =================================\n"
     ]
    },
    {
     "name": "stdout",
     "output_type": "stream",
     "text": [
      "Training until validation scores don't improve for 10 rounds\n",
      "[20]\ttraining's binary_logloss: 0.19982\tvalid_1's binary_logloss: 0.23432\n",
      "[40]\ttraining's binary_logloss: 0.112139\tvalid_1's binary_logloss: 0.158663\n",
      "[60]\ttraining's binary_logloss: 0.0661498\tvalid_1's binary_logloss: 0.116466\n",
      "[80]\ttraining's binary_logloss: 0.0401302\tvalid_1's binary_logloss: 0.0924752\n",
      "[100]\ttraining's binary_logloss: 0.0245617\tvalid_1's binary_logloss: 0.075422\n",
      "[120]\ttraining's binary_logloss: 0.0152458\tvalid_1's binary_logloss: 0.0647043\n",
      "[140]\ttraining's binary_logloss: 0.0095085\tvalid_1's binary_logloss: 0.0582969\n",
      "[160]\ttraining's binary_logloss: 0.00595671\tvalid_1's binary_logloss: 0.0534119\n",
      "[180]\ttraining's binary_logloss: 0.00375456\tvalid_1's binary_logloss: 0.0499921\n",
      "[200]\ttraining's binary_logloss: 0.00237479\tvalid_1's binary_logloss: 0.0479133\n",
      "[220]\ttraining's binary_logloss: 0.00150139\tvalid_1's binary_logloss: 0.0457164\n",
      "[240]\ttraining's binary_logloss: 0.000947202\tvalid_1's binary_logloss: 0.0440775\n",
      "[260]\ttraining's binary_logloss: 0.000599941\tvalid_1's binary_logloss: 0.0423999\n",
      "[280]\ttraining's binary_logloss: 0.000382844\tvalid_1's binary_logloss: 0.0423043\n",
      "[300]\ttraining's binary_logloss: 0.00024215\tvalid_1's binary_logloss: 0.0410656\n",
      "[320]\ttraining's binary_logloss: 0.0001537\tvalid_1's binary_logloss: 0.0395433\n",
      "[340]\ttraining's binary_logloss: 9.73706e-05\tvalid_1's binary_logloss: 0.0384707\n"
     ]
    },
    {
     "name": "stderr",
     "output_type": "stream",
     "text": [
      "len(train_index) : 1113\n",
      "len(valid_index) : 1113\n",
      "================================= 2fold lightgbm =================================\n"
     ]
    },
    {
     "name": "stdout",
     "output_type": "stream",
     "text": [
      "[360]\ttraining's binary_logloss: 6.19995e-05\tvalid_1's binary_logloss: 0.0387801\n",
      "Early stopping, best iteration is:\n",
      "[352]\ttraining's binary_logloss: 7.42763e-05\tvalid_1's binary_logloss: 0.0379997\n",
      "Training until validation scores don't improve for 10 rounds\n",
      "[20]\ttraining's binary_logloss: 0.20297\tvalid_1's binary_logloss: 0.232015\n",
      "[40]\ttraining's binary_logloss: 0.114983\tvalid_1's binary_logloss: 0.153534\n",
      "[60]\ttraining's binary_logloss: 0.0677607\tvalid_1's binary_logloss: 0.10917\n",
      "[80]\ttraining's binary_logloss: 0.0405762\tvalid_1's binary_logloss: 0.0825894\n",
      "[100]\ttraining's binary_logloss: 0.0249531\tvalid_1's binary_logloss: 0.0674613\n",
      "[120]\ttraining's binary_logloss: 0.0154845\tvalid_1's binary_logloss: 0.056309\n",
      "[140]\ttraining's binary_logloss: 0.00969385\tvalid_1's binary_logloss: 0.0493574\n",
      "[160]\ttraining's binary_logloss: 0.00609614\tvalid_1's binary_logloss: 0.0450695\n",
      "[180]\ttraining's binary_logloss: 0.00387863\tvalid_1's binary_logloss: 0.0433369\n",
      "[200]\ttraining's binary_logloss: 0.00246856\tvalid_1's binary_logloss: 0.0413098\n",
      "[220]\ttraining's binary_logloss: 0.00157271\tvalid_1's binary_logloss: 0.040419\n",
      "[240]\ttraining's binary_logloss: 0.00100233\tvalid_1's binary_logloss: 0.0397915\n",
      "Early stopping, best iteration is:\n",
      "[239]\ttraining's binary_logloss: 0.0010261\tvalid_1's binary_logloss: 0.0396424\n"
     ]
    },
    {
     "name": "stderr",
     "output_type": "stream",
     "text": [
      "adrenergic_receptor_antagonist logloss: 0.038821055198589145\n",
      "=========================================================================================\n",
      "len(trt) : 66\n",
      "len(train_index) : 966\n",
      "len(valid_index) : 966\n",
      "================================= 1fold lightgbm =================================\n"
     ]
    },
    {
     "name": "stdout",
     "output_type": "stream",
     "text": [
      "Training until validation scores don't improve for 10 rounds\n",
      "[20]\ttraining's binary_logloss: 0.0485233\tvalid_1's binary_logloss: 0.0806131\n",
      "[40]\ttraining's binary_logloss: 0.0252601\tvalid_1's binary_logloss: 0.0618429\n",
      "[60]\ttraining's binary_logloss: 0.0138282\tvalid_1's binary_logloss: 0.0510806\n",
      "[80]\ttraining's binary_logloss: 0.00768529\tvalid_1's binary_logloss: 0.0451977\n",
      "[100]\ttraining's binary_logloss: 0.00434908\tvalid_1's binary_logloss: 0.0443142\n"
     ]
    },
    {
     "name": "stderr",
     "output_type": "stream",
     "text": [
      "len(train_index) : 966\n",
      "len(valid_index) : 966\n",
      "================================= 2fold lightgbm =================================\n"
     ]
    },
    {
     "name": "stdout",
     "output_type": "stream",
     "text": [
      "Early stopping, best iteration is:\n",
      "[103]\ttraining's binary_logloss: 0.00399277\tvalid_1's binary_logloss: 0.0441415\n",
      "Training until validation scores don't improve for 10 rounds\n",
      "[20]\ttraining's binary_logloss: 0.0472885\tvalid_1's binary_logloss: 0.0663397\n",
      "[40]\ttraining's binary_logloss: 0.0242917\tvalid_1's binary_logloss: 0.0494205\n",
      "[60]\ttraining's binary_logloss: 0.0129493\tvalid_1's binary_logloss: 0.0417646\n",
      "[80]\ttraining's binary_logloss: 0.00712714\tvalid_1's binary_logloss: 0.0385573\n",
      "[100]\ttraining's binary_logloss: 0.00400297\tvalid_1's binary_logloss: 0.0374006\n"
     ]
    },
    {
     "name": "stderr",
     "output_type": "stream",
     "text": [
      "akt_inhibitor logloss: 0.04076306820585183\n",
      "=========================================================================================\n",
      "len(trt) : 7\n",
      "len(train_index) : 936\n",
      "len(valid_index) : 937\n",
      "================================= 1fold lightgbm =================================\n"
     ]
    },
    {
     "name": "stdout",
     "output_type": "stream",
     "text": [
      "Early stopping, best iteration is:\n",
      "[103]\ttraining's binary_logloss: 0.00367457\tvalid_1's binary_logloss: 0.0373847\n",
      "Training until validation scores don't improve for 10 rounds\n",
      "[20]\ttraining's binary_logloss: 0.00526433\tvalid_1's binary_logloss: 0.0135859\n",
      "[40]\ttraining's binary_logloss: 0.00268394\tvalid_1's binary_logloss: 0.0100315\n",
      "[60]\ttraining's binary_logloss: 0.00146835\tvalid_1's binary_logloss: 0.00802107\n",
      "[80]\ttraining's binary_logloss: 0.000822849\tvalid_1's binary_logloss: 0.0069258\n",
      "[100]\ttraining's binary_logloss: 0.000466714\tvalid_1's binary_logloss: 0.00573378\n",
      "[120]\ttraining's binary_logloss: 0.000266859\tvalid_1's binary_logloss: 0.00483061\n",
      "[140]\ttraining's binary_logloss: 0.000152983\tvalid_1's binary_logloss: 0.00407292\n",
      "[160]\ttraining's binary_logloss: 8.79331e-05\tvalid_1's binary_logloss: 0.003546\n",
      "[180]\ttraining's binary_logloss: 5.07919e-05\tvalid_1's binary_logloss: 0.00295523\n",
      "[200]\ttraining's binary_logloss: 2.93871e-05\tvalid_1's binary_logloss: 0.00239638\n",
      "[220]\ttraining's binary_logloss: 1.70292e-05\tvalid_1's binary_logloss: 0.00201445\n",
      "[240]\ttraining's binary_logloss: 9.88254e-06\tvalid_1's binary_logloss: 0.00156339\n",
      "Early stopping, best iteration is:\n",
      "[241]\ttraining's binary_logloss: 9.61766e-06\tvalid_1's binary_logloss: 0.00153036\n"
     ]
    },
    {
     "name": "stderr",
     "output_type": "stream",
     "text": [
      "len(train_index) : 937\n",
      "len(valid_index) : 936\n",
      "================================= 2fold lightgbm =================================\n"
     ]
    },
    {
     "name": "stdout",
     "output_type": "stream",
     "text": [
      "Training until validation scores don't improve for 10 rounds\n",
      "[20]\ttraining's binary_logloss: 0.00687938\tvalid_1's binary_logloss: 0.00825968\n",
      "[40]\ttraining's binary_logloss: 0.00349974\tvalid_1's binary_logloss: 0.00558103\n",
      "[60]\ttraining's binary_logloss: 0.00191473\tvalid_1's binary_logloss: 0.00405871\n",
      "[80]\ttraining's binary_logloss: 0.00107222\tvalid_1's binary_logloss: 0.00317588\n",
      "[100]\ttraining's binary_logloss: 0.00060645\tvalid_1's binary_logloss: 0.00268646\n",
      "[120]\ttraining's binary_logloss: 0.000345793\tvalid_1's binary_logloss: 0.00226849\n",
      "[140]\ttraining's binary_logloss: 0.0001973\tvalid_1's binary_logloss: 0.00199073\n"
     ]
    },
    {
     "name": "stderr",
     "output_type": "stream",
     "text": [
      "aldehyde_dehydrogenase_inhibitor logloss: 0.0017060289712231631\n",
      "=========================================================================================\n",
      "len(trt) : 42\n",
      "len(train_index) : 954\n",
      "len(valid_index) : 954\n",
      "================================= 1fold lightgbm =================================\n"
     ]
    },
    {
     "name": "stdout",
     "output_type": "stream",
     "text": [
      "Early stopping, best iteration is:\n",
      "[145]\ttraining's binary_logloss: 0.000171287\tvalid_1's binary_logloss: 0.00188189\n",
      "Training until validation scores don't improve for 10 rounds\n",
      "[20]\ttraining's binary_logloss: 0.0331538\tvalid_1's binary_logloss: 0.0683782\n",
      "[40]\ttraining's binary_logloss: 0.0173089\tvalid_1's binary_logloss: 0.056962\n",
      "[60]\ttraining's binary_logloss: 0.00954269\tvalid_1's binary_logloss: 0.0514565\n",
      "[80]\ttraining's binary_logloss: 0.00542704\tvalid_1's binary_logloss: 0.0484268\n",
      "[100]\ttraining's binary_logloss: 0.00313809\tvalid_1's binary_logloss: 0.0468523\n"
     ]
    },
    {
     "name": "stderr",
     "output_type": "stream",
     "text": [
      "len(train_index) : 954\n",
      "len(valid_index) : 954\n",
      "================================= 2fold lightgbm =================================\n"
     ]
    },
    {
     "name": "stdout",
     "output_type": "stream",
     "text": [
      "Early stopping, best iteration is:\n",
      "[106]\ttraining's binary_logloss: 0.00265204\tvalid_1's binary_logloss: 0.0465878\n",
      "Training until validation scores don't improve for 10 rounds\n",
      "[20]\ttraining's binary_logloss: 0.0350547\tvalid_1's binary_logloss: 0.0571451\n",
      "[40]\ttraining's binary_logloss: 0.0184708\tvalid_1's binary_logloss: 0.0463719\n",
      "[60]\ttraining's binary_logloss: 0.0103083\tvalid_1's binary_logloss: 0.0407446\n",
      "[80]\ttraining's binary_logloss: 0.00586472\tvalid_1's binary_logloss: 0.0369339\n",
      "[100]\ttraining's binary_logloss: 0.00338042\tvalid_1's binary_logloss: 0.0347618\n",
      "[120]\ttraining's binary_logloss: 0.00198431\tvalid_1's binary_logloss: 0.0338311\n",
      "[140]\ttraining's binary_logloss: 0.00116565\tvalid_1's binary_logloss: 0.0335738\n",
      "Early stopping, best iteration is:\n",
      "[135]\ttraining's binary_logloss: 0.0013257\tvalid_1's binary_logloss: 0.0334819\n"
     ]
    },
    {
     "name": "stderr",
     "output_type": "stream",
     "text": [
      "alk_inhibitor logloss: 0.04003484080392474\n",
      "=========================================================================================\n",
      "len(trt) : 12\n",
      "len(train_index) : 939\n",
      "len(valid_index) : 939\n",
      "================================= 1fold lightgbm =================================\n"
     ]
    },
    {
     "name": "stdout",
     "output_type": "stream",
     "text": [
      "Training until validation scores don't improve for 10 rounds\n",
      "[20]\ttraining's binary_logloss: 0.0129024\tvalid_1's binary_logloss: 0.0292039\n",
      "[40]\ttraining's binary_logloss: 0.00672562\tvalid_1's binary_logloss: 0.0280024\n"
     ]
    },
    {
     "name": "stderr",
     "output_type": "stream",
     "text": [
      "len(train_index) : 939\n",
      "len(valid_index) : 939\n",
      "================================= 2fold lightgbm =================================\n"
     ]
    },
    {
     "name": "stdout",
     "output_type": "stream",
     "text": [
      "Early stopping, best iteration is:\n",
      "[48]\ttraining's binary_logloss: 0.0052705\tvalid_1's binary_logloss: 0.0277031\n",
      "Training until validation scores don't improve for 10 rounds\n",
      "[20]\ttraining's binary_logloss: 0.0112044\tvalid_1's binary_logloss: 0.0340938\n"
     ]
    },
    {
     "name": "stderr",
     "output_type": "stream",
     "text": [
      "ampk_activator logloss: 0.03082716890763393\n",
      "=========================================================================================\n",
      "len(trt) : 12\n",
      "len(train_index) : 939\n",
      "len(valid_index) : 939\n",
      "================================= 1fold lightgbm =================================\n"
     ]
    },
    {
     "name": "stdout",
     "output_type": "stream",
     "text": [
      "[40]\ttraining's binary_logloss: 0.00589145\tvalid_1's binary_logloss: 0.0342758\n",
      "Early stopping, best iteration is:\n",
      "[30]\ttraining's binary_logloss: 0.00798696\tvalid_1's binary_logloss: 0.0339513\n",
      "Training until validation scores don't improve for 10 rounds\n",
      "[20]\ttraining's binary_logloss: 0.012963\tvalid_1's binary_logloss: 0.0309023\n",
      "[40]\ttraining's binary_logloss: 0.00646406\tvalid_1's binary_logloss: 0.0305855\n",
      "Early stopping, best iteration is:\n",
      "[36]\ttraining's binary_logloss: 0.0073817\tvalid_1's binary_logloss: 0.0304259\n"
     ]
    },
    {
     "name": "stderr",
     "output_type": "stream",
     "text": [
      "len(train_index) : 939\n",
      "len(valid_index) : 939\n",
      "================================= 2fold lightgbm =================================\n"
     ]
    },
    {
     "name": "stdout",
     "output_type": "stream",
     "text": [
      "Training until validation scores don't improve for 10 rounds\n",
      "[20]\ttraining's binary_logloss: 0.0127378\tvalid_1's binary_logloss: 0.0286058\n",
      "[40]\ttraining's binary_logloss: 0.00676447\tvalid_1's binary_logloss: 0.0277142\n",
      "[60]\ttraining's binary_logloss: 0.00375952\tvalid_1's binary_logloss: 0.0276268\n",
      "Early stopping, best iteration is:\n",
      "[56]\ttraining's binary_logloss: 0.00424378\tvalid_1's binary_logloss: 0.0273726\n"
     ]
    },
    {
     "name": "stderr",
     "output_type": "stream",
     "text": [
      "analgesic logloss: 0.02889926848004001\n",
      "=========================================================================================\n",
      "len(trt) : 48\n",
      "len(train_index) : 957\n",
      "len(valid_index) : 957\n",
      "================================= 1fold lightgbm =================================\n"
     ]
    },
    {
     "name": "stdout",
     "output_type": "stream",
     "text": [
      "Training until validation scores don't improve for 10 rounds\n",
      "[20]\ttraining's binary_logloss: 0.0409402\tvalid_1's binary_logloss: 0.067279\n",
      "[40]\ttraining's binary_logloss: 0.0218058\tvalid_1's binary_logloss: 0.0529259\n",
      "[60]\ttraining's binary_logloss: 0.0124323\tvalid_1's binary_logloss: 0.0452174\n",
      "[80]\ttraining's binary_logloss: 0.00710575\tvalid_1's binary_logloss: 0.0419285\n",
      "[100]\ttraining's binary_logloss: 0.00412292\tvalid_1's binary_logloss: 0.0404639\n",
      "[120]\ttraining's binary_logloss: 0.00242835\tvalid_1's binary_logloss: 0.0405753\n",
      "Early stopping, best iteration is:\n",
      "[117]\ttraining's binary_logloss: 0.00263082\tvalid_1's binary_logloss: 0.0401858\n"
     ]
    },
    {
     "name": "stderr",
     "output_type": "stream",
     "text": [
      "len(train_index) : 957\n",
      "len(valid_index) : 957\n",
      "================================= 2fold lightgbm =================================\n"
     ]
    },
    {
     "name": "stdout",
     "output_type": "stream",
     "text": [
      "Training until validation scores don't improve for 10 rounds\n",
      "[20]\ttraining's binary_logloss: 0.0448776\tvalid_1's binary_logloss: 0.0752477\n",
      "[40]\ttraining's binary_logloss: 0.0238633\tvalid_1's binary_logloss: 0.0613504\n",
      "[60]\ttraining's binary_logloss: 0.0133807\tvalid_1's binary_logloss: 0.0564844\n",
      "[80]\ttraining's binary_logloss: 0.00772749\tvalid_1's binary_logloss: 0.0560542\n"
     ]
    },
    {
     "name": "stderr",
     "output_type": "stream",
     "text": [
      "androgen_receptor_agonist logloss: 0.04805022086131807\n",
      "=========================================================================================\n",
      "len(trt) : 89\n",
      "len(train_index) : 977\n",
      "len(valid_index) : 978\n",
      "================================= 1fold lightgbm =================================\n"
     ]
    },
    {
     "name": "stdout",
     "output_type": "stream",
     "text": [
      "Early stopping, best iteration is:\n",
      "[85]\ttraining's binary_logloss: 0.00676242\tvalid_1's binary_logloss: 0.0559147\n",
      "Training until validation scores don't improve for 10 rounds\n",
      "[20]\ttraining's binary_logloss: 0.0682445\tvalid_1's binary_logloss: 0.100759\n",
      "[40]\ttraining's binary_logloss: 0.0366966\tvalid_1's binary_logloss: 0.0774208\n",
      "[60]\ttraining's binary_logloss: 0.0207986\tvalid_1's binary_logloss: 0.0673866\n",
      "[80]\ttraining's binary_logloss: 0.0120412\tvalid_1's binary_logloss: 0.0631657\n",
      "[100]\ttraining's binary_logloss: 0.00702576\tvalid_1's binary_logloss: 0.062033\n"
     ]
    },
    {
     "name": "stderr",
     "output_type": "stream",
     "text": [
      "len(train_index) : 978\n",
      "len(valid_index) : 977\n",
      "================================= 2fold lightgbm =================================\n"
     ]
    },
    {
     "name": "stdout",
     "output_type": "stream",
     "text": [
      "Early stopping, best iteration is:\n",
      "[103]\ttraining's binary_logloss: 0.00649558\tvalid_1's binary_logloss: 0.0612642\n",
      "Training until validation scores don't improve for 10 rounds\n",
      "[20]\ttraining's binary_logloss: 0.0724193\tvalid_1's binary_logloss: 0.0998895\n",
      "[40]\ttraining's binary_logloss: 0.0383605\tvalid_1's binary_logloss: 0.0760394\n",
      "[60]\ttraining's binary_logloss: 0.0215767\tvalid_1's binary_logloss: 0.0644859\n",
      "[80]\ttraining's binary_logloss: 0.0123226\tvalid_1's binary_logloss: 0.0590739\n",
      "[100]\ttraining's binary_logloss: 0.00718323\tvalid_1's binary_logloss: 0.0557209\n",
      "[120]\ttraining's binary_logloss: 0.00422487\tvalid_1's binary_logloss: 0.0532479\n",
      "[140]\ttraining's binary_logloss: 0.00252072\tvalid_1's binary_logloss: 0.052488\n"
     ]
    },
    {
     "name": "stderr",
     "output_type": "stream",
     "text": [
      "androgen_receptor_antagonist logloss: 0.056720683240738146\n",
      "=========================================================================================\n",
      "len(trt) : 80\n",
      "len(train_index) : 973\n",
      "len(valid_index) : 973\n",
      "================================= 1fold lightgbm =================================\n"
     ]
    },
    {
     "name": "stdout",
     "output_type": "stream",
     "text": [
      "Early stopping, best iteration is:\n",
      "[144]\ttraining's binary_logloss: 0.00226964\tvalid_1's binary_logloss: 0.0521726\n",
      "Training until validation scores don't improve for 10 rounds\n",
      "[20]\ttraining's binary_logloss: 0.062931\tvalid_1's binary_logloss: 0.101703\n",
      "[40]\ttraining's binary_logloss: 0.0341129\tvalid_1's binary_logloss: 0.083478\n",
      "[60]\ttraining's binary_logloss: 0.0194352\tvalid_1's binary_logloss: 0.0735868\n",
      "[80]\ttraining's binary_logloss: 0.0113009\tvalid_1's binary_logloss: 0.0685862\n",
      "[100]\ttraining's binary_logloss: 0.00664277\tvalid_1's binary_logloss: 0.0655953\n",
      "[120]\ttraining's binary_logloss: 0.00394231\tvalid_1's binary_logloss: 0.064727\n"
     ]
    },
    {
     "name": "stderr",
     "output_type": "stream",
     "text": [
      "len(train_index) : 973\n",
      "len(valid_index) : 973\n",
      "================================= 2fold lightgbm =================================\n"
     ]
    },
    {
     "name": "stdout",
     "output_type": "stream",
     "text": [
      "Early stopping, best iteration is:\n",
      "[129]\ttraining's binary_logloss: 0.00313123\tvalid_1's binary_logloss: 0.0640268\n",
      "Training until validation scores don't improve for 10 rounds\n",
      "[20]\ttraining's binary_logloss: 0.0629093\tvalid_1's binary_logloss: 0.102742\n",
      "[40]\ttraining's binary_logloss: 0.0337467\tvalid_1's binary_logloss: 0.082853\n",
      "[60]\ttraining's binary_logloss: 0.0192091\tvalid_1's binary_logloss: 0.0722016\n",
      "[80]\ttraining's binary_logloss: 0.0112568\tvalid_1's binary_logloss: 0.0680504\n",
      "[100]\ttraining's binary_logloss: 0.00668436\tvalid_1's binary_logloss: 0.0646601\n",
      "[120]\ttraining's binary_logloss: 0.00398376\tvalid_1's binary_logloss: 0.0631574\n"
     ]
    },
    {
     "name": "stderr",
     "output_type": "stream",
     "text": [
      "anesthetic_-_local logloss: 0.0632367714638596\n",
      "=========================================================================================\n",
      "len(trt) : 36\n",
      "len(train_index) : 951\n",
      "len(valid_index) : 951\n",
      "================================= 1fold lightgbm =================================\n"
     ]
    },
    {
     "name": "stdout",
     "output_type": "stream",
     "text": [
      "Early stopping, best iteration is:\n",
      "[126]\ttraining's binary_logloss: 0.00342048\tvalid_1's binary_logloss: 0.0624467\n",
      "Training until validation scores don't improve for 10 rounds\n",
      "[20]\ttraining's binary_logloss: 0.0316632\tvalid_1's binary_logloss: 0.0701866\n",
      "[40]\ttraining's binary_logloss: 0.016994\tvalid_1's binary_logloss: 0.0669396\n"
     ]
    },
    {
     "name": "stderr",
     "output_type": "stream",
     "text": [
      "len(train_index) : 951\n",
      "len(valid_index) : 951\n",
      "================================= 2fold lightgbm =================================\n"
     ]
    },
    {
     "name": "stdout",
     "output_type": "stream",
     "text": [
      "Early stopping, best iteration is:\n",
      "[47]\ttraining's binary_logloss: 0.0138164\tvalid_1's binary_logloss: 0.0663725\n",
      "Training until validation scores don't improve for 10 rounds\n",
      "[20]\ttraining's binary_logloss: 0.0346819\tvalid_1's binary_logloss: 0.0610218\n",
      "[40]\ttraining's binary_logloss: 0.018111\tvalid_1's binary_logloss: 0.0558094\n",
      "[60]\ttraining's binary_logloss: 0.0100363\tvalid_1's binary_logloss: 0.0533521\n"
     ]
    },
    {
     "name": "stderr",
     "output_type": "stream",
     "text": [
      "angiogenesis_inhibitor logloss: 0.0597080460172088\n",
      "=========================================================================================\n",
      "len(trt) : 37\n",
      "len(train_index) : 951\n",
      "len(valid_index) : 952\n",
      "================================= 1fold lightgbm =================================\n"
     ]
    },
    {
     "name": "stdout",
     "output_type": "stream",
     "text": [
      "Early stopping, best iteration is:\n",
      "[64]\ttraining's binary_logloss: 0.00896622\tvalid_1's binary_logloss: 0.0530436\n",
      "Training until validation scores don't improve for 10 rounds\n",
      "[20]\ttraining's binary_logloss: 0.0322555\tvalid_1's binary_logloss: 0.0611214\n",
      "[40]\ttraining's binary_logloss: 0.0170675\tvalid_1's binary_logloss: 0.0546026\n",
      "[60]\ttraining's binary_logloss: 0.00974503\tvalid_1's binary_logloss: 0.0507338\n",
      "[80]\ttraining's binary_logloss: 0.00568263\tvalid_1's binary_logloss: 0.0484991\n"
     ]
    },
    {
     "name": "stderr",
     "output_type": "stream",
     "text": [
      "len(train_index) : 952\n",
      "len(valid_index) : 951\n",
      "================================= 2fold lightgbm =================================\n"
     ]
    },
    {
     "name": "stdout",
     "output_type": "stream",
     "text": [
      "Early stopping, best iteration is:\n",
      "[83]\ttraining's binary_logloss: 0.00524595\tvalid_1's binary_logloss: 0.0481634\n",
      "Training until validation scores don't improve for 10 rounds\n",
      "[20]\ttraining's binary_logloss: 0.0343572\tvalid_1's binary_logloss: 0.0627077\n",
      "[40]\ttraining's binary_logloss: 0.0183323\tvalid_1's binary_logloss: 0.0532141\n",
      "[60]\ttraining's binary_logloss: 0.0104858\tvalid_1's binary_logloss: 0.0488789\n",
      "[80]\ttraining's binary_logloss: 0.00609018\tvalid_1's binary_logloss: 0.0470316\n",
      "[100]\ttraining's binary_logloss: 0.00355329\tvalid_1's binary_logloss: 0.0463333\n"
     ]
    },
    {
     "name": "stderr",
     "output_type": "stream",
     "text": [
      "angiotensin_receptor_antagonist logloss: 0.04723562357225363\n",
      "=========================================================================================\n",
      "len(trt) : 73\n",
      "len(train_index) : 969\n",
      "len(valid_index) : 970\n",
      "================================= 1fold lightgbm =================================\n"
     ]
    },
    {
     "name": "stdout",
     "output_type": "stream",
     "text": [
      "Early stopping, best iteration is:\n",
      "[105]\ttraining's binary_logloss: 0.00311729\tvalid_1's binary_logloss: 0.0463068\n",
      "Training until validation scores don't improve for 10 rounds\n",
      "[20]\ttraining's binary_logloss: 0.063399\tvalid_1's binary_logloss: 0.0954097\n",
      "[40]\ttraining's binary_logloss: 0.0339232\tvalid_1's binary_logloss: 0.07959\n",
      "[60]\ttraining's binary_logloss: 0.0194148\tvalid_1's binary_logloss: 0.0715245\n",
      "[80]\ttraining's binary_logloss: 0.0114568\tvalid_1's binary_logloss: 0.0685743\n",
      "[100]\ttraining's binary_logloss: 0.00685148\tvalid_1's binary_logloss: 0.067221\n",
      "[120]\ttraining's binary_logloss: 0.0041449\tvalid_1's binary_logloss: 0.0667673\n",
      "Early stopping, best iteration is:\n",
      "[115]\ttraining's binary_logloss: 0.00469992\tvalid_1's binary_logloss: 0.0664973\n"
     ]
    },
    {
     "name": "stderr",
     "output_type": "stream",
     "text": [
      "len(train_index) : 970\n",
      "len(valid_index) : 969\n",
      "================================= 2fold lightgbm =================================\n"
     ]
    },
    {
     "name": "stdout",
     "output_type": "stream",
     "text": [
      "Training until validation scores don't improve for 10 rounds\n",
      "[20]\ttraining's binary_logloss: 0.0575129\tvalid_1's binary_logloss: 0.0959783\n",
      "[40]\ttraining's binary_logloss: 0.0308175\tvalid_1's binary_logloss: 0.077248\n",
      "[60]\ttraining's binary_logloss: 0.0174168\tvalid_1's binary_logloss: 0.0699027\n",
      "[80]\ttraining's binary_logloss: 0.0100459\tvalid_1's binary_logloss: 0.0661959\n"
     ]
    },
    {
     "name": "stderr",
     "output_type": "stream",
     "text": [
      "anti-inflammatory logloss: 0.06574362338774518\n",
      "=========================================================================================\n",
      "len(trt) : 6\n",
      "len(train_index) : 936\n",
      "len(valid_index) : 936\n",
      "================================= 1fold lightgbm =================================\n"
     ]
    },
    {
     "name": "stdout",
     "output_type": "stream",
     "text": [
      "[100]\ttraining's binary_logloss: 0.00578335\tvalid_1's binary_logloss: 0.0650637\n",
      "Early stopping, best iteration is:\n",
      "[93]\ttraining's binary_logloss: 0.00700849\tvalid_1's binary_logloss: 0.0649891\n",
      "Training until validation scores don't improve for 10 rounds\n",
      "[20]\ttraining's binary_logloss: 0.00525573\tvalid_1's binary_logloss: 0.017222\n"
     ]
    },
    {
     "name": "stderr",
     "output_type": "stream",
     "text": [
      "len(train_index) : 936\n",
      "len(valid_index) : 936\n",
      "================================= 2fold lightgbm =================================\n"
     ]
    },
    {
     "name": "stdout",
     "output_type": "stream",
     "text": [
      "Early stopping, best iteration is:\n",
      "[29]\ttraining's binary_logloss: 0.00382642\tvalid_1's binary_logloss: 0.0168169\n",
      "Training until validation scores don't improve for 10 rounds\n",
      "[20]\ttraining's binary_logloss: 0.00558974\tvalid_1's binary_logloss: 0.0146381\n",
      "[40]\ttraining's binary_logloss: 0.00291828\tvalid_1's binary_logloss: 0.0130971\n",
      "[60]\ttraining's binary_logloss: 0.00162435\tvalid_1's binary_logloss: 0.012079\n",
      "[80]\ttraining's binary_logloss: 0.000910447\tvalid_1's binary_logloss: 0.0115142\n",
      "[100]\ttraining's binary_logloss: 0.000515473\tvalid_1's binary_logloss: 0.0110404\n",
      "[120]\ttraining's binary_logloss: 0.000294383\tvalid_1's binary_logloss: 0.0107377\n",
      "Early stopping, best iteration is:\n",
      "[115]\ttraining's binary_logloss: 0.000338314\tvalid_1's binary_logloss: 0.0107161\n"
     ]
    },
    {
     "name": "stderr",
     "output_type": "stream",
     "text": [
      "antiarrhythmic logloss: 0.013766500371606046\n",
      "=========================================================================================\n",
      "len(trt) : 43\n",
      "len(train_index) : 954\n",
      "len(valid_index) : 955\n",
      "================================= 1fold lightgbm =================================\n"
     ]
    },
    {
     "name": "stdout",
     "output_type": "stream",
     "text": [
      "Training until validation scores don't improve for 10 rounds\n",
      "[20]\ttraining's binary_logloss: 0.0364184\tvalid_1's binary_logloss: 0.0738535\n",
      "[40]\ttraining's binary_logloss: 0.0196371\tvalid_1's binary_logloss: 0.0646824\n",
      "[60]\ttraining's binary_logloss: 0.0110165\tvalid_1's binary_logloss: 0.0616683\n",
      "[80]\ttraining's binary_logloss: 0.00636725\tvalid_1's binary_logloss: 0.0612876\n"
     ]
    },
    {
     "name": "stderr",
     "output_type": "stream",
     "text": [
      "len(train_index) : 955\n",
      "len(valid_index) : 954\n",
      "================================= 2fold lightgbm =================================\n"
     ]
    },
    {
     "name": "stdout",
     "output_type": "stream",
     "text": [
      "Early stopping, best iteration is:\n",
      "[81]\ttraining's binary_logloss: 0.00619117\tvalid_1's binary_logloss: 0.0612093\n",
      "Training until validation scores don't improve for 10 rounds\n",
      "[20]\ttraining's binary_logloss: 0.0396981\tvalid_1's binary_logloss: 0.07138\n",
      "[40]\ttraining's binary_logloss: 0.0216594\tvalid_1's binary_logloss: 0.0611904\n",
      "[60]\ttraining's binary_logloss: 0.0124566\tvalid_1's binary_logloss: 0.0568833\n",
      "[80]\ttraining's binary_logloss: 0.00731136\tvalid_1's binary_logloss: 0.0561895\n",
      "Early stopping, best iteration is:\n",
      "[76]\ttraining's binary_logloss: 0.00811861\tvalid_1's binary_logloss: 0.0556902\n"
     ]
    },
    {
     "name": "stderr",
     "output_type": "stream",
     "text": [
      "antibiotic logloss: 0.058451187969049606\n",
      "=========================================================================================\n",
      "len(trt) : 12\n",
      "len(train_index) : 939\n",
      "len(valid_index) : 939\n",
      "================================= 1fold lightgbm =================================\n"
     ]
    },
    {
     "name": "stdout",
     "output_type": "stream",
     "text": [
      "Training until validation scores don't improve for 10 rounds\n",
      "[20]\ttraining's binary_logloss: 0.0109235\tvalid_1's binary_logloss: 0.0328669\n",
      "[40]\ttraining's binary_logloss: 0.00548579\tvalid_1's binary_logloss: 0.0316647\n"
     ]
    },
    {
     "name": "stderr",
     "output_type": "stream",
     "text": [
      "len(train_index) : 939\n",
      "len(valid_index) : 939\n",
      "================================= 2fold lightgbm =================================\n"
     ]
    },
    {
     "name": "stdout",
     "output_type": "stream",
     "text": [
      "Early stopping, best iteration is:\n",
      "[41]\ttraining's binary_logloss: 0.00531125\tvalid_1's binary_logloss: 0.0316267\n",
      "Training until validation scores don't improve for 10 rounds\n",
      "[20]\ttraining's binary_logloss: 0.0102618\tvalid_1's binary_logloss: 0.0267222\n",
      "[40]\ttraining's binary_logloss: 0.00514267\tvalid_1's binary_logloss: 0.0253896\n"
     ]
    },
    {
     "name": "stderr",
     "output_type": "stream",
     "text": [
      "anticonvulsant logloss: 0.028408681659932003\n",
      "=========================================================================================\n",
      "len(trt) : 13\n"
     ]
    },
    {
     "name": "stdout",
     "output_type": "stream",
     "text": [
      "[60]\ttraining's binary_logloss: 0.0027887\tvalid_1's binary_logloss: 0.0252317\n",
      "Early stopping, best iteration is:\n",
      "[53]\ttraining's binary_logloss: 0.00344101\tvalid_1's binary_logloss: 0.0251907\n"
     ]
    },
    {
     "name": "stderr",
     "output_type": "stream",
     "text": [
      "len(train_index) : 939\n",
      "len(valid_index) : 940\n",
      "================================= 1fold lightgbm =================================\n"
     ]
    },
    {
     "name": "stdout",
     "output_type": "stream",
     "text": [
      "Training until validation scores don't improve for 10 rounds\n",
      "[20]\ttraining's binary_logloss: 0.0106202\tvalid_1's binary_logloss: 0.0279416\n",
      "[40]\ttraining's binary_logloss: 0.00563825\tvalid_1's binary_logloss: 0.0247088\n",
      "[60]\ttraining's binary_logloss: 0.00318997\tvalid_1's binary_logloss: 0.0234632\n"
     ]
    },
    {
     "name": "stderr",
     "output_type": "stream",
     "text": [
      "len(train_index) : 940\n",
      "len(valid_index) : 939\n",
      "================================= 2fold lightgbm =================================\n"
     ]
    },
    {
     "name": "stdout",
     "output_type": "stream",
     "text": [
      "Early stopping, best iteration is:\n",
      "[62]\ttraining's binary_logloss: 0.00300795\tvalid_1's binary_logloss: 0.0234015\n",
      "Training until validation scores don't improve for 10 rounds\n",
      "[20]\ttraining's binary_logloss: 0.0120405\tvalid_1's binary_logloss: 0.0214536\n",
      "[40]\ttraining's binary_logloss: 0.00603971\tvalid_1's binary_logloss: 0.0171507\n",
      "[60]\ttraining's binary_logloss: 0.0032891\tvalid_1's binary_logloss: 0.0148747\n",
      "[80]\ttraining's binary_logloss: 0.00184955\tvalid_1's binary_logloss: 0.013725\n",
      "[100]\ttraining's binary_logloss: 0.0010593\tvalid_1's binary_logloss: 0.0132579\n",
      "[120]\ttraining's binary_logloss: 0.000613779\tvalid_1's binary_logloss: 0.0129431\n",
      "Early stopping, best iteration is:\n",
      "[117]\ttraining's binary_logloss: 0.00066651\tvalid_1's binary_logloss: 0.0128525\n"
     ]
    },
    {
     "name": "stderr",
     "output_type": "stream",
     "text": [
      "antifungal logloss: 0.018129815229616895\n",
      "=========================================================================================\n",
      "len(trt) : 12\n",
      "len(train_index) : 939\n",
      "len(valid_index) : 939\n",
      "================================= 1fold lightgbm =================================\n"
     ]
    },
    {
     "name": "stdout",
     "output_type": "stream",
     "text": [
      "Training until validation scores don't improve for 10 rounds\n",
      "[20]\ttraining's binary_logloss: 0.0110105\tvalid_1's binary_logloss: 0.0337748\n"
     ]
    },
    {
     "name": "stderr",
     "output_type": "stream",
     "text": [
      "len(train_index) : 939\n",
      "len(valid_index) : 939\n",
      "================================= 2fold lightgbm =================================\n"
     ]
    },
    {
     "name": "stdout",
     "output_type": "stream",
     "text": [
      "Early stopping, best iteration is:\n",
      "[26]\ttraining's binary_logloss: 0.00892067\tvalid_1's binary_logloss: 0.0333535\n",
      "Training until validation scores don't improve for 10 rounds\n",
      "[20]\ttraining's binary_logloss: 0.0117891\tvalid_1's binary_logloss: 0.0334511\n",
      "Early stopping, best iteration is:\n",
      "[16]\ttraining's binary_logloss: 0.013924\tvalid_1's binary_logloss: 0.0334202\n"
     ]
    },
    {
     "name": "stderr",
     "output_type": "stream",
     "text": [
      "antihistamine logloss: 0.033386868281085204\n",
      "=========================================================================================\n",
      "len(trt) : 18\n",
      "len(train_index) : 942\n",
      "len(valid_index) : 942\n",
      "================================= 1fold lightgbm =================================\n"
     ]
    },
    {
     "name": "stdout",
     "output_type": "stream",
     "text": [
      "Training until validation scores don't improve for 10 rounds\n",
      "[20]\ttraining's binary_logloss: 0.016002\tvalid_1's binary_logloss: 0.0370819\n",
      "[40]\ttraining's binary_logloss: 0.0082696\tvalid_1's binary_logloss: 0.0333526\n"
     ]
    },
    {
     "name": "stderr",
     "output_type": "stream",
     "text": [
      "len(train_index) : 942\n",
      "len(valid_index) : 942\n",
      "================================= 2fold lightgbm =================================\n"
     ]
    },
    {
     "name": "stdout",
     "output_type": "stream",
     "text": [
      "Early stopping, best iteration is:\n",
      "[48]\ttraining's binary_logloss: 0.00650228\tvalid_1's binary_logloss: 0.0327543\n",
      "Training until validation scores don't improve for 10 rounds\n",
      "[20]\ttraining's binary_logloss: 0.0164082\tvalid_1's binary_logloss: 0.0420693\n",
      "[40]\ttraining's binary_logloss: 0.00852851\tvalid_1's binary_logloss: 0.0401399\n"
     ]
    },
    {
     "name": "stderr",
     "output_type": "stream",
     "text": [
      "antimalarial logloss: 0.03614482207057782\n",
      "=========================================================================================\n",
      "len(trt) : 73\n",
      "len(train_index) : 969\n",
      "len(valid_index) : 970\n",
      "================================= 1fold lightgbm =================================\n"
     ]
    },
    {
     "name": "stdout",
     "output_type": "stream",
     "text": [
      "[60]\ttraining's binary_logloss: 0.00473747\tvalid_1's binary_logloss: 0.0397675\n",
      "Early stopping, best iteration is:\n",
      "[50]\ttraining's binary_logloss: 0.00632587\tvalid_1's binary_logloss: 0.0395354\n",
      "Training until validation scores don't improve for 10 rounds\n",
      "[20]\ttraining's binary_logloss: 0.0651113\tvalid_1's binary_logloss: 0.100686\n",
      "[40]\ttraining's binary_logloss: 0.0353812\tvalid_1's binary_logloss: 0.0831344\n",
      "[60]\ttraining's binary_logloss: 0.0203736\tvalid_1's binary_logloss: 0.0771946\n",
      "[80]\ttraining's binary_logloss: 0.0121647\tvalid_1's binary_logloss: 0.0751236\n"
     ]
    },
    {
     "name": "stderr",
     "output_type": "stream",
     "text": [
      "len(train_index) : 970\n",
      "len(valid_index) : 969\n",
      "================================= 2fold lightgbm =================================\n"
     ]
    },
    {
     "name": "stdout",
     "output_type": "stream",
     "text": [
      "Early stopping, best iteration is:\n",
      "[88]\ttraining's binary_logloss: 0.00993265\tvalid_1's binary_logloss: 0.0748506\n",
      "Training until validation scores don't improve for 10 rounds\n",
      "[20]\ttraining's binary_logloss: 0.0613897\tvalid_1's binary_logloss: 0.0922141\n",
      "[40]\ttraining's binary_logloss: 0.0337009\tvalid_1's binary_logloss: 0.0750151\n",
      "[60]\ttraining's binary_logloss: 0.0193032\tvalid_1's binary_logloss: 0.0665776\n",
      "[80]\ttraining's binary_logloss: 0.0113525\tvalid_1's binary_logloss: 0.0623999\n",
      "[100]\ttraining's binary_logloss: 0.00676635\tvalid_1's binary_logloss: 0.0607083\n"
     ]
    },
    {
     "name": "stderr",
     "output_type": "stream",
     "text": [
      "antioxidant logloss: 0.06746533194650842\n",
      "=========================================================================================\n",
      "len(trt) : 36\n",
      "len(train_index) : 951\n",
      "len(valid_index) : 951\n",
      "================================= 1fold lightgbm =================================\n"
     ]
    },
    {
     "name": "stdout",
     "output_type": "stream",
     "text": [
      "Early stopping, best iteration is:\n",
      "[104]\ttraining's binary_logloss: 0.00612074\tvalid_1's binary_logloss: 0.0600724\n",
      "Training until validation scores don't improve for 10 rounds\n",
      "[20]\ttraining's binary_logloss: 0.0351737\tvalid_1's binary_logloss: 0.0617053\n",
      "[40]\ttraining's binary_logloss: 0.0189801\tvalid_1's binary_logloss: 0.0536222\n",
      "[60]\ttraining's binary_logloss: 0.0104664\tvalid_1's binary_logloss: 0.0494761\n"
     ]
    },
    {
     "name": "stderr",
     "output_type": "stream",
     "text": [
      "len(train_index) : 951\n",
      "len(valid_index) : 951\n",
      "================================= 2fold lightgbm =================================\n"
     ]
    },
    {
     "name": "stdout",
     "output_type": "stream",
     "text": [
      "Early stopping, best iteration is:\n",
      "[66]\ttraining's binary_logloss: 0.00883601\tvalid_1's binary_logloss: 0.0486413\n",
      "Training until validation scores don't improve for 10 rounds\n",
      "[20]\ttraining's binary_logloss: 0.0333779\tvalid_1's binary_logloss: 0.0545501\n",
      "[40]\ttraining's binary_logloss: 0.0179355\tvalid_1's binary_logloss: 0.0477091\n",
      "[60]\ttraining's binary_logloss: 0.0100221\tvalid_1's binary_logloss: 0.045577\n"
     ]
    },
    {
     "name": "stderr",
     "output_type": "stream",
     "text": [
      "antiprotozoal logloss: 0.046962480732492734\n",
      "=========================================================================================\n",
      "len(trt) : 23\n",
      "len(train_index) : 944\n",
      "len(valid_index) : 945\n",
      "================================= 1fold lightgbm =================================\n"
     ]
    },
    {
     "name": "stdout",
     "output_type": "stream",
     "text": [
      "Early stopping, best iteration is:\n",
      "[67]\ttraining's binary_logloss: 0.00822361\tvalid_1's binary_logloss: 0.0452836\n",
      "Training until validation scores don't improve for 10 rounds\n",
      "[20]\ttraining's binary_logloss: 0.0198624\tvalid_1's binary_logloss: 0.0510454\n",
      "[40]\ttraining's binary_logloss: 0.0103616\tvalid_1's binary_logloss: 0.0461235\n",
      "[60]\ttraining's binary_logloss: 0.00580043\tvalid_1's binary_logloss: 0.0448038\n"
     ]
    },
    {
     "name": "stderr",
     "output_type": "stream",
     "text": [
      "len(train_index) : 945\n",
      "len(valid_index) : 944\n",
      "================================= 2fold lightgbm =================================\n"
     ]
    },
    {
     "name": "stdout",
     "output_type": "stream",
     "text": [
      "Early stopping, best iteration is:\n",
      "[58]\ttraining's binary_logloss: 0.00611798\tvalid_1's binary_logloss: 0.0447372\n",
      "Training until validation scores don't improve for 10 rounds\n",
      "[20]\ttraining's binary_logloss: 0.0214331\tvalid_1's binary_logloss: 0.0504111\n",
      "[40]\ttraining's binary_logloss: 0.0114843\tvalid_1's binary_logloss: 0.0468314\n",
      "[60]\ttraining's binary_logloss: 0.00647641\tvalid_1's binary_logloss: 0.0456312\n",
      "[80]\ttraining's binary_logloss: 0.00376451\tvalid_1's binary_logloss: 0.045509\n",
      "Early stopping, best iteration is:\n",
      "[76]\ttraining's binary_logloss: 0.00418788\tvalid_1's binary_logloss: 0.0453904\n"
     ]
    },
    {
     "name": "stderr",
     "output_type": "stream",
     "text": [
      "antiviral logloss: 0.045063597229320025\n",
      "=========================================================================================\n",
      "len(trt) : 49\n",
      "len(train_index) : 957\n",
      "len(valid_index) : 958\n",
      "================================= 1fold lightgbm =================================\n"
     ]
    },
    {
     "name": "stdout",
     "output_type": "stream",
     "text": [
      "Training until validation scores don't improve for 10 rounds\n",
      "[20]\ttraining's binary_logloss: 0.042357\tvalid_1's binary_logloss: 0.0786247\n",
      "[40]\ttraining's binary_logloss: 0.022788\tvalid_1's binary_logloss: 0.0710741\n",
      "[60]\ttraining's binary_logloss: 0.0129553\tvalid_1's binary_logloss: 0.0659349\n",
      "[80]\ttraining's binary_logloss: 0.00760572\tvalid_1's binary_logloss: 0.0648924\n"
     ]
    },
    {
     "name": "stderr",
     "output_type": "stream",
     "text": [
      "len(train_index) : 958\n",
      "len(valid_index) : 957\n",
      "================================= 2fold lightgbm =================================\n"
     ]
    },
    {
     "name": "stdout",
     "output_type": "stream",
     "text": [
      "Early stopping, best iteration is:\n",
      "[77]\ttraining's binary_logloss: 0.008237\tvalid_1's binary_logloss: 0.064734\n",
      "Training until validation scores don't improve for 10 rounds\n",
      "[20]\ttraining's binary_logloss: 0.0438073\tvalid_1's binary_logloss: 0.0762329\n",
      "[40]\ttraining's binary_logloss: 0.0238518\tvalid_1's binary_logloss: 0.0649304\n",
      "[60]\ttraining's binary_logloss: 0.0138109\tvalid_1's binary_logloss: 0.0590023\n",
      "[80]\ttraining's binary_logloss: 0.00816699\tvalid_1's binary_logloss: 0.0569985\n",
      "[100]\ttraining's binary_logloss: 0.00482682\tvalid_1's binary_logloss: 0.0567469\n",
      "Early stopping, best iteration is:\n",
      "[94]\ttraining's binary_logloss: 0.00566365\tvalid_1's binary_logloss: 0.0563691\n"
     ]
    },
    {
     "name": "stderr",
     "output_type": "stream",
     "text": [
      "apoptosis_stimulant logloss: 0.06055373253139235\n",
      "=========================================================================================\n",
      "len(trt) : 47\n",
      "len(train_index) : 956\n",
      "len(valid_index) : 957\n",
      "================================= 1fold lightgbm =================================\n"
     ]
    },
    {
     "name": "stdout",
     "output_type": "stream",
     "text": [
      "Training until validation scores don't improve for 10 rounds\n",
      "[20]\ttraining's binary_logloss: 0.0400017\tvalid_1's binary_logloss: 0.0864897\n",
      "[40]\ttraining's binary_logloss: 0.0213846\tvalid_1's binary_logloss: 0.07813\n",
      "[60]\ttraining's binary_logloss: 0.0121498\tvalid_1's binary_logloss: 0.0761059\n",
      "Early stopping, best iteration is:\n",
      "[56]\ttraining's binary_logloss: 0.0136131\tvalid_1's binary_logloss: 0.075301\n"
     ]
    },
    {
     "name": "stderr",
     "output_type": "stream",
     "text": [
      "len(train_index) : 957\n",
      "len(valid_index) : 956\n",
      "================================= 2fold lightgbm =================================\n"
     ]
    },
    {
     "name": "stdout",
     "output_type": "stream",
     "text": [
      "Training until validation scores don't improve for 10 rounds\n",
      "[20]\ttraining's binary_logloss: 0.0443828\tvalid_1's binary_logloss: 0.0771746\n",
      "[40]\ttraining's binary_logloss: 0.0241897\tvalid_1's binary_logloss: 0.0673185\n",
      "[60]\ttraining's binary_logloss: 0.0140288\tvalid_1's binary_logloss: 0.0628445\n",
      "[80]\ttraining's binary_logloss: 0.0084171\tvalid_1's binary_logloss: 0.059687\n"
     ]
    },
    {
     "name": "stderr",
     "output_type": "stream",
     "text": [
      "aromatase_inhibitor logloss: 0.06705678476553766\n",
      "=========================================================================================\n",
      "len(trt) : 6\n",
      "len(train_index) : 936\n",
      "len(valid_index) : 936\n",
      "================================= 1fold lightgbm =================================\n"
     ]
    },
    {
     "name": "stdout",
     "output_type": "stream",
     "text": [
      "[100]\ttraining's binary_logloss: 0.0050491\tvalid_1's binary_logloss: 0.0591892\n",
      "Early stopping, best iteration is:\n",
      "[91]\ttraining's binary_logloss: 0.00636735\tvalid_1's binary_logloss: 0.0588039\n",
      "Training until validation scores don't improve for 10 rounds\n",
      "[20]\ttraining's binary_logloss: 0.00534853\tvalid_1's binary_logloss: 0.015427\n",
      "[40]\ttraining's binary_logloss: 0.00274087\tvalid_1's binary_logloss: 0.0143811\n"
     ]
    },
    {
     "name": "stderr",
     "output_type": "stream",
     "text": [
      "len(train_index) : 936\n",
      "len(valid_index) : 936\n",
      "================================= 2fold lightgbm =================================\n"
     ]
    },
    {
     "name": "stdout",
     "output_type": "stream",
     "text": [
      "[60]\ttraining's binary_logloss: 0.00150635\tvalid_1's binary_logloss: 0.0144899\n",
      "Early stopping, best iteration is:\n",
      "[50]\ttraining's binary_logloss: 0.002024\tvalid_1's binary_logloss: 0.0142075\n",
      "Training until validation scores don't improve for 10 rounds\n",
      "[20]\ttraining's binary_logloss: 0.00540135\tvalid_1's binary_logloss: 0.0101072\n",
      "[40]\ttraining's binary_logloss: 0.00276482\tvalid_1's binary_logloss: 0.00840512\n",
      "[60]\ttraining's binary_logloss: 0.00152149\tvalid_1's binary_logloss: 0.00742479\n"
     ]
    },
    {
     "name": "stderr",
     "output_type": "stream",
     "text": [
      "atm_kinase_inhibitor logloss: 0.010652025757470306\n"
     ]
    },
    {
     "name": "stdout",
     "output_type": "stream",
     "text": [
      "[80]\ttraining's binary_logloss: 0.000852907\tvalid_1's binary_logloss: 0.00720525\n",
      "Early stopping, best iteration is:\n",
      "[77]\ttraining's binary_logloss: 0.000929413\tvalid_1's binary_logloss: 0.00709654\n"
     ]
    },
    {
     "name": "stderr",
     "output_type": "stream",
     "text": [
      "=========================================================================================\n",
      "len(trt) : 1\n",
      "len(train_index) : 933\n",
      "len(valid_index) : 934\n",
      "================================= 1fold lightgbm =================================\n",
      "len(train_index) : 934\n",
      "len(valid_index) : 933\n",
      "================================= 2fold lightgbm =================================\n"
     ]
    },
    {
     "name": "stdout",
     "output_type": "stream",
     "text": [
      "Training until validation scores don't improve for 10 rounds\n",
      "Early stopping, best iteration is:\n",
      "[1]\ttraining's binary_logloss: 0\tvalid_1's binary_logloss: 0.0369794\n",
      "Training until validation scores don't improve for 10 rounds\n",
      "[20]\ttraining's binary_logloss: 0.00179404\tvalid_1's binary_logloss: 0.000868769\n",
      "[40]\ttraining's binary_logloss: 0.000907287\tvalid_1's binary_logloss: 0.000507549\n",
      "[60]\ttraining's binary_logloss: 0.000493671\tvalid_1's binary_logloss: 0.000294359\n",
      "[80]\ttraining's binary_logloss: 0.000275389\tvalid_1's binary_logloss: 0.000169546\n",
      "[100]\ttraining's binary_logloss: 0.000155369\tvalid_1's binary_logloss: 9.77967e-05\n",
      "[120]\ttraining's binary_logloss: 8.81758e-05\tvalid_1's binary_logloss: 5.61958e-05\n",
      "[140]\ttraining's binary_logloss: 5.0206e-05\tvalid_1's binary_logloss: 3.2386e-05\n",
      "[160]\ttraining's binary_logloss: 2.86381e-05\tvalid_1's binary_logloss: 1.86478e-05\n",
      "[180]\ttraining's binary_logloss: 1.63554e-05\tvalid_1's binary_logloss: 1.07403e-05\n",
      "[200]\ttraining's binary_logloss: 9.34863e-06\tvalid_1's binary_logloss: 6.16595e-06\n",
      "[220]\ttraining's binary_logloss: 5.34602e-06\tvalid_1's binary_logloss: 3.54943e-06\n",
      "[240]\ttraining's binary_logloss: 3.05853e-06\tvalid_1's binary_logloss: 2.04452e-06\n",
      "[260]\ttraining's binary_logloss: 2.12791e-06\tvalid_1's binary_logloss: 1.42602e-06\n",
      "Early stopping, best iteration is:\n",
      "[253]\ttraining's binary_logloss: 2.12791e-06\tvalid_1's binary_logloss: 1.42602e-06\n"
     ]
    },
    {
     "name": "stderr",
     "output_type": "stream",
     "text": [
      "atp-sensitive_potassium_channel_antagonist logloss: 0.018500325048734518\n",
      "=========================================================================================\n",
      "len(trt) : 12\n",
      "len(train_index) : 939\n",
      "len(valid_index) : 939\n",
      "================================= 1fold lightgbm =================================\n"
     ]
    },
    {
     "name": "stdout",
     "output_type": "stream",
     "text": [
      "Training until validation scores don't improve for 10 rounds\n",
      "[20]\ttraining's binary_logloss: 0.0101713\tvalid_1's binary_logloss: 0.013433\n",
      "[40]\ttraining's binary_logloss: 0.00515453\tvalid_1's binary_logloss: 0.00818012\n",
      "[60]\ttraining's binary_logloss: 0.00278323\tvalid_1's binary_logloss: 0.00541074\n",
      "[80]\ttraining's binary_logloss: 0.00154435\tvalid_1's binary_logloss: 0.00360925\n",
      "[100]\ttraining's binary_logloss: 0.00086397\tvalid_1's binary_logloss: 0.00231476\n",
      "[120]\ttraining's binary_logloss: 0.000485514\tvalid_1's binary_logloss: 0.00163879\n",
      "[140]\ttraining's binary_logloss: 0.000274533\tvalid_1's binary_logloss: 0.00117147\n",
      "[160]\ttraining's binary_logloss: 0.000155115\tvalid_1's binary_logloss: 0.000856413\n",
      "[180]\ttraining's binary_logloss: 8.77189e-05\tvalid_1's binary_logloss: 0.000628794\n",
      "[200]\ttraining's binary_logloss: 5.03854e-05\tvalid_1's binary_logloss: 0.000425637\n",
      "[220]\ttraining's binary_logloss: 2.90246e-05\tvalid_1's binary_logloss: 0.000313488\n",
      "[240]\ttraining's binary_logloss: 1.67345e-05\tvalid_1's binary_logloss: 0.000219041\n",
      "[260]\ttraining's binary_logloss: 9.66137e-06\tvalid_1's binary_logloss: 0.00016574\n",
      "[280]\ttraining's binary_logloss: 5.58494e-06\tvalid_1's binary_logloss: 0.000112744\n",
      "[300]\ttraining's binary_logloss: 3.23228e-06\tvalid_1's binary_logloss: 7.97537e-05\n",
      "[320]\ttraining's binary_logloss: 2.11892e-06\tvalid_1's binary_logloss: 6.59729e-05\n",
      "Early stopping, best iteration is:\n",
      "[315]\ttraining's binary_logloss: 2.14622e-06\tvalid_1's binary_logloss: 6.47779e-05\n"
     ]
    },
    {
     "name": "stderr",
     "output_type": "stream",
     "text": [
      "len(train_index) : 939\n",
      "len(valid_index) : 939\n",
      "================================= 2fold lightgbm =================================\n"
     ]
    },
    {
     "name": "stdout",
     "output_type": "stream",
     "text": [
      "Training until validation scores don't improve for 10 rounds\n",
      "[20]\ttraining's binary_logloss: 0.0101682\tvalid_1's binary_logloss: 0.0135087\n",
      "[40]\ttraining's binary_logloss: 0.00520108\tvalid_1's binary_logloss: 0.00819287\n",
      "[60]\ttraining's binary_logloss: 0.00282122\tvalid_1's binary_logloss: 0.00569919\n",
      "[80]\ttraining's binary_logloss: 0.00157744\tvalid_1's binary_logloss: 0.00394871\n",
      "[100]\ttraining's binary_logloss: 0.000889414\tvalid_1's binary_logloss: 0.00276523\n",
      "[120]\ttraining's binary_logloss: 0.000503013\tvalid_1's binary_logloss: 0.00205051\n",
      "[140]\ttraining's binary_logloss: 0.000285465\tvalid_1's binary_logloss: 0.00153485\n",
      "[160]\ttraining's binary_logloss: 0.000163147\tvalid_1's binary_logloss: 0.00112662\n",
      "[180]\ttraining's binary_logloss: 9.26351e-05\tvalid_1's binary_logloss: 0.000858729\n",
      "[200]\ttraining's binary_logloss: 5.33244e-05\tvalid_1's binary_logloss: 0.000628525\n",
      "[220]\ttraining's binary_logloss: 3.07892e-05\tvalid_1's binary_logloss: 0.000472176\n",
      "[240]\ttraining's binary_logloss: 1.78005e-05\tvalid_1's binary_logloss: 0.000352025\n",
      "[260]\ttraining's binary_logloss: 1.03005e-05\tvalid_1's binary_logloss: 0.000258684\n",
      "[280]\ttraining's binary_logloss: 5.97237e-06\tvalid_1's binary_logloss: 0.000207316\n",
      "[300]\ttraining's binary_logloss: 3.46697e-06\tvalid_1's binary_logloss: 0.000160653\n"
     ]
    },
    {
     "name": "stderr",
     "output_type": "stream",
     "text": [
      "atp_synthase_inhibitor logloss: 9.286082709934492e-05\n",
      "=========================================================================================\n",
      "len(trt) : 97\n",
      "len(train_index) : 981\n",
      "len(valid_index) : 982\n",
      "================================= 1fold lightgbm =================================\n"
     ]
    },
    {
     "name": "stdout",
     "output_type": "stream",
     "text": [
      "[320]\ttraining's binary_logloss: 2.12723e-06\tvalid_1's binary_logloss: 0.000120944\n",
      "Early stopping, best iteration is:\n",
      "[318]\ttraining's binary_logloss: 2.12723e-06\tvalid_1's binary_logloss: 0.000120944\n",
      "Training until validation scores don't improve for 10 rounds\n",
      "[20]\ttraining's binary_logloss: 0.0713023\tvalid_1's binary_logloss: 0.0997567\n",
      "[40]\ttraining's binary_logloss: 0.0376524\tvalid_1's binary_logloss: 0.0752946\n",
      "[60]\ttraining's binary_logloss: 0.0211581\tvalid_1's binary_logloss: 0.0621421\n",
      "[80]\ttraining's binary_logloss: 0.0119262\tvalid_1's binary_logloss: 0.0551809\n",
      "[100]\ttraining's binary_logloss: 0.00676859\tvalid_1's binary_logloss: 0.0528403\n",
      "[120]\ttraining's binary_logloss: 0.00386875\tvalid_1's binary_logloss: 0.05205\n",
      "Early stopping, best iteration is:\n",
      "[120]\ttraining's binary_logloss: 0.00386875\tvalid_1's binary_logloss: 0.05205\n"
     ]
    },
    {
     "name": "stderr",
     "output_type": "stream",
     "text": [
      "len(train_index) : 982\n",
      "len(valid_index) : 981\n",
      "================================= 2fold lightgbm =================================\n"
     ]
    },
    {
     "name": "stdout",
     "output_type": "stream",
     "text": [
      "Training until validation scores don't improve for 10 rounds\n",
      "[20]\ttraining's binary_logloss: 0.0713909\tvalid_1's binary_logloss: 0.102261\n",
      "[40]\ttraining's binary_logloss: 0.0374989\tvalid_1's binary_logloss: 0.0763762\n",
      "[60]\ttraining's binary_logloss: 0.0210465\tvalid_1's binary_logloss: 0.0638234\n",
      "[80]\ttraining's binary_logloss: 0.0119052\tvalid_1's binary_logloss: 0.0569179\n",
      "[100]\ttraining's binary_logloss: 0.00681327\tvalid_1's binary_logloss: 0.0525994\n",
      "[120]\ttraining's binary_logloss: 0.00394586\tvalid_1's binary_logloss: 0.0504149\n",
      "[140]\ttraining's binary_logloss: 0.00228659\tvalid_1's binary_logloss: 0.0500221\n",
      "[160]\ttraining's binary_logloss: 0.00133485\tvalid_1's binary_logloss: 0.0492614\n"
     ]
    },
    {
     "name": "stderr",
     "output_type": "stream",
     "text": [
      "atpase_inhibitor logloss: 0.050400728562099685\n",
      "=========================================================================================\n",
      "len(trt) : 19\n",
      "len(train_index) : 942\n",
      "len(valid_index) : 943\n",
      "================================= 1fold lightgbm =================================\n"
     ]
    },
    {
     "name": "stdout",
     "output_type": "stream",
     "text": [
      "Early stopping, best iteration is:\n",
      "[164]\ttraining's binary_logloss: 0.00119742\tvalid_1's binary_logloss: 0.0487498\n",
      "Training until validation scores don't improve for 10 rounds\n",
      "[20]\ttraining's binary_logloss: 0.014643\tvalid_1's binary_logloss: 0.024846\n",
      "[40]\ttraining's binary_logloss: 0.00745316\tvalid_1's binary_logloss: 0.0182817\n",
      "[60]\ttraining's binary_logloss: 0.00406132\tvalid_1's binary_logloss: 0.0147672\n",
      "[80]\ttraining's binary_logloss: 0.00228417\tvalid_1's binary_logloss: 0.0128231\n",
      "[100]\ttraining's binary_logloss: 0.00130362\tvalid_1's binary_logloss: 0.0117965\n",
      "[120]\ttraining's binary_logloss: 0.000746127\tvalid_1's binary_logloss: 0.0115115\n"
     ]
    },
    {
     "name": "stderr",
     "output_type": "stream",
     "text": [
      "len(train_index) : 943\n",
      "len(valid_index) : 942\n",
      "================================= 2fold lightgbm =================================\n"
     ]
    },
    {
     "name": "stdout",
     "output_type": "stream",
     "text": [
      "Early stopping, best iteration is:\n",
      "[128]\ttraining's binary_logloss: 0.000599019\tvalid_1's binary_logloss: 0.0114576\n",
      "Training until validation scores don't improve for 10 rounds\n",
      "[20]\ttraining's binary_logloss: 0.015251\tvalid_1's binary_logloss: 0.0255829\n",
      "[40]\ttraining's binary_logloss: 0.0076385\tvalid_1's binary_logloss: 0.0199175\n",
      "[60]\ttraining's binary_logloss: 0.0040976\tvalid_1's binary_logloss: 0.0172351\n",
      "[80]\ttraining's binary_logloss: 0.00225952\tvalid_1's binary_logloss: 0.0155561\n"
     ]
    },
    {
     "name": "stderr",
     "output_type": "stream",
     "text": [
      "atr_kinase_inhibitor logloss: 0.013168105298547629\n",
      "=========================================================================================\n",
      "len(trt) : 96\n",
      "len(train_index) : 981\n",
      "len(valid_index) : 981\n",
      "================================= 1fold lightgbm =================================\n"
     ]
    },
    {
     "name": "stdout",
     "output_type": "stream",
     "text": [
      "[100]\ttraining's binary_logloss: 0.00126251\tvalid_1's binary_logloss: 0.0150072\n",
      "Early stopping, best iteration is:\n",
      "[92]\ttraining's binary_logloss: 0.00159352\tvalid_1's binary_logloss: 0.0148804\n",
      "Training until validation scores don't improve for 10 rounds\n",
      "[20]\ttraining's binary_logloss: 0.0660252\tvalid_1's binary_logloss: 0.0863349\n",
      "[40]\ttraining's binary_logloss: 0.0337913\tvalid_1's binary_logloss: 0.0604372\n",
      "[60]\ttraining's binary_logloss: 0.0185449\tvalid_1's binary_logloss: 0.0485183\n",
      "[80]\ttraining's binary_logloss: 0.0101341\tvalid_1's binary_logloss: 0.0454279\n",
      "[100]\ttraining's binary_logloss: 0.00568869\tvalid_1's binary_logloss: 0.0437957\n",
      "[120]\ttraining's binary_logloss: 0.00322852\tvalid_1's binary_logloss: 0.043419\n"
     ]
    },
    {
     "name": "stderr",
     "output_type": "stream",
     "text": [
      "len(train_index) : 981\n",
      "len(valid_index) : 981\n",
      "================================= 2fold lightgbm =================================\n"
     ]
    },
    {
     "name": "stdout",
     "output_type": "stream",
     "text": [
      "Early stopping, best iteration is:\n",
      "[129]\ttraining's binary_logloss: 0.0025087\tvalid_1's binary_logloss: 0.0432677\n",
      "Training until validation scores don't improve for 10 rounds\n",
      "[20]\ttraining's binary_logloss: 0.0692334\tvalid_1's binary_logloss: 0.0831637\n",
      "[40]\ttraining's binary_logloss: 0.0364007\tvalid_1's binary_logloss: 0.0521958\n",
      "[60]\ttraining's binary_logloss: 0.0201365\tvalid_1's binary_logloss: 0.0367829\n",
      "[80]\ttraining's binary_logloss: 0.0112736\tvalid_1's binary_logloss: 0.0295813\n",
      "[100]\ttraining's binary_logloss: 0.0062802\tvalid_1's binary_logloss: 0.0237932\n",
      "[120]\ttraining's binary_logloss: 0.00353076\tvalid_1's binary_logloss: 0.0201365\n",
      "[140]\ttraining's binary_logloss: 0.00200259\tvalid_1's binary_logloss: 0.0174761\n",
      "[160]\ttraining's binary_logloss: 0.00114315\tvalid_1's binary_logloss: 0.0158551\n",
      "[180]\ttraining's binary_logloss: 0.000652009\tvalid_1's binary_logloss: 0.0147122\n",
      "[200]\ttraining's binary_logloss: 0.000373288\tvalid_1's binary_logloss: 0.0142765\n",
      "[220]\ttraining's binary_logloss: 0.000214088\tvalid_1's binary_logloss: 0.0137835\n",
      "[240]\ttraining's binary_logloss: 0.000122872\tvalid_1's binary_logloss: 0.0135614\n",
      "[260]\ttraining's binary_logloss: 7.08153e-05\tvalid_1's binary_logloss: 0.0129529\n"
     ]
    },
    {
     "name": "stderr",
     "output_type": "stream",
     "text": [
      "aurora_kinase_inhibitor logloss: 0.028043445431720028\n",
      "=========================================================================================\n"
     ]
    },
    {
     "name": "stdout",
     "output_type": "stream",
     "text": [
      "[280]\ttraining's binary_logloss: 4.09779e-05\tvalid_1's binary_logloss: 0.0130633\n",
      "Early stopping, best iteration is:\n",
      "[273]\ttraining's binary_logloss: 4.94829e-05\tvalid_1's binary_logloss: 0.0128191\n"
     ]
    },
    {
     "name": "stderr",
     "output_type": "stream",
     "text": [
      "len(trt) : 6\n",
      "len(train_index) : 936\n",
      "len(valid_index) : 936\n",
      "================================= 1fold lightgbm =================================\n"
     ]
    },
    {
     "name": "stdout",
     "output_type": "stream",
     "text": [
      "Training until validation scores don't improve for 10 rounds\n",
      "[20]\ttraining's binary_logloss: 0.00549627\tvalid_1's binary_logloss: 0.0170567\n",
      "[40]\ttraining's binary_logloss: 0.00285246\tvalid_1's binary_logloss: 0.0165919\n"
     ]
    },
    {
     "name": "stderr",
     "output_type": "stream",
     "text": [
      "len(train_index) : 936\n",
      "len(valid_index) : 936\n",
      "================================= 2fold lightgbm =================================\n"
     ]
    },
    {
     "name": "stdout",
     "output_type": "stream",
     "text": [
      "Early stopping, best iteration is:\n",
      "[44]\ttraining's binary_logloss: 0.00253364\tvalid_1's binary_logloss: 0.0163871\n",
      "Training until validation scores don't improve for 10 rounds\n"
     ]
    },
    {
     "name": "stderr",
     "output_type": "stream",
     "text": [
      "autotaxin_inhibitor logloss: 0.01823082241819052\n",
      "=========================================================================================\n"
     ]
    },
    {
     "name": "stdout",
     "output_type": "stream",
     "text": [
      "[20]\ttraining's binary_logloss: 0.00538688\tvalid_1's binary_logloss: 0.0201657\n",
      "Early stopping, best iteration is:\n",
      "[17]\ttraining's binary_logloss: 0.00609025\tvalid_1's binary_logloss: 0.0200746\n"
     ]
    },
    {
     "name": "stderr",
     "output_type": "stream",
     "text": [
      "len(trt) : 60\n",
      "len(train_index) : 963\n",
      "len(valid_index) : 963\n",
      "================================= 1fold lightgbm =================================\n"
     ]
    },
    {
     "name": "stdout",
     "output_type": "stream",
     "text": [
      "Training until validation scores don't improve for 10 rounds\n",
      "[20]\ttraining's binary_logloss: 0.0503194\tvalid_1's binary_logloss: 0.0905796\n",
      "[40]\ttraining's binary_logloss: 0.0274255\tvalid_1's binary_logloss: 0.0747183\n",
      "[60]\ttraining's binary_logloss: 0.0155704\tvalid_1's binary_logloss: 0.0690307\n",
      "[80]\ttraining's binary_logloss: 0.00904892\tvalid_1's binary_logloss: 0.0669302\n"
     ]
    },
    {
     "name": "stderr",
     "output_type": "stream",
     "text": [
      "len(train_index) : 963\n",
      "len(valid_index) : 963\n",
      "================================= 2fold lightgbm =================================\n"
     ]
    },
    {
     "name": "stdout",
     "output_type": "stream",
     "text": [
      "Early stopping, best iteration is:\n",
      "[85]\ttraining's binary_logloss: 0.00792051\tvalid_1's binary_logloss: 0.0662104\n",
      "Training until validation scores don't improve for 10 rounds\n",
      "[20]\ttraining's binary_logloss: 0.0505275\tvalid_1's binary_logloss: 0.0924728\n",
      "[40]\ttraining's binary_logloss: 0.0269161\tvalid_1's binary_logloss: 0.0792301\n",
      "[60]\ttraining's binary_logloss: 0.0153021\tvalid_1's binary_logloss: 0.071667\n",
      "[80]\ttraining's binary_logloss: 0.00891027\tvalid_1's binary_logloss: 0.0685909\n"
     ]
    },
    {
     "name": "stderr",
     "output_type": "stream",
     "text": [
      "bacterial_30s_ribosomal_subunit_inhibitor logloss: 0.06740061951382485\n",
      "=========================================================================================\n",
      "len(trt) : 80\n",
      "len(train_index) : 973\n",
      "len(valid_index) : 973\n",
      "================================= 1fold lightgbm =================================\n"
     ]
    },
    {
     "name": "stdout",
     "output_type": "stream",
     "text": [
      "Early stopping, best iteration is:\n",
      "[80]\ttraining's binary_logloss: 0.00891027\tvalid_1's binary_logloss: 0.0685909\n",
      "Training until validation scores don't improve for 10 rounds\n",
      "[20]\ttraining's binary_logloss: 0.0608092\tvalid_1's binary_logloss: 0.115333\n",
      "[40]\ttraining's binary_logloss: 0.0322472\tvalid_1's binary_logloss: 0.100509\n",
      "[60]\ttraining's binary_logloss: 0.018173\tvalid_1's binary_logloss: 0.0938022\n",
      "[80]\ttraining's binary_logloss: 0.0105292\tvalid_1's binary_logloss: 0.0918059\n"
     ]
    },
    {
     "name": "stderr",
     "output_type": "stream",
     "text": [
      "len(train_index) : 973\n",
      "len(valid_index) : 973\n",
      "================================= 2fold lightgbm =================================\n"
     ]
    },
    {
     "name": "stdout",
     "output_type": "stream",
     "text": [
      "[100]\ttraining's binary_logloss: 0.0062166\tvalid_1's binary_logloss: 0.0917608\n",
      "Early stopping, best iteration is:\n",
      "[93]\ttraining's binary_logloss: 0.00746024\tvalid_1's binary_logloss: 0.091128\n",
      "Training until validation scores don't improve for 10 rounds\n",
      "[20]\ttraining's binary_logloss: 0.0692686\tvalid_1's binary_logloss: 0.113459\n",
      "[40]\ttraining's binary_logloss: 0.0382713\tvalid_1's binary_logloss: 0.0928865\n",
      "[60]\ttraining's binary_logloss: 0.022216\tvalid_1's binary_logloss: 0.0835191\n",
      "[80]\ttraining's binary_logloss: 0.0132477\tvalid_1's binary_logloss: 0.0802502\n",
      "[100]\ttraining's binary_logloss: 0.00798867\tvalid_1's binary_logloss: 0.0774201\n",
      "[120]\ttraining's binary_logloss: 0.00481718\tvalid_1's binary_logloss: 0.0768477\n",
      "[140]\ttraining's binary_logloss: 0.00294378\tvalid_1's binary_logloss: 0.0758131\n"
     ]
    },
    {
     "name": "stderr",
     "output_type": "stream",
     "text": [
      "bacterial_50s_ribosomal_subunit_inhibitor logloss: 0.08305098879744488\n",
      "=========================================================================================\n"
     ]
    },
    {
     "name": "stdout",
     "output_type": "stream",
     "text": [
      "[160]\ttraining's binary_logloss: 0.00179211\tvalid_1's binary_logloss: 0.0755363\n",
      "Early stopping, best iteration is:\n",
      "[153]\ttraining's binary_logloss: 0.00213208\tvalid_1's binary_logloss: 0.074974\n"
     ]
    },
    {
     "name": "stderr",
     "output_type": "stream",
     "text": [
      "len(trt) : 36\n",
      "len(train_index) : 951\n",
      "len(valid_index) : 951\n",
      "================================= 1fold lightgbm =================================\n"
     ]
    },
    {
     "name": "stdout",
     "output_type": "stream",
     "text": [
      "Training until validation scores don't improve for 10 rounds\n",
      "[20]\ttraining's binary_logloss: 0.0301468\tvalid_1's binary_logloss: 0.0587017\n",
      "[40]\ttraining's binary_logloss: 0.015355\tvalid_1's binary_logloss: 0.0521043\n",
      "[60]\ttraining's binary_logloss: 0.00842854\tvalid_1's binary_logloss: 0.0480306\n",
      "[80]\ttraining's binary_logloss: 0.00475065\tvalid_1's binary_logloss: 0.045187\n",
      "[100]\ttraining's binary_logloss: 0.00271194\tvalid_1's binary_logloss: 0.0437635\n"
     ]
    },
    {
     "name": "stderr",
     "output_type": "stream",
     "text": [
      "len(train_index) : 951\n",
      "len(valid_index) : 951\n",
      "================================= 2fold lightgbm =================================\n"
     ]
    },
    {
     "name": "stdout",
     "output_type": "stream",
     "text": [
      "Early stopping, best iteration is:\n",
      "[100]\ttraining's binary_logloss: 0.00271194\tvalid_1's binary_logloss: 0.0437635\n",
      "Training until validation scores don't improve for 10 rounds\n",
      "[20]\ttraining's binary_logloss: 0.0301134\tvalid_1's binary_logloss: 0.0616169\n",
      "[40]\ttraining's binary_logloss: 0.0155066\tvalid_1's binary_logloss: 0.0550068\n",
      "[60]\ttraining's binary_logloss: 0.00854504\tvalid_1's binary_logloss: 0.0530554\n",
      "[80]\ttraining's binary_logloss: 0.00482787\tvalid_1's binary_logloss: 0.0522875\n"
     ]
    },
    {
     "name": "stderr",
     "output_type": "stream",
     "text": [
      "bacterial_antifolate logloss: 0.04795407842173221\n",
      "=========================================================================================\n",
      "len(trt) : 192\n",
      "len(train_index) : 1029\n",
      "len(valid_index) : 1029\n",
      "================================= 1fold lightgbm =================================\n"
     ]
    },
    {
     "name": "stdout",
     "output_type": "stream",
     "text": [
      "Early stopping, best iteration is:\n",
      "[83]\ttraining's binary_logloss: 0.00442631\tvalid_1's binary_logloss: 0.0521446\n",
      "Training until validation scores don't improve for 10 rounds\n",
      "[20]\ttraining's binary_logloss: 0.128283\tvalid_1's binary_logloss: 0.164926\n",
      "[40]\ttraining's binary_logloss: 0.07035\tvalid_1's binary_logloss: 0.117376\n",
      "[60]\ttraining's binary_logloss: 0.0404406\tvalid_1's binary_logloss: 0.0914516\n",
      "[80]\ttraining's binary_logloss: 0.0234598\tvalid_1's binary_logloss: 0.0763079\n",
      "[100]\ttraining's binary_logloss: 0.0139221\tvalid_1's binary_logloss: 0.0664904\n",
      "[120]\ttraining's binary_logloss: 0.00830036\tvalid_1's binary_logloss: 0.0595729\n",
      "[140]\ttraining's binary_logloss: 0.00496544\tvalid_1's binary_logloss: 0.0559273\n",
      "[160]\ttraining's binary_logloss: 0.0029828\tvalid_1's binary_logloss: 0.0536481\n",
      "[180]\ttraining's binary_logloss: 0.00179805\tvalid_1's binary_logloss: 0.0525728\n",
      "[200]\ttraining's binary_logloss: 0.00108794\tvalid_1's binary_logloss: 0.0520864\n"
     ]
    },
    {
     "name": "stderr",
     "output_type": "stream",
     "text": [
      "len(train_index) : 1029\n",
      "len(valid_index) : 1029\n",
      "================================= 2fold lightgbm =================================\n"
     ]
    },
    {
     "name": "stdout",
     "output_type": "stream",
     "text": [
      "Early stopping, best iteration is:\n",
      "[207]\ttraining's binary_logloss: 0.00091062\tvalid_1's binary_logloss: 0.0515646\n",
      "Training until validation scores don't improve for 10 rounds\n",
      "[20]\ttraining's binary_logloss: 0.128032\tvalid_1's binary_logloss: 0.159904\n",
      "[40]\ttraining's binary_logloss: 0.0697275\tvalid_1's binary_logloss: 0.109314\n",
      "[60]\ttraining's binary_logloss: 0.0398301\tvalid_1's binary_logloss: 0.0810557\n",
      "[80]\ttraining's binary_logloss: 0.0231946\tvalid_1's binary_logloss: 0.0637453\n",
      "[100]\ttraining's binary_logloss: 0.013802\tvalid_1's binary_logloss: 0.0535901\n",
      "[120]\ttraining's binary_logloss: 0.0081574\tvalid_1's binary_logloss: 0.047321\n",
      "[140]\ttraining's binary_logloss: 0.00489335\tvalid_1's binary_logloss: 0.0436852\n",
      "[160]\ttraining's binary_logloss: 0.0029328\tvalid_1's binary_logloss: 0.0409401\n",
      "[180]\ttraining's binary_logloss: 0.00176662\tvalid_1's binary_logloss: 0.0384369\n",
      "[200]\ttraining's binary_logloss: 0.00106012\tvalid_1's binary_logloss: 0.0372833\n",
      "[220]\ttraining's binary_logloss: 0.000637881\tvalid_1's binary_logloss: 0.0364484\n",
      "[240]\ttraining's binary_logloss: 0.000386589\tvalid_1's binary_logloss: 0.0359134\n"
     ]
    },
    {
     "name": "stderr",
     "output_type": "stream",
     "text": [
      "bacterial_cell_wall_synthesis_inhibitor logloss: 0.043469661145383934\n",
      "=========================================================================================\n",
      "len(trt) : 89\n",
      "len(train_index) : 977\n",
      "len(valid_index) : 978\n",
      "================================= 1fold lightgbm =================================\n"
     ]
    },
    {
     "name": "stdout",
     "output_type": "stream",
     "text": [
      "Early stopping, best iteration is:\n",
      "[249]\ttraining's binary_logloss: 0.000308498\tvalid_1's binary_logloss: 0.0353747\n",
      "Training until validation scores don't improve for 10 rounds\n",
      "[20]\ttraining's binary_logloss: 0.0686682\tvalid_1's binary_logloss: 0.109954\n",
      "[40]\ttraining's binary_logloss: 0.0372156\tvalid_1's binary_logloss: 0.0851561\n",
      "[60]\ttraining's binary_logloss: 0.0213866\tvalid_1's binary_logloss: 0.0734529\n",
      "[80]\ttraining's binary_logloss: 0.0124386\tvalid_1's binary_logloss: 0.0677161\n",
      "[100]\ttraining's binary_logloss: 0.00728741\tvalid_1's binary_logloss: 0.0649157\n",
      "[120]\ttraining's binary_logloss: 0.00430057\tvalid_1's binary_logloss: 0.0635469\n"
     ]
    },
    {
     "name": "stderr",
     "output_type": "stream",
     "text": [
      "len(train_index) : 978\n",
      "len(valid_index) : 977\n",
      "================================= 2fold lightgbm =================================\n"
     ]
    },
    {
     "name": "stdout",
     "output_type": "stream",
     "text": [
      "[140]\ttraining's binary_logloss: 0.00253741\tvalid_1's binary_logloss: 0.0632281\n",
      "Early stopping, best iteration is:\n",
      "[132]\ttraining's binary_logloss: 0.00313408\tvalid_1's binary_logloss: 0.0629581\n",
      "Training until validation scores don't improve for 10 rounds\n",
      "[20]\ttraining's binary_logloss: 0.0699953\tvalid_1's binary_logloss: 0.107158\n",
      "[40]\ttraining's binary_logloss: 0.0375636\tvalid_1's binary_logloss: 0.085402\n",
      "[60]\ttraining's binary_logloss: 0.0213532\tvalid_1's binary_logloss: 0.0738053\n",
      "[80]\ttraining's binary_logloss: 0.0124218\tvalid_1's binary_logloss: 0.0677805\n",
      "[100]\ttraining's binary_logloss: 0.00720504\tvalid_1's binary_logloss: 0.063533\n",
      "[120]\ttraining's binary_logloss: 0.00422448\tvalid_1's binary_logloss: 0.0599647\n",
      "[140]\ttraining's binary_logloss: 0.00247021\tvalid_1's binary_logloss: 0.0587272\n"
     ]
    },
    {
     "name": "stderr",
     "output_type": "stream",
     "text": [
      "bacterial_dna_gyrase_inhibitor logloss: 0.06068582670480377\n",
      "=========================================================================================\n"
     ]
    },
    {
     "name": "stdout",
     "output_type": "stream",
     "text": [
      "[160]\ttraining's binary_logloss: 0.00146361\tvalid_1's binary_logloss: 0.0585294\n",
      "Early stopping, best iteration is:\n",
      "[154]\ttraining's binary_logloss: 0.0017117\tvalid_1's binary_logloss: 0.0584113\n"
     ]
    },
    {
     "name": "stderr",
     "output_type": "stream",
     "text": [
      "len(trt) : 115\n",
      "len(train_index) : 990\n",
      "len(valid_index) : 991\n",
      "================================= 1fold lightgbm =================================\n"
     ]
    },
    {
     "name": "stdout",
     "output_type": "stream",
     "text": [
      "Training until validation scores don't improve for 10 rounds\n",
      "[20]\ttraining's binary_logloss: 0.087941\tvalid_1's binary_logloss: 0.123929\n",
      "[40]\ttraining's binary_logloss: 0.0477126\tvalid_1's binary_logloss: 0.0904252\n",
      "[60]\ttraining's binary_logloss: 0.0272501\tvalid_1's binary_logloss: 0.0719726\n",
      "[80]\ttraining's binary_logloss: 0.0158411\tvalid_1's binary_logloss: 0.0612883\n",
      "[100]\ttraining's binary_logloss: 0.00927\tvalid_1's binary_logloss: 0.0550728\n",
      "[120]\ttraining's binary_logloss: 0.00552102\tvalid_1's binary_logloss: 0.0512401\n",
      "[140]\ttraining's binary_logloss: 0.00331874\tvalid_1's binary_logloss: 0.0482012\n",
      "[160]\ttraining's binary_logloss: 0.00199006\tvalid_1's binary_logloss: 0.0474583\n"
     ]
    },
    {
     "name": "stderr",
     "output_type": "stream",
     "text": [
      "len(train_index) : 991\n",
      "len(valid_index) : 990\n",
      "================================= 2fold lightgbm =================================\n"
     ]
    },
    {
     "name": "stdout",
     "output_type": "stream",
     "text": [
      "Early stopping, best iteration is:\n",
      "[164]\ttraining's binary_logloss: 0.00180265\tvalid_1's binary_logloss: 0.0468306\n",
      "Training until validation scores don't improve for 10 rounds\n",
      "[20]\ttraining's binary_logloss: 0.0861533\tvalid_1's binary_logloss: 0.127869\n",
      "[40]\ttraining's binary_logloss: 0.0469782\tvalid_1's binary_logloss: 0.100682\n",
      "[60]\ttraining's binary_logloss: 0.0262903\tvalid_1's binary_logloss: 0.08629\n",
      "[80]\ttraining's binary_logloss: 0.0153779\tvalid_1's binary_logloss: 0.0794303\n",
      "[100]\ttraining's binary_logloss: 0.00909272\tvalid_1's binary_logloss: 0.0750677\n",
      "[120]\ttraining's binary_logloss: 0.00539227\tvalid_1's binary_logloss: 0.0739358\n"
     ]
    },
    {
     "name": "stderr",
     "output_type": "stream",
     "text": [
      "bacterial_dna_inhibitor logloss: 0.060200867034124195\n",
      "=========================================================================================\n",
      "len(trt) : 7\n",
      "len(train_index) : 936\n",
      "len(valid_index) : 937\n",
      "================================= 1fold lightgbm =================================\n"
     ]
    },
    {
     "name": "stdout",
     "output_type": "stream",
     "text": [
      "Early stopping, best iteration is:\n",
      "[122]\ttraining's binary_logloss: 0.00511336\tvalid_1's binary_logloss: 0.0735846\n",
      "Training until validation scores don't improve for 10 rounds\n",
      "[20]\ttraining's binary_logloss: 0.00510479\tvalid_1's binary_logloss: 0.0144662\n",
      "[40]\ttraining's binary_logloss: 0.00258916\tvalid_1's binary_logloss: 0.0130319\n",
      "[60]\ttraining's binary_logloss: 0.00140821\tvalid_1's binary_logloss: 0.0122285\n"
     ]
    },
    {
     "name": "stderr",
     "output_type": "stream",
     "text": [
      "len(train_index) : 937\n",
      "len(valid_index) : 936\n",
      "================================= 2fold lightgbm =================================\n"
     ]
    },
    {
     "name": "stdout",
     "output_type": "stream",
     "text": [
      "Early stopping, best iteration is:\n",
      "[67]\ttraining's binary_logloss: 0.00114559\tvalid_1's binary_logloss: 0.0121538\n",
      "Training until validation scores don't improve for 10 rounds\n",
      "[20]\ttraining's binary_logloss: 0.0069181\tvalid_1's binary_logloss: 0.00959773\n",
      "[40]\ttraining's binary_logloss: 0.00352341\tvalid_1's binary_logloss: 0.00656446\n",
      "[60]\ttraining's binary_logloss: 0.00192644\tvalid_1's binary_logloss: 0.00456894\n",
      "[80]\ttraining's binary_logloss: 0.00107812\tvalid_1's binary_logloss: 0.00364713\n",
      "[100]\ttraining's binary_logloss: 0.000608533\tvalid_1's binary_logloss: 0.00289026\n",
      "[120]\ttraining's binary_logloss: 0.000345589\tvalid_1's binary_logloss: 0.00223845\n",
      "[140]\ttraining's binary_logloss: 0.000196651\tvalid_1's binary_logloss: 0.00201154\n",
      "[160]\ttraining's binary_logloss: 0.000112321\tvalid_1's binary_logloss: 0.00155198\n",
      "[180]\ttraining's binary_logloss: 6.4334e-05\tvalid_1's binary_logloss: 0.00126219\n",
      "[200]\ttraining's binary_logloss: 3.7001e-05\tvalid_1's binary_logloss: 0.00104146\n",
      "[220]\ttraining's binary_logloss: 2.12974e-05\tvalid_1's binary_logloss: 0.000856972\n",
      "[240]\ttraining's binary_logloss: 1.22703e-05\tvalid_1's binary_logloss: 0.00066982\n",
      "[260]\ttraining's binary_logloss: 7.07469e-06\tvalid_1's binary_logloss: 0.000540491\n",
      "[280]\ttraining's binary_logloss: 4.0824e-06\tvalid_1's binary_logloss: 0.000417688\n"
     ]
    },
    {
     "name": "stderr",
     "output_type": "stream",
     "text": [
      "bacterial_membrane_integrity_inhibitor logloss: 0.006244688470954974\n",
      "=========================================================================================\n",
      "len(trt) : 31\n",
      "len(train_index) : 948\n",
      "len(valid_index) : 949\n",
      "================================= 1fold lightgbm =================================\n"
     ]
    },
    {
     "name": "stdout",
     "output_type": "stream",
     "text": [
      "[300]\ttraining's binary_logloss: 2.35716e-06\tvalid_1's binary_logloss: 0.000340618\n",
      "Early stopping, best iteration is:\n",
      "[303]\ttraining's binary_logloss: 2.1709e-06\tvalid_1's binary_logloss: 0.0003293\n",
      "Training until validation scores don't improve for 10 rounds\n",
      "[20]\ttraining's binary_logloss: 0.0243487\tvalid_1's binary_logloss: 0.0442824\n",
      "[40]\ttraining's binary_logloss: 0.0127995\tvalid_1's binary_logloss: 0.0355721\n",
      "[60]\ttraining's binary_logloss: 0.00709154\tvalid_1's binary_logloss: 0.0311137\n",
      "[80]\ttraining's binary_logloss: 0.00402451\tvalid_1's binary_logloss: 0.0290129\n",
      "[100]\ttraining's binary_logloss: 0.00231806\tvalid_1's binary_logloss: 0.027874\n",
      "[120]\ttraining's binary_logloss: 0.0013479\tvalid_1's binary_logloss: 0.0272048\n"
     ]
    },
    {
     "name": "stderr",
     "output_type": "stream",
     "text": [
      "len(train_index) : 949\n",
      "len(valid_index) : 948\n",
      "================================= 2fold lightgbm =================================\n"
     ]
    },
    {
     "name": "stdout",
     "output_type": "stream",
     "text": [
      "Early stopping, best iteration is:\n",
      "[120]\ttraining's binary_logloss: 0.0013479\tvalid_1's binary_logloss: 0.0272048\n",
      "Training until validation scores don't improve for 10 rounds\n",
      "[20]\ttraining's binary_logloss: 0.0255215\tvalid_1's binary_logloss: 0.0407002\n",
      "[40]\ttraining's binary_logloss: 0.0133907\tvalid_1's binary_logloss: 0.0332032\n",
      "[60]\ttraining's binary_logloss: 0.00739912\tvalid_1's binary_logloss: 0.0302465\n",
      "[80]\ttraining's binary_logloss: 0.00418701\tvalid_1's binary_logloss: 0.0295188\n",
      "Early stopping, best iteration is:\n",
      "[76]\ttraining's binary_logloss: 0.00469062\tvalid_1's binary_logloss: 0.0293905\n"
     ]
    },
    {
     "name": "stderr",
     "output_type": "stream",
     "text": [
      "bcl_inhibitor logloss: 0.02829707167315624\n",
      "=========================================================================================\n",
      "len(trt) : 38\n",
      "len(train_index) : 952\n",
      "len(valid_index) : 952\n",
      "================================= 1fold lightgbm =================================\n"
     ]
    },
    {
     "name": "stdout",
     "output_type": "stream",
     "text": [
      "Training until validation scores don't improve for 10 rounds\n",
      "[20]\ttraining's binary_logloss: 0.0299142\tvalid_1's binary_logloss: 0.0615187\n",
      "[40]\ttraining's binary_logloss: 0.0158229\tvalid_1's binary_logloss: 0.0537862\n",
      "[60]\ttraining's binary_logloss: 0.00864626\tvalid_1's binary_logloss: 0.0499305\n",
      "[80]\ttraining's binary_logloss: 0.00482734\tvalid_1's binary_logloss: 0.0467553\n",
      "[100]\ttraining's binary_logloss: 0.00273395\tvalid_1's binary_logloss: 0.0446772\n",
      "[120]\ttraining's binary_logloss: 0.00155678\tvalid_1's binary_logloss: 0.0432394\n",
      "[140]\ttraining's binary_logloss: 0.000892234\tvalid_1's binary_logloss: 0.0428121\n",
      "Early stopping, best iteration is:\n",
      "[137]\ttraining's binary_logloss: 0.000969682\tvalid_1's binary_logloss: 0.0424986\n"
     ]
    },
    {
     "name": "stderr",
     "output_type": "stream",
     "text": [
      "len(train_index) : 952\n",
      "len(valid_index) : 952\n",
      "================================= 2fold lightgbm =================================\n"
     ]
    },
    {
     "name": "stdout",
     "output_type": "stream",
     "text": [
      "Training until validation scores don't improve for 10 rounds\n",
      "[20]\ttraining's binary_logloss: 0.0302926\tvalid_1's binary_logloss: 0.0603256\n",
      "[40]\ttraining's binary_logloss: 0.0156483\tvalid_1's binary_logloss: 0.0470457\n",
      "[60]\ttraining's binary_logloss: 0.00854177\tvalid_1's binary_logloss: 0.0404415\n",
      "[80]\ttraining's binary_logloss: 0.00474648\tvalid_1's binary_logloss: 0.035792\n",
      "[100]\ttraining's binary_logloss: 0.00268363\tvalid_1's binary_logloss: 0.0338244\n",
      "[120]\ttraining's binary_logloss: 0.00153452\tvalid_1's binary_logloss: 0.0320212\n",
      "[140]\ttraining's binary_logloss: 0.000883797\tvalid_1's binary_logloss: 0.0308368\n",
      "[160]\ttraining's binary_logloss: 0.000512749\tvalid_1's binary_logloss: 0.0294404\n",
      "[180]\ttraining's binary_logloss: 0.000296948\tvalid_1's binary_logloss: 0.028583\n",
      "Early stopping, best iteration is:\n",
      "[175]\ttraining's binary_logloss: 0.000340406\tvalid_1's binary_logloss: 0.0282124\n"
     ]
    },
    {
     "name": "stderr",
     "output_type": "stream",
     "text": [
      "bcr-abl_inhibitor logloss: 0.0353554965987637\n",
      "=========================================================================================\n",
      "len(trt) : 67\n",
      "len(train_index) : 966\n",
      "len(valid_index) : 967\n",
      "================================= 1fold lightgbm =================================\n"
     ]
    },
    {
     "name": "stdout",
     "output_type": "stream",
     "text": [
      "Training until validation scores don't improve for 10 rounds\n",
      "[20]\ttraining's binary_logloss: 0.0544845\tvalid_1's binary_logloss: 0.0946935\n",
      "[40]\ttraining's binary_logloss: 0.0298578\tvalid_1's binary_logloss: 0.0776821\n",
      "[60]\ttraining's binary_logloss: 0.0173116\tvalid_1's binary_logloss: 0.0669752\n",
      "[80]\ttraining's binary_logloss: 0.01003\tvalid_1's binary_logloss: 0.0609373\n",
      "[100]\ttraining's binary_logloss: 0.00594525\tvalid_1's binary_logloss: 0.0574234\n",
      "[120]\ttraining's binary_logloss: 0.0035559\tvalid_1's binary_logloss: 0.0549863\n",
      "[140]\ttraining's binary_logloss: 0.00213332\tvalid_1's binary_logloss: 0.0537222\n",
      "[160]\ttraining's binary_logloss: 0.00128411\tvalid_1's binary_logloss: 0.0523336\n",
      "[180]\ttraining's binary_logloss: 0.000770541\tvalid_1's binary_logloss: 0.0519561\n",
      "Early stopping, best iteration is:\n",
      "[174]\ttraining's binary_logloss: 0.000898757\tvalid_1's binary_logloss: 0.0516669\n"
     ]
    },
    {
     "name": "stderr",
     "output_type": "stream",
     "text": [
      "len(train_index) : 967\n",
      "len(valid_index) : 966\n",
      "================================= 2fold lightgbm =================================\n"
     ]
    },
    {
     "name": "stdout",
     "output_type": "stream",
     "text": [
      "Training until validation scores don't improve for 10 rounds\n",
      "[20]\ttraining's binary_logloss: 0.0554672\tvalid_1's binary_logloss: 0.0983832\n",
      "[40]\ttraining's binary_logloss: 0.029803\tvalid_1's binary_logloss: 0.0834454\n",
      "[60]\ttraining's binary_logloss: 0.0167436\tvalid_1's binary_logloss: 0.0749413\n",
      "[80]\ttraining's binary_logloss: 0.00969695\tvalid_1's binary_logloss: 0.0715392\n",
      "[100]\ttraining's binary_logloss: 0.00569888\tvalid_1's binary_logloss: 0.0699952\n",
      "[120]\ttraining's binary_logloss: 0.00338485\tvalid_1's binary_logloss: 0.0692096\n",
      "[140]\ttraining's binary_logloss: 0.00201875\tvalid_1's binary_logloss: 0.0691204\n"
     ]
    },
    {
     "name": "stderr",
     "output_type": "stream",
     "text": [
      "benzodiazepine_receptor_agonist logloss: 0.0603297827429197\n",
      "=========================================================================================\n",
      "len(trt) : 24\n",
      "len(train_index) : 945\n",
      "len(valid_index) : 945\n",
      "================================= 1fold lightgbm =================================\n"
     ]
    },
    {
     "name": "stdout",
     "output_type": "stream",
     "text": [
      "Early stopping, best iteration is:\n",
      "[143]\ttraining's binary_logloss: 0.00187074\tvalid_1's binary_logloss: 0.0690016\n",
      "Training until validation scores don't improve for 10 rounds\n",
      "[20]\ttraining's binary_logloss: 0.0238004\tvalid_1's binary_logloss: 0.0535612\n",
      "[40]\ttraining's binary_logloss: 0.0121405\tvalid_1's binary_logloss: 0.0522707\n"
     ]
    },
    {
     "name": "stderr",
     "output_type": "stream",
     "text": [
      "len(train_index) : 945\n",
      "len(valid_index) : 945\n",
      "================================= 2fold lightgbm =================================\n"
     ]
    },
    {
     "name": "stdout",
     "output_type": "stream",
     "text": [
      "Early stopping, best iteration is:\n",
      "[38]\ttraining's binary_logloss: 0.0128921\tvalid_1's binary_logloss: 0.0521171\n",
      "Training until validation scores don't improve for 10 rounds\n",
      "[20]\ttraining's binary_logloss: 0.0232502\tvalid_1's binary_logloss: 0.0516758\n",
      "[40]\ttraining's binary_logloss: 0.012401\tvalid_1's binary_logloss: 0.0493018\n"
     ]
    },
    {
     "name": "stderr",
     "output_type": "stream",
     "text": [
      "beta_amyloid_inhibitor logloss: 0.05061640797213764\n",
      "=========================================================================================\n",
      "len(trt) : 68\n",
      "len(train_index) : 967\n",
      "len(valid_index) : 967\n",
      "================================= 1fold lightgbm =================================\n"
     ]
    },
    {
     "name": "stdout",
     "output_type": "stream",
     "text": [
      "Early stopping, best iteration is:\n",
      "[38]\ttraining's binary_logloss: 0.0132011\tvalid_1's binary_logloss: 0.0491157\n",
      "Training until validation scores don't improve for 10 rounds\n",
      "[20]\ttraining's binary_logloss: 0.0529132\tvalid_1's binary_logloss: 0.0698614\n",
      "[40]\ttraining's binary_logloss: 0.027968\tvalid_1's binary_logloss: 0.0495507\n",
      "[60]\ttraining's binary_logloss: 0.0154746\tvalid_1's binary_logloss: 0.0404148\n",
      "[80]\ttraining's binary_logloss: 0.00878079\tvalid_1's binary_logloss: 0.0351599\n",
      "[100]\ttraining's binary_logloss: 0.00500039\tvalid_1's binary_logloss: 0.0321677\n",
      "[120]\ttraining's binary_logloss: 0.00286098\tvalid_1's binary_logloss: 0.0311291\n",
      "[140]\ttraining's binary_logloss: 0.00165094\tvalid_1's binary_logloss: 0.0309873\n",
      "Early stopping, best iteration is:\n",
      "[135]\ttraining's binary_logloss: 0.0018948\tvalid_1's binary_logloss: 0.030798\n"
     ]
    },
    {
     "name": "stderr",
     "output_type": "stream",
     "text": [
      "len(train_index) : 967\n",
      "len(valid_index) : 967\n",
      "================================= 2fold lightgbm =================================\n"
     ]
    },
    {
     "name": "stdout",
     "output_type": "stream",
     "text": [
      "Training until validation scores don't improve for 10 rounds\n",
      "[20]\ttraining's binary_logloss: 0.0530707\tvalid_1's binary_logloss: 0.0752778\n",
      "[40]\ttraining's binary_logloss: 0.027509\tvalid_1's binary_logloss: 0.0592094\n",
      "[60]\ttraining's binary_logloss: 0.0152521\tvalid_1's binary_logloss: 0.0525763\n",
      "[80]\ttraining's binary_logloss: 0.00863934\tvalid_1's binary_logloss: 0.0496083\n"
     ]
    },
    {
     "name": "stderr",
     "output_type": "stream",
     "text": [
      "bromodomain_inhibitor logloss: 0.03998992208291404\n",
      "=========================================================================================\n",
      "len(trt) : 29\n",
      "len(train_index) : 947\n",
      "len(valid_index) : 948\n",
      "================================= 1fold lightgbm =================================\n"
     ]
    },
    {
     "name": "stdout",
     "output_type": "stream",
     "text": [
      "Early stopping, best iteration is:\n",
      "[87]\ttraining's binary_logloss: 0.00705344\tvalid_1's binary_logloss: 0.0491819\n",
      "Training until validation scores don't improve for 10 rounds\n",
      "[20]\ttraining's binary_logloss: 0.0233008\tvalid_1's binary_logloss: 0.0568557\n",
      "[40]\ttraining's binary_logloss: 0.0120918\tvalid_1's binary_logloss: 0.0530306\n"
     ]
    },
    {
     "name": "stderr",
     "output_type": "stream",
     "text": [
      "len(train_index) : 948\n",
      "len(valid_index) : 947\n",
      "================================= 2fold lightgbm =================================\n"
     ]
    },
    {
     "name": "stdout",
     "output_type": "stream",
     "text": [
      "[60]\ttraining's binary_logloss: 0.00666292\tvalid_1's binary_logloss: 0.0526699\n",
      "Early stopping, best iteration is:\n",
      "[56]\ttraining's binary_logloss: 0.00748242\tvalid_1's binary_logloss: 0.0524476\n",
      "Training until validation scores don't improve for 10 rounds\n",
      "[20]\ttraining's binary_logloss: 0.0285938\tvalid_1's binary_logloss: 0.0446912\n",
      "[40]\ttraining's binary_logloss: 0.0147462\tvalid_1's binary_logloss: 0.0367661\n",
      "[60]\ttraining's binary_logloss: 0.00810444\tvalid_1's binary_logloss: 0.0341432\n"
     ]
    },
    {
     "name": "stderr",
     "output_type": "stream",
     "text": [
      "btk_inhibitor logloss: 0.04318400272541474\n",
      "=========================================================================================\n",
      "len(trt) : 6\n",
      "len(train_index) : 936\n",
      "len(valid_index) : 936\n",
      "================================= 1fold lightgbm =================================\n"
     ]
    },
    {
     "name": "stdout",
     "output_type": "stream",
     "text": [
      "Early stopping, best iteration is:\n",
      "[64]\ttraining's binary_logloss: 0.00721497\tvalid_1's binary_logloss: 0.0339106\n",
      "Training until validation scores don't improve for 10 rounds\n"
     ]
    },
    {
     "name": "stderr",
     "output_type": "stream",
     "text": [
      "len(train_index) : 936\n",
      "len(valid_index) : 936\n"
     ]
    },
    {
     "name": "stdout",
     "output_type": "stream",
     "text": [
      "[20]\ttraining's binary_logloss: 0.00565295\tvalid_1's binary_logloss: 0.0209814\n",
      "Early stopping, best iteration is:\n",
      "[17]\ttraining's binary_logloss: 0.00629635\tvalid_1's binary_logloss: 0.0209699\n"
     ]
    },
    {
     "name": "stderr",
     "output_type": "stream",
     "text": [
      "================================= 2fold lightgbm =================================\n"
     ]
    },
    {
     "name": "stdout",
     "output_type": "stream",
     "text": [
      "Training until validation scores don't improve for 10 rounds\n",
      "[20]\ttraining's binary_logloss: 0.00528912\tvalid_1's binary_logloss: 0.0209944\n"
     ]
    },
    {
     "name": "stderr",
     "output_type": "stream",
     "text": [
      "calcineurin_inhibitor logloss: 0.02091817295215606\n",
      "=========================================================================================\n",
      "len(trt) : 281\n",
      "len(train_index) : 1073\n",
      "len(valid_index) : 1074\n",
      "================================= 1fold lightgbm =================================\n"
     ]
    },
    {
     "name": "stdout",
     "output_type": "stream",
     "text": [
      "Early stopping, best iteration is:\n",
      "[28]\ttraining's binary_logloss: 0.0039742\tvalid_1's binary_logloss: 0.0208665\n",
      "Training until validation scores don't improve for 10 rounds\n",
      "[20]\ttraining's binary_logloss: 0.179642\tvalid_1's binary_logloss: 0.218004\n",
      "[40]\ttraining's binary_logloss: 0.101338\tvalid_1's binary_logloss: 0.148378\n",
      "[60]\ttraining's binary_logloss: 0.0599679\tvalid_1's binary_logloss: 0.109617\n",
      "[80]\ttraining's binary_logloss: 0.0363445\tvalid_1's binary_logloss: 0.0860295\n",
      "[100]\ttraining's binary_logloss: 0.022384\tvalid_1's binary_logloss: 0.0726153\n",
      "[120]\ttraining's binary_logloss: 0.0139392\tvalid_1's binary_logloss: 0.0636599\n",
      "[140]\ttraining's binary_logloss: 0.00871202\tvalid_1's binary_logloss: 0.0581112\n",
      "[160]\ttraining's binary_logloss: 0.00548918\tvalid_1's binary_logloss: 0.0547118\n",
      "[180]\ttraining's binary_logloss: 0.00347771\tvalid_1's binary_logloss: 0.0525735\n",
      "[200]\ttraining's binary_logloss: 0.00220626\tvalid_1's binary_logloss: 0.052515\n",
      "[220]\ttraining's binary_logloss: 0.00140419\tvalid_1's binary_logloss: 0.0520633\n"
     ]
    },
    {
     "name": "stderr",
     "output_type": "stream",
     "text": [
      "len(train_index) : 1074\n",
      "len(valid_index) : 1073\n",
      "================================= 2fold lightgbm =================================\n"
     ]
    },
    {
     "name": "stdout",
     "output_type": "stream",
     "text": [
      "[240]\ttraining's binary_logloss: 0.00089762\tvalid_1's binary_logloss: 0.0518442\n",
      "Early stopping, best iteration is:\n",
      "[230]\ttraining's binary_logloss: 0.00112364\tvalid_1's binary_logloss: 0.051486\n",
      "Training until validation scores don't improve for 10 rounds\n",
      "[20]\ttraining's binary_logloss: 0.169054\tvalid_1's binary_logloss: 0.200212\n",
      "[40]\ttraining's binary_logloss: 0.0944899\tvalid_1's binary_logloss: 0.138107\n",
      "[60]\ttraining's binary_logloss: 0.0558683\tvalid_1's binary_logloss: 0.105085\n",
      "[80]\ttraining's binary_logloss: 0.0339467\tvalid_1's binary_logloss: 0.0863744\n",
      "[100]\ttraining's binary_logloss: 0.0208993\tvalid_1's binary_logloss: 0.0751316\n",
      "[120]\ttraining's binary_logloss: 0.0129969\tvalid_1's binary_logloss: 0.0691089\n",
      "[140]\ttraining's binary_logloss: 0.00811136\tvalid_1's binary_logloss: 0.0646413\n",
      "[160]\ttraining's binary_logloss: 0.0050876\tvalid_1's binary_logloss: 0.0628034\n",
      "[180]\ttraining's binary_logloss: 0.00320505\tvalid_1's binary_logloss: 0.0613076\n",
      "[200]\ttraining's binary_logloss: 0.00202026\tvalid_1's binary_logloss: 0.0609725\n"
     ]
    },
    {
     "name": "stderr",
     "output_type": "stream",
     "text": [
      "calcium_channel_blocker logloss: 0.0560894182122458\n",
      "=========================================================================================\n",
      "len(trt) : 42\n",
      "len(train_index) : 954\n",
      "len(valid_index) : 954\n",
      "================================= 1fold lightgbm =================================\n"
     ]
    },
    {
     "name": "stdout",
     "output_type": "stream",
     "text": [
      "Early stopping, best iteration is:\n",
      "[203]\ttraining's binary_logloss: 0.001885\tvalid_1's binary_logloss: 0.0606972\n",
      "Training until validation scores don't improve for 10 rounds\n",
      "[20]\ttraining's binary_logloss: 0.0355656\tvalid_1's binary_logloss: 0.0691728\n",
      "[40]\ttraining's binary_logloss: 0.0187796\tvalid_1's binary_logloss: 0.0595376\n",
      "[60]\ttraining's binary_logloss: 0.0104988\tvalid_1's binary_logloss: 0.0531067\n",
      "[80]\ttraining's binary_logloss: 0.00601241\tvalid_1's binary_logloss: 0.0509074\n"
     ]
    },
    {
     "name": "stderr",
     "output_type": "stream",
     "text": [
      "len(train_index) : 954\n",
      "len(valid_index) : 954\n",
      "================================= 2fold lightgbm =================================\n"
     ]
    },
    {
     "name": "stdout",
     "output_type": "stream",
     "text": [
      "Early stopping, best iteration is:\n",
      "[87]\ttraining's binary_logloss: 0.00495518\tvalid_1's binary_logloss: 0.0505897\n",
      "Training until validation scores don't improve for 10 rounds\n",
      "[20]\ttraining's binary_logloss: 0.0350043\tvalid_1's binary_logloss: 0.0585749\n",
      "[40]\ttraining's binary_logloss: 0.0181376\tvalid_1's binary_logloss: 0.0480286\n",
      "[60]\ttraining's binary_logloss: 0.00996649\tvalid_1's binary_logloss: 0.0435142\n",
      "[80]\ttraining's binary_logloss: 0.00564015\tvalid_1's binary_logloss: 0.0415293\n",
      "[100]\ttraining's binary_logloss: 0.00325278\tvalid_1's binary_logloss: 0.0411774\n"
     ]
    },
    {
     "name": "stderr",
     "output_type": "stream",
     "text": [
      "cannabinoid_receptor_agonist logloss: 0.045607056496088275\n",
      "=========================================================================================\n",
      "len(trt) : 55\n",
      "len(train_index) : 960\n",
      "len(valid_index) : 961\n",
      "================================= 1fold lightgbm =================================\n"
     ]
    },
    {
     "name": "stdout",
     "output_type": "stream",
     "text": [
      "Early stopping, best iteration is:\n",
      "[104]\ttraining's binary_logloss: 0.0029246\tvalid_1's binary_logloss: 0.0406244\n",
      "Training until validation scores don't improve for 10 rounds\n",
      "[20]\ttraining's binary_logloss: 0.0458981\tvalid_1's binary_logloss: 0.0879982\n",
      "[40]\ttraining's binary_logloss: 0.0244392\tvalid_1's binary_logloss: 0.0779945\n",
      "[60]\ttraining's binary_logloss: 0.0137486\tvalid_1's binary_logloss: 0.0714224\n",
      "[80]\ttraining's binary_logloss: 0.00802073\tvalid_1's binary_logloss: 0.0674876\n",
      "[100]\ttraining's binary_logloss: 0.00476747\tvalid_1's binary_logloss: 0.065269\n"
     ]
    },
    {
     "name": "stderr",
     "output_type": "stream",
     "text": [
      "len(train_index) : 961\n",
      "len(valid_index) : 960\n",
      "================================= 2fold lightgbm =================================\n"
     ]
    },
    {
     "name": "stdout",
     "output_type": "stream",
     "text": [
      "[120]\ttraining's binary_logloss: 0.0028318\tvalid_1's binary_logloss: 0.0655386\n",
      "Early stopping, best iteration is:\n",
      "[111]\ttraining's binary_logloss: 0.00358059\tvalid_1's binary_logloss: 0.0650943\n",
      "Training until validation scores don't improve for 10 rounds\n",
      "[20]\ttraining's binary_logloss: 0.0498521\tvalid_1's binary_logloss: 0.0864396\n",
      "[40]\ttraining's binary_logloss: 0.0270175\tvalid_1's binary_logloss: 0.0741407\n",
      "[60]\ttraining's binary_logloss: 0.0155284\tvalid_1's binary_logloss: 0.0680099\n",
      "[80]\ttraining's binary_logloss: 0.00902521\tvalid_1's binary_logloss: 0.0648108\n"
     ]
    },
    {
     "name": "stderr",
     "output_type": "stream",
     "text": [
      "cannabinoid_receptor_antagonist logloss: 0.06486619313222784\n",
      "=========================================================================================\n",
      "len(trt) : 36\n",
      "len(train_index) : 951\n",
      "len(valid_index) : 951\n",
      "================================= 1fold lightgbm =================================\n"
     ]
    },
    {
     "name": "stdout",
     "output_type": "stream",
     "text": [
      "Early stopping, best iteration is:\n",
      "[82]\ttraining's binary_logloss: 0.00853191\tvalid_1's binary_logloss: 0.0646379\n",
      "Training until validation scores don't improve for 10 rounds\n",
      "[20]\ttraining's binary_logloss: 0.0316392\tvalid_1's binary_logloss: 0.0627984\n",
      "[40]\ttraining's binary_logloss: 0.016842\tvalid_1's binary_logloss: 0.0555978\n",
      "[60]\ttraining's binary_logloss: 0.00946284\tvalid_1's binary_logloss: 0.0515806\n",
      "[80]\ttraining's binary_logloss: 0.00540251\tvalid_1's binary_logloss: 0.0498674\n"
     ]
    },
    {
     "name": "stderr",
     "output_type": "stream",
     "text": [
      "len(train_index) : 951\n",
      "len(valid_index) : 951\n",
      "================================= 2fold lightgbm =================================\n"
     ]
    },
    {
     "name": "stdout",
     "output_type": "stream",
     "text": [
      "[100]\ttraining's binary_logloss: 0.00310588\tvalid_1's binary_logloss: 0.0492673\n",
      "Early stopping, best iteration is:\n",
      "[93]\ttraining's binary_logloss: 0.00377347\tvalid_1's binary_logloss: 0.0485594\n",
      "Training until validation scores don't improve for 10 rounds\n",
      "[20]\ttraining's binary_logloss: 0.0303942\tvalid_1's binary_logloss: 0.0653126\n",
      "[40]\ttraining's binary_logloss: 0.0158498\tvalid_1's binary_logloss: 0.0601983\n",
      "[60]\ttraining's binary_logloss: 0.00875656\tvalid_1's binary_logloss: 0.0575564\n"
     ]
    },
    {
     "name": "stderr",
     "output_type": "stream",
     "text": [
      "carbonic_anhydrase_inhibitor logloss: 0.05286393720629807\n",
      "=========================================================================================\n",
      "len(trt) : 36\n",
      "len(train_index) : 951\n",
      "len(valid_index) : 951\n",
      "================================= 1fold lightgbm =================================\n"
     ]
    },
    {
     "name": "stdout",
     "output_type": "stream",
     "text": [
      "Early stopping, best iteration is:\n",
      "[64]\ttraining's binary_logloss: 0.00779788\tvalid_1's binary_logloss: 0.0571684\n",
      "Training until validation scores don't improve for 10 rounds\n",
      "[20]\ttraining's binary_logloss: 0.0316758\tvalid_1's binary_logloss: 0.0681245\n",
      "[40]\ttraining's binary_logloss: 0.0163877\tvalid_1's binary_logloss: 0.0628827\n"
     ]
    },
    {
     "name": "stderr",
     "output_type": "stream",
     "text": [
      "len(train_index) : 951\n",
      "len(valid_index) : 951\n",
      "================================= 2fold lightgbm =================================\n"
     ]
    },
    {
     "name": "stdout",
     "output_type": "stream",
     "text": [
      "[60]\ttraining's binary_logloss: 0.00891747\tvalid_1's binary_logloss: 0.0625842\n",
      "Early stopping, best iteration is:\n",
      "[52]\ttraining's binary_logloss: 0.0113258\tvalid_1's binary_logloss: 0.0622938\n",
      "Training until validation scores don't improve for 10 rounds\n",
      "[20]\ttraining's binary_logloss: 0.0324666\tvalid_1's binary_logloss: 0.0646568\n",
      "[40]\ttraining's binary_logloss: 0.0169734\tvalid_1's binary_logloss: 0.060114\n"
     ]
    },
    {
     "name": "stderr",
     "output_type": "stream",
     "text": [
      "casein_kinase_inhibitor logloss: 0.06104939043285035\n",
      "=========================================================================================\n",
      "len(trt) : 18\n",
      "len(train_index) : 942\n",
      "len(valid_index) : 942\n",
      "================================= 1fold lightgbm =================================\n"
     ]
    },
    {
     "name": "stdout",
     "output_type": "stream",
     "text": [
      "Early stopping, best iteration is:\n",
      "[43]\ttraining's binary_logloss: 0.0155432\tvalid_1's binary_logloss: 0.0598049\n",
      "Training until validation scores don't improve for 10 rounds\n",
      "[20]\ttraining's binary_logloss: 0.0155869\tvalid_1's binary_logloss: 0.0418252\n"
     ]
    },
    {
     "name": "stderr",
     "output_type": "stream",
     "text": [
      "len(train_index) : 942\n",
      "len(valid_index) : 942\n",
      "================================= 2fold lightgbm =================================\n"
     ]
    },
    {
     "name": "stdout",
     "output_type": "stream",
     "text": [
      "Early stopping, best iteration is:\n",
      "[28]\ttraining's binary_logloss: 0.0117486\tvalid_1's binary_logloss: 0.0414687\n",
      "Training until validation scores don't improve for 10 rounds\n",
      "[20]\ttraining's binary_logloss: 0.0146349\tvalid_1's binary_logloss: 0.0417971\n",
      "[40]\ttraining's binary_logloss: 0.00742129\tvalid_1's binary_logloss: 0.0407942\n",
      "Early stopping, best iteration is:\n",
      "[37]\ttraining's binary_logloss: 0.00817303\tvalid_1's binary_logloss: 0.0406181\n"
     ]
    },
    {
     "name": "stderr",
     "output_type": "stream",
     "text": [
      "caspase_activator logloss: 0.04104337324120872\n",
      "=========================================================================================\n",
      "len(trt) : 12\n",
      "len(train_index) : 939\n",
      "len(valid_index) : 939\n",
      "================================= 1fold lightgbm =================================\n"
     ]
    },
    {
     "name": "stdout",
     "output_type": "stream",
     "text": [
      "Training until validation scores don't improve for 10 rounds\n",
      "[20]\ttraining's binary_logloss: 0.0111316\tvalid_1's binary_logloss: 0.030208\n"
     ]
    },
    {
     "name": "stderr",
     "output_type": "stream",
     "text": [
      "len(train_index) : 939\n",
      "len(valid_index) : 939\n",
      "================================= 2fold lightgbm =================================\n"
     ]
    },
    {
     "name": "stdout",
     "output_type": "stream",
     "text": [
      "Early stopping, best iteration is:\n",
      "[19]\ttraining's binary_logloss: 0.0115725\tvalid_1's binary_logloss: 0.0301424\n",
      "Training until validation scores don't improve for 10 rounds\n",
      "[20]\ttraining's binary_logloss: 0.0119798\tvalid_1's binary_logloss: 0.0254375\n",
      "[40]\ttraining's binary_logloss: 0.00617395\tvalid_1's binary_logloss: 0.0230683\n"
     ]
    },
    {
     "name": "stderr",
     "output_type": "stream",
     "text": [
      "catechol_o_methyltransferase_inhibitor logloss: 0.026398231750133044\n",
      "=========================================================================================\n",
      "len(trt) : 102\n",
      "len(train_index) : 984\n",
      "len(valid_index) : 984\n",
      "================================= 1fold lightgbm =================================\n"
     ]
    },
    {
     "name": "stdout",
     "output_type": "stream",
     "text": [
      "Early stopping, best iteration is:\n",
      "[46]\ttraining's binary_logloss: 0.00514136\tvalid_1's binary_logloss: 0.0226541\n",
      "Training until validation scores don't improve for 10 rounds\n",
      "[20]\ttraining's binary_logloss: 0.0814006\tvalid_1's binary_logloss: 0.125367\n",
      "[40]\ttraining's binary_logloss: 0.0443345\tvalid_1's binary_logloss: 0.0994565\n",
      "[60]\ttraining's binary_logloss: 0.0254145\tvalid_1's binary_logloss: 0.0852874\n",
      "[80]\ttraining's binary_logloss: 0.0149637\tvalid_1's binary_logloss: 0.0769372\n",
      "[100]\ttraining's binary_logloss: 0.00895741\tvalid_1's binary_logloss: 0.0714348\n",
      "[120]\ttraining's binary_logloss: 0.0053356\tvalid_1's binary_logloss: 0.0689807\n",
      "[140]\ttraining's binary_logloss: 0.00320253\tvalid_1's binary_logloss: 0.0678497\n"
     ]
    },
    {
     "name": "stderr",
     "output_type": "stream",
     "text": [
      "len(train_index) : 984\n",
      "len(valid_index) : 984\n",
      "================================= 2fold lightgbm =================================\n"
     ]
    },
    {
     "name": "stdout",
     "output_type": "stream",
     "text": [
      "Early stopping, best iteration is:\n",
      "[140]\ttraining's binary_logloss: 0.00320253\tvalid_1's binary_logloss: 0.0678497\n",
      "Training until validation scores don't improve for 10 rounds\n",
      "[20]\ttraining's binary_logloss: 0.0775332\tvalid_1's binary_logloss: 0.127801\n",
      "[40]\ttraining's binary_logloss: 0.0415784\tvalid_1's binary_logloss: 0.103319\n",
      "[60]\ttraining's binary_logloss: 0.0236593\tvalid_1's binary_logloss: 0.0917071\n",
      "[80]\ttraining's binary_logloss: 0.013766\tvalid_1's binary_logloss: 0.0864623\n",
      "[100]\ttraining's binary_logloss: 0.00812557\tvalid_1's binary_logloss: 0.0836686\n"
     ]
    },
    {
     "name": "stderr",
     "output_type": "stream",
     "text": [
      "cc_chemokine_receptor_antagonist logloss: 0.07553326295980906\n",
      "=========================================================================================\n",
      "len(trt) : 18\n",
      "len(train_index) : 942\n",
      "len(valid_index) : 942\n",
      "================================= 1fold lightgbm =================================\n"
     ]
    },
    {
     "name": "stdout",
     "output_type": "stream",
     "text": [
      "Early stopping, best iteration is:\n",
      "[107]\ttraining's binary_logloss: 0.00678132\tvalid_1's binary_logloss: 0.0832168\n",
      "Training until validation scores don't improve for 10 rounds\n",
      "[20]\ttraining's binary_logloss: 0.0165955\tvalid_1's binary_logloss: 0.0344116\n",
      "[40]\ttraining's binary_logloss: 0.00851745\tvalid_1's binary_logloss: 0.031656\n"
     ]
    },
    {
     "name": "stderr",
     "output_type": "stream",
     "text": [
      "len(train_index) : 942\n",
      "len(valid_index) : 942\n",
      "================================= 2fold lightgbm =================================\n"
     ]
    },
    {
     "name": "stdout",
     "output_type": "stream",
     "text": [
      "Early stopping, best iteration is:\n",
      "[37]\ttraining's binary_logloss: 0.00940366\tvalid_1's binary_logloss: 0.0312349\n",
      "Training until validation scores don't improve for 10 rounds\n",
      "[20]\ttraining's binary_logloss: 0.0159456\tvalid_1's binary_logloss: 0.0325138\n",
      "[40]\ttraining's binary_logloss: 0.00819173\tvalid_1's binary_logloss: 0.0280781\n"
     ]
    },
    {
     "name": "stderr",
     "output_type": "stream",
     "text": [
      "cck_receptor_antagonist logloss: 0.029261174314130292\n",
      "=========================================================================================\n"
     ]
    },
    {
     "name": "stdout",
     "output_type": "stream",
     "text": [
      "[60]\ttraining's binary_logloss: 0.00443878\tvalid_1's binary_logloss: 0.0276351\n",
      "Early stopping, best iteration is:\n",
      "[53]\ttraining's binary_logloss: 0.00548477\tvalid_1's binary_logloss: 0.0272875\n"
     ]
    },
    {
     "name": "stderr",
     "output_type": "stream",
     "text": [
      "len(trt) : 340\n",
      "len(train_index) : 1103\n",
      "len(valid_index) : 1103\n",
      "================================= 1fold lightgbm =================================\n"
     ]
    },
    {
     "name": "stdout",
     "output_type": "stream",
     "text": [
      "Training until validation scores don't improve for 10 rounds\n",
      "[20]\ttraining's binary_logloss: 0.177744\tvalid_1's binary_logloss: 0.191458\n",
      "[40]\ttraining's binary_logloss: 0.0935112\tvalid_1's binary_logloss: 0.112834\n",
      "[60]\ttraining's binary_logloss: 0.0509931\tvalid_1's binary_logloss: 0.0733779\n",
      "[80]\ttraining's binary_logloss: 0.0284538\tvalid_1's binary_logloss: 0.0524401\n",
      "[100]\ttraining's binary_logloss: 0.0161072\tvalid_1's binary_logloss: 0.0410189\n",
      "[120]\ttraining's binary_logloss: 0.00917937\tvalid_1's binary_logloss: 0.0345963\n",
      "[140]\ttraining's binary_logloss: 0.00524776\tvalid_1's binary_logloss: 0.0313042\n",
      "[160]\ttraining's binary_logloss: 0.00301226\tvalid_1's binary_logloss: 0.0299763\n",
      "[180]\ttraining's binary_logloss: 0.00172898\tvalid_1's binary_logloss: 0.0289231\n"
     ]
    },
    {
     "name": "stderr",
     "output_type": "stream",
     "text": [
      "len(train_index) : 1103\n",
      "len(valid_index) : 1103\n",
      "================================= 2fold lightgbm =================================\n"
     ]
    },
    {
     "name": "stdout",
     "output_type": "stream",
     "text": [
      "[200]\ttraining's binary_logloss: 0.000990382\tvalid_1's binary_logloss: 0.0285022\n",
      "Early stopping, best iteration is:\n",
      "[192]\ttraining's binary_logloss: 0.00123824\tvalid_1's binary_logloss: 0.0283402\n",
      "Training until validation scores don't improve for 10 rounds\n",
      "[20]\ttraining's binary_logloss: 0.183607\tvalid_1's binary_logloss: 0.188558\n",
      "[40]\ttraining's binary_logloss: 0.0972518\tvalid_1's binary_logloss: 0.105924\n",
      "[60]\ttraining's binary_logloss: 0.053557\tvalid_1's binary_logloss: 0.0648326\n",
      "[80]\ttraining's binary_logloss: 0.0300131\tvalid_1's binary_logloss: 0.0432583\n",
      "[100]\ttraining's binary_logloss: 0.0170487\tvalid_1's binary_logloss: 0.0319319\n",
      "[120]\ttraining's binary_logloss: 0.00975962\tvalid_1's binary_logloss: 0.0252858\n",
      "[140]\ttraining's binary_logloss: 0.0055537\tvalid_1's binary_logloss: 0.0217164\n",
      "[160]\ttraining's binary_logloss: 0.00319107\tvalid_1's binary_logloss: 0.0197154\n",
      "[180]\ttraining's binary_logloss: 0.00182987\tvalid_1's binary_logloss: 0.0186141\n",
      "[200]\ttraining's binary_logloss: 0.00104606\tvalid_1's binary_logloss: 0.0177597\n",
      "[220]\ttraining's binary_logloss: 0.000594371\tvalid_1's binary_logloss: 0.0172355\n",
      "[240]\ttraining's binary_logloss: 0.000337128\tvalid_1's binary_logloss: 0.0169401\n",
      "Early stopping, best iteration is:\n",
      "[234]\ttraining's binary_logloss: 0.000398682\tvalid_1's binary_logloss: 0.0168551\n"
     ]
    },
    {
     "name": "stderr",
     "output_type": "stream",
     "text": [
      "cdk_inhibitor logloss: 0.022597664332111196\n",
      "=========================================================================================\n",
      "len(trt) : 54\n",
      "len(train_index) : 960\n",
      "len(valid_index) : 960\n",
      "================================= 1fold lightgbm =================================\n"
     ]
    },
    {
     "name": "stdout",
     "output_type": "stream",
     "text": [
      "Training until validation scores don't improve for 10 rounds\n",
      "[20]\ttraining's binary_logloss: 0.0485342\tvalid_1's binary_logloss: 0.0918874\n",
      "[40]\ttraining's binary_logloss: 0.0265449\tvalid_1's binary_logloss: 0.0827031\n",
      "[60]\ttraining's binary_logloss: 0.0153199\tvalid_1's binary_logloss: 0.0790113\n"
     ]
    },
    {
     "name": "stderr",
     "output_type": "stream",
     "text": [
      "len(train_index) : 960\n",
      "len(valid_index) : 960\n",
      "================================= 2fold lightgbm =================================\n"
     ]
    },
    {
     "name": "stdout",
     "output_type": "stream",
     "text": [
      "[80]\ttraining's binary_logloss: 0.0090928\tvalid_1's binary_logloss: 0.0789133\n",
      "Early stopping, best iteration is:\n",
      "[73]\ttraining's binary_logloss: 0.0108864\tvalid_1's binary_logloss: 0.0784154\n",
      "Training until validation scores don't improve for 10 rounds\n",
      "[20]\ttraining's binary_logloss: 0.0502901\tvalid_1's binary_logloss: 0.0931056\n",
      "[40]\ttraining's binary_logloss: 0.0276442\tvalid_1's binary_logloss: 0.0811328\n",
      "[60]\ttraining's binary_logloss: 0.015891\tvalid_1's binary_logloss: 0.0754717\n"
     ]
    },
    {
     "name": "stderr",
     "output_type": "stream",
     "text": [
      "chelating_agent logloss: 0.07637108111118264\n",
      "=========================================================================================\n",
      "len(trt) : 24\n",
      "len(train_index) : 945\n",
      "len(valid_index) : 945\n",
      "================================= 1fold lightgbm =================================\n"
     ]
    },
    {
     "name": "stdout",
     "output_type": "stream",
     "text": [
      "Early stopping, best iteration is:\n",
      "[67]\ttraining's binary_logloss: 0.0132006\tvalid_1's binary_logloss: 0.0743267\n",
      "Training until validation scores don't improve for 10 rounds\n",
      "[20]\ttraining's binary_logloss: 0.0174609\tvalid_1's binary_logloss: 0.0273951\n",
      "[40]\ttraining's binary_logloss: 0.00871398\tvalid_1's binary_logloss: 0.020283\n",
      "[60]\ttraining's binary_logloss: 0.00463951\tvalid_1's binary_logloss: 0.0169135\n",
      "[80]\ttraining's binary_logloss: 0.00252756\tvalid_1's binary_logloss: 0.0153389\n",
      "[100]\ttraining's binary_logloss: 0.00139209\tvalid_1's binary_logloss: 0.0146253\n",
      "[120]\ttraining's binary_logloss: 0.000770604\tvalid_1's binary_logloss: 0.014305\n",
      "Early stopping, best iteration is:\n",
      "[119]\ttraining's binary_logloss: 0.000793721\tvalid_1's binary_logloss: 0.0142421\n"
     ]
    },
    {
     "name": "stderr",
     "output_type": "stream",
     "text": [
      "len(train_index) : 945\n",
      "len(valid_index) : 945\n",
      "================================= 2fold lightgbm =================================\n"
     ]
    },
    {
     "name": "stdout",
     "output_type": "stream",
     "text": [
      "Training until validation scores don't improve for 10 rounds\n",
      "[20]\ttraining's binary_logloss: 0.017823\tvalid_1's binary_logloss: 0.0269514\n",
      "[40]\ttraining's binary_logloss: 0.00888639\tvalid_1's binary_logloss: 0.0186899\n",
      "[60]\ttraining's binary_logloss: 0.00473856\tvalid_1's binary_logloss: 0.014535\n",
      "[80]\ttraining's binary_logloss: 0.0025959\tvalid_1's binary_logloss: 0.0121365\n",
      "[100]\ttraining's binary_logloss: 0.00143884\tvalid_1's binary_logloss: 0.0106333\n",
      "[120]\ttraining's binary_logloss: 0.000805032\tvalid_1's binary_logloss: 0.00992188\n",
      "[140]\ttraining's binary_logloss: 0.000451226\tvalid_1's binary_logloss: 0.00933283\n",
      "[160]\ttraining's binary_logloss: 0.00025442\tvalid_1's binary_logloss: 0.00906062\n"
     ]
    },
    {
     "name": "stderr",
     "output_type": "stream",
     "text": [
      "chk_inhibitor logloss: 0.011349716430100656\n",
      "=========================================================================================\n"
     ]
    },
    {
     "name": "stdout",
     "output_type": "stream",
     "text": [
      "[180]\ttraining's binary_logloss: 0.000143413\tvalid_1's binary_logloss: 0.00856847\n",
      "Early stopping, best iteration is:\n",
      "[175]\ttraining's binary_logloss: 0.000165608\tvalid_1's binary_logloss: 0.00845736\n"
     ]
    },
    {
     "name": "stderr",
     "output_type": "stream",
     "text": [
      "len(trt) : 42\n",
      "len(train_index) : 954\n",
      "len(valid_index) : 954\n",
      "================================= 1fold lightgbm =================================\n"
     ]
    },
    {
     "name": "stdout",
     "output_type": "stream",
     "text": [
      "Training until validation scores don't improve for 10 rounds\n",
      "[20]\ttraining's binary_logloss: 0.0382519\tvalid_1's binary_logloss: 0.0783949\n",
      "[40]\ttraining's binary_logloss: 0.0203421\tvalid_1's binary_logloss: 0.0720466\n",
      "[60]\ttraining's binary_logloss: 0.0114717\tvalid_1's binary_logloss: 0.0725051\n",
      "Early stopping, best iteration is:\n",
      "[53]\ttraining's binary_logloss: 0.0140606\tvalid_1's binary_logloss: 0.0714465\n"
     ]
    },
    {
     "name": "stderr",
     "output_type": "stream",
     "text": [
      "len(train_index) : 954\n",
      "len(valid_index) : 954\n",
      "================================= 2fold lightgbm =================================\n"
     ]
    },
    {
     "name": "stdout",
     "output_type": "stream",
     "text": [
      "Training until validation scores don't improve for 10 rounds\n",
      "[20]\ttraining's binary_logloss: 0.0376924\tvalid_1's binary_logloss: 0.0816203\n",
      "[40]\ttraining's binary_logloss: 0.0200914\tvalid_1's binary_logloss: 0.0769237\n"
     ]
    },
    {
     "name": "stderr",
     "output_type": "stream",
     "text": [
      "chloride_channel_blocker logloss: 0.07322076855446683\n",
      "=========================================================================================\n",
      "len(trt) : 48\n",
      "len(train_index) : 957\n",
      "len(valid_index) : 957\n",
      "================================= 1fold lightgbm =================================\n"
     ]
    },
    {
     "name": "stdout",
     "output_type": "stream",
     "text": [
      "[60]\ttraining's binary_logloss: 0.0113389\tvalid_1's binary_logloss: 0.0758099\n",
      "Early stopping, best iteration is:\n",
      "[50]\ttraining's binary_logloss: 0.0150989\tvalid_1's binary_logloss: 0.074995\n",
      "Training until validation scores don't improve for 10 rounds\n",
      "[20]\ttraining's binary_logloss: 0.0421866\tvalid_1's binary_logloss: 0.0848941\n",
      "[40]\ttraining's binary_logloss: 0.0225004\tvalid_1's binary_logloss: 0.0757021\n",
      "[60]\ttraining's binary_logloss: 0.0128139\tvalid_1's binary_logloss: 0.0732588\n",
      "[80]\ttraining's binary_logloss: 0.00743119\tvalid_1's binary_logloss: 0.0729344\n"
     ]
    },
    {
     "name": "stderr",
     "output_type": "stream",
     "text": [
      "len(train_index) : 957\n",
      "len(valid_index) : 957\n",
      "================================= 2fold lightgbm =================================\n"
     ]
    },
    {
     "name": "stdout",
     "output_type": "stream",
     "text": [
      "Early stopping, best iteration is:\n",
      "[86]\ttraining's binary_logloss: 0.00632025\tvalid_1's binary_logloss: 0.0723711\n",
      "Training until validation scores don't improve for 10 rounds\n",
      "[20]\ttraining's binary_logloss: 0.0423599\tvalid_1's binary_logloss: 0.0840089\n",
      "[40]\ttraining's binary_logloss: 0.0226107\tvalid_1's binary_logloss: 0.0758976\n",
      "[60]\ttraining's binary_logloss: 0.0129727\tvalid_1's binary_logloss: 0.072441\n"
     ]
    },
    {
     "name": "stderr",
     "output_type": "stream",
     "text": [
      "cholesterol_inhibitor logloss: 0.07165225041759772\n",
      "=========================================================================================\n",
      "len(trt) : 54\n",
      "len(train_index) : 960\n",
      "len(valid_index) : 960\n",
      "================================= 1fold lightgbm =================================\n"
     ]
    },
    {
     "name": "stdout",
     "output_type": "stream",
     "text": [
      "[80]\ttraining's binary_logloss: 0.00758586\tvalid_1's binary_logloss: 0.0714083\n",
      "Early stopping, best iteration is:\n",
      "[70]\ttraining's binary_logloss: 0.00990991\tvalid_1's binary_logloss: 0.0709334\n",
      "Training until validation scores don't improve for 10 rounds\n",
      "[20]\ttraining's binary_logloss: 0.0478171\tvalid_1's binary_logloss: 0.0972578\n",
      "[40]\ttraining's binary_logloss: 0.0259418\tvalid_1's binary_logloss: 0.0918023\n"
     ]
    },
    {
     "name": "stderr",
     "output_type": "stream",
     "text": [
      "len(train_index) : 960\n",
      "len(valid_index) : 960\n",
      "================================= 2fold lightgbm =================================\n"
     ]
    },
    {
     "name": "stdout",
     "output_type": "stream",
     "text": [
      "[60]\ttraining's binary_logloss: 0.0149475\tvalid_1's binary_logloss: 0.0912122\n",
      "Early stopping, best iteration is:\n",
      "[52]\ttraining's binary_logloss: 0.0186467\tvalid_1's binary_logloss: 0.0905762\n",
      "Training until validation scores don't improve for 10 rounds\n",
      "[20]\ttraining's binary_logloss: 0.0497259\tvalid_1's binary_logloss: 0.0934873\n",
      "[40]\ttraining's binary_logloss: 0.0269065\tvalid_1's binary_logloss: 0.0847522\n",
      "[60]\ttraining's binary_logloss: 0.0154913\tvalid_1's binary_logloss: 0.0814732\n"
     ]
    },
    {
     "name": "stderr",
     "output_type": "stream",
     "text": [
      "cholinergic_receptor_antagonist logloss: 0.08596076830076399\n",
      "=========================================================================================\n",
      "len(trt) : 6\n",
      "len(train_index) : 936\n",
      "len(valid_index) : 936\n",
      "================================= 1fold lightgbm =================================\n"
     ]
    },
    {
     "name": "stdout",
     "output_type": "stream",
     "text": [
      "Early stopping, best iteration is:\n",
      "[63]\ttraining's binary_logloss: 0.0142413\tvalid_1's binary_logloss: 0.0813453\n",
      "Training until validation scores don't improve for 10 rounds\n",
      "[20]\ttraining's binary_logloss: 0.00536939\tvalid_1's binary_logloss: 0.018685\n",
      "[40]\ttraining's binary_logloss: 0.00272299\tvalid_1's binary_logloss: 0.018385\n",
      "Early stopping, best iteration is:\n",
      "[37]\ttraining's binary_logloss: 0.00300117\tvalid_1's binary_logloss: 0.0182165\n"
     ]
    },
    {
     "name": "stderr",
     "output_type": "stream",
     "text": [
      "len(train_index) : 936\n",
      "len(valid_index) : 936\n",
      "================================= 2fold lightgbm =================================\n"
     ]
    },
    {
     "name": "stdout",
     "output_type": "stream",
     "text": [
      "Training until validation scores don't improve for 10 rounds\n",
      "[20]\ttraining's binary_logloss: 0.00540458\tvalid_1's binary_logloss: 0.0144675\n",
      "[40]\ttraining's binary_logloss: 0.0027578\tvalid_1's binary_logloss: 0.0131968\n",
      "[60]\ttraining's binary_logloss: 0.00150097\tvalid_1's binary_logloss: 0.0127733\n"
     ]
    },
    {
     "name": "stderr",
     "output_type": "stream",
     "text": [
      "coagulation_factor_inhibitor logloss: 0.015318063880978406\n",
      "=========================================================================================\n",
      "len(trt) : 36\n",
      "len(train_index) : 951\n",
      "len(valid_index) : 951\n",
      "================================= 1fold lightgbm =================================\n"
     ]
    },
    {
     "name": "stdout",
     "output_type": "stream",
     "text": [
      "[80]\ttraining's binary_logloss: 0.00084184\tvalid_1's binary_logloss: 0.0125417\n",
      "Early stopping, best iteration is:\n",
      "[72]\ttraining's binary_logloss: 0.00105851\tvalid_1's binary_logloss: 0.0124196\n",
      "Training until validation scores don't improve for 10 rounds\n",
      "[20]\ttraining's binary_logloss: 0.0246065\tvalid_1's binary_logloss: 0.0497131\n",
      "[40]\ttraining's binary_logloss: 0.0123312\tvalid_1's binary_logloss: 0.043381\n",
      "[60]\ttraining's binary_logloss: 0.00656929\tvalid_1's binary_logloss: 0.0416574\n"
     ]
    },
    {
     "name": "stderr",
     "output_type": "stream",
     "text": [
      "len(train_index) : 951\n",
      "len(valid_index) : 951\n",
      "================================= 2fold lightgbm =================================\n"
     ]
    },
    {
     "name": "stdout",
     "output_type": "stream",
     "text": [
      "Early stopping, best iteration is:\n",
      "[64]\ttraining's binary_logloss: 0.00581262\tvalid_1's binary_logloss: 0.0416383\n",
      "Training until validation scores don't improve for 10 rounds\n",
      "[20]\ttraining's binary_logloss: 0.028305\tvalid_1's binary_logloss: 0.0425177\n",
      "[40]\ttraining's binary_logloss: 0.0148137\tvalid_1's binary_logloss: 0.031078\n",
      "[60]\ttraining's binary_logloss: 0.00811374\tvalid_1's binary_logloss: 0.0243569\n",
      "[80]\ttraining's binary_logloss: 0.00452509\tvalid_1's binary_logloss: 0.021481\n"
     ]
    },
    {
     "name": "stderr",
     "output_type": "stream",
     "text": [
      "corticosteroid_agonist logloss: 0.03147500644866898\n",
      "=========================================================================================\n",
      "len(trt) : 435\n",
      "len(train_index) : 1150\n",
      "len(valid_index) : 1151\n",
      "================================= 1fold lightgbm =================================\n"
     ]
    },
    {
     "name": "stdout",
     "output_type": "stream",
     "text": [
      "Early stopping, best iteration is:\n",
      "[87]\ttraining's binary_logloss: 0.00369443\tvalid_1's binary_logloss: 0.0213117\n",
      "Training until validation scores don't improve for 10 rounds\n",
      "[20]\ttraining's binary_logloss: 0.229939\tvalid_1's binary_logloss: 0.247218\n",
      "[40]\ttraining's binary_logloss: 0.13\tvalid_1's binary_logloss: 0.157959\n",
      "[60]\ttraining's binary_logloss: 0.0775266\tvalid_1's binary_logloss: 0.111934\n",
      "[80]\ttraining's binary_logloss: 0.0476579\tvalid_1's binary_logloss: 0.0841827\n",
      "[100]\ttraining's binary_logloss: 0.0297602\tvalid_1's binary_logloss: 0.0680455\n",
      "[120]\ttraining's binary_logloss: 0.0187631\tvalid_1's binary_logloss: 0.0585123\n",
      "[140]\ttraining's binary_logloss: 0.0118926\tvalid_1's binary_logloss: 0.0518984\n",
      "[160]\ttraining's binary_logloss: 0.00754953\tvalid_1's binary_logloss: 0.0480856\n",
      "[180]\ttraining's binary_logloss: 0.00483076\tvalid_1's binary_logloss: 0.0447664\n",
      "[200]\ttraining's binary_logloss: 0.00308609\tvalid_1's binary_logloss: 0.0430045\n",
      "[220]\ttraining's binary_logloss: 0.00197799\tvalid_1's binary_logloss: 0.0422528\n",
      "[240]\ttraining's binary_logloss: 0.0012638\tvalid_1's binary_logloss: 0.0418204\n",
      "[260]\ttraining's binary_logloss: 0.000814596\tvalid_1's binary_logloss: 0.0411616\n"
     ]
    },
    {
     "name": "stderr",
     "output_type": "stream",
     "text": [
      "len(train_index) : 1151\n",
      "len(valid_index) : 1150\n",
      "================================= 2fold lightgbm =================================\n"
     ]
    },
    {
     "name": "stdout",
     "output_type": "stream",
     "text": [
      "Early stopping, best iteration is:\n",
      "[260]\ttraining's binary_logloss: 0.000814596\tvalid_1's binary_logloss: 0.0411616\n",
      "Training until validation scores don't improve for 10 rounds\n",
      "[20]\ttraining's binary_logloss: 0.230821\tvalid_1's binary_logloss: 0.266462\n",
      "[40]\ttraining's binary_logloss: 0.129954\tvalid_1's binary_logloss: 0.176731\n",
      "[60]\ttraining's binary_logloss: 0.0764056\tvalid_1's binary_logloss: 0.127592\n",
      "[80]\ttraining's binary_logloss: 0.0464375\tvalid_1's binary_logloss: 0.0968984\n",
      "[100]\ttraining's binary_logloss: 0.0285679\tvalid_1's binary_logloss: 0.0765336\n",
      "[120]\ttraining's binary_logloss: 0.0177945\tvalid_1's binary_logloss: 0.0631698\n",
      "[140]\ttraining's binary_logloss: 0.0111479\tvalid_1's binary_logloss: 0.0557769\n",
      "[160]\ttraining's binary_logloss: 0.0070535\tvalid_1's binary_logloss: 0.0499824\n",
      "[180]\ttraining's binary_logloss: 0.00449576\tvalid_1's binary_logloss: 0.0459674\n",
      "[200]\ttraining's binary_logloss: 0.00286945\tvalid_1's binary_logloss: 0.0418648\n",
      "[220]\ttraining's binary_logloss: 0.00183569\tvalid_1's binary_logloss: 0.0385535\n",
      "[240]\ttraining's binary_logloss: 0.00117833\tvalid_1's binary_logloss: 0.0363641\n",
      "[260]\ttraining's binary_logloss: 0.000758421\tvalid_1's binary_logloss: 0.0349158\n",
      "[280]\ttraining's binary_logloss: 0.00048717\tvalid_1's binary_logloss: 0.033298\n",
      "[300]\ttraining's binary_logloss: 0.000313222\tvalid_1's binary_logloss: 0.0322051\n"
     ]
    },
    {
     "name": "stderr",
     "output_type": "stream",
     "text": [
      "cyclooxygenase_inhibitor logloss: 0.036625017979238166\n",
      "=========================================================================================\n",
      "len(trt) : 104\n",
      "len(train_index) : 985\n",
      "len(valid_index) : 985\n",
      "================================= 1fold lightgbm =================================\n"
     ]
    },
    {
     "name": "stdout",
     "output_type": "stream",
     "text": [
      "Early stopping, best iteration is:\n",
      "[303]\ttraining's binary_logloss: 0.000293035\tvalid_1's binary_logloss: 0.0320845\n",
      "Training until validation scores don't improve for 10 rounds\n",
      "[20]\ttraining's binary_logloss: 0.0807935\tvalid_1's binary_logloss: 0.113523\n",
      "[40]\ttraining's binary_logloss: 0.0437496\tvalid_1's binary_logloss: 0.0817997\n",
      "[60]\ttraining's binary_logloss: 0.0247775\tvalid_1's binary_logloss: 0.0628672\n",
      "[80]\ttraining's binary_logloss: 0.0142634\tvalid_1's binary_logloss: 0.0519916\n",
      "[100]\ttraining's binary_logloss: 0.00836777\tvalid_1's binary_logloss: 0.0444917\n",
      "[120]\ttraining's binary_logloss: 0.00495858\tvalid_1's binary_logloss: 0.0401641\n",
      "[140]\ttraining's binary_logloss: 0.0029363\tvalid_1's binary_logloss: 0.0379906\n",
      "[160]\ttraining's binary_logloss: 0.00175091\tvalid_1's binary_logloss: 0.0361303\n",
      "[180]\ttraining's binary_logloss: 0.00104593\tvalid_1's binary_logloss: 0.0353281\n",
      "[200]\ttraining's binary_logloss: 0.000620591\tvalid_1's binary_logloss: 0.0348735\n",
      "Early stopping, best iteration is:\n",
      "[194]\ttraining's binary_logloss: 0.000725875\tvalid_1's binary_logloss: 0.0345281\n"
     ]
    },
    {
     "name": "stderr",
     "output_type": "stream",
     "text": [
      "len(train_index) : 985\n",
      "len(valid_index) : 985\n",
      "================================= 2fold lightgbm =================================\n"
     ]
    },
    {
     "name": "stdout",
     "output_type": "stream",
     "text": [
      "Training until validation scores don't improve for 10 rounds\n",
      "[20]\ttraining's binary_logloss: 0.0779192\tvalid_1's binary_logloss: 0.108239\n",
      "[40]\ttraining's binary_logloss: 0.0411731\tvalid_1's binary_logloss: 0.0806536\n",
      "[60]\ttraining's binary_logloss: 0.023414\tvalid_1's binary_logloss: 0.069119\n",
      "[80]\ttraining's binary_logloss: 0.0135678\tvalid_1's binary_logloss: 0.0620145\n",
      "[100]\ttraining's binary_logloss: 0.00792009\tvalid_1's binary_logloss: 0.0568121\n",
      "[120]\ttraining's binary_logloss: 0.00464591\tvalid_1's binary_logloss: 0.0538674\n",
      "[140]\ttraining's binary_logloss: 0.00273855\tvalid_1's binary_logloss: 0.0528186\n",
      "[160]\ttraining's binary_logloss: 0.00161857\tvalid_1's binary_logloss: 0.0525143\n",
      "Early stopping, best iteration is:\n",
      "[156]\ttraining's binary_logloss: 0.00179466\tvalid_1's binary_logloss: 0.0523128\n"
     ]
    },
    {
     "name": "stderr",
     "output_type": "stream",
     "text": [
      "cytochrome_p450_inhibitor logloss: 0.04342042527003725\n",
      "=========================================================================================\n",
      "len(trt) : 36\n",
      "len(train_index) : 951\n",
      "len(valid_index) : 951\n",
      "================================= 1fold lightgbm =================================\n"
     ]
    },
    {
     "name": "stdout",
     "output_type": "stream",
     "text": [
      "Training until validation scores don't improve for 10 rounds\n",
      "[20]\ttraining's binary_logloss: 0.0281732\tvalid_1's binary_logloss: 0.0547303\n",
      "[40]\ttraining's binary_logloss: 0.0145818\tvalid_1's binary_logloss: 0.0430888\n",
      "[60]\ttraining's binary_logloss: 0.00799653\tvalid_1's binary_logloss: 0.038071\n",
      "[80]\ttraining's binary_logloss: 0.00448095\tvalid_1's binary_logloss: 0.0368893\n",
      "[100]\ttraining's binary_logloss: 0.00254899\tvalid_1's binary_logloss: 0.0366381\n"
     ]
    },
    {
     "name": "stderr",
     "output_type": "stream",
     "text": [
      "len(train_index) : 951\n",
      "len(valid_index) : 951\n",
      "================================= 2fold lightgbm =================================\n"
     ]
    },
    {
     "name": "stdout",
     "output_type": "stream",
     "text": [
      "Early stopping, best iteration is:\n",
      "[100]\ttraining's binary_logloss: 0.00254899\tvalid_1's binary_logloss: 0.0366381\n",
      "Training until validation scores don't improve for 10 rounds\n",
      "[20]\ttraining's binary_logloss: 0.029588\tvalid_1's binary_logloss: 0.0524371\n",
      "[40]\ttraining's binary_logloss: 0.0153744\tvalid_1's binary_logloss: 0.0411272\n",
      "[60]\ttraining's binary_logloss: 0.00847819\tvalid_1's binary_logloss: 0.0358948\n",
      "[80]\ttraining's binary_logloss: 0.00482045\tvalid_1's binary_logloss: 0.0343982\n",
      "Early stopping, best iteration is:\n",
      "[75]\ttraining's binary_logloss: 0.00554392\tvalid_1's binary_logloss: 0.0342395\n"
     ]
    },
    {
     "name": "stderr",
     "output_type": "stream",
     "text": [
      "dihydrofolate_reductase_inhibitor logloss: 0.03543884343854806\n",
      "=========================================================================================\n",
      "len(trt) : 25\n",
      "len(train_index) : 945\n",
      "len(valid_index) : 946\n",
      "================================= 1fold lightgbm =================================\n"
     ]
    },
    {
     "name": "stdout",
     "output_type": "stream",
     "text": [
      "Training until validation scores don't improve for 10 rounds\n",
      "[20]\ttraining's binary_logloss: 0.022372\tvalid_1's binary_logloss: 0.0427596\n",
      "[40]\ttraining's binary_logloss: 0.0116705\tvalid_1's binary_logloss: 0.0343322\n",
      "[60]\ttraining's binary_logloss: 0.00636091\tvalid_1's binary_logloss: 0.0322246\n"
     ]
    },
    {
     "name": "stderr",
     "output_type": "stream",
     "text": [
      "len(train_index) : 946\n",
      "len(valid_index) : 945\n",
      "================================= 2fold lightgbm =================================\n"
     ]
    },
    {
     "name": "stdout",
     "output_type": "stream",
     "text": [
      "Early stopping, best iteration is:\n",
      "[62]\ttraining's binary_logloss: 0.00600597\tvalid_1's binary_logloss: 0.031905\n",
      "Training until validation scores don't improve for 10 rounds\n",
      "[20]\ttraining's binary_logloss: 0.0220869\tvalid_1's binary_logloss: 0.0472364\n",
      "[40]\ttraining's binary_logloss: 0.0116071\tvalid_1's binary_logloss: 0.0420598\n",
      "[60]\ttraining's binary_logloss: 0.00647344\tvalid_1's binary_logloss: 0.0401445\n",
      "Early stopping, best iteration is:\n",
      "[57]\ttraining's binary_logloss: 0.00705347\tvalid_1's binary_logloss: 0.039924\n"
     ]
    },
    {
     "name": "stderr",
     "output_type": "stream",
     "text": [
      "dipeptidyl_peptidase_inhibitor logloss: 0.035912366086067966\n",
      "=========================================================================================\n",
      "len(trt) : 6\n",
      "len(train_index) : 936\n",
      "len(valid_index) : 936\n",
      "================================= 1fold lightgbm =================================\n"
     ]
    },
    {
     "name": "stdout",
     "output_type": "stream",
     "text": [
      "Training until validation scores don't improve for 10 rounds\n",
      "[20]\ttraining's binary_logloss: 0.00564754\tvalid_1's binary_logloss: 0.0111691\n",
      "[40]\ttraining's binary_logloss: 0.00296019\tvalid_1's binary_logloss: 0.00898369\n",
      "[60]\ttraining's binary_logloss: 0.00165458\tvalid_1's binary_logloss: 0.00819882\n",
      "[80]\ttraining's binary_logloss: 0.00095842\tvalid_1's binary_logloss: 0.00760785\n",
      "[100]\ttraining's binary_logloss: 0.000562074\tvalid_1's binary_logloss: 0.00732968\n",
      "[120]\ttraining's binary_logloss: 0.000334151\tvalid_1's binary_logloss: 0.00704586\n"
     ]
    },
    {
     "name": "stderr",
     "output_type": "stream",
     "text": [
      "len(train_index) : 936\n",
      "len(valid_index) : 936\n"
     ]
    },
    {
     "name": "stdout",
     "output_type": "stream",
     "text": [
      "[140]\ttraining's binary_logloss: 0.000198634\tvalid_1's binary_logloss: 0.00712535\n",
      "Early stopping, best iteration is:\n",
      "[135]\ttraining's binary_logloss: 0.000227168\tvalid_1's binary_logloss: 0.00700266\n"
     ]
    },
    {
     "name": "stderr",
     "output_type": "stream",
     "text": [
      "================================= 2fold lightgbm =================================\n"
     ]
    },
    {
     "name": "stdout",
     "output_type": "stream",
     "text": [
      "Training until validation scores don't improve for 10 rounds\n",
      "[20]\ttraining's binary_logloss: 0.00542712\tvalid_1's binary_logloss: 0.016211\n",
      "[40]\ttraining's binary_logloss: 0.00276182\tvalid_1's binary_logloss: 0.0149167\n"
     ]
    },
    {
     "name": "stderr",
     "output_type": "stream",
     "text": [
      "diuretic logloss: 0.010790746066341518\n",
      "=========================================================================================\n",
      "len(trt) : 48\n",
      "len(train_index) : 957\n",
      "len(valid_index) : 957\n",
      "================================= 1fold lightgbm =================================\n"
     ]
    },
    {
     "name": "stdout",
     "output_type": "stream",
     "text": [
      "[60]\ttraining's binary_logloss: 0.00152338\tvalid_1's binary_logloss: 0.0146675\n",
      "Early stopping, best iteration is:\n",
      "[51]\ttraining's binary_logloss: 0.0019807\tvalid_1's binary_logloss: 0.0145788\n",
      "Training until validation scores don't improve for 10 rounds\n",
      "[20]\ttraining's binary_logloss: 0.0419491\tvalid_1's binary_logloss: 0.0804909\n",
      "[40]\ttraining's binary_logloss: 0.0221555\tvalid_1's binary_logloss: 0.0705535\n"
     ]
    },
    {
     "name": "stderr",
     "output_type": "stream",
     "text": [
      "len(train_index) : 957\n",
      "len(valid_index) : 957\n",
      "================================= 2fold lightgbm =================================\n"
     ]
    },
    {
     "name": "stdout",
     "output_type": "stream",
     "text": [
      "[60]\ttraining's binary_logloss: 0.0125787\tvalid_1's binary_logloss: 0.0705655\n",
      "Early stopping, best iteration is:\n",
      "[51]\ttraining's binary_logloss: 0.0161307\tvalid_1's binary_logloss: 0.070313\n",
      "Training until validation scores don't improve for 10 rounds\n",
      "[20]\ttraining's binary_logloss: 0.0431975\tvalid_1's binary_logloss: 0.0760196\n",
      "[40]\ttraining's binary_logloss: 0.0232023\tvalid_1's binary_logloss: 0.0650057\n",
      "[60]\ttraining's binary_logloss: 0.0132454\tvalid_1's binary_logloss: 0.059756\n"
     ]
    },
    {
     "name": "stderr",
     "output_type": "stream",
     "text": [
      "dna_alkylating_agent logloss: 0.06410571720995643\n",
      "=========================================================================================\n",
      "len(trt) : 402\n"
     ]
    },
    {
     "name": "stdout",
     "output_type": "stream",
     "text": [
      "[80]\ttraining's binary_logloss: 0.00775069\tvalid_1's binary_logloss: 0.0582824\n",
      "Early stopping, best iteration is:\n",
      "[73]\ttraining's binary_logloss: 0.00934625\tvalid_1's binary_logloss: 0.0578984\n"
     ]
    },
    {
     "name": "stderr",
     "output_type": "stream",
     "text": [
      "len(train_index) : 1134\n",
      "len(valid_index) : 1134\n",
      "================================= 1fold lightgbm =================================\n"
     ]
    },
    {
     "name": "stdout",
     "output_type": "stream",
     "text": [
      "Training until validation scores don't improve for 10 rounds\n",
      "[20]\ttraining's binary_logloss: 0.209986\tvalid_1's binary_logloss: 0.2359\n",
      "[40]\ttraining's binary_logloss: 0.11578\tvalid_1's binary_logloss: 0.149825\n",
      "[60]\ttraining's binary_logloss: 0.0667395\tvalid_1's binary_logloss: 0.10101\n",
      "[80]\ttraining's binary_logloss: 0.0394452\tvalid_1's binary_logloss: 0.0739629\n",
      "[100]\ttraining's binary_logloss: 0.023786\tvalid_1's binary_logloss: 0.0579769\n",
      "[120]\ttraining's binary_logloss: 0.0144977\tvalid_1's binary_logloss: 0.0479312\n",
      "[140]\ttraining's binary_logloss: 0.00887801\tvalid_1's binary_logloss: 0.0409939\n",
      "[160]\ttraining's binary_logloss: 0.0054669\tvalid_1's binary_logloss: 0.0362949\n",
      "[180]\ttraining's binary_logloss: 0.00336323\tvalid_1's binary_logloss: 0.0328882\n",
      "[200]\ttraining's binary_logloss: 0.00207147\tvalid_1's binary_logloss: 0.0297041\n",
      "[220]\ttraining's binary_logloss: 0.00128106\tvalid_1's binary_logloss: 0.0275381\n",
      "[240]\ttraining's binary_logloss: 0.000793963\tvalid_1's binary_logloss: 0.0249404\n",
      "[260]\ttraining's binary_logloss: 0.000491194\tvalid_1's binary_logloss: 0.023483\n",
      "[280]\ttraining's binary_logloss: 0.000305039\tvalid_1's binary_logloss: 0.0222427\n"
     ]
    },
    {
     "name": "stderr",
     "output_type": "stream",
     "text": [
      "len(train_index) : 1134\n",
      "len(valid_index) : 1134\n",
      "================================= 2fold lightgbm =================================\n"
     ]
    },
    {
     "name": "stdout",
     "output_type": "stream",
     "text": [
      "Early stopping, best iteration is:\n",
      "[281]\ttraining's binary_logloss: 0.000297603\tvalid_1's binary_logloss: 0.0220203\n",
      "Training until validation scores don't improve for 10 rounds\n",
      "[20]\ttraining's binary_logloss: 0.205758\tvalid_1's binary_logloss: 0.227336\n",
      "[40]\ttraining's binary_logloss: 0.11209\tvalid_1's binary_logloss: 0.143169\n",
      "[60]\ttraining's binary_logloss: 0.0641909\tvalid_1's binary_logloss: 0.0995073\n",
      "[80]\ttraining's binary_logloss: 0.0375679\tvalid_1's binary_logloss: 0.0745912\n",
      "[100]\ttraining's binary_logloss: 0.0223946\tvalid_1's binary_logloss: 0.0586901\n",
      "[120]\ttraining's binary_logloss: 0.0134993\tvalid_1's binary_logloss: 0.0490748\n",
      "[140]\ttraining's binary_logloss: 0.0081426\tvalid_1's binary_logloss: 0.0437929\n",
      "[160]\ttraining's binary_logloss: 0.00494933\tvalid_1's binary_logloss: 0.0406819\n",
      "[180]\ttraining's binary_logloss: 0.00301272\tvalid_1's binary_logloss: 0.0391131\n",
      "[200]\ttraining's binary_logloss: 0.00184077\tvalid_1's binary_logloss: 0.0378582\n",
      "[220]\ttraining's binary_logloss: 0.00113471\tvalid_1's binary_logloss: 0.0373447\n",
      "[240]\ttraining's binary_logloss: 0.000697728\tvalid_1's binary_logloss: 0.0366655\n"
     ]
    },
    {
     "name": "stderr",
     "output_type": "stream",
     "text": [
      "dna_inhibitor logloss: 0.028969024725358596\n",
      "=========================================================================================\n"
     ]
    },
    {
     "name": "stdout",
     "output_type": "stream",
     "text": [
      "[260]\ttraining's binary_logloss: 0.000426982\tvalid_1's binary_logloss: 0.0360777\n",
      "Early stopping, best iteration is:\n",
      "[252]\ttraining's binary_logloss: 0.000520364\tvalid_1's binary_logloss: 0.0359178\n"
     ]
    },
    {
     "name": "stderr",
     "output_type": "stream",
     "text": [
      "len(trt) : 121\n",
      "len(train_index) : 993\n",
      "len(valid_index) : 994\n",
      "================================= 1fold lightgbm =================================\n"
     ]
    },
    {
     "name": "stdout",
     "output_type": "stream",
     "text": [
      "Training until validation scores don't improve for 10 rounds\n",
      "[20]\ttraining's binary_logloss: 0.0855001\tvalid_1's binary_logloss: 0.13305\n",
      "[40]\ttraining's binary_logloss: 0.0454351\tvalid_1's binary_logloss: 0.105822\n",
      "[60]\ttraining's binary_logloss: 0.025162\tvalid_1's binary_logloss: 0.0910014\n",
      "[80]\ttraining's binary_logloss: 0.0143822\tvalid_1's binary_logloss: 0.0838999\n",
      "[100]\ttraining's binary_logloss: 0.0083302\tvalid_1's binary_logloss: 0.0807304\n",
      "[120]\ttraining's binary_logloss: 0.00485621\tvalid_1's binary_logloss: 0.0800158\n"
     ]
    },
    {
     "name": "stderr",
     "output_type": "stream",
     "text": [
      "len(train_index) : 994\n",
      "len(valid_index) : 993\n",
      "================================= 2fold lightgbm =================================\n"
     ]
    },
    {
     "name": "stdout",
     "output_type": "stream",
     "text": [
      "Early stopping, best iteration is:\n",
      "[127]\ttraining's binary_logloss: 0.0040174\tvalid_1's binary_logloss: 0.0794972\n",
      "Training until validation scores don't improve for 10 rounds\n",
      "[20]\ttraining's binary_logloss: 0.0898565\tvalid_1's binary_logloss: 0.128275\n",
      "[40]\ttraining's binary_logloss: 0.0487754\tvalid_1's binary_logloss: 0.0962587\n",
      "[60]\ttraining's binary_logloss: 0.0278605\tvalid_1's binary_logloss: 0.0798472\n",
      "[80]\ttraining's binary_logloss: 0.0158197\tvalid_1's binary_logloss: 0.0683274\n",
      "[100]\ttraining's binary_logloss: 0.00913578\tvalid_1's binary_logloss: 0.0622107\n",
      "[120]\ttraining's binary_logloss: 0.00531166\tvalid_1's binary_logloss: 0.0585004\n",
      "[140]\ttraining's binary_logloss: 0.00312565\tvalid_1's binary_logloss: 0.0558398\n",
      "[160]\ttraining's binary_logloss: 0.00184839\tvalid_1's binary_logloss: 0.0547123\n"
     ]
    },
    {
     "name": "stderr",
     "output_type": "stream",
     "text": [
      "dopamine_receptor_agonist logloss: 0.06688105832196892\n",
      "=========================================================================================\n",
      "len(trt) : 424\n",
      "len(train_index) : 1145\n",
      "len(valid_index) : 1145\n",
      "================================= 1fold lightgbm =================================\n"
     ]
    },
    {
     "name": "stdout",
     "output_type": "stream",
     "text": [
      "[180]\ttraining's binary_logloss: 0.00110106\tvalid_1's binary_logloss: 0.0546406\n",
      "Early stopping, best iteration is:\n",
      "[171]\ttraining's binary_logloss: 0.00138813\tvalid_1's binary_logloss: 0.0542523\n",
      "Training until validation scores don't improve for 10 rounds\n",
      "[20]\ttraining's binary_logloss: 0.221842\tvalid_1's binary_logloss: 0.245454\n",
      "[40]\ttraining's binary_logloss: 0.123861\tvalid_1's binary_logloss: 0.155204\n",
      "[60]\ttraining's binary_logloss: 0.073105\tvalid_1's binary_logloss: 0.106159\n",
      "[80]\ttraining's binary_logloss: 0.0440765\tvalid_1's binary_logloss: 0.0773322\n",
      "[100]\ttraining's binary_logloss: 0.0271458\tvalid_1's binary_logloss: 0.0604319\n",
      "[120]\ttraining's binary_logloss: 0.0168191\tvalid_1's binary_logloss: 0.048569\n",
      "[140]\ttraining's binary_logloss: 0.0104843\tvalid_1's binary_logloss: 0.040668\n",
      "[160]\ttraining's binary_logloss: 0.00657124\tvalid_1's binary_logloss: 0.0350399\n",
      "[180]\ttraining's binary_logloss: 0.00414064\tvalid_1's binary_logloss: 0.0315699\n",
      "[200]\ttraining's binary_logloss: 0.00261381\tvalid_1's binary_logloss: 0.0293153\n",
      "[220]\ttraining's binary_logloss: 0.00165936\tvalid_1's binary_logloss: 0.0271093\n",
      "[240]\ttraining's binary_logloss: 0.0010593\tvalid_1's binary_logloss: 0.025604\n",
      "[260]\ttraining's binary_logloss: 0.000671273\tvalid_1's binary_logloss: 0.0248434\n",
      "[280]\ttraining's binary_logloss: 0.000422337\tvalid_1's binary_logloss: 0.0240874\n",
      "[300]\ttraining's binary_logloss: 0.000269014\tvalid_1's binary_logloss: 0.0236829\n",
      "[320]\ttraining's binary_logloss: 0.000169949\tvalid_1's binary_logloss: 0.0234443\n",
      "Early stopping, best iteration is:\n",
      "[317]\ttraining's binary_logloss: 0.00018196\tvalid_1's binary_logloss: 0.0233944\n"
     ]
    },
    {
     "name": "stderr",
     "output_type": "stream",
     "text": [
      "len(train_index) : 1145\n",
      "len(valid_index) : 1145\n",
      "================================= 2fold lightgbm =================================\n"
     ]
    },
    {
     "name": "stdout",
     "output_type": "stream",
     "text": [
      "Training until validation scores don't improve for 10 rounds\n",
      "[20]\ttraining's binary_logloss: 0.219729\tvalid_1's binary_logloss: 0.248124\n",
      "[40]\ttraining's binary_logloss: 0.122886\tvalid_1's binary_logloss: 0.159509\n",
      "[60]\ttraining's binary_logloss: 0.0723661\tvalid_1's binary_logloss: 0.111662\n",
      "[80]\ttraining's binary_logloss: 0.0440407\tvalid_1's binary_logloss: 0.0833484\n",
      "[100]\ttraining's binary_logloss: 0.0270113\tvalid_1's binary_logloss: 0.0650762\n",
      "[120]\ttraining's binary_logloss: 0.0167393\tvalid_1's binary_logloss: 0.0529801\n",
      "[140]\ttraining's binary_logloss: 0.0103797\tvalid_1's binary_logloss: 0.0454673\n",
      "[160]\ttraining's binary_logloss: 0.00651455\tvalid_1's binary_logloss: 0.0404113\n",
      "[180]\ttraining's binary_logloss: 0.00412504\tvalid_1's binary_logloss: 0.037406\n",
      "[200]\ttraining's binary_logloss: 0.00261042\tvalid_1's binary_logloss: 0.0350714\n",
      "[220]\ttraining's binary_logloss: 0.00165876\tvalid_1's binary_logloss: 0.0327954\n",
      "[240]\ttraining's binary_logloss: 0.00105072\tvalid_1's binary_logloss: 0.032186\n",
      "[260]\ttraining's binary_logloss: 0.000660868\tvalid_1's binary_logloss: 0.0314431\n",
      "[280]\ttraining's binary_logloss: 0.000415501\tvalid_1's binary_logloss: 0.030741\n"
     ]
    },
    {
     "name": "stderr",
     "output_type": "stream",
     "text": [
      "dopamine_receptor_antagonist logloss: 0.026802630179098147\n",
      "=========================================================================================\n",
      "len(trt) : 336\n",
      "len(train_index) : 1101\n"
     ]
    },
    {
     "name": "stdout",
     "output_type": "stream",
     "text": [
      "[300]\ttraining's binary_logloss: 0.000261271\tvalid_1's binary_logloss: 0.0306504\n",
      "Early stopping, best iteration is:\n",
      "[291]\ttraining's binary_logloss: 0.000323566\tvalid_1's binary_logloss: 0.0302108\n"
     ]
    },
    {
     "name": "stderr",
     "output_type": "stream",
     "text": [
      "len(valid_index) : 1101\n",
      "================================= 1fold lightgbm =================================\n"
     ]
    },
    {
     "name": "stdout",
     "output_type": "stream",
     "text": [
      "Training until validation scores don't improve for 10 rounds\n",
      "[20]\ttraining's binary_logloss: 0.17984\tvalid_1's binary_logloss: 0.19187\n",
      "[40]\ttraining's binary_logloss: 0.0928345\tvalid_1's binary_logloss: 0.108185\n",
      "[60]\ttraining's binary_logloss: 0.0507447\tvalid_1's binary_logloss: 0.0677247\n",
      "[80]\ttraining's binary_logloss: 0.028632\tvalid_1's binary_logloss: 0.0460342\n",
      "[100]\ttraining's binary_logloss: 0.0164441\tvalid_1's binary_logloss: 0.0341409\n",
      "[120]\ttraining's binary_logloss: 0.00939079\tvalid_1's binary_logloss: 0.0272273\n",
      "[140]\ttraining's binary_logloss: 0.00538172\tvalid_1's binary_logloss: 0.0230354\n",
      "[160]\ttraining's binary_logloss: 0.00308878\tvalid_1's binary_logloss: 0.0208094\n",
      "[180]\ttraining's binary_logloss: 0.00178441\tvalid_1's binary_logloss: 0.0192652\n",
      "[200]\ttraining's binary_logloss: 0.00102252\tvalid_1's binary_logloss: 0.0176993\n",
      "[220]\ttraining's binary_logloss: 0.00058766\tvalid_1's binary_logloss: 0.0166212\n",
      "[240]\ttraining's binary_logloss: 0.000338463\tvalid_1's binary_logloss: 0.0159545\n",
      "[260]\ttraining's binary_logloss: 0.000195355\tvalid_1's binary_logloss: 0.0154691\n",
      "[280]\ttraining's binary_logloss: 0.000112269\tvalid_1's binary_logloss: 0.015115\n",
      "Early stopping, best iteration is:\n",
      "[274]\ttraining's binary_logloss: 0.000132268\tvalid_1's binary_logloss: 0.0150452\n"
     ]
    },
    {
     "name": "stderr",
     "output_type": "stream",
     "text": [
      "len(train_index) : 1101\n",
      "len(valid_index) : 1101\n",
      "================================= 2fold lightgbm =================================\n"
     ]
    },
    {
     "name": "stdout",
     "output_type": "stream",
     "text": [
      "Training until validation scores don't improve for 10 rounds\n",
      "[20]\ttraining's binary_logloss: 0.177609\tvalid_1's binary_logloss: 0.186542\n",
      "[40]\ttraining's binary_logloss: 0.0934487\tvalid_1's binary_logloss: 0.105044\n",
      "[60]\ttraining's binary_logloss: 0.0517773\tvalid_1's binary_logloss: 0.0659808\n",
      "[80]\ttraining's binary_logloss: 0.0292629\tvalid_1's binary_logloss: 0.0443385\n",
      "[100]\ttraining's binary_logloss: 0.0165414\tvalid_1's binary_logloss: 0.0321884\n",
      "[120]\ttraining's binary_logloss: 0.00934378\tvalid_1's binary_logloss: 0.0243979\n",
      "[140]\ttraining's binary_logloss: 0.00534683\tvalid_1's binary_logloss: 0.0200891\n",
      "[160]\ttraining's binary_logloss: 0.00307758\tvalid_1's binary_logloss: 0.0174876\n",
      "[180]\ttraining's binary_logloss: 0.00177481\tvalid_1's binary_logloss: 0.0160507\n",
      "[200]\ttraining's binary_logloss: 0.00102535\tvalid_1's binary_logloss: 0.0147658\n",
      "[220]\ttraining's binary_logloss: 0.000592939\tvalid_1's binary_logloss: 0.0141872\n",
      "[240]\ttraining's binary_logloss: 0.000345607\tvalid_1's binary_logloss: 0.0136934\n",
      "[260]\ttraining's binary_logloss: 0.000200255\tvalid_1's binary_logloss: 0.0133495\n"
     ]
    },
    {
     "name": "stderr",
     "output_type": "stream",
     "text": [
      "egfr_inhibitor logloss: 0.014113415862593185\n",
      "=========================================================================================\n",
      "len(trt) : 6\n",
      "len(train_index) : 936\n",
      "len(valid_index) : 936\n",
      "================================= 1fold lightgbm =================================\n"
     ]
    },
    {
     "name": "stdout",
     "output_type": "stream",
     "text": [
      "Early stopping, best iteration is:\n",
      "[263]\ttraining's binary_logloss: 0.000184641\tvalid_1's binary_logloss: 0.0131817\n",
      "Training until validation scores don't improve for 10 rounds\n",
      "[20]\ttraining's binary_logloss: 0.00557272\tvalid_1's binary_logloss: 0.0151631\n",
      "[40]\ttraining's binary_logloss: 0.0029115\tvalid_1's binary_logloss: 0.014162\n",
      "[60]\ttraining's binary_logloss: 0.00164011\tvalid_1's binary_logloss: 0.0137421\n"
     ]
    },
    {
     "name": "stderr",
     "output_type": "stream",
     "text": [
      "len(train_index) : 936\n",
      "len(valid_index) : 936\n",
      "================================= 2fold lightgbm =================================\n"
     ]
    },
    {
     "name": "stdout",
     "output_type": "stream",
     "text": [
      "[80]\ttraining's binary_logloss: 0.00094829\tvalid_1's binary_logloss: 0.0136843\n",
      "Early stopping, best iteration is:\n",
      "[70]\ttraining's binary_logloss: 0.001242\tvalid_1's binary_logloss: 0.0135742\n",
      "Training until validation scores don't improve for 10 rounds\n",
      "[20]\ttraining's binary_logloss: 0.00514051\tvalid_1's binary_logloss: 0.0165605\n",
      "[40]\ttraining's binary_logloss: 0.00264443\tvalid_1's binary_logloss: 0.0158582\n",
      "Early stopping, best iteration is:\n",
      "[41]\ttraining's binary_logloss: 0.00256931\tvalid_1's binary_logloss: 0.0158515\n"
     ]
    },
    {
     "name": "stderr",
     "output_type": "stream",
     "text": [
      "elastase_inhibitor logloss: 0.01471284091327119\n",
      "=========================================================================================\n",
      "len(trt) : 1\n",
      "len(train_index) : 933\n",
      "len(valid_index) : 934\n",
      "================================= 1fold lightgbm =================================\n",
      "len(train_index) : 934\n",
      "len(valid_index) : 933\n",
      "================================= 2fold lightgbm =================================\n"
     ]
    },
    {
     "name": "stdout",
     "output_type": "stream",
     "text": [
      "Training until validation scores don't improve for 10 rounds\n",
      "Early stopping, best iteration is:\n",
      "[1]\ttraining's binary_logloss: 0\tvalid_1's binary_logloss: 0.0369794\n",
      "Training until validation scores don't improve for 10 rounds\n",
      "[20]\ttraining's binary_logloss: 0.00180286\tvalid_1's binary_logloss: 0.000874043\n",
      "[40]\ttraining's binary_logloss: 0.000911186\tvalid_1's binary_logloss: 0.000514305\n",
      "[60]\ttraining's binary_logloss: 0.000495729\tvalid_1's binary_logloss: 0.000298565\n",
      "[80]\ttraining's binary_logloss: 0.000276544\tvalid_1's binary_logloss: 0.000173025\n",
      "[100]\ttraining's binary_logloss: 0.000156025\tvalid_1's binary_logloss: 0.000100126\n",
      "[120]\ttraining's binary_logloss: 8.85325e-05\tvalid_1's binary_logloss: 5.78043e-05\n",
      "[140]\ttraining's binary_logloss: 5.0408e-05\tvalid_1's binary_logloss: 3.33605e-05\n",
      "[160]\ttraining's binary_logloss: 2.87541e-05\tvalid_1's binary_logloss: 1.9268e-05\n",
      "[180]\ttraining's binary_logloss: 1.64227e-05\tvalid_1's binary_logloss: 1.10828e-05\n",
      "[200]\ttraining's binary_logloss: 9.38679e-06\tvalid_1's binary_logloss: 6.41139e-06\n",
      "[220]\ttraining's binary_logloss: 5.36839e-06\tvalid_1's binary_logloss: 3.69782e-06\n",
      "[240]\ttraining's binary_logloss: 3.07134e-06\tvalid_1's binary_logloss: 2.13099e-06\n",
      "[260]\ttraining's binary_logloss: 2.13685e-06\tvalid_1's binary_logloss: 1.48954e-06\n",
      "Early stopping, best iteration is:\n",
      "[253]\ttraining's binary_logloss: 2.13685e-06\tvalid_1's binary_logloss: 1.48954e-06\n"
     ]
    },
    {
     "name": "stderr",
     "output_type": "stream",
     "text": [
      "erbb2_inhibitor logloss: 0.018500356793871908\n",
      "=========================================================================================\n",
      "len(trt) : 158\n",
      "len(train_index) : 1012\n",
      "len(valid_index) : 1012\n",
      "================================= 1fold lightgbm =================================\n"
     ]
    },
    {
     "name": "stdout",
     "output_type": "stream",
     "text": [
      "Training until validation scores don't improve for 10 rounds\n",
      "[20]\ttraining's binary_logloss: 0.116228\tvalid_1's binary_logloss: 0.149484\n",
      "[40]\ttraining's binary_logloss: 0.0641783\tvalid_1's binary_logloss: 0.104857\n",
      "[60]\ttraining's binary_logloss: 0.0368929\tvalid_1's binary_logloss: 0.0802687\n",
      "[80]\ttraining's binary_logloss: 0.0214392\tvalid_1's binary_logloss: 0.0675746\n",
      "[100]\ttraining's binary_logloss: 0.01268\tvalid_1's binary_logloss: 0.0584816\n",
      "[120]\ttraining's binary_logloss: 0.0076099\tvalid_1's binary_logloss: 0.0527632\n",
      "[140]\ttraining's binary_logloss: 0.0045902\tvalid_1's binary_logloss: 0.0497228\n",
      "[160]\ttraining's binary_logloss: 0.00276617\tvalid_1's binary_logloss: 0.0474798\n",
      "[180]\ttraining's binary_logloss: 0.00166555\tvalid_1's binary_logloss: 0.0465257\n"
     ]
    },
    {
     "name": "stderr",
     "output_type": "stream",
     "text": [
      "len(train_index) : 1012\n",
      "len(valid_index) : 1012\n",
      "================================= 2fold lightgbm =================================\n"
     ]
    },
    {
     "name": "stdout",
     "output_type": "stream",
     "text": [
      "Early stopping, best iteration is:\n",
      "[187]\ttraining's binary_logloss: 0.00139731\tvalid_1's binary_logloss: 0.0461649\n",
      "Training until validation scores don't improve for 10 rounds\n",
      "[20]\ttraining's binary_logloss: 0.113311\tvalid_1's binary_logloss: 0.163352\n",
      "[40]\ttraining's binary_logloss: 0.0610878\tvalid_1's binary_logloss: 0.124737\n",
      "[60]\ttraining's binary_logloss: 0.0347274\tvalid_1's binary_logloss: 0.105706\n",
      "[80]\ttraining's binary_logloss: 0.02027\tvalid_1's binary_logloss: 0.0945223\n",
      "[100]\ttraining's binary_logloss: 0.0119947\tvalid_1's binary_logloss: 0.0881785\n",
      "[120]\ttraining's binary_logloss: 0.00705463\tvalid_1's binary_logloss: 0.0869238\n",
      "[140]\ttraining's binary_logloss: 0.00416789\tvalid_1's binary_logloss: 0.0858922\n",
      "Early stopping, best iteration is:\n",
      "[137]\ttraining's binary_logloss: 0.00451378\tvalid_1's binary_logloss: 0.0855271\n"
     ]
    },
    {
     "name": "stderr",
     "output_type": "stream",
     "text": [
      "estrogen_receptor_agonist logloss: 0.06584599820400681\n",
      "=========================================================================================\n",
      "len(trt) : 48\n",
      "len(train_index) : 957\n",
      "len(valid_index) : 957\n",
      "================================= 1fold lightgbm =================================\n"
     ]
    },
    {
     "name": "stdout",
     "output_type": "stream",
     "text": [
      "Training until validation scores don't improve for 10 rounds\n",
      "[20]\ttraining's binary_logloss: 0.0413484\tvalid_1's binary_logloss: 0.0724979\n",
      "[40]\ttraining's binary_logloss: 0.022418\tvalid_1's binary_logloss: 0.0632818\n",
      "[60]\ttraining's binary_logloss: 0.0126026\tvalid_1's binary_logloss: 0.058924\n"
     ]
    },
    {
     "name": "stderr",
     "output_type": "stream",
     "text": [
      "len(train_index) : 957\n",
      "len(valid_index) : 957\n",
      "================================= 2fold lightgbm =================================\n"
     ]
    },
    {
     "name": "stdout",
     "output_type": "stream",
     "text": [
      "[80]\ttraining's binary_logloss: 0.0072617\tvalid_1's binary_logloss: 0.0586223\n",
      "Early stopping, best iteration is:\n",
      "[71]\ttraining's binary_logloss: 0.00928031\tvalid_1's binary_logloss: 0.0582477\n",
      "Training until validation scores don't improve for 10 rounds\n",
      "[20]\ttraining's binary_logloss: 0.0396672\tvalid_1's binary_logloss: 0.0729563\n",
      "[40]\ttraining's binary_logloss: 0.0207944\tvalid_1's binary_logloss: 0.0610822\n",
      "[60]\ttraining's binary_logloss: 0.0115504\tvalid_1's binary_logloss: 0.0578389\n",
      "[80]\ttraining's binary_logloss: 0.00656788\tvalid_1's binary_logloss: 0.0564682\n"
     ]
    },
    {
     "name": "stderr",
     "output_type": "stream",
     "text": [
      "estrogen_receptor_antagonist logloss: 0.05721403264722716\n",
      "=========================================================================================\n"
     ]
    },
    {
     "name": "stdout",
     "output_type": "stream",
     "text": [
      "[100]\ttraining's binary_logloss: 0.00381557\tvalid_1's binary_logloss: 0.0565255\n",
      "Early stopping, best iteration is:\n",
      "[93]\ttraining's binary_logloss: 0.00460856\tvalid_1's binary_logloss: 0.0561804\n"
     ]
    },
    {
     "name": "stderr",
     "output_type": "stream",
     "text": [
      "len(trt) : 36\n",
      "len(train_index) : 951\n",
      "len(valid_index) : 951\n",
      "================================= 1fold lightgbm =================================\n"
     ]
    },
    {
     "name": "stdout",
     "output_type": "stream",
     "text": [
      "Training until validation scores don't improve for 10 rounds\n",
      "[20]\ttraining's binary_logloss: 0.0321141\tvalid_1's binary_logloss: 0.0796642\n",
      "[40]\ttraining's binary_logloss: 0.0169135\tvalid_1's binary_logloss: 0.0750602\n"
     ]
    },
    {
     "name": "stderr",
     "output_type": "stream",
     "text": [
      "len(train_index) : 951\n",
      "len(valid_index) : 951\n",
      "================================= 2fold lightgbm =================================\n"
     ]
    },
    {
     "name": "stdout",
     "output_type": "stream",
     "text": [
      "[60]\ttraining's binary_logloss: 0.00942641\tvalid_1's binary_logloss: 0.0746499\n",
      "Early stopping, best iteration is:\n",
      "[50]\ttraining's binary_logloss: 0.0125783\tvalid_1's binary_logloss: 0.0744143\n",
      "Training until validation scores don't improve for 10 rounds\n",
      "[20]\ttraining's binary_logloss: 0.0357036\tvalid_1's binary_logloss: 0.0625744\n",
      "[40]\ttraining's binary_logloss: 0.0196673\tvalid_1's binary_logloss: 0.0546079\n"
     ]
    },
    {
     "name": "stderr",
     "output_type": "stream",
     "text": [
      "faah_inhibitor logloss: 0.06432179470439825\n",
      "=========================================================================================\n",
      "len(trt) : 18\n",
      "len(train_index) : 942\n",
      "len(valid_index) : 942\n",
      "================================= 1fold lightgbm =================================\n"
     ]
    },
    {
     "name": "stdout",
     "output_type": "stream",
     "text": [
      "Early stopping, best iteration is:\n",
      "[44]\ttraining's binary_logloss: 0.0176248\tvalid_1's binary_logloss: 0.0542293\n",
      "Training until validation scores don't improve for 10 rounds\n",
      "[20]\ttraining's binary_logloss: 0.0163798\tvalid_1's binary_logloss: 0.0205246\n",
      "[40]\ttraining's binary_logloss: 0.00839249\tvalid_1's binary_logloss: 0.0144493\n",
      "[60]\ttraining's binary_logloss: 0.00470873\tvalid_1's binary_logloss: 0.0116542\n",
      "[80]\ttraining's binary_logloss: 0.0027172\tvalid_1's binary_logloss: 0.0102634\n",
      "[100]\ttraining's binary_logloss: 0.00158513\tvalid_1's binary_logloss: 0.00942372\n",
      "[120]\ttraining's binary_logloss: 0.00093338\tvalid_1's binary_logloss: 0.00909382\n"
     ]
    },
    {
     "name": "stderr",
     "output_type": "stream",
     "text": [
      "len(train_index) : 942\n",
      "len(valid_index) : 942\n",
      "================================= 2fold lightgbm =================================\n"
     ]
    },
    {
     "name": "stdout",
     "output_type": "stream",
     "text": [
      "Early stopping, best iteration is:\n",
      "[121]\ttraining's binary_logloss: 0.000906697\tvalid_1's binary_logloss: 0.00908662\n",
      "Training until validation scores don't improve for 10 rounds\n",
      "[20]\ttraining's binary_logloss: 0.0139462\tvalid_1's binary_logloss: 0.0259537\n",
      "[40]\ttraining's binary_logloss: 0.00698002\tvalid_1's binary_logloss: 0.0212209\n",
      "[60]\ttraining's binary_logloss: 0.00374624\tvalid_1's binary_logloss: 0.0187962\n",
      "[80]\ttraining's binary_logloss: 0.00206294\tvalid_1's binary_logloss: 0.018078\n"
     ]
    },
    {
     "name": "stderr",
     "output_type": "stream",
     "text": [
      "farnesyltransferase_inhibitor logloss: 0.013475936332843242\n",
      "=========================================================================================\n",
      "len(trt) : 25\n",
      "len(train_index) : 945\n",
      "len(valid_index) : 946\n",
      "================================= 1fold lightgbm =================================\n"
     ]
    },
    {
     "name": "stdout",
     "output_type": "stream",
     "text": [
      "Early stopping, best iteration is:\n",
      "[89]\ttraining's binary_logloss: 0.0015844\tvalid_1's binary_logloss: 0.0178653\n",
      "Training until validation scores don't improve for 10 rounds\n",
      "[20]\ttraining's binary_logloss: 0.0220288\tvalid_1's binary_logloss: 0.0495332\n"
     ]
    },
    {
     "name": "stderr",
     "output_type": "stream",
     "text": [
      "len(train_index) : 946\n",
      "len(valid_index) : 945\n",
      "================================= 2fold lightgbm =================================\n"
     ]
    },
    {
     "name": "stdout",
     "output_type": "stream",
     "text": [
      "Early stopping, best iteration is:\n",
      "[29]\ttraining's binary_logloss: 0.0161565\tvalid_1's binary_logloss: 0.0455186\n",
      "Training until validation scores don't improve for 10 rounds\n",
      "[20]\ttraining's binary_logloss: 0.0219832\tvalid_1's binary_logloss: 0.0510495\n"
     ]
    },
    {
     "name": "stderr",
     "output_type": "stream",
     "text": [
      "fatty_acid_receptor_agonist logloss: 0.04730053690037181\n",
      "=========================================================================================\n",
      "len(trt) : 50\n",
      "len(train_index) : 958\n",
      "len(valid_index) : 958\n",
      "================================= 1fold lightgbm =================================\n"
     ]
    },
    {
     "name": "stdout",
     "output_type": "stream",
     "text": [
      "[40]\ttraining's binary_logloss: 0.0115226\tvalid_1's binary_logloss: 0.049806\n",
      "Early stopping, best iteration is:\n",
      "[31]\ttraining's binary_logloss: 0.0153331\tvalid_1's binary_logloss: 0.0490844\n",
      "Training until validation scores don't improve for 10 rounds\n",
      "[20]\ttraining's binary_logloss: 0.0410419\tvalid_1's binary_logloss: 0.0433229\n",
      "[40]\ttraining's binary_logloss: 0.0213993\tvalid_1's binary_logloss: 0.0287377\n",
      "[60]\ttraining's binary_logloss: 0.0116876\tvalid_1's binary_logloss: 0.0221523\n",
      "[80]\ttraining's binary_logloss: 0.00652185\tvalid_1's binary_logloss: 0.0198616\n",
      "[100]\ttraining's binary_logloss: 0.00372741\tvalid_1's binary_logloss: 0.018773\n",
      "[120]\ttraining's binary_logloss: 0.00213771\tvalid_1's binary_logloss: 0.0181157\n"
     ]
    },
    {
     "name": "stderr",
     "output_type": "stream",
     "text": [
      "len(train_index) : 958\n",
      "len(valid_index) : 958\n",
      "================================= 2fold lightgbm =================================\n"
     ]
    },
    {
     "name": "stdout",
     "output_type": "stream",
     "text": [
      "[140]\ttraining's binary_logloss: 0.00122693\tvalid_1's binary_logloss: 0.0179714\n",
      "Early stopping, best iteration is:\n",
      "[130]\ttraining's binary_logloss: 0.00162493\tvalid_1's binary_logloss: 0.0178137\n",
      "Training until validation scores don't improve for 10 rounds\n",
      "[20]\ttraining's binary_logloss: 0.0363564\tvalid_1's binary_logloss: 0.0503603\n",
      "[40]\ttraining's binary_logloss: 0.0190302\tvalid_1's binary_logloss: 0.037392\n",
      "[60]\ttraining's binary_logloss: 0.0104285\tvalid_1's binary_logloss: 0.0327725\n",
      "[80]\ttraining's binary_logloss: 0.00588006\tvalid_1's binary_logloss: 0.0302415\n",
      "[100]\ttraining's binary_logloss: 0.00337146\tvalid_1's binary_logloss: 0.0291368\n"
     ]
    },
    {
     "name": "stderr",
     "output_type": "stream",
     "text": [
      "fgfr_inhibitor logloss: 0.02339656079242814\n",
      "=========================================================================================\n",
      "len(trt) : 279\n",
      "len(train_index) : 1072\n",
      "len(valid_index) : 1073\n",
      "================================= 1fold lightgbm =================================\n"
     ]
    },
    {
     "name": "stdout",
     "output_type": "stream",
     "text": [
      "Early stopping, best iteration is:\n",
      "[106]\ttraining's binary_logloss: 0.00285079\tvalid_1's binary_logloss: 0.0289794\n",
      "Training until validation scores don't improve for 10 rounds\n",
      "[20]\ttraining's binary_logloss: 0.160747\tvalid_1's binary_logloss: 0.175177\n",
      "[40]\ttraining's binary_logloss: 0.0858491\tvalid_1's binary_logloss: 0.106693\n",
      "[60]\ttraining's binary_logloss: 0.0480026\tvalid_1's binary_logloss: 0.072664\n",
      "[80]\ttraining's binary_logloss: 0.0273072\tvalid_1's binary_logloss: 0.0543565\n",
      "[100]\ttraining's binary_logloss: 0.0157262\tvalid_1's binary_logloss: 0.0449318\n",
      "[120]\ttraining's binary_logloss: 0.00912517\tvalid_1's binary_logloss: 0.0395324\n",
      "[140]\ttraining's binary_logloss: 0.00525758\tvalid_1's binary_logloss: 0.0362551\n",
      "[160]\ttraining's binary_logloss: 0.00305401\tvalid_1's binary_logloss: 0.0353278\n"
     ]
    },
    {
     "name": "stderr",
     "output_type": "stream",
     "text": [
      "len(train_index) : 1073\n",
      "len(valid_index) : 1072\n",
      "================================= 2fold lightgbm =================================\n"
     ]
    },
    {
     "name": "stdout",
     "output_type": "stream",
     "text": [
      "Early stopping, best iteration is:\n",
      "[167]\ttraining's binary_logloss: 0.00253398\tvalid_1's binary_logloss: 0.0350571\n",
      "Training until validation scores don't improve for 10 rounds\n",
      "[20]\ttraining's binary_logloss: 0.155717\tvalid_1's binary_logloss: 0.169792\n",
      "[40]\ttraining's binary_logloss: 0.0814316\tvalid_1's binary_logloss: 0.102684\n",
      "[60]\ttraining's binary_logloss: 0.0449361\tvalid_1's binary_logloss: 0.0706998\n",
      "[80]\ttraining's binary_logloss: 0.0252954\tvalid_1's binary_logloss: 0.0538398\n",
      "[100]\ttraining's binary_logloss: 0.0145097\tvalid_1's binary_logloss: 0.0441111\n",
      "[120]\ttraining's binary_logloss: 0.0084702\tvalid_1's binary_logloss: 0.0400624\n",
      "[140]\ttraining's binary_logloss: 0.00497996\tvalid_1's binary_logloss: 0.038495\n"
     ]
    },
    {
     "name": "stderr",
     "output_type": "stream",
     "text": [
      "flt3_inhibitor logloss: 0.0366312363452866\n",
      "=========================================================================================\n",
      "len(trt) : 18\n",
      "len(train_index) : 942\n",
      "len(valid_index) : 942\n",
      "================================= 1fold lightgbm =================================\n"
     ]
    },
    {
     "name": "stdout",
     "output_type": "stream",
     "text": [
      "Early stopping, best iteration is:\n",
      "[146]\ttraining's binary_logloss: 0.00425887\tvalid_1's binary_logloss: 0.0382068\n",
      "Training until validation scores don't improve for 10 rounds\n",
      "[20]\ttraining's binary_logloss: 0.0147762\tvalid_1's binary_logloss: 0.0188052\n",
      "[40]\ttraining's binary_logloss: 0.00772777\tvalid_1's binary_logloss: 0.0130588\n",
      "[60]\ttraining's binary_logloss: 0.004208\tvalid_1's binary_logloss: 0.0101609\n",
      "[80]\ttraining's binary_logloss: 0.00237269\tvalid_1's binary_logloss: 0.00894174\n",
      "[100]\ttraining's binary_logloss: 0.00133888\tvalid_1's binary_logloss: 0.00871631\n"
     ]
    },
    {
     "name": "stderr",
     "output_type": "stream",
     "text": [
      "len(train_index) : 942\n",
      "len(valid_index) : 942\n",
      "================================= 2fold lightgbm =================================\n"
     ]
    },
    {
     "name": "stdout",
     "output_type": "stream",
     "text": [
      "Early stopping, best iteration is:\n",
      "[105]\ttraining's binary_logloss: 0.00116758\tvalid_1's binary_logloss: 0.00851525\n",
      "Training until validation scores don't improve for 10 rounds\n",
      "[20]\ttraining's binary_logloss: 0.0141464\tvalid_1's binary_logloss: 0.0234801\n",
      "[40]\ttraining's binary_logloss: 0.00731884\tvalid_1's binary_logloss: 0.0174545\n",
      "[60]\ttraining's binary_logloss: 0.00402449\tvalid_1's binary_logloss: 0.0141713\n",
      "[80]\ttraining's binary_logloss: 0.0022548\tvalid_1's binary_logloss: 0.0125293\n",
      "[100]\ttraining's binary_logloss: 0.00128004\tvalid_1's binary_logloss: 0.0115966\n",
      "[120]\ttraining's binary_logloss: 0.000731193\tvalid_1's binary_logloss: 0.0112062\n"
     ]
    },
    {
     "name": "stderr",
     "output_type": "stream",
     "text": [
      "focal_adhesion_kinase_inhibitor logloss: 0.00975705958013004\n",
      "=========================================================================================\n",
      "len(trt) : 18\n",
      "len(train_index) : 942\n",
      "len(valid_index) : 942\n",
      "================================= 1fold lightgbm =================================\n"
     ]
    },
    {
     "name": "stdout",
     "output_type": "stream",
     "text": [
      "[140]\ttraining's binary_logloss: 0.000423647\tvalid_1's binary_logloss: 0.0111377\n",
      "Early stopping, best iteration is:\n",
      "[133]\ttraining's binary_logloss: 0.000514759\tvalid_1's binary_logloss: 0.0109989\n",
      "Training until validation scores don't improve for 10 rounds\n",
      "[20]\ttraining's binary_logloss: 0.0162418\tvalid_1's binary_logloss: 0.0406329\n",
      "[40]\ttraining's binary_logloss: 0.00863682\tvalid_1's binary_logloss: 0.0393508\n"
     ]
    },
    {
     "name": "stderr",
     "output_type": "stream",
     "text": [
      "len(train_index) : 942\n",
      "len(valid_index) : 942\n",
      "================================= 2fold lightgbm =================================\n"
     ]
    },
    {
     "name": "stdout",
     "output_type": "stream",
     "text": [
      "Early stopping, best iteration is:\n",
      "[49]\ttraining's binary_logloss: 0.00664853\tvalid_1's binary_logloss: 0.03904\n",
      "Training until validation scores don't improve for 10 rounds\n",
      "[20]\ttraining's binary_logloss: 0.0174641\tvalid_1's binary_logloss: 0.034366\n",
      "[40]\ttraining's binary_logloss: 0.00887488\tvalid_1's binary_logloss: 0.0310587\n",
      "[60]\ttraining's binary_logloss: 0.00487611\tvalid_1's binary_logloss: 0.0302235\n",
      "[80]\ttraining's binary_logloss: 0.00273903\tvalid_1's binary_logloss: 0.0300287\n"
     ]
    },
    {
     "name": "stderr",
     "output_type": "stream",
     "text": [
      "free_radical_scavenger logloss: 0.034441332703760597\n",
      "=========================================================================================\n",
      "len(trt) : 23\n",
      "len(train_index) : 944\n",
      "len(valid_index) : 945\n",
      "================================= 1fold lightgbm =================================\n"
     ]
    },
    {
     "name": "stdout",
     "output_type": "stream",
     "text": [
      "Early stopping, best iteration is:\n",
      "[77]\ttraining's binary_logloss: 0.00298228\tvalid_1's binary_logloss: 0.0298426\n",
      "Training until validation scores don't improve for 10 rounds\n",
      "[20]\ttraining's binary_logloss: 0.021349\tvalid_1's binary_logloss: 0.0410357\n",
      "[40]\ttraining's binary_logloss: 0.0107007\tvalid_1's binary_logloss: 0.0377917\n"
     ]
    },
    {
     "name": "stderr",
     "output_type": "stream",
     "text": [
      "len(train_index) : 945\n",
      "len(valid_index) : 944\n",
      "================================= 2fold lightgbm =================================\n"
     ]
    },
    {
     "name": "stdout",
     "output_type": "stream",
     "text": [
      "Early stopping, best iteration is:\n",
      "[47]\ttraining's binary_logloss: 0.0086268\tvalid_1's binary_logloss: 0.0374291\n",
      "Training until validation scores don't improve for 10 rounds\n",
      "[20]\ttraining's binary_logloss: 0.0202424\tvalid_1's binary_logloss: 0.0458918\n",
      "[40]\ttraining's binary_logloss: 0.0104221\tvalid_1's binary_logloss: 0.0416658\n",
      "[60]\ttraining's binary_logloss: 0.0057158\tvalid_1's binary_logloss: 0.0401865\n"
     ]
    },
    {
     "name": "stderr",
     "output_type": "stream",
     "text": [
      "fungal_squalene_epoxidase_inhibitor logloss: 0.038660489510121916\n",
      "=========================================================================================\n",
      "len(trt) : 106\n",
      "len(train_index) : 986\n",
      "len(valid_index) : 986\n",
      "================================= 1fold lightgbm =================================\n"
     ]
    },
    {
     "name": "stdout",
     "output_type": "stream",
     "text": [
      "[80]\ttraining's binary_logloss: 0.00322335\tvalid_1's binary_logloss: 0.0400728\n",
      "Early stopping, best iteration is:\n",
      "[72]\ttraining's binary_logloss: 0.00404339\tvalid_1's binary_logloss: 0.0398932\n",
      "Training until validation scores don't improve for 10 rounds\n",
      "[20]\ttraining's binary_logloss: 0.079193\tvalid_1's binary_logloss: 0.106756\n",
      "[40]\ttraining's binary_logloss: 0.0421577\tvalid_1's binary_logloss: 0.0780455\n",
      "[60]\ttraining's binary_logloss: 0.0241125\tvalid_1's binary_logloss: 0.0613244\n",
      "[80]\ttraining's binary_logloss: 0.0141193\tvalid_1's binary_logloss: 0.0515424\n",
      "[100]\ttraining's binary_logloss: 0.00829237\tvalid_1's binary_logloss: 0.0452495\n",
      "[120]\ttraining's binary_logloss: 0.00490558\tvalid_1's binary_logloss: 0.0415145\n",
      "[140]\ttraining's binary_logloss: 0.00292432\tvalid_1's binary_logloss: 0.0392656\n",
      "[160]\ttraining's binary_logloss: 0.00174768\tvalid_1's binary_logloss: 0.0378697\n",
      "[180]\ttraining's binary_logloss: 0.00104506\tvalid_1's binary_logloss: 0.0364327\n",
      "[200]\ttraining's binary_logloss: 0.000625269\tvalid_1's binary_logloss: 0.0353672\n"
     ]
    },
    {
     "name": "stderr",
     "output_type": "stream",
     "text": [
      "len(train_index) : 986\n",
      "len(valid_index) : 986\n",
      "================================= 2fold lightgbm =================================\n"
     ]
    },
    {
     "name": "stdout",
     "output_type": "stream",
     "text": [
      "Early stopping, best iteration is:\n",
      "[203]\ttraining's binary_logloss: 0.000579028\tvalid_1's binary_logloss: 0.0349685\n",
      "Training until validation scores don't improve for 10 rounds\n",
      "[20]\ttraining's binary_logloss: 0.0779705\tvalid_1's binary_logloss: 0.120576\n",
      "[40]\ttraining's binary_logloss: 0.0414097\tvalid_1's binary_logloss: 0.0968972\n",
      "[60]\ttraining's binary_logloss: 0.0230963\tvalid_1's binary_logloss: 0.0849876\n",
      "[80]\ttraining's binary_logloss: 0.0131822\tvalid_1's binary_logloss: 0.0793944\n",
      "[100]\ttraining's binary_logloss: 0.00763454\tvalid_1's binary_logloss: 0.0771892\n",
      "[120]\ttraining's binary_logloss: 0.00445747\tvalid_1's binary_logloss: 0.0764357\n",
      "Early stopping, best iteration is:\n",
      "[117]\ttraining's binary_logloss: 0.00482961\tvalid_1's binary_logloss: 0.0762153\n"
     ]
    },
    {
     "name": "stderr",
     "output_type": "stream",
     "text": [
      "gaba_receptor_agonist logloss: 0.05559191381047578\n",
      "=========================================================================================\n",
      "len(trt) : 165\n",
      "len(train_index) : 1015\n",
      "len(valid_index) : 1016\n",
      "================================= 1fold lightgbm =================================\n"
     ]
    },
    {
     "name": "stdout",
     "output_type": "stream",
     "text": [
      "Training until validation scores don't improve for 10 rounds\n",
      "[20]\ttraining's binary_logloss: 0.109972\tvalid_1's binary_logloss: 0.13353\n",
      "[40]\ttraining's binary_logloss: 0.0595336\tvalid_1's binary_logloss: 0.0885662\n",
      "[60]\ttraining's binary_logloss: 0.0338271\tvalid_1's binary_logloss: 0.0656121\n",
      "[80]\ttraining's binary_logloss: 0.0193314\tvalid_1's binary_logloss: 0.052497\n",
      "[100]\ttraining's binary_logloss: 0.0112604\tvalid_1's binary_logloss: 0.0423203\n",
      "[120]\ttraining's binary_logloss: 0.00661945\tvalid_1's binary_logloss: 0.0360543\n",
      "[140]\ttraining's binary_logloss: 0.00388064\tvalid_1's binary_logloss: 0.0316408\n",
      "[160]\ttraining's binary_logloss: 0.00228589\tvalid_1's binary_logloss: 0.0285209\n",
      "[180]\ttraining's binary_logloss: 0.00135508\tvalid_1's binary_logloss: 0.0261953\n",
      "[200]\ttraining's binary_logloss: 0.000800909\tvalid_1's binary_logloss: 0.0248025\n",
      "[220]\ttraining's binary_logloss: 0.000471875\tvalid_1's binary_logloss: 0.0243052\n",
      "[240]\ttraining's binary_logloss: 0.000278179\tvalid_1's binary_logloss: 0.0235133\n"
     ]
    },
    {
     "name": "stderr",
     "output_type": "stream",
     "text": [
      "len(train_index) : 1016\n",
      "len(valid_index) : 1015\n",
      "================================= 2fold lightgbm =================================\n"
     ]
    },
    {
     "name": "stdout",
     "output_type": "stream",
     "text": [
      "Early stopping, best iteration is:\n",
      "[241]\ttraining's binary_logloss: 0.000271204\tvalid_1's binary_logloss: 0.0234164\n",
      "Training until validation scores don't improve for 10 rounds\n",
      "[20]\ttraining's binary_logloss: 0.110668\tvalid_1's binary_logloss: 0.148439\n",
      "[40]\ttraining's binary_logloss: 0.0590452\tvalid_1's binary_logloss: 0.10755\n",
      "[60]\ttraining's binary_logloss: 0.0334371\tvalid_1's binary_logloss: 0.0867208\n",
      "[80]\ttraining's binary_logloss: 0.019216\tvalid_1's binary_logloss: 0.0724297\n",
      "[100]\ttraining's binary_logloss: 0.0111455\tvalid_1's binary_logloss: 0.0631807\n",
      "[120]\ttraining's binary_logloss: 0.00652551\tvalid_1's binary_logloss: 0.0584529\n",
      "[140]\ttraining's binary_logloss: 0.00381712\tvalid_1's binary_logloss: 0.055143\n",
      "[160]\ttraining's binary_logloss: 0.00225968\tvalid_1's binary_logloss: 0.0526597\n",
      "[180]\ttraining's binary_logloss: 0.00134078\tvalid_1's binary_logloss: 0.0514793\n",
      "[200]\ttraining's binary_logloss: 0.000795097\tvalid_1's binary_logloss: 0.050613\n",
      "[220]\ttraining's binary_logloss: 0.000471116\tvalid_1's binary_logloss: 0.0498127\n",
      "[240]\ttraining's binary_logloss: 0.000277689\tvalid_1's binary_logloss: 0.049434\n",
      "Early stopping, best iteration is:\n",
      "[237]\ttraining's binary_logloss: 0.00030026\tvalid_1's binary_logloss: 0.0493661\n"
     ]
    },
    {
     "name": "stderr",
     "output_type": "stream",
     "text": [
      "gaba_receptor_antagonist logloss: 0.03638490335178946\n",
      "=========================================================================================\n",
      "len(trt) : 56\n",
      "len(train_index) : 961\n",
      "len(valid_index) : 961\n",
      "================================= 1fold lightgbm =================================\n"
     ]
    },
    {
     "name": "stdout",
     "output_type": "stream",
     "text": [
      "Training until validation scores don't improve for 10 rounds\n",
      "[20]\ttraining's binary_logloss: 0.0445492\tvalid_1's binary_logloss: 0.0534256\n",
      "[40]\ttraining's binary_logloss: 0.0231653\tvalid_1's binary_logloss: 0.0372225\n",
      "[60]\ttraining's binary_logloss: 0.0126277\tvalid_1's binary_logloss: 0.0297444\n",
      "[80]\ttraining's binary_logloss: 0.00708748\tvalid_1's binary_logloss: 0.0260136\n",
      "[100]\ttraining's binary_logloss: 0.00405913\tvalid_1's binary_logloss: 0.0245417\n",
      "[120]\ttraining's binary_logloss: 0.00236517\tvalid_1's binary_logloss: 0.0233587\n",
      "[140]\ttraining's binary_logloss: 0.00137831\tvalid_1's binary_logloss: 0.0222822\n"
     ]
    },
    {
     "name": "stderr",
     "output_type": "stream",
     "text": [
      "len(train_index) : 961\n",
      "len(valid_index) : 961\n",
      "================================= 2fold lightgbm =================================\n"
     ]
    },
    {
     "name": "stdout",
     "output_type": "stream",
     "text": [
      "Early stopping, best iteration is:\n",
      "[142]\ttraining's binary_logloss: 0.00130281\tvalid_1's binary_logloss: 0.0220259\n",
      "Training until validation scores don't improve for 10 rounds\n",
      "[20]\ttraining's binary_logloss: 0.0450562\tvalid_1's binary_logloss: 0.0531852\n",
      "[40]\ttraining's binary_logloss: 0.0235394\tvalid_1's binary_logloss: 0.0386044\n",
      "[60]\ttraining's binary_logloss: 0.0129022\tvalid_1's binary_logloss: 0.0337151\n",
      "[80]\ttraining's binary_logloss: 0.00726856\tvalid_1's binary_logloss: 0.0316978\n",
      "[100]\ttraining's binary_logloss: 0.00415899\tvalid_1's binary_logloss: 0.0311804\n"
     ]
    },
    {
     "name": "stderr",
     "output_type": "stream",
     "text": [
      "gamma_secretase_inhibitor logloss: 0.02657119274055985\n",
      "=========================================================================================\n",
      "len(trt) : 266\n",
      "len(train_index) : 1066\n",
      "len(valid_index) : 1066\n",
      "================================= 1fold lightgbm =================================\n"
     ]
    },
    {
     "name": "stdout",
     "output_type": "stream",
     "text": [
      "Early stopping, best iteration is:\n",
      "[101]\ttraining's binary_logloss: 0.00405446\tvalid_1's binary_logloss: 0.0311165\n",
      "Training until validation scores don't improve for 10 rounds\n",
      "[20]\ttraining's binary_logloss: 0.15103\tvalid_1's binary_logloss: 0.155558\n",
      "[40]\ttraining's binary_logloss: 0.0801053\tvalid_1's binary_logloss: 0.0874272\n",
      "[60]\ttraining's binary_logloss: 0.044165\tvalid_1's binary_logloss: 0.0548579\n",
      "[80]\ttraining's binary_logloss: 0.0246411\tvalid_1's binary_logloss: 0.038002\n",
      "[100]\ttraining's binary_logloss: 0.0139416\tvalid_1's binary_logloss: 0.0289418\n",
      "[120]\ttraining's binary_logloss: 0.00794611\tvalid_1's binary_logloss: 0.0244083\n",
      "[140]\ttraining's binary_logloss: 0.00446485\tvalid_1's binary_logloss: 0.0229476\n",
      "[160]\ttraining's binary_logloss: 0.00252771\tvalid_1's binary_logloss: 0.0219001\n",
      "[180]\ttraining's binary_logloss: 0.00144107\tvalid_1's binary_logloss: 0.021896\n",
      "Early stopping, best iteration is:\n",
      "[173]\ttraining's binary_logloss: 0.00175342\tvalid_1's binary_logloss: 0.0216326\n"
     ]
    },
    {
     "name": "stderr",
     "output_type": "stream",
     "text": [
      "len(train_index) : 1066\n",
      "len(valid_index) : 1066\n",
      "================================= 2fold lightgbm =================================\n"
     ]
    },
    {
     "name": "stdout",
     "output_type": "stream",
     "text": [
      "Training until validation scores don't improve for 10 rounds\n",
      "[20]\ttraining's binary_logloss: 0.147241\tvalid_1's binary_logloss: 0.160589\n",
      "[40]\ttraining's binary_logloss: 0.0762505\tvalid_1's binary_logloss: 0.0985005\n",
      "[60]\ttraining's binary_logloss: 0.0420729\tvalid_1's binary_logloss: 0.0708078\n",
      "[80]\ttraining's binary_logloss: 0.0237908\tvalid_1's binary_logloss: 0.05658\n",
      "[100]\ttraining's binary_logloss: 0.0136714\tvalid_1's binary_logloss: 0.0501908\n",
      "[120]\ttraining's binary_logloss: 0.00782941\tvalid_1's binary_logloss: 0.0470483\n"
     ]
    },
    {
     "name": "stderr",
     "output_type": "stream",
     "text": [
      "glucocorticoid_receptor_agonist logloss: 0.03387149875463747\n",
      "=========================================================================================\n",
      "len(trt) : 13\n",
      "len(train_index) : 939\n",
      "len(valid_index) : 940\n",
      "================================= 1fold lightgbm =================================\n"
     ]
    },
    {
     "name": "stdout",
     "output_type": "stream",
     "text": [
      "Early stopping, best iteration is:\n",
      "[128]\ttraining's binary_logloss: 0.00627637\tvalid_1's binary_logloss: 0.0461104\n",
      "Training until validation scores don't improve for 10 rounds\n"
     ]
    },
    {
     "name": "stderr",
     "output_type": "stream",
     "text": [
      "len(train_index) : 940\n",
      "len(valid_index) : 939\n",
      "================================= 2fold lightgbm =================================\n"
     ]
    },
    {
     "name": "stdout",
     "output_type": "stream",
     "text": [
      "[20]\ttraining's binary_logloss: 0.0108881\tvalid_1's binary_logloss: 0.0392106\n",
      "Early stopping, best iteration is:\n",
      "[14]\ttraining's binary_logloss: 0.0138147\tvalid_1's binary_logloss: 0.0391635\n",
      "Training until validation scores don't improve for 10 rounds\n",
      "[20]\ttraining's binary_logloss: 0.0127028\tvalid_1's binary_logloss: 0.0288557\n",
      "[40]\ttraining's binary_logloss: 0.00657554\tvalid_1's binary_logloss: 0.0275898\n"
     ]
    },
    {
     "name": "stderr",
     "output_type": "stream",
     "text": [
      "glutamate_inhibitor logloss: 0.03333650778006038\n",
      "=========================================================================================\n",
      "len(trt) : 74\n",
      "len(train_index) : 970\n",
      "len(valid_index) : 970\n",
      "================================= 1fold lightgbm =================================\n"
     ]
    },
    {
     "name": "stdout",
     "output_type": "stream",
     "text": [
      "Early stopping, best iteration is:\n",
      "[43]\ttraining's binary_logloss: 0.00596208\tvalid_1's binary_logloss: 0.0275033\n",
      "Training until validation scores don't improve for 10 rounds\n",
      "[20]\ttraining's binary_logloss: 0.0625447\tvalid_1's binary_logloss: 0.103294\n",
      "[40]\ttraining's binary_logloss: 0.0343783\tvalid_1's binary_logloss: 0.0834927\n",
      "[60]\ttraining's binary_logloss: 0.0194444\tvalid_1's binary_logloss: 0.0744749\n",
      "[80]\ttraining's binary_logloss: 0.0113721\tvalid_1's binary_logloss: 0.0711849\n",
      "[100]\ttraining's binary_logloss: 0.00674548\tvalid_1's binary_logloss: 0.0698759\n",
      "[120]\ttraining's binary_logloss: 0.00404046\tvalid_1's binary_logloss: 0.069547\n"
     ]
    },
    {
     "name": "stderr",
     "output_type": "stream",
     "text": [
      "len(train_index) : 970\n",
      "len(valid_index) : 970\n",
      "================================= 2fold lightgbm =================================\n"
     ]
    },
    {
     "name": "stdout",
     "output_type": "stream",
     "text": [
      "Early stopping, best iteration is:\n",
      "[123]\ttraining's binary_logloss: 0.00374716\tvalid_1's binary_logloss: 0.0692429\n",
      "Training until validation scores don't improve for 10 rounds\n",
      "[20]\ttraining's binary_logloss: 0.0621024\tvalid_1's binary_logloss: 0.0913239\n",
      "[40]\ttraining's binary_logloss: 0.0342399\tvalid_1's binary_logloss: 0.0738412\n",
      "[60]\ttraining's binary_logloss: 0.0195241\tvalid_1's binary_logloss: 0.0646761\n",
      "[80]\ttraining's binary_logloss: 0.0113202\tvalid_1's binary_logloss: 0.0584122\n",
      "[100]\ttraining's binary_logloss: 0.00674312\tvalid_1's binary_logloss: 0.0550879\n",
      "[120]\ttraining's binary_logloss: 0.00403795\tvalid_1's binary_logloss: 0.0540314\n"
     ]
    },
    {
     "name": "stderr",
     "output_type": "stream",
     "text": [
      "glutamate_receptor_agonist logloss: 0.061539778120792366\n",
      "=========================================================================================\n",
      "len(trt) : 367\n",
      "len(train_index) : 1116\n",
      "len(valid_index) : 1117\n",
      "================================= 1fold lightgbm =================================\n"
     ]
    },
    {
     "name": "stdout",
     "output_type": "stream",
     "text": [
      "Early stopping, best iteration is:\n",
      "[126]\ttraining's binary_logloss: 0.00347661\tvalid_1's binary_logloss: 0.0538366\n",
      "Training until validation scores don't improve for 10 rounds\n",
      "[20]\ttraining's binary_logloss: 0.198599\tvalid_1's binary_logloss: 0.222235\n",
      "[40]\ttraining's binary_logloss: 0.109382\tvalid_1's binary_logloss: 0.144953\n",
      "[60]\ttraining's binary_logloss: 0.0638981\tvalid_1's binary_logloss: 0.103956\n",
      "[80]\ttraining's binary_logloss: 0.038166\tvalid_1's binary_logloss: 0.0796107\n",
      "[100]\ttraining's binary_logloss: 0.02306\tvalid_1's binary_logloss: 0.0642912\n",
      "[120]\ttraining's binary_logloss: 0.0140069\tvalid_1's binary_logloss: 0.0536593\n",
      "[140]\ttraining's binary_logloss: 0.00855126\tvalid_1's binary_logloss: 0.046837\n",
      "[160]\ttraining's binary_logloss: 0.00525482\tvalid_1's binary_logloss: 0.0409625\n",
      "[180]\ttraining's binary_logloss: 0.00323876\tvalid_1's binary_logloss: 0.0371736\n",
      "[200]\ttraining's binary_logloss: 0.0020072\tvalid_1's binary_logloss: 0.0347083\n",
      "[220]\ttraining's binary_logloss: 0.00124177\tvalid_1's binary_logloss: 0.0329842\n",
      "[240]\ttraining's binary_logloss: 0.00077033\tvalid_1's binary_logloss: 0.03084\n",
      "[260]\ttraining's binary_logloss: 0.000476517\tvalid_1's binary_logloss: 0.0293251\n",
      "[280]\ttraining's binary_logloss: 0.000296527\tvalid_1's binary_logloss: 0.0280542\n",
      "[300]\ttraining's binary_logloss: 0.000185199\tvalid_1's binary_logloss: 0.0274144\n",
      "[320]\ttraining's binary_logloss: 0.000115503\tvalid_1's binary_logloss: 0.0267841\n",
      "[340]\ttraining's binary_logloss: 7.18973e-05\tvalid_1's binary_logloss: 0.0263382\n"
     ]
    },
    {
     "name": "stderr",
     "output_type": "stream",
     "text": [
      "len(train_index) : 1117\n",
      "len(valid_index) : 1116\n",
      "================================= 2fold lightgbm =================================\n"
     ]
    },
    {
     "name": "stdout",
     "output_type": "stream",
     "text": [
      "[360]\ttraining's binary_logloss: 4.48458e-05\tvalid_1's binary_logloss: 0.026038\n",
      "Early stopping, best iteration is:\n",
      "[351]\ttraining's binary_logloss: 5.56427e-05\tvalid_1's binary_logloss: 0.0256827\n",
      "Training until validation scores don't improve for 10 rounds\n",
      "[20]\ttraining's binary_logloss: 0.204862\tvalid_1's binary_logloss: 0.227154\n",
      "[40]\ttraining's binary_logloss: 0.116201\tvalid_1's binary_logloss: 0.147684\n",
      "[60]\ttraining's binary_logloss: 0.0690316\tvalid_1's binary_logloss: 0.100712\n",
      "[80]\ttraining's binary_logloss: 0.0417573\tvalid_1's binary_logloss: 0.0736933\n",
      "[100]\ttraining's binary_logloss: 0.025647\tvalid_1's binary_logloss: 0.0562656\n",
      "[120]\ttraining's binary_logloss: 0.015909\tvalid_1's binary_logloss: 0.0453347\n",
      "[140]\ttraining's binary_logloss: 0.00997124\tvalid_1's binary_logloss: 0.0391841\n",
      "[160]\ttraining's binary_logloss: 0.00629761\tvalid_1's binary_logloss: 0.0354932\n",
      "[180]\ttraining's binary_logloss: 0.0039844\tvalid_1's binary_logloss: 0.0324059\n",
      "[200]\ttraining's binary_logloss: 0.00252754\tvalid_1's binary_logloss: 0.0300982\n",
      "[220]\ttraining's binary_logloss: 0.00161193\tvalid_1's binary_logloss: 0.028928\n",
      "[240]\ttraining's binary_logloss: 0.00102809\tvalid_1's binary_logloss: 0.0279153\n",
      "[260]\ttraining's binary_logloss: 0.000660011\tvalid_1's binary_logloss: 0.0274973\n"
     ]
    },
    {
     "name": "stderr",
     "output_type": "stream",
     "text": [
      "glutamate_receptor_antagonist logloss: 0.026304128176183862\n",
      "=========================================================================================\n",
      "len(trt) : 18\n",
      "len(train_index) : 942\n",
      "len(valid_index) : 942\n",
      "================================= 1fold lightgbm =================================\n"
     ]
    },
    {
     "name": "stdout",
     "output_type": "stream",
     "text": [
      "[280]\ttraining's binary_logloss: 0.000420326\tvalid_1's binary_logloss: 0.0271035\n",
      "Early stopping, best iteration is:\n",
      "[270]\ttraining's binary_logloss: 0.000528591\tvalid_1's binary_logloss: 0.0269261\n",
      "Training until validation scores don't improve for 10 rounds\n",
      "[20]\ttraining's binary_logloss: 0.0192115\tvalid_1's binary_logloss: 0.0413059\n",
      "[40]\ttraining's binary_logloss: 0.0102138\tvalid_1's binary_logloss: 0.038697\n"
     ]
    },
    {
     "name": "stderr",
     "output_type": "stream",
     "text": [
      "len(train_index) : 942\n",
      "len(valid_index) : 942\n",
      "================================= 2fold lightgbm =================================\n"
     ]
    },
    {
     "name": "stdout",
     "output_type": "stream",
     "text": [
      "Early stopping, best iteration is:\n",
      "[45]\ttraining's binary_logloss: 0.00879513\tvalid_1's binary_logloss: 0.0381831\n",
      "Training until validation scores don't improve for 10 rounds\n",
      "[20]\ttraining's binary_logloss: 0.0179282\tvalid_1's binary_logloss: 0.0421481\n"
     ]
    },
    {
     "name": "stderr",
     "output_type": "stream",
     "text": [
      "gonadotropin_receptor_agonist logloss: 0.040008960983994306\n",
      "=========================================================================================\n",
      "len(trt) : 60\n",
      "len(train_index) : 963\n",
      "len(valid_index) : 963\n",
      "================================= 1fold lightgbm =================================\n"
     ]
    },
    {
     "name": "stdout",
     "output_type": "stream",
     "text": [
      "Early stopping, best iteration is:\n",
      "[21]\ttraining's binary_logloss: 0.0172764\tvalid_1's binary_logloss: 0.0418349\n",
      "Training until validation scores don't improve for 10 rounds\n",
      "[20]\ttraining's binary_logloss: 0.050032\tvalid_1's binary_logloss: 0.0732791\n",
      "[40]\ttraining's binary_logloss: 0.0266835\tvalid_1's binary_logloss: 0.059544\n",
      "[60]\ttraining's binary_logloss: 0.0152208\tvalid_1's binary_logloss: 0.053244\n",
      "[80]\ttraining's binary_logloss: 0.00881002\tvalid_1's binary_logloss: 0.0495296\n",
      "[100]\ttraining's binary_logloss: 0.00518103\tvalid_1's binary_logloss: 0.0484758\n",
      "[120]\ttraining's binary_logloss: 0.00307306\tvalid_1's binary_logloss: 0.047846\n",
      "Early stopping, best iteration is:\n",
      "[115]\ttraining's binary_logloss: 0.00350006\tvalid_1's binary_logloss: 0.0478049\n"
     ]
    },
    {
     "name": "stderr",
     "output_type": "stream",
     "text": [
      "len(train_index) : 963\n",
      "len(valid_index) : 963\n",
      "================================= 2fold lightgbm =================================\n"
     ]
    },
    {
     "name": "stdout",
     "output_type": "stream",
     "text": [
      "Training until validation scores don't improve for 10 rounds\n",
      "[20]\ttraining's binary_logloss: 0.0509801\tvalid_1's binary_logloss: 0.0604068\n",
      "[40]\ttraining's binary_logloss: 0.027153\tvalid_1's binary_logloss: 0.0455322\n",
      "[60]\ttraining's binary_logloss: 0.0154584\tvalid_1's binary_logloss: 0.0383039\n",
      "[80]\ttraining's binary_logloss: 0.00884481\tvalid_1's binary_logloss: 0.0346072\n",
      "[100]\ttraining's binary_logloss: 0.00512467\tvalid_1's binary_logloss: 0.0336716\n"
     ]
    },
    {
     "name": "stderr",
     "output_type": "stream",
     "text": [
      "gsk_inhibitor logloss: 0.040552178409948715\n",
      "=========================================================================================\n",
      "len(trt) : 72\n",
      "len(train_index) : 969\n",
      "len(valid_index) : 969\n",
      "================================= 1fold lightgbm =================================\n"
     ]
    },
    {
     "name": "stdout",
     "output_type": "stream",
     "text": [
      "Early stopping, best iteration is:\n",
      "[107]\ttraining's binary_logloss: 0.00426261\tvalid_1's binary_logloss: 0.0332994\n",
      "Training until validation scores don't improve for 10 rounds\n",
      "[20]\ttraining's binary_logloss: 0.0624792\tvalid_1's binary_logloss: 0.0990796\n",
      "[40]\ttraining's binary_logloss: 0.034302\tvalid_1's binary_logloss: 0.0811049\n",
      "[60]\ttraining's binary_logloss: 0.019755\tvalid_1's binary_logloss: 0.0714054\n",
      "[80]\ttraining's binary_logloss: 0.0117699\tvalid_1's binary_logloss: 0.0690228\n",
      "[100]\ttraining's binary_logloss: 0.00703601\tvalid_1's binary_logloss: 0.0670383\n"
     ]
    },
    {
     "name": "stderr",
     "output_type": "stream",
     "text": [
      "len(train_index) : 969\n",
      "len(valid_index) : 969\n",
      "================================= 2fold lightgbm =================================\n"
     ]
    },
    {
     "name": "stdout",
     "output_type": "stream",
     "text": [
      "[120]\ttraining's binary_logloss: 0.00425899\tvalid_1's binary_logloss: 0.0663927\n",
      "Early stopping, best iteration is:\n",
      "[112]\ttraining's binary_logloss: 0.00518743\tvalid_1's binary_logloss: 0.0657357\n",
      "Training until validation scores don't improve for 10 rounds\n",
      "[20]\ttraining's binary_logloss: 0.0580886\tvalid_1's binary_logloss: 0.0968073\n",
      "[40]\ttraining's binary_logloss: 0.0324539\tvalid_1's binary_logloss: 0.0840437\n",
      "[60]\ttraining's binary_logloss: 0.0187683\tvalid_1's binary_logloss: 0.0821198\n",
      "[80]\ttraining's binary_logloss: 0.0111799\tvalid_1's binary_logloss: 0.0807441\n"
     ]
    },
    {
     "name": "stderr",
     "output_type": "stream",
     "text": [
      "hcv_inhibitor logloss: 0.07323988796860952\n",
      "=========================================================================================\n",
      "len(trt) : 106\n",
      "len(train_index) : 986\n",
      "len(valid_index) : 986\n",
      "================================= 1fold lightgbm =================================\n"
     ]
    },
    {
     "name": "stdout",
     "output_type": "stream",
     "text": [
      "Early stopping, best iteration is:\n",
      "[80]\ttraining's binary_logloss: 0.0111799\tvalid_1's binary_logloss: 0.0807441\n",
      "Training until validation scores don't improve for 10 rounds\n",
      "[20]\ttraining's binary_logloss: 0.0784618\tvalid_1's binary_logloss: 0.0811035\n",
      "[40]\ttraining's binary_logloss: 0.0416914\tvalid_1's binary_logloss: 0.0522034\n",
      "[60]\ttraining's binary_logloss: 0.0231057\tvalid_1's binary_logloss: 0.0390877\n",
      "[80]\ttraining's binary_logloss: 0.0131584\tvalid_1's binary_logloss: 0.0322947\n",
      "[100]\ttraining's binary_logloss: 0.00755735\tvalid_1's binary_logloss: 0.0285802\n",
      "[120]\ttraining's binary_logloss: 0.00433658\tvalid_1's binary_logloss: 0.0271213\n"
     ]
    },
    {
     "name": "stderr",
     "output_type": "stream",
     "text": [
      "len(train_index) : 986\n",
      "len(valid_index) : 986\n",
      "================================= 2fold lightgbm =================================\n"
     ]
    },
    {
     "name": "stdout",
     "output_type": "stream",
     "text": [
      "[140]\ttraining's binary_logloss: 0.00251005\tvalid_1's binary_logloss: 0.0272243\n",
      "Early stopping, best iteration is:\n",
      "[134]\ttraining's binary_logloss: 0.00295463\tvalid_1's binary_logloss: 0.0269157\n",
      "Training until validation scores don't improve for 10 rounds\n",
      "[20]\ttraining's binary_logloss: 0.0713962\tvalid_1's binary_logloss: 0.0975074\n",
      "[40]\ttraining's binary_logloss: 0.0370124\tvalid_1's binary_logloss: 0.0731792\n",
      "[60]\ttraining's binary_logloss: 0.0203399\tvalid_1's binary_logloss: 0.0633359\n",
      "[80]\ttraining's binary_logloss: 0.0114149\tvalid_1's binary_logloss: 0.0611795\n",
      "[100]\ttraining's binary_logloss: 0.00640976\tvalid_1's binary_logloss: 0.0581489\n",
      "[120]\ttraining's binary_logloss: 0.00364489\tvalid_1's binary_logloss: 0.057654\n"
     ]
    },
    {
     "name": "stderr",
     "output_type": "stream",
     "text": [
      "hdac_inhibitor logloss: 0.0422060427502393\n",
      "=========================================================================================\n",
      "len(trt) : 59\n",
      "len(train_index) : 962\n",
      "len(valid_index) : 963\n",
      "================================= 1fold lightgbm =================================\n"
     ]
    },
    {
     "name": "stdout",
     "output_type": "stream",
     "text": [
      "Early stopping, best iteration is:\n",
      "[123]\ttraining's binary_logloss: 0.00335087\tvalid_1's binary_logloss: 0.0574964\n",
      "Training until validation scores don't improve for 10 rounds\n",
      "[20]\ttraining's binary_logloss: 0.0508829\tvalid_1's binary_logloss: 0.0880798\n",
      "[40]\ttraining's binary_logloss: 0.0268056\tvalid_1's binary_logloss: 0.0768609\n",
      "[60]\ttraining's binary_logloss: 0.0151221\tvalid_1's binary_logloss: 0.0724805\n",
      "[80]\ttraining's binary_logloss: 0.0087998\tvalid_1's binary_logloss: 0.0713986\n",
      "Early stopping, best iteration is:\n",
      "[77]\ttraining's binary_logloss: 0.00954482\tvalid_1's binary_logloss: 0.0713242\n"
     ]
    },
    {
     "name": "stderr",
     "output_type": "stream",
     "text": [
      "len(train_index) : 963\n",
      "len(valid_index) : 962\n",
      "================================= 2fold lightgbm =================================\n"
     ]
    },
    {
     "name": "stdout",
     "output_type": "stream",
     "text": [
      "Training until validation scores don't improve for 10 rounds\n",
      "[20]\ttraining's binary_logloss: 0.0540376\tvalid_1's binary_logloss: 0.0870481\n",
      "[40]\ttraining's binary_logloss: 0.0292929\tvalid_1's binary_logloss: 0.0708634\n",
      "[60]\ttraining's binary_logloss: 0.016736\tvalid_1's binary_logloss: 0.0625369\n",
      "[80]\ttraining's binary_logloss: 0.00987921\tvalid_1's binary_logloss: 0.0590203\n",
      "[100]\ttraining's binary_logloss: 0.00594794\tvalid_1's binary_logloss: 0.0570567\n",
      "[120]\ttraining's binary_logloss: 0.00360252\tvalid_1's binary_logloss: 0.0558979\n"
     ]
    },
    {
     "name": "stderr",
     "output_type": "stream",
     "text": [
      "histamine_receptor_agonist logloss: 0.06319900318079567\n",
      "=========================================================================================\n",
      "len(trt) : 241\n",
      "len(train_index) : 1053\n",
      "len(valid_index) : 1054\n",
      "================================= 1fold lightgbm =================================\n"
     ]
    },
    {
     "name": "stdout",
     "output_type": "stream",
     "text": [
      "[140]\ttraining's binary_logloss: 0.00219129\tvalid_1's binary_logloss: 0.0553496\n",
      "Early stopping, best iteration is:\n",
      "[130]\ttraining's binary_logloss: 0.00280888\tvalid_1's binary_logloss: 0.0550654\n",
      "Training until validation scores don't improve for 10 rounds\n",
      "[20]\ttraining's binary_logloss: 0.1526\tvalid_1's binary_logloss: 0.187657\n",
      "[40]\ttraining's binary_logloss: 0.0833391\tvalid_1's binary_logloss: 0.128059\n",
      "[60]\ttraining's binary_logloss: 0.0480931\tvalid_1's binary_logloss: 0.0983046\n",
      "[80]\ttraining's binary_logloss: 0.0283935\tvalid_1's binary_logloss: 0.0812191\n",
      "[100]\ttraining's binary_logloss: 0.0171112\tvalid_1's binary_logloss: 0.0715599\n",
      "[120]\ttraining's binary_logloss: 0.0102412\tvalid_1's binary_logloss: 0.0664355\n",
      "[140]\ttraining's binary_logloss: 0.00619938\tvalid_1's binary_logloss: 0.0621198\n",
      "[160]\ttraining's binary_logloss: 0.00379214\tvalid_1's binary_logloss: 0.0594445\n",
      "[180]\ttraining's binary_logloss: 0.00232769\tvalid_1's binary_logloss: 0.0572358\n",
      "[200]\ttraining's binary_logloss: 0.00143046\tvalid_1's binary_logloss: 0.056187\n",
      "[220]\ttraining's binary_logloss: 0.000880181\tvalid_1's binary_logloss: 0.055456\n",
      "[240]\ttraining's binary_logloss: 0.000541995\tvalid_1's binary_logloss: 0.0552132\n",
      "Early stopping, best iteration is:\n",
      "[237]\ttraining's binary_logloss: 0.000583928\tvalid_1's binary_logloss: 0.0549857\n"
     ]
    },
    {
     "name": "stderr",
     "output_type": "stream",
     "text": [
      "len(train_index) : 1054\n",
      "len(valid_index) : 1053\n",
      "================================= 2fold lightgbm =================================\n"
     ]
    },
    {
     "name": "stdout",
     "output_type": "stream",
     "text": [
      "Training until validation scores don't improve for 10 rounds\n",
      "[20]\ttraining's binary_logloss: 0.155727\tvalid_1's binary_logloss: 0.190081\n",
      "[40]\ttraining's binary_logloss: 0.0865408\tvalid_1's binary_logloss: 0.130286\n",
      "[60]\ttraining's binary_logloss: 0.0512463\tvalid_1's binary_logloss: 0.0970442\n",
      "[80]\ttraining's binary_logloss: 0.0313545\tvalid_1's binary_logloss: 0.0793876\n",
      "[100]\ttraining's binary_logloss: 0.0195292\tvalid_1's binary_logloss: 0.0688396\n",
      "[120]\ttraining's binary_logloss: 0.0120867\tvalid_1's binary_logloss: 0.0623217\n",
      "[140]\ttraining's binary_logloss: 0.00756163\tvalid_1's binary_logloss: 0.0591027\n",
      "[160]\ttraining's binary_logloss: 0.00476558\tvalid_1's binary_logloss: 0.0567929\n",
      "[180]\ttraining's binary_logloss: 0.00298888\tvalid_1's binary_logloss: 0.0544616\n",
      "[200]\ttraining's binary_logloss: 0.00187777\tvalid_1's binary_logloss: 0.0536493\n",
      "[220]\ttraining's binary_logloss: 0.00117842\tvalid_1's binary_logloss: 0.0526704\n",
      "[240]\ttraining's binary_logloss: 0.000741802\tvalid_1's binary_logloss: 0.0506525\n"
     ]
    },
    {
     "name": "stderr",
     "output_type": "stream",
     "text": [
      "histamine_receptor_antagonist logloss: 0.05275321977398667\n",
      "=========================================================================================\n",
      "len(trt) : 24\n",
      "len(train_index) : 945\n",
      "len(valid_index) : 945\n",
      "================================= 1fold lightgbm =================================\n"
     ]
    },
    {
     "name": "stdout",
     "output_type": "stream",
     "text": [
      "Early stopping, best iteration is:\n",
      "[241]\ttraining's binary_logloss: 0.000723897\tvalid_1's binary_logloss: 0.0505186\n",
      "Training until validation scores don't improve for 10 rounds\n",
      "[20]\ttraining's binary_logloss: 0.0207761\tvalid_1's binary_logloss: 0.0389258\n",
      "[40]\ttraining's binary_logloss: 0.010878\tvalid_1's binary_logloss: 0.0313331\n",
      "[60]\ttraining's binary_logloss: 0.00607224\tvalid_1's binary_logloss: 0.0290937\n"
     ]
    },
    {
     "name": "stderr",
     "output_type": "stream",
     "text": [
      "len(train_index) : 945\n",
      "len(valid_index) : 945\n",
      "================================= 2fold lightgbm =================================\n"
     ]
    },
    {
     "name": "stdout",
     "output_type": "stream",
     "text": [
      "[80]\ttraining's binary_logloss: 0.00346147\tvalid_1's binary_logloss: 0.0289946\n",
      "Early stopping, best iteration is:\n",
      "[70]\ttraining's binary_logloss: 0.00459506\tvalid_1's binary_logloss: 0.0288769\n",
      "Training until validation scores don't improve for 10 rounds\n",
      "[20]\ttraining's binary_logloss: 0.0195957\tvalid_1's binary_logloss: 0.0412368\n",
      "[40]\ttraining's binary_logloss: 0.01017\tvalid_1's binary_logloss: 0.0362992\n",
      "[60]\ttraining's binary_logloss: 0.00560771\tvalid_1's binary_logloss: 0.0347347\n"
     ]
    },
    {
     "name": "stderr",
     "output_type": "stream",
     "text": [
      "histone_lysine_demethylase_inhibitor logloss: 0.03159050609954775\n",
      "=========================================================================================\n",
      "len(trt) : 32\n",
      "len(train_index) : 949\n",
      "len(valid_index) : 949\n"
     ]
    },
    {
     "name": "stdout",
     "output_type": "stream",
     "text": [
      "[80]\ttraining's binary_logloss: 0.00312899\tvalid_1's binary_logloss: 0.0344159\n",
      "Early stopping, best iteration is:\n",
      "[73]\ttraining's binary_logloss: 0.00382355\tvalid_1's binary_logloss: 0.0343041\n"
     ]
    },
    {
     "name": "stderr",
     "output_type": "stream",
     "text": [
      "================================= 1fold lightgbm =================================\n"
     ]
    },
    {
     "name": "stdout",
     "output_type": "stream",
     "text": [
      "Training until validation scores don't improve for 10 rounds\n",
      "[20]\ttraining's binary_logloss: 0.0260525\tvalid_1's binary_logloss: 0.045214\n",
      "[40]\ttraining's binary_logloss: 0.0136782\tvalid_1's binary_logloss: 0.0365018\n",
      "[60]\ttraining's binary_logloss: 0.0075906\tvalid_1's binary_logloss: 0.033144\n"
     ]
    },
    {
     "name": "stderr",
     "output_type": "stream",
     "text": [
      "len(train_index) : 949\n",
      "len(valid_index) : 949\n",
      "================================= 2fold lightgbm =================================\n"
     ]
    },
    {
     "name": "stdout",
     "output_type": "stream",
     "text": [
      "[80]\ttraining's binary_logloss: 0.00431159\tvalid_1's binary_logloss: 0.0324255\n",
      "Early stopping, best iteration is:\n",
      "[74]\ttraining's binary_logloss: 0.00511222\tvalid_1's binary_logloss: 0.0317881\n",
      "Training until validation scores don't improve for 10 rounds\n",
      "[20]\ttraining's binary_logloss: 0.026913\tvalid_1's binary_logloss: 0.0698242\n"
     ]
    },
    {
     "name": "stderr",
     "output_type": "stream",
     "text": [
      "histone_lysine_methyltransferase_inhibitor logloss: 0.050533329300396876\n",
      "=========================================================================================\n",
      "len(trt) : 72\n",
      "len(train_index) : 969\n",
      "len(valid_index) : 969\n",
      "================================= 1fold lightgbm =================================\n"
     ]
    },
    {
     "name": "stdout",
     "output_type": "stream",
     "text": [
      "Early stopping, best iteration is:\n",
      "[27]\ttraining's binary_logloss: 0.021009\tvalid_1's binary_logloss: 0.0692786\n",
      "Training until validation scores don't improve for 10 rounds\n",
      "[20]\ttraining's binary_logloss: 0.0564685\tvalid_1's binary_logloss: 0.0926842\n",
      "[40]\ttraining's binary_logloss: 0.0304042\tvalid_1's binary_logloss: 0.0745369\n",
      "[60]\ttraining's binary_logloss: 0.0174256\tvalid_1's binary_logloss: 0.0648316\n",
      "[80]\ttraining's binary_logloss: 0.0102344\tvalid_1's binary_logloss: 0.0594035\n",
      "[100]\ttraining's binary_logloss: 0.006038\tvalid_1's binary_logloss: 0.0571193\n",
      "[120]\ttraining's binary_logloss: 0.0035906\tvalid_1's binary_logloss: 0.0544506\n",
      "[140]\ttraining's binary_logloss: 0.0021545\tvalid_1's binary_logloss: 0.0532658\n"
     ]
    },
    {
     "name": "stderr",
     "output_type": "stream",
     "text": [
      "len(train_index) : 969\n",
      "len(valid_index) : 969\n",
      "================================= 2fold lightgbm =================================\n"
     ]
    },
    {
     "name": "stdout",
     "output_type": "stream",
     "text": [
      "[160]\ttraining's binary_logloss: 0.00128762\tvalid_1's binary_logloss: 0.0528371\n",
      "Early stopping, best iteration is:\n",
      "[153]\ttraining's binary_logloss: 0.00155022\tvalid_1's binary_logloss: 0.0523748\n",
      "Training until validation scores don't improve for 10 rounds\n",
      "[20]\ttraining's binary_logloss: 0.0554825\tvalid_1's binary_logloss: 0.0846754\n",
      "[40]\ttraining's binary_logloss: 0.0294753\tvalid_1's binary_logloss: 0.0627479\n",
      "[60]\ttraining's binary_logloss: 0.0164258\tvalid_1's binary_logloss: 0.0519129\n",
      "[80]\ttraining's binary_logloss: 0.00936583\tvalid_1's binary_logloss: 0.0478656\n",
      "[100]\ttraining's binary_logloss: 0.00546375\tvalid_1's binary_logloss: 0.0455419\n",
      "[120]\ttraining's binary_logloss: 0.00323307\tvalid_1's binary_logloss: 0.0438899\n",
      "[140]\ttraining's binary_logloss: 0.00189514\tvalid_1's binary_logloss: 0.0426514\n",
      "[160]\ttraining's binary_logloss: 0.0011211\tvalid_1's binary_logloss: 0.0415276\n",
      "[180]\ttraining's binary_logloss: 0.000660658\tvalid_1's binary_logloss: 0.0398195\n",
      "[200]\ttraining's binary_logloss: 0.000391508\tvalid_1's binary_logloss: 0.0387808\n",
      "[220]\ttraining's binary_logloss: 0.000232942\tvalid_1's binary_logloss: 0.0377983\n",
      "[240]\ttraining's binary_logloss: 0.00013828\tvalid_1's binary_logloss: 0.0370622\n"
     ]
    },
    {
     "name": "stderr",
     "output_type": "stream",
     "text": [
      "hiv_inhibitor logloss: 0.04460963147488605\n",
      "=========================================================================================\n",
      "len(trt) : 283\n",
      "len(train_index) : 1074\n",
      "len(valid_index) : 1075\n",
      "================================= 1fold lightgbm =================================\n"
     ]
    },
    {
     "name": "stdout",
     "output_type": "stream",
     "text": [
      "[260]\ttraining's binary_logloss: 8.23212e-05\tvalid_1's binary_logloss: 0.0370803\n",
      "Early stopping, best iteration is:\n",
      "[251]\ttraining's binary_logloss: 0.000104077\tvalid_1's binary_logloss: 0.0368445\n",
      "Training until validation scores don't improve for 10 rounds\n",
      "[20]\ttraining's binary_logloss: 0.156839\tvalid_1's binary_logloss: 0.163783\n",
      "[40]\ttraining's binary_logloss: 0.0822799\tvalid_1's binary_logloss: 0.091538\n",
      "[60]\ttraining's binary_logloss: 0.0452646\tvalid_1's binary_logloss: 0.056034\n",
      "[80]\ttraining's binary_logloss: 0.0255582\tvalid_1's binary_logloss: 0.0372957\n",
      "[100]\ttraining's binary_logloss: 0.0146074\tvalid_1's binary_logloss: 0.0267777\n",
      "[120]\ttraining's binary_logloss: 0.00841692\tvalid_1's binary_logloss: 0.0210332\n",
      "[140]\ttraining's binary_logloss: 0.00486011\tvalid_1's binary_logloss: 0.0174238\n",
      "[160]\ttraining's binary_logloss: 0.00280683\tvalid_1's binary_logloss: 0.0153227\n",
      "[180]\ttraining's binary_logloss: 0.00162208\tvalid_1's binary_logloss: 0.0143828\n",
      "[200]\ttraining's binary_logloss: 0.000929592\tvalid_1's binary_logloss: 0.0140717\n"
     ]
    },
    {
     "name": "stderr",
     "output_type": "stream",
     "text": [
      "len(train_index) : 1075\n",
      "len(valid_index) : 1074\n",
      "================================= 2fold lightgbm =================================\n"
     ]
    },
    {
     "name": "stdout",
     "output_type": "stream",
     "text": [
      "Early stopping, best iteration is:\n",
      "[200]\ttraining's binary_logloss: 0.000929592\tvalid_1's binary_logloss: 0.0140717\n",
      "Training until validation scores don't improve for 10 rounds\n",
      "[20]\ttraining's binary_logloss: 0.155111\tvalid_1's binary_logloss: 0.167463\n",
      "[40]\ttraining's binary_logloss: 0.0811859\tvalid_1's binary_logloss: 0.0978783\n",
      "[60]\ttraining's binary_logloss: 0.0447441\tvalid_1's binary_logloss: 0.0638858\n",
      "[80]\ttraining's binary_logloss: 0.0251097\tvalid_1's binary_logloss: 0.045994\n",
      "[100]\ttraining's binary_logloss: 0.0140674\tvalid_1's binary_logloss: 0.0371083\n",
      "[120]\ttraining's binary_logloss: 0.00789557\tvalid_1's binary_logloss: 0.0335391\n"
     ]
    },
    {
     "name": "stderr",
     "output_type": "stream",
     "text": [
      "hmgcr_inhibitor logloss: 0.023098104217929752\n",
      "=========================================================================================\n",
      "len(trt) : 93\n",
      "len(train_index) : 979\n",
      "len(valid_index) : 980\n"
     ]
    },
    {
     "name": "stdout",
     "output_type": "stream",
     "text": [
      "[140]\ttraining's binary_logloss: 0.0044685\tvalid_1's binary_logloss: 0.032189\n",
      "Early stopping, best iteration is:\n",
      "[132]\ttraining's binary_logloss: 0.00560885\tvalid_1's binary_logloss: 0.0321329\n"
     ]
    },
    {
     "name": "stderr",
     "output_type": "stream",
     "text": [
      "================================= 1fold lightgbm =================================\n"
     ]
    },
    {
     "name": "stdout",
     "output_type": "stream",
     "text": [
      "Training until validation scores don't improve for 10 rounds\n",
      "[20]\ttraining's binary_logloss: 0.064125\tvalid_1's binary_logloss: 0.0734531\n",
      "[40]\ttraining's binary_logloss: 0.0327833\tvalid_1's binary_logloss: 0.0436213\n",
      "[60]\ttraining's binary_logloss: 0.0178152\tvalid_1's binary_logloss: 0.0288948\n",
      "[80]\ttraining's binary_logloss: 0.00984589\tvalid_1's binary_logloss: 0.0211046\n",
      "[100]\ttraining's binary_logloss: 0.00551073\tvalid_1's binary_logloss: 0.0167366\n",
      "[120]\ttraining's binary_logloss: 0.00311726\tvalid_1's binary_logloss: 0.0143363\n",
      "[140]\ttraining's binary_logloss: 0.00177061\tvalid_1's binary_logloss: 0.012968\n",
      "[160]\ttraining's binary_logloss: 0.00100956\tvalid_1's binary_logloss: 0.0121009\n",
      "[180]\ttraining's binary_logloss: 0.000577994\tvalid_1's binary_logloss: 0.011862\n"
     ]
    },
    {
     "name": "stderr",
     "output_type": "stream",
     "text": [
      "len(train_index) : 980\n",
      "len(valid_index) : 979\n",
      "================================= 2fold lightgbm =================================\n"
     ]
    },
    {
     "name": "stdout",
     "output_type": "stream",
     "text": [
      "Early stopping, best iteration is:\n",
      "[187]\ttraining's binary_logloss: 0.000475722\tvalid_1's binary_logloss: 0.0115792\n",
      "Training until validation scores don't improve for 10 rounds\n",
      "[20]\ttraining's binary_logloss: 0.0633165\tvalid_1's binary_logloss: 0.0816155\n",
      "[40]\ttraining's binary_logloss: 0.0326469\tvalid_1's binary_logloss: 0.0572748\n",
      "[60]\ttraining's binary_logloss: 0.017563\tvalid_1's binary_logloss: 0.045295\n",
      "[80]\ttraining's binary_logloss: 0.00964389\tvalid_1's binary_logloss: 0.0392843\n",
      "[100]\ttraining's binary_logloss: 0.00536648\tvalid_1's binary_logloss: 0.0370005\n",
      "[120]\ttraining's binary_logloss: 0.00299841\tvalid_1's binary_logloss: 0.0362159\n"
     ]
    },
    {
     "name": "stderr",
     "output_type": "stream",
     "text": [
      "hsp_inhibitor logloss: 0.023757526628540353\n",
      "=========================================================================================\n",
      "len(trt) : 37\n",
      "len(train_index) : 951\n",
      "len(valid_index) : 952\n",
      "================================= 1fold lightgbm =================================\n"
     ]
    },
    {
     "name": "stdout",
     "output_type": "stream",
     "text": [
      "[140]\ttraining's binary_logloss: 0.00168587\tvalid_1's binary_logloss: 0.036224\n",
      "Early stopping, best iteration is:\n",
      "[131]\ttraining's binary_logloss: 0.0021847\tvalid_1's binary_logloss: 0.0359483\n",
      "Training until validation scores don't improve for 10 rounds\n",
      "[20]\ttraining's binary_logloss: 0.0283504\tvalid_1's binary_logloss: 0.0533512\n",
      "[40]\ttraining's binary_logloss: 0.0149486\tvalid_1's binary_logloss: 0.0439472\n",
      "[60]\ttraining's binary_logloss: 0.0082872\tvalid_1's binary_logloss: 0.0387494\n",
      "[80]\ttraining's binary_logloss: 0.00471274\tvalid_1's binary_logloss: 0.0368408\n",
      "[100]\ttraining's binary_logloss: 0.00268564\tvalid_1's binary_logloss: 0.0358988\n",
      "[120]\ttraining's binary_logloss: 0.00154882\tvalid_1's binary_logloss: 0.0354102\n",
      "Early stopping, best iteration is:\n",
      "[117]\ttraining's binary_logloss: 0.00168511\tvalid_1's binary_logloss: 0.0351877\n"
     ]
    },
    {
     "name": "stderr",
     "output_type": "stream",
     "text": [
      "len(train_index) : 952\n",
      "len(valid_index) : 951\n",
      "================================= 2fold lightgbm =================================\n"
     ]
    },
    {
     "name": "stdout",
     "output_type": "stream",
     "text": [
      "Training until validation scores don't improve for 10 rounds\n",
      "[20]\ttraining's binary_logloss: 0.0305193\tvalid_1's binary_logloss: 0.0480383\n",
      "[40]\ttraining's binary_logloss: 0.0157605\tvalid_1's binary_logloss: 0.0372945\n",
      "[60]\ttraining's binary_logloss: 0.00872153\tvalid_1's binary_logloss: 0.031344\n",
      "[80]\ttraining's binary_logloss: 0.00489193\tvalid_1's binary_logloss: 0.027807\n",
      "[100]\ttraining's binary_logloss: 0.00277909\tvalid_1's binary_logloss: 0.0259443\n",
      "[120]\ttraining's binary_logloss: 0.00159503\tvalid_1's binary_logloss: 0.0252034\n",
      "[140]\ttraining's binary_logloss: 0.000923706\tvalid_1's binary_logloss: 0.0248934\n"
     ]
    },
    {
     "name": "stderr",
     "output_type": "stream",
     "text": [
      "igf-1_inhibitor logloss: 0.029916200144809287\n",
      "=========================================================================================\n",
      "len(trt) : 30\n",
      "len(train_index) : 948\n",
      "len(valid_index) : 948\n",
      "================================= 1fold lightgbm =================================\n"
     ]
    },
    {
     "name": "stdout",
     "output_type": "stream",
     "text": [
      "Early stopping, best iteration is:\n",
      "[145]\ttraining's binary_logloss: 0.000804327\tvalid_1's binary_logloss: 0.0246392\n",
      "Training until validation scores don't improve for 10 rounds\n",
      "[20]\ttraining's binary_logloss: 0.0247864\tvalid_1's binary_logloss: 0.0416941\n",
      "[40]\ttraining's binary_logloss: 0.0131624\tvalid_1's binary_logloss: 0.0327365\n",
      "[60]\ttraining's binary_logloss: 0.00741339\tvalid_1's binary_logloss: 0.0269582\n",
      "[80]\ttraining's binary_logloss: 0.00417448\tvalid_1's binary_logloss: 0.0233673\n",
      "[100]\ttraining's binary_logloss: 0.00237374\tvalid_1's binary_logloss: 0.0220328\n",
      "[120]\ttraining's binary_logloss: 0.00136051\tvalid_1's binary_logloss: 0.0218361\n"
     ]
    },
    {
     "name": "stderr",
     "output_type": "stream",
     "text": [
      "len(train_index) : 948\n",
      "len(valid_index) : 948\n",
      "================================= 2fold lightgbm =================================\n"
     ]
    },
    {
     "name": "stdout",
     "output_type": "stream",
     "text": [
      "Early stopping, best iteration is:\n",
      "[124]\ttraining's binary_logloss: 0.0012194\tvalid_1's binary_logloss: 0.0216946\n",
      "Training until validation scores don't improve for 10 rounds\n",
      "[20]\ttraining's binary_logloss: 0.0250792\tvalid_1's binary_logloss: 0.0436261\n",
      "[40]\ttraining's binary_logloss: 0.0125146\tvalid_1's binary_logloss: 0.0368004\n",
      "[60]\ttraining's binary_logloss: 0.00672713\tvalid_1's binary_logloss: 0.0339139\n",
      "[80]\ttraining's binary_logloss: 0.00378391\tvalid_1's binary_logloss: 0.0333379\n"
     ]
    },
    {
     "name": "stderr",
     "output_type": "stream",
     "text": [
      "ikk_inhibitor logloss: 0.02747127905366118\n",
      "=========================================================================================\n",
      "len(trt) : 31\n",
      "len(train_index) : 948\n",
      "len(valid_index) : 949\n",
      "================================= 1fold lightgbm =================================\n"
     ]
    },
    {
     "name": "stdout",
     "output_type": "stream",
     "text": [
      "Early stopping, best iteration is:\n",
      "[78]\ttraining's binary_logloss: 0.00401085\tvalid_1's binary_logloss: 0.033248\n",
      "Training until validation scores don't improve for 10 rounds\n",
      "[20]\ttraining's binary_logloss: 0.0275893\tvalid_1's binary_logloss: 0.0657501\n",
      "[40]\ttraining's binary_logloss: 0.0146124\tvalid_1's binary_logloss: 0.0607056\n"
     ]
    },
    {
     "name": "stderr",
     "output_type": "stream",
     "text": [
      "len(train_index) : 949\n",
      "len(valid_index) : 948\n",
      "================================= 2fold lightgbm =================================\n"
     ]
    },
    {
     "name": "stdout",
     "output_type": "stream",
     "text": [
      "Early stopping, best iteration is:\n",
      "[49]\ttraining's binary_logloss: 0.011186\tvalid_1's binary_logloss: 0.0600258\n",
      "Training until validation scores don't improve for 10 rounds\n",
      "[20]\ttraining's binary_logloss: 0.0294528\tvalid_1's binary_logloss: 0.0649635\n",
      "[40]\ttraining's binary_logloss: 0.0156887\tvalid_1's binary_logloss: 0.0624586\n"
     ]
    },
    {
     "name": "stderr",
     "output_type": "stream",
     "text": [
      "imidazoline_receptor_agonist logloss: 0.06092985519658321\n",
      "=========================================================================================\n",
      "len(trt) : 73\n",
      "len(train_index) : 969\n",
      "len(valid_index) : 970\n",
      "================================= 1fold lightgbm =================================\n"
     ]
    },
    {
     "name": "stdout",
     "output_type": "stream",
     "text": [
      "[60]\ttraining's binary_logloss: 0.00878128\tvalid_1's binary_logloss: 0.0627157\n",
      "Early stopping, best iteration is:\n",
      "[51]\ttraining's binary_logloss: 0.0113282\tvalid_1's binary_logloss: 0.0618348\n",
      "Training until validation scores don't improve for 10 rounds\n",
      "[20]\ttraining's binary_logloss: 0.0548308\tvalid_1's binary_logloss: 0.0897475\n",
      "[40]\ttraining's binary_logloss: 0.0288705\tvalid_1's binary_logloss: 0.0676835\n",
      "[60]\ttraining's binary_logloss: 0.0162258\tvalid_1's binary_logloss: 0.0588755\n",
      "[80]\ttraining's binary_logloss: 0.00923267\tvalid_1's binary_logloss: 0.0557479\n",
      "[100]\ttraining's binary_logloss: 0.00535438\tvalid_1's binary_logloss: 0.0543928\n"
     ]
    },
    {
     "name": "stderr",
     "output_type": "stream",
     "text": [
      "len(train_index) : 970\n",
      "len(valid_index) : 969\n",
      "================================= 2fold lightgbm =================================\n"
     ]
    },
    {
     "name": "stdout",
     "output_type": "stream",
     "text": [
      "[120]\ttraining's binary_logloss: 0.00310763\tvalid_1's binary_logloss: 0.0544508\n",
      "Early stopping, best iteration is:\n",
      "[110]\ttraining's binary_logloss: 0.00408439\tvalid_1's binary_logloss: 0.0541326\n",
      "Training until validation scores don't improve for 10 rounds\n",
      "[20]\ttraining's binary_logloss: 0.0597148\tvalid_1's binary_logloss: 0.0878962\n",
      "[40]\ttraining's binary_logloss: 0.0327575\tvalid_1's binary_logloss: 0.0742959\n",
      "[60]\ttraining's binary_logloss: 0.0184857\tvalid_1's binary_logloss: 0.0669424\n",
      "[80]\ttraining's binary_logloss: 0.0107065\tvalid_1's binary_logloss: 0.0637471\n",
      "[100]\ttraining's binary_logloss: 0.00621637\tvalid_1's binary_logloss: 0.0619814\n"
     ]
    },
    {
     "name": "stderr",
     "output_type": "stream",
     "text": [
      "immunosuppressant logloss: 0.05788735070544168\n",
      "=========================================================================================\n",
      "len(trt) : 30\n",
      "len(train_index) : 948\n",
      "len(valid_index) : 948\n",
      "================================= 1fold lightgbm =================================\n"
     ]
    },
    {
     "name": "stdout",
     "output_type": "stream",
     "text": [
      "Early stopping, best iteration is:\n",
      "[109]\ttraining's binary_logloss: 0.00488296\tvalid_1's binary_logloss: 0.061646\n",
      "Training until validation scores don't improve for 10 rounds\n",
      "[20]\ttraining's binary_logloss: 0.0279966\tvalid_1's binary_logloss: 0.061404\n",
      "[40]\ttraining's binary_logloss: 0.0144264\tvalid_1's binary_logloss: 0.0552724\n",
      "[60]\ttraining's binary_logloss: 0.00804673\tvalid_1's binary_logloss: 0.0521506\n"
     ]
    },
    {
     "name": "stderr",
     "output_type": "stream",
     "text": [
      "len(train_index) : 948\n",
      "len(valid_index) : 948\n",
      "================================= 2fold lightgbm =================================\n"
     ]
    },
    {
     "name": "stdout",
     "output_type": "stream",
     "text": [
      "Early stopping, best iteration is:\n",
      "[67]\ttraining's binary_logloss: 0.00660605\tvalid_1's binary_logloss: 0.051568\n",
      "Training until validation scores don't improve for 10 rounds\n",
      "[20]\ttraining's binary_logloss: 0.0269859\tvalid_1's binary_logloss: 0.0555551\n",
      "[40]\ttraining's binary_logloss: 0.0141967\tvalid_1's binary_logloss: 0.0529603\n"
     ]
    },
    {
     "name": "stderr",
     "output_type": "stream",
     "text": [
      "insulin_secretagogue logloss: 0.052264131234006354\n",
      "=========================================================================================\n",
      "len(trt) : 51\n",
      "len(train_index) : 958\n",
      "len(valid_index) : 959\n",
      "================================= 1fold lightgbm =================================\n"
     ]
    },
    {
     "name": "stdout",
     "output_type": "stream",
     "text": [
      "Early stopping, best iteration is:\n",
      "[40]\ttraining's binary_logloss: 0.0141967\tvalid_1's binary_logloss: 0.0529603\n",
      "Training until validation scores don't improve for 10 rounds\n",
      "[20]\ttraining's binary_logloss: 0.0453616\tvalid_1's binary_logloss: 0.0862352\n",
      "[40]\ttraining's binary_logloss: 0.0243885\tvalid_1's binary_logloss: 0.0767436\n",
      "[60]\ttraining's binary_logloss: 0.013723\tvalid_1's binary_logloss: 0.0723092\n",
      "[80]\ttraining's binary_logloss: 0.00792793\tvalid_1's binary_logloss: 0.0710005\n"
     ]
    },
    {
     "name": "stderr",
     "output_type": "stream",
     "text": [
      "len(train_index) : 959\n",
      "len(valid_index) : 958\n",
      "================================= 2fold lightgbm =================================\n"
     ]
    },
    {
     "name": "stdout",
     "output_type": "stream",
     "text": [
      "Early stopping, best iteration is:\n",
      "[86]\ttraining's binary_logloss: 0.0067254\tvalid_1's binary_logloss: 0.0701783\n",
      "Training until validation scores don't improve for 10 rounds\n",
      "[20]\ttraining's binary_logloss: 0.0452133\tvalid_1's binary_logloss: 0.0741369\n",
      "[40]\ttraining's binary_logloss: 0.0245353\tvalid_1's binary_logloss: 0.0637888\n",
      "[60]\ttraining's binary_logloss: 0.0142562\tvalid_1's binary_logloss: 0.0595046\n",
      "[80]\ttraining's binary_logloss: 0.00842377\tvalid_1's binary_logloss: 0.0566813\n",
      "[100]\ttraining's binary_logloss: 0.00500485\tvalid_1's binary_logloss: 0.0552979\n"
     ]
    },
    {
     "name": "stderr",
     "output_type": "stream",
     "text": [
      "insulin_sensitizer logloss: 0.06227398301402082\n",
      "=========================================================================================\n",
      "len(trt) : 42\n",
      "len(train_index) : 954\n",
      "len(valid_index) : 954\n",
      "================================= 1fold lightgbm =================================\n"
     ]
    },
    {
     "name": "stdout",
     "output_type": "stream",
     "text": [
      "[120]\ttraining's binary_logloss: 0.00300336\tvalid_1's binary_logloss: 0.0549061\n",
      "Early stopping, best iteration is:\n",
      "[112]\ttraining's binary_logloss: 0.00366953\tvalid_1's binary_logloss: 0.0543614\n",
      "Training until validation scores don't improve for 10 rounds\n",
      "[20]\ttraining's binary_logloss: 0.0369249\tvalid_1's binary_logloss: 0.0747721\n",
      "[40]\ttraining's binary_logloss: 0.0194289\tvalid_1's binary_logloss: 0.0676563\n",
      "[60]\ttraining's binary_logloss: 0.0110671\tvalid_1's binary_logloss: 0.061966\n",
      "[80]\ttraining's binary_logloss: 0.0064101\tvalid_1's binary_logloss: 0.0581759\n",
      "[100]\ttraining's binary_logloss: 0.00375324\tvalid_1's binary_logloss: 0.0568059\n"
     ]
    },
    {
     "name": "stderr",
     "output_type": "stream",
     "text": [
      "len(train_index) : 954\n",
      "len(valid_index) : 954\n",
      "================================= 2fold lightgbm =================================\n"
     ]
    },
    {
     "name": "stdout",
     "output_type": "stream",
     "text": [
      "[120]\ttraining's binary_logloss: 0.00220559\tvalid_1's binary_logloss: 0.0575541\n",
      "Early stopping, best iteration is:\n",
      "[110]\ttraining's binary_logloss: 0.00288563\tvalid_1's binary_logloss: 0.0567028\n",
      "Training until validation scores don't improve for 10 rounds\n",
      "[20]\ttraining's binary_logloss: 0.0352828\tvalid_1's binary_logloss: 0.0674181\n",
      "[40]\ttraining's binary_logloss: 0.0184998\tvalid_1's binary_logloss: 0.0579917\n",
      "[60]\ttraining's binary_logloss: 0.0103291\tvalid_1's binary_logloss: 0.0561207\n"
     ]
    },
    {
     "name": "stderr",
     "output_type": "stream",
     "text": [
      "integrin_inhibitor logloss: 0.05623462270503485\n",
      "=========================================================================================\n",
      "len(trt) : 92\n",
      "len(train_index) : 979\n",
      "len(valid_index) : 979\n",
      "================================= 1fold lightgbm =================================\n"
     ]
    },
    {
     "name": "stdout",
     "output_type": "stream",
     "text": [
      "Early stopping, best iteration is:\n",
      "[68]\ttraining's binary_logloss: 0.0082672\tvalid_1's binary_logloss: 0.0557664\n",
      "Training until validation scores don't improve for 10 rounds\n",
      "[20]\ttraining's binary_logloss: 0.0653162\tvalid_1's binary_logloss: 0.0712799\n",
      "[40]\ttraining's binary_logloss: 0.0340863\tvalid_1's binary_logloss: 0.0427913\n",
      "[60]\ttraining's binary_logloss: 0.018602\tvalid_1's binary_logloss: 0.0276502\n",
      "[80]\ttraining's binary_logloss: 0.0103521\tvalid_1's binary_logloss: 0.0191697\n",
      "[100]\ttraining's binary_logloss: 0.00588312\tvalid_1's binary_logloss: 0.014552\n",
      "[120]\ttraining's binary_logloss: 0.00336512\tvalid_1's binary_logloss: 0.0117428\n",
      "[140]\ttraining's binary_logloss: 0.00192522\tvalid_1's binary_logloss: 0.0103362\n",
      "[160]\ttraining's binary_logloss: 0.00110701\tvalid_1's binary_logloss: 0.00947418\n",
      "[180]\ttraining's binary_logloss: 0.000633725\tvalid_1's binary_logloss: 0.00911275\n"
     ]
    },
    {
     "name": "stderr",
     "output_type": "stream",
     "text": [
      "len(train_index) : 979\n",
      "len(valid_index) : 979\n",
      "================================= 2fold lightgbm =================================\n"
     ]
    },
    {
     "name": "stdout",
     "output_type": "stream",
     "text": [
      "Early stopping, best iteration is:\n",
      "[188]\ttraining's binary_logloss: 0.000506438\tvalid_1's binary_logloss: 0.00905928\n",
      "Training until validation scores don't improve for 10 rounds\n",
      "[20]\ttraining's binary_logloss: 0.066831\tvalid_1's binary_logloss: 0.0820865\n",
      "[40]\ttraining's binary_logloss: 0.0331728\tvalid_1's binary_logloss: 0.0529421\n",
      "[60]\ttraining's binary_logloss: 0.0178481\tvalid_1's binary_logloss: 0.0398001\n",
      "[80]\ttraining's binary_logloss: 0.0098751\tvalid_1's binary_logloss: 0.0338902\n",
      "[100]\ttraining's binary_logloss: 0.0056041\tvalid_1's binary_logloss: 0.0303316\n",
      "[120]\ttraining's binary_logloss: 0.00318704\tvalid_1's binary_logloss: 0.0289795\n",
      "[140]\ttraining's binary_logloss: 0.00181827\tvalid_1's binary_logloss: 0.0283214\n"
     ]
    },
    {
     "name": "stderr",
     "output_type": "stream",
     "text": [
      "jak_inhibitor logloss: 0.018476491383999684\n",
      "=========================================================================================\n"
     ]
    },
    {
     "name": "stdout",
     "output_type": "stream",
     "text": [
      "[160]\ttraining's binary_logloss: 0.00103696\tvalid_1's binary_logloss: 0.0281947\n",
      "Early stopping, best iteration is:\n",
      "[154]\ttraining's binary_logloss: 0.00122832\tvalid_1's binary_logloss: 0.0278937\n"
     ]
    },
    {
     "name": "stderr",
     "output_type": "stream",
     "text": [
      "len(trt) : 273\n",
      "len(train_index) : 1069\n",
      "len(valid_index) : 1070\n",
      "================================= 1fold lightgbm =================================\n"
     ]
    },
    {
     "name": "stdout",
     "output_type": "stream",
     "text": [
      "Training until validation scores don't improve for 10 rounds\n",
      "[20]\ttraining's binary_logloss: 0.152248\tvalid_1's binary_logloss: 0.158418\n",
      "[40]\ttraining's binary_logloss: 0.0803176\tvalid_1's binary_logloss: 0.0913796\n",
      "[60]\ttraining's binary_logloss: 0.0442092\tvalid_1's binary_logloss: 0.0594913\n",
      "[80]\ttraining's binary_logloss: 0.0249063\tvalid_1's binary_logloss: 0.043512\n",
      "[100]\ttraining's binary_logloss: 0.014225\tvalid_1's binary_logloss: 0.0358184\n",
      "[120]\ttraining's binary_logloss: 0.00823328\tvalid_1's binary_logloss: 0.0322604\n",
      "[140]\ttraining's binary_logloss: 0.00479726\tvalid_1's binary_logloss: 0.0310009\n"
     ]
    },
    {
     "name": "stderr",
     "output_type": "stream",
     "text": [
      "len(train_index) : 1070\n",
      "len(valid_index) : 1069\n",
      "================================= 2fold lightgbm =================================\n"
     ]
    },
    {
     "name": "stdout",
     "output_type": "stream",
     "text": [
      "Early stopping, best iteration is:\n",
      "[148]\ttraining's binary_logloss: 0.00387847\tvalid_1's binary_logloss: 0.0307273\n",
      "Training until validation scores don't improve for 10 rounds\n",
      "[20]\ttraining's binary_logloss: 0.154992\tvalid_1's binary_logloss: 0.159853\n",
      "[40]\ttraining's binary_logloss: 0.0827464\tvalid_1's binary_logloss: 0.093661\n",
      "[60]\ttraining's binary_logloss: 0.0465684\tvalid_1's binary_logloss: 0.061598\n",
      "[80]\ttraining's binary_logloss: 0.0267878\tvalid_1's binary_logloss: 0.0443214\n",
      "[100]\ttraining's binary_logloss: 0.0156413\tvalid_1's binary_logloss: 0.0356935\n",
      "[120]\ttraining's binary_logloss: 0.00916109\tvalid_1's binary_logloss: 0.0309001\n",
      "[140]\ttraining's binary_logloss: 0.00541809\tvalid_1's binary_logloss: 0.028955\n"
     ]
    },
    {
     "name": "stderr",
     "output_type": "stream",
     "text": [
      "kit_inhibitor logloss: 0.029578576576243888\n",
      "=========================================================================================\n",
      "len(trt) : 6\n",
      "len(train_index) : 936\n",
      "len(valid_index) : 936\n",
      "================================= 1fold lightgbm =================================\n"
     ]
    },
    {
     "name": "stdout",
     "output_type": "stream",
     "text": [
      "Early stopping, best iteration is:\n",
      "[148]\ttraining's binary_logloss: 0.00440178\tvalid_1's binary_logloss: 0.0284287\n",
      "Training until validation scores don't improve for 10 rounds\n",
      "[20]\ttraining's binary_logloss: 0.00550445\tvalid_1's binary_logloss: 0.0145125\n",
      "[40]\ttraining's binary_logloss: 0.00281063\tvalid_1's binary_logloss: 0.0124543\n",
      "[60]\ttraining's binary_logloss: 0.00156354\tvalid_1's binary_logloss: 0.0116083\n"
     ]
    },
    {
     "name": "stderr",
     "output_type": "stream",
     "text": [
      "len(train_index) : 936\n",
      "len(valid_index) : 936\n",
      "================================= 2fold lightgbm =================================\n"
     ]
    },
    {
     "name": "stdout",
     "output_type": "stream",
     "text": [
      "[80]\ttraining's binary_logloss: 0.000889243\tvalid_1's binary_logloss: 0.0114084\n",
      "Early stopping, best iteration is:\n",
      "[74]\ttraining's binary_logloss: 0.0010534\tvalid_1's binary_logloss: 0.0113738\n",
      "Training until validation scores don't improve for 10 rounds\n",
      "[20]\ttraining's binary_logloss: 0.00537963\tvalid_1's binary_logloss: 0.0168678\n"
     ]
    },
    {
     "name": "stderr",
     "output_type": "stream",
     "text": [
      "laxative logloss: 0.013731727956761985\n",
      "=========================================================================================\n",
      "len(trt) : 6\n",
      "len(train_index) : 936\n",
      "len(valid_index) : 936\n",
      "================================= 1fold lightgbm =================================\n"
     ]
    },
    {
     "name": "stdout",
     "output_type": "stream",
     "text": [
      "[40]\ttraining's binary_logloss: 0.0027349\tvalid_1's binary_logloss: 0.0163905\n",
      "Early stopping, best iteration is:\n",
      "[33]\ttraining's binary_logloss: 0.00342265\tvalid_1's binary_logloss: 0.0160897\n",
      "Training until validation scores don't improve for 10 rounds\n"
     ]
    },
    {
     "name": "stderr",
     "output_type": "stream",
     "text": [
      "len(train_index) : 936\n",
      "len(valid_index) : 936\n",
      "================================= 2fold lightgbm =================================\n"
     ]
    },
    {
     "name": "stdout",
     "output_type": "stream",
     "text": [
      "Early stopping, best iteration is:\n",
      "[4]\ttraining's binary_logloss: 0.012704\tvalid_1's binary_logloss: 0.0192079\n",
      "Training until validation scores don't improve for 10 rounds\n",
      "[20]\ttraining's binary_logloss: 0.00538466\tvalid_1's binary_logloss: 0.0166197\n"
     ]
    },
    {
     "name": "stderr",
     "output_type": "stream",
     "text": [
      "leukotriene_inhibitor logloss: 0.017742013661895605\n",
      "=========================================================================================\n",
      "len(trt) : 62\n",
      "len(train_index) : 964\n",
      "len(valid_index) : 964\n",
      "================================= 1fold lightgbm =================================\n"
     ]
    },
    {
     "name": "stdout",
     "output_type": "stream",
     "text": [
      "[40]\ttraining's binary_logloss: 0.00275231\tvalid_1's binary_logloss: 0.0163025\n",
      "Early stopping, best iteration is:\n",
      "[31]\ttraining's binary_logloss: 0.00366785\tvalid_1's binary_logloss: 0.0162761\n",
      "Training until validation scores don't improve for 10 rounds\n",
      "[20]\ttraining's binary_logloss: 0.054485\tvalid_1's binary_logloss: 0.0908102\n",
      "[40]\ttraining's binary_logloss: 0.029403\tvalid_1's binary_logloss: 0.0747614\n",
      "[60]\ttraining's binary_logloss: 0.0168402\tvalid_1's binary_logloss: 0.0675898\n",
      "[80]\ttraining's binary_logloss: 0.00993492\tvalid_1's binary_logloss: 0.0648125\n"
     ]
    },
    {
     "name": "stderr",
     "output_type": "stream",
     "text": [
      "len(train_index) : 964\n",
      "len(valid_index) : 964\n",
      "================================= 2fold lightgbm =================================\n"
     ]
    },
    {
     "name": "stdout",
     "output_type": "stream",
     "text": [
      "[100]\ttraining's binary_logloss: 0.00578795\tvalid_1's binary_logloss: 0.0642404\n",
      "Early stopping, best iteration is:\n",
      "[92]\ttraining's binary_logloss: 0.00717919\tvalid_1's binary_logloss: 0.06392\n",
      "Training until validation scores don't improve for 10 rounds\n",
      "[20]\ttraining's binary_logloss: 0.0527437\tvalid_1's binary_logloss: 0.0898981\n",
      "[40]\ttraining's binary_logloss: 0.0285878\tvalid_1's binary_logloss: 0.0741642\n",
      "[60]\ttraining's binary_logloss: 0.0164495\tvalid_1's binary_logloss: 0.0659527\n",
      "[80]\ttraining's binary_logloss: 0.00968627\tvalid_1's binary_logloss: 0.060951\n",
      "[100]\ttraining's binary_logloss: 0.00580251\tvalid_1's binary_logloss: 0.0588834\n",
      "[120]\ttraining's binary_logloss: 0.00348617\tvalid_1's binary_logloss: 0.0581739\n"
     ]
    },
    {
     "name": "stderr",
     "output_type": "stream",
     "text": [
      "leukotriene_receptor_antagonist logloss: 0.06076886630186591\n",
      "=========================================================================================\n",
      "len(trt) : 12\n",
      "len(train_index) : 939\n",
      "len(valid_index) : 939\n",
      "================================= 1fold lightgbm =================================\n"
     ]
    },
    {
     "name": "stdout",
     "output_type": "stream",
     "text": [
      "Early stopping, best iteration is:\n",
      "[127]\ttraining's binary_logloss: 0.00292249\tvalid_1's binary_logloss: 0.0576177\n",
      "Training until validation scores don't improve for 10 rounds\n",
      "[20]\ttraining's binary_logloss: 0.0125131\tvalid_1's binary_logloss: 0.0347832\n"
     ]
    },
    {
     "name": "stderr",
     "output_type": "stream",
     "text": [
      "len(train_index) : 939\n",
      "len(valid_index) : 939\n",
      "================================= 2fold lightgbm =================================\n"
     ]
    },
    {
     "name": "stdout",
     "output_type": "stream",
     "text": [
      "Early stopping, best iteration is:\n",
      "[21]\ttraining's binary_logloss: 0.0119701\tvalid_1's binary_logloss: 0.0345979\n",
      "Training until validation scores don't improve for 10 rounds\n",
      "[20]\ttraining's binary_logloss: 0.0116747\tvalid_1's binary_logloss: 0.0312833\n"
     ]
    },
    {
     "name": "stderr",
     "output_type": "stream",
     "text": [
      "lipase_inhibitor logloss: 0.032894661913448885\n",
      "=========================================================================================\n",
      "len(trt) : 61\n",
      "len(train_index) : 963\n",
      "len(valid_index) : 964\n",
      "================================= 1fold lightgbm =================================\n"
     ]
    },
    {
     "name": "stdout",
     "output_type": "stream",
     "text": [
      "Early stopping, best iteration is:\n",
      "[22]\ttraining's binary_logloss: 0.0107636\tvalid_1's binary_logloss: 0.0311914\n",
      "Training until validation scores don't improve for 10 rounds\n",
      "[20]\ttraining's binary_logloss: 0.0526559\tvalid_1's binary_logloss: 0.0989343\n",
      "[40]\ttraining's binary_logloss: 0.0283228\tvalid_1's binary_logloss: 0.0826541\n",
      "[60]\ttraining's binary_logloss: 0.0159094\tvalid_1's binary_logloss: 0.0758259\n",
      "[80]\ttraining's binary_logloss: 0.00919384\tvalid_1's binary_logloss: 0.0743594\n",
      "[100]\ttraining's binary_logloss: 0.0054209\tvalid_1's binary_logloss: 0.0737523\n"
     ]
    },
    {
     "name": "stderr",
     "output_type": "stream",
     "text": [
      "len(train_index) : 964\n",
      "len(valid_index) : 963\n",
      "================================= 2fold lightgbm =================================\n"
     ]
    },
    {
     "name": "stdout",
     "output_type": "stream",
     "text": [
      "Early stopping, best iteration is:\n",
      "[106]\ttraining's binary_logloss: 0.00462369\tvalid_1's binary_logloss: 0.0727728\n",
      "Training until validation scores don't improve for 10 rounds\n",
      "[20]\ttraining's binary_logloss: 0.0530127\tvalid_1's binary_logloss: 0.0806908\n",
      "[40]\ttraining's binary_logloss: 0.0282102\tvalid_1's binary_logloss: 0.0610815\n",
      "[60]\ttraining's binary_logloss: 0.0160624\tvalid_1's binary_logloss: 0.0519421\n",
      "[80]\ttraining's binary_logloss: 0.00948857\tvalid_1's binary_logloss: 0.0474321\n",
      "[100]\ttraining's binary_logloss: 0.00565928\tvalid_1's binary_logloss: 0.046064\n"
     ]
    },
    {
     "name": "stderr",
     "output_type": "stream",
     "text": [
      "lipoxygenase_inhibitor logloss: 0.059124067790670864\n",
      "=========================================================================================\n",
      "len(trt) : 6\n",
      "len(train_index) : 936\n",
      "len(valid_index) : 936\n",
      "================================= 1fold lightgbm =================================\n"
     ]
    },
    {
     "name": "stdout",
     "output_type": "stream",
     "text": [
      "Early stopping, best iteration is:\n",
      "[104]\ttraining's binary_logloss: 0.0051107\tvalid_1's binary_logloss: 0.0454611\n",
      "Training until validation scores don't improve for 10 rounds\n",
      "[20]\ttraining's binary_logloss: 0.00581326\tvalid_1's binary_logloss: 0.0138844\n"
     ]
    },
    {
     "name": "stderr",
     "output_type": "stream",
     "text": [
      "len(train_index) : 936\n",
      "len(valid_index) : 936\n",
      "================================= 2fold lightgbm =================================\n"
     ]
    },
    {
     "name": "stdout",
     "output_type": "stream",
     "text": [
      "[40]\ttraining's binary_logloss: 0.00293194\tvalid_1's binary_logloss: 0.0136951\n",
      "Early stopping, best iteration is:\n",
      "[31]\ttraining's binary_logloss: 0.00391222\tvalid_1's binary_logloss: 0.0136586\n",
      "Training until validation scores don't improve for 10 rounds\n",
      "[20]\ttraining's binary_logloss: 0.00551265\tvalid_1's binary_logloss: 0.0169144\n",
      "[40]\ttraining's binary_logloss: 0.00282095\tvalid_1's binary_logloss: 0.0166157\n"
     ]
    },
    {
     "name": "stderr",
     "output_type": "stream",
     "text": [
      "lxr_agonist logloss: 0.01510737263526386\n",
      "=========================================================================================\n",
      "len(trt) : 31\n",
      "len(train_index) : 948\n",
      "len(valid_index) : 949\n",
      "================================= 1fold lightgbm =================================\n"
     ]
    },
    {
     "name": "stdout",
     "output_type": "stream",
     "text": [
      "Early stopping, best iteration is:\n",
      "[45]\ttraining's binary_logloss: 0.00242465\tvalid_1's binary_logloss: 0.0165561\n",
      "Training until validation scores don't improve for 10 rounds\n",
      "[20]\ttraining's binary_logloss: 0.0231885\tvalid_1's binary_logloss: 0.0328519\n",
      "[40]\ttraining's binary_logloss: 0.0118863\tvalid_1's binary_logloss: 0.0242266\n",
      "[60]\ttraining's binary_logloss: 0.00651517\tvalid_1's binary_logloss: 0.0204265\n",
      "[80]\ttraining's binary_logloss: 0.00367095\tvalid_1's binary_logloss: 0.0186719\n",
      "[100]\ttraining's binary_logloss: 0.00209774\tvalid_1's binary_logloss: 0.0174266\n",
      "[120]\ttraining's binary_logloss: 0.00120294\tvalid_1's binary_logloss: 0.0164915\n",
      "[140]\ttraining's binary_logloss: 0.000692302\tvalid_1's binary_logloss: 0.0161297\n"
     ]
    },
    {
     "name": "stderr",
     "output_type": "stream",
     "text": [
      "len(train_index) : 949\n",
      "len(valid_index) : 948\n",
      "================================= 2fold lightgbm =================================\n"
     ]
    },
    {
     "name": "stdout",
     "output_type": "stream",
     "text": [
      "Early stopping, best iteration is:\n",
      "[145]\ttraining's binary_logloss: 0.000603184\tvalid_1's binary_logloss: 0.0157792\n",
      "Training until validation scores don't improve for 10 rounds\n",
      "[20]\ttraining's binary_logloss: 0.0235213\tvalid_1's binary_logloss: 0.0428115\n",
      "[40]\ttraining's binary_logloss: 0.0122061\tvalid_1's binary_logloss: 0.0326793\n",
      "[60]\ttraining's binary_logloss: 0.00671584\tvalid_1's binary_logloss: 0.0273811\n",
      "[80]\ttraining's binary_logloss: 0.00373898\tvalid_1's binary_logloss: 0.024269\n",
      "[100]\ttraining's binary_logloss: 0.0021175\tvalid_1's binary_logloss: 0.0225284\n",
      "[120]\ttraining's binary_logloss: 0.00118136\tvalid_1's binary_logloss: 0.0219673\n",
      "Early stopping, best iteration is:\n",
      "[117]\ttraining's binary_logloss: 0.00129127\tvalid_1's binary_logloss: 0.0219171\n"
     ]
    },
    {
     "name": "stderr",
     "output_type": "stream",
     "text": [
      "mdm_inhibitor logloss: 0.0188465143239633\n",
      "=========================================================================================\n",
      "len(trt) : 72\n",
      "len(train_index) : 969\n",
      "len(valid_index) : 969\n",
      "================================= 1fold lightgbm =================================\n"
     ]
    },
    {
     "name": "stdout",
     "output_type": "stream",
     "text": [
      "Training until validation scores don't improve for 10 rounds\n",
      "[20]\ttraining's binary_logloss: 0.0541233\tvalid_1's binary_logloss: 0.0626916\n",
      "[40]\ttraining's binary_logloss: 0.0284376\tvalid_1's binary_logloss: 0.0392727\n",
      "[60]\ttraining's binary_logloss: 0.0157061\tvalid_1's binary_logloss: 0.0268782\n",
      "[80]\ttraining's binary_logloss: 0.00885602\tvalid_1's binary_logloss: 0.0197735\n",
      "[100]\ttraining's binary_logloss: 0.00503677\tvalid_1's binary_logloss: 0.0158802\n",
      "[120]\ttraining's binary_logloss: 0.00289372\tvalid_1's binary_logloss: 0.0136633\n",
      "[140]\ttraining's binary_logloss: 0.00167722\tvalid_1's binary_logloss: 0.0125191\n",
      "[160]\ttraining's binary_logloss: 0.000974196\tvalid_1's binary_logloss: 0.0118496\n"
     ]
    },
    {
     "name": "stderr",
     "output_type": "stream",
     "text": [
      "len(train_index) : 969\n",
      "len(valid_index) : 969\n",
      "================================= 2fold lightgbm =================================\n"
     ]
    },
    {
     "name": "stdout",
     "output_type": "stream",
     "text": [
      "[180]\ttraining's binary_logloss: 0.000565575\tvalid_1's binary_logloss: 0.011817\n",
      "Early stopping, best iteration is:\n",
      "[171]\ttraining's binary_logloss: 0.000722604\tvalid_1's binary_logloss: 0.0117415\n",
      "Training until validation scores don't improve for 10 rounds\n",
      "[20]\ttraining's binary_logloss: 0.0502317\tvalid_1's binary_logloss: 0.0709724\n",
      "[40]\ttraining's binary_logloss: 0.0258185\tvalid_1's binary_logloss: 0.0528947\n",
      "[60]\ttraining's binary_logloss: 0.0139028\tvalid_1's binary_logloss: 0.0452138\n",
      "[80]\ttraining's binary_logloss: 0.00767226\tvalid_1's binary_logloss: 0.0419522\n"
     ]
    },
    {
     "name": "stderr",
     "output_type": "stream",
     "text": [
      "mek_inhibitor logloss: 0.02657737878513832\n",
      "=========================================================================================\n",
      "len(trt) : 74\n"
     ]
    },
    {
     "name": "stdout",
     "output_type": "stream",
     "text": [
      "[100]\ttraining's binary_logloss: 0.00427721\tvalid_1's binary_logloss: 0.0415168\n",
      "Early stopping, best iteration is:\n",
      "[94]\ttraining's binary_logloss: 0.00508854\tvalid_1's binary_logloss: 0.0414133\n"
     ]
    },
    {
     "name": "stderr",
     "output_type": "stream",
     "text": [
      "len(train_index) : 970\n",
      "len(valid_index) : 970\n",
      "================================= 1fold lightgbm =================================\n"
     ]
    },
    {
     "name": "stdout",
     "output_type": "stream",
     "text": [
      "Training until validation scores don't improve for 10 rounds\n",
      "[20]\ttraining's binary_logloss: 0.0643255\tvalid_1's binary_logloss: 0.10368\n",
      "[40]\ttraining's binary_logloss: 0.0345962\tvalid_1's binary_logloss: 0.0890394\n",
      "[60]\ttraining's binary_logloss: 0.0196816\tvalid_1's binary_logloss: 0.0820169\n",
      "[80]\ttraining's binary_logloss: 0.0115912\tvalid_1's binary_logloss: 0.079967\n",
      "[100]\ttraining's binary_logloss: 0.00691119\tvalid_1's binary_logloss: 0.077804\n",
      "[120]\ttraining's binary_logloss: 0.00416544\tvalid_1's binary_logloss: 0.0769507\n"
     ]
    },
    {
     "name": "stderr",
     "output_type": "stream",
     "text": [
      "len(train_index) : 970\n",
      "len(valid_index) : 970\n",
      "================================= 2fold lightgbm =================================\n"
     ]
    },
    {
     "name": "stdout",
     "output_type": "stream",
     "text": [
      "Early stopping, best iteration is:\n",
      "[123]\ttraining's binary_logloss: 0.00385134\tvalid_1's binary_logloss: 0.0766693\n",
      "Training until validation scores don't improve for 10 rounds\n",
      "[20]\ttraining's binary_logloss: 0.0652915\tvalid_1's binary_logloss: 0.115238\n",
      "[40]\ttraining's binary_logloss: 0.0357037\tvalid_1's binary_logloss: 0.0998759\n",
      "[60]\ttraining's binary_logloss: 0.0204465\tvalid_1's binary_logloss: 0.0910105\n",
      "[80]\ttraining's binary_logloss: 0.0119965\tvalid_1's binary_logloss: 0.0862229\n",
      "[100]\ttraining's binary_logloss: 0.00715378\tvalid_1's binary_logloss: 0.0847874\n",
      "[120]\ttraining's binary_logloss: 0.00431319\tvalid_1's binary_logloss: 0.0834147\n"
     ]
    },
    {
     "name": "stderr",
     "output_type": "stream",
     "text": [
      "membrane_integrity_inhibitor logloss: 0.08003259125892254\n",
      "=========================================================================================\n",
      "len(trt) : 25\n",
      "len(train_index) : 945\n",
      "len(valid_index) : 946\n",
      "================================= 1fold lightgbm =================================\n"
     ]
    },
    {
     "name": "stdout",
     "output_type": "stream",
     "text": [
      "Early stopping, best iteration is:\n",
      "[121]\ttraining's binary_logloss: 0.0042092\tvalid_1's binary_logloss: 0.0833959\n",
      "Training until validation scores don't improve for 10 rounds\n",
      "[20]\ttraining's binary_logloss: 0.022879\tvalid_1's binary_logloss: 0.0542877\n",
      "[40]\ttraining's binary_logloss: 0.0117337\tvalid_1's binary_logloss: 0.0509626\n"
     ]
    },
    {
     "name": "stderr",
     "output_type": "stream",
     "text": [
      "len(train_index) : 946\n",
      "len(valid_index) : 945\n",
      "================================= 2fold lightgbm =================================\n"
     ]
    },
    {
     "name": "stdout",
     "output_type": "stream",
     "text": [
      "Early stopping, best iteration is:\n",
      "[45]\ttraining's binary_logloss: 0.0100902\tvalid_1's binary_logloss: 0.0504832\n",
      "Training until validation scores don't improve for 10 rounds\n",
      "[20]\ttraining's binary_logloss: 0.0257609\tvalid_1's binary_logloss: 0.0541689\n",
      "[40]\ttraining's binary_logloss: 0.0135255\tvalid_1's binary_logloss: 0.0492031\n",
      "[60]\ttraining's binary_logloss: 0.00747416\tvalid_1's binary_logloss: 0.0478126\n",
      "[80]\ttraining's binary_logloss: 0.00422665\tvalid_1's binary_logloss: 0.047274\n"
     ]
    },
    {
     "name": "stderr",
     "output_type": "stream",
     "text": [
      "mineralocorticoid_receptor_antagonist logloss: 0.04883124358699035\n",
      "=========================================================================================\n",
      "len(trt) : 12\n",
      "len(train_index) : 939\n",
      "len(valid_index) : 939\n",
      "================================= 1fold lightgbm =================================\n"
     ]
    },
    {
     "name": "stdout",
     "output_type": "stream",
     "text": [
      "Early stopping, best iteration is:\n",
      "[78]\ttraining's binary_logloss: 0.00447064\tvalid_1's binary_logloss: 0.0471776\n",
      "Training until validation scores don't improve for 10 rounds\n",
      "[20]\ttraining's binary_logloss: 0.0104374\tvalid_1's binary_logloss: 0.0287691\n",
      "[40]\ttraining's binary_logloss: 0.00526558\tvalid_1's binary_logloss: 0.0280214\n"
     ]
    },
    {
     "name": "stderr",
     "output_type": "stream",
     "text": [
      "len(train_index) : 939\n",
      "len(valid_index) : 939\n",
      "================================= 2fold lightgbm =================================\n"
     ]
    },
    {
     "name": "stdout",
     "output_type": "stream",
     "text": [
      "Early stopping, best iteration is:\n",
      "[43]\ttraining's binary_logloss: 0.00479589\tvalid_1's binary_logloss: 0.0278654\n",
      "Training until validation scores don't improve for 10 rounds\n",
      "[20]\ttraining's binary_logloss: 0.0112151\tvalid_1's binary_logloss: 0.0261797\n"
     ]
    },
    {
     "name": "stderr",
     "output_type": "stream",
     "text": [
      "monoacylglycerol_lipase_inhibitor logloss: 0.026283648602988593\n",
      "=========================================================================================\n",
      "len(trt) : 85\n",
      "len(train_index) : 975\n"
     ]
    },
    {
     "name": "stdout",
     "output_type": "stream",
     "text": [
      "[40]\ttraining's binary_logloss: 0.00561659\tvalid_1's binary_logloss: 0.0250943\n",
      "Early stopping, best iteration is:\n",
      "[33]\ttraining's binary_logloss: 0.0070642\tvalid_1's binary_logloss: 0.0247019\n"
     ]
    },
    {
     "name": "stderr",
     "output_type": "stream",
     "text": [
      "len(valid_index) : 976\n",
      "================================= 1fold lightgbm =================================\n"
     ]
    },
    {
     "name": "stdout",
     "output_type": "stream",
     "text": [
      "Training until validation scores don't improve for 10 rounds\n",
      "[20]\ttraining's binary_logloss: 0.0661791\tvalid_1's binary_logloss: 0.111454\n",
      "[40]\ttraining's binary_logloss: 0.0357674\tvalid_1's binary_logloss: 0.0910716\n",
      "[60]\ttraining's binary_logloss: 0.0201572\tvalid_1's binary_logloss: 0.0808736\n",
      "[80]\ttraining's binary_logloss: 0.0115724\tvalid_1's binary_logloss: 0.0747149\n",
      "[100]\ttraining's binary_logloss: 0.00676657\tvalid_1's binary_logloss: 0.0712223\n",
      "[120]\ttraining's binary_logloss: 0.00400662\tvalid_1's binary_logloss: 0.0707509\n"
     ]
    },
    {
     "name": "stderr",
     "output_type": "stream",
     "text": [
      "len(train_index) : 976\n",
      "len(valid_index) : 975\n",
      "================================= 2fold lightgbm =================================\n"
     ]
    },
    {
     "name": "stdout",
     "output_type": "stream",
     "text": [
      "Early stopping, best iteration is:\n",
      "[123]\ttraining's binary_logloss: 0.0037075\tvalid_1's binary_logloss: 0.0705916\n",
      "Training until validation scores don't improve for 10 rounds\n",
      "[20]\ttraining's binary_logloss: 0.0706571\tvalid_1's binary_logloss: 0.0970369\n",
      "[40]\ttraining's binary_logloss: 0.0391731\tvalid_1's binary_logloss: 0.0780465\n",
      "[60]\ttraining's binary_logloss: 0.0229909\tvalid_1's binary_logloss: 0.0691445\n",
      "[80]\ttraining's binary_logloss: 0.013781\tvalid_1's binary_logloss: 0.0651847\n",
      "[100]\ttraining's binary_logloss: 0.00832272\tvalid_1's binary_logloss: 0.0632981\n",
      "[120]\ttraining's binary_logloss: 0.00507427\tvalid_1's binary_logloss: 0.0616599\n",
      "[140]\ttraining's binary_logloss: 0.00311649\tvalid_1's binary_logloss: 0.060113\n",
      "[160]\ttraining's binary_logloss: 0.00190872\tvalid_1's binary_logloss: 0.0583004\n",
      "[180]\ttraining's binary_logloss: 0.00117759\tvalid_1's binary_logloss: 0.0574539\n",
      "Early stopping, best iteration is:\n",
      "[179]\ttraining's binary_logloss: 0.001202\tvalid_1's binary_logloss: 0.0570927\n"
     ]
    },
    {
     "name": "stderr",
     "output_type": "stream",
     "text": [
      "monoamine_oxidase_inhibitor logloss: 0.06384563730711572\n",
      "=========================================================================================\n",
      "len(trt) : 18\n",
      "len(train_index) : 942\n",
      "len(valid_index) : 942\n",
      "================================= 1fold lightgbm =================================\n"
     ]
    },
    {
     "name": "stdout",
     "output_type": "stream",
     "text": [
      "Training until validation scores don't improve for 10 rounds\n",
      "[20]\ttraining's binary_logloss: 0.017379\tvalid_1's binary_logloss: 0.0235481\n",
      "[40]\ttraining's binary_logloss: 0.00868542\tvalid_1's binary_logloss: 0.0161602\n",
      "[60]\ttraining's binary_logloss: 0.00474177\tvalid_1's binary_logloss: 0.0124935\n",
      "[80]\ttraining's binary_logloss: 0.00264467\tvalid_1's binary_logloss: 0.0107256\n",
      "[100]\ttraining's binary_logloss: 0.00151205\tvalid_1's binary_logloss: 0.00992313\n",
      "[120]\ttraining's binary_logloss: 0.000869561\tvalid_1's binary_logloss: 0.00925809\n",
      "[140]\ttraining's binary_logloss: 0.000505545\tvalid_1's binary_logloss: 0.00863123\n",
      "[160]\ttraining's binary_logloss: 0.000295147\tvalid_1's binary_logloss: 0.00838283\n"
     ]
    },
    {
     "name": "stderr",
     "output_type": "stream",
     "text": [
      "len(train_index) : 942\n",
      "len(valid_index) : 942\n",
      "================================= 2fold lightgbm =================================\n"
     ]
    },
    {
     "name": "stdout",
     "output_type": "stream",
     "text": [
      "Early stopping, best iteration is:\n",
      "[161]\ttraining's binary_logloss: 0.000287938\tvalid_1's binary_logloss: 0.00833247\n",
      "Training until validation scores don't improve for 10 rounds\n",
      "[20]\ttraining's binary_logloss: 0.0145946\tvalid_1's binary_logloss: 0.0257622\n",
      "[40]\ttraining's binary_logloss: 0.00729275\tvalid_1's binary_logloss: 0.0196038\n",
      "[60]\ttraining's binary_logloss: 0.00393229\tvalid_1's binary_logloss: 0.0165257\n",
      "[80]\ttraining's binary_logloss: 0.00218355\tvalid_1's binary_logloss: 0.01514\n",
      "[100]\ttraining's binary_logloss: 0.00122965\tvalid_1's binary_logloss: 0.0144176\n",
      "[120]\ttraining's binary_logloss: 0.000699805\tvalid_1's binary_logloss: 0.0141291\n"
     ]
    },
    {
     "name": "stderr",
     "output_type": "stream",
     "text": [
      "monopolar_spindle_1_kinase_inhibitor logloss: 0.011196854766901961\n",
      "=========================================================================================\n",
      "len(trt) : 130\n",
      "len(train_index) : 998\n",
      "len(valid_index) : 998\n",
      "================================= 1fold lightgbm =================================\n"
     ]
    },
    {
     "name": "stdout",
     "output_type": "stream",
     "text": [
      "Early stopping, best iteration is:\n",
      "[123]\ttraining's binary_logloss: 0.00064356\tvalid_1's binary_logloss: 0.0140612\n",
      "Training until validation scores don't improve for 10 rounds\n",
      "[20]\ttraining's binary_logloss: 0.086059\tvalid_1's binary_logloss: 0.0956124\n",
      "[40]\ttraining's binary_logloss: 0.044615\tvalid_1's binary_logloss: 0.0579751\n",
      "[60]\ttraining's binary_logloss: 0.0241969\tvalid_1's binary_logloss: 0.0415212\n",
      "[80]\ttraining's binary_logloss: 0.0134954\tvalid_1's binary_logloss: 0.0328584\n",
      "[100]\ttraining's binary_logloss: 0.00765656\tvalid_1's binary_logloss: 0.0283714\n",
      "[120]\ttraining's binary_logloss: 0.00435595\tvalid_1's binary_logloss: 0.0265066\n",
      "[140]\ttraining's binary_logloss: 0.00249285\tvalid_1's binary_logloss: 0.0257335\n"
     ]
    },
    {
     "name": "stderr",
     "output_type": "stream",
     "text": [
      "len(train_index) : 998\n",
      "len(valid_index) : 998\n",
      "================================= 2fold lightgbm =================================\n"
     ]
    },
    {
     "name": "stdout",
     "output_type": "stream",
     "text": [
      "Early stopping, best iteration is:\n",
      "[141]\ttraining's binary_logloss: 0.00242436\tvalid_1's binary_logloss: 0.0256833\n",
      "Training until validation scores don't improve for 10 rounds\n",
      "[20]\ttraining's binary_logloss: 0.0871041\tvalid_1's binary_logloss: 0.103135\n",
      "[40]\ttraining's binary_logloss: 0.0446601\tvalid_1's binary_logloss: 0.0667014\n",
      "[60]\ttraining's binary_logloss: 0.0244371\tvalid_1's binary_logloss: 0.0489561\n",
      "[80]\ttraining's binary_logloss: 0.0139171\tvalid_1's binary_logloss: 0.0378295\n",
      "[100]\ttraining's binary_logloss: 0.00771574\tvalid_1's binary_logloss: 0.0311868\n",
      "[120]\ttraining's binary_logloss: 0.00433546\tvalid_1's binary_logloss: 0.0276636\n",
      "[140]\ttraining's binary_logloss: 0.00246354\tvalid_1's binary_logloss: 0.0255487\n",
      "[160]\ttraining's binary_logloss: 0.00139047\tvalid_1's binary_logloss: 0.0251441\n"
     ]
    },
    {
     "name": "stderr",
     "output_type": "stream",
     "text": [
      "mtor_inhibitor logloss: 0.025375375405619065\n",
      "=========================================================================================\n",
      "len(trt) : 48\n",
      "len(train_index) : 957\n",
      "len(valid_index) : 957\n",
      "================================= 1fold lightgbm =================================\n"
     ]
    },
    {
     "name": "stdout",
     "output_type": "stream",
     "text": [
      "Early stopping, best iteration is:\n",
      "[167]\ttraining's binary_logloss: 0.00113858\tvalid_1's binary_logloss: 0.0250674\n",
      "Training until validation scores don't improve for 10 rounds\n",
      "[20]\ttraining's binary_logloss: 0.0436932\tvalid_1's binary_logloss: 0.0673644\n",
      "[40]\ttraining's binary_logloss: 0.023711\tvalid_1's binary_logloss: 0.0517836\n",
      "[60]\ttraining's binary_logloss: 0.013535\tvalid_1's binary_logloss: 0.0451437\n",
      "[80]\ttraining's binary_logloss: 0.00786421\tvalid_1's binary_logloss: 0.0424138\n",
      "[100]\ttraining's binary_logloss: 0.00465306\tvalid_1's binary_logloss: 0.0406199\n",
      "[120]\ttraining's binary_logloss: 0.00276568\tvalid_1's binary_logloss: 0.0406421\n",
      "Early stopping, best iteration is:\n",
      "[117]\ttraining's binary_logloss: 0.00299403\tvalid_1's binary_logloss: 0.0402042\n"
     ]
    },
    {
     "name": "stderr",
     "output_type": "stream",
     "text": [
      "len(train_index) : 957\n",
      "len(valid_index) : 957\n",
      "================================= 2fold lightgbm =================================\n"
     ]
    },
    {
     "name": "stdout",
     "output_type": "stream",
     "text": [
      "Training until validation scores don't improve for 10 rounds\n",
      "[20]\ttraining's binary_logloss: 0.0419062\tvalid_1's binary_logloss: 0.0765533\n",
      "[40]\ttraining's binary_logloss: 0.0217539\tvalid_1's binary_logloss: 0.0617031\n",
      "[60]\ttraining's binary_logloss: 0.0122007\tvalid_1's binary_logloss: 0.0552587\n",
      "[80]\ttraining's binary_logloss: 0.00699143\tvalid_1's binary_logloss: 0.0527238\n"
     ]
    },
    {
     "name": "stderr",
     "output_type": "stream",
     "text": [
      "mucolytic_agent logloss: 0.04640356459512226\n",
      "=========================================================================================\n",
      "len(trt) : 37\n",
      "len(train_index) : 951\n",
      "len(valid_index) : 952\n",
      "================================= 1fold lightgbm =================================\n"
     ]
    },
    {
     "name": "stdout",
     "output_type": "stream",
     "text": [
      "Early stopping, best iteration is:\n",
      "[86]\ttraining's binary_logloss: 0.00592395\tvalid_1's binary_logloss: 0.052603\n",
      "Training until validation scores don't improve for 10 rounds\n",
      "[20]\ttraining's binary_logloss: 0.0295963\tvalid_1's binary_logloss: 0.0652222\n",
      "[40]\ttraining's binary_logloss: 0.014852\tvalid_1's binary_logloss: 0.0628002\n"
     ]
    },
    {
     "name": "stderr",
     "output_type": "stream",
     "text": [
      "len(train_index) : 952\n",
      "len(valid_index) : 951\n",
      "================================= 2fold lightgbm =================================\n"
     ]
    },
    {
     "name": "stdout",
     "output_type": "stream",
     "text": [
      "Early stopping, best iteration is:\n",
      "[38]\ttraining's binary_logloss: 0.0158112\tvalid_1's binary_logloss: 0.0627119\n",
      "Training until validation scores don't improve for 10 rounds\n",
      "[20]\ttraining's binary_logloss: 0.0344928\tvalid_1's binary_logloss: 0.0533992\n",
      "[40]\ttraining's binary_logloss: 0.0181672\tvalid_1's binary_logloss: 0.0423946\n",
      "[60]\ttraining's binary_logloss: 0.0100239\tvalid_1's binary_logloss: 0.0392209\n"
     ]
    },
    {
     "name": "stderr",
     "output_type": "stream",
     "text": [
      "neuropeptide_receptor_antagonist logloss: 0.050925377962037936\n",
      "=========================================================================================\n",
      "len(trt) : 832\n",
      "len(train_index) : 1349\n",
      "len(valid_index) : 1349\n",
      "================================= 1fold lightgbm =================================\n"
     ]
    },
    {
     "name": "stdout",
     "output_type": "stream",
     "text": [
      "Early stopping, best iteration is:\n",
      "[56]\ttraining's binary_logloss: 0.0112355\tvalid_1's binary_logloss: 0.0391264\n",
      "Training until validation scores don't improve for 10 rounds\n",
      "[20]\ttraining's binary_logloss: 0.284549\tvalid_1's binary_logloss: 0.291414\n",
      "[40]\ttraining's binary_logloss: 0.150699\tvalid_1's binary_logloss: 0.161249\n",
      "[60]\ttraining's binary_logloss: 0.0831154\tvalid_1's binary_logloss: 0.0958155\n",
      "[80]\ttraining's binary_logloss: 0.0466534\tvalid_1's binary_logloss: 0.0604124\n",
      "[100]\ttraining's binary_logloss: 0.0265306\tvalid_1's binary_logloss: 0.040668\n",
      "[120]\ttraining's binary_logloss: 0.0150916\tvalid_1's binary_logloss: 0.0297869\n",
      "[140]\ttraining's binary_logloss: 0.00869859\tvalid_1's binary_logloss: 0.0238187\n",
      "[160]\ttraining's binary_logloss: 0.00503144\tvalid_1's binary_logloss: 0.0207392\n",
      "[180]\ttraining's binary_logloss: 0.00292975\tvalid_1's binary_logloss: 0.0192931\n",
      "[200]\ttraining's binary_logloss: 0.00169261\tvalid_1's binary_logloss: 0.0186439\n"
     ]
    },
    {
     "name": "stderr",
     "output_type": "stream",
     "text": [
      "len(train_index) : 1349\n",
      "len(valid_index) : 1349\n",
      "================================= 2fold lightgbm =================================\n"
     ]
    },
    {
     "name": "stdout",
     "output_type": "stream",
     "text": [
      "Early stopping, best iteration is:\n",
      "[206]\ttraining's binary_logloss: 0.00143828\tvalid_1's binary_logloss: 0.0186294\n",
      "Training until validation scores don't improve for 10 rounds\n",
      "[20]\ttraining's binary_logloss: 0.283492\tvalid_1's binary_logloss: 0.303717\n",
      "[40]\ttraining's binary_logloss: 0.149151\tvalid_1's binary_logloss: 0.177991\n",
      "[60]\ttraining's binary_logloss: 0.0821792\tvalid_1's binary_logloss: 0.115613\n",
      "[80]\ttraining's binary_logloss: 0.0460824\tvalid_1's binary_logloss: 0.082351\n",
      "[100]\ttraining's binary_logloss: 0.0259169\tvalid_1's binary_logloss: 0.0646068\n",
      "[120]\ttraining's binary_logloss: 0.0147379\tvalid_1's binary_logloss: 0.0547349\n",
      "[140]\ttraining's binary_logloss: 0.00842823\tvalid_1's binary_logloss: 0.049763\n",
      "[160]\ttraining's binary_logloss: 0.00480822\tvalid_1's binary_logloss: 0.0474015\n",
      "[180]\ttraining's binary_logloss: 0.00274799\tvalid_1's binary_logloss: 0.0470194\n",
      "[200]\ttraining's binary_logloss: 0.00157392\tvalid_1's binary_logloss: 0.0461759\n"
     ]
    },
    {
     "name": "stderr",
     "output_type": "stream",
     "text": [
      "nfkb_inhibitor logloss: 0.032122985533639896\n",
      "=========================================================================================\n"
     ]
    },
    {
     "name": "stdout",
     "output_type": "stream",
     "text": [
      "[220]\ttraining's binary_logloss: 0.000900259\tvalid_1's binary_logloss: 0.0456381\n",
      "Early stopping, best iteration is:\n",
      "[212]\ttraining's binary_logloss: 0.00112772\tvalid_1's binary_logloss: 0.0456166\n"
     ]
    },
    {
     "name": "stderr",
     "output_type": "stream",
     "text": [
      "len(trt) : 6\n",
      "len(train_index) : 936\n",
      "len(valid_index) : 936\n",
      "================================= 1fold lightgbm =================================\n"
     ]
    },
    {
     "name": "stdout",
     "output_type": "stream",
     "text": [
      "Training until validation scores don't improve for 10 rounds\n",
      "[20]\ttraining's binary_logloss: 0.00535904\tvalid_1's binary_logloss: 0.0156213\n",
      "[40]\ttraining's binary_logloss: 0.00274436\tvalid_1's binary_logloss: 0.0148713\n"
     ]
    },
    {
     "name": "stderr",
     "output_type": "stream",
     "text": [
      "len(train_index) : 936\n",
      "len(valid_index) : 936\n",
      "================================= 2fold lightgbm =================================\n"
     ]
    },
    {
     "name": "stdout",
     "output_type": "stream",
     "text": [
      "Early stopping, best iteration is:\n",
      "[41]\ttraining's binary_logloss: 0.00265648\tvalid_1's binary_logloss: 0.0148521\n",
      "Training until validation scores don't improve for 10 rounds\n",
      "[20]\ttraining's binary_logloss: 0.00536382\tvalid_1's binary_logloss: 0.0163949\n",
      "[40]\ttraining's binary_logloss: 0.00274028\tvalid_1's binary_logloss: 0.0158171\n"
     ]
    },
    {
     "name": "stderr",
     "output_type": "stream",
     "text": [
      "nicotinic_receptor_agonist logloss: 0.015218225311229882\n",
      "=========================================================================================\n",
      "len(trt) : 26\n",
      "len(train_index) : 946\n",
      "len(valid_index) : 946\n",
      "================================= 1fold lightgbm =================================\n"
     ]
    },
    {
     "name": "stdout",
     "output_type": "stream",
     "text": [
      "Early stopping, best iteration is:\n",
      "[48]\ttraining's binary_logloss: 0.00214118\tvalid_1's binary_logloss: 0.0155843\n",
      "Training until validation scores don't improve for 10 rounds\n",
      "[20]\ttraining's binary_logloss: 0.0267884\tvalid_1's binary_logloss: 0.0442761\n",
      "[40]\ttraining's binary_logloss: 0.0138053\tvalid_1's binary_logloss: 0.0376965\n",
      "[60]\ttraining's binary_logloss: 0.0074669\tvalid_1's binary_logloss: 0.0365654\n",
      "Early stopping, best iteration is:\n",
      "[54]\ttraining's binary_logloss: 0.00893685\tvalid_1's binary_logloss: 0.0361473\n"
     ]
    },
    {
     "name": "stderr",
     "output_type": "stream",
     "text": [
      "len(train_index) : 946\n",
      "len(valid_index) : 946\n",
      "================================= 2fold lightgbm =================================\n"
     ]
    },
    {
     "name": "stdout",
     "output_type": "stream",
     "text": [
      "Training until validation scores don't improve for 10 rounds\n",
      "[20]\ttraining's binary_logloss: 0.0224733\tvalid_1's binary_logloss: 0.0493214\n",
      "[40]\ttraining's binary_logloss: 0.0117852\tvalid_1's binary_logloss: 0.0445283\n"
     ]
    },
    {
     "name": "stderr",
     "output_type": "stream",
     "text": [
      "nitric_oxide_donor logloss: 0.039602930455961555\n",
      "=========================================================================================\n"
     ]
    },
    {
     "name": "stdout",
     "output_type": "stream",
     "text": [
      "[60]\ttraining's binary_logloss: 0.00659343\tvalid_1's binary_logloss: 0.043361\n",
      "Early stopping, best iteration is:\n",
      "[53]\ttraining's binary_logloss: 0.00807871\tvalid_1's binary_logloss: 0.0430585\n"
     ]
    },
    {
     "name": "stderr",
     "output_type": "stream",
     "text": [
      "len(trt) : 12\n",
      "len(train_index) : 939\n",
      "len(valid_index) : 939\n",
      "================================= 1fold lightgbm =================================\n"
     ]
    },
    {
     "name": "stdout",
     "output_type": "stream",
     "text": [
      "Training until validation scores don't improve for 10 rounds\n",
      "[20]\ttraining's binary_logloss: 0.0095455\tvalid_1's binary_logloss: 0.0281769\n",
      "[40]\ttraining's binary_logloss: 0.00488166\tvalid_1's binary_logloss: 0.02753\n",
      "Early stopping, best iteration is:\n",
      "[35]\ttraining's binary_logloss: 0.00572842\tvalid_1's binary_logloss: 0.0273598\n"
     ]
    },
    {
     "name": "stderr",
     "output_type": "stream",
     "text": [
      "len(train_index) : 939\n",
      "len(valid_index) : 939\n",
      "================================= 2fold lightgbm =================================\n"
     ]
    },
    {
     "name": "stdout",
     "output_type": "stream",
     "text": [
      "Training until validation scores don't improve for 10 rounds\n",
      "[20]\ttraining's binary_logloss: 0.0112151\tvalid_1's binary_logloss: 0.0256577\n",
      "[40]\ttraining's binary_logloss: 0.00608588\tvalid_1's binary_logloss: 0.0236196\n",
      "[60]\ttraining's binary_logloss: 0.0035699\tvalid_1's binary_logloss: 0.0231697\n"
     ]
    },
    {
     "name": "stderr",
     "output_type": "stream",
     "text": [
      "nitric_oxide_production_inhibitor logloss: 0.025249775331051653\n",
      "=========================================================================================\n",
      "len(trt) : 26\n",
      "len(train_index) : 946\n",
      "len(valid_index) : 946\n",
      "================================= 1fold lightgbm =================================\n"
     ]
    },
    {
     "name": "stdout",
     "output_type": "stream",
     "text": [
      "Early stopping, best iteration is:\n",
      "[63]\ttraining's binary_logloss: 0.00330675\tvalid_1's binary_logloss: 0.0231397\n",
      "Training until validation scores don't improve for 10 rounds\n",
      "[20]\ttraining's binary_logloss: 0.0220765\tvalid_1's binary_logloss: 0.0420036\n",
      "[40]\ttraining's binary_logloss: 0.0115338\tvalid_1's binary_logloss: 0.0339175\n",
      "[60]\ttraining's binary_logloss: 0.00644914\tvalid_1's binary_logloss: 0.0286912\n",
      "[80]\ttraining's binary_logloss: 0.00366011\tvalid_1's binary_logloss: 0.0261597\n",
      "[100]\ttraining's binary_logloss: 0.0021084\tvalid_1's binary_logloss: 0.0251275\n"
     ]
    },
    {
     "name": "stderr",
     "output_type": "stream",
     "text": [
      "len(train_index) : 946\n",
      "len(valid_index) : 946\n",
      "================================= 2fold lightgbm =================================\n"
     ]
    },
    {
     "name": "stdout",
     "output_type": "stream",
     "text": [
      "[120]\ttraining's binary_logloss: 0.00123348\tvalid_1's binary_logloss: 0.0248969\n",
      "Early stopping, best iteration is:\n",
      "[110]\ttraining's binary_logloss: 0.00160994\tvalid_1's binary_logloss: 0.0247954\n",
      "Training until validation scores don't improve for 10 rounds\n",
      "[20]\ttraining's binary_logloss: 0.0218438\tvalid_1's binary_logloss: 0.0540897\n",
      "[40]\ttraining's binary_logloss: 0.0114496\tvalid_1's binary_logloss: 0.0508107\n",
      "[60]\ttraining's binary_logloss: 0.00638098\tvalid_1's binary_logloss: 0.0487743\n",
      "[80]\ttraining's binary_logloss: 0.00363728\tvalid_1's binary_logloss: 0.0468967\n",
      "Early stopping, best iteration is:\n",
      "[77]\ttraining's binary_logloss: 0.00394698\tvalid_1's binary_logloss: 0.0464624\n"
     ]
    },
    {
     "name": "stderr",
     "output_type": "stream",
     "text": [
      "nitric_oxide_synthase_inhibitor logloss: 0.035628892898655284\n",
      "=========================================================================================\n",
      "len(trt) : 7\n",
      "len(train_index) : 936\n",
      "len(valid_index) : 937\n",
      "================================= 1fold lightgbm =================================\n"
     ]
    },
    {
     "name": "stdout",
     "output_type": "stream",
     "text": [
      "Training until validation scores don't improve for 10 rounds\n",
      "[20]\ttraining's binary_logloss: 0.00537933\tvalid_1's binary_logloss: 0.0191605\n"
     ]
    },
    {
     "name": "stderr",
     "output_type": "stream",
     "text": [
      "len(train_index) : 937\n",
      "len(valid_index) : 936\n",
      "================================= 2fold lightgbm =================================\n"
     ]
    },
    {
     "name": "stdout",
     "output_type": "stream",
     "text": [
      "Early stopping, best iteration is:\n",
      "[25]\ttraining's binary_logloss: 0.00447405\tvalid_1's binary_logloss: 0.0188394\n",
      "Training until validation scores don't improve for 10 rounds\n",
      "[20]\ttraining's binary_logloss: 0.00673344\tvalid_1's binary_logloss: 0.016485\n",
      "[40]\ttraining's binary_logloss: 0.00342688\tvalid_1's binary_logloss: 0.0156841\n"
     ]
    },
    {
     "name": "stderr",
     "output_type": "stream",
     "text": [
      "norepinephrine_reuptake_inhibitor logloss: 0.01715338786742071\n",
      "=========================================================================================\n",
      "len(trt) : 18\n",
      "len(train_index) : 942\n",
      "len(valid_index) : 942\n",
      "================================= 1fold lightgbm =================================\n"
     ]
    },
    {
     "name": "stdout",
     "output_type": "stream",
     "text": [
      "Early stopping, best iteration is:\n",
      "[44]\ttraining's binary_logloss: 0.00303312\tvalid_1's binary_logloss: 0.0154656\n",
      "Training until validation scores don't improve for 10 rounds\n",
      "[20]\ttraining's binary_logloss: 0.0145605\tvalid_1's binary_logloss: 0.0380971\n",
      "[40]\ttraining's binary_logloss: 0.00749826\tvalid_1's binary_logloss: 0.0369462\n"
     ]
    },
    {
     "name": "stderr",
     "output_type": "stream",
     "text": [
      "len(train_index) : 942\n",
      "len(valid_index) : 942\n",
      "================================= 2fold lightgbm =================================\n"
     ]
    },
    {
     "name": "stdout",
     "output_type": "stream",
     "text": [
      "Early stopping, best iteration is:\n",
      "[44]\ttraining's binary_logloss: 0.00660843\tvalid_1's binary_logloss: 0.0368931\n",
      "Training until validation scores don't improve for 10 rounds\n",
      "[20]\ttraining's binary_logloss: 0.0148562\tvalid_1's binary_logloss: 0.0248442\n",
      "[40]\ttraining's binary_logloss: 0.00791447\tvalid_1's binary_logloss: 0.0200754\n",
      "[60]\ttraining's binary_logloss: 0.00445395\tvalid_1's binary_logloss: 0.017588\n",
      "[80]\ttraining's binary_logloss: 0.00246776\tvalid_1's binary_logloss: 0.0164074\n"
     ]
    },
    {
     "name": "stderr",
     "output_type": "stream",
     "text": [
      "nrf2_activator logloss: 0.026434692005659437\n",
      "=========================================================================================\n",
      "len(trt) : 61\n",
      "len(train_index) : 963\n",
      "len(valid_index) : 964\n",
      "================================= 1fold lightgbm =================================\n"
     ]
    },
    {
     "name": "stdout",
     "output_type": "stream",
     "text": [
      "[100]\ttraining's binary_logloss: 0.00138907\tvalid_1's binary_logloss: 0.0160869\n",
      "Early stopping, best iteration is:\n",
      "[92]\ttraining's binary_logloss: 0.0017463\tvalid_1's binary_logloss: 0.0159763\n",
      "Training until validation scores don't improve for 10 rounds\n",
      "[20]\ttraining's binary_logloss: 0.0504543\tvalid_1's binary_logloss: 0.0874227\n",
      "[40]\ttraining's binary_logloss: 0.0274169\tvalid_1's binary_logloss: 0.0698222\n",
      "[60]\ttraining's binary_logloss: 0.0158391\tvalid_1's binary_logloss: 0.0616658\n",
      "[80]\ttraining's binary_logloss: 0.009292\tvalid_1's binary_logloss: 0.0568092\n",
      "[100]\ttraining's binary_logloss: 0.0054296\tvalid_1's binary_logloss: 0.0547034\n",
      "[120]\ttraining's binary_logloss: 0.00321356\tvalid_1's binary_logloss: 0.0531451\n"
     ]
    },
    {
     "name": "stderr",
     "output_type": "stream",
     "text": [
      "len(train_index) : 964\n",
      "len(valid_index) : 963\n",
      "================================= 2fold lightgbm =================================\n"
     ]
    },
    {
     "name": "stdout",
     "output_type": "stream",
     "text": [
      "Early stopping, best iteration is:\n",
      "[121]\ttraining's binary_logloss: 0.00312714\tvalid_1's binary_logloss: 0.0530939\n",
      "Training until validation scores don't improve for 10 rounds\n",
      "[20]\ttraining's binary_logloss: 0.0519616\tvalid_1's binary_logloss: 0.0829479\n",
      "[40]\ttraining's binary_logloss: 0.0279524\tvalid_1's binary_logloss: 0.0676901\n",
      "[60]\ttraining's binary_logloss: 0.0162409\tvalid_1's binary_logloss: 0.059133\n",
      "[80]\ttraining's binary_logloss: 0.00978171\tvalid_1's binary_logloss: 0.0548515\n",
      "[100]\ttraining's binary_logloss: 0.00590587\tvalid_1's binary_logloss: 0.0527196\n",
      "[120]\ttraining's binary_logloss: 0.00351488\tvalid_1's binary_logloss: 0.0510783\n",
      "[140]\ttraining's binary_logloss: 0.00210797\tvalid_1's binary_logloss: 0.0503649\n",
      "Early stopping, best iteration is:\n",
      "[140]\ttraining's binary_logloss: 0.00210797\tvalid_1's binary_logloss: 0.0503649\n"
     ]
    },
    {
     "name": "stderr",
     "output_type": "stream",
     "text": [
      "opioid_receptor_agonist logloss: 0.05173010901385988\n",
      "=========================================================================================\n",
      "len(trt) : 96\n",
      "len(train_index) : 981\n",
      "len(valid_index) : 981\n",
      "================================= 1fold lightgbm =================================\n"
     ]
    },
    {
     "name": "stdout",
     "output_type": "stream",
     "text": [
      "Training until validation scores don't improve for 10 rounds\n",
      "[20]\ttraining's binary_logloss: 0.0708044\tvalid_1's binary_logloss: 0.10593\n",
      "[40]\ttraining's binary_logloss: 0.0373226\tvalid_1's binary_logloss: 0.0796467\n",
      "[60]\ttraining's binary_logloss: 0.0208474\tvalid_1's binary_logloss: 0.0657928\n",
      "[80]\ttraining's binary_logloss: 0.0119663\tvalid_1's binary_logloss: 0.057855\n",
      "[100]\ttraining's binary_logloss: 0.00697366\tvalid_1's binary_logloss: 0.053646\n",
      "[120]\ttraining's binary_logloss: 0.00408726\tvalid_1's binary_logloss: 0.051345\n",
      "[140]\ttraining's binary_logloss: 0.00237285\tvalid_1's binary_logloss: 0.0504427\n",
      "[160]\ttraining's binary_logloss: 0.00139966\tvalid_1's binary_logloss: 0.0493045\n"
     ]
    },
    {
     "name": "stderr",
     "output_type": "stream",
     "text": [
      "len(train_index) : 981\n",
      "len(valid_index) : 981\n",
      "================================= 2fold lightgbm =================================\n"
     ]
    },
    {
     "name": "stdout",
     "output_type": "stream",
     "text": [
      "Early stopping, best iteration is:\n",
      "[163]\ttraining's binary_logloss: 0.00129257\tvalid_1's binary_logloss: 0.0489679\n",
      "Training until validation scores don't improve for 10 rounds\n",
      "[20]\ttraining's binary_logloss: 0.0744809\tvalid_1's binary_logloss: 0.0989932\n",
      "[40]\ttraining's binary_logloss: 0.0399167\tvalid_1's binary_logloss: 0.0711176\n",
      "[60]\ttraining's binary_logloss: 0.0224368\tvalid_1's binary_logloss: 0.0570194\n",
      "[80]\ttraining's binary_logloss: 0.0130675\tvalid_1's binary_logloss: 0.0489537\n",
      "[100]\ttraining's binary_logloss: 0.00773516\tvalid_1's binary_logloss: 0.0444925\n",
      "[120]\ttraining's binary_logloss: 0.00459153\tvalid_1's binary_logloss: 0.0416665\n",
      "[140]\ttraining's binary_logloss: 0.00273707\tvalid_1's binary_logloss: 0.0400915\n",
      "[160]\ttraining's binary_logloss: 0.00163341\tvalid_1's binary_logloss: 0.0390093\n",
      "[180]\ttraining's binary_logloss: 0.00097277\tvalid_1's binary_logloss: 0.0388046\n"
     ]
    },
    {
     "name": "stderr",
     "output_type": "stream",
     "text": [
      "opioid_receptor_antagonist logloss: 0.04385302394382327\n",
      "=========================================================================================\n",
      "len(trt) : 37\n",
      "len(train_index) : 951\n",
      "len(valid_index) : 952\n"
     ]
    },
    {
     "name": "stdout",
     "output_type": "stream",
     "text": [
      "[200]\ttraining's binary_logloss: 0.000579103\tvalid_1's binary_logloss: 0.0389866\n",
      "Early stopping, best iteration is:\n",
      "[192]\ttraining's binary_logloss: 0.000713712\tvalid_1's binary_logloss: 0.0387381\n"
     ]
    },
    {
     "name": "stderr",
     "output_type": "stream",
     "text": [
      "================================= 1fold lightgbm =================================\n"
     ]
    },
    {
     "name": "stdout",
     "output_type": "stream",
     "text": [
      "Training until validation scores don't improve for 10 rounds\n",
      "[20]\ttraining's binary_logloss: 0.0291468\tvalid_1's binary_logloss: 0.066159\n",
      "[40]\ttraining's binary_logloss: 0.0153818\tvalid_1's binary_logloss: 0.0589176\n",
      "[60]\ttraining's binary_logloss: 0.0085868\tvalid_1's binary_logloss: 0.0559742\n",
      "[80]\ttraining's binary_logloss: 0.00490194\tvalid_1's binary_logloss: 0.0555653\n",
      "Early stopping, best iteration is:\n",
      "[74]\ttraining's binary_logloss: 0.00578718\tvalid_1's binary_logloss: 0.0553449\n"
     ]
    },
    {
     "name": "stderr",
     "output_type": "stream",
     "text": [
      "len(train_index) : 952\n",
      "len(valid_index) : 951\n",
      "================================= 2fold lightgbm =================================\n"
     ]
    },
    {
     "name": "stdout",
     "output_type": "stream",
     "text": [
      "Training until validation scores don't improve for 10 rounds\n",
      "[20]\ttraining's binary_logloss: 0.0345692\tvalid_1's binary_logloss: 0.0510616\n",
      "[40]\ttraining's binary_logloss: 0.0177301\tvalid_1's binary_logloss: 0.0449382\n",
      "[60]\ttraining's binary_logloss: 0.00968784\tvalid_1's binary_logloss: 0.0410344\n"
     ]
    },
    {
     "name": "stderr",
     "output_type": "stream",
     "text": [
      "orexin_receptor_antagonist logloss: 0.047977134931554095\n",
      "=========================================================================================\n",
      "len(trt) : 62\n",
      "len(train_index) : 964\n",
      "len(valid_index) : 964\n",
      "================================= 1fold lightgbm =================================\n"
     ]
    },
    {
     "name": "stdout",
     "output_type": "stream",
     "text": [
      "Early stopping, best iteration is:\n",
      "[67]\ttraining's binary_logloss: 0.00791422\tvalid_1's binary_logloss: 0.0406016\n",
      "Training until validation scores don't improve for 10 rounds\n",
      "[20]\ttraining's binary_logloss: 0.0460701\tvalid_1's binary_logloss: 0.0672112\n",
      "[40]\ttraining's binary_logloss: 0.024797\tvalid_1's binary_logloss: 0.0484114\n",
      "[60]\ttraining's binary_logloss: 0.0135653\tvalid_1's binary_logloss: 0.0360737\n",
      "[80]\ttraining's binary_logloss: 0.00766304\tvalid_1's binary_logloss: 0.0291842\n",
      "[100]\ttraining's binary_logloss: 0.00443799\tvalid_1's binary_logloss: 0.0251637\n",
      "[120]\ttraining's binary_logloss: 0.00259303\tvalid_1's binary_logloss: 0.0230705\n",
      "[140]\ttraining's binary_logloss: 0.00149302\tvalid_1's binary_logloss: 0.0222236\n"
     ]
    },
    {
     "name": "stderr",
     "output_type": "stream",
     "text": [
      "len(train_index) : 964\n",
      "len(valid_index) : 964\n"
     ]
    },
    {
     "name": "stdout",
     "output_type": "stream",
     "text": [
      "[160]\ttraining's binary_logloss: 0.000863543\tvalid_1's binary_logloss: 0.0219105\n",
      "Early stopping, best iteration is:\n",
      "[155]\ttraining's binary_logloss: 0.000988078\tvalid_1's binary_logloss: 0.0217772\n"
     ]
    },
    {
     "name": "stderr",
     "output_type": "stream",
     "text": [
      "================================= 2fold lightgbm =================================\n"
     ]
    },
    {
     "name": "stdout",
     "output_type": "stream",
     "text": [
      "Training until validation scores don't improve for 10 rounds\n",
      "[20]\ttraining's binary_logloss: 0.0457273\tvalid_1's binary_logloss: 0.0670548\n",
      "[40]\ttraining's binary_logloss: 0.0238329\tvalid_1's binary_logloss: 0.0521782\n",
      "[60]\ttraining's binary_logloss: 0.013135\tvalid_1's binary_logloss: 0.0470584\n",
      "[80]\ttraining's binary_logloss: 0.00742523\tvalid_1's binary_logloss: 0.0452046\n",
      "[100]\ttraining's binary_logloss: 0.00421746\tvalid_1's binary_logloss: 0.0443857\n"
     ]
    },
    {
     "name": "stderr",
     "output_type": "stream",
     "text": [
      "p38_mapk_inhibitor logloss: 0.03276186845735583\n",
      "=========================================================================================\n"
     ]
    },
    {
     "name": "stdout",
     "output_type": "stream",
     "text": [
      "[120]\ttraining's binary_logloss: 0.00240505\tvalid_1's binary_logloss: 0.044004\n",
      "Early stopping, best iteration is:\n",
      "[114]\ttraining's binary_logloss: 0.00284484\tvalid_1's binary_logloss: 0.0437465\n"
     ]
    },
    {
     "name": "stderr",
     "output_type": "stream",
     "text": [
      "len(trt) : 24\n",
      "len(train_index) : 945\n",
      "len(valid_index) : 945\n",
      "================================= 1fold lightgbm =================================\n"
     ]
    },
    {
     "name": "stdout",
     "output_type": "stream",
     "text": [
      "Training until validation scores don't improve for 10 rounds\n",
      "[20]\ttraining's binary_logloss: 0.0196581\tvalid_1's binary_logloss: 0.0512005\n",
      "[40]\ttraining's binary_logloss: 0.0100714\tvalid_1's binary_logloss: 0.0490092\n"
     ]
    },
    {
     "name": "stderr",
     "output_type": "stream",
     "text": [
      "len(train_index) : 945\n",
      "len(valid_index) : 945\n",
      "================================= 2fold lightgbm =================================\n"
     ]
    },
    {
     "name": "stdout",
     "output_type": "stream",
     "text": [
      "Early stopping, best iteration is:\n",
      "[43]\ttraining's binary_logloss: 0.00914141\tvalid_1's binary_logloss: 0.0490068\n",
      "Training until validation scores don't improve for 10 rounds\n",
      "[20]\ttraining's binary_logloss: 0.0218258\tvalid_1's binary_logloss: 0.0435076\n",
      "[40]\ttraining's binary_logloss: 0.011342\tvalid_1's binary_logloss: 0.0366133\n",
      "[60]\ttraining's binary_logloss: 0.00624772\tvalid_1's binary_logloss: 0.0338978\n",
      "[80]\ttraining's binary_logloss: 0.00356078\tvalid_1's binary_logloss: 0.0327232\n"
     ]
    },
    {
     "name": "stderr",
     "output_type": "stream",
     "text": [
      "p-glycoprotein_inhibitor logloss: 0.040658048397278775\n",
      "=========================================================================================\n",
      "len(trt) : 61\n",
      "len(train_index) : 963\n",
      "len(valid_index) : 964\n"
     ]
    },
    {
     "name": "stdout",
     "output_type": "stream",
     "text": [
      "[100]\ttraining's binary_logloss: 0.00206658\tvalid_1's binary_logloss: 0.0325197\n",
      "Early stopping, best iteration is:\n",
      "[92]\ttraining's binary_logloss: 0.00256416\tvalid_1's binary_logloss: 0.0323093\n"
     ]
    },
    {
     "name": "stderr",
     "output_type": "stream",
     "text": [
      "================================= 1fold lightgbm =================================\n"
     ]
    },
    {
     "name": "stdout",
     "output_type": "stream",
     "text": [
      "Training until validation scores don't improve for 10 rounds\n",
      "[20]\ttraining's binary_logloss: 0.0506817\tvalid_1's binary_logloss: 0.082663\n",
      "[40]\ttraining's binary_logloss: 0.0263803\tvalid_1's binary_logloss: 0.0634305\n",
      "[60]\ttraining's binary_logloss: 0.0147797\tvalid_1's binary_logloss: 0.05275\n",
      "[80]\ttraining's binary_logloss: 0.00846842\tvalid_1's binary_logloss: 0.0475879\n",
      "[100]\ttraining's binary_logloss: 0.00492526\tvalid_1's binary_logloss: 0.0456583\n",
      "[120]\ttraining's binary_logloss: 0.00291387\tvalid_1's binary_logloss: 0.0436654\n",
      "[140]\ttraining's binary_logloss: 0.00172444\tvalid_1's binary_logloss: 0.0427297\n"
     ]
    },
    {
     "name": "stderr",
     "output_type": "stream",
     "text": [
      "len(train_index) : 964\n",
      "len(valid_index) : 963\n",
      "================================= 2fold lightgbm =================================\n"
     ]
    },
    {
     "name": "stdout",
     "output_type": "stream",
     "text": [
      "[160]\ttraining's binary_logloss: 0.00102206\tvalid_1's binary_logloss: 0.0424552\n",
      "Early stopping, best iteration is:\n",
      "[151]\ttraining's binary_logloss: 0.00129475\tvalid_1's binary_logloss: 0.0422643\n",
      "Training until validation scores don't improve for 10 rounds\n",
      "[20]\ttraining's binary_logloss: 0.0480733\tvalid_1's binary_logloss: 0.0795101\n",
      "[40]\ttraining's binary_logloss: 0.0253254\tvalid_1's binary_logloss: 0.0682448\n",
      "[60]\ttraining's binary_logloss: 0.0143786\tvalid_1's binary_logloss: 0.0628709\n",
      "[80]\ttraining's binary_logloss: 0.00821157\tvalid_1's binary_logloss: 0.0596243\n",
      "[100]\ttraining's binary_logloss: 0.0047538\tvalid_1's binary_logloss: 0.0576719\n"
     ]
    },
    {
     "name": "stderr",
     "output_type": "stream",
     "text": [
      "parp_inhibitor logloss: 0.049897478071127814\n",
      "=========================================================================================\n",
      "len(trt) : 297\n",
      "len(train_index) : 1081\n",
      "len(valid_index) : 1082\n",
      "================================= 1fold lightgbm =================================\n"
     ]
    },
    {
     "name": "stdout",
     "output_type": "stream",
     "text": [
      "Early stopping, best iteration is:\n",
      "[97]\ttraining's binary_logloss: 0.00515434\tvalid_1's binary_logloss: 0.0575385\n",
      "Training until validation scores don't improve for 10 rounds\n",
      "[20]\ttraining's binary_logloss: 0.162693\tvalid_1's binary_logloss: 0.167854\n",
      "[40]\ttraining's binary_logloss: 0.0861841\tvalid_1's binary_logloss: 0.0955901\n",
      "[60]\ttraining's binary_logloss: 0.0479646\tvalid_1's binary_logloss: 0.0602317\n",
      "[80]\ttraining's binary_logloss: 0.0272309\tvalid_1's binary_logloss: 0.0419984\n",
      "[100]\ttraining's binary_logloss: 0.0156012\tvalid_1's binary_logloss: 0.0325743\n",
      "[120]\ttraining's binary_logloss: 0.00900477\tvalid_1's binary_logloss: 0.0278315\n",
      "[140]\ttraining's binary_logloss: 0.0052572\tvalid_1's binary_logloss: 0.0257055\n",
      "[160]\ttraining's binary_logloss: 0.00308395\tvalid_1's binary_logloss: 0.0249863\n"
     ]
    },
    {
     "name": "stderr",
     "output_type": "stream",
     "text": [
      "len(train_index) : 1082\n",
      "len(valid_index) : 1081\n",
      "================================= 2fold lightgbm =================================\n"
     ]
    },
    {
     "name": "stdout",
     "output_type": "stream",
     "text": [
      "Early stopping, best iteration is:\n",
      "[165]\ttraining's binary_logloss: 0.00270204\tvalid_1's binary_logloss: 0.0249129\n",
      "Training until validation scores don't improve for 10 rounds\n",
      "[20]\ttraining's binary_logloss: 0.160989\tvalid_1's binary_logloss: 0.170065\n",
      "[40]\ttraining's binary_logloss: 0.084565\tvalid_1's binary_logloss: 0.100118\n",
      "[60]\ttraining's binary_logloss: 0.0469269\tvalid_1's binary_logloss: 0.0671868\n",
      "[80]\ttraining's binary_logloss: 0.026729\tvalid_1's binary_logloss: 0.05039\n",
      "[100]\ttraining's binary_logloss: 0.0153585\tvalid_1's binary_logloss: 0.041499\n",
      "[120]\ttraining's binary_logloss: 0.00885729\tvalid_1's binary_logloss: 0.0364294\n",
      "[140]\ttraining's binary_logloss: 0.00512293\tvalid_1's binary_logloss: 0.0345436\n"
     ]
    },
    {
     "name": "stderr",
     "output_type": "stream",
     "text": [
      "pdgfr_inhibitor logloss: 0.029594333554388143\n",
      "=========================================================================================\n"
     ]
    },
    {
     "name": "stdout",
     "output_type": "stream",
     "text": [
      "[160]\ttraining's binary_logloss: 0.0029739\tvalid_1's binary_logloss: 0.0344386\n",
      "Early stopping, best iteration is:\n",
      "[152]\ttraining's binary_logloss: 0.00369932\tvalid_1's binary_logloss: 0.0342801\n"
     ]
    },
    {
     "name": "stderr",
     "output_type": "stream",
     "text": [
      "len(trt) : 18\n",
      "len(train_index) : 942\n",
      "len(valid_index) : 942\n",
      "================================= 1fold lightgbm =================================\n"
     ]
    },
    {
     "name": "stdout",
     "output_type": "stream",
     "text": [
      "Training until validation scores don't improve for 10 rounds\n",
      "[20]\ttraining's binary_logloss: 0.015832\tvalid_1's binary_logloss: 0.0408888\n"
     ]
    },
    {
     "name": "stderr",
     "output_type": "stream",
     "text": [
      "len(train_index) : 942\n",
      "len(valid_index) : 942\n",
      "================================= 2fold lightgbm =================================\n"
     ]
    },
    {
     "name": "stdout",
     "output_type": "stream",
     "text": [
      "Early stopping, best iteration is:\n",
      "[29]\ttraining's binary_logloss: 0.0113576\tvalid_1's binary_logloss: 0.040116\n",
      "Training until validation scores don't improve for 10 rounds\n",
      "[20]\ttraining's binary_logloss: 0.0164851\tvalid_1's binary_logloss: 0.0335963\n",
      "[40]\ttraining's binary_logloss: 0.00850895\tvalid_1's binary_logloss: 0.0309304\n"
     ]
    },
    {
     "name": "stderr",
     "output_type": "stream",
     "text": [
      "pdk_inhibitor logloss: 0.03540798510905704\n",
      "=========================================================================================\n"
     ]
    },
    {
     "name": "stdout",
     "output_type": "stream",
     "text": [
      "[60]\ttraining's binary_logloss: 0.00465682\tvalid_1's binary_logloss: 0.0308414\n",
      "Early stopping, best iteration is:\n",
      "[54]\ttraining's binary_logloss: 0.00556326\tvalid_1's binary_logloss: 0.0307\n"
     ]
    },
    {
     "name": "stderr",
     "output_type": "stream",
     "text": [
      "len(trt) : 264\n",
      "len(train_index) : 1065\n",
      "len(valid_index) : 1065\n",
      "================================= 1fold lightgbm =================================\n"
     ]
    },
    {
     "name": "stdout",
     "output_type": "stream",
     "text": [
      "Training until validation scores don't improve for 10 rounds\n",
      "[20]\ttraining's binary_logloss: 0.161798\tvalid_1's binary_logloss: 0.196138\n",
      "[40]\ttraining's binary_logloss: 0.0913952\tvalid_1's binary_logloss: 0.134995\n",
      "[60]\ttraining's binary_logloss: 0.0536797\tvalid_1's binary_logloss: 0.101455\n",
      "[80]\ttraining's binary_logloss: 0.0322355\tvalid_1's binary_logloss: 0.0804756\n",
      "[100]\ttraining's binary_logloss: 0.0193774\tvalid_1's binary_logloss: 0.0683341\n",
      "[120]\ttraining's binary_logloss: 0.0117548\tvalid_1's binary_logloss: 0.0599658\n",
      "[140]\ttraining's binary_logloss: 0.00728159\tvalid_1's binary_logloss: 0.0543733\n",
      "[160]\ttraining's binary_logloss: 0.00446044\tvalid_1's binary_logloss: 0.0518055\n",
      "[180]\ttraining's binary_logloss: 0.002744\tvalid_1's binary_logloss: 0.0498849\n",
      "[200]\ttraining's binary_logloss: 0.001703\tvalid_1's binary_logloss: 0.0481368\n",
      "[220]\ttraining's binary_logloss: 0.00106054\tvalid_1's binary_logloss: 0.0473231\n",
      "[240]\ttraining's binary_logloss: 0.000662069\tvalid_1's binary_logloss: 0.0464696\n",
      "[260]\ttraining's binary_logloss: 0.000408192\tvalid_1's binary_logloss: 0.044698\n",
      "[280]\ttraining's binary_logloss: 0.000254877\tvalid_1's binary_logloss: 0.0441568\n",
      "[300]\ttraining's binary_logloss: 0.000159518\tvalid_1's binary_logloss: 0.0441962\n",
      "Early stopping, best iteration is:\n",
      "[297]\ttraining's binary_logloss: 0.000170978\tvalid_1's binary_logloss: 0.0439005\n"
     ]
    },
    {
     "name": "stderr",
     "output_type": "stream",
     "text": [
      "len(train_index) : 1065\n",
      "len(valid_index) : 1065\n",
      "================================= 2fold lightgbm =================================\n"
     ]
    },
    {
     "name": "stdout",
     "output_type": "stream",
     "text": [
      "Training until validation scores don't improve for 10 rounds\n",
      "[20]\ttraining's binary_logloss: 0.163765\tvalid_1's binary_logloss: 0.201803\n",
      "[40]\ttraining's binary_logloss: 0.0907612\tvalid_1's binary_logloss: 0.138285\n",
      "[60]\ttraining's binary_logloss: 0.052902\tvalid_1's binary_logloss: 0.1011\n",
      "[80]\ttraining's binary_logloss: 0.0313491\tvalid_1's binary_logloss: 0.0812519\n",
      "[100]\ttraining's binary_logloss: 0.0188121\tvalid_1's binary_logloss: 0.0690625\n",
      "[120]\ttraining's binary_logloss: 0.0114377\tvalid_1's binary_logloss: 0.0610965\n",
      "[140]\ttraining's binary_logloss: 0.00700119\tvalid_1's binary_logloss: 0.0553454\n",
      "[160]\ttraining's binary_logloss: 0.00428041\tvalid_1's binary_logloss: 0.051395\n",
      "[180]\ttraining's binary_logloss: 0.00263745\tvalid_1's binary_logloss: 0.0487877\n",
      "[200]\ttraining's binary_logloss: 0.00161995\tvalid_1's binary_logloss: 0.0463606\n",
      "[220]\ttraining's binary_logloss: 0.00100098\tvalid_1's binary_logloss: 0.0453946\n",
      "[240]\ttraining's binary_logloss: 0.000621041\tvalid_1's binary_logloss: 0.0447605\n",
      "[260]\ttraining's binary_logloss: 0.000384859\tvalid_1's binary_logloss: 0.0444332\n"
     ]
    },
    {
     "name": "stderr",
     "output_type": "stream",
     "text": [
      "phosphodiesterase_inhibitor logloss: 0.043839782130758016\n",
      "=========================================================================================\n"
     ]
    },
    {
     "name": "stdout",
     "output_type": "stream",
     "text": [
      "[280]\ttraining's binary_logloss: 0.000238808\tvalid_1's binary_logloss: 0.0438851\n",
      "Early stopping, best iteration is:\n",
      "[273]\ttraining's binary_logloss: 0.00028193\tvalid_1's binary_logloss: 0.0437791\n"
     ]
    },
    {
     "name": "stderr",
     "output_type": "stream",
     "text": [
      "len(trt) : 25\n",
      "len(train_index) : 945\n",
      "len(valid_index) : 946\n",
      "================================= 1fold lightgbm =================================\n"
     ]
    },
    {
     "name": "stdout",
     "output_type": "stream",
     "text": [
      "Training until validation scores don't improve for 10 rounds\n",
      "[20]\ttraining's binary_logloss: 0.0240102\tvalid_1's binary_logloss: 0.0563276\n",
      "[40]\ttraining's binary_logloss: 0.0126882\tvalid_1's binary_logloss: 0.054511\n"
     ]
    },
    {
     "name": "stderr",
     "output_type": "stream",
     "text": [
      "len(train_index) : 946\n",
      "len(valid_index) : 945\n",
      "================================= 2fold lightgbm =================================\n"
     ]
    },
    {
     "name": "stdout",
     "output_type": "stream",
     "text": [
      "Early stopping, best iteration is:\n",
      "[44]\ttraining's binary_logloss: 0.0112494\tvalid_1's binary_logloss: 0.0540789\n",
      "Training until validation scores don't improve for 10 rounds\n",
      "[20]\ttraining's binary_logloss: 0.0255472\tvalid_1's binary_logloss: 0.0476077\n"
     ]
    },
    {
     "name": "stderr",
     "output_type": "stream",
     "text": [
      "phospholipase_inhibitor logloss: 0.050531193259275485\n",
      "=========================================================================================\n",
      "len(trt) : 151\n",
      "len(train_index) : 1008\n",
      "len(valid_index) : 1009\n",
      "================================= 1fold lightgbm =================================\n"
     ]
    },
    {
     "name": "stdout",
     "output_type": "stream",
     "text": [
      "Early stopping, best iteration is:\n",
      "[28]\ttraining's binary_logloss: 0.0191073\tvalid_1's binary_logloss: 0.0469797\n",
      "Training until validation scores don't improve for 10 rounds\n",
      "[20]\ttraining's binary_logloss: 0.100349\tvalid_1's binary_logloss: 0.137537\n",
      "[40]\ttraining's binary_logloss: 0.0528843\tvalid_1's binary_logloss: 0.0996153\n",
      "[60]\ttraining's binary_logloss: 0.029495\tvalid_1's binary_logloss: 0.0813332\n",
      "[80]\ttraining's binary_logloss: 0.0168705\tvalid_1's binary_logloss: 0.0720662\n",
      "[100]\ttraining's binary_logloss: 0.00968456\tvalid_1's binary_logloss: 0.0680446\n",
      "[120]\ttraining's binary_logloss: 0.00558072\tvalid_1's binary_logloss: 0.0661691\n"
     ]
    },
    {
     "name": "stderr",
     "output_type": "stream",
     "text": [
      "len(train_index) : 1009\n",
      "len(valid_index) : 1008\n",
      "================================= 2fold lightgbm =================================\n"
     ]
    },
    {
     "name": "stdout",
     "output_type": "stream",
     "text": [
      "Early stopping, best iteration is:\n",
      "[120]\ttraining's binary_logloss: 0.00558072\tvalid_1's binary_logloss: 0.0661691\n",
      "Training until validation scores don't improve for 10 rounds\n",
      "[20]\ttraining's binary_logloss: 0.106748\tvalid_1's binary_logloss: 0.126389\n",
      "[40]\ttraining's binary_logloss: 0.0568907\tvalid_1's binary_logloss: 0.084631\n",
      "[60]\ttraining's binary_logloss: 0.0319699\tvalid_1's binary_logloss: 0.0642275\n",
      "[80]\ttraining's binary_logloss: 0.0182323\tvalid_1's binary_logloss: 0.0518942\n",
      "[100]\ttraining's binary_logloss: 0.01059\tvalid_1's binary_logloss: 0.0451521\n",
      "[120]\ttraining's binary_logloss: 0.00623953\tvalid_1's binary_logloss: 0.0413199\n",
      "[140]\ttraining's binary_logloss: 0.00369529\tvalid_1's binary_logloss: 0.0393651\n",
      "[160]\ttraining's binary_logloss: 0.00218986\tvalid_1's binary_logloss: 0.0387084\n",
      "Early stopping, best iteration is:\n",
      "[156]\ttraining's binary_logloss: 0.00243083\tvalid_1's binary_logloss: 0.0386021\n"
     ]
    },
    {
     "name": "stderr",
     "output_type": "stream",
     "text": [
      "pi3k_inhibitor logloss: 0.0523924512686542\n",
      "=========================================================================================\n",
      "len(trt) : 31\n",
      "len(train_index) : 948\n",
      "len(valid_index) : 949\n",
      "================================= 1fold lightgbm =================================\n"
     ]
    },
    {
     "name": "stdout",
     "output_type": "stream",
     "text": [
      "Training until validation scores don't improve for 10 rounds\n",
      "[20]\ttraining's binary_logloss: 0.0275766\tvalid_1's binary_logloss: 0.0616299\n",
      "[40]\ttraining's binary_logloss: 0.0147544\tvalid_1's binary_logloss: 0.0555199\n",
      "[60]\ttraining's binary_logloss: 0.00835438\tvalid_1's binary_logloss: 0.0524193\n"
     ]
    },
    {
     "name": "stderr",
     "output_type": "stream",
     "text": [
      "len(train_index) : 949\n",
      "len(valid_index) : 948\n",
      "================================= 2fold lightgbm =================================\n"
     ]
    },
    {
     "name": "stdout",
     "output_type": "stream",
     "text": [
      "[80]\ttraining's binary_logloss: 0.00485418\tvalid_1's binary_logloss: 0.0520654\n",
      "Early stopping, best iteration is:\n",
      "[72]\ttraining's binary_logloss: 0.0060427\tvalid_1's binary_logloss: 0.0517916\n",
      "Training until validation scores don't improve for 10 rounds\n",
      "[20]\ttraining's binary_logloss: 0.0295027\tvalid_1's binary_logloss: 0.0579247\n",
      "[40]\ttraining's binary_logloss: 0.0154924\tvalid_1's binary_logloss: 0.0513842\n",
      "[60]\ttraining's binary_logloss: 0.00862666\tvalid_1's binary_logloss: 0.0503956\n"
     ]
    },
    {
     "name": "stderr",
     "output_type": "stream",
     "text": [
      "pkc_inhibitor logloss: 0.05104886726206757\n",
      "=========================================================================================\n",
      "len(trt) : 55\n",
      "len(train_index) : 960\n",
      "len(valid_index) : 961\n",
      "================================= 1fold lightgbm =================================\n"
     ]
    },
    {
     "name": "stdout",
     "output_type": "stream",
     "text": [
      "Early stopping, best iteration is:\n",
      "[62]\ttraining's binary_logloss: 0.00815843\tvalid_1's binary_logloss: 0.0503053\n",
      "Training until validation scores don't improve for 10 rounds\n",
      "[20]\ttraining's binary_logloss: 0.049244\tvalid_1's binary_logloss: 0.0931243\n",
      "[40]\ttraining's binary_logloss: 0.0263713\tvalid_1's binary_logloss: 0.0828225\n",
      "[60]\ttraining's binary_logloss: 0.0150112\tvalid_1's binary_logloss: 0.0816034\n"
     ]
    },
    {
     "name": "stderr",
     "output_type": "stream",
     "text": [
      "len(train_index) : 961\n",
      "len(valid_index) : 960\n",
      "================================= 2fold lightgbm =================================\n"
     ]
    },
    {
     "name": "stdout",
     "output_type": "stream",
     "text": [
      "Early stopping, best iteration is:\n",
      "[69]\ttraining's binary_logloss: 0.0117706\tvalid_1's binary_logloss: 0.0811808\n",
      "Training until validation scores don't improve for 10 rounds\n",
      "[20]\ttraining's binary_logloss: 0.051139\tvalid_1's binary_logloss: 0.0878222\n",
      "[40]\ttraining's binary_logloss: 0.0277976\tvalid_1's binary_logloss: 0.0747511\n",
      "[60]\ttraining's binary_logloss: 0.0157985\tvalid_1's binary_logloss: 0.0698699\n",
      "[80]\ttraining's binary_logloss: 0.00932532\tvalid_1's binary_logloss: 0.0687146\n"
     ]
    },
    {
     "name": "stderr",
     "output_type": "stream",
     "text": [
      "potassium_channel_activator logloss: 0.07484428444467103\n",
      "=========================================================================================\n",
      "len(trt) : 98\n",
      "len(train_index) : 982\n",
      "len(valid_index) : 982\n",
      "================================= 1fold lightgbm =================================\n"
     ]
    },
    {
     "name": "stdout",
     "output_type": "stream",
     "text": [
      "Early stopping, best iteration is:\n",
      "[83]\ttraining's binary_logloss: 0.00865513\tvalid_1's binary_logloss: 0.0685012\n",
      "Training until validation scores don't improve for 10 rounds\n",
      "[20]\ttraining's binary_logloss: 0.0770863\tvalid_1's binary_logloss: 0.116195\n",
      "[40]\ttraining's binary_logloss: 0.0407666\tvalid_1's binary_logloss: 0.0918324\n",
      "[60]\ttraining's binary_logloss: 0.0227711\tvalid_1's binary_logloss: 0.0814413\n",
      "[80]\ttraining's binary_logloss: 0.0131642\tvalid_1's binary_logloss: 0.0753559\n",
      "[100]\ttraining's binary_logloss: 0.00773977\tvalid_1's binary_logloss: 0.0727512\n",
      "[120]\ttraining's binary_logloss: 0.00455462\tvalid_1's binary_logloss: 0.0714401\n",
      "[140]\ttraining's binary_logloss: 0.00263966\tvalid_1's binary_logloss: 0.0701119\n",
      "[160]\ttraining's binary_logloss: 0.00154123\tvalid_1's binary_logloss: 0.0689073\n"
     ]
    },
    {
     "name": "stderr",
     "output_type": "stream",
     "text": [
      "len(train_index) : 982\n",
      "len(valid_index) : 982\n",
      "================================= 2fold lightgbm =================================\n"
     ]
    },
    {
     "name": "stdout",
     "output_type": "stream",
     "text": [
      "Early stopping, best iteration is:\n",
      "[167]\ttraining's binary_logloss: 0.00128246\tvalid_1's binary_logloss: 0.0684832\n",
      "Training until validation scores don't improve for 10 rounds\n",
      "[20]\ttraining's binary_logloss: 0.0773468\tvalid_1's binary_logloss: 0.115978\n",
      "[40]\ttraining's binary_logloss: 0.041332\tvalid_1's binary_logloss: 0.0924888\n",
      "[60]\ttraining's binary_logloss: 0.0233404\tvalid_1's binary_logloss: 0.0779242\n",
      "[80]\ttraining's binary_logloss: 0.0133474\tvalid_1's binary_logloss: 0.0719474\n"
     ]
    },
    {
     "name": "stderr",
     "output_type": "stream",
     "text": [
      "potassium_channel_antagonist logloss: 0.07001145902483648\n",
      "=========================================================================================\n",
      "len(trt) : 115\n"
     ]
    },
    {
     "name": "stdout",
     "output_type": "stream",
     "text": [
      "[100]\ttraining's binary_logloss: 0.00784872\tvalid_1's binary_logloss: 0.0716602\n",
      "Early stopping, best iteration is:\n",
      "[92]\ttraining's binary_logloss: 0.00971849\tvalid_1's binary_logloss: 0.0715397\n"
     ]
    },
    {
     "name": "stderr",
     "output_type": "stream",
     "text": [
      "len(train_index) : 990\n",
      "len(valid_index) : 991\n",
      "================================= 1fold lightgbm =================================\n"
     ]
    },
    {
     "name": "stdout",
     "output_type": "stream",
     "text": [
      "Training until validation scores don't improve for 10 rounds\n",
      "[20]\ttraining's binary_logloss: 0.0835993\tvalid_1's binary_logloss: 0.115689\n",
      "[40]\ttraining's binary_logloss: 0.0451143\tvalid_1's binary_logloss: 0.0850476\n",
      "[60]\ttraining's binary_logloss: 0.0255411\tvalid_1's binary_logloss: 0.0671531\n",
      "[80]\ttraining's binary_logloss: 0.0145949\tvalid_1's binary_logloss: 0.0562373\n",
      "[100]\ttraining's binary_logloss: 0.00844595\tvalid_1's binary_logloss: 0.0492504\n",
      "[120]\ttraining's binary_logloss: 0.00487618\tvalid_1's binary_logloss: 0.0451733\n",
      "[140]\ttraining's binary_logloss: 0.00283717\tvalid_1's binary_logloss: 0.0426449\n",
      "[160]\ttraining's binary_logloss: 0.00166865\tvalid_1's binary_logloss: 0.0410275\n",
      "[180]\ttraining's binary_logloss: 0.000985455\tvalid_1's binary_logloss: 0.0403111\n",
      "[200]\ttraining's binary_logloss: 0.000583121\tvalid_1's binary_logloss: 0.0397968\n"
     ]
    },
    {
     "name": "stderr",
     "output_type": "stream",
     "text": [
      "len(train_index) : 991\n",
      "len(valid_index) : 990\n",
      "================================= 2fold lightgbm =================================\n"
     ]
    },
    {
     "name": "stdout",
     "output_type": "stream",
     "text": [
      "[220]\ttraining's binary_logloss: 0.000345379\tvalid_1's binary_logloss: 0.0396032\n",
      "Early stopping, best iteration is:\n",
      "[212]\ttraining's binary_logloss: 0.000424724\tvalid_1's binary_logloss: 0.0393605\n",
      "Training until validation scores don't improve for 10 rounds\n",
      "[20]\ttraining's binary_logloss: 0.0842599\tvalid_1's binary_logloss: 0.118223\n",
      "[40]\ttraining's binary_logloss: 0.0452966\tvalid_1's binary_logloss: 0.0874279\n",
      "[60]\ttraining's binary_logloss: 0.0255261\tvalid_1's binary_logloss: 0.0702866\n",
      "[80]\ttraining's binary_logloss: 0.0147494\tvalid_1's binary_logloss: 0.0611086\n",
      "[100]\ttraining's binary_logloss: 0.00861314\tvalid_1's binary_logloss: 0.0546201\n",
      "[120]\ttraining's binary_logloss: 0.00502319\tvalid_1's binary_logloss: 0.0504487\n",
      "[140]\ttraining's binary_logloss: 0.00294266\tvalid_1's binary_logloss: 0.047566\n",
      "[160]\ttraining's binary_logloss: 0.00172675\tvalid_1's binary_logloss: 0.0461164\n"
     ]
    },
    {
     "name": "stderr",
     "output_type": "stream",
     "text": [
      "ppar_receptor_agonist logloss: 0.04252524802863077\n",
      "=========================================================================================\n",
      "len(trt) : 30\n",
      "len(train_index) : 948\n",
      "len(valid_index) : 948\n",
      "================================= 1fold lightgbm =================================\n"
     ]
    },
    {
     "name": "stdout",
     "output_type": "stream",
     "text": [
      "Early stopping, best iteration is:\n",
      "[166]\ttraining's binary_logloss: 0.0014737\tvalid_1's binary_logloss: 0.0456932\n",
      "Training until validation scores don't improve for 10 rounds\n",
      "[20]\ttraining's binary_logloss: 0.0320343\tvalid_1's binary_logloss: 0.0573446\n",
      "[40]\ttraining's binary_logloss: 0.0170833\tvalid_1's binary_logloss: 0.0494726\n",
      "[60]\ttraining's binary_logloss: 0.00952538\tvalid_1's binary_logloss: 0.0483438\n"
     ]
    },
    {
     "name": "stderr",
     "output_type": "stream",
     "text": [
      "len(train_index) : 948\n",
      "len(valid_index) : 948\n",
      "================================= 2fold lightgbm =================================\n"
     ]
    },
    {
     "name": "stdout",
     "output_type": "stream",
     "text": [
      "Early stopping, best iteration is:\n",
      "[64]\ttraining's binary_logloss: 0.00849478\tvalid_1's binary_logloss: 0.0477474\n",
      "Training until validation scores don't improve for 10 rounds\n",
      "[20]\ttraining's binary_logloss: 0.0293449\tvalid_1's binary_logloss: 0.061035\n",
      "[40]\ttraining's binary_logloss: 0.0154602\tvalid_1's binary_logloss: 0.0544268\n"
     ]
    },
    {
     "name": "stderr",
     "output_type": "stream",
     "text": [
      "ppar_receptor_antagonist logloss: 0.05040676973144254\n",
      "=========================================================================================\n"
     ]
    },
    {
     "name": "stdout",
     "output_type": "stream",
     "text": [
      "[60]\ttraining's binary_logloss: 0.00861247\tvalid_1's binary_logloss: 0.0539809\n",
      "Early stopping, best iteration is:\n",
      "[54]\ttraining's binary_logloss: 0.0102221\tvalid_1's binary_logloss: 0.0530661\n"
     ]
    },
    {
     "name": "stderr",
     "output_type": "stream",
     "text": [
      "len(trt) : 119\n",
      "len(train_index) : 992\n",
      "len(valid_index) : 993\n",
      "================================= 1fold lightgbm =================================\n"
     ]
    },
    {
     "name": "stdout",
     "output_type": "stream",
     "text": [
      "Training until validation scores don't improve for 10 rounds\n",
      "[20]\ttraining's binary_logloss: 0.0870344\tvalid_1's binary_logloss: 0.119542\n",
      "[40]\ttraining's binary_logloss: 0.0463116\tvalid_1's binary_logloss: 0.0900954\n",
      "[60]\ttraining's binary_logloss: 0.0262469\tvalid_1's binary_logloss: 0.0714087\n",
      "[80]\ttraining's binary_logloss: 0.0152764\tvalid_1's binary_logloss: 0.059942\n",
      "[100]\ttraining's binary_logloss: 0.00877338\tvalid_1's binary_logloss: 0.054002\n",
      "[120]\ttraining's binary_logloss: 0.00512173\tvalid_1's binary_logloss: 0.0509773\n",
      "[140]\ttraining's binary_logloss: 0.0030225\tvalid_1's binary_logloss: 0.0488271\n",
      "[160]\ttraining's binary_logloss: 0.00179295\tvalid_1's binary_logloss: 0.0481133\n",
      "[180]\ttraining's binary_logloss: 0.00106564\tvalid_1's binary_logloss: 0.0478115\n",
      "Early stopping, best iteration is:\n",
      "[175]\ttraining's binary_logloss: 0.00121093\tvalid_1's binary_logloss: 0.0477036\n"
     ]
    },
    {
     "name": "stderr",
     "output_type": "stream",
     "text": [
      "len(train_index) : 993\n",
      "len(valid_index) : 992\n",
      "================================= 2fold lightgbm =================================\n"
     ]
    },
    {
     "name": "stdout",
     "output_type": "stream",
     "text": [
      "Training until validation scores don't improve for 10 rounds\n",
      "[20]\ttraining's binary_logloss: 0.087651\tvalid_1's binary_logloss: 0.116981\n",
      "[40]\ttraining's binary_logloss: 0.0469843\tvalid_1's binary_logloss: 0.0875134\n",
      "[60]\ttraining's binary_logloss: 0.026733\tvalid_1's binary_logloss: 0.073179\n",
      "[80]\ttraining's binary_logloss: 0.0154182\tvalid_1's binary_logloss: 0.0637867\n",
      "[100]\ttraining's binary_logloss: 0.00891402\tvalid_1's binary_logloss: 0.0597573\n",
      "[120]\ttraining's binary_logloss: 0.00519468\tvalid_1's binary_logloss: 0.0576442\n",
      "[140]\ttraining's binary_logloss: 0.00305073\tvalid_1's binary_logloss: 0.0566515\n",
      "[160]\ttraining's binary_logloss: 0.00180226\tvalid_1's binary_logloss: 0.056272\n",
      "Early stopping, best iteration is:\n",
      "[159]\ttraining's binary_logloss: 0.00185096\tvalid_1's binary_logloss: 0.0560189\n"
     ]
    },
    {
     "name": "stderr",
     "output_type": "stream",
     "text": [
      "progesterone_receptor_agonist logloss: 0.05185918034824255\n",
      "=========================================================================================\n",
      "len(trt) : 18\n",
      "len(train_index) : 942\n",
      "len(valid_index) : 942\n",
      "================================= 1fold lightgbm =================================\n"
     ]
    },
    {
     "name": "stdout",
     "output_type": "stream",
     "text": [
      "Training until validation scores don't improve for 10 rounds\n",
      "[20]\ttraining's binary_logloss: 0.0164161\tvalid_1's binary_logloss: 0.0459243\n",
      "[40]\ttraining's binary_logloss: 0.00807985\tvalid_1's binary_logloss: 0.0447003\n"
     ]
    },
    {
     "name": "stderr",
     "output_type": "stream",
     "text": [
      "len(train_index) : 942\n",
      "len(valid_index) : 942\n",
      "================================= 2fold lightgbm =================================\n"
     ]
    },
    {
     "name": "stdout",
     "output_type": "stream",
     "text": [
      "[60]\ttraining's binary_logloss: 0.00438986\tvalid_1's binary_logloss: 0.0449947\n",
      "Early stopping, best iteration is:\n",
      "[50]\ttraining's binary_logloss: 0.0059175\tvalid_1's binary_logloss: 0.0444593\n",
      "Training until validation scores don't improve for 10 rounds\n",
      "[20]\ttraining's binary_logloss: 0.0178303\tvalid_1's binary_logloss: 0.0387633\n",
      "[40]\ttraining's binary_logloss: 0.00928888\tvalid_1's binary_logloss: 0.0361208\n",
      "[60]\ttraining's binary_logloss: 0.00517909\tvalid_1's binary_logloss: 0.0356268\n"
     ]
    },
    {
     "name": "stderr",
     "output_type": "stream",
     "text": [
      "progesterone_receptor_antagonist logloss: 0.03995383733096133\n",
      "=========================================================================================\n",
      "len(trt) : 36\n",
      "len(train_index) : 951\n",
      "len(valid_index) : 951\n",
      "================================= 1fold lightgbm =================================\n"
     ]
    },
    {
     "name": "stdout",
     "output_type": "stream",
     "text": [
      "[80]\ttraining's binary_logloss: 0.00299207\tvalid_1's binary_logloss: 0.0359329\n",
      "Early stopping, best iteration is:\n",
      "[71]\ttraining's binary_logloss: 0.00381151\tvalid_1's binary_logloss: 0.0354484\n",
      "Training until validation scores don't improve for 10 rounds\n",
      "[20]\ttraining's binary_logloss: 0.0365262\tvalid_1's binary_logloss: 0.0723961\n",
      "[40]\ttraining's binary_logloss: 0.0192887\tvalid_1's binary_logloss: 0.0672297\n"
     ]
    },
    {
     "name": "stderr",
     "output_type": "stream",
     "text": [
      "len(train_index) : 951\n",
      "len(valid_index) : 951\n"
     ]
    },
    {
     "name": "stdout",
     "output_type": "stream",
     "text": [
      "[60]\ttraining's binary_logloss: 0.0108584\tvalid_1's binary_logloss: 0.0664856\n",
      "Early stopping, best iteration is:\n",
      "[53]\ttraining's binary_logloss: 0.0132349\tvalid_1's binary_logloss: 0.0660745\n"
     ]
    },
    {
     "name": "stderr",
     "output_type": "stream",
     "text": [
      "================================= 2fold lightgbm =================================\n"
     ]
    },
    {
     "name": "stdout",
     "output_type": "stream",
     "text": [
      "Training until validation scores don't improve for 10 rounds\n",
      "[20]\ttraining's binary_logloss: 0.0373213\tvalid_1's binary_logloss: 0.0668551\n",
      "[40]\ttraining's binary_logloss: 0.0193445\tvalid_1's binary_logloss: 0.0607685\n"
     ]
    },
    {
     "name": "stderr",
     "output_type": "stream",
     "text": [
      "prostaglandin_inhibitor logloss: 0.06290572892204113\n",
      "=========================================================================================\n"
     ]
    },
    {
     "name": "stdout",
     "output_type": "stream",
     "text": [
      "[60]\ttraining's binary_logloss: 0.0107052\tvalid_1's binary_logloss: 0.0598827\n",
      "Early stopping, best iteration is:\n",
      "[53]\ttraining's binary_logloss: 0.013078\tvalid_1's binary_logloss: 0.059737\n"
     ]
    },
    {
     "name": "stderr",
     "output_type": "stream",
     "text": [
      "len(trt) : 84\n",
      "len(train_index) : 975\n",
      "len(valid_index) : 975\n",
      "================================= 1fold lightgbm =================================\n"
     ]
    },
    {
     "name": "stdout",
     "output_type": "stream",
     "text": [
      "Training until validation scores don't improve for 10 rounds\n",
      "[20]\ttraining's binary_logloss: 0.0743976\tvalid_1's binary_logloss: 0.11167\n",
      "[40]\ttraining's binary_logloss: 0.0408998\tvalid_1's binary_logloss: 0.0892106\n",
      "[60]\ttraining's binary_logloss: 0.0235941\tvalid_1's binary_logloss: 0.0814969\n",
      "[80]\ttraining's binary_logloss: 0.0140244\tvalid_1's binary_logloss: 0.0773473\n",
      "[100]\ttraining's binary_logloss: 0.00841273\tvalid_1's binary_logloss: 0.0759362\n",
      "[120]\ttraining's binary_logloss: 0.00509169\tvalid_1's binary_logloss: 0.0734123\n"
     ]
    },
    {
     "name": "stderr",
     "output_type": "stream",
     "text": [
      "len(train_index) : 975\n",
      "len(valid_index) : 975\n",
      "================================= 2fold lightgbm =================================\n"
     ]
    },
    {
     "name": "stdout",
     "output_type": "stream",
     "text": [
      "Early stopping, best iteration is:\n",
      "[129]\ttraining's binary_logloss: 0.00407231\tvalid_1's binary_logloss: 0.0727443\n",
      "Training until validation scores don't improve for 10 rounds\n",
      "[20]\ttraining's binary_logloss: 0.0671027\tvalid_1's binary_logloss: 0.100673\n",
      "[40]\ttraining's binary_logloss: 0.0361888\tvalid_1's binary_logloss: 0.0826063\n",
      "[60]\ttraining's binary_logloss: 0.0204042\tvalid_1's binary_logloss: 0.0727796\n",
      "[80]\ttraining's binary_logloss: 0.0119688\tvalid_1's binary_logloss: 0.068517\n"
     ]
    },
    {
     "name": "stderr",
     "output_type": "stream",
     "text": [
      "prostanoid_receptor_antagonist logloss: 0.06987629523617733\n",
      "=========================================================================================\n"
     ]
    },
    {
     "name": "stdout",
     "output_type": "stream",
     "text": [
      "[100]\ttraining's binary_logloss: 0.00712648\tvalid_1's binary_logloss: 0.0677657\n",
      "Early stopping, best iteration is:\n",
      "[93]\ttraining's binary_logloss: 0.00855737\tvalid_1's binary_logloss: 0.0670083\n"
     ]
    },
    {
     "name": "stderr",
     "output_type": "stream",
     "text": [
      "len(trt) : 726\n",
      "len(train_index) : 1296\n",
      "len(valid_index) : 1296\n",
      "================================= 1fold lightgbm =================================\n"
     ]
    },
    {
     "name": "stdout",
     "output_type": "stream",
     "text": [
      "Training until validation scores don't improve for 10 rounds\n",
      "[20]\ttraining's binary_logloss: 0.258475\tvalid_1's binary_logloss: 0.258475\n",
      "[40]\ttraining's binary_logloss: 0.130454\tvalid_1's binary_logloss: 0.130454\n",
      "[60]\ttraining's binary_logloss: 0.06881\tvalid_1's binary_logloss: 0.06881\n",
      "[80]\ttraining's binary_logloss: 0.0370039\tvalid_1's binary_logloss: 0.0370039\n",
      "[100]\ttraining's binary_logloss: 0.0200906\tvalid_1's binary_logloss: 0.0200906\n",
      "[120]\ttraining's binary_logloss: 0.0109621\tvalid_1's binary_logloss: 0.0109621\n",
      "[140]\ttraining's binary_logloss: 0.00599719\tvalid_1's binary_logloss: 0.00599719\n",
      "[160]\ttraining's binary_logloss: 0.00328567\tvalid_1's binary_logloss: 0.00328567\n",
      "[180]\ttraining's binary_logloss: 0.00180151\tvalid_1's binary_logloss: 0.00180151\n",
      "[200]\ttraining's binary_logloss: 0.000988182\tvalid_1's binary_logloss: 0.000988182\n",
      "[220]\ttraining's binary_logloss: 0.000542172\tvalid_1's binary_logloss: 0.000542172\n",
      "[240]\ttraining's binary_logloss: 0.000297504\tvalid_1's binary_logloss: 0.000297504\n",
      "[260]\ttraining's binary_logloss: 0.00016326\tvalid_1's binary_logloss: 0.00016326\n",
      "[280]\ttraining's binary_logloss: 8.95947e-05\tvalid_1's binary_logloss: 8.95947e-05\n",
      "[300]\ttraining's binary_logloss: 4.91694e-05\tvalid_1's binary_logloss: 4.91694e-05\n",
      "[320]\ttraining's binary_logloss: 2.69843e-05\tvalid_1's binary_logloss: 2.69843e-05\n",
      "[340]\ttraining's binary_logloss: 1.48092e-05\tvalid_1's binary_logloss: 1.48092e-05\n",
      "[360]\ttraining's binary_logloss: 8.12743e-06\tvalid_1's binary_logloss: 8.12743e-06\n",
      "[380]\ttraining's binary_logloss: 4.46042e-06\tvalid_1's binary_logloss: 4.46042e-06\n",
      "[400]\ttraining's binary_logloss: 2.44793e-06\tvalid_1's binary_logloss: 2.44793e-06\n"
     ]
    },
    {
     "name": "stderr",
     "output_type": "stream",
     "text": [
      "len(train_index) : 1296\n",
      "len(valid_index) : 1296\n",
      "================================= 2fold lightgbm =================================\n"
     ]
    },
    {
     "name": "stdout",
     "output_type": "stream",
     "text": [
      "[420]\ttraining's binary_logloss: 1.51473e-06\tvalid_1's binary_logloss: 1.51473e-06\n",
      "Early stopping, best iteration is:\n",
      "[416]\ttraining's binary_logloss: 1.51473e-06\tvalid_1's binary_logloss: 1.51473e-06\n",
      "Training until validation scores don't improve for 10 rounds\n",
      "[20]\ttraining's binary_logloss: 0.258475\tvalid_1's binary_logloss: 0.25954\n",
      "[40]\ttraining's binary_logloss: 0.130454\tvalid_1's binary_logloss: 0.13218\n",
      "[60]\ttraining's binary_logloss: 0.06881\tvalid_1's binary_logloss: 0.0710882\n",
      "[80]\ttraining's binary_logloss: 0.0370039\tvalid_1's binary_logloss: 0.0397901\n",
      "[100]\ttraining's binary_logloss: 0.0200906\tvalid_1's binary_logloss: 0.0232731\n",
      "[120]\ttraining's binary_logloss: 0.0109621\tvalid_1's binary_logloss: 0.0145267\n",
      "[140]\ttraining's binary_logloss: 0.00599719\tvalid_1's binary_logloss: 0.010029\n",
      "[160]\ttraining's binary_logloss: 0.00328567\tvalid_1's binary_logloss: 0.00778279\n",
      "[180]\ttraining's binary_logloss: 0.00180151\tvalid_1's binary_logloss: 0.00671669\n",
      "[200]\ttraining's binary_logloss: 0.000988182\tvalid_1's binary_logloss: 0.00636689\n"
     ]
    },
    {
     "name": "stderr",
     "output_type": "stream",
     "text": [
      "proteasome_inhibitor logloss: 0.0031713901075623332\n",
      "=========================================================================================\n",
      "len(trt) : 48\n",
      "len(train_index) : 957\n",
      "len(valid_index) : 957\n",
      "================================= 1fold lightgbm =================================\n"
     ]
    },
    {
     "name": "stdout",
     "output_type": "stream",
     "text": [
      "Early stopping, best iteration is:\n",
      "[208]\ttraining's binary_logloss: 0.000777227\tvalid_1's binary_logloss: 0.00634127\n",
      "Training until validation scores don't improve for 10 rounds\n",
      "[20]\ttraining's binary_logloss: 0.0455553\tvalid_1's binary_logloss: 0.0855274\n",
      "[40]\ttraining's binary_logloss: 0.0242588\tvalid_1's binary_logloss: 0.0760561\n",
      "[60]\ttraining's binary_logloss: 0.0139055\tvalid_1's binary_logloss: 0.0710916\n"
     ]
    },
    {
     "name": "stderr",
     "output_type": "stream",
     "text": [
      "len(train_index) : 957\n",
      "len(valid_index) : 957\n",
      "================================= 2fold lightgbm =================================\n"
     ]
    },
    {
     "name": "stdout",
     "output_type": "stream",
     "text": [
      "[80]\ttraining's binary_logloss: 0.00812899\tvalid_1's binary_logloss: 0.0700927\n",
      "Early stopping, best iteration is:\n",
      "[72]\ttraining's binary_logloss: 0.0100724\tvalid_1's binary_logloss: 0.0696503\n",
      "Training until validation scores don't improve for 10 rounds\n",
      "[20]\ttraining's binary_logloss: 0.041567\tvalid_1's binary_logloss: 0.0792172\n",
      "[40]\ttraining's binary_logloss: 0.0225145\tvalid_1's binary_logloss: 0.0721416\n"
     ]
    },
    {
     "name": "stderr",
     "output_type": "stream",
     "text": [
      "protein_kinase_inhibitor logloss: 0.07056719307061637\n",
      "=========================================================================================\n"
     ]
    },
    {
     "name": "stdout",
     "output_type": "stream",
     "text": [
      "[60]\ttraining's binary_logloss: 0.0128806\tvalid_1's binary_logloss: 0.0723389\n",
      "Early stopping, best iteration is:\n",
      "[54]\ttraining's binary_logloss: 0.0151642\tvalid_1's binary_logloss: 0.0714841\n"
     ]
    },
    {
     "name": "stderr",
     "output_type": "stream",
     "text": [
      "len(trt) : 6\n",
      "len(train_index) : 936\n",
      "len(valid_index) : 936\n",
      "================================= 1fold lightgbm =================================\n"
     ]
    },
    {
     "name": "stdout",
     "output_type": "stream",
     "text": [
      "Training until validation scores don't improve for 10 rounds\n",
      "[20]\ttraining's binary_logloss: 0.00537549\tvalid_1's binary_logloss: 0.0119621\n",
      "[40]\ttraining's binary_logloss: 0.00272851\tvalid_1's binary_logloss: 0.0104677\n",
      "[60]\ttraining's binary_logloss: 0.00148831\tvalid_1's binary_logloss: 0.00962515\n",
      "[80]\ttraining's binary_logloss: 0.000833233\tvalid_1's binary_logloss: 0.00955209\n"
     ]
    },
    {
     "name": "stderr",
     "output_type": "stream",
     "text": [
      "len(train_index) : 936\n",
      "len(valid_index) : 936\n",
      "================================= 2fold lightgbm =================================\n"
     ]
    },
    {
     "name": "stdout",
     "output_type": "stream",
     "text": [
      "Early stopping, best iteration is:\n",
      "[84]\ttraining's binary_logloss: 0.000742734\tvalid_1's binary_logloss: 0.00932154\n",
      "Training until validation scores don't improve for 10 rounds\n",
      "[20]\ttraining's binary_logloss: 0.00537814\tvalid_1's binary_logloss: 0.0148578\n",
      "[40]\ttraining's binary_logloss: 0.00274968\tvalid_1's binary_logloss: 0.0141466\n"
     ]
    },
    {
     "name": "stderr",
     "output_type": "stream",
     "text": [
      "protein_phosphatase_inhibitor logloss: 0.011610592374583823\n",
      "=========================================================================================\n",
      "len(trt) : 103\n",
      "len(train_index) : 984\n",
      "len(valid_index) : 985\n",
      "================================= 1fold lightgbm =================================\n"
     ]
    },
    {
     "name": "stdout",
     "output_type": "stream",
     "text": [
      "[60]\ttraining's binary_logloss: 0.00151284\tvalid_1's binary_logloss: 0.014056\n",
      "Early stopping, best iteration is:\n",
      "[50]\ttraining's binary_logloss: 0.0020298\tvalid_1's binary_logloss: 0.0138996\n",
      "Training until validation scores don't improve for 10 rounds\n",
      "[20]\ttraining's binary_logloss: 0.0770632\tvalid_1's binary_logloss: 0.112837\n",
      "[40]\ttraining's binary_logloss: 0.040779\tvalid_1's binary_logloss: 0.0850737\n",
      "[60]\ttraining's binary_logloss: 0.0231009\tvalid_1's binary_logloss: 0.0713896\n",
      "[80]\ttraining's binary_logloss: 0.0132447\tvalid_1's binary_logloss: 0.0612017\n",
      "[100]\ttraining's binary_logloss: 0.00762271\tvalid_1's binary_logloss: 0.054603\n",
      "[120]\ttraining's binary_logloss: 0.00442536\tvalid_1's binary_logloss: 0.05039\n",
      "[140]\ttraining's binary_logloss: 0.00258594\tvalid_1's binary_logloss: 0.048294\n",
      "[160]\ttraining's binary_logloss: 0.00151455\tvalid_1's binary_logloss: 0.0475006\n",
      "[180]\ttraining's binary_logloss: 0.000896705\tvalid_1's binary_logloss: 0.046822\n",
      "Early stopping, best iteration is:\n",
      "[175]\ttraining's binary_logloss: 0.0010246\tvalid_1's binary_logloss: 0.0465266\n"
     ]
    },
    {
     "name": "stderr",
     "output_type": "stream",
     "text": [
      "len(train_index) : 985\n",
      "len(valid_index) : 984\n",
      "================================= 2fold lightgbm =================================\n"
     ]
    },
    {
     "name": "stdout",
     "output_type": "stream",
     "text": [
      "Training until validation scores don't improve for 10 rounds\n",
      "[20]\ttraining's binary_logloss: 0.0771778\tvalid_1's binary_logloss: 0.107822\n",
      "[40]\ttraining's binary_logloss: 0.0415331\tvalid_1's binary_logloss: 0.0805657\n",
      "[60]\ttraining's binary_logloss: 0.0233822\tvalid_1's binary_logloss: 0.0657781\n",
      "[80]\ttraining's binary_logloss: 0.0134389\tvalid_1's binary_logloss: 0.0578784\n",
      "[100]\ttraining's binary_logloss: 0.00776425\tvalid_1's binary_logloss: 0.0531667\n",
      "[120]\ttraining's binary_logloss: 0.004544\tvalid_1's binary_logloss: 0.0506591\n",
      "[140]\ttraining's binary_logloss: 0.002668\tvalid_1's binary_logloss: 0.049773\n",
      "Early stopping, best iteration is:\n",
      "[137]\ttraining's binary_logloss: 0.00288845\tvalid_1's binary_logloss: 0.0494847\n"
     ]
    },
    {
     "name": "stderr",
     "output_type": "stream",
     "text": [
      "protein_synthesis_inhibitor logloss: 0.04800487618618387\n",
      "=========================================================================================\n",
      "len(trt) : 19\n",
      "len(train_index) : 942\n",
      "len(valid_index) : 943\n",
      "================================= 1fold lightgbm =================================\n"
     ]
    },
    {
     "name": "stdout",
     "output_type": "stream",
     "text": [
      "Training until validation scores don't improve for 10 rounds\n",
      "[20]\ttraining's binary_logloss: 0.0176436\tvalid_1's binary_logloss: 0.0443428\n",
      "[40]\ttraining's binary_logloss: 0.00910204\tvalid_1's binary_logloss: 0.0421254\n"
     ]
    },
    {
     "name": "stderr",
     "output_type": "stream",
     "text": [
      "len(train_index) : 943\n",
      "len(valid_index) : 942\n",
      "================================= 2fold lightgbm =================================\n"
     ]
    },
    {
     "name": "stdout",
     "output_type": "stream",
     "text": [
      "Early stopping, best iteration is:\n",
      "[37]\ttraining's binary_logloss: 0.0100236\tvalid_1's binary_logloss: 0.0420874\n",
      "Training until validation scores don't improve for 10 rounds\n",
      "[20]\ttraining's binary_logloss: 0.0178373\tvalid_1's binary_logloss: 0.0429168\n"
     ]
    },
    {
     "name": "stderr",
     "output_type": "stream",
     "text": [
      "protein_tyrosine_kinase_inhibitor logloss: 0.041590761321179406\n",
      "=========================================================================================\n"
     ]
    },
    {
     "name": "stdout",
     "output_type": "stream",
     "text": [
      "[40]\ttraining's binary_logloss: 0.00926563\tvalid_1's binary_logloss: 0.041214\n",
      "Early stopping, best iteration is:\n",
      "[34]\ttraining's binary_logloss: 0.0111353\tvalid_1's binary_logloss: 0.0410936\n"
     ]
    },
    {
     "name": "stderr",
     "output_type": "stream",
     "text": [
      "len(trt) : 56\n",
      "len(train_index) : 961\n",
      "len(valid_index) : 961\n",
      "================================= 1fold lightgbm =================================\n"
     ]
    },
    {
     "name": "stdout",
     "output_type": "stream",
     "text": [
      "Training until validation scores don't improve for 10 rounds\n",
      "[20]\ttraining's binary_logloss: 0.0493665\tvalid_1's binary_logloss: 0.0901208\n",
      "[40]\ttraining's binary_logloss: 0.0263673\tvalid_1's binary_logloss: 0.0795369\n",
      "[60]\ttraining's binary_logloss: 0.0150431\tvalid_1's binary_logloss: 0.0773074\n"
     ]
    },
    {
     "name": "stderr",
     "output_type": "stream",
     "text": [
      "len(train_index) : 961\n",
      "len(valid_index) : 961\n",
      "================================= 2fold lightgbm =================================\n"
     ]
    },
    {
     "name": "stdout",
     "output_type": "stream",
     "text": [
      "Early stopping, best iteration is:\n",
      "[64]\ttraining's binary_logloss: 0.0134684\tvalid_1's binary_logloss: 0.0766446\n",
      "Training until validation scores don't improve for 10 rounds\n",
      "[20]\ttraining's binary_logloss: 0.0499541\tvalid_1's binary_logloss: 0.0892662\n",
      "[40]\ttraining's binary_logloss: 0.0267296\tvalid_1's binary_logloss: 0.077725\n",
      "[60]\ttraining's binary_logloss: 0.015241\tvalid_1's binary_logloss: 0.0733206\n",
      "[80]\ttraining's binary_logloss: 0.00901208\tvalid_1's binary_logloss: 0.0728538\n"
     ]
    },
    {
     "name": "stderr",
     "output_type": "stream",
     "text": [
      "radiopaque_medium logloss: 0.074682406680315\n",
      "=========================================================================================\n",
      "len(trt) : 223\n",
      "len(train_index) : 1044\n",
      "len(valid_index) : 1045\n",
      "================================= 1fold lightgbm =================================\n"
     ]
    },
    {
     "name": "stdout",
     "output_type": "stream",
     "text": [
      "Early stopping, best iteration is:\n",
      "[77]\ttraining's binary_logloss: 0.00976146\tvalid_1's binary_logloss: 0.0727202\n",
      "Training until validation scores don't improve for 10 rounds\n",
      "[20]\ttraining's binary_logloss: 0.129042\tvalid_1's binary_logloss: 0.13365\n",
      "[40]\ttraining's binary_logloss: 0.0663474\tvalid_1's binary_logloss: 0.0749009\n",
      "[60]\ttraining's binary_logloss: 0.0360584\tvalid_1's binary_logloss: 0.0467342\n",
      "[80]\ttraining's binary_logloss: 0.0200909\tvalid_1's binary_logloss: 0.0322725\n",
      "[100]\ttraining's binary_logloss: 0.011266\tvalid_1's binary_logloss: 0.024733\n",
      "[120]\ttraining's binary_logloss: 0.00638331\tvalid_1's binary_logloss: 0.0207069\n",
      "[140]\ttraining's binary_logloss: 0.0036155\tvalid_1's binary_logloss: 0.0187537\n"
     ]
    },
    {
     "name": "stderr",
     "output_type": "stream",
     "text": [
      "len(train_index) : 1045\n",
      "len(valid_index) : 1044\n",
      "================================= 2fold lightgbm =================================\n"
     ]
    },
    {
     "name": "stdout",
     "output_type": "stream",
     "text": [
      "[160]\ttraining's binary_logloss: 0.00206009\tvalid_1's binary_logloss: 0.0180881\n",
      "Early stopping, best iteration is:\n",
      "[153]\ttraining's binary_logloss: 0.00251351\tvalid_1's binary_logloss: 0.0179686\n",
      "Training until validation scores don't improve for 10 rounds\n",
      "[20]\ttraining's binary_logloss: 0.131277\tvalid_1's binary_logloss: 0.13821\n",
      "[40]\ttraining's binary_logloss: 0.0684584\tvalid_1's binary_logloss: 0.0791822\n",
      "[60]\ttraining's binary_logloss: 0.037505\tvalid_1's binary_logloss: 0.0495653\n",
      "[80]\ttraining's binary_logloss: 0.021044\tvalid_1's binary_logloss: 0.0332464\n",
      "[100]\ttraining's binary_logloss: 0.0118428\tvalid_1's binary_logloss: 0.0248074\n",
      "[120]\ttraining's binary_logloss: 0.00672388\tvalid_1's binary_logloss: 0.0201358\n",
      "[140]\ttraining's binary_logloss: 0.00386634\tvalid_1's binary_logloss: 0.0171273\n",
      "[160]\ttraining's binary_logloss: 0.00222638\tvalid_1's binary_logloss: 0.0152654\n",
      "[180]\ttraining's binary_logloss: 0.00127599\tvalid_1's binary_logloss: 0.0140564\n",
      "[200]\ttraining's binary_logloss: 0.000734153\tvalid_1's binary_logloss: 0.0134896\n",
      "[220]\ttraining's binary_logloss: 0.000423128\tvalid_1's binary_logloss: 0.0131892\n"
     ]
    },
    {
     "name": "stderr",
     "output_type": "stream",
     "text": [
      "raf_inhibitor logloss: 0.015466325231090698\n",
      "=========================================================================================\n",
      "len(trt) : 12\n",
      "len(train_index) : 939\n",
      "len(valid_index) : 939\n",
      "================================= 1fold lightgbm =================================\n"
     ]
    },
    {
     "name": "stdout",
     "output_type": "stream",
     "text": [
      "[240]\ttraining's binary_logloss: 0.000244701\tvalid_1's binary_logloss: 0.0130228\n",
      "Early stopping, best iteration is:\n",
      "[230]\ttraining's binary_logloss: 0.000321849\tvalid_1's binary_logloss: 0.0129616\n",
      "Training until validation scores don't improve for 10 rounds\n",
      "[20]\ttraining's binary_logloss: 0.0122073\tvalid_1's binary_logloss: 0.0315354\n"
     ]
    },
    {
     "name": "stderr",
     "output_type": "stream",
     "text": [
      "len(train_index) : 939\n",
      "len(valid_index) : 939\n",
      "================================= 2fold lightgbm =================================\n"
     ]
    },
    {
     "name": "stdout",
     "output_type": "stream",
     "text": [
      "[40]\ttraining's binary_logloss: 0.00620044\tvalid_1's binary_logloss: 0.0312696\n",
      "Early stopping, best iteration is:\n",
      "[30]\ttraining's binary_logloss: 0.00850012\tvalid_1's binary_logloss: 0.030883\n",
      "Training until validation scores don't improve for 10 rounds\n",
      "[20]\ttraining's binary_logloss: 0.0123078\tvalid_1's binary_logloss: 0.0277955\n",
      "[40]\ttraining's binary_logloss: 0.00589924\tvalid_1's binary_logloss: 0.0261605\n"
     ]
    },
    {
     "name": "stderr",
     "output_type": "stream",
     "text": [
      "ras_gtpase_inhibitor logloss: 0.02852016744187228\n",
      "=========================================================================================\n",
      "len(trt) : 67\n",
      "len(train_index) : 966\n",
      "len(valid_index) : 967\n",
      "================================= 1fold lightgbm =================================\n"
     ]
    },
    {
     "name": "stdout",
     "output_type": "stream",
     "text": [
      "Early stopping, best iteration is:\n",
      "[46]\ttraining's binary_logloss: 0.0048787\tvalid_1's binary_logloss: 0.0261574\n",
      "Training until validation scores don't improve for 10 rounds\n",
      "[20]\ttraining's binary_logloss: 0.0503126\tvalid_1's binary_logloss: 0.0636956\n",
      "[40]\ttraining's binary_logloss: 0.0266783\tvalid_1's binary_logloss: 0.0436398\n",
      "[60]\ttraining's binary_logloss: 0.0148939\tvalid_1's binary_logloss: 0.0340917\n",
      "[80]\ttraining's binary_logloss: 0.0085126\tvalid_1's binary_logloss: 0.028681\n",
      "[100]\ttraining's binary_logloss: 0.00488649\tvalid_1's binary_logloss: 0.0241172\n",
      "[120]\ttraining's binary_logloss: 0.00282572\tvalid_1's binary_logloss: 0.0209138\n",
      "[140]\ttraining's binary_logloss: 0.00164497\tvalid_1's binary_logloss: 0.0188511\n",
      "[160]\ttraining's binary_logloss: 0.000959673\tvalid_1's binary_logloss: 0.0176572\n",
      "[180]\ttraining's binary_logloss: 0.000563541\tvalid_1's binary_logloss: 0.0166659\n",
      "[200]\ttraining's binary_logloss: 0.000331353\tvalid_1's binary_logloss: 0.016043\n"
     ]
    },
    {
     "name": "stderr",
     "output_type": "stream",
     "text": [
      "len(train_index) : 967\n",
      "len(valid_index) : 966\n",
      "================================= 2fold lightgbm =================================\n"
     ]
    },
    {
     "name": "stdout",
     "output_type": "stream",
     "text": [
      "[220]\ttraining's binary_logloss: 0.000194883\tvalid_1's binary_logloss: 0.0153988\n",
      "Early stopping, best iteration is:\n",
      "[214]\ttraining's binary_logloss: 0.000227861\tvalid_1's binary_logloss: 0.0153341\n",
      "Training until validation scores don't improve for 10 rounds\n",
      "[20]\ttraining's binary_logloss: 0.0484917\tvalid_1's binary_logloss: 0.0658756\n",
      "[40]\ttraining's binary_logloss: 0.0247408\tvalid_1's binary_logloss: 0.0491831\n",
      "[60]\ttraining's binary_logloss: 0.0136747\tvalid_1's binary_logloss: 0.0424293\n",
      "[80]\ttraining's binary_logloss: 0.00778094\tvalid_1's binary_logloss: 0.0383483\n",
      "[100]\ttraining's binary_logloss: 0.00441624\tvalid_1's binary_logloss: 0.0353264\n",
      "[120]\ttraining's binary_logloss: 0.00251057\tvalid_1's binary_logloss: 0.033276\n",
      "[140]\ttraining's binary_logloss: 0.00143519\tvalid_1's binary_logloss: 0.0316708\n",
      "[160]\ttraining's binary_logloss: 0.000820278\tvalid_1's binary_logloss: 0.0307803\n"
     ]
    },
    {
     "name": "stderr",
     "output_type": "stream",
     "text": [
      "retinoid_receptor_agonist logloss: 0.023038418260352262\n",
      "=========================================================================================\n",
      "len(trt) : 6\n",
      "len(train_index) : 936\n",
      "len(valid_index) : 936\n",
      "================================= 1fold lightgbm =================================\n"
     ]
    },
    {
     "name": "stdout",
     "output_type": "stream",
     "text": [
      "Early stopping, best iteration is:\n",
      "[161]\ttraining's binary_logloss: 0.000797125\tvalid_1's binary_logloss: 0.0307507\n",
      "Training until validation scores don't improve for 10 rounds\n",
      "[20]\ttraining's binary_logloss: 0.00567699\tvalid_1's binary_logloss: 0.0174168\n"
     ]
    },
    {
     "name": "stderr",
     "output_type": "stream",
     "text": [
      "len(train_index) : 936\n",
      "len(valid_index) : 936\n",
      "================================= 2fold lightgbm =================================\n"
     ]
    },
    {
     "name": "stdout",
     "output_type": "stream",
     "text": [
      "[40]\ttraining's binary_logloss: 0.00301252\tvalid_1's binary_logloss: 0.016859\n",
      "Early stopping, best iteration is:\n",
      "[31]\ttraining's binary_logloss: 0.00394622\tvalid_1's binary_logloss: 0.0166774\n",
      "Training until validation scores don't improve for 10 rounds\n",
      "[20]\ttraining's binary_logloss: 0.00620264\tvalid_1's binary_logloss: 0.0143045\n",
      "[40]\ttraining's binary_logloss: 0.00328321\tvalid_1's binary_logloss: 0.0132009\n",
      "[60]\ttraining's binary_logloss: 0.00186793\tvalid_1's binary_logloss: 0.0129574\n"
     ]
    },
    {
     "name": "stderr",
     "output_type": "stream",
     "text": [
      "retinoid_receptor_antagonist logloss: 0.014783657460489328\n",
      "=========================================================================================\n",
      "len(trt) : 35\n",
      "len(train_index) : 950\n",
      "len(valid_index) : 951\n",
      "================================= 1fold lightgbm =================================\n"
     ]
    },
    {
     "name": "stdout",
     "output_type": "stream",
     "text": [
      "Early stopping, best iteration is:\n",
      "[63]\ttraining's binary_logloss: 0.00170696\tvalid_1's binary_logloss: 0.0128899\n",
      "Training until validation scores don't improve for 10 rounds\n",
      "[20]\ttraining's binary_logloss: 0.0290282\tvalid_1's binary_logloss: 0.0601849\n",
      "[40]\ttraining's binary_logloss: 0.0149623\tvalid_1's binary_logloss: 0.0492687\n",
      "[60]\ttraining's binary_logloss: 0.00821622\tvalid_1's binary_logloss: 0.0429526\n",
      "[80]\ttraining's binary_logloss: 0.00469478\tvalid_1's binary_logloss: 0.0400166\n",
      "[100]\ttraining's binary_logloss: 0.00272176\tvalid_1's binary_logloss: 0.0388052\n"
     ]
    },
    {
     "name": "stderr",
     "output_type": "stream",
     "text": [
      "len(train_index) : 951\n",
      "len(valid_index) : 950\n",
      "================================= 2fold lightgbm =================================\n"
     ]
    },
    {
     "name": "stdout",
     "output_type": "stream",
     "text": [
      "Early stopping, best iteration is:\n",
      "[104]\ttraining's binary_logloss: 0.00244204\tvalid_1's binary_logloss: 0.0387116\n",
      "Training until validation scores don't improve for 10 rounds\n",
      "[20]\ttraining's binary_logloss: 0.0312477\tvalid_1's binary_logloss: 0.0582497\n",
      "[40]\ttraining's binary_logloss: 0.0164112\tvalid_1's binary_logloss: 0.0479515\n",
      "[60]\ttraining's binary_logloss: 0.00926315\tvalid_1's binary_logloss: 0.0425252\n",
      "[80]\ttraining's binary_logloss: 0.00535494\tvalid_1's binary_logloss: 0.0384464\n",
      "[100]\ttraining's binary_logloss: 0.00312544\tvalid_1's binary_logloss: 0.0359386\n",
      "[120]\ttraining's binary_logloss: 0.00183301\tvalid_1's binary_logloss: 0.0349466\n"
     ]
    },
    {
     "name": "stderr",
     "output_type": "stream",
     "text": [
      "rho_associated_kinase_inhibitor logloss: 0.03639330977498862\n",
      "=========================================================================================\n",
      "len(trt) : 37\n",
      "len(train_index) : 951\n",
      "len(valid_index) : 952\n",
      "================================= 1fold lightgbm =================================\n"
     ]
    },
    {
     "name": "stdout",
     "output_type": "stream",
     "text": [
      "[140]\ttraining's binary_logloss: 0.00107587\tvalid_1's binary_logloss: 0.0342738\n",
      "Early stopping, best iteration is:\n",
      "[132]\ttraining's binary_logloss: 0.00133015\tvalid_1's binary_logloss: 0.0340726\n",
      "Training until validation scores don't improve for 10 rounds\n",
      "[20]\ttraining's binary_logloss: 0.0291719\tvalid_1's binary_logloss: 0.0550227\n",
      "[40]\ttraining's binary_logloss: 0.0153431\tvalid_1's binary_logloss: 0.0479073\n",
      "[60]\ttraining's binary_logloss: 0.00841855\tvalid_1's binary_logloss: 0.0461456\n"
     ]
    },
    {
     "name": "stderr",
     "output_type": "stream",
     "text": [
      "len(train_index) : 952\n",
      "len(valid_index) : 951\n",
      "================================= 2fold lightgbm =================================\n"
     ]
    },
    {
     "name": "stdout",
     "output_type": "stream",
     "text": [
      "[80]\ttraining's binary_logloss: 0.00477149\tvalid_1's binary_logloss: 0.0462976\n",
      "Early stopping, best iteration is:\n",
      "[71]\ttraining's binary_logloss: 0.00618002\tvalid_1's binary_logloss: 0.0454378\n",
      "Training until validation scores don't improve for 10 rounds\n",
      "[20]\ttraining's binary_logloss: 0.0321019\tvalid_1's binary_logloss: 0.0555816\n",
      "[40]\ttraining's binary_logloss: 0.0168274\tvalid_1's binary_logloss: 0.0455304\n",
      "[60]\ttraining's binary_logloss: 0.0092647\tvalid_1's binary_logloss: 0.0406288\n",
      "[80]\ttraining's binary_logloss: 0.00525912\tvalid_1's binary_logloss: 0.0381639\n"
     ]
    },
    {
     "name": "stderr",
     "output_type": "stream",
     "text": [
      "ribonucleoside_reductase_inhibitor logloss: 0.04160438756416611\n",
      "=========================================================================================\n",
      "len(trt) : 25\n",
      "len(train_index) : 945\n",
      "len(valid_index) : 946\n",
      "================================= 1fold lightgbm =================================\n"
     ]
    },
    {
     "name": "stdout",
     "output_type": "stream",
     "text": [
      "[100]\ttraining's binary_logloss: 0.00304757\tvalid_1's binary_logloss: 0.0378258\n",
      "Early stopping, best iteration is:\n",
      "[92]\ttraining's binary_logloss: 0.0037842\tvalid_1's binary_logloss: 0.037767\n",
      "Training until validation scores don't improve for 10 rounds\n",
      "[20]\ttraining's binary_logloss: 0.0244412\tvalid_1's binary_logloss: 0.0470059\n",
      "[40]\ttraining's binary_logloss: 0.0127435\tvalid_1's binary_logloss: 0.0419534\n",
      "[60]\ttraining's binary_logloss: 0.00706596\tvalid_1's binary_logloss: 0.040485\n"
     ]
    },
    {
     "name": "stderr",
     "output_type": "stream",
     "text": [
      "len(train_index) : 946\n",
      "len(valid_index) : 945\n",
      "================================= 2fold lightgbm =================================\n"
     ]
    },
    {
     "name": "stdout",
     "output_type": "stream",
     "text": [
      "Early stopping, best iteration is:\n",
      "[59]\ttraining's binary_logloss: 0.00729249\tvalid_1's binary_logloss: 0.0403927\n",
      "Training until validation scores don't improve for 10 rounds\n",
      "[20]\ttraining's binary_logloss: 0.0234675\tvalid_1's binary_logloss: 0.0564061\n",
      "[40]\ttraining's binary_logloss: 0.0122432\tvalid_1's binary_logloss: 0.0546629\n"
     ]
    },
    {
     "name": "stderr",
     "output_type": "stream",
     "text": [
      "rna_polymerase_inhibitor logloss: 0.04744684221157287\n",
      "=========================================================================================\n",
      "len(trt) : 236\n",
      "len(train_index) : 1051\n",
      "len(valid_index) : 1051\n",
      "================================= 1fold lightgbm =================================\n"
     ]
    },
    {
     "name": "stdout",
     "output_type": "stream",
     "text": [
      "Early stopping, best iteration is:\n",
      "[44]\ttraining's binary_logloss: 0.0108947\tvalid_1's binary_logloss: 0.0545085\n",
      "Training until validation scores don't improve for 10 rounds\n",
      "[20]\ttraining's binary_logloss: 0.147887\tvalid_1's binary_logloss: 0.189957\n",
      "[40]\ttraining's binary_logloss: 0.0809489\tvalid_1's binary_logloss: 0.132831\n",
      "[60]\ttraining's binary_logloss: 0.0464462\tvalid_1's binary_logloss: 0.101841\n",
      "[80]\ttraining's binary_logloss: 0.0270421\tvalid_1's binary_logloss: 0.0834487\n",
      "[100]\ttraining's binary_logloss: 0.0159679\tvalid_1's binary_logloss: 0.0713385\n",
      "[120]\ttraining's binary_logloss: 0.00959508\tvalid_1's binary_logloss: 0.0645033\n",
      "[140]\ttraining's binary_logloss: 0.00579246\tvalid_1's binary_logloss: 0.0601228\n",
      "[160]\ttraining's binary_logloss: 0.00350901\tvalid_1's binary_logloss: 0.0575679\n",
      "[180]\ttraining's binary_logloss: 0.00212894\tvalid_1's binary_logloss: 0.0571908\n",
      "Early stopping, best iteration is:\n",
      "[175]\ttraining's binary_logloss: 0.00241716\tvalid_1's binary_logloss: 0.0569914\n"
     ]
    },
    {
     "name": "stderr",
     "output_type": "stream",
     "text": [
      "len(train_index) : 1051\n",
      "len(valid_index) : 1051\n",
      "================================= 2fold lightgbm =================================\n"
     ]
    },
    {
     "name": "stdout",
     "output_type": "stream",
     "text": [
      "Training until validation scores don't improve for 10 rounds\n",
      "[20]\ttraining's binary_logloss: 0.150242\tvalid_1's binary_logloss: 0.189657\n",
      "[40]\ttraining's binary_logloss: 0.0834925\tvalid_1's binary_logloss: 0.12835\n",
      "[60]\ttraining's binary_logloss: 0.0487879\tvalid_1's binary_logloss: 0.0957219\n",
      "[80]\ttraining's binary_logloss: 0.0290439\tvalid_1's binary_logloss: 0.0753254\n",
      "[100]\ttraining's binary_logloss: 0.0175528\tvalid_1's binary_logloss: 0.0600838\n",
      "[120]\ttraining's binary_logloss: 0.0107253\tvalid_1's binary_logloss: 0.049676\n",
      "[140]\ttraining's binary_logloss: 0.00657229\tvalid_1's binary_logloss: 0.0436516\n",
      "[160]\ttraining's binary_logloss: 0.00404169\tvalid_1's binary_logloss: 0.0386788\n",
      "[180]\ttraining's binary_logloss: 0.00246586\tvalid_1's binary_logloss: 0.0354893\n",
      "[200]\ttraining's binary_logloss: 0.00152295\tvalid_1's binary_logloss: 0.0332273\n",
      "[220]\ttraining's binary_logloss: 0.000939566\tvalid_1's binary_logloss: 0.0317049\n",
      "[240]\ttraining's binary_logloss: 0.000582255\tvalid_1's binary_logloss: 0.0303425\n",
      "[260]\ttraining's binary_logloss: 0.000364332\tvalid_1's binary_logloss: 0.0296713\n",
      "[280]\ttraining's binary_logloss: 0.00022802\tvalid_1's binary_logloss: 0.0289092\n"
     ]
    },
    {
     "name": "stderr",
     "output_type": "stream",
     "text": [
      "serotonin_receptor_agonist logloss: 0.04276259776838718\n",
      "=========================================================================================\n",
      "len(trt) : 404\n",
      "len(train_index) : 1135\n",
      "len(valid_index) : 1135\n",
      "================================= 1fold lightgbm =================================\n"
     ]
    },
    {
     "name": "stdout",
     "output_type": "stream",
     "text": [
      "Early stopping, best iteration is:\n",
      "[285]\ttraining's binary_logloss: 0.000202605\tvalid_1's binary_logloss: 0.0285338\n",
      "Training until validation scores don't improve for 10 rounds\n",
      "[20]\ttraining's binary_logloss: 0.215578\tvalid_1's binary_logloss: 0.234157\n",
      "[40]\ttraining's binary_logloss: 0.120332\tvalid_1's binary_logloss: 0.1463\n",
      "[60]\ttraining's binary_logloss: 0.0702388\tvalid_1's binary_logloss: 0.0982408\n",
      "[80]\ttraining's binary_logloss: 0.0417873\tvalid_1's binary_logloss: 0.0693424\n",
      "[100]\ttraining's binary_logloss: 0.0254908\tvalid_1's binary_logloss: 0.0516685\n",
      "[120]\ttraining's binary_logloss: 0.0156966\tvalid_1's binary_logloss: 0.041042\n",
      "[140]\ttraining's binary_logloss: 0.00976319\tvalid_1's binary_logloss: 0.0329222\n",
      "[160]\ttraining's binary_logloss: 0.00609435\tvalid_1's binary_logloss: 0.0280649\n",
      "[180]\ttraining's binary_logloss: 0.00384312\tvalid_1's binary_logloss: 0.0255361\n",
      "[200]\ttraining's binary_logloss: 0.00241599\tvalid_1's binary_logloss: 0.0239413\n",
      "[220]\ttraining's binary_logloss: 0.00152162\tvalid_1's binary_logloss: 0.0227786\n",
      "[240]\ttraining's binary_logloss: 0.000956967\tvalid_1's binary_logloss: 0.0223289\n"
     ]
    },
    {
     "name": "stderr",
     "output_type": "stream",
     "text": [
      "len(train_index) : 1135\n",
      "len(valid_index) : 1135\n",
      "================================= 2fold lightgbm =================================\n"
     ]
    },
    {
     "name": "stdout",
     "output_type": "stream",
     "text": [
      "Early stopping, best iteration is:\n",
      "[245]\ttraining's binary_logloss: 0.000853176\tvalid_1's binary_logloss: 0.0221259\n",
      "Training until validation scores don't improve for 10 rounds\n",
      "[20]\ttraining's binary_logloss: 0.211145\tvalid_1's binary_logloss: 0.240906\n",
      "[40]\ttraining's binary_logloss: 0.115966\tvalid_1's binary_logloss: 0.158431\n",
      "[60]\ttraining's binary_logloss: 0.0671367\tvalid_1's binary_logloss: 0.115353\n",
      "[80]\ttraining's binary_logloss: 0.0399708\tvalid_1's binary_logloss: 0.089039\n",
      "[100]\ttraining's binary_logloss: 0.0241111\tvalid_1's binary_logloss: 0.0724279\n",
      "[120]\ttraining's binary_logloss: 0.0145604\tvalid_1's binary_logloss: 0.0607478\n",
      "[140]\ttraining's binary_logloss: 0.00884858\tvalid_1's binary_logloss: 0.0525461\n",
      "[160]\ttraining's binary_logloss: 0.00541366\tvalid_1's binary_logloss: 0.0478664\n",
      "[180]\ttraining's binary_logloss: 0.0033147\tvalid_1's binary_logloss: 0.0444001\n",
      "[200]\ttraining's binary_logloss: 0.00204515\tvalid_1's binary_logloss: 0.0424494\n",
      "[220]\ttraining's binary_logloss: 0.00125586\tvalid_1's binary_logloss: 0.0410941\n"
     ]
    },
    {
     "name": "stderr",
     "output_type": "stream",
     "text": [
      "serotonin_receptor_antagonist logloss: 0.03121079281505469\n",
      "=========================================================================================\n",
      "len(trt) : 44\n",
      "len(train_index) : 955\n"
     ]
    },
    {
     "name": "stdout",
     "output_type": "stream",
     "text": [
      "[240]\ttraining's binary_logloss: 0.000775399\tvalid_1's binary_logloss: 0.0404872\n",
      "Early stopping, best iteration is:\n",
      "[232]\ttraining's binary_logloss: 0.000941832\tvalid_1's binary_logloss: 0.0402957\n"
     ]
    },
    {
     "name": "stderr",
     "output_type": "stream",
     "text": [
      "len(valid_index) : 955\n",
      "================================= 1fold lightgbm =================================\n"
     ]
    },
    {
     "name": "stdout",
     "output_type": "stream",
     "text": [
      "Training until validation scores don't improve for 10 rounds\n",
      "[20]\ttraining's binary_logloss: 0.0399259\tvalid_1's binary_logloss: 0.0838278\n",
      "[40]\ttraining's binary_logloss: 0.0212747\tvalid_1's binary_logloss: 0.0776018\n"
     ]
    },
    {
     "name": "stderr",
     "output_type": "stream",
     "text": [
      "len(train_index) : 955\n",
      "len(valid_index) : 955\n",
      "================================= 2fold lightgbm =================================\n"
     ]
    },
    {
     "name": "stdout",
     "output_type": "stream",
     "text": [
      "Early stopping, best iteration is:\n",
      "[40]\ttraining's binary_logloss: 0.0212747\tvalid_1's binary_logloss: 0.0776018\n",
      "Training until validation scores don't improve for 10 rounds\n",
      "[20]\ttraining's binary_logloss: 0.0393583\tvalid_1's binary_logloss: 0.0690218\n",
      "[40]\ttraining's binary_logloss: 0.0211294\tvalid_1's binary_logloss: 0.0577254\n",
      "[60]\ttraining's binary_logloss: 0.0120876\tvalid_1's binary_logloss: 0.0555449\n",
      "[80]\ttraining's binary_logloss: 0.0071036\tvalid_1's binary_logloss: 0.0539575\n"
     ]
    },
    {
     "name": "stderr",
     "output_type": "stream",
     "text": [
      "serotonin_reuptake_inhibitor logloss: 0.06556251392634968\n",
      "=========================================================================================\n"
     ]
    },
    {
     "name": "stdout",
     "output_type": "stream",
     "text": [
      "[100]\ttraining's binary_logloss: 0.00422754\tvalid_1's binary_logloss: 0.0536608\n",
      "Early stopping, best iteration is:\n",
      "[93]\ttraining's binary_logloss: 0.00505971\tvalid_1's binary_logloss: 0.0535232\n"
     ]
    },
    {
     "name": "stderr",
     "output_type": "stream",
     "text": [
      "len(trt) : 36\n",
      "len(train_index) : 951\n",
      "len(valid_index) : 951\n",
      "================================= 1fold lightgbm =================================\n"
     ]
    },
    {
     "name": "stdout",
     "output_type": "stream",
     "text": [
      "Training until validation scores don't improve for 10 rounds\n",
      "[20]\ttraining's binary_logloss: 0.0334348\tvalid_1's binary_logloss: 0.072813\n",
      "[40]\ttraining's binary_logloss: 0.0175541\tvalid_1's binary_logloss: 0.0680881\n",
      "[60]\ttraining's binary_logloss: 0.00990692\tvalid_1's binary_logloss: 0.0663201\n"
     ]
    },
    {
     "name": "stderr",
     "output_type": "stream",
     "text": [
      "len(train_index) : 951\n",
      "len(valid_index) : 951\n",
      "================================= 2fold lightgbm =================================\n"
     ]
    },
    {
     "name": "stdout",
     "output_type": "stream",
     "text": [
      "Early stopping, best iteration is:\n",
      "[67]\ttraining's binary_logloss: 0.00810825\tvalid_1's binary_logloss: 0.0657217\n",
      "Training until validation scores don't improve for 10 rounds\n",
      "[20]\ttraining's binary_logloss: 0.0309842\tvalid_1's binary_logloss: 0.0734774\n",
      "[40]\ttraining's binary_logloss: 0.0165721\tvalid_1's binary_logloss: 0.070362\n"
     ]
    },
    {
     "name": "stderr",
     "output_type": "stream",
     "text": [
      "sigma_receptor_agonist logloss: 0.06768882445104647\n",
      "=========================================================================================\n",
      "len(trt) : 36\n",
      "len(train_index) : 951\n",
      "len(valid_index) : 951\n",
      "================================= 1fold lightgbm =================================\n"
     ]
    },
    {
     "name": "stdout",
     "output_type": "stream",
     "text": [
      "[60]\ttraining's binary_logloss: 0.00942614\tvalid_1's binary_logloss: 0.070143\n",
      "Early stopping, best iteration is:\n",
      "[50]\ttraining's binary_logloss: 0.0123936\tvalid_1's binary_logloss: 0.069656\n",
      "Training until validation scores don't improve for 10 rounds\n",
      "[20]\ttraining's binary_logloss: 0.0331678\tvalid_1's binary_logloss: 0.0550188\n",
      "[40]\ttraining's binary_logloss: 0.0176845\tvalid_1's binary_logloss: 0.046046\n",
      "[60]\ttraining's binary_logloss: 0.00973433\tvalid_1's binary_logloss: 0.0439297\n"
     ]
    },
    {
     "name": "stderr",
     "output_type": "stream",
     "text": [
      "len(train_index) : 951\n",
      "len(valid_index) : 951\n",
      "================================= 2fold lightgbm =================================\n"
     ]
    },
    {
     "name": "stdout",
     "output_type": "stream",
     "text": [
      "[80]\ttraining's binary_logloss: 0.00554928\tvalid_1's binary_logloss: 0.0438379\n",
      "Early stopping, best iteration is:\n",
      "[72]\ttraining's binary_logloss: 0.00692372\tvalid_1's binary_logloss: 0.0437156\n",
      "Training until validation scores don't improve for 10 rounds\n",
      "[20]\ttraining's binary_logloss: 0.0312076\tvalid_1's binary_logloss: 0.064083\n",
      "[40]\ttraining's binary_logloss: 0.0164071\tvalid_1's binary_logloss: 0.0581335\n",
      "[60]\ttraining's binary_logloss: 0.00914885\tvalid_1's binary_logloss: 0.05716\n"
     ]
    },
    {
     "name": "stderr",
     "output_type": "stream",
     "text": [
      "sigma_receptor_antagonist logloss: 0.05043780963137591\n",
      "=========================================================================================\n",
      "len(trt) : 25\n",
      "len(train_index) : 945\n",
      "len(valid_index) : 946\n",
      "================================= 1fold lightgbm =================================\n"
     ]
    },
    {
     "name": "stdout",
     "output_type": "stream",
     "text": [
      "Early stopping, best iteration is:\n",
      "[60]\ttraining's binary_logloss: 0.00914885\tvalid_1's binary_logloss: 0.05716\n",
      "Training until validation scores don't improve for 10 rounds\n",
      "[20]\ttraining's binary_logloss: 0.0229601\tvalid_1's binary_logloss: 0.0605063\n",
      "[40]\ttraining's binary_logloss: 0.0121528\tvalid_1's binary_logloss: 0.0585189\n"
     ]
    },
    {
     "name": "stderr",
     "output_type": "stream",
     "text": [
      "len(train_index) : 946\n",
      "len(valid_index) : 945\n",
      "================================= 2fold lightgbm =================================\n"
     ]
    },
    {
     "name": "stdout",
     "output_type": "stream",
     "text": [
      "Early stopping, best iteration is:\n",
      "[49]\ttraining's binary_logloss: 0.00940474\tvalid_1's binary_logloss: 0.057463\n",
      "Training until validation scores don't improve for 10 rounds\n",
      "[20]\ttraining's binary_logloss: 0.0271096\tvalid_1's binary_logloss: 0.0501527\n",
      "[40]\ttraining's binary_logloss: 0.0146012\tvalid_1's binary_logloss: 0.0460757\n"
     ]
    },
    {
     "name": "stderr",
     "output_type": "stream",
     "text": [
      "smoothened_receptor_antagonist logloss: 0.05116954694410469\n",
      "=========================================================================================\n"
     ]
    },
    {
     "name": "stdout",
     "output_type": "stream",
     "text": [
      "[60]\ttraining's binary_logloss: 0.00811268\tvalid_1's binary_logloss: 0.045931\n",
      "Early stopping, best iteration is:\n",
      "[52]\ttraining's binary_logloss: 0.0103117\tvalid_1's binary_logloss: 0.0448694\n"
     ]
    },
    {
     "name": "stderr",
     "output_type": "stream",
     "text": [
      "len(trt) : 267\n",
      "len(train_index) : 1066\n",
      "len(valid_index) : 1067\n",
      "================================= 1fold lightgbm =================================\n"
     ]
    },
    {
     "name": "stdout",
     "output_type": "stream",
     "text": [
      "Training until validation scores don't improve for 10 rounds\n",
      "[20]\ttraining's binary_logloss: 0.166608\tvalid_1's binary_logloss: 0.197735\n",
      "[40]\ttraining's binary_logloss: 0.0928745\tvalid_1's binary_logloss: 0.133464\n",
      "[60]\ttraining's binary_logloss: 0.054537\tvalid_1's binary_logloss: 0.0961841\n",
      "[80]\ttraining's binary_logloss: 0.0322505\tvalid_1's binary_logloss: 0.0716082\n",
      "[100]\ttraining's binary_logloss: 0.0196096\tvalid_1's binary_logloss: 0.0566052\n",
      "[120]\ttraining's binary_logloss: 0.0118755\tvalid_1's binary_logloss: 0.0481075\n",
      "[140]\ttraining's binary_logloss: 0.00726202\tvalid_1's binary_logloss: 0.042719\n",
      "[160]\ttraining's binary_logloss: 0.00448394\tvalid_1's binary_logloss: 0.0393347\n",
      "[180]\ttraining's binary_logloss: 0.00276017\tvalid_1's binary_logloss: 0.0369763\n",
      "[200]\ttraining's binary_logloss: 0.00170391\tvalid_1's binary_logloss: 0.0347056\n",
      "[220]\ttraining's binary_logloss: 0.00105542\tvalid_1's binary_logloss: 0.0329038\n",
      "[240]\ttraining's binary_logloss: 0.000655956\tvalid_1's binary_logloss: 0.0322785\n",
      "[260]\ttraining's binary_logloss: 0.000404897\tvalid_1's binary_logloss: 0.0318471\n",
      "[280]\ttraining's binary_logloss: 0.000250591\tvalid_1's binary_logloss: 0.0312766\n",
      "Early stopping, best iteration is:\n",
      "[280]\ttraining's binary_logloss: 0.000250591\tvalid_1's binary_logloss: 0.0312766\n"
     ]
    },
    {
     "name": "stderr",
     "output_type": "stream",
     "text": [
      "len(train_index) : 1067\n",
      "len(valid_index) : 1066\n",
      "================================= 2fold lightgbm =================================\n"
     ]
    },
    {
     "name": "stdout",
     "output_type": "stream",
     "text": [
      "Training until validation scores don't improve for 10 rounds\n",
      "[20]\ttraining's binary_logloss: 0.164997\tvalid_1's binary_logloss: 0.191046\n",
      "[40]\ttraining's binary_logloss: 0.0912808\tvalid_1's binary_logloss: 0.127364\n",
      "[60]\ttraining's binary_logloss: 0.0527476\tvalid_1's binary_logloss: 0.0933117\n",
      "[80]\ttraining's binary_logloss: 0.0313505\tvalid_1's binary_logloss: 0.073602\n",
      "[100]\ttraining's binary_logloss: 0.019022\tvalid_1's binary_logloss: 0.0615792\n",
      "[120]\ttraining's binary_logloss: 0.0114666\tvalid_1's binary_logloss: 0.0537925\n",
      "[140]\ttraining's binary_logloss: 0.00695292\tvalid_1's binary_logloss: 0.0488539\n",
      "[160]\ttraining's binary_logloss: 0.0042376\tvalid_1's binary_logloss: 0.0456284\n",
      "[180]\ttraining's binary_logloss: 0.00258149\tvalid_1's binary_logloss: 0.0439045\n",
      "[200]\ttraining's binary_logloss: 0.00158087\tvalid_1's binary_logloss: 0.0432491\n",
      "[220]\ttraining's binary_logloss: 0.000964338\tvalid_1's binary_logloss: 0.0423368\n",
      "[240]\ttraining's binary_logloss: 0.000595581\tvalid_1's binary_logloss: 0.0415548\n",
      "[260]\ttraining's binary_logloss: 0.000366691\tvalid_1's binary_logloss: 0.0410726\n",
      "Early stopping, best iteration is:\n",
      "[259]\ttraining's binary_logloss: 0.000376016\tvalid_1's binary_logloss: 0.040957\n"
     ]
    },
    {
     "name": "stderr",
     "output_type": "stream",
     "text": [
      "sodium_channel_inhibitor logloss: 0.03611456233191152\n",
      "=========================================================================================\n",
      "len(trt) : 25\n",
      "len(train_index) : 945\n",
      "len(valid_index) : 946\n",
      "================================= 1fold lightgbm =================================\n"
     ]
    },
    {
     "name": "stdout",
     "output_type": "stream",
     "text": [
      "Training until validation scores don't improve for 10 rounds\n",
      "[20]\ttraining's binary_logloss: 0.0259938\tvalid_1's binary_logloss: 0.0570919\n"
     ]
    },
    {
     "name": "stderr",
     "output_type": "stream",
     "text": [
      "len(train_index) : 946\n",
      "len(valid_index) : 945\n",
      "================================= 2fold lightgbm =================================\n"
     ]
    },
    {
     "name": "stdout",
     "output_type": "stream",
     "text": [
      "Early stopping, best iteration is:\n",
      "[27]\ttraining's binary_logloss: 0.0201378\tvalid_1's binary_logloss: 0.0552255\n",
      "Training until validation scores don't improve for 10 rounds\n",
      "[20]\ttraining's binary_logloss: 0.0233416\tvalid_1's binary_logloss: 0.0587645\n"
     ]
    },
    {
     "name": "stderr",
     "output_type": "stream",
     "text": [
      "sphingosine_receptor_agonist logloss: 0.056830569524302765\n",
      "=========================================================================================\n",
      "len(trt) : 71\n",
      "len(train_index) : 968\n",
      "len(valid_index) : 969\n",
      "================================= 1fold lightgbm =================================\n"
     ]
    },
    {
     "name": "stdout",
     "output_type": "stream",
     "text": [
      "Early stopping, best iteration is:\n",
      "[26]\ttraining's binary_logloss: 0.0188562\tvalid_1's binary_logloss: 0.0584373\n",
      "Training until validation scores don't improve for 10 rounds\n",
      "[20]\ttraining's binary_logloss: 0.0515423\tvalid_1's binary_logloss: 0.0715364\n",
      "[40]\ttraining's binary_logloss: 0.0264465\tvalid_1's binary_logloss: 0.0500044\n",
      "[60]\ttraining's binary_logloss: 0.0142578\tvalid_1's binary_logloss: 0.0388827\n",
      "[80]\ttraining's binary_logloss: 0.0078659\tvalid_1's binary_logloss: 0.0335231\n",
      "[100]\ttraining's binary_logloss: 0.00440464\tvalid_1's binary_logloss: 0.0306316\n",
      "[120]\ttraining's binary_logloss: 0.00248654\tvalid_1's binary_logloss: 0.0292014\n",
      "[140]\ttraining's binary_logloss: 0.00141723\tvalid_1's binary_logloss: 0.0284012\n",
      "[160]\ttraining's binary_logloss: 0.000807904\tvalid_1's binary_logloss: 0.0281426\n",
      "Early stopping, best iteration is:\n",
      "[158]\ttraining's binary_logloss: 0.000855627\tvalid_1's binary_logloss: 0.0280168\n"
     ]
    },
    {
     "name": "stderr",
     "output_type": "stream",
     "text": [
      "len(train_index) : 969\n",
      "len(valid_index) : 968\n",
      "================================= 2fold lightgbm =================================\n"
     ]
    },
    {
     "name": "stdout",
     "output_type": "stream",
     "text": [
      "Training until validation scores don't improve for 10 rounds\n",
      "[20]\ttraining's binary_logloss: 0.0534954\tvalid_1's binary_logloss: 0.0736063\n",
      "[40]\ttraining's binary_logloss: 0.0288391\tvalid_1's binary_logloss: 0.0552937\n",
      "[60]\ttraining's binary_logloss: 0.016384\tvalid_1's binary_logloss: 0.0459715\n",
      "[80]\ttraining's binary_logloss: 0.00919665\tvalid_1's binary_logloss: 0.038012\n",
      "[100]\ttraining's binary_logloss: 0.00522706\tvalid_1's binary_logloss: 0.0337573\n",
      "[120]\ttraining's binary_logloss: 0.00300539\tvalid_1's binary_logloss: 0.0315592\n",
      "Early stopping, best iteration is:\n",
      "[119]\ttraining's binary_logloss: 0.00309161\tvalid_1's binary_logloss: 0.0314492\n"
     ]
    },
    {
     "name": "stderr",
     "output_type": "stream",
     "text": [
      "src_inhibitor logloss: 0.029732098730710702\n",
      "=========================================================================================\n",
      "len(trt) : 6\n",
      "len(train_index) : 936\n",
      "len(valid_index) : 936\n",
      "================================= 1fold lightgbm =================================\n"
     ]
    },
    {
     "name": "stdout",
     "output_type": "stream",
     "text": [
      "Training until validation scores don't improve for 10 rounds\n"
     ]
    },
    {
     "name": "stderr",
     "output_type": "stream",
     "text": [
      "len(train_index) : 936\n",
      "len(valid_index) : 936\n",
      "================================= 2fold lightgbm =================================\n"
     ]
    },
    {
     "name": "stdout",
     "output_type": "stream",
     "text": [
      "[20]\ttraining's binary_logloss: 0.00554886\tvalid_1's binary_logloss: 0.0198488\n",
      "Early stopping, best iteration is:\n",
      "[14]\ttraining's binary_logloss: 0.00727619\tvalid_1's binary_logloss: 0.0198026\n",
      "Training until validation scores don't improve for 10 rounds\n"
     ]
    },
    {
     "name": "stderr",
     "output_type": "stream",
     "text": [
      "steroid logloss: 0.019605383353111728\n",
      "=========================================================================================\n",
      "len(trt) : 19\n",
      "len(train_index) : 942\n",
      "len(valid_index) : 943\n",
      "================================= 1fold lightgbm =================================\n"
     ]
    },
    {
     "name": "stdout",
     "output_type": "stream",
     "text": [
      "[20]\ttraining's binary_logloss: 0.0052792\tvalid_1's binary_logloss: 0.019489\n",
      "Early stopping, best iteration is:\n",
      "[14]\ttraining's binary_logloss: 0.00681634\tvalid_1's binary_logloss: 0.0194081\n",
      "Training until validation scores don't improve for 10 rounds\n",
      "[20]\ttraining's binary_logloss: 0.0141007\tvalid_1's binary_logloss: 0.0311651\n",
      "[40]\ttraining's binary_logloss: 0.00733163\tvalid_1's binary_logloss: 0.02528\n",
      "[60]\ttraining's binary_logloss: 0.00405845\tvalid_1's binary_logloss: 0.0221864\n",
      "[80]\ttraining's binary_logloss: 0.00228917\tvalid_1's binary_logloss: 0.0201361\n",
      "[100]\ttraining's binary_logloss: 0.00130621\tvalid_1's binary_logloss: 0.018854\n",
      "[120]\ttraining's binary_logloss: 0.000748989\tvalid_1's binary_logloss: 0.0176182\n",
      "[140]\ttraining's binary_logloss: 0.000430697\tvalid_1's binary_logloss: 0.0167847\n",
      "Early stopping, best iteration is:\n",
      "[139]\ttraining's binary_logloss: 0.000442966\tvalid_1's binary_logloss: 0.016774\n"
     ]
    },
    {
     "name": "stderr",
     "output_type": "stream",
     "text": [
      "len(train_index) : 943\n",
      "len(valid_index) : 942\n",
      "================================= 2fold lightgbm =================================\n"
     ]
    },
    {
     "name": "stdout",
     "output_type": "stream",
     "text": [
      "Training until validation scores don't improve for 10 rounds\n",
      "[20]\ttraining's binary_logloss: 0.0157794\tvalid_1's binary_logloss: 0.0310559\n",
      "[40]\ttraining's binary_logloss: 0.00806623\tvalid_1's binary_logloss: 0.0265899\n",
      "[60]\ttraining's binary_logloss: 0.00439592\tvalid_1's binary_logloss: 0.024199\n",
      "[80]\ttraining's binary_logloss: 0.00246125\tvalid_1's binary_logloss: 0.0225388\n",
      "[100]\ttraining's binary_logloss: 0.00139736\tvalid_1's binary_logloss: 0.0219942\n",
      "[120]\ttraining's binary_logloss: 0.00079513\tvalid_1's binary_logloss: 0.0211147\n",
      "[140]\ttraining's binary_logloss: 0.000453589\tvalid_1's binary_logloss: 0.0206101\n",
      "[160]\ttraining's binary_logloss: 0.0002591\tvalid_1's binary_logloss: 0.0203132\n"
     ]
    },
    {
     "name": "stderr",
     "output_type": "stream",
     "text": [
      "syk_inhibitor logloss: 0.01853023735609454\n",
      "=========================================================================================\n",
      "len(trt) : 60\n",
      "len(train_index) : 963\n",
      "len(valid_index) : 963\n",
      "================================= 1fold lightgbm =================================\n"
     ]
    },
    {
     "name": "stdout",
     "output_type": "stream",
     "text": [
      "Early stopping, best iteration is:\n",
      "[161]\ttraining's binary_logloss: 0.000251844\tvalid_1's binary_logloss: 0.0202884\n",
      "Training until validation scores don't improve for 10 rounds\n",
      "[20]\ttraining's binary_logloss: 0.0494891\tvalid_1's binary_logloss: 0.100932\n",
      "[40]\ttraining's binary_logloss: 0.0263632\tvalid_1's binary_logloss: 0.0953104\n"
     ]
    },
    {
     "name": "stderr",
     "output_type": "stream",
     "text": [
      "len(train_index) : 963\n",
      "len(valid_index) : 963\n",
      "================================= 2fold lightgbm =================================\n"
     ]
    },
    {
     "name": "stdout",
     "output_type": "stream",
     "text": [
      "[60]\ttraining's binary_logloss: 0.0147914\tvalid_1's binary_logloss: 0.0946044\n",
      "Early stopping, best iteration is:\n",
      "[54]\ttraining's binary_logloss: 0.0175177\tvalid_1's binary_logloss: 0.0941297\n",
      "Training until validation scores don't improve for 10 rounds\n",
      "[20]\ttraining's binary_logloss: 0.0532565\tvalid_1's binary_logloss: 0.0856354\n",
      "[40]\ttraining's binary_logloss: 0.0288198\tvalid_1's binary_logloss: 0.067242\n",
      "[60]\ttraining's binary_logloss: 0.0164763\tvalid_1's binary_logloss: 0.0567102\n",
      "[80]\ttraining's binary_logloss: 0.00960162\tvalid_1's binary_logloss: 0.0517173\n",
      "[100]\ttraining's binary_logloss: 0.00571823\tvalid_1's binary_logloss: 0.0505229\n",
      "[120]\ttraining's binary_logloss: 0.00344104\tvalid_1's binary_logloss: 0.0497174\n"
     ]
    },
    {
     "name": "stderr",
     "output_type": "stream",
     "text": [
      "tachykinin_antagonist logloss: 0.07190667187719305\n",
      "=========================================================================================\n",
      "len(trt) : 30\n",
      "len(train_index) : 948\n",
      "len(valid_index) : 948\n",
      "================================= 1fold lightgbm =================================\n"
     ]
    },
    {
     "name": "stdout",
     "output_type": "stream",
     "text": [
      "Early stopping, best iteration is:\n",
      "[122]\ttraining's binary_logloss: 0.00326769\tvalid_1's binary_logloss: 0.0496837\n",
      "Training until validation scores don't improve for 10 rounds\n",
      "[20]\ttraining's binary_logloss: 0.0207259\tvalid_1's binary_logloss: 0.0297532\n",
      "[40]\ttraining's binary_logloss: 0.0103924\tvalid_1's binary_logloss: 0.018158\n",
      "[60]\ttraining's binary_logloss: 0.00553765\tvalid_1's binary_logloss: 0.0118328\n",
      "[80]\ttraining's binary_logloss: 0.00301799\tvalid_1's binary_logloss: 0.00777132\n",
      "[100]\ttraining's binary_logloss: 0.00166401\tvalid_1's binary_logloss: 0.00554431\n",
      "[120]\ttraining's binary_logloss: 0.000923033\tvalid_1's binary_logloss: 0.00409189\n",
      "[140]\ttraining's binary_logloss: 0.000514109\tvalid_1's binary_logloss: 0.00319078\n",
      "[160]\ttraining's binary_logloss: 0.000287183\tvalid_1's binary_logloss: 0.00249206\n",
      "[180]\ttraining's binary_logloss: 0.000160817\tvalid_1's binary_logloss: 0.00210501\n",
      "[200]\ttraining's binary_logloss: 9.02929e-05\tvalid_1's binary_logloss: 0.00183746\n"
     ]
    },
    {
     "name": "stderr",
     "output_type": "stream",
     "text": [
      "len(train_index) : 948\n",
      "len(valid_index) : 948\n",
      "================================= 2fold lightgbm =================================\n"
     ]
    },
    {
     "name": "stdout",
     "output_type": "stream",
     "text": [
      "[220]\ttraining's binary_logloss: 5.07838e-05\tvalid_1's binary_logloss: 0.00168993\n",
      "Early stopping, best iteration is:\n",
      "[211]\ttraining's binary_logloss: 6.5764e-05\tvalid_1's binary_logloss: 0.00168346\n",
      "Training until validation scores don't improve for 10 rounds\n",
      "[20]\ttraining's binary_logloss: 0.0208072\tvalid_1's binary_logloss: 0.0249121\n",
      "[40]\ttraining's binary_logloss: 0.0104933\tvalid_1's binary_logloss: 0.0141377\n",
      "[60]\ttraining's binary_logloss: 0.00563476\tvalid_1's binary_logloss: 0.00855234\n",
      "[80]\ttraining's binary_logloss: 0.00310147\tvalid_1's binary_logloss: 0.00535535\n",
      "[100]\ttraining's binary_logloss: 0.00172936\tvalid_1's binary_logloss: 0.0033706\n",
      "[120]\ttraining's binary_logloss: 0.000972485\tvalid_1's binary_logloss: 0.00222852\n",
      "[140]\ttraining's binary_logloss: 0.000548095\tvalid_1's binary_logloss: 0.00155169\n",
      "[160]\ttraining's binary_logloss: 0.000309715\tvalid_1's binary_logloss: 0.00114442\n",
      "[180]\ttraining's binary_logloss: 0.000175367\tvalid_1's binary_logloss: 0.000886782\n",
      "[200]\ttraining's binary_logloss: 9.95796e-05\tvalid_1's binary_logloss: 0.00063446\n",
      "[220]\ttraining's binary_logloss: 5.69475e-05\tvalid_1's binary_logloss: 0.000501965\n",
      "[240]\ttraining's binary_logloss: 3.26887e-05\tvalid_1's binary_logloss: 0.000394466\n",
      "[260]\ttraining's binary_logloss: 1.8972e-05\tvalid_1's binary_logloss: 0.000284717\n",
      "[280]\ttraining's binary_logloss: 1.13274e-05\tvalid_1's binary_logloss: 0.000216764\n",
      "[300]\ttraining's binary_logloss: 6.95584e-06\tvalid_1's binary_logloss: 0.000164786\n",
      "[320]\ttraining's binary_logloss: 4.39097e-06\tvalid_1's binary_logloss: 0.000134487\n"
     ]
    },
    {
     "name": "stderr",
     "output_type": "stream",
     "text": [
      "tgf-beta_receptor_inhibitor logloss: 0.0008842069918246666\n",
      "=========================================================================================\n"
     ]
    },
    {
     "name": "stdout",
     "output_type": "stream",
     "text": [
      "[340]\ttraining's binary_logloss: 2.86044e-06\tvalid_1's binary_logloss: 0.000104575\n",
      "[360]\ttraining's binary_logloss: 2.09702e-06\tvalid_1's binary_logloss: 8.49538e-05\n",
      "Early stopping, best iteration is:\n",
      "[355]\ttraining's binary_logloss: 2.09702e-06\tvalid_1's binary_logloss: 8.49538e-05\n"
     ]
    },
    {
     "name": "stderr",
     "output_type": "stream",
     "text": [
      "len(trt) : 19\n",
      "len(train_index) : 942\n",
      "len(valid_index) : 943\n",
      "================================= 1fold lightgbm =================================\n"
     ]
    },
    {
     "name": "stdout",
     "output_type": "stream",
     "text": [
      "Training until validation scores don't improve for 10 rounds\n",
      "[20]\ttraining's binary_logloss: 0.0152164\tvalid_1's binary_logloss: 0.0388055\n",
      "[40]\ttraining's binary_logloss: 0.00780189\tvalid_1's binary_logloss: 0.0326226\n"
     ]
    },
    {
     "name": "stderr",
     "output_type": "stream",
     "text": [
      "len(train_index) : 943\n",
      "len(valid_index) : 942\n"
     ]
    },
    {
     "name": "stdout",
     "output_type": "stream",
     "text": [
      "[60]\ttraining's binary_logloss: 0.004161\tvalid_1's binary_logloss: 0.0322955\n",
      "Early stopping, best iteration is:\n",
      "[54]\ttraining's binary_logloss: 0.00501658\tvalid_1's binary_logloss: 0.0318767\n"
     ]
    },
    {
     "name": "stderr",
     "output_type": "stream",
     "text": [
      "================================= 2fold lightgbm =================================\n"
     ]
    },
    {
     "name": "stdout",
     "output_type": "stream",
     "text": [
      "Training until validation scores don't improve for 10 rounds\n",
      "[20]\ttraining's binary_logloss: 0.0177504\tvalid_1's binary_logloss: 0.0366705\n",
      "[40]\ttraining's binary_logloss: 0.00886452\tvalid_1's binary_logloss: 0.0321054\n",
      "[60]\ttraining's binary_logloss: 0.00476739\tvalid_1's binary_logloss: 0.0300242\n"
     ]
    },
    {
     "name": "stderr",
     "output_type": "stream",
     "text": [
      "thrombin_inhibitor logloss: 0.030716441961404863\n",
      "=========================================================================================\n"
     ]
    },
    {
     "name": "stdout",
     "output_type": "stream",
     "text": [
      "[80]\ttraining's binary_logloss: 0.00267068\tvalid_1's binary_logloss: 0.0296391\n",
      "Early stopping, best iteration is:\n",
      "[73]\ttraining's binary_logloss: 0.00325978\tvalid_1's binary_logloss: 0.029555\n"
     ]
    },
    {
     "name": "stderr",
     "output_type": "stream",
     "text": [
      "len(trt) : 37\n",
      "len(train_index) : 951\n",
      "len(valid_index) : 952\n",
      "================================= 1fold lightgbm =================================\n"
     ]
    },
    {
     "name": "stdout",
     "output_type": "stream",
     "text": [
      "Training until validation scores don't improve for 10 rounds\n",
      "[20]\ttraining's binary_logloss: 0.0313329\tvalid_1's binary_logloss: 0.0519062\n",
      "[40]\ttraining's binary_logloss: 0.0167791\tvalid_1's binary_logloss: 0.0425738\n",
      "[60]\ttraining's binary_logloss: 0.00935155\tvalid_1's binary_logloss: 0.0396984\n",
      "[80]\ttraining's binary_logloss: 0.00538807\tvalid_1's binary_logloss: 0.038201\n",
      "[100]\ttraining's binary_logloss: 0.00312462\tvalid_1's binary_logloss: 0.037039\n"
     ]
    },
    {
     "name": "stderr",
     "output_type": "stream",
     "text": [
      "len(train_index) : 952\n",
      "len(valid_index) : 951\n",
      "================================= 2fold lightgbm =================================\n"
     ]
    },
    {
     "name": "stdout",
     "output_type": "stream",
     "text": [
      "[120]\ttraining's binary_logloss: 0.00182957\tvalid_1's binary_logloss: 0.0369532\n",
      "Early stopping, best iteration is:\n",
      "[113]\ttraining's binary_logloss: 0.00220116\tvalid_1's binary_logloss: 0.0363889\n",
      "Training until validation scores don't improve for 10 rounds\n",
      "[20]\ttraining's binary_logloss: 0.0349655\tvalid_1's binary_logloss: 0.0483864\n",
      "[40]\ttraining's binary_logloss: 0.018166\tvalid_1's binary_logloss: 0.0429292\n",
      "[60]\ttraining's binary_logloss: 0.00987653\tvalid_1's binary_logloss: 0.0413862\n"
     ]
    },
    {
     "name": "stderr",
     "output_type": "stream",
     "text": [
      "thymidylate_synthase_inhibitor logloss: 0.03869748608951564\n",
      "=========================================================================================\n",
      "len(trt) : 30\n",
      "len(train_index) : 948\n",
      "len(valid_index) : 948\n",
      "================================= 1fold lightgbm =================================\n"
     ]
    },
    {
     "name": "stdout",
     "output_type": "stream",
     "text": [
      "Early stopping, best iteration is:\n",
      "[65]\ttraining's binary_logloss: 0.00851054\tvalid_1's binary_logloss: 0.0410085\n",
      "Training until validation scores don't improve for 10 rounds\n",
      "[20]\ttraining's binary_logloss: 0.0287206\tvalid_1's binary_logloss: 0.0561922\n",
      "[40]\ttraining's binary_logloss: 0.015025\tvalid_1's binary_logloss: 0.0497281\n",
      "[60]\ttraining's binary_logloss: 0.00819132\tvalid_1's binary_logloss: 0.047628\n"
     ]
    },
    {
     "name": "stderr",
     "output_type": "stream",
     "text": [
      "len(train_index) : 948\n",
      "len(valid_index) : 948\n",
      "================================= 2fold lightgbm =================================\n"
     ]
    },
    {
     "name": "stdout",
     "output_type": "stream",
     "text": [
      "Early stopping, best iteration is:\n",
      "[66]\ttraining's binary_logloss: 0.00686899\tvalid_1's binary_logloss: 0.0475449\n",
      "Training until validation scores don't improve for 10 rounds\n",
      "[20]\ttraining's binary_logloss: 0.027069\tvalid_1's binary_logloss: 0.0583531\n",
      "[40]\ttraining's binary_logloss: 0.0141973\tvalid_1's binary_logloss: 0.0547706\n"
     ]
    },
    {
     "name": "stderr",
     "output_type": "stream",
     "text": [
      "tlr_agonist logloss: 0.05076896564869504\n",
      "=========================================================================================\n",
      "len(trt) : 7\n",
      "len(train_index) : 936\n",
      "len(valid_index) : 937\n",
      "================================= 1fold lightgbm =================================\n"
     ]
    },
    {
     "name": "stdout",
     "output_type": "stream",
     "text": [
      "[60]\ttraining's binary_logloss: 0.00794983\tvalid_1's binary_logloss: 0.0541964\n",
      "Early stopping, best iteration is:\n",
      "[51]\ttraining's binary_logloss: 0.0102876\tvalid_1's binary_logloss: 0.0539931\n",
      "Training until validation scores don't improve for 10 rounds\n"
     ]
    },
    {
     "name": "stderr",
     "output_type": "stream",
     "text": [
      "len(train_index) : 937\n",
      "len(valid_index) : 936\n",
      "================================= 2fold lightgbm =================================\n"
     ]
    },
    {
     "name": "stdout",
     "output_type": "stream",
     "text": [
      "Early stopping, best iteration is:\n",
      "[4]\ttraining's binary_logloss: 0.0127322\tvalid_1's binary_logloss: 0.0277604\n",
      "Training until validation scores don't improve for 10 rounds\n",
      "[20]\ttraining's binary_logloss: 0.00787023\tvalid_1's binary_logloss: 0.0198743\n",
      "[40]\ttraining's binary_logloss: 0.00387307\tvalid_1's binary_logloss: 0.0197443\n",
      "Early stopping, best iteration is:\n",
      "[35]\ttraining's binary_logloss: 0.00455455\tvalid_1's binary_logloss: 0.0196238\n"
     ]
    },
    {
     "name": "stderr",
     "output_type": "stream",
     "text": [
      "tlr_antagonist logloss: 0.02369430099830204\n",
      "=========================================================================================\n",
      "len(trt) : 36\n",
      "len(train_index) : 951\n",
      "len(valid_index) : 951\n",
      "================================= 1fold lightgbm =================================\n"
     ]
    },
    {
     "name": "stdout",
     "output_type": "stream",
     "text": [
      "Training until validation scores don't improve for 10 rounds\n",
      "[20]\ttraining's binary_logloss: 0.0299516\tvalid_1's binary_logloss: 0.0626191\n",
      "[40]\ttraining's binary_logloss: 0.0155984\tvalid_1's binary_logloss: 0.0574735\n",
      "[60]\ttraining's binary_logloss: 0.00874242\tvalid_1's binary_logloss: 0.0564958\n"
     ]
    },
    {
     "name": "stderr",
     "output_type": "stream",
     "text": [
      "len(train_index) : 951\n",
      "len(valid_index) : 951\n",
      "================================= 2fold lightgbm =================================\n"
     ]
    },
    {
     "name": "stdout",
     "output_type": "stream",
     "text": [
      "Early stopping, best iteration is:\n",
      "[63]\ttraining's binary_logloss: 0.0080499\tvalid_1's binary_logloss: 0.0562488\n",
      "Training until validation scores don't improve for 10 rounds\n",
      "[20]\ttraining's binary_logloss: 0.0323547\tvalid_1's binary_logloss: 0.062502\n",
      "[40]\ttraining's binary_logloss: 0.0173023\tvalid_1's binary_logloss: 0.0526824\n",
      "[60]\ttraining's binary_logloss: 0.00959733\tvalid_1's binary_logloss: 0.0496503\n"
     ]
    },
    {
     "name": "stderr",
     "output_type": "stream",
     "text": [
      "tnf_inhibitor logloss: 0.0528961254709363\n",
      "=========================================================================================\n",
      "len(trt) : 127\n",
      "len(train_index) : 996\n",
      "len(valid_index) : 997\n",
      "================================= 1fold lightgbm =================================\n"
     ]
    },
    {
     "name": "stdout",
     "output_type": "stream",
     "text": [
      "Early stopping, best iteration is:\n",
      "[61]\ttraining's binary_logloss: 0.00932898\tvalid_1's binary_logloss: 0.0495434\n",
      "Training until validation scores don't improve for 10 rounds\n",
      "[20]\ttraining's binary_logloss: 0.083472\tvalid_1's binary_logloss: 0.099619\n",
      "[40]\ttraining's binary_logloss: 0.0434898\tvalid_1's binary_logloss: 0.0638895\n",
      "[60]\ttraining's binary_logloss: 0.0238627\tvalid_1's binary_logloss: 0.0472483\n",
      "[80]\ttraining's binary_logloss: 0.013449\tvalid_1's binary_logloss: 0.038299\n",
      "[100]\ttraining's binary_logloss: 0.00762369\tvalid_1's binary_logloss: 0.0328779\n",
      "[120]\ttraining's binary_logloss: 0.00433325\tvalid_1's binary_logloss: 0.0277384\n",
      "[140]\ttraining's binary_logloss: 0.00248333\tvalid_1's binary_logloss: 0.0243472\n",
      "[160]\ttraining's binary_logloss: 0.00142572\tvalid_1's binary_logloss: 0.0220296\n",
      "[180]\ttraining's binary_logloss: 0.000813466\tvalid_1's binary_logloss: 0.0199182\n",
      "[200]\ttraining's binary_logloss: 0.000465941\tvalid_1's binary_logloss: 0.0186544\n",
      "[220]\ttraining's binary_logloss: 0.00026679\tvalid_1's binary_logloss: 0.0182282\n",
      "[240]\ttraining's binary_logloss: 0.000153793\tvalid_1's binary_logloss: 0.0175038\n",
      "[260]\ttraining's binary_logloss: 8.80659e-05\tvalid_1's binary_logloss: 0.0168761\n",
      "[280]\ttraining's binary_logloss: 5.05809e-05\tvalid_1's binary_logloss: 0.0159211\n",
      "[300]\ttraining's binary_logloss: 2.9003e-05\tvalid_1's binary_logloss: 0.0152386\n",
      "[320]\ttraining's binary_logloss: 1.68161e-05\tvalid_1's binary_logloss: 0.0146918\n"
     ]
    },
    {
     "name": "stderr",
     "output_type": "stream",
     "text": [
      "len(train_index) : 997\n",
      "len(valid_index) : 996\n",
      "================================= 2fold lightgbm =================================\n"
     ]
    },
    {
     "name": "stdout",
     "output_type": "stream",
     "text": [
      "Early stopping, best iteration is:\n",
      "[321]\ttraining's binary_logloss: 1.63484e-05\tvalid_1's binary_logloss: 0.014643\n",
      "Training until validation scores don't improve for 10 rounds\n",
      "[20]\ttraining's binary_logloss: 0.0842125\tvalid_1's binary_logloss: 0.105948\n",
      "[40]\ttraining's binary_logloss: 0.0436192\tvalid_1's binary_logloss: 0.0723594\n",
      "[60]\ttraining's binary_logloss: 0.0239187\tvalid_1's binary_logloss: 0.0548542\n",
      "[80]\ttraining's binary_logloss: 0.0134151\tvalid_1's binary_logloss: 0.0440452\n",
      "[100]\ttraining's binary_logloss: 0.00764843\tvalid_1's binary_logloss: 0.0376771\n",
      "[120]\ttraining's binary_logloss: 0.00435377\tvalid_1's binary_logloss: 0.0352081\n",
      "[140]\ttraining's binary_logloss: 0.00247948\tvalid_1's binary_logloss: 0.034786\n"
     ]
    },
    {
     "name": "stderr",
     "output_type": "stream",
     "text": [
      "topoisomerase_inhibitor logloss: 0.024509397164500697\n",
      "=========================================================================================\n",
      "len(trt) : 18\n",
      "len(train_index) : 942\n",
      "len(valid_index) : 942\n",
      "================================= 1fold lightgbm =================================\n"
     ]
    },
    {
     "name": "stdout",
     "output_type": "stream",
     "text": [
      "Early stopping, best iteration is:\n",
      "[143]\ttraining's binary_logloss: 0.00228006\tvalid_1's binary_logloss: 0.0343857\n",
      "Training until validation scores don't improve for 10 rounds\n",
      "[20]\ttraining's binary_logloss: 0.0168612\tvalid_1's binary_logloss: 0.0392361\n",
      "[40]\ttraining's binary_logloss: 0.00858612\tvalid_1's binary_logloss: 0.03499\n",
      "[60]\ttraining's binary_logloss: 0.00454721\tvalid_1's binary_logloss: 0.0346824\n"
     ]
    },
    {
     "name": "stderr",
     "output_type": "stream",
     "text": [
      "len(train_index) : 942\n",
      "len(valid_index) : 942\n",
      "================================= 2fold lightgbm =================================\n"
     ]
    },
    {
     "name": "stdout",
     "output_type": "stream",
     "text": [
      "Early stopping, best iteration is:\n",
      "[56]\ttraining's binary_logloss: 0.00514247\tvalid_1's binary_logloss: 0.0345894\n",
      "Training until validation scores don't improve for 10 rounds\n",
      "[20]\ttraining's binary_logloss: 0.0158589\tvalid_1's binary_logloss: 0.0411191\n",
      "[40]\ttraining's binary_logloss: 0.00803873\tvalid_1's binary_logloss: 0.0389839\n"
     ]
    },
    {
     "name": "stderr",
     "output_type": "stream",
     "text": [
      "transient_receptor_potential_channel_antagonist logloss: 0.03669355706843452\n",
      "=========================================================================================\n",
      "len(trt) : 6\n",
      "len(train_index) : 936\n",
      "len(valid_index) : 936\n",
      "================================= 1fold lightgbm =================================\n"
     ]
    },
    {
     "name": "stdout",
     "output_type": "stream",
     "text": [
      "Early stopping, best iteration is:\n",
      "[45]\ttraining's binary_logloss: 0.0068992\tvalid_1's binary_logloss: 0.0387977\n",
      "Training until validation scores don't improve for 10 rounds\n",
      "[20]\ttraining's binary_logloss: 0.00590729\tvalid_1's binary_logloss: 0.0185003\n"
     ]
    },
    {
     "name": "stderr",
     "output_type": "stream",
     "text": [
      "len(train_index) : 936\n",
      "len(valid_index) : 936\n",
      "================================= 2fold lightgbm =================================\n"
     ]
    },
    {
     "name": "stdout",
     "output_type": "stream",
     "text": [
      "Early stopping, best iteration is:\n",
      "[19]\ttraining's binary_logloss: 0.00617314\tvalid_1's binary_logloss: 0.0184704\n",
      "Training until validation scores don't improve for 10 rounds\n",
      "[20]\ttraining's binary_logloss: 0.00564027\tvalid_1's binary_logloss: 0.0193668\n"
     ]
    },
    {
     "name": "stderr",
     "output_type": "stream",
     "text": [
      "tropomyosin_receptor_kinase_inhibitor logloss: 0.018807825887689922\n",
      "=========================================================================================\n"
     ]
    },
    {
     "name": "stdout",
     "output_type": "stream",
     "text": [
      "[40]\ttraining's binary_logloss: 0.00295788\tvalid_1's binary_logloss: 0.0192987\n",
      "Early stopping, best iteration is:\n",
      "[36]\ttraining's binary_logloss: 0.00333514\tvalid_1's binary_logloss: 0.0191453\n"
     ]
    },
    {
     "name": "stderr",
     "output_type": "stream",
     "text": [
      "len(trt) : 25\n",
      "len(train_index) : 945\n",
      "len(valid_index) : 946\n",
      "================================= 1fold lightgbm =================================\n"
     ]
    },
    {
     "name": "stdout",
     "output_type": "stream",
     "text": [
      "Training until validation scores don't improve for 10 rounds\n",
      "[20]\ttraining's binary_logloss: 0.0199762\tvalid_1's binary_logloss: 0.044726\n",
      "[40]\ttraining's binary_logloss: 0.0102434\tvalid_1's binary_logloss: 0.0395998\n",
      "[60]\ttraining's binary_logloss: 0.00563794\tvalid_1's binary_logloss: 0.0371035\n"
     ]
    },
    {
     "name": "stderr",
     "output_type": "stream",
     "text": [
      "len(train_index) : 946\n",
      "len(valid_index) : 945\n",
      "================================= 2fold lightgbm =================================\n"
     ]
    },
    {
     "name": "stdout",
     "output_type": "stream",
     "text": [
      "Early stopping, best iteration is:\n",
      "[65]\ttraining's binary_logloss: 0.00488279\tvalid_1's binary_logloss: 0.0369174\n",
      "Training until validation scores don't improve for 10 rounds\n",
      "[20]\ttraining's binary_logloss: 0.0213701\tvalid_1's binary_logloss: 0.048147\n"
     ]
    },
    {
     "name": "stderr",
     "output_type": "stream",
     "text": [
      "trpv_agonist logloss: 0.0414430546664433\n",
      "=========================================================================================\n",
      "len(trt) : 48\n",
      "len(train_index) : 957\n",
      "len(valid_index) : 957\n",
      "================================= 1fold lightgbm =================================\n"
     ]
    },
    {
     "name": "stdout",
     "output_type": "stream",
     "text": [
      "Early stopping, best iteration is:\n",
      "[25]\ttraining's binary_logloss: 0.0180456\tvalid_1's binary_logloss: 0.0459735\n",
      "Training until validation scores don't improve for 10 rounds\n",
      "[20]\ttraining's binary_logloss: 0.0417917\tvalid_1's binary_logloss: 0.0883014\n",
      "[40]\ttraining's binary_logloss: 0.0223747\tvalid_1's binary_logloss: 0.0802275\n",
      "[60]\ttraining's binary_logloss: 0.0128305\tvalid_1's binary_logloss: 0.0776852\n"
     ]
    },
    {
     "name": "stderr",
     "output_type": "stream",
     "text": [
      "len(train_index) : 957\n",
      "len(valid_index) : 957\n",
      "================================= 2fold lightgbm =================================\n"
     ]
    },
    {
     "name": "stdout",
     "output_type": "stream",
     "text": [
      "Early stopping, best iteration is:\n",
      "[68]\ttraining's binary_logloss: 0.0103714\tvalid_1's binary_logloss: 0.0767749\n",
      "Training until validation scores don't improve for 10 rounds\n",
      "[20]\ttraining's binary_logloss: 0.0424939\tvalid_1's binary_logloss: 0.0835699\n",
      "[40]\ttraining's binary_logloss: 0.0228826\tvalid_1's binary_logloss: 0.075459\n",
      "[60]\ttraining's binary_logloss: 0.0129503\tvalid_1's binary_logloss: 0.0743582\n",
      "Early stopping, best iteration is:\n",
      "[57]\ttraining's binary_logloss: 0.0140921\tvalid_1's binary_logloss: 0.0741181\n"
     ]
    },
    {
     "name": "stderr",
     "output_type": "stream",
     "text": [
      "trpv_antagonist logloss: 0.07544649738011236\n",
      "=========================================================================================\n",
      "len(trt) : 316\n",
      "len(train_index) : 1091\n",
      "len(valid_index) : 1091\n",
      "================================= 1fold lightgbm =================================\n"
     ]
    },
    {
     "name": "stdout",
     "output_type": "stream",
     "text": [
      "Training until validation scores don't improve for 10 rounds\n",
      "[20]\ttraining's binary_logloss: 0.170607\tvalid_1's binary_logloss: 0.179441\n",
      "[40]\ttraining's binary_logloss: 0.0882196\tvalid_1's binary_logloss: 0.100343\n",
      "[60]\ttraining's binary_logloss: 0.0482501\tvalid_1's binary_logloss: 0.0626784\n",
      "[80]\ttraining's binary_logloss: 0.0269702\tvalid_1's binary_logloss: 0.0429947\n",
      "[100]\ttraining's binary_logloss: 0.0151169\tvalid_1's binary_logloss: 0.031527\n",
      "[120]\ttraining's binary_logloss: 0.0085756\tvalid_1's binary_logloss: 0.0254526\n",
      "[140]\ttraining's binary_logloss: 0.00488723\tvalid_1's binary_logloss: 0.0229031\n",
      "[160]\ttraining's binary_logloss: 0.00280152\tvalid_1's binary_logloss: 0.0215667\n",
      "[180]\ttraining's binary_logloss: 0.00161156\tvalid_1's binary_logloss: 0.0210506\n"
     ]
    },
    {
     "name": "stderr",
     "output_type": "stream",
     "text": [
      "len(train_index) : 1091\n",
      "len(valid_index) : 1091\n",
      "================================= 2fold lightgbm =================================\n"
     ]
    },
    {
     "name": "stdout",
     "output_type": "stream",
     "text": [
      "Early stopping, best iteration is:\n",
      "[183]\ttraining's binary_logloss: 0.00148352\tvalid_1's binary_logloss: 0.0207999\n",
      "Training until validation scores don't improve for 10 rounds\n",
      "[20]\ttraining's binary_logloss: 0.172414\tvalid_1's binary_logloss: 0.1916\n",
      "[40]\ttraining's binary_logloss: 0.0913433\tvalid_1's binary_logloss: 0.116874\n",
      "[60]\ttraining's binary_logloss: 0.050596\tvalid_1's binary_logloss: 0.0789299\n",
      "[80]\ttraining's binary_logloss: 0.0278989\tvalid_1's binary_logloss: 0.0576557\n",
      "[100]\ttraining's binary_logloss: 0.0156171\tvalid_1's binary_logloss: 0.0457805\n",
      "[120]\ttraining's binary_logloss: 0.00884636\tvalid_1's binary_logloss: 0.0393724\n",
      "[140]\ttraining's binary_logloss: 0.00502793\tvalid_1's binary_logloss: 0.0358536\n",
      "[160]\ttraining's binary_logloss: 0.00285814\tvalid_1's binary_logloss: 0.0340872\n"
     ]
    },
    {
     "name": "stderr",
     "output_type": "stream",
     "text": [
      "tubulin_inhibitor logloss: 0.02712118548665979\n",
      "=========================================================================================\n",
      "len(trt) : 73\n"
     ]
    },
    {
     "name": "stdout",
     "output_type": "stream",
     "text": [
      "[180]\ttraining's binary_logloss: 0.00162583\tvalid_1's binary_logloss: 0.0335939\n",
      "Early stopping, best iteration is:\n",
      "[172]\ttraining's binary_logloss: 0.00203877\tvalid_1's binary_logloss: 0.0334425\n"
     ]
    },
    {
     "name": "stderr",
     "output_type": "stream",
     "text": [
      "len(train_index) : 969\n",
      "len(valid_index) : 970\n",
      "================================= 1fold lightgbm =================================\n"
     ]
    },
    {
     "name": "stdout",
     "output_type": "stream",
     "text": [
      "Training until validation scores don't improve for 10 rounds\n",
      "[20]\ttraining's binary_logloss: 0.0527575\tvalid_1's binary_logloss: 0.091353\n",
      "[40]\ttraining's binary_logloss: 0.0277657\tvalid_1's binary_logloss: 0.071738\n",
      "[60]\ttraining's binary_logloss: 0.0154584\tvalid_1's binary_logloss: 0.0615285\n",
      "[80]\ttraining's binary_logloss: 0.00879332\tvalid_1's binary_logloss: 0.056609\n",
      "[100]\ttraining's binary_logloss: 0.00508249\tvalid_1's binary_logloss: 0.0544318\n"
     ]
    },
    {
     "name": "stderr",
     "output_type": "stream",
     "text": [
      "len(train_index) : 970\n",
      "len(valid_index) : 969\n",
      "================================= 2fold lightgbm =================================\n"
     ]
    },
    {
     "name": "stdout",
     "output_type": "stream",
     "text": [
      "[120]\ttraining's binary_logloss: 0.00292495\tvalid_1's binary_logloss: 0.0537742\n",
      "Early stopping, best iteration is:\n",
      "[114]\ttraining's binary_logloss: 0.00345666\tvalid_1's binary_logloss: 0.0535542\n",
      "Training until validation scores don't improve for 10 rounds\n",
      "[20]\ttraining's binary_logloss: 0.0594184\tvalid_1's binary_logloss: 0.0813941\n",
      "[40]\ttraining's binary_logloss: 0.0322439\tvalid_1's binary_logloss: 0.0630128\n",
      "[60]\ttraining's binary_logloss: 0.0183771\tvalid_1's binary_logloss: 0.053782\n",
      "[80]\ttraining's binary_logloss: 0.0107146\tvalid_1's binary_logloss: 0.0494101\n",
      "[100]\ttraining's binary_logloss: 0.00631261\tvalid_1's binary_logloss: 0.0479453\n",
      "[120]\ttraining's binary_logloss: 0.00374118\tvalid_1's binary_logloss: 0.0477664\n",
      "Early stopping, best iteration is:\n",
      "[114]\ttraining's binary_logloss: 0.00437006\tvalid_1's binary_logloss: 0.047372\n"
     ]
    },
    {
     "name": "stderr",
     "output_type": "stream",
     "text": [
      "tyrosine_kinase_inhibitor logloss: 0.05046470326644507\n",
      "=========================================================================================\n",
      "len(trt) : 6\n",
      "len(train_index) : 936\n",
      "len(valid_index) : 936\n",
      "================================= 1fold lightgbm =================================\n"
     ]
    },
    {
     "name": "stdout",
     "output_type": "stream",
     "text": [
      "Training until validation scores don't improve for 10 rounds\n",
      "[20]\ttraining's binary_logloss: 0.00533314\tvalid_1's binary_logloss: 0.0174835\n"
     ]
    },
    {
     "name": "stderr",
     "output_type": "stream",
     "text": [
      "len(train_index) : 936\n",
      "len(valid_index) : 936\n",
      "================================= 2fold lightgbm =================================\n"
     ]
    },
    {
     "name": "stdout",
     "output_type": "stream",
     "text": [
      "[40]\ttraining's binary_logloss: 0.00270176\tvalid_1's binary_logloss: 0.0171874\n",
      "Early stopping, best iteration is:\n",
      "[32]\ttraining's binary_logloss: 0.0034952\tvalid_1's binary_logloss: 0.0169886\n",
      "Training until validation scores don't improve for 10 rounds\n",
      "[20]\ttraining's binary_logloss: 0.00534505\tvalid_1's binary_logloss: 0.016155\n",
      "[40]\ttraining's binary_logloss: 0.00270578\tvalid_1's binary_logloss: 0.0147633\n",
      "[60]\ttraining's binary_logloss: 0.00148721\tvalid_1's binary_logloss: 0.0143239\n"
     ]
    },
    {
     "name": "stderr",
     "output_type": "stream",
     "text": [
      "ubiquitin_specific_protease_inhibitor logloss: 0.015552430643408484\n",
      "=========================================================================================\n",
      "len(trt) : 170\n",
      "len(train_index) : 1018\n",
      "len(valid_index) : 1018\n",
      "================================= 1fold lightgbm =================================\n"
     ]
    },
    {
     "name": "stdout",
     "output_type": "stream",
     "text": [
      "Early stopping, best iteration is:\n",
      "[66]\ttraining's binary_logloss: 0.00125044\tvalid_1's binary_logloss: 0.0141162\n",
      "Training until validation scores don't improve for 10 rounds\n",
      "[20]\ttraining's binary_logloss: 0.109592\tvalid_1's binary_logloss: 0.14049\n",
      "[40]\ttraining's binary_logloss: 0.0580364\tvalid_1's binary_logloss: 0.0996265\n",
      "[60]\ttraining's binary_logloss: 0.0314614\tvalid_1's binary_logloss: 0.0802477\n",
      "[80]\ttraining's binary_logloss: 0.0173526\tvalid_1's binary_logloss: 0.0730163\n"
     ]
    },
    {
     "name": "stderr",
     "output_type": "stream",
     "text": [
      "len(train_index) : 1018\n",
      "len(valid_index) : 1018\n",
      "================================= 2fold lightgbm =================================\n"
     ]
    },
    {
     "name": "stdout",
     "output_type": "stream",
     "text": [
      "[100]\ttraining's binary_logloss: 0.00966186\tvalid_1's binary_logloss: 0.072192\n",
      "Early stopping, best iteration is:\n",
      "[94]\ttraining's binary_logloss: 0.0114979\tvalid_1's binary_logloss: 0.0718623\n",
      "Training until validation scores don't improve for 10 rounds\n",
      "[20]\ttraining's binary_logloss: 0.110866\tvalid_1's binary_logloss: 0.120569\n",
      "[40]\ttraining's binary_logloss: 0.0583574\tvalid_1's binary_logloss: 0.0738338\n",
      "[60]\ttraining's binary_logloss: 0.0320412\tvalid_1's binary_logloss: 0.0505246\n",
      "[80]\ttraining's binary_logloss: 0.0180063\tvalid_1's binary_logloss: 0.0381962\n",
      "[100]\ttraining's binary_logloss: 0.0103123\tvalid_1's binary_logloss: 0.031128\n",
      "[120]\ttraining's binary_logloss: 0.00592196\tvalid_1's binary_logloss: 0.0279709\n",
      "[140]\ttraining's binary_logloss: 0.00342429\tvalid_1's binary_logloss: 0.0268875\n"
     ]
    },
    {
     "name": "stderr",
     "output_type": "stream",
     "text": [
      "vegfr_inhibitor logloss: 0.049297004001071634\n",
      "=========================================================================================\n"
     ]
    },
    {
     "name": "stdout",
     "output_type": "stream",
     "text": [
      "[160]\ttraining's binary_logloss: 0.00196933\tvalid_1's binary_logloss: 0.0269483\n",
      "Early stopping, best iteration is:\n",
      "[155]\ttraining's binary_logloss: 0.00226165\tvalid_1's binary_logloss: 0.0267317\n"
     ]
    },
    {
     "name": "stderr",
     "output_type": "stream",
     "text": [
      "len(trt) : 26\n",
      "len(train_index) : 946\n",
      "len(valid_index) : 946\n",
      "================================= 1fold lightgbm =================================\n"
     ]
    },
    {
     "name": "stdout",
     "output_type": "stream",
     "text": [
      "Training until validation scores don't improve for 10 rounds\n",
      "[20]\ttraining's binary_logloss: 0.0238701\tvalid_1's binary_logloss: 0.0610437\n",
      "[40]\ttraining's binary_logloss: 0.0122824\tvalid_1's binary_logloss: 0.0603495\n",
      "Early stopping, best iteration is:\n",
      "[34]\ttraining's binary_logloss: 0.014925\tvalid_1's binary_logloss: 0.0602108\n"
     ]
    },
    {
     "name": "stderr",
     "output_type": "stream",
     "text": [
      "len(train_index) : 946\n",
      "len(valid_index) : 946\n",
      "================================= 2fold lightgbm =================================\n"
     ]
    },
    {
     "name": "stdout",
     "output_type": "stream",
     "text": [
      "Training until validation scores don't improve for 10 rounds\n",
      "[20]\ttraining's binary_logloss: 0.0235427\tvalid_1's binary_logloss: 0.0573981\n",
      "[40]\ttraining's binary_logloss: 0.0123073\tvalid_1's binary_logloss: 0.0551318\n"
     ]
    },
    {
     "name": "stderr",
     "output_type": "stream",
     "text": [
      "vitamin_b logloss: 0.05759973465024363\n",
      "=========================================================================================\n",
      "len(trt) : 39\n",
      "len(train_index) : 952\n",
      "len(valid_index) : 953\n",
      "================================= 1fold lightgbm =================================\n"
     ]
    },
    {
     "name": "stdout",
     "output_type": "stream",
     "text": [
      "Early stopping, best iteration is:\n",
      "[38]\ttraining's binary_logloss: 0.0130707\tvalid_1's binary_logloss: 0.0549887\n",
      "Training until validation scores don't improve for 10 rounds\n",
      "[20]\ttraining's binary_logloss: 0.032012\tvalid_1's binary_logloss: 0.0489117\n",
      "[40]\ttraining's binary_logloss: 0.016683\tvalid_1's binary_logloss: 0.0424538\n",
      "[60]\ttraining's binary_logloss: 0.00914423\tvalid_1's binary_logloss: 0.0400285\n"
     ]
    },
    {
     "name": "stderr",
     "output_type": "stream",
     "text": [
      "len(train_index) : 953\n",
      "len(valid_index) : 952\n",
      "================================= 2fold lightgbm =================================\n"
     ]
    },
    {
     "name": "stdout",
     "output_type": "stream",
     "text": [
      "Early stopping, best iteration is:\n",
      "[59]\ttraining's binary_logloss: 0.00940764\tvalid_1's binary_logloss: 0.0398582\n",
      "Training until validation scores don't improve for 10 rounds\n",
      "[20]\ttraining's binary_logloss: 0.0311955\tvalid_1's binary_logloss: 0.0619685\n",
      "[40]\ttraining's binary_logloss: 0.0161661\tvalid_1's binary_logloss: 0.0553641\n",
      "[60]\ttraining's binary_logloss: 0.0088743\tvalid_1's binary_logloss: 0.0521539\n"
     ]
    },
    {
     "name": "stderr",
     "output_type": "stream",
     "text": [
      "vitamin_d_receptor_agonist logloss: 0.045964022973941046\n",
      "=========================================================================================\n",
      "len(trt) : 30\n",
      "len(train_index) : 948\n",
      "len(valid_index) : 948\n",
      "================================= 1fold lightgbm =================================\n"
     ]
    },
    {
     "name": "stdout",
     "output_type": "stream",
     "text": [
      "Early stopping, best iteration is:\n",
      "[59]\ttraining's binary_logloss: 0.00913915\tvalid_1's binary_logloss: 0.0520762\n",
      "Training until validation scores don't improve for 10 rounds\n",
      "[20]\ttraining's binary_logloss: 0.0280284\tvalid_1's binary_logloss: 0.0717402\n",
      "[40]\ttraining's binary_logloss: 0.0144553\tvalid_1's binary_logloss: 0.0712291\n",
      "Early stopping, best iteration is:\n",
      "[38]\ttraining's binary_logloss: 0.015385\tvalid_1's binary_logloss: 0.0710642\n"
     ]
    },
    {
     "name": "stderr",
     "output_type": "stream",
     "text": [
      "len(train_index) : 948\n",
      "len(valid_index) : 948\n",
      "================================= 2fold lightgbm =================================\n"
     ]
    },
    {
     "name": "stdout",
     "output_type": "stream",
     "text": [
      "Training until validation scores don't improve for 10 rounds\n",
      "[20]\ttraining's binary_logloss: 0.0309067\tvalid_1's binary_logloss: 0.0588238\n",
      "[40]\ttraining's binary_logloss: 0.016828\tvalid_1's binary_logloss: 0.0545312\n"
     ]
    },
    {
     "name": "stderr",
     "output_type": "stream",
     "text": [
      "wnt_inhibitor logloss: 0.06270201521930796\n",
      "=========================================================================================\n"
     ]
    },
    {
     "name": "stdout",
     "output_type": "stream",
     "text": [
      "Early stopping, best iteration is:\n",
      "[45]\ttraining's binary_logloss: 0.0145502\tvalid_1's binary_logloss: 0.0543399\n",
      "\n"
     ]
    }
   ],
   "source": [
    "for target_col in tqdm(train_targets_scored.columns[1:]):\n",
    "    _preds, _score, models,  = run_lgbm(target_col, ctl_df)\n",
    "\n",
    "    sub[target_col] = _preds\n",
    "    scores.append(_score)\n",
    "        \n",
    "    for model in models:\n",
    "        _importance_df = pd.DataFrame()\n",
    "        _importance_df[\"Feature\"] = train.columns[2:]\n",
    "        _importance_df[\"importance\"] = model.feature_importance(importance_type='gain')\n",
    "        feature_importance_df = pd.concat([feature_importance_df, _importance_df], axis=0)"
   ]
  },
  {
   "cell_type": "code",
   "execution_count": 20,
   "metadata": {
    "execution": {
     "iopub.execute_input": "2020-10-13T00:18:07.757694Z",
     "iopub.status.busy": "2020-10-13T00:18:07.757027Z",
     "iopub.status.idle": "2020-10-13T00:18:09.430770Z",
     "shell.execute_reply": "2020-10-13T00:18:09.431271Z"
    },
    "papermill": {
     "duration": 3.094143,
     "end_time": "2020-10-13T00:18:09.431441",
     "exception": false,
     "start_time": "2020-10-13T00:18:06.337298",
     "status": "completed"
    },
    "tags": []
   },
   "outputs": [],
   "source": [
    "sub.to_csv('submission.csv', index=False)"
   ]
  },
  {
   "cell_type": "code",
   "execution_count": 21,
   "metadata": {
    "execution": {
     "iopub.execute_input": "2020-10-13T00:18:12.079177Z",
     "iopub.status.busy": "2020-10-13T00:18:12.078418Z",
     "iopub.status.idle": "2020-10-13T00:18:12.081206Z",
     "shell.execute_reply": "2020-10-13T00:18:12.082004Z"
    },
    "papermill": {
     "duration": 1.332213,
     "end_time": "2020-10-13T00:18:12.082144",
     "exception": false,
     "start_time": "2020-10-13T00:18:10.749931",
     "status": "completed"
    },
    "tags": []
   },
   "outputs": [
    {
     "name": "stdout",
     "output_type": "stream",
     "text": [
      "CV:0.041218609760826204\n"
     ]
    }
   ],
   "source": [
    "print(f\"CV:{np.mean(scores)}\")"
   ]
  },
  {
   "cell_type": "code",
   "execution_count": 22,
   "metadata": {
    "execution": {
     "iopub.execute_input": "2020-10-13T00:18:14.734680Z",
     "iopub.status.busy": "2020-10-13T00:18:14.734002Z",
     "iopub.status.idle": "2020-10-13T00:18:19.261232Z",
     "shell.execute_reply": "2020-10-13T00:18:19.261733Z"
    },
    "papermill": {
     "duration": 5.855723,
     "end_time": "2020-10-13T00:18:19.261872",
     "exception": false,
     "start_time": "2020-10-13T00:18:13.406149",
     "status": "completed"
    },
    "tags": []
   },
   "outputs": [
    {
     "data": {
      "image/png": "[encoded data removed]",
      "text/plain": [
       "<Figure size 576x2160 with 1 Axes>"
      ]
     },
     "metadata": {
      "needs_background": "light"
     },
     "output_type": "display_data"
    }
   ],
   "source": [
    "show_feature_importance(feature_importance_df)"
   ]
  },
  {
   "cell_type": "code",
   "execution_count": null,
   "metadata": {
    "papermill": {
     "duration": 1.359221,
     "end_time": "2020-10-13T00:18:21.942960",
     "exception": false,
     "start_time": "2020-10-13T00:18:20.583739",
     "status": "completed"
    },
    "tags": []
   },
   "outputs": [],
   "source": []
  }
 ],
 "metadata": {
  "kernelspec": {
   "display_name": "Python 3",
   "language": "python",
   "name": "python3"
  },
  "language_info": {
   "codemirror_mode": {
    "name": "ipython",
    "version": 3
   },
   "file_extension": ".py",
   "mimetype": "text/x-python",
   "name": "python",
   "nbconvert_exporter": "python",
   "pygments_lexer": "ipython3",
   "version": "3.7.6"
  },
  "papermill": {
   "duration": 1305.221823,
   "end_time": "2020-10-13T00:18:23.372576",
   "environment_variables": {},
   "exception": null,
   "input_path": "__notebook__.ipynb",
   "output_path": "__notebook__.ipynb",
   "parameters": {},
   "start_time": "2020-10-12T23:56:38.150753",
   "version": "2.1.0"
  },
  "widgets": {
   "application/vnd.jupyter.widget-state+json": {
    "state": {
     "0be8a19905eb43c9867dd1ba1ed7408c": {
      "model_module": "@jupyter-widgets/base",
      "model_module_version": "1.2.0",
      "model_name": "LayoutModel",
      "state": {
       "_model_module": "@jupyter-widgets/base",
       "_model_module_version": "1.2.0",
       "_model_name": "LayoutModel",
       "_view_count": null,
       "_view_module": "@jupyter-widgets/base",
       "_view_module_version": "1.2.0",
       "_view_name": "LayoutView",
       "align_content": null,
       "align_items": null,
       "align_self": null,
       "border": null,
       "bottom": null,
       "display": null,
       "flex": null,
       "flex_flow": null,
       "grid_area": null,
       "grid_auto_columns": null,
       "grid_auto_flow": null,
       "grid_auto_rows": null,
       "grid_column": null,
       "grid_gap": null,
       "grid_row": null,
       "grid_template_areas": null,
       "grid_template_columns": null,
       "grid_template_rows": null,
       "height": null,
       "justify_content": null,
       "justify_items": null,
       "left": null,
       "margin": null,
       "max_height": null,
       "max_width": null,
       "min_height": null,
       "min_width": null,
       "object_fit": null,
       "object_position": null,
       "order": null,
       "overflow": null,
       "overflow_x": null,
       "overflow_y": null,
       "padding": null,
       "right": null,
       "top": null,
       "visibility": null,
       "width": null
      }
     },
     "1575f8b965034feb8fe9e24cbbef73cc": {
      "model_module": "@jupyter-widgets/controls",
      "model_module_version": "1.5.0",
      "model_name": "FloatProgressModel",
      "state": {
       "_dom_classes": [],
       "_model_module": "@jupyter-widgets/controls",
       "_model_module_version": "1.5.0",
       "_model_name": "FloatProgressModel",
       "_view_count": null,
       "_view_module": "@jupyter-widgets/controls",
       "_view_module_version": "1.5.0",
       "_view_name": "ProgressView",
       "bar_style": "success",
       "description": "100%",
       "description_tooltip": null,
       "layout": "IPY_MODEL_b4bab1c2d6194cd4ab78c3ca80954cdd",
       "max": 206.0,
       "min": 0.0,
       "orientation": "horizontal",
       "style": "IPY_MODEL_65982eb2fb5a460d8c005706b7b981dc",
       "value": 206.0
      }
     },
     "65982eb2fb5a460d8c005706b7b981dc": {
      "model_module": "@jupyter-widgets/controls",
      "model_module_version": "1.5.0",
      "model_name": "ProgressStyleModel",
      "state": {
       "_model_module": "@jupyter-widgets/controls",
       "_model_module_version": "1.5.0",
       "_model_name": "ProgressStyleModel",
       "_view_count": null,
       "_view_module": "@jupyter-widgets/base",
       "_view_module_version": "1.2.0",
       "_view_name": "StyleView",
       "bar_color": null,
       "description_width": "initial"
      }
     },
     "9a25ca03a65a4e569ba25f008896ae97": {
      "model_module": "@jupyter-widgets/controls",
      "model_module_version": "1.5.0",
      "model_name": "HBoxModel",
      "state": {
       "_dom_classes": [],
       "_model_module": "@jupyter-widgets/controls",
       "_model_module_version": "1.5.0",
       "_model_name": "HBoxModel",
       "_view_count": null,
       "_view_module": "@jupyter-widgets/controls",
       "_view_module_version": "1.5.0",
       "_view_name": "HBoxView",
       "box_style": "",
       "children": [
        "IPY_MODEL_1575f8b965034feb8fe9e24cbbef73cc",
        "IPY_MODEL_bd881c1d0bc64a5e8f34bcdc4a0673e8"
       ],
       "layout": "IPY_MODEL_0be8a19905eb43c9867dd1ba1ed7408c"
      }
     },
     "b4bab1c2d6194cd4ab78c3ca80954cdd": {
      "model_module": "@jupyter-widgets/base",
      "model_module_version": "1.2.0",
      "model_name": "LayoutModel",
      "state": {
       "_model_module": "@jupyter-widgets/base",
       "_model_module_version": "1.2.0",
       "_model_name": "LayoutModel",
       "_view_count": null,
       "_view_module": "@jupyter-widgets/base",
       "_view_module_version": "1.2.0",
       "_view_name": "LayoutView",
       "align_content": null,
       "align_items": null,
       "align_self": null,
       "border": null,
       "bottom": null,
       "display": null,
       "flex": null,
       "flex_flow": null,
       "grid_area": null,
       "grid_auto_columns": null,
       "grid_auto_flow": null,
       "grid_auto_rows": null,
       "grid_column": null,
       "grid_gap": null,
       "grid_row": null,
       "grid_template_areas": null,
       "grid_template_columns": null,
       "grid_template_rows": null,
       "height": null,
       "justify_content": null,
       "justify_items": null,
       "left": null,
       "margin": null,
       "max_height": null,
       "max_width": null,
       "min_height": null,
       "min_width": null,
       "object_fit": null,
       "object_position": null,
       "order": null,
       "overflow": null,
       "overflow_x": null,
       "overflow_y": null,
       "padding": null,
       "right": null,
       "top": null,
       "visibility": null,
       "width": null
      }
     },
     "bd881c1d0bc64a5e8f34bcdc4a0673e8": {
      "model_module": "@jupyter-widgets/controls",
      "model_module_version": "1.5.0",
      "model_name": "HTMLModel",
      "state": {
       "_dom_classes": [],
       "_model_module": "@jupyter-widgets/controls",
       "_model_module_version": "1.5.0",
       "_model_name": "HTMLModel",
       "_view_count": null,
       "_view_module": "@jupyter-widgets/controls",
       "_view_module_version": "1.5.0",
       "_view_name": "HTMLView",
       "description": "",
       "description_tooltip": null,
       "layout": "IPY_MODEL_d7acefc340f0431bb7c03c9302883c3d",
       "placeholder": "​",
       "style": "IPY_MODEL_f21b6f9314b0409aadf38bc74566e5e3",
       "value": " 206/206 [21:20&lt;00:00,  6.22s/it]"
      }
     },
     "d7acefc340f0431bb7c03c9302883c3d": {
      "model_module": "@jupyter-widgets/base",
      "model_module_version": "1.2.0",
      "model_name": "LayoutModel",
      "state": {
       "_model_module": "@jupyter-widgets/base",
       "_model_module_version": "1.2.0",
       "_model_name": "LayoutModel",
       "_view_count": null,
       "_view_module": "@jupyter-widgets/base",
       "_view_module_version": "1.2.0",
       "_view_name": "LayoutView",
       "align_content": null,
       "align_items": null,
       "align_self": null,
       "border": null,
       "bottom": null,
       "display": null,
       "flex": null,
       "flex_flow": null,
       "grid_area": null,
       "grid_auto_columns": null,
       "grid_auto_flow": null,
       "grid_auto_rows": null,
       "grid_column": null,
       "grid_gap": null,
       "grid_row": null,
       "grid_template_areas": null,
       "grid_template_columns": null,
       "grid_template_rows": null,
       "height": null,
       "justify_content": null,
       "justify_items": null,
       "left": null,
       "margin": null,
       "max_height": null,
       "max_width": null,
       "min_height": null,
       "min_width": null,
       "object_fit": null,
       "object_position": null,
       "order": null,
       "overflow": null,
       "overflow_x": null,
       "overflow_y": null,
       "padding": null,
       "right": null,
       "top": null,
       "visibility": null,
       "width": null
      }
     },
     "f21b6f9314b0409aadf38bc74566e5e3": {
      "model_module": "@jupyter-widgets/controls",
      "model_module_version": "1.5.0",
      "model_name": "DescriptionStyleModel",
      "state": {
       "_model_module": "@jupyter-widgets/controls",
       "_model_module_version": "1.5.0",
       "_model_name": "DescriptionStyleModel",
       "_view_count": null,
       "_view_module": "@jupyter-widgets/base",
       "_view_module_version": "1.2.0",
       "_view_name": "StyleView",
       "description_width": ""
      }
     }
    },
    "version_major": 2,
    "version_minor": 0
   }
  }
 },
 "nbformat": 4,
 "nbformat_minor": 4
}
